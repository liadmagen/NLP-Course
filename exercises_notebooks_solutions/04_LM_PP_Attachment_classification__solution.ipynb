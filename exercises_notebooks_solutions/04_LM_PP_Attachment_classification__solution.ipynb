{
  "nbformat": 4,
  "nbformat_minor": 0,
  "metadata": {
    "colab": {
      "name": "04_LM_PP_Attachment_classification",
      "provenance": [],
      "collapsed_sections": [
        "ZEHsHqnBEnM0",
        "MRYNWqK-Gu3F",
        "vyls_Vs7MxYj"
      ],
      "toc_visible": true,
      "include_colab_link": true
    },
    "kernelspec": {
      "name": "python3",
      "display_name": "Python 3"
    },
    "widgets": {
      "application/vnd.jupyter.widget-state+json": {
        "91f2700786fe4b2eb7c4019aedf38655": {
          "model_module": "@jupyter-widgets/controls",
          "model_name": "HBoxModel",
          "model_module_version": "1.5.0",
          "state": {
            "_dom_classes": [],
            "_model_module": "@jupyter-widgets/controls",
            "_model_module_version": "1.5.0",
            "_model_name": "HBoxModel",
            "_view_count": null,
            "_view_module": "@jupyter-widgets/controls",
            "_view_module_version": "1.5.0",
            "_view_name": "HBoxView",
            "box_style": "",
            "children": [
              "IPY_MODEL_99e66dffc8bc4cfeb335a71055ac2a35",
              "IPY_MODEL_9a93045bbee34eecb9c691fb934971bf",
              "IPY_MODEL_69c606c1ad9d44cd8da46104fc49b1ca"
            ],
            "layout": "IPY_MODEL_c26caae0362d4a6b9819bab6c3d879b4"
          }
        },
        "99e66dffc8bc4cfeb335a71055ac2a35": {
          "model_module": "@jupyter-widgets/controls",
          "model_name": "HTMLModel",
          "model_module_version": "1.5.0",
          "state": {
            "_dom_classes": [],
            "_model_module": "@jupyter-widgets/controls",
            "_model_module_version": "1.5.0",
            "_model_name": "HTMLModel",
            "_view_count": null,
            "_view_module": "@jupyter-widgets/controls",
            "_view_module_version": "1.5.0",
            "_view_name": "HTMLView",
            "description": "",
            "description_tooltip": null,
            "layout": "IPY_MODEL_841cb64f3b094cd5a2447f991ee7f863",
            "placeholder": "​",
            "style": "IPY_MODEL_52f84d3a98084cd08d4d06434a0927cd",
            "value": ""
          }
        },
        "9a93045bbee34eecb9c691fb934971bf": {
          "model_module": "@jupyter-widgets/controls",
          "model_name": "FloatProgressModel",
          "model_module_version": "1.5.0",
          "state": {
            "_dom_classes": [],
            "_model_module": "@jupyter-widgets/controls",
            "_model_module_version": "1.5.0",
            "_model_name": "FloatProgressModel",
            "_view_count": null,
            "_view_module": "@jupyter-widgets/controls",
            "_view_module_version": "1.5.0",
            "_view_name": "ProgressView",
            "bar_style": "success",
            "description": "",
            "description_tooltip": null,
            "layout": "IPY_MODEL_9c79c5eb37724fa7b9c680f7ac8553b8",
            "max": 1,
            "min": 0,
            "orientation": "horizontal",
            "style": "IPY_MODEL_7987b67d3e454efd88b0abe0f3aa3cc7",
            "value": 1
          }
        },
        "69c606c1ad9d44cd8da46104fc49b1ca": {
          "model_module": "@jupyter-widgets/controls",
          "model_name": "HTMLModel",
          "model_module_version": "1.5.0",
          "state": {
            "_dom_classes": [],
            "_model_module": "@jupyter-widgets/controls",
            "_model_module_version": "1.5.0",
            "_model_name": "HTMLModel",
            "_view_count": null,
            "_view_module": "@jupyter-widgets/controls",
            "_view_module_version": "1.5.0",
            "_view_name": "HTMLView",
            "description": "",
            "description_tooltip": null,
            "layout": "IPY_MODEL_86d3ed2ed8e444049f6f12176a86ef46",
            "placeholder": "​",
            "style": "IPY_MODEL_44756cab6bff4731b879f0769964b17f",
            "value": " 25858/? [00:00&lt;00:00, 192593.41it/s]"
          }
        },
        "c26caae0362d4a6b9819bab6c3d879b4": {
          "model_module": "@jupyter-widgets/base",
          "model_name": "LayoutModel",
          "model_module_version": "1.2.0",
          "state": {
            "_model_module": "@jupyter-widgets/base",
            "_model_module_version": "1.2.0",
            "_model_name": "LayoutModel",
            "_view_count": null,
            "_view_module": "@jupyter-widgets/base",
            "_view_module_version": "1.2.0",
            "_view_name": "LayoutView",
            "align_content": null,
            "align_items": null,
            "align_self": null,
            "border": null,
            "bottom": null,
            "display": null,
            "flex": null,
            "flex_flow": null,
            "grid_area": null,
            "grid_auto_columns": null,
            "grid_auto_flow": null,
            "grid_auto_rows": null,
            "grid_column": null,
            "grid_gap": null,
            "grid_row": null,
            "grid_template_areas": null,
            "grid_template_columns": null,
            "grid_template_rows": null,
            "height": null,
            "justify_content": null,
            "justify_items": null,
            "left": null,
            "margin": null,
            "max_height": null,
            "max_width": null,
            "min_height": null,
            "min_width": null,
            "object_fit": null,
            "object_position": null,
            "order": null,
            "overflow": null,
            "overflow_x": null,
            "overflow_y": null,
            "padding": null,
            "right": null,
            "top": null,
            "visibility": null,
            "width": null
          }
        },
        "841cb64f3b094cd5a2447f991ee7f863": {
          "model_module": "@jupyter-widgets/base",
          "model_name": "LayoutModel",
          "model_module_version": "1.2.0",
          "state": {
            "_model_module": "@jupyter-widgets/base",
            "_model_module_version": "1.2.0",
            "_model_name": "LayoutModel",
            "_view_count": null,
            "_view_module": "@jupyter-widgets/base",
            "_view_module_version": "1.2.0",
            "_view_name": "LayoutView",
            "align_content": null,
            "align_items": null,
            "align_self": null,
            "border": null,
            "bottom": null,
            "display": null,
            "flex": null,
            "flex_flow": null,
            "grid_area": null,
            "grid_auto_columns": null,
            "grid_auto_flow": null,
            "grid_auto_rows": null,
            "grid_column": null,
            "grid_gap": null,
            "grid_row": null,
            "grid_template_areas": null,
            "grid_template_columns": null,
            "grid_template_rows": null,
            "height": null,
            "justify_content": null,
            "justify_items": null,
            "left": null,
            "margin": null,
            "max_height": null,
            "max_width": null,
            "min_height": null,
            "min_width": null,
            "object_fit": null,
            "object_position": null,
            "order": null,
            "overflow": null,
            "overflow_x": null,
            "overflow_y": null,
            "padding": null,
            "right": null,
            "top": null,
            "visibility": null,
            "width": null
          }
        },
        "52f84d3a98084cd08d4d06434a0927cd": {
          "model_module": "@jupyter-widgets/controls",
          "model_name": "DescriptionStyleModel",
          "model_module_version": "1.5.0",
          "state": {
            "_model_module": "@jupyter-widgets/controls",
            "_model_module_version": "1.5.0",
            "_model_name": "DescriptionStyleModel",
            "_view_count": null,
            "_view_module": "@jupyter-widgets/base",
            "_view_module_version": "1.2.0",
            "_view_name": "StyleView",
            "description_width": ""
          }
        },
        "9c79c5eb37724fa7b9c680f7ac8553b8": {
          "model_module": "@jupyter-widgets/base",
          "model_name": "LayoutModel",
          "model_module_version": "1.2.0",
          "state": {
            "_model_module": "@jupyter-widgets/base",
            "_model_module_version": "1.2.0",
            "_model_name": "LayoutModel",
            "_view_count": null,
            "_view_module": "@jupyter-widgets/base",
            "_view_module_version": "1.2.0",
            "_view_name": "LayoutView",
            "align_content": null,
            "align_items": null,
            "align_self": null,
            "border": null,
            "bottom": null,
            "display": null,
            "flex": null,
            "flex_flow": null,
            "grid_area": null,
            "grid_auto_columns": null,
            "grid_auto_flow": null,
            "grid_auto_rows": null,
            "grid_column": null,
            "grid_gap": null,
            "grid_row": null,
            "grid_template_areas": null,
            "grid_template_columns": null,
            "grid_template_rows": null,
            "height": null,
            "justify_content": null,
            "justify_items": null,
            "left": null,
            "margin": null,
            "max_height": null,
            "max_width": null,
            "min_height": null,
            "min_width": null,
            "object_fit": null,
            "object_position": null,
            "order": null,
            "overflow": null,
            "overflow_x": null,
            "overflow_y": null,
            "padding": null,
            "right": null,
            "top": null,
            "visibility": null,
            "width": "20px"
          }
        },
        "7987b67d3e454efd88b0abe0f3aa3cc7": {
          "model_module": "@jupyter-widgets/controls",
          "model_name": "ProgressStyleModel",
          "model_module_version": "1.5.0",
          "state": {
            "_model_module": "@jupyter-widgets/controls",
            "_model_module_version": "1.5.0",
            "_model_name": "ProgressStyleModel",
            "_view_count": null,
            "_view_module": "@jupyter-widgets/base",
            "_view_module_version": "1.2.0",
            "_view_name": "StyleView",
            "bar_color": null,
            "description_width": ""
          }
        },
        "86d3ed2ed8e444049f6f12176a86ef46": {
          "model_module": "@jupyter-widgets/base",
          "model_name": "LayoutModel",
          "model_module_version": "1.2.0",
          "state": {
            "_model_module": "@jupyter-widgets/base",
            "_model_module_version": "1.2.0",
            "_model_name": "LayoutModel",
            "_view_count": null,
            "_view_module": "@jupyter-widgets/base",
            "_view_module_version": "1.2.0",
            "_view_name": "LayoutView",
            "align_content": null,
            "align_items": null,
            "align_self": null,
            "border": null,
            "bottom": null,
            "display": null,
            "flex": null,
            "flex_flow": null,
            "grid_area": null,
            "grid_auto_columns": null,
            "grid_auto_flow": null,
            "grid_auto_rows": null,
            "grid_column": null,
            "grid_gap": null,
            "grid_row": null,
            "grid_template_areas": null,
            "grid_template_columns": null,
            "grid_template_rows": null,
            "height": null,
            "justify_content": null,
            "justify_items": null,
            "left": null,
            "margin": null,
            "max_height": null,
            "max_width": null,
            "min_height": null,
            "min_width": null,
            "object_fit": null,
            "object_position": null,
            "order": null,
            "overflow": null,
            "overflow_x": null,
            "overflow_y": null,
            "padding": null,
            "right": null,
            "top": null,
            "visibility": null,
            "width": null
          }
        },
        "44756cab6bff4731b879f0769964b17f": {
          "model_module": "@jupyter-widgets/controls",
          "model_name": "DescriptionStyleModel",
          "model_module_version": "1.5.0",
          "state": {
            "_model_module": "@jupyter-widgets/controls",
            "_model_module_version": "1.5.0",
            "_model_name": "DescriptionStyleModel",
            "_view_count": null,
            "_view_module": "@jupyter-widgets/base",
            "_view_module_version": "1.2.0",
            "_view_name": "StyleView",
            "description_width": ""
          }
        }
      }
    }
  },
  "cells": [
    {
      "cell_type": "markdown",
      "metadata": {
        "id": "view-in-github",
        "colab_type": "text"
      },
      "source": [
        "<a href=\"https://colab.research.google.com/github/liadmagen/NLP-Course/blob/master/exercises_notebooks_solutions/04_LM_PP_Attachment_classification__solution.ipynb\" target=\"_parent\"><img src=\"https://colab.research.google.com/assets/colab-badge.svg\" alt=\"Open In Colab\"/></a>"
      ]
    },
    {
      "cell_type": "markdown",
      "metadata": {
        "id": "w-EolZK1El9L"
      },
      "source": [
        "# PP Attachment "
      ]
    },
    {
      "cell_type": "markdown",
      "source": [
        "The Preposition Phrase attachment problem is the difficulty to decide if a preposition in a sentence is attached to a verb or a noun.\n",
        "\n",
        "In some cases it may even confuse the reader. For example, the sentence:\n",
        "\n",
        "> San Jose cops kill man with a knife\n",
        "\n",
        "can be interpreted as either the man or the cops had a knife. The difference in the syntax parsing would be attaching the preposition phrase either to the Verb Phrase (\"kill with knife\")\n",
        "\n",
        "![image.png](data:image/png;base64,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)\n",
        "\n",
        "or to the Noun Phrase (\"man with knife\").\n",
        "\n",
        "![image.png](data:image/png;base64,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)"
      ],
      "metadata": {
        "id": "ndm17vHr9oR2"
      }
    },
    {
      "cell_type": "markdown",
      "source": [
        "\n",
        "Let's try out the Preposition Phrase attachment classification!\n",
        "\n",
        "Through this exercise, you'll practice classification of linguistic aspects of text."
      ],
      "metadata": {
        "id": "gddvmPua9ncH"
      }
    },
    {
      "cell_type": "markdown",
      "metadata": {
        "id": "ZEHsHqnBEnM0"
      },
      "source": [
        "# Setup\n",
        "Loading the data"
      ]
    },
    {
      "cell_type": "code",
      "metadata": {
        "id": "IQeJMBC9EjQj"
      },
      "source": [
        "import csv\n",
        "\n",
        "from tqdm.notebook import tqdm\n",
        "from typing import Dict, List, Tuple\n",
        "from random import choice\n",
        "from urllib.request import urlopen\n"
      ],
      "execution_count": 2,
      "outputs": []
    },
    {
      "cell_type": "code",
      "metadata": {
        "id": "f5y8hLSTDcmT"
      },
      "source": [
        "def read_pp_examples(file_url: str) -> List[Dict]:\n",
        "  \"\"\"Reads the pp samples from a remtoe url and loads them into a dictionary\n",
        "\n",
        "  Args:\n",
        "      file_url (str): a url to load the dataset from\n",
        "\n",
        "  Returns:\n",
        "      Dict: a dictionary with two keys: answer and pp\n",
        "  \"\"\"\n",
        "  pp_examples = []\n",
        "  \n",
        "  for line in tqdm(urlopen(file_url)):\n",
        "    line = line.decode(\"utf-8\").strip().split()\n",
        "    assert(len(line) == 5)\n",
        "    v,n1,p,n2,answer = line\n",
        "    pp_examples.append( {'answer':answer,'keywords':(v,n1,p,n2)} )\n",
        "  return pp_examples"
      ],
      "execution_count": 3,
      "outputs": []
    },
    {
      "cell_type": "code",
      "metadata": {
        "id": "_kc6IkpCDphJ"
      },
      "source": [
        "pp_samples_url = 'https://raw.githubusercontent.com/liadmagen/NLP-Course/master/dataset/pp_examples.txt'"
      ],
      "execution_count": 4,
      "outputs": []
    },
    {
      "cell_type": "code",
      "metadata": {
        "id": "4i0rtj1RFkug",
        "outputId": "9bcdfade-764b-44f8-8cfb-57748fd309cb",
        "colab": {
          "base_uri": "https://localhost:8080/",
          "height": 49,
          "referenced_widgets": [
            "91f2700786fe4b2eb7c4019aedf38655",
            "99e66dffc8bc4cfeb335a71055ac2a35",
            "9a93045bbee34eecb9c691fb934971bf",
            "69c606c1ad9d44cd8da46104fc49b1ca",
            "c26caae0362d4a6b9819bab6c3d879b4",
            "841cb64f3b094cd5a2447f991ee7f863",
            "52f84d3a98084cd08d4d06434a0927cd",
            "9c79c5eb37724fa7b9c680f7ac8553b8",
            "7987b67d3e454efd88b0abe0f3aa3cc7",
            "86d3ed2ed8e444049f6f12176a86ef46",
            "44756cab6bff4731b879f0769964b17f"
          ]
        }
      },
      "source": [
        "pp_examples = read_pp_examples(pp_samples_url)\n"
      ],
      "execution_count": 5,
      "outputs": [
        {
          "output_type": "display_data",
          "data": {
            "text/plain": [
              "0it [00:00, ?it/s]"
            ],
            "application/vnd.jupyter.widget-view+json": {
              "version_major": 2,
              "version_minor": 0,
              "model_id": "91f2700786fe4b2eb7c4019aedf38655"
            }
          },
          "metadata": {}
        }
      ]
    },
    {
      "cell_type": "markdown",
      "metadata": {
        "id": "MRYNWqK-Gu3F"
      },
      "source": [
        "# Step #1 - Look at the data\n",
        "\n",
        "Step 1 is (always) to examine the data!\n",
        "\n",
        "That means to check the data statistics, load some sample at random and ensure it is correctly labeled, and if possible, plot and visualize the data (histograms, distribution, etc.). "
      ]
    },
    {
      "cell_type": "code",
      "metadata": {
        "id": "a59ypmWhGlIZ",
        "outputId": "cc7b05de-16a3-4bac-8bc3-6b6fb9be0a73",
        "colab": {
          "base_uri": "https://localhost:8080/"
        }
      },
      "source": [
        "print(f\"There are {len(pp_examples)} samples in the dataset\")"
      ],
      "execution_count": 6,
      "outputs": [
        {
          "output_type": "stream",
          "name": "stdout",
          "text": [
            "There are 25858 samples in the dataset\n"
          ]
        }
      ]
    },
    {
      "cell_type": "code",
      "metadata": {
        "id": "_W9FOJmkG1HF",
        "outputId": "b7d2e36d-1f9e-403c-9e89-0d1e66e5d6d3",
        "colab": {
          "base_uri": "https://localhost:8080/"
        }
      },
      "source": [
        "print(choice(pp_examples))"
      ],
      "execution_count": 7,
      "outputs": [
        {
          "output_type": "stream",
          "name": "stdout",
          "text": [
            "{'answer': 'N', 'keywords': ('see', 'clouds', 'across', 'bay')}\n"
          ]
        }
      ]
    },
    {
      "cell_type": "markdown",
      "source": [
        "Of course, we can reach the dictionary's parts by specifying the key in a squared brackets. "
      ],
      "metadata": {
        "id": "avutga3uvG29"
      }
    },
    {
      "cell_type": "code",
      "metadata": {
        "id": "iLCTVAyAG4Cm",
        "outputId": "5e2da8c1-7c54-4fa0-c96c-56c17ac05c8a",
        "colab": {
          "base_uri": "https://localhost:8080/"
        }
      },
      "source": [
        "random_example = choice(pp_examples)\n",
        "random_example['keywords']"
      ],
      "execution_count": 8,
      "outputs": [
        {
          "output_type": "execute_result",
          "data": {
            "text/plain": [
              "('are', 'source', 'of', 'liquidity')"
            ]
          },
          "metadata": {},
          "execution_count": 8
        }
      ]
    },
    {
      "cell_type": "code",
      "metadata": {
        "id": "W4tkr91VHHC0",
        "outputId": "dae3458b-0620-4021-b1e7-b6f9f3e20d6b",
        "colab": {
          "base_uri": "https://localhost:8080/",
          "height": 35
        }
      },
      "source": [
        "random_example['answer']"
      ],
      "execution_count": 9,
      "outputs": [
        {
          "output_type": "execute_result",
          "data": {
            "text/plain": [
              "'N'"
            ],
            "application/vnd.google.colaboratory.intrinsic+json": {
              "type": "string"
            }
          },
          "metadata": {},
          "execution_count": 9
        }
      ]
    },
    {
      "cell_type": "markdown",
      "metadata": {
        "id": "vyls_Vs7MxYj"
      },
      "source": [
        "# Step 2: Deciding on the measurement"
      ]
    },
    {
      "cell_type": "code",
      "metadata": {
        "id": "r1Av7fCNHN2K",
        "outputId": "ea3129dc-59b0-40b0-9c61-a73e5689b9c7",
        "colab": {
          "base_uri": "https://localhost:8080/"
        }
      },
      "source": [
        "# we can split the dataset simply through dividing the list \n",
        "\n",
        "amt = int(0.75 * len(pp_examples))\n",
        "train_examples, test_examples = pp_examples[:amt], pp_examples[amt:]\n",
        "\n",
        "print(len(train_examples), len(test_examples))"
      ],
      "execution_count": 10,
      "outputs": [
        {
          "output_type": "stream",
          "name": "stdout",
          "text": [
            "19393 6465\n"
          ]
        }
      ]
    },
    {
      "cell_type": "markdown",
      "metadata": {
        "id": "ds9ZfBzmNXjN"
      },
      "source": [
        "We'll define a classifier evaluator.\n",
        "\n",
        "Given a set of examples and an evaluator, it returns the accuracy score"
      ]
    },
    {
      "cell_type": "code",
      "metadata": {
        "id": "r-uR21gwNGo1"
      },
      "source": [
        "def evaluate_classifier(examples, pp_resolver):\n",
        "  \"\"\"evaluate the classifier and returns the accuracy score.\n",
        "\n",
        "  Args:\n",
        "      examples (List): a list of {'keywords':(v,n1,p,n2), 'answer':answer }\n",
        "      pp_resolver (_type_): a model with a classify() function that maps from \n",
        "        (v,n1,p,n2) to 'N' / 'V'\n",
        "\n",
        "  Returns:\n",
        "      float: The accurcy score of the classifier\n",
        "  \"\"\"\n",
        "  correct = 0.0\n",
        "  incorrect = 0.0\n",
        "  for example in examples:\n",
        "      answer = pp_resolver.classify(example['keywords'])\n",
        "      if answer == example['answer']:\n",
        "          correct += 1\n",
        "      else:\n",
        "          incorrect += 1\n",
        "  return correct / (correct + incorrect)\n"
      ],
      "execution_count": 11,
      "outputs": []
    },
    {
      "cell_type": "markdown",
      "metadata": {
        "id": "w8v47ip3OkRi"
      },
      "source": [
        "# Classifiers"
      ]
    },
    {
      "cell_type": "markdown",
      "metadata": {
        "id": "dUdapHv7NzVD"
      },
      "source": [
        "Let's test it on an extremely naive classifiers:"
      ]
    },
    {
      "cell_type": "code",
      "metadata": {
        "id": "z9gXjgytNJLN"
      },
      "source": [
        "class AlwaysSayN:\n",
        "    \"\"\"\n",
        "    This naive clasifier answers always with 'Noun'\n",
        "    \"\"\"\n",
        "    def __init__(self): pass\n",
        "    def classify(self, pp):\n",
        "        return 'N'\n"
      ],
      "execution_count": 12,
      "outputs": []
    },
    {
      "cell_type": "code",
      "metadata": {
        "id": "h7DkSKB1NScS"
      },
      "source": [
        "class AlwaysSayV:\n",
        "    \"\"\"\n",
        "    This naive clasifier answers always with 'Verb'\n",
        "    \"\"\"\n",
        "    def __init__(self): pass\n",
        "    def classify(self, pp):\n",
        "        return 'V'\n"
      ],
      "execution_count": 13,
      "outputs": []
    },
    {
      "cell_type": "code",
      "source": [
        "evaluate_classifier(test_examples, AlwaysSayV())"
      ],
      "metadata": {
        "colab": {
          "base_uri": "https://localhost:8080/"
        },
        "id": "Qk8WtRXdtr1D",
        "outputId": "4ab7d8f2-1e4b-488e-de0d-8cee87955486"
      },
      "execution_count": 14,
      "outputs": [
        {
          "output_type": "execute_result",
          "data": {
            "text/plain": [
              "0.4634184068058778"
            ]
          },
          "metadata": {},
          "execution_count": 14
        }
      ]
    },
    {
      "cell_type": "code",
      "metadata": {
        "id": "Y61B9XkjNT2u",
        "outputId": "98063bcb-e5da-406a-86a4-e7dd516bbe7f",
        "colab": {
          "base_uri": "https://localhost:8080/"
        }
      },
      "source": [
        "evaluate_classifier(test_examples, AlwaysSayN())"
      ],
      "execution_count": 15,
      "outputs": [
        {
          "output_type": "execute_result",
          "data": {
            "text/plain": [
              "0.5365815931941222"
            ]
          },
          "metadata": {},
          "execution_count": 15
        }
      ]
    },
    {
      "cell_type": "markdown",
      "metadata": {
        "id": "3xHV9Q9WOOFC"
      },
      "source": [
        "We can see that saying always 'Noun', leads to an accuracy result of 53%.\n",
        "\n",
        "---\n",
        "\n",
        "\n",
        "\n",
        "It also means that our dataset is quite balaneced ;)\n",
        "\n",
        "We could, instead, have tested which class has the majority and simply select it:"
      ]
    },
    {
      "cell_type": "code",
      "metadata": {
        "id": "eozkgMzfOCWD"
      },
      "source": [
        "class MajorityClassResolver:\n",
        "  def __init__(self, training_examples: List):\n",
        "    \"\"\"Initializes the class, testing which class is the majority and saves it as a property.\n",
        "\n",
        "    Args:\n",
        "        training_examples (List): A list of dictionary training examples.\n",
        "    \"\"\"\n",
        "    answers = [item['answer'] for item in training_examples]\n",
        "    num_n = len([a for a in answers if a == 'N'])\n",
        "    num_v = len([a for a in answers if a == 'V'])\n",
        "    if num_v > num_n:\n",
        "        self.answer = 'V'\n",
        "    else:\n",
        "        self.answer = 'N'\n",
        "\n",
        "  def classify(self, pp: Tuple) -> str:\n",
        "    \"\"\"classify a 4 keywords tuple as N or V attachment, based on the previously calculated majority class\n",
        "\n",
        "    Args:\n",
        "        pp (Tuple): a tuple of V, N1, PP, N2 to be classified\n",
        "\n",
        "    Returns:\n",
        "        str: the prediction - N or V\n",
        "    \"\"\"\n",
        "    return self.answer\n"
      ],
      "execution_count": 16,
      "outputs": []
    },
    {
      "cell_type": "code",
      "metadata": {
        "id": "SGM5CODLODIv",
        "outputId": "5a7998a5-1064-43f1-9d69-8d374c7f0953",
        "colab": {
          "base_uri": "https://localhost:8080/"
        }
      },
      "source": [
        "evaluate_classifier(test_examples, MajorityClassResolver(train_examples))"
      ],
      "execution_count": 17,
      "outputs": [
        {
          "output_type": "execute_result",
          "data": {
            "text/plain": [
              "0.5365815931941222"
            ]
          },
          "metadata": {},
          "execution_count": 17
        }
      ]
    },
    {
      "cell_type": "markdown",
      "source": [
        "Or make it a bit more sophisticated by peeking at the training examples:"
      ],
      "metadata": {
        "id": "1fQDTH8YuX9t"
      }
    },
    {
      "cell_type": "code",
      "metadata": {
        "id": "EVTth8ybNUkQ"
      },
      "source": [
        "class LookupResolver:\n",
        "  def __init__(self, training_examples: List):\n",
        "    \"\"\"Initializes the class, load all the training dataset into the memory and during prediction, return the answer if the keywords match a previously saved one. \n",
        "\n",
        "    Args:\n",
        "        training_examples (List): _description_\n",
        "    \"\"\"\n",
        "    self.answers = {}\n",
        "    for item in training_examples:\n",
        "        self.answers[item['keywords']] = item['answer']\n",
        "    self.backoff = MajorityClassResolver(training_examples)\n",
        "      \n",
        "  def classify(self, pp: Tuple) -> str:\n",
        "    \"\"\"Classify a 4 keywords tuple as N or V attachment.\n",
        "     If the tuple was found in the previously stored answers, return it.\n",
        "     Otherwise, return the majority class.\n",
        "\n",
        "    Args:\n",
        "        pp (Tuple): a tuple of V, N1, PP, N2 to be classified\n",
        "\n",
        "    Returns:\n",
        "        str: the prediction - N or V\n",
        "    \"\"\"\n",
        "    if pp in self.answers:\n",
        "        return self.answers[pp]\n",
        "    else:\n",
        "        return self.backoff.classify(pp)"
      ],
      "execution_count": 18,
      "outputs": []
    },
    {
      "cell_type": "code",
      "source": [
        "# If you want to understand what is stored in the `answers` property, uncomment and run the following line:\n",
        "# LookupResolver(train_examples).answers"
      ],
      "metadata": {
        "id": "N_BBE-dM2-k4"
      },
      "execution_count": 19,
      "outputs": []
    },
    {
      "cell_type": "code",
      "metadata": {
        "id": "gqi-FzCAN71L",
        "outputId": "463b9054-e042-43ec-a004-66b3cd82da8f",
        "colab": {
          "base_uri": "https://localhost:8080/"
        }
      },
      "source": [
        "evaluate_classifier(test_examples, LookupResolver(train_examples))"
      ],
      "execution_count": 20,
      "outputs": [
        {
          "output_type": "execute_result",
          "data": {
            "text/plain": [
              "0.6009280742459396"
            ]
          },
          "metadata": {},
          "execution_count": 20
        }
      ]
    },
    {
      "cell_type": "markdown",
      "metadata": {
        "id": "Rm2DFH7YPN_Z"
      },
      "source": [
        "# Exercise - Your Turn:"
      ]
    },
    {
      "cell_type": "markdown",
      "metadata": {
        "id": "BFRReTKOHTN8"
      },
      "source": [
        "Implement a discriminative PP-attachment model, using a classifier of your choice (i.e. - Naive Bayes Classifier https://web.stanford.edu/~jurafsky/slp3/4.pdf, [Support Vector Machine](https://scikit-learn.org/stable/modules/generated/sklearn.svm.SVC.html#sklearn.svm.SVC), etc.) from a toolkit such as [sklearn](https://scikit-learn.org/stable/modules/generated/sklearn.naive_bayes.GaussianNB.html#sklearn.naive_bayes.GaussianNB).\n",
        "\n",
        "Possible features for back-off algorithm or ML one:\n",
        "\n",
        "Single items ​\n",
        "* Identity of v ​\n",
        "* Identity of p ​\n",
        "* Identity of n1 ​\n",
        "* Identity of n2 ​\n",
        "\n",
        "Pairs:​\n",
        "* dentity of (v, p) ​\n",
        "* Identity of (n1, p) ​\n",
        "* Identity of (p, n1)​\n",
        "\n",
        "Triplets:​\n",
        "* Identity of (v, n1, p)​\n",
        "* Identity of (v, p, n2) ​\n",
        "* Identity of (n1, p, n2) ​\n",
        "\n",
        "Quadruple:​\n",
        "* Identity of (v, n1, p, n2)​\n",
        "\n",
        "\n",
        "Corpus Level:​\n",
        "\n",
        "* Have we seen the (v, p) pair in a 5-word window in a big corpus?​\n",
        "* Have we seen the (n1, p) pair in a 5-word window in a big corpus? ​\n",
        "* Have we seen the (n1, p, n2) triplet in a 5-word window in a big corpus?​\n",
        "*  Also: we can use counts, or binned counts.​\n",
        "* You can use a bigger corpus for additional training purposes as well.\n",
        "\n",
        "Distance:​\n",
        "* Distance (in words) between v and p ​\n",
        "* Distance (in words) between n1 and p​"
      ]
    },
    {
      "cell_type": "markdown",
      "source": [
        "For the corpus level features, you can simply load one of the english corpuses in NLTK (such as [brown - but don't forget to download it first](https://www.nltk.org/book/ch02.html)). If you use a tagged corpus - such that the words are tagged by their parts of speech, you can create more interesting linguistic-related features.\n",
        "\n",
        "You can also consider using [WordNet](https://wordnet.princeton.edu/), a large *lexical* database of English words, which is also [implemented in NLTK](https://www.nltk.org/howto/wordnet.html). \n",
        "\n",
        "Finally, if you need inspiration and ideas, here are some selected papers:\n",
        "- [An Analysis of Prepositional-Phrase Attachment Disambiguation](http://ejournals.asia/stj1/ijclr2.pdf) - an overview of different papers dealing with this problem using different methods (kNN, SVN, etc.).\n",
        "- [The spy saw a cop with a telescope: Who has the telescope?](https://www.semanticscholar.org/paper/The-spy-saw-a-cop-with-a-telescope%3A-Who-has-the-Yan-Nguyen/3220ad0619b72404cb9b1acb9e093a8a564f0f4e) - An linguistic analysis of the potentials reasons (and features) to disambiguify pp attachment. \n",
        "- [PREPOSITIONAL PHRASE ATTACHMENT AMBIGUITY RESOLUTION USING SEMANTIC HIERARCHIES](https://eprints.mdx.ac.uk/2471/1/ppattachhier.pdf)\n",
        "- [Corpus Based PP Attachment Ambiguity Resolution with a Semantic Dictionary](https://aclanthology.org/W97-0109.pdf)"
      ],
      "metadata": {
        "id": "4mZAGEBA7K1I"
      }
    },
    {
      "cell_type": "markdown",
      "source": [
        "## First step - having a PROPER look at the data"
      ],
      "metadata": {
        "id": "ty_1KRe9xaLa"
      }
    },
    {
      "cell_type": "markdown",
      "source": [
        "Personally, I find it convenient to use pandas, but this is not a must."
      ],
      "metadata": {
        "id": "KX6luI7Jx-1F"
      }
    },
    {
      "cell_type": "code",
      "source": [
        "import nltk\n",
        "import pandas as pd\n",
        "\n",
        "df = pd.DataFrame([ex['keywords'] for ex in train_examples], columns=['v', 'n1', 'p', 'n2'])\n",
        "df['target'] = [ex['answer'] for ex in train_examples]\n",
        "df_codes = pd.DataFrame()\n",
        "\n",
        "for col in df.columns:\n",
        "  df[col] = df[col].str.lower().astype('category')\n",
        "  df_codes[col] = df[col].cat.codes\n",
        "\n",
        "df.describe().T"
      ],
      "metadata": {
        "colab": {
          "base_uri": "https://localhost:8080/",
          "height": 206
        },
        "id": "148nfSUTxtsW",
        "outputId": "88479abd-8fe4-492a-a168-aea474b7df90"
      },
      "execution_count": 21,
      "outputs": [
        {
          "output_type": "execute_result",
          "data": {
            "text/plain": [
              "        count unique top   freq\n",
              "v       19393   2990  is    759\n",
              "n1      19393   3970   %   1302\n",
              "p       19393     62  of   5049\n",
              "n2      19393   4792   $   1227\n",
              "target  19393      2   n  10625"
            ],
            "text/html": [
              "\n",
              "  <div id=\"df-2c109b6b-3503-4840-824d-5c3a592facf0\">\n",
              "    <div class=\"colab-df-container\">\n",
              "      <div>\n",
              "<style scoped>\n",
              "    .dataframe tbody tr th:only-of-type {\n",
              "        vertical-align: middle;\n",
              "    }\n",
              "\n",
              "    .dataframe tbody tr th {\n",
              "        vertical-align: top;\n",
              "    }\n",
              "\n",
              "    .dataframe thead th {\n",
              "        text-align: right;\n",
              "    }\n",
              "</style>\n",
              "<table border=\"1\" class=\"dataframe\">\n",
              "  <thead>\n",
              "    <tr style=\"text-align: right;\">\n",
              "      <th></th>\n",
              "      <th>count</th>\n",
              "      <th>unique</th>\n",
              "      <th>top</th>\n",
              "      <th>freq</th>\n",
              "    </tr>\n",
              "  </thead>\n",
              "  <tbody>\n",
              "    <tr>\n",
              "      <th>v</th>\n",
              "      <td>19393</td>\n",
              "      <td>2990</td>\n",
              "      <td>is</td>\n",
              "      <td>759</td>\n",
              "    </tr>\n",
              "    <tr>\n",
              "      <th>n1</th>\n",
              "      <td>19393</td>\n",
              "      <td>3970</td>\n",
              "      <td>%</td>\n",
              "      <td>1302</td>\n",
              "    </tr>\n",
              "    <tr>\n",
              "      <th>p</th>\n",
              "      <td>19393</td>\n",
              "      <td>62</td>\n",
              "      <td>of</td>\n",
              "      <td>5049</td>\n",
              "    </tr>\n",
              "    <tr>\n",
              "      <th>n2</th>\n",
              "      <td>19393</td>\n",
              "      <td>4792</td>\n",
              "      <td>$</td>\n",
              "      <td>1227</td>\n",
              "    </tr>\n",
              "    <tr>\n",
              "      <th>target</th>\n",
              "      <td>19393</td>\n",
              "      <td>2</td>\n",
              "      <td>n</td>\n",
              "      <td>10625</td>\n",
              "    </tr>\n",
              "  </tbody>\n",
              "</table>\n",
              "</div>\n",
              "      <button class=\"colab-df-convert\" onclick=\"convertToInteractive('df-2c109b6b-3503-4840-824d-5c3a592facf0')\"\n",
              "              title=\"Convert this dataframe to an interactive table.\"\n",
              "              style=\"display:none;\">\n",
              "        \n",
              "  <svg xmlns=\"http://www.w3.org/2000/svg\" height=\"24px\"viewBox=\"0 0 24 24\"\n",
              "       width=\"24px\">\n",
              "    <path d=\"M0 0h24v24H0V0z\" fill=\"none\"/>\n",
              "    <path d=\"M18.56 5.44l.94 2.06.94-2.06 2.06-.94-2.06-.94-.94-2.06-.94 2.06-2.06.94zm-11 1L8.5 8.5l.94-2.06 2.06-.94-2.06-.94L8.5 2.5l-.94 2.06-2.06.94zm10 10l.94 2.06.94-2.06 2.06-.94-2.06-.94-.94-2.06-.94 2.06-2.06.94z\"/><path d=\"M17.41 7.96l-1.37-1.37c-.4-.4-.92-.59-1.43-.59-.52 0-1.04.2-1.43.59L10.3 9.45l-7.72 7.72c-.78.78-.78 2.05 0 2.83L4 21.41c.39.39.9.59 1.41.59.51 0 1.02-.2 1.41-.59l7.78-7.78 2.81-2.81c.8-.78.8-2.07 0-2.86zM5.41 20L4 18.59l7.72-7.72 1.47 1.35L5.41 20z\"/>\n",
              "  </svg>\n",
              "      </button>\n",
              "      \n",
              "  <style>\n",
              "    .colab-df-container {\n",
              "      display:flex;\n",
              "      flex-wrap:wrap;\n",
              "      gap: 12px;\n",
              "    }\n",
              "\n",
              "    .colab-df-convert {\n",
              "      background-color: #E8F0FE;\n",
              "      border: none;\n",
              "      border-radius: 50%;\n",
              "      cursor: pointer;\n",
              "      display: none;\n",
              "      fill: #1967D2;\n",
              "      height: 32px;\n",
              "      padding: 0 0 0 0;\n",
              "      width: 32px;\n",
              "    }\n",
              "\n",
              "    .colab-df-convert:hover {\n",
              "      background-color: #E2EBFA;\n",
              "      box-shadow: 0px 1px 2px rgba(60, 64, 67, 0.3), 0px 1px 3px 1px rgba(60, 64, 67, 0.15);\n",
              "      fill: #174EA6;\n",
              "    }\n",
              "\n",
              "    [theme=dark] .colab-df-convert {\n",
              "      background-color: #3B4455;\n",
              "      fill: #D2E3FC;\n",
              "    }\n",
              "\n",
              "    [theme=dark] .colab-df-convert:hover {\n",
              "      background-color: #434B5C;\n",
              "      box-shadow: 0px 1px 3px 1px rgba(0, 0, 0, 0.15);\n",
              "      filter: drop-shadow(0px 1px 2px rgba(0, 0, 0, 0.3));\n",
              "      fill: #FFFFFF;\n",
              "    }\n",
              "  </style>\n",
              "\n",
              "      <script>\n",
              "        const buttonEl =\n",
              "          document.querySelector('#df-2c109b6b-3503-4840-824d-5c3a592facf0 button.colab-df-convert');\n",
              "        buttonEl.style.display =\n",
              "          google.colab.kernel.accessAllowed ? 'block' : 'none';\n",
              "\n",
              "        async function convertToInteractive(key) {\n",
              "          const element = document.querySelector('#df-2c109b6b-3503-4840-824d-5c3a592facf0');\n",
              "          const dataTable =\n",
              "            await google.colab.kernel.invokeFunction('convertToInteractive',\n",
              "                                                     [key], {});\n",
              "          if (!dataTable) return;\n",
              "\n",
              "          const docLinkHtml = 'Like what you see? Visit the ' +\n",
              "            '<a target=\"_blank\" href=https://colab.research.google.com/notebooks/data_table.ipynb>data table notebook</a>'\n",
              "            + ' to learn more about interactive tables.';\n",
              "          element.innerHTML = '';\n",
              "          dataTable['output_type'] = 'display_data';\n",
              "          await google.colab.output.renderOutput(dataTable, element);\n",
              "          const docLink = document.createElement('div');\n",
              "          docLink.innerHTML = docLinkHtml;\n",
              "          element.appendChild(docLink);\n",
              "        }\n",
              "      </script>\n",
              "    </div>\n",
              "  </div>\n",
              "  "
            ]
          },
          "metadata": {},
          "execution_count": 21
        }
      ]
    },
    {
      "cell_type": "markdown",
      "source": [
        "### Preposition distribution"
      ],
      "metadata": {
        "id": "9TL-cetnyKJb"
      }
    },
    {
      "cell_type": "code",
      "source": [
        "nltk.FreqDist(df[df['target']=='n']['p'])"
      ],
      "metadata": {
        "colab": {
          "base_uri": "https://localhost:8080/"
        },
        "id": "C4qjVmLCx7q7",
        "outputId": "46086cd5-11df-4237-9a8f-ea67daa199ad"
      },
      "execution_count": 22,
      "outputs": [
        {
          "output_type": "execute_result",
          "data": {
            "text/plain": [
              "FreqDist({'of': 4838, 'in': 1499, 'for': 1170, 'on': 612, 'to': 460, 'from': 375, 'with': 367, 'at': 179, 'as': 172, 'by': 154, ...})"
            ]
          },
          "metadata": {},
          "execution_count": 22
        }
      ]
    },
    {
      "cell_type": "code",
      "source": [
        "nltk.FreqDist(df[df['target']=='n']['p']).plot()"
      ],
      "metadata": {
        "colab": {
          "base_uri": "https://localhost:8080/",
          "height": 343
        },
        "id": "75ag3HfzyM41",
        "outputId": "826cc3e6-10b8-4d32-c247-734b1e43d6e6"
      },
      "execution_count": 23,
      "outputs": [
        {
          "output_type": "display_data",
          "data": {
            "text/plain": [
              "<Figure size 432x288 with 1 Axes>"
            ],
            "image/png": "[encoded data removed]"
          },
          "metadata": {
            "needs_background": "light"
          }
        },
        {
          "output_type": "execute_result",
          "data": {
            "text/plain": [
              "<matplotlib.axes._subplots.AxesSubplot at 0x7f148ef32a60>"
            ]
          },
          "metadata": {},
          "execution_count": 23
        }
      ]
    },
    {
      "cell_type": "code",
      "source": [
        "nltk.FreqDist(df[df['target']=='v']['p'])"
      ],
      "metadata": {
        "colab": {
          "base_uri": "https://localhost:8080/"
        },
        "id": "KdK-T5VQyRRL",
        "outputId": "c7167ad8-bcda-4414-d386-1a79d4ad339b"
      },
      "execution_count": 24,
      "outputs": [
        {
          "output_type": "execute_result",
          "data": {
            "text/plain": [
              "FreqDist({'in': 1847, 'to': 1541, 'for': 905, 'from': 836, 'on': 585, 'with': 512, 'at': 507, 'as': 334, 'by': 268, 'of': 211, ...})"
            ]
          },
          "metadata": {},
          "execution_count": 24
        }
      ]
    },
    {
      "cell_type": "code",
      "source": [
        "nltk.FreqDist(df[df['target']=='v']['p']).plot()"
      ],
      "metadata": {
        "colab": {
          "base_uri": "https://localhost:8080/",
          "height": 342
        },
        "id": "FCJ5MJOnygsh",
        "outputId": "1fa1686a-bfce-4779-df62-1b7dd47258d7"
      },
      "execution_count": 25,
      "outputs": [
        {
          "output_type": "display_data",
          "data": {
            "text/plain": [
              "<Figure size 432x288 with 1 Axes>"
            ],
            "image/png": "[encoded data removed]"
          },
          "metadata": {
            "needs_background": "light"
          }
        },
        {
          "output_type": "execute_result",
          "data": {
            "text/plain": [
              "<matplotlib.axes._subplots.AxesSubplot at 0x7f147ea57220>"
            ]
          },
          "metadata": {},
          "execution_count": 25
        }
      ]
    },
    {
      "cell_type": "markdown",
      "source": [
        "Pandas is also a great tool to visualize the distribution:"
      ],
      "metadata": {
        "id": "66DpeGnGPN5D"
      }
    },
    {
      "cell_type": "code",
      "source": [
        "df_p_distribution = df.groupby(['p', 'target']).agg({'target': 'count'}); df_p_distribution"
      ],
      "metadata": {
        "colab": {
          "base_uri": "https://localhost:8080/",
          "height": 455
        },
        "id": "tARtmSLLOhfF",
        "outputId": "50194cff-9a2a-40e8-d6f4-8d7b245dc191"
      },
      "execution_count": 26,
      "outputs": [
        {
          "output_type": "execute_result",
          "data": {
            "text/plain": [
              "                target\n",
              "p       target        \n",
              "aboard  n            0\n",
              "        v            1\n",
              "about   n          145\n",
              "        v           46\n",
              "above   n            8\n",
              "...                ...\n",
              "with    v          512\n",
              "within  n            9\n",
              "        v           40\n",
              "without n            9\n",
              "        v           43\n",
              "\n",
              "[124 rows x 1 columns]"
            ],
            "text/html": [
              "\n",
              "  <div id=\"df-863d3e36-75a6-4ab2-820c-3dcb0aecca91\">\n",
              "    <div class=\"colab-df-container\">\n",
              "      <div>\n",
              "<style scoped>\n",
              "    .dataframe tbody tr th:only-of-type {\n",
              "        vertical-align: middle;\n",
              "    }\n",
              "\n",
              "    .dataframe tbody tr th {\n",
              "        vertical-align: top;\n",
              "    }\n",
              "\n",
              "    .dataframe thead th {\n",
              "        text-align: right;\n",
              "    }\n",
              "</style>\n",
              "<table border=\"1\" class=\"dataframe\">\n",
              "  <thead>\n",
              "    <tr style=\"text-align: right;\">\n",
              "      <th></th>\n",
              "      <th></th>\n",
              "      <th>target</th>\n",
              "    </tr>\n",
              "    <tr>\n",
              "      <th>p</th>\n",
              "      <th>target</th>\n",
              "      <th></th>\n",
              "    </tr>\n",
              "  </thead>\n",
              "  <tbody>\n",
              "    <tr>\n",
              "      <th rowspan=\"2\" valign=\"top\">aboard</th>\n",
              "      <th>n</th>\n",
              "      <td>0</td>\n",
              "    </tr>\n",
              "    <tr>\n",
              "      <th>v</th>\n",
              "      <td>1</td>\n",
              "    </tr>\n",
              "    <tr>\n",
              "      <th rowspan=\"2\" valign=\"top\">about</th>\n",
              "      <th>n</th>\n",
              "      <td>145</td>\n",
              "    </tr>\n",
              "    <tr>\n",
              "      <th>v</th>\n",
              "      <td>46</td>\n",
              "    </tr>\n",
              "    <tr>\n",
              "      <th>above</th>\n",
              "      <th>n</th>\n",
              "      <td>8</td>\n",
              "    </tr>\n",
              "    <tr>\n",
              "      <th>...</th>\n",
              "      <th>...</th>\n",
              "      <td>...</td>\n",
              "    </tr>\n",
              "    <tr>\n",
              "      <th>with</th>\n",
              "      <th>v</th>\n",
              "      <td>512</td>\n",
              "    </tr>\n",
              "    <tr>\n",
              "      <th rowspan=\"2\" valign=\"top\">within</th>\n",
              "      <th>n</th>\n",
              "      <td>9</td>\n",
              "    </tr>\n",
              "    <tr>\n",
              "      <th>v</th>\n",
              "      <td>40</td>\n",
              "    </tr>\n",
              "    <tr>\n",
              "      <th rowspan=\"2\" valign=\"top\">without</th>\n",
              "      <th>n</th>\n",
              "      <td>9</td>\n",
              "    </tr>\n",
              "    <tr>\n",
              "      <th>v</th>\n",
              "      <td>43</td>\n",
              "    </tr>\n",
              "  </tbody>\n",
              "</table>\n",
              "<p>124 rows × 1 columns</p>\n",
              "</div>\n",
              "      <button class=\"colab-df-convert\" onclick=\"convertToInteractive('df-863d3e36-75a6-4ab2-820c-3dcb0aecca91')\"\n",
              "              title=\"Convert this dataframe to an interactive table.\"\n",
              "              style=\"display:none;\">\n",
              "        \n",
              "  <svg xmlns=\"http://www.w3.org/2000/svg\" height=\"24px\"viewBox=\"0 0 24 24\"\n",
              "       width=\"24px\">\n",
              "    <path d=\"M0 0h24v24H0V0z\" fill=\"none\"/>\n",
              "    <path d=\"M18.56 5.44l.94 2.06.94-2.06 2.06-.94-2.06-.94-.94-2.06-.94 2.06-2.06.94zm-11 1L8.5 8.5l.94-2.06 2.06-.94-2.06-.94L8.5 2.5l-.94 2.06-2.06.94zm10 10l.94 2.06.94-2.06 2.06-.94-2.06-.94-.94-2.06-.94 2.06-2.06.94z\"/><path d=\"M17.41 7.96l-1.37-1.37c-.4-.4-.92-.59-1.43-.59-.52 0-1.04.2-1.43.59L10.3 9.45l-7.72 7.72c-.78.78-.78 2.05 0 2.83L4 21.41c.39.39.9.59 1.41.59.51 0 1.02-.2 1.41-.59l7.78-7.78 2.81-2.81c.8-.78.8-2.07 0-2.86zM5.41 20L4 18.59l7.72-7.72 1.47 1.35L5.41 20z\"/>\n",
              "  </svg>\n",
              "      </button>\n",
              "      \n",
              "  <style>\n",
              "    .colab-df-container {\n",
              "      display:flex;\n",
              "      flex-wrap:wrap;\n",
              "      gap: 12px;\n",
              "    }\n",
              "\n",
              "    .colab-df-convert {\n",
              "      background-color: #E8F0FE;\n",
              "      border: none;\n",
              "      border-radius: 50%;\n",
              "      cursor: pointer;\n",
              "      display: none;\n",
              "      fill: #1967D2;\n",
              "      height: 32px;\n",
              "      padding: 0 0 0 0;\n",
              "      width: 32px;\n",
              "    }\n",
              "\n",
              "    .colab-df-convert:hover {\n",
              "      background-color: #E2EBFA;\n",
              "      box-shadow: 0px 1px 2px rgba(60, 64, 67, 0.3), 0px 1px 3px 1px rgba(60, 64, 67, 0.15);\n",
              "      fill: #174EA6;\n",
              "    }\n",
              "\n",
              "    [theme=dark] .colab-df-convert {\n",
              "      background-color: #3B4455;\n",
              "      fill: #D2E3FC;\n",
              "    }\n",
              "\n",
              "    [theme=dark] .colab-df-convert:hover {\n",
              "      background-color: #434B5C;\n",
              "      box-shadow: 0px 1px 3px 1px rgba(0, 0, 0, 0.15);\n",
              "      filter: drop-shadow(0px 1px 2px rgba(0, 0, 0, 0.3));\n",
              "      fill: #FFFFFF;\n",
              "    }\n",
              "  </style>\n",
              "\n",
              "      <script>\n",
              "        const buttonEl =\n",
              "          document.querySelector('#df-863d3e36-75a6-4ab2-820c-3dcb0aecca91 button.colab-df-convert');\n",
              "        buttonEl.style.display =\n",
              "          google.colab.kernel.accessAllowed ? 'block' : 'none';\n",
              "\n",
              "        async function convertToInteractive(key) {\n",
              "          const element = document.querySelector('#df-863d3e36-75a6-4ab2-820c-3dcb0aecca91');\n",
              "          const dataTable =\n",
              "            await google.colab.kernel.invokeFunction('convertToInteractive',\n",
              "                                                     [key], {});\n",
              "          if (!dataTable) return;\n",
              "\n",
              "          const docLinkHtml = 'Like what you see? Visit the ' +\n",
              "            '<a target=\"_blank\" href=https://colab.research.google.com/notebooks/data_table.ipynb>data table notebook</a>'\n",
              "            + ' to learn more about interactive tables.';\n",
              "          element.innerHTML = '';\n",
              "          dataTable['output_type'] = 'display_data';\n",
              "          await google.colab.output.renderOutput(dataTable, element);\n",
              "          const docLink = document.createElement('div');\n",
              "          docLink.innerHTML = docLinkHtml;\n",
              "          element.appendChild(docLink);\n",
              "        }\n",
              "      </script>\n",
              "    </div>\n",
              "  </div>\n",
              "  "
            ]
          },
          "metadata": {},
          "execution_count": 26
        }
      ]
    },
    {
      "cell_type": "code",
      "source": [
        "df_p_distribution_pct = df_p_distribution.groupby(level=0).apply(lambda x: x * 100. / x.sum()); df_p_distribution_pct"
      ],
      "metadata": {
        "colab": {
          "base_uri": "https://localhost:8080/",
          "height": 455
        },
        "id": "7GjSlRS1PS3u",
        "outputId": "5a3a8e1f-44e2-4d07-c690-1952023f5dab"
      },
      "execution_count": 27,
      "outputs": [
        {
          "output_type": "execute_result",
          "data": {
            "text/plain": [
              "                    target\n",
              "p       target            \n",
              "aboard  n         0.000000\n",
              "        v       100.000000\n",
              "about   n        75.916230\n",
              "        v        24.083770\n",
              "above   n        47.058824\n",
              "...                    ...\n",
              "with    v        58.248009\n",
              "within  n        18.367347\n",
              "        v        81.632653\n",
              "without n        17.307692\n",
              "        v        82.692308\n",
              "\n",
              "[124 rows x 1 columns]"
            ],
            "text/html": [
              "\n",
              "  <div id=\"df-e84ff3d0-d570-4752-9070-398dc24a9a73\">\n",
              "    <div class=\"colab-df-container\">\n",
              "      <div>\n",
              "<style scoped>\n",
              "    .dataframe tbody tr th:only-of-type {\n",
              "        vertical-align: middle;\n",
              "    }\n",
              "\n",
              "    .dataframe tbody tr th {\n",
              "        vertical-align: top;\n",
              "    }\n",
              "\n",
              "    .dataframe thead th {\n",
              "        text-align: right;\n",
              "    }\n",
              "</style>\n",
              "<table border=\"1\" class=\"dataframe\">\n",
              "  <thead>\n",
              "    <tr style=\"text-align: right;\">\n",
              "      <th></th>\n",
              "      <th></th>\n",
              "      <th>target</th>\n",
              "    </tr>\n",
              "    <tr>\n",
              "      <th>p</th>\n",
              "      <th>target</th>\n",
              "      <th></th>\n",
              "    </tr>\n",
              "  </thead>\n",
              "  <tbody>\n",
              "    <tr>\n",
              "      <th rowspan=\"2\" valign=\"top\">aboard</th>\n",
              "      <th>n</th>\n",
              "      <td>0.000000</td>\n",
              "    </tr>\n",
              "    <tr>\n",
              "      <th>v</th>\n",
              "      <td>100.000000</td>\n",
              "    </tr>\n",
              "    <tr>\n",
              "      <th rowspan=\"2\" valign=\"top\">about</th>\n",
              "      <th>n</th>\n",
              "      <td>75.916230</td>\n",
              "    </tr>\n",
              "    <tr>\n",
              "      <th>v</th>\n",
              "      <td>24.083770</td>\n",
              "    </tr>\n",
              "    <tr>\n",
              "      <th>above</th>\n",
              "      <th>n</th>\n",
              "      <td>47.058824</td>\n",
              "    </tr>\n",
              "    <tr>\n",
              "      <th>...</th>\n",
              "      <th>...</th>\n",
              "      <td>...</td>\n",
              "    </tr>\n",
              "    <tr>\n",
              "      <th>with</th>\n",
              "      <th>v</th>\n",
              "      <td>58.248009</td>\n",
              "    </tr>\n",
              "    <tr>\n",
              "      <th rowspan=\"2\" valign=\"top\">within</th>\n",
              "      <th>n</th>\n",
              "      <td>18.367347</td>\n",
              "    </tr>\n",
              "    <tr>\n",
              "      <th>v</th>\n",
              "      <td>81.632653</td>\n",
              "    </tr>\n",
              "    <tr>\n",
              "      <th rowspan=\"2\" valign=\"top\">without</th>\n",
              "      <th>n</th>\n",
              "      <td>17.307692</td>\n",
              "    </tr>\n",
              "    <tr>\n",
              "      <th>v</th>\n",
              "      <td>82.692308</td>\n",
              "    </tr>\n",
              "  </tbody>\n",
              "</table>\n",
              "<p>124 rows × 1 columns</p>\n",
              "</div>\n",
              "      <button class=\"colab-df-convert\" onclick=\"convertToInteractive('df-e84ff3d0-d570-4752-9070-398dc24a9a73')\"\n",
              "              title=\"Convert this dataframe to an interactive table.\"\n",
              "              style=\"display:none;\">\n",
              "        \n",
              "  <svg xmlns=\"http://www.w3.org/2000/svg\" height=\"24px\"viewBox=\"0 0 24 24\"\n",
              "       width=\"24px\">\n",
              "    <path d=\"M0 0h24v24H0V0z\" fill=\"none\"/>\n",
              "    <path d=\"M18.56 5.44l.94 2.06.94-2.06 2.06-.94-2.06-.94-.94-2.06-.94 2.06-2.06.94zm-11 1L8.5 8.5l.94-2.06 2.06-.94-2.06-.94L8.5 2.5l-.94 2.06-2.06.94zm10 10l.94 2.06.94-2.06 2.06-.94-2.06-.94-.94-2.06-.94 2.06-2.06.94z\"/><path d=\"M17.41 7.96l-1.37-1.37c-.4-.4-.92-.59-1.43-.59-.52 0-1.04.2-1.43.59L10.3 9.45l-7.72 7.72c-.78.78-.78 2.05 0 2.83L4 21.41c.39.39.9.59 1.41.59.51 0 1.02-.2 1.41-.59l7.78-7.78 2.81-2.81c.8-.78.8-2.07 0-2.86zM5.41 20L4 18.59l7.72-7.72 1.47 1.35L5.41 20z\"/>\n",
              "  </svg>\n",
              "      </button>\n",
              "      \n",
              "  <style>\n",
              "    .colab-df-container {\n",
              "      display:flex;\n",
              "      flex-wrap:wrap;\n",
              "      gap: 12px;\n",
              "    }\n",
              "\n",
              "    .colab-df-convert {\n",
              "      background-color: #E8F0FE;\n",
              "      border: none;\n",
              "      border-radius: 50%;\n",
              "      cursor: pointer;\n",
              "      display: none;\n",
              "      fill: #1967D2;\n",
              "      height: 32px;\n",
              "      padding: 0 0 0 0;\n",
              "      width: 32px;\n",
              "    }\n",
              "\n",
              "    .colab-df-convert:hover {\n",
              "      background-color: #E2EBFA;\n",
              "      box-shadow: 0px 1px 2px rgba(60, 64, 67, 0.3), 0px 1px 3px 1px rgba(60, 64, 67, 0.15);\n",
              "      fill: #174EA6;\n",
              "    }\n",
              "\n",
              "    [theme=dark] .colab-df-convert {\n",
              "      background-color: #3B4455;\n",
              "      fill: #D2E3FC;\n",
              "    }\n",
              "\n",
              "    [theme=dark] .colab-df-convert:hover {\n",
              "      background-color: #434B5C;\n",
              "      box-shadow: 0px 1px 3px 1px rgba(0, 0, 0, 0.15);\n",
              "      filter: drop-shadow(0px 1px 2px rgba(0, 0, 0, 0.3));\n",
              "      fill: #FFFFFF;\n",
              "    }\n",
              "  </style>\n",
              "\n",
              "      <script>\n",
              "        const buttonEl =\n",
              "          document.querySelector('#df-e84ff3d0-d570-4752-9070-398dc24a9a73 button.colab-df-convert');\n",
              "        buttonEl.style.display =\n",
              "          google.colab.kernel.accessAllowed ? 'block' : 'none';\n",
              "\n",
              "        async function convertToInteractive(key) {\n",
              "          const element = document.querySelector('#df-e84ff3d0-d570-4752-9070-398dc24a9a73');\n",
              "          const dataTable =\n",
              "            await google.colab.kernel.invokeFunction('convertToInteractive',\n",
              "                                                     [key], {});\n",
              "          if (!dataTable) return;\n",
              "\n",
              "          const docLinkHtml = 'Like what you see? Visit the ' +\n",
              "            '<a target=\"_blank\" href=https://colab.research.google.com/notebooks/data_table.ipynb>data table notebook</a>'\n",
              "            + ' to learn more about interactive tables.';\n",
              "          element.innerHTML = '';\n",
              "          dataTable['output_type'] = 'display_data';\n",
              "          await google.colab.output.renderOutput(dataTable, element);\n",
              "          const docLink = document.createElement('div');\n",
              "          docLink.innerHTML = docLinkHtml;\n",
              "          element.appendChild(docLink);\n",
              "        }\n",
              "      </script>\n",
              "    </div>\n",
              "  </div>\n",
              "  "
            ]
          },
          "metadata": {},
          "execution_count": 27
        }
      ]
    },
    {
      "cell_type": "markdown",
      "source": [
        "This way we can even find good candidates for 'almost always X':"
      ],
      "metadata": {
        "id": "cBKpPV_bPn_f"
      }
    },
    {
      "cell_type": "code",
      "source": [
        "df_p_distribution_pct[df_p_distribution_pct['target'] > 90]"
      ],
      "metadata": {
        "colab": {
          "base_uri": "https://localhost:8080/",
          "height": 645
        },
        "id": "NkD6uEdpPkHg",
        "outputId": "caeb31cf-d26d-4d15-c556-861141198dd2"
      },
      "execution_count": 28,
      "outputs": [
        {
          "output_type": "execute_result",
          "data": {
            "text/plain": [
              "                    target\n",
              "p       target            \n",
              "aboard  v       100.000000\n",
              "amid    v        95.833333\n",
              "amongst v       100.000000\n",
              "beneath v       100.000000\n",
              "beside  v       100.000000\n",
              "besides n       100.000000\n",
              "beyond  v       100.000000\n",
              "despite v       100.000000\n",
              "except  v       100.000000\n",
              "next    v       100.000000\n",
              "of      n        95.820955\n",
              "onto    v       100.000000\n",
              "pending v       100.000000\n",
              "per     n        92.307692\n",
              "unlike  v       100.000000\n",
              "unto    n       100.000000\n",
              "versus  n       100.000000\n",
              "vs.     n       100.000000"
            ],
            "text/html": [
              "\n",
              "  <div id=\"df-fc778a44-482a-4524-b88c-6086d6eba7a0\">\n",
              "    <div class=\"colab-df-container\">\n",
              "      <div>\n",
              "<style scoped>\n",
              "    .dataframe tbody tr th:only-of-type {\n",
              "        vertical-align: middle;\n",
              "    }\n",
              "\n",
              "    .dataframe tbody tr th {\n",
              "        vertical-align: top;\n",
              "    }\n",
              "\n",
              "    .dataframe thead th {\n",
              "        text-align: right;\n",
              "    }\n",
              "</style>\n",
              "<table border=\"1\" class=\"dataframe\">\n",
              "  <thead>\n",
              "    <tr style=\"text-align: right;\">\n",
              "      <th></th>\n",
              "      <th></th>\n",
              "      <th>target</th>\n",
              "    </tr>\n",
              "    <tr>\n",
              "      <th>p</th>\n",
              "      <th>target</th>\n",
              "      <th></th>\n",
              "    </tr>\n",
              "  </thead>\n",
              "  <tbody>\n",
              "    <tr>\n",
              "      <th>aboard</th>\n",
              "      <th>v</th>\n",
              "      <td>100.000000</td>\n",
              "    </tr>\n",
              "    <tr>\n",
              "      <th>amid</th>\n",
              "      <th>v</th>\n",
              "      <td>95.833333</td>\n",
              "    </tr>\n",
              "    <tr>\n",
              "      <th>amongst</th>\n",
              "      <th>v</th>\n",
              "      <td>100.000000</td>\n",
              "    </tr>\n",
              "    <tr>\n",
              "      <th>beneath</th>\n",
              "      <th>v</th>\n",
              "      <td>100.000000</td>\n",
              "    </tr>\n",
              "    <tr>\n",
              "      <th>beside</th>\n",
              "      <th>v</th>\n",
              "      <td>100.000000</td>\n",
              "    </tr>\n",
              "    <tr>\n",
              "      <th>besides</th>\n",
              "      <th>n</th>\n",
              "      <td>100.000000</td>\n",
              "    </tr>\n",
              "    <tr>\n",
              "      <th>beyond</th>\n",
              "      <th>v</th>\n",
              "      <td>100.000000</td>\n",
              "    </tr>\n",
              "    <tr>\n",
              "      <th>despite</th>\n",
              "      <th>v</th>\n",
              "      <td>100.000000</td>\n",
              "    </tr>\n",
              "    <tr>\n",
              "      <th>except</th>\n",
              "      <th>v</th>\n",
              "      <td>100.000000</td>\n",
              "    </tr>\n",
              "    <tr>\n",
              "      <th>next</th>\n",
              "      <th>v</th>\n",
              "      <td>100.000000</td>\n",
              "    </tr>\n",
              "    <tr>\n",
              "      <th>of</th>\n",
              "      <th>n</th>\n",
              "      <td>95.820955</td>\n",
              "    </tr>\n",
              "    <tr>\n",
              "      <th>onto</th>\n",
              "      <th>v</th>\n",
              "      <td>100.000000</td>\n",
              "    </tr>\n",
              "    <tr>\n",
              "      <th>pending</th>\n",
              "      <th>v</th>\n",
              "      <td>100.000000</td>\n",
              "    </tr>\n",
              "    <tr>\n",
              "      <th>per</th>\n",
              "      <th>n</th>\n",
              "      <td>92.307692</td>\n",
              "    </tr>\n",
              "    <tr>\n",
              "      <th>unlike</th>\n",
              "      <th>v</th>\n",
              "      <td>100.000000</td>\n",
              "    </tr>\n",
              "    <tr>\n",
              "      <th>unto</th>\n",
              "      <th>n</th>\n",
              "      <td>100.000000</td>\n",
              "    </tr>\n",
              "    <tr>\n",
              "      <th>versus</th>\n",
              "      <th>n</th>\n",
              "      <td>100.000000</td>\n",
              "    </tr>\n",
              "    <tr>\n",
              "      <th>vs.</th>\n",
              "      <th>n</th>\n",
              "      <td>100.000000</td>\n",
              "    </tr>\n",
              "  </tbody>\n",
              "</table>\n",
              "</div>\n",
              "      <button class=\"colab-df-convert\" onclick=\"convertToInteractive('df-fc778a44-482a-4524-b88c-6086d6eba7a0')\"\n",
              "              title=\"Convert this dataframe to an interactive table.\"\n",
              "              style=\"display:none;\">\n",
              "        \n",
              "  <svg xmlns=\"http://www.w3.org/2000/svg\" height=\"24px\"viewBox=\"0 0 24 24\"\n",
              "       width=\"24px\">\n",
              "    <path d=\"M0 0h24v24H0V0z\" fill=\"none\"/>\n",
              "    <path d=\"M18.56 5.44l.94 2.06.94-2.06 2.06-.94-2.06-.94-.94-2.06-.94 2.06-2.06.94zm-11 1L8.5 8.5l.94-2.06 2.06-.94-2.06-.94L8.5 2.5l-.94 2.06-2.06.94zm10 10l.94 2.06.94-2.06 2.06-.94-2.06-.94-.94-2.06-.94 2.06-2.06.94z\"/><path d=\"M17.41 7.96l-1.37-1.37c-.4-.4-.92-.59-1.43-.59-.52 0-1.04.2-1.43.59L10.3 9.45l-7.72 7.72c-.78.78-.78 2.05 0 2.83L4 21.41c.39.39.9.59 1.41.59.51 0 1.02-.2 1.41-.59l7.78-7.78 2.81-2.81c.8-.78.8-2.07 0-2.86zM5.41 20L4 18.59l7.72-7.72 1.47 1.35L5.41 20z\"/>\n",
              "  </svg>\n",
              "      </button>\n",
              "      \n",
              "  <style>\n",
              "    .colab-df-container {\n",
              "      display:flex;\n",
              "      flex-wrap:wrap;\n",
              "      gap: 12px;\n",
              "    }\n",
              "\n",
              "    .colab-df-convert {\n",
              "      background-color: #E8F0FE;\n",
              "      border: none;\n",
              "      border-radius: 50%;\n",
              "      cursor: pointer;\n",
              "      display: none;\n",
              "      fill: #1967D2;\n",
              "      height: 32px;\n",
              "      padding: 0 0 0 0;\n",
              "      width: 32px;\n",
              "    }\n",
              "\n",
              "    .colab-df-convert:hover {\n",
              "      background-color: #E2EBFA;\n",
              "      box-shadow: 0px 1px 2px rgba(60, 64, 67, 0.3), 0px 1px 3px 1px rgba(60, 64, 67, 0.15);\n",
              "      fill: #174EA6;\n",
              "    }\n",
              "\n",
              "    [theme=dark] .colab-df-convert {\n",
              "      background-color: #3B4455;\n",
              "      fill: #D2E3FC;\n",
              "    }\n",
              "\n",
              "    [theme=dark] .colab-df-convert:hover {\n",
              "      background-color: #434B5C;\n",
              "      box-shadow: 0px 1px 3px 1px rgba(0, 0, 0, 0.15);\n",
              "      filter: drop-shadow(0px 1px 2px rgba(0, 0, 0, 0.3));\n",
              "      fill: #FFFFFF;\n",
              "    }\n",
              "  </style>\n",
              "\n",
              "      <script>\n",
              "        const buttonEl =\n",
              "          document.querySelector('#df-fc778a44-482a-4524-b88c-6086d6eba7a0 button.colab-df-convert');\n",
              "        buttonEl.style.display =\n",
              "          google.colab.kernel.accessAllowed ? 'block' : 'none';\n",
              "\n",
              "        async function convertToInteractive(key) {\n",
              "          const element = document.querySelector('#df-fc778a44-482a-4524-b88c-6086d6eba7a0');\n",
              "          const dataTable =\n",
              "            await google.colab.kernel.invokeFunction('convertToInteractive',\n",
              "                                                     [key], {});\n",
              "          if (!dataTable) return;\n",
              "\n",
              "          const docLinkHtml = 'Like what you see? Visit the ' +\n",
              "            '<a target=\"_blank\" href=https://colab.research.google.com/notebooks/data_table.ipynb>data table notebook</a>'\n",
              "            + ' to learn more about interactive tables.';\n",
              "          element.innerHTML = '';\n",
              "          dataTable['output_type'] = 'display_data';\n",
              "          await google.colab.output.renderOutput(dataTable, element);\n",
              "          const docLink = document.createElement('div');\n",
              "          docLink.innerHTML = docLinkHtml;\n",
              "          element.appendChild(docLink);\n",
              "        }\n",
              "      </script>\n",
              "    </div>\n",
              "  </div>\n",
              "  "
            ]
          },
          "metadata": {},
          "execution_count": 28
        }
      ]
    },
    {
      "cell_type": "markdown",
      "source": [
        "or create a list out of them:"
      ],
      "metadata": {
        "id": "8N0zZ3BxP0s5"
      }
    },
    {
      "cell_type": "code",
      "source": [
        "easy_prep = df_p_distribution_pct[df_p_distribution_pct['target'] > 90].index.get_level_values(0).to_list()\n",
        "easy_prep"
      ],
      "metadata": {
        "colab": {
          "base_uri": "https://localhost:8080/"
        },
        "id": "AUrTOeE6P2Md",
        "outputId": "1ba6cbf3-dd12-4a62-f257-f8b31693226f"
      },
      "execution_count": 29,
      "outputs": [
        {
          "output_type": "execute_result",
          "data": {
            "text/plain": [
              "['aboard',\n",
              " 'amid',\n",
              " 'amongst',\n",
              " 'beneath',\n",
              " 'beside',\n",
              " 'besides',\n",
              " 'beyond',\n",
              " 'despite',\n",
              " 'except',\n",
              " 'next',\n",
              " 'of',\n",
              " 'onto',\n",
              " 'pending',\n",
              " 'per',\n",
              " 'unlike',\n",
              " 'unto',\n",
              " 'versus',\n",
              " 'vs.']"
            ]
          },
          "metadata": {},
          "execution_count": 29
        }
      ]
    },
    {
      "cell_type": "code",
      "source": [
        "df[df['p']=='per']"
      ],
      "metadata": {
        "colab": {
          "base_uri": "https://localhost:8080/",
          "height": 457
        },
        "id": "5ydSj25Szhul",
        "outputId": "6a2b970c-75cd-4493-bb46-a1eae7b156cf"
      },
      "execution_count": 30,
      "outputs": [
        {
          "output_type": "execute_result",
          "data": {
            "text/plain": [
              "               v             n1    p         n2 target\n",
              "808       report       earnings  per      share      n\n",
              "1247     require      spoonfuls  per   washload      n\n",
              "1507     achieve       increase  per      share      n\n",
              "2766   processes   instructions  per     second      v\n",
              "5037        have      computers  per   employee      n\n",
              "7750         had  investigators  per  contracts      n\n",
              "8243     produce        barrels  per        day      n\n",
              "12435        eat         apples  per     capita      n\n",
              "12726        use     fertilizer  per       acre      n\n",
              "14085    receive           cent  per      share      n\n",
              "14474   produces           soot  per       unit      n\n",
              "14631   estimate         output  per   employee      n\n",
              "18529    process   instructions  per     second      n"
            ],
            "text/html": [
              "\n",
              "  <div id=\"df-7584ca08-2be8-4ebb-ae7e-f00daaedb305\">\n",
              "    <div class=\"colab-df-container\">\n",
              "      <div>\n",
              "<style scoped>\n",
              "    .dataframe tbody tr th:only-of-type {\n",
              "        vertical-align: middle;\n",
              "    }\n",
              "\n",
              "    .dataframe tbody tr th {\n",
              "        vertical-align: top;\n",
              "    }\n",
              "\n",
              "    .dataframe thead th {\n",
              "        text-align: right;\n",
              "    }\n",
              "</style>\n",
              "<table border=\"1\" class=\"dataframe\">\n",
              "  <thead>\n",
              "    <tr style=\"text-align: right;\">\n",
              "      <th></th>\n",
              "      <th>v</th>\n",
              "      <th>n1</th>\n",
              "      <th>p</th>\n",
              "      <th>n2</th>\n",
              "      <th>target</th>\n",
              "    </tr>\n",
              "  </thead>\n",
              "  <tbody>\n",
              "    <tr>\n",
              "      <th>808</th>\n",
              "      <td>report</td>\n",
              "      <td>earnings</td>\n",
              "      <td>per</td>\n",
              "      <td>share</td>\n",
              "      <td>n</td>\n",
              "    </tr>\n",
              "    <tr>\n",
              "      <th>1247</th>\n",
              "      <td>require</td>\n",
              "      <td>spoonfuls</td>\n",
              "      <td>per</td>\n",
              "      <td>washload</td>\n",
              "      <td>n</td>\n",
              "    </tr>\n",
              "    <tr>\n",
              "      <th>1507</th>\n",
              "      <td>achieve</td>\n",
              "      <td>increase</td>\n",
              "      <td>per</td>\n",
              "      <td>share</td>\n",
              "      <td>n</td>\n",
              "    </tr>\n",
              "    <tr>\n",
              "      <th>2766</th>\n",
              "      <td>processes</td>\n",
              "      <td>instructions</td>\n",
              "      <td>per</td>\n",
              "      <td>second</td>\n",
              "      <td>v</td>\n",
              "    </tr>\n",
              "    <tr>\n",
              "      <th>5037</th>\n",
              "      <td>have</td>\n",
              "      <td>computers</td>\n",
              "      <td>per</td>\n",
              "      <td>employee</td>\n",
              "      <td>n</td>\n",
              "    </tr>\n",
              "    <tr>\n",
              "      <th>7750</th>\n",
              "      <td>had</td>\n",
              "      <td>investigators</td>\n",
              "      <td>per</td>\n",
              "      <td>contracts</td>\n",
              "      <td>n</td>\n",
              "    </tr>\n",
              "    <tr>\n",
              "      <th>8243</th>\n",
              "      <td>produce</td>\n",
              "      <td>barrels</td>\n",
              "      <td>per</td>\n",
              "      <td>day</td>\n",
              "      <td>n</td>\n",
              "    </tr>\n",
              "    <tr>\n",
              "      <th>12435</th>\n",
              "      <td>eat</td>\n",
              "      <td>apples</td>\n",
              "      <td>per</td>\n",
              "      <td>capita</td>\n",
              "      <td>n</td>\n",
              "    </tr>\n",
              "    <tr>\n",
              "      <th>12726</th>\n",
              "      <td>use</td>\n",
              "      <td>fertilizer</td>\n",
              "      <td>per</td>\n",
              "      <td>acre</td>\n",
              "      <td>n</td>\n",
              "    </tr>\n",
              "    <tr>\n",
              "      <th>14085</th>\n",
              "      <td>receive</td>\n",
              "      <td>cent</td>\n",
              "      <td>per</td>\n",
              "      <td>share</td>\n",
              "      <td>n</td>\n",
              "    </tr>\n",
              "    <tr>\n",
              "      <th>14474</th>\n",
              "      <td>produces</td>\n",
              "      <td>soot</td>\n",
              "      <td>per</td>\n",
              "      <td>unit</td>\n",
              "      <td>n</td>\n",
              "    </tr>\n",
              "    <tr>\n",
              "      <th>14631</th>\n",
              "      <td>estimate</td>\n",
              "      <td>output</td>\n",
              "      <td>per</td>\n",
              "      <td>employee</td>\n",
              "      <td>n</td>\n",
              "    </tr>\n",
              "    <tr>\n",
              "      <th>18529</th>\n",
              "      <td>process</td>\n",
              "      <td>instructions</td>\n",
              "      <td>per</td>\n",
              "      <td>second</td>\n",
              "      <td>n</td>\n",
              "    </tr>\n",
              "  </tbody>\n",
              "</table>\n",
              "</div>\n",
              "      <button class=\"colab-df-convert\" onclick=\"convertToInteractive('df-7584ca08-2be8-4ebb-ae7e-f00daaedb305')\"\n",
              "              title=\"Convert this dataframe to an interactive table.\"\n",
              "              style=\"display:none;\">\n",
              "        \n",
              "  <svg xmlns=\"http://www.w3.org/2000/svg\" height=\"24px\"viewBox=\"0 0 24 24\"\n",
              "       width=\"24px\">\n",
              "    <path d=\"M0 0h24v24H0V0z\" fill=\"none\"/>\n",
              "    <path d=\"M18.56 5.44l.94 2.06.94-2.06 2.06-.94-2.06-.94-.94-2.06-.94 2.06-2.06.94zm-11 1L8.5 8.5l.94-2.06 2.06-.94-2.06-.94L8.5 2.5l-.94 2.06-2.06.94zm10 10l.94 2.06.94-2.06 2.06-.94-2.06-.94-.94-2.06-.94 2.06-2.06.94z\"/><path d=\"M17.41 7.96l-1.37-1.37c-.4-.4-.92-.59-1.43-.59-.52 0-1.04.2-1.43.59L10.3 9.45l-7.72 7.72c-.78.78-.78 2.05 0 2.83L4 21.41c.39.39.9.59 1.41.59.51 0 1.02-.2 1.41-.59l7.78-7.78 2.81-2.81c.8-.78.8-2.07 0-2.86zM5.41 20L4 18.59l7.72-7.72 1.47 1.35L5.41 20z\"/>\n",
              "  </svg>\n",
              "      </button>\n",
              "      \n",
              "  <style>\n",
              "    .colab-df-container {\n",
              "      display:flex;\n",
              "      flex-wrap:wrap;\n",
              "      gap: 12px;\n",
              "    }\n",
              "\n",
              "    .colab-df-convert {\n",
              "      background-color: #E8F0FE;\n",
              "      border: none;\n",
              "      border-radius: 50%;\n",
              "      cursor: pointer;\n",
              "      display: none;\n",
              "      fill: #1967D2;\n",
              "      height: 32px;\n",
              "      padding: 0 0 0 0;\n",
              "      width: 32px;\n",
              "    }\n",
              "\n",
              "    .colab-df-convert:hover {\n",
              "      background-color: #E2EBFA;\n",
              "      box-shadow: 0px 1px 2px rgba(60, 64, 67, 0.3), 0px 1px 3px 1px rgba(60, 64, 67, 0.15);\n",
              "      fill: #174EA6;\n",
              "    }\n",
              "\n",
              "    [theme=dark] .colab-df-convert {\n",
              "      background-color: #3B4455;\n",
              "      fill: #D2E3FC;\n",
              "    }\n",
              "\n",
              "    [theme=dark] .colab-df-convert:hover {\n",
              "      background-color: #434B5C;\n",
              "      box-shadow: 0px 1px 3px 1px rgba(0, 0, 0, 0.15);\n",
              "      filter: drop-shadow(0px 1px 2px rgba(0, 0, 0, 0.3));\n",
              "      fill: #FFFFFF;\n",
              "    }\n",
              "  </style>\n",
              "\n",
              "      <script>\n",
              "        const buttonEl =\n",
              "          document.querySelector('#df-7584ca08-2be8-4ebb-ae7e-f00daaedb305 button.colab-df-convert');\n",
              "        buttonEl.style.display =\n",
              "          google.colab.kernel.accessAllowed ? 'block' : 'none';\n",
              "\n",
              "        async function convertToInteractive(key) {\n",
              "          const element = document.querySelector('#df-7584ca08-2be8-4ebb-ae7e-f00daaedb305');\n",
              "          const dataTable =\n",
              "            await google.colab.kernel.invokeFunction('convertToInteractive',\n",
              "                                                     [key], {});\n",
              "          if (!dataTable) return;\n",
              "\n",
              "          const docLinkHtml = 'Like what you see? Visit the ' +\n",
              "            '<a target=\"_blank\" href=https://colab.research.google.com/notebooks/data_table.ipynb>data table notebook</a>'\n",
              "            + ' to learn more about interactive tables.';\n",
              "          element.innerHTML = '';\n",
              "          dataTable['output_type'] = 'display_data';\n",
              "          await google.colab.output.renderOutput(dataTable, element);\n",
              "          const docLink = document.createElement('div');\n",
              "          docLink.innerHTML = docLinkHtml;\n",
              "          element.appendChild(docLink);\n",
              "        }\n",
              "      </script>\n",
              "    </div>\n",
              "  </div>\n",
              "  "
            ]
          },
          "metadata": {},
          "execution_count": 30
        }
      ]
    },
    {
      "cell_type": "code",
      "source": [
        "df[df['p']=='into'].sort_values('n2')"
      ],
      "metadata": {
        "colab": {
          "base_uri": "https://localhost:8080/",
          "height": 424
        },
        "id": "QrvtIwNbQm_Q",
        "outputId": "77a6a13f-5113-44b0-a04c-cb8fc99e6929"
      },
      "execution_count": 31,
      "outputs": [
        {
          "output_type": "execute_result",
          "data": {
            "text/plain": [
              "               v          n1     p        n2 target\n",
              "7577     convert      shares  into         %      v\n",
              "1367     support      prices  into      1990      v\n",
              "2314        keep    pressure  into     1990s      v\n",
              "3910       drive    spending  into      1991      v\n",
              "8099   translate        idea  into    action      v\n",
              "...          ...         ...   ...       ...    ...\n",
              "15886    convert      movies  into     video      v\n",
              "15882  transform        film  into     video      v\n",
              "16491    restart     flights  into   vietnam      n\n",
              "17847   plunging  electrodes  into     water      v\n",
              "6710     provide        peek  into  workings      n\n",
              "\n",
              "[214 rows x 5 columns]"
            ],
            "text/html": [
              "\n",
              "  <div id=\"df-65e4e5dd-898a-4568-b53b-edbc1ffe7c61\">\n",
              "    <div class=\"colab-df-container\">\n",
              "      <div>\n",
              "<style scoped>\n",
              "    .dataframe tbody tr th:only-of-type {\n",
              "        vertical-align: middle;\n",
              "    }\n",
              "\n",
              "    .dataframe tbody tr th {\n",
              "        vertical-align: top;\n",
              "    }\n",
              "\n",
              "    .dataframe thead th {\n",
              "        text-align: right;\n",
              "    }\n",
              "</style>\n",
              "<table border=\"1\" class=\"dataframe\">\n",
              "  <thead>\n",
              "    <tr style=\"text-align: right;\">\n",
              "      <th></th>\n",
              "      <th>v</th>\n",
              "      <th>n1</th>\n",
              "      <th>p</th>\n",
              "      <th>n2</th>\n",
              "      <th>target</th>\n",
              "    </tr>\n",
              "  </thead>\n",
              "  <tbody>\n",
              "    <tr>\n",
              "      <th>7577</th>\n",
              "      <td>convert</td>\n",
              "      <td>shares</td>\n",
              "      <td>into</td>\n",
              "      <td>%</td>\n",
              "      <td>v</td>\n",
              "    </tr>\n",
              "    <tr>\n",
              "      <th>1367</th>\n",
              "      <td>support</td>\n",
              "      <td>prices</td>\n",
              "      <td>into</td>\n",
              "      <td>1990</td>\n",
              "      <td>v</td>\n",
              "    </tr>\n",
              "    <tr>\n",
              "      <th>2314</th>\n",
              "      <td>keep</td>\n",
              "      <td>pressure</td>\n",
              "      <td>into</td>\n",
              "      <td>1990s</td>\n",
              "      <td>v</td>\n",
              "    </tr>\n",
              "    <tr>\n",
              "      <th>3910</th>\n",
              "      <td>drive</td>\n",
              "      <td>spending</td>\n",
              "      <td>into</td>\n",
              "      <td>1991</td>\n",
              "      <td>v</td>\n",
              "    </tr>\n",
              "    <tr>\n",
              "      <th>8099</th>\n",
              "      <td>translate</td>\n",
              "      <td>idea</td>\n",
              "      <td>into</td>\n",
              "      <td>action</td>\n",
              "      <td>v</td>\n",
              "    </tr>\n",
              "    <tr>\n",
              "      <th>...</th>\n",
              "      <td>...</td>\n",
              "      <td>...</td>\n",
              "      <td>...</td>\n",
              "      <td>...</td>\n",
              "      <td>...</td>\n",
              "    </tr>\n",
              "    <tr>\n",
              "      <th>15886</th>\n",
              "      <td>convert</td>\n",
              "      <td>movies</td>\n",
              "      <td>into</td>\n",
              "      <td>video</td>\n",
              "      <td>v</td>\n",
              "    </tr>\n",
              "    <tr>\n",
              "      <th>15882</th>\n",
              "      <td>transform</td>\n",
              "      <td>film</td>\n",
              "      <td>into</td>\n",
              "      <td>video</td>\n",
              "      <td>v</td>\n",
              "    </tr>\n",
              "    <tr>\n",
              "      <th>16491</th>\n",
              "      <td>restart</td>\n",
              "      <td>flights</td>\n",
              "      <td>into</td>\n",
              "      <td>vietnam</td>\n",
              "      <td>n</td>\n",
              "    </tr>\n",
              "    <tr>\n",
              "      <th>17847</th>\n",
              "      <td>plunging</td>\n",
              "      <td>electrodes</td>\n",
              "      <td>into</td>\n",
              "      <td>water</td>\n",
              "      <td>v</td>\n",
              "    </tr>\n",
              "    <tr>\n",
              "      <th>6710</th>\n",
              "      <td>provide</td>\n",
              "      <td>peek</td>\n",
              "      <td>into</td>\n",
              "      <td>workings</td>\n",
              "      <td>n</td>\n",
              "    </tr>\n",
              "  </tbody>\n",
              "</table>\n",
              "<p>214 rows × 5 columns</p>\n",
              "</div>\n",
              "      <button class=\"colab-df-convert\" onclick=\"convertToInteractive('df-65e4e5dd-898a-4568-b53b-edbc1ffe7c61')\"\n",
              "              title=\"Convert this dataframe to an interactive table.\"\n",
              "              style=\"display:none;\">\n",
              "        \n",
              "  <svg xmlns=\"http://www.w3.org/2000/svg\" height=\"24px\"viewBox=\"0 0 24 24\"\n",
              "       width=\"24px\">\n",
              "    <path d=\"M0 0h24v24H0V0z\" fill=\"none\"/>\n",
              "    <path d=\"M18.56 5.44l.94 2.06.94-2.06 2.06-.94-2.06-.94-.94-2.06-.94 2.06-2.06.94zm-11 1L8.5 8.5l.94-2.06 2.06-.94-2.06-.94L8.5 2.5l-.94 2.06-2.06.94zm10 10l.94 2.06.94-2.06 2.06-.94-2.06-.94-.94-2.06-.94 2.06-2.06.94z\"/><path d=\"M17.41 7.96l-1.37-1.37c-.4-.4-.92-.59-1.43-.59-.52 0-1.04.2-1.43.59L10.3 9.45l-7.72 7.72c-.78.78-.78 2.05 0 2.83L4 21.41c.39.39.9.59 1.41.59.51 0 1.02-.2 1.41-.59l7.78-7.78 2.81-2.81c.8-.78.8-2.07 0-2.86zM5.41 20L4 18.59l7.72-7.72 1.47 1.35L5.41 20z\"/>\n",
              "  </svg>\n",
              "      </button>\n",
              "      \n",
              "  <style>\n",
              "    .colab-df-container {\n",
              "      display:flex;\n",
              "      flex-wrap:wrap;\n",
              "      gap: 12px;\n",
              "    }\n",
              "\n",
              "    .colab-df-convert {\n",
              "      background-color: #E8F0FE;\n",
              "      border: none;\n",
              "      border-radius: 50%;\n",
              "      cursor: pointer;\n",
              "      display: none;\n",
              "      fill: #1967D2;\n",
              "      height: 32px;\n",
              "      padding: 0 0 0 0;\n",
              "      width: 32px;\n",
              "    }\n",
              "\n",
              "    .colab-df-convert:hover {\n",
              "      background-color: #E2EBFA;\n",
              "      box-shadow: 0px 1px 2px rgba(60, 64, 67, 0.3), 0px 1px 3px 1px rgba(60, 64, 67, 0.15);\n",
              "      fill: #174EA6;\n",
              "    }\n",
              "\n",
              "    [theme=dark] .colab-df-convert {\n",
              "      background-color: #3B4455;\n",
              "      fill: #D2E3FC;\n",
              "    }\n",
              "\n",
              "    [theme=dark] .colab-df-convert:hover {\n",
              "      background-color: #434B5C;\n",
              "      box-shadow: 0px 1px 3px 1px rgba(0, 0, 0, 0.15);\n",
              "      filter: drop-shadow(0px 1px 2px rgba(0, 0, 0, 0.3));\n",
              "      fill: #FFFFFF;\n",
              "    }\n",
              "  </style>\n",
              "\n",
              "      <script>\n",
              "        const buttonEl =\n",
              "          document.querySelector('#df-65e4e5dd-898a-4568-b53b-edbc1ffe7c61 button.colab-df-convert');\n",
              "        buttonEl.style.display =\n",
              "          google.colab.kernel.accessAllowed ? 'block' : 'none';\n",
              "\n",
              "        async function convertToInteractive(key) {\n",
              "          const element = document.querySelector('#df-65e4e5dd-898a-4568-b53b-edbc1ffe7c61');\n",
              "          const dataTable =\n",
              "            await google.colab.kernel.invokeFunction('convertToInteractive',\n",
              "                                                     [key], {});\n",
              "          if (!dataTable) return;\n",
              "\n",
              "          const docLinkHtml = 'Like what you see? Visit the ' +\n",
              "            '<a target=\"_blank\" href=https://colab.research.google.com/notebooks/data_table.ipynb>data table notebook</a>'\n",
              "            + ' to learn more about interactive tables.';\n",
              "          element.innerHTML = '';\n",
              "          dataTable['output_type'] = 'display_data';\n",
              "          await google.colab.output.renderOutput(dataTable, element);\n",
              "          const docLink = document.createElement('div');\n",
              "          docLink.innerHTML = docLinkHtml;\n",
              "          element.appendChild(docLink);\n",
              "        }\n",
              "      </script>\n",
              "    </div>\n",
              "  </div>\n",
              "  "
            ]
          },
          "metadata": {},
          "execution_count": 31
        }
      ]
    },
    {
      "cell_type": "markdown",
      "source": [
        "#### Preposition Distribution - summary\n",
        "\n",
        "We can see that some prepositions ('of', 'per', 'amid') tends to belong to a single class, while some others ('in', 'for') are nearly half-half between the classes."
      ],
      "metadata": {
        "id": "WPYd22ceyYIn"
      }
    },
    {
      "cell_type": "markdown",
      "source": [
        "### Distribution of the rest of the classes"
      ],
      "metadata": {
        "id": "-xhZwLQ4zYQn"
      }
    },
    {
      "cell_type": "code",
      "source": [
        "df['v'].value_counts().head(20)"
      ],
      "metadata": {
        "colab": {
          "base_uri": "https://localhost:8080/"
        },
        "id": "dxwalEDWyTcT",
        "outputId": "2a693963-59e5-4c76-ce46-a22eab4a4d8e"
      },
      "execution_count": 32,
      "outputs": [
        {
          "output_type": "execute_result",
          "data": {
            "text/plain": [
              "is           759\n",
              "rose         388\n",
              "had          374\n",
              "was          338\n",
              "have         271\n",
              "are          247\n",
              "be           243\n",
              "has          233\n",
              "buy          205\n",
              "fell         168\n",
              "reported     168\n",
              "sell         156\n",
              "make         144\n",
              "'s           142\n",
              "been         133\n",
              "made         130\n",
              "increased    129\n",
              "take         123\n",
              "posted       111\n",
              "put          110\n",
              "Name: v, dtype: int64"
            ]
          },
          "metadata": {},
          "execution_count": 32
        }
      ]
    },
    {
      "cell_type": "markdown",
      "source": [
        "Many words seem to be in different forms (past, present). Let's check if there are differences: "
      ],
      "metadata": {
        "id": "StKzT8pz27LK"
      }
    },
    {
      "cell_type": "code",
      "source": [
        "df[df['v']=='increased']['target'].value_counts()"
      ],
      "metadata": {
        "colab": {
          "base_uri": "https://localhost:8080/"
        },
        "id": "OV5gcw6L2PGy",
        "outputId": "f0d428f6-008d-4d1d-a1ac-93f51aac00dd"
      },
      "execution_count": 33,
      "outputs": [
        {
          "output_type": "execute_result",
          "data": {
            "text/plain": [
              "v    108\n",
              "n     21\n",
              "Name: target, dtype: int64"
            ]
          },
          "metadata": {},
          "execution_count": 33
        }
      ]
    },
    {
      "cell_type": "code",
      "source": [
        "df[df['v']=='increase']['target'].value_counts()"
      ],
      "metadata": {
        "colab": {
          "base_uri": "https://localhost:8080/"
        },
        "id": "wshrgLO_2Ta5",
        "outputId": "47c1b357-eaf2-4702-8356-cb42006209ac"
      },
      "execution_count": 34,
      "outputs": [
        {
          "output_type": "execute_result",
          "data": {
            "text/plain": [
              "v    54\n",
              "n    45\n",
              "Name: target, dtype: int64"
            ]
          },
          "metadata": {},
          "execution_count": 34
        }
      ]
    },
    {
      "cell_type": "code",
      "source": [
        "df[df['v']=='reported']['target'].value_counts()"
      ],
      "metadata": {
        "colab": {
          "base_uri": "https://localhost:8080/"
        },
        "id": "2n552MDs2elx",
        "outputId": "ad8070c5-a14a-40d1-fe0b-f0697665cfb9"
      },
      "execution_count": 35,
      "outputs": [
        {
          "output_type": "execute_result",
          "data": {
            "text/plain": [
              "n    151\n",
              "v     17\n",
              "Name: target, dtype: int64"
            ]
          },
          "metadata": {},
          "execution_count": 35
        }
      ]
    },
    {
      "cell_type": "code",
      "source": [
        "df[df['v']=='report']['target'].value_counts()"
      ],
      "metadata": {
        "colab": {
          "base_uri": "https://localhost:8080/"
        },
        "id": "RXk0Wmsp2eah",
        "outputId": "6ac0bef1-4ee4-4ba1-d10b-47bdc55fcb65"
      },
      "execution_count": 36,
      "outputs": [
        {
          "output_type": "execute_result",
          "data": {
            "text/plain": [
              "n    59\n",
              "v    15\n",
              "Name: target, dtype: int64"
            ]
          },
          "metadata": {},
          "execution_count": 36
        }
      ]
    },
    {
      "cell_type": "code",
      "source": [
        "df[df['v'].str.startswith('report')]['target'].value_counts()"
      ],
      "metadata": {
        "colab": {
          "base_uri": "https://localhost:8080/"
        },
        "id": "8dRWuzvt0Xww",
        "outputId": "2fbadfea-0dee-4b46-9461-906cf420654f"
      },
      "execution_count": 37,
      "outputs": [
        {
          "output_type": "execute_result",
          "data": {
            "text/plain": [
              "n    220\n",
              "v     34\n",
              "Name: target, dtype: int64"
            ]
          },
          "metadata": {},
          "execution_count": 37
        }
      ]
    },
    {
      "cell_type": "code",
      "source": [
        "df['n1'].value_counts()"
      ],
      "metadata": {
        "colab": {
          "base_uri": "https://localhost:8080/"
        },
        "id": "B_ZenWkTz0kk",
        "outputId": "2a28ef78-77f8-44cb-d4df-a3b88f7ea88c"
      },
      "execution_count": 38,
      "outputs": [
        {
          "output_type": "execute_result",
          "data": {
            "text/plain": [
              "%                1302\n",
              "stake             202\n",
              "loss              189\n",
              "shares            155\n",
              "part              154\n",
              "                 ... \n",
              "nerves              1\n",
              "neighborhoods       1\n",
              "corporations        1\n",
              "corpse              1\n",
              "zip                 1\n",
              "Name: n1, Length: 3970, dtype: int64"
            ]
          },
          "metadata": {},
          "execution_count": 38
        }
      ]
    },
    {
      "cell_type": "code",
      "source": [
        "df['n2'].value_counts()"
      ],
      "metadata": {
        "colab": {
          "base_uri": "https://localhost:8080/"
        },
        "id": "KMRU3rhqz18i",
        "outputId": "7bd8d986-6f28-41c9-b2c4-9decbe8e9aac"
      },
      "execution_count": 39,
      "outputs": [
        {
          "output_type": "execute_result",
          "data": {
            "text/plain": [
              "$           1227\n",
              "%            274\n",
              "market       217\n",
              "quarter      198\n",
              "years        177\n",
              "            ... \n",
              "lumpur         1\n",
              "camps          1\n",
              "lyondell       1\n",
              "lyonnais       1\n",
              "zone           1\n",
              "Name: n2, Length: 4792, dtype: int64"
            ]
          },
          "metadata": {},
          "execution_count": 39
        }
      ]
    },
    {
      "cell_type": "code",
      "source": [
        "df['n2'].value_counts().head(20)"
      ],
      "metadata": {
        "colab": {
          "base_uri": "https://localhost:8080/"
        },
        "id": "7VfM9f3c54s3",
        "outputId": "8cbfe25d-6924-4761-ffe8-4ceabf779436"
      },
      "execution_count": 40,
      "outputs": [
        {
          "output_type": "execute_result",
          "data": {
            "text/plain": [
              "$            1227\n",
              "%             274\n",
              "market        217\n",
              "quarter       198\n",
              "years         177\n",
              "company       148\n",
              "year          134\n",
              "shares        134\n",
              "yen           114\n",
              "months        101\n",
              "time           92\n",
              "trading        87\n",
              "stock          84\n",
              "inc.           81\n",
              "u.s.           81\n",
              "markets        77\n",
              "companies      73\n",
              "corp.          72\n",
              "business       69\n",
              "september      68\n",
              "Name: n2, dtype: int64"
            ]
          },
          "metadata": {},
          "execution_count": 40
        }
      ]
    },
    {
      "cell_type": "code",
      "source": [
        "df[df['n1']=='%']"
      ],
      "metadata": {
        "colab": {
          "base_uri": "https://localhost:8080/",
          "height": 424
        },
        "id": "_VF6bVAL0Hje",
        "outputId": "46fe9d41-8bd4-4441-f7c8-0dfdb397acfb"
      },
      "execution_count": 41,
      "outputs": [
        {
          "output_type": "execute_result",
          "data": {
            "text/plain": [
              "                v n1     p        n2 target\n",
              "32     distribute  %    of  revenues      n\n",
              "33     distribute  %    as    grants      v\n",
              "75        dropped  %    to         $      v\n",
              "76        dropped  %  from         $      v\n",
              "77           fell  %    to         $      v\n",
              "...           ... ..   ...       ...    ...\n",
              "19271    declined  %    to         $      v\n",
              "19272    declined  %  from         $      v\n",
              "19273        rose  %    to         $      v\n",
              "19274        rose  %  from         $      v\n",
              "19336         buy  %    of    mgm/ua      n\n",
              "\n",
              "[1302 rows x 5 columns]"
            ],
            "text/html": [
              "\n",
              "  <div id=\"df-1738ab06-b7a5-4504-83bc-cf937a338e57\">\n",
              "    <div class=\"colab-df-container\">\n",
              "      <div>\n",
              "<style scoped>\n",
              "    .dataframe tbody tr th:only-of-type {\n",
              "        vertical-align: middle;\n",
              "    }\n",
              "\n",
              "    .dataframe tbody tr th {\n",
              "        vertical-align: top;\n",
              "    }\n",
              "\n",
              "    .dataframe thead th {\n",
              "        text-align: right;\n",
              "    }\n",
              "</style>\n",
              "<table border=\"1\" class=\"dataframe\">\n",
              "  <thead>\n",
              "    <tr style=\"text-align: right;\">\n",
              "      <th></th>\n",
              "      <th>v</th>\n",
              "      <th>n1</th>\n",
              "      <th>p</th>\n",
              "      <th>n2</th>\n",
              "      <th>target</th>\n",
              "    </tr>\n",
              "  </thead>\n",
              "  <tbody>\n",
              "    <tr>\n",
              "      <th>32</th>\n",
              "      <td>distribute</td>\n",
              "      <td>%</td>\n",
              "      <td>of</td>\n",
              "      <td>revenues</td>\n",
              "      <td>n</td>\n",
              "    </tr>\n",
              "    <tr>\n",
              "      <th>33</th>\n",
              "      <td>distribute</td>\n",
              "      <td>%</td>\n",
              "      <td>as</td>\n",
              "      <td>grants</td>\n",
              "      <td>v</td>\n",
              "    </tr>\n",
              "    <tr>\n",
              "      <th>75</th>\n",
              "      <td>dropped</td>\n",
              "      <td>%</td>\n",
              "      <td>to</td>\n",
              "      <td>$</td>\n",
              "      <td>v</td>\n",
              "    </tr>\n",
              "    <tr>\n",
              "      <th>76</th>\n",
              "      <td>dropped</td>\n",
              "      <td>%</td>\n",
              "      <td>from</td>\n",
              "      <td>$</td>\n",
              "      <td>v</td>\n",
              "    </tr>\n",
              "    <tr>\n",
              "      <th>77</th>\n",
              "      <td>fell</td>\n",
              "      <td>%</td>\n",
              "      <td>to</td>\n",
              "      <td>$</td>\n",
              "      <td>v</td>\n",
              "    </tr>\n",
              "    <tr>\n",
              "      <th>...</th>\n",
              "      <td>...</td>\n",
              "      <td>...</td>\n",
              "      <td>...</td>\n",
              "      <td>...</td>\n",
              "      <td>...</td>\n",
              "    </tr>\n",
              "    <tr>\n",
              "      <th>19271</th>\n",
              "      <td>declined</td>\n",
              "      <td>%</td>\n",
              "      <td>to</td>\n",
              "      <td>$</td>\n",
              "      <td>v</td>\n",
              "    </tr>\n",
              "    <tr>\n",
              "      <th>19272</th>\n",
              "      <td>declined</td>\n",
              "      <td>%</td>\n",
              "      <td>from</td>\n",
              "      <td>$</td>\n",
              "      <td>v</td>\n",
              "    </tr>\n",
              "    <tr>\n",
              "      <th>19273</th>\n",
              "      <td>rose</td>\n",
              "      <td>%</td>\n",
              "      <td>to</td>\n",
              "      <td>$</td>\n",
              "      <td>v</td>\n",
              "    </tr>\n",
              "    <tr>\n",
              "      <th>19274</th>\n",
              "      <td>rose</td>\n",
              "      <td>%</td>\n",
              "      <td>from</td>\n",
              "      <td>$</td>\n",
              "      <td>v</td>\n",
              "    </tr>\n",
              "    <tr>\n",
              "      <th>19336</th>\n",
              "      <td>buy</td>\n",
              "      <td>%</td>\n",
              "      <td>of</td>\n",
              "      <td>mgm/ua</td>\n",
              "      <td>n</td>\n",
              "    </tr>\n",
              "  </tbody>\n",
              "</table>\n",
              "<p>1302 rows × 5 columns</p>\n",
              "</div>\n",
              "      <button class=\"colab-df-convert\" onclick=\"convertToInteractive('df-1738ab06-b7a5-4504-83bc-cf937a338e57')\"\n",
              "              title=\"Convert this dataframe to an interactive table.\"\n",
              "              style=\"display:none;\">\n",
              "        \n",
              "  <svg xmlns=\"http://www.w3.org/2000/svg\" height=\"24px\"viewBox=\"0 0 24 24\"\n",
              "       width=\"24px\">\n",
              "    <path d=\"M0 0h24v24H0V0z\" fill=\"none\"/>\n",
              "    <path d=\"M18.56 5.44l.94 2.06.94-2.06 2.06-.94-2.06-.94-.94-2.06-.94 2.06-2.06.94zm-11 1L8.5 8.5l.94-2.06 2.06-.94-2.06-.94L8.5 2.5l-.94 2.06-2.06.94zm10 10l.94 2.06.94-2.06 2.06-.94-2.06-.94-.94-2.06-.94 2.06-2.06.94z\"/><path d=\"M17.41 7.96l-1.37-1.37c-.4-.4-.92-.59-1.43-.59-.52 0-1.04.2-1.43.59L10.3 9.45l-7.72 7.72c-.78.78-.78 2.05 0 2.83L4 21.41c.39.39.9.59 1.41.59.51 0 1.02-.2 1.41-.59l7.78-7.78 2.81-2.81c.8-.78.8-2.07 0-2.86zM5.41 20L4 18.59l7.72-7.72 1.47 1.35L5.41 20z\"/>\n",
              "  </svg>\n",
              "      </button>\n",
              "      \n",
              "  <style>\n",
              "    .colab-df-container {\n",
              "      display:flex;\n",
              "      flex-wrap:wrap;\n",
              "      gap: 12px;\n",
              "    }\n",
              "\n",
              "    .colab-df-convert {\n",
              "      background-color: #E8F0FE;\n",
              "      border: none;\n",
              "      border-radius: 50%;\n",
              "      cursor: pointer;\n",
              "      display: none;\n",
              "      fill: #1967D2;\n",
              "      height: 32px;\n",
              "      padding: 0 0 0 0;\n",
              "      width: 32px;\n",
              "    }\n",
              "\n",
              "    .colab-df-convert:hover {\n",
              "      background-color: #E2EBFA;\n",
              "      box-shadow: 0px 1px 2px rgba(60, 64, 67, 0.3), 0px 1px 3px 1px rgba(60, 64, 67, 0.15);\n",
              "      fill: #174EA6;\n",
              "    }\n",
              "\n",
              "    [theme=dark] .colab-df-convert {\n",
              "      background-color: #3B4455;\n",
              "      fill: #D2E3FC;\n",
              "    }\n",
              "\n",
              "    [theme=dark] .colab-df-convert:hover {\n",
              "      background-color: #434B5C;\n",
              "      box-shadow: 0px 1px 3px 1px rgba(0, 0, 0, 0.15);\n",
              "      filter: drop-shadow(0px 1px 2px rgba(0, 0, 0, 0.3));\n",
              "      fill: #FFFFFF;\n",
              "    }\n",
              "  </style>\n",
              "\n",
              "      <script>\n",
              "        const buttonEl =\n",
              "          document.querySelector('#df-1738ab06-b7a5-4504-83bc-cf937a338e57 button.colab-df-convert');\n",
              "        buttonEl.style.display =\n",
              "          google.colab.kernel.accessAllowed ? 'block' : 'none';\n",
              "\n",
              "        async function convertToInteractive(key) {\n",
              "          const element = document.querySelector('#df-1738ab06-b7a5-4504-83bc-cf937a338e57');\n",
              "          const dataTable =\n",
              "            await google.colab.kernel.invokeFunction('convertToInteractive',\n",
              "                                                     [key], {});\n",
              "          if (!dataTable) return;\n",
              "\n",
              "          const docLinkHtml = 'Like what you see? Visit the ' +\n",
              "            '<a target=\"_blank\" href=https://colab.research.google.com/notebooks/data_table.ipynb>data table notebook</a>'\n",
              "            + ' to learn more about interactive tables.';\n",
              "          element.innerHTML = '';\n",
              "          dataTable['output_type'] = 'display_data';\n",
              "          await google.colab.output.renderOutput(dataTable, element);\n",
              "          const docLink = document.createElement('div');\n",
              "          docLink.innerHTML = docLinkHtml;\n",
              "          element.appendChild(docLink);\n",
              "        }\n",
              "      </script>\n",
              "    </div>\n",
              "  </div>\n",
              "  "
            ]
          },
          "metadata": {},
          "execution_count": 41
        }
      ]
    },
    {
      "cell_type": "code",
      "source": [
        "df[df['n1']=='%']['target'].value_counts()"
      ],
      "metadata": {
        "colab": {
          "base_uri": "https://localhost:8080/"
        },
        "id": "2O4Zjw-Lz63a",
        "outputId": "2b3afe30-dfb9-49b8-f432-59e67880a327"
      },
      "execution_count": 42,
      "outputs": [
        {
          "output_type": "execute_result",
          "data": {
            "text/plain": [
              "v    988\n",
              "n    314\n",
              "Name: target, dtype: int64"
            ]
          },
          "metadata": {},
          "execution_count": 42
        }
      ]
    },
    {
      "cell_type": "code",
      "source": [
        "df[df['n2']=='$']"
      ],
      "metadata": {
        "colab": {
          "base_uri": "https://localhost:8080/",
          "height": 424
        },
        "id": "6Wy8KANM0MRT",
        "outputId": "9c5094e4-5ab9-42fc-c481-c8befbc5f482"
      },
      "execution_count": 43,
      "outputs": [
        {
          "output_type": "execute_result",
          "data": {
            "text/plain": [
              "             v          n1     p n2 target\n",
              "4      leaving    spending    at  $      v\n",
              "75     dropped           %    to  $      v\n",
              "76     dropped           %  from  $      v\n",
              "77        fell           %    to  $      v\n",
              "78        fell           %  from  $      v\n",
              "...        ...         ...   ... ..    ...\n",
              "19275   closed   yesterday    at  $      v\n",
              "19279      buy     company   for  $      v\n",
              "19343      had     revenue    of  $      n\n",
              "19344   closed   yesterday    at  $      v\n",
              "19371       's  difference    of  $      n\n",
              "\n",
              "[1227 rows x 5 columns]"
            ],
            "text/html": [
              "\n",
              "  <div id=\"df-678a1e9a-5e5f-453e-8278-6948442be42b\">\n",
              "    <div class=\"colab-df-container\">\n",
              "      <div>\n",
              "<style scoped>\n",
              "    .dataframe tbody tr th:only-of-type {\n",
              "        vertical-align: middle;\n",
              "    }\n",
              "\n",
              "    .dataframe tbody tr th {\n",
              "        vertical-align: top;\n",
              "    }\n",
              "\n",
              "    .dataframe thead th {\n",
              "        text-align: right;\n",
              "    }\n",
              "</style>\n",
              "<table border=\"1\" class=\"dataframe\">\n",
              "  <thead>\n",
              "    <tr style=\"text-align: right;\">\n",
              "      <th></th>\n",
              "      <th>v</th>\n",
              "      <th>n1</th>\n",
              "      <th>p</th>\n",
              "      <th>n2</th>\n",
              "      <th>target</th>\n",
              "    </tr>\n",
              "  </thead>\n",
              "  <tbody>\n",
              "    <tr>\n",
              "      <th>4</th>\n",
              "      <td>leaving</td>\n",
              "      <td>spending</td>\n",
              "      <td>at</td>\n",
              "      <td>$</td>\n",
              "      <td>v</td>\n",
              "    </tr>\n",
              "    <tr>\n",
              "      <th>75</th>\n",
              "      <td>dropped</td>\n",
              "      <td>%</td>\n",
              "      <td>to</td>\n",
              "      <td>$</td>\n",
              "      <td>v</td>\n",
              "    </tr>\n",
              "    <tr>\n",
              "      <th>76</th>\n",
              "      <td>dropped</td>\n",
              "      <td>%</td>\n",
              "      <td>from</td>\n",
              "      <td>$</td>\n",
              "      <td>v</td>\n",
              "    </tr>\n",
              "    <tr>\n",
              "      <th>77</th>\n",
              "      <td>fell</td>\n",
              "      <td>%</td>\n",
              "      <td>to</td>\n",
              "      <td>$</td>\n",
              "      <td>v</td>\n",
              "    </tr>\n",
              "    <tr>\n",
              "      <th>78</th>\n",
              "      <td>fell</td>\n",
              "      <td>%</td>\n",
              "      <td>from</td>\n",
              "      <td>$</td>\n",
              "      <td>v</td>\n",
              "    </tr>\n",
              "    <tr>\n",
              "      <th>...</th>\n",
              "      <td>...</td>\n",
              "      <td>...</td>\n",
              "      <td>...</td>\n",
              "      <td>...</td>\n",
              "      <td>...</td>\n",
              "    </tr>\n",
              "    <tr>\n",
              "      <th>19275</th>\n",
              "      <td>closed</td>\n",
              "      <td>yesterday</td>\n",
              "      <td>at</td>\n",
              "      <td>$</td>\n",
              "      <td>v</td>\n",
              "    </tr>\n",
              "    <tr>\n",
              "      <th>19279</th>\n",
              "      <td>buy</td>\n",
              "      <td>company</td>\n",
              "      <td>for</td>\n",
              "      <td>$</td>\n",
              "      <td>v</td>\n",
              "    </tr>\n",
              "    <tr>\n",
              "      <th>19343</th>\n",
              "      <td>had</td>\n",
              "      <td>revenue</td>\n",
              "      <td>of</td>\n",
              "      <td>$</td>\n",
              "      <td>n</td>\n",
              "    </tr>\n",
              "    <tr>\n",
              "      <th>19344</th>\n",
              "      <td>closed</td>\n",
              "      <td>yesterday</td>\n",
              "      <td>at</td>\n",
              "      <td>$</td>\n",
              "      <td>v</td>\n",
              "    </tr>\n",
              "    <tr>\n",
              "      <th>19371</th>\n",
              "      <td>'s</td>\n",
              "      <td>difference</td>\n",
              "      <td>of</td>\n",
              "      <td>$</td>\n",
              "      <td>n</td>\n",
              "    </tr>\n",
              "  </tbody>\n",
              "</table>\n",
              "<p>1227 rows × 5 columns</p>\n",
              "</div>\n",
              "      <button class=\"colab-df-convert\" onclick=\"convertToInteractive('df-678a1e9a-5e5f-453e-8278-6948442be42b')\"\n",
              "              title=\"Convert this dataframe to an interactive table.\"\n",
              "              style=\"display:none;\">\n",
              "        \n",
              "  <svg xmlns=\"http://www.w3.org/2000/svg\" height=\"24px\"viewBox=\"0 0 24 24\"\n",
              "       width=\"24px\">\n",
              "    <path d=\"M0 0h24v24H0V0z\" fill=\"none\"/>\n",
              "    <path d=\"M18.56 5.44l.94 2.06.94-2.06 2.06-.94-2.06-.94-.94-2.06-.94 2.06-2.06.94zm-11 1L8.5 8.5l.94-2.06 2.06-.94-2.06-.94L8.5 2.5l-.94 2.06-2.06.94zm10 10l.94 2.06.94-2.06 2.06-.94-2.06-.94-.94-2.06-.94 2.06-2.06.94z\"/><path d=\"M17.41 7.96l-1.37-1.37c-.4-.4-.92-.59-1.43-.59-.52 0-1.04.2-1.43.59L10.3 9.45l-7.72 7.72c-.78.78-.78 2.05 0 2.83L4 21.41c.39.39.9.59 1.41.59.51 0 1.02-.2 1.41-.59l7.78-7.78 2.81-2.81c.8-.78.8-2.07 0-2.86zM5.41 20L4 18.59l7.72-7.72 1.47 1.35L5.41 20z\"/>\n",
              "  </svg>\n",
              "      </button>\n",
              "      \n",
              "  <style>\n",
              "    .colab-df-container {\n",
              "      display:flex;\n",
              "      flex-wrap:wrap;\n",
              "      gap: 12px;\n",
              "    }\n",
              "\n",
              "    .colab-df-convert {\n",
              "      background-color: #E8F0FE;\n",
              "      border: none;\n",
              "      border-radius: 50%;\n",
              "      cursor: pointer;\n",
              "      display: none;\n",
              "      fill: #1967D2;\n",
              "      height: 32px;\n",
              "      padding: 0 0 0 0;\n",
              "      width: 32px;\n",
              "    }\n",
              "\n",
              "    .colab-df-convert:hover {\n",
              "      background-color: #E2EBFA;\n",
              "      box-shadow: 0px 1px 2px rgba(60, 64, 67, 0.3), 0px 1px 3px 1px rgba(60, 64, 67, 0.15);\n",
              "      fill: #174EA6;\n",
              "    }\n",
              "\n",
              "    [theme=dark] .colab-df-convert {\n",
              "      background-color: #3B4455;\n",
              "      fill: #D2E3FC;\n",
              "    }\n",
              "\n",
              "    [theme=dark] .colab-df-convert:hover {\n",
              "      background-color: #434B5C;\n",
              "      box-shadow: 0px 1px 3px 1px rgba(0, 0, 0, 0.15);\n",
              "      filter: drop-shadow(0px 1px 2px rgba(0, 0, 0, 0.3));\n",
              "      fill: #FFFFFF;\n",
              "    }\n",
              "  </style>\n",
              "\n",
              "      <script>\n",
              "        const buttonEl =\n",
              "          document.querySelector('#df-678a1e9a-5e5f-453e-8278-6948442be42b button.colab-df-convert');\n",
              "        buttonEl.style.display =\n",
              "          google.colab.kernel.accessAllowed ? 'block' : 'none';\n",
              "\n",
              "        async function convertToInteractive(key) {\n",
              "          const element = document.querySelector('#df-678a1e9a-5e5f-453e-8278-6948442be42b');\n",
              "          const dataTable =\n",
              "            await google.colab.kernel.invokeFunction('convertToInteractive',\n",
              "                                                     [key], {});\n",
              "          if (!dataTable) return;\n",
              "\n",
              "          const docLinkHtml = 'Like what you see? Visit the ' +\n",
              "            '<a target=\"_blank\" href=https://colab.research.google.com/notebooks/data_table.ipynb>data table notebook</a>'\n",
              "            + ' to learn more about interactive tables.';\n",
              "          element.innerHTML = '';\n",
              "          dataTable['output_type'] = 'display_data';\n",
              "          await google.colab.output.renderOutput(dataTable, element);\n",
              "          const docLink = document.createElement('div');\n",
              "          docLink.innerHTML = docLinkHtml;\n",
              "          element.appendChild(docLink);\n",
              "        }\n",
              "      </script>\n",
              "    </div>\n",
              "  </div>\n",
              "  "
            ]
          },
          "metadata": {},
          "execution_count": 43
        }
      ]
    },
    {
      "cell_type": "code",
      "source": [
        "df[df['n2']=='$']['target'].value_counts()"
      ],
      "metadata": {
        "colab": {
          "base_uri": "https://localhost:8080/"
        },
        "id": "T4YgUDbZ0O4w",
        "outputId": "cd2cb02d-ec43-4c1d-fc88-3f5b92452dc1"
      },
      "execution_count": 44,
      "outputs": [
        {
          "output_type": "execute_result",
          "data": {
            "text/plain": [
              "v    781\n",
              "n    446\n",
              "Name: target, dtype: int64"
            ]
          },
          "metadata": {},
          "execution_count": 44
        }
      ]
    },
    {
      "cell_type": "code",
      "source": [
        "df[df['n2']=='$']['target'].value_counts()"
      ],
      "metadata": {
        "colab": {
          "base_uri": "https://localhost:8080/"
        },
        "id": "40thb8tN5yoc",
        "outputId": "a946b40c-4d43-4605-a9d6-e810ee28f9a0"
      },
      "execution_count": 45,
      "outputs": [
        {
          "output_type": "execute_result",
          "data": {
            "text/plain": [
              "v    781\n",
              "n    446\n",
              "Name: target, dtype: int64"
            ]
          },
          "metadata": {},
          "execution_count": 45
        }
      ]
    },
    {
      "cell_type": "code",
      "source": [
        "df[df['n2']=='years']['target'].value_counts()"
      ],
      "metadata": {
        "colab": {
          "base_uri": "https://localhost:8080/"
        },
        "id": "wJEp665Q4J9E",
        "outputId": "0cc1b420-13a0-43c9-d5f4-87bdee2ab926"
      },
      "execution_count": 46,
      "outputs": [
        {
          "output_type": "execute_result",
          "data": {
            "text/plain": [
              "v    134\n",
              "n     43\n",
              "Name: target, dtype: int64"
            ]
          },
          "metadata": {},
          "execution_count": 46
        }
      ]
    },
    {
      "cell_type": "code",
      "source": [
        "df[df['n2']=='year']['target'].value_counts()"
      ],
      "metadata": {
        "colab": {
          "base_uri": "https://localhost:8080/"
        },
        "id": "lHl65ds54SZ2",
        "outputId": "84b8fd2f-b868-4596-b587-e56bf886392e"
      },
      "execution_count": 47,
      "outputs": [
        {
          "output_type": "execute_result",
          "data": {
            "text/plain": [
              "v    76\n",
              "n    58\n",
              "Name: target, dtype: int64"
            ]
          },
          "metadata": {},
          "execution_count": 47
        }
      ]
    },
    {
      "cell_type": "code",
      "source": [
        "df[df['n2']=='months']['target'].value_counts()"
      ],
      "metadata": {
        "colab": {
          "base_uri": "https://localhost:8080/"
        },
        "id": "pc4F5U2c6cUo",
        "outputId": "4d12b8db-be07-42c4-f7cd-31027d2a2f56"
      },
      "execution_count": 48,
      "outputs": [
        {
          "output_type": "execute_result",
          "data": {
            "text/plain": [
              "v    74\n",
              "n    27\n",
              "Name: target, dtype: int64"
            ]
          },
          "metadata": {},
          "execution_count": 48
        }
      ]
    },
    {
      "cell_type": "code",
      "source": [
        "df[df['n2']=='month']['target'].value_counts()"
      ],
      "metadata": {
        "colab": {
          "base_uri": "https://localhost:8080/"
        },
        "id": "jhQmE5Nn588j",
        "outputId": "93e876c1-07f7-4b75-e765-c535b5c11586"
      },
      "execution_count": 49,
      "outputs": [
        {
          "output_type": "execute_result",
          "data": {
            "text/plain": [
              "v    14\n",
              "n     5\n",
              "Name: target, dtype: int64"
            ]
          },
          "metadata": {},
          "execution_count": 49
        }
      ]
    },
    {
      "cell_type": "markdown",
      "source": [
        "It seems that many of the nouns appear in singular/pluarl forms, and in some cases both forms actually lead to the same result distribution. "
      ],
      "metadata": {
        "id": "eA-F5Dli4_Wd"
      }
    },
    {
      "cell_type": "markdown",
      "source": [
        "## On Generating N-Grams"
      ],
      "metadata": {
        "id": "Fe0J8DNxo7jG"
      }
    },
    {
      "cell_type": "code",
      "source": [
        "from sklearn.feature_extraction.text import CountVectorizer"
      ],
      "metadata": {
        "id": "hlZdaoi-TEXh"
      },
      "execution_count": 50,
      "outputs": []
    },
    {
      "cell_type": "markdown",
      "source": [
        "The input of *any* machine learning model must be numerical. Since words (nor characters) aren’t numbers, we have to work a bit to convert them into a numerical representation.\n",
        "\n",
        "Such a numerical representation is also called a vector (a fancy name for a list of numbers…). A common way to achieve such vector is to perform measurements on the text (as we discussed in the first sessions – performing measurement on an apple). \n",
        "\n",
        "Such features could be the identity of a single word, given as an index number, or its frequency in a corpus or in the sentence, or TF-IDF on a corpus. Features can also be a composition of multiple words together (e.g., only the verb and the preposition), with the same or other techniques. This is also called an **n-gram**. \n",
        "\n",
        "One way to vectorize text is using that count transformer ([CountVectorizer](https://scikit-learn.org/stable/modules/generated/sklearn.feature_extraction.text.CountVectorizer.html)) from scikit-learn. These vectorizers work in two part: \n",
        "*\tFirst they learn ([fit](https://scikit-learn.org/stable/modules/generated/sklearn.feature_extraction.text.CountVectorizer.html#sklearn.feature_extraction.text.CountVectorizer.fit)) from some input data. In the case of CountVectorizer, it expects a list of sentences (a corpus) to learn from. It will then learn how many different words (types) the corpus contains, and will build a vocabulary for those words: each word will get an index number. It also cleans up the text from stop words and punctuation, and you could even ask it to learn representations of n-grams, instead of single words (a parameter of the CountVectorizer itself).\n",
        "*\tAfter learning the size of the vocabulary, it can transform any list of text into a vectorized representation. Given a list of new text inputs, sentences in different lengths (also the list itself can be any length – for example, it can be made of a single sentence, but it has to be a list), the [transform](https://scikit-learn.org/stable/modules/generated/sklearn.feature_extraction.text.CountVectorizer.html#sklearn.feature_extraction.text.CountVectorizer.transform) method will return a vector representation in the size of the learned vocabulary, where every position represent a specific word (a type) from the learned corpus. The value on that position is the number of occurrences of that word in that given sentence. Piling up these three vectors, one on top of the other, would yield a matrix (a table / excel sheet of numbers), where every column represent a specific word in our vocabulary.\n",
        "*\t`X_transformed = vectorizer.fit_transform(X)` ▶ [fit_transform](https://scikit-learn.org/stable/modules/generated/sklearn.feature_extraction.text.CountVectorizer.html#sklearn.feature_extraction.text.CountVectorizer.fit_transform) is a method that does both parts (fitting – counting the vocabulary types, and then converting that input text into the vector or even a matrix if there are more than one string) in one go.\n",
        "*\tThe result of the CountVectorizer is indeed a (sparse) matrix in a form of scipy’s scr_matrix. To convert it into an array, you can call its method “toarray()”:\n"
      ],
      "metadata": {
        "id": "GoJDQ5BjRD1b"
      }
    },
    {
      "cell_type": "code",
      "source": [
        "# to use the CountVectorizer, we must convert the tuples into \"full\" sentences;\n",
        "joined_sentences = [' '.join(example['keywords']) for example in train_examples[:10]]\n",
        "joined_sentences"
      ],
      "metadata": {
        "colab": {
          "base_uri": "https://localhost:8080/"
        },
        "id": "I5b1E6xMTGQM",
        "outputId": "5d3c5982-f273-4bce-fb69-7a3d72c51e77"
      },
      "execution_count": 51,
      "outputs": [
        {
          "output_type": "execute_result",
          "data": {
            "text/plain": [
              "['creating obstacle to sale',\n",
              " 'restrict RTC to borrowings',\n",
              " 'maintain assets of thrifts',\n",
              " 'leaving spending for bailout',\n",
              " 'leaving spending at $',\n",
              " 'including interest over years',\n",
              " 'subtracting value of assets',\n",
              " 'say opponents of plan',\n",
              " 'pay price of consultation',\n",
              " 'want kind of flexibility']"
            ]
          },
          "metadata": {},
          "execution_count": 51
        }
      ]
    },
    {
      "cell_type": "code",
      "source": [
        "# CountVectorizer would, by default, tokenize the sentence through spaces \n",
        "# and collect a vocabulary from all the different words it finds:\n",
        "vect = CountVectorizer()\n",
        "vect.fit(joined_sentences)\n",
        "print(f\"vocabulary size: {len(vect.vocabulary_)}\")\n",
        "vect.get_feature_names_out()"
      ],
      "metadata": {
        "colab": {
          "base_uri": "https://localhost:8080/"
        },
        "id": "RDZ6jlsOUKli",
        "outputId": "bb3ba0c0-176e-44c1-b9d3-30e35d9a0fce"
      },
      "execution_count": 52,
      "outputs": [
        {
          "output_type": "stream",
          "name": "stdout",
          "text": [
            "vocabulary size: 31\n"
          ]
        },
        {
          "output_type": "execute_result",
          "data": {
            "text/plain": [
              "array(['assets', 'at', 'bailout', 'borrowings', 'consultation',\n",
              "       'creating', 'flexibility', 'for', 'including', 'interest', 'kind',\n",
              "       'leaving', 'maintain', 'obstacle', 'of', 'opponents', 'over',\n",
              "       'pay', 'plan', 'price', 'restrict', 'rtc', 'sale', 'say',\n",
              "       'spending', 'subtracting', 'thrifts', 'to', 'value', 'want',\n",
              "       'years'], dtype=object)"
            ]
          },
          "metadata": {},
          "execution_count": 52
        }
      ]
    },
    {
      "cell_type": "code",
      "source": [
        "# We can use it to generate n-grams sized 1 (unigram) to 4:\n",
        "vect = CountVectorizer(ngram_range=(1, 4))\n",
        "vect.fit(joined_sentences)\n",
        "print(f\"vocabulary size: {len(vect.vocabulary_)}\")\n",
        "vect.get_feature_names_out()"
      ],
      "metadata": {
        "colab": {
          "base_uri": "https://localhost:8080/"
        },
        "id": "mblLZq88UBGZ",
        "outputId": "ffa5690d-093b-4e4d-e54b-6b81ff711504"
      },
      "execution_count": 53,
      "outputs": [
        {
          "output_type": "stream",
          "name": "stdout",
          "text": [
            "vocabulary size: 87\n"
          ]
        },
        {
          "output_type": "execute_result",
          "data": {
            "text/plain": [
              "array(['assets', 'assets of', 'assets of thrifts', 'at', 'bailout',\n",
              "       'borrowings', 'consultation', 'creating', 'creating obstacle',\n",
              "       'creating obstacle to', 'creating obstacle to sale', 'flexibility',\n",
              "       'for', 'for bailout', 'including', 'including interest',\n",
              "       'including interest over', 'including interest over years',\n",
              "       'interest', 'interest over', 'interest over years', 'kind',\n",
              "       'kind of', 'kind of flexibility', 'leaving', 'leaving spending',\n",
              "       'leaving spending at', 'leaving spending for',\n",
              "       'leaving spending for bailout', 'maintain', 'maintain assets',\n",
              "       'maintain assets of', 'maintain assets of thrifts', 'obstacle',\n",
              "       'obstacle to', 'obstacle to sale', 'of', 'of assets',\n",
              "       'of consultation', 'of flexibility', 'of plan', 'of thrifts',\n",
              "       'opponents', 'opponents of', 'opponents of plan', 'over',\n",
              "       'over years', 'pay', 'pay price', 'pay price of',\n",
              "       'pay price of consultation', 'plan', 'price', 'price of',\n",
              "       'price of consultation', 'restrict', 'restrict rtc',\n",
              "       'restrict rtc to', 'restrict rtc to borrowings', 'rtc', 'rtc to',\n",
              "       'rtc to borrowings', 'sale', 'say', 'say opponents',\n",
              "       'say opponents of', 'say opponents of plan', 'spending',\n",
              "       'spending at', 'spending for', 'spending for bailout',\n",
              "       'subtracting', 'subtracting value', 'subtracting value of',\n",
              "       'subtracting value of assets', 'thrifts', 'to', 'to borrowings',\n",
              "       'to sale', 'value', 'value of', 'value of assets', 'want',\n",
              "       'want kind', 'want kind of', 'want kind of flexibility', 'years'],\n",
              "      dtype=object)"
            ]
          },
          "metadata": {},
          "execution_count": 53
        }
      ]
    },
    {
      "cell_type": "markdown",
      "source": [
        "These n-grams follow the sentence structure. We would like to also have combinations of words which are not near each other in the sentence, such as `(v, p)`\n",
        "\n",
        "How can we achieve that?"
      ],
      "metadata": {
        "id": "zLMy-mrTL0Vr"
      }
    },
    {
      "cell_type": "code",
      "source": [
        "# Getting the missing n-grams can be done in one of two ways.\n",
        "# One way is to synthetically generate the pairs, then add them all up into \n",
        "# one corpus.\n",
        "\n",
        "keywords_list = [example['keywords'] for example in train_examples[:10]]\n",
        "sentence_list = [\" \".join(tpl) for tpl in keywords_list]\n",
        "print(sentence_list)\n",
        "\n",
        "additional_ngrams_1 = [' '.join((tuple_item[0], tuple_item[2], tuple_item[3])) for tuple_item in keywords_list]\n",
        "print(additional_ngrams_1)\n",
        "additional_ngrams_2 = [' '.join((tuple_item[0], tuple_item[3])) for tuple_item in keywords_list]\n",
        "print(additional_ngrams_2)\n",
        "additional_ngrams_3 = [' '.join((tuple_item[1], tuple_item[3])) for tuple_item in keywords_list]\n",
        "print(additional_ngrams_3)\n",
        "\n",
        "corpus = additional_ngrams_1 + additional_ngrams_2 + additional_ngrams_3 + [\" \".join(tpl) for tpl in keywords_list]\n",
        "\n",
        "vect = CountVectorizer(ngram_range=(1, 4))\n",
        "vect.fit(corpus)\n",
        "print(f\"vocabulary size (ngrams): {len(vect.vocabulary_)}\")\n",
        "ngrams = vect.get_feature_names_out()\n",
        "\n",
        "# test with \"creating obstacle to sale\"\n",
        "assert \"creating\" in ngrams\n",
        "assert \"obstacle\" in ngrams\n",
        "assert \"to\" in ngrams\n",
        "assert \"sale\" in ngrams\n",
        "\n",
        "assert \"creating obstacle\" in ngrams\n",
        "assert \"creating to\" in ngrams\n",
        "assert \"creating sale\" in ngrams \n",
        "assert \"obstacle to\"  in ngrams\n",
        "assert \"obstacle sale\" in ngrams\n",
        "assert \"to sale\"  in ngrams\n",
        "\n",
        "assert \"obstacle to sale\"  in ngrams\n",
        "assert \"creating obstacle to\" in ngrams\n",
        "# assert set(\"creating obstacle sale\".split(\" \")) in (set(ng.split(\" \")) for ng in ngrams) # <-- will fail since it is not in the dataset\n",
        "# (but since it contains no preposition - we're ok with that!)\n",
        "\n",
        "ngrams"
      ],
      "metadata": {
        "colab": {
          "base_uri": "https://localhost:8080/"
        },
        "id": "0YSmHFiPm1hU",
        "outputId": "67744d7f-2655-4a45-f3b2-6992c35cec55"
      },
      "execution_count": 126,
      "outputs": [
        {
          "output_type": "stream",
          "name": "stdout",
          "text": [
            "['creating obstacle to sale', 'restrict RTC to borrowings', 'maintain assets of thrifts', 'leaving spending for bailout', 'leaving spending at $', 'including interest over years', 'subtracting value of assets', 'say opponents of plan', 'pay price of consultation', 'want kind of flexibility']\n",
            "['creating to sale', 'restrict to borrowings', 'maintain of thrifts', 'leaving for bailout', 'leaving at $', 'including over years', 'subtracting of assets', 'say of plan', 'pay of consultation', 'want of flexibility']\n",
            "['creating sale', 'restrict borrowings', 'maintain thrifts', 'leaving bailout', 'leaving $', 'including years', 'subtracting assets', 'say plan', 'pay consultation', 'want flexibility']\n",
            "['obstacle sale', 'RTC borrowings', 'assets thrifts', 'spending bailout', 'spending $', 'interest years', 'value assets', 'opponents plan', 'price consultation', 'kind flexibility']\n",
            "vocabulary size (ngrams): 124\n"
          ]
        },
        {
          "output_type": "execute_result",
          "data": {
            "text/plain": [
              "array(['assets', 'assets of', 'assets of thrifts', 'assets thrifts', 'at',\n",
              "       'bailout', 'borrowings', 'consultation', 'creating',\n",
              "       'creating obstacle', 'creating obstacle to',\n",
              "       'creating obstacle to sale', 'creating sale', 'creating to',\n",
              "       'creating to sale', 'flexibility', 'for', 'for bailout',\n",
              "       'including', 'including interest', 'including interest over',\n",
              "       'including interest over years', 'including over',\n",
              "       'including over years', 'including years', 'interest',\n",
              "       'interest over', 'interest over years', 'interest years', 'kind',\n",
              "       'kind flexibility', 'kind of', 'kind of flexibility', 'leaving',\n",
              "       'leaving at', 'leaving bailout', 'leaving for',\n",
              "       'leaving for bailout', 'leaving spending', 'leaving spending at',\n",
              "       'leaving spending for', 'leaving spending for bailout', 'maintain',\n",
              "       'maintain assets', 'maintain assets of',\n",
              "       'maintain assets of thrifts', 'maintain of', 'maintain of thrifts',\n",
              "       'maintain thrifts', 'obstacle', 'obstacle sale', 'obstacle to',\n",
              "       'obstacle to sale', 'of', 'of assets', 'of consultation',\n",
              "       'of flexibility', 'of plan', 'of thrifts', 'opponents',\n",
              "       'opponents of', 'opponents of plan', 'opponents plan', 'over',\n",
              "       'over years', 'pay', 'pay consultation', 'pay of',\n",
              "       'pay of consultation', 'pay price', 'pay price of',\n",
              "       'pay price of consultation', 'plan', 'price', 'price consultation',\n",
              "       'price of', 'price of consultation', 'restrict',\n",
              "       'restrict borrowings', 'restrict rtc', 'restrict rtc to',\n",
              "       'restrict rtc to borrowings', 'restrict to',\n",
              "       'restrict to borrowings', 'rtc', 'rtc borrowings', 'rtc to',\n",
              "       'rtc to borrowings', 'sale', 'say', 'say of', 'say of plan',\n",
              "       'say opponents', 'say opponents of', 'say opponents of plan',\n",
              "       'say plan', 'spending', 'spending at', 'spending bailout',\n",
              "       'spending for', 'spending for bailout', 'subtracting',\n",
              "       'subtracting assets', 'subtracting of', 'subtracting of assets',\n",
              "       'subtracting value', 'subtracting value of',\n",
              "       'subtracting value of assets', 'thrifts', 'to', 'to borrowings',\n",
              "       'to sale', 'value', 'value assets', 'value of', 'value of assets',\n",
              "       'want', 'want flexibility', 'want kind', 'want kind of',\n",
              "       'want kind of flexibility', 'want of', 'want of flexibility',\n",
              "       'years'], dtype=object)"
            ]
          },
          "metadata": {},
          "execution_count": 126
        }
      ]
    },
    {
      "cell_type": "markdown",
      "source": [
        "The other way requires a bit of a hack to the sentences, appending the words at the end of the sentence to generate additional pairs.\n",
        "\n",
        "To get the pairs `(v, p)`, `(v, p, n2)` from `(v, n1, p, n2)` we need to generate\n",
        "```(v, n1, p, n2, v, p)```\n",
        "\n",
        "Getting the missing n-grams requires a bit of a hack to the sentences.\n",
        "Here we will get the pairs `(v, p)`, `(v, p, n2)`"
      ],
      "metadata": {
        "id": "rmFuH3m5Pya7"
      }
    },
    {
      "cell_type": "code",
      "source": [
        "# To get the pairs (v, p), (v, p, n2) from (v, n1, p, n2) we need to generate a sentence like:\n",
        "# (v, n1, p, n2, v, p, n1, n2)\n",
        "# This would cover the following bi-grams:\n",
        "# (v, n1), (n1, p), (p, n2), (n2, v), (v, p), \n",
        "# and the following trigrams:\n",
        "# (v, n1, p), (n1, p, n2), (p, n2, v), and also (n2, v, p) which is kinda like \n",
        "# the previous one...\n",
        "# and the 4-grams - which are again, all the same for us.\n",
        "\n",
        "\n",
        "# isolating the keywords from the train_examples\n",
        "keywords_list = [example['keywords'] for example in train_examples[:10]]\n",
        "# generating n-grams artificially by reordering the words:\n",
        "additional_ngrams = [' '.join((tuple_item[0], tuple_item[2], tuple_item[3], tuple_item[1])) for tuple_item in keywords_list]\n",
        "\n",
        "# putting both together\n",
        "corpus = [sentence + \" \" + ngrams for sentence, ngrams in zip(joined_sentences, additional_ngrams)]\n",
        "print(corpus)\n",
        "\n",
        "vect = CountVectorizer(ngram_range=(1, 4))\n",
        "vect.fit(corpus)\n",
        "print(len(vect.vocabulary_))\n",
        "\n",
        "ngrams = vect.get_feature_names_out()\n",
        "# test with \"creating obstacle to sale\"\n",
        "assert \"creating\" in ngrams\n",
        "assert \"obstacle\" in ngrams\n",
        "assert \"to\" in ngrams\n",
        "assert \"sale\" in ngrams\n",
        "\n",
        "assert \"creating obstacle\" in ngrams\n",
        "assert \"creating to\" in ngrams\n",
        "# assert \"creating sale\" in ngrams # <-- this would fail - but we  have \"sale creating\" intead\n",
        "assert \"sale creating\" in ngrams\n",
        "assert \"obstacle to\"  in ngrams\n",
        "assert \"sale obstacle\" in ngrams\n",
        "assert \"to sale\"  in ngrams\n",
        "assert \"obstacle to sale\"  in ngrams\n",
        "assert \"creating obstacle to\" in ngrams\n",
        "# assert set(\"creating obstacle sale\".split(\" \")) in (set(ng.split(\" \")) for ng in ngrams) # <-- will fail since not in the dataset\n",
        "# (but since it contains no preposition - we're ok with that!)\n",
        "\n",
        "ngrams"
      ],
      "metadata": {
        "colab": {
          "base_uri": "https://localhost:8080/"
        },
        "id": "4XFWQ2xFUSj-",
        "outputId": "2981448b-2d14-4701-b9aa-af9b29a7dcb1"
      },
      "execution_count": 134,
      "outputs": [
        {
          "output_type": "stream",
          "name": "stdout",
          "text": [
            "['creating obstacle to sale creating to sale obstacle', 'restrict RTC to borrowings restrict to borrowings RTC', 'maintain assets of thrifts maintain of thrifts assets', 'leaving spending for bailout leaving for bailout spending', 'leaving spending at $ leaving at $ spending', 'including interest over years including over years interest', 'subtracting value of assets subtracting of assets value', 'say opponents of plan say of plan opponents', 'pay price of consultation pay of consultation price', 'want kind of flexibility want of flexibility kind']\n",
            "195\n"
          ]
        },
        {
          "output_type": "execute_result",
          "data": {
            "text/plain": [
              "array(['assets', 'assets of', 'assets of thrifts',\n",
              "       'assets of thrifts maintain', 'assets subtracting',\n",
              "       'assets subtracting of', 'assets subtracting of assets',\n",
              "       'assets value', 'at', 'at leaving', 'at leaving at',\n",
              "       'at leaving at spending', 'at spending', 'bailout',\n",
              "       'bailout leaving', 'bailout leaving for',\n",
              "       'bailout leaving for bailout', 'bailout spending', 'borrowings',\n",
              "       'borrowings restrict', 'borrowings restrict to',\n",
              "       'borrowings restrict to borrowings', 'borrowings rtc',\n",
              "       'consultation', 'consultation pay', 'consultation pay of',\n",
              "       'consultation pay of consultation', 'consultation price',\n",
              "       'creating', 'creating obstacle', 'creating obstacle to',\n",
              "       'creating obstacle to sale', 'creating to', 'creating to sale',\n",
              "       'creating to sale obstacle', 'flexibility', 'flexibility kind',\n",
              "       'flexibility want', 'flexibility want of',\n",
              "       'flexibility want of flexibility', 'for', 'for bailout',\n",
              "       'for bailout leaving', 'for bailout leaving for',\n",
              "       'for bailout spending', 'including', 'including interest',\n",
              "       'including interest over', 'including interest over years',\n",
              "       'including over', 'including over years',\n",
              "       'including over years interest', 'interest', 'interest over',\n",
              "       'interest over years', 'interest over years including', 'kind',\n",
              "       'kind of', 'kind of flexibility', 'kind of flexibility want',\n",
              "       'leaving', 'leaving at', 'leaving at spending', 'leaving for',\n",
              "       'leaving for bailout', 'leaving for bailout spending',\n",
              "       'leaving spending', 'leaving spending at',\n",
              "       'leaving spending at leaving', 'leaving spending for',\n",
              "       'leaving spending for bailout', 'maintain', 'maintain assets',\n",
              "       'maintain assets of', 'maintain assets of thrifts', 'maintain of',\n",
              "       'maintain of thrifts', 'maintain of thrifts assets', 'obstacle',\n",
              "       'obstacle to', 'obstacle to sale', 'obstacle to sale creating',\n",
              "       'of', 'of assets', 'of assets subtracting',\n",
              "       'of assets subtracting of', 'of assets value', 'of consultation',\n",
              "       'of consultation pay', 'of consultation pay of',\n",
              "       'of consultation price', 'of flexibility', 'of flexibility kind',\n",
              "       'of flexibility want', 'of flexibility want of', 'of plan',\n",
              "       'of plan opponents', 'of plan say', 'of plan say of', 'of thrifts',\n",
              "       'of thrifts assets', 'of thrifts maintain',\n",
              "       'of thrifts maintain of', 'opponents', 'opponents of',\n",
              "       'opponents of plan', 'opponents of plan say', 'over', 'over years',\n",
              "       'over years including', 'over years including over',\n",
              "       'over years interest', 'pay', 'pay of', 'pay of consultation',\n",
              "       'pay of consultation price', 'pay price', 'pay price of',\n",
              "       'pay price of consultation', 'plan', 'plan opponents', 'plan say',\n",
              "       'plan say of', 'plan say of plan', 'price', 'price of',\n",
              "       'price of consultation', 'price of consultation pay', 'restrict',\n",
              "       'restrict rtc', 'restrict rtc to', 'restrict rtc to borrowings',\n",
              "       'restrict to', 'restrict to borrowings',\n",
              "       'restrict to borrowings rtc', 'rtc', 'rtc to', 'rtc to borrowings',\n",
              "       'rtc to borrowings restrict', 'sale', 'sale creating',\n",
              "       'sale creating to', 'sale creating to sale', 'sale obstacle',\n",
              "       'say', 'say of', 'say of plan', 'say of plan opponents',\n",
              "       'say opponents', 'say opponents of', 'say opponents of plan',\n",
              "       'spending', 'spending at', 'spending at leaving',\n",
              "       'spending at leaving at', 'spending for', 'spending for bailout',\n",
              "       'spending for bailout leaving', 'subtracting', 'subtracting of',\n",
              "       'subtracting of assets', 'subtracting of assets value',\n",
              "       'subtracting value', 'subtracting value of',\n",
              "       'subtracting value of assets', 'thrifts', 'thrifts assets',\n",
              "       'thrifts maintain', 'thrifts maintain of',\n",
              "       'thrifts maintain of thrifts', 'to', 'to borrowings',\n",
              "       'to borrowings restrict', 'to borrowings restrict to',\n",
              "       'to borrowings rtc', 'to sale', 'to sale creating',\n",
              "       'to sale creating to', 'to sale obstacle', 'value', 'value of',\n",
              "       'value of assets', 'value of assets subtracting', 'want',\n",
              "       'want kind', 'want kind of', 'want kind of flexibility', 'want of',\n",
              "       'want of flexibility', 'want of flexibility kind', 'years',\n",
              "       'years including', 'years including over',\n",
              "       'years including over years', 'years interest'], dtype=object)"
            ]
          },
          "metadata": {},
          "execution_count": 134
        }
      ]
    },
    {
      "cell_type": "code",
      "source": [
        "# about zip - it combines two same-length lists together, so that we can \n",
        "# loop on both simultanously:\n",
        "[(a, b) for a, b in zip(range(5), range(10,15))]"
      ],
      "metadata": {
        "colab": {
          "base_uri": "https://localhost:8080/"
        },
        "id": "N0TdKkGWV3_S",
        "outputId": "13d6d690-da88-4780-81b0-5126d0f8a3fa"
      },
      "execution_count": 86,
      "outputs": [
        {
          "output_type": "execute_result",
          "data": {
            "text/plain": [
              "[(0, 10), (1, 11), (2, 12), (3, 13), (4, 14)]"
            ]
          },
          "metadata": {},
          "execution_count": 86
        }
      ]
    },
    {
      "cell_type": "markdown",
      "source": [
        "### On plotting multidimensional data\n",
        "\n",
        "Our data is multidimensional. Every sentence have many words (more than 2 or 3), which makes it hard to visualize and plot all the data.\n",
        "\n",
        "To overcome it, there are set of tools that use unsupervised machine learning to reduce the dimensionality of the data.\n",
        "\n",
        "Examples for such tools are:\n",
        "- Principle Component Analysis ([PCA](https://scikit-learn.org/stable/modules/generated/sklearn.decomposition.PCA.html)) and its partner for sparsed matrices:\n",
        "- Singular Value Decomposition ([TruncatedSVD](https://scikit-learn.org/stable/modules/generated/sklearn.decomposition.TruncatedSVD.html)) \n",
        "- T-distributed Stochastic Neighbor Embedding ([T-SNE](https://scikit-learn.org/stable/modules/generated/sklearn.manifold.TSNE.html) for short)\n",
        "- [U-MAP](https://umap-learn.readthedocs.io/en/latest/): Uniform Manifold Approximation and Projection for Dimension Reduction\n",
        "- [PyMDE](https://pymde.org/index.html): Minimum-Distortion Embedding\n",
        "\n",
        "We will use a simple one to visualize our data"
      ],
      "metadata": {
        "id": "d8OXi7zYYH2t"
      }
    },
    {
      "cell_type": "code",
      "source": [
        "import matplotlib.pyplot as plt\n",
        "from sklearn.decomposition import TruncatedSVD #, an alternative to PCA for sparsed matrices\n",
        "\n",
        "# we use the answers as the color: Green for 'V', Blue for 'N'\n",
        "answers = ['#00FF00' if example['answer']=='V' else '#0000FF' for example in train_examples]\n",
        "\n",
        "# We convert our sentences into vectorized representation\n",
        "joined_sentences = [' '.join(example['keywords']) for example in train_examples]\n",
        "keywords_list = [example['keywords'] for example in train_examples]\n",
        "additional_ngrams = [' '.join((tuple_item[0], tuple_item[2], tuple_item[3], tuple_item[1])) for tuple_item in keywords_list]\n",
        "corpus = [sentence + \" \" + ngrams for sentence, ngrams in zip(joined_sentences, additional_ngrams)]\n",
        "vect = CountVectorizer(ngram_range=(1, 4))\n",
        "sentence_mat = vect.fit_transform(corpus)\n",
        "\n",
        "# reduce them into 2-D\n",
        "svd = TruncatedSVD(n_components=2)\n",
        "svdfit = svd.fit_transform(sentence_mat)\n",
        "\n",
        "# And plot them\n",
        "plt.scatter(svdfit[:, 0], svdfit[:, 1], c=answers)"
      ],
      "metadata": {
        "id": "_-q3AqGSUs-i",
        "outputId": "5ff2ab8d-9283-4d02-92d6-4172e982691b",
        "colab": {
          "base_uri": "https://localhost:8080/",
          "height": 282
        }
      },
      "execution_count": 148,
      "outputs": [
        {
          "output_type": "execute_result",
          "data": {
            "text/plain": [
              "<matplotlib.collections.PathCollection at 0x7f147b2056d0>"
            ]
          },
          "metadata": {},
          "execution_count": 148
        },
        {
          "output_type": "display_data",
          "data": {
            "text/plain": [
              "<Figure size 432x288 with 1 Axes>"
            ],
            "image/png": "[encoded data removed]"
          },
          "metadata": {
            "needs_background": "light"
          }
        }
      ]
    },
    {
      "cell_type": "markdown",
      "source": [
        "## Machine Learning Experiments"
      ],
      "metadata": {
        "id": "H-N4-2i_Q9UP"
      }
    },
    {
      "cell_type": "markdown",
      "source": [
        "### Simple attempt with Naive Bayes"
      ],
      "metadata": {
        "id": "nyLIExQvxe2f"
      }
    },
    {
      "cell_type": "code",
      "source": [
        "from sklearn.naive_bayes import MultinomialNB"
      ],
      "metadata": {
        "id": "dKfRKbHQSePk"
      },
      "execution_count": 20,
      "outputs": []
    },
    {
      "cell_type": "code",
      "source": [
        "class NaiveBayesClassifier:\n",
        "  \"\"\"\n",
        "  This naive bayes clasifier is trained using a Multinomial Naive Bayes\n",
        "  \"\"\"\n",
        "  def __init__(self, training_examples: List):\n",
        "\n",
        "    # convert the data into lists (of sentences / of V/N chars)\n",
        "    X = [' '.join(example['keywords']) for example in training_examples]\n",
        "    y = [example['answer'] for example in training_examples]\n",
        "\n",
        "    # convert the text into numerical values.\n",
        "    self.vectorizer = CountVectorizer()\n",
        "\n",
        "    # fit_transforms fits the vectorizer on the test and converts it to vector\n",
        "    X_transformed = self.vectorizer.fit_transform(X)\n",
        "\n",
        "    # create a classifier and train it on the data\n",
        "    self.classifier = MultinomialNB()\n",
        "    self.classifier.fit(X_transformed, y)\n",
        "\n",
        "  def classify(self, pp: Tuple):\n",
        "    # converting the 4-words tuple into a sentnce, separated with spaces: \n",
        "    joined_sentence = \" \".join(pp)\n",
        "\n",
        "    # Vectorizing the sentence.\n",
        "    # The vectorizer accepts a list of sentences, even if we only have one...\n",
        "    vectorized_sentence = self.vectorizer.transform([joined_sentence])\n",
        "    \n",
        "    # classifying the vectorized sentence:\n",
        "    return self.classifier.predict(vectorized_sentence)\n",
        "\n",
        "evaluate_classifier(test_examples, NaiveBayesClassifier(train_examples))"
      ],
      "metadata": {
        "id": "FiPmz-nJJQ63",
        "colab": {
          "base_uri": "https://localhost:8080/"
        },
        "outputId": "9b7a0958-8f2a-4ca7-fb19-a1d5aa1794a1"
      },
      "execution_count": 50,
      "outputs": [
        {
          "output_type": "execute_result",
          "data": {
            "text/plain": [
              "0.794431554524362"
            ]
          },
          "metadata": {},
          "execution_count": 50
        }
      ]
    },
    {
      "cell_type": "markdown",
      "source": [
        "### Naive bayes with a bigger (brown) corpus"
      ],
      "metadata": {
        "id": "vOvDuoKb_rya"
      }
    },
    {
      "cell_type": "code",
      "source": [
        "import nltk\n",
        "from nltk.corpus import brown\n",
        "nltk.download('brown')"
      ],
      "metadata": {
        "colab": {
          "base_uri": "https://localhost:8080/"
        },
        "id": "WeIRkxgLSdB4",
        "outputId": "214d4e89-abe8-4ed0-9c73-634a81bc00eb"
      },
      "execution_count": 51,
      "outputs": [
        {
          "output_type": "stream",
          "name": "stderr",
          "text": [
            "[nltk_data] Downloading package brown to /root/nltk_data...\n",
            "[nltk_data]   Package brown is already up-to-date!\n"
          ]
        },
        {
          "output_type": "execute_result",
          "data": {
            "text/plain": [
              "True"
            ]
          },
          "metadata": {},
          "execution_count": 51
        }
      ]
    },
    {
      "cell_type": "code",
      "source": [
        "class NaiveBayesWithBrownTokenizerClassifier:\n",
        "  \"\"\"\n",
        "  This model fits the vectorizer on a bigger corpus (brown).\n",
        "  The clasifier is trained using a Multinomial Naive Bayes\n",
        "  \"\"\"\n",
        "  def __init__(self, training_examples: List):\n",
        "\n",
        "    # convert the data into lists (of sentences / of V/N chars)\n",
        "    X = [' '.join(example['keywords']) for example in training_examples]\n",
        "    y = [example['answer'] for example in training_examples]\n",
        "\n",
        "    # convert the text into numerical values. \n",
        "    self.vectorizer = CountVectorizer()\n",
        "    # fit the vectorizer on the brown corpus\n",
        "    corpus = [\" \".join(sent) for sent in brown.sents()]\n",
        "    self.vectorizer.fit(corpus)\n",
        "    \n",
        "    # use the vectorizer to transform the training data into to vector\n",
        "    X_transformed = self.vectorizer.transform(X)\n",
        "\n",
        "    # create a classifier and train it on the data\n",
        "    self.classifier = MultinomialNB()\n",
        "    self.classifier.fit(X_transformed, y)\n",
        "\n",
        "  def classify(self, pp: Tuple):\n",
        "    # converting the 4-words tuple into a sentnce, separated with spaces: \n",
        "    joined_sentence = \" \".join(pp)\n",
        "    \n",
        "    # Vectorizing the sentence.\n",
        "    # The vectorizer accepts a list of sentences, even if we only have one...\n",
        "    vectorized_sentence = self.vectorizer.transform([joined_sentence])\n",
        "    \n",
        "    # classifying the vectorized sentence:\n",
        "    return self.classifier.predict(vectorized_sentence)\n",
        "\n",
        "evaluate_classifier(test_examples, NaiveBayesWithBrownTokenizerClassifier(train_examples))"
      ],
      "metadata": {
        "colab": {
          "base_uri": "https://localhost:8080/"
        },
        "id": "VyuGNJcbxUsO",
        "outputId": "f49f8971-a4bd-40b1-93b4-fc2f3c956259"
      },
      "execution_count": 82,
      "outputs": [
        {
          "output_type": "execute_result",
          "data": {
            "text/plain": [
              "0.7921113689095127"
            ]
          },
          "metadata": {},
          "execution_count": 82
        }
      ]
    },
    {
      "cell_type": "markdown",
      "source": [
        "### Naive Bayes with n-grams"
      ],
      "metadata": {
        "id": "yIs1GsrhSkgw"
      }
    },
    {
      "cell_type": "code",
      "source": [
        "class NaiveBayesNGramClassifier:\n",
        "  \"\"\"\n",
        "  This naive bayes clasifier is trained using a Multinomial Naive Bayes.\n",
        "  It uses a simple trick of CountVectorizer to create also n-grams of \n",
        "  combinations from our 4 words.\n",
        "  \"\"\"\n",
        "  def __init__(self, training_examples: List):\n",
        "\n",
        "    # convert the data into lists (of sentences / of V/N chars)\n",
        "    X = [' '.join(example['keywords']) for example in training_examples]\n",
        "    y = [example['answer'] for example in training_examples]\n",
        "\n",
        "    # convert the text into numerical values, with ngrams sized 1 to 4:\n",
        "    self.vectorizer = CountVectorizer(ngram_range=(1, 4))\n",
        "\n",
        "    # fit_transforms fits the vectorizer on the test and converts it to vector\n",
        "    X_transformed = self.vectorizer.fit_transform(X)\n",
        "\n",
        "    # create a classifier and train it on the data\n",
        "    self.classifier = MultinomialNB()\n",
        "    self.classifier.fit(X_transformed, y)\n",
        "\n",
        "  def classify(self, pp: Tuple):\n",
        "    # converting the 4-words tuple into a sentnce, separated with spaces: \n",
        "    joined_sentence = \" \".join(pp)\n",
        "\n",
        "    # Vectorizing the sentence.\n",
        "    # The vectorizer accepts a list of sentences, even if we only have one...\n",
        "    vectorized_sentence = self.vectorizer.transform([joined_sentence])\n",
        "    \n",
        "    # classifying the vectorized sentence:\n",
        "    return self.classifier.predict(vectorized_sentence)\n",
        "\n",
        "evaluate_classifier(test_examples, NaiveBayesNGramClassifier(train_examples))"
      ],
      "metadata": {
        "colab": {
          "base_uri": "https://localhost:8080/"
        },
        "id": "_pgoHumgSiy7",
        "outputId": "88ee41a1-c82d-4832-8286-4f4ed4e166be"
      },
      "execution_count": 40,
      "outputs": [
        {
          "output_type": "execute_result",
          "data": {
            "text/plain": [
              "0.8193348801237432"
            ]
          },
          "metadata": {},
          "execution_count": 40
        }
      ]
    },
    {
      "cell_type": "markdown",
      "source": [
        "### Naive Bayes with full n-grams (also v-p & v-p-n2)"
      ],
      "metadata": {
        "id": "CDR4nvghfet4"
      }
    },
    {
      "cell_type": "code",
      "source": [
        "class NaiveBayesFullNGramClassifier:\n",
        "  \"\"\"\n",
        "  This naive bayes clasifier is trained using a Multinomial Naive Bayes.\n",
        "  It uses a simple trick of CountVectorizer to create also n-grams of \n",
        "  combinations from our 4 words.\n",
        "\n",
        "  In addition, we ensure that all the tuples are there.\n",
        "  \"\"\"\n",
        "  def __init__(self, training_examples: List):\n",
        "\n",
        "    # convert the data into lists (of ngram sentences / of V/N chars)\n",
        "    keywords_list = [example['keywords'] for example in train_examples]\n",
        "    X = self.generate_ngram_sentences(keywords_list)\n",
        "    y = [example['answer'] for example in training_examples]\n",
        "\n",
        "    # convert the text into numerical values, with ngrams sized 1 to 4:\n",
        "    self.vectorizer = CountVectorizer(ngram_range=(1, 4))\n",
        "\n",
        "    # fit_transforms fits the vectorizer on the test and converts it to vector\n",
        "    X_transformed = self.vectorizer.fit_transform(X)\n",
        "\n",
        "    # create a classifier and train it on the data\n",
        "    self.classifier = MultinomialNB()\n",
        "    self.classifier.fit(X_transformed, y)\n",
        "\n",
        "  def generate_ngram_sentences(self, tuple_list: List):\n",
        "    joined_sentences = [\" \".join(keywords) for keywords in tuple_list]\n",
        "    additional_ngrams = [' '.join((tuple_item[0], tuple_item[2], tuple_item[3])) for tuple_item in tuple_list]\n",
        "    final_sentences = [sentence + \" \" + ngrams for sentence, ngrams in zip(joined_sentences, additional_ngrams)]\n",
        "    return final_sentences\n",
        "\n",
        "  def classify(self, pp: Tuple):\n",
        "    # converting the 4-words tuple into a sentence with the additional words\n",
        "    # for better n-grams.\n",
        "    # Pay attention that `generate_ngram_sentences` expects a list of tuples,\n",
        "    # so we must convert it into a list:\n",
        "    joined_sentence = self.generate_ngram_sentences([pp])\n",
        "\n",
        "    # Vectorizing the sentence.\n",
        "    # The vectorizer accepts a list of sentences, and our method\n",
        "    # `generate_ngram_sentences` already returns one - so no [] around it:\n",
        "    vectorized_sentence = self.vectorizer.transform(joined_sentence)\n",
        "    \n",
        "    # classifying the vectorized sentence:\n",
        "    return self.classifier.predict(vectorized_sentence)\n",
        "\n",
        "evaluate_classifier(test_examples, NaiveBayesFullNGramClassifier(train_examples))"
      ],
      "metadata": {
        "colab": {
          "base_uri": "https://localhost:8080/"
        },
        "id": "ahJQxfmwWrA5",
        "outputId": "09f7205e-b203-411f-9956-62b89a9ad805"
      },
      "execution_count": 44,
      "outputs": [
        {
          "output_type": "execute_result",
          "data": {
            "text/plain": [
              "0.8232018561484918"
            ]
          },
          "metadata": {},
          "execution_count": 44
        }
      ]
    },
    {
      "cell_type": "markdown",
      "source": [
        "### Naive bayes  with additional lemmatized features"
      ],
      "metadata": {
        "id": "X3QqBPKs_1eI"
      }
    },
    {
      "cell_type": "code",
      "source": [
        "from nltk.stem import WordNetLemmatizer\n",
        "\n",
        "nltk.download('wordnet')\n",
        "nltk.download('omw-1.4')"
      ],
      "metadata": {
        "colab": {
          "base_uri": "https://localhost:8080/"
        },
        "id": "-A0b0x_YTEFA",
        "outputId": "227137b6-e734-4aa8-9a6a-c30f6a0c2500"
      },
      "execution_count": 49,
      "outputs": [
        {
          "output_type": "stream",
          "name": "stderr",
          "text": [
            "[nltk_data] Downloading package wordnet to /root/nltk_data...\n",
            "[nltk_data] Downloading package omw-1.4 to /root/nltk_data...\n"
          ]
        },
        {
          "output_type": "execute_result",
          "data": {
            "text/plain": [
              "True"
            ]
          },
          "metadata": {},
          "execution_count": 49
        }
      ]
    },
    {
      "cell_type": "code",
      "source": [
        "class NaiveBayesWithLemmaFeaturesClassifier:\n",
        "  \"\"\"\n",
        "  This model adds additional features by lemmatizing nouns and verbs.\n",
        "  The clasifier is trained using a Multinomial Naive Bayes\n",
        "  \"\"\"\n",
        "  def __init__(self, training_examples: List):\n",
        "    self.lemmatizer = WordNetLemmatizer()\n",
        "    \n",
        "    # convert the data into lists (of sentences / of V/N chars)\n",
        "    X = [' '.join(example['keywords']) for example in training_examples]\n",
        "    y = [example['answer'] for example in training_examples]\n",
        "\n",
        "    # convert the text into numerical values. \n",
        "    self.vectorizer = CountVectorizer(ngram_range=(1, 4))\n",
        "    X_transformed = self.vectorizer.fit_transform(X)\n",
        "    \n",
        "    # create a classifier and train it on the data\n",
        "    self.classifier = MultinomialNB()\n",
        "    self.classifier.fit(X_transformed, y)\n",
        "\n",
        "  def transform_example(self, example: Tuple) -> List:\n",
        "    # we lemmatize the verb:\n",
        "    lemmatized_v = self.lemmatizer.lemmatize(example[0], 'v')\n",
        "\n",
        "    # and the 2 nouns:\n",
        "    lemmatized_n1 = self.lemmatizer.lemmatize(example[1], 'n')\n",
        "    lemmatized_n2 = self.lemmatizer.lemmatize(example[3], 'n')\n",
        "\n",
        "    # then we combine them all together into one single list, including the\n",
        "    # preposition (which we didn't touch)\n",
        "    features = [lemmatized_v, lemmatized_n1, example[2], lemmatized_n2]\n",
        "    return \" \".join(features)\n",
        "    \n",
        "  def classify(self, pp: Tuple):\n",
        "    # converting the 4-words tuple into a sentnce, together with the lemmas: \n",
        "    joined_sentence = self.transform_example(pp)\n",
        "\n",
        "    # Vectorizing the sentence.\n",
        "    # The vectorizer accepts a list of sentences, even if we only have one...\n",
        "    vectorized_sentence = self.vectorizer.transform([joined_sentence])\n",
        "\n",
        "    # classifying the vectorized sentence:\n",
        "    return self.classifier.predict(vectorized_sentence)\n",
        "\n",
        "evaluate_classifier(test_examples, NaiveBayesWithLemmaFeaturesClassifier(train_examples))"
      ],
      "metadata": {
        "colab": {
          "base_uri": "https://localhost:8080/"
        },
        "id": "m_rZoike_1Jn",
        "outputId": "7551da75-d4a1-466a-f11e-8414db1b0c55"
      },
      "execution_count": 77,
      "outputs": [
        {
          "output_type": "execute_result",
          "data": {
            "text/plain": [
              "0.8009280742459397"
            ]
          },
          "metadata": {},
          "execution_count": 77
        }
      ]
    },
    {
      "cell_type": "markdown",
      "source": [
        "### Support Vector Machine"
      ],
      "metadata": {
        "id": "YVN0wwQwKLK8"
      }
    },
    {
      "cell_type": "code",
      "source": [
        "from sklearn.svm import SVC\n"
      ],
      "metadata": {
        "id": "XdMGIqmwVSYp"
      },
      "execution_count": 51,
      "outputs": []
    },
    {
      "cell_type": "code",
      "source": [
        "class SupportVectorClassifier:\n",
        "  \"\"\"\n",
        "  This naive bayes clasifier is trained using a Support Vector Machine\n",
        "  \"\"\"\n",
        "  def __init__(self, training_examples: List):\n",
        "\n",
        "    # convert the data into lists (of sentences / of V/N chars)\n",
        "    X = [' '.join(example['keywords']) for example in training_examples]\n",
        "    y = [example['answer'] for example in training_examples]\n",
        "\n",
        "    # convert the text into numerical values. \n",
        "    self.vectorizer = CountVectorizer()\n",
        "\n",
        "    # fit_transforms fits the vectorizer on the test and converts it to vector\n",
        "    X_transformed = self.vectorizer.fit_transform(X)\n",
        "\n",
        "    # create a classifier and train it on the data\n",
        "    self.classifier = SVC()\n",
        "    self.classifier.fit(X_transformed, y)\n",
        "\n",
        "  def classify(self, pp: Tuple):\n",
        "    # converting the 4-words tuple into a sentnce, separated with spaces: \n",
        "    joined_sentence = \" \".join(pp)\n",
        "\n",
        "    # Vectorizing the sentence.\n",
        "    # The vectorizer accepts a list of sentences, even if we only have one...\n",
        "    vectorized_sentence = self.vectorizer.transform([joined_sentence])\n",
        "\n",
        "    # classifying the vectorized sentence:\n",
        "    return self.classifier.predict(vectorized_sentence)\n",
        "\n",
        "evaluate_classifier(test_examples, SupportVectorClassifier(train_examples))"
      ],
      "metadata": {
        "colab": {
          "base_uri": "https://localhost:8080/"
        },
        "outputId": "2664a8e2-b768-4ba0-9c9d-05cf30637fb1",
        "id": "axA3ExVVLeKA"
      },
      "execution_count": 57,
      "outputs": [
        {
          "output_type": "execute_result",
          "data": {
            "text/plain": [
              "0.8218097447795824"
            ]
          },
          "metadata": {},
          "execution_count": 57
        }
      ]
    },
    {
      "cell_type": "markdown",
      "source": [
        "### Support Vector Machine with Brown Corpus"
      ],
      "metadata": {
        "id": "mhCWBJD4PqGY"
      }
    },
    {
      "cell_type": "code",
      "source": [
        "\n",
        "class SVCWithBrownTokenizerClassifier:\n",
        "  \"\"\"\n",
        "  This model fits the vectorizer on a bigger corpus (brown).\n",
        "  The clasifier is trained using a Support Vector Machine\n",
        "  \"\"\"\n",
        "  def __init__(self, training_examples: List):\n",
        "\n",
        "    # convert the data into lists (of sentences / of V/N chars)\n",
        "    X = [' '.join(example['keywords']) for example in training_examples]\n",
        "    y = [example['answer'] for example in training_examples]\n",
        "\n",
        "    # convert the text into numerical values, including n-grams of up to 5\n",
        "    # words\n",
        "    self.vectorizer = CountVectorizer(ngram_range=(1, 5))\n",
        "\n",
        "    # fit the vectorizer on the brown corpus\n",
        "    corpus = [\" \".join(sent) for sent in brown.sents()]\n",
        "    self.vectorizer.fit(corpus)\n",
        "    \n",
        "    # use the vectorizer to transform the training data into to vector\n",
        "    X_transformed = self.vectorizer.transform(X)\n",
        "\n",
        "    # create a classifier and train it on the data\n",
        "    self.classifier = SVC()\n",
        "    self.classifier.fit(X_transformed, y)\n",
        "\n",
        "  def classify(self, pp: Tuple):\n",
        "    # converting the 4-words tuple into a sentnce, separated with spaces: \n",
        "    joined_sentence = \" \".join(pp)\n",
        "\n",
        "    # Vectorizing the sentence.\n",
        "    # The vectorizer accepts a list of sentences, even if we only have one...\n",
        "    \n",
        "    vectorized_sentence = self.vectorizer.transform([joined_sentence])\n",
        "    # classifying the vectorized sentence:\n",
        "    return self.classifier.predict(vectorized_sentence)\n",
        "\n",
        "evaluate_classifier(test_examples, SVCWithBrownTokenizerClassifier(train_examples))\n"
      ],
      "metadata": {
        "colab": {
          "base_uri": "https://localhost:8080/"
        },
        "outputId": "0e05b742-fc4c-4c4b-ca5f-138da7fa99b4",
        "id": "S2-byGzJOQqm"
      },
      "execution_count": 84,
      "outputs": [
        {
          "output_type": "execute_result",
          "data": {
            "text/plain": [
              "0.8292343387470997"
            ]
          },
          "metadata": {},
          "execution_count": 84
        }
      ]
    },
    {
      "cell_type": "markdown",
      "source": [
        "### Support Vector Machine with Lemmatized Features"
      ],
      "metadata": {
        "id": "i0i4LkSbPvf0"
      }
    },
    {
      "cell_type": "code",
      "source": [
        "class SVCWithLemmaFeaturesClassifier:\n",
        "  \"\"\"\n",
        "  This model adds additional features as lemmatized nouns and verbs.\n",
        "  The clasifier is trained using a Support Vector Machine\n",
        "  \"\"\"\n",
        "  def __init__(self, training_examples: List):\n",
        "    self.lemmatizer = WordNetLemmatizer()\n",
        "    \n",
        "    # convert the data into lists (of sentences / of V/N chars)\n",
        "    X = [self.transform_example(example['keywords']) for example in training_examples]\n",
        "    y = [example['answer'] for example in training_examples]\n",
        "\n",
        "    # convert the text into numerical values. \n",
        "    self.vectorizer = CountVectorizer()\n",
        "    X_transformed = self.vectorizer.fit_transform(X)\n",
        "    \n",
        "    # create a classifier and train it on the data\n",
        "    self.classifier = SVC()\n",
        "    self.classifier.fit(X_transformed, y)\n",
        "\n",
        "  def transform_example(self, example: Tuple) -> List:\n",
        "    lemmatized_v = self.lemmatizer.lemmatize(example[0], 'v')\n",
        "    lemmatized_n1 = self.lemmatizer.lemmatize(example[1], 'n')\n",
        "    lemmatized_n2 = self.lemmatizer.lemmatize(example[3], 'n')\n",
        "\n",
        "    features = set([lemmatized_v, lemmatized_n1, lemmatized_n2] + list(example))\n",
        "    return \" \".join(features)\n",
        "    \n",
        "  def classify(self, pp: Tuple):\n",
        "    # converting the 4-words tuple into a sentnce, together with the lemmas: \n",
        "    joined_sentence = self.transform_example(pp)\n",
        "\n",
        "    # Vectorizing the sentence.\n",
        "    # The vectorizer accepts a list of sentences, even if we only have one...\n",
        "    vectorized_sentence = self.vectorizer.transform([joined_sentence])\n",
        "     \n",
        "    # classifying the vectorized sentence:\n",
        "    return self.classifier.predict(vectorized_sentence)\n",
        "\n",
        "evaluate_classifier(test_examples, SVCWithLemmaFeaturesClassifier(train_examples))"
      ],
      "metadata": {
        "colab": {
          "base_uri": "https://localhost:8080/"
        },
        "outputId": "5ae56d46-e911-4145-ee50-28515ce28b08",
        "id": "BTZe2KFlOw0D"
      },
      "execution_count": 59,
      "outputs": [
        {
          "output_type": "execute_result",
          "data": {
            "text/plain": [
              "0.8278422273781902"
            ]
          },
          "metadata": {},
          "execution_count": 59
        }
      ]
    },
    {
      "cell_type": "markdown",
      "source": [
        "### Support Vector Machine with both Lemmaized version and n-grams"
      ],
      "metadata": {
        "id": "MsV5d55hRO7u"
      }
    },
    {
      "cell_type": "code",
      "source": [
        "class SVCWithNGramAndLemmasClassifier:\n",
        "  \"\"\"\n",
        "  This model uses n-grams when fitting the vectorizer and uses lemmatized nouns \n",
        "  and verbs. There are many possible combinations of the n-grams and the\n",
        "  feature-vector. The best we found for this data was n-grams of 1-2 words, \n",
        "  run simply on lemmatized version of the noun and verbs.\n",
        "  \n",
        "  The clasifier is trained using a Support Vector Machine\n",
        "  \"\"\"\n",
        "  def __init__(self, training_examples: List):\n",
        "    self.lemmatizer = WordNetLemmatizer()\n",
        "\n",
        "    # convert the data into lists (of sentences / of V/N chars)\n",
        "    X = [self.transform_example(example['keywords']) for example in training_examples]\n",
        "    y = [example['answer'] for example in training_examples]\n",
        "\n",
        "    # convert the text into numerical values. \n",
        "    self.vectorizer = CountVectorizer(ngram_range=(1, 2))\n",
        "    X_transformed = self.vectorizer.fit_transform(X)\n",
        "    \n",
        "    # create a classifier and train it on the data\n",
        "    self.classifier = SVC()\n",
        "    self.classifier.fit(X_transformed, y)\n",
        "\n",
        "  def transform_example(self, example: Tuple) -> List:\n",
        "    lemmatized_v = self.lemmatizer.lemmatize(example[0], 'v')\n",
        "    lemmatized_n1 = self.lemmatizer.lemmatize(example[1], 'n')\n",
        "    lemmatized_n2 = self.lemmatizer.lemmatize(example[3], 'n')\n",
        "\n",
        "    # here we just use the lemmatized words (and the preposition)\n",
        "    features = [lemmatized_v, lemmatized_n1, example[2], lemmatized_n2]\n",
        "    return \" \".join(features)\n",
        "\n",
        "  def classify(self, pp: Tuple):\n",
        "    # converting the 4-words tuple into a sentnce, with lemma features: \n",
        "    joined_sentence = self.transform_example(pp)\n",
        "\n",
        "    # Vectorizing the sentence.\n",
        "    # The vectorizer accepts a list of sentences, even if we only have one...\n",
        "    vectorized_sentence = self.vectorizer.transform([joined_sentence])\n",
        "\n",
        "    # classifying the vectorized sentence:\n",
        "    return self.classifier.predict(vectorized_sentence)\n",
        "\n",
        "evaluate_classifier(test_examples, SVCWithNGramAndLemmasClassifier(train_examples))"
      ],
      "metadata": {
        "colab": {
          "base_uri": "https://localhost:8080/"
        },
        "id": "8aSt06TLO2Ga",
        "outputId": "f365d53a-0e23-46ea-e858-30d97725da39"
      },
      "execution_count": 70,
      "outputs": [
        {
          "output_type": "execute_result",
          "data": {
            "text/plain": [
              "0.8293890177880897"
            ]
          },
          "metadata": {},
          "execution_count": 70
        }
      ]
    },
    {
      "cell_type": "markdown",
      "source": [
        "### Support Vector Machine with more lemmatized n-grams (v, p, n2...)"
      ],
      "metadata": {
        "id": "Igt92kCBhgEm"
      }
    },
    {
      "cell_type": "code",
      "source": [
        "class SVCWithNFullGramAndLemmasClassifier:\n",
        "  \"\"\"\n",
        "  This SVM's features are concatenated with lemmatized words, so that the\n",
        "  n-gram generator will create all possible combinations:\n",
        "  v, n1, p, n2, v-n1, n1-p, p-n2, v-n1-p, n1-p-n2, v-n1-p-n2, and even\n",
        "  v-p-n2 (without n1) + all of which using a lemmatized version.\n",
        "  \"\"\"\n",
        "  def __init__(self, training_examples: List):\n",
        "    self.lemmatizer = WordNetLemmatizer()\n",
        "\n",
        "    # convert the data into lists (of ngram sentences / of V/N chars)\n",
        "    keywords_list = [example['keywords'] for example in train_examples]\n",
        "    X = self.generate_ngram_sentences(keywords_list)\n",
        "    y = [example['answer'] for example in training_examples]\n",
        "\n",
        "    # convert the text into numerical values, with ngrams sized 1 to 4:\n",
        "    self.vectorizer = CountVectorizer(ngram_range=(1, 4))\n",
        "\n",
        "    # fit_transforms fits the vectorizer on the test and converts it to vector\n",
        "    X_transformed = self.vectorizer.fit_transform(X)\n",
        "\n",
        "    # create a classifier and train it on the data\n",
        "    self.classifier = SVC()\n",
        "    self.classifier.fit(X_transformed, y)\n",
        "\n",
        "  def generate_ngram_sentences(self, tuple_list: List):\n",
        "    joined_sentences = [\" \".join(keywords) for keywords in tuple_list]\n",
        "    additional_ngrams = [' '.join(self.lemmatize_example(tuple_item)) for tuple_item in tuple_list]\n",
        "    final_sentences = [sentence + \" \" + lemmatized_ngrams for sentence, lemmatized_ngrams in zip(joined_sentences, additional_ngrams)]\n",
        "    return final_sentences\n",
        "\n",
        "  def lemmatize_example(self, word_tuple):\n",
        "    # Given a word-tuple, returns a lemmatized version of the words \n",
        "    # in different order for the n-grams\n",
        "    lemmatized_v = self.lemmatizer.lemmatize(word_tuple[0], 'v')\n",
        "    lemmatized_n1 = self.lemmatizer.lemmatize(word_tuple[1], 'n')\n",
        "    lemmatized_n2 = self.lemmatizer.lemmatize(word_tuple[3], 'n')\n",
        "\n",
        "    return (lemmatized_v, lemmatized_n1, word_tuple[2], lemmatized_n2, lemmatized_v, word_tuple[2], lemmatized_n2)\n",
        "\n",
        "  def classify(self, pp: Tuple):\n",
        "    # converting the 4-words tuple into a sentence with the additional words\n",
        "    # for better n-grams.\n",
        "    # Pay attention that `generate_ngram_sentences` expects a list of tuples,\n",
        "    # so we must convert it into a list:\n",
        "    joined_sentence = self.generate_ngram_sentences([pp])\n",
        "\n",
        "    # Vectorizing the sentence.\n",
        "    # The vectorizer accepts a list of sentences, and our method\n",
        "    # `generate_ngram_sentences` already returns one - so no [] around it:\n",
        "    vectorized_sentence = self.vectorizer.transform(joined_sentence)\n",
        "    \n",
        "    # classifying the vectorized sentence:\n",
        "    return self.classifier.predict(vectorized_sentence)\n",
        "\n",
        "evaluate_classifier(test_examples, SVCWithNFullGramAndLemmasClassifier(train_examples))"
      ],
      "metadata": {
        "colab": {
          "base_uri": "https://localhost:8080/"
        },
        "id": "C_umfEEcgXmt",
        "outputId": "88a130a5-2d5d-46c4-c070-42272d4e96ac"
      },
      "execution_count": 52,
      "outputs": [
        {
          "output_type": "execute_result",
          "data": {
            "text/plain": [
              "0.8188708430007734"
            ]
          },
          "metadata": {},
          "execution_count": 52
        }
      ]
    },
    {
      "cell_type": "markdown",
      "source": [
        "### Ensemble classifiers"
      ],
      "metadata": {
        "id": "NpYWGSStiaIF"
      }
    },
    {
      "cell_type": "code",
      "source": [
        "from sklearn.ensemble import VotingClassifier, RandomForestClassifier, AdaBoostClassifier\n",
        "from sklearn.neighbors import KNeighborsClassifier"
      ],
      "metadata": {
        "id": "3FvgWZOAopGP"
      },
      "execution_count": 90,
      "outputs": []
    },
    {
      "cell_type": "code",
      "source": [
        "\n",
        "class MultipleVotingClassifier:\n",
        "  \"\"\"\n",
        "  This model fits the vectorizer on a bigger corpus (brown).\n",
        "  The clasifier is trained using a Support Vector Machine\n",
        "  \"\"\"\n",
        "  def __init__(self, training_examples: List):  \n",
        "\n",
        "    # convert the data into lists (of sentences / of V/N chars)\n",
        "    X = [' '.join(example['keywords']) for example in training_examples]\n",
        "    y = [example['answer'] for example in training_examples]\n",
        "\n",
        "    # convert the text into numerical values. \n",
        "    self.vectorizer = CountVectorizer(ngram_range=(1,4))\n",
        "    \n",
        "    # use the vectorizer to transform the training data into to vector\n",
        "    X_transformed = self.vectorizer.fit_transform(X)\n",
        "\n",
        "    # create the classifiers and train them on the data through voting\n",
        "    clf1 = SVC()\n",
        "    clf2 = MultinomialNB()\n",
        "    clf3 = RandomForestClassifier(n_estimators=50, random_state=1234)\n",
        "\n",
        "    self.classifier = VotingClassifier(estimators=[\n",
        "        ('svc', clf1), ('mnb', clf2), ('rfc', clf3)], voting='hard')\n",
        "\n",
        "    self.classifier.fit(X_transformed, y)\n",
        "\n",
        "  def classify(self, pp: Tuple):\n",
        "    # converting the 4-words tuple into a sentnce, separated with spaces: \n",
        "    joined_sentence = \" \".join(pp)\n",
        "\n",
        "    # Vectorizing the sentence.\n",
        "    # The vectorizer accepts a list of sentences, even if we only have one...    \n",
        "    vectorized_sentence = self.vectorizer.transform([joined_sentence])\n",
        "\n",
        "    # classifying the vectorized sentence:\n",
        "    return self.classifier.predict(vectorized_sentence)\n",
        "\n",
        "evaluate_classifier(test_examples, MultipleVotingClassifier(train_examples))"
      ],
      "metadata": {
        "colab": {
          "base_uri": "https://localhost:8080/"
        },
        "id": "ZwkLwby4ijGM",
        "outputId": "3651dde1-6cf2-4331-b9c8-35c0313bb8a3"
      },
      "execution_count": 87,
      "outputs": [
        {
          "output_type": "execute_result",
          "data": {
            "text/plain": [
              "0.8204176334106729"
            ]
          },
          "metadata": {},
          "execution_count": 87
        }
      ]
    },
    {
      "cell_type": "code",
      "source": [
        "class AdaBstClassifier:\n",
        "  \"\"\"\n",
        "  \"\"\"\n",
        "  def __init__(self, training_examples: List):\n",
        "    self.lemmatizer = WordNetLemmatizer()\n",
        "\n",
        "    # convert the data into lists (of sentences / of V/N chars)\n",
        "    X = [self.transform_example(example['keywords']) for example in training_examples]\n",
        "    y = [example['answer'] for example in training_examples]\n",
        "\n",
        "    # convert the text into numerical values. \n",
        "    self.vectorizer = CountVectorizer(ngram_range=(1, 4))\n",
        "    X_transformed = self.vectorizer.fit_transform(X)\n",
        "    \n",
        "    # create a classifier and train it on the data\n",
        "    self.classifier = AdaBoostClassifier(n_estimators=100, random_state=1234)\n",
        "    self.classifier.fit(X_transformed, y)\n",
        "\n",
        "  def transform_example(self, example: Tuple) -> List:\n",
        "    lemmatized_v = self.lemmatizer.lemmatize(example[0], 'v')\n",
        "    lemmatized_n1 = self.lemmatizer.lemmatize(example[1], 'n')\n",
        "    lemmatized_n2 = self.lemmatizer.lemmatize(example[3], 'n')\n",
        "\n",
        "    # here we just use the lemmatized words (and the preposition)\n",
        "    features = [lemmatized_v, lemmatized_n1, example[2], lemmatized_n2]\n",
        "    return \" \".join(features)\n",
        "\n",
        "  def classify(self, pp: Tuple):\n",
        "    # converting the 4-words tuple into a sentnce, with lemma features: \n",
        "    joined_sentence = self.transform_example(pp)\n",
        "\n",
        "    # Vectorizing the sentence.\n",
        "    # The vectorizer accepts a list of sentences, even if we only have one...\n",
        "    vectorized_sentence = self.vectorizer.transform([joined_sentence])\n",
        "\n",
        "    # classifying the vectorized sentence:\n",
        "    return self.classifier.predict(vectorized_sentence)\n",
        "\n",
        "evaluate_classifier(test_examples, AdaBstClassifier(train_examples))"
      ],
      "metadata": {
        "colab": {
          "base_uri": "https://localhost:8080/"
        },
        "id": "B9Gs2vVUwpiy",
        "outputId": "6dd72170-0441-4a10-e982-df2b0c231f29"
      },
      "execution_count": 93,
      "outputs": [
        {
          "output_type": "execute_result",
          "data": {
            "text/plain": [
              "0.7832946635730859"
            ]
          },
          "metadata": {},
          "execution_count": 93
        }
      ]
    },
    {
      "cell_type": "markdown",
      "source": [
        "## Using BytePairEmbedding"
      ],
      "metadata": {
        "id": "1Qp_G6vETcb7"
      }
    },
    {
      "cell_type": "code",
      "source": [
        "!pip install bpemb --quiet"
      ],
      "metadata": {
        "id": "oJkfzzH4aTK2",
        "colab": {
          "base_uri": "https://localhost:8080/"
        },
        "outputId": "2d8dc7d4-e958-4746-9616-bef719886f87"
      },
      "execution_count": 61,
      "outputs": [
        {
          "output_type": "stream",
          "name": "stdout",
          "text": [
            "\u001b[?25l     \u001b[90m━━━━━━━━━━━━━━━━━━━━━━━━━━━━━━━━━━━━━━━━\u001b[0m \u001b[32m0.0/1.3 MB\u001b[0m \u001b[31m?\u001b[0m eta \u001b[36m-:--:--\u001b[0m\r\u001b[2K     \u001b[91m━━━━━━━━━━━━━━━\u001b[0m\u001b[90m╺\u001b[0m\u001b[90m━━━━━━━━━━━━━━━━━━━━━━━━\u001b[0m \u001b[32m0.5/1.3 MB\u001b[0m \u001b[31m14.3 MB/s\u001b[0m eta \u001b[36m0:00:01\u001b[0m\r\u001b[2K     \u001b[90m━━━━━━━━━━━━━━━━━━━━━━━━━━━━━━━━━━━━━━━━\u001b[0m \u001b[32m1.3/1.3 MB\u001b[0m \u001b[31m21.2 MB/s\u001b[0m eta \u001b[36m0:00:00\u001b[0m\n",
            "\u001b[?25h"
          ]
        }
      ]
    },
    {
      "cell_type": "code",
      "source": [
        "import numpy as np\n",
        "\n",
        "from bpemb import BPEmb"
      ],
      "metadata": {
        "id": "xav_6vmZb1Ra"
      },
      "execution_count": null,
      "outputs": []
    },
    {
      "cell_type": "code",
      "source": [
        "class SVCWithBpEmbClassifier:\n",
        "  \"\"\"\n",
        "  \"\"\"\n",
        "  def __init__(self, training_examples: List):\n",
        "    self.vectorizer = BPEmb(lang=\"en\").embed\n",
        "\n",
        "    # convert the data into lists (of sentences / of V/N chars)\n",
        "    X = np.array([np.hstack([self.vectorizer(word).mean(axis=0) for word in example['keywords']]) for example in training_examples])\n",
        "    y = [example['answer'] for example in training_examples]\n",
        "\n",
        "    # create a classifier and train it on the data\n",
        "    self.classifier = SVC()\n",
        "    self.classifier.fit(X, y)\n",
        "\n",
        "  def classify(self, pp: Tuple):\n",
        "    # Vectorizing the tuple.\n",
        "    vectorized_sentence = np.hstack([self.vectorizer(word).mean(axis=0) for word in pp]).reshape(1, -1)\n",
        "\n",
        "    # classifying the vectorized sentence:\n",
        "    return self.classifier.predict(vectorized_sentence)\n",
        "\n",
        "evaluate_classifier(test_examples, SVCWithBpEmbClassifier(train_examples))\n"
      ],
      "metadata": {
        "id": "eMVuooNeaQCq",
        "outputId": "74a2e29a-f388-4a19-fd28-207107b1f4f1",
        "colab": {
          "base_uri": "https://localhost:8080/"
        }
      },
      "execution_count": 65,
      "outputs": [
        {
          "output_type": "execute_result",
          "data": {
            "text/plain": [
              "0.8402165506573859"
            ]
          },
          "metadata": {},
          "execution_count": 65
        }
      ]
    },
    {
      "cell_type": "markdown",
      "source": [
        "Let's try KNN on the BPEmbedding because why not..."
      ],
      "metadata": {
        "id": "rj7-Ls_Sg0J5"
      }
    },
    {
      "cell_type": "code",
      "source": [
        "class KNNWithBpEmbClassifier:\n",
        "  \"\"\"\n",
        "  We try the KNN on the bytepair embedding, since it could be that similar \n",
        "  vectors would be groupped together in the embedding space.\n",
        "  \"\"\"\n",
        "  def __init__(self, training_examples: List):\n",
        "    self.vectorizer = BPEmb(lang=\"en\").embed\n",
        "\n",
        "    # convert the data into lists (of sentences / of V/N chars)\n",
        "    X = np.array([np.hstack([self.vectorizer(word).mean(axis=0) for word in example['keywords']]) for example in training_examples])\n",
        "    y = [example['answer'] for example in training_examples]\n",
        "\n",
        "    # create a classifier and train it on the data\n",
        "    self.classifier = KNeighborsClassifier()\n",
        "    self.classifier.fit(X, y)\n",
        "\n",
        "  def classify(self, pp: Tuple):\n",
        "    # Vectorizing the tuple.\n",
        "    vectorized_sentence = np.hstack([self.vectorizer(word).mean(axis=0) for word in pp]).reshape(1, -1)\n",
        "\n",
        "    # classifying the vectorized sentence:\n",
        "    return self.classifier.predict(vectorized_sentence)\n",
        "\n",
        "evaluate_classifier(test_examples, KNNWithBpEmbClassifier(train_examples))\n"
      ],
      "metadata": {
        "id": "if9wowbrltHh",
        "outputId": "b044b1ea-0a02-4558-f3a3-46d367e0505d",
        "colab": {
          "base_uri": "https://localhost:8080/"
        }
      },
      "execution_count": 63,
      "outputs": [
        {
          "output_type": "execute_result",
          "data": {
            "text/plain": [
              "0.7931941221964424"
            ]
          },
          "metadata": {},
          "execution_count": 63
        }
      ]
    },
    {
      "cell_type": "markdown",
      "source": [
        "## Summary\n",
        "The PP attachment problem is a real-world problm, and not yet entirely solved.\n",
        "\n",
        "[Many different researchers](https://www.dline.info/jcl/fulltext/v9n2/jclv9n2_2.pdf) are trying to tackle this issue: Some using [verbnet semantic features](https://aclanthology.org/W15-0102.pdf); [some with TreeNet](https://aclanthology.org/H05-1035.pdf); Others with [semantic trees](https://www.researchgate.net/publication/228946783_Prepositional_phrase_attachment_ambiguity_resolution_using_semantic_hierarchies). \n",
        "\n",
        "Modern methods include using distributed representation (word2vec and friends) and the contextualized representation (which requires the whole sentence), such as ELMo, BERT, RoBERTa, etc, demonstrate already a higher level of accuracy when it comes to this task."
      ],
      "metadata": {
        "id": "v97r9ZTaY6d2"
      }
    }
  ]
}