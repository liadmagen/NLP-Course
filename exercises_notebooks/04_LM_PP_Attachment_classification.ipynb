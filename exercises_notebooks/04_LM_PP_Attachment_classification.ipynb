{
  "nbformat": 4,
  "nbformat_minor": 0,
  "metadata": {
    "colab": {
      "name": "04_LM_PP_Attachment_classification",
      "provenance": [],
      "collapsed_sections": [
        "ZEHsHqnBEnM0",
        "MRYNWqK-Gu3F",
        "vyls_Vs7MxYj"
      ],
      "toc_visible": true,
      "include_colab_link": true
    },
    "kernelspec": {
      "name": "python3",
      "display_name": "Python 3"
    },
    "widgets": {
      "application/vnd.jupyter.widget-state+json": {
        "f2339d4ee58f429886fdf25a69d5377d": {
          "model_module": "@jupyter-widgets/controls",
          "model_name": "HBoxModel",
          "model_module_version": "1.5.0",
          "state": {
            "_view_name": "HBoxView",
            "_dom_classes": [],
            "_model_name": "HBoxModel",
            "_view_module": "@jupyter-widgets/controls",
            "_model_module_version": "1.5.0",
            "_view_count": null,
            "_view_module_version": "1.5.0",
            "box_style": "",
            "layout": "IPY_MODEL_0c9bbb5ab6654ad1ba7aaadeb0cd7d49",
            "_model_module": "@jupyter-widgets/controls",
            "children": [
              "IPY_MODEL_5396d04207614aa1a50858e0c6bb50a8",
              "IPY_MODEL_8d54e43bce9f4b6389cd2cc44f1d8493",
              "IPY_MODEL_e49d74073911435d97cf968c64da3a2d"
            ]
          }
        },
        "0c9bbb5ab6654ad1ba7aaadeb0cd7d49": {
          "model_module": "@jupyter-widgets/base",
          "model_name": "LayoutModel",
          "model_module_version": "1.2.0",
          "state": {
            "_view_name": "LayoutView",
            "grid_template_rows": null,
            "right": null,
            "justify_content": null,
            "_view_module": "@jupyter-widgets/base",
            "overflow": null,
            "_model_module_version": "1.2.0",
            "_view_count": null,
            "flex_flow": null,
            "width": null,
            "min_width": null,
            "border": null,
            "align_items": null,
            "bottom": null,
            "_model_module": "@jupyter-widgets/base",
            "top": null,
            "grid_column": null,
            "overflow_y": null,
            "overflow_x": null,
            "grid_auto_flow": null,
            "grid_area": null,
            "grid_template_columns": null,
            "flex": null,
            "_model_name": "LayoutModel",
            "justify_items": null,
            "grid_row": null,
            "max_height": null,
            "align_content": null,
            "visibility": null,
            "align_self": null,
            "height": null,
            "min_height": null,
            "padding": null,
            "grid_auto_rows": null,
            "grid_gap": null,
            "max_width": null,
            "order": null,
            "_view_module_version": "1.2.0",
            "grid_template_areas": null,
            "object_position": null,
            "object_fit": null,
            "grid_auto_columns": null,
            "margin": null,
            "display": null,
            "left": null
          }
        },
        "5396d04207614aa1a50858e0c6bb50a8": {
          "model_module": "@jupyter-widgets/controls",
          "model_name": "HTMLModel",
          "model_module_version": "1.5.0",
          "state": {
            "_view_name": "HTMLView",
            "style": "IPY_MODEL_743b96d9d233427e882418756084a2ef",
            "_dom_classes": [],
            "description": "",
            "_model_name": "HTMLModel",
            "placeholder": "​",
            "_view_module": "@jupyter-widgets/controls",
            "_model_module_version": "1.5.0",
            "value": "",
            "_view_count": null,
            "_view_module_version": "1.5.0",
            "description_tooltip": null,
            "_model_module": "@jupyter-widgets/controls",
            "layout": "IPY_MODEL_bf93cd60e1a14f27904ab47337fe020f"
          }
        },
        "8d54e43bce9f4b6389cd2cc44f1d8493": {
          "model_module": "@jupyter-widgets/controls",
          "model_name": "FloatProgressModel",
          "model_module_version": "1.5.0",
          "state": {
            "_view_name": "ProgressView",
            "style": "IPY_MODEL_de014d429bc340fe9ff9f03d70a9f8b1",
            "_dom_classes": [],
            "description": "",
            "_model_name": "FloatProgressModel",
            "bar_style": "success",
            "max": 1,
            "_view_module": "@jupyter-widgets/controls",
            "_model_module_version": "1.5.0",
            "value": 1,
            "_view_count": null,
            "_view_module_version": "1.5.0",
            "orientation": "horizontal",
            "min": 0,
            "description_tooltip": null,
            "_model_module": "@jupyter-widgets/controls",
            "layout": "IPY_MODEL_a2020361285448a9b1ae001f898f381a"
          }
        },
        "e49d74073911435d97cf968c64da3a2d": {
          "model_module": "@jupyter-widgets/controls",
          "model_name": "HTMLModel",
          "model_module_version": "1.5.0",
          "state": {
            "_view_name": "HTMLView",
            "style": "IPY_MODEL_a1d943b36ecb434e9dd8bcc2e72f8202",
            "_dom_classes": [],
            "description": "",
            "_model_name": "HTMLModel",
            "placeholder": "​",
            "_view_module": "@jupyter-widgets/controls",
            "_model_module_version": "1.5.0",
            "value": " 25858/? [00:00&lt;00:00, 67184.69it/s]",
            "_view_count": null,
            "_view_module_version": "1.5.0",
            "description_tooltip": null,
            "_model_module": "@jupyter-widgets/controls",
            "layout": "IPY_MODEL_0e851825f0284c8099a25528f829992a"
          }
        },
        "743b96d9d233427e882418756084a2ef": {
          "model_module": "@jupyter-widgets/controls",
          "model_name": "DescriptionStyleModel",
          "model_module_version": "1.5.0",
          "state": {
            "_view_name": "StyleView",
            "_model_name": "DescriptionStyleModel",
            "description_width": "",
            "_view_module": "@jupyter-widgets/base",
            "_model_module_version": "1.5.0",
            "_view_count": null,
            "_view_module_version": "1.2.0",
            "_model_module": "@jupyter-widgets/controls"
          }
        },
        "bf93cd60e1a14f27904ab47337fe020f": {
          "model_module": "@jupyter-widgets/base",
          "model_name": "LayoutModel",
          "model_module_version": "1.2.0",
          "state": {
            "_view_name": "LayoutView",
            "grid_template_rows": null,
            "right": null,
            "justify_content": null,
            "_view_module": "@jupyter-widgets/base",
            "overflow": null,
            "_model_module_version": "1.2.0",
            "_view_count": null,
            "flex_flow": null,
            "width": null,
            "min_width": null,
            "border": null,
            "align_items": null,
            "bottom": null,
            "_model_module": "@jupyter-widgets/base",
            "top": null,
            "grid_column": null,
            "overflow_y": null,
            "overflow_x": null,
            "grid_auto_flow": null,
            "grid_area": null,
            "grid_template_columns": null,
            "flex": null,
            "_model_name": "LayoutModel",
            "justify_items": null,
            "grid_row": null,
            "max_height": null,
            "align_content": null,
            "visibility": null,
            "align_self": null,
            "height": null,
            "min_height": null,
            "padding": null,
            "grid_auto_rows": null,
            "grid_gap": null,
            "max_width": null,
            "order": null,
            "_view_module_version": "1.2.0",
            "grid_template_areas": null,
            "object_position": null,
            "object_fit": null,
            "grid_auto_columns": null,
            "margin": null,
            "display": null,
            "left": null
          }
        },
        "de014d429bc340fe9ff9f03d70a9f8b1": {
          "model_module": "@jupyter-widgets/controls",
          "model_name": "ProgressStyleModel",
          "model_module_version": "1.5.0",
          "state": {
            "_view_name": "StyleView",
            "_model_name": "ProgressStyleModel",
            "description_width": "",
            "_view_module": "@jupyter-widgets/base",
            "_model_module_version": "1.5.0",
            "_view_count": null,
            "_view_module_version": "1.2.0",
            "bar_color": null,
            "_model_module": "@jupyter-widgets/controls"
          }
        },
        "a2020361285448a9b1ae001f898f381a": {
          "model_module": "@jupyter-widgets/base",
          "model_name": "LayoutModel",
          "model_module_version": "1.2.0",
          "state": {
            "_view_name": "LayoutView",
            "grid_template_rows": null,
            "right": null,
            "justify_content": null,
            "_view_module": "@jupyter-widgets/base",
            "overflow": null,
            "_model_module_version": "1.2.0",
            "_view_count": null,
            "flex_flow": null,
            "width": "20px",
            "min_width": null,
            "border": null,
            "align_items": null,
            "bottom": null,
            "_model_module": "@jupyter-widgets/base",
            "top": null,
            "grid_column": null,
            "overflow_y": null,
            "overflow_x": null,
            "grid_auto_flow": null,
            "grid_area": null,
            "grid_template_columns": null,
            "flex": null,
            "_model_name": "LayoutModel",
            "justify_items": null,
            "grid_row": null,
            "max_height": null,
            "align_content": null,
            "visibility": null,
            "align_self": null,
            "height": null,
            "min_height": null,
            "padding": null,
            "grid_auto_rows": null,
            "grid_gap": null,
            "max_width": null,
            "order": null,
            "_view_module_version": "1.2.0",
            "grid_template_areas": null,
            "object_position": null,
            "object_fit": null,
            "grid_auto_columns": null,
            "margin": null,
            "display": null,
            "left": null
          }
        },
        "a1d943b36ecb434e9dd8bcc2e72f8202": {
          "model_module": "@jupyter-widgets/controls",
          "model_name": "DescriptionStyleModel",
          "model_module_version": "1.5.0",
          "state": {
            "_view_name": "StyleView",
            "_model_name": "DescriptionStyleModel",
            "description_width": "",
            "_view_module": "@jupyter-widgets/base",
            "_model_module_version": "1.5.0",
            "_view_count": null,
            "_view_module_version": "1.2.0",
            "_model_module": "@jupyter-widgets/controls"
          }
        },
        "0e851825f0284c8099a25528f829992a": {
          "model_module": "@jupyter-widgets/base",
          "model_name": "LayoutModel",
          "model_module_version": "1.2.0",
          "state": {
            "_view_name": "LayoutView",
            "grid_template_rows": null,
            "right": null,
            "justify_content": null,
            "_view_module": "@jupyter-widgets/base",
            "overflow": null,
            "_model_module_version": "1.2.0",
            "_view_count": null,
            "flex_flow": null,
            "width": null,
            "min_width": null,
            "border": null,
            "align_items": null,
            "bottom": null,
            "_model_module": "@jupyter-widgets/base",
            "top": null,
            "grid_column": null,
            "overflow_y": null,
            "overflow_x": null,
            "grid_auto_flow": null,
            "grid_area": null,
            "grid_template_columns": null,
            "flex": null,
            "_model_name": "LayoutModel",
            "justify_items": null,
            "grid_row": null,
            "max_height": null,
            "align_content": null,
            "visibility": null,
            "align_self": null,
            "height": null,
            "min_height": null,
            "padding": null,
            "grid_auto_rows": null,
            "grid_gap": null,
            "max_width": null,
            "order": null,
            "_view_module_version": "1.2.0",
            "grid_template_areas": null,
            "object_position": null,
            "object_fit": null,
            "grid_auto_columns": null,
            "margin": null,
            "display": null,
            "left": null
          }
        }
      }
    }
  },
  "cells": [
    {
      "cell_type": "markdown",
      "metadata": {
        "id": "view-in-github",
        "colab_type": "text"
      },
      "source": [
        "<a href=\"https://colab.research.google.com/github/liadmagen/NLP-Course/blob/master/exercises_notebooks/04_LM_PP_Attachment_classification.ipynb\" target=\"_parent\"><img src=\"https://colab.research.google.com/assets/colab-badge.svg\" alt=\"Open In Colab\"/></a>"
      ]
    },
    {
      "cell_type": "markdown",
      "metadata": {
        "id": "w-EolZK1El9L"
      },
      "source": [
        "# PP Attachment \n",
        "\n",
        "Let's try out the Preposition Phrase attachment classification!\n",
        "\n",
        "Through this exercise, you'll practice classification of linguistic aspects of text."
      ]
    },
    {
      "cell_type": "markdown",
      "metadata": {
        "id": "ZEHsHqnBEnM0"
      },
      "source": [
        "# Setup\n",
        "Loading the data"
      ]
    },
    {
      "cell_type": "code",
      "metadata": {
        "id": "IQeJMBC9EjQj"
      },
      "source": [
        "import csv\n",
        "\n",
        "from tqdm.notebook import tqdm\n",
        "from random import choice\n",
        "from urllib.request import urlopen\n"
      ],
      "execution_count": 1,
      "outputs": []
    },
    {
      "cell_type": "code",
      "metadata": {
        "id": "f5y8hLSTDcmT"
      },
      "source": [
        "def read_pp_examples(file_url):\n",
        "    pp_examples = []\n",
        "    \n",
        "    for line in tqdm(urlopen(file_url)):\n",
        "      line = line.decode(\"utf-8\").strip().split()\n",
        "      assert(len(line) == 5)\n",
        "      v,n1,p,n2,answer = line\n",
        "      pp_examples.append( {'answer':answer,'pp':(v,n1,p,n2)} )\n",
        "    return pp_examples"
      ],
      "execution_count": 2,
      "outputs": []
    },
    {
      "cell_type": "code",
      "metadata": {
        "id": "_kc6IkpCDphJ"
      },
      "source": [
        "pp_samples_url = 'https://raw.githubusercontent.com/liadmagen/NLP-Course/master/dataset/pp_examples.txt'"
      ],
      "execution_count": 3,
      "outputs": []
    },
    {
      "cell_type": "code",
      "metadata": {
        "id": "4i0rtj1RFkug",
        "outputId": "153153b2-cc82-4a2a-9cd7-b769ebf81708",
        "colab": {
          "base_uri": "https://localhost:8080/",
          "height": 0,
          "referenced_widgets": [
            "f2339d4ee58f429886fdf25a69d5377d",
            "0c9bbb5ab6654ad1ba7aaadeb0cd7d49",
            "5396d04207614aa1a50858e0c6bb50a8",
            "8d54e43bce9f4b6389cd2cc44f1d8493",
            "e49d74073911435d97cf968c64da3a2d",
            "743b96d9d233427e882418756084a2ef",
            "bf93cd60e1a14f27904ab47337fe020f",
            "de014d429bc340fe9ff9f03d70a9f8b1",
            "a2020361285448a9b1ae001f898f381a",
            "a1d943b36ecb434e9dd8bcc2e72f8202",
            "0e851825f0284c8099a25528f829992a"
          ]
        }
      },
      "source": [
        "pp_examples = read_pp_examples(pp_samples_url)\n"
      ],
      "execution_count": 4,
      "outputs": [
        {
          "output_type": "display_data",
          "data": {
            "application/vnd.jupyter.widget-view+json": {
              "model_id": "f2339d4ee58f429886fdf25a69d5377d",
              "version_minor": 0,
              "version_major": 2
            },
            "text/plain": [
              "0it [00:00, ?it/s]"
            ]
          },
          "metadata": {}
        }
      ]
    },
    {
      "cell_type": "markdown",
      "metadata": {
        "id": "MRYNWqK-Gu3F"
      },
      "source": [
        "# Step #1 - looking at the data\n",
        "\n",
        "Always look at the data first!"
      ]
    },
    {
      "cell_type": "code",
      "metadata": {
        "id": "a59ypmWhGlIZ",
        "outputId": "4667a2ca-cf87-4ca1-b846-cf410376a0fe",
        "colab": {
          "base_uri": "https://localhost:8080/"
        }
      },
      "source": [
        "len(pp_examples)"
      ],
      "execution_count": 5,
      "outputs": [
        {
          "output_type": "execute_result",
          "data": {
            "text/plain": [
              "25858"
            ]
          },
          "metadata": {},
          "execution_count": 5
        }
      ]
    },
    {
      "cell_type": "code",
      "metadata": {
        "id": "_W9FOJmkG1HF",
        "outputId": "7aa236a3-fde9-41a9-b694-e9278d874ebc",
        "colab": {
          "base_uri": "https://localhost:8080/"
        }
      },
      "source": [
        "print(choice(pp_examples))"
      ],
      "execution_count": 6,
      "outputs": [
        {
          "output_type": "stream",
          "name": "stdout",
          "text": [
            "{'answer': 'N', 'pp': ('see', 'improvement', 'in', 'formulation')}\n"
          ]
        }
      ]
    },
    {
      "cell_type": "code",
      "metadata": {
        "id": "iLCTVAyAG4Cm",
        "outputId": "9287a085-d5d6-4e17-a111-1da2c42abb46",
        "colab": {
          "base_uri": "https://localhost:8080/"
        }
      },
      "source": [
        "example = choice(pp_examples)\n",
        "example['pp']"
      ],
      "execution_count": 7,
      "outputs": [
        {
          "output_type": "execute_result",
          "data": {
            "text/plain": [
              "('block', 'measure', 'with', 'actions')"
            ]
          },
          "metadata": {},
          "execution_count": 7
        }
      ]
    },
    {
      "cell_type": "code",
      "metadata": {
        "id": "W4tkr91VHHC0",
        "outputId": "2e8f2948-ba2e-4b47-a8a0-d3bdb1b1b276",
        "colab": {
          "base_uri": "https://localhost:8080/",
          "height": 35
        }
      },
      "source": [
        "example['answer']"
      ],
      "execution_count": 8,
      "outputs": [
        {
          "output_type": "execute_result",
          "data": {
            "application/vnd.google.colaboratory.intrinsic+json": {
              "type": "string"
            },
            "text/plain": [
              "'V'"
            ]
          },
          "metadata": {},
          "execution_count": 8
        }
      ]
    },
    {
      "cell_type": "markdown",
      "metadata": {
        "id": "vyls_Vs7MxYj"
      },
      "source": [
        "# Step 2: Deciding on the measurement"
      ]
    },
    {
      "cell_type": "code",
      "metadata": {
        "id": "r1Av7fCNHN2K",
        "outputId": "3dd9045c-654a-40e1-fd53-7e1162e3f4ee",
        "colab": {
          "base_uri": "https://localhost:8080/"
        }
      },
      "source": [
        "amt = int(0.75 * len(pp_examples))\n",
        "train_examples, test_examples = pp_examples[:amt], pp_examples[amt:]\n",
        "\n",
        "print(len(train_examples), len(test_examples))"
      ],
      "execution_count": 9,
      "outputs": [
        {
          "output_type": "stream",
          "name": "stdout",
          "text": [
            "19393 6465\n"
          ]
        }
      ]
    },
    {
      "cell_type": "markdown",
      "metadata": {
        "id": "ds9ZfBzmNXjN"
      },
      "source": [
        "We'll define a classifier evaluator.\n",
        "\n",
        "Given a set of examples and an evaluator, it returns the accuracy score"
      ]
    },
    {
      "cell_type": "code",
      "metadata": {
        "id": "r-uR21gwNGo1"
      },
      "source": [
        "def evaluate_classifier(examples, pp_resolver):\n",
        "    \"\"\"\n",
        "    examples: a list of {'pp':(v,n1,p,n2), 'answer':answer }\n",
        "    pp_resolver has a classify() function: from (v,n1,p,n2) to 'N' / 'V'\n",
        "    \"\"\"\n",
        "    correct = 0.0\n",
        "    incorrect = 0.0\n",
        "    for example in examples:\n",
        "        answer = pp_resolver.classify(example['pp'])\n",
        "        if answer == example['answer']:\n",
        "            correct += 1\n",
        "        else:\n",
        "            incorrect += 1\n",
        "    return correct / (correct + incorrect)\n"
      ],
      "execution_count": 10,
      "outputs": []
    },
    {
      "cell_type": "markdown",
      "metadata": {
        "id": "w8v47ip3OkRi"
      },
      "source": [
        "# Classifiers"
      ]
    },
    {
      "cell_type": "markdown",
      "metadata": {
        "id": "dUdapHv7NzVD"
      },
      "source": [
        "Let's test it on an extremely naive classifiers:"
      ]
    },
    {
      "cell_type": "code",
      "metadata": {
        "id": "z9gXjgytNJLN"
      },
      "source": [
        "class AlwaysSayN:\n",
        "    \"\"\"\n",
        "    This naive clasifier answers always with 'Noun'\n",
        "    \"\"\"\n",
        "    def __init__(self): pass\n",
        "    def classify(self, pp):\n",
        "        return 'N'\n"
      ],
      "execution_count": 11,
      "outputs": []
    },
    {
      "cell_type": "code",
      "metadata": {
        "id": "h7DkSKB1NScS"
      },
      "source": [
        "class AlwaysSayV:\n",
        "    \"\"\"\n",
        "    This naive clasifier answers always with 'Verb'\n",
        "    \"\"\"\n",
        "    def __init__(self): pass\n",
        "    def classify(self, pp):\n",
        "        return 'V'\n"
      ],
      "execution_count": 12,
      "outputs": []
    },
    {
      "cell_type": "code",
      "source": [
        "evaluate_classifier(test_examples, AlwaysSayV())"
      ],
      "metadata": {
        "colab": {
          "base_uri": "https://localhost:8080/"
        },
        "id": "Qk8WtRXdtr1D",
        "outputId": "b63840d9-907e-4524-efdd-14b36897ea20"
      },
      "execution_count": 13,
      "outputs": [
        {
          "output_type": "execute_result",
          "data": {
            "text/plain": [
              "0.4634184068058778"
            ]
          },
          "metadata": {},
          "execution_count": 13
        }
      ]
    },
    {
      "cell_type": "code",
      "metadata": {
        "id": "Y61B9XkjNT2u",
        "outputId": "e8e145dd-d947-4dca-ab0d-5976649d1d6e",
        "colab": {
          "base_uri": "https://localhost:8080/"
        }
      },
      "source": [
        "evaluate_classifier(test_examples, AlwaysSayN())\n"
      ],
      "execution_count": null,
      "outputs": [
        {
          "output_type": "execute_result",
          "data": {
            "text/plain": [
              "0.5365815931941222"
            ]
          },
          "metadata": {},
          "execution_count": 15
        }
      ]
    },
    {
      "cell_type": "markdown",
      "metadata": {
        "id": "3xHV9Q9WOOFC"
      },
      "source": [
        "We can see that saying always 'Noun', leads to an accuracy result of 53%.\n",
        "\n",
        "---\n",
        "\n",
        "\n",
        "\n",
        "It also means that our dataset is quite balaneced ;)\n",
        "\n",
        "We could, instead, have tested which class has the majority and simply select it:"
      ]
    },
    {
      "cell_type": "code",
      "metadata": {
        "id": "eozkgMzfOCWD"
      },
      "source": [
        "class MajorityClassResolver:\n",
        "    def __init__(self, training_examples):\n",
        "        answers = [item['answer'] for item in training_examples]\n",
        "        num_n = len([a for a in answers if a == 'N'])\n",
        "        num_v = len([a for a in answers if a == 'V'])\n",
        "        if num_v > num_n:\n",
        "            self.answer = 'V'\n",
        "        else:\n",
        "            self.answer = 'N'\n",
        "    def classify(self, pp):\n",
        "        return self.answer\n"
      ],
      "execution_count": 14,
      "outputs": []
    },
    {
      "cell_type": "code",
      "metadata": {
        "id": "SGM5CODLODIv",
        "outputId": "3cc3414e-df91-480e-d2b3-adee326133b1",
        "colab": {
          "base_uri": "https://localhost:8080/"
        }
      },
      "source": [
        "evaluate_classifier(test_examples, MajorityClassResolver(train_examples))"
      ],
      "execution_count": 15,
      "outputs": [
        {
          "output_type": "execute_result",
          "data": {
            "text/plain": [
              "0.5365815931941222"
            ]
          },
          "metadata": {},
          "execution_count": 15
        }
      ]
    },
    {
      "cell_type": "markdown",
      "source": [
        "Or make it a bit more sophisticated by peeking at the training examples:"
      ],
      "metadata": {
        "id": "1fQDTH8YuX9t"
      }
    },
    {
      "cell_type": "code",
      "metadata": {
        "id": "EVTth8ybNUkQ"
      },
      "source": [
        "class LookupResolver:\n",
        "    def __init__(self, training_examples):\n",
        "        self.answers = {}\n",
        "        for item in training_examples:\n",
        "            self.answers[item['pp']] = item['answer']\n",
        "        self.backoff = MajorityClassResolver(training_examples)\n",
        "        \n",
        "    def classify(self, pp):\n",
        "        if pp in self.answers:\n",
        "            return self.answers[pp]\n",
        "        else:\n",
        "            return self.backoff.classify(pp)\n"
      ],
      "execution_count": 16,
      "outputs": []
    },
    {
      "cell_type": "code",
      "metadata": {
        "id": "gqi-FzCAN71L",
        "outputId": "7d0881b4-cc54-456e-b65e-f1d9959c78b6",
        "colab": {
          "base_uri": "https://localhost:8080/"
        }
      },
      "source": [
        "evaluate_classifier(test_examples, LookupResolver(train_examples))"
      ],
      "execution_count": 17,
      "outputs": [
        {
          "output_type": "execute_result",
          "data": {
            "text/plain": [
              "0.6009280742459396"
            ]
          },
          "metadata": {},
          "execution_count": 17
        }
      ]
    },
    {
      "cell_type": "markdown",
      "metadata": {
        "id": "Rm2DFH7YPN_Z"
      },
      "source": [
        "# Excersize - Your Turn:"
      ]
    },
    {
      "cell_type": "markdown",
      "metadata": {
        "id": "BFRReTKOHTN8"
      },
      "source": [
        "Implement a discriminative PP-attachment model, using a classifier of your choice (i.e. - Naive Bayes Classifier https://web.stanford.edu/~jurafsky/slp3/4.pdf) from a toolkit such as [sklearn](https://scikit-learn.org/stable/modules/generated/sklearn.naive_bayes.GaussianNB.html#sklearn.naive_bayes.GaussianNB).\n",
        "\n",
        "Possible features:\n",
        "\n",
        "Single items ​\n",
        "* Identity of v ​\n",
        "* Identity of p ​\n",
        "* Identity of n1 ​\n",
        "* Identity of n2 ​\n",
        "\n",
        "Pairs:​\n",
        "* dentity of (v, p) ​\n",
        "* Identity of (n1, p) ​\n",
        "* Identity of (p, n1)​\n",
        "\n",
        "Triplets:​\n",
        "* Identity of (v, n1, p)​\n",
        "* Identity of (v, p, n2) ​\n",
        "* Identity of (n1, p, n2) ​\n",
        "\n",
        "Quadruple:​\n",
        "* Identity of (v, n1, p, n2)​\n",
        "\n",
        "\n",
        "Corpus Level:​\n",
        "\n",
        "* Have we seen the (v, p) pair in a 5-word window in a big corpus?​\n",
        "* Have we seen the (n1, p) pair in a 5-word window in a big corpus? ​\n",
        "* Have we seen the (n1, p, n2) triplet in a 5-word window in a big corpus?​\n",
        "*  Also: we can use counts, or binned counts.​\n",
        "\n",
        "Distance:​\n",
        "* Distance (in words) between v and p ​\n",
        "* Distance (in words) between n1 and p​"
      ]
    },
    {
      "cell_type": "code",
      "metadata": {
        "id": "LfxK2XclN-PR"
      },
      "source": [
        "from sklearn.naive_bayes import GaussianNB\n",
        "\n",
        "class NaiveBayesClassifier():\n",
        "  \n",
        "  def __init__(self, training_examples):\n",
        "    classifier = GaussianNB()\n",
        "    \n",
        "  def classify(self, pp):\n",
        "    pass"
      ],
      "execution_count": null,
      "outputs": []
    },
    {
      "cell_type": "code",
      "source": [
        "evaluate_classifier(test_examples, NaiveBayesClassifier(train_examples))"
      ],
      "metadata": {
        "id": "q-sUorG2Korm"
      },
      "execution_count": null,
      "outputs": []
    },
    {
      "cell_type": "code",
      "source": [
        ""
      ],
      "metadata": {
        "id": "5CKFpZTgLQL_"
      },
      "execution_count": null,
      "outputs": []
    }
  ]
}