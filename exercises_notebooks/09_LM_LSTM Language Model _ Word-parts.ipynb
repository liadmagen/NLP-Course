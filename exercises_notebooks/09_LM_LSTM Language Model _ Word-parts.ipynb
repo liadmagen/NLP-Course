{
  "nbformat": 4,
  "nbformat_minor": 0,
  "metadata": {
    "colab": {
      "name": "09_LM_LSTM Language Model & Word-parts.ipynb",
      "provenance": [],
      "toc_visible": true
    },
    "kernelspec": {
      "name": "python3",
      "display_name": "Python 3"
    },
    "widgets": {
      "application/vnd.jupyter.widget-state+json": {
        "ed4f516170d643f582d8a5207c029074": {
          "model_module": "@jupyter-widgets/controls",
          "model_name": "HBoxModel",
          "model_module_version": "1.5.0",
          "state": {
            "_dom_classes": [],
            "_model_module": "@jupyter-widgets/controls",
            "_model_module_version": "1.5.0",
            "_model_name": "HBoxModel",
            "_view_count": null,
            "_view_module": "@jupyter-widgets/controls",
            "_view_module_version": "1.5.0",
            "_view_name": "HBoxView",
            "box_style": "",
            "children": [
              "IPY_MODEL_72ba053ef8874f93b66f3dd98b0001e4",
              "IPY_MODEL_a84665cd75f2475b9fee7370b1e7d19b",
              "IPY_MODEL_9286f1a76ce34136a3b3486d5d5613df"
            ],
            "layout": "IPY_MODEL_f39d6694d1f24ab4b67fec39b1556d7d"
          }
        },
        "72ba053ef8874f93b66f3dd98b0001e4": {
          "model_module": "@jupyter-widgets/controls",
          "model_name": "HTMLModel",
          "model_module_version": "1.5.0",
          "state": {
            "_dom_classes": [],
            "_model_module": "@jupyter-widgets/controls",
            "_model_module_version": "1.5.0",
            "_model_name": "HTMLModel",
            "_view_count": null,
            "_view_module": "@jupyter-widgets/controls",
            "_view_module_version": "1.5.0",
            "_view_name": "HTMLView",
            "description": "",
            "description_tooltip": null,
            "layout": "IPY_MODEL_2c3f6c5a1b0f4eba95aaa1cb2b7a3eb5",
            "placeholder": "​",
            "style": "IPY_MODEL_b8cc1745d3ea4b30b841f7ee09584c52",
            "value": "100%"
          }
        },
        "a84665cd75f2475b9fee7370b1e7d19b": {
          "model_module": "@jupyter-widgets/controls",
          "model_name": "FloatProgressModel",
          "model_module_version": "1.5.0",
          "state": {
            "_dom_classes": [],
            "_model_module": "@jupyter-widgets/controls",
            "_model_module_version": "1.5.0",
            "_model_name": "FloatProgressModel",
            "_view_count": null,
            "_view_module": "@jupyter-widgets/controls",
            "_view_module_version": "1.5.0",
            "_view_name": "ProgressView",
            "bar_style": "success",
            "description": "",
            "description_tooltip": null,
            "layout": "IPY_MODEL_5c1df42e13b04a3ea1f5fcad7cbfb290",
            "max": 5,
            "min": 0,
            "orientation": "horizontal",
            "style": "IPY_MODEL_e09665b6fea046f7a43f5fdf6532047e",
            "value": 5
          }
        },
        "9286f1a76ce34136a3b3486d5d5613df": {
          "model_module": "@jupyter-widgets/controls",
          "model_name": "HTMLModel",
          "model_module_version": "1.5.0",
          "state": {
            "_dom_classes": [],
            "_model_module": "@jupyter-widgets/controls",
            "_model_module_version": "1.5.0",
            "_model_name": "HTMLModel",
            "_view_count": null,
            "_view_module": "@jupyter-widgets/controls",
            "_view_module_version": "1.5.0",
            "_view_name": "HTMLView",
            "description": "",
            "description_tooltip": null,
            "layout": "IPY_MODEL_3e0abddf8e9846f284242f88986d4be2",
            "placeholder": "​",
            "style": "IPY_MODEL_940e683286034b1daddd9534d535c916",
            "value": " 5/5 [11:22&lt;00:00, 138.97s/it]"
          }
        },
        "f39d6694d1f24ab4b67fec39b1556d7d": {
          "model_module": "@jupyter-widgets/base",
          "model_name": "LayoutModel",
          "model_module_version": "1.2.0",
          "state": {
            "_model_module": "@jupyter-widgets/base",
            "_model_module_version": "1.2.0",
            "_model_name": "LayoutModel",
            "_view_count": null,
            "_view_module": "@jupyter-widgets/base",
            "_view_module_version": "1.2.0",
            "_view_name": "LayoutView",
            "align_content": null,
            "align_items": null,
            "align_self": null,
            "border": null,
            "bottom": null,
            "display": null,
            "flex": null,
            "flex_flow": null,
            "grid_area": null,
            "grid_auto_columns": null,
            "grid_auto_flow": null,
            "grid_auto_rows": null,
            "grid_column": null,
            "grid_gap": null,
            "grid_row": null,
            "grid_template_areas": null,
            "grid_template_columns": null,
            "grid_template_rows": null,
            "height": null,
            "justify_content": null,
            "justify_items": null,
            "left": null,
            "margin": null,
            "max_height": null,
            "max_width": null,
            "min_height": null,
            "min_width": null,
            "object_fit": null,
            "object_position": null,
            "order": null,
            "overflow": null,
            "overflow_x": null,
            "overflow_y": null,
            "padding": null,
            "right": null,
            "top": null,
            "visibility": null,
            "width": null
          }
        },
        "2c3f6c5a1b0f4eba95aaa1cb2b7a3eb5": {
          "model_module": "@jupyter-widgets/base",
          "model_name": "LayoutModel",
          "model_module_version": "1.2.0",
          "state": {
            "_model_module": "@jupyter-widgets/base",
            "_model_module_version": "1.2.0",
            "_model_name": "LayoutModel",
            "_view_count": null,
            "_view_module": "@jupyter-widgets/base",
            "_view_module_version": "1.2.0",
            "_view_name": "LayoutView",
            "align_content": null,
            "align_items": null,
            "align_self": null,
            "border": null,
            "bottom": null,
            "display": null,
            "flex": null,
            "flex_flow": null,
            "grid_area": null,
            "grid_auto_columns": null,
            "grid_auto_flow": null,
            "grid_auto_rows": null,
            "grid_column": null,
            "grid_gap": null,
            "grid_row": null,
            "grid_template_areas": null,
            "grid_template_columns": null,
            "grid_template_rows": null,
            "height": null,
            "justify_content": null,
            "justify_items": null,
            "left": null,
            "margin": null,
            "max_height": null,
            "max_width": null,
            "min_height": null,
            "min_width": null,
            "object_fit": null,
            "object_position": null,
            "order": null,
            "overflow": null,
            "overflow_x": null,
            "overflow_y": null,
            "padding": null,
            "right": null,
            "top": null,
            "visibility": null,
            "width": null
          }
        },
        "b8cc1745d3ea4b30b841f7ee09584c52": {
          "model_module": "@jupyter-widgets/controls",
          "model_name": "DescriptionStyleModel",
          "model_module_version": "1.5.0",
          "state": {
            "_model_module": "@jupyter-widgets/controls",
            "_model_module_version": "1.5.0",
            "_model_name": "DescriptionStyleModel",
            "_view_count": null,
            "_view_module": "@jupyter-widgets/base",
            "_view_module_version": "1.2.0",
            "_view_name": "StyleView",
            "description_width": ""
          }
        },
        "5c1df42e13b04a3ea1f5fcad7cbfb290": {
          "model_module": "@jupyter-widgets/base",
          "model_name": "LayoutModel",
          "model_module_version": "1.2.0",
          "state": {
            "_model_module": "@jupyter-widgets/base",
            "_model_module_version": "1.2.0",
            "_model_name": "LayoutModel",
            "_view_count": null,
            "_view_module": "@jupyter-widgets/base",
            "_view_module_version": "1.2.0",
            "_view_name": "LayoutView",
            "align_content": null,
            "align_items": null,
            "align_self": null,
            "border": null,
            "bottom": null,
            "display": null,
            "flex": null,
            "flex_flow": null,
            "grid_area": null,
            "grid_auto_columns": null,
            "grid_auto_flow": null,
            "grid_auto_rows": null,
            "grid_column": null,
            "grid_gap": null,
            "grid_row": null,
            "grid_template_areas": null,
            "grid_template_columns": null,
            "grid_template_rows": null,
            "height": null,
            "justify_content": null,
            "justify_items": null,
            "left": null,
            "margin": null,
            "max_height": null,
            "max_width": null,
            "min_height": null,
            "min_width": null,
            "object_fit": null,
            "object_position": null,
            "order": null,
            "overflow": null,
            "overflow_x": null,
            "overflow_y": null,
            "padding": null,
            "right": null,
            "top": null,
            "visibility": null,
            "width": null
          }
        },
        "e09665b6fea046f7a43f5fdf6532047e": {
          "model_module": "@jupyter-widgets/controls",
          "model_name": "ProgressStyleModel",
          "model_module_version": "1.5.0",
          "state": {
            "_model_module": "@jupyter-widgets/controls",
            "_model_module_version": "1.5.0",
            "_model_name": "ProgressStyleModel",
            "_view_count": null,
            "_view_module": "@jupyter-widgets/base",
            "_view_module_version": "1.2.0",
            "_view_name": "StyleView",
            "bar_color": null,
            "description_width": ""
          }
        },
        "3e0abddf8e9846f284242f88986d4be2": {
          "model_module": "@jupyter-widgets/base",
          "model_name": "LayoutModel",
          "model_module_version": "1.2.0",
          "state": {
            "_model_module": "@jupyter-widgets/base",
            "_model_module_version": "1.2.0",
            "_model_name": "LayoutModel",
            "_view_count": null,
            "_view_module": "@jupyter-widgets/base",
            "_view_module_version": "1.2.0",
            "_view_name": "LayoutView",
            "align_content": null,
            "align_items": null,
            "align_self": null,
            "border": null,
            "bottom": null,
            "display": null,
            "flex": null,
            "flex_flow": null,
            "grid_area": null,
            "grid_auto_columns": null,
            "grid_auto_flow": null,
            "grid_auto_rows": null,
            "grid_column": null,
            "grid_gap": null,
            "grid_row": null,
            "grid_template_areas": null,
            "grid_template_columns": null,
            "grid_template_rows": null,
            "height": null,
            "justify_content": null,
            "justify_items": null,
            "left": null,
            "margin": null,
            "max_height": null,
            "max_width": null,
            "min_height": null,
            "min_width": null,
            "object_fit": null,
            "object_position": null,
            "order": null,
            "overflow": null,
            "overflow_x": null,
            "overflow_y": null,
            "padding": null,
            "right": null,
            "top": null,
            "visibility": null,
            "width": null
          }
        },
        "940e683286034b1daddd9534d535c916": {
          "model_module": "@jupyter-widgets/controls",
          "model_name": "DescriptionStyleModel",
          "model_module_version": "1.5.0",
          "state": {
            "_model_module": "@jupyter-widgets/controls",
            "_model_module_version": "1.5.0",
            "_model_name": "DescriptionStyleModel",
            "_view_count": null,
            "_view_module": "@jupyter-widgets/base",
            "_view_module_version": "1.2.0",
            "_view_name": "StyleView",
            "description_width": ""
          }
        }
      }
    }
  },
  "cells": [
    {
      "cell_type": "markdown",
      "metadata": {
        "id": "X5zwGMzVD0pF"
      },
      "source": [
        "# RNN / BiLSTM \n",
        "\n",
        "The basic idea of a Neural Network is having many perceptrons connected to each other in a network, immitating the way neurons are connected in the brain through their axons.\n",
        "\n",
        "![image.png](data:image/png;base64,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)\n",
        "\n",
        "\n",
        "Like any other supervised classifier (k-NN, Logistic-Regression, Naive Bayes, Support Vector Machine), also neural networks expects some input vector (a list of numbers) in a fixed size, a fixed length, and they output a vector in a fixed length.\n",
        "\n",
        "But neural Networks are very flexible. **You** decide how many neurons it will be made of: How many input neurons, hidden middle neurons and layers, and output neurons it will have. The number of input and output neurons that you set, determins the size of those input and output vectors (the input can only accept one single number, and every neuron can output only one single number).\n",
        "\n",
        "So, if this is the case - how can we process sentences? After all, they come in different sizes:\n",
        "\n",
        "- \"Yes\".\n",
        "- \"Five famous artworks were displayed upside down.\"\n",
        "- \"On offering to help the blind man, the man who then stole his car, had not, at that precise moment, had any evil intention, quite the contrary, what he did was nothing more than obey those feelings of generosity and altruism which, as everyone knows, are the two best traits of human nature and to be found in much more hardened criminals than this one, a simple car-thief without any hope of advancing in his profession, exploited by the real owners of this enterprise, for it is they who take advantage of the needs of the poor.\"\n",
        "\n",
        "How can we tackle that?"
      ]
    },
    {
      "cell_type": "markdown",
      "source": [
        "As we mentioned before, NLP is all about **compromises**. One way to solve it is to simply *limit the number of words a sentence can have*. On one hand we simplify our neural network, but we are aware that we won't be able to handle just every input..."
      ],
      "metadata": {
        "id": "ta9GEI_4cqXB"
      }
    },
    {
      "cell_type": "markdown",
      "source": [
        "#### Recurrent Neural Network (RNN)\n",
        "\n",
        "But here's another idea (which is not new and rooted in the 80's and early 90's - see Elman, Jordan, Mozer, Hopfield, Parallel Distributed \n",
        "Processing group).\n",
        "\n",
        "If we define the NN to handle every time only *2* inputs: \n",
        "1. the sentence's word that we would like to process, and - \n",
        "2. whatever came before that (as one, fixed-sized, input).\n",
        "\n",
        "\n",
        "The following diagram illustrates the idea:\n",
        "\n",
        "\n",
        "![image.png](data:image/png;base64,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)"
      ],
      "metadata": {
        "id": "EovQed2odYrT"
      }
    },
    {
      "cell_type": "markdown",
      "source": [
        "This idea of a recurrent input had developed a lot in the past few decades. The first attempts were not so successful and hard to train due to the nature of the network and the training process: comparing the output to the real, desired, output, calculating this comparison distance, hence giving it some error-score, and updataing the network weights according to this error - but only with a small fraction of that error (due to multiplying it by some learning-rate value). The result was that this error often became 0 quite quicly, and the network simply didn't learn - the weights didn't change.\n",
        "\n",
        "As a result, modern versions of RNN appeared, such as Long Short-Term Memory (LSTM) which the error could be used to teach the network.\n",
        "\n",
        "RNN/LSTMs became the de-facto tool for every NLP practitioner in 2017 (before transformers such as the BERT family), and even today it is widely used for many cases: from OCR of heavly text-documents, limited-resources languages and long documents, cases where the BERT-based models don't perform well. Hence it is still important to get acquaintance with this tool.\n",
        "\n",
        "LSTM is VERY flexible: it can be used to output a single output (e.g., for sentence or document classification) or a sequence of outpus (for document summarization or for translation). "
      ],
      "metadata": {
        "id": "Il-umOW1fU4o"
      }
    },
    {
      "cell_type": "markdown",
      "source": [
        "## Learning Goals\n",
        "In this exercise we will look into LSTM and its building blocks.\n",
        "\n",
        "By the end of this exercise, you should:\n",
        "\n",
        "* know how to put together the building blocks used in RNNs and its variants (LSTM) in pyTorch with an example.\n",
        "* have a good undertanding on how sequences -- any data that has some temporal semantics (e.g., time series, natural language, images etc.) -- fit into and benefit from a recurrent architecture\n",
        "* be familiar with preprocessing text and dynamic embeddings\n",
        "* be familiar with gradient issues on RNNs processing longer sentence lengths\n",
        "* understand different kinds of LSTM architectures, classifiers, sequence to sequence models and their far-reaching applications\n",
        "\n"
      ],
      "metadata": {
        "id": "LtjOWlHEaB5x"
      }
    },
    {
      "cell_type": "markdown",
      "source": [
        "## 1. Intent Classification: FeedForward, CNN, RNN, LSTM\n",
        "\n",
        "In this task, we are going to do intent classification on an intent dataset. We are going to build a feedforward net, a convolutional neural net, a recurrent net and combine one or more of them to understand performance of each of them. A sentence can be thought of as a sequence of words that collectively represent meaning. Individual words impact the meaning. Thus, the context matters; words that occur earlier in the sentence influence the sentence's structure and meaning in the latter part of the sentence (e.g., Jose asked Anqi if she were going to the library today). Likewise, words that occur later in a sentence can affect the meaning of earlier words (e.g., Apple is an interesting company). As we have seen in lecture, if we wish to make use of a full sentence's context in both directions, then we should use a bi-directional RNN (e.g., Bi-LSTM). For the purpose of this tutorial, we are going to restrict ourselves to only uni-directional RNNs."
      ],
      "metadata": {
        "id": "FQyNoo36k4al"
      }
    },
    {
      "cell_type": "code",
      "metadata": {
        "id": "7NTgD9mVh-gi"
      },
      "source": [
        "%%capture\n",
        "!pip install bpemb datasets"
      ],
      "execution_count": 36,
      "outputs": []
    },
    {
      "cell_type": "code",
      "metadata": {
        "id": "vrUhaljjLeco"
      },
      "source": [
        "from pathlib import Path\n",
        "from typing import Tuple\n",
        "\n",
        "import pandas as pd\n",
        "import torch\n",
        "import torch.nn.functional as F\n",
        "import torchtext\n",
        "from bpemb import BPEmb\n",
        "from datasets import load_dataset\n",
        "from sklearn.feature_extraction.text import CountVectorizer\n",
        "from torch import Tensor, nn\n",
        "from tqdm.notebook import tqdm"
      ],
      "execution_count": 37,
      "outputs": []
    },
    {
      "cell_type": "code",
      "metadata": {
        "id": "ZYT3W-Rekse4",
        "colab": {
          "base_uri": "https://localhost:8080/"
        },
        "outputId": "a13eb342-e13a-42df-aceb-69cd77202396"
      },
      "source": [
        "if torch.cuda.is_available():\n",
        "  device = torch.device(\"cuda\")\n",
        "else:\n",
        "  device = 'cpu'\n",
        "\n",
        "print(f\"using the device {device}\")"
      ],
      "execution_count": 38,
      "outputs": [
        {
          "output_type": "stream",
          "name": "stdout",
          "text": [
            "using the device cpu\n"
          ]
        }
      ]
    },
    {
      "cell_type": "markdown",
      "source": [
        "Computers have no built-in knowledge of words or their meanings and cannot understand them in any rich way that humans do -- hence, the purpose of Natural Language Processing (NLP). As with any data science, computer science, machine learning task, the first crucial step is to clean (pre-process) your data so that you can soundly make use of it. Within NLP, this first step is called Tokenization and it concerns how to represent each token (a.k.a. word) of your corpus (i.e., dataset).\n",
        "\n"
      ],
      "metadata": {
        "id": "Yb1pNKl8nDJQ"
      }
    },
    {
      "cell_type": "markdown",
      "source": [
        "### Tokenization\n",
        "\n",
        "A token refers to a single, atomic unit of meaning (i.e., a word). How should our computers represent each word? We could read in our corpus word by word and store each word as a String (data structure). However, Strings tend to use more computer memory than Integers and can become cumbersome. As long as we preserve the uniqueness of the tokens and are consistent, we are better off converting each distinct word to a distinct number (Integer). This is standard practice within NLP / computer science / data science, etc. As a simple example of tokenization, we can see a small example.\n",
        "\n",
        "If the five sentences below were our entire corpus, our conversion would look as follows:\n",
        "\n",
        "* i have books - [1, 4, 7]\n",
        "* interesting books are useful [10,2,9,8]\n",
        "* i have computers [1,4,6]\n",
        "* computers are interesting and useful [6,9,11,10,8]\n",
        "* books and computers are both valuable. [2,10,2,9,13,12]\n",
        "* Bye Bye [7,7]\n",
        "\n",
        "Create tokens for vocabulary based on frequency of occurrence. Hence, we assign the following tokens\n",
        "\n",
        "`I-1, books-2, computers-3, have-4, are-5, computers-6,bye-7, useful-8, are-9, and-10,interesting-11, valuable-12, both-13`\n",
        "\n",
        "NOTE: Often times, depending on your NLP task, it is useful to also perform other pre-processing, cleaning steps, such as:\n",
        "\n",
        "* treating each punctuation mark as a token (e.g., , . ! ? are each separate tokens)\n",
        "* lower-casing all words (so that a given word isn't treated differently just because it starts a sentence or not)\n",
        "* separating each sentence with a unique symbol (e.g., and )\n",
        "* removing words that are incredibly common (e.g., function words, (in)definite articles). These are referred to as 'stopwords'). For **language modelling**, we DO NOT remove stopwords. A sentence's meaning needs to include all of the original words."
      ],
      "metadata": {
        "id": "7pNpQRJnqA_9"
      }
    },
    {
      "cell_type": "markdown",
      "source": [
        "### Load Data\n",
        "\n",
        "The package `datasets` from [Huggingface](https://huggingface.co/datasets) is an excellent and a commonly used way to access and use many datasets from the huggingface hub.\n",
        "\n",
        "In this exercise, we will load an **intent dataset** from their hub. Intents are commands we give to digital assistant, such as Siri, Alexa, Google assistant, etc.  \n",
        "\n",
        "#### Have you ever wondered how they work?\n",
        "Virtual assistants operates in three general steps:\n",
        "1. When we say a command, it is first converted from speech to text. \n",
        "2. A model classifies this text into categories (called intents) to determine what the user asks. \n",
        "3. After the intent is predicted, the model extracts the relevant data, according on the intent template, and fills in the needed information.\n",
        "\n",
        "Here we will assume the speech is converted to text, and we will focus on the second step of classifying the intent."
      ],
      "metadata": {
        "id": "6367eW_Zq7x6"
      }
    },
    {
      "cell_type": "code",
      "source": [
        "dataset = load_dataset(\"snips_built_in_intents\", split=\"train\")\n",
        "\n",
        "dataset.features"
      ],
      "metadata": {
        "id": "LGDIYTuNqq2y",
        "outputId": "067ea027-2cc5-4dfe-a836-4d4c9ecd5858",
        "colab": {
          "base_uri": "https://localhost:8080/"
        }
      },
      "execution_count": 39,
      "outputs": [
        {
          "output_type": "stream",
          "name": "stderr",
          "text": [
            "WARNING:datasets.builder:Found cached dataset snips_built_in_intents (/root/.cache/huggingface/datasets/snips_built_in_intents/default/0.0.0/f7f10213b60cb830d41cb190315da7151437d62acb6f21f0159f7afb4cb7c784)\n"
          ]
        },
        {
          "output_type": "execute_result",
          "data": {
            "text/plain": [
              "{'text': Value(dtype='string', id=None),\n",
              " 'label': ClassLabel(names=['ComparePlaces', 'RequestRide', 'GetWeather', 'SearchPlace', 'GetPlaceDetails', 'ShareCurrentLocation', 'GetTrafficInformation', 'BookRestaurant', 'GetDirections', 'ShareETA'], id=None)}"
            ]
          },
          "metadata": {},
          "execution_count": 39
        }
      ]
    },
    {
      "cell_type": "markdown",
      "source": [
        "We can convert the dataset object into different formats. For example, pandas: "
      ],
      "metadata": {
        "id": "w40quEwHuBj8"
      }
    },
    {
      "cell_type": "code",
      "source": [
        "dataset.to_pandas() "
      ],
      "metadata": {
        "id": "yjMrF09zrB5f",
        "outputId": "49f8f954-1145-4cec-ea2e-a6cd804eb027",
        "colab": {
          "base_uri": "https://localhost:8080/",
          "height": 424
        }
      },
      "execution_count": 40,
      "outputs": [
        {
          "output_type": "execute_result",
          "data": {
            "text/plain": [
              "                                                  text  label\n",
              "0              Share my location with Hillary's sister      5\n",
              "1                Send my current location to my father      5\n",
              "2                   Share my current location with Jim      5\n",
              "3                       Send my location to my husband      5\n",
              "4                                     Send my location      5\n",
              "..                                                 ...    ...\n",
              "323       Will it rain tomorrow near my all day event?      2\n",
              "324       I need the weather at Jo's place around 8 pm      2\n",
              "325  What will the weather be like when I get out o...      2\n",
              "326       Show me the forecast for my upcoming weekend      2\n",
              "327                   Should I take a rain coat today?      2\n",
              "\n",
              "[328 rows x 2 columns]"
            ],
            "text/html": [
              "\n",
              "  <div id=\"df-3653f833-10a4-4c8d-9fa2-6f0bea843470\">\n",
              "    <div class=\"colab-df-container\">\n",
              "      <div>\n",
              "<style scoped>\n",
              "    .dataframe tbody tr th:only-of-type {\n",
              "        vertical-align: middle;\n",
              "    }\n",
              "\n",
              "    .dataframe tbody tr th {\n",
              "        vertical-align: top;\n",
              "    }\n",
              "\n",
              "    .dataframe thead th {\n",
              "        text-align: right;\n",
              "    }\n",
              "</style>\n",
              "<table border=\"1\" class=\"dataframe\">\n",
              "  <thead>\n",
              "    <tr style=\"text-align: right;\">\n",
              "      <th></th>\n",
              "      <th>text</th>\n",
              "      <th>label</th>\n",
              "    </tr>\n",
              "  </thead>\n",
              "  <tbody>\n",
              "    <tr>\n",
              "      <th>0</th>\n",
              "      <td>Share my location with Hillary's sister</td>\n",
              "      <td>5</td>\n",
              "    </tr>\n",
              "    <tr>\n",
              "      <th>1</th>\n",
              "      <td>Send my current location to my father</td>\n",
              "      <td>5</td>\n",
              "    </tr>\n",
              "    <tr>\n",
              "      <th>2</th>\n",
              "      <td>Share my current location with Jim</td>\n",
              "      <td>5</td>\n",
              "    </tr>\n",
              "    <tr>\n",
              "      <th>3</th>\n",
              "      <td>Send my location to my husband</td>\n",
              "      <td>5</td>\n",
              "    </tr>\n",
              "    <tr>\n",
              "      <th>4</th>\n",
              "      <td>Send my location</td>\n",
              "      <td>5</td>\n",
              "    </tr>\n",
              "    <tr>\n",
              "      <th>...</th>\n",
              "      <td>...</td>\n",
              "      <td>...</td>\n",
              "    </tr>\n",
              "    <tr>\n",
              "      <th>323</th>\n",
              "      <td>Will it rain tomorrow near my all day event?</td>\n",
              "      <td>2</td>\n",
              "    </tr>\n",
              "    <tr>\n",
              "      <th>324</th>\n",
              "      <td>I need the weather at Jo's place around 8 pm</td>\n",
              "      <td>2</td>\n",
              "    </tr>\n",
              "    <tr>\n",
              "      <th>325</th>\n",
              "      <td>What will the weather be like when I get out o...</td>\n",
              "      <td>2</td>\n",
              "    </tr>\n",
              "    <tr>\n",
              "      <th>326</th>\n",
              "      <td>Show me the forecast for my upcoming weekend</td>\n",
              "      <td>2</td>\n",
              "    </tr>\n",
              "    <tr>\n",
              "      <th>327</th>\n",
              "      <td>Should I take a rain coat today?</td>\n",
              "      <td>2</td>\n",
              "    </tr>\n",
              "  </tbody>\n",
              "</table>\n",
              "<p>328 rows × 2 columns</p>\n",
              "</div>\n",
              "      <button class=\"colab-df-convert\" onclick=\"convertToInteractive('df-3653f833-10a4-4c8d-9fa2-6f0bea843470')\"\n",
              "              title=\"Convert this dataframe to an interactive table.\"\n",
              "              style=\"display:none;\">\n",
              "        \n",
              "  <svg xmlns=\"http://www.w3.org/2000/svg\" height=\"24px\"viewBox=\"0 0 24 24\"\n",
              "       width=\"24px\">\n",
              "    <path d=\"M0 0h24v24H0V0z\" fill=\"none\"/>\n",
              "    <path d=\"M18.56 5.44l.94 2.06.94-2.06 2.06-.94-2.06-.94-.94-2.06-.94 2.06-2.06.94zm-11 1L8.5 8.5l.94-2.06 2.06-.94-2.06-.94L8.5 2.5l-.94 2.06-2.06.94zm10 10l.94 2.06.94-2.06 2.06-.94-2.06-.94-.94-2.06-.94 2.06-2.06.94z\"/><path d=\"M17.41 7.96l-1.37-1.37c-.4-.4-.92-.59-1.43-.59-.52 0-1.04.2-1.43.59L10.3 9.45l-7.72 7.72c-.78.78-.78 2.05 0 2.83L4 21.41c.39.39.9.59 1.41.59.51 0 1.02-.2 1.41-.59l7.78-7.78 2.81-2.81c.8-.78.8-2.07 0-2.86zM5.41 20L4 18.59l7.72-7.72 1.47 1.35L5.41 20z\"/>\n",
              "  </svg>\n",
              "      </button>\n",
              "      \n",
              "  <style>\n",
              "    .colab-df-container {\n",
              "      display:flex;\n",
              "      flex-wrap:wrap;\n",
              "      gap: 12px;\n",
              "    }\n",
              "\n",
              "    .colab-df-convert {\n",
              "      background-color: #E8F0FE;\n",
              "      border: none;\n",
              "      border-radius: 50%;\n",
              "      cursor: pointer;\n",
              "      display: none;\n",
              "      fill: #1967D2;\n",
              "      height: 32px;\n",
              "      padding: 0 0 0 0;\n",
              "      width: 32px;\n",
              "    }\n",
              "\n",
              "    .colab-df-convert:hover {\n",
              "      background-color: #E2EBFA;\n",
              "      box-shadow: 0px 1px 2px rgba(60, 64, 67, 0.3), 0px 1px 3px 1px rgba(60, 64, 67, 0.15);\n",
              "      fill: #174EA6;\n",
              "    }\n",
              "\n",
              "    [theme=dark] .colab-df-convert {\n",
              "      background-color: #3B4455;\n",
              "      fill: #D2E3FC;\n",
              "    }\n",
              "\n",
              "    [theme=dark] .colab-df-convert:hover {\n",
              "      background-color: #434B5C;\n",
              "      box-shadow: 0px 1px 3px 1px rgba(0, 0, 0, 0.15);\n",
              "      filter: drop-shadow(0px 1px 2px rgba(0, 0, 0, 0.3));\n",
              "      fill: #FFFFFF;\n",
              "    }\n",
              "  </style>\n",
              "\n",
              "      <script>\n",
              "        const buttonEl =\n",
              "          document.querySelector('#df-3653f833-10a4-4c8d-9fa2-6f0bea843470 button.colab-df-convert');\n",
              "        buttonEl.style.display =\n",
              "          google.colab.kernel.accessAllowed ? 'block' : 'none';\n",
              "\n",
              "        async function convertToInteractive(key) {\n",
              "          const element = document.querySelector('#df-3653f833-10a4-4c8d-9fa2-6f0bea843470');\n",
              "          const dataTable =\n",
              "            await google.colab.kernel.invokeFunction('convertToInteractive',\n",
              "                                                     [key], {});\n",
              "          if (!dataTable) return;\n",
              "\n",
              "          const docLinkHtml = 'Like what you see? Visit the ' +\n",
              "            '<a target=\"_blank\" href=https://colab.research.google.com/notebooks/data_table.ipynb>data table notebook</a>'\n",
              "            + ' to learn more about interactive tables.';\n",
              "          element.innerHTML = '';\n",
              "          dataTable['output_type'] = 'display_data';\n",
              "          await google.colab.output.renderOutput(dataTable, element);\n",
              "          const docLink = document.createElement('div');\n",
              "          docLink.innerHTML = docLinkHtml;\n",
              "          element.appendChild(docLink);\n",
              "        }\n",
              "      </script>\n",
              "    </div>\n",
              "  </div>\n",
              "  "
            ]
          },
          "metadata": {},
          "execution_count": 40
        }
      ]
    },
    {
      "cell_type": "markdown",
      "source": [
        "Or into a dictionary:"
      ],
      "metadata": {
        "id": "Ed3SoLJiuVDu"
      }
    },
    {
      "cell_type": "code",
      "source": [
        "dataset_dict = dataset.to_dict()\n",
        "X_train = dataset_dict['text']\n",
        "y_train = dataset_dict['label']\n",
        "\n",
        "assert len(X_train) > 0\n",
        "assert len(X_train) == len(y_train)\n",
        "\n",
        "print(f\"number of intents: {len(X_train)}\")\n",
        "print('Length of first and fifth intent before padding', len(X_train[0]) ,len(X_train[4]))\n",
        "print('First intent: ', X_train[0])\n",
        "print('First label: ', y_train[0])\n"
      ],
      "metadata": {
        "id": "gnEp6VcuuIqX",
        "outputId": "da669a98-41db-454e-f3d6-fff1a35b1bf8",
        "colab": {
          "base_uri": "https://localhost:8080/"
        }
      },
      "execution_count": 41,
      "outputs": [
        {
          "output_type": "stream",
          "name": "stdout",
          "text": [
            "number of intents: 328\n",
            "Length of first and fifth intent before padding 39 16\n",
            "First intent:  Share my location with Hillary's sister\n",
            "First label:  5\n"
          ]
        }
      ]
    },
    {
      "cell_type": "markdown",
      "source": [
        "## MODEL 1A : FEED-FORWARD NETWORKS WITHOUT EMBEDDINGS\n",
        "\n",
        "First we must tokenize our dataset, break the sentences into words and assign each word a unique number. \n",
        "\n",
        "We have multiple options To process our tokenized sentences through a neural network. For example:\n",
        "1. We can use a one-hot vector or a count-vector as long as the size of our vocabulary to represent each sentence, and match accordingly the network input layer to be the same size of our vocabulary. The input is then a bag-of-words.\n",
        "2. Alternatively, we can set the input layer to a fixed size, say 256. Every sentence is then broken down into a list of word-indeces, and either padded with zeros if its length is less than 256, or broken down to multiple inputs if it is longer han 255.   \n",
        "\n",
        "We will do it here in the second way, with a fixed input size."
      ],
      "metadata": {
        "id": "Js0NMGjnvN5C"
      }
    },
    {
      "cell_type": "code",
      "source": [
        "# First we need a tokenizer. We use the pytorch one:\n",
        "tokenizer = torchtext.data.utils.get_tokenizer('basic_english')\n",
        "# and we use the .map method of the dataset, to apply the tokenizer to every\n",
        "# sample in our dataset:\n",
        "tokenize_data = lambda example, tokenizer: {'tokens': tokenizer(example['text'])}  \n",
        "tokenized_dataset = dataset.map(tokenize_data, remove_columns=['text'], fn_kwargs={'tokenizer': tokenizer})\n",
        "\n",
        "# Now our dataset is tokenized:\n",
        "print(tokenized_dataset[80:88]['tokens'])"
      ],
      "metadata": {
        "id": "Bq2QMYdkAXrI",
        "outputId": "a0df09c0-bb2f-4666-9286-a01351f68634",
        "colab": {
          "base_uri": "https://localhost:8080/"
        }
      },
      "execution_count": 50,
      "outputs": [
        {
          "output_type": "stream",
          "name": "stderr",
          "text": [
            "WARNING:datasets.arrow_dataset:Loading cached processed dataset at /root/.cache/huggingface/datasets/snips_built_in_intents/default/0.0.0/f7f10213b60cb830d41cb190315da7151437d62acb6f21f0159f7afb4cb7c784/cache-23cfd1d4f751869d.arrow\n"
          ]
        },
        {
          "output_type": "stream",
          "name": "stdout",
          "text": [
            "[['give', 'me', 'steve', \"'\", 's', 'address', 'in', 'manhattan'], ['does', 'cafe', 'gitane', 'have', 'wifi', '?'], ['what', \"'\", 's', 'today', \"'\", 's', 'menu', 'at', 'the', 'water', 'club', '?'], ['when', 'is', 'it', 'the', 'quietest', 'at', 'good', 'luck', 'bar', '?'], ['is', 'there', 'valet', 'parking', 'at', 'kang', 'ho', 'dong', 'baekjeong', '?'], ['show', 'me', 'the', 'cheapest', 'cocktail', 'bar', 'near', 'the', 'hotel', 'my', 'sister', 'stays', 'in'], ['find', 'me', 'a', 'restaurant', 'similar', 'to', 'the', 'one', 'i', 'went', 'to', 'yesterday', 'evening'], ['show', 'me', 'the', 'closest', 'restaurants', 'with', 'all', 'you', 'can', 'eat', 'buffets']]\n"
          ]
        }
      ]
    },
    {
      "cell_type": "code",
      "source": [
        "# Next we need to convert the words into numeric representation.\n",
        "# We first build a vocabulary with all the different words, each has an ID:\n",
        "vocab = torchtext.vocab.build_vocab_from_iterator(tokenized_dataset['tokens'], \n",
        "                                                  min_freq=3) \n",
        "\n",
        "# And we add two more tokens for unknown words and 'end-of-sentence':\n",
        "vocab.insert_token('<unk>', 0)\n",
        "vocab.insert_token('<eos>', 1)\n",
        "vocab.set_default_index(vocab['<unk>'])\n",
        "\n",
        "print(f\"The vocabulary size is: {len(vocab)}\")                         \n",
        "print(vocab.get_itos()[:20])"
      ],
      "metadata": {
        "id": "F2UCRMrSCCEG",
        "outputId": "4b28eae7-8dc4-4f7b-ef1c-00ff9ac23f71",
        "colab": {
          "base_uri": "https://localhost:8080/"
        }
      },
      "execution_count": 51,
      "outputs": [
        {
          "output_type": "stream",
          "name": "stdout",
          "text": [
            "The vocabulary size is: 210\n",
            "['<unk>', '<eos>', 'the', 'to', '?', 'a', 'my', 'at', \"'\", 'for', 's', 'i', 'me', 'is', 'table', 'book', 'what', 'in', 'with', 'restaurant']\n"
          ]
        }
      ]
    },
    {
      "cell_type": "markdown",
      "source": [
        "#### Processing in batches\n",
        "\n",
        "In Neural Networks, we can't feed all the data at once - we don't have enough memory for it. On the other side, we don't want to process one sample after another... So instead, we process them in smaller groups called **batches**.\n",
        "\n",
        "The batch size is actually a hyperparameter for training the network. It depends on your GPU's memory size and has also an affect the model performance."
      ],
      "metadata": {
        "id": "YTjIRqBDXNOW"
      }
    },
    {
      "cell_type": "code",
      "source": [
        "# To process the data in batches, one option is to just stack all the sentences \n",
        "# together, as shown here:\n",
        "# https://towardsdatascience.com/language-modeling-with-lstms-in-pytorch-381a26badcbf\n",
        "\n",
        "def get_data(dataset, vocab, batch_size):\n",
        "    data = []\n",
        "    for example in dataset:\n",
        "        if example['tokens']:\n",
        "            tokens = example['tokens'].append('<eos>')             \n",
        "            tokens = [vocab[token] for token in example['tokens']] \n",
        "            data.extend(tokens)\n",
        "    data = torch.LongTensor(data)\n",
        "    num_batches = data.shape[0] // batch_size\n",
        "    data = data[:num_batches * batch_size]\n",
        "    data = data.view(batch_size, num_batches)\n",
        "    return data\n",
        "\n",
        "# Notice that train_data[:, i] is the batch of next tokens for train_data[:, i - 1] "
      ],
      "metadata": {
        "id": "RxnKvlnfDHny"
      },
      "execution_count": 45,
      "outputs": []
    },
    {
      "cell_type": "code",
      "source": [
        "data = get_data(tokenized_dataset, vocab, 4)\n",
        "print(f\"the data shape is: {data.shape}\")\n",
        "data"
      ],
      "metadata": {
        "id": "AQADfpFSTGB1",
        "outputId": "4e103074-cf97-468f-cb9f-e849b60aad1c",
        "colab": {
          "base_uri": "https://localhost:8080/"
        }
      },
      "execution_count": 52,
      "outputs": [
        {
          "output_type": "stream",
          "name": "stdout",
          "text": [
            "the data shape is: torch.Size([4, 928])\n"
          ]
        },
        {
          "output_type": "execute_result",
          "data": {
            "text/plain": [
              "tensor([[ 29,   6,  37,  ...,   0,   0,   4],\n",
              "        [  1,  78,  13,  ...,   1,  95,   5],\n",
              "        [ 51,   9,  80,  ...,   3, 207,   1],\n",
              "        [172, 102,   3,  ...,  60,   4,   1]])"
            ]
          },
          "metadata": {},
          "execution_count": 52
        }
      ]
    },
    {
      "cell_type": "markdown",
      "source": [
        "However, through this method, we are losing the connection to our target, our y. We could have an input - that has no target to classify...\n",
        "This method works well for training a **language model** (where we always need to detect the next word in the serie), but not for classifying sentences.\n",
        "\n",
        "So, alternatively, instead of packing all the sentences together, we can *pad* them to reach a fixed length. This way, we have fixed size for every sentence, AND we can easily match the X to its y, since we have the same lengthes for both the *X_train* and *y_train*.\n",
        "\n",
        "Let's see how it is done:"
      ],
      "metadata": {
        "id": "8B4JFj3IZ-_N"
      }
    },
    {
      "cell_type": "code",
      "source": [
        "from torch.nn.utils.rnn import pad_sequence\n",
        "\n",
        "dataset.map()\n",
        "\n",
        "def get_data(dataset, vocab, batch_size):\n",
        "    data = []\n",
        "    for example in dataset:\n",
        "        if example['tokens']:\n",
        "            tokens = example['tokens'].append('<eos>')             \n",
        "            tokens = [vocab[token] for token in example['tokens']] \n",
        "            data.extend(tokens)\n",
        "    data = torch.LongTensor(data)\n",
        "    num_batches = data.shape[0] // batch_size\n",
        "    data = data[:num_batches * batch_size]\n",
        "    data = data.view(batch_size, num_batches)\n",
        "    return data\n",
        "\n",
        "# Notice that train_data[:, i] is the batch of next tokens for train_data[:, i - 1] \n"
      ],
      "metadata": {
        "id": "HDZi3cBxZ9nQ"
      },
      "execution_count": null,
      "outputs": []
    },
    {
      "cell_type": "markdown",
      "source": [
        "Now let us build a single-layer feed-forward net in [pyTorch](https://pytorch.org/tutorials/beginner/blitz/neural_networks_tutorial.html) with a single hidden layer of 256 nodes. Each input would be a 625-dim vector of tokens since our vocabulary size is 625."
      ],
      "metadata": {
        "id": "bh_HzFnAx42T"
      }
    },
    {
      "cell_type": "markdown",
      "source": [
        "**EXERCISE**: Calculate the number of parameters involved in this network and implement a feedforward net to do classification **without looking at cells below**.\n"
      ],
      "metadata": {
        "id": "-g1s2tfvyCQ1"
      }
    },
    {
      "cell_type": "code",
      "source": [
        "#@title Click `Show code` to see the answer. { display-mode: \"form\" }\n",
        "class FeedForwardNeuralNetworkModel(nn.Module):\n",
        "  \"\"\"A simple feed forward neural network to process our intents\n",
        "  \"\"\"\n",
        "\n",
        "    def __init__(self):\n",
        "        super(FeedForwardNeuralNetworkModel, self).__init__()\n",
        "\n",
        "        self.input = nn.\n",
        "\n",
        "        # The encoder will be used as the input layer of the network.\n",
        "        # It will convert our words input, into vectors, by converting them into\n",
        "        # word-parts (a sequence of letters), and transforming them into\n",
        "        # a vector representation as its output (which will be the input of our\n",
        "        # LSTM network)\n",
        "        self.encoder = nn.Embedding.from_pretrained(tensor(bpemb_en.vectors))\n",
        "\n",
        "        # LSTM (Long Short-Term Memory) is a version of RNN that 'remembers'\n",
        "        # the previous steps and therefore converges better on longer sequences.\n",
        "        # So instead of using RNN, like so:\n",
        "        # `self.rnn = nn.RNN(ninp, nhid, nlayers, nonlinearity='relu', dropout=dropout)`\n",
        "        # We should use LSTM:\n",
        "        self.rnn = nn.LSTM(ninp, nhid, nlayers, dropout=dropout)\n",
        "\n",
        "        # This is our output layer. \n",
        "        # Notice that the first parameter, its input size must match the LSTM \n",
        "        # output size, and its second parameter, its output size, is the size of\n",
        "        # the classes we want the network to classify. \n",
        "        self.decoder = nn.Linear(nhid, noutp)\n",
        "\n",
        "        # Optionally tie weights as in:\n",
        "        # \"Using the Output Embedding to Improve Language Models\" (Press & Wolf 2016)\n",
        "        # https://arxiv.org/abs/1608.05859\n",
        "        # and\n",
        "        # \"Tying Word Vectors and Word Classifiers: A Loss Framework for Language Modeling\" (Inan et al. 2016)\n",
        "        # https://arxiv.org/abs/1611.01462\n",
        "        if tie_weights:\n",
        "            if nhid != ninp:\n",
        "                raise ValueError(\n",
        "                    \"When using the tied flag, nhid must be equal to ninp (embedding size)\"\n",
        "                )\n",
        "            self.decoder.weight = self.encoder.weight\n",
        "\n",
        "        self.init_weights()\n",
        "\n",
        "        self.nhid = nhid\n",
        "        self.nlayers = nlayers\n",
        "\n",
        "    def init_weights(self):\n",
        "        \"\"\"Initializes the network weights.\n",
        "        Good initialization is half of the training!\n",
        "        We can't just set all the weights to 1s or 0s - the calculation simply won't work.\n",
        "        So instead, we're using some other statistical ways to initialize them.\n",
        "        Sidenote: there are many different methods to initialize the weights, and it is\n",
        "        a very active resarch field.\n",
        "        \"\"\"\n",
        "        initrange = 0.1\n",
        "        nn.init.uniform_(self.encoder.weight, -initrange, initrange)\n",
        "        nn.init.zeros_(self.decoder.weight)\n",
        "        nn.init.uniform_(self.decoder.weight, -initrange, initrange)\n",
        "\n",
        "    def forward(self, input: torch.Tensor, intermediate_input: torch.Tensor) -> torch.Tensor:\n",
        "        \"\"\"This is the forward-pass of the network, which is used for prediction.\n",
        "        The input will pass thorugh the network layers and neurons until a final result is achieved.\n",
        "        This result is passed through a softmax function to isolate the most promenant class from all.\n",
        "        Learn more about softmax in this excellent visualization video:\n",
        "        https://www.youtube.com/watch?v=ytbYRIN0N4g\n",
        "\n",
        "        Args:\n",
        "            input (nn.Tensor): An input for the network.\n",
        "            intermediate_input (nn.Tensor): A second, intermediate input - such as the output of the previous stage.\n",
        "\n",
        "        Returns:\n",
        "            _type_: _description_\n",
        "        \"\"\"\n",
        "        emb = self.drop(self.encoder(input))\n",
        "        output, new_intermediate_output = self.rnn(emb, intermediate_input)\n",
        "        output = self.drop(output)\n",
        "        decoded = self.decoder(output)\n",
        "        decoded = decoded.view(-1, self.noutp)\n",
        "        return F.log_softmax(decoded, dim=1), new_intermediate_output\n",
        "\n",
        "    def init_hidden(self, batch_size: int):\n",
        "        \"\"\"Initializes the hidden layers.\n",
        "\n",
        "        Args:\n",
        "            batch_size (int): The batch size mean how many training samples we're going to push together into the network.\n",
        "\n",
        "        Returns:\n",
        "            _type_: an initialized hidden layer.\n",
        "        \"\"\"\n",
        "\n",
        "        weight = next(self.parameters())\n",
        "        return (\n",
        "            weight.new_zeros(self.nlayers, batch_size, self.nhid),\n",
        "            weight.new_zeros(self.nlayers, batch_size, self.nhid),\n",
        "        )\n"
      ],
      "metadata": {
        "id": "8KAsTxLOyHsv"
      },
      "execution_count": 59,
      "outputs": []
    },
    {
      "cell_type": "markdown",
      "source": [
        "## Building a Language Model using Word Vectors\n",
        "In this exercise, you will train a *language model* using **LSTM**.\n",
        "\n",
        "We'll load the frankenstein book, tokenize and convert every word into its semantic representation through a word vectors library called BytePair Embedding (BPEmb).\n",
        "\n",
        "\n",
        "### How to train a language model?\n",
        "\n",
        "Training a language model involves a small trick to obtain supervised learning out of unlabaled data. We will re-define our data as such, that for every word we use as the model input $(X=W_n)$, we set the next word of the sentence as the output $(Y = W_{n+1})$\n",
        "\n",
        "Every word in the output, Y, is represented as a one-hot-vector. So if the model outpus the number 942, it means the word in the position 942 of the vocabulary/one-hot-vector.  \n",
        "\n",
        "**Reflect: What is the size of this Vector?**"
      ],
      "metadata": {
        "id": "NusxYB8Sp4aa"
      }
    },
    {
      "cell_type": "markdown",
      "metadata": {
        "id": "aSl2MJaLD-au"
      },
      "source": [
        "## Word Vectors"
      ]
    },
    {
      "cell_type": "markdown",
      "metadata": {
        "id": "spXr-wu8D8P2"
      },
      "source": [
        "Let's convert the text into vectors.\n",
        "\n",
        "In previous exercises, you have used CountVector or OneHotVector to convert a sentence into a bag of words. Since then we've learned about Word-Vectors such as Word2Vec, GloVe, FastText, etc.\n",
        "\n",
        "Here we will use a package called [BPEmb](https://nlp.h-its.org/bpemb/) which encodes words to vectors by dividing these words to **sub-words**, pieces of words, made of characters which frequently appear together. [This source](https://lena-voita.github.io/nlp_course/seq2seq_and_attention.html#bpe) explains very nicely about BytePair embedding and is very recommended read.\n",
        "\n",
        "Reflect: Remember what is the name of the Linguistic level that deals with letter-level? "
      ]
    },
    {
      "cell_type": "code",
      "metadata": {
        "id": "UgKbDV-5qAXc",
        "colab": {
          "base_uri": "https://localhost:8080/"
        },
        "outputId": "f3cff422-9526-4f84-f9af-b06cb9b8c3e1"
      },
      "source": [
        "bpemb_en = BPEmb(lang=\"en\")"
      ],
      "execution_count": 5,
      "outputs": [
        {
          "output_type": "stream",
          "name": "stdout",
          "text": [
            "downloading https://nlp.h-its.org/bpemb/en/en.wiki.bpe.vs10000.model\n"
          ]
        },
        {
          "output_type": "stream",
          "name": "stderr",
          "text": [
            "100%|██████████| 400869/400869 [00:00<00:00, 1328843.00B/s]\n"
          ]
        },
        {
          "output_type": "stream",
          "name": "stdout",
          "text": [
            "downloading https://nlp.h-its.org/bpemb/en/en.wiki.bpe.vs10000.d100.w2v.bin.tar.gz\n"
          ]
        },
        {
          "output_type": "stream",
          "name": "stderr",
          "text": [
            "100%|██████████| 3784656/3784656 [00:00<00:00, 5243944.82B/s]\n"
          ]
        }
      ]
    },
    {
      "cell_type": "code",
      "metadata": {
        "id": "FnWzITC8qCvw",
        "outputId": "23228638-83b2-417a-f420-6077a7086672",
        "colab": {
          "base_uri": "https://localhost:8080/"
        }
      },
      "source": [
        "bpemb_en.vectors.shape"
      ],
      "execution_count": 6,
      "outputs": [
        {
          "output_type": "execute_result",
          "data": {
            "text/plain": [
              "(10000, 100)"
            ]
          },
          "metadata": {},
          "execution_count": 6
        }
      ]
    },
    {
      "cell_type": "markdown",
      "metadata": {
        "id": "kaV2IRzjEClD"
      },
      "source": [
        "We will use this helper function to download and load the corpus data (the books) into a variable:"
      ]
    },
    {
      "cell_type": "code",
      "metadata": {
        "id": "MVl_hJ8yNktz"
      },
      "source": [
        "book_filename = \"frankenstein.txt\"\n",
        "\n",
        "def get_file(filename: str = \"frankenstein.txt\"):\n",
        "    \"\"\"Download, read and return the content of a given file.\n",
        "\n",
        "    Args:\n",
        "        filename (str, optional): A name of a text file to download.\n",
        "        Can be either \"dracula.txt\" or 'frankenstein.txt\"\n",
        "        . Defaults to \"frankenstein.txt\".\n",
        "\n",
        "    Returns:\n",
        "        _type_: The text content of this file.\n",
        "    \"\"\"\n",
        "    downloaded_book_file = tf.keras.utils.get_file(\n",
        "        filename,\n",
        "        origin=f\"https://raw.githubusercontent.com/liadmagen/NLP-Course/master/dataset/{filename}\",\n",
        "    )\n",
        "    book_text = Path(downloaded_book_file).read_text(encoding=\"utf-8\")\n",
        "    book_text = book_text.replace(\"\\n\", \" \")  # Remove line-breaks & newlines\n",
        "    print(\"Corpus length:\", len(book_text))\n",
        "    return book_text"
      ],
      "execution_count": 21,
      "outputs": []
    },
    {
      "cell_type": "markdown",
      "metadata": {
        "id": "t2iZ2Ol3EbU9"
      },
      "source": [
        "## RNN Model\n",
        "And this is the model itself. This is a very raw structure of it. \n",
        "\n",
        "Note: In 'real-ilfe' we're using helping frameworks such as [ignite](https://pytorch.org/ignite/) or [lightning](https://www.pytorchlightning.ai/). \n",
        "\n",
        "We bring it in this version here, for learning purposes only.\n",
        "\n",
        "To learn more about LSTM - please visit this tutorial:\n",
        "\n",
        "https://pytorch.org/tutorials/beginner/nlp/sequence_models_tutorial.html"
      ]
    },
    {
      "cell_type": "code",
      "metadata": {
        "id": "a768GRY4TXVH"
      },
      "source": [
        "class RNNModel(nn.Module):\n",
        "    \"\"\"Container module with an encoder, a recurrent module, and a decoder.\"\"\"\n",
        "\n",
        "    def __init__(\n",
        "        self,\n",
        "        ninp: int,\n",
        "        noutp: int,\n",
        "        nhid: int,\n",
        "        nlayers: int,\n",
        "        dropout: float = 0.5,\n",
        "        tie_weights: bool = False,\n",
        "    ):\n",
        "        \"\"\"_summary_\n",
        "\n",
        "        Args:\n",
        "            ninp (int): LSTM input size\n",
        "            noutp (int): The network output size (representing the number of output classes)\n",
        "            nhid (int): The number of neurons in each hidden layer\n",
        "            nlayers (int): The number of hidden layers\n",
        "            dropout (float, optional): Weights dropout rate (helps to regularize and generalize the network). Defaults to 0.5.\n",
        "            tie_weights (bool, optional): Whether to use tie_weights (see note). Defaults to False.\n",
        "\n",
        "        Raises:\n",
        "            ValueError: _description_\n",
        "        \"\"\"\n",
        "\n",
        "        super(RNNModel, self).__init__()\n",
        "        self.noutp = noutp\n",
        "        self.drop = nn.Dropout(dropout)\n",
        "\n",
        "        # The encoder will be used as the input layer of the network.\n",
        "        # It will convert our words input, into vectors, by converting them into\n",
        "        # word-parts (a sequence of letters), and transforming them into\n",
        "        # a vector representation as its output (which will be the input of our\n",
        "        # LSTM network)\n",
        "        self.encoder = nn.Embedding.from_pretrained(tensor(bpemb_en.vectors))\n",
        "\n",
        "        # LSTM (Long Short-Term Memory) is a version of RNN that 'remembers'\n",
        "        # the previous steps and therefore converges better on longer sequences.\n",
        "        # So instead of using RNN, like so:\n",
        "        # `self.rnn = nn.RNN(ninp, nhid, nlayers, nonlinearity='relu', dropout=dropout)`\n",
        "        # We should use LSTM:\n",
        "        self.rnn = nn.LSTM(ninp, nhid, nlayers, dropout=dropout)\n",
        "\n",
        "        # This is our output layer. \n",
        "        # Notice that the first parameter, its input size must match the LSTM \n",
        "        # output size, and its second parameter, its output size, is the size of\n",
        "        # the classes we want the network to classify. \n",
        "        self.decoder = nn.Linear(nhid, noutp)\n",
        "\n",
        "        # Optionally tie weights as in:\n",
        "        # \"Using the Output Embedding to Improve Language Models\" (Press & Wolf 2016)\n",
        "        # https://arxiv.org/abs/1608.05859\n",
        "        # and\n",
        "        # \"Tying Word Vectors and Word Classifiers: A Loss Framework for Language Modeling\" (Inan et al. 2016)\n",
        "        # https://arxiv.org/abs/1611.01462\n",
        "        if tie_weights:\n",
        "            if nhid != ninp:\n",
        "                raise ValueError(\n",
        "                    \"When using the tied flag, nhid must be equal to ninp (embedding size)\"\n",
        "                )\n",
        "            self.decoder.weight = self.encoder.weight\n",
        "\n",
        "        self.init_weights()\n",
        "\n",
        "        self.nhid = nhid\n",
        "        self.nlayers = nlayers\n",
        "\n",
        "    def init_weights(self):\n",
        "        \"\"\"Initializes the network weights.\n",
        "        Good initialization is half of the training!\n",
        "        We can't just set all the weights to 1s or 0s - the calculation simply won't work.\n",
        "        So instead, we're using some other statistical ways to initialize them.\n",
        "        Sidenote: there are many different methods to initialize the weights, and it is\n",
        "        a very active resarch field.\n",
        "        \"\"\"\n",
        "        initrange = 0.1\n",
        "        nn.init.uniform_(self.encoder.weight, -initrange, initrange)\n",
        "        nn.init.zeros_(self.decoder.weight)\n",
        "        nn.init.uniform_(self.decoder.weight, -initrange, initrange)\n",
        "\n",
        "    def forward(self, input: torch.Tensor, intermediate_input: torch.Tensor) -> torch.Tensor:\n",
        "        \"\"\"This is the forward-pass of the network, which is used for prediction.\n",
        "        The input will pass thorugh the network layers and neurons until a final result is achieved.\n",
        "        This result is passed through a softmax function to isolate the most promenant class from all.\n",
        "        Learn more about softmax in this excellent visualization video:\n",
        "        https://www.youtube.com/watch?v=ytbYRIN0N4g\n",
        "\n",
        "        Args:\n",
        "            input (nn.Tensor): An input for the network.\n",
        "            intermediate_input (nn.Tensor): A second, intermediate input - such as the output of the previous stage.\n",
        "\n",
        "        Returns:\n",
        "            _type_: _description_\n",
        "        \"\"\"\n",
        "        emb = self.drop(self.encoder(input))\n",
        "        output, new_intermediate_output = self.rnn(emb, intermediate_input)\n",
        "        output = self.drop(output)\n",
        "        decoded = self.decoder(output)\n",
        "        decoded = decoded.view(-1, self.noutp)\n",
        "        return F.log_softmax(decoded, dim=1), new_intermediate_output\n",
        "\n",
        "    def init_hidden(self, batch_size: int):\n",
        "        \"\"\"Initializes the hidden layers.\n",
        "\n",
        "        Args:\n",
        "            batch_size (int): The batch size mean how many training samples we're going to push together into the network.\n",
        "\n",
        "        Returns:\n",
        "            _type_: an initialized hidden layer.\n",
        "        \"\"\"\n",
        "\n",
        "        weight = next(self.parameters())\n",
        "        return (\n",
        "            weight.new_zeros(self.nlayers, batch_size, self.nhid),\n",
        "            weight.new_zeros(self.nlayers, batch_size, self.nhid),\n",
        "        )\n"
      ],
      "execution_count": 22,
      "outputs": []
    },
    {
      "cell_type": "markdown",
      "metadata": {
        "id": "vsVkK0WRE4us"
      },
      "source": [
        "A helper class to convert the tokens into batches:"
      ]
    },
    {
      "cell_type": "code",
      "metadata": {
        "id": "-cc83Hwah0Hc"
      },
      "source": [
        "def batchify(data, batch_size):\n",
        "    # Work out how cleanly we can divide the dataset into batch_size parts.\n",
        "    nbatch = data.size(0) // batch_size\n",
        "\n",
        "    # Trim off any extra elements that wouldn't cleanly fit (remainders).\n",
        "    data = data.narrow(0, 0, nbatch * batch_size)\n",
        "    \n",
        "    # Evenly divide the data across the batch_size batches.\n",
        "    data = data.view(batch_size, -1).t().contiguous()\n",
        "    \n",
        "    return data.to(device)"
      ],
      "execution_count": 23,
      "outputs": []
    },
    {
      "cell_type": "markdown",
      "metadata": {
        "id": "EFFTghmZE8JO"
      },
      "source": [
        "Let's load the data:"
      ]
    },
    {
      "cell_type": "code",
      "metadata": {
        "id": "uJq1xx_Lj813",
        "outputId": "aaf80e3a-d7b0-4110-cb94-6e900f814624",
        "colab": {
          "base_uri": "https://localhost:8080/"
        }
      },
      "source": [
        "train_corpus = get_file('dracula.txt')\n",
        "val_corpus = get_file('frankenstein.txt')\n",
        "\n",
        "print(train_corpus[:300])\n",
        "print(val_corpus[:300])"
      ],
      "execution_count": 24,
      "outputs": [
        {
          "output_type": "stream",
          "name": "stdout",
          "text": [
            "Corpus length: 842159\n",
            "Corpus length: 420726\n",
            "Dracula, by Bram Stoker  CHAPTER I  JONATHAN HARKER'S JOURNAL  (_Kept in shorthand._)   _3 May. Bistritz._--Left Munich at 8:35 P. M., on 1st May, arriving at Vienna early next morning; should have arrived at 6:46, but train was an hour late. Buda-Pesth seems a wonderful place, from the glimpse whic\n",
            "Frankenstein, or, the Modern Prometheus by Mary Wollstonecraft (Godwin) Shelley  Letter 1  _To Mrs. Saville, England._   St. Petersburgh, Dec. 11th, 17—.   You will rejoice to hear that no disaster has accompanied the commencement of an enterprise which you have regarded with such evil forebodings. \n"
          ]
        }
      ]
    },
    {
      "cell_type": "markdown",
      "metadata": {
        "id": "3rA2YyF8E9-5"
      },
      "source": [
        "## Semantic representation + word-parts\n",
        "\n",
        "And convert it into vectors:"
      ]
    },
    {
      "cell_type": "code",
      "metadata": {
        "id": "qC4A4ygqiYDd"
      },
      "source": [
        "train_encoded_text = bpemb_en.encode(train_corpus)\n",
        "train_encoded_ids = bpemb_en.encode_ids(train_corpus)\n",
        "\n",
        "val_encoded_text = bpemb_en.encode(val_corpus)\n",
        "val_encoded_ids = bpemb_en.encode_ids(val_corpus)"
      ],
      "execution_count": 25,
      "outputs": []
    },
    {
      "cell_type": "markdown",
      "metadata": {
        "id": "gXmw96xvFEzL"
      },
      "source": [
        "Let's check the result of encoded_text (we'll get to encoded_ids in a moment).\n",
        "\n",
        "Notice that every word is now broken to pieces. \n",
        "\n",
        "A **'_'** mark in the beginning of a token, represents a beginning of a new word."
      ]
    },
    {
      "cell_type": "code",
      "metadata": {
        "id": "oki7xTl5FDyT",
        "outputId": "f9a9a83f-746c-4175-a8e9-6621fde7c4cc",
        "colab": {
          "base_uri": "https://localhost:8080/"
        }
      },
      "source": [
        "train_encoded_text[:50]"
      ],
      "execution_count": 26,
      "outputs": [
        {
          "output_type": "execute_result",
          "data": {
            "text/plain": [
              "['▁dra',\n",
              " 'c',\n",
              " 'ula',\n",
              " ',',\n",
              " '▁by',\n",
              " '▁br',\n",
              " 'am',\n",
              " '▁st',\n",
              " 'oker',\n",
              " '▁chapter',\n",
              " '▁i',\n",
              " '▁jonathan',\n",
              " '▁har',\n",
              " 'ker',\n",
              " \"'\",\n",
              " 's',\n",
              " '▁journal',\n",
              " '▁(',\n",
              " '_',\n",
              " 'ke',\n",
              " 'pt',\n",
              " '▁in',\n",
              " '▁sh',\n",
              " 'or',\n",
              " 'th',\n",
              " 'and',\n",
              " '.',\n",
              " '_',\n",
              " ')',\n",
              " '▁',\n",
              " '_',\n",
              " '0',\n",
              " '▁may',\n",
              " '.',\n",
              " '▁b',\n",
              " 'ist',\n",
              " 'rit',\n",
              " 'z',\n",
              " '.',\n",
              " '_',\n",
              " '-',\n",
              " '-',\n",
              " 'left',\n",
              " '▁mun',\n",
              " 'ich',\n",
              " '▁at',\n",
              " '▁0:00',\n",
              " '▁p',\n",
              " '.',\n",
              " '▁m']"
            ]
          },
          "metadata": {},
          "execution_count": 26
        }
      ]
    },
    {
      "cell_type": "markdown",
      "metadata": {
        "id": "XkpMGwmYFR8E"
      },
      "source": [
        "This method is called **word-parts**. \n",
        "\n",
        "Instead of converting whole words (word2vec, gloVe), or characters (FastText), this method converts slices of text, frequent combinations of characters, which often appear together in the text.\n",
        "\n",
        "It does so by finding the most common and frequent combinations of characters in a very big corpus, counting how many each of those appear and selecting the top K combinations. Pay attention that those combinations may sometimes be just letters: `st`, `z`, or words `journal`, `chapter`. \n",
        "\n",
        "The result is having a vocabulary which is WAY smaller than all-the-words-in-a-language (how big would that would be for English? How big would it be for your native language?) but bigger than a vocabulary that includes all the characters of a language (or multiple languages):\n",
        "\n",
        "**character-based << word-piece based << word-based**"
      ]
    },
    {
      "cell_type": "markdown",
      "metadata": {
        "id": "21-E5O3tF9HK"
      },
      "source": [
        "## Model Parameters"
      ]
    },
    {
      "cell_type": "code",
      "metadata": {
        "id": "kGD8BiR7oT11"
      },
      "source": [
        "batch_size = 32\n",
        "eval_batch_size = 32\n",
        "\n",
        "vocab_size = bpemb_en.vocab_size\n",
        "embsize = bpemb_en.vectors.shape[1]\n",
        "num_of_hidden_layer_neurons = 256\n",
        "hidden_layers = 2"
      ],
      "execution_count": 27,
      "outputs": []
    },
    {
      "cell_type": "markdown",
      "source": [
        "Let's initialize the model with these parameters:"
      ],
      "metadata": {
        "id": "FXQeKolN_L3K"
      }
    },
    {
      "cell_type": "code",
      "metadata": {
        "id": "iAdLH-8YuILA"
      },
      "source": [
        "model = RNNModel(ninp=embsize, noutp=vocab_size, nhid=num_of_hidden_layer_neurons, nlayers=hidden_layers).to(device)"
      ],
      "execution_count": 28,
      "outputs": []
    },
    {
      "cell_type": "markdown",
      "source": [
        "We need some way to compare the model output to the expected result, and calculate this difference into a single number, representing the error.\n",
        "\n",
        "[Negative log likelihood loss](https://pytorch.org/docs/stable/generated/torch.nn.NLLLoss.html) is one example (of many) for such difference function. It is a way to compute the classification difference between the predicted class to the true class, and works well with our log_softmax at the end of the network.  "
      ],
      "metadata": {
        "id": "nxz1j6lq7TCP"
      }
    },
    {
      "cell_type": "code",
      "metadata": {
        "id": "p2g7-0EkqYZh"
      },
      "source": [
        "criterion = nn.NLLLoss()"
      ],
      "execution_count": 29,
      "outputs": []
    },
    {
      "cell_type": "markdown",
      "metadata": {
        "id": "tJ9zbXUwGBXd"
      },
      "source": [
        "## Division to train/validation"
      ]
    },
    {
      "cell_type": "code",
      "metadata": {
        "id": "yyj2AlPwuLui"
      },
      "source": [
        "train_enc_ids = torch.tensor(train_encoded_ids).type(torch.int64)\n",
        "train_data = batchify(train_enc_ids, batch_size)\n",
        "\n",
        "val_enc_ids = torch.tensor(val_encoded_ids).type(torch.int64)\n",
        "val_data = batchify(val_enc_ids, batch_size)"
      ],
      "execution_count": 30,
      "outputs": []
    },
    {
      "cell_type": "markdown",
      "source": [
        "After batchify, our text is divided into fixed-size batches of word indices."
      ],
      "metadata": {
        "id": "sLXbRHg64nlE"
      }
    },
    {
      "cell_type": "code",
      "source": [
        "print(f\"training data size: {train_data.shape} \\n\")\n",
        "train_data"
      ],
      "metadata": {
        "colab": {
          "base_uri": "https://localhost:8080/"
        },
        "id": "iBSo3doE4kbT",
        "outputId": "d985ebc9-0b1f-4435-b633-704e3cdc57b9"
      },
      "execution_count": 32,
      "outputs": [
        {
          "output_type": "stream",
          "name": "stdout",
          "text": [
            "training data size: torch.Size([6972, 32]) \n",
            "\n"
          ]
        },
        {
          "output_type": "execute_result",
          "data": {
            "text/plain": [
              "tensor([[1187,    7, 4003,  ...,  107,  204, 9948],\n",
              "        [9924, 3027, 9935,  ...,   42, 9937, 9940],\n",
              "        [2206, 1274,    7,  ...,  619, 9920, 9940],\n",
              "        ...,\n",
              "        [1842, 7579,   27,  ...,    7, 1597,   72],\n",
              "        [6732,   71, 4280,  ...,   91,  107,  335],\n",
              "        [ 544,    7,  154,  ...,  363,   73,   10]])"
            ]
          },
          "metadata": {},
          "execution_count": 32
        }
      ]
    },
    {
      "cell_type": "code",
      "metadata": {
        "id": "CaDDZuY7qyRH"
      },
      "source": [
        "def repackage_hidden(h):\n",
        "    \"\"\"Wraps hidden states in new Tensors, to detach them from their history.\"\"\"\n",
        "\n",
        "    if isinstance(h, torch.Tensor):\n",
        "        return h.detach()\n",
        "    else:\n",
        "        return tuple(repackage_hidden(v) for v in h)\n"
      ],
      "execution_count": 33,
      "outputs": []
    },
    {
      "cell_type": "markdown",
      "source": [
        "We return the current batch (current words) and the next one as the target (the n+1 words)."
      ],
      "metadata": {
        "id": "HV4TIgm2Gi4k"
      }
    },
    {
      "cell_type": "code",
      "metadata": {
        "id": "Vj9TGJMkypM9"
      },
      "source": [
        "def get_batch(source, i):\n",
        "    seq_len = min(batch_size, len(source) - 1 - i)\n",
        "    data = source[i:i+seq_len]\n",
        "    target = source[i+1:i+1+seq_len].view(-1)\n",
        "    return data, target"
      ],
      "execution_count": 34,
      "outputs": []
    },
    {
      "cell_type": "code",
      "source": [
        "curr_batch, next_batch = get_batch(train_data, 0)\n",
        "print(\"Current sentence IDs: \", curr_batch[0])\n",
        "print(\"Target token id:\", next_batch[0].item())\n",
        "\n",
        "print(\"Current sentence: \", bpemb_en.decode_ids(curr_batch[0].tolist()))\n",
        "print(\"Target token: \", bpemb_en.decode_ids([next_batch[0].item()]))"
      ],
      "metadata": {
        "colab": {
          "base_uri": "https://localhost:8080/"
        },
        "id": "6CxQV2lsGuBa",
        "outputId": "23edf6dd-bcb6-48a1-8481-810ca0ebcc9f"
      },
      "execution_count": 35,
      "outputs": [
        {
          "output_type": "stream",
          "name": "stdout",
          "text": [
            "Current sentence IDs:  tensor([1187,    7, 4003, 4062, 9951,   34,  142,  120, 9976, 1022, 6948,  437,\n",
            "         280,    7,   25,  394, 3238,  352, 7607, 7081, 7253,   58, 9934, 1233,\n",
            "        9934,  822,  335, 1375, 3677,  107,  204, 9948])\n",
            "Target token id: 9924\n",
            "Current sentence:  ['dra', 'the', 'table', 'things', ';', 'and', 'ies', 'that', '_', 'life', '?\"', 'may', 'can', 'the', 'it', 'off', 'professor', 'me', 'sing', 'everything', 'umed', 'th', ',', 'let', ',', 'go', 'her', 'inf', 'quickly', 'it', 'ire', ':']\n",
            "Target token:  ['c']\n"
          ]
        }
      ]
    },
    {
      "cell_type": "markdown",
      "metadata": {
        "id": "sdvF1m90GGtJ"
      },
      "source": [
        "## Training function"
      ]
    },
    {
      "cell_type": "code",
      "metadata": {
        "id": "SLQmqGbuq39-"
      },
      "source": [
        "def train(train_data, log_interval = 100):\n",
        "    # Turn on training mode - which enables dropout.\n",
        "    model.train()\n",
        "\n",
        "    total_loss = 0.\n",
        "\n",
        "    start_time = time.time()\n",
        "    ntokens = len(train_data)\n",
        "    hidden = model.init_hidden(batch_size)\n",
        "\n",
        "    for batch, i in enumerate(range(0, train_data.size(0) - 1, batch_size)):\n",
        "        data, targets = get_batch(train_data, i)\n",
        "        # Starting each batch, we detach the hidden state from how it was previously produced.\n",
        "        # If we didn't, the model would try backpropagating all the way to start of the dataset.\n",
        "        model.zero_grad()\n",
        "        hidden = repackage_hidden(hidden)\n",
        "        output, hidden = model(data, hidden)\n",
        "        loss = criterion(output, targets)\n",
        "        loss.backward()\n",
        "\n",
        "        # `clip_grad_norm` helps prevent the exploding gradient problem in RNNs / LSTMs.\n",
        "        torch.nn.utils.clip_grad_norm_(model.parameters(), 0.25)\n",
        "        for p in model.parameters():\n",
        "          if p.grad is not None:\n",
        "            p.data.add_(p.grad, alpha=-lr)\n",
        "\n",
        "        total_loss += loss.item()\n",
        "\n",
        "        if batch % log_interval == 0 and batch > 0:\n",
        "            cur_loss = total_loss / log_interval\n",
        "            elapsed = time.time() - start_time\n",
        "            print('| epoch {:3d} | {:5d}/{:5d} batches | lr {:02.2f} | ms/batch {:5.2f} | '\n",
        "                    'loss {:5.2f} | ppl {:8.2f}'.format(\n",
        "                epoch, batch, len(train_data) // batch_size, lr,\n",
        "                elapsed * 1000 / log_interval, cur_loss, math.exp(cur_loss)))\n",
        "            total_loss = 0\n",
        "            start_time = time.time()"
      ],
      "execution_count": 36,
      "outputs": []
    },
    {
      "cell_type": "code",
      "metadata": {
        "id": "REFFlXWO0MbI"
      },
      "source": [
        "def evaluate(data_source):\n",
        "    # Turn on evaluation mode which disables dropout.\n",
        "    model.eval()\n",
        "    total_loss = 0.\n",
        "    ntokens = len(data_source)\n",
        "\n",
        "    hidden = model.init_hidden(eval_batch_size)\n",
        "\n",
        "    with torch.no_grad():\n",
        "        for i in range(0, data_source.size(0) - 1, batch_size):\n",
        "            data, targets = get_batch(data_source, i)\n",
        "            output, hidden = model(data, hidden)\n",
        "            hidden = repackage_hidden(hidden)\n",
        "            total_loss += len(data) * criterion(output, targets).item()\n",
        "    return total_loss / (len(data_source) - 1)"
      ],
      "execution_count": 37,
      "outputs": []
    },
    {
      "cell_type": "markdown",
      "metadata": {
        "id": "FvhCcxsTGPk0"
      },
      "source": [
        "## Training loop:"
      ]
    },
    {
      "cell_type": "code",
      "metadata": {
        "id": "xSd0s9jUuA3O",
        "outputId": "4aaa945d-09ab-4e79-dd48-8fa081c24de9",
        "colab": {
          "base_uri": "https://localhost:8080/",
          "height": 483,
          "referenced_widgets": [
            "ed4f516170d643f582d8a5207c029074",
            "72ba053ef8874f93b66f3dd98b0001e4",
            "a84665cd75f2475b9fee7370b1e7d19b",
            "9286f1a76ce34136a3b3486d5d5613df",
            "f39d6694d1f24ab4b67fec39b1556d7d",
            "2c3f6c5a1b0f4eba95aaa1cb2b7a3eb5",
            "b8cc1745d3ea4b30b841f7ee09584c52",
            "5c1df42e13b04a3ea1f5fcad7cbfb290",
            "e09665b6fea046f7a43f5fdf6532047e",
            "3e0abddf8e9846f284242f88986d4be2",
            "940e683286034b1daddd9534d535c916"
          ]
        }
      },
      "source": [
        "# Loop over epochs.\n",
        "lr = 20\n",
        "best_val_loss = None\n",
        "epochs = 5\n",
        "\n",
        "for epoch in tqdm(range(1, epochs+1)):\n",
        "    epoch_start_time = time.time()\n",
        "    train(train_data)\n",
        "    val_loss = evaluate(val_data)\n",
        "    print('-' * 89)\n",
        "    print('| end of epoch {:3d} | time: {:5.2f}s | valid loss {:5.2f} | '\n",
        "            'valid ppl {:8.2f}'.format(epoch, (time.time() - epoch_start_time),\n",
        "                                        val_loss, math.exp(val_loss)))\n",
        "    print('-' * 89)\n",
        "\n",
        "    if not best_val_loss or val_loss < best_val_loss:\n",
        "        best_val_loss = val_loss\n",
        "    else:\n",
        "        # Anneal the learning rate if no improvement has been seen in the validation dataset.\n",
        "        lr /= 2.0"
      ],
      "execution_count": 39,
      "outputs": [
        {
          "output_type": "display_data",
          "data": {
            "text/plain": [
              "  0%|          | 0/5 [00:00<?, ?it/s]"
            ],
            "application/vnd.jupyter.widget-view+json": {
              "version_major": 2,
              "version_minor": 0,
              "model_id": "ed4f516170d643f582d8a5207c029074"
            }
          },
          "metadata": {}
        },
        {
          "output_type": "stream",
          "name": "stdout",
          "text": [
            "| epoch   1 |   100/  217 batches | lr 20.00 | ms/batch 511.61 | loss  6.99 | ppl  1088.56\n",
            "| epoch   1 |   200/  217 batches | lr 20.00 | ms/batch 513.28 | loss  6.61 | ppl   740.55\n",
            "-----------------------------------------------------------------------------------------\n",
            "| end of epoch   1 | time: 132.43s | valid loss  7.07 | valid ppl  1181.94\n",
            "-----------------------------------------------------------------------------------------\n",
            "| epoch   2 |   100/  217 batches | lr 20.00 | ms/batch 541.54 | loss  6.58 | ppl   721.27\n",
            "| epoch   2 |   200/  217 batches | lr 20.00 | ms/batch 506.70 | loss  6.44 | ppl   629.48\n",
            "-----------------------------------------------------------------------------------------\n",
            "| end of epoch   2 | time: 130.25s | valid loss  6.96 | valid ppl  1048.88\n",
            "-----------------------------------------------------------------------------------------\n",
            "| epoch   3 |   100/  217 batches | lr 20.00 | ms/batch 507.79 | loss  6.45 | ppl   634.94\n",
            "| epoch   3 |   200/  217 batches | lr 20.00 | ms/batch 508.80 | loss  6.32 | ppl   558.01\n",
            "-----------------------------------------------------------------------------------------\n",
            "| end of epoch   3 | time: 127.21s | valid loss  6.91 | valid ppl  1000.56\n",
            "-----------------------------------------------------------------------------------------\n",
            "| epoch   4 |   100/  217 batches | lr 20.00 | ms/batch 623.03 | loss  6.31 | ppl   550.74\n",
            "| epoch   4 |   200/  217 batches | lr 20.00 | ms/batch 615.99 | loss  6.16 | ppl   474.74\n",
            "-----------------------------------------------------------------------------------------\n",
            "| end of epoch   4 | time: 153.07s | valid loss  6.78 | valid ppl   879.99\n",
            "-----------------------------------------------------------------------------------------\n",
            "| epoch   5 |   100/  217 batches | lr 20.00 | ms/batch 551.94 | loss  6.13 | ppl   461.63\n",
            "| epoch   5 |   200/  217 batches | lr 20.00 | ms/batch 575.04 | loss  5.98 | ppl   397.15\n",
            "-----------------------------------------------------------------------------------------\n",
            "| end of epoch   5 | time: 139.42s | valid loss  6.66 | valid ppl   777.75\n",
            "-----------------------------------------------------------------------------------------\n"
          ]
        }
      ]
    },
    {
      "cell_type": "markdown",
      "metadata": {
        "id": "iq_PkPQOGVcB"
      },
      "source": [
        "# Text Generation example\n",
        "\n",
        "Language Models are the basis of many tasks. They can be used for classification tasks as pretrained models that are transfered into learning new tasks by fine-tuning them on those down-stream tasks.\n",
        "And they can also be used for tasks that requires generating text. For example:\n",
        "* Text Summarization\n",
        "* Getting a response from a personalized Chat bots\n",
        "* Annotating an image\n",
        "\n",
        "Can you think of additional examples where text generation is needed?"
      ]
    },
    {
      "cell_type": "markdown",
      "source": [
        "Let's use the language model we've just trained to generate text.\n",
        "\n",
        "You can play with the parameters, such as `words_to_generate`, `temprature` to see how it affects the output."
      ],
      "metadata": {
        "id": "sWIn2HN5uj01"
      }
    },
    {
      "cell_type": "code",
      "metadata": {
        "id": "477FsXfZuDQ3",
        "colab": {
          "base_uri": "https://localhost:8080/",
          "height": 53
        },
        "outputId": "139c9d95-74c1-428f-e60a-0f2023b3d63f"
      },
      "source": [
        "model.eval()\n",
        "\n",
        "log_interval = 100\n",
        "words_to_generate = 50\n",
        "temperature = 1. # higher temperature will increase diversity\n",
        "\n",
        "# generate random start\n",
        "input = torch.randint(10000, (1, 1), dtype=torch.long).to(device)\n",
        "\n",
        "hidden = model.init_hidden(1)\n",
        "\n",
        "generated_word_ids = []\n",
        "\n",
        "with torch.no_grad():  # no tracking history\n",
        " for i in range(words_to_generate):\n",
        "    output, hidden = model(input, hidden)\n",
        "    word_weights = output.squeeze().div(temperature).exp().cpu()\n",
        "    word_idx = torch.multinomial(word_weights, 1)[0]\n",
        "    input.fill_(word_idx)\n",
        "\n",
        "    generated_word_ids.append(word_idx.tolist())\n",
        "    # word = bpemb_en.decode_ids([word_idx.tolist()])\n",
        "    # print(word + ('\\n' if i % 20 == 19 else ' '))\n",
        "\n",
        "    # if i % log_interval == 0:\n",
        "    #     print('| Generated {}/{} words'.format(i, words_to_generate))\n",
        "\n",
        "bpemb_en.decode_ids(generated_word_ids)"
      ],
      "execution_count": 41,
      "outputs": [
        {
          "output_type": "execute_result",
          "data": {
            "text/plain": [
              "'a wor ement discover . ad thought mine an it . so i fl not enter so . so he answ page in scout 2 of of had , for jar i give ever s . he told na that so eyes and fore fell had as qu of it'"
            ],
            "application/vnd.google.colaboratory.intrinsic+json": {
              "type": "string"
            }
          },
          "metadata": {},
          "execution_count": 41
        }
      ]
    },
    {
      "cell_type": "code",
      "source": [
        "bpemb_en.preprocess(\"hello, there's a nice worLd out side, right, world? !@#!\")"
      ],
      "metadata": {
        "colab": {
          "base_uri": "https://localhost:8080/",
          "height": 35
        },
        "id": "YH482HQRAhNJ",
        "outputId": "2d330c8d-7cdc-40e8-f404-da6c8258e457"
      },
      "execution_count": 55,
      "outputs": [
        {
          "output_type": "execute_result",
          "data": {
            "text/plain": [
              "\"hello, there's a nice world out side, right, world? !@#!\""
            ],
            "application/vnd.google.colaboratory.intrinsic+json": {
              "type": "string"
            }
          },
          "metadata": {},
          "execution_count": 55
        }
      ]
    },
    {
      "cell_type": "markdown",
      "metadata": {
        "id": "uI9JwCE8GZcD"
      },
      "source": [
        "As discussed in class, the RNN/LSTM can be used in various tasks:\n",
        "\n",
        "it can be used for sequence2sequence, where the sequence size is either the same or different. Some examples include: \n",
        "* Translation\n",
        "* Tagging words as POS / SLR / NER\n",
        "* Encoding a document as a vector for classification\n",
        "\n",
        "etc."
      ]
    },
    {
      "cell_type": "markdown",
      "source": [
        "# Train like a pro\n",
        "## DataLoader & pyTorch wrappers\n",
        "\n",
        "In real-world projects, we don't use 'batchify', but instead use the premade tools from Pytorch, such as the [DataLoader](https://pytorch.org/docs/stable/data.html).\n",
        "\n",
        "[Pytorch-ignite](https://pytorch.org/ignite/index.html) and [pytorch lightning](https://www.pytorchlightning.ai/) are two common libraries that are used to speed up development with Python.\n",
        "\n",
        "pyTorch Lightning organizes the code by wrapping the model into python classes, and separates the model from the data (and the data loading). It also has various of pre-defined and pre-trained models to quickly experiment and research.\n",
        "\n",
        "pyTorch Ignite offers a set of callbacks to be used during training.\n",
        "\n",
        "Both libraries have helper tools for validation metrics (RUC, accuracy, confusion matrix, etc.) as well as learning rate finder tools."
      ],
      "metadata": {
        "id": "ttMpR_z_un8B"
      }
    },
    {
      "cell_type": "markdown",
      "source": [
        "## Your turn:\n",
        "Rewrite the code above to be using pyTorch lightning.\n",
        "\n",
        "* This guide will help you converting the model into a Pytorch Lightning one:\n",
        "https://pytorch-lightning.readthedocs.io/en/stable/starter/converting.html\n",
        "\n",
        "* Use CrossEntropyLoss instad of NLL with Softmax (it's a combination of the two) https://pytorch.org/docs/stable/generated/torch.nn.CrossEntropyLoss.html#torch.nn.CrossEntropyLoss\n",
        "* Use the library learning-rate finder to decide the best learning rate for the training."
      ],
      "metadata": {
        "id": "MhOw_1bkvnIb"
      }
    },
    {
      "cell_type": "code",
      "metadata": {
        "id": "OeEVfpmQDd3g"
      },
      "source": [
        "%%capture\n",
        "! pip install pytorch-lightning"
      ],
      "execution_count": null,
      "outputs": []
    },
    {
      "cell_type": "code",
      "source": [
        "from torch.nn.utils.rnn import pad_sequence\n",
        "from torch.utils.data import DataLoader, TensorDataset\n",
        "\n",
        "import pytorch_lightning as pl"
      ],
      "metadata": {
        "id": "n_ppY2gGvI1o"
      },
      "execution_count": null,
      "outputs": []
    },
    {
      "cell_type": "code",
      "source": [
        "class PLRNNModel(pl.LightningModule):\n",
        "  def __init__(self, \n",
        "               ninp=bpemb_en.vectors.shape[1], \n",
        "               noutp=bpemb_en.vocab_size, \n",
        "               nhid=256, \n",
        "               nlayers=2, \n",
        "               dropout=0.5, \n",
        "               tie_weights=False):\n",
        "    super().__init__()\n",
        "    # --------------------------\n",
        "    # Implement the RNN model here.\n",
        "    # Hint: This function should define the model layers\n",
        "    \n",
        "    self.criterion = nn.CrossEntropyLoss()\n",
        "    \n",
        "  \n",
        "  def forward(self, x, hidden):\n",
        "    # implement the forward pass here\n",
        "    pass\n",
        "\n",
        "  def training_step(self, batch, batch_idx):\n",
        "    # --------------------------\n",
        "    # Implement the training step here.\n",
        "    # Hint: This function should return the loss\n",
        "    pass\n",
        "\n",
        "  def validation_step(self, batch, batch_idx):\n",
        "    # --------------------------\n",
        "    # Implement the validation step here.\n",
        "    pass\n",
        "\n",
        "  def configure_optimizers(self):\n",
        "    # this time we will be using ADAM optimizer\n",
        "    optimizer = torch.optim.Adam(self.parameters(), lr=1e-3)\n",
        "    return optimizer\n",
        "\n",
        "  def repackage_hidden(self, h):\n",
        "    \"\"\"Wraps hidden states in new Tensors, to detach them from their history.\"\"\"\n",
        "\n",
        "    if isinstance(h, torch.Tensor):\n",
        "        return h.detach()\n",
        "    else:\n",
        "        return tuple(self.repackage_hidden(v).to(device) for v in h)\n"
      ],
      "metadata": {
        "id": "r-ggby_tvXxO"
      },
      "execution_count": null,
      "outputs": []
    },
    {
      "cell_type": "markdown",
      "source": [
        "Instead of the `batchify` function we created before, this time we will use a proper pytorch DataLoader - which have already implemented all the functionality for us. We will combine it with `TensorDataset`, creating pairs of our text and the target."
      ],
      "metadata": {
        "id": "VttabUrWwX6E"
      }
    },
    {
      "cell_type": "code",
      "source": [
        "from torch.utils.data import Dataset\n",
        "\n",
        "class TextDataset(Dataset):\n",
        "    def __init__(self,x, y):\n",
        "        self.x = torch.tensor(x, dtype=torch.long)\n",
        "        self.y = torch.tensor(y, dtype=torch.long)\n",
        "        self.len = self.x.shape[0]\n",
        "\n",
        "    def __getitem__(self,idx):\n",
        "        return self.x[idx],self.y[idx]\n",
        "  \n",
        "    def __len__(self):\n",
        "        return self.len\n"
      ],
      "metadata": {
        "id": "W8sOLQ-NdN1q"
      },
      "execution_count": null,
      "outputs": []
    },
    {
      "cell_type": "code",
      "source": [
        "\n",
        "train_ds = TextDataset(train_encoded_ids, train_encoded_ids[1:])\n",
        "train_dl = DataLoader(train_ds, batch_size=batch_size)\n",
        "\n",
        "val_ds = None # Implement the correct validation dataset\n",
        "val_dl = None # Implement the correct validation data loader"
      ],
      "metadata": {
        "id": "EOSyMJftdh17",
        "colab": {
          "base_uri": "https://localhost:8080/",
          "height": 236
        },
        "outputId": "2b5534b6-24de-4ca6-9a23-5edb25fbb0a9"
      },
      "execution_count": 15,
      "outputs": [
        {
          "output_type": "error",
          "ename": "NameError",
          "evalue": "ignored",
          "traceback": [
            "\u001b[0;31m---------------------------------------------------------------------------\u001b[0m",
            "\u001b[0;31mNameError\u001b[0m                                 Traceback (most recent call last)",
            "\u001b[0;32m<ipython-input-15-73aeae9381ff>\u001b[0m in \u001b[0;36m<module>\u001b[0;34m\u001b[0m\n\u001b[0;32m----> 1\u001b[0;31m \u001b[0mtrain_ds\u001b[0m \u001b[0;34m=\u001b[0m \u001b[0mTextDataset\u001b[0m\u001b[0;34m(\u001b[0m\u001b[0mtrain_encoded_ids\u001b[0m\u001b[0;34m,\u001b[0m \u001b[0mtrain_encoded_ids\u001b[0m\u001b[0;34m[\u001b[0m\u001b[0;36m1\u001b[0m\u001b[0;34m:\u001b[0m\u001b[0;34m]\u001b[0m\u001b[0;34m)\u001b[0m\u001b[0;34m\u001b[0m\u001b[0;34m\u001b[0m\u001b[0m\n\u001b[0m\u001b[1;32m      2\u001b[0m \u001b[0mtrain_dl\u001b[0m \u001b[0;34m=\u001b[0m \u001b[0mDataLoader\u001b[0m\u001b[0;34m(\u001b[0m\u001b[0mtrain_ds\u001b[0m\u001b[0;34m,\u001b[0m \u001b[0mbatch_size\u001b[0m\u001b[0;34m=\u001b[0m\u001b[0mbatch_size\u001b[0m\u001b[0;34m)\u001b[0m\u001b[0;34m\u001b[0m\u001b[0;34m\u001b[0m\u001b[0m\n\u001b[1;32m      3\u001b[0m \u001b[0;34m\u001b[0m\u001b[0m\n\u001b[1;32m      4\u001b[0m \u001b[0mval_ds\u001b[0m \u001b[0;34m=\u001b[0m \u001b[0;32mNone\u001b[0m \u001b[0;31m# Implement the correct validation dataset\u001b[0m\u001b[0;34m\u001b[0m\u001b[0;34m\u001b[0m\u001b[0m\n\u001b[1;32m      5\u001b[0m \u001b[0mval_dl\u001b[0m \u001b[0;34m=\u001b[0m \u001b[0;32mNone\u001b[0m \u001b[0;31m# Implement the correct validation data loader\u001b[0m\u001b[0;34m\u001b[0m\u001b[0;34m\u001b[0m\u001b[0m\n",
            "\u001b[0;31mNameError\u001b[0m: name 'TextDataset' is not defined"
          ]
        }
      ]
    },
    {
      "cell_type": "code",
      "source": [
        "# Validate that the data looks as you expect:\n",
        "next(iter(train_dl))"
      ],
      "metadata": {
        "id": "Y8u7-pPn5KD4"
      },
      "execution_count": null,
      "outputs": []
    },
    {
      "cell_type": "code",
      "source": [
        "# init model\n",
        "rnn_model = PLRNNModel()\n",
        "\n",
        "# Initialize a trainer\n",
        "trainer = pl.Trainer(gpus=0, max_epochs=3)\n",
        "\n",
        "# Train the model ⚡\n",
        "trainer.fit(rnn_model, train_dl, val_dl)"
      ],
      "metadata": {
        "id": "qiByHkLtwgRH"
      },
      "execution_count": null,
      "outputs": []
    },
    {
      "cell_type": "code",
      "source": [
        "# Start tensorboard.\n",
        "%load_ext tensorboard\n",
        "%tensorboard --logdir lightning_logs/"
      ],
      "metadata": {
        "id": "W8mhEBYuzMQW"
      },
      "execution_count": null,
      "outputs": []
    },
    {
      "cell_type": "code",
      "source": [],
      "metadata": {
        "id": "-LrXO94Gn1AG"
      },
      "execution_count": null,
      "outputs": []
    }
  ]
}