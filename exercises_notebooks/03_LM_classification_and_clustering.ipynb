{
  "nbformat": 4,
  "nbformat_minor": 0,
  "metadata": {
    "colab": {
      "name": "03_LM_classification_and_clustering.ipynb",
      "provenance": [],
      "toc_visible": true
    },
    "kernelspec": {
      "name": "python3",
      "display_name": "Python 3"
    }
  },
  "cells": [
    {
      "cell_type": "markdown",
      "source": [
        "# Clustering Documents"
      ],
      "metadata": {
        "id": "0QCMG-L_oPQ6"
      }
    },
    {
      "cell_type": "markdown",
      "metadata": {
        "id": "nzhvlugtZytc"
      },
      "source": [
        "In this notebook, you'll learn about **Latent Dirichlet Allocation** (LDA) algorithm, and how to use it to cluster documents.\n",
        "\n",
        "Key-learning:\n",
        "- Unsupervised machine learning for NLP\n",
        "- Clustering Documents\n",
        "- LDA\n",
        "- python packages: *pandas*, *gensim*\n",
        "\n",
        "Terms in this notebook:\n",
        "- Bag of words\n",
        "- LDA\n",
        "- Clustering\n",
        "- TF/IDF\n",
        "\n",
        "This notebook includes 2 recommended videos (total length: 25min).\n",
        "\n",
        "Estimated reading duration: 1-2h.\n"
      ]
    },
    {
      "cell_type": "markdown",
      "metadata": {
        "id": "LuFLTklaSGqw"
      },
      "source": [
        "# Setup"
      ]
    },
    {
      "cell_type": "markdown",
      "metadata": {
        "id": "ncCmcyBB_KyW"
      },
      "source": [
        "We start by importing [pandas](https://pandas.pydata.org/) - an essential tool for data scientists!\n",
        "\n",
        "We load a .CSV (Comma Seperated Values) file of German news articles from https://github.com/tblock/10kGNAD\n"
      ]
    },
    {
      "cell_type": "code",
      "source": [
        "from IPython.display import YouTubeVideo"
      ],
      "metadata": {
        "id": "9e5gBKX3pFlC"
      },
      "execution_count": null,
      "outputs": []
    },
    {
      "cell_type": "code",
      "metadata": {
        "id": "KfprTyMF4BG1",
        "outputId": "e5c148ed-d92f-4a02-e1b6-bb4659211b09",
        "colab": {
          "base_uri": "https://localhost:8080/"
        }
      },
      "source": [
        "import pandas as pd\n",
        "\n",
        "import nltk\n",
        "nltk.download('punkt')\n",
        "nltk.download('stopwords')\n",
        "nltk.download('averaged_perceptron_tagger')\n",
        "nltk.download('universal_tagset')\n",
        "\n"
      ],
      "execution_count": null,
      "outputs": [
        {
          "output_type": "stream",
          "name": "stderr",
          "text": [
            "[nltk_data] Downloading package punkt to /root/nltk_data...\n",
            "[nltk_data]   Unzipping tokenizers/punkt.zip.\n",
            "[nltk_data] Downloading package stopwords to /root/nltk_data...\n",
            "[nltk_data]   Unzipping corpora/stopwords.zip.\n",
            "[nltk_data] Downloading package averaged_perceptron_tagger to\n",
            "[nltk_data]     /root/nltk_data...\n",
            "[nltk_data]   Unzipping taggers/averaged_perceptron_tagger.zip.\n",
            "[nltk_data] Downloading package universal_tagset to /root/nltk_data...\n",
            "[nltk_data]   Unzipping taggers/universal_tagset.zip.\n"
          ]
        },
        {
          "output_type": "execute_result",
          "data": {
            "text/plain": [
              "True"
            ]
          },
          "metadata": {},
          "execution_count": 2
        }
      ]
    },
    {
      "cell_type": "markdown",
      "source": [
        "Pandas is a useful package to load CSV files and to parse them. It can also parse TSV - separated by tabs, or as in our case, separated by a `;`.\n",
        "\n",
        "Pandas is often used as the first-step for data scientists to load and analyze data."
      ],
      "metadata": {
        "id": "v62qoMC7U7W-"
      }
    },
    {
      "cell_type": "code",
      "metadata": {
        "id": "ieItNWA44BEA"
      },
      "source": [
        "df = pd.read_csv('https://raw.githubusercontent.com/tblock/10kGNAD/master/articles.csv', \n",
        "                 sep=';', \n",
        "                 on_bad_lines='skip', \n",
        "                 header=None, \n",
        "                 names=['article_category', 'content'],\n",
        "                 dtype={'article_category': 'category'})  "
      ],
      "execution_count": null,
      "outputs": []
    },
    {
      "cell_type": "code",
      "source": [
        "df"
      ],
      "metadata": {
        "id": "XyYuGSLJSNCA",
        "outputId": "08418986-2915-49cc-aba9-2c4a26b638e5",
        "colab": {
          "base_uri": "https://localhost:8080/",
          "height": 424
        }
      },
      "execution_count": null,
      "outputs": [
        {
          "output_type": "execute_result",
          "data": {
            "text/plain": [
              "      article_category                                            content\n",
              "0                 Etat  Die ARD-Tochter Degeto hat sich verpflichtet, ...\n",
              "1                 Etat  App sei nicht so angenommen worden wie geplant...\n",
              "2                 Etat  'Zum Welttag der Suizidprävention ist es Zeit,...\n",
              "3                 Etat  Mitarbeiter überreichten Eigentümervertretern ...\n",
              "4                 Etat  Service: Jobwechsel in der Kommunikationsbranc...\n",
              "...                ...                                                ...\n",
              "10268     Wissenschaft  Die Fundstelle in Südengland ist Unesco-Weltku...\n",
              "10269     Wissenschaft  Im Team arbeitet auch ein Inspektor der sudane...\n",
              "10270     Wissenschaft  Die zentrale Frage des Projekts: Siedelten Ägy...\n",
              "10271     Wissenschaft  Klimatische Verschlechterungen dürften zur Auf...\n",
              "10272     Wissenschaft  Knochen können zum Verständnis des Lebens in d...\n",
              "\n",
              "[10273 rows x 2 columns]"
            ],
            "text/html": [
              "\n",
              "  <div id=\"df-974eb9b5-c67a-437d-9071-0155441745c4\">\n",
              "    <div class=\"colab-df-container\">\n",
              "      <div>\n",
              "<style scoped>\n",
              "    .dataframe tbody tr th:only-of-type {\n",
              "        vertical-align: middle;\n",
              "    }\n",
              "\n",
              "    .dataframe tbody tr th {\n",
              "        vertical-align: top;\n",
              "    }\n",
              "\n",
              "    .dataframe thead th {\n",
              "        text-align: right;\n",
              "    }\n",
              "</style>\n",
              "<table border=\"1\" class=\"dataframe\">\n",
              "  <thead>\n",
              "    <tr style=\"text-align: right;\">\n",
              "      <th></th>\n",
              "      <th>article_category</th>\n",
              "      <th>content</th>\n",
              "    </tr>\n",
              "  </thead>\n",
              "  <tbody>\n",
              "    <tr>\n",
              "      <th>0</th>\n",
              "      <td>Etat</td>\n",
              "      <td>Die ARD-Tochter Degeto hat sich verpflichtet, ...</td>\n",
              "    </tr>\n",
              "    <tr>\n",
              "      <th>1</th>\n",
              "      <td>Etat</td>\n",
              "      <td>App sei nicht so angenommen worden wie geplant...</td>\n",
              "    </tr>\n",
              "    <tr>\n",
              "      <th>2</th>\n",
              "      <td>Etat</td>\n",
              "      <td>'Zum Welttag der Suizidprävention ist es Zeit,...</td>\n",
              "    </tr>\n",
              "    <tr>\n",
              "      <th>3</th>\n",
              "      <td>Etat</td>\n",
              "      <td>Mitarbeiter überreichten Eigentümervertretern ...</td>\n",
              "    </tr>\n",
              "    <tr>\n",
              "      <th>4</th>\n",
              "      <td>Etat</td>\n",
              "      <td>Service: Jobwechsel in der Kommunikationsbranc...</td>\n",
              "    </tr>\n",
              "    <tr>\n",
              "      <th>...</th>\n",
              "      <td>...</td>\n",
              "      <td>...</td>\n",
              "    </tr>\n",
              "    <tr>\n",
              "      <th>10268</th>\n",
              "      <td>Wissenschaft</td>\n",
              "      <td>Die Fundstelle in Südengland ist Unesco-Weltku...</td>\n",
              "    </tr>\n",
              "    <tr>\n",
              "      <th>10269</th>\n",
              "      <td>Wissenschaft</td>\n",
              "      <td>Im Team arbeitet auch ein Inspektor der sudane...</td>\n",
              "    </tr>\n",
              "    <tr>\n",
              "      <th>10270</th>\n",
              "      <td>Wissenschaft</td>\n",
              "      <td>Die zentrale Frage des Projekts: Siedelten Ägy...</td>\n",
              "    </tr>\n",
              "    <tr>\n",
              "      <th>10271</th>\n",
              "      <td>Wissenschaft</td>\n",
              "      <td>Klimatische Verschlechterungen dürften zur Auf...</td>\n",
              "    </tr>\n",
              "    <tr>\n",
              "      <th>10272</th>\n",
              "      <td>Wissenschaft</td>\n",
              "      <td>Knochen können zum Verständnis des Lebens in d...</td>\n",
              "    </tr>\n",
              "  </tbody>\n",
              "</table>\n",
              "<p>10273 rows × 2 columns</p>\n",
              "</div>\n",
              "      <button class=\"colab-df-convert\" onclick=\"convertToInteractive('df-974eb9b5-c67a-437d-9071-0155441745c4')\"\n",
              "              title=\"Convert this dataframe to an interactive table.\"\n",
              "              style=\"display:none;\">\n",
              "        \n",
              "  <svg xmlns=\"http://www.w3.org/2000/svg\" height=\"24px\"viewBox=\"0 0 24 24\"\n",
              "       width=\"24px\">\n",
              "    <path d=\"M0 0h24v24H0V0z\" fill=\"none\"/>\n",
              "    <path d=\"M18.56 5.44l.94 2.06.94-2.06 2.06-.94-2.06-.94-.94-2.06-.94 2.06-2.06.94zm-11 1L8.5 8.5l.94-2.06 2.06-.94-2.06-.94L8.5 2.5l-.94 2.06-2.06.94zm10 10l.94 2.06.94-2.06 2.06-.94-2.06-.94-.94-2.06-.94 2.06-2.06.94z\"/><path d=\"M17.41 7.96l-1.37-1.37c-.4-.4-.92-.59-1.43-.59-.52 0-1.04.2-1.43.59L10.3 9.45l-7.72 7.72c-.78.78-.78 2.05 0 2.83L4 21.41c.39.39.9.59 1.41.59.51 0 1.02-.2 1.41-.59l7.78-7.78 2.81-2.81c.8-.78.8-2.07 0-2.86zM5.41 20L4 18.59l7.72-7.72 1.47 1.35L5.41 20z\"/>\n",
              "  </svg>\n",
              "      </button>\n",
              "      \n",
              "  <style>\n",
              "    .colab-df-container {\n",
              "      display:flex;\n",
              "      flex-wrap:wrap;\n",
              "      gap: 12px;\n",
              "    }\n",
              "\n",
              "    .colab-df-convert {\n",
              "      background-color: #E8F0FE;\n",
              "      border: none;\n",
              "      border-radius: 50%;\n",
              "      cursor: pointer;\n",
              "      display: none;\n",
              "      fill: #1967D2;\n",
              "      height: 32px;\n",
              "      padding: 0 0 0 0;\n",
              "      width: 32px;\n",
              "    }\n",
              "\n",
              "    .colab-df-convert:hover {\n",
              "      background-color: #E2EBFA;\n",
              "      box-shadow: 0px 1px 2px rgba(60, 64, 67, 0.3), 0px 1px 3px 1px rgba(60, 64, 67, 0.15);\n",
              "      fill: #174EA6;\n",
              "    }\n",
              "\n",
              "    [theme=dark] .colab-df-convert {\n",
              "      background-color: #3B4455;\n",
              "      fill: #D2E3FC;\n",
              "    }\n",
              "\n",
              "    [theme=dark] .colab-df-convert:hover {\n",
              "      background-color: #434B5C;\n",
              "      box-shadow: 0px 1px 3px 1px rgba(0, 0, 0, 0.15);\n",
              "      filter: drop-shadow(0px 1px 2px rgba(0, 0, 0, 0.3));\n",
              "      fill: #FFFFFF;\n",
              "    }\n",
              "  </style>\n",
              "\n",
              "      <script>\n",
              "        const buttonEl =\n",
              "          document.querySelector('#df-974eb9b5-c67a-437d-9071-0155441745c4 button.colab-df-convert');\n",
              "        buttonEl.style.display =\n",
              "          google.colab.kernel.accessAllowed ? 'block' : 'none';\n",
              "\n",
              "        async function convertToInteractive(key) {\n",
              "          const element = document.querySelector('#df-974eb9b5-c67a-437d-9071-0155441745c4');\n",
              "          const dataTable =\n",
              "            await google.colab.kernel.invokeFunction('convertToInteractive',\n",
              "                                                     [key], {});\n",
              "          if (!dataTable) return;\n",
              "\n",
              "          const docLinkHtml = 'Like what you see? Visit the ' +\n",
              "            '<a target=\"_blank\" href=https://colab.research.google.com/notebooks/data_table.ipynb>data table notebook</a>'\n",
              "            + ' to learn more about interactive tables.';\n",
              "          element.innerHTML = '';\n",
              "          dataTable['output_type'] = 'display_data';\n",
              "          await google.colab.output.renderOutput(dataTable, element);\n",
              "          const docLink = document.createElement('div');\n",
              "          docLink.innerHTML = docLinkHtml;\n",
              "          element.appendChild(docLink);\n",
              "        }\n",
              "      </script>\n",
              "    </div>\n",
              "  </div>\n",
              "  "
            ]
          },
          "metadata": {},
          "execution_count": 73
        }
      ]
    },
    {
      "cell_type": "markdown",
      "source": [
        "Our corpus contains 9 categories, as seen below.\n",
        "But we will ignore them, and use an unsupervised algorithm to deduct the topics only by the articles content, or in other words: we will *cluster* those documents based on their content. "
      ],
      "metadata": {
        "id": "eJtNm2v7V38-"
      }
    },
    {
      "cell_type": "code",
      "source": [
        "df['article_category'].cat.categories"
      ],
      "metadata": {
        "id": "KGgnGvdLVLkh",
        "outputId": "00bc58a2-112c-40e7-fb08-4afc4bcda2a8",
        "colab": {
          "base_uri": "https://localhost:8080/"
        }
      },
      "execution_count": null,
      "outputs": [
        {
          "output_type": "execute_result",
          "data": {
            "text/plain": [
              "Index(['Etat', 'Inland', 'International', 'Kultur', 'Panorama', 'Sport', 'Web',\n",
              "       'Wirtschaft', 'Wissenschaft'],\n",
              "      dtype='object')"
            ]
          },
          "metadata": {},
          "execution_count": 74
        }
      ]
    },
    {
      "cell_type": "markdown",
      "source": [
        "Therefore, we can drop the article_category column completely, and remain with the corpus text only:"
      ],
      "metadata": {
        "id": "U4wtri1Yd6yc"
      }
    },
    {
      "cell_type": "code",
      "source": [
        "df = df.drop('article_category', axis=1)"
      ],
      "metadata": {
        "id": "WfIHe44bd56X"
      },
      "execution_count": null,
      "outputs": []
    },
    {
      "cell_type": "markdown",
      "metadata": {
        "id": "lMnZgp90-Y7R"
      },
      "source": [
        "# Clustering with Latent Dirichlet Allocation (LDA)"
      ]
    },
    {
      "cell_type": "markdown",
      "metadata": {
        "id": "uvF0AlS6-dqA"
      },
      "source": [
        "## Introduction\n",
        "\n",
        "We start by clustering our data as an unsupervised learning task: **topic modeling**.\n",
        "\n",
        "There are many different methods to cluster documents. One of these methods is topic modeling - where an algorithm assigns a topic to each document and clusters these documents by these topics.\n",
        "\n",
        "Documents can be represented as a distribution of their words: their occurrences and frequencies. A set of words, which are relatively not frequent but are common to several documents, can express a document topic.\n",
        "For example, suppose we locate documents with the words 'Android', 'OnePlus' and 'iPhone' in them. Based on the frequency of these words, we could assume that these documents are related to mobile phones.\n",
        "\n",
        "[Dirichlet](https://en.wikipedia.org/wiki/Dirichlet_distribution) is a distribution on probability distributions. In other words, it can handle the frequency of which a set of words appear (which have by themselves, each one, a frequency).\n",
        "\n",
        "For a deeper mathematical explanation of this distribution, watch this recommended video: https://www.youtube.com/watch?v=nfBNOWv1pgE"
      ]
    },
    {
      "cell_type": "code",
      "source": [
        "YouTubeVideo('nfBNOWv1pgE')"
      ],
      "metadata": {
        "colab": {
          "base_uri": "https://localhost:8080/",
          "height": 321
        },
        "id": "tHzU2nNmpKbp",
        "outputId": "852afa33-fbc8-4f44-b45c-86150fef9eda"
      },
      "execution_count": null,
      "outputs": [
        {
          "output_type": "execute_result",
          "data": {
            "text/plain": [
              "<IPython.lib.display.YouTubeVideo at 0x7f2ee8cf8cd0>"
            ],
            "text/html": [
              "\n",
              "        <iframe\n",
              "            width=\"400\"\n",
              "            height=\"300\"\n",
              "            src=\"https://www.youtube.com/embed/nfBNOWv1pgE\"\n",
              "            frameborder=\"0\"\n",
              "            allowfullscreen\n",
              "        ></iframe>\n",
              "        "
            ],
            "image/jpeg": "[encoded data removed]"
          },
          "metadata": {},
          "execution_count": 5
        }
      ]
    },
    {
      "cell_type": "markdown",
      "source": [
        "LDA is an unsupervised algorithm that assigns topics to every document. These topics are described as a set of words.\n",
        "Each document can contain more than one topic.\n",
        "For example, some article about Apple can be 80% mobile phones and 20% about business innovations or income.\n",
        "\n",
        "LDA paper is a milestone in NLP and one of the recommended readings.\n",
        "\n",
        "If you're interested to learn more about the algorithm method, watch this video: https://www.youtube.com/watch?v=DWJYZq_fQ2A."
      ],
      "metadata": {
        "id": "EtlPh-CJpiM2"
      }
    },
    {
      "cell_type": "code",
      "source": [
        "YouTubeVideo('DWJYZq_fQ2A')"
      ],
      "metadata": {
        "colab": {
          "base_uri": "https://localhost:8080/",
          "height": 321
        },
        "id": "1x0Hfl2LpmQ0",
        "outputId": "8b974a36-5d7c-4938-846c-e25a43bc4440"
      },
      "execution_count": null,
      "outputs": [
        {
          "output_type": "execute_result",
          "data": {
            "text/plain": [
              "<IPython.lib.display.YouTubeVideo at 0x7f2ee8c7f290>"
            ],
            "text/html": [
              "\n",
              "        <iframe\n",
              "            width=\"400\"\n",
              "            height=\"300\"\n",
              "            src=\"https://www.youtube.com/embed/DWJYZq_fQ2A\"\n",
              "            frameborder=\"0\"\n",
              "            allowfullscreen\n",
              "        ></iframe>\n",
              "        "
            ],
            "image/jpeg": "[encoded data removed]"
          },
          "metadata": {},
          "execution_count": 6
        }
      ]
    },
    {
      "cell_type": "markdown",
      "source": [
        "Now, let's examine our German data set with LDA:"
      ],
      "metadata": {
        "id": "nXYgZ4M9plG8"
      }
    },
    {
      "cell_type": "markdown",
      "metadata": {
        "id": "ZjX33ZXRfsM4"
      },
      "source": [
        "In the previous exercises, you got to know NLTK. \n",
        "\n",
        "Here we will also use NLTK's methods of **stemming** the words. By returning to the root of the word, its stem, we reduce the dimensionality: the number of words in the vocabulary decreases. For example, instead of having different words for the singular and plural form - 'word' <--> 'words' or 'Kanzler', 'Kanzlers', 'Kanzlei', etc., we trim those words into 'Kanzl'. Hence we can reduce the size of the vocabulary by at least half.\n",
        "\n",
        "We will also remove `stopwords` from our text. In English, words such as: `a`, `an`, and `the` will be removed, as they don't add much to the meaning of the sentence. For each language, there is a different curated list of such words, and NLTK is a great source for those.\n",
        "\n",
        "In this exercise, you'll be introduced to another package, specialized in topic modeling, called `gensim`:\n",
        "https://radimrehurek.com/gensim/\n",
        "\n"
      ]
    },
    {
      "cell_type": "code",
      "source": [
        "!pip install -U gensim"
      ],
      "metadata": {
        "id": "wXiy7e3wvTfP",
        "outputId": "9c20e2d2-1053-4abd-f8ec-f4812e3e0f6d",
        "colab": {
          "base_uri": "https://localhost:8080/"
        }
      },
      "execution_count": null,
      "outputs": [
        {
          "output_type": "stream",
          "name": "stdout",
          "text": [
            "Looking in indexes: https://pypi.org/simple, https://us-python.pkg.dev/colab-wheels/public/simple/\n",
            "Requirement already satisfied: gensim in /usr/local/lib/python3.7/dist-packages (3.6.0)\n",
            "Collecting gensim\n",
            "  Downloading gensim-4.2.0-cp37-cp37m-manylinux_2_12_x86_64.manylinux2010_x86_64.whl (24.1 MB)\n",
            "\u001b[K     |████████████████████████████████| 24.1 MB 1.2 MB/s \n",
            "\u001b[?25hRequirement already satisfied: smart-open>=1.8.1 in /usr/local/lib/python3.7/dist-packages (from gensim) (5.2.1)\n",
            "Requirement already satisfied: numpy>=1.17.0 in /usr/local/lib/python3.7/dist-packages (from gensim) (1.21.6)\n",
            "Requirement already satisfied: scipy>=0.18.1 in /usr/local/lib/python3.7/dist-packages (from gensim) (1.7.3)\n",
            "Installing collected packages: gensim\n",
            "  Attempting uninstall: gensim\n",
            "    Found existing installation: gensim 3.6.0\n",
            "    Uninstalling gensim-3.6.0:\n",
            "      Successfully uninstalled gensim-3.6.0\n",
            "Successfully installed gensim-4.2.0\n"
          ]
        }
      ]
    },
    {
      "cell_type": "code",
      "metadata": {
        "id": "dA1Ek-yR4BBG"
      },
      "source": [
        "from pprint import pprint # for printing objects nicely\n",
        "\n",
        "from gensim import corpora, models\n",
        "from gensim.utils import simple_preprocess\n",
        "\n",
        "# from gensim.parsing.preprocessing import STOPWORDS \n",
        "# Instead of the gensim english stopwords, we use nltk's German stopwords\n",
        "from nltk.corpus import stopwords\n",
        "\n",
        "from nltk.stem.snowball import SnowballStemmer\n",
        "from nltk.stem.porter import *\n",
        "\n",
        "import numpy as np\n",
        "\n",
        "from random import choice\n",
        "\n",
        "np.random.seed(1234)\n",
        "\n",
        "stemmer = SnowballStemmer('german')\n",
        "german_stop_words = set(stopwords.words('german'))\n",
        "\n",
        "\n",
        "def lemmatize_stemming(text):\n",
        "  return stemmer.stem(text)\n",
        "\n",
        "def preprocess(text):\n",
        "  result = [lemmatize_stemming(token) \n",
        "            for token in simple_preprocess(text)  \n",
        "            if token not in german_stop_words and len(token) > 3]\n",
        "  return result\n"
      ],
      "execution_count": null,
      "outputs": []
    },
    {
      "cell_type": "markdown",
      "metadata": {
        "id": "H9FeFqUmk7hJ"
      },
      "source": [
        "In our DataFrame, we have a table contains the articles and their topics.\n",
        "\n",
        "We only need the articles for this tasks - we will create our own topics. So, let's start by converting the articles column into a ist of all the articles:"
      ]
    },
    {
      "cell_type": "code",
      "metadata": {
        "id": "5Yk3kIqSjY6C",
        "outputId": "ab0252bf-f579-46bd-dc43-c6b31b4f2507",
        "colab": {
          "base_uri": "https://localhost:8080/"
        }
      },
      "source": [
        "all_articles = df['content'].to_list()\n",
        "all_articles[:5]"
      ],
      "execution_count": null,
      "outputs": [
        {
          "output_type": "execute_result",
          "data": {
            "text/plain": [
              "['Die ARD-Tochter Degeto hat sich verpflichtet, ab August einer Quotenregelung zu folgen, die für die Gleichstellung von Regisseurinnen sorgen soll. In mindestens 20 Prozent der Filme, die die ARD-Tochter Degeto produziert oder mitfinanziert, sollen ab Mitte August Frauen Regie führen. Degeto-Chefin Christine Strobl folgt mit dieser Selbstverpflichtung der Forderung von Pro Quote Regie. Die Vereinigung von Regisseurinnen hatte im vergangenen Jahr eine Quotenregelung gefordert, um den weiblichen Filmschaffenden mehr Gehör und ökonomische Gleichstellung zu verschaffen. Pro Quote Regie kritisiert, dass, während rund 50 Prozent der Regie-Studierenden weiblich seien, der Anteil der Regisseurinnen bei Fernsehfilmen nur bei 13 bis 15 Prozent liege. In Österreich sieht die Situation ähnlich aus, auch hier wird von unterschiedlichen Seiten Handlungsbedarf angemahnt. Aber wie soll dieser aussehen? Ist die Einführung der Quotenregelung auch für die österreichische Film- und Fernsehlandschaft sinnvoll? Diskutieren Sie im Forum.',\n",
              " 'App sei nicht so angenommen worden wie geplant. Wegen zu geringer Nutzung schaltet Spiegel Online nach zwei Jahren die Fußball-App aus, die App sei nicht so genutzt worden, wie man sich das vorgestellt habe. Dafür soll der Live-Fußball-Bereich in der News-App ausgebaut werden.',\n",
              " '\\'Zum Welttag der Suizidprävention ist es Zeit, das alte Dogma \"Über Suizide schreibt man nicht\" zu verwerfen. Denn erst Ausnahmen von dieser Regel führen zu Nachahmungen – und wer über Suizidalität dann schweigt, wenn sie nicht sensationell ist, stigmatisiert die Betroffenen weiter. Halbwissen ist oft gefährlicher als Nichtwissen. Werther-Effekt? Ja ja, schon mal gehört: Wird über einen Suizid berichtet, töten sich in der Folge mehr Menschen selbst. So wie damals, als Goethes Briefroman Die Leiden des jungen Werthers erschien. Also: Über Suizide wird nicht berichtet. Stimmt. Fast. Der 10. September ist Welttag der Suizidprävention. Wenn es darum geht, Suizide zu verhinden, müssen auch wir Journalisten unsere Verantwortung wahrnehmen – das bedeutet in diesem Fall, sich vom alten Stehsatz Über Suizide schreibt man nicht zu verabschieden. Das Dogma des Schreibverbots hält sich unter Journalisten. Dabei gibt es drei gute Gründe dafür, es aus den Redaktionen zu verbannen. Eines nach dem anderen. Tatsächlich führen bestimmte Medienberichte über Suizide zu Nachahmungen. Menschen in Krisen befinden sich oft in einer Phase quälender Orientierungslosigkeit, wie es im Leitfaden zur Berichterstattung über Suizid des Wiener Kriseninterventionszentrums heißt. Wenn man über Suizid schreibt, ist allerdings das Wie von weitaus größerer Bedeutung als das Ob. Viele Medienberichte über Suizide haben keinerlei messbare Auswirkung auf die Suizidstatistik. Manche Berichte treiben die Zahl der Suizide in die Höhe – und viele können Suizide verhindern. Vor allem in Wien wird zu diesem Thema seit Jahrzehnten intensiv geforscht. Gut bekannt ist die Studie zu den Wiener U-Bahn-Suiziden: Als sich Anfang der 1980er immer mehr Personen in U-Bahn-Stationen selbst töteten, überzeugten Wiener Wissenschafter die großen Tageszeitungen davon, die Berichterstattung massiv zurückzufahren. Die Folge war ein deutlicher Rückgang der U-Bahn-Suizide. Seitdem hat sich in der Forschung einiges getan: Wiener Wissenschafter (einige davon haben schon in den 80ern an der erwähnten Studie mitgearbeitet) haben 2010 im British Journal of Psychiatry einen Artikel veröffentlicht, in dem sie Medienberichte analysierten und mit der amtlichen Sterbestatistik in Zusammenhang setzten. Das Ergebnis dieser und vieler anderer Studien krempelt das Dogma Über Suizide schreibt man nicht gewaltig um. Die Forscher haben den untersuchten Artikeln Eigenschaften zugewiesen: Wurde die Suizidmethode erwähnt? War der Text mit einem Foto illustriert? Wurde der Suizid vereinfacht begründet (zum Beispiel: Selbstmord wegen Liebeskummer)? Diese Eigenschaften wurden als harmful, schädlich, eingeordnet. Umgekehrt codierten die Autoren auch protective items: Wurde eine Expertin oder ein Experte zitiert? Wurden Hilfsangebote für Menschen in Krisen angeführt? Die Rolle der Journalisten präsentiert sich im Licht aktueller Studien weitaus vielschichtiger, als es der viel zu einfache Stehsatz des Berichtsverbots vermuten ließe: Je nachdem, wie über einen Suizid berichtet wird, können Medien die Zahl der Nachahmungssuizide steigern – oder senken. Jetzt könnte man sagen: Berichten wir am besten gar nicht, dann können wir nichts falsch machen. Dieser Zugang hat nur einen großen Haken. Denn der Stehsatz Über Suizid berichten wir nicht funktioniert nicht lückenlos. Und er filtert genau die falschen Berichte heraus. Etwa drei Personen töten sich jeden Tag in Österreich selbst, über die allerwenigsten liest man in der Zeitung. Zu Recht, im Sinne der Zurückhaltung, allerdings meistens nicht aus Verantwortungsbewusstsein, sondern weil ein so alltäglicher Tod eben keine Geschichte ist. Aber ein Prominenter? Na ja, das können wir doch nicht verschweigen! Und weil wir ja normalerweise nicht über Suizide berichten, wissen wir jetzt nicht, wie wirs richtig machen. Dann wird im Boulevard über mehrere Tage im Detail ausgeschlachtet, wie Robin Williams gestorben ist. Oder wie genau Ludwig Hirsch starb, nacherzählt aus seiner Perspektive. Das Bitter-Ironische: In der Statistik messbare Nachahmungen sind hauptsächlich bei Prominenten feststellbar – wohl, weil sich die Menschen gerne mit ihnen identifizieren. Wird der Suizid einer unbekannten Person nicht gerade pathetisch und detailreich nacherzählt, ist die Identifikationsgefahr gering. Wir müssen – als Gesellschaft – über Suizid sprechen. Jedes Jahr töten sich in Österreich 1.200 bis 1.300 Menschen selbst. Suizid ist kein Thema, über das man schweigen kann. Jeder dieser Menschen hatte Freunde, Familie, Kollegen. Das sind viele tausend neue Betroffene, jedes Jahr. Weil die Selbsttötung ein Tabu ist, leiden sie noch stärker. Und wer an Suizid denkt, ist umso gehemmter, darüber zu sprechen. Dabei wäre genau das ein so wichtiger erster Schritt in der Prävention. Wie also berichten? Detaillierte Empfehlungen finden sich im erwähnten Leitfaden. Kernpunkt bleibt: Zurückhaltung. Richtige Suizidberichterstattung ist nicht einfach: Einerseits soll der Tod nicht vereinfacht erklärt werden – ein Suizid ist immer die Folge einer Vielzahl komplex zusammenspielender Probleme –, andererseits soll die individuelle Situation nachvollziehbar sein. Schnellschüsse wie Selbstmord wegen Geldnot! fallen also durch. Genauso soll der Suizid nicht moralisch verurteilt werden. Das passiert in vielen Fällen ganz unbewusst. Dauernd Suizid zu schreiben ist kein schöner Stil und widerspricht der reinen Schule gegen die Wortwiederholung. Der Begriff Selbstmord aber macht Betroffene zu Tätern und verstärkt das Stigma, unter dem auch die Angehörigen von Verstorbenen leiden. Umgekehrt suggeriert das Wort Freitod eine Freiheit, die in den allermeisten Fällen nicht vorherrscht: Suizidale Menschen sind alles andere als frei',\n",
              " 'Mitarbeiter überreichten Eigentümervertretern Petition gegen Personalabbau. Wien – Mehrere hundert APA-Mitarbeiter haben laut dem Betriebsrat eine Resolution unterschrieben, die am Mittwoch den Eigentümervertretern übergeben wurde. Inhalt ist ein deutlicher Protest gegen den geplanten Personalabbau (DER STANDARD berichtete) und für eine Gleichstellung der Mitarbeiter von APA-Tochterunternehmen bei automatischen Gehaltsanpassungen. Ich lehne erneute Personalkürzungen oder gar Kündigungen, wie sie derzeit insbesondere in der Redaktion geplant sind, ab und unterstütze die Forderung nach einer verpflichtenden Weitergabe der jährlichen Ist-Erhöhung der Gehälter für alle MitarbeiterInnen der APA-Gruppe, heißt es in der Resolution. Sie wurde den Teilnehmern von Aufsichtsrats- und Vorstandssitzung von denen der zeitgleich stattfindenden Betriebsversammlung übergeben. Hauptkritikpunkt der Belegschaft ist, dass Sparmaßnahmen angekündigt würden, obwohl die APA seit Jahren Gewinne schreibe. Die als Genossenschaft organisierte Agentur gehört zu 45 Prozent dem ORF, den Rest teilen sich 13 Tageszeitungen. Ihnen wirft der Betriebsrat vor, Gewinne einzustreifen und gleichzeitig Sparprogramme zu verordnen. Peter Kropsch, Vorsitzender der APA-Geschäftsführung, versteht die Aufregung nicht vollends. Die APA sei ein gewinnorientiertes Unternehmen, das auch in Zukunft stabil aufgestellt sein müsse, sagt er zum STANDARD. Der Betriebsrat glaubt, dass man die Kosten einfach unbegrenzt weiterlaufen lassen kann, so Kropsch. Für 2016 steige das Personalbudget sogar, allerdings würden automatische Gehaltserhöhungen die Kosten für den einzelnen Mitarbeiter steigen lassen. Ob die APA die Qualität auch mit weniger Mitarbeitern aufrechterhalten könne? Na klar, sagt Kropsch – unter vergleichbaren Agenturen in Europa sei man am breitesten aufgestellt, da habe ich keine Angst. Persönlich habe er außerdem nur eine geringe Beteiligung an der Betriebsversammlung wahrgenommen.',\n",
              " 'Service: Jobwechsel in der Kommunikationsbranche im Überblick. Hier liefert derStandard.at/Etat Jobwechsel in der Kommunikationsbranche im Überblick. Grob sortiert nach Kalenderwochen, in denen die Infos einlangten. Quellen: Presse- und eigene Infos, andere Branchendienste wie Horizont.at und medianet.at. Wenn Sie Infos für uns haben, bitte ein Mail an etat@derstandard.at schicken. Woche 15 / 2017 Woche 14 / 2017 Woche 13 / 2017 Woche 12 / 2017 Woche 9 / 2017 Woche 8 / 2017 Woche 7 / 2017 Spannende neue Aufgaben voraus: ich mach ab Februar die Nachrichten auf @kurierat. Ich freu mich auch. https://t.co/0zC6EsrXe3 Woche 2 / 2017 Freu mich: Die ausgezeichnete Journalistin Münire Inam vom #ORFreport moderiert (alternierend mit Martina Rupp) ab 23.1. heute konkret! Wie es im kommenden Jahr weitergeht, lasse ich euch bald wissen. Es warten spannende neue Herausforderungen. Woche 45 / 2016 Stefan Huber wechselt von Media in Progress zu content garden technologies und übernimmt den Ausbau der Content Management Unit. Mich interessieren vor allem die Möglichkeiten, die sich aus der Kombination von Content und Technologie ergeben, sagt er.  Woche 43 / 2016 Woche 41 / 2016 Woche 38 / 2016 Woche 37 / 2016 Woche 33 / 2016  Woche 31 / 2016 Woche 30 / 2016 Krone-Anzeigenvermarktung: Thomas Kreuzer leitet die Branchenvermarktung Special Account, Thomas Grojer übernimmt die Regionalleitung Wien und Stammausgabe. Sie folgen in ihren neuen Funktionen Friedrich Dungl nach, der als Geschäftsführer in das Niederösterreichische Pressehaus wechselt. Woche 18 /2016 Vielen Dank! Ich verspreche auch, nicht über die Alpenrepublik und das Schnitzelland zu schreiben. https://t.co/zqj0HXZ7dD Andreas Csar wechselt vom Verband Österreichischer Zeitungen (VÖZ) als Leiter der Presse- und Öffentlichkeitsarbeit zur Stelle des Pressesprechers bei ecoplus (Wirtschaftsagentur des Landes Niederösterreichs). Woche 11 / 2016 Woche 6 / 2016 Woche 5 / 2016 Woche 4 / 2016 Die ÖBB holen Sven Pusswald von der OMV als Leiter der Konzernkommunikation & Public Affairs.']"
            ]
          },
          "metadata": {},
          "execution_count": 9
        }
      ]
    },
    {
      "cell_type": "markdown",
      "metadata": {
        "id": "LNnJfuDllNhz"
      },
      "source": [
        "## Preprocessing\n",
        "\n",
        "Let's see an example, what happens when we pre-process a document.\n",
        "\n",
        "Look at the output of this cell, and compare the tokenized original document, to the lemmatized document:"
      ]
    },
    {
      "cell_type": "code",
      "metadata": {
        "id": "oVI6_TKjjm2B",
        "outputId": "e509c1e1-b061-4b15-fe2e-f288a9a986fa",
        "colab": {
          "base_uri": "https://localhost:8080/"
        }
      },
      "source": [
        "print('original document: ')\n",
        "article = choice(all_articles)\n",
        "print(article)\n",
        "\n",
        "# This time, we don't care about punctuations as tokens (Can you think why?):\n",
        "print('original document, broken into words: ')\n",
        "words = [word for word in article.split(' ')]\n",
        "print(words)\n",
        "print(\"Vocabulary size of the original article:\", len(set(words)))\n",
        "\n",
        "# now let's see what happens when we pass the article into our preprocessing \n",
        "# method:\n",
        "print('\\n\\n tokenized and lemmatized document: ')\n",
        "preprocessed_article = preprocess(article)\n",
        "print(preprocessed_article)\n",
        "print(\"Vocabulary size after preprocessing:\", len(set(preprocessed_article)))\n"
      ],
      "execution_count": null,
      "outputs": [
        {
          "output_type": "stream",
          "name": "stdout",
          "text": [
            "original document: \n",
            "Live-Übertragung am 11. August – Bildregisseur Beyer arbeitet monatelang vor – \"Auch ein \"Philharmonisches\" mit Anne-Sophie Mutter wird von ORF 2 live übertragen. Salzburg/Wien – Mit dem Fidelio bringt ORF 2 die Salzburger Festspiele live ins Wohnzimmer. Die Inszenierung von Claus Guth mit Jonas Kaufmann als Florestan gerät am 13. August zum aufwendigen TV-Event. Bildregisseur Michael Beyer arbeitet schon seit Monaten mit dem Stück, um dann im richtigen Moment in die richtige Kamera zu schauen, wie er bei einem Pressegespräch am Mittwoch erklärte. Bis zu elf Kameras sind im Einsatz, um das Bühnengeschehen einzufangen. Die Arbeit des Bildregisseurs komme der eines Dirigenten gleich, streute ORF-Moderatorin Barbara Rett Rosen. Auch er arbeitet aus der Partitur – alles geht von der Musik aus. Um das musikalisch hochkomplexe Stück wirklich zu durchdringen müsste man Jahre damit verbringen, so Beyer. Glücklicherweise habe er in seiner Zeit als Regieassistent (unter anderem von Fidelio-Regisseur Guth) bereits diese Oper betreut. Denn bei der Live-Übertragung gelte: In der Vorarbeit entscheidet sich alles. Während der aktuellen Proben entsteht das Drehbuch und die Schnittvorlage. Größte Herausforderung der Inszenierung sei der starke und atmosphärische Einsatz von Licht und Schatten, sowie die Beziehung der Figuren und ihrer Schatten. Ich denke, das werden wir mit der Kamera gut einfangen können. Übertragen wird die Aufführung am 13. August, Ö1 überträgt bereits live die Premiere am 4. August. ORF-Generaldirektor Alexander Wrabetz wies auf den Jubiläumscharakter der TV-Produktion hin. Vor 60 Jahren wurde der Fidelio zur Wiedereröffnung der Wiener Staatsoper gespielt – das war die erste Live-Opernproduktion, die im Fernsehen übertragen wurde. Damals dirigierte Karl Böhm, den Florestan gab Anton Dermota. Daran sieht man, dass wir herausragende Produktionen nicht nur für das Publikum von heute, sondern auch für das von morgen aufzeichnen und über unsere Archive zur Verfügung stellen, so Wrabetz. Neben dem Fidelio überträgt das ORF-Fernsehen auch eine Philharmoniker-Matinee unter Riccardo Muti und mit Geigerin Anne-Sophie Mutter live am 16. August um 11 Uhr. Ö1, wo bereits die Eröffnungsoper Die Eroberung von Mexico live zu hören war, bringt auch den konzertanten Werther mit Piotr Beczala und Angela Gheorghiu am 22. August. Im Rahmenprogramm widmet sich der ORF den Festspielen umfangreich: Dokumentationen zu Werken und Akteuren des Festivals, Festspielgespräche mit Barbara Rett auf ORF III sowie spezielle Seitenblicke stehen im Fernsehen an, Ö1 sendet insgesamt 21 Konzerte und Opern.\n",
            "original document, broken into words: \n",
            "['Live-Übertragung', 'am', '11.', 'August', '–', 'Bildregisseur', 'Beyer', 'arbeitet', 'monatelang', 'vor', '–', '\"Auch', 'ein', '\"Philharmonisches\"', 'mit', 'Anne-Sophie', 'Mutter', 'wird', 'von', 'ORF', '2', 'live', 'übertragen.', 'Salzburg/Wien', '–', 'Mit', 'dem', 'Fidelio', 'bringt', 'ORF', '2', 'die', 'Salzburger', 'Festspiele', 'live', 'ins', 'Wohnzimmer.', 'Die', 'Inszenierung', 'von', 'Claus', 'Guth', 'mit', 'Jonas', 'Kaufmann', 'als', 'Florestan', 'gerät', 'am', '13.', 'August', 'zum', 'aufwendigen', 'TV-Event.', 'Bildregisseur', 'Michael', 'Beyer', 'arbeitet', 'schon', 'seit', 'Monaten', 'mit', 'dem', 'Stück,', 'um', 'dann', 'im', 'richtigen', 'Moment', 'in', 'die', 'richtige', 'Kamera', 'zu', 'schauen,', 'wie', 'er', 'bei', 'einem', 'Pressegespräch', 'am', 'Mittwoch', 'erklärte.', 'Bis', 'zu', 'elf', 'Kameras', 'sind', 'im', 'Einsatz,', 'um', 'das', 'Bühnengeschehen', 'einzufangen.', 'Die', 'Arbeit', 'des', 'Bildregisseurs', 'komme', 'der', 'eines', 'Dirigenten', 'gleich,', 'streute', 'ORF-Moderatorin', 'Barbara', 'Rett', 'Rosen.', 'Auch', 'er', 'arbeitet', 'aus', 'der', 'Partitur', '–', 'alles', 'geht', 'von', 'der', 'Musik', 'aus.', 'Um', 'das', 'musikalisch', 'hochkomplexe', 'Stück', 'wirklich', 'zu', 'durchdringen', 'müsste', 'man', 'Jahre', 'damit', 'verbringen,', 'so', 'Beyer.', 'Glücklicherweise', 'habe', 'er', 'in', 'seiner', 'Zeit', 'als', 'Regieassistent', '(unter', 'anderem', 'von', 'Fidelio-Regisseur', 'Guth)', 'bereits', 'diese', 'Oper', 'betreut.', 'Denn', 'bei', 'der', 'Live-Übertragung', 'gelte:', 'In', 'der', 'Vorarbeit', 'entscheidet', 'sich', 'alles.', 'Während', 'der', 'aktuellen', 'Proben', 'entsteht', 'das', 'Drehbuch', 'und', 'die', 'Schnittvorlage.', 'Größte', 'Herausforderung', 'der', 'Inszenierung', 'sei', 'der', 'starke', 'und', 'atmosphärische', 'Einsatz', 'von', 'Licht', 'und', 'Schatten,', 'sowie', 'die', 'Beziehung', 'der', 'Figuren', 'und', 'ihrer', 'Schatten.', 'Ich', 'denke,', 'das', 'werden', 'wir', 'mit', 'der', 'Kamera', 'gut', 'einfangen', 'können.', 'Übertragen', 'wird', 'die', 'Aufführung', 'am', '13.', 'August,', 'Ö1', 'überträgt', 'bereits', 'live', 'die', 'Premiere', 'am', '4.', 'August.', 'ORF-Generaldirektor', 'Alexander', 'Wrabetz', 'wies', 'auf', 'den', 'Jubiläumscharakter', 'der', 'TV-Produktion', 'hin.', 'Vor', '60', 'Jahren', 'wurde', 'der', 'Fidelio', 'zur', 'Wiedereröffnung', 'der', 'Wiener', 'Staatsoper', 'gespielt', '–', 'das', 'war', 'die', 'erste', 'Live-Opernproduktion,', 'die', 'im', 'Fernsehen', 'übertragen', 'wurde.', 'Damals', 'dirigierte', 'Karl', 'Böhm,', 'den', 'Florestan', 'gab', 'Anton', 'Dermota.', 'Daran', 'sieht', 'man,', 'dass', 'wir', 'herausragende', 'Produktionen', 'nicht', 'nur', 'für', 'das', 'Publikum', 'von', 'heute,', 'sondern', 'auch', 'für', 'das', 'von', 'morgen', 'aufzeichnen', 'und', 'über', 'unsere', 'Archive', 'zur', 'Verfügung', 'stellen,', 'so', 'Wrabetz.', 'Neben', 'dem', 'Fidelio', 'überträgt', 'das', 'ORF-Fernsehen', 'auch', 'eine', 'Philharmoniker-Matinee', 'unter', 'Riccardo', 'Muti', 'und', 'mit', 'Geigerin', 'Anne-Sophie', 'Mutter', 'live', 'am', '16.', 'August', 'um', '11', 'Uhr.', 'Ö1,', 'wo', 'bereits', 'die', 'Eröffnungsoper', 'Die', 'Eroberung', 'von', 'Mexico', 'live', 'zu', 'hören', 'war,', 'bringt', 'auch', 'den', 'konzertanten', 'Werther', 'mit', 'Piotr', 'Beczala', 'und', 'Angela', 'Gheorghiu', 'am', '22.', 'August.', 'Im', 'Rahmenprogramm', 'widmet', 'sich', 'der', 'ORF', 'den', 'Festspielen', 'umfangreich:', 'Dokumentationen', 'zu', 'Werken', 'und', 'Akteuren', 'des', 'Festivals,', 'Festspielgespräche', 'mit', 'Barbara', 'Rett', 'auf', 'ORF', 'III', 'sowie', 'spezielle', 'Seitenblicke', 'stehen', 'im', 'Fernsehen', 'an,', 'Ö1', 'sendet', 'insgesamt', '21', 'Konzerte', 'und', 'Opern.']\n",
            "Vocabulary size of the original article: 260\n",
            "\n",
            "\n",
            " tokenized and lemmatized document: \n",
            "['liv', 'ubertrag', 'august', 'bildregisseur', 'bey', 'arbeitet', 'monatelang', 'ann', 'sophi', 'mutt', 'liv', 'ubertrag', 'salzburg', 'wien', 'fidelio', 'bringt', 'salzburg', 'festspiel', 'liv', 'wohnzimm', 'inszenier', 'claus', 'guth', 'jonas', 'kaufmann', 'florestan', 'gerat', 'august', 'aufwend', 'event', 'bildregisseur', 'michael', 'bey', 'arbeitet', 'schon', 'seit', 'monat', 'stuck', 'richtig', 'moment', 'richtig', 'kamera', 'schau', 'pressegesprach', 'mittwoch', 'erklart', 'kameras', 'einsatz', 'buhnengescheh', 'einzufang', 'arbeit', 'bildregisseur', 'komm', 'dirigent', 'gleich', 'streut', 'moderatorin', 'barbara', 'rett', 'ros', 'arbeitet', 'partitur', 'geht', 'musik', 'musikal', 'hochkomplex', 'stuck', 'wirklich', 'durchdring', 'musst', 'jahr', 'verbring', 'bey', 'zeit', 'regieassistent', 'fidelio', 'regisseur', 'guth', 'bereit', 'oper', 'betreut', 'liv', 'ubertrag', 'gelt', 'vorarbeit', 'entscheidet', 'aktuell', 'prob', 'entsteht', 'drehbuch', 'schnittvorlag', 'grosst', 'herausforder', 'inszenier', 'stark', 'atmosphar', 'einsatz', 'licht', 'schatt', 'sowi', 'bezieh', 'figur', 'schatt', 'denk', 'kamera', 'einfang', 'ubertrag', 'auffuhr', 'august', 'ubertragt', 'bereit', 'liv', 'premi', 'august', 'generaldirektor', 'alexand', 'wrabetz', 'wies', 'produktion', 'jahr', 'wurd', 'fidelio', 'wiedereroffn', 'wien', 'staatsop', 'gespielt', 'erst', 'liv', 'opernproduktion', 'fernseh', 'ubertrag', 'wurd', 'damal', 'dirigiert', 'karl', 'bohm', 'florestan', 'anton', 'dermota', 'daran', 'sieht', 'herausrag', 'produktion', 'publikum', 'heut', 'morg', 'aufzeichn', 'archiv', 'verfug', 'stell', 'wrabetz', 'neb', 'fidelio', 'ubertragt', 'fernseh', 'philharmon', 'matine', 'riccardo', 'muti', 'geigerin', 'ann', 'sophi', 'mutt', 'liv', 'august', 'bereit', 'eroffnungsop', 'erober', 'mexico', 'liv', 'hor', 'bringt', 'konzertant', 'werth', 'piotr', 'beczala', 'angela', 'gheorghiu', 'august', 'rahmenprogramm', 'widmet', 'festspiel', 'umfangreich', 'dokumentation', 'werk', 'akteur', 'festival', 'barbara', 'rett', 'sowi', 'speziell', 'seitenblick', 'steh', 'fernseh', 'sendet', 'insgesamt', 'konzert', 'opern']\n",
            "Vocabulary size after preprocessing: 146\n"
          ]
        }
      ]
    },
    {
      "cell_type": "markdown",
      "metadata": {
        "id": "DDVOwyaIlL52"
      },
      "source": [
        "Now let's pre-process them all.\n",
        "\n",
        "This is a heavy procedure, and may take a bit ;)"
      ]
    },
    {
      "cell_type": "code",
      "metadata": {
        "id": "2pQYw_aYkq-_",
        "outputId": "8916d769-5186-4563-fd13-15b7e0b0465b",
        "colab": {
          "base_uri": "https://localhost:8080/"
        }
      },
      "source": [
        "processed_docs = list(map(preprocess, all_articles))\n",
        "processed_docs[:10]"
      ],
      "execution_count": null,
      "outputs": [
        {
          "output_type": "execute_result",
          "data": {
            "text/plain": [
              "[['tocht',\n",
              "  'degeto',\n",
              "  'verpflichtet',\n",
              "  'august',\n",
              "  'quotenregel',\n",
              "  'folg',\n",
              "  'gleichstell',\n",
              "  'regisseurinn',\n",
              "  'sorg',\n",
              "  'mindest',\n",
              "  'prozent',\n",
              "  'film',\n",
              "  'tocht',\n",
              "  'degeto',\n",
              "  'produziert',\n",
              "  'mitfinanziert',\n",
              "  'soll',\n",
              "  'mitt',\n",
              "  'august',\n",
              "  'frau',\n",
              "  'regi',\n",
              "  'fuhr',\n",
              "  'degeto',\n",
              "  'chefin',\n",
              "  'christin',\n",
              "  'strobl',\n",
              "  'folgt',\n",
              "  'forder',\n",
              "  'quot',\n",
              "  'regi',\n",
              "  'verein',\n",
              "  'regisseurinn',\n",
              "  'vergang',\n",
              "  'jahr',\n",
              "  'quotenregel',\n",
              "  'gefordert',\n",
              "  'weiblich',\n",
              "  'filmschaff',\n",
              "  'mehr',\n",
              "  'gehor',\n",
              "  'okonom',\n",
              "  'gleichstell',\n",
              "  'verschaff',\n",
              "  'quot',\n",
              "  'regi',\n",
              "  'kritisiert',\n",
              "  'rund',\n",
              "  'prozent',\n",
              "  'regi',\n",
              "  'studier',\n",
              "  'weiblich',\n",
              "  'seien',\n",
              "  'anteil',\n",
              "  'regisseurinn',\n",
              "  'fernsehfilm',\n",
              "  'prozent',\n",
              "  'lieg',\n",
              "  'osterreich',\n",
              "  'sieht',\n",
              "  'situation',\n",
              "  'ahnlich',\n",
              "  'seit',\n",
              "  'handlungsbedarf',\n",
              "  'angemahnt',\n",
              "  'ausseh',\n",
              "  'einfuhr',\n",
              "  'quotenregel',\n",
              "  'osterreich',\n",
              "  'film',\n",
              "  'sinnvoll',\n",
              "  'diskuti',\n",
              "  'forum'],\n",
              " ['angenomm',\n",
              "  'word',\n",
              "  'geplant',\n",
              "  'weg',\n",
              "  'gering',\n",
              "  'nutzung',\n",
              "  'schaltet',\n",
              "  'spiegel',\n",
              "  'onlin',\n",
              "  'zwei',\n",
              "  'jahr',\n",
              "  'fussball',\n",
              "  'genutzt',\n",
              "  'word',\n",
              "  'vorgestellt',\n",
              "  'dafur',\n",
              "  'liv',\n",
              "  'fussball',\n",
              "  'bereich',\n",
              "  'news',\n",
              "  'ausgebaut'],\n",
              " ['welttag',\n",
              "  'zeit',\n",
              "  'alt',\n",
              "  'dogma',\n",
              "  'suizid',\n",
              "  'schreibt',\n",
              "  'verwerf',\n",
              "  'erst',\n",
              "  'ausnahm',\n",
              "  'regel',\n",
              "  'fuhr',\n",
              "  'nachahm',\n",
              "  'suizidalitat',\n",
              "  'schweigt',\n",
              "  'sensationell',\n",
              "  'stigmatisiert',\n",
              "  'betroff',\n",
              "  'halbwiss',\n",
              "  'gefahr',\n",
              "  'nichtwiss',\n",
              "  'werth',\n",
              "  'effekt',\n",
              "  'schon',\n",
              "  'gehort',\n",
              "  'suizid',\n",
              "  'berichtet',\n",
              "  'tot',\n",
              "  'folg',\n",
              "  'mehr',\n",
              "  'mensch',\n",
              "  'damal',\n",
              "  'goeth',\n",
              "  'briefroman',\n",
              "  'leid',\n",
              "  'jung',\n",
              "  'werth',\n",
              "  'erschi',\n",
              "  'suizid',\n",
              "  'berichtet',\n",
              "  'stimmt',\n",
              "  'fast',\n",
              "  'septemb',\n",
              "  'welttag',\n",
              "  'darum',\n",
              "  'geht',\n",
              "  'suizid',\n",
              "  'verhind',\n",
              "  'muss',\n",
              "  'journalist',\n",
              "  'verantwort',\n",
              "  'wahrnehm',\n",
              "  'bedeutet',\n",
              "  'fall',\n",
              "  'alt',\n",
              "  'stehsatz',\n",
              "  'suizid',\n",
              "  'schreibt',\n",
              "  'verabschied',\n",
              "  'dogma',\n",
              "  'schreibverbot',\n",
              "  'halt',\n",
              "  'journalist',\n",
              "  'dabei',\n",
              "  'gibt',\n",
              "  'drei',\n",
              "  'gut',\n",
              "  'grund',\n",
              "  'dafur',\n",
              "  'redaktion',\n",
              "  'verbann',\n",
              "  'tatsach',\n",
              "  'fuhr',\n",
              "  'bestimmt',\n",
              "  'medienbericht',\n",
              "  'suizid',\n",
              "  'nachahm',\n",
              "  'mensch',\n",
              "  'kris',\n",
              "  'befind',\n",
              "  'phas',\n",
              "  'qualend',\n",
              "  'leitfad',\n",
              "  'suizid',\n",
              "  'wien',\n",
              "  'heisst',\n",
              "  'suizid',\n",
              "  'schreibt',\n",
              "  'allerding',\n",
              "  'weitaus',\n",
              "  'gross',\n",
              "  'bedeut',\n",
              "  'viel',\n",
              "  'medienbericht',\n",
              "  'suizid',\n",
              "  'keinerlei',\n",
              "  'messbar',\n",
              "  'auswirk',\n",
              "  'suizidstatist',\n",
              "  'bericht',\n",
              "  'treib',\n",
              "  'zahl',\n",
              "  'suizid',\n",
              "  'hoh',\n",
              "  'viel',\n",
              "  'suizid',\n",
              "  'verhind',\n",
              "  'wien',\n",
              "  'thema',\n",
              "  'seit',\n",
              "  'jahrzehnt',\n",
              "  'intensiv',\n",
              "  'geforscht',\n",
              "  'bekannt',\n",
              "  'studi',\n",
              "  'wien',\n",
              "  'bahn',\n",
              "  'suizid',\n",
              "  'anfang',\n",
              "  'imm',\n",
              "  'mehr',\n",
              "  'person',\n",
              "  'bahn',\n",
              "  'station',\n",
              "  'totet',\n",
              "  'uberzeugt',\n",
              "  'wien',\n",
              "  'wissenschaft',\n",
              "  'gross',\n",
              "  'tageszeit',\n",
              "  'davon',\n",
              "  'massiv',\n",
              "  'zuruckzufahr',\n",
              "  'folg',\n",
              "  'deutlich',\n",
              "  'ruckgang',\n",
              "  'bahn',\n",
              "  'suizid',\n",
              "  'seitd',\n",
              "  'forschung',\n",
              "  'getan',\n",
              "  'wien',\n",
              "  'wissenschaft',\n",
              "  'davon',\n",
              "  'schon',\n",
              "  'erwahnt',\n",
              "  'studi',\n",
              "  'mitgearbeitet',\n",
              "  'british',\n",
              "  'journal',\n",
              "  'psychiatry',\n",
              "  'artikel',\n",
              "  'veroffentlicht',\n",
              "  'medienbericht',\n",
              "  'analysiert',\n",
              "  'amtlich',\n",
              "  'sterbestatist',\n",
              "  'zusammenhang',\n",
              "  'setzt',\n",
              "  'ergebnis',\n",
              "  'viel',\n",
              "  'studi',\n",
              "  'krempelt',\n",
              "  'dogma',\n",
              "  'suizid',\n",
              "  'schreibt',\n",
              "  'gewalt',\n",
              "  'forsch',\n",
              "  'untersucht',\n",
              "  'artikeln',\n",
              "  'eigenschaft',\n",
              "  'zugewies',\n",
              "  'wurd',\n",
              "  'suizidmethod',\n",
              "  'erwahnt',\n",
              "  'text',\n",
              "  'foto',\n",
              "  'illustriert',\n",
              "  'wurd',\n",
              "  'suizid',\n",
              "  'vereinfacht',\n",
              "  'begrundet',\n",
              "  'beispiel',\n",
              "  'selbstmord',\n",
              "  'weg',\n",
              "  'liebeskumm',\n",
              "  'eigenschaft',\n",
              "  'wurd',\n",
              "  'harmful',\n",
              "  'schadlich',\n",
              "  'eingeordnet',\n",
              "  'umgekehrt',\n",
              "  'codiert',\n",
              "  'autor',\n",
              "  'protectiv',\n",
              "  'item',\n",
              "  'wurd',\n",
              "  'expertin',\n",
              "  'expert',\n",
              "  'zitiert',\n",
              "  'wurd',\n",
              "  'hilfsangebot',\n",
              "  'mensch',\n",
              "  'kris',\n",
              "  'angefuhrt',\n",
              "  'roll',\n",
              "  'journalist',\n",
              "  'prasentiert',\n",
              "  'licht',\n",
              "  'aktuell',\n",
              "  'studi',\n",
              "  'weitaus',\n",
              "  'vielschicht',\n",
              "  'einfach',\n",
              "  'stehsatz',\n",
              "  'berichtsverbot',\n",
              "  'vermut',\n",
              "  'liess',\n",
              "  'nachd',\n",
              "  'suizid',\n",
              "  'berichtet',\n",
              "  'medi',\n",
              "  'zahl',\n",
              "  'steig',\n",
              "  'senk',\n",
              "  'sag',\n",
              "  'bericht',\n",
              "  'best',\n",
              "  'falsch',\n",
              "  'zugang',\n",
              "  'gross',\n",
              "  'hak',\n",
              "  'stehsatz',\n",
              "  'suizid',\n",
              "  'bericht',\n",
              "  'funktioniert',\n",
              "  'luckenlos',\n",
              "  'filtert',\n",
              "  'genau',\n",
              "  'falsch',\n",
              "  'bericht',\n",
              "  'heraus',\n",
              "  'etwa',\n",
              "  'drei',\n",
              "  'person',\n",
              "  'tot',\n",
              "  'osterreich',\n",
              "  'allerwen',\n",
              "  'liest',\n",
              "  'zeitung',\n",
              "  'recht',\n",
              "  'sinn',\n",
              "  'zuruckhalt',\n",
              "  'allerding',\n",
              "  'meist',\n",
              "  'alltag',\n",
              "  'eben',\n",
              "  'geschicht',\n",
              "  'prominent',\n",
              "  'verschweig',\n",
              "  'normalerweis',\n",
              "  'suizid',\n",
              "  'bericht',\n",
              "  'wiss',\n",
              "  'wir',\n",
              "  'richtig',\n",
              "  'boulevard',\n",
              "  'mehr',\n",
              "  'tag',\n",
              "  'detail',\n",
              "  'ausgeschlachtet',\n",
              "  'robin',\n",
              "  'william',\n",
              "  'gestorb',\n",
              "  'genau',\n",
              "  'ludwig',\n",
              "  'hirsch',\n",
              "  'starb',\n",
              "  'nacherzahlt',\n",
              "  'perspektiv',\n",
              "  'bitt',\n",
              "  'iron',\n",
              "  'statist',\n",
              "  'messbar',\n",
              "  'nachahm',\n",
              "  'hauptsach',\n",
              "  'prominent',\n",
              "  'feststellbar',\n",
              "  'wohl',\n",
              "  'mensch',\n",
              "  'gern',\n",
              "  'identifizi',\n",
              "  'suizid',\n",
              "  'unbekannt',\n",
              "  'person',\n",
              "  'gerad',\n",
              "  'pathet',\n",
              "  'detailreich',\n",
              "  'nacherzahlt',\n",
              "  'gering',\n",
              "  'muss',\n",
              "  'gesellschaft',\n",
              "  'suizid',\n",
              "  'sprech',\n",
              "  'jahr',\n",
              "  'tot',\n",
              "  'osterreich',\n",
              "  'mensch',\n",
              "  'suizid',\n",
              "  'thema',\n",
              "  'schweig',\n",
              "  'mensch',\n",
              "  'freund',\n",
              "  'famili',\n",
              "  'kolleg',\n",
              "  'viel',\n",
              "  'tausend',\n",
              "  'neu',\n",
              "  'betroff',\n",
              "  'jahr',\n",
              "  'selbsttot',\n",
              "  'tabu',\n",
              "  'leid',\n",
              "  'stark',\n",
              "  'suizid',\n",
              "  'denkt',\n",
              "  'umso',\n",
              "  'gehemmt',\n",
              "  'darub',\n",
              "  'sprech',\n",
              "  'dabei',\n",
              "  'war',\n",
              "  'genau',\n",
              "  'wichtig',\n",
              "  'erst',\n",
              "  'schritt',\n",
              "  'pravention',\n",
              "  'bericht',\n",
              "  'detailliert',\n",
              "  'empfehl',\n",
              "  'find',\n",
              "  'erwahnt',\n",
              "  'leitfad',\n",
              "  'kernpunkt',\n",
              "  'bleibt',\n",
              "  'zuruckhalt',\n",
              "  'richtig',\n",
              "  'einfach',\n",
              "  'einerseit',\n",
              "  'vereinfacht',\n",
              "  'erklart',\n",
              "  'suizid',\n",
              "  'imm',\n",
              "  'folg',\n",
              "  'vielzahl',\n",
              "  'komplex',\n",
              "  'problem',\n",
              "  'andererseit',\n",
              "  'individuell',\n",
              "  'situation',\n",
              "  'nachvollziehbar',\n",
              "  'schnellschuss',\n",
              "  'selbstmord',\n",
              "  'weg',\n",
              "  'geldnot',\n",
              "  'fall',\n",
              "  'genauso',\n",
              "  'suizid',\n",
              "  'moral',\n",
              "  'verurteilt',\n",
              "  'passiert',\n",
              "  'viel',\n",
              "  'fall',\n",
              "  'ganz',\n",
              "  'unbewusst',\n",
              "  'dauernd',\n",
              "  'suizid',\n",
              "  'schreib',\n",
              "  'schon',\n",
              "  'stil',\n",
              "  'widerspricht',\n",
              "  'rein',\n",
              "  'schul',\n",
              "  'begriff',\n",
              "  'selbstmord',\n",
              "  'macht',\n",
              "  'betroff',\n",
              "  'tat',\n",
              "  'verstarkt',\n",
              "  'stigma',\n",
              "  'angehor',\n",
              "  'verstorb',\n",
              "  'leid',\n",
              "  'umgekehrt',\n",
              "  'suggeriert',\n",
              "  'wort',\n",
              "  'freitod',\n",
              "  'freiheit',\n",
              "  'allermeist',\n",
              "  'fall',\n",
              "  'vorherrscht',\n",
              "  'suizidal',\n",
              "  'mensch',\n",
              "  'frei'],\n",
              " ['mitarbeit',\n",
              "  'uberreicht',\n",
              "  'petition',\n",
              "  'personalabbau',\n",
              "  'wien',\n",
              "  'mehr',\n",
              "  'hundert',\n",
              "  'mitarbeit',\n",
              "  'laut',\n",
              "  'betriebsrat',\n",
              "  'resolution',\n",
              "  'unterschrieb',\n",
              "  'mittwoch',\n",
              "  'ubergeb',\n",
              "  'wurd',\n",
              "  'inhalt',\n",
              "  'deutlich',\n",
              "  'prot',\n",
              "  'geplant',\n",
              "  'personalabbau',\n",
              "  'standard',\n",
              "  'berichtet',\n",
              "  'gleichstell',\n",
              "  'mitarbeit',\n",
              "  'automat',\n",
              "  'lehn',\n",
              "  'erneut',\n",
              "  'kundig',\n",
              "  'derzeit',\n",
              "  'insbesond',\n",
              "  'redaktion',\n",
              "  'geplant',\n",
              "  'unterstutz',\n",
              "  'forder',\n",
              "  'verpflicht',\n",
              "  'weitergab',\n",
              "  'jahrlich',\n",
              "  'erhoh',\n",
              "  'gehalt',\n",
              "  'grupp',\n",
              "  'heisst',\n",
              "  'resolution',\n",
              "  'wurd',\n",
              "  'teilnehm',\n",
              "  'aufsichtsrat',\n",
              "  'den',\n",
              "  'zeitgleich',\n",
              "  'stattfind',\n",
              "  'ubergeb',\n",
              "  'belegschaft',\n",
              "  'sparmassnahm',\n",
              "  'angekundigt',\n",
              "  'obwohl',\n",
              "  'seit',\n",
              "  'jahr',\n",
              "  'gewinn',\n",
              "  'schreib',\n",
              "  'genossenschaft',\n",
              "  'organisiert',\n",
              "  'agentur',\n",
              "  'gehort',\n",
              "  'prozent',\n",
              "  'rest',\n",
              "  'teil',\n",
              "  'tageszeit',\n",
              "  'wirft',\n",
              "  'betriebsrat',\n",
              "  'gewinn',\n",
              "  'einzustreif',\n",
              "  'gleichzeit',\n",
              "  'sparprogramm',\n",
              "  'verordn',\n",
              "  'pet',\n",
              "  'kropsch',\n",
              "  'vorsitz',\n",
              "  'versteht',\n",
              "  'aufreg',\n",
              "  'vollend',\n",
              "  'unternehm',\n",
              "  'zukunft',\n",
              "  'stabil',\n",
              "  'aufgestellt',\n",
              "  'muss',\n",
              "  'sagt',\n",
              "  'standard',\n",
              "  'betriebsrat',\n",
              "  'glaubt',\n",
              "  'kost',\n",
              "  'einfach',\n",
              "  'unbegrenzt',\n",
              "  'weiterlauf',\n",
              "  'lass',\n",
              "  'kropsch',\n",
              "  'steig',\n",
              "  'personalbudget',\n",
              "  'sogar',\n",
              "  'allerding',\n",
              "  'automat',\n",
              "  'kost',\n",
              "  'einzeln',\n",
              "  'mitarbeit',\n",
              "  'steig',\n",
              "  'lass',\n",
              "  'qualitat',\n",
              "  'wenig',\n",
              "  'mitarbeit',\n",
              "  'konn',\n",
              "  'klar',\n",
              "  'sagt',\n",
              "  'kropsch',\n",
              "  'vergleichbar',\n",
              "  'agentur',\n",
              "  'europa',\n",
              "  'breit',\n",
              "  'aufgestellt',\n",
              "  'angst',\n",
              "  'person',\n",
              "  'ausserd',\n",
              "  'gering',\n",
              "  'beteil',\n",
              "  'wahrgenomm'],\n",
              " ['servic',\n",
              "  'jobwechsel',\n",
              "  'uberblick',\n",
              "  'liefert',\n",
              "  'derstandard',\n",
              "  'etat',\n",
              "  'jobwechsel',\n",
              "  'uberblick',\n",
              "  'grob',\n",
              "  'sortiert',\n",
              "  'kalenderwoch',\n",
              "  'den',\n",
              "  'infos',\n",
              "  'einlangt',\n",
              "  'quell',\n",
              "  'press',\n",
              "  'eig',\n",
              "  'infos',\n",
              "  'branchendien',\n",
              "  'horizont',\n",
              "  'medianet',\n",
              "  'infos',\n",
              "  'bitt',\n",
              "  'mail',\n",
              "  'etat',\n",
              "  'derstandard',\n",
              "  'schick',\n",
              "  'woch',\n",
              "  'woch',\n",
              "  'woch',\n",
              "  'woch',\n",
              "  'woch',\n",
              "  'woch',\n",
              "  'woch',\n",
              "  'spannend',\n",
              "  'neu',\n",
              "  'aufgab',\n",
              "  'voraus',\n",
              "  'mach',\n",
              "  'februar',\n",
              "  'nachricht',\n",
              "  'kurierat',\n",
              "  'freu',\n",
              "  'https',\n",
              "  'esrx',\n",
              "  'woch',\n",
              "  'freu',\n",
              "  'ausgezeichnet',\n",
              "  'journalistin',\n",
              "  'munir',\n",
              "  'inam',\n",
              "  'orfreport',\n",
              "  'moderiert',\n",
              "  'alternier',\n",
              "  'martina',\n",
              "  'rupp',\n",
              "  'heut',\n",
              "  'konkret',\n",
              "  'kommend',\n",
              "  'jahr',\n",
              "  'weitergeht',\n",
              "  'lass',\n",
              "  'bald',\n",
              "  'wiss',\n",
              "  'wart',\n",
              "  'spannend',\n",
              "  'neu',\n",
              "  'woch',\n",
              "  'stefan',\n",
              "  'hub',\n",
              "  'wechselt',\n",
              "  'media',\n",
              "  'progress',\n",
              "  'content',\n",
              "  'gard',\n",
              "  'technologi',\n",
              "  'ubernimmt',\n",
              "  'ausbau',\n",
              "  'content',\n",
              "  'management',\n",
              "  'unit',\n",
              "  'interessi',\n",
              "  'moglich',\n",
              "  'kombination',\n",
              "  'content',\n",
              "  'technologi',\n",
              "  'ergeb',\n",
              "  'sagt',\n",
              "  'woch',\n",
              "  'woch',\n",
              "  'woch',\n",
              "  'woch',\n",
              "  'woch',\n",
              "  'woch',\n",
              "  'woch',\n",
              "  'kron',\n",
              "  'thomas',\n",
              "  'kreuz',\n",
              "  'leitet',\n",
              "  'special',\n",
              "  'account',\n",
              "  'thomas',\n",
              "  'groj',\n",
              "  'ubernimmt',\n",
              "  'regionalleit',\n",
              "  'wien',\n",
              "  'stammausgab',\n",
              "  'folg',\n",
              "  'neu',\n",
              "  'funktion',\n",
              "  'friedrich',\n",
              "  'dungl',\n",
              "  'geschaftsfuhr',\n",
              "  'pressehaus',\n",
              "  'wechselt',\n",
              "  'woch',\n",
              "  'viel',\n",
              "  'dank',\n",
              "  'versprech',\n",
              "  'alpenrepubl',\n",
              "  'schnitzelland',\n",
              "  'schreib',\n",
              "  'https',\n",
              "  'andreas',\n",
              "  'csar',\n",
              "  'wechselt',\n",
              "  'verband',\n",
              "  'zeitung',\n",
              "  'leit',\n",
              "  'press',\n",
              "  'stell',\n",
              "  'pressesprech',\n",
              "  'ecoplus',\n",
              "  'land',\n",
              "  'woch',\n",
              "  'woch',\n",
              "  'woch',\n",
              "  'woch',\n",
              "  'hol',\n",
              "  'sven',\n",
              "  'pusswald',\n",
              "  'leit',\n",
              "  'public',\n",
              "  'affair'],\n",
              " ['woch',\n",
              "  'wiss',\n",
              "  'sollt',\n",
              "  'gleich',\n",
              "  'vergess',\n",
              "  'wien',\n",
              "  'woch',\n",
              "  'getan',\n",
              "  'medienwelt',\n",
              "  'entgang',\n",
              "  'bess',\n",
              "  'durchcheck',\n",
              "  'etat',\n",
              "  'wochenquiz',\n",
              "  'wunsch',\n",
              "  'spass',\n",
              "  'beim',\n",
              "  'mitmach',\n",
              "  'vorig',\n",
              "  'woch',\n",
              "  'zeit',\n",
              "  'medi',\n",
              "  'nachricht',\n",
              "  'les',\n",
              "  'nutzlich',\n",
              "  'link'],\n",
              " ['woch',\n",
              "  'wiss',\n",
              "  'sollt',\n",
              "  'gleich',\n",
              "  'vergess',\n",
              "  'wien',\n",
              "  'woch',\n",
              "  'getan',\n",
              "  'medienwelt',\n",
              "  'entgang',\n",
              "  'bess',\n",
              "  'durchcheck',\n",
              "  'etat',\n",
              "  'wochenquiz',\n",
              "  'wunsch',\n",
              "  'spass',\n",
              "  'beim',\n",
              "  'mitmach',\n",
              "  'vorig',\n",
              "  'woch',\n",
              "  'zeit',\n",
              "  'medi',\n",
              "  'nachricht',\n",
              "  'les',\n",
              "  'nutzlich',\n",
              "  'link'],\n",
              " ['mocht',\n",
              "  'eig',\n",
              "  'plattform',\n",
              "  'aufbau',\n",
              "  'les',\n",
              "  'unterstutzt',\n",
              "  'irgendwas',\n",
              "  'medi',\n",
              "  'recht',\n",
              "  'vag',\n",
              "  'stefan',\n",
              "  'niggemei',\n",
              "  'plant',\n",
              "  'jedenfall',\n",
              "  'deutsch',\n",
              "  'onlinemagazin',\n",
              "  'krautreport',\n",
              "  'verlasst',\n",
              "  'niggemei',\n",
              "  'herausgeb',\n",
              "  'initiator',\n",
              "  'kritisch',\n",
              "  'bild',\n",
              "  'blog',\n",
              "  'kundigt',\n",
              "  'neu',\n",
              "  'plattform',\n",
              "  'medienkrit',\n",
              "  'einbezieh',\n",
              "  'les',\n",
              "  'blog',\n",
              "  'schreibt',\n",
              "  'niggemei',\n",
              "  'projekt',\n",
              "  'krautreport',\n",
              "  'richtig',\n",
              "  'findet',\n",
              "  'umsetz',\n",
              "  'vorstell',\n",
              "  'verlief',\n",
              "  'grosst',\n",
              "  'einzeln',\n",
              "  'fehl',\n",
              "  'meinung',\n",
              "  'eig',\n",
              "  'softwar',\n",
              "  'programmi',\n",
              "  'lass',\n",
              "  'zeit',\n",
              "  'geld',\n",
              "  'nerv',\n",
              "  'gekostet',\n",
              "  'teilweis',\n",
              "  'richtig',\n",
              "  'funktioniert',\n",
              "  'zentral',\n",
              "  'probl',\n",
              "  'verortet',\n",
              "  'redaktionell',\n",
              "  'bereich',\n",
              "  'rot',\n",
              "  'fad',\n",
              "  'gefehlt',\n",
              "  'trieb',\n",
              "  'lust',\n",
              "  'neu',\n",
              "  'geschaftsmodell',\n",
              "  'auszuprobi',\n",
              "  'unbedingt',\n",
              "  'gemeinsam',\n",
              "  'redaktionell',\n",
              "  'ide',\n",
              "  'tat',\n",
              "  'schwer',\n",
              "  'defini',\n",
              "  'worub',\n",
              "  'bericht',\n",
              "  'niggemei',\n",
              "  'verliert',\n",
              "  'krautreport',\n",
              "  'bekannt',\n",
              "  'journalist',\n",
              "  'portal',\n",
              "  'wurd',\n",
              "  'jahr',\n",
              "  'erfolgreich',\n",
              "  'crowdfunding',\n",
              "  'tauf',\n",
              "  'gehob',\n",
              "  'finanzier',\n",
              "  'gelang',\n",
              "  'nachd',\n",
              "  'mitglied',\n",
              "  'jahresabo',\n",
              "  'euro',\n",
              "  'abschloss',\n",
              "  'krautreport',\n",
              "  'weitergeht',\n",
              "  'nach',\n",
              "  'woch',\n",
              "  'zeig',\n",
              "  'mitglied',\n",
              "  'muss',\n",
              "  'namlich',\n",
              "  'verlang',\n",
              "  'zweit',\n",
              "  'jahr',\n",
              "  'geh'],\n",
              " ['fest',\n",
              "  'redaktion',\n",
              "  'umwandl',\n",
              "  'genossenschaft',\n",
              "  'steht',\n",
              "  'kurz',\n",
              "  'bevor',\n",
              "  'berlin',\n",
              "  'wien',\n",
              "  'angesagt',\n",
              "  'revolution',\n",
              "  'verandert',\n",
              "  'form',\n",
              "  'fortgesetzt',\n",
              "  'krautreport',\n",
              "  'genossenschaft',\n",
              "  'umgewandelt',\n",
              "  'muss',\n",
              "  'gefund',\n",
              "  'einlag',\n",
              "  'zumind',\n",
              "  'euro',\n",
              "  'beteil',\n",
              "  'erst',\n",
              "  'zahl',\n",
              "  'erreicht',\n",
              "  'genossenschaft',\n",
              "  'eingetrag',\n",
              "  'daran',\n",
              "  'scheit',\n",
              "  'plattform',\n",
              "  'bish',\n",
              "  'gesellschaft',\n",
              "  'beschrankt',\n",
              "  'haftung',\n",
              "  'weitergefuhrt',\n",
              "  'mitglied',\n",
              "  'haft',\n",
              "  'hoh',\n",
              "  'einlag',\n",
              "  'besteht',\n",
              "  'unabhang',\n",
              "  'einlagenhoh',\n",
              "  'mitglied',\n",
              "  'stimm',\n",
              "  'erhalt',\n",
              "  'eingenomm',\n",
              "  'euro',\n",
              "  'soll',\n",
              "  'verwendet',\n",
              "  'besteh',\n",
              "  'portal',\n",
              "  'journalismus',\n",
              "  'crowdfunding',\n",
              "  'plattform',\n",
              "  'erweit',\n",
              "  'erst',\n",
              "  'jahr',\n",
              "  'besteh',\n",
              "  'krautreport',\n",
              "  'uneingeschrankt',\n",
              "  'zufried',\n",
              "  'text',\n",
              "  'bish',\n",
              "  'erschi',\n",
              "  'wenig',\n",
              "  'anfang',\n",
              "  'geplant',\n",
              "  'stefan',\n",
              "  'niggermei',\n",
              "  'kritisiert',\n",
              "  'austritt',\n",
              "  'kollektiv',\n",
              "  'fehlend',\n",
              "  'redaktionell',\n",
              "  'lini',\n",
              "  'geschaff',\n",
              "  'fest',\n",
              "  'redaktion',\n",
              "  'vorteil',\n",
              "  'mitgliedschaft',\n",
              "  'abseit',\n",
              "  'genossenschaft',\n",
              "  'soll',\n",
              "  'ausgebaut',\n",
              "  'planung',\n",
              "  'beispielsweis',\n",
              "  'mitglied',\n",
              "  'lauf',\n",
              "  'oktob',\n",
              "  'davon',\n",
              "  'ziel',\n",
              "  'gesetzt',\n",
              "  'soll',\n",
              "  'zumind',\n",
              "  'verlangert',\n",
              "  'eig',\n",
              "  'angab',\n",
              "  'benotigt',\n",
              "  'plattform',\n",
              "  'mindest',\n",
              "  'unterstutz',\n",
              "  'fortgefuhrt'],\n",
              " ['nachricht',\n",
              "  'drei',\n",
              "  'jahr',\n",
              "  'finanzier',\n",
              "  'gescheitert',\n",
              "  'york',\n",
              "  'news',\n",
              "  'circa',\n",
              "  'speziell',\n",
              "  'smartphon',\n",
              "  'drei',\n",
              "  'jahr',\n",
              "  'end',\n",
              "  'team',\n",
              "  'geld',\n",
              "  'ausgegang',\n",
              "  'betrieb',\n",
              "  'weit',\n",
              "  'eingestellt',\n",
              "  'erklart',\n",
              "  'mitgrund',\n",
              "  'matt',\n",
              "  'galligan',\n",
              "  'mittwoch',\n",
              "  'konzept',\n",
              "  'circa',\n",
              "  'klein',\n",
              "  'happch',\n",
              "  'runterzubrech',\n",
              "  'smartphon',\n",
              "  'bildschirm',\n",
              "  'pass',\n",
              "  'nutz',\n",
              "  'updat',\n",
              "  'aktuell',\n",
              "  'entwickl',\n",
              "  'laufend',\n",
              "  'halt',\n",
              "  'ide',\n",
              "  'mach',\n",
              "  'laut',\n",
              "  'medienbericht',\n",
              "  'rund',\n",
              "  'funf',\n",
              "  'million',\n",
              "  'dollar',\n",
              "  'investor',\n",
              "  'eingesammelt',\n",
              "  'mehr',\n",
              "  'etabliert',\n",
              "  'journalist',\n",
              "  'angeworb',\n",
              "  'circa',\n",
              "  'gelung',\n",
              "  'weit',\n",
              "  'investment',\n",
              "  'einzufadeln',\n",
              "  'bevor',\n",
              "  'ressourc',\n",
              "  'knapp',\n",
              "  'geword',\n",
              "  'seien',\n",
              "  'schrieb',\n",
              "  'galligan',\n",
              "  'blog',\n",
              "  'plattform',\n",
              "  'medium',\n",
              "  'hatt',\n",
              "  'versuch',\n",
              "  'werbung',\n",
              "  'gebuhr',\n",
              "  'rund',\n",
              "  'komm',\n",
              "  'raumt',\n",
              "  'hatt',\n",
              "  'vision',\n",
              "  'dien',\n",
              "  'widersproch',\n",
              "  'wohl',\n",
              "  'genug',\n",
              "  'eingebracht',\n",
              "  'sagt',\n",
              "  'galligan',\n",
              "  'circa',\n",
              "  'bereit',\n",
              "  'seit',\n",
              "  'montag',\n",
              "  'mehr',\n",
              "  'veroffentlicht']]"
            ]
          },
          "metadata": {},
          "execution_count": 11
        }
      ]
    },
    {
      "cell_type": "markdown",
      "metadata": {
        "id": "T8LndhI5mAGP"
      },
      "source": [
        "## Setting Up The Dictionary\n",
        "\n",
        "Our preprocessing is complete.\n",
        " \n",
        "We now need to calculate the occurance frequencies of each of our stemmed words. But first, we will create a vocabulary dictionary where every word appears once. Every article would be represented as a [bag-of-words](https://en.wikipedia.org/wiki/Bag-of-words_model), an unordered set of words that the article contain.\n",
        "\n",
        "---\n",
        "\n",
        "Q: Why is it called bag-of-words? \n",
        "\n",
        "Hint: Think about your probability lessons - where you had randomly picked out white or black balls out of a bag..."
      ]
    },
    {
      "cell_type": "code",
      "metadata": {
        "id": "pj6CI60KlF0N"
      },
      "source": [
        "dictionary = corpora.Dictionary(processed_docs)\n"
      ],
      "execution_count": null,
      "outputs": []
    },
    {
      "cell_type": "markdown",
      "metadata": {
        "id": "KiaCJuuXmkDV"
      },
      "source": [
        "Let's take a look:"
      ]
    },
    {
      "cell_type": "code",
      "metadata": {
        "id": "F0DJqlhimfns",
        "outputId": "ce23145f-d822-4220-f958-58a6dc2d99bb",
        "colab": {
          "base_uri": "https://localhost:8080/"
        }
      },
      "source": [
        "for idx, (k, v) in enumerate(dictionary.iteritems()):\n",
        "    print(k, v)\n",
        "    if idx >= 10:\n",
        "        break\n",
        "\n",
        "\n",
        "### Note: `enumerate` is a great python function! \n",
        "### It creates an index, a counter, for every object in the collection.\n",
        "### read more about it here: https://realpython.com/python-enumerate/ "
      ],
      "execution_count": null,
      "outputs": [
        {
          "output_type": "stream",
          "name": "stdout",
          "text": [
            "0 ahnlich\n",
            "1 angemahnt\n",
            "2 anteil\n",
            "3 august\n",
            "4 ausseh\n",
            "5 chefin\n",
            "6 christin\n",
            "7 degeto\n",
            "8 diskuti\n",
            "9 einfuhr\n",
            "10 fernsehfilm\n"
          ]
        }
      ]
    },
    {
      "cell_type": "markdown",
      "metadata": {
        "id": "XLT9Y9LImtv_"
      },
      "source": [
        "Second, we filter the tokens that may appear to often.\n",
        "\n",
        "We have full control on the process. "
      ]
    },
    {
      "cell_type": "markdown",
      "metadata": {
        "id": "8LtlVAJEa6vp"
      },
      "source": [
        "### Model Hyperparameter tuning"
      ]
    },
    {
      "cell_type": "markdown",
      "source": [
        "#### Exercise 1: \n",
        "Q: How would changing these parameters influence the result?\n",
        "\n",
        "After running this example, please return here to change them and try them out."
      ],
      "metadata": {
        "id": "yHsgesK9dW7j"
      }
    },
    {
      "cell_type": "code",
      "metadata": {
        "id": "KSwEk-wcBKEg"
      },
      "source": [
        "## Model hyper parameters:\n",
        "\n",
        "## These are the dictionary preparation parameters:\n",
        "filter_tokens_if_container_documents_are_less_than = 15\n",
        "filter_tokens_if_appeared_percentage_more_than = 0.5\n",
        "keep_the_first_n_tokens=100000\n",
        "\n",
        "## and the LDA Parameters: \n",
        "num_of_topics = 10"
      ],
      "execution_count": null,
      "outputs": []
    },
    {
      "cell_type": "code",
      "metadata": {
        "id": "zelcg-UUmiVx"
      },
      "source": [
        "dictionary.filter_extremes(\n",
        "    no_below=filter_tokens_if_container_documents_are_less_than, \n",
        "    no_above=filter_tokens_if_appeared_percentage_more_than, \n",
        "    keep_n=keep_the_first_n_tokens)\n"
      ],
      "execution_count": null,
      "outputs": []
    },
    {
      "cell_type": "markdown",
      "metadata": {
        "id": "EsknGryxnx0X"
      },
      "source": [
        "We now create a [bag-of-words](https://en.wikipedia.org/wiki/Bag-of-words_model) (BOW) dictionary for each document, using [gensim's dictionary](https://radimrehurek.com/gensim/corpora/dictionary.html) tool. \n",
        "\n",
        "It will be in the format of:\n",
        "\n",
        "```{ 'word_id': count }```\n"
      ]
    },
    {
      "cell_type": "code",
      "metadata": {
        "id": "u1CsbhJcntUW"
      },
      "source": [
        "bow_corpus = [dictionary.doc2bow(doc) for doc in processed_docs]"
      ],
      "execution_count": null,
      "outputs": []
    },
    {
      "cell_type": "markdown",
      "metadata": {
        "id": "RmHQyMKXokyq"
      },
      "source": [
        "Let's take a look at the result.\n",
        "\n",
        "Our corpus contains now only word_ids, not the words themselves, so we have to peek into the dictionary to know which word that id represents:"
      ]
    },
    {
      "cell_type": "code",
      "metadata": {
        "id": "dD6n6MNnoSBH",
        "outputId": "6031e63e-724a-416f-cb86-929e5eb97040",
        "colab": {
          "base_uri": "https://localhost:8080/"
        }
      },
      "source": [
        "# randomly choose an article from the corpus:\n",
        "sample_bow_doc = choice(bow_corpus)\n",
        "\n",
        "print('The processed bag-of-word document is just pairs of (word_id, # of occurnces) and looks like this:')\n",
        "print(sample_bow_doc, '\\n\\n')\n",
        "\n",
        "print ('We peek in the dictionary: for each word_id, we get its assigned word:')\n",
        "for word_id, word_freq in sample_bow_doc:\n",
        "  real_word = dictionary[word_id]\n",
        "  print(f'Word {word_id} (\"{real_word}\") appears {word_freq} time.')\n"
      ],
      "execution_count": null,
      "outputs": [
        {
          "output_type": "stream",
          "name": "stdout",
          "text": [
            "The processed bag-of-word document is just pairs of (word_id, # of occurnces) and looks like this:\n",
            "[(25, 5), (27, 1), (31, 1), (32, 1), (63, 1), (88, 1), (107, 2), (113, 1), (116, 1), (209, 2), (235, 1), (239, 1), (254, 1), (267, 1), (282, 1), (313, 1), (371, 1), (394, 2), (432, 1), (436, 1), (461, 1), (508, 1), (512, 1), (544, 1), (574, 1), (629, 1), (634, 1), (651, 1), (749, 1), (772, 2), (866, 2), (1018, 1), (1109, 3), (1193, 1), (1199, 1), (1258, 1), (1515, 1), (1537, 2), (1550, 1), (1583, 1), (1619, 1), (1869, 1), (2071, 1), (2144, 1), (2250, 1), (2281, 1), (2375, 2), (2384, 1), (2414, 1), (2748, 1), (2960, 1), (3206, 1), (3698, 3), (4091, 2), (4884, 1), (4888, 1), (5561, 1), (5920, 1), (5952, 1), (6479, 1), (6480, 2), (6481, 1), (6482, 2), (6483, 1)] \n",
            "\n",
            "\n",
            "We peek in the dictionary: for each word_id, we get its assigned word:\n",
            "Word 25 (\"osterreich\") appears 5 time.\n",
            "Word 27 (\"prozent\") appears 1 time.\n",
            "Word 31 (\"seien\") appears 1 time.\n",
            "Word 32 (\"seit\") appears 1 time.\n",
            "Word 63 (\"zwei\") appears 1 time.\n",
            "Word 88 (\"berichtet\") appears 1 time.\n",
            "Word 107 (\"eben\") appears 2 time.\n",
            "Word 113 (\"ergebnis\") appears 1 time.\n",
            "Word 116 (\"erst\") appears 1 time.\n",
            "Word 209 (\"schon\") appears 2 time.\n",
            "Word 235 (\"tageszeit\") appears 1 time.\n",
            "Word 239 (\"text\") appears 1 time.\n",
            "Word 254 (\"veroffentlicht\") appears 1 time.\n",
            "Word 267 (\"wien\") appears 1 time.\n",
            "Word 282 (\"angekundigt\") appears 1 time.\n",
            "Word 313 (\"laut\") appears 1 time.\n",
            "Word 371 (\"heut\") appears 1 time.\n",
            "Word 394 (\"moglich\") appears 2 time.\n",
            "Word 432 (\"bild\") appears 1 time.\n",
            "Word 436 (\"deutsch\") appears 1 time.\n",
            "Word 461 (\"mitglied\") appears 1 time.\n",
            "Word 508 (\"erreicht\") appears 1 time.\n",
            "Word 512 (\"form\") appears 1 time.\n",
            "Word 544 (\"bereit\") appears 1 time.\n",
            "Word 574 (\"montag\") appears 1 time.\n",
            "Word 629 (\"allgemein\") appears 1 time.\n",
            "Word 634 (\"beleid\") appears 1 time.\n",
            "Word 651 (\"facebook\") appears 1 time.\n",
            "Word 749 (\"anzeig\") appears 1 time.\n",
            "Word 772 (\"deutschland\") appears 2 time.\n",
            "Word 866 (\"zeigt\") appears 2 time.\n",
            "Word 1018 (\"staat\") appears 1 time.\n",
            "Word 1109 (\"wahl\") appears 3 time.\n",
            "Word 1193 (\"posting\") appears 1 time.\n",
            "Word 1199 (\"stammt\") appears 1 time.\n",
            "Word 1258 (\"bezieh\") appears 1 time.\n",
            "Word 1515 (\"bezug\") appears 1 time.\n",
            "Word 1537 (\"kenn\") appears 2 time.\n",
            "Word 1550 (\"show\") appears 1 time.\n",
            "Word 1583 (\"vertret\") appears 1 time.\n",
            "Word 1619 (\"zuvor\") appears 1 time.\n",
            "Word 1869 (\"diskussion\") appears 1 time.\n",
            "Word 2071 (\"ehemal\") appears 1 time.\n",
            "Word 2144 (\"kandidat\") appears 1 time.\n",
            "Word 2250 (\"lost\") appears 1 time.\n",
            "Word 2281 (\"norbert\") appears 1 time.\n",
            "Word 2375 (\"paragraf\") appears 2 time.\n",
            "Word 2384 (\"wochen\") appears 1 time.\n",
            "Word 2414 (\"angela\") appears 1 time.\n",
            "Word 2748 (\"sendung\") appears 1 time.\n",
            "Word 2960 (\"hof\") appears 1 time.\n",
            "Word 3206 (\"ausland\") appears 1 time.\n",
            "Word 3698 (\"tirol\") appears 3 time.\n",
            "Word 4091 (\"student\") appears 2 time.\n",
            "Word 4884 (\"kanzlerin\") appears 1 time.\n",
            "Word 4888 (\"merkel\") appears 1 time.\n",
            "Word 5561 (\"organ\") appears 1 time.\n",
            "Word 5920 (\"mainz\") appears 1 time.\n",
            "Word 5952 (\"strafanzeig\") appears 1 time.\n",
            "Word 6479 (\"abzuschaff\") appears 1 time.\n",
            "Word 6480 (\"braun\") appears 2 time.\n",
            "Word 6481 (\"eingetroff\") appears 1 time.\n",
            "Word 6482 (\"flach\") appears 2 time.\n",
            "Word 6483 (\"hakenkreuz\") appears 1 time.\n"
          ]
        }
      ]
    },
    {
      "cell_type": "markdown",
      "metadata": {
        "id": "jdEpXnWNrR4H"
      },
      "source": [
        "## LDA model using Bag-of-words\n",
        "\n",
        "Let's start by applying the LDA model using the bag-of-words (Warning: this could take a while):"
      ]
    },
    {
      "cell_type": "code",
      "metadata": {
        "id": "84CchtGap73H"
      },
      "source": [
        "lda_model = models.LdaMulticore(bow_corpus, \n",
        "                                num_topics=num_of_topics, \n",
        "                                id2word=dictionary, \n",
        "                                passes=5, \n",
        "                                workers=2)"
      ],
      "execution_count": null,
      "outputs": []
    },
    {
      "cell_type": "markdown",
      "metadata": {
        "id": "oqm3NWaGrYzC"
      },
      "source": [
        "It is done!\n",
        "\n",
        "Now we can observe which topics the model had extracted from the documents.\n",
        "\n",
        "- *Topics* are made of sets of words and their distribution for that topic, representing their weight in that topic. \n",
        "- Every document may be composed of multiple topics, with different weights representing the relation to each topics.\n",
        "\n",
        "We will loop over the extracted topics and examine the words that construct them."
      ]
    },
    {
      "cell_type": "code",
      "metadata": {
        "id": "N83rLkRRrYYz",
        "outputId": "c1f5b8ef-644c-49fd-9889-e4f8254d34b0",
        "colab": {
          "base_uri": "https://localhost:8080/"
        }
      },
      "source": [
        "for idx, topic in lda_model.print_topics(num_of_topics):\n",
        "    print(f'Topic: {idx} \\t Words: {topic}')\n"
      ],
      "execution_count": null,
      "outputs": [
        {
          "output_type": "stream",
          "name": "stdout",
          "text": [
            "Topic: 0 \t Words: 0.008*\"jahr\" + 0.007*\"russland\" + 0.007*\"sagt\" + 0.007*\"seit\" + 0.006*\"land\" + 0.006*\"iran\" + 0.006*\"russisch\" + 0.006*\"regier\" + 0.006*\"prasident\" + 0.005*\"syri\"\n",
            "Topic: 1 \t Words: 0.010*\"standard\" + 0.008*\"jahr\" + 0.006*\"schon\" + 0.006*\"gibt\" + 0.006*\"mensch\" + 0.005*\"viel\" + 0.005*\"imm\" + 0.005*\"wien\" + 0.005*\"gross\" + 0.004*\"ganz\"\n",
            "Topic: 2 \t Words: 0.009*\"israel\" + 0.008*\"jahr\" + 0.008*\"word\" + 0.005*\"windows\" + 0.005*\"mensch\" + 0.005*\"seit\" + 0.004*\"stadt\" + 0.004*\"erst\" + 0.004*\"islam\" + 0.004*\"getotet\"\n",
            "Topic: 3 \t Words: 0.008*\"neu\" + 0.006*\"jahr\" + 0.005*\"gross\" + 0.005*\"etwa\" + 0.005*\"googl\" + 0.005*\"nutz\" + 0.005*\"gerat\" + 0.004*\"erst\" + 0.004*\"allerding\" + 0.004*\"smartphon\"\n",
            "Topic: 4 \t Words: 0.012*\"spiel\" + 0.011*\"erst\" + 0.006*\"sieg\" + 0.006*\"minut\" + 0.005*\"zwei\" + 0.005*\"punkt\" + 0.005*\"zweit\" + 0.005*\"beim\" + 0.005*\"jahrig\" + 0.005*\"train\"\n",
            "Topic: 5 \t Words: 0.032*\"prozent\" + 0.009*\"jahr\" + 0.008*\"million\" + 0.006*\"ukrain\" + 0.006*\"neu\" + 0.006*\"erst\" + 0.006*\"osterreich\" + 0.005*\"seit\" + 0.005*\"rund\" + 0.004*\"bereit\"\n",
            "Topic: 6 \t Words: 0.018*\"fluchtling\" + 0.011*\"osterreich\" + 0.009*\"sagt\" + 0.007*\"land\" + 0.006*\"mensch\" + 0.005*\"grenz\" + 0.005*\"wien\" + 0.005*\"europa\" + 0.005*\"regier\" + 0.005*\"muss\"\n",
            "Topic: 7 \t Words: 0.009*\"sagt\" + 0.009*\"word\" + 0.006*\"weg\" + 0.006*\"jahr\" + 0.006*\"polizei\" + 0.006*\"jahrig\" + 0.005*\"mann\" + 0.005*\"deutsch\" + 0.005*\"laut\" + 0.004*\"zwei\"\n",
            "Topic: 8 \t Words: 0.020*\"euro\" + 0.016*\"prozent\" + 0.012*\"jahr\" + 0.008*\"osterreich\" + 0.008*\"million\" + 0.006*\"bank\" + 0.006*\"wien\" + 0.006*\"unternehm\" + 0.006*\"milliard\" + 0.005*\"neu\"\n",
            "Topic: 9 \t Words: 0.021*\"wien\" + 0.006*\"grun\" + 0.006*\"sagt\" + 0.005*\"wahl\" + 0.005*\"jahr\" + 0.005*\"partei\" + 0.005*\"neu\" + 0.005*\"erst\" + 0.004*\"polit\" + 0.004*\"seit\"\n"
          ]
        }
      ]
    },
    {
      "cell_type": "markdown",
      "metadata": {
        "id": "CgCkLEelplF8"
      },
      "source": [
        "## TF / IDF\n",
        "\n",
        "Let's take it one step further. We will cluster our document by running the LDA using [TF/IDF](https://en.wikipedia.org/wiki/Tf%E2%80%93idf).\n",
        "\n",
        "We start with TF/IDF calculation on our bag-of-words.\n",
        "TF/IDF accepts a dictionary of word frequencies as an input, and it calculates the term frequency and the inversed document frequency accordingly.\n",
        "\n",
        "Its output is a re-weighted dictionary of the documents term frequencies:"
      ]
    },
    {
      "cell_type": "code",
      "metadata": {
        "id": "Xhj6Df56os0j",
        "outputId": "ca312f9d-2287-4d8a-9d23-3d42c282d26f",
        "colab": {
          "base_uri": "https://localhost:8080/"
        }
      },
      "source": [
        "# initialize a tfidf from our corpus\n",
        "tfidf = models.TfidfModel(bow_corpus)\n",
        "\n",
        "# apply it on our corpus \n",
        "tfidf_corpus = tfidf[bow_corpus]\n",
        "\n",
        "pprint(tfidf_corpus[0][:10])"
      ],
      "execution_count": null,
      "outputs": [
        {
          "output_type": "stream",
          "name": "stdout",
          "text": [
            "[(0, 0.07701104184392196),\n",
            " (1, 0.09759319572760512),\n",
            " (2, 0.17865097755146575),\n",
            " (3, 0.12576090253155267),\n",
            " (4, 0.1213785897586335),\n",
            " (5, 0.14966250355427194),\n",
            " (6, 0.12018647403621047),\n",
            " (7, 0.10920625806276203),\n",
            " (8, 0.19098038980835488),\n",
            " (9, 0.06256739336574345)]\n"
          ]
        }
      ]
    },
    {
      "cell_type": "code",
      "source": [
        "# the new tfidf corpus is just our corpus - but transformed. It has the same size of documents:\n",
        "assert len(bow_corpus) == len(tfidf_corpus)"
      ],
      "metadata": {
        "id": "OdllL8StNLm2"
      },
      "execution_count": null,
      "outputs": []
    },
    {
      "cell_type": "markdown",
      "metadata": {
        "id": "UZ-9a3gcsYts"
      },
      "source": [
        "Now let's apply LDA on the tfidf corpus, with the same amount of topics.\n",
        "\n",
        "You can play with the # of passes, if the model doesn't converge properly"
      ]
    },
    {
      "cell_type": "code",
      "metadata": {
        "id": "ihxND83irVSf",
        "outputId": "494b026e-c0f7-4a1d-910f-0f71c48e057a",
        "colab": {
          "base_uri": "https://localhost:8080/"
        }
      },
      "source": [
        "lda_model_tfidf = models.LdaMulticore(tfidf_corpus, \n",
        "                                      num_topics=num_of_topics, \n",
        "                                      id2word=dictionary, \n",
        "                                      passes=5, \n",
        "                                      workers=4)"
      ],
      "execution_count": null,
      "outputs": [
        {
          "output_type": "stream",
          "name": "stderr",
          "text": [
            "WARNING:gensim.models.ldamulticore:too few updates, training might not converge; consider increasing the number of passes or iterations to improve accuracy\n"
          ]
        }
      ]
    },
    {
      "cell_type": "code",
      "source": [
        "for idx, topic in lda_model_tfidf.print_topics(num_of_topics):\n",
        "    print(f'Topic: {idx} \\t Word: {topic}')"
      ],
      "metadata": {
        "id": "adACX8kGihtG",
        "outputId": "2261397d-6c81-4481-976a-0c740ad4d5ea",
        "colab": {
          "base_uri": "https://localhost:8080/"
        }
      },
      "execution_count": null,
      "outputs": [
        {
          "output_type": "stream",
          "name": "stdout",
          "text": [
            "Topic: 0 \t Word: 0.003*\"euro\" + 0.002*\"bank\" + 0.002*\"prozent\" + 0.002*\"million\" + 0.002*\"unternehm\" + 0.002*\"milliard\" + 0.002*\"wien\" + 0.001*\"jahr\" + 0.001*\"neu\" + 0.001*\"rund\"\n",
            "Topic: 1 \t Word: 0.004*\"prozent\" + 0.003*\"euro\" + 0.002*\"osterreich\" + 0.002*\"volltext\" + 0.002*\"wien\" + 0.002*\"basier\" + 0.002*\"jahr\" + 0.002*\"artikel\" + 0.002*\"rechtlich\" + 0.001*\"million\"\n",
            "Topic: 2 \t Word: 0.002*\"bank\" + 0.002*\"euro\" + 0.002*\"wien\" + 0.002*\"forsch\" + 0.001*\"spiel\" + 0.001*\"jahr\" + 0.001*\"standard\" + 0.001*\"prozent\" + 0.001*\"neu\" + 0.001*\"million\"\n",
            "Topic: 3 \t Word: 0.003*\"prozent\" + 0.002*\"volltext\" + 0.002*\"basier\" + 0.002*\"osterreich\" + 0.002*\"artikel\" + 0.002*\"rechtlich\" + 0.002*\"archaolog\" + 0.002*\"euro\" + 0.002*\"verfug\" + 0.002*\"million\"\n",
            "Topic: 4 \t Word: 0.002*\"euro\" + 0.002*\"prozent\" + 0.002*\"android\" + 0.002*\"googl\" + 0.002*\"osterreich\" + 0.002*\"neu\" + 0.002*\"wien\" + 0.001*\"jahr\" + 0.001*\"bank\" + 0.001*\"forsch\"\n",
            "Topic: 5 \t Word: 0.003*\"euro\" + 0.002*\"prozent\" + 0.002*\"griechenland\" + 0.002*\"osterreich\" + 0.002*\"fluchtling\" + 0.002*\"land\" + 0.002*\"wien\" + 0.002*\"europa\" + 0.002*\"sagt\" + 0.002*\"tsipras\"\n",
            "Topic: 6 \t Word: 0.003*\"prozent\" + 0.002*\"euro\" + 0.002*\"osterreich\" + 0.002*\"wien\" + 0.002*\"googl\" + 0.001*\"land\" + 0.001*\"million\" + 0.001*\"jahr\" + 0.001*\"standard\" + 0.001*\"erst\"\n",
            "Topic: 7 \t Word: 0.004*\"prozent\" + 0.002*\"euro\" + 0.002*\"osterreich\" + 0.001*\"wien\" + 0.001*\"jahr\" + 0.001*\"neu\" + 0.001*\"million\" + 0.001*\"erst\" + 0.001*\"rund\" + 0.001*\"sagt\"\n",
            "Topic: 8 \t Word: 0.002*\"wien\" + 0.002*\"euro\" + 0.002*\"volltext\" + 0.002*\"basier\" + 0.002*\"prozent\" + 0.002*\"jahr\" + 0.002*\"artikel\" + 0.001*\"rechtlich\" + 0.001*\"osterreich\" + 0.001*\"million\"\n",
            "Topic: 9 \t Word: 0.002*\"euro\" + 0.002*\"prozent\" + 0.001*\"jahr\" + 0.001*\"million\" + 0.001*\"nexus\" + 0.001*\"wien\" + 0.001*\"googl\" + 0.001*\"neu\" + 0.001*\"erst\" + 0.001*\"osterreich\"\n"
          ]
        }
      ]
    },
    {
      "cell_type": "markdown",
      "metadata": {
        "id": "f9HswwLLsw0X"
      },
      "source": [
        "## Inference\n",
        "\n",
        "Now that we have a topic-modeler, let's use it on one of the articles."
      ]
    },
    {
      "cell_type": "code",
      "metadata": {
        "id": "tQlSUn_CsbcX",
        "outputId": "939994de-7733-44ce-b651-80703299d7da",
        "colab": {
          "base_uri": "https://localhost:8080/"
        }
      },
      "source": [
        "# randomly pick an article:\n",
        "test_doc = choice(range(len(processed_docs)))\n",
        "processed_docs[test_doc][:50]"
      ],
      "execution_count": null,
      "outputs": [
        {
          "output_type": "execute_result",
          "data": {
            "text/plain": [
              "['okofreund',\n",
              " 'gibt',\n",
              " 'viel',\n",
              " 'polit',\n",
              " 'schwer',\n",
              " 'barack',\n",
              " 'obama',\n",
              " 'macht',\n",
              " 'tempo',\n",
              " 'fantasi',\n",
              " 'denkt',\n",
              " 'vielleicht',\n",
              " 'ausserird',\n",
              " 'wust',\n",
              " 'gelandet',\n",
              " 'futurist',\n",
              " 'bauwerk',\n",
              " 'fremd',\n",
              " 'zivilisation',\n",
              " 'rag',\n",
              " 'sand',\n",
              " 'drei',\n",
              " 'ivanpah',\n",
              " 'ober',\n",
              " 'drittel',\n",
              " 'grell',\n",
              " 'leuchtend',\n",
              " 'neonrohr',\n",
              " 'ringsum',\n",
              " 'bundeln',\n",
              " 'zehntaus',\n",
              " 'spiegel',\n",
              " 'sonnenlicht',\n",
              " 'solarturm',\n",
              " 'lenk',\n",
              " 'entsteh',\n",
              " 'hitz',\n",
              " 'bringt',\n",
              " 'wass',\n",
              " 'koch',\n",
              " 'dampf',\n",
              " 'treibt',\n",
              " 'turbin',\n",
              " 'seit',\n",
              " 'anlag',\n",
              " 'februar',\n",
              " 'betrieb',\n",
              " 'genomm',\n",
              " 'wurd',\n",
              " 'gehort']"
            ]
          },
          "metadata": {},
          "execution_count": 35
        }
      ]
    },
    {
      "cell_type": "markdown",
      "metadata": {
        "id": "Jt6oJJL8tiO_"
      },
      "source": [
        "Using the original BOW model:"
      ]
    },
    {
      "cell_type": "code",
      "metadata": {
        "id": "ZBbrSNDVszGW",
        "outputId": "cfd0732c-eabc-428c-e2c5-0c929c257b0a",
        "colab": {
          "base_uri": "https://localhost:8080/"
        }
      },
      "source": [
        "for index, score in sorted(lda_model[bow_corpus[test_doc]], key=lambda tup: -1*tup[1]):\n",
        "    print(f\"Topic match score: {score} \\nTopic: {lda_model.print_topic(index, num_of_topics)}\")\n"
      ],
      "execution_count": null,
      "outputs": [
        {
          "output_type": "stream",
          "name": "stdout",
          "text": [
            "Topic match score: 0.3904847204685211 \n",
            "Topic: 0.008*\"jahr\" + 0.006*\"wien\" + 0.005*\"schon\" + 0.004*\"erst\" + 0.004*\"imm\" + 0.004*\"gross\" + 0.004*\"mensch\" + 0.004*\"seit\" + 0.004*\"ganz\" + 0.004*\"viel\"\n",
            "Topic match score: 0.3049878776073456 \n",
            "Topic: 0.009*\"sagt\" + 0.009*\"regier\" + 0.008*\"jahr\" + 0.008*\"land\" + 0.007*\"griechenland\" + 0.006*\"seit\" + 0.005*\"neu\" + 0.005*\"europa\" + 0.005*\"griechisch\" + 0.005*\"euro\"\n",
            "Topic match score: 0.18024592101573944 \n",
            "Topic: 0.033*\"prozent\" + 0.012*\"jahr\" + 0.008*\"osterreich\" + 0.008*\"euro\" + 0.007*\"wien\" + 0.007*\"million\" + 0.006*\"rund\" + 0.005*\"forsch\" + 0.005*\"erst\" + 0.005*\"hoh\"\n",
            "Topic match score: 0.06136340647935867 \n",
            "Topic: 0.011*\"euro\" + 0.011*\"standard\" + 0.011*\"jahr\" + 0.010*\"osterreich\" + 0.007*\"wien\" + 0.006*\"gibt\" + 0.006*\"sagt\" + 0.005*\"land\" + 0.005*\"prozent\" + 0.005*\"neu\"\n",
            "Topic match score: 0.0388311892747879 \n",
            "Topic: 0.014*\"fluchtling\" + 0.009*\"sagt\" + 0.008*\"osterreich\" + 0.006*\"wien\" + 0.005*\"land\" + 0.005*\"grun\" + 0.004*\"europa\" + 0.004*\"grenz\" + 0.004*\"deutschland\" + 0.004*\"polit\"\n",
            "Topic match score: 0.02272769995033741 \n",
            "Topic: 0.012*\"spiel\" + 0.009*\"erst\" + 0.007*\"salzburg\" + 0.006*\"minut\" + 0.006*\"sieg\" + 0.005*\"punkt\" + 0.005*\"rapid\" + 0.005*\"schon\" + 0.005*\"train\" + 0.005*\"wien\"\n"
          ]
        }
      ]
    },
    {
      "cell_type": "markdown",
      "metadata": {
        "id": "hdz9qz-Atj3A"
      },
      "source": [
        "And with the TF/IDF model:"
      ]
    },
    {
      "cell_type": "code",
      "metadata": {
        "id": "XWHTDQjVtTyO",
        "outputId": "7ce36971-6ec9-4dc7-9f3e-ac29f718d197",
        "colab": {
          "base_uri": "https://localhost:8080/"
        }
      },
      "source": [
        "for index, score in sorted(lda_model_tfidf[bow_corpus[test_doc]], key=lambda tup: -1*tup[1]):\n",
        "    print(\"Topic match score: {}\\t \\nTopic: {}\".format(score, lda_model_tfidf.print_topic(index, num_of_topics)))"
      ],
      "execution_count": null,
      "outputs": [
        {
          "output_type": "stream",
          "name": "stdout",
          "text": [
            "Topic match score: 0.9641999006271362\t \n",
            "Topic: 0.003*\"prozent\" + 0.002*\"osterreich\" + 0.002*\"wien\" + 0.002*\"euro\" + 0.002*\"jahr\" + 0.002*\"fluchtling\" + 0.002*\"standard\" + 0.002*\"sagt\" + 0.002*\"mensch\" + 0.001*\"land\"\n",
            "Topic match score: 0.022042904049158096\t \n",
            "Topic: 0.003*\"planet\" + 0.002*\"astronom\" + 0.002*\"nasa\" + 0.002*\"erd\" + 0.002*\"forsch\" + 0.002*\"teilch\" + 0.002*\"stern\" + 0.002*\"mannch\" + 0.001*\"euro\" + 0.001*\"mar\"\n",
            "Topic match score: 0.01137737650424242\t \n",
            "Topic: 0.003*\"bank\" + 0.003*\"zielpunkt\" + 0.003*\"pfeiff\" + 0.002*\"ukrain\" + 0.002*\"euro\" + 0.002*\"forsch\" + 0.002*\"russisch\" + 0.002*\"kiew\" + 0.002*\"wissenschaft\" + 0.002*\"prozent\"\n"
          ]
        }
      ]
    },
    {
      "cell_type": "markdown",
      "source": [
        "Calculating the [perplexity score](https://towardsdatascience.com/perplexity-in-language-models-87a196019a94) (lower is better):"
      ],
      "metadata": {
        "id": "Y6hgkxQ4RIzf"
      }
    },
    {
      "cell_type": "code",
      "source": [
        "print('Perplexity: ', lda_model.log_perplexity(bow_corpus)) \n",
        "print('Perplexity TFIDF: ', lda_model_tfidf.log_perplexity(bow_corpus)) "
      ],
      "metadata": {
        "id": "hHtIgzTlw-gN",
        "outputId": "5102590c-7422-4f82-c965-1468daebf150",
        "colab": {
          "base_uri": "https://localhost:8080/"
        }
      },
      "execution_count": null,
      "outputs": [
        {
          "output_type": "stream",
          "name": "stdout",
          "text": [
            "Perplexity:  -7.968195576354328\n",
            "Perplexity TFIDF:  -8.461492980219754\n"
          ]
        }
      ]
    },
    {
      "cell_type": "markdown",
      "metadata": {
        "id": "NZGXqV-TtyTm"
      },
      "source": [
        "### Exercise - inference\n",
        "\n",
        "Now try it on a new document!\n",
        "\n",
        "Go to a news website, such as [orf.at](https://orf.at/) and copy an article of your choice here:"
      ]
    },
    {
      "cell_type": "code",
      "metadata": {
        "id": "Srd1NWjFtlqM",
        "outputId": "684540c6-9431-4e94-cd98-62ef1b23c648",
        "colab": {
          "base_uri": "https://localhost:8080/"
        }
      },
      "source": [
        "unseen_document = \"\"\"Sobotka sprach in einer um eineinhalb Stunden verspäteten Pressekonferenz am Abend von einer „schwierigen“, aber „sachlichen und pointierten“ Diskussion im Hauptausschuss. Er meinte, dass von Gesundheitsminister Rudolf Anschober (Grüne), die „Notwendigkeit, Verhältnismäßigkeit und Richtigkeit“ der Maßnahmen erläutert worden seien. Zudem betonte Sobotka die Wichtigkeit der im Covid-Maßnahmengesetz vorgesehenen Mitsprache des Parlaments bei Maßnahmen, bei denen auch die Freiheitsrechte betroffen seien.\n",
        "Der Nationalratspräsident zitierte auch die deutsche Kanzlerin Angela Merkel, die die Maßnahmen im Kampf gegen die Pandemie als „demokratische Zumutung“ bezeichnet hatte. Dem sei nicht nur zuzustimmen, das sei auch zu unterstreichen, sagte er. Die Eindämmung der Pandemie könne aber nur gelingen, wenn sich alle Österreicher einbringen. Der Beschluss alleine reiche nicht, die Maßnahmen müssten auch im Geiste verinnerlicht werden, appellierte Sobotka an die Bevölkerung, die Maßnahmen mitzutragen.\n",
        "Rendi-Wagner kritisiert Regierung\n",
        "Die Opposition hatte schon vor der Sitzung – und dann auch noch einmal danach – ihre Kritik an der Regierung bekräftigt. „Die Bundesregierung hat die Kontrolle über das Infektionsgeschehen verloren und hat die schwierige Situation, vor der wir jetzt stehen, zu verantworten“, kritisierte SPÖ-Klub- und Parteivorsitzende Rendi-Wagner.\n",
        "Sessel auf Tischen in einem geschlossenen Lokal\n",
        "DEBATTEWie gerechtfertigt sind die Maßnahmen?\"\"\"\n",
        "\n",
        "bow_vector = dictionary.doc2bow(preprocess(unseen_document))\n",
        "\n",
        "print(\"Simply printing the lda_model output would look like this:\")\n",
        "pprint(lda_model[bow_vector])\n",
        "\n",
        "print(\"\\n\\nSo let's make it nicer, by printing the topic contents:\")\n",
        "for index, score in sorted(lda_model[bow_vector], key=lambda tup: -1*tup[1]):\n",
        "    print(\"Score: {}\\t Topic: {}\".format(score, lda_model.print_topic(index, 5)))\n"
      ],
      "execution_count": null,
      "outputs": [
        {
          "output_type": "stream",
          "name": "stdout",
          "text": [
            "Simply printing the lda_model output would look like this:\n",
            "[(5, 0.9522388), (7, 0.038075183)]\n",
            "\n",
            "\n",
            "So let's make it nicer, by printing the topic contents:\n",
            "Score: 0.952847421169281\t Topic: 0.014*\"fluchtling\" + 0.009*\"sagt\" + 0.008*\"osterreich\" + 0.006*\"wien\" + 0.005*\"land\"\n",
            "Score: 0.03746601566672325\t Topic: 0.011*\"euro\" + 0.011*\"standard\" + 0.011*\"jahr\" + 0.010*\"osterreich\" + 0.007*\"wien\"\n"
          ]
        }
      ]
    },
    {
      "cell_type": "code",
      "source": [],
      "metadata": {
        "id": "dig8d3oWR6xM",
        "outputId": "2f70c463-6d34-42e4-9017-3d704065624b",
        "colab": {
          "base_uri": "https://localhost:8080/"
        }
      },
      "execution_count": null,
      "outputs": [
        {
          "output_type": "execute_result",
          "data": {
            "text/plain": [
              "[(5, 0.9522639), (7, 0.03805004)]"
            ]
          },
          "metadata": {},
          "execution_count": 55
        }
      ]
    },
    {
      "cell_type": "markdown",
      "source": [
        "## Visualization"
      ],
      "metadata": {
        "id": "NOl16tMOsmYd"
      }
    },
    {
      "cell_type": "markdown",
      "source": [
        "Finally, there are packages that can visulaize the results, such as [pyLDAvis](https://pypi.org/project/pyLDAvis/) and [tmplot](https://pypi.org/project/tmplot/). Here's what it looks like:"
      ],
      "metadata": {
        "id": "Am2p_6seTOOE"
      }
    },
    {
      "cell_type": "code",
      "source": [
        "!pip install pyLDAvis"
      ],
      "metadata": {
        "id": "ERQDi99Rs6dO"
      },
      "execution_count": null,
      "outputs": []
    },
    {
      "cell_type": "code",
      "source": [
        "import pyLDAvis.gensim_models as gensimvis\n",
        "import pyLDAvis\n",
        "\n",
        "bow_lda_data = gensimvis.prepare(lda_model, bow_corpus, dictionary)\n",
        "\n",
        "pyLDAvis.display(bow_lda_data)"
      ],
      "metadata": {
        "id": "xwDURjMYslxZ",
        "outputId": "2d4c1825-57a7-4508-adf7-928d36514b14",
        "colab": {
          "base_uri": "https://localhost:8080/",
          "height": 916
        }
      },
      "execution_count": null,
      "outputs": [
        {
          "output_type": "stream",
          "name": "stderr",
          "text": [
            "/usr/local/lib/python3.7/dist-packages/pyLDAvis/_prepare.py:247: FutureWarning: In a future version of pandas all arguments of DataFrame.drop except for the argument 'labels' will be keyword-only\n",
            "  by='saliency', ascending=False).head(R).drop('saliency', 1)\n"
          ]
        },
        {
          "output_type": "execute_result",
          "data": {
            "text/plain": [
              "<IPython.core.display.HTML object>"
            ],
            "text/html": [
              "\n",
              "<link rel=\"stylesheet\" type=\"text/css\" href=\"https://cdn.jsdelivr.net/gh/bmabey/pyLDAvis@3.3.1/pyLDAvis/js/ldavis.v1.0.0.css\">\n",
              "\n",
              "\n",
              "<div id=\"ldavis_el761398390956214569834370340\"></div>\n",
              "<script type=\"text/javascript\">\n",
              "\n",
              "var ldavis_el761398390956214569834370340_data = {\"mdsDat\": {\"x\": [0.027599667098111073, 0.006179276234970967, -0.017711055634959012, 0.23100834291498606, -0.06311575021784345, -0.06571833206217596, 0.010244055143092458, -0.05101723950359465, -0.05054181658727135, -0.02692714738531613], \"y\": [-0.001028352349136823, 0.09059895843914371, 0.12521952036818554, -0.04750982136192629, -0.007875776328897827, -0.062161193070998336, 0.02434101014229907, -0.08740645334384264, -0.10376456876610983, 0.06958667627128307], \"topics\": [1, 2, 3, 4, 5, 6, 7, 8, 9, 10], \"cluster\": [1, 1, 1, 1, 1, 1, 1, 1, 1, 1], \"Freq\": [17.151105499692623, 12.859288314712883, 11.698558050294467, 11.635024897030004, 11.506408177087165, 11.179479785929232, 10.349089127881747, 7.0568139416947435, 3.3821735073039254, 3.1820586983732158]}, \"tinfo\": {\"Term\": [\"prozent\", \"fluchtling\", \"euro\", \"wien\", \"spiel\", \"word\", \"jahr\", \"million\", \"osterreich\", \"russland\", \"standard\", \"land\", \"sieg\", \"googl\", \"polizei\", \"mensch\", \"regier\", \"bank\", \"russisch\", \"unternehm\", \"grun\", \"train\", \"israel\", \"iran\", \"milliard\", \"jahrig\", \"erst\", \"neu\", \"minut\", \"gerat\", \"mozart\", \"kunstlerin\", \"soziolog\", \"literar\", \"mittelalt\", \"klische\", \"gend\", \"lektur\", \"philosoph\", \"mikro\", \"trilogi\", \"mama\", \"erlernt\", \"autorin\", \"literatur\", \"zeitgenoss\", \"zuschreib\", \"orch\", \"singt\", \"laun\", \"sehnsucht\", \"inszenier\", \"idyll\", \"liebevoll\", \"charmant\", \"malerei\", \"komposition\", \"oper\", \"facett\", \"spielplatz\", \"philosophi\", \"musikal\", \"lorenz\", \"lacht\", \"kunst\", \"analyt\", \"ubergewicht\", \"standard\", \"musik\", \"theat\", \"genr\", \"kindheit\", \"fiction\", \"elt\", \"film\", \"buch\", \"lied\", \"lern\", \"kind\", \"lieb\", \"manchmal\", \"denk\", \"leb\", \"autor\", \"geschicht\", \"erzahl\", \"werk\", \"leut\", \"vielleicht\", \"gern\", \"ganz\", \"beispiel\", \"gesellschaft\", \"heut\", \"gibt\", \"imm\", \"mach\", \"viel\", \"mensch\", \"welt\", \"sag\", \"frau\", \"schon\", \"natur\", \"arbeit\", \"wirklich\", \"alt\", \"jahr\", \"wenig\", \"gross\", \"frag\", \"jung\", \"macht\", \"zeit\", \"einfach\", \"lang\", \"geht\", \"wien\", \"etwa\", \"erst\", \"sagt\", \"osterreich\", \"polit\", \"seit\", \"neu\", \"dabei\", \"macbook\", \"tastatur\", \"speicherplatz\", \"ipad\", \"entsperr\", \"verschlusselt\", \"selbstfahr\", \"firmwar\", \"akku\", \"bluetooth\", \"rift\", \"hardwar\", \"chip\", \"benchmark\", \"prozessor\", \"itun\", \"funktionalitat\", \"surfac\", \"sensor\", \"desktop\", \"kickstart\", \"displays\", \"vorderseit\", \"distribution\", \"vorinstalliert\", \"modul\", \"brows\", \"linux\", \"oculus\", \"nexus\", \"appl\", \"pixel\", \"passwort\", \"display\", \"googl\", \"apps\", \"smartphon\", \"featur\", \"iphon\", \"wlan\", \"tablet\", \"astronom\", \"megapixel\", \"android\", \"samsung\", \"design\", \"gerat\", \"softwar\", \"bildschirm\", \"wissenschaft\", \"forsch\", \"nutz\", \"version\", \"herstell\", \"technologi\", \"erd\", \"kamera\", \"dat\", \"microsoft\", \"comput\", \"tier\", \"universitat\", \"neu\", \"modell\", \"allerding\", \"entwickl\", \"etwa\", \"aktuell\", \"gross\", \"dabei\", \"eig\", \"moglich\", \"gibt\", \"unternehm\", \"jahr\", \"bereit\", \"erst\", \"konnt\", \"lang\", \"weit\", \"beim\", \"seit\", \"wien\", \"schon\", \"wenig\", \"sagt\", \"volltext\", \"unicredit\", \"geschaftsjahr\", \"zins\", \"lufthansa\", \"kapitalmarkt\", \"notenbank\", \"schuldenschnitt\", \"negativzins\", \"eigenkapital\", \"geldhaus\", \"ebit\", \"kapitalerhoh\", \"draghi\", \"abschreib\", \"anleih\", \"heta\", \"ebitda\", \"akti\", \"wifo\", \"oenb\", \"aktionar\", \"umsatz\", \"asvg\", \"konjunkturell\", \"geldpolit\", \"wahrungshut\", \"ruckkauf\", \"ruckzahl\", \"jahresumsatz\", \"hilfsprogramm\", \"kredit\", \"bors\", \"rezession\", \"zentralbank\", \"tarif\", \"bank\", \"investor\", \"milliard\", \"euro\", \"zielpunkt\", \"pfeiff\", \"analyst\", \"investition\", \"wachstum\", \"eurozon\", \"quartal\", \"prozent\", \"glaubig\", \"million\", \"unternehm\", \"dollar\", \"finanzminist\", \"wirtschaft\", \"hoh\", \"markt\", \"steu\", \"jahr\", \"osterreich\", \"kost\", \"griechenland\", \"geld\", \"kund\", \"rund\", \"land\", \"zahl\", \"neu\", \"mitarbeit\", \"wien\", \"sagt\", \"seit\", \"weit\", \"erst\", \"laut\", \"europa\", \"soll\", \"wenig\", \"bereit\", \"chef\", \"deutsch\", \"vergang\", \"stark\", \"gross\", \"etwa\", \"grodig\", \"thiem\", \"hinspiel\", \"admira\", \"viertelfinal\", \"elfmet\", \"barisic\", \"halbfinal\", \"weltranglist\", \"tabellenfuhr\", \"achtelfinal\", \"kainz\", \"ruckspiel\", \"nadal\", \"atletico\", \"strafraum\", \"djokovic\", \"juventus\", \"goali\", \"bundesliga\", \"eingewechselt\", \"freistoss\", \"europacup\", \"turni\", \"villarreal\", \"schaub\", \"happel\", \"endspiel\", \"vettel\", \"ungeschlag\", \"leagu\", \"train\", \"rapid\", \"tor\", \"altach\", \"parti\", \"soriano\", \"coach\", \"mannschaft\", \"saison\", \"stadion\", \"champion\", \"bull\", \"alaba\", \"kapitan\", \"liga\", \"weltcup\", \"sieg\", \"fussball\", \"minut\", \"sturm\", \"match\", \"spiel\", \"niederlag\", \"duell\", \"punkt\", \"ball\", \"bay\", \"final\", \"team\", \"salzburg\", \"platz\", \"erst\", \"zweit\", \"austria\", \"jahrig\", \"dritt\", \"beim\", \"zwei\", \"drei\", \"schon\", \"rund\", \"best\", \"vier\", \"osterreich\", \"sagt\", \"wien\", \"jahr\", \"seit\", \"bereit\", \"aussengrenz\", \"idomeni\", \"grenzubergang\", \"frontex\", \"scheng\", \"notquarti\", \"durchreis\", \"sonderzug\", \"grenzmanagement\", \"balkanrout\", \"grenzkontroll\", \"regenschau\", \"korun\", \"radkersburg\", \"subsidiar\", \"durchwink\", \"grenzzaun\", \"mazedon\", \"grenzsicher\", \"innenministerin\", \"diyarbakir\", \"familiennachzug\", \"asylverfahr\", \"freilassing\", \"mikl\", \"schutzsuch\", \"asylantrag\", \"stacheldraht\", \"traiskirch\", \"sudgrenz\", \"unhcr\", \"bundeshe\", \"fluchtling\", \"mazedoni\", \"zelt\", \"asyl\", \"doskozil\", \"slowen\", \"leitn\", \"asylwerb\", \"zaun\", \"quarti\", \"migrant\", \"sloweni\", \"ungarn\", \"grenz\", \"faymann\", \"turkei\", \"spielfeld\", \"obergrenz\", \"kroati\", \"ungar\", \"serbi\", \"osterreich\", \"turkisch\", \"griechenland\", \"regier\", \"land\", \"europa\", \"mensch\", \"sagt\", \"deutschland\", \"muss\", \"regierungschef\", \"massnahm\", \"staat\", \"griechisch\", \"parlament\", \"seien\", \"soll\", \"wien\", \"woch\", \"bereit\", \"laut\", \"neu\", \"weit\", \"seit\", \"polit\", \"rund\", \"jahr\", \"derzeit\", \"montag\", \"hatt\", \"schon\", \"standard\", \"leaf\", \"mapl\", \"grabn\", \"flyer\", \"bohmermann\", \"trumps\", \"calgary\", \"buffalo\", \"oil\", \"silvesternacht\", \"durchsucht\", \"strassburg\", \"tatverdacht\", \"haftbefehl\", \"ertrunk\", \"blackhawk\", \"kompliz\", \"razzia\", \"molenbeek\", \"nordrhein\", \"festnahm\", \"vergewaltigt\", \"abgehort\", \"bluttat\", \"bangkok\", \"vanek\", \"strafverfolg\", \"pressefrei\", \"landesamt\", \"festnehm\", \"festgenomm\", \"ermittl\", \"trump\", \"beschuldigt\", \"westfal\", \"verdacht\", \"greenpeac\", \"haftstraf\", \"maas\", \"ubergriff\", \"polizei\", \"vergewalt\", \"tat\", \"verurteilt\", \"justiz\", \"gericht\", \"varoufakis\", \"mutmass\", \"haft\", \"ttip\", \"behord\", \"anschlag\", \"vorfall\", \"word\", \"mann\", \"urteil\", \"anwalt\", \"weg\", \"jahrig\", \"richt\", \"zeitung\", \"beamt\", \"verletzt\", \"angab\", \"facebook\", \"berlin\", \"opf\", \"deutsch\", \"sagt\", \"berichtet\", \"laut\", \"seien\", \"fall\", \"frau\", \"jahr\", \"zwei\", \"montag\", \"seit\", \"hatt\", \"weit\", \"mensch\", \"erklart\", \"bereit\", \"europa\", \"land\", \"erst\", \"drei\", \"glock\", \"kickl\", \"stenzel\", \"juraczka\", \"reising\", \"griss\", \"khol\", \"vov\", \"irmgard\", \"arztekamm\", \"parteivorstand\", \"proll\", \"hearing\", \"parteiobmann\", \"landespartei\", \"schussel\", \"blumel\", \"wahltag\", \"haimbuchn\", \"wahlsonntag\", \"honorar\", \"schickhof\", \"landtagswahl\", \"wahlkart\", \"gemeinderat\", \"spitzenkandidat\", \"amtsfuhr\", \"parteiint\", \"wahlerinn\", \"landtagssitz\", \"strach\", \"bell\", \"kult\", \"haupl\", \"lugn\", \"hundstorf\", \"kandidatur\", \"landtag\", \"hof\", \"kandidat\", \"neos\", \"hypo\", \"wahlkampf\", \"norbert\", \"vassilakou\", \"ausschuss\", \"untreu\", \"blau\", \"grun\", \"wahl\", \"partei\", \"wien\", \"bezirk\", \"freiheit\", \"rudolf\", \"burgermeist\", \"chef\", \"landeshauptmann\", \"oberosterreich\", \"tirol\", \"stimm\", \"polit\", \"christian\", \"salzburg\", \"sagt\", \"abgeordnet\", \"neu\", \"erst\", \"jahr\", \"laut\", \"seit\", \"prozent\", \"schon\", \"bereit\", \"osterreich\", \"zwei\", \"euro\", \"hatt\", \"drei\", \"soll\", \"beim\", \"geht\", \"weit\", \"stadt\", \"assad\", \"lawrow\", \"pjongjang\", \"bashar\", \"teheran\", \"atomabkomm\", \"atomprogramm\", \"kerry\", \"nordkoreas\", \"nordkorea\", \"machthab\", \"havanna\", \"schiit\", \"riad\", \"atomwaff\", \"schiitisch\", \"hadi\", \"aden\", \"peskow\", \"khamenei\", \"luftschlag\", \"rohani\", \"bodentrupp\", \"vetomacht\", \"mistura\", \"ayatollah\", \"bethesda\", \"sanaa\", \"staffan\", \"iran\", \"saudi\", \"arabi\", \"jem\", \"bagdad\", \"putin\", \"luftangriff\", \"miliz\", \"rebell\", \"sicherheitsrat\", \"russland\", \"russisch\", \"sanktion\", \"raket\", \"verbundet\", \"syrisch\", \"irak\", \"wladimir\", \"moskau\", \"syri\", \"arme\", \"nato\", \"peking\", \"militar\", \"aufstand\", \"aussenminist\", \"obama\", \"kampf\", \"prasident\", \"islam\", \"konflikt\", \"regier\", \"staat\", \"land\", \"japan\", \"seit\", \"polit\", \"china\", \"sagt\", \"jahr\", \"international\", \"neu\", \"erst\", \"end\", \"zwei\", \"bereit\", \"word\", \"vergang\", \"gross\", \"mensch\", \"weit\", \"soll\", \"gazastreif\", \"hamas\", \"palastinens\", \"jerusal\", \"tempelberg\", \"westjordanland\", \"israelis\", \"lumia\", \"ramallah\", \"jerusalem\", \"ausgrab\", \"israel\", \"massenmord\", \"franziskus\", \"haram\", \"klost\", \"gedenkstatt\", \"boko\", \"jud\", \"sarajevo\", \"mauthaus\", \"bosnisch\", \"papst\", \"uberr\", \"zeitrechn\", \"siedlung\", \"friedhof\", \"netanjahu\", \"judisch\", \"messerattack\", \"antik\", \"romisch\", \"skelett\", \"muslim\", \"archaolog\", \"grab\", \"fund\", \"museum\", \"windows\", \"hitl\", \"kirch\", \"agypt\", \"getotet\", \"microsoft\", \"islam\", \"bosni\", \"word\", \"mosche\", \"stadt\", \"jahr\", \"erschoss\", \"verletzt\", \"krieg\", \"mensch\", \"kampf\", \"jahrhundert\", \"seit\", \"angriff\", \"mann\", \"twitt\", \"etwa\", \"frau\", \"leb\", \"erst\", \"zwei\", \"gross\", \"bereit\", \"seien\", \"sagt\", \"zeit\", \"vergang\", \"berichtet\", \"neu\", \"gazprom\", \"kubikmet\", \"panama\", \"abgasaffar\", \"offshor\", \"pap\", \"testversion\", \"fifa\", \"volkswag\", \"beta\", \"ruckruf\", \"umweltbehord\", \"princ\", \"toyota\", \"petro\", \"abgaswert\", \"preview\", \"stickoxid\", \"dieselmotor\", \"sowjetrepubl\", \"pipelin\", \"krim\", \"guatemala\", \"patch\", \"delhi\", \"maggi\", \"porsch\", \"eurostat\", \"ukrain\", \"infiziert\", \"motor\", \"manipuliert\", \"kiew\", \"virus\", \"indi\", \"prozent\", \"indisch\", \"marktanteil\", \"updat\", \"wolfsburg\", \"fahrzeug\", \"konz\", \"befragt\", \"android\", \"million\", \"skandal\", \"blatt\", \"betrug\", \"russisch\", \"russland\", \"jahr\", \"betroff\", \"monat\", \"rund\", \"neu\", \"osterreich\", \"erst\", \"seit\", \"zahl\", \"laut\", \"bereit\", \"land\", \"gerat\", \"zwei\", \"drei\", \"weg\", \"sagt\", \"unternehm\", \"wenig\", \"word\", \"weit\"], \"Freq\": [5788.0, 3533.0, 5103.0, 8412.0, 3358.0, 3525.0, 10207.0, 2980.0, 6241.0, 1138.0, 3938.0, 4232.0, 1276.0, 1080.0, 1521.0, 4267.0, 2550.0, 1401.0, 882.0, 2073.0, 1638.0, 833.0, 518.0, 695.0, 1290.0, 2627.0, 7205.0, 6300.0, 1301.0, 1274.0, 29.2810643285075, 28.00720913293732, 53.8907810193071, 33.47268899735589, 39.28145647747758, 38.10330842637825, 24.339173364540788, 20.477292278644143, 94.76805886843795, 17.92913337215734, 18.596795578282826, 18.60048169600395, 19.582551275462304, 47.55402805762753, 63.83677466411667, 20.721493808632058, 20.933566186765457, 13.832592072234977, 28.225033060807355, 31.640880710820205, 26.44677336069587, 50.72601527545794, 23.930266822943217, 16.611787264129035, 12.358712223782492, 19.175879772523864, 15.724913182433305, 53.45226492677175, 18.69339409989176, 15.438568170544833, 51.07877824898408, 54.144354258613596, 79.580545278542, 51.567614748160246, 175.39687873751234, 41.752384056537444, 55.21648308131059, 2696.3766899513944, 299.3253626133763, 76.56371798732253, 47.51381243790934, 49.49324257800662, 57.31422327791715, 290.05923154592256, 457.4090966941036, 414.40692274020597, 79.8986142708586, 165.20154448141346, 922.7278632865797, 339.97803980696574, 180.39816406355303, 283.5998265976573, 967.8291192140866, 195.13096601096711, 491.23167665915383, 119.37307557069128, 233.00102384297986, 421.5589861448283, 363.30141071515243, 330.2650216168554, 1164.0575834325982, 442.973566195463, 375.2078574011576, 785.4040728405907, 1540.2246757054295, 1322.9269957911115, 206.09550031716597, 1388.054620236488, 1476.917526053759, 620.8040364362218, 466.3705086966111, 741.8391968097066, 1546.61828835212, 574.3218055260771, 756.8743960955677, 386.92368129589124, 634.7482051812148, 2110.084424422977, 1021.8167983934063, 1194.5672405970513, 728.886917868837, 677.2092660993392, 698.8299672194347, 768.0154268441436, 547.1787120900404, 853.5401120876637, 767.977133433053, 1281.8882788005196, 812.976474612933, 1063.9054181983092, 1053.0168224400095, 910.7569208475644, 702.650202336252, 821.5614352473568, 686.9409787106118, 648.1481853566303, 32.89052114913227, 63.45145254476559, 46.605859521554564, 107.763664800181, 40.8762105003029, 48.28971376446877, 64.62433794288555, 37.613656185175465, 102.76020153502445, 31.98131666563266, 40.8024689162433, 125.1829444576716, 73.51578419248, 37.71039203133483, 108.03936987422553, 24.124346576922846, 26.912832511124602, 43.71711103121428, 126.5963639102842, 48.338336017595026, 29.0756269683011, 32.619232940229935, 32.96982125765423, 17.572534704722337, 26.32878616628124, 44.41808702791503, 94.03539233194569, 74.7032963941674, 43.705694438012486, 316.5398089659986, 771.3663472097659, 100.95503468578356, 82.0261196931718, 133.86946851107265, 921.8756585622601, 275.8174766215415, 838.647473336958, 96.7798169985231, 262.0283344954927, 119.68491663572485, 161.70828846288137, 95.40100903935989, 83.69060246420523, 541.069246645109, 203.46729268429183, 176.59652071109184, 878.7792626168265, 290.15983746489945, 139.5834394978977, 630.0707465347703, 802.1043375320456, 885.3003302252301, 318.42718658985, 475.4146572460014, 202.85536328867565, 246.6008773343135, 235.79926548869454, 463.5030586486698, 326.6644959596545, 184.96890759452157, 360.3211326821941, 416.18021729281674, 1637.9513318601612, 313.48375651924266, 851.2634192170523, 460.3157718978814, 957.9553485045254, 519.000497236621, 1021.4604533855606, 792.0303356907826, 627.7593046430391, 631.9951093991724, 764.9140052317255, 548.7100446718987, 1113.3459881820322, 756.4084850465821, 869.3371748610615, 626.6354597296776, 621.295206965068, 609.5417225318025, 573.0640117184267, 642.3754376520876, 693.8769329767193, 567.8531168672839, 536.2556944516192, 569.428651943362, 124.04827848123836, 83.14874467331555, 60.260756600680125, 139.73789122312334, 107.23414052320388, 47.430623659833245, 179.18691038709582, 42.31783873024828, 36.609265214481006, 33.13703202935156, 50.65728760327956, 25.13832905328275, 27.807782037069405, 39.83692663354312, 36.78701125591619, 112.94598411367039, 144.36442992732367, 21.81323123392507, 286.57591671209394, 94.44596839937037, 98.53898104815958, 62.14747144472406, 296.3618517644107, 32.95411608208291, 23.881854266368084, 60.983437967585594, 21.487568299431512, 19.407933187606265, 40.73407882555765, 26.898055996506145, 72.36085564817512, 199.3435480006823, 169.30900191304949, 57.98903159381559, 163.11068843642883, 113.05328986677286, 1119.0695798267614, 210.92411650114875, 994.571049079151, 3567.0162385874332, 128.4332018548306, 104.05869232516501, 97.50058836559764, 174.78318922560982, 264.4171912887776, 166.8013276484048, 203.62084684030518, 2812.3474945701637, 249.53267505114735, 1374.263905906718, 1009.8993494165311, 605.2564396289782, 293.99816361907034, 441.8284305476777, 833.9896503067939, 369.776057087758, 256.04857653723775, 2142.1355251059063, 1406.0334014376124, 326.5660715392683, 474.4639405781676, 489.3660617462541, 330.4885364242622, 880.544408109919, 815.0381072026543, 568.8839129120043, 965.9965193619531, 406.20028800469345, 1070.7231501525725, 963.8847503674996, 836.106519795118, 655.329221946276, 791.2639648779126, 595.0584957310647, 558.5174059182733, 545.5910268637549, 555.534563063369, 586.9427050567435, 429.3469873173316, 482.7385869567462, 458.51457284602213, 449.5905184252847, 481.89100004790885, 461.63689775507896, 252.7059091053526, 297.90842951063365, 185.39688953497657, 240.8592377481501, 180.24507875279764, 118.58138325850094, 168.7154263281402, 154.48124864286768, 145.19976435429416, 130.94663528398416, 149.98348053372993, 111.91171278674086, 97.39597458874238, 91.03218540338285, 89.28175448026055, 74.85829817497279, 89.12805700894761, 99.7728546410143, 85.38652382287493, 341.8524265838051, 78.62468395988034, 69.02873759049373, 84.37274745225417, 219.6411525132568, 69.97600513386216, 68.04303545189015, 93.633679766606, 84.94898512709112, 66.13571610649339, 79.51407972114707, 600.7931061361214, 806.5134282575635, 646.5038059368375, 544.5399543644663, 195.16539271405122, 433.1082240122602, 94.80897246113611, 239.9003160745873, 534.0504394517865, 706.4342423242439, 337.63895993245, 341.66945827386445, 330.35166658371907, 156.48357037121798, 198.15065006743112, 389.2922127093849, 163.54585054012747, 1108.0886490644405, 633.4374753938515, 1012.7486798630132, 448.84038953545297, 244.72376572993807, 2103.74324098811, 364.7389087108518, 257.51980636263266, 893.3958228451246, 278.8357269721986, 415.8606022401144, 321.3086547424841, 691.8352325790381, 805.8193555138065, 733.2046845062416, 1898.7324963593278, 869.2252693234624, 517.154558658706, 823.3098577456768, 485.156438789938, 843.8482908805813, 917.2667542534261, 755.5892873205208, 792.5566996674319, 702.6172922394846, 469.2313843720845, 530.5696437779344, 690.1989292898246, 711.1485860024875, 694.0859984764818, 702.4777904089876, 613.8900779902634, 588.499108454705, 130.64842953707, 55.09158209911634, 139.4267147054871, 62.16677754717707, 82.88501796101102, 43.073756469980026, 29.121685227888303, 31.10652029295032, 22.350294522752762, 117.02704950985077, 97.58126011944852, 24.9462512818411, 29.214631050876985, 36.75736487470436, 38.81663903011307, 19.189903911078414, 70.6970082720665, 96.88607047349596, 29.314239702190797, 226.61796792048867, 17.14820596807501, 27.301481444265622, 114.48475696539023, 29.559922330549966, 325.1917391302094, 92.07080019264058, 184.68619746814775, 24.181887064924357, 156.84656936798228, 24.846554129961298, 114.65648852080945, 127.00404703011796, 3079.649775311754, 202.3158743296636, 133.2791619614166, 271.3457696257418, 139.69550356733205, 145.12730419108945, 327.220961021996, 514.045433307929, 182.5972604516073, 131.7789610528826, 337.3545691438364, 269.08244097962734, 420.6846387510902, 942.3352544107955, 518.2225386503795, 660.2552056217364, 152.5482941077555, 175.13592439120092, 208.17121337636576, 209.61566398550224, 202.90465089507163, 1852.2474616947593, 348.5721928840058, 544.4560079072344, 871.2651125809962, 1165.6230522338176, 873.5803278446558, 1041.1412915630717, 1558.7490799962193, 657.2832858153912, 790.5465277892803, 258.62284734443745, 342.25602380443894, 561.4314076701604, 355.1993580096314, 355.06819511366126, 615.6706635755302, 603.1303660050245, 886.248673091209, 513.763809335428, 645.3551896458167, 592.4390526022007, 678.5027074630053, 562.1349618838926, 618.2845353777623, 504.6063573992652, 504.9888012165402, 573.6906881291892, 428.2289327134666, 425.4167387286172, 450.2817363765305, 457.88574546366067, 435.3163412396337, 41.25674284722794, 42.68216018958728, 43.36374929034598, 36.00909933792776, 87.19931126405861, 22.682147604451202, 17.82966515169842, 21.57108533849392, 15.928310253568812, 65.07331389195812, 34.494941962160695, 65.27272285161145, 49.20148294400175, 55.27068114702054, 20.484830040431618, 28.068454632635103, 17.61290544079396, 16.965950282090162, 17.84693483041273, 55.72503129730499, 104.40371921599836, 26.1945169924117, 19.940041018581553, 17.571376647994086, 17.305356772369425, 38.898276419074946, 22.158934932741037, 26.91417579106598, 12.481887232452076, 10.788026436965882, 306.0889205479463, 518.2468658197718, 236.83666132704184, 131.07322300443036, 61.24191424463898, 441.41741990311033, 92.30852218836783, 76.50605985100641, 46.90970481924159, 129.38657029449047, 1031.8179001026615, 70.42418976480839, 287.9986796643078, 295.2557625037792, 130.09412226097973, 453.2895446173104, 123.18338129880101, 196.497050324212, 245.96745332958736, 177.422185937645, 556.4125535989415, 271.97955220066825, 191.6507011317068, 1443.5933530734437, 888.1179783461865, 289.1634512575362, 257.788182968931, 1066.4680468379606, 1008.9446350480043, 263.496652604487, 419.1524052410564, 241.41565786055193, 349.96425719957125, 530.9223653254946, 444.1762839366662, 412.93031897405734, 286.03049397166006, 839.0723364719, 1534.0782443590563, 538.8184962945863, 768.1134069946919, 655.7360612913766, 600.9094856740787, 517.9808692832107, 1058.0662197785987, 712.8163158546165, 441.07481227599845, 684.5153378161526, 505.5948724362395, 558.3106926197772, 547.1750013491225, 469.57189741079793, 528.9897925872024, 483.5030483667802, 487.851916819413, 501.2700604163502, 442.8271583081975, 111.63207789058441, 90.06214710851538, 44.73430975008111, 40.44194181156458, 36.383649939667755, 243.19741899113876, 136.72244685200732, 36.8172560442651, 69.2006714536538, 56.16213147634475, 25.922866846641835, 196.52359194163213, 32.091034106673156, 16.50048529401257, 30.936851062316535, 58.84849798168312, 75.33615075649801, 17.954538783436156, 56.64310134608357, 14.260126439959171, 36.920962358029215, 32.53754891822061, 77.46061098213622, 59.15720165751017, 153.39601138833456, 33.44985745407383, 19.862383583330192, 13.776922108525756, 12.637874272899406, 16.335425096924517, 400.37121486672834, 338.4103312106954, 159.00961595829605, 290.6666734672162, 106.26039104009038, 220.66383822511946, 126.84528468525659, 161.36591437746745, 514.8367857725202, 560.466945229667, 292.1013138624667, 490.2806589767486, 257.489222479152, 177.5928958744092, 103.03068532403364, 242.51228413896064, 120.4764252397403, 338.73917119577834, 994.9985468039519, 800.8080012342998, 752.5265625746382, 3232.9783234373326, 299.94815202593287, 299.94536833014234, 180.6148068870449, 325.21797839539306, 553.1981151156697, 211.08759721214093, 220.08273718032788, 263.15795514221963, 301.1167766293334, 594.5322496221829, 283.54812653772615, 439.72215716044934, 868.4631620559487, 275.8118174718244, 735.0126403061541, 726.5730568802106, 793.5182843048286, 522.0055483907802, 592.5801329153396, 566.0447074420644, 536.097926456834, 486.26165724249626, 520.7908381570701, 484.4604059310445, 489.66806396193493, 394.4753471824271, 387.087527718953, 378.3983577645505, 383.18736978145637, 358.8651825966285, 361.18274579790443, 344.90551222401245, 181.82211609735074, 47.80585164082493, 40.544047546077785, 67.83689843728764, 126.44995151241385, 44.97368672649778, 37.27813275821559, 111.09306592911786, 28.53063066975549, 107.47023563037406, 51.92741210341791, 47.259863365977864, 29.720063698006776, 64.4915067777105, 25.79294320821839, 60.98780649428656, 33.7362308502487, 41.28773085624124, 35.35662236922358, 22.214818455968224, 19.9474324751139, 42.9563357594428, 15.564372169207656, 23.1066063350344, 18.348426050011202, 19.77254613890353, 34.01504657160234, 39.03310924867639, 15.359566861563207, 642.6926432195021, 283.42728425648966, 246.02784110282482, 95.19686657743064, 60.091785017956354, 266.6607999779938, 131.4998979842676, 120.80108594453499, 215.58139756654913, 64.16526236085384, 794.6763657999321, 625.2300500985593, 256.4139190185082, 138.8348332071383, 112.0090488940864, 381.3172583611903, 326.7773104445867, 111.73149859960729, 344.1085224812038, 545.6412997605282, 200.47587290388793, 118.0356816024484, 213.02456534813422, 231.4225074276841, 90.34683273946015, 243.74441552618225, 207.69348320565686, 485.6146097897349, 598.1683257041376, 290.5139476890369, 237.72011517323602, 611.6192178853369, 507.80920467723416, 687.2471324815218, 251.8283593973134, 772.2642663637646, 538.5572912431883, 271.47500486681105, 778.683057341771, 835.2834675821841, 360.44729247611025, 452.6759452425201, 460.4195140966957, 302.91532955771356, 319.5777758972901, 314.1351252853755, 297.5738634711776, 285.88496655744177, 286.7297258392079, 283.52112434353774, 278.73632202033446, 276.72317673671535, 31.788053711924267, 32.88750571849274, 110.71934463473421, 93.41956112422005, 22.815089619832655, 35.94008428477435, 49.64262177582549, 70.82398255160581, 12.797856758159698, 12.418897327895577, 56.597936409066946, 456.47409526456926, 12.118555020335892, 45.18196464630521, 28.050512083085785, 20.237384488387498, 12.583526153817672, 26.20166330465775, 91.94612722339077, 42.51384777981626, 15.00862301926036, 58.7680142677537, 73.52022691884282, 62.80827214024185, 41.50673400871277, 77.25086525450543, 46.04734387870632, 37.36479972510699, 158.20538000081012, 9.505517336027363, 60.64883165579425, 47.394137133793556, 52.940832118801524, 158.97850126859714, 140.49124430403032, 130.4674128811154, 95.45311907651728, 154.0851545228763, 258.55509827900624, 61.826595309884624, 117.38875828108861, 125.07202250403166, 178.94698732551225, 173.35810257587943, 182.11779296316564, 80.072968369937, 396.61641906106024, 59.48086104551151, 222.48213897907132, 422.5266367441311, 67.11179461966823, 136.01220217666352, 117.22508898913401, 243.41713364852137, 147.78397597245842, 99.63185903174985, 240.41807195582246, 112.10682926522983, 151.58854078878917, 114.65285416752675, 177.02582640241715, 147.86980037702403, 148.08561599210736, 190.30612137986034, 172.50553100368577, 169.12973145084578, 168.29064538160034, 150.57011180070575, 172.41307087544723, 146.40007082731327, 141.11837965101265, 135.2078406829109, 141.7141439602724, 93.17776784219737, 54.499274776220965, 147.824382119431, 22.014163622700625, 52.77552344865098, 68.53781801169046, 28.003425111701972, 141.05158725562092, 160.2045811746401, 34.95401139291027, 19.74174075895394, 25.459810408774565, 46.845740675180124, 28.383384583891633, 14.64637461894228, 31.437680749665308, 34.95243103718713, 22.0977840200832, 18.036343934490596, 8.397842487383263, 23.325629511545834, 49.83333743816793, 13.856835892385615, 17.51033022404009, 21.067881579306157, 14.02874502998602, 67.54262465793722, 15.24784542026565, 300.90843422937456, 12.706037637333194, 80.2360530145626, 54.30209672958896, 98.66135605759543, 34.03064450750134, 112.6078358801951, 1528.6468866604844, 43.981327745904025, 51.12850748198125, 120.09335159551321, 75.15629743258783, 124.04801138038235, 146.86366010007066, 101.5801416150169, 163.16410354755152, 368.7416877033423, 69.13484004172594, 71.97686226734939, 73.5832644904793, 148.8115198546309, 158.39069083196583, 455.9257676619686, 141.0597771344835, 187.4739576252961, 248.04052849961934, 293.1816415500244, 274.9517096336286, 284.39844400427455, 255.70981301318588, 168.38955953593054, 198.63358502100365, 211.2422615574323, 205.28627284985504, 133.35688279017495, 176.68967730073842, 158.94741239251633, 142.5643429130681, 161.75994210354722, 133.20952091244405, 136.59480510261847, 130.9800837243668, 131.08579134116138], \"Total\": [5788.0, 3533.0, 5103.0, 8412.0, 3358.0, 3525.0, 10207.0, 2980.0, 6241.0, 1138.0, 3938.0, 4232.0, 1276.0, 1080.0, 1521.0, 4267.0, 2550.0, 1401.0, 882.0, 2073.0, 1638.0, 833.0, 518.0, 695.0, 1290.0, 2627.0, 7205.0, 6300.0, 1301.0, 1274.0, 30.513506584829923, 29.295189018543567, 56.56316256341418, 35.16094773227315, 41.33684572475273, 40.253926642341476, 25.712993704419574, 21.755891709257934, 100.91527266843657, 19.120692428311116, 19.86961537522313, 19.989042875034517, 21.05992060876392, 51.30599872394107, 68.98553062647271, 22.3998822200338, 22.66047028412672, 14.975384265169827, 30.67054752557069, 34.46262842035611, 28.85269191898619, 55.376161115952385, 26.128759614737326, 18.19243379101147, 13.54127730372603, 21.059935723542367, 17.352864692278292, 58.9942053221346, 20.63973763748895, 17.09099439212005, 57.63878128311664, 61.19744337852372, 91.25398793705651, 58.4640634891353, 207.8772194671918, 47.13232650558748, 63.251722722944955, 3938.342293446578, 388.058466837984, 90.2553168566985, 54.27476272924415, 56.811836211149405, 66.5742223244096, 384.0939537001337, 631.4585982837733, 572.0700739231381, 96.29861205343705, 221.0358369224617, 1540.4800324071473, 516.4794401165417, 253.36995739681603, 432.4972342358953, 1838.020485174518, 280.541652224863, 842.359062303999, 160.03185586474507, 359.1600177228707, 734.1011002876918, 614.5110652598637, 549.5443711864448, 2669.5792617707834, 823.3117833809713, 677.6022740409204, 1719.2395303298383, 4073.5741743765107, 3388.9419594332903, 321.6226552002458, 3743.658075111657, 4267.024650539957, 1367.4438828753755, 953.2202221572913, 1801.4969836285613, 4870.354175495512, 1285.361407609611, 1929.8280177640386, 750.72397927537, 1587.9472351612353, 10207.054792320803, 3506.5256922756985, 4527.436906835683, 2068.5398298384716, 1849.5169875811328, 1989.7720187986345, 2432.8075611031745, 1299.5804526110894, 3214.2786924583493, 2623.1390709018497, 8412.649600104605, 3669.3118297167803, 7205.40998709712, 8371.625367485347, 6241.8726107137745, 2935.8995603341286, 6077.705628126854, 6300.414905984685, 3026.2099187684034, 34.50376139500144, 66.64856840866969, 49.186839366330375, 114.71608260548257, 43.600106266212926, 51.55662075770835, 69.25682844299563, 40.31202458179057, 110.27752398128756, 34.35956034326547, 44.02066064991676, 135.2268928531875, 79.47339767620147, 40.825335610350336, 116.99768088215741, 26.17249325843617, 29.210022909752322, 47.47848193985012, 137.7033119959959, 52.6769881451392, 31.70201074145797, 35.686766762298156, 36.20863206144769, 19.363601074157565, 29.034605211802802, 49.015350429457754, 103.80079175387935, 82.66054305300749, 48.47973716365092, 351.18387191337126, 866.8052193058518, 112.40123897204164, 91.3860733981787, 150.75003838043537, 1080.3942842252416, 317.2462772234766, 1011.3682559975455, 109.26297533859317, 306.8394020082848, 136.49441372778324, 189.1567619021767, 108.45704999806078, 94.78323559391542, 719.1929425925475, 254.28756885415282, 217.87454200238608, 1274.4633447268827, 381.91181871698535, 168.684314316233, 940.9700923541541, 1283.7440338667086, 1444.7926682900863, 454.3112268471963, 748.314120849986, 272.07725955621095, 353.9719470620676, 336.94386269060203, 813.9128544654802, 529.6672724681507, 249.7438517315806, 639.0752817319648, 811.9075231591728, 6300.414905984685, 562.5860931974266, 2781.5755404570496, 1077.1181984337536, 3669.3118297167803, 1401.6678032651278, 4527.436906835683, 3026.2099187684034, 2111.9938244170025, 2638.9242066142215, 4073.5741743765107, 2073.1326750731646, 10207.054792320803, 4607.310744714395, 7205.40998709712, 3004.188518559012, 3214.2786924583493, 4159.9288866142115, 3485.7192494933347, 6077.705628126854, 8412.649600104605, 4870.354175495512, 3506.5256922756985, 8371.625367485347, 125.96366149144525, 84.99083761743825, 62.04779627044113, 144.46433691512655, 111.18053661178067, 49.3090467743424, 186.37643729649278, 44.20298871126327, 38.27286039067887, 34.64324497387098, 52.9925851796771, 26.34510784438886, 29.163108630849013, 41.86919357683075, 38.7348646915268, 119.00181816490046, 152.15109381562675, 23.01069845376387, 302.33319726203655, 99.72826889515167, 104.17875552374052, 65.74618876584437, 314.42167838603376, 34.97030763117424, 25.37596819656455, 64.95572720370852, 22.915853888608268, 20.722566219230817, 43.533857900500735, 28.773856485810143, 78.05112637934938, 219.1323033730809, 186.25346777437522, 62.63334656300977, 180.73841168272514, 125.94619136884337, 1401.782337491792, 245.9990205831383, 1290.237237129333, 5103.780075363088, 146.94041004390738, 117.8011819306658, 112.08118688845009, 215.53284750172483, 350.2838783509857, 209.79189842298294, 265.2446469054326, 5788.209017201567, 343.077524028737, 2980.448887514602, 2073.1326750731646, 1162.046227938175, 479.17981848706205, 846.4097143724019, 2343.100901430468, 731.1119344176119, 425.96393168543483, 10207.054792320803, 6241.8726107137745, 635.5964012443463, 1184.104489238171, 1260.9185161450375, 658.5975689099988, 3882.812369748709, 4232.6075520242075, 2093.893963635931, 6300.414905984685, 1098.6726258268814, 8412.649600104605, 8371.625367485347, 6077.705628126854, 4159.9288866142115, 7205.40998709712, 3640.4539245306114, 3116.041486470731, 3053.6259033494894, 3506.5256922756985, 4607.310744714395, 1661.1705421060865, 3073.8276638507086, 2659.8772184509003, 2434.900377309929, 4527.436906835683, 3669.3118297167803, 255.25412104338832, 301.0489782317826, 187.52864291011636, 243.75937996955898, 182.46386608132607, 120.08944001704714, 170.86269357283246, 156.59721628837207, 147.26866920834377, 132.81579171071573, 152.22985376727078, 113.60167377973617, 98.9681904969928, 92.58202688656449, 90.84182340907468, 76.16688770972475, 90.6948660816433, 101.53024791733792, 86.90308251065827, 347.9288973747914, 80.07864168562774, 70.30865972398465, 85.94456210046036, 223.84026367819388, 71.32468801870748, 69.35922288481389, 95.45575249345043, 86.6032858885884, 67.42452611877025, 81.07398806756935, 615.3795684495747, 833.5157875079315, 668.5332422559253, 562.5307001614395, 199.6500402116175, 448.36128936874826, 96.67068627842696, 246.97541244798597, 554.3528892049246, 737.8227915818871, 349.2646760897715, 355.094783597763, 347.93248020809284, 161.34760437234243, 205.8360058776031, 415.8595079201316, 170.0707080272927, 1276.0925726634707, 741.660436063892, 1301.711854456852, 524.0263616023468, 270.20902912683806, 3358.337624339283, 437.95836878188584, 293.9570269097103, 1447.703476661707, 331.5106243393519, 573.3355090023931, 412.6993262390627, 1271.0330266150213, 1716.018479723339, 1525.5256525918041, 7205.40998709712, 2069.0525815849737, 984.6605389232947, 2627.250485139832, 1044.1032981912836, 3485.7192494933347, 4733.517324833774, 3301.341377949606, 4870.354175495512, 3882.812369748709, 1060.7042064514658, 1992.3524015659018, 6241.8726107137745, 8371.625367485347, 8412.649600104605, 10207.054792320803, 6077.705628126854, 4607.310744714395, 134.2637351396264, 56.69011639113245, 143.4843471248345, 64.25277604242632, 85.6845728726143, 44.90170789589556, 30.383977778406013, 32.55450941552803, 23.517684757279202, 123.2315833210651, 103.05259458307886, 26.39893514981959, 30.92014062197612, 38.9205346457323, 41.16870909700876, 20.38602255422989, 75.23024970872906, 103.28062812448971, 31.390666106655495, 242.75659890107175, 18.379441416030023, 29.355197176772684, 123.19281046946469, 31.846108827848013, 350.74663170367455, 99.43390486068306, 200.0808302666165, 26.309307268557358, 171.14497232996513, 27.117483205371883, 125.51668244761558, 139.37684232467367, 3533.2100213789136, 225.1719676473298, 147.58945392331037, 306.37735651262193, 155.11612837895353, 162.38130146074357, 379.4335691686688, 610.261989016585, 211.53305548177647, 150.15669978026963, 421.4819086628752, 331.9426171660913, 553.6616041485812, 1374.4306300478684, 704.1793410162508, 942.6421068664839, 183.29274401655655, 216.98887894593827, 280.80982875262606, 283.7855335466993, 276.6277321017074, 6241.8726107137745, 604.2192290063027, 1184.104489238171, 2550.317858805398, 4232.6075520242075, 3116.041486470731, 4267.024650539957, 8371.625367485347, 2097.545542255056, 3231.76043167736, 435.3653453066135, 727.8658018921689, 1948.056763877212, 827.7556577791305, 861.5213446329234, 2793.548265976696, 3053.6259033494894, 8412.649600104605, 2285.1525759543842, 4607.310744714395, 3640.4539245306114, 6300.414905984685, 4159.9288866142115, 6077.705628126854, 2935.8995603341286, 3882.812369748709, 10207.054792320803, 1833.175129209183, 1778.363199387073, 2730.4157727196202, 4870.354175495512, 3938.342293446578, 42.44048912267867, 43.935935117206476, 44.682925064754826, 37.40445894379492, 91.45419751624894, 23.830780678378026, 18.895535803453004, 22.89289452048326, 17.0005613502435, 70.45543438280332, 37.46729214358801, 70.9389077309282, 53.78523216519537, 60.76027547470887, 22.606161795113742, 31.013425086378028, 19.461835028866332, 18.8285675017674, 19.893169156723772, 62.75777033754071, 118.27012258874329, 29.704754823333094, 22.64278491573297, 19.99509069099596, 19.69701481063972, 44.45365588513621, 25.344224628184605, 30.825250003262774, 14.309740877018115, 12.443482954340373, 353.7781786513054, 613.4293950855774, 282.06935303169587, 156.3147349989991, 71.60245897471519, 564.5664622854779, 110.70209853635262, 91.03989692147061, 54.82441842139241, 160.56823529440868, 1521.8931988890383, 85.18660105534337, 387.57184901233956, 409.4764310242903, 167.02661240898917, 675.3320381085427, 160.8381209952376, 276.33931433337494, 359.39268078184125, 247.5878530148475, 1013.8719952634129, 436.09346621646716, 287.953432225658, 3525.538336463673, 1939.215582905529, 487.10895066857495, 426.99449971856797, 2600.4970349460255, 2627.250485139832, 465.2114846054552, 869.7275135466892, 426.27893075533126, 741.5804117416834, 1355.558842346977, 1055.8328889322086, 986.2742335448183, 565.8967561003994, 3073.8276638507086, 8371.625367485347, 1660.4614009053528, 3640.4539245306114, 2793.548265976696, 2390.909565246534, 1801.4969836285613, 10207.054792320803, 4733.517324833774, 1778.363199387073, 6077.705628126854, 2730.4157727196202, 4159.9288866142115, 4267.024650539957, 2458.654950784191, 4607.310744714395, 3116.041486470731, 4232.6075520242075, 7205.40998709712, 3301.341377949606, 114.0194285373792, 92.17562933690455, 46.135695075919394, 41.757151991491114, 37.66796174971137, 251.98182402870816, 141.75669867650757, 38.21614155849187, 72.04590298019019, 58.615674341172095, 27.615411677294837, 209.46164127568852, 34.204464333086214, 17.59320630192484, 33.058230033565664, 63.14257451571072, 80.83399396130632, 19.44534709603131, 61.362911037027324, 15.490029885714526, 40.191119757737845, 35.428350041314985, 84.44672759659034, 64.59097545720424, 167.52513944581642, 36.553045379414264, 21.7061532116499, 15.083596930436968, 13.86172684859359, 18.031857765599003, 449.27020856453044, 379.4103114872449, 177.3471779060899, 329.72330223166273, 118.80602699465506, 253.52562213811535, 144.17704778394494, 185.02075028865735, 619.8717053995841, 692.4916131018143, 350.1074048641636, 623.1525739174233, 317.9058306446748, 214.34977094673852, 120.4455816113395, 316.6047175594391, 144.06881684784463, 471.81391835285257, 1638.8533711440618, 1339.6229831804949, 1356.8703221209048, 8412.649600104605, 466.0432468455156, 466.8135090572745, 254.87332952321944, 577.9285430784846, 1661.1705421060865, 353.9791809018493, 379.15312467584295, 525.8853447827285, 700.3922871782603, 2935.8995603341286, 655.7448115852266, 1716.018479723339, 8371.625367485347, 619.4073672372188, 6300.414905984685, 7205.40998709712, 10207.054792320803, 3640.4539245306114, 6077.705628126854, 5788.209017201567, 4870.354175495512, 4607.310744714395, 6241.8726107137745, 4733.517324833774, 5103.780075363088, 2730.4157727196202, 3301.341377949606, 3053.6259033494894, 3485.7192494933347, 2623.1390709018497, 4159.9288866142115, 1472.7198870892048, 186.05114457324802, 49.007264720478005, 41.76666927345748, 69.8941993159255, 130.51974607195916, 46.531628190355555, 38.79228761801, 116.05371858909385, 29.827729883637815, 112.38517938246915, 54.391566829804745, 49.593025848152436, 31.202220900345385, 67.84752312032118, 27.19388468632064, 64.66097683936437, 35.84653296350212, 43.871006645073194, 37.57973571046747, 23.63098126927753, 21.22851167180753, 45.72039118099145, 16.643209395267217, 24.708815760305882, 19.6900874072731, 21.266169327367635, 36.63880609105653, 42.15363788031899, 16.59140388950149, 695.9039863444289, 310.4499309321884, 270.43871325163457, 104.21527450600288, 65.44424494562253, 305.2847522132322, 148.0635334807732, 139.36504666045673, 264.07311040377, 72.55840787479124, 1138.4021775527065, 882.2042266760051, 336.4516331386326, 174.00139988708602, 137.08172953210394, 554.8280914669706, 474.6139398559629, 137.27688472391458, 513.0949442842398, 898.1502612953519, 290.8651769100449, 153.6233501354368, 327.46901256447126, 384.1697824985679, 112.03556091085245, 435.2325922883842, 351.9844692609058, 1167.181005107368, 1651.2561134357975, 622.631185244862, 462.0475783233366, 2550.317858805398, 1948.056763877212, 4232.6075520242075, 615.6782395312316, 6077.705628126854, 2935.8995603341286, 750.3252056621046, 8371.625367485347, 10207.054792320803, 1666.0138504447962, 6300.414905984685, 7205.40998709712, 2289.5077407562285, 4733.517324833774, 4607.310744714395, 3525.538336463673, 2659.8772184509003, 4527.436906835683, 4267.024650539957, 4159.9288866142115, 3053.6259033494894, 32.97457196497068, 34.15378704129321, 115.56293271273918, 97.80837114649205, 24.070255907383498, 38.12556806363468, 52.9340600384445, 76.11885903176106, 13.872037728114256, 13.688263612500585, 62.79293609043289, 518.4976138634627, 14.199528695697824, 54.43092432174303, 34.245135531839715, 24.76633592931531, 15.455154139656074, 32.18939173194413, 113.27111560952966, 52.42172282061818, 18.528430286208046, 72.78549530416272, 92.08600442612367, 79.26400725432144, 52.38890774864913, 98.36850176877756, 59.76042200157033, 48.94097791616922, 208.92339296376088, 12.553517789417377, 81.32048025964956, 63.67680278400356, 73.15815325719409, 252.70043321398836, 227.48319612999578, 218.61424474417578, 154.1038779886801, 280.98140252033835, 564.1552699363042, 94.11882884936169, 232.5589898660461, 255.73112161309436, 544.342502416723, 529.6672724681507, 622.631185244862, 159.4903192190242, 3525.538336463673, 97.87229980538585, 1472.7198870892048, 10207.054792320803, 129.8112060823318, 741.5804117416834, 513.5254579195067, 4267.024650539957, 1167.181005107368, 371.0445721720355, 6077.705628126854, 572.8276029230803, 1939.215582905529, 643.3288572628062, 3669.3118297167803, 1801.4969836285613, 1838.020485174518, 7205.40998709712, 4733.517324833774, 4527.436906835683, 4607.310744714395, 2793.548265976696, 8371.625367485347, 2432.8075611031745, 2659.8772184509003, 1660.4614009053528, 6300.414905984685, 102.07476377739482, 61.80833892200776, 170.31205288053948, 26.993903863304286, 65.26012681306972, 85.07879322229822, 36.023959838932306, 184.19297393313914, 215.57534029319754, 47.39267549709306, 27.102847810661785, 36.11448345616162, 67.55281975475917, 42.27179417492831, 22.027530040893325, 47.743449825746936, 53.27901499482583, 37.365349221980054, 30.549772173035404, 14.35111621136953, 39.93274362466172, 86.67823408312185, 24.153189587909466, 30.756759228752166, 37.30684775893951, 25.10519559218391, 121.21661029442828, 27.545587541288548, 547.102545946077, 23.41085376206918, 147.97389403952806, 100.56171745450358, 190.61623298870884, 62.90301352690506, 264.95567599275995, 5788.209017201567, 91.4522289211119, 113.32594095363473, 372.8952843526678, 204.3291634630371, 423.129776191538, 565.7432702458941, 331.33090889487363, 719.1929425925475, 2980.448887514602, 187.1398159392349, 212.24453141875145, 233.02211809122838, 882.2042266760051, 1138.4021775527065, 10207.054792320803, 957.833187152658, 2007.0378866238314, 3882.812369748709, 6300.414905984685, 6241.8726107137745, 7205.40998709712, 6077.705628126854, 2093.893963635931, 3640.4539245306114, 4607.310744714395, 4232.6075520242075, 1274.4633447268827, 4733.517324833774, 3301.341377949606, 2600.4970349460255, 8371.625367485347, 2073.1326750731646, 3506.5256922756985, 3525.538336463673, 4159.9288866142115], \"Category\": [\"Default\", \"Default\", \"Default\", \"Default\", \"Default\", \"Default\", \"Default\", \"Default\", \"Default\", \"Default\", \"Default\", \"Default\", \"Default\", \"Default\", \"Default\", \"Default\", \"Default\", \"Default\", \"Default\", \"Default\", \"Default\", \"Default\", \"Default\", \"Default\", \"Default\", \"Default\", \"Default\", \"Default\", \"Default\", \"Default\", \"Topic1\", \"Topic1\", \"Topic1\", \"Topic1\", \"Topic1\", \"Topic1\", \"Topic1\", \"Topic1\", \"Topic1\", \"Topic1\", \"Topic1\", \"Topic1\", \"Topic1\", \"Topic1\", \"Topic1\", \"Topic1\", \"Topic1\", \"Topic1\", \"Topic1\", \"Topic1\", \"Topic1\", \"Topic1\", \"Topic1\", \"Topic1\", \"Topic1\", \"Topic1\", \"Topic1\", \"Topic1\", \"Topic1\", \"Topic1\", \"Topic1\", \"Topic1\", \"Topic1\", \"Topic1\", \"Topic1\", \"Topic1\", \"Topic1\", \"Topic1\", \"Topic1\", \"Topic1\", \"Topic1\", \"Topic1\", \"Topic1\", \"Topic1\", \"Topic1\", \"Topic1\", \"Topic1\", \"Topic1\", \"Topic1\", \"Topic1\", \"Topic1\", \"Topic1\", \"Topic1\", \"Topic1\", \"Topic1\", \"Topic1\", \"Topic1\", \"Topic1\", \"Topic1\", \"Topic1\", \"Topic1\", \"Topic1\", \"Topic1\", \"Topic1\", \"Topic1\", \"Topic1\", \"Topic1\", \"Topic1\", \"Topic1\", \"Topic1\", \"Topic1\", \"Topic1\", \"Topic1\", \"Topic1\", \"Topic1\", \"Topic1\", \"Topic1\", \"Topic1\", \"Topic1\", \"Topic1\", \"Topic1\", \"Topic1\", \"Topic1\", \"Topic1\", \"Topic1\", \"Topic1\", \"Topic1\", \"Topic1\", \"Topic1\", \"Topic1\", \"Topic1\", \"Topic1\", \"Topic1\", \"Topic1\", \"Topic1\", \"Topic1\", \"Topic2\", \"Topic2\", \"Topic2\", \"Topic2\", \"Topic2\", \"Topic2\", \"Topic2\", \"Topic2\", \"Topic2\", \"Topic2\", \"Topic2\", \"Topic2\", \"Topic2\", \"Topic2\", \"Topic2\", \"Topic2\", \"Topic2\", \"Topic2\", \"Topic2\", \"Topic2\", \"Topic2\", \"Topic2\", \"Topic2\", \"Topic2\", \"Topic2\", \"Topic2\", \"Topic2\", \"Topic2\", \"Topic2\", \"Topic2\", \"Topic2\", \"Topic2\", \"Topic2\", \"Topic2\", \"Topic2\", \"Topic2\", \"Topic2\", \"Topic2\", \"Topic2\", \"Topic2\", \"Topic2\", \"Topic2\", \"Topic2\", \"Topic2\", \"Topic2\", \"Topic2\", \"Topic2\", \"Topic2\", \"Topic2\", \"Topic2\", \"Topic2\", \"Topic2\", \"Topic2\", \"Topic2\", \"Topic2\", \"Topic2\", \"Topic2\", \"Topic2\", \"Topic2\", \"Topic2\", \"Topic2\", \"Topic2\", \"Topic2\", \"Topic2\", \"Topic2\", \"Topic2\", \"Topic2\", \"Topic2\", \"Topic2\", \"Topic2\", \"Topic2\", \"Topic2\", \"Topic2\", \"Topic2\", \"Topic2\", \"Topic2\", \"Topic2\", \"Topic2\", \"Topic2\", \"Topic2\", \"Topic2\", \"Topic2\", \"Topic2\", \"Topic2\", \"Topic2\", \"Topic2\", \"Topic3\", \"Topic3\", \"Topic3\", \"Topic3\", \"Topic3\", \"Topic3\", \"Topic3\", \"Topic3\", \"Topic3\", \"Topic3\", \"Topic3\", \"Topic3\", \"Topic3\", \"Topic3\", \"Topic3\", \"Topic3\", \"Topic3\", \"Topic3\", \"Topic3\", \"Topic3\", \"Topic3\", \"Topic3\", \"Topic3\", \"Topic3\", \"Topic3\", \"Topic3\", \"Topic3\", \"Topic3\", \"Topic3\", \"Topic3\", \"Topic3\", \"Topic3\", \"Topic3\", \"Topic3\", \"Topic3\", \"Topic3\", \"Topic3\", \"Topic3\", \"Topic3\", \"Topic3\", \"Topic3\", \"Topic3\", \"Topic3\", \"Topic3\", \"Topic3\", \"Topic3\", \"Topic3\", \"Topic3\", \"Topic3\", \"Topic3\", \"Topic3\", \"Topic3\", \"Topic3\", \"Topic3\", \"Topic3\", \"Topic3\", \"Topic3\", \"Topic3\", \"Topic3\", \"Topic3\", \"Topic3\", \"Topic3\", \"Topic3\", \"Topic3\", \"Topic3\", \"Topic3\", \"Topic3\", \"Topic3\", \"Topic3\", \"Topic3\", \"Topic3\", \"Topic3\", \"Topic3\", \"Topic3\", \"Topic3\", \"Topic3\", \"Topic3\", \"Topic3\", \"Topic3\", \"Topic3\", \"Topic3\", \"Topic3\", \"Topic3\", \"Topic3\", \"Topic4\", \"Topic4\", \"Topic4\", \"Topic4\", \"Topic4\", \"Topic4\", \"Topic4\", \"Topic4\", \"Topic4\", \"Topic4\", \"Topic4\", \"Topic4\", \"Topic4\", \"Topic4\", \"Topic4\", \"Topic4\", \"Topic4\", \"Topic4\", \"Topic4\", \"Topic4\", \"Topic4\", \"Topic4\", \"Topic4\", \"Topic4\", \"Topic4\", \"Topic4\", \"Topic4\", \"Topic4\", \"Topic4\", \"Topic4\", \"Topic4\", \"Topic4\", \"Topic4\", \"Topic4\", \"Topic4\", \"Topic4\", \"Topic4\", \"Topic4\", \"Topic4\", \"Topic4\", \"Topic4\", \"Topic4\", \"Topic4\", \"Topic4\", \"Topic4\", \"Topic4\", \"Topic4\", \"Topic4\", \"Topic4\", \"Topic4\", \"Topic4\", \"Topic4\", \"Topic4\", \"Topic4\", \"Topic4\", \"Topic4\", \"Topic4\", \"Topic4\", \"Topic4\", \"Topic4\", \"Topic4\", \"Topic4\", \"Topic4\", \"Topic4\", \"Topic4\", \"Topic4\", \"Topic4\", \"Topic4\", \"Topic4\", \"Topic4\", \"Topic4\", \"Topic4\", \"Topic4\", \"Topic4\", \"Topic4\", \"Topic4\", \"Topic4\", \"Topic4\", \"Topic4\", \"Topic4\", \"Topic5\", \"Topic5\", \"Topic5\", \"Topic5\", \"Topic5\", \"Topic5\", \"Topic5\", \"Topic5\", \"Topic5\", \"Topic5\", \"Topic5\", \"Topic5\", \"Topic5\", \"Topic5\", \"Topic5\", \"Topic5\", \"Topic5\", \"Topic5\", \"Topic5\", \"Topic5\", \"Topic5\", \"Topic5\", \"Topic5\", \"Topic5\", \"Topic5\", \"Topic5\", \"Topic5\", \"Topic5\", \"Topic5\", \"Topic5\", \"Topic5\", \"Topic5\", \"Topic5\", \"Topic5\", \"Topic5\", \"Topic5\", \"Topic5\", \"Topic5\", \"Topic5\", \"Topic5\", \"Topic5\", \"Topic5\", \"Topic5\", \"Topic5\", \"Topic5\", \"Topic5\", \"Topic5\", \"Topic5\", \"Topic5\", \"Topic5\", \"Topic5\", \"Topic5\", \"Topic5\", \"Topic5\", \"Topic5\", \"Topic5\", \"Topic5\", \"Topic5\", \"Topic5\", \"Topic5\", \"Topic5\", \"Topic5\", \"Topic5\", \"Topic5\", \"Topic5\", \"Topic5\", \"Topic5\", \"Topic5\", \"Topic5\", \"Topic5\", \"Topic5\", \"Topic5\", \"Topic5\", \"Topic5\", \"Topic5\", \"Topic5\", \"Topic5\", \"Topic5\", \"Topic5\", \"Topic5\", \"Topic5\", \"Topic5\", \"Topic5\", \"Topic5\", \"Topic5\", \"Topic6\", \"Topic6\", \"Topic6\", \"Topic6\", \"Topic6\", \"Topic6\", \"Topic6\", \"Topic6\", \"Topic6\", \"Topic6\", \"Topic6\", \"Topic6\", \"Topic6\", \"Topic6\", \"Topic6\", \"Topic6\", \"Topic6\", \"Topic6\", \"Topic6\", \"Topic6\", \"Topic6\", \"Topic6\", \"Topic6\", \"Topic6\", \"Topic6\", \"Topic6\", \"Topic6\", \"Topic6\", \"Topic6\", \"Topic6\", \"Topic6\", \"Topic6\", \"Topic6\", \"Topic6\", \"Topic6\", \"Topic6\", \"Topic6\", \"Topic6\", \"Topic6\", \"Topic6\", \"Topic6\", \"Topic6\", \"Topic6\", \"Topic6\", \"Topic6\", \"Topic6\", \"Topic6\", \"Topic6\", \"Topic6\", \"Topic6\", \"Topic6\", \"Topic6\", \"Topic6\", \"Topic6\", \"Topic6\", \"Topic6\", \"Topic6\", \"Topic6\", \"Topic6\", \"Topic6\", \"Topic6\", \"Topic6\", \"Topic6\", \"Topic6\", \"Topic6\", \"Topic6\", \"Topic6\", \"Topic6\", \"Topic6\", \"Topic6\", \"Topic6\", \"Topic6\", \"Topic6\", \"Topic6\", \"Topic6\", \"Topic6\", \"Topic6\", \"Topic6\", \"Topic6\", \"Topic6\", \"Topic6\", \"Topic6\", \"Topic6\", \"Topic6\", \"Topic6\", \"Topic6\", \"Topic6\", \"Topic7\", \"Topic7\", \"Topic7\", \"Topic7\", \"Topic7\", \"Topic7\", \"Topic7\", \"Topic7\", \"Topic7\", \"Topic7\", \"Topic7\", \"Topic7\", \"Topic7\", \"Topic7\", \"Topic7\", \"Topic7\", \"Topic7\", \"Topic7\", \"Topic7\", \"Topic7\", \"Topic7\", \"Topic7\", \"Topic7\", \"Topic7\", \"Topic7\", \"Topic7\", \"Topic7\", \"Topic7\", \"Topic7\", \"Topic7\", \"Topic7\", \"Topic7\", \"Topic7\", \"Topic7\", \"Topic7\", \"Topic7\", \"Topic7\", \"Topic7\", \"Topic7\", \"Topic7\", \"Topic7\", \"Topic7\", \"Topic7\", \"Topic7\", \"Topic7\", \"Topic7\", \"Topic7\", \"Topic7\", \"Topic7\", \"Topic7\", \"Topic7\", \"Topic7\", \"Topic7\", \"Topic7\", \"Topic7\", \"Topic7\", \"Topic7\", \"Topic7\", \"Topic7\", \"Topic7\", \"Topic7\", \"Topic7\", \"Topic7\", \"Topic7\", \"Topic7\", \"Topic7\", \"Topic7\", \"Topic7\", \"Topic7\", \"Topic7\", \"Topic7\", \"Topic7\", \"Topic7\", \"Topic7\", \"Topic7\", \"Topic7\", \"Topic7\", \"Topic7\", \"Topic7\", \"Topic7\", \"Topic7\", \"Topic7\", \"Topic7\", \"Topic7\", \"Topic8\", \"Topic8\", \"Topic8\", \"Topic8\", \"Topic8\", \"Topic8\", \"Topic8\", \"Topic8\", \"Topic8\", \"Topic8\", \"Topic8\", \"Topic8\", \"Topic8\", \"Topic8\", \"Topic8\", \"Topic8\", \"Topic8\", \"Topic8\", \"Topic8\", \"Topic8\", \"Topic8\", \"Topic8\", \"Topic8\", \"Topic8\", \"Topic8\", \"Topic8\", \"Topic8\", \"Topic8\", \"Topic8\", \"Topic8\", \"Topic8\", \"Topic8\", \"Topic8\", \"Topic8\", \"Topic8\", \"Topic8\", \"Topic8\", \"Topic8\", \"Topic8\", \"Topic8\", \"Topic8\", \"Topic8\", \"Topic8\", \"Topic8\", \"Topic8\", \"Topic8\", \"Topic8\", \"Topic8\", \"Topic8\", \"Topic8\", \"Topic8\", \"Topic8\", \"Topic8\", \"Topic8\", \"Topic8\", \"Topic8\", \"Topic8\", \"Topic8\", \"Topic8\", \"Topic8\", \"Topic8\", \"Topic8\", \"Topic8\", \"Topic8\", \"Topic8\", \"Topic8\", \"Topic8\", \"Topic8\", \"Topic8\", \"Topic8\", \"Topic8\", \"Topic8\", \"Topic8\", \"Topic8\", \"Topic8\", \"Topic8\", \"Topic8\", \"Topic8\", \"Topic8\", \"Topic8\", \"Topic8\", \"Topic9\", \"Topic9\", \"Topic9\", \"Topic9\", \"Topic9\", \"Topic9\", \"Topic9\", \"Topic9\", \"Topic9\", \"Topic9\", \"Topic9\", \"Topic9\", \"Topic9\", \"Topic9\", \"Topic9\", \"Topic9\", \"Topic9\", \"Topic9\", \"Topic9\", \"Topic9\", \"Topic9\", \"Topic9\", \"Topic9\", \"Topic9\", \"Topic9\", \"Topic9\", \"Topic9\", \"Topic9\", \"Topic9\", \"Topic9\", \"Topic9\", \"Topic9\", \"Topic9\", \"Topic9\", \"Topic9\", \"Topic9\", \"Topic9\", \"Topic9\", \"Topic9\", \"Topic9\", \"Topic9\", \"Topic9\", \"Topic9\", \"Topic9\", \"Topic9\", \"Topic9\", \"Topic9\", \"Topic9\", \"Topic9\", \"Topic9\", \"Topic9\", \"Topic9\", \"Topic9\", \"Topic9\", \"Topic9\", \"Topic9\", \"Topic9\", \"Topic9\", \"Topic9\", \"Topic9\", \"Topic9\", \"Topic9\", \"Topic9\", \"Topic9\", \"Topic9\", \"Topic9\", \"Topic9\", \"Topic9\", \"Topic9\", \"Topic9\", \"Topic9\", \"Topic9\", \"Topic9\", \"Topic10\", \"Topic10\", \"Topic10\", \"Topic10\", \"Topic10\", \"Topic10\", \"Topic10\", \"Topic10\", \"Topic10\", \"Topic10\", \"Topic10\", \"Topic10\", \"Topic10\", \"Topic10\", \"Topic10\", \"Topic10\", \"Topic10\", \"Topic10\", \"Topic10\", \"Topic10\", \"Topic10\", \"Topic10\", \"Topic10\", \"Topic10\", \"Topic10\", \"Topic10\", \"Topic10\", \"Topic10\", \"Topic10\", \"Topic10\", \"Topic10\", \"Topic10\", \"Topic10\", \"Topic10\", \"Topic10\", \"Topic10\", \"Topic10\", \"Topic10\", \"Topic10\", \"Topic10\", \"Topic10\", \"Topic10\", \"Topic10\", \"Topic10\", \"Topic10\", \"Topic10\", \"Topic10\", \"Topic10\", \"Topic10\", \"Topic10\", \"Topic10\", \"Topic10\", \"Topic10\", \"Topic10\", \"Topic10\", \"Topic10\", \"Topic10\", \"Topic10\", \"Topic10\", \"Topic10\", \"Topic10\", \"Topic10\", \"Topic10\", \"Topic10\", \"Topic10\", \"Topic10\", \"Topic10\", \"Topic10\", \"Topic10\", \"Topic10\", \"Topic10\"], \"logprob\": [30.0, 29.0, 28.0, 27.0, 26.0, 25.0, 24.0, 23.0, 22.0, 21.0, 20.0, 19.0, 18.0, 17.0, 16.0, 15.0, 14.0, 13.0, 12.0, 11.0, 10.0, 9.0, 8.0, 7.0, 6.0, 5.0, 4.0, 3.0, 2.0, 1.0, -9.0877, -9.1321, -8.4776, -8.9539, -8.7939, -8.8243, -9.2725, -9.4453, -7.9132, -9.5782, -9.5416, -9.5414, -9.49, -8.6027, -8.3083, -9.4334, -9.4233, -9.8376, -9.1244, -9.0102, -9.1895, -8.5382, -9.2895, -9.6545, -9.9502, -9.511, -9.7094, -8.4858, -9.5364, -9.7277, -8.5312, -8.473, -8.0878, -8.5217, -7.2976, -8.7329, -8.4533, -4.5649, -6.7631, -8.1265, -8.6036, -8.5628, -8.4161, -6.7945, -6.339, -6.4378, -8.0838, -7.3574, -5.6373, -6.6357, -7.2694, -6.817, -5.5896, -7.1909, -6.2677, -7.6824, -7.0136, -6.4206, -6.5694, -6.6647, -5.4049, -6.3711, -6.5371, -5.7984, -5.1249, -5.277, -7.1363, -5.2289, -5.1669, -6.0336, -6.3196, -5.8555, -5.1208, -6.1114, -5.8354, -6.5064, -6.0114, -4.8101, -5.5353, -5.3791, -5.8731, -5.9466, -5.9152, -5.8208, -6.1598, -5.7152, -5.8208, -5.3085, -5.7639, -5.4949, -5.5052, -5.6503, -5.9097, -5.7534, -5.9324, -5.9905, -8.6834, -8.0263, -8.3349, -7.4967, -8.4661, -8.2994, -8.008, -8.5492, -7.5442, -8.7115, -8.4679, -7.3468, -7.8791, -8.5467, -7.4941, -8.9934, -8.884, -8.3989, -7.3356, -8.2984, -8.8067, -8.6917, -8.681, -9.3103, -8.9059, -8.383, -7.6329, -7.8631, -8.3991, -6.4192, -5.5284, -7.5619, -7.7696, -7.2797, -5.3502, -6.5569, -5.4448, -7.6042, -6.6082, -7.3917, -7.0908, -7.6185, -7.7495, -5.8831, -6.8611, -7.0027, -5.3981, -6.5062, -7.2379, -5.7308, -5.4894, -5.3907, -6.4132, -6.0124, -6.8641, -6.6688, -6.7136, -6.0378, -6.3877, -6.9564, -6.2896, -6.1455, -4.7754, -6.4289, -5.4299, -6.0447, -5.3118, -5.9247, -5.2476, -5.502, -5.7345, -5.7277, -5.5368, -5.869, -5.1615, -5.548, -5.4089, -5.7362, -5.7448, -5.7639, -5.8256, -5.7114, -5.6343, -5.8347, -5.892, -5.832, -7.2613, -7.6614, -7.9833, -7.1422, -7.407, -8.2227, -6.8936, -8.3368, -8.4817, -8.5814, -8.1569, -8.8576, -8.7567, -8.3972, -8.4769, -7.3551, -7.1097, -8.9995, -6.424, -7.534, -7.4916, -7.9525, -6.3904, -8.5869, -8.9089, -7.9714, -9.0145, -9.1163, -8.3749, -8.79, -7.8003, -6.787, -6.9503, -8.0218, -6.9876, -7.3542, -5.0618, -6.7305, -5.1797, -3.9025, -7.2266, -7.4371, -7.5022, -6.9185, -6.5045, -6.9652, -6.7658, -4.1402, -6.5624, -4.8563, -5.1644, -5.6764, -6.3984, -5.9911, -5.3558, -6.1691, -6.5366, -4.4125, -4.8335, -6.2934, -5.9198, -5.8889, -6.2814, -5.3015, -5.3788, -5.7383, -5.2089, -6.0752, -5.1059, -5.211, -5.3533, -5.5969, -5.4084, -5.6934, -5.7567, -5.7801, -5.7621, -5.7071, -6.0197, -5.9025, -5.954, -5.9737, -5.9043, -5.9472, -6.5443, -6.3798, -6.8541, -6.5924, -6.8822, -7.301, -6.9484, -7.0365, -7.0985, -7.2018, -7.066, -7.3589, -7.4978, -7.5654, -7.5848, -7.761, -7.5865, -7.4737, -7.6294, -6.2422, -7.7119, -7.842, -7.6413, -6.6846, -7.8284, -7.8564, -7.5372, -7.6345, -7.8849, -7.7006, -5.6783, -5.3838, -5.605, -5.7766, -6.8027, -6.0056, -7.5247, -6.5963, -5.7961, -5.5163, -6.2546, -6.2427, -6.2764, -7.0236, -6.7875, -6.1122, -6.9795, -5.0662, -5.6254, -5.1561, -5.9699, -6.5764, -4.4251, -6.1774, -6.5255, -5.2815, -6.4459, -6.0462, -6.3042, -5.5372, -5.3847, -5.4791, -4.5276, -5.309, -5.8282, -5.3632, -5.8921, -5.3386, -5.2552, -5.4491, -5.4013, -5.5218, -5.9255, -5.8026, -5.5396, -5.5097, -5.534, -5.522, -5.6567, -5.699, -7.1929, -8.0565, -7.1279, -7.9356, -7.648, -8.3025, -8.694, -8.628, -8.9586, -7.303, -7.4848, -8.8487, -8.6908, -8.4611, -8.4066, -9.1111, -7.807, -7.4919, -8.6874, -6.6422, -9.2236, -8.7585, -7.325, -8.679, -6.281, -7.5429, -6.8468, -8.8798, -7.0102, -8.8527, -7.3235, -7.2212, -4.0329, -6.7556, -7.173, -6.4621, -7.126, -7.0878, -6.2748, -5.8231, -6.8582, -7.1843, -6.2443, -6.4704, -6.0236, -5.2171, -5.815, -5.5728, -7.038, -6.8999, -6.7271, -6.7202, -6.7527, -4.5413, -6.2116, -5.7657, -5.2955, -5.0044, -5.2928, -5.1174, -4.7138, -5.5773, -5.3927, -6.5101, -6.2299, -5.735, -6.1928, -6.1931, -5.6427, -5.6633, -5.2785, -5.8237, -5.5956, -5.6812, -5.5456, -5.7337, -5.6385, -5.8417, -5.8409, -5.7134, -6.0058, -6.0124, -5.9556, -5.9388, -5.9894, -8.3168, -8.2828, -8.267, -8.4529, -7.5684, -8.915, -9.1558, -8.9653, -9.2685, -7.8611, -8.4958, -7.8581, -8.1407, -8.0244, -9.0169, -8.702, -9.168, -9.2054, -9.1548, -8.0162, -7.3884, -8.7711, -9.0439, -9.1704, -9.1856, -8.3757, -8.9384, -8.744, -9.5123, -9.6582, -6.3127, -5.7862, -6.5693, -7.1609, -7.9218, -5.9466, -7.5115, -7.6993, -8.1884, -7.1738, -5.0975, -7.7821, -6.3737, -6.3488, -7.1684, -5.9201, -7.223, -6.756, -6.5314, -6.8581, -5.7151, -6.4309, -6.781, -4.7617, -5.2475, -6.3696, -6.4845, -5.0645, -5.12, -6.4626, -5.9984, -6.5501, -6.1788, -5.762, -5.9404, -6.0133, -6.3805, -5.3043, -4.7009, -5.7472, -5.3927, -5.5509, -5.6382, -5.7867, -5.0724, -5.4674, -5.9474, -5.5079, -5.8109, -5.7117, -5.7319, -5.8848, -5.7657, -5.8556, -5.8466, -5.8195, -5.9434, -7.2442, -7.4589, -8.1587, -8.2596, -8.3653, -6.4656, -7.0415, -8.3535, -7.7224, -7.9312, -8.7043, -6.6787, -8.4909, -9.1561, -8.5275, -7.8845, -7.6375, -9.0716, -7.9227, -9.302, -8.3507, -8.477, -7.6097, -7.8792, -6.9264, -8.4494, -8.9706, -9.3364, -9.4227, -9.1661, -5.9671, -6.1352, -6.8905, -6.2873, -7.2936, -6.5628, -7.1165, -6.8758, -5.7156, -5.6307, -6.2823, -5.7645, -6.4085, -6.7799, -7.3244, -6.4684, -7.168, -6.1342, -5.0567, -5.2738, -5.336, -3.8783, -6.2558, -6.2558, -6.7631, -6.1749, -5.6437, -6.6072, -6.5654, -6.3867, -6.2519, -5.5717, -6.3121, -5.8733, -5.1927, -6.3397, -5.3596, -5.3711, -5.283, -5.7018, -5.575, -5.6208, -5.6751, -5.7727, -5.7041, -5.7764, -5.7657, -5.9819, -6.0008, -6.0235, -6.0109, -6.0765, -6.0701, -6.1162, -6.3735, -7.7094, -7.8741, -7.3594, -6.7367, -7.7705, -7.9581, -6.8662, -8.2256, -6.8993, -7.6267, -7.7209, -8.1847, -7.41, -8.3264, -7.4659, -8.058, -7.856, -8.0111, -8.4758, -8.5834, -7.8164, -8.8316, -8.4364, -8.667, -8.5922, -8.0497, -7.9121, -8.8448, -5.1109, -5.9296, -6.0711, -7.0206, -7.4807, -5.9906, -6.6975, -6.7824, -6.2032, -7.4151, -4.8986, -5.1384, -6.0297, -6.6433, -6.858, -5.6329, -5.7873, -6.8604, -5.7356, -5.2746, -6.2758, -6.8056, -6.2151, -6.1323, -7.0729, -6.0804, -6.2405, -5.3911, -5.1827, -5.9049, -6.1054, -5.1604, -5.3464, -5.0438, -6.0478, -4.9272, -5.2876, -5.9727, -4.9189, -4.8488, -5.6892, -5.4614, -5.4444, -5.8631, -5.8095, -5.8267, -5.8809, -5.9209, -5.918, -5.9293, -5.9463, -5.9535, -7.382, -7.348, -6.1341, -6.304, -7.7136, -7.2592, -6.9362, -6.5809, -8.2918, -8.3218, -6.8051, -4.7175, -8.3463, -7.0304, -7.5071, -7.8335, -8.3087, -7.5752, -6.3199, -7.0912, -8.1324, -6.7675, -6.5435, -6.701, -7.1152, -6.494, -7.0114, -7.2203, -5.7772, -8.5892, -6.736, -6.9826, -6.8719, -5.7723, -5.8959, -5.9699, -6.2824, -5.8036, -5.286, -6.7167, -6.0756, -6.0122, -5.654, -5.6857, -5.6364, -6.4581, -4.8581, -6.7554, -5.4362, -4.7948, -6.6347, -5.9283, -6.077, -5.3463, -5.8453, -6.2396, -5.3587, -6.1216, -5.8199, -6.0992, -5.6648, -5.8447, -5.8433, -5.5924, -5.6906, -5.7104, -5.7154, -5.8266, -5.6912, -5.8547, -5.8915, -5.9343, -5.8873, -6.2456, -6.7819, -5.784, -7.6884, -6.814, -6.5527, -7.4477, -5.8309, -5.7036, -7.226, -7.7973, -7.543, -6.9332, -7.4343, -8.0959, -7.3321, -7.2261, -7.6846, -7.8877, -8.6521, -7.6305, -6.8714, -8.1513, -7.9173, -7.7323, -8.139, -6.5673, -8.0556, -5.0733, -8.238, -6.3951, -6.7855, -6.1884, -7.2528, -6.0562, -3.4479, -6.9963, -6.8457, -5.9918, -6.4605, -5.9594, -5.7906, -6.1592, -5.6853, -4.87, -6.544, -6.5037, -6.4817, -5.7774, -5.715, -4.6577, -5.8309, -5.5464, -5.2665, -5.0993, -5.1635, -5.1297, -5.236, -5.6538, -5.4886, -5.4271, -5.4557, -5.887, -5.6057, -5.7115, -5.8203, -5.694, -5.8881, -5.8631, -5.905, -5.9042], \"loglift\": [30.0, 29.0, 28.0, 27.0, 26.0, 25.0, 24.0, 23.0, 22.0, 21.0, 20.0, 19.0, 18.0, 17.0, 16.0, 15.0, 14.0, 13.0, 12.0, 11.0, 10.0, 9.0, 8.0, 7.0, 6.0, 5.0, 4.0, 3.0, 2.0, 1.0, 1.7219, 1.7181, 1.7147, 1.7139, 1.7121, 1.7082, 1.7082, 1.7025, 1.7003, 1.6988, 1.6969, 1.6911, 1.6904, 1.6872, 1.6855, 1.6852, 1.6838, 1.6837, 1.68, 1.6777, 1.676, 1.6754, 1.6752, 1.6722, 1.6717, 1.6694, 1.6646, 1.6645, 1.6641, 1.6614, 1.6423, 1.6407, 1.6262, 1.6376, 1.5932, 1.6419, 1.6272, 1.3843, 1.5035, 1.5986, 1.6301, 1.6252, 1.6133, 1.4823, 1.4407, 1.4407, 1.5764, 1.4719, 1.2506, 1.345, 1.4234, 1.3411, 1.1217, 1.4001, 1.2238, 1.47, 1.3304, 1.2084, 1.2375, 1.2539, 0.9331, 1.1433, 1.172, 0.9797, 0.7905, 0.8224, 1.3181, 0.7709, 0.7021, 0.9734, 1.0482, 0.8759, 0.616, 0.9575, 0.8271, 1.1003, 0.8461, 0.1868, 0.5301, 0.4307, 0.72, 0.7584, 0.7167, 0.6101, 0.8981, 0.4371, 0.5347, -0.1183, 0.2561, -0.1498, -0.3101, -0.1617, 0.3332, -0.2381, -0.453, 0.2222, 2.0032, 2.0019, 1.9972, 1.9886, 1.9866, 1.9856, 1.9819, 1.9818, 1.9805, 1.9794, 1.9752, 1.9739, 1.9732, 1.9717, 1.9714, 1.9696, 1.9692, 1.9686, 1.967, 1.9652, 1.9646, 1.9612, 1.9574, 1.954, 1.9533, 1.9526, 1.9523, 1.9499, 1.9474, 1.9472, 1.9345, 1.9437, 1.943, 1.9323, 1.8924, 1.9112, 1.8638, 1.9298, 1.8932, 1.9197, 1.8943, 1.9228, 1.9266, 1.7665, 1.8281, 1.8411, 1.6794, 1.7763, 1.8617, 1.65, 1.5808, 1.5613, 1.6957, 1.5975, 1.7575, 1.6897, 1.6942, 1.4881, 1.5678, 1.7509, 1.4781, 1.3828, 0.7039, 1.4663, 0.8671, 1.201, 0.7081, 1.0576, 0.5622, 0.7106, 0.8379, 0.6219, 0.3786, 0.7219, -0.1646, 0.2443, -0.0638, 0.4837, 0.4076, 0.1306, 0.2457, -0.1961, -0.4441, -0.098, 0.1733, -0.6369, 2.1304, 2.1238, 2.1165, 2.1124, 2.1096, 2.1069, 2.1064, 2.1021, 2.1013, 2.1013, 2.1006, 2.0988, 2.0981, 2.0959, 2.0941, 2.0935, 2.0932, 2.0923, 2.0922, 2.0913, 2.09, 2.0894, 2.0866, 2.0863, 2.085, 2.0826, 2.0814, 2.0802, 2.0792, 2.0783, 2.07, 2.0511, 2.0503, 2.0687, 2.0431, 2.0377, 1.9205, 1.9919, 1.8854, 1.7875, 2.0111, 2.0217, 2.0063, 1.9361, 1.8645, 1.9164, 1.8813, 1.4239, 1.8273, 1.3715, 1.4265, 1.4934, 1.6572, 1.4956, 1.1127, 1.464, 1.6367, 0.5844, 0.6552, 1.4798, 1.2311, 1.1992, 1.4562, 0.6619, 0.4984, 0.8426, 0.2705, 1.1507, 0.0843, -0.0159, 0.1621, 0.2976, -0.0633, 0.3345, 0.4267, 0.4235, 0.3033, 0.0852, 0.7927, 0.2945, 0.3877, 0.4564, -0.0945, 0.0727, 2.1411, 2.1407, 2.1397, 2.1392, 2.1389, 2.1385, 2.1385, 2.1375, 2.137, 2.137, 2.1363, 2.1362, 2.1351, 2.1343, 2.1338, 2.1338, 2.1337, 2.1337, 2.1335, 2.1335, 2.1328, 2.1328, 2.1327, 2.1322, 2.1321, 2.132, 2.1319, 2.1319, 2.1319, 2.1317, 2.1272, 2.1182, 2.1176, 2.1186, 2.1284, 2.1165, 2.1317, 2.1221, 2.1138, 2.1077, 2.1173, 2.1126, 2.0993, 2.1205, 2.1131, 2.0851, 2.112, 2.01, 1.9934, 1.9001, 1.9963, 2.0521, 1.6834, 1.9682, 2.0188, 1.6684, 1.9781, 1.83, 1.9008, 1.5429, 1.3952, 1.4185, 0.8175, 1.2839, 1.5072, 0.9908, 1.3847, 0.7327, 0.5101, 0.6766, 0.3355, 0.4416, 1.3356, 0.828, -0.0509, -0.3146, -0.3437, -0.5251, -0.1414, 0.0933, 2.135, 2.1337, 2.1336, 2.1293, 2.129, 2.1207, 2.1198, 2.1168, 2.1114, 2.1106, 2.1077, 2.1057, 2.1055, 2.1051, 2.1034, 2.1018, 2.1001, 2.0984, 2.0938, 2.0935, 2.0929, 2.0897, 2.089, 2.0878, 2.0866, 2.0853, 2.0822, 2.0779, 2.075, 2.0748, 2.0718, 2.0693, 2.0249, 2.0552, 2.0603, 2.0408, 2.0576, 2.0499, 2.0142, 1.9907, 2.0152, 2.0317, 1.9396, 1.9523, 1.8876, 1.7848, 1.8556, 1.8062, 1.9787, 1.948, 1.8629, 1.8593, 1.8523, 0.9474, 1.6122, 1.3853, 1.0882, 0.8727, 0.8905, 0.7517, 0.4813, 1.0019, 0.7542, 1.6415, 1.4077, 0.9182, 1.3162, 1.2759, 0.6499, 0.5403, -0.0882, 0.6698, 0.1967, 0.3467, -0.0662, 0.1608, -0.1232, 0.4013, 0.1225, -0.7165, 0.7081, 0.7319, 0.3599, -0.202, -0.0402, 2.1628, 2.1621, 2.1611, 2.1531, 2.1434, 2.1417, 2.133, 2.1316, 2.1259, 2.1116, 2.1084, 2.1078, 2.102, 2.0964, 2.0926, 2.0913, 2.0913, 2.0869, 2.0825, 2.0722, 2.0664, 2.0653, 2.064, 2.0619, 2.0616, 2.0576, 2.0568, 2.0554, 2.0544, 2.0483, 2.0463, 2.0225, 2.0163, 2.015, 2.0348, 1.945, 2.0094, 2.0172, 2.0352, 1.9752, 1.8025, 2.0008, 1.8941, 1.8641, 1.9412, 1.7924, 1.9244, 1.8501, 1.8119, 1.8579, 1.5911, 1.719, 1.784, 1.2982, 1.4102, 1.6696, 1.6865, 1.2997, 1.2341, 1.6226, 1.4611, 1.6225, 1.4401, 1.2537, 1.3252, 1.3204, 1.5088, 0.8927, 0.4942, 1.0656, 0.6352, 0.7418, 0.8101, 0.9447, -0.0755, 0.2979, 0.7969, 0.0074, 0.5046, 0.1828, 0.1372, 0.5355, 0.0267, 0.3278, 0.0305, -0.4744, 0.1822, 2.2471, 2.2451, 2.2374, 2.2363, 2.2336, 2.2328, 2.2321, 2.231, 2.228, 2.2255, 2.205, 2.2045, 2.2045, 2.2041, 2.2019, 2.1978, 2.1978, 2.1885, 2.1882, 2.1855, 2.1834, 2.1832, 2.1819, 2.1804, 2.1802, 2.1796, 2.1795, 2.1777, 2.1758, 2.1695, 2.153, 2.1539, 2.1591, 2.1422, 2.1567, 2.1294, 2.1402, 2.1315, 2.0826, 2.0567, 2.0871, 2.0285, 2.0575, 2.0802, 2.1121, 2.0017, 2.0894, 1.9369, 1.7693, 1.7537, 1.6788, 1.3119, 1.8276, 1.8259, 1.9239, 1.6933, 1.1687, 1.7513, 1.7243, 1.5759, 1.4241, 0.6713, 1.4299, 0.9067, 0.0024, 1.4592, 0.1198, -0.026, -0.2861, 0.3261, -0.0596, -0.0566, 0.0617, 0.0196, -0.2154, -0.0111, -0.0757, 0.3336, 0.1248, 0.1801, 0.0604, 0.2791, -0.1756, 0.8167, 2.6282, 2.6264, 2.6215, 2.6213, 2.6195, 2.6171, 2.6114, 2.6075, 2.6067, 2.6065, 2.6048, 2.603, 2.6025, 2.6004, 2.5983, 2.5927, 2.5905, 2.5905, 2.5902, 2.5894, 2.5889, 2.5888, 2.5842, 2.5841, 2.5806, 2.5784, 2.5769, 2.5743, 2.574, 2.5716, 2.5601, 2.5566, 2.5607, 2.5659, 2.5159, 2.5325, 2.5082, 2.4483, 2.5282, 2.2917, 2.3069, 2.3795, 2.4254, 2.4492, 2.2761, 2.278, 2.4453, 2.2517, 2.1528, 2.279, 2.3877, 2.2212, 2.1443, 2.436, 2.0714, 2.1237, 1.7742, 1.6358, 1.8889, 1.9866, 1.2233, 1.3067, 0.8333, 1.7572, 0.5881, 0.9553, 1.6345, 0.2762, 0.1481, 1.1203, 0.018, -0.0993, 0.6285, -0.0442, -0.0344, 0.1791, 0.4207, -0.1082, -0.0602, -0.0518, 0.2501, 3.35, 3.3489, 3.3438, 3.3407, 3.3331, 3.3276, 3.3225, 3.3146, 3.3061, 3.2893, 3.2828, 3.2592, 3.2282, 3.2004, 3.1871, 3.1847, 3.1811, 3.1808, 3.1781, 3.1772, 3.176, 3.1727, 3.1615, 3.154, 3.1538, 3.145, 3.126, 3.1168, 3.1086, 3.1085, 3.0934, 3.0913, 3.0632, 2.9232, 2.9047, 2.8705, 2.9077, 2.7859, 2.6064, 2.9664, 2.703, 2.6714, 2.2742, 2.2698, 2.1574, 2.6976, 1.2018, 2.8886, 1.4966, 0.2021, 2.7269, 1.6906, 1.9094, 0.5228, 1.3201, 2.0718, 0.1566, 1.7555, 0.8378, 1.6619, 0.3552, 0.8866, 0.868, -0.2473, 0.0747, 0.0994, 0.0769, 0.466, -0.4961, 0.5762, 0.4502, 0.8786, -0.4079, 3.3564, 3.3218, 3.306, 3.2437, 3.2353, 3.2314, 3.1958, 3.1808, 3.1508, 3.1432, 3.1307, 3.098, 3.0816, 3.0493, 3.0395, 3.0298, 3.0261, 2.9224, 2.9207, 2.9118, 2.91, 2.8941, 2.892, 2.8843, 2.8762, 2.8657, 2.8628, 2.8562, 2.8498, 2.8365, 2.8356, 2.8314, 2.7891, 2.8333, 2.592, 2.1162, 2.7156, 2.6517, 2.3146, 2.4475, 2.2206, 2.099, 2.2654, 1.9643, 1.3579, 2.4518, 2.3662, 2.2949, 1.6679, 1.4753, 0.3391, 1.5322, 1.0769, 0.6969, 0.3801, 0.3252, 0.2154, 0.2793, 0.9271, 0.5392, 0.3652, 0.4215, 1.1904, 0.1596, 0.4141, 0.544, -0.4988, 0.7027, 0.2023, 0.1549, -0.0098]}, \"token.table\": {\"Topic\": [3, 6, 10, 2, 3, 6, 10, 2, 6, 7, 1, 2, 3, 4, 5, 6, 7, 8, 9, 10, 3, 4, 7, 8, 9, 1, 2, 4, 7, 1, 2, 3, 4, 5, 6, 7, 8, 9, 10, 1, 2, 3, 7, 10, 1, 2, 3, 4, 5, 6, 7, 8, 9, 10, 3, 7, 10, 1, 2, 3, 4, 5, 6, 7, 8, 9, 10, 1, 2, 4, 7, 8, 1, 2, 3, 4, 5, 6, 7, 8, 9, 10, 1, 2, 3, 4, 5, 6, 7, 8, 9, 10, 4, 7, 9, 6, 7, 1, 2, 3, 6, 7, 8, 9, 10, 1, 2, 4, 8, 1, 2, 3, 4, 6, 7, 8, 9, 10, 1, 2, 3, 4, 5, 6, 7, 8, 9, 10, 1, 2, 3, 4, 5, 6, 7, 8, 9, 10, 1, 3, 4, 5, 6, 8, 1, 2, 3, 4, 5, 6, 7, 8, 9, 10, 1, 2, 6, 8, 9, 1, 2, 3, 4, 5, 6, 7, 8, 9, 10, 1, 2, 3, 4, 5, 6, 7, 8, 9, 10, 1, 2, 3, 4, 7, 8, 9, 10, 3, 5, 6, 7, 8, 9, 10, 1, 2, 3, 4, 5, 6, 7, 8, 9, 10, 1, 2, 6, 8, 9, 1, 4, 5, 6, 8, 9, 10, 3, 7, 5, 8, 9, 1, 2, 3, 4, 3, 5, 1, 5, 6, 7, 8, 9, 10, 1, 3, 5, 6, 7, 10, 1, 5, 6, 1, 2, 3, 5, 6, 7, 8, 9, 10, 4, 8, 8, 8, 1, 5, 6, 7, 8, 9, 10, 1, 6, 9, 1, 2, 3, 5, 6, 7, 8, 9, 10, 5, 6, 1, 3, 4, 5, 6, 7, 8, 9, 10, 1, 2, 3, 4, 5, 6, 7, 8, 9, 10, 1, 2, 3, 4, 5, 6, 7, 8, 9, 10, 1, 2, 6, 7, 9, 8, 5, 8, 1, 4, 5, 6, 1, 2, 4, 5, 6, 7, 8, 9, 10, 2, 6, 1, 2, 3, 4, 5, 6, 7, 8, 9, 10, 4, 8, 9, 1, 2, 3, 4, 5, 6, 7, 8, 9, 10, 1, 2, 3, 5, 6, 7, 8, 9, 10, 1, 2, 3, 4, 5, 6, 7, 8, 9, 10, 1, 2, 3, 4, 5, 6, 7, 8, 9, 10, 1, 2, 3, 4, 5, 6, 7, 8, 9, 10, 1, 2, 3, 4, 5, 6, 7, 8, 9, 10, 1, 3, 5, 6, 7, 8, 9, 10, 2, 7, 10, 1, 2, 3, 4, 5, 6, 7, 8, 9, 10, 1, 2, 3, 4, 5, 6, 7, 8, 9, 10, 1, 2, 3, 4, 5, 6, 7, 8, 9, 10, 5, 6, 7, 8, 9, 10, 1, 2, 3, 4, 5, 6, 7, 8, 9, 10, 2, 8, 9, 10, 3, 8, 1, 2, 3, 4, 5, 6, 7, 8, 9, 10, 1, 2, 3, 4, 5, 6, 7, 8, 9, 10, 1, 2, 3, 5, 6, 7, 8, 9, 10, 1, 2, 3, 4, 7, 8, 9, 10, 4, 6, 9, 1, 2, 3, 4, 5, 6, 7, 8, 9, 10, 1, 2, 3, 4, 5, 6, 7, 8, 9, 10, 2, 7, 1, 5, 7, 5, 6, 7, 8, 1, 6, 6, 8, 9, 1, 2, 3, 6, 8, 10, 1, 3, 4, 5, 6, 7, 8, 9, 10, 1, 4, 6, 7, 8, 9, 1, 2, 6, 9, 10, 1, 2, 3, 4, 5, 6, 7, 8, 9, 10, 6, 1, 3, 4, 6, 7, 8, 9, 10, 1, 5, 6, 7, 8, 9, 10, 1, 2, 4, 7, 8, 1, 2, 3, 4, 5, 6, 7, 8, 9, 10, 6, 1, 2, 3, 4, 6, 7, 8, 10, 1, 1, 2, 3, 4, 5, 6, 7, 8, 9, 10, 1, 2, 3, 4, 5, 6, 7, 8, 9, 10, 1, 2, 3, 6, 7, 10, 1, 2, 3, 4, 5, 6, 7, 8, 9, 10, 1, 2, 4, 6, 7, 1, 2, 3, 4, 5, 6, 7, 8, 9, 10, 1, 2, 3, 4, 5, 6, 7, 8, 9, 10, 1, 2, 3, 4, 5, 6, 7, 8, 9, 10, 6, 8, 9, 10, 1, 2, 3, 4, 5, 6, 7, 8, 9, 10, 1, 2, 3, 4, 5, 6, 7, 8, 9, 10, 1, 2, 3, 4, 7, 8, 9, 10, 2, 3, 9, 10, 1, 2, 3, 4, 5, 6, 7, 8, 9, 10, 1, 2, 3, 4, 5, 6, 7, 8, 9, 10, 2, 3, 6, 10, 1, 2, 3, 7, 8, 9, 10, 2, 3, 7, 2, 10, 5, 4, 1, 2, 3, 4, 5, 6, 7, 8, 9, 10, 5, 6, 7, 8, 3, 6, 1, 2, 3, 4, 5, 6, 7, 8, 9, 10, 1, 2, 3, 4, 5, 6, 7, 8, 9, 10, 1, 3, 4, 5, 6, 7, 10, 5, 1, 6, 9, 5, 3, 3, 1, 2, 3, 4, 5, 6, 7, 8, 9, 10, 3, 1, 2, 3, 4, 5, 6, 7, 8, 9, 10, 4, 4, 1, 2, 3, 4, 5, 6, 7, 8, 9, 10, 1, 2, 3, 4, 5, 6, 7, 8, 9, 10, 4, 2, 10, 1, 2, 3, 4, 5, 6, 7, 8, 9, 10, 1, 2, 3, 4, 5, 6, 7, 8, 9, 10, 1, 2, 3, 4, 5, 6, 7, 8, 9, 10, 1, 1, 2, 3, 4, 5, 6, 7, 8, 9, 10, 5, 6, 7, 9, 1, 2, 3, 4, 5, 6, 7, 8, 9, 10, 4, 6, 1, 2, 4, 5, 6, 7, 8, 9, 1, 2, 3, 4, 5, 6, 7, 8, 9, 10, 1, 2, 3, 4, 5, 6, 7, 8, 9, 10, 1, 2, 3, 4, 5, 6, 7, 8, 9, 10, 4, 3, 5, 10, 1, 3, 5, 6, 10, 1, 2, 3, 4, 5, 6, 7, 8, 9, 10, 1, 1, 2, 3, 4, 5, 6, 7, 8, 9, 10, 1, 2, 3, 4, 5, 6, 7, 8, 9, 10, 5, 6, 1, 3, 4, 5, 6, 7, 8, 9, 10, 1, 2, 7, 8, 9, 10, 1, 4, 5, 6, 7, 8, 9, 10, 4, 5, 6, 7, 8, 9, 6, 1, 2, 4, 8, 1, 4, 6, 7, 8, 10, 1, 2, 3, 4, 5, 6, 7, 8, 9, 10, 1, 2, 3, 4, 5, 6, 7, 8, 9, 10, 1, 3, 4, 5, 6, 7, 8, 9, 10, 2, 9, 10, 1, 2, 3, 4, 5, 6, 7, 8, 9, 10, 6, 1, 2, 3, 4, 5, 6, 7, 8, 9, 10, 1, 2, 3, 4, 5, 6, 7, 8, 9, 10, 1, 4, 5, 6, 7, 8, 9, 10, 1, 2, 3, 4, 5, 6, 7, 8, 9, 10, 1, 2, 3, 4, 5, 6, 7, 8, 9, 10, 5, 8, 4, 1, 2, 9, 5, 6, 1, 2, 3, 6, 8, 9, 10, 2, 10, 1, 2, 3, 4, 5, 6, 7, 8, 9, 10, 1, 2, 3, 4, 5, 6, 7, 8, 9, 10, 9, 3, 4, 5, 7, 8, 10, 6, 8, 9, 1, 2, 3, 4, 5, 6, 7, 8, 9, 10, 1, 2, 3, 4, 5, 6, 7, 8, 9, 10, 3, 6, 1, 3, 6, 8, 1, 3, 5, 7, 9, 10, 1, 1, 2, 8, 9, 1, 2, 3, 4, 5, 6, 7, 8, 9, 10, 1, 2, 3, 4, 5, 6, 7, 8, 9, 10, 1, 2, 3, 4, 5, 6, 7, 8, 9, 10, 3, 1, 2, 3, 4, 5, 6, 7, 8, 9, 10, 1, 2, 3, 4, 5, 6, 7, 8, 9, 10, 1, 2, 5, 6, 7, 8, 9, 10, 1, 2, 3, 4, 5, 6, 7, 8, 9, 10, 1, 3, 4, 5, 6, 7, 8, 9, 10, 6, 7, 9, 4, 1, 2, 3, 4, 6, 7, 8, 9, 10, 1, 2, 3, 4, 5, 6, 7, 8, 9, 10, 6, 1, 2, 3, 5, 6, 7, 8, 1, 2, 3, 4, 5, 6, 7, 8, 9, 10, 1, 5, 6, 7, 10, 5, 5, 6, 5, 6, 8, 5, 6, 7, 9, 1, 2, 3, 4, 5, 6, 7, 8, 9, 10, 1, 2, 3, 4, 5, 6, 7, 8, 9, 10, 1, 6, 7, 9, 2, 4, 1, 2, 3, 4, 5, 6, 7, 8, 9, 10, 1, 2, 3, 4, 5, 6, 7, 8, 9, 10, 4, 6, 7, 10, 8, 9, 1, 2, 3, 4, 5, 6, 7, 8, 9, 10, 5, 6, 10, 1, 5, 6, 7, 10, 1, 5, 7, 9, 4, 9, 4, 6, 8, 9, 1, 2, 3, 7, 8, 9, 10, 1, 2, 3, 4, 5, 6, 7, 8, 9, 10, 1, 5, 7, 8, 6, 8, 5, 7, 1, 2, 3, 4, 5, 6, 7, 8, 9, 10, 3, 4, 5, 6, 7, 1, 2, 3, 4, 5, 6, 7, 8, 9, 10, 3, 5, 6, 9, 4, 1, 6, 9, 1, 2, 3, 4, 5, 6, 7, 8, 9, 10, 1, 2, 3, 4, 5, 6, 7, 8, 9, 10, 1, 3, 6, 7, 1, 3, 5, 7, 8, 1, 2, 3, 4, 5, 6, 7, 9, 10, 5, 1, 9, 1, 2, 3, 4, 5, 6, 7, 8, 9, 10, 1, 2, 3, 4, 5, 6, 7, 8, 9, 10, 1, 2, 4, 6, 7, 8, 9, 10, 1, 2, 10, 1, 5, 6, 7, 8, 10, 1, 4, 7, 9, 1, 2, 3, 4, 5, 6, 7, 8, 9, 10, 1, 2, 3, 4, 5, 6, 7, 8, 10, 1, 2, 3, 4, 5, 6, 7, 8, 9, 10, 1, 2, 3, 7, 8, 10, 1, 2, 3, 4, 7, 8, 9, 10, 1, 3, 4, 5, 6, 7, 8, 9, 10, 1, 2, 3, 4, 5, 6, 7, 8, 9, 10, 1, 7, 9, 1, 4, 5, 6, 7, 8, 9, 10, 1, 3, 4, 5, 6, 7, 8, 9, 10, 4, 5, 9, 2, 3, 1, 2, 3, 4, 5, 6, 7, 8, 9, 10, 3, 1, 2, 3, 5, 6, 7, 8, 9, 10, 1, 2, 3, 4, 5, 6, 7, 8, 9, 10, 1, 2, 3, 4, 6, 7, 8, 9, 10, 6, 8, 9, 10, 2, 5, 7, 9, 9, 1, 2, 5, 6, 7, 9, 1, 2, 5, 6, 7, 8, 9, 1, 2, 3, 4, 5, 6, 7, 8, 9, 10, 7, 1, 3, 5, 6, 7, 8, 9, 10, 4, 4, 1, 2, 3, 4, 5, 6, 7, 8, 9, 10, 1, 2, 3, 4, 5, 6, 7, 8, 9, 10, 1, 2, 3, 4, 5, 6, 7, 8, 9, 10, 1, 5, 6, 7, 8, 9, 10, 3, 3, 1, 4, 6, 7, 6, 8, 9, 10, 8, 1, 5, 7, 6, 7, 1, 2, 7, 4, 5, 7, 8, 10, 1, 2, 3, 4, 5, 6, 7, 8, 9, 10, 1, 2, 8, 9, 1, 2, 3, 4, 5, 6, 7, 8, 9, 10, 1, 4, 1, 6, 9, 6, 1, 1, 2, 3, 4, 5, 6, 7, 8, 9, 10, 3, 1, 2, 3, 4, 5, 6, 7, 8, 9, 10, 1, 2, 3, 4, 5, 6, 7, 8, 9, 10, 5, 1, 2, 3, 4, 5, 6, 7, 8, 9, 10, 1, 2, 3, 5, 6, 7, 8, 9, 10, 1, 2, 3, 4, 5, 6, 7, 8, 9, 10, 7, 8, 10, 1, 2, 3, 4, 5, 6, 7, 8, 9, 10, 2, 3, 8, 9, 10, 1, 3, 4, 6, 7, 9, 1, 2, 3, 4, 5, 6, 7, 8, 9, 10, 1, 2, 3, 4, 5, 6, 7, 8, 9, 1, 1, 4, 6, 7, 8, 1, 2, 3, 4, 5, 6, 7, 8, 9, 10, 6, 7, 1, 3, 5, 6, 7, 8, 9, 10, 5, 7, 1, 3, 5, 6, 7, 9, 10, 5, 7, 1, 5, 7, 9, 1, 2, 3, 4, 5, 6, 7, 8, 9, 10, 1, 7, 1, 2, 3, 4, 5, 6, 7, 8, 9, 10, 8, 6, 1, 2, 4, 6, 7, 8, 10, 1, 2, 3, 4, 5, 6, 7, 8, 9, 10, 1, 2, 3, 5, 6, 7, 8, 10, 1, 1, 2, 3, 4, 5, 6, 7, 8, 9, 10, 1, 2, 3, 4, 5, 6, 7, 8, 9, 10, 1, 2, 3, 4, 5, 6, 7, 8, 9, 10, 1, 1, 2, 5, 8, 9, 1, 2, 4, 5, 6, 7, 8, 9, 10, 1, 2, 7, 9, 10, 1, 9, 1, 2, 9, 1, 4, 7, 5, 6, 8, 9, 3, 6, 7, 10, 8, 1, 3, 6, 7, 8, 10, 2, 7, 9, 10, 1, 2, 5, 6, 2, 1, 2, 3, 4, 5, 6, 7, 8, 9, 10, 1, 2, 3, 4, 5, 6, 7, 8, 9, 10, 6, 8, 1, 3, 6, 7, 10, 1, 2, 1, 1, 2, 3, 4, 5, 6, 7, 8, 9, 10, 1, 2, 3, 4, 6, 7, 10, 1, 2, 3, 4, 5, 6, 7, 8, 9, 10, 1, 2, 3, 4, 5, 6, 7, 8, 9, 6, 1, 2, 3, 4, 5, 6, 7, 8, 9, 10, 1, 2, 3, 4, 6, 7, 8, 9, 10, 6, 9, 1, 2, 3, 4, 5, 6, 7, 8, 9, 10, 1, 2, 3, 4, 5, 7, 8, 9, 10, 7, 9, 4, 5, 6, 1, 3, 4, 5, 6, 8, 2, 3, 7, 10, 1, 2, 3, 4, 5, 6, 7, 8, 9, 10, 6, 9, 1, 2, 3, 4, 5, 6, 7, 8, 9, 10, 1, 2, 3, 4, 5, 6, 7, 8, 9, 10, 1, 4, 5, 6, 7, 8, 10, 1, 1, 2, 3, 4, 5, 6, 7, 8, 9, 10, 5, 6, 7, 8, 9, 1, 2, 3, 4, 5, 6, 7, 8, 9, 10, 1, 2, 3, 4, 5, 6, 7, 8, 9, 10, 1, 2, 3, 4, 5, 6, 7, 8, 9, 10, 8, 1, 2, 3, 4, 5, 6, 7, 8, 9, 10, 1, 8, 9, 1, 2, 3, 4, 5, 6, 7, 8, 9, 10, 1, 2, 4, 10, 1, 2, 3, 4, 5, 6, 7, 8, 9, 10, 5, 6, 1, 2, 3, 4, 5, 6, 7, 8, 9, 10, 1, 2, 3, 4, 5, 6, 7, 8, 9, 10, 1, 5, 6, 7, 8, 9, 1, 3, 4, 5, 6, 7, 8, 9, 10, 1, 2, 3, 4, 5, 6, 7, 8, 10, 1, 1, 2, 5, 6, 7, 8, 9, 1, 2, 3, 4, 5, 6, 7, 8, 9, 10, 1, 7, 8, 9, 1, 5, 6, 7, 8, 9, 1, 2, 3, 4, 5, 6, 7, 8, 9, 10, 1, 2, 3, 4, 5, 6, 7, 8, 9, 10, 4, 1, 4, 5, 6, 8, 9, 1, 2, 3, 4, 5, 6, 7, 8, 9, 10, 3, 1, 3, 5, 6, 7, 9, 5, 8, 9, 1, 2, 3, 4, 5, 6, 7, 8, 9, 10, 1, 2, 3, 7, 8, 10, 1, 2, 3, 4, 5, 6, 7, 8, 9, 10, 1, 2, 3, 5, 6, 7, 9, 10, 4, 8, 9, 10, 8, 4, 5, 6, 9, 1, 2, 3, 6, 7, 8, 5, 1, 2, 3, 4, 5, 6, 7, 8, 9, 10, 1, 2, 4, 5, 6, 7, 8, 9, 10, 1, 3, 5, 6, 7, 8, 1, 2, 3, 4, 5, 6, 7, 8, 9, 10, 1, 2, 8, 1, 3, 7, 3, 6, 7, 10, 6, 1, 7, 8, 9, 1, 2, 3, 4, 5, 6, 7, 8, 9, 10, 1, 1, 2, 3, 4, 5, 6, 7, 8, 9, 10, 5, 7, 9, 1, 3, 4, 6, 7, 8, 9, 10, 1, 2, 3, 6, 7, 8, 9, 10, 1, 4, 5, 6, 7, 8, 9, 10, 1, 2, 3, 4, 5, 6, 7, 8, 9, 10, 1, 2, 3, 4, 5, 6, 7, 8, 9, 10, 7, 7, 5, 7, 1, 2, 3, 4, 6, 7, 8, 9, 1, 2, 6, 7, 2, 9, 10, 1, 2, 3, 4, 6, 7, 8, 10, 8, 10, 8, 10, 2, 3, 4, 6, 7, 8, 9, 1, 2, 8, 9, 1, 2, 4, 5, 3, 5, 6, 7, 8, 9, 10, 1, 2, 3, 7, 10, 8, 1, 2, 3, 4, 5, 6, 7, 8, 9, 10, 1, 2, 3, 4, 5, 6, 7, 8, 9, 10, 1, 2, 3, 4, 5, 6, 7, 8, 9, 10, 1, 2, 3, 4, 5, 6, 7, 9, 10, 1, 2, 3, 4, 5, 6, 7, 8, 9, 10, 5, 6, 9, 2, 9, 10, 1, 4, 6, 10, 1, 4, 5, 7, 8, 1, 2, 3, 4, 5, 6, 7, 8, 9, 10, 1, 2, 3, 7, 9, 10, 1, 2, 3, 4, 5, 6, 7, 8, 9, 10, 1, 4, 6, 7, 8, 9, 10, 2, 3, 5, 6, 7, 8, 9, 10, 1, 4, 5, 6, 7, 10, 5, 6, 2, 3, 4, 6, 8, 9, 10, 9, 1, 2, 3, 4, 5, 6, 7, 8, 10, 6, 1, 4, 5, 6, 7, 8, 9, 10, 5, 8, 1, 2, 3, 4, 5, 6, 7, 8, 9, 10, 1, 3, 4, 5, 6, 7, 8, 9, 10, 7, 1, 2, 3, 6, 8, 6, 8, 9, 1, 2, 3, 4, 5, 6, 7, 8, 9, 10, 1, 2, 8, 7, 8, 1, 5, 6, 8, 9, 10, 3, 2, 3, 5, 6, 10, 4, 3, 5, 1, 2, 3, 4, 5, 6, 7, 8, 9, 1, 2, 3, 4, 5, 6, 7, 8, 9, 10, 1, 2, 3, 4, 5, 6, 7, 8, 9, 10, 1, 2, 3, 4, 5, 6, 7, 8, 9, 10, 1, 2, 3, 4, 5, 6, 7, 8, 9, 10, 1, 2, 3, 4, 5, 6, 7, 8, 9, 10, 1, 2, 3, 4, 5, 6, 7, 8, 9, 10, 1, 2, 3, 4, 5, 6, 7, 8, 9, 10, 1, 2, 3, 4, 7, 9, 10, 8, 9, 1, 3, 4, 5, 6, 7, 8, 9, 10, 1, 3, 4, 5, 6, 8, 9, 3, 5, 6, 7, 8, 9, 10, 4, 5, 6, 3, 7, 8, 6, 8, 9, 1, 2, 3, 4, 5, 6, 7, 8, 9, 10, 3, 5, 1, 5, 7, 5, 6, 1, 4, 1, 2, 3, 4, 5, 6, 7, 8, 9, 10, 1, 2, 3, 4, 5, 6, 7, 8, 9, 10, 1, 2, 3, 1, 2, 7, 8, 9, 10, 1, 3, 4, 5, 6, 8, 9, 5, 6, 8, 9, 1, 2, 5, 8, 9, 1, 2, 3, 4, 5, 6, 7, 8, 9, 10, 5, 6, 8, 9, 1, 4, 8, 1, 2, 3, 4, 5, 6, 7, 8, 9, 10, 1, 6, 9, 1, 4, 5, 6, 7, 8, 1, 2, 3, 4, 5, 6, 7, 8, 10, 1, 2, 3, 4, 5, 6, 7, 8, 9, 10, 1, 2, 3, 4, 5, 6, 7, 8, 9, 10, 1, 2, 3, 4, 5, 6, 7, 8, 9, 10, 5, 1, 4, 4, 5, 8, 9, 10, 1, 2, 6, 2, 3, 7, 1, 2, 3, 4, 5, 6, 7, 8, 9, 10, 1, 2, 4, 5, 6, 7, 8, 10, 1, 8, 7, 8, 9, 1, 2, 3, 4, 5, 6, 7, 8, 9, 10, 5, 9, 1, 2, 4, 5, 6, 7, 8, 9, 10, 1, 2, 3, 4, 5, 6, 7, 8, 9, 10, 8, 1, 2, 3, 4, 5, 6, 7, 8, 9, 10, 1, 2, 3, 4, 5, 6, 7, 8, 9, 10, 7, 1, 2, 3, 4, 5, 6, 7, 8, 9, 10, 2, 3, 6, 10, 1, 2, 3, 4, 5, 6, 7, 8, 9, 10, 1, 2, 3, 5, 6, 7, 8, 9, 4, 5, 6, 1, 5, 6, 8, 1, 2, 3, 4, 5, 6, 7, 8, 9, 10, 5, 7, 5, 6, 8, 2, 7, 9, 1, 3, 4, 5, 6, 7, 8, 9, 10, 1, 4, 5, 6, 7, 8, 9, 10, 4, 7, 1, 2, 3, 4, 7, 9, 10, 2, 3, 5, 7, 9, 1, 2, 7, 10, 1, 2, 3, 4, 5, 6, 7, 8, 9, 10, 5, 6, 7, 1, 2, 3, 4, 5, 6, 7, 8, 9, 10, 1, 2, 3, 4, 6, 7, 8, 9, 10, 4, 7, 8, 9, 9, 2, 10, 1, 2, 5, 6, 7, 8, 9, 4, 10, 1, 2, 3, 5, 6, 7, 8, 9, 1, 2, 3, 4, 5, 6, 7, 8, 9, 10, 1, 2, 4, 5, 6, 7, 8, 9, 10, 2, 3, 6, 10, 1, 2, 4, 5, 6, 7, 8, 9, 10, 1, 4, 5, 6, 7, 8, 10, 1, 1, 4, 5, 6, 7, 8, 9, 6, 1, 2, 3, 5, 6, 7, 8, 1, 3, 4, 5, 6, 7, 8, 9, 10, 1, 3, 4, 5, 6, 7, 8, 9, 10, 1, 4, 6, 7, 10, 1, 2, 3, 4, 5, 6, 7, 8, 9, 10, 1, 2, 3, 4, 1, 5, 6, 7, 8, 9, 1, 2, 6, 9, 1, 3, 4, 5, 6, 7, 8, 9, 10, 1, 2, 3, 4, 6, 7, 8, 10, 2, 3, 6, 10, 1, 2, 3, 4, 5, 6, 7, 8, 9, 10, 1, 2, 3, 4, 5, 6, 7, 8, 9, 10, 4, 1, 5, 6, 8, 9, 10, 3, 1, 2, 3, 4, 5, 6, 7, 8, 9, 10, 1, 2, 3, 4, 5, 6, 7, 8, 9, 10, 1, 3, 4, 5, 6, 7, 1, 2, 3, 4, 5, 6, 7, 8, 9, 10, 1, 2, 3, 4, 5, 6, 7, 8, 9, 10, 4, 6, 1, 3, 5, 6, 1, 3, 5, 7, 1, 3, 5, 6, 7, 8, 9, 10, 1, 2, 3, 4, 5, 6, 7, 8, 9, 10, 1, 2, 3, 4, 5, 6, 7, 8, 9, 10, 1, 5, 6, 7, 9, 1, 6, 8, 1, 2, 3, 4, 5, 6, 7, 8, 9, 10, 2, 6, 7, 8, 1, 2, 3, 4, 5, 6, 7, 8, 9, 10, 1, 2, 3, 4, 5, 6, 7, 8, 9, 10, 8, 4, 1, 2, 3, 4, 5, 6, 7, 8, 9, 10, 1, 2, 3, 4, 5, 6, 7, 8, 9, 10, 1, 2, 3, 4, 5, 6, 7, 8, 9, 10, 4, 4, 1, 2, 4, 6, 7, 10, 2, 3, 4, 5, 6, 10, 3, 2, 7, 9, 1, 2, 3, 4, 5, 6, 7, 8, 9, 10, 2, 7, 10, 7, 1, 2, 3, 5, 6, 7, 8, 10, 1, 2, 3, 4, 5, 6, 7, 8, 9, 10, 7, 1, 3, 5, 6, 7, 8, 9, 10, 1, 5, 6, 7, 7, 7, 3, 1, 2, 3, 4, 5, 6, 7, 8, 9, 10, 1, 2, 3, 4, 5, 6, 7, 8, 9, 10, 1, 2, 3, 4, 5, 6, 7, 8, 9, 10, 1, 4, 7, 4, 1, 2, 3, 4, 5, 6, 7, 8, 9, 10, 1, 2, 3, 4, 5, 6, 7, 8, 9, 10, 2, 3, 4, 5, 6, 9, 5, 9, 1, 2, 3, 4, 5, 6, 7, 8, 9, 10, 1, 2, 3, 8, 1, 2, 3, 4, 5, 7, 8, 9, 10, 1, 2, 3, 4, 5, 6, 7, 8, 9, 10, 1, 2, 3, 4, 5, 6, 7, 8, 9, 10, 1, 2, 3, 4, 5, 6, 7, 8, 9, 10, 1, 4, 6, 7, 8, 9, 10, 1, 2, 3, 7, 8, 9, 10, 1, 2, 3, 4, 5, 6, 7, 8, 9, 10, 2, 3, 4, 6, 10, 1, 2, 3, 4, 5, 6, 7, 8, 9, 10, 1, 2, 3, 4, 5, 6, 7, 8, 9, 10, 1, 2, 3, 4, 5, 6, 7, 8, 9, 10, 1, 2, 3, 4, 5, 6, 7, 8, 9, 10, 1, 1, 3, 6, 9, 1, 2, 3, 4, 5, 6, 7, 8, 9, 10, 1, 5, 6, 7, 8, 10, 1, 3, 5, 6, 7, 8, 2, 3, 6, 7, 3, 5, 6, 7, 1, 9, 1, 2, 3, 4, 5, 6, 7, 8, 9, 10, 1, 2, 3, 4, 5, 6, 7, 8, 9, 10], \"Freq\": [0.11113620375888729, 0.03704540125296243, 0.8149988275651735, 0.12567168945475615, 0.16756225260634153, 0.04189056315158538, 0.6493037288495734, 0.04416417873161734, 0.8832835746323467, 0.04416417873161734, 0.006457785637651437, 0.0016144464094128592, 0.022602249731780027, 0.0016144464094128592, 0.21472137245191025, 0.2357091757742774, 0.4455872089979491, 0.05650562432945007, 0.006457785637651437, 0.009686678456477154, 0.955211804524354, 0.9853520599797738, 0.006569013733198493, 0.9345579947982431, 0.02279409743410349, 0.004102406234069357, 0.004102406234069357, 0.9886799024107151, 0.004102406234069357, 0.02737249950590908, 0.007820714144545451, 0.03519321365045453, 0.011731071216818177, 0.01955178536136363, 0.28154570920363625, 0.003910357072272726, 0.11340035509590904, 0.4887946340340907, 0.015641428289090903, 0.009068030944997323, 0.9340071873347243, 0.009068030944997323, 0.02720409283499197, 0.009068030944997323, 0.013230435943602787, 0.0033076089859006967, 0.9492837789534999, 0.00992282695770209, 0.006615217971801393, 0.0033076089859006967, 0.0033076089859006967, 0.0033076089859006967, 0.0033076089859006967, 0.00992282695770209, 0.943020442155416, 0.015210007131538968, 0.015210007131538968, 0.14126028973396343, 0.3702731836966011, 0.11414972907795025, 0.07633763132087923, 0.08917947584214864, 0.020689638395378483, 0.08061824616130236, 0.027823996462750373, 0.015695587748218158, 0.06420922260634701, 0.006197798869652236, 0.006197798869652236, 0.9668566236657488, 0.006197798869652236, 0.006197798869652236, 0.11612123967229264, 0.30594171814588556, 0.11432369726250484, 0.0708231709456398, 0.0708231709456398, 0.10461696824965065, 0.10749303610531115, 0.04242200087099236, 0.0334342888220533, 0.034153305785968424, 0.39988734256369923, 0.13350569547008542, 0.05793643388324462, 0.04849027618488951, 0.04912002003144652, 0.1309867200838574, 0.06801233542815673, 0.029597960788179313, 0.06801233542815673, 0.01511385231736816, 0.9767090444525395, 0.005008764330525843, 0.005008764330525843, 0.04606988581759804, 0.9213977163519609, 0.008922103947696948, 0.03568841579078779, 0.8743661868743009, 0.008922103947696948, 0.008922103947696948, 0.008922103947696948, 0.008922103947696948, 0.05353262368618169, 0.8911081441104112, 0.02121686057405741, 0.02121686057405741, 0.04243372114811482, 0.004171342378841479, 0.75223207565108, 0.004171342378841479, 0.0013904474596138261, 0.0013904474596138261, 0.0055617898384553045, 0.0013904474596138261, 0.004171342378841479, 0.22664293591705367, 0.010327843810720005, 0.05827854721763431, 0.09295059429648005, 0.011065546940057147, 0.09811451620184004, 0.39172036167802304, 0.0272950157854743, 0.1608192821954972, 0.06713098476968003, 0.0818850473564229, 0.013965807442198705, 0.038405970466046435, 0.00872862965137419, 0.09950637802566577, 0.041897422326596115, 0.23567300058710314, 0.043643148256870955, 0.3072477637283715, 0.19552130419078187, 0.01745725930274838, 0.008403232954090694, 0.9495653238122483, 0.008403232954090694, 0.016806465908181387, 0.008403232954090694, 0.008403232954090694, 0.013758518448019426, 0.00917234563201295, 0.0022930864080032377, 0.004586172816006475, 0.055034073792077705, 0.6237195029768806, 0.004586172816006475, 0.18573999904826224, 0.09630962913613599, 0.004586172816006475, 0.1721583536557969, 0.012297025261128351, 0.012297025261128351, 0.049188101044513405, 0.7501185409288295, 0.016393653793230826, 0.011709752709450589, 0.03512925812835177, 0.004683901083780235, 0.07025851625670354, 0.6042232398076504, 0.2107755487701106, 0.014051703251340707, 0.0023419505418901176, 0.03278730758646165, 0.003460985159275387, 0.8894731859337744, 0.047300130510096954, 0.0011536617197584623, 0.0011536617197584623, 0.0011536617197584623, 0.008075632038309235, 0.0011536617197584623, 0.003460985159275387, 0.04383914535082157, 0.02521700197718818, 0.8699865682129923, 0.009456375741445568, 0.0031521252471485225, 0.006304250494297045, 0.0031521252471485225, 0.022064876730039658, 0.06304250494297045, 0.0036976954518694667, 0.018488477259347335, 0.014790781807477867, 0.0036976954518694667, 0.9096330811598888, 0.029581563614955734, 0.018488477259347335, 0.39226293381162786, 0.17462695996633895, 0.06891805838434148, 0.03627266230754815, 0.10933616781275228, 0.07565440995574328, 0.07928167618649809, 0.03057267251636201, 0.013472703142803598, 0.019690873824097566, 0.24177610010618159, 0.043959290928396656, 0.07912672367111398, 0.013187787278518995, 0.6154300729975531, 0.003438018983995693, 0.003438018983995693, 0.058446322727926776, 0.024066132887969847, 0.6876037967991385, 0.21659519599172863, 0.003438018983995693, 0.017060283128016364, 0.9553758551689164, 0.005374866154646534, 0.9782256401456693, 0.010749732309293068, 0.07376191773741808, 0.8759227731318397, 0.00922023971717726, 0.01844047943435452, 0.9436576980690382, 0.028595687820273885, 0.01631974391617291, 0.8845301202565716, 0.026111590265876655, 0.048959231748518725, 0.009791846349703745, 0.003263948783234582, 0.006527897566469164, 0.014993940179088464, 0.004997980059696154, 0.9246263110437886, 0.04498182053726539, 0.004997980059696154, 0.004997980059696154, 0.01623471363611541, 0.9253786772585786, 0.040586784090288534, 0.04424329302159147, 0.0016386404822811653, 0.004915921446843496, 0.842261207892519, 0.0852093050786206, 0.009831842893686993, 0.0032772809645623307, 0.0016386404822811653, 0.008193202411405826, 0.9797249401216809, 0.9670841479242928, 0.953797836424117, 0.9560973101087981, 0.008925737434346472, 0.026777212303039415, 0.017851474868692943, 0.008925737434346472, 0.8033163690911824, 0.09818311177781118, 0.017851474868692943, 0.015925358205257735, 0.07962679102628868, 0.907745417699691, 0.006317025265501679, 0.006317025265501679, 0.037902151593010074, 0.044219176858511754, 0.12318199267728275, 0.767518569758454, 0.0031585126327508396, 0.0031585126327508396, 0.006317025265501679, 0.9756916107224911, 0.014896055125534215, 0.0022976220478851503, 0.004595244095770301, 0.0022976220478851503, 0.36302428356585376, 0.041357196861932705, 0.013785732287310903, 0.5606197796839767, 0.011488110239425753, 0.0022976220478851503, 0.017264833237441542, 0.0274206174947601, 0.35748360585761313, 0.5250540461033693, 0.008124627405854843, 0.0030467352771955665, 0.04468545073220164, 0.0010155784257318554, 0.0030467352771955665, 0.012186941108782266, 0.6950839508270285, 0.15683945557122694, 0.007129066162328497, 0.0035645330811642484, 0.0035645330811642484, 0.02138719848698549, 0.007129066162328497, 0.014258132324656994, 0.08911332702910621, 0.0035645330811642484, 0.9355631153049091, 0.01949089823551894, 0.01949089823551894, 0.01949089823551894, 0.01949089823551894, 0.9404608649599066, 0.06112072961226141, 0.9168109441839212, 0.00811480282124283, 0.00811480282124283, 0.9494319300854112, 0.03245921128497132, 0.0573133969321918, 0.015082472876892579, 0.8416019865306059, 0.009049483726135546, 0.003016494575378516, 0.05429690235681328, 0.009049483726135546, 0.006032989150757032, 0.003016494575378516, 0.05076911448834526, 0.8630749463018693, 0.01498092780764757, 0.005707020117199074, 0.7982694388932206, 0.04636953845224248, 0.003566887573249422, 0.06563073134778936, 0.044942783422942716, 0.007133775146498844, 0.002853510058599537, 0.010700662719748264, 0.9890983014847623, 0.9728990483550198, 0.01430733894639735, 0.01395343542199234, 0.015697614849741384, 0.05930210054346744, 0.7255786419436017, 0.08023225367645595, 0.02790687084398468, 0.05058120340472223, 0.00697671771099617, 0.010465076566494255, 0.012209255994243298, 0.007037645502873544, 0.009383527337164726, 0.025804700177202995, 0.31903992946360066, 0.5653575220641747, 0.03987999118295008, 0.011729409171455906, 0.014075291005747089, 0.004691763668582363, 0.13581588313053472, 0.02716317662610694, 0.1327977523943006, 0.0030181307362341044, 0.021126915153638733, 0.12374336018559828, 0.23843232816249427, 0.0030181307362341044, 0.006036261472468209, 0.3078493350958787, 0.011835813649120758, 0.04931589020466983, 0.07101488189472455, 0.001972635608186793, 0.1726056157163444, 0.5483926990759285, 0.011835813649120758, 0.03649375875145567, 0.03452112314326888, 0.062138021657883985, 0.11790966815808265, 0.16438501181163348, 0.12938506165278657, 0.24213080273825244, 0.09094249344552846, 0.06426220357034189, 0.10987689271178991, 0.04418026495461005, 0.012622932844174298, 0.024385211176245803, 0.5380707636429035, 0.16518650983168146, 0.09473932181522907, 0.007287640139633005, 0.07287640139633005, 0.02672134717865435, 0.04494044752773686, 0.03400898731828736, 0.00850224682957184, 0.00850224682957184, 0.07643440128530858, 0.002635669009838227, 0.015814014059029362, 0.002635669009838227, 0.8908561253253208, 0.002635669009838227, 0.002635669009838227, 0.005271338019676454, 0.9307945527425368, 0.02449459349322465, 0.02449459349322465, 0.06967187971166434, 0.16408704380691042, 0.12740620994002172, 0.12762325629426366, 0.13999489848605454, 0.11481752139398892, 0.10548452816158528, 0.06815255523197074, 0.03646378751264676, 0.0457967807450504, 0.04275919931730291, 0.13911795834221088, 0.08551839863460582, 0.010840360390302147, 0.13369777814705983, 0.32460856946515876, 0.08792736761022853, 0.05299731746369939, 0.0813027029272661, 0.04095247258558589, 0.0902385938646299, 0.05880717352975881, 0.10646126242456336, 0.08111334279966732, 0.13586484918944278, 0.41874763220328254, 0.0243340028399002, 0.056779339959767125, 0.0121670014199501, 0.016222668559933463, 0.031986747762659834, 0.8380527913816876, 0.05117879642025574, 0.0383840973151918, 0.006397349552531967, 0.02558939821012787, 0.2696321917651284, 0.09239145032511394, 0.03205417664340687, 0.44215908369875956, 0.0103704689140434, 0.022626477630640147, 0.09427699012766728, 0.01979816792681013, 0.007542159210213383, 0.009427699012766728, 0.16880245557123483, 0.04220061389280871, 0.04220061389280871, 0.7385107431241523, 0.02729346577273156, 0.927977836272873, 0.060553341414715516, 0.16495565419870778, 0.21402474120718415, 0.0020880462556798454, 0.1378110528748698, 0.19210025552254578, 0.048025063880636445, 0.01148425440623915, 0.020880462556798454, 0.1472072610254291, 0.055788695538809274, 0.047205819302069386, 0.27894347769404637, 0.025748628710219663, 0.017165752473479776, 0.055788695538809274, 0.16736608661642782, 0.004291438118369944, 0.030040066828589607, 0.31756642075937586, 0.03004013059895433, 0.008582894456844094, 0.006437170842633071, 0.10514045709634015, 0.15020065299477164, 0.6437170842633071, 0.004291447228422047, 0.01716578891368819, 0.03218585421316535, 0.08892350222842565, 0.8299526874653061, 0.011856466963790087, 0.005928233481895044, 0.029641167409475217, 0.005928233481895044, 0.01778470044568513, 0.011856466963790087, 0.06448820130087651, 0.9028348182122713, 0.03224410065043826, 0.193173410527635, 0.042403919384115, 0.01884618639294, 0.014134639794705, 0.03769237278588, 0.230865783313515, 0.032980826187645, 0.04711546598235, 0.042403919384115, 0.33923135507292, 0.1568414943296736, 0.010597398265518485, 0.002119479653103697, 0.019075316877933273, 0.04662855236828133, 0.008477918612414788, 0.7185036024021533, 0.008477918612414788, 0.02967271514345176, 0.002119479653103697, 0.9313274000105781, 0.029103981250330566, 0.02474206583133034, 0.02474206583133034, 0.9278274686748877, 0.050012276285914155, 0.9002209731464548, 0.050012276285914155, 0.9613530431546379, 0.021868870476334932, 0.9512958657205696, 0.03106613533823379, 0.12426454135293516, 0.8077195187940786, 0.016107082653806785, 0.02684513775634464, 0.9073656561644489, 0.02684513775634464, 0.005369027551268928, 0.005369027551268928, 0.13166943362349917, 0.006269973029690437, 0.12539946059380871, 0.10658954150473741, 0.08150964938597567, 0.012539946059380873, 0.01880991908907131, 0.5015978423752349, 0.006269973029690437, 0.068695005496707, 0.0137390010993414, 0.0549560043973656, 0.0137390010993414, 0.041217003298024205, 0.8106010648611426, 0.009633837884118326, 0.9055807611071226, 0.009633837884118326, 0.048169189420591625, 0.019267675768236653, 0.7236875670857483, 0.07866169207453785, 0.06292935365963029, 0.026220564024845953, 0.006992150406625587, 0.019228413618220364, 0.017480376016563968, 0.008740188008281984, 0.05069309044803551, 0.0034960752033127936, 0.9609968708987695, 0.014370604310955907, 0.005748241724382363, 0.9484598845230899, 0.0028741208621911817, 0.011496483448764727, 0.0028741208621911817, 0.0028741208621911817, 0.005748241724382363, 0.007174793052568472, 0.9111987176761959, 0.007174793052568472, 0.014349586105136944, 0.04304875831541083, 0.007174793052568472, 0.007174793052568472, 0.002874150458743854, 0.005748300917487708, 0.9829594568903981, 0.002874150458743854, 0.002874150458743854, 0.025954765826409355, 0.0017303177217606238, 0.0017303177217606238, 0.0017303177217606238, 0.2837721063687423, 0.07440366203570682, 0.5623532595722027, 0.012112224052324367, 0.03114571899169123, 0.006921270887042495, 0.9526059587424162, 0.005632299015311695, 0.0028161495076558475, 0.0028161495076558475, 0.9631231316182999, 0.0028161495076558475, 0.005632299015311695, 0.0028161495076558475, 0.014080747538279237, 0.886179326428687, 0.02227345059531948, 0.042740945736964416, 0.258251629875461, 0.009029777268372762, 0.10715335691802345, 0.11076526782537256, 0.33289778862734254, 0.06320844087860934, 0.007223821814698211, 0.04635285664431352, 0.025322353369741795, 0.035984396893843605, 0.3131975285204906, 0.021324087048203617, 0.001332755440512726, 0.16792718550460348, 0.002665510881025452, 0.36117672437894877, 0.002665510881025452, 0.06930328290666175, 0.012582826823062238, 0.9311291849066056, 0.012582826823062238, 0.012582826823062238, 0.012582826823062238, 0.012582826823062238, 0.12199867781889796, 0.028974685981988265, 0.04574950418208673, 0.17232313241919336, 0.12657362823710663, 0.039649570291141835, 0.43309530625708775, 0.015249834727362245, 0.015249834727362245, 0.004574950418208674, 0.00809797210247076, 0.00404898605123538, 0.9717566522964911, 0.00404898605123538, 0.00809797210247076, 0.11611897469719729, 0.7407589765166034, 0.03203282060612339, 0.008008205151530848, 0.004004102575765424, 0.03203282060612339, 0.012012307727296272, 0.012012307727296272, 0.024024615454592543, 0.02002051287882712, 0.21412923009112364, 0.2617135034447067, 0.08459426373970316, 0.07302864174404063, 0.061463019748378075, 0.1087168467592279, 0.07501131980043992, 0.055184539236446985, 0.03502731232972084, 0.031061956216922256, 0.04300214673840665, 0.5700856024748768, 0.10074788664426702, 0.017200858695362663, 0.011057694875590282, 0.12409190915940206, 0.03685898291863428, 0.006143163819772379, 0.008600429347681331, 0.08231839518494988, 0.02680473050045829, 0.24124257450412462, 0.13402365250229145, 0.5628993405096241, 0.6566515980194662, 0.043930916768907945, 0.023121535141530498, 0.11560767570765249, 0.03468230271229575, 0.030057995683989647, 0.06011599136797929, 0.02543368865568355, 0.011560767570765249, 0.00231215351415305, 0.06164168289188349, 0.1625594823166485, 0.2029266020865545, 0.05127715214015086, 0.23347469272324012, 0.07909773468427526, 0.1287383819688894, 0.038185113295857026, 0.008728025896195892, 0.03382110034775908, 0.11474493426462927, 0.8123941345935752, 0.018359189482340683, 0.004589797370585171, 0.022948986852925856, 0.018359189482340683, 0.004589797370585171, 0.004589797370585171, 0.9112138277106344, 0.018983621410638217, 0.018983621410638217, 0.018983621410638217, 0.16298896840962676, 0.06311349275742034, 0.1571330773290414, 0.13110689474866186, 0.13045624018415236, 0.27294958981173023, 0.01203710944342553, 0.02960478268518171, 0.012362436725680274, 0.028303473556162733, 0.09677978185005517, 0.042430544751994634, 0.19260606831242508, 0.0748493879332939, 0.31322323485461206, 0.1916525729247398, 0.007151215407639545, 0.040046806282781455, 0.008104710795324818, 0.033849086262827184, 0.1964008099967393, 0.13093387333115955, 0.06546693666557978, 0.5892024299902179, 0.01990049244584037, 0.8888886625808698, 0.01326699496389358, 0.03980098489168074, 0.00663349748194679, 0.00663349748194679, 0.01990049244584037, 0.9247125193438193, 0.02802159149526725, 0.02802159149526725, 0.929579158910818, 0.05164328660615655, 0.9249464994715828, 0.9813124363608676, 0.029258732727291226, 0.15145696941186046, 0.5206333323532704, 0.06195966930485201, 0.003442203850269556, 0.037003691390397726, 0.009466060588241279, 0.06970462796795851, 0.010326611550808667, 0.10670831935835623, 0.902549602437057, 0.01934034862365122, 0.06446782874550407, 0.006446782874550407, 0.9553563511224369, 0.023883908778060924, 0.10086809023271, 0.09935355434332997, 0.11177274863624621, 0.22899782647426054, 0.09783901845394993, 0.13418787979907065, 0.11722507783801432, 0.0351372326336167, 0.026958738830964533, 0.048162241282284954, 0.07566301163577678, 0.06800093450810318, 0.14366394614387995, 0.4645134258652119, 0.03543710671549039, 0.047887982047959986, 0.08619836768632798, 0.02969054886973519, 0.019155192819183996, 0.02969054886973519, 0.013607431133900436, 0.003401857783475109, 0.8776793081365781, 0.006803715566950218, 0.006803715566950218, 0.08844830237035284, 0.003401857783475109, 0.9544504084192159, 0.0266899458911427, 0.9074581602988518, 0.0266899458911427, 0.9320111340727275, 0.9489427846591507, 0.9560770197482402, 0.20407256641433305, 0.2973493543113716, 0.07812522844168203, 0.0634471552193054, 0.06250018275334562, 0.06960247624804398, 0.09659119152789777, 0.06960247624804398, 0.029829632677733135, 0.029356146444753244, 0.9525666554876611, 0.4209050689405025, 0.24469435452116964, 0.041551871522462765, 0.08464270124946119, 0.08079530573812205, 0.03077916409071316, 0.05078562074967671, 0.019236977556695727, 0.013850623840820923, 0.013850623840820923, 0.986530220007199, 0.9909280947859155, 0.7550236008828354, 0.018224707607516717, 0.010414118632866695, 0.0026035296582166737, 0.05727765248076683, 0.07810588974650022, 0.04946706350611681, 0.0078105889746500215, 0.013017648291083369, 0.005207059316433347, 0.13408995939825796, 0.08691824729724214, 0.16684809280174118, 0.15505516477648723, 0.10526280200319274, 0.0703207930394773, 0.08167694595268482, 0.1323428589500722, 0.03406845873962255, 0.03406845873962255, 0.9814870085801252, 0.9403646805276751, 0.022935723915309146, 0.16154215967478297, 0.42706547960000096, 0.2163179494495657, 0.022281677196521788, 0.025066886846087013, 0.01485445146434786, 0.015782854680869603, 0.062203015506956665, 0.01485445146434786, 0.04084974152695661, 0.18363037110565855, 0.6977954102015025, 0.005650165264789494, 0.04520132211831595, 0.008475247897184242, 0.014125413161973735, 0.002825082632394747, 0.014125413161973735, 0.002825082632394747, 0.025425743691552722, 0.08297219580768499, 0.1057488770097946, 0.10208833895945556, 0.06873677005636648, 0.15536950391439053, 0.19116143151770562, 0.12323811436141448, 0.10330851830956857, 0.027250672152523994, 0.040672645003767154, 0.9496711963708523, 0.009781076759718958, 0.003260358919906319, 0.013041435679625277, 0.0016301794599531596, 0.011411256219672117, 0.8444329602557367, 0.014671615139578436, 0.014671615139578436, 0.030973409739110034, 0.057056281098360584, 0.046220971063118725, 0.42369223474525497, 0.007703495177186454, 0.5161341768714924, 0.1476668228324727, 0.12060382428704773, 0.10977862486887774, 0.26355197045006173, 0.0581507507206824, 0.06953108857055341, 0.10089640996166134, 0.0638409196456179, 0.0263690755057987, 0.039414828650772796, 0.04423572692539727, 0.8847145385079453, 0.7436019494804574, 0.02499502351194815, 0.012497511755974074, 0.031243779389935184, 0.012497511755974074, 0.0687363146578574, 0.02499502351194815, 0.07498507053584444, 0.22156743218598357, 0.26108437888582076, 0.12590916810568809, 0.010083634675130864, 0.10247153075268121, 0.06949532005833432, 0.0872098134065372, 0.04687527470601374, 0.04823792804049089, 0.027253066689542874, 0.026059116583415528, 0.043105305626702374, 0.6988937507747608, 0.029389981109115258, 0.054273498448166174, 0.030369647146085765, 0.09600727162310983, 0.005094263392246645, 0.003330864525699729, 0.01371532451758712, 0.12323327583000937, 0.06322123786070794, 0.179394273929623, 0.09435047680735092, 0.2804840705089276, 0.15532527474407432, 0.014441399511329223, 0.061616637915004685, 0.006739319771953638, 0.02182255926156416, 0.9773742276074737, 0.32673109573392645, 0.07260691016309477, 0.5445518262232107, 0.004766628299362626, 0.7960269259935586, 0.042899654694263635, 0.1096324508853404, 0.03813302639490101, 0.12123130595926951, 0.22446733994020995, 0.002841358733420379, 0.019889511133942654, 0.005682717466840758, 0.4205210925462161, 0.037884783112271725, 0.030307826489817377, 0.11365434933681516, 0.022730869867363033, 0.9205543371583069, 0.002363341121961907, 0.18434060751302875, 0.16070719629340968, 0.002363341121961907, 0.03072343458550479, 0.25287750004992404, 0.018906728975695255, 0.04726682243923814, 0.009453364487847627, 0.29305429912327646, 0.15977183142040374, 0.12380225680743326, 0.11836499552872842, 0.046425846302787475, 0.09243344173798226, 0.25136877142320063, 0.11543723945557965, 0.033878320275007076, 0.028441058996302237, 0.030114062466672954, 0.9197689880061091, 0.03406551807430033, 0.0014200927828368689, 0.0028401855656737377, 0.0014200927828368689, 0.7356080615094981, 0.0028401855656737377, 0.24993632977928892, 0.004260278348510607, 0.0014200927828368689, 0.0014200927828368689, 0.01830446218220064, 0.8877664158367311, 0.00915223109110032, 0.027456693273300962, 0.01830446218220064, 0.03660892436440128, 0.0028266299629113945, 0.005653259925822789, 0.04239944944367092, 0.8649487686508867, 0.005653259925822789, 0.03391955955493673, 0.03109292959202534, 0.011306519851645578, 0.00845522079551119, 0.05918654556857833, 0.8793429627331637, 0.01691044159102238, 0.00845522079551119, 0.02536566238653357, 0.8839968713231631, 0.8561872450006947, 0.07510414429830654, 0.030041657719322618, 0.015020828859661309, 0.00542908873583307, 0.15744357333915904, 0.04886179862249763, 0.00542908873583307, 0.01085817747166614, 0.7655015117524628, 0.7237212403822986, 0.05701086357497319, 0.006334540397219243, 0.05384359337636357, 0.0015836350993048108, 0.025338161588876973, 0.004750905297914432, 0.0744308496673261, 0.047509052979144324, 0.0015836350993048108, 0.024230715594159558, 0.048461431188319117, 0.024230715594159558, 0.7778059705725219, 0.012115357797079779, 0.007269214678247868, 0.06784600366364676, 0.0218076440347436, 0.014538429356495736, 0.002423071559415956, 0.008347596968147356, 0.6135483771588307, 0.002086899242036839, 0.09182356664962092, 0.18364713329924184, 0.09182356664962092, 0.004173798484073678, 0.002086899242036839, 0.002086899242036839, 0.9426467758497316, 0.024806494101308724, 0.024806494101308724, 0.03396344946207509, 0.00113211498206917, 0.007075718637932312, 0.0014151437275864624, 0.8717285361932609, 0.05971906530414871, 0.0065096611468977265, 0.007358747383449604, 0.003113316200690217, 0.007924804874484189, 0.9624520984007467, 0.3279469963587091, 0.6247351332059019, 0.010905600829030707, 0.00623177190230326, 0.0007789714877879076, 0.0038948574389395378, 0.001557942975575815, 0.0038948574389395378, 0.01635840124354606, 0.00311588595115163, 0.35242251054789997, 0.1285931245620595, 0.054627906298920025, 0.016920147968692043, 0.17500267327618627, 0.07493208386135047, 0.12714282616474307, 0.035774027133806036, 0.014502983973164608, 0.020304177562430453, 0.018371909212655774, 0.018371909212655774, 0.018371909212655774, 0.018371909212655774, 0.018371909212655774, 0.0734876368506231, 0.8267359145695099, 0.018371909212655774, 0.4118796793683603, 0.008881502520072459, 0.01221206596509963, 0.010546784242586045, 0.04274223087784871, 0.28753864408734586, 0.10102709116582421, 0.02442413193019926, 0.08215389831067024, 0.018318098947649446, 0.14995281550734113, 0.008568732314705207, 0.0042843661573526036, 0.0042843661573526036, 0.08140295698969947, 0.07069204159631796, 0.6426549236028906, 0.023564013865439323, 0.014995281550734114, 0.0021421830786763018, 0.942030317178541, 0.031401010572618036, 0.9813869339975738, 0.184068311962572, 0.03346696581137673, 0.7697402136616648, 0.9649388527440619, 0.015563529882968741, 0.175206492869591, 0.07138042302094448, 0.01946738809662122, 0.09084781111756571, 0.006489129365540408, 0.6164672897263387, 0.012978258731080815, 0.9243402541456254, 0.03423482422761576, 0.048539733615908694, 0.009438281536426691, 0.0013483259337752414, 0.8534903160797279, 0.002696651867550483, 0.01752823713907814, 0.024269866807954347, 0.006741629668876208, 0.0040449778013257245, 0.031011496476830554, 0.43602376474407295, 0.12136743967103061, 0.05356649343505363, 0.08802885284781542, 0.08465753507917567, 0.04570008530822758, 0.0895272163005442, 0.04195417667640564, 0.018729543159109664, 0.01985331574865624, 0.9704447425123219, 0.019593481542231245, 0.02939022231334687, 0.009796740771115623, 0.009796740771115623, 0.019593481542231245, 0.911096891713753, 0.0647033339793176, 0.0647033339793176, 0.8411433417311289, 0.29277898702334426, 0.09683055039574147, 0.13838381808525257, 0.09454321455962159, 0.10102399942862791, 0.06976374300165625, 0.13685892752783932, 0.031641479066324966, 0.016392573492192454, 0.022110913082492144, 0.23950794292663266, 0.04917050483924247, 0.38781253010305755, 0.007137653928277132, 0.0856518471393256, 0.07692804789365354, 0.08723799245672051, 0.034895196982688205, 0.006344581269579673, 0.025378325078318692, 0.9623987927193772, 0.018870564563125043, 0.015395101295131169, 0.9391011790030014, 0.015395101295131169, 0.015395101295131169, 0.005969253350918329, 0.005969253350918329, 0.0417847734564283, 0.9132957626905043, 0.011938506701836658, 0.011938506701836658, 0.9333802308626108, 0.884388942231834, 0.036849539259659746, 0.05527430888948962, 0.018424769629829873, 0.040016843333324184, 0.6897020645096462, 0.03923219934639626, 0.008631083856207178, 0.013338947777774729, 0.02981647150326116, 0.03766291137254041, 0.012554303790846804, 0.023539319607837755, 0.10435765026141405, 0.02813430864795759, 0.02813430864795759, 0.0740376543367305, 0.0029615061734692204, 0.07255690124999589, 0.6707811482907784, 0.06367238272958824, 0.01628828395408071, 0.01776903704081532, 0.02517280247448837, 0.600497461720048, 0.07642694967346066, 0.03457409628085125, 0.05823005689406527, 0.020016582057334933, 0.020016582057334933, 0.13465700656752594, 0.03275440700291171, 0.0072787571117581586, 0.016377203501455856, 0.9669964705673733, 0.5828868257878408, 0.040362835186938055, 0.01068427990242478, 0.10209423017872567, 0.018994275382088498, 0.04392426182107965, 0.07716424373973452, 0.04154997739831859, 0.07122853268283187, 0.009497137691044249, 0.5534219915816778, 0.07378959887755704, 0.13429706995715382, 0.002951583955102282, 0.04870113525918765, 0.04132217537143194, 0.060507471079596774, 0.03837059141632966, 0.022136879663267113, 0.025088463618369396, 0.0055112360079928886, 0.0018370786693309629, 0.02755618003996444, 0.27556180039964445, 0.007348314677323851, 0.3490449471728829, 0.32883708181024235, 0.0036741573386619257, 0.3780463872946926, 0.18779577031197392, 0.10580389150909904, 0.02921267538186261, 0.09794838216271581, 0.050078872083193046, 0.07732767012845985, 0.03559527672579898, 0.012028748686649311, 0.0262668593769689, 0.07286982751427908, 0.7286982751427907, 0.002914793100571163, 0.04955148270970977, 0.11950651712341769, 0.002914793100571163, 0.005829586201142326, 0.01748875860342698, 0.002914793100571163, 0.008770435116434286, 0.9822887330406399, 0.008770435116434286, 0.9781010931295232, 0.0148094082258809, 0.8533921490163869, 0.005553528084705338, 0.0009255880141175563, 0.004627940070587782, 0.004627940070587782, 0.0018511760282351125, 0.002776764042352669, 0.11292173772234186, 0.13265375288758535, 0.027445604045707315, 0.013722802022853657, 0.004574267340951219, 0.018297069363804878, 0.15095082225139023, 0.03201987138665854, 0.018297069363804878, 0.5946547543236586, 0.004574267340951219, 0.9623362825438146, 0.018066504848986538, 0.036133009697973076, 0.08129927182043942, 0.009033252424493269, 0.8310592230533806, 0.009033252424493269, 0.009033252424493269, 0.07275740063834085, 0.027647812242569524, 0.026920238236186115, 0.014551480127668171, 0.6853747140131708, 0.04001657035108747, 0.013823906121284762, 0.08003314070217495, 0.029102960255336343, 0.010186036089367719, 0.009703782850356288, 0.9509707193349163, 0.019407565700712576, 0.009703782850356288, 0.009703782850356288, 0.9354662343277883, 0.9238414980257899, 0.03185660338019965, 0.9687467851741833, 0.00696940133218837, 0.00696940133218837, 0.9437692985852443, 0.013292525332186538, 0.013292525332186538, 0.013292525332186538, 0.004222600324078578, 0.0008445200648157156, 0.40030251072264916, 0.016890401296314313, 0.45941891525974926, 0.09796432751862301, 0.0016890401296314312, 0.0033780802592628624, 0.0016890401296314312, 0.014356841101867164, 0.014497031687099567, 0.002416171947849928, 0.3793389958124387, 0.0072485158435497835, 0.4288705207433622, 0.15101074674062048, 0.002416171947849928, 0.001208085973924964, 0.009664687791399711, 0.0036242579217748917, 0.011905620619915076, 0.003968540206638359, 0.9643552702131212, 0.011905620619915076, 0.003917664466737519, 0.9911691100845923, 0.2639462513979482, 0.22551391019021347, 0.1064620026559088, 0.09762698168861347, 0.07620205584292228, 0.04152459854628808, 0.0653791551579855, 0.06339127544034404, 0.0373279635868228, 0.022529303466603107, 0.05247571351667937, 0.009152740729653379, 0.031729501196131715, 0.017085116028686308, 0.20868248863609704, 0.044543338217646444, 0.6071318017336741, 0.005491644437792027, 0.018915664174616983, 0.005491644437792027, 0.08280479862589885, 0.28981679519064596, 0.04140239931294942, 0.5796335903812919, 0.9484878226471105, 0.027896700666091484, 0.0027824718016642653, 0.0027824718016642653, 0.011129887206657061, 0.0027824718016642653, 0.13077617467822047, 0.6844880632094092, 0.10851640026490635, 0.03338966161997119, 0.008347415404992797, 0.013912359008321327, 0.03291624312718083, 0.9051966859974729, 0.03291624312718083, 0.010984195213474178, 0.08787356170779342, 0.8457830314375117, 0.032952585640422534, 0.010984195213474178, 0.03259297784606681, 0.016296488923033405, 0.9288998686129041, 0.016296488923033405, 0.9834146714103186, 0.9662178885199982, 0.9847494524381827, 0.029201227691747378, 0.11680491076698951, 0.8176343753689266, 0.007394978756819291, 0.9243723446024114, 0.007394978756819291, 0.007394978756819291, 0.007394978756819291, 0.022184936270457874, 0.014789957513638582, 0.12855185042034378, 0.05457044362572998, 0.0948573483158662, 0.09522359290395836, 0.1648100646414664, 0.18531976157462665, 0.14430036770830612, 0.06995271632560017, 0.04211812763059696, 0.020143452345068112, 0.0030328460052162242, 0.10918245618778406, 0.8825581875179213, 0.0030328460052162242, 0.020164125557933756, 0.9477139012228866, 0.02923594973632413, 0.9355503915623722, 0.02271773246867271, 0.6347601719187963, 0.11893401115952182, 0.004009011612118713, 0.002672674408079142, 0.017372383652514423, 0.01202703483635614, 0.04810813934542456, 0.010690697632316568, 0.1296247087918384, 0.9464276357716885, 0.006572414137303392, 0.019717242411910176, 0.006572414137303392, 0.013144828274606784, 0.4565972257800498, 0.09015614012217545, 0.08666622502067188, 0.07852308978383023, 0.0610735142763124, 0.04478724380262909, 0.10237084297743793, 0.046532201353380875, 0.0238477531936077, 0.009306440270676175, 0.9224722734949489, 0.0384363447289562, 0.012812114909652067, 0.012812114909652067, 0.9865159643301618, 0.2762465313036705, 0.04249946635441085, 0.6587417284933681, 0.05968977076659583, 0.0032264740954916667, 0.07582214124405416, 0.0145191334297125, 0.006452948190983333, 0.0032264740954916667, 0.8308170795891041, 0.0016132370477458333, 0.0032264740954916667, 0.0016132370477458333, 0.13827829599749517, 0.16815323649078115, 0.3559385767342931, 0.050787398838586184, 0.09047839120823757, 0.06188380530752098, 0.06359094476428018, 0.018351749160161395, 0.012376761061504196, 0.03969099236965139, 0.024881118168086715, 0.024881118168086715, 0.024881118168086715, 0.9206013722192085, 0.007888749007429485, 0.01972187251857371, 0.09072061358543906, 0.871706765320958, 0.003944374503714742, 0.008023717158973931, 0.0016047434317947862, 0.17170754720204212, 0.0048142302953843585, 0.0032094868635895724, 0.011233204022563503, 0.7863242815794452, 0.0016047434317947862, 0.011233204022563503, 0.9701867539048338, 0.9185281028979022, 0.03827200428741259, 0.39038732909466417, 0.14193220354840022, 0.08675273979881426, 0.07406441390987205, 0.08793304918383214, 0.05931054659714853, 0.05931054659714853, 0.06078593332842088, 0.02124556893032186, 0.018589872814031627, 0.09435540456466061, 0.049064810373623514, 0.06038745892138279, 0.030193729460691394, 0.0037742161825864242, 0.056613242738796365, 0.0037742161825864242, 0.2604209165984633, 0.015096864730345697, 0.42648642863226593, 0.10934670612157692, 0.021869341224315383, 0.021869341224315383, 0.13121604734589232, 0.010934670612157691, 0.14215071795804998, 0.07654269428510384, 0.48112550693493844, 0.12814568962284797, 0.25629137924569595, 0.5552979883656746, 0.004119352489394203, 0.9350930150924841, 0.020596762446971017, 0.02471611493636522, 0.01235805746818261, 0.004119352489394203, 0.9209739167944646, 0.01805831209400911, 0.01805831209400911, 0.01805831209400911, 0.10924278927897822, 0.10143973290190834, 0.1842721775200347, 0.06842680207584349, 0.10504114353747905, 0.13145148819833094, 0.022208698919352714, 0.21608463813424264, 0.016206347860068197, 0.04561786805056233, 0.03711731224604166, 0.013918992092265622, 0.8119412053821612, 0.004639664030755207, 0.0649552964305729, 0.009279328061510415, 0.027837984184531244, 0.023198320153776035, 0.009279328061510415, 0.020325284174496094, 0.04065056834899219, 0.8577269921637352, 0.008130113669798439, 0.004065056834899219, 0.012195170504697657, 0.028455397844294534, 0.008130113669798439, 0.004065056834899219, 0.012195170504697657, 0.008717173540863288, 0.9414547424132351, 0.008717173540863288, 0.017434347081726576, 0.008717173540863288, 0.017434347081726576, 0.006518067715260372, 0.8538668706991088, 0.022813237003411303, 0.003259033857630186, 0.03584937243393205, 0.003259033857630186, 0.013036135430520745, 0.058662609437343353, 0.016855804956819983, 0.004213951239204996, 0.002106975619602498, 0.16434409832899483, 0.06531624420767743, 0.002106975619602498, 0.6889810276100168, 0.035818585533242464, 0.021069756196024976, 0.005747919366020488, 0.001436979841505122, 0.005747919366020488, 0.004310939524515366, 0.024428657305587076, 0.00718489920752561, 0.005747919366020488, 0.9239780380877934, 0.015806778256556343, 0.005747919366020488, 0.013880039789007308, 0.9577227454415042, 0.013880039789007308, 0.02569739579251509, 0.001606087237032193, 0.05460696605909457, 0.13330524067367203, 0.024091308555482898, 0.46737138597636824, 0.2923078771398592, 0.001606087237032193, 0.005785947552672823, 0.0019286491842242742, 0.028929737763364112, 0.01350054428956992, 0.0038572983684485485, 0.00964324592112137, 0.05593082634250395, 0.879464028006269, 0.0019286491842242742, 0.01889142830294386, 0.01889142830294386, 0.944571415147193, 0.9169932632331117, 0.03820805263471299, 0.20671976813404017, 0.10904222840435389, 0.20985485466498296, 0.06877596077255745, 0.056235614648786285, 0.10365379842929597, 0.07778933454901796, 0.0818061641667884, 0.0414419250809, 0.044674983065934745, 0.9383517990824441, 0.4878120139056475, 0.15092526397080808, 0.005390187998957431, 0.008085281998436146, 0.026950939994787156, 0.005390187998957431, 0.032341127993744584, 0.26950939994787154, 0.010780375997914862, 0.09744027128284068, 0.007993147253670523, 0.007993147253670523, 0.3132552471319448, 0.027405076298298938, 0.38405169423588376, 0.09744027128284068, 0.024740693880408764, 0.01788942480583403, 0.021695685402819992, 0.11694420133285813, 0.05359942561089331, 0.1153199763143462, 0.15754982679565607, 0.06334477572196481, 0.0032484500370238366, 0.40930470466500346, 0.022739150259166858, 0.058472100666429064, 0.009595522390937033, 0.9115746271390182, 0.057573134345622196, 0.009595522390937033, 0.010224073750315855, 0.02044814750063171, 0.010224073750315855, 0.9508388587793745, 0.8766634205554892, 0.017656752025771848, 0.04414188006442962, 0.06179863209020147, 0.05297025607731554, 0.008828376012885924, 0.812210593185505, 0.114874642133363, 0.06701020791112841, 0.019145773688893832, 0.004786443422223458, 0.004786443422223458, 0.02871866053334075, 0.7562580607113064, 0.3660415149175817, 0.052446125475635784, 0.0621783961824548, 0.12273474724710642, 0.0675852132417987, 0.12489747407084398, 0.08110225589015843, 0.07028862177147063, 0.032440902356063374, 0.020005223119572414, 0.9579197357173888, 0.005987069878130278, 0.005987069878130278, 0.09579311805008445, 0.7783190841569362, 0.047896559025042224, 0.005987069878130278, 0.017961209634390834, 0.03592241926878167, 0.9849281573843512, 0.9859009667160215, 0.18697476635106308, 0.7004134104579506, 0.0029678534341438588, 0.008903560302431576, 0.0029678534341438588, 0.011871413736575435, 0.05638921524873331, 0.008903560302431576, 0.008903560302431576, 0.011871413736575435, 0.08224945366650226, 0.024846189128422555, 0.04626531768740752, 0.09424416565953384, 0.07111150681583008, 0.08396298395122105, 0.033413840552016544, 0.41638785918666765, 0.12680124106919097, 0.020562363416625564, 0.08375552700227791, 0.00722030405192051, 0.0014440608103841019, 0.011552486483072815, 0.024549033776529734, 0.02166091215576153, 0.8086740538150972, 0.02743715539729794, 0.004332182431152306, 0.008664364862304612, 0.013871833490425464, 0.013871833490425464, 0.03467958372606366, 0.880861426642017, 0.04161550047127639, 0.006935916745212732, 0.006935916745212732, 0.9601171244954776, 0.9531719445944776, 0.004858236515698003, 0.9619308301082045, 0.014574709547094007, 0.009716473031396005, 0.00861669933680156, 0.9564536263849733, 0.01723339867360312, 0.00861669933680156, 0.9309812296538884, 0.014108680709079233, 0.014108680709079233, 0.9664446285719275, 0.010848854596316035, 0.9763969136684431, 0.031543740495055116, 0.9147684743565984, 0.031543740495055116, 0.2465687169611837, 0.005246142914067739, 0.005246142914067739, 0.22033800239084503, 0.5193681484927061, 0.5991638843625414, 0.006491483037513991, 0.012333817771276583, 0.004544038126259794, 0.11619754637150044, 0.10321458029647246, 0.05842334733762592, 0.03570315670632695, 0.05452845751511753, 0.009737224556270987, 0.8624963259044192, 0.017601965834784065, 0.03520393166956813, 0.052805897504352196, 0.12469954404559459, 0.004299984277434296, 0.008599968554868592, 0.004299984277434296, 0.034399874219474366, 0.12469954404559459, 0.16339940254250326, 0.025799905664605778, 0.5030981604598127, 0.017199937109737183, 0.944007284994387, 0.0248422969735365, 0.08075477962134271, 0.040377389810671356, 0.8075477962134272, 0.9248870917517235, 0.9220379622460669, 0.11470680182401279, 0.028135630636078608, 0.0238070720766819, 0.004328558559396709, 0.12336391894280621, 0.056271261272157216, 0.04328558559396709, 0.5150984685682084, 0.05843554055185557, 0.034628468475173674, 0.9457767212700546, 0.17375740462864903, 0.20870860670912442, 0.08821017667929501, 0.12216277298604253, 0.0792227247157442, 0.12249564157728514, 0.09586615427787533, 0.052926106007577, 0.032953990533019645, 0.02363366997822621, 0.007070344819588298, 0.16438551705542792, 0.42068551676550375, 0.005302758614691224, 0.0017675862048970746, 0.08130896542526543, 0.017675862048970745, 0.021211034458764894, 0.022978620663661967, 0.25983517211986995, 0.9379000035785282, 0.08023959843094478, 0.11170610761955058, 0.5144774252337048, 0.009439952756581738, 0.11013278216012028, 0.022026556432024058, 0.08495957480923565, 0.03303983464803609, 0.0015733254594302898, 0.029893183729175505, 0.004563453149568107, 0.004563453149568107, 0.9081271767640533, 0.004563453149568107, 0.01825381259827243, 0.027380718897408642, 0.004563453149568107, 0.004563453149568107, 0.022817265747840536, 0.22783680574282128, 0.005841969378021059, 0.0077892925040280786, 0.011683938756042117, 0.13631261882049137, 0.04089378564614741, 0.013631261882049137, 0.32325563891716524, 0.22783680574282128, 0.005841969378021059, 0.011536921703331308, 0.4037922596165958, 0.5768460851665654, 0.003561128912196768, 0.003561128912196768, 0.0783448360683289, 0.09971160954150951, 0.7407148137369278, 0.01780564456098384, 0.024927902385377378, 0.007122257824393536, 0.007122257824393536, 0.021366773473180608, 0.016179046669767976, 0.016179046669767976, 0.03235809333953595, 0.016179046669767976, 0.8736685201674707, 0.05638657529298419, 0.011277315058596837, 0.0056386575292984185, 0.016915972587895255, 0.8965465471584485, 0.0056386575292984185, 0.025812424464511118, 0.32948800639993603, 0.5010647101934511, 0.004555133729031374, 0.009110267458062747, 0.018220534916125495, 0.025812424464511118, 0.010628645367739872, 0.019738912825802618, 0.05466160474837648, 0.8418430862628474, 0.07215797882252978, 0.01924212768600794, 0.004810531921501985, 0.004810531921501985, 0.014431595764505955, 0.014431595764505955, 0.00962106384300397, 0.01924212768600794, 0.9557883372002234, 0.8894352683792404, 0.034209048783816934, 0.034209048783816934, 0.017104524391908467, 0.017104524391908467, 0.08930664970798552, 0.03898306138046987, 0.1925526971217148, 0.011813048903172687, 0.27548030042198707, 0.11529535729496543, 0.053631242020404, 0.16231129192959273, 0.012049309881236142, 0.04843350050300802, 0.8385896085143212, 0.06988246737619343, 0.002825024899634643, 0.016950149397807857, 0.35877816225359965, 0.002825024899634643, 0.5960802538229097, 0.005650049799269286, 0.005650049799269286, 0.005650049799269286, 0.030249653383882025, 0.9377392549003428, 0.005404799183009824, 0.016214397549029473, 0.08107198774514737, 0.016214397549029473, 0.8701726684645817, 0.005404799183009824, 0.005404799183009824, 0.05545740283665003, 0.8873184453864005, 0.011841785092929717, 0.047367140371718866, 0.9118174521555882, 0.011841785092929717, 0.26568946930573795, 0.19320042205955884, 0.08462240708566829, 0.09675576692515749, 0.09333353722684001, 0.07528905336298428, 0.08493351887642442, 0.053822339800811074, 0.03204451444788174, 0.020533378189904805, 0.9285420603931213, 0.02901693938728504, 0.06070671531119434, 0.11262331799814335, 0.16344115660706168, 0.020327135443567335, 0.16261708354853868, 0.21096270298188805, 0.14338871218300203, 0.04422525414073434, 0.026919719911751336, 0.05466351288202567, 0.9794466243683845, 0.9660586116593806, 0.0032500266543442832, 0.0016250133271721416, 0.9766330096304571, 0.0032500266543442832, 0.008125066635860708, 0.0016250133271721416, 0.0032500266543442832, 0.5266535426606465, 0.06202324779267943, 0.010881271542575338, 0.02883536958782465, 0.06800794714109587, 0.11098896973426846, 0.03209975105059725, 0.06147918421555067, 0.0805214094150575, 0.018498161622378075, 0.0026355074544168024, 0.0026355074544168024, 0.0026355074544168024, 0.8618109375942944, 0.015813044726500816, 0.09224276090458809, 0.01054202981766721, 0.007906522363250408, 0.9192912093549933, 0.7464852862655081, 0.0814347585016918, 0.004524153250093989, 0.04524153250093989, 0.036193226000751914, 0.018096613000375957, 0.022620766250469944, 0.036193226000751914, 0.009048306500187979, 0.004524153250093989, 0.5748527005811864, 0.04631514649232308, 0.03541746496471765, 0.02179536305521086, 0.13349659871316652, 0.05585061782897783, 0.08037040126609005, 0.03269304458281629, 0.009535471336654751, 0.01089768152760543, 0.658303068023928, 0.07163886328495687, 0.023234225930256282, 0.04840463735470059, 0.05421319383726466, 0.009680927470940117, 0.05808556482564071, 0.0329151534011964, 0.029042782412820354, 0.013553298459316165, 0.9344544108441044, 0.8307492527058148, 0.09345929092940417, 0.010384365658822685, 0.031153096976468054, 0.02076873131764537, 0.007213974774808248, 0.01202329129134708, 0.9354120624668028, 0.004809316516538832, 0.007213974774808248, 0.019237266066155327, 0.01202329129134708, 0.002404658258269416, 0.002404658258269416, 0.012097670340233948, 0.9073252755175462, 0.012097670340233948, 0.024195340680467897, 0.03629301102070184, 0.9385412546690349, 0.028440644080879846, 0.92773077801681, 0.028991586813025313, 0.028991586813025313, 0.8766740151146153, 0.032875275566798076, 0.08766740151146153, 0.013507714917932241, 0.006753857458966121, 0.8847553271245617, 0.08780014696655956, 0.9623986649175994, 0.008994380045958874, 0.008994380045958874, 0.008994380045958874, 0.9421291661516218, 0.050502488398757185, 0.016834162799585727, 0.008417081399792864, 0.8922106283780437, 0.008417081399792864, 0.008417081399792864, 0.026274697564311725, 0.013137348782155863, 0.9327517635330663, 0.013137348782155863, 0.018240047569931018, 0.0912002378496551, 0.018240047569931018, 0.8572822357867579, 0.9564174648153204, 0.6405021433323537, 0.03731080446596235, 0.07151237522642784, 0.04042003817145921, 0.08084007634291843, 0.018655402232981174, 0.06218467410993725, 0.027983103349471763, 0.01243693482198745, 0.009327701116490587, 0.3512965271378354, 0.08845234445816742, 0.0824215027905651, 0.12865795557551626, 0.07237010001122789, 0.06834953889949301, 0.08141636251263137, 0.09046262501403486, 0.024625936809376157, 0.012061683335204649, 0.018385203043131196, 0.9560305582428221, 0.23899435389652973, 0.03983239231608829, 0.03983239231608829, 0.07966478463217658, 0.5576534924252361, 0.9021869890495622, 0.04748352573945064, 0.9505207487313067, 0.7104236107917582, 0.12235073296969169, 0.00394679783773199, 0.03157438270185592, 0.00789359567546398, 0.039467978377319905, 0.03157438270185592, 0.03552118053958791, 0.011840393513195971, 0.00394679783773199, 0.039776568074324024, 0.14916213027871508, 0.09944142018581006, 0.009944142018581006, 0.1392179882601341, 0.019888284037162012, 0.5369836690033744, 0.24030334951299828, 0.0036097069669334507, 0.006703741510019266, 0.04537917329859195, 0.05672396662323994, 0.4579171123767006, 0.06858443237173556, 0.030424673007010513, 0.07838220842484064, 0.011860465748495624, 0.0090195254635927, 0.0036078101854370797, 0.0018039050927185398, 0.9632853195117003, 0.0036078101854370797, 0.0018039050927185398, 0.01262733564902978, 0.0036078101854370797, 0.0018039050927185398, 0.9786977308048705, 0.05060784574590949, 0.2708203637213535, 0.506078457459095, 0.005471118459017242, 0.005471118459017242, 0.010942236918034485, 0.02188447383606897, 0.032826710754103455, 0.013677796147543105, 0.08206677688525864, 0.00882410498059868, 0.0882410498059868, 0.28237135937915775, 0.026472314941796037, 0.00882410498059868, 0.11471336474778282, 0.00882410498059868, 0.00882410498059868, 0.4500293540105326, 0.07042487264404629, 0.8450984717285556, 0.017860435215124877, 0.0480857871176439, 0.2074558244218351, 0.004121638895798048, 0.4698668341209775, 0.09204993533948976, 0.06319846306890341, 0.05083354638150926, 0.012364916687394145, 0.03434699079831707, 0.025905870068887112, 0.0074016771625391746, 0.014803354325078349, 0.9067054524110489, 0.0074016771625391746, 0.022205031487617526, 0.0037008385812695873, 0.0037008385812695873, 0.011102515743808763, 0.10794222549379881, 0.809566691203491, 0.009682357845409752, 0.9391887110047459, 0.03872943138163901, 0.004441050146909166, 0.008882100293818331, 0.04441050146909166, 0.8970921296756516, 0.035528401175273325, 0.004441050146909166, 0.8862326705102728, 0.010550388934646104, 0.04220155573858442, 0.04220155573858442, 0.34614283276125385, 0.08741454070409457, 0.017576650275622233, 0.004452751403157632, 0.2439639058256366, 0.12819236934353814, 0.028825706452020462, 0.06655691571035618, 0.05694834689301603, 0.019920203645705195, 0.15931789268550695, 0.7965894634275347, 0.0018879777021906347, 0.6173687086163375, 0.013215843915334443, 0.0018879777021906347, 0.0018879777021906347, 0.0018879777021906347, 0.011327866213143809, 0.0037759554043812695, 0.3266201424789798, 0.020767754724096983, 0.11151131053075218, 0.0023725810751223865, 0.00711774322536716, 0.0023725810751223865, 0.7995598223162443, 0.06405968902830445, 0.00711774322536716, 0.0023725810751223865, 0.0023725810751223865, 0.004745162150244773, 0.0028510608787395055, 0.0028510608787395055, 0.9265947855903393, 0.014255304393697526, 0.03706379142361357, 0.011404243514958022, 0.0028510608787395055, 0.941388501880206, 0.020824126114161054, 0.01561809458562079, 0.0026030157642701317, 0.0052060315285402635, 0.1145326936278858, 0.039045236464051974, 0.007809047292810395, 0.6012966415464005, 0.1796080877346391, 0.013015078821350659, 0.0071754003170993, 0.0430524019025958, 0.0071754003170993, 0.8682234383690154, 0.0645786028538937, 0.018601230308154755, 0.06045399850150295, 0.7711760065255825, 0.0031002050513591257, 0.03565235809062994, 0.019376281570994535, 0.006200410102718251, 0.02712679419939235, 0.006200410102718251, 0.05270348587310514, 0.0553607883333284, 0.08656414175756805, 0.4610043828484438, 0.05234110896969231, 0.04495967052524852, 0.04697279010100592, 0.06374878656565089, 0.03959135165656213, 0.025835034555553256, 0.12380685390907988, 0.030728766787401093, 0.056079999387006994, 0.027655890108660982, 0.7782060188909327, 0.007682191696850273, 0.0253512325996059, 0.03994739682362142, 0.013827945054330491, 0.013059725884645464, 0.0069139725271652455, 0.9141655711163162, 0.0564317327496329, 0.11741441168875233, 0.3695368305863058, 0.0018203784757946098, 0.05006040808435177, 0.15837292739413106, 0.17293595520048793, 0.01638340628215149, 0.027305677136919147, 0.030036244850611064, 0.9434682137985818, 0.024191492661502098, 0.024191492661502098, 0.05688018311673825, 0.556359291110596, 0.1741955607950109, 0.0035550114447961407, 0.030217597280767197, 0.008887528611990353, 0.039105125892757546, 0.014220045779184563, 0.010665034334388422, 0.10487283762148615, 0.020401771919170236, 0.8976779644434904, 0.020401771919170236, 0.020401771919170236, 0.14361913049646188, 0.23949153159304462, 0.09625134339340717, 0.09473557420610942, 0.1580189377757905, 0.07199903639664315, 0.1106511506727358, 0.04850461399352802, 0.02159971091899295, 0.015157691872977507, 0.05026851137301097, 0.9048332047141975, 0.08868791226428982, 0.12007745424547103, 0.19531270566068318, 0.053312396698196686, 0.16093368349081802, 0.12456167452849692, 0.07174752452841424, 0.0647720707548184, 0.026905321698155335, 0.0931721325473157, 0.010683981768487168, 0.024179537686576224, 0.13270629986120905, 0.10009203972582716, 0.23898380271616035, 0.24798083999488638, 0.08828342829749923, 0.10065435455574753, 0.023617222856655847, 0.032614260135381885, 0.01021739554489319, 0.03065218663467957, 0.2860870752570093, 0.01021739554489319, 0.04086958217957276, 0.6028263371486982, 0.0019489570324942218, 0.005846871097482665, 0.1422738633720782, 0.0038979140649884436, 0.01169374219496533, 0.0038979140649884436, 0.6704412191780122, 0.017540613292447996, 0.1442228204045724, 0.060821539220937464, 0.10136923203489577, 0.14867487365118046, 0.06757948802326384, 0.006757948802326385, 0.060821539220937464, 0.006757948802326385, 0.006757948802326385, 0.5406359041861107, 0.9503987986230866, 0.277598443528141, 0.12456340414724276, 0.0035589544042069357, 0.028471635233655486, 0.0035589544042069357, 0.0071179088084138715, 0.5480789782478681, 0.7705024514381585, 0.12884656378564524, 0.012884656378564523, 0.007730793827138714, 0.0025769312757129045, 0.010307725102851618, 0.007730793827138714, 0.025769312757129046, 0.025769312757129046, 0.005153862551425809, 0.8823898028875901, 0.016340551905325743, 0.016340551905325743, 0.06536220762130297, 0.031658038327245556, 0.04748705749086834, 0.142461172472605, 0.027700783536339865, 0.11871764372717085, 0.6292035117540055, 0.14326556989241065, 0.10582467581685624, 0.13831470786589106, 0.10056438491367918, 0.24475824143606223, 0.09313809187389979, 0.10675296244682866, 0.044248329362018834, 0.009592295176381707, 0.013924299449586347, 0.021712437169767375, 0.0036187395282945623, 0.0036187395282945623, 0.007237479056589125, 0.04342487433953475, 0.7092729475457342, 0.01809369764147281, 0.025331176698061935, 0.1338933625468988, 0.03618739528294562, 0.9829121597380573, 0.013018854218689854, 0.006509427109344927, 0.14971682351493334, 0.04556598976541449, 0.7681123989027014, 0.006509427109344927, 0.44656700955995626, 0.28785678316582547, 0.028785678316582547, 0.1058068175960872, 0.03578760006926479, 0.024895721787314636, 0.03500960876341121, 0.014781834811218066, 0.006223930446828659, 0.0132258521995109, 0.9667424807635002, 0.011425065406862616, 0.005712532703431308, 0.13424451853063574, 0.002856266351715654, 0.8340297747009711, 0.008568799055146962, 0.020432775203488896, 0.18389497683140005, 0.7560126825290892, 0.10904043785234324, 0.25998287802349085, 0.15332323575744333, 0.06555123847600838, 0.10777068020631886, 0.04682231319714884, 0.11665898372848948, 0.07190002670613026, 0.02253819821693266, 0.04650487378564275, 0.0056950223514061395, 0.9026610426978731, 0.0028475111757030698, 0.011390044702812279, 0.0028475111757030698, 0.07688280174398288, 0.018266576392296775, 0.002283322049037097, 0.002283322049037097, 0.8334125478985402, 0.018266576392296775, 0.029683186637482258, 0.045666440980741935, 0.045666440980741935, 0.002283322049037097, 0.002283322049037097, 0.08397489729285798, 0.009330544143650886, 0.004665272071825443, 0.018661088287301772, 0.04198744864642899, 0.8304184287849289, 0.004665272071825443, 0.004665272071825443, 0.008897970404058358, 0.9520828332342443, 0.017795940808116716, 0.008897970404058358, 0.9722496520229026, 0.01593428183667984, 0.04780284551003953, 0.8923197828540712, 0.01593428183667984, 0.0053654851144577485, 0.0053654851144577485, 0.960421835487937, 0.010730970228915497, 0.0053654851144577485, 0.0053654851144577485, 0.9576473148793212, 0.07959619571997317, 0.6125446366276197, 0.054679125755459836, 0.03668346411442242, 0.012458534982256672, 0.050526280761374276, 0.025609210796860935, 0.028377774126251306, 0.06644551990536891, 0.03322275995268446, 0.005682068882753788, 0.002841034441376894, 0.005682068882753788, 0.002841034441376894, 0.37217551182037306, 0.008523103324130681, 0.5909351638063939, 0.011364137765507576, 0.002841034441376894, 0.013825593341801796, 0.1013876845065465, 0.806492944938438, 0.013825593341801796, 0.05069384225327325, 0.004608531113933932, 0.06329896402810554, 0.03164948201405277, 0.050111679855583555, 0.007912370503513193, 0.20835908992584742, 0.015824741007026386, 0.5802405035909675, 0.0026374568345043977, 0.007912370503513193, 0.03164948201405277, 0.020627174537360713, 0.9075956796438713, 0.061881523612082136, 0.019197772040425602, 0.9502897160010673, 0.028796658060638403, 0.04596987696014079, 0.09193975392028159, 0.03064658464009386, 0.8121344929624873, 0.9411453934002497, 0.8983933203370811, 0.016950817364850587, 0.016950817364850587, 0.033901634729701174, 0.12369747528218883, 0.0388763493744022, 0.008835533948727773, 0.008835533948727773, 0.030040815425674428, 0.5053925418672286, 0.04594477653338442, 0.07598559195905885, 0.15373829070786327, 0.007068427158982218, 0.93486749669333, 0.14594979052221074, 0.049664582943891686, 0.22525291490036037, 0.11054374913317827, 0.29670583100673353, 0.025152708136099985, 0.08346854101215345, 0.007209374943468148, 0.012015624905780247, 0.044057291321194236, 0.025959881162390164, 0.008653293720796722, 0.9605156030084361, 0.011743150095212831, 0.005871575047606416, 0.05284417542845774, 0.04110102533324491, 0.011743150095212831, 0.005871575047606416, 0.005871575047606416, 0.8689931070457495, 0.035261431037949105, 0.035261431037949105, 0.011753810345983034, 0.07052286207589821, 0.011753810345983034, 0.011753810345983034, 0.011753810345983034, 0.8110129138728294, 0.021718827008120514, 0.010859413504060257, 0.010859413504060257, 0.010859413504060257, 0.03257824051218077, 0.054297067520301286, 0.8035965993004591, 0.054297067520301286, 0.004642949388217791, 0.0011607373470544477, 0.06035834204683128, 0.0011607373470544477, 0.41206175820432894, 0.2240223079815084, 0.1532173298111871, 0.12071668409366255, 0.0023214746941088954, 0.02089327224698006, 0.04053445572752323, 0.000736990104136786, 0.002947960416547144, 0.002210970312410358, 0.22257101144930938, 0.07148804010126825, 0.5549535484149999, 0.08770182239227753, 0.011791841666188576, 0.005895920833094288, 0.9281605749985009, 0.966282081176986, 0.036211663678444875, 0.9415032556395668, 0.01338206518329772, 0.0022303441972162867, 0.0022303441972162867, 0.9657390373946521, 0.00669103259164886, 0.0022303441972162867, 0.0022303441972162867, 0.0022303441972162867, 0.05471293178572709, 0.8972920812859243, 0.021885172714290836, 0.021885172714290836, 0.3251317840616887, 0.032513178406168866, 0.5852372113110397, 0.0030537240521440866, 0.015268620260720433, 0.051913308886449475, 0.021376068365008608, 0.23513675201509468, 0.0030537240521440866, 0.6504432231066904, 0.015268620260720433, 0.9313530108262867, 0.02661008602360819, 0.27238641776273664, 0.6809660444068415, 0.04244439587153589, 0.8828434341279465, 0.008488879174307178, 0.008488879174307178, 0.025466637522921533, 0.016977758348614355, 0.008488879174307178, 0.9413837716331445, 0.019818605718592515, 0.009909302859296257, 0.029727908577888772, 0.8848209289764901, 0.017349429979931177, 0.06939771991972471, 0.017349429979931177, 0.15025263619238302, 0.02504210603206384, 0.02504210603206384, 0.02504210603206384, 0.17529474222444688, 0.02504210603206384, 0.5759684387374683, 0.008896699085752401, 0.8985666076609925, 0.008896699085752401, 0.017793398171504802, 0.06227689360026681, 0.9816439930022216, 0.08456101657866874, 0.04326377592397005, 0.04391928768039384, 0.4804901174586371, 0.11668109264343439, 0.048507869975360364, 0.11733660439985817, 0.028187005526222914, 0.00524409405139031, 0.03146456430834186, 0.23944960839191415, 0.013965055396967966, 0.04666372169230759, 0.002043666643458727, 0.17200860915777616, 0.10593005435261066, 0.20266360880965706, 0.18358938680404227, 0.022139721970802873, 0.01260261096799548, 0.016426908286501094, 0.0013141526629200874, 0.0006570763314600437, 0.0026283053258401748, 0.23851870831999586, 0.6781027740667651, 0.018398137280881223, 0.009856144971900656, 0.02825428225278188, 0.005913686983140393, 0.00824969447315064, 0.049498166838903845, 0.11549572262410897, 0.01649938894630128, 0.01649938894630128, 0.206242361828766, 0.00824969447315064, 0.00824969447315064, 0.5609792241742435, 0.012717591068477519, 0.006661595321583462, 0.059954357894251166, 0.03088557830915969, 0.1162751183403659, 0.1907638660271628, 0.15442789154579845, 0.36214854566426463, 0.02846318001040207, 0.03815277320543256, 0.06488187443048492, 0.8759053048115464, 0.03244093721524246, 0.3003058521549964, 0.018769115759687274, 0.6569190515890545, 0.22204846599232053, 0.029606462132309403, 0.029606462132309403, 0.695751860109271, 0.01432243145680058, 0.009548287637867053, 0.02864486291360116, 0.9405063323299048, 0.004774143818933527, 0.03645341752050489, 0.03507129742494072, 0.48581521359080454, 0.009847605680894687, 0.03144323217408479, 0.026087516803773643, 0.09778499676116478, 0.007601660525602916, 0.005874010406147707, 0.26415770326470134, 0.008547177965067715, 0.9230952202273132, 0.008547177965067715, 0.025641533895203142, 0.008547177965067715, 0.025641533895203142, 0.044898697176499844, 0.09532338785164583, 0.07045641710773821, 0.6168390242863748, 0.05595068417379211, 0.025557719931238374, 0.06838416954574592, 0.009670488622630737, 0.004144495123984601, 0.00897973943529997, 0.003275630350845463, 0.003275630350845463, 0.003275630350845463, 0.003275630350845463, 0.8745933036757386, 0.026205042806763702, 0.0884420194728275, 0.045241252330639296, 0.769101289620868, 0.007540208721773216, 0.007540208721773216, 0.015080417443546433, 0.003770104360886608, 0.003770104360886608, 0.15080417443546432, 0.03329854749949021, 0.03995825699938826, 0.8790816539865416, 0.013319418999796086, 0.013319418999796086, 0.013319418999796086, 0.9506549778102061, 0.025693377778654217, 0.005747080199635898, 0.017241240598907692, 0.09195328319417437, 0.005747080199635898, 0.7988441477493897, 0.06896496239563077, 0.005747080199635898, 0.937137012946057, 0.002991623861890727, 0.00448743579283609, 0.01346230737850827, 0.96779031932165, 0.0014958119309453634, 0.002991623861890727, 0.00448743579283609, 0.0014958119309453634, 0.0014958119309453634, 0.9028833445987989, 0.011360490265036735, 0.0037868300883455784, 0.01893415044172789, 0.0037868300883455784, 0.0037868300883455784, 0.817955299082645, 0.1249653929154041, 0.015147320353382314, 0.9470078947548326, 0.037880315790193304, 0.013723779519935784, 0.0027447559039871566, 0.13331671533651904, 0.0031368638902710363, 0.3415260560532591, 0.16233270632152613, 0.054895118079743135, 0.23997008760573427, 0.019605399314193975, 0.029015990985007085, 0.0022969214494914215, 0.06201687913626838, 0.0022969214494914215, 0.5949026554182782, 0.14240912986846815, 0.004593842898982843, 0.16537834436338236, 0.01607845014643995, 0.01378152869694853, 0.9557193521434924, 0.015965935957038317, 0.015965935957038317, 0.9260242855082224, 0.015965935957038317, 0.015965935957038317, 0.014738931563155139, 0.9432916200419289, 0.014738931563155139, 0.04084164004702905, 0.03009384003465299, 0.021495600024752134, 0.017196480019801706, 0.12037536013861196, 0.5653342806509811, 0.1590674401831658, 0.027944280032177773, 0.004299120004950426, 0.010747800012376067, 0.022716605912680477, 0.9313808424198996, 0.022716605912680477, 0.02187207882892648, 0.9404993896438386, 0.17274736668725055, 0.015704306062477323, 0.015704306062477323, 0.031408612124954646, 0.7381023849364342, 0.015704306062477323, 0.916874859947015, 0.07379298345221254, 0.07379298345221254, 0.03689649172610627, 0.03689649172610627, 0.7379298345221253, 0.9801128980219901, 0.9417956959777831, 0.02297062673116544, 0.08631738770452935, 0.01961758811466576, 0.07062331721279674, 0.007847035245866305, 0.07847035245866305, 0.007847035245866305, 0.7101566897509006, 0.003923517622933153, 0.01569407049173261, 0.055629780538166786, 0.1161529214014501, 0.2268973919172451, 0.18105433202931134, 0.1300603665359918, 0.06567404646866913, 0.08808048585209742, 0.04481287876685658, 0.028072435549352685, 0.06387122950678409, 0.0068011462862822315, 0.0034005731431411158, 0.00793467066732927, 0.021536963239893733, 0.00793467066732927, 0.023804012001987812, 0.004534097524188155, 0.7084527381543991, 0.04874154838502266, 0.16889513277600876, 0.007027393444729783, 0.0017568483611824458, 0.02986642214010158, 0.09223453896207841, 0.007027393444729783, 0.00878424180591223, 0.0026352725417736686, 0.6983472235700222, 0.013176362708868343, 0.13879102053341322, 0.4888691922055186, 0.025177812474103962, 0.05140470046796226, 0.029374114553121288, 0.1353307420483088, 0.09126957021862686, 0.11434923165322217, 0.037766718711155944, 0.018883359355577972, 0.007343528638280322, 0.12578202604356364, 0.06796768548792756, 0.11515087664387023, 0.08492974408069683, 0.18622429116991046, 0.18323801324864827, 0.10368356942622341, 0.09305242002653, 0.0205455920982839, 0.019351080929779024, 0.012198050944867209, 0.0027106779877482685, 0.0013553389938741342, 0.9568693296751388, 0.0013553389938741342, 0.004066016981622403, 0.01626406792648961, 0.0013553389938741342, 0.0013553389938741342, 0.0013553389938741342, 0.07925322577057928, 0.02214428367119127, 0.02039605074978143, 0.46969191155210954, 0.1229590488058252, 0.011072141835595635, 0.2564074951401094, 0.002913721535683062, 0.004079210149956287, 0.011654886142732248, 0.003932555588564977, 0.7983087844786902, 0.058988333828474654, 0.015730222354259908, 0.015730222354259908, 0.003932555588564977, 0.09831388971412441, 0.925187052911716, 0.04744548989290851, 0.014860977054433807, 0.07133268986128227, 0.005944390821773523, 0.04458293116330142, 0.011888781643547047, 0.02080536787620733, 0.760882025187011, 0.0029721954108867616, 0.06538829903950875, 0.019076061338577113, 0.038152122677154225, 0.038152122677154225, 0.019076061338577113, 0.038152122677154225, 0.019076061338577113, 0.8202706375588159, 0.0032211313334723534, 0.012884525333889413, 0.00966339400041706, 0.0032211313334723534, 0.911580167372676, 0.04187470733514059, 0.012884525333889413, 0.9804031413807623, 0.9686691223097371, 0.011670712316984784, 0.028225982831089902, 0.9314574334259668, 0.9614700215031143, 0.015465278269523746, 0.9433819744409485, 0.030930556539047492, 0.3176360371866811, 0.11662396194055259, 0.07514853885606029, 0.16282183418813065, 0.09403833550840332, 0.04784046326082527, 0.1100535978875637, 0.04085945145452459, 0.01765785339240761, 0.017452529515751707, 0.9501619963832462, 0.022622904675791575, 0.03167434991904508, 0.01583717495952254, 0.93439332261183, 0.9252377257928399, 0.060341590812576514, 0.9011290895492144, 0.03465881113650825, 0.03615473597864894, 0.06944573049364251, 0.15893765123287257, 0.008949192073923005, 0.22050809270146285, 0.23482680001973966, 0.08197459939713472, 0.09844111281315306, 0.05405312012649495, 0.0372286390275197, 0.13524840627290138, 0.10563196694306895, 0.1375519071096661, 0.10102496526953947, 0.10168310836575796, 0.1127070052274178, 0.09756971401439235, 0.12702161757017014, 0.03948858577310989, 0.04212115815798388, 0.01443900944472337, 0.9385356139070191, 0.02887801888944674, 0.03630994728830769, 0.9222726611230154, 0.014523978915323078, 0.007261989457661539, 0.007261989457661539, 0.007261989457661539, 0.0036149665559645737, 0.010844899667893721, 0.09398913045507892, 0.7338382108608085, 0.10844899667893722, 0.039764632115610314, 0.007229933111929147, 0.04134600093729842, 0.013782000312432808, 0.8820480199956997, 0.04134600093729842, 0.0406634230274473, 0.010165855756861825, 0.0406634230274473, 0.11182441332548007, 0.7827708932783605, 0.020374697382441926, 0.004701853242101983, 0.003918211035084986, 0.8682755653748329, 0.008620064277186968, 0.018023770761390934, 0.037614825936815866, 0.03369661490173088, 0.0007836422070169972, 0.003918211035084986, 0.028386738617399793, 0.9225690050654932, 0.028386738617399793, 0.014193369308699896, 0.9129279474602077, 0.03260456955215027, 0.03260456955215027, 0.08549757260205529, 0.010687196575256911, 0.10687196575256912, 0.02671799143814228, 0.03206158972577074, 0.2190875297927667, 0.1335899571907114, 0.0053435982876284555, 0.0053435982876284555, 0.36870828184636345, 0.25971131246579976, 0.013669016445568408, 0.7244578716151256, 0.012316689064618127, 0.04310841172616345, 0.8929599571848142, 0.018475033596927194, 0.012316689064618127, 0.006158344532309064, 0.006025137769517787, 0.006025137769517787, 0.054226239925660086, 0.08736449765800791, 0.8103810300001424, 0.012050275539035574, 0.012050275539035574, 0.0030125688847588935, 0.006025137769517787, 0.023730228685423804, 0.8295692444612739, 0.030651545385339082, 0.0019775190571186506, 0.0009887595285593253, 0.006921316699915276, 0.02076395009974583, 0.003955038114237301, 0.010876354814152578, 0.07217944558483073, 0.010473621930417891, 0.7593375899552971, 0.03142086579125367, 0.0052368109652089455, 0.0026184054826044727, 0.023565649343440256, 0.007855216447813418, 0.0052368109652089455, 0.013092027413022364, 0.14139389606064154, 0.052724205615167476, 0.14965814885795986, 0.17880382773839404, 0.01604649736113793, 0.19747016140339121, 0.13655896733866357, 0.12378726535734973, 0.09071183202112665, 0.02554340396262772, 0.02881819934245179, 0.9522490295987519, 0.010344397443500514, 0.9827177571325488, 0.06968099103035344, 0.06968099103035344, 0.13936198206070688, 0.06968099103035344, 0.5574479282428275, 0.9546849495810888, 0.017679350918168312, 0.017679350918168312, 0.9555401527216786, 0.020330641547269757, 0.020330641547269757, 0.14054572612926639, 0.09766736900508342, 0.010421822912127805, 0.6265004402033401, 0.00982629017429193, 0.010421822912127805, 0.027692272309368167, 0.05776667557007983, 0.014590552076978926, 0.004764261902686996, 0.016367260014008053, 0.005455753338002685, 0.12002657343605906, 0.8347302607144107, 0.01091150667600537, 0.005455753338002685, 0.005455753338002685, 0.005455753338002685, 0.8776551940661732, 0.05851034627107821, 0.9027975551001491, 0.027357501669701488, 0.027357501669701488, 0.0477398819811094, 0.006159984771756052, 0.12679301988531205, 0.0010266641286260085, 0.2879792880795954, 0.20687282191814071, 0.01077997335057309, 0.26077268867100617, 0.032853252116032274, 0.018479954315268155, 0.9122247026504857, 0.03800936261043691, 0.0057263162779334145, 0.0028631581389667073, 0.967747450970747, 0.0028631581389667073, 0.011452632555866829, 0.0057263162779334145, 0.0028631581389667073, 0.0028631581389667073, 0.0028631581389667073, 0.14463035494209925, 0.01765440952344873, 0.025802598534271224, 0.011543267765331863, 0.1269759454186505, 0.1371611816821786, 0.23426043406114666, 0.1269759454186505, 0.1507414967002161, 0.023086535530663727, 0.9040826261538676, 0.6845519762175467, 0.024883565901082927, 0.05586106630855351, 0.0030469672531938277, 0.11045256292827627, 0.01421918051490453, 0.0776976649564426, 0.018027889581396814, 0.006093934506387655, 0.005332192693089198, 0.19713332195147246, 0.16550985155509043, 0.18481248932950545, 0.11622652106722231, 0.09035277256109155, 0.061604163109835144, 0.07228221804887323, 0.05913999658544174, 0.016017082408557138, 0.03778388670736556, 0.9753835923778642, 0.0492999487466184, 0.09625228088625498, 0.6009898513873482, 0.0164333162488728, 0.0328666324977456, 0.1314665299909824, 0.025823782676800116, 0.011738083034909143, 0.007042849820945486, 0.025823782676800116, 0.026762763384310963, 0.2943903972274206, 0.05352552676862193, 0.5887807944548412, 0.20845460847121067, 0.009994399036290923, 0.028555425817974066, 0.012849941618088329, 0.14848821425346515, 0.07281633583583387, 0.42975915856050967, 0.058538622926846834, 0.014277712908987033, 0.018561026781683143, 0.04006497572476941, 0.0022258319847094114, 0.0022258319847094114, 0.04896830366360705, 0.006677495954128234, 0.8903327938837646, 0.0022258319847094114, 0.006677495954128234, 0.984679855711424, 0.07891344199087692, 0.8680478618996461, 0.042289909669585304, 0.014096636556528435, 0.9162813761743482, 0.014096636556528435, 0.009541504714975026, 0.009541504714975026, 0.020991310372945056, 0.8568271234047573, 0.013358106600965036, 0.04770752357487513, 0.009541504714975026, 0.02480791225893507, 0.007633203771980021, 0.0019083009429950051, 0.9473214209389351, 0.024290292844588078, 0.921914464209849, 0.036876578568393964, 0.036876578568393964, 0.9267356116344039, 0.021062172991690997, 0.042124345983381994, 0.01336079330722798, 0.0011133994422689985, 0.0011133994422689985, 0.23604068176102766, 0.07348436318975389, 0.004453597769075994, 0.6079160954788732, 0.056783371555718914, 0.00668039665361399, 0.007209440296045507, 0.0018023600740113767, 0.18203836747514904, 0.028837761184182027, 0.0018023600740113767, 0.6866991881983345, 0.08831564362655746, 0.0018023600740113767, 0.9863284953744756, 0.007529225155530349, 0.005286620419719146, 0.8564325079945017, 0.026433102098595732, 0.005286620419719146, 0.010573240839438293, 0.005286620419719146, 0.08458592671550634, 0.05557929083778283, 0.8972085520956372, 0.007939898691111833, 0.023819696073335502, 0.007939898691111833, 0.015004073213820439, 0.9452566124706876, 0.015004073213820439, 0.015004073213820439, 0.07740500265034692, 0.01290083377505782, 0.002580166755011564, 0.002580166755011564, 0.036122334570161896, 0.7430880254433304, 0.04386283483519659, 0.018061167285080948, 0.059343835365265975, 0.002580166755011564, 0.03718492826910595, 0.9110307425930958, 0.018592464134552976, 0.08890406278500752, 0.140043567926826, 0.005507331322965069, 0.5444390393559753, 0.0369777960256226, 0.016521993968895206, 0.13689652145656026, 0.00865437779323082, 0.01730875558646164, 0.005507331322965069, 0.08085938544031394, 0.7461116020174423, 0.08821023866216066, 0.003675426610923361, 0.003675426610923361, 0.007350853221846722, 0.051455972552927054, 0.003675426610923361, 0.018377133054616804, 0.007661675953986856, 0.007661675953986856, 0.965371170202344, 0.007661675953986856, 0.9555361641562274, 0.1943151178076449, 0.7772604712305796, 0.8531353351986518, 0.022159359355809136, 0.011079679677904568, 0.011079679677904568, 0.0332390390337137, 0.022159359355809136, 0.05539839838952284, 0.9898721522003135, 0.0033217186315446763, 0.27070363217796634, 0.5633139166709126, 0.006259043518565695, 0.009388565277848544, 0.06259043518565696, 0.00782380439820712, 0.004694282638924272, 0.07510852222278835, 0.032326438012878295, 0.020917106949509483, 0.06275132084852846, 0.1312073072287413, 0.18445085219112908, 0.032326438012878295, 0.5001090116109994, 0.0019015551772281348, 0.005704665531684404, 0.028523327658422023, 0.0053330422662070465, 0.0017776807554023488, 0.9688360116942801, 0.0053330422662070465, 0.007110723021609395, 0.0035553615108046975, 0.0035553615108046975, 0.0035553615108046975, 0.0017776807554023488, 0.07096930846099077, 0.023656436153663588, 0.1892514892293087, 0.6623802123025805, 0.008398161264502012, 0.003599211970500862, 0.9681880200647319, 0.002399474647000575, 0.002399474647000575, 0.008398161264502012, 0.00479894929400115, 0.0011997373235002875, 0.002399474647000575, 0.0292149978578399, 0.00584299957156798, 0.9173509327361729, 0.01752899871470394, 0.01752899871470394, 0.00584299957156798, 0.00584299957156798, 0.9562339099775672, 0.06026886585615604, 0.01063568220990989, 0.0035452274033032968, 0.8402188945828813, 0.04608795624294285, 0.04254272883963956, 0.0035452274033032968, 0.9651383356009061, 0.036350733246433876, 0.020194851803574373, 0.10501322937858674, 0.09289631829644213, 0.7148977538465329, 0.020194851803574373, 0.00807794072142975, 0.015912720098896032, 0.013791024085709895, 0.03712968023075741, 0.7001596843514254, 0.06046833637580492, 0.005304240032965344, 0.13366684883072666, 0.019095264118675237, 0.015912720098896032, 0.016550284267592696, 0.013240227414074157, 0.023170397974629775, 0.5776049209389851, 0.09599164875203764, 0.008275142133796348, 0.18370815537027893, 0.07944136448444494, 0.0033100568535185393, 0.004467471506545666, 0.9828437314400466, 0.004467471506545666, 0.004467471506545666, 0.004467471506545666, 0.152332666090814, 0.11968995192849671, 0.004663244880331041, 0.06217659840441388, 0.027979469281986247, 0.2549240534580969, 0.04663244880331041, 0.08860165272628978, 0.1787577204126899, 0.06373101336452422, 0.8695415339264493, 0.03161969214277997, 0.015809846071389987, 0.06323938428555995, 0.06227881860733273, 0.06227881860733273, 0.8033967600345923, 0.012455763721466546, 0.018683645582199822, 0.031139409303666366, 0.1261606666934544, 0.05046426667738176, 0.02523213333869088, 0.7948122001687628, 0.007311243622679548, 0.010966865434019321, 0.10418522162318355, 0.007311243622679548, 0.007311243622679548, 0.001827810905669887, 0.3052444212468711, 0.005483432717009661, 0.5501710826066359, 0.0031804422809938756, 0.025443538247951005, 0.9414109151741872, 0.0031804422809938756, 0.0031804422809938756, 0.006360884561987751, 0.0031804422809938756, 0.015902211404969377, 0.05537944360820625, 0.16613833082461874, 0.05537944360820625, 0.6922430451025781, 0.10218984610513208, 0.021142726780372156, 0.017618938983643462, 0.01409515118691477, 0.7399954373130254, 0.017618938983643462, 0.024666514577100847, 0.021142726780372156, 0.04228545356074431, 0.0035237877967286926, 0.05418472181420977, 0.005418472181420977, 0.014449259150455937, 0.08488939750892863, 0.7603922627927437, 0.023480046119490897, 0.007224629575227968, 0.00903078696903496, 0.027092360907104884, 0.014449259150455937, 0.986752988311439, 0.007967068444605763, 0.9162128711296627, 0.05576947911224033, 0.007967068444605763, 0.007967068444605763, 0.007967068444605763, 0.9765758560187461, 0.37812188117859485, 0.5123736240074771, 0.011085006288623302, 0.0024633347308051783, 0.008621671557818124, 0.018475010481038837, 0.01601167575023366, 0.024633347308051782, 0.019706677846441426, 0.007390004192415535, 0.03376532570330048, 0.264816625873028, 0.4871854137190497, 0.004823617957614354, 0.013023768485558754, 0.06897773679388526, 0.03762422006939196, 0.015917939260127367, 0.010129597710990142, 0.06415411883627091, 0.02082338194786724, 0.03470563657977874, 0.006941127315955748, 0.02082338194786724, 0.07635240047551323, 0.8329352779146897, 0.005363436020575924, 0.5980231162942156, 0.010726872041151848, 0.002681718010287962, 0.002681718010287962, 0.002681718010287962, 0.008045154030863885, 0.002681718010287962, 0.045589206174895355, 0.3218061612345554, 0.018476359318889888, 0.028741003384939828, 0.09854058303407941, 0.012317572879259926, 0.07390543727555955, 0.5932964270176865, 0.13959915929827915, 0.014370501692469914, 0.010264644066049938, 0.010264644066049938, 0.08998135069780536, 0.8773181693036022, 0.012434863001534442, 0.19274037652378384, 0.018652294502301662, 0.7647440745943682, 0.016605009276751313, 0.008302504638375657, 0.10793256029888354, 0.8551579777526926, 0.029179672693458523, 0.007294918173364631, 0.029179672693458523, 0.07294918173364631, 0.014589836346729262, 0.8170308354168386, 0.02188475452009389, 0.007294918173364631, 0.021255247701788025, 0.019483977059972356, 0.0035425412836313378, 0.012398894492709683, 0.023026518343603693, 0.78113035304071, 0.0797071788817051, 0.014170165134525351, 0.019483977059972356, 0.026569059627235034, 0.07970292708603587, 0.10677184571902917, 0.17256435628533237, 0.10376418809314103, 0.12068226223876186, 0.14963096688793526, 0.05940123811129088, 0.10752376012550122, 0.05300996565627857, 0.0473706076077383, 0.08217254724662972, 0.011738935320947101, 0.8217254724662971, 0.046955741283788405, 0.023477870641894202, 0.06732928825350881, 0.8752807472956146, 0.033664644126754406, 0.00539388572927049, 0.006742357161588112, 0.0013484714323176224, 0.1631650433104323, 0.05528732872502252, 0.47196500131116786, 0.041802614401846294, 0.0660751001835635, 0.18339211479519665, 0.00539388572927049, 0.931015246821106, 0.01939615097543971, 0.01939615097543971, 0.01939615097543971, 0.052827221916908945, 0.6999606903990435, 0.006603402739613618, 0.011005671232689364, 0.006603402739613618, 0.017609073972302984, 0.01540793972576511, 0.033017013698068094, 0.04182155068421958, 0.11445898081996939, 0.01221071500377368, 0.004884286001509472, 0.002442143000754736, 0.009768572003018944, 0.07570643302339682, 0.7204321852226471, 0.07570643302339682, 0.056169289017358924, 0.0341900020105663, 0.01221071500377368, 0.930841859161415, 0.978872285787209, 0.370760355820851, 0.12447717998019925, 0.10016940449050368, 0.04781419574346709, 0.1124568514413388, 0.07586162900080812, 0.06597824775774509, 0.05048537986321386, 0.024842012313644912, 0.027246078021417, 0.5907135290501156, 0.07973818987177869, 0.019527719968598863, 0.13181210978804234, 0.06834701989009602, 0.021155029965982102, 0.042310059931964204, 0.02278233996336534, 0.014645789976449148, 0.006509239989532955, 0.08281667433447878, 0.11544142482987953, 0.09636849377102986, 0.26651911558550445, 0.08030707814252488, 0.12347213264413201, 0.1059049593004547, 0.05320343926942274, 0.03413050821057308, 0.04266313526321635, 0.9864966903626392, 0.981427356284264, 0.09538493728020936, 0.2384623432005234, 0.01589748954670156, 0.0794874477335078, 0.01589748954670156, 0.540514644587853, 0.018554997962938247, 0.17627248064791334, 0.009277498981469123, 0.004638749490734562, 0.04638749490734562, 0.7421999185175299, 0.9844108890755084, 0.9113848859022762, 0.027617723815220492, 0.027617723815220492, 0.017363918746701006, 0.020836702496041207, 0.003472783749340201, 0.006945567498680402, 0.03820062124274221, 0.6667744798733186, 0.03125505374406181, 0.03472783749340201, 0.17016640371766983, 0.010418351248020603, 0.8954831591590159, 0.034441659967654456, 0.034441659967654456, 0.9681772803612185, 0.0770803387444109, 0.09135447554893145, 0.7536744232786845, 0.0028548273609041077, 0.01141930944361643, 0.008564482082712323, 0.02854827360904108, 0.019983791526328756, 0.08659152721058584, 0.031352104679694875, 0.008957744194198536, 0.017169009705547193, 0.07688730433353742, 0.06718308145648902, 0.5979294249627523, 0.09554927140478438, 0.002239436048549634, 0.016422531022697313, 0.937834091090821, 0.04718378385694218, 0.003145585590462812, 0.03460144149509093, 0.06920288299018186, 0.8084154967489426, 0.028310270314165307, 0.006291171180925624, 0.003145585590462812, 0.015482038983333913, 0.015482038983333913, 0.030964077966667825, 0.9134403000167008, 0.9038071652083327, 0.9256713141249971, 0.9163961378912151, 0.04460685724350677, 0.03307060105984123, 0.12343794116522133, 0.09459730070605747, 0.10920989187203382, 0.4099216363929157, 0.07421658144824833, 0.03999235477004055, 0.016535300529920614, 0.05498948780880576, 0.11298270062076363, 0.14663712208226767, 0.157454614694894, 0.09759782223836176, 0.1350984632954663, 0.13413690839656617, 0.08678032962573547, 0.06706845419828308, 0.03052936804007868, 0.031490922938978795, 0.4541319814120635, 0.09945563522067735, 0.04753394330400021, 0.06069718914203104, 0.027057783111507812, 0.07605430928640033, 0.010969371531692355, 0.14698957852467756, 0.033639406030523226, 0.04387748612676942, 0.011759814627684403, 0.964304799470121, 0.017639721941526604, 0.9845950315125463, 0.29145658400601443, 0.15285785619102127, 0.1585615075414325, 0.07728447579807232, 0.09011769133649761, 0.05446987039642735, 0.08583995282368918, 0.03222563012982351, 0.018536866888836535, 0.039070011750317005, 0.6487359074020976, 0.12807661691200212, 0.06682258273669675, 0.025058468526261285, 0.0055685485613913965, 0.011137097122782793, 0.0027842742806956982, 0.022274194245565586, 0.06403830845600106, 0.02784274280695698, 0.013966000809457224, 0.02793200161891445, 0.02793200161891445, 0.04189800242837167, 0.8519260493768906, 0.013966000809457224, 0.026229117382091684, 0.9442482257553007, 0.15238956344788915, 0.08249481827834249, 0.1273082858445314, 0.08249481827834249, 0.10531759221125568, 0.03245113168586095, 0.3843022298182727, 0.017830292135088435, 0.006656642397099682, 0.008796277453310294, 0.010027247149465113, 0.020054494298930227, 0.9425612320497208, 0.010027247149465113, 0.003545123313703707, 0.5034075105459264, 0.0017725616568518535, 0.0017725616568518535, 0.003545123313703707, 0.00531768497055556, 0.003545123313703707, 0.45909346912463006, 0.019498178225370387, 0.5155023826114473, 0.1425290825308136, 0.0532819000115191, 0.08791513501900651, 0.03596528250777539, 0.03596528250777539, 0.06660237501439888, 0.03996142500863933, 0.018648665004031686, 0.00532819000115191, 0.08860956901423467, 0.03426236668550407, 0.5222057267238897, 0.002362921840379591, 0.07325057705176732, 0.05789158508929998, 0.08624664717385508, 0.11223878741803058, 0.009451687361518364, 0.014177531042277546, 0.28162425368590954, 0.6695218106495208, 0.008501864262216137, 0.0021254660655540343, 0.0010627330327770172, 0.0063763981966621025, 0.004250932131108069, 0.005313665163885086, 0.013815529426101222, 0.0063763981966621025, 0.007284547591614986, 0.029138190366459944, 0.02185364277484496, 0.007284547591614986, 0.8158693302608785, 0.02185364277484496, 0.10198366628260981, 0.007326307155649195, 0.8791568586779034, 0.043957842933895167, 0.02930522862259678, 0.007326307155649195, 0.007326307155649195, 0.02930522862259678, 0.05470094264834561, 0.09102236856684709, 0.11377796070855886, 0.13347030006196328, 0.22493027616999714, 0.14047202072095152, 0.09539844397871473, 0.07439328200175002, 0.03063252788307354, 0.04069750133036913, 0.014682191955152288, 0.0636228318056599, 0.5285589103854823, 0.014682191955152288, 0.36705479887880715, 0.026095305516456682, 0.04424856152790481, 0.06353639604006844, 0.03403735502146524, 0.09899197418742806, 0.4095828387582983, 0.08934805693134625, 0.08452609830330533, 0.11260691619601415, 0.03715744589843288, 0.08835213397280049, 0.0768902355114642, 0.27174250935418093, 0.1122310891005844, 0.18434553358649183, 0.11605172192102983, 0.04584759384534512, 0.016237689486893064, 0.008118844743446532, 0.08023328922935395, 0.033091754780628355, 0.014182180620269295, 0.004727393540089765, 0.004727393540089765, 0.865113017836427, 0.033091754780628355, 0.00945478708017953, 0.023636967700448826, 0.004727393540089765, 0.00945478708017953, 0.31568464858426565, 0.14140041551170232, 0.08960840285334623, 0.09084154601187852, 0.07809906670704489, 0.06330134880465743, 0.08714211653628166, 0.059190871609549806, 0.060012967048571335, 0.014797717902387451, 0.9375049294329867, 0.07635204038211967, 0.019088010095529916, 0.07635204038211967, 0.8016964240122564, 0.06898712420321637, 0.014947210244030213, 0.11957768195224171, 0.013797424840643275, 0.10118111549805067, 0.4817600840191277, 0.07243648041337719, 0.034493562101608186, 0.025295278874512668, 0.06553776799305555, 0.03387775933230346, 0.9011483982392722, 0.006775551866460693, 0.006775551866460693, 0.013551103732921385, 0.02710220746584277, 0.005532858182661452, 0.9018558837738166, 0.011065716365322904, 0.06639429819193743, 0.005532858182661452, 0.005532858182661452, 0.027221919408042736, 0.8711014210573675, 0.006805479852010684, 0.08166575822412821, 0.9690973079553235, 0.00692212362825231, 0.00692212362825231, 0.00692212362825231, 0.9267239265863846, 0.04412971078982784, 0.1311920834728977, 0.10731977198749121, 0.09337665200486439, 0.1937248640010422, 0.08006731020326607, 0.1506279476911048, 0.10224954653926328, 0.06760300597637242, 0.03654787510597634, 0.03739291268068099, 0.09472934701826498, 0.09231278204330924, 0.08844627808338006, 0.4199989926473075, 0.042531543559221015, 0.04881461249410594, 0.11454517981290205, 0.045431421529167904, 0.026098901729521985, 0.026582214724513133], \"Term\": [\"abgasaffar\", \"abgasaffar\", \"abgasaffar\", \"abgaswert\", \"abgaswert\", \"abgaswert\", \"abgaswert\", \"abgehort\", \"abgehort\", \"abgehort\", \"abgeordnet\", \"abgeordnet\", \"abgeordnet\", \"abgeordnet\", \"abgeordnet\", \"abgeordnet\", \"abgeordnet\", \"abgeordnet\", \"abgeordnet\", \"abgeordnet\", \"abschreib\", \"achtelfinal\", \"achtelfinal\", \"aden\", \"aden\", \"admira\", \"admira\", \"admira\", \"admira\", \"agypt\", \"agypt\", \"agypt\", \"agypt\", \"agypt\", \"agypt\", \"agypt\", \"agypt\", \"agypt\", \"agypt\", \"akku\", \"akku\", \"akku\", \"akku\", \"akku\", \"akti\", \"akti\", \"akti\", \"akti\", \"akti\", \"akti\", \"akti\", \"akti\", \"akti\", \"akti\", \"aktionar\", \"aktionar\", \"aktionar\", \"aktuell\", \"aktuell\", \"aktuell\", \"aktuell\", \"aktuell\", \"aktuell\", \"aktuell\", \"aktuell\", \"aktuell\", \"aktuell\", \"alaba\", \"alaba\", \"alaba\", \"alaba\", \"alaba\", \"allerding\", \"allerding\", \"allerding\", \"allerding\", \"allerding\", \"allerding\", \"allerding\", \"allerding\", \"allerding\", \"allerding\", \"alt\", \"alt\", \"alt\", \"alt\", \"alt\", \"alt\", \"alt\", \"alt\", \"alt\", \"alt\", \"altach\", \"altach\", \"altach\", \"amtsfuhr\", \"amtsfuhr\", \"analyst\", \"analyst\", \"analyst\", \"analyst\", \"analyst\", \"analyst\", \"analyst\", \"analyst\", \"analyt\", \"analyt\", \"analyt\", \"analyt\", \"android\", \"android\", \"android\", \"android\", \"android\", \"android\", \"android\", \"android\", \"android\", \"angab\", \"angab\", \"angab\", \"angab\", \"angab\", \"angab\", \"angab\", \"angab\", \"angab\", \"angab\", \"angriff\", \"angriff\", \"angriff\", \"angriff\", \"angriff\", \"angriff\", \"angriff\", \"angriff\", \"angriff\", \"angriff\", \"anleih\", \"anleih\", \"anleih\", \"anleih\", \"anleih\", \"anleih\", \"anschlag\", \"anschlag\", \"anschlag\", \"anschlag\", \"anschlag\", \"anschlag\", \"anschlag\", \"anschlag\", \"anschlag\", \"anschlag\", \"antik\", \"antik\", \"antik\", \"antik\", \"antik\", \"anwalt\", \"anwalt\", \"anwalt\", \"anwalt\", \"anwalt\", \"anwalt\", \"anwalt\", \"anwalt\", \"anwalt\", \"anwalt\", \"appl\", \"appl\", \"appl\", \"appl\", \"appl\", \"appl\", \"appl\", \"appl\", \"appl\", \"appl\", \"apps\", \"apps\", \"apps\", \"apps\", \"apps\", \"apps\", \"apps\", \"apps\", \"arabi\", \"arabi\", \"arabi\", \"arabi\", \"arabi\", \"arabi\", \"arabi\", \"arbeit\", \"arbeit\", \"arbeit\", \"arbeit\", \"arbeit\", \"arbeit\", \"arbeit\", \"arbeit\", \"arbeit\", \"arbeit\", \"archaolog\", \"archaolog\", \"archaolog\", \"archaolog\", \"archaolog\", \"arme\", \"arme\", \"arme\", \"arme\", \"arme\", \"arme\", \"arme\", \"arztekamm\", \"arztekamm\", \"assad\", \"assad\", \"assad\", \"astronom\", \"astronom\", \"astronom\", \"astronom\", \"asvg\", \"asvg\", \"asyl\", \"asyl\", \"asyl\", \"asyl\", \"asyl\", \"asyl\", \"asyl\", \"asylantrag\", \"asylantrag\", \"asylantrag\", \"asylantrag\", \"asylantrag\", \"asylantrag\", \"asylverfahr\", \"asylverfahr\", \"asylverfahr\", \"asylwerb\", \"asylwerb\", \"asylwerb\", \"asylwerb\", \"asylwerb\", \"asylwerb\", \"asylwerb\", \"asylwerb\", \"asylwerb\", \"atletico\", \"atomabkomm\", \"atomprogramm\", \"atomwaff\", \"aufstand\", \"aufstand\", \"aufstand\", \"aufstand\", \"aufstand\", \"aufstand\", \"aufstand\", \"ausgrab\", \"ausgrab\", \"ausgrab\", \"ausschuss\", \"ausschuss\", \"ausschuss\", \"ausschuss\", \"ausschuss\", \"ausschuss\", \"ausschuss\", \"ausschuss\", \"ausschuss\", \"aussengrenz\", \"aussengrenz\", \"aussenminist\", \"aussenminist\", \"aussenminist\", \"aussenminist\", \"aussenminist\", \"aussenminist\", \"aussenminist\", \"aussenminist\", \"aussenminist\", \"austria\", \"austria\", \"austria\", \"austria\", \"austria\", \"austria\", \"austria\", \"austria\", \"austria\", \"austria\", \"autor\", \"autor\", \"autor\", \"autor\", \"autor\", \"autor\", \"autor\", \"autor\", \"autor\", \"autor\", \"autorin\", \"autorin\", \"autorin\", \"autorin\", \"autorin\", \"ayatollah\", \"bagdad\", \"bagdad\", \"balkanrout\", \"balkanrout\", \"balkanrout\", \"balkanrout\", \"ball\", \"ball\", \"ball\", \"ball\", \"ball\", \"ball\", \"ball\", \"ball\", \"ball\", \"bangkok\", \"bangkok\", \"bank\", \"bank\", \"bank\", \"bank\", \"bank\", \"bank\", \"bank\", \"bank\", \"bank\", \"bank\", \"barisic\", \"bashar\", \"bashar\", \"bay\", \"bay\", \"bay\", \"bay\", \"bay\", \"bay\", \"bay\", \"bay\", \"bay\", \"bay\", \"beamt\", \"beamt\", \"beamt\", \"beamt\", \"beamt\", \"beamt\", \"beamt\", \"beamt\", \"beamt\", \"befragt\", \"befragt\", \"befragt\", \"befragt\", \"befragt\", \"befragt\", \"befragt\", \"befragt\", \"befragt\", \"befragt\", \"behord\", \"behord\", \"behord\", \"behord\", \"behord\", \"behord\", \"behord\", \"behord\", \"behord\", \"behord\", \"beim\", \"beim\", \"beim\", \"beim\", \"beim\", \"beim\", \"beim\", \"beim\", \"beim\", \"beim\", \"beispiel\", \"beispiel\", \"beispiel\", \"beispiel\", \"beispiel\", \"beispiel\", \"beispiel\", \"beispiel\", \"beispiel\", \"beispiel\", \"bell\", \"bell\", \"bell\", \"bell\", \"bell\", \"bell\", \"bell\", \"bell\", \"benchmark\", \"benchmark\", \"benchmark\", \"bereit\", \"bereit\", \"bereit\", \"bereit\", \"bereit\", \"bereit\", \"bereit\", \"bereit\", \"bereit\", \"bereit\", \"berichtet\", \"berichtet\", \"berichtet\", \"berichtet\", \"berichtet\", \"berichtet\", \"berichtet\", \"berichtet\", \"berichtet\", \"berichtet\", \"berlin\", \"berlin\", \"berlin\", \"berlin\", \"berlin\", \"berlin\", \"berlin\", \"berlin\", \"berlin\", \"berlin\", \"beschuldigt\", \"beschuldigt\", \"beschuldigt\", \"beschuldigt\", \"beschuldigt\", \"beschuldigt\", \"best\", \"best\", \"best\", \"best\", \"best\", \"best\", \"best\", \"best\", \"best\", \"best\", \"beta\", \"beta\", \"beta\", \"beta\", \"bethesda\", \"bethesda\", \"betroff\", \"betroff\", \"betroff\", \"betroff\", \"betroff\", \"betroff\", \"betroff\", \"betroff\", \"betroff\", \"betroff\", \"betrug\", \"betrug\", \"betrug\", \"betrug\", \"betrug\", \"betrug\", \"betrug\", \"betrug\", \"betrug\", \"betrug\", \"bezirk\", \"bezirk\", \"bezirk\", \"bezirk\", \"bezirk\", \"bezirk\", \"bezirk\", \"bezirk\", \"bezirk\", \"bildschirm\", \"bildschirm\", \"bildschirm\", \"bildschirm\", \"bildschirm\", \"bildschirm\", \"bildschirm\", \"bildschirm\", \"blackhawk\", \"blackhawk\", \"blackhawk\", \"blatt\", \"blatt\", \"blatt\", \"blatt\", \"blatt\", \"blatt\", \"blatt\", \"blatt\", \"blatt\", \"blatt\", \"blau\", \"blau\", \"blau\", \"blau\", \"blau\", \"blau\", \"blau\", \"blau\", \"blau\", \"blau\", \"bluetooth\", \"bluetooth\", \"blumel\", \"blumel\", \"blumel\", \"bluttat\", \"bluttat\", \"bluttat\", \"bodentrupp\", \"bohmermann\", \"bohmermann\", \"boko\", \"boko\", \"boko\", \"bors\", \"bors\", \"bors\", \"bors\", \"bors\", \"bors\", \"bosni\", \"bosni\", \"bosni\", \"bosni\", \"bosni\", \"bosni\", \"bosni\", \"bosni\", \"bosni\", \"bosnisch\", \"bosnisch\", \"bosnisch\", \"bosnisch\", \"bosnisch\", \"bosnisch\", \"brows\", \"brows\", \"brows\", \"brows\", \"brows\", \"buch\", \"buch\", \"buch\", \"buch\", \"buch\", \"buch\", \"buch\", \"buch\", \"buch\", \"buch\", \"buffalo\", \"bull\", \"bull\", \"bull\", \"bull\", \"bull\", \"bull\", \"bull\", \"bull\", \"bundeshe\", \"bundeshe\", \"bundeshe\", \"bundeshe\", \"bundeshe\", \"bundeshe\", \"bundeshe\", \"bundesliga\", \"bundesliga\", \"bundesliga\", \"bundesliga\", \"bundesliga\", \"burgermeist\", \"burgermeist\", \"burgermeist\", \"burgermeist\", \"burgermeist\", \"burgermeist\", \"burgermeist\", \"burgermeist\", \"burgermeist\", \"burgermeist\", \"calgary\", \"champion\", \"champion\", \"champion\", \"champion\", \"champion\", \"champion\", \"champion\", \"champion\", \"charmant\", \"chef\", \"chef\", \"chef\", \"chef\", \"chef\", \"chef\", \"chef\", \"chef\", \"chef\", \"chef\", \"china\", \"china\", \"china\", \"china\", \"china\", \"china\", \"china\", \"china\", \"china\", \"china\", \"chip\", \"chip\", \"chip\", \"chip\", \"chip\", \"chip\", \"christian\", \"christian\", \"christian\", \"christian\", \"christian\", \"christian\", \"christian\", \"christian\", \"christian\", \"christian\", \"coach\", \"coach\", \"coach\", \"coach\", \"coach\", \"comput\", \"comput\", \"comput\", \"comput\", \"comput\", \"comput\", \"comput\", \"comput\", \"comput\", \"comput\", \"dabei\", \"dabei\", \"dabei\", \"dabei\", \"dabei\", \"dabei\", \"dabei\", \"dabei\", \"dabei\", \"dabei\", \"dat\", \"dat\", \"dat\", \"dat\", \"dat\", \"dat\", \"dat\", \"dat\", \"dat\", \"dat\", \"delhi\", \"delhi\", \"delhi\", \"delhi\", \"denk\", \"denk\", \"denk\", \"denk\", \"denk\", \"denk\", \"denk\", \"denk\", \"denk\", \"denk\", \"derzeit\", \"derzeit\", \"derzeit\", \"derzeit\", \"derzeit\", \"derzeit\", \"derzeit\", \"derzeit\", \"derzeit\", \"derzeit\", \"design\", \"design\", \"design\", \"design\", \"design\", \"design\", \"design\", \"design\", \"desktop\", \"desktop\", \"desktop\", \"desktop\", \"deutsch\", \"deutsch\", \"deutsch\", \"deutsch\", \"deutsch\", \"deutsch\", \"deutsch\", \"deutsch\", \"deutsch\", \"deutsch\", \"deutschland\", \"deutschland\", \"deutschland\", \"deutschland\", \"deutschland\", \"deutschland\", \"deutschland\", \"deutschland\", \"deutschland\", \"deutschland\", \"dieselmotor\", \"dieselmotor\", \"dieselmotor\", \"dieselmotor\", \"display\", \"display\", \"display\", \"display\", \"display\", \"display\", \"display\", \"displays\", \"displays\", \"displays\", \"distribution\", \"distribution\", \"diyarbakir\", \"djokovic\", \"dollar\", \"dollar\", \"dollar\", \"dollar\", \"dollar\", \"dollar\", \"dollar\", \"dollar\", \"dollar\", \"dollar\", \"doskozil\", \"doskozil\", \"doskozil\", \"doskozil\", \"draghi\", \"draghi\", \"drei\", \"drei\", \"drei\", \"drei\", \"drei\", \"drei\", \"drei\", \"drei\", \"drei\", \"drei\", \"dritt\", \"dritt\", \"dritt\", \"dritt\", \"dritt\", \"dritt\", \"dritt\", \"dritt\", \"dritt\", \"dritt\", \"duell\", \"duell\", \"duell\", \"duell\", \"duell\", \"duell\", \"duell\", \"durchreis\", \"durchsucht\", \"durchsucht\", \"durchsucht\", \"durchwink\", \"ebit\", \"ebitda\", \"eig\", \"eig\", \"eig\", \"eig\", \"eig\", \"eig\", \"eig\", \"eig\", \"eig\", \"eig\", \"eigenkapital\", \"einfach\", \"einfach\", \"einfach\", \"einfach\", \"einfach\", \"einfach\", \"einfach\", \"einfach\", \"einfach\", \"einfach\", \"eingewechselt\", \"elfmet\", \"elt\", \"elt\", \"elt\", \"elt\", \"elt\", \"elt\", \"elt\", \"elt\", \"elt\", \"elt\", \"end\", \"end\", \"end\", \"end\", \"end\", \"end\", \"end\", \"end\", \"end\", \"end\", \"endspiel\", \"entsperr\", \"entsperr\", \"entwickl\", \"entwickl\", \"entwickl\", \"entwickl\", \"entwickl\", \"entwickl\", \"entwickl\", \"entwickl\", \"entwickl\", \"entwickl\", \"erd\", \"erd\", \"erd\", \"erd\", \"erd\", \"erd\", \"erd\", \"erd\", \"erd\", \"erd\", \"erklart\", \"erklart\", \"erklart\", \"erklart\", \"erklart\", \"erklart\", \"erklart\", \"erklart\", \"erklart\", \"erklart\", \"erlernt\", \"ermittl\", \"ermittl\", \"ermittl\", \"ermittl\", \"ermittl\", \"ermittl\", \"ermittl\", \"ermittl\", \"ermittl\", \"ermittl\", \"erschoss\", \"erschoss\", \"erschoss\", \"erschoss\", \"erst\", \"erst\", \"erst\", \"erst\", \"erst\", \"erst\", \"erst\", \"erst\", \"erst\", \"erst\", \"ertrunk\", \"ertrunk\", \"erzahl\", \"erzahl\", \"erzahl\", \"erzahl\", \"erzahl\", \"erzahl\", \"erzahl\", \"erzahl\", \"etwa\", \"etwa\", \"etwa\", \"etwa\", \"etwa\", \"etwa\", \"etwa\", \"etwa\", \"etwa\", \"etwa\", \"euro\", \"euro\", \"euro\", \"euro\", \"euro\", \"euro\", \"euro\", \"euro\", \"euro\", \"euro\", \"europa\", \"europa\", \"europa\", \"europa\", \"europa\", \"europa\", \"europa\", \"europa\", \"europa\", \"europa\", \"europacup\", \"eurostat\", \"eurostat\", \"eurostat\", \"eurozon\", \"eurozon\", \"eurozon\", \"eurozon\", \"eurozon\", \"facebook\", \"facebook\", \"facebook\", \"facebook\", \"facebook\", \"facebook\", \"facebook\", \"facebook\", \"facebook\", \"facebook\", \"facett\", \"fahrzeug\", \"fahrzeug\", \"fahrzeug\", \"fahrzeug\", \"fahrzeug\", \"fahrzeug\", \"fahrzeug\", \"fahrzeug\", \"fahrzeug\", \"fahrzeug\", \"fall\", \"fall\", \"fall\", \"fall\", \"fall\", \"fall\", \"fall\", \"fall\", \"fall\", \"fall\", \"familiennachzug\", \"familiennachzug\", \"faymann\", \"faymann\", \"faymann\", \"faymann\", \"faymann\", \"faymann\", \"faymann\", \"faymann\", \"faymann\", \"featur\", \"featur\", \"featur\", \"featur\", \"featur\", \"featur\", \"festgenomm\", \"festgenomm\", \"festgenomm\", \"festgenomm\", \"festgenomm\", \"festgenomm\", \"festgenomm\", \"festgenomm\", \"festnahm\", \"festnahm\", \"festnahm\", \"festnahm\", \"festnahm\", \"festnahm\", \"festnehm\", \"fiction\", \"fiction\", \"fiction\", \"fiction\", \"fifa\", \"fifa\", \"fifa\", \"fifa\", \"fifa\", \"fifa\", \"film\", \"film\", \"film\", \"film\", \"film\", \"film\", \"film\", \"film\", \"film\", \"film\", \"final\", \"final\", \"final\", \"final\", \"final\", \"final\", \"final\", \"final\", \"final\", \"final\", \"finanzminist\", \"finanzminist\", \"finanzminist\", \"finanzminist\", \"finanzminist\", \"finanzminist\", \"finanzminist\", \"finanzminist\", \"finanzminist\", \"firmwar\", \"firmwar\", \"firmwar\", \"fluchtling\", \"fluchtling\", \"fluchtling\", \"fluchtling\", \"fluchtling\", \"fluchtling\", \"fluchtling\", \"fluchtling\", \"fluchtling\", \"fluchtling\", \"flyer\", \"forsch\", \"forsch\", \"forsch\", \"forsch\", \"forsch\", \"forsch\", \"forsch\", \"forsch\", \"forsch\", \"forsch\", \"frag\", \"frag\", \"frag\", \"frag\", \"frag\", \"frag\", \"frag\", \"frag\", \"frag\", \"frag\", \"franziskus\", \"franziskus\", \"franziskus\", \"franziskus\", \"franziskus\", \"franziskus\", \"franziskus\", \"franziskus\", \"frau\", \"frau\", \"frau\", \"frau\", \"frau\", \"frau\", \"frau\", \"frau\", \"frau\", \"frau\", \"freiheit\", \"freiheit\", \"freiheit\", \"freiheit\", \"freiheit\", \"freiheit\", \"freiheit\", \"freiheit\", \"freiheit\", \"freiheit\", \"freilassing\", \"freilassing\", \"freistoss\", \"friedhof\", \"friedhof\", \"friedhof\", \"frontex\", \"frontex\", \"fund\", \"fund\", \"fund\", \"fund\", \"fund\", \"fund\", \"fund\", \"funktionalitat\", \"funktionalitat\", \"fussball\", \"fussball\", \"fussball\", \"fussball\", \"fussball\", \"fussball\", \"fussball\", \"fussball\", \"fussball\", \"fussball\", \"ganz\", \"ganz\", \"ganz\", \"ganz\", \"ganz\", \"ganz\", \"ganz\", \"ganz\", \"ganz\", \"ganz\", \"gazastreif\", \"gazprom\", \"gazprom\", \"gazprom\", \"gazprom\", \"gazprom\", \"gazprom\", \"gedenkstatt\", \"gedenkstatt\", \"gedenkstatt\", \"geht\", \"geht\", \"geht\", \"geht\", \"geht\", \"geht\", \"geht\", \"geht\", \"geht\", \"geht\", \"geld\", \"geld\", \"geld\", \"geld\", \"geld\", \"geld\", \"geld\", \"geld\", \"geld\", \"geld\", \"geldhaus\", \"geldhaus\", \"geldpolit\", \"geldpolit\", \"geldpolit\", \"geldpolit\", \"gemeinderat\", \"gemeinderat\", \"gemeinderat\", \"gemeinderat\", \"gemeinderat\", \"gemeinderat\", \"gend\", \"genr\", \"genr\", \"genr\", \"genr\", \"gerat\", \"gerat\", \"gerat\", \"gerat\", \"gerat\", \"gerat\", \"gerat\", \"gerat\", \"gerat\", \"gerat\", \"gericht\", \"gericht\", \"gericht\", \"gericht\", \"gericht\", \"gericht\", \"gericht\", \"gericht\", \"gericht\", \"gericht\", \"gern\", \"gern\", \"gern\", \"gern\", \"gern\", \"gern\", \"gern\", \"gern\", \"gern\", \"gern\", \"geschaftsjahr\", \"geschicht\", \"geschicht\", \"geschicht\", \"geschicht\", \"geschicht\", \"geschicht\", \"geschicht\", \"geschicht\", \"geschicht\", \"geschicht\", \"gesellschaft\", \"gesellschaft\", \"gesellschaft\", \"gesellschaft\", \"gesellschaft\", \"gesellschaft\", \"gesellschaft\", \"gesellschaft\", \"gesellschaft\", \"gesellschaft\", \"getotet\", \"getotet\", \"getotet\", \"getotet\", \"getotet\", \"getotet\", \"getotet\", \"getotet\", \"gibt\", \"gibt\", \"gibt\", \"gibt\", \"gibt\", \"gibt\", \"gibt\", \"gibt\", \"gibt\", \"gibt\", \"glaubig\", \"glaubig\", \"glaubig\", \"glaubig\", \"glaubig\", \"glaubig\", \"glaubig\", \"glaubig\", \"glaubig\", \"glock\", \"glock\", \"glock\", \"goali\", \"googl\", \"googl\", \"googl\", \"googl\", \"googl\", \"googl\", \"googl\", \"googl\", \"googl\", \"grab\", \"grab\", \"grab\", \"grab\", \"grab\", \"grab\", \"grab\", \"grab\", \"grab\", \"grab\", \"grabn\", \"greenpeac\", \"greenpeac\", \"greenpeac\", \"greenpeac\", \"greenpeac\", \"greenpeac\", \"greenpeac\", \"grenz\", \"grenz\", \"grenz\", \"grenz\", \"grenz\", \"grenz\", \"grenz\", \"grenz\", \"grenz\", \"grenz\", \"grenzkontroll\", \"grenzkontroll\", \"grenzkontroll\", \"grenzkontroll\", \"grenzkontroll\", \"grenzmanagement\", \"grenzsicher\", \"grenzsicher\", \"grenzubergang\", \"grenzubergang\", \"grenzubergang\", \"grenzzaun\", \"grenzzaun\", \"grenzzaun\", \"grenzzaun\", \"griechenland\", \"griechenland\", \"griechenland\", \"griechenland\", \"griechenland\", \"griechenland\", \"griechenland\", \"griechenland\", \"griechenland\", \"griechenland\", \"griechisch\", \"griechisch\", \"griechisch\", \"griechisch\", \"griechisch\", \"griechisch\", \"griechisch\", \"griechisch\", \"griechisch\", \"griechisch\", \"griss\", \"griss\", \"griss\", \"griss\", \"grodig\", \"grodig\", \"gross\", \"gross\", \"gross\", \"gross\", \"gross\", \"gross\", \"gross\", \"gross\", \"gross\", \"gross\", \"grun\", \"grun\", \"grun\", \"grun\", \"grun\", \"grun\", \"grun\", \"grun\", \"grun\", \"grun\", \"guatemala\", \"guatemala\", \"guatemala\", \"guatemala\", \"hadi\", \"hadi\", \"haft\", \"haft\", \"haft\", \"haft\", \"haft\", \"haft\", \"haft\", \"haft\", \"haft\", \"haft\", \"haftbefehl\", \"haftbefehl\", \"haftbefehl\", \"haftstraf\", \"haftstraf\", \"haftstraf\", \"haftstraf\", \"haftstraf\", \"haimbuchn\", \"haimbuchn\", \"haimbuchn\", \"haimbuchn\", \"halbfinal\", \"hamas\", \"happel\", \"haram\", \"haram\", \"haram\", \"hardwar\", \"hardwar\", \"hardwar\", \"hardwar\", \"hardwar\", \"hardwar\", \"hardwar\", \"hatt\", \"hatt\", \"hatt\", \"hatt\", \"hatt\", \"hatt\", \"hatt\", \"hatt\", \"hatt\", \"hatt\", \"haupl\", \"haupl\", \"haupl\", \"haupl\", \"havanna\", \"havanna\", \"hearing\", \"hearing\", \"herstell\", \"herstell\", \"herstell\", \"herstell\", \"herstell\", \"herstell\", \"herstell\", \"herstell\", \"herstell\", \"herstell\", \"heta\", \"heta\", \"heta\", \"heta\", \"heta\", \"heut\", \"heut\", \"heut\", \"heut\", \"heut\", \"heut\", \"heut\", \"heut\", \"heut\", \"heut\", \"hilfsprogramm\", \"hilfsprogramm\", \"hilfsprogramm\", \"hilfsprogramm\", \"hinspiel\", \"hitl\", \"hitl\", \"hitl\", \"hof\", \"hof\", \"hof\", \"hof\", \"hof\", \"hof\", \"hof\", \"hof\", \"hof\", \"hof\", \"hoh\", \"hoh\", \"hoh\", \"hoh\", \"hoh\", \"hoh\", \"hoh\", \"hoh\", \"hoh\", \"hoh\", \"honorar\", \"honorar\", \"honorar\", \"honorar\", \"hundstorf\", \"hundstorf\", \"hundstorf\", \"hundstorf\", \"hundstorf\", \"hypo\", \"hypo\", \"hypo\", \"hypo\", \"hypo\", \"hypo\", \"hypo\", \"hypo\", \"hypo\", \"idomeni\", \"idyll\", \"idyll\", \"imm\", \"imm\", \"imm\", \"imm\", \"imm\", \"imm\", \"imm\", \"imm\", \"imm\", \"imm\", \"indi\", \"indi\", \"indi\", \"indi\", \"indi\", \"indi\", \"indi\", \"indi\", \"indi\", \"indi\", \"indisch\", \"indisch\", \"indisch\", \"indisch\", \"indisch\", \"indisch\", \"indisch\", \"indisch\", \"infiziert\", \"infiziert\", \"infiziert\", \"innenministerin\", \"innenministerin\", \"innenministerin\", \"innenministerin\", \"innenministerin\", \"innenministerin\", \"inszenier\", \"inszenier\", \"inszenier\", \"inszenier\", \"international\", \"international\", \"international\", \"international\", \"international\", \"international\", \"international\", \"international\", \"international\", \"international\", \"investition\", \"investition\", \"investition\", \"investition\", \"investition\", \"investition\", \"investition\", \"investition\", \"investition\", \"investor\", \"investor\", \"investor\", \"investor\", \"investor\", \"investor\", \"investor\", \"investor\", \"investor\", \"investor\", \"ipad\", \"ipad\", \"ipad\", \"ipad\", \"ipad\", \"ipad\", \"iphon\", \"iphon\", \"iphon\", \"iphon\", \"iphon\", \"iphon\", \"iphon\", \"iphon\", \"irak\", \"irak\", \"irak\", \"irak\", \"irak\", \"irak\", \"irak\", \"irak\", \"irak\", \"iran\", \"iran\", \"iran\", \"iran\", \"iran\", \"iran\", \"iran\", \"iran\", \"iran\", \"iran\", \"irmgard\", \"irmgard\", \"irmgard\", \"islam\", \"islam\", \"islam\", \"islam\", \"islam\", \"islam\", \"islam\", \"islam\", \"israel\", \"israel\", \"israel\", \"israel\", \"israel\", \"israel\", \"israel\", \"israel\", \"israel\", \"israelis\", \"israelis\", \"israelis\", \"itun\", \"itun\", \"jahr\", \"jahr\", \"jahr\", \"jahr\", \"jahr\", \"jahr\", \"jahr\", \"jahr\", \"jahr\", \"jahr\", \"jahresumsatz\", \"jahrhundert\", \"jahrhundert\", \"jahrhundert\", \"jahrhundert\", \"jahrhundert\", \"jahrhundert\", \"jahrhundert\", \"jahrhundert\", \"jahrhundert\", \"jahrig\", \"jahrig\", \"jahrig\", \"jahrig\", \"jahrig\", \"jahrig\", \"jahrig\", \"jahrig\", \"jahrig\", \"jahrig\", \"japan\", \"japan\", \"japan\", \"japan\", \"japan\", \"japan\", \"japan\", \"japan\", \"japan\", \"jem\", \"jem\", \"jem\", \"jem\", \"jerusal\", \"jerusal\", \"jerusal\", \"jerusal\", \"jerusalem\", \"jud\", \"jud\", \"jud\", \"jud\", \"jud\", \"jud\", \"judisch\", \"judisch\", \"judisch\", \"judisch\", \"judisch\", \"judisch\", \"judisch\", \"jung\", \"jung\", \"jung\", \"jung\", \"jung\", \"jung\", \"jung\", \"jung\", \"jung\", \"jung\", \"juraczka\", \"justiz\", \"justiz\", \"justiz\", \"justiz\", \"justiz\", \"justiz\", \"justiz\", \"justiz\", \"juventus\", \"kainz\", \"kamera\", \"kamera\", \"kamera\", \"kamera\", \"kamera\", \"kamera\", \"kamera\", \"kamera\", \"kamera\", \"kamera\", \"kampf\", \"kampf\", \"kampf\", \"kampf\", \"kampf\", \"kampf\", \"kampf\", \"kampf\", \"kampf\", \"kampf\", \"kandidat\", \"kandidat\", \"kandidat\", \"kandidat\", \"kandidat\", \"kandidat\", \"kandidat\", \"kandidat\", \"kandidat\", \"kandidat\", \"kandidatur\", \"kandidatur\", \"kandidatur\", \"kandidatur\", \"kandidatur\", \"kandidatur\", \"kandidatur\", \"kapitalerhoh\", \"kapitalmarkt\", \"kapitan\", \"kapitan\", \"kapitan\", \"kapitan\", \"kerry\", \"kerry\", \"kerry\", \"kerry\", \"khamenei\", \"khol\", \"khol\", \"khol\", \"kickl\", \"kickl\", \"kickstart\", \"kickstart\", \"kickstart\", \"kiew\", \"kiew\", \"kiew\", \"kiew\", \"kiew\", \"kind\", \"kind\", \"kind\", \"kind\", \"kind\", \"kind\", \"kind\", \"kind\", \"kind\", \"kind\", \"kindheit\", \"kindheit\", \"kindheit\", \"kindheit\", \"kirch\", \"kirch\", \"kirch\", \"kirch\", \"kirch\", \"kirch\", \"kirch\", \"kirch\", \"kirch\", \"kirch\", \"klische\", \"klische\", \"klost\", \"klost\", \"klost\", \"kompliz\", \"komposition\", \"konflikt\", \"konflikt\", \"konflikt\", \"konflikt\", \"konflikt\", \"konflikt\", \"konflikt\", \"konflikt\", \"konflikt\", \"konflikt\", \"konjunkturell\", \"konnt\", \"konnt\", \"konnt\", \"konnt\", \"konnt\", \"konnt\", \"konnt\", \"konnt\", \"konnt\", \"konnt\", \"konz\", \"konz\", \"konz\", \"konz\", \"konz\", \"konz\", \"konz\", \"konz\", \"konz\", \"konz\", \"korun\", \"kost\", \"kost\", \"kost\", \"kost\", \"kost\", \"kost\", \"kost\", \"kost\", \"kost\", \"kost\", \"kredit\", \"kredit\", \"kredit\", \"kredit\", \"kredit\", \"kredit\", \"kredit\", \"kredit\", \"kredit\", \"krieg\", \"krieg\", \"krieg\", \"krieg\", \"krieg\", \"krieg\", \"krieg\", \"krieg\", \"krieg\", \"krieg\", \"krim\", \"krim\", \"krim\", \"kroati\", \"kroati\", \"kroati\", \"kroati\", \"kroati\", \"kroati\", \"kroati\", \"kroati\", \"kroati\", \"kroati\", \"kubikmet\", \"kubikmet\", \"kubikmet\", \"kubikmet\", \"kubikmet\", \"kult\", \"kult\", \"kult\", \"kult\", \"kult\", \"kult\", \"kund\", \"kund\", \"kund\", \"kund\", \"kund\", \"kund\", \"kund\", \"kund\", \"kund\", \"kund\", \"kunst\", \"kunst\", \"kunst\", \"kunst\", \"kunst\", \"kunst\", \"kunst\", \"kunst\", \"kunst\", \"kunstlerin\", \"lacht\", \"lacht\", \"lacht\", \"lacht\", \"lacht\", \"land\", \"land\", \"land\", \"land\", \"land\", \"land\", \"land\", \"land\", \"land\", \"land\", \"landesamt\", \"landesamt\", \"landeshauptmann\", \"landeshauptmann\", \"landeshauptmann\", \"landeshauptmann\", \"landeshauptmann\", \"landeshauptmann\", \"landeshauptmann\", \"landeshauptmann\", \"landespartei\", \"landespartei\", \"landtag\", \"landtag\", \"landtag\", \"landtag\", \"landtag\", \"landtag\", \"landtag\", \"landtagssitz\", \"landtagssitz\", \"landtagswahl\", \"landtagswahl\", \"landtagswahl\", \"landtagswahl\", \"lang\", \"lang\", \"lang\", \"lang\", \"lang\", \"lang\", \"lang\", \"lang\", \"lang\", \"lang\", \"laun\", \"laun\", \"laut\", \"laut\", \"laut\", \"laut\", \"laut\", \"laut\", \"laut\", \"laut\", \"laut\", \"laut\", \"lawrow\", \"leaf\", \"leagu\", \"leagu\", \"leagu\", \"leagu\", \"leagu\", \"leagu\", \"leagu\", \"leb\", \"leb\", \"leb\", \"leb\", \"leb\", \"leb\", \"leb\", \"leb\", \"leb\", \"leb\", \"leitn\", \"leitn\", \"leitn\", \"leitn\", \"leitn\", \"leitn\", \"leitn\", \"leitn\", \"lektur\", \"lern\", \"lern\", \"lern\", \"lern\", \"lern\", \"lern\", \"lern\", \"lern\", \"lern\", \"lern\", \"leut\", \"leut\", \"leut\", \"leut\", \"leut\", \"leut\", \"leut\", \"leut\", \"leut\", \"leut\", \"lieb\", \"lieb\", \"lieb\", \"lieb\", \"lieb\", \"lieb\", \"lieb\", \"lieb\", \"lieb\", \"lieb\", \"liebevoll\", \"lied\", \"lied\", \"lied\", \"lied\", \"lied\", \"liga\", \"liga\", \"liga\", \"liga\", \"liga\", \"liga\", \"liga\", \"liga\", \"liga\", \"linux\", \"linux\", \"linux\", \"linux\", \"linux\", \"literar\", \"literar\", \"literatur\", \"literatur\", \"literatur\", \"lorenz\", \"lorenz\", \"lorenz\", \"luftangriff\", \"luftangriff\", \"luftangriff\", \"luftangriff\", \"lufthansa\", \"lufthansa\", \"lufthansa\", \"lufthansa\", \"luftschlag\", \"lugn\", \"lugn\", \"lugn\", \"lugn\", \"lugn\", \"lugn\", \"lumia\", \"lumia\", \"lumia\", \"lumia\", \"maas\", \"maas\", \"maas\", \"maas\", \"macbook\", \"mach\", \"mach\", \"mach\", \"mach\", \"mach\", \"mach\", \"mach\", \"mach\", \"mach\", \"mach\", \"macht\", \"macht\", \"macht\", \"macht\", \"macht\", \"macht\", \"macht\", \"macht\", \"macht\", \"macht\", \"machthab\", \"machthab\", \"maggi\", \"maggi\", \"maggi\", \"maggi\", \"maggi\", \"malerei\", \"malerei\", \"mama\", \"manchmal\", \"manchmal\", \"manchmal\", \"manchmal\", \"manchmal\", \"manchmal\", \"manchmal\", \"manchmal\", \"manchmal\", \"manchmal\", \"manipuliert\", \"manipuliert\", \"manipuliert\", \"manipuliert\", \"manipuliert\", \"manipuliert\", \"manipuliert\", \"mann\", \"mann\", \"mann\", \"mann\", \"mann\", \"mann\", \"mann\", \"mann\", \"mann\", \"mann\", \"mannschaft\", \"mannschaft\", \"mannschaft\", \"mannschaft\", \"mannschaft\", \"mannschaft\", \"mannschaft\", \"mannschaft\", \"mannschaft\", \"mapl\", \"markt\", \"markt\", \"markt\", \"markt\", \"markt\", \"markt\", \"markt\", \"markt\", \"markt\", \"markt\", \"marktanteil\", \"marktanteil\", \"marktanteil\", \"marktanteil\", \"marktanteil\", \"marktanteil\", \"marktanteil\", \"marktanteil\", \"marktanteil\", \"massenmord\", \"massenmord\", \"massnahm\", \"massnahm\", \"massnahm\", \"massnahm\", \"massnahm\", \"massnahm\", \"massnahm\", \"massnahm\", \"massnahm\", \"massnahm\", \"match\", \"match\", \"match\", \"match\", \"match\", \"match\", \"match\", \"match\", \"match\", \"mauthaus\", \"mauthaus\", \"mazedon\", \"mazedon\", \"mazedon\", \"mazedoni\", \"mazedoni\", \"mazedoni\", \"mazedoni\", \"mazedoni\", \"mazedoni\", \"megapixel\", \"megapixel\", \"megapixel\", \"megapixel\", \"mensch\", \"mensch\", \"mensch\", \"mensch\", \"mensch\", \"mensch\", \"mensch\", \"mensch\", \"mensch\", \"mensch\", \"messerattack\", \"messerattack\", \"microsoft\", \"microsoft\", \"microsoft\", \"microsoft\", \"microsoft\", \"microsoft\", \"microsoft\", \"microsoft\", \"microsoft\", \"microsoft\", \"migrant\", \"migrant\", \"migrant\", \"migrant\", \"migrant\", \"migrant\", \"migrant\", \"migrant\", \"migrant\", \"migrant\", \"mikl\", \"mikl\", \"mikl\", \"mikl\", \"mikl\", \"mikl\", \"mikl\", \"mikro\", \"militar\", \"militar\", \"militar\", \"militar\", \"militar\", \"militar\", \"militar\", \"militar\", \"militar\", \"militar\", \"miliz\", \"miliz\", \"miliz\", \"miliz\", \"miliz\", \"milliard\", \"milliard\", \"milliard\", \"milliard\", \"milliard\", \"milliard\", \"milliard\", \"milliard\", \"milliard\", \"milliard\", \"million\", \"million\", \"million\", \"million\", \"million\", \"million\", \"million\", \"million\", \"million\", \"million\", \"minut\", \"minut\", \"minut\", \"minut\", \"minut\", \"minut\", \"minut\", \"minut\", \"minut\", \"minut\", \"mistura\", \"mitarbeit\", \"mitarbeit\", \"mitarbeit\", \"mitarbeit\", \"mitarbeit\", \"mitarbeit\", \"mitarbeit\", \"mitarbeit\", \"mitarbeit\", \"mitarbeit\", \"mittelalt\", \"mittelalt\", \"mittelalt\", \"modell\", \"modell\", \"modell\", \"modell\", \"modell\", \"modell\", \"modell\", \"modell\", \"modell\", \"modell\", \"modul\", \"modul\", \"modul\", \"modul\", \"moglich\", \"moglich\", \"moglich\", \"moglich\", \"moglich\", \"moglich\", \"moglich\", \"moglich\", \"moglich\", \"moglich\", \"molenbeek\", \"molenbeek\", \"monat\", \"monat\", \"monat\", \"monat\", \"monat\", \"monat\", \"monat\", \"monat\", \"monat\", \"monat\", \"montag\", \"montag\", \"montag\", \"montag\", \"montag\", \"montag\", \"montag\", \"montag\", \"montag\", \"montag\", \"mosche\", \"mosche\", \"mosche\", \"mosche\", \"mosche\", \"mosche\", \"moskau\", \"moskau\", \"moskau\", \"moskau\", \"moskau\", \"moskau\", \"moskau\", \"moskau\", \"moskau\", \"motor\", \"motor\", \"motor\", \"motor\", \"motor\", \"motor\", \"motor\", \"motor\", \"motor\", \"mozart\", \"museum\", \"museum\", \"museum\", \"museum\", \"museum\", \"museum\", \"museum\", \"musik\", \"musik\", \"musik\", \"musik\", \"musik\", \"musik\", \"musik\", \"musik\", \"musik\", \"musik\", \"musikal\", \"musikal\", \"musikal\", \"musikal\", \"muslim\", \"muslim\", \"muslim\", \"muslim\", \"muslim\", \"muslim\", \"muss\", \"muss\", \"muss\", \"muss\", \"muss\", \"muss\", \"muss\", \"muss\", \"muss\", \"muss\", \"mutmass\", \"mutmass\", \"mutmass\", \"mutmass\", \"mutmass\", \"mutmass\", \"mutmass\", \"mutmass\", \"mutmass\", \"mutmass\", \"nadal\", \"nato\", \"nato\", \"nato\", \"nato\", \"nato\", \"nato\", \"natur\", \"natur\", \"natur\", \"natur\", \"natur\", \"natur\", \"natur\", \"natur\", \"natur\", \"natur\", \"negativzins\", \"neos\", \"neos\", \"neos\", \"neos\", \"neos\", \"neos\", \"netanjahu\", \"netanjahu\", \"netanjahu\", \"neu\", \"neu\", \"neu\", \"neu\", \"neu\", \"neu\", \"neu\", \"neu\", \"neu\", \"neu\", \"nexus\", \"nexus\", \"nexus\", \"nexus\", \"nexus\", \"nexus\", \"niederlag\", \"niederlag\", \"niederlag\", \"niederlag\", \"niederlag\", \"niederlag\", \"niederlag\", \"niederlag\", \"niederlag\", \"niederlag\", \"norbert\", \"norbert\", \"norbert\", \"norbert\", \"norbert\", \"norbert\", \"norbert\", \"norbert\", \"nordkorea\", \"nordkorea\", \"nordkorea\", \"nordkorea\", \"nordkoreas\", \"nordrhein\", \"nordrhein\", \"nordrhein\", \"nordrhein\", \"notenbank\", \"notenbank\", \"notenbank\", \"notenbank\", \"notenbank\", \"notenbank\", \"notquarti\", \"nutz\", \"nutz\", \"nutz\", \"nutz\", \"nutz\", \"nutz\", \"nutz\", \"nutz\", \"nutz\", \"nutz\", \"obama\", \"obama\", \"obama\", \"obama\", \"obama\", \"obama\", \"obama\", \"obama\", \"obama\", \"obergrenz\", \"obergrenz\", \"obergrenz\", \"obergrenz\", \"obergrenz\", \"obergrenz\", \"oberosterreich\", \"oberosterreich\", \"oberosterreich\", \"oberosterreich\", \"oberosterreich\", \"oberosterreich\", \"oberosterreich\", \"oberosterreich\", \"oberosterreich\", \"oberosterreich\", \"oculus\", \"oculus\", \"oculus\", \"oenb\", \"oenb\", \"oenb\", \"offshor\", \"offshor\", \"offshor\", \"offshor\", \"oil\", \"oper\", \"oper\", \"oper\", \"oper\", \"opf\", \"opf\", \"opf\", \"opf\", \"opf\", \"opf\", \"opf\", \"opf\", \"opf\", \"opf\", \"orch\", \"osterreich\", \"osterreich\", \"osterreich\", \"osterreich\", \"osterreich\", \"osterreich\", \"osterreich\", \"osterreich\", \"osterreich\", \"osterreich\", \"palastinens\", \"palastinens\", \"palastinens\", \"panama\", \"panama\", \"panama\", \"panama\", \"panama\", \"panama\", \"panama\", \"panama\", \"pap\", \"pap\", \"pap\", \"pap\", \"pap\", \"pap\", \"pap\", \"pap\", \"papst\", \"papst\", \"papst\", \"papst\", \"papst\", \"papst\", \"papst\", \"papst\", \"parlament\", \"parlament\", \"parlament\", \"parlament\", \"parlament\", \"parlament\", \"parlament\", \"parlament\", \"parlament\", \"parlament\", \"partei\", \"partei\", \"partei\", \"partei\", \"partei\", \"partei\", \"partei\", \"partei\", \"partei\", \"partei\", \"parteiint\", \"parteiobmann\", \"parteivorstand\", \"parteivorstand\", \"parti\", \"parti\", \"parti\", \"parti\", \"parti\", \"parti\", \"parti\", \"parti\", \"passwort\", \"passwort\", \"passwort\", \"passwort\", \"patch\", \"patch\", \"patch\", \"peking\", \"peking\", \"peking\", \"peking\", \"peking\", \"peking\", \"peking\", \"peking\", \"peskow\", \"peskow\", \"petro\", \"petro\", \"pfeiff\", \"pfeiff\", \"pfeiff\", \"pfeiff\", \"pfeiff\", \"pfeiff\", \"pfeiff\", \"philosoph\", \"philosoph\", \"philosoph\", \"philosoph\", \"philosophi\", \"philosophi\", \"philosophi\", \"philosophi\", \"pipelin\", \"pipelin\", \"pipelin\", \"pipelin\", \"pipelin\", \"pipelin\", \"pipelin\", \"pixel\", \"pixel\", \"pixel\", \"pixel\", \"pixel\", \"pjongjang\", \"platz\", \"platz\", \"platz\", \"platz\", \"platz\", \"platz\", \"platz\", \"platz\", \"platz\", \"platz\", \"polit\", \"polit\", \"polit\", \"polit\", \"polit\", \"polit\", \"polit\", \"polit\", \"polit\", \"polit\", \"polizei\", \"polizei\", \"polizei\", \"polizei\", \"polizei\", \"polizei\", \"polizei\", \"polizei\", \"polizei\", \"polizei\", \"porsch\", \"porsch\", \"porsch\", \"porsch\", \"porsch\", \"porsch\", \"porsch\", \"porsch\", \"porsch\", \"prasident\", \"prasident\", \"prasident\", \"prasident\", \"prasident\", \"prasident\", \"prasident\", \"prasident\", \"prasident\", \"prasident\", \"pressefrei\", \"pressefrei\", \"pressefrei\", \"preview\", \"preview\", \"preview\", \"princ\", \"princ\", \"princ\", \"princ\", \"proll\", \"proll\", \"proll\", \"proll\", \"proll\", \"prozent\", \"prozent\", \"prozent\", \"prozent\", \"prozent\", \"prozent\", \"prozent\", \"prozent\", \"prozent\", \"prozent\", \"prozessor\", \"prozessor\", \"prozessor\", \"prozessor\", \"prozessor\", \"prozessor\", \"punkt\", \"punkt\", \"punkt\", \"punkt\", \"punkt\", \"punkt\", \"punkt\", \"punkt\", \"punkt\", \"punkt\", \"putin\", \"putin\", \"putin\", \"putin\", \"putin\", \"putin\", \"putin\", \"quartal\", \"quartal\", \"quartal\", \"quartal\", \"quartal\", \"quartal\", \"quartal\", \"quartal\", \"quarti\", \"quarti\", \"quarti\", \"quarti\", \"quarti\", \"quarti\", \"radkersburg\", \"radkersburg\", \"raket\", \"raket\", \"raket\", \"raket\", \"raket\", \"raket\", \"raket\", \"ramallah\", \"rapid\", \"rapid\", \"rapid\", \"rapid\", \"rapid\", \"rapid\", \"rapid\", \"rapid\", \"rapid\", \"razzia\", \"rebell\", \"rebell\", \"rebell\", \"rebell\", \"rebell\", \"rebell\", \"rebell\", \"rebell\", \"regenschau\", \"regenschau\", \"regier\", \"regier\", \"regier\", \"regier\", \"regier\", \"regier\", \"regier\", \"regier\", \"regier\", \"regier\", \"regierungschef\", \"regierungschef\", \"regierungschef\", \"regierungschef\", \"regierungschef\", \"regierungschef\", \"regierungschef\", \"regierungschef\", \"regierungschef\", \"reising\", \"rezession\", \"rezession\", \"rezession\", \"rezession\", \"rezession\", \"riad\", \"riad\", \"riad\", \"richt\", \"richt\", \"richt\", \"richt\", \"richt\", \"richt\", \"richt\", \"richt\", \"richt\", \"richt\", \"rift\", \"rift\", \"rift\", \"rohani\", \"rohani\", \"romisch\", \"romisch\", \"romisch\", \"romisch\", \"romisch\", \"romisch\", \"ruckkauf\", \"ruckruf\", \"ruckruf\", \"ruckruf\", \"ruckruf\", \"ruckruf\", \"ruckspiel\", \"ruckzahl\", \"ruckzahl\", \"rudolf\", \"rudolf\", \"rudolf\", \"rudolf\", \"rudolf\", \"rudolf\", \"rudolf\", \"rudolf\", \"rudolf\", \"rund\", \"rund\", \"rund\", \"rund\", \"rund\", \"rund\", \"rund\", \"rund\", \"rund\", \"rund\", \"russisch\", \"russisch\", \"russisch\", \"russisch\", \"russisch\", \"russisch\", \"russisch\", \"russisch\", \"russisch\", \"russisch\", \"russland\", \"russland\", \"russland\", \"russland\", \"russland\", \"russland\", \"russland\", \"russland\", \"russland\", \"russland\", \"sag\", \"sag\", \"sag\", \"sag\", \"sag\", \"sag\", \"sag\", \"sag\", \"sag\", \"sag\", \"sagt\", \"sagt\", \"sagt\", \"sagt\", \"sagt\", \"sagt\", \"sagt\", \"sagt\", \"sagt\", \"sagt\", \"saison\", \"saison\", \"saison\", \"saison\", \"saison\", \"saison\", \"saison\", \"saison\", \"saison\", \"saison\", \"salzburg\", \"salzburg\", \"salzburg\", \"salzburg\", \"salzburg\", \"salzburg\", \"salzburg\", \"salzburg\", \"salzburg\", \"salzburg\", \"samsung\", \"samsung\", \"samsung\", \"samsung\", \"samsung\", \"samsung\", \"samsung\", \"sanaa\", \"sanaa\", \"sanktion\", \"sanktion\", \"sanktion\", \"sanktion\", \"sanktion\", \"sanktion\", \"sanktion\", \"sanktion\", \"sanktion\", \"sarajevo\", \"sarajevo\", \"sarajevo\", \"sarajevo\", \"sarajevo\", \"sarajevo\", \"sarajevo\", \"saudi\", \"saudi\", \"saudi\", \"saudi\", \"saudi\", \"saudi\", \"saudi\", \"schaub\", \"scheng\", \"scheng\", \"schickhof\", \"schickhof\", \"schiit\", \"schiitisch\", \"schiitisch\", \"schiitisch\", \"schon\", \"schon\", \"schon\", \"schon\", \"schon\", \"schon\", \"schon\", \"schon\", \"schon\", \"schon\", \"schuldenschnitt\", \"schuldenschnitt\", \"schussel\", \"schussel\", \"schussel\", \"schutzsuch\", \"schutzsuch\", \"sehnsucht\", \"sehnsucht\", \"seien\", \"seien\", \"seien\", \"seien\", \"seien\", \"seien\", \"seien\", \"seien\", \"seien\", \"seien\", \"seit\", \"seit\", \"seit\", \"seit\", \"seit\", \"seit\", \"seit\", \"seit\", \"seit\", \"seit\", \"selbstfahr\", \"selbstfahr\", \"selbstfahr\", \"sensor\", \"sensor\", \"sensor\", \"sensor\", \"sensor\", \"sensor\", \"serbi\", \"serbi\", \"serbi\", \"serbi\", \"serbi\", \"serbi\", \"serbi\", \"sicherheitsrat\", \"sicherheitsrat\", \"sicherheitsrat\", \"sicherheitsrat\", \"siedlung\", \"siedlung\", \"siedlung\", \"siedlung\", \"siedlung\", \"sieg\", \"sieg\", \"sieg\", \"sieg\", \"sieg\", \"sieg\", \"sieg\", \"sieg\", \"sieg\", \"sieg\", \"silvesternacht\", \"silvesternacht\", \"silvesternacht\", \"silvesternacht\", \"singt\", \"singt\", \"singt\", \"skandal\", \"skandal\", \"skandal\", \"skandal\", \"skandal\", \"skandal\", \"skandal\", \"skandal\", \"skandal\", \"skandal\", \"skelett\", \"skelett\", \"skelett\", \"slowen\", \"slowen\", \"slowen\", \"slowen\", \"slowen\", \"slowen\", \"sloweni\", \"sloweni\", \"sloweni\", \"sloweni\", \"sloweni\", \"sloweni\", \"sloweni\", \"sloweni\", \"sloweni\", \"smartphon\", \"smartphon\", \"smartphon\", \"smartphon\", \"smartphon\", \"smartphon\", \"smartphon\", \"smartphon\", \"smartphon\", \"smartphon\", \"softwar\", \"softwar\", \"softwar\", \"softwar\", \"softwar\", \"softwar\", \"softwar\", \"softwar\", \"softwar\", \"softwar\", \"soll\", \"soll\", \"soll\", \"soll\", \"soll\", \"soll\", \"soll\", \"soll\", \"soll\", \"soll\", \"sonderzug\", \"soriano\", \"soriano\", \"sowjetrepubl\", \"sowjetrepubl\", \"sowjetrepubl\", \"sowjetrepubl\", \"sowjetrepubl\", \"soziolog\", \"soziolog\", \"soziolog\", \"speicherplatz\", \"speicherplatz\", \"speicherplatz\", \"spiel\", \"spiel\", \"spiel\", \"spiel\", \"spiel\", \"spiel\", \"spiel\", \"spiel\", \"spiel\", \"spiel\", \"spielfeld\", \"spielfeld\", \"spielfeld\", \"spielfeld\", \"spielfeld\", \"spielfeld\", \"spielfeld\", \"spielfeld\", \"spielplatz\", \"spielplatz\", \"spitzenkandidat\", \"spitzenkandidat\", \"spitzenkandidat\", \"staat\", \"staat\", \"staat\", \"staat\", \"staat\", \"staat\", \"staat\", \"staat\", \"staat\", \"staat\", \"stacheldraht\", \"stacheldraht\", \"stadion\", \"stadion\", \"stadion\", \"stadion\", \"stadion\", \"stadion\", \"stadion\", \"stadion\", \"stadion\", \"stadt\", \"stadt\", \"stadt\", \"stadt\", \"stadt\", \"stadt\", \"stadt\", \"stadt\", \"stadt\", \"stadt\", \"staffan\", \"standard\", \"standard\", \"standard\", \"standard\", \"standard\", \"standard\", \"standard\", \"standard\", \"standard\", \"standard\", \"stark\", \"stark\", \"stark\", \"stark\", \"stark\", \"stark\", \"stark\", \"stark\", \"stark\", \"stark\", \"stenzel\", \"steu\", \"steu\", \"steu\", \"steu\", \"steu\", \"steu\", \"steu\", \"steu\", \"steu\", \"steu\", \"stickoxid\", \"stickoxid\", \"stickoxid\", \"stickoxid\", \"stimm\", \"stimm\", \"stimm\", \"stimm\", \"stimm\", \"stimm\", \"stimm\", \"stimm\", \"stimm\", \"stimm\", \"strach\", \"strach\", \"strach\", \"strach\", \"strach\", \"strach\", \"strach\", \"strach\", \"strafraum\", \"strafverfolg\", \"strafverfolg\", \"strassburg\", \"strassburg\", \"strassburg\", \"strassburg\", \"sturm\", \"sturm\", \"sturm\", \"sturm\", \"sturm\", \"sturm\", \"sturm\", \"sturm\", \"sturm\", \"sturm\", \"subsidiar\", \"subsidiar\", \"sudgrenz\", \"sudgrenz\", \"sudgrenz\", \"surfac\", \"surfac\", \"surfac\", \"syri\", \"syri\", \"syri\", \"syri\", \"syri\", \"syri\", \"syri\", \"syri\", \"syri\", \"syrisch\", \"syrisch\", \"syrisch\", \"syrisch\", \"syrisch\", \"syrisch\", \"syrisch\", \"syrisch\", \"tabellenfuhr\", \"tabellenfuhr\", \"tablet\", \"tablet\", \"tablet\", \"tablet\", \"tablet\", \"tablet\", \"tablet\", \"tarif\", \"tarif\", \"tarif\", \"tarif\", \"tarif\", \"tastatur\", \"tastatur\", \"tastatur\", \"tastatur\", \"tat\", \"tat\", \"tat\", \"tat\", \"tat\", \"tat\", \"tat\", \"tat\", \"tat\", \"tat\", \"tatverdacht\", \"tatverdacht\", \"tatverdacht\", \"team\", \"team\", \"team\", \"team\", \"team\", \"team\", \"team\", \"team\", \"team\", \"team\", \"technologi\", \"technologi\", \"technologi\", \"technologi\", \"technologi\", \"technologi\", \"technologi\", \"technologi\", \"technologi\", \"teheran\", \"teheran\", \"teheran\", \"teheran\", \"tempelberg\", \"testversion\", \"testversion\", \"theat\", \"theat\", \"theat\", \"theat\", \"theat\", \"theat\", \"theat\", \"thiem\", \"thiem\", \"tier\", \"tier\", \"tier\", \"tier\", \"tier\", \"tier\", \"tier\", \"tier\", \"tirol\", \"tirol\", \"tirol\", \"tirol\", \"tirol\", \"tirol\", \"tirol\", \"tirol\", \"tirol\", \"tirol\", \"tor\", \"tor\", \"tor\", \"tor\", \"tor\", \"tor\", \"tor\", \"tor\", \"tor\", \"toyota\", \"toyota\", \"toyota\", \"toyota\", \"train\", \"train\", \"train\", \"train\", \"train\", \"train\", \"train\", \"train\", \"train\", \"traiskirch\", \"traiskirch\", \"traiskirch\", \"traiskirch\", \"traiskirch\", \"traiskirch\", \"traiskirch\", \"trilogi\", \"trump\", \"trump\", \"trump\", \"trump\", \"trump\", \"trump\", \"trump\", \"trumps\", \"ttip\", \"ttip\", \"ttip\", \"ttip\", \"ttip\", \"ttip\", \"ttip\", \"turkei\", \"turkei\", \"turkei\", \"turkei\", \"turkei\", \"turkei\", \"turkei\", \"turkei\", \"turkei\", \"turkisch\", \"turkisch\", \"turkisch\", \"turkisch\", \"turkisch\", \"turkisch\", \"turkisch\", \"turkisch\", \"turkisch\", \"turni\", \"turni\", \"turni\", \"turni\", \"turni\", \"twitt\", \"twitt\", \"twitt\", \"twitt\", \"twitt\", \"twitt\", \"twitt\", \"twitt\", \"twitt\", \"twitt\", \"ubergewicht\", \"ubergewicht\", \"ubergewicht\", \"ubergewicht\", \"ubergriff\", \"ubergriff\", \"ubergriff\", \"ubergriff\", \"ubergriff\", \"ubergriff\", \"uberr\", \"uberr\", \"uberr\", \"uberr\", \"ukrain\", \"ukrain\", \"ukrain\", \"ukrain\", \"ukrain\", \"ukrain\", \"ukrain\", \"ukrain\", \"ukrain\", \"umsatz\", \"umsatz\", \"umsatz\", \"umsatz\", \"umsatz\", \"umsatz\", \"umsatz\", \"umsatz\", \"umweltbehord\", \"umweltbehord\", \"umweltbehord\", \"umweltbehord\", \"ungar\", \"ungar\", \"ungar\", \"ungar\", \"ungar\", \"ungar\", \"ungar\", \"ungar\", \"ungar\", \"ungar\", \"ungarn\", \"ungarn\", \"ungarn\", \"ungarn\", \"ungarn\", \"ungarn\", \"ungarn\", \"ungarn\", \"ungarn\", \"ungarn\", \"ungeschlag\", \"unhcr\", \"unhcr\", \"unhcr\", \"unhcr\", \"unhcr\", \"unhcr\", \"unicredit\", \"universitat\", \"universitat\", \"universitat\", \"universitat\", \"universitat\", \"universitat\", \"universitat\", \"universitat\", \"universitat\", \"universitat\", \"unternehm\", \"unternehm\", \"unternehm\", \"unternehm\", \"unternehm\", \"unternehm\", \"unternehm\", \"unternehm\", \"unternehm\", \"unternehm\", \"untreu\", \"untreu\", \"untreu\", \"untreu\", \"untreu\", \"untreu\", \"updat\", \"updat\", \"updat\", \"updat\", \"updat\", \"updat\", \"updat\", \"updat\", \"updat\", \"updat\", \"urteil\", \"urteil\", \"urteil\", \"urteil\", \"urteil\", \"urteil\", \"urteil\", \"urteil\", \"urteil\", \"urteil\", \"vanek\", \"vanek\", \"varoufakis\", \"varoufakis\", \"varoufakis\", \"varoufakis\", \"vassilakou\", \"vassilakou\", \"vassilakou\", \"vassilakou\", \"verbundet\", \"verbundet\", \"verbundet\", \"verbundet\", \"verbundet\", \"verbundet\", \"verbundet\", \"verbundet\", \"verdacht\", \"verdacht\", \"verdacht\", \"verdacht\", \"verdacht\", \"verdacht\", \"verdacht\", \"verdacht\", \"verdacht\", \"verdacht\", \"vergang\", \"vergang\", \"vergang\", \"vergang\", \"vergang\", \"vergang\", \"vergang\", \"vergang\", \"vergang\", \"vergang\", \"vergewalt\", \"vergewalt\", \"vergewalt\", \"vergewalt\", \"vergewalt\", \"vergewaltigt\", \"vergewaltigt\", \"vergewaltigt\", \"verletzt\", \"verletzt\", \"verletzt\", \"verletzt\", \"verletzt\", \"verletzt\", \"verletzt\", \"verletzt\", \"verletzt\", \"verletzt\", \"verschlusselt\", \"verschlusselt\", \"verschlusselt\", \"verschlusselt\", \"version\", \"version\", \"version\", \"version\", \"version\", \"version\", \"version\", \"version\", \"version\", \"version\", \"verurteilt\", \"verurteilt\", \"verurteilt\", \"verurteilt\", \"verurteilt\", \"verurteilt\", \"verurteilt\", \"verurteilt\", \"verurteilt\", \"verurteilt\", \"vetomacht\", \"vettel\", \"viel\", \"viel\", \"viel\", \"viel\", \"viel\", \"viel\", \"viel\", \"viel\", \"viel\", \"viel\", \"vielleicht\", \"vielleicht\", \"vielleicht\", \"vielleicht\", \"vielleicht\", \"vielleicht\", \"vielleicht\", \"vielleicht\", \"vielleicht\", \"vielleicht\", \"vier\", \"vier\", \"vier\", \"vier\", \"vier\", \"vier\", \"vier\", \"vier\", \"vier\", \"vier\", \"viertelfinal\", \"villarreal\", \"virus\", \"virus\", \"virus\", \"virus\", \"virus\", \"virus\", \"volkswag\", \"volkswag\", \"volkswag\", \"volkswag\", \"volkswag\", \"volkswag\", \"volltext\", \"vorderseit\", \"vorderseit\", \"vorderseit\", \"vorfall\", \"vorfall\", \"vorfall\", \"vorfall\", \"vorfall\", \"vorfall\", \"vorfall\", \"vorfall\", \"vorfall\", \"vorfall\", \"vorinstalliert\", \"vorinstalliert\", \"vorinstalliert\", \"vov\", \"wachstum\", \"wachstum\", \"wachstum\", \"wachstum\", \"wachstum\", \"wachstum\", \"wachstum\", \"wachstum\", \"wahl\", \"wahl\", \"wahl\", \"wahl\", \"wahl\", \"wahl\", \"wahl\", \"wahl\", \"wahl\", \"wahl\", \"wahlerinn\", \"wahlkampf\", \"wahlkampf\", \"wahlkampf\", \"wahlkampf\", \"wahlkampf\", \"wahlkampf\", \"wahlkampf\", \"wahlkampf\", \"wahlkart\", \"wahlkart\", \"wahlkart\", \"wahlkart\", \"wahlsonntag\", \"wahltag\", \"wahrungshut\", \"weg\", \"weg\", \"weg\", \"weg\", \"weg\", \"weg\", \"weg\", \"weg\", \"weg\", \"weg\", \"weit\", \"weit\", \"weit\", \"weit\", \"weit\", \"weit\", \"weit\", \"weit\", \"weit\", \"weit\", \"welt\", \"welt\", \"welt\", \"welt\", \"welt\", \"welt\", \"welt\", \"welt\", \"welt\", \"welt\", \"weltcup\", \"weltcup\", \"weltcup\", \"weltranglist\", \"wenig\", \"wenig\", \"wenig\", \"wenig\", \"wenig\", \"wenig\", \"wenig\", \"wenig\", \"wenig\", \"wenig\", \"werk\", \"werk\", \"werk\", \"werk\", \"werk\", \"werk\", \"werk\", \"werk\", \"werk\", \"werk\", \"westfal\", \"westfal\", \"westfal\", \"westfal\", \"westfal\", \"westfal\", \"westjordanland\", \"westjordanland\", \"wien\", \"wien\", \"wien\", \"wien\", \"wien\", \"wien\", \"wien\", \"wien\", \"wien\", \"wien\", \"wifo\", \"wifo\", \"wifo\", \"wifo\", \"windows\", \"windows\", \"windows\", \"windows\", \"windows\", \"windows\", \"windows\", \"windows\", \"windows\", \"wirklich\", \"wirklich\", \"wirklich\", \"wirklich\", \"wirklich\", \"wirklich\", \"wirklich\", \"wirklich\", \"wirklich\", \"wirklich\", \"wirtschaft\", \"wirtschaft\", \"wirtschaft\", \"wirtschaft\", \"wirtschaft\", \"wirtschaft\", \"wirtschaft\", \"wirtschaft\", \"wirtschaft\", \"wirtschaft\", \"wissenschaft\", \"wissenschaft\", \"wissenschaft\", \"wissenschaft\", \"wissenschaft\", \"wissenschaft\", \"wissenschaft\", \"wissenschaft\", \"wissenschaft\", \"wissenschaft\", \"wladimir\", \"wladimir\", \"wladimir\", \"wladimir\", \"wladimir\", \"wladimir\", \"wladimir\", \"wlan\", \"wlan\", \"wlan\", \"wlan\", \"wlan\", \"wlan\", \"wlan\", \"woch\", \"woch\", \"woch\", \"woch\", \"woch\", \"woch\", \"woch\", \"woch\", \"woch\", \"woch\", \"wolfsburg\", \"wolfsburg\", \"wolfsburg\", \"wolfsburg\", \"wolfsburg\", \"word\", \"word\", \"word\", \"word\", \"word\", \"word\", \"word\", \"word\", \"word\", \"word\", \"zahl\", \"zahl\", \"zahl\", \"zahl\", \"zahl\", \"zahl\", \"zahl\", \"zahl\", \"zahl\", \"zahl\", \"zaun\", \"zaun\", \"zaun\", \"zaun\", \"zaun\", \"zaun\", \"zaun\", \"zaun\", \"zaun\", \"zaun\", \"zeit\", \"zeit\", \"zeit\", \"zeit\", \"zeit\", \"zeit\", \"zeit\", \"zeit\", \"zeit\", \"zeit\", \"zeitgenoss\", \"zeitrechn\", \"zeitrechn\", \"zeitrechn\", \"zeitrechn\", \"zeitung\", \"zeitung\", \"zeitung\", \"zeitung\", \"zeitung\", \"zeitung\", \"zeitung\", \"zeitung\", \"zeitung\", \"zeitung\", \"zelt\", \"zelt\", \"zelt\", \"zelt\", \"zelt\", \"zelt\", \"zentralbank\", \"zentralbank\", \"zentralbank\", \"zentralbank\", \"zentralbank\", \"zentralbank\", \"zielpunkt\", \"zielpunkt\", \"zielpunkt\", \"zielpunkt\", \"zins\", \"zins\", \"zins\", \"zins\", \"zuschreib\", \"zuschreib\", \"zwei\", \"zwei\", \"zwei\", \"zwei\", \"zwei\", \"zwei\", \"zwei\", \"zwei\", \"zwei\", \"zwei\", \"zweit\", \"zweit\", \"zweit\", \"zweit\", \"zweit\", \"zweit\", \"zweit\", \"zweit\", \"zweit\", \"zweit\"]}, \"R\": 30, \"lambda.step\": 0.01, \"plot.opts\": {\"xlab\": \"PC1\", \"ylab\": \"PC2\"}, \"topic.order\": [2, 4, 9, 5, 7, 8, 10, 1, 3, 6]};\n",
              "\n",
              "function LDAvis_load_lib(url, callback){\n",
              "  var s = document.createElement('script');\n",
              "  s.src = url;\n",
              "  s.async = true;\n",
              "  s.onreadystatechange = s.onload = callback;\n",
              "  s.onerror = function(){console.warn(\"failed to load library \" + url);};\n",
              "  document.getElementsByTagName(\"head\")[0].appendChild(s);\n",
              "}\n",
              "\n",
              "if(typeof(LDAvis) !== \"undefined\"){\n",
              "   // already loaded: just create the visualization\n",
              "   !function(LDAvis){\n",
              "       new LDAvis(\"#\" + \"ldavis_el761398390956214569834370340\", ldavis_el761398390956214569834370340_data);\n",
              "   }(LDAvis);\n",
              "}else if(typeof define === \"function\" && define.amd){\n",
              "   // require.js is available: use it to load d3/LDAvis\n",
              "   require.config({paths: {d3: \"https://d3js.org/d3.v5\"}});\n",
              "   require([\"d3\"], function(d3){\n",
              "      window.d3 = d3;\n",
              "      LDAvis_load_lib(\"https://cdn.jsdelivr.net/gh/bmabey/pyLDAvis@3.3.1/pyLDAvis/js/ldavis.v3.0.0.js\", function(){\n",
              "        new LDAvis(\"#\" + \"ldavis_el761398390956214569834370340\", ldavis_el761398390956214569834370340_data);\n",
              "      });\n",
              "    });\n",
              "}else{\n",
              "    // require.js not available: dynamically load d3 & LDAvis\n",
              "    LDAvis_load_lib(\"https://d3js.org/d3.v5.js\", function(){\n",
              "         LDAvis_load_lib(\"https://cdn.jsdelivr.net/gh/bmabey/pyLDAvis@3.3.1/pyLDAvis/js/ldavis.v3.0.0.js\", function(){\n",
              "                 new LDAvis(\"#\" + \"ldavis_el761398390956214569834370340\", ldavis_el761398390956214569834370340_data);\n",
              "            })\n",
              "         });\n",
              "}\n",
              "</script>"
            ]
          },
          "metadata": {},
          "execution_count": 34
        }
      ]
    },
    {
      "cell_type": "markdown",
      "metadata": {
        "id": "syy0tnTQmxZP"
      },
      "source": [
        "# Exercise - Your turn:\n",
        "\n",
        "Replace the given corpus with one in another language - maybe your own native language? You can find corpus online, for example: \n",
        "- https://www.corpusdata.org/intro.asp \n",
        "- or here: https://www.clarin.eu/resource-families/newspaper-corpora\n",
        "- or even in nltk: https://www.nltk.org/nltk_data/\n",
        "- In this github, there are many datasets that can be loaded through their `raw` url: https://github.com/selva86/datasets\n",
        "\n",
        "Careful: You will need to change the [Stemming](https://snowballstem.org/algorithms/) and the [Stopwords](https://www.kaggle.com/rtatman/stopword-lists-for-19-languages) to support your language. Make a web-search after the appropriate ones. \n",
        "\n",
        "Use the notebook to reproduce the result. You can safely ignore the `categories` column when using your own corpus. Your corpus can contain text only, without any categories: Using the LDA code here, you will extract your own categories. Try detecting which *num_of_topics* fits most for your corpus.\n",
        "\n",
        "Try changing the parameters to get a *satisfying level of clustering*.\n",
        "\n",
        "Which parameters worked best for the language you chose? "
      ]
    },
    {
      "cell_type": "markdown",
      "source": [
        "##### Help note\n",
        "\n",
        "If your corpus is a csv, [pandas' read_csv method](https://pandas.pydata.org/docs/reference/api/pandas.read_csv.html) would be the best way to tackle it.\n",
        "\n",
        "If it is, however a text file or a zip of text files, you will need another way to load them. Luckily, python is working well with both - text and zip files, with a built-in support."
      ],
      "metadata": {
        "id": "vB0wRwUpX3yB"
      }
    },
    {
      "cell_type": "markdown",
      "source": [
        "For the sake of this example, let's download two files: one text file, and one gzip file, from this website:\n",
        "\n",
        "https://lindat.mff.cuni.cz/repository/xmlui/handle/11858/00-097C-0000-0023-6260-A"
      ],
      "metadata": {
        "id": "hHe2aaI-bFHU"
      }
    },
    {
      "cell_type": "code",
      "source": [
        "!curl --remote-name-all https://lindat.mff.cuni.cz/repository/xmlui/bitstream/handle/11858/00-097C-0000-0023-6260-A{/README.txt,/hindmonocorp05.plaintext.gz}\n"
      ],
      "metadata": {
        "id": "JeiBbArnXZ_u",
        "outputId": "e2f0da35-873b-4ba6-b343-66ae64dad8b2",
        "colab": {
          "base_uri": "https://localhost:8080/"
        }
      },
      "execution_count": null,
      "outputs": [
        {
          "output_type": "stream",
          "name": "stdout",
          "text": [
            "  % Total    % Received % Xferd  Average Speed   Time    Time     Time  Current\n",
            "                                 Dload  Upload   Total   Spent    Left  Speed\n",
            "100  4472  100  4472    0     0   4367      0  0:00:01  0:00:01 --:--:--  4367\n",
            "100 2353M  100 2353M    0     0  23.7M      0  0:01:39  0:01:39 --:--:-- 25.3M\n"
          ]
        }
      ]
    },
    {
      "cell_type": "markdown",
      "source": [
        "Files are accessed using the `Path` package of python's pathlib: "
      ],
      "metadata": {
        "id": "2xk8Q5phbKR4"
      }
    },
    {
      "cell_type": "code",
      "source": [
        "from pathlib import Path"
      ],
      "metadata": {
        "id": "ZA1ibqJoZjgx"
      },
      "execution_count": null,
      "outputs": []
    },
    {
      "cell_type": "markdown",
      "source": [
        "To access a file, we use its path in Path, like so:\n",
        "\n",
        "`Path('Folder/filename.extension')`\n",
        "\n",
        "Path has many methods for files and folder. Including looping over files in folder, checking if a file exists, etc.\n",
        "\n",
        "Read more about it here: https://docs.python.org/3/library/pathlib.html"
      ],
      "metadata": {
        "id": "icYkPSu5bQhG"
      }
    },
    {
      "cell_type": "code",
      "source": [
        "readme_file = Path('README.txt')\n",
        "\n",
        "if readme_file.exists():\n",
        "  # read the text content into a variable\n",
        "  file_content = readme_file.read_text()\n",
        "  print(file_content)\n",
        "else:\n",
        "  print(\"README.txt was not found...\")"
      ],
      "metadata": {
        "id": "kteZ2w0QapcU",
        "outputId": "1a669a0f-e354-4344-d17e-c045f98fb992",
        "colab": {
          "base_uri": "https://localhost:8080/"
        }
      },
      "execution_count": null,
      "outputs": [
        {
          "output_type": "stream",
          "name": "stdout",
          "text": [
            "HindEnCorp 0.5 and HindMonoCorp 0.5 File Formats\n",
            "================================================\n",
            "\n",
            "This file describes the file formats of the Hindi-English and Hindi-only\n",
            "corpora released in 2014 under the names HindEnCorp 0.5 and HindMonoCorp 0.5.\n",
            "\n",
            "More details about the preparation of the corpora can be found in the paper:\n",
            "\n",
            "  Ondřej Bojar, Vojtěch Diatka, Pavel Rychlý, Pavel Straňák, Aleš Tamchyna\n",
            "  and Dan Zeman. HindEnCorp - Hindi-English and Hindi-only Corpus for\n",
            "  Machine Translation. In Proc. of LREC 2014. Reykjavik, Iceland. ISBN\n",
            "  978-2-9517408-8-4. ELRA. 2014.\n",
            "\n",
            "or on the corpora web page:\n",
            "  http://ufal.mff.cuni.cz/hindencorp\n",
            "\n",
            "Please cite this paper if you make any use of the corpora. BibTeX citation\n",
            "format below.\n",
            "\n",
            "\n",
            "Common Properties\n",
            "-----------------\n",
            "\n",
            "All the files are plain text:\n",
            "\n",
            "- compressed with gzip\n",
            "- encoded in UTF-8\n",
            "- with unix line breaks (LF)\n",
            "- with tab-delimited columns\n",
            "\n",
            "The monolingual and parallel corpora have different columns.\n",
            "\n",
            "The actual corpus text is stored in one (monolingual corpus) or two (parallel\n",
            "corpus) of the columns.\n",
            "\n",
            "\n",
            "Plaintext vs. Export File Format\n",
            "--------------------------------\n",
            "\n",
            "Both the monolingual and the parallel corpus come in a simple plain text format\n",
            "and in a tokenized, tagged and lemmatized format.\n",
            "\n",
            "The plaintext format preserves the original tokenization (as much as possible\n",
            "given the diverse sources included in our corpus).\n",
            "\n",
            "The 'export' format is tokenized and represents each token as a '|'-delimited\n",
            "triple of: the word form, the lemma, and part-of-speech tag. If there was the\n",
            "character '|' (this character is also used instead of the proper Devanagari\n",
            "Danda in some sources), we escape it as '&pipe;'.\n",
            "\n",
            "There is exactly the same number of lines in the plaintext and export file\n",
            "formats.\n",
            "\n",
            "\n",
            "HindEnCorp Columns\n",
            "------------------\n",
            "\n",
            "The files hindencorp05.plaintext.gz and hindencorp05.export.gz each contain the\n",
            "parallel corpus and differ only in the processing of the corpus texts. The\n",
            "files have these columns:\n",
            "\n",
            "- source identifier (where do the segments come from)\n",
            "- alignment type (number of English segments - number of Hindi segments)\n",
            "- alignment quality, which is one of the following:\n",
            "    \"manual\"  ... for sources that were sentence-aligned manually\n",
            "    \"implied\" ... for sources where one side was constructed by translating\n",
            "                  segment by segment\n",
            "    float     ... a value somehow reflecting the goodness of the automatic\n",
            "                  alignment; not really reliable\n",
            "- English segment or segments\n",
            "- Hindi segment or segments\n",
            "\n",
            "Each of the segments field is in the plaintext or export format as described\n",
            "above.\n",
            "\n",
            "If there are more than one segments on a line (e.g. for lines with alignment\n",
            "type 2-1 where there are two English segments), then the segments are delimited\n",
            "with '<s>' in the text field.\n",
            "\n",
            "HindMonoCorp Columns\n",
            "--------------------\n",
            "\n",
            "The files hindmonocorp05.plaintext.gz and hindmonocorp05.export.gz each contain\n",
            "the monolingual corpus and differ only in the processing of the corpus text.\n",
            "Each input segment (usually one Hindi sentence) is stored on a separate line.\n",
            "The files have these columns:\n",
            "\n",
            "- source identifier (where does the segment come from)\n",
            "- segment type, which is one of the following:\n",
            "    <s>  ... this segment is a sentence from a 'text body'\n",
            "    <h>  ... this segment comes from a 'headline' (e.g. of an article)\n",
            "    <a>  ... anything, the source here does not allow to distinguish between\n",
            "             body and headlines\n",
            "- Hindi segment\n",
            "\n",
            "\n",
            "BibTeX Citation for HindEnCorp and HindMonoCorp 0.5\n",
            "---------------------------------------------------\n",
            "\n",
            "@InProceedings{hindencorp05:lrec:2014,\n",
            "  author = {Ond{\\v{r}}ej Bojar and Vojt{\\v{e}}ch Diatka\n",
            "            and Pavel Rychl{\\'{y}} and Pavel Stra{\\v{n}}{\\'{a}}k\n",
            "            and V{\\'{\\i}}t Suchomel and Ale{\\v{s}} Tamchyna and Daniel Zeman},\n",
            "  title = \"{HindEnCorp - Hindi-English and Hindi-only Corpus for Machine\n",
            "            Translation}\",\n",
            "  booktitle = {Proceedings of the Ninth International Conference on Language\n",
            "               Resources and Evaluation (LREC'14)},\n",
            "  year = {2014},\n",
            "  month = {may},\n",
            "  date = {26-31},\n",
            "  address = {Reykjavik, Iceland},\n",
            "  editor = {Nicoletta Calzolari (Conference Chair) and Khalid Choukri and\n",
            "     Thierry Declerck and Hrafn Loftsson and Bente Maegaard and Joseph Mariani\n",
            "     and Asuncion Moreno and Jan Odijk and Stelios Piperidis},\n",
            "  publisher = {European Language Resources Association (ELRA)},\n",
            "  isbn = {978-2-9517408-8-4},\n",
            "  language = {english}\n",
            "}\n",
            "\n",
            "\n"
          ]
        }
      ]
    },
    {
      "cell_type": "markdown",
      "source": [
        "If the file is a `.zip` file, you can open it and read its data without actually extracting all the files from it.\n",
        "\n",
        "https://docs.python.org/3/library/gzip.html\n",
        "\n",
        "Also, [requests](https://requests.readthedocs.io/en/latest/) is a great package of retrieving content from a URL."
      ],
      "metadata": {
        "id": "z4pDENv4cEqR"
      }
    },
    {
      "cell_type": "code",
      "source": [
        "import gzip\n"
      ],
      "metadata": {
        "id": "GjCxwaYDaWqX"
      },
      "execution_count": null,
      "outputs": []
    },
    {
      "cell_type": "code",
      "source": [
        "\n",
        "# this would download the file (but it's 2 GB, and we've already downloaded it before...):\n",
        "# file = requests.get('https://lindat.mff.cuni.cz/repository/xmlui/bitstream/handle/11858/00-097C-0000-0023-6260-A/hindmonocorp05.plaintext.gz')\n",
        "# with gzip.open(file.content, 'rb') as gz:\n",
        "#  ..."
      ],
      "metadata": {
        "id": "tBOjd-J6e5Kt"
      },
      "execution_count": null,
      "outputs": []
    },
    {
      "cell_type": "markdown",
      "source": [
        "In this example, we will open the zip and read the text lines.\n",
        "The text is in hindi, so we have to decode it into `UTF-8` format:"
      ],
      "metadata": {
        "id": "_8CXmJU4i3Ng"
      }
    },
    {
      "cell_type": "code",
      "source": [
        "with gzip.open('hindmonocorp05.plaintext.gz', 'rb') as gz:\n",
        "  for i in range(10):\n",
        "    line = gz.readline()\n",
        "    words = line.decode('utf8').split()\n",
        "    print(words)\n"
      ],
      "metadata": {
        "id": "FaShXt80f691",
        "outputId": "6ae440e7-6a1c-44d3-d97b-389c29525da3",
        "colab": {
          "base_uri": "https://localhost:8080/"
        }
      },
      "execution_count": null,
      "outputs": [
        {
          "output_type": "stream",
          "name": "stdout",
          "text": [
            "['hwt2013', '<s>', 'लेकिन', 'गांव', 'के', 'जगदीश', 'मेघवाल,', 'मोहन...']\n",
            "['spiderling', '<s>', 'विटामिन', 'सी', 'शरीर', 'में', 'रोग', 'पैदा', 'करने', 'वाले', 'विषाणुओं', 'से', 'लड़ने', 'की', 'ताकत', 'पैदा', 'करता', 'है', 'और', 'शरीर', 'में', 'इसकी', 'संतुलित', 'मात्रा', 'बने', 'रहने', 'से', 'रोग', 'प्रतिरोधक', 'क्षमता', 'मजबूत', 'रहती', 'है।']\n",
            "['spiderling', '<s>', 'इन', 'बोतलों', 'के', 'बहुत', 'कम', 'पैसे', 'मिलते', 'हैं।']\n",
            "['commoncrawl', '<a>', 'कार्टून', ':-', 'रे', 'लोकपाल', 'आ', 'गया', 'तू', '?', 'शाबाश....', '19', '0']\n",
            "['spiderling', '<s>', 'प्रखर', 'बुद्धि', 'तेजस्वी', 'बालक', 'राजेन्द्र', 'बाल्यावस्था', 'में', 'ही', 'फारसी', 'में', 'शिक्षा', 'ग्रहण', 'करने', 'लगा', 'और', 'उसके', 'पश्चात', 'प्राथमिक', 'शिक्षा', 'के', 'लिए', 'छपरा', 'के', 'जिला', 'स्कूल', 'में', 'नामांकित', 'हो', 'गया।']\n",
            "['commoncrawl', '<a>', 'निदेशक', 'स्तर', 'का', 'एक', 'वैज्ञानिक', 'संस्थान', 'या', 'सहोदर', 'संस्थान', 'से', '(']\n",
            "['commoncrawl', '<a>', 'गज़ब', 'का', 'बतंगड़', 'है!', ':)', 'हिट', 'तो', 'वैसे', 'भी', 'है', 'जैसे', 'आपने', 'लिख', 'दिया', 'है,', 'जबर-रोचक', '(इस', 'शब्द', 'की']\n",
            "['w2cweb', '<a>', '2005', 'में', 'वर्ल्ड', 'वाइल्ड', 'लाइफ', 'फंड', 'की', 'संस्तुति', 'पर', 'गंगा', 'नदी', 'में', '165', 'किलोमीटर', 'के', 'हिस्से', 'में', \"'रामसर\", \"साइट'\", 'की', 'घोषणा', 'की', 'थी,', 'जिसमें', 'राष्ट्रीय', 'जल', 'जीव', 'डोलफिन', 'से', 'लेकर', 'सभी', 'प्रकार', 'के', 'जल', 'जीवों', 'की', 'रक्षा', 'के', 'लिए', 'सुरक्षा', 'के', 'व्यापक', 'प्रबंध', 'किए', 'गये', 'थे', 'और', 'उस', 'क्षेत्र', 'में', 'इन', 'जल', 'जीवों', 'को', 'किसी', 'भी', 'प्रकार', 'से', 'मारने', 'पर', 'वाइल्ड', 'लाइफ', 'प्रोटेक्शन', 'एक्ट', '1972', 'के', 'अंतर्गत', 'कार्रवाई', 'तक', 'करने', 'की', 'संस्तुति', 'की', 'गई', 'थी।']\n",
            "['spiderling', '<s>', 'पुराना', 'कैदीः', '”', 'अरे', '!', 'इतना', 'छोटा', 'काम', 'को', 'हमारे', 'बच्चे', 'ही', 'कर', 'लेते', 'हैं।']\n",
            "['spiderling', '<s>', 'इन', 'महाशय', 'का', 'सधवा', 'रूप', 'भी', 'विधवा', 'की', 'तरह', 'ही', 'बीता', 'था', '.....']\n"
          ]
        }
      ]
    },
    {
      "cell_type": "markdown",
      "source": [
        "**IMPORTANT NOTE**: If your corpuse, like that file example is very large (2.3GB zipped), then please don't load all the text, it will not fit in the memory and will only cause you trouble. Instead, you can just use the first 10 to 20k sentences, or so. For this exercise we just want you to get a hold of the steps and the proces involved in using LDA."
      ],
      "metadata": {
        "id": "SZLMI43toL76"
      }
    },
    {
      "cell_type": "markdown",
      "source": [
        "# Afterword\n",
        "\n",
        "Gensim is not the only library that implements the LDA algorithm.\n",
        "Another package that does LDA is [tomotopy](https://bab2min.github.io/tomotopy/v0.12.3/en/) - sometimes even faster than gensim. Additionaly, it is implemented as part of [Scikit-Learn](https://scikit-learn.org/stable/modules/generated/sklearn.decomposition.LatentDirichletAllocation.html) - which we use often in the course.\n",
        "\n",
        "Here's a jupyter example using Scikit-learn and spaCy: https://nbviewer.org/github/bmabey/pyLDAvis/blob/master/notebooks/sklearn.ipynb\n",
        "\n",
        "Since we won't dive deeper into the LDA topic in this course, if you wish to know more about the statistics behind it, [this video](https://www.youtube.com/watch?v=0jQo8lVRHRY) of a lesson by the researcher [Nando de Freitas](https://linkedin.com/in/nandodefreitas) gives a good overview."
      ],
      "metadata": {
        "id": "gvufRXnxoiwI"
      }
    },
    {
      "cell_type": "code",
      "source": [],
      "metadata": {
        "id": "c6YoKZ45q6AK"
      },
      "execution_count": null,
      "outputs": []
    }
  ]
}