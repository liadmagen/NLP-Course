{
  "nbformat": 4,
  "nbformat_minor": 0,
  "metadata": {
    "colab": {
      "name": "03_LM_classification_and_clustering.ipynb",
      "provenance": [],
      "toc_visible": true,
      "include_colab_link": true
    },
    "kernelspec": {
      "name": "python3",
      "display_name": "Python 3"
    }
  },
  "cells": [
    {
      "cell_type": "markdown",
      "metadata": {
        "id": "view-in-github",
        "colab_type": "text"
      },
      "source": [
        "<a href=\"https://colab.research.google.com/github/liadmagen/NLP-Course/blob/master/exercises_notebooks/03_LM_classification_and_clustering.ipynb\" target=\"_parent\"><img src=\"https://colab.research.google.com/assets/colab-badge.svg\" alt=\"Open In Colab\"/></a>"
      ]
    },
    {
      "cell_type": "markdown",
      "source": [
        "# Clustering Documents"
      ],
      "metadata": {
        "id": "0QCMG-L_oPQ6"
      }
    },
    {
      "cell_type": "markdown",
      "metadata": {
        "id": "nzhvlugtZytc"
      },
      "source": [
        "In this notebook, you'll learn about **Latent Dirichlet Allocation** (LDA) algorithm, and how to use it to cluster documents.\n",
        "\n",
        "Key-learning:\n",
        "- Unsupervised machine learning for NLP\n",
        "- Clustering Documents\n",
        "- LDA\n",
        "- python packages: *pandas*, *gensim*\n",
        "\n",
        "Terms in this notebook:\n",
        "- Bag of words\n",
        "- LDA\n",
        "- Clustering\n",
        "- TF/IDF\n",
        "\n",
        "This notebook includes 2 recommended videos (total length: 25min).\n",
        "\n",
        "Estimated reading duration: 1-2h.\n"
      ]
    },
    {
      "cell_type": "markdown",
      "metadata": {
        "id": "LuFLTklaSGqw"
      },
      "source": [
        "# Setup"
      ]
    },
    {
      "cell_type": "markdown",
      "metadata": {
        "id": "ncCmcyBB_KyW"
      },
      "source": [
        "We start by importing [pandas](https://pandas.pydata.org/) - an essential tool for data scientists!\n",
        "\n",
        "For this demonstration of the algorithm, we will use a corpus in the shape of a .CSV (Comma Seperated Values) file of German news articles from https://github.com/tblock/10kGNAD.\n",
        "\n",
        "A CSV file is similar to an Excel file: it's a table of data, but is saved as a text file, and it's separated to fixed colums using a delimiter, such as a comma: \",\"."
      ]
    },
    {
      "cell_type": "code",
      "source": [
        "from IPython.display import YouTubeVideo"
      ],
      "metadata": {
        "id": "9e5gBKX3pFlC"
      },
      "execution_count": 1,
      "outputs": []
    },
    {
      "cell_type": "code",
      "metadata": {
        "id": "KfprTyMF4BG1",
        "outputId": "0e5a58d1-0bca-428a-9510-9a1b9a034893",
        "colab": {
          "base_uri": "https://localhost:8080/"
        }
      },
      "source": [
        "import pandas as pd\n",
        "\n",
        "import nltk\n",
        "nltk.download('punkt')\n",
        "nltk.download('stopwords')\n",
        "nltk.download('averaged_perceptron_tagger')\n",
        "nltk.download('universal_tagset')\n",
        "\n"
      ],
      "execution_count": 2,
      "outputs": [
        {
          "output_type": "stream",
          "name": "stderr",
          "text": [
            "[nltk_data] Downloading package punkt to /root/nltk_data...\n",
            "[nltk_data]   Package punkt is already up-to-date!\n",
            "[nltk_data] Downloading package stopwords to /root/nltk_data...\n",
            "[nltk_data]   Package stopwords is already up-to-date!\n",
            "[nltk_data] Downloading package averaged_perceptron_tagger to\n",
            "[nltk_data]     /root/nltk_data...\n",
            "[nltk_data]   Package averaged_perceptron_tagger is already up-to-\n",
            "[nltk_data]       date!\n",
            "[nltk_data] Downloading package universal_tagset to /root/nltk_data...\n",
            "[nltk_data]   Package universal_tagset is already up-to-date!\n"
          ]
        },
        {
          "output_type": "execute_result",
          "data": {
            "text/plain": [
              "True"
            ]
          },
          "metadata": {},
          "execution_count": 2
        }
      ]
    },
    {
      "cell_type": "markdown",
      "source": [
        "Pandas is a useful package to [load and parse CSV files](https://pandas.pydata.org/pandas-docs/stable/reference/api/pandas.read_csv.html). It can also parse TSV - separated by tabs, or as in our case, separated by a `;`.\n",
        "\n",
        "Pandas is often used as the first-step for data scientists to load, analyze and even to proess and prepare the data."
      ],
      "metadata": {
        "id": "v62qoMC7U7W-"
      }
    },
    {
      "cell_type": "code",
      "metadata": {
        "id": "ieItNWA44BEA"
      },
      "source": [
        "articles_df = pd.read_csv('https://raw.githubusercontent.com/tblock/10kGNAD/master/articles.csv',\n",
        "                 sep=';',\n",
        "                 on_bad_lines='skip',\n",
        "                 header=None,\n",
        "                 names=['article_category', 'content'],   # this CSV contains 2 columns, which we are naming here\n",
        "                 dtype={'article_category': 'category'})  # We hint here pandas that the article_category is of type \"categorical column\" (label-column)"
      ],
      "execution_count": 3,
      "outputs": []
    },
    {
      "cell_type": "markdown",
      "source": [
        "Let's understand what is happenning in that command using Pandas' [API documentation](https://pandas.pydata.org/pandas-docs/stable/) for the method [read_csv](https://pandas.pydata.org/pandas-docs/stable/reference/api/pandas.read_csv.html):\n",
        "\n",
        "- The first argument is the path or URL to the CSV file that we want to load. This is the only mandatory argument, while the rest are optional.\n",
        "- The second argument tells pandas that our separator is actually ';', and not a comma (',').\n",
        "- The third argument tells it to skip \"bad\" lines.\n",
        "- the header argument hints pandas if the first line is the column titles\n",
        "- the names argument supplies alternative names for each column\n",
        "- the dtype argument allows us to determine the type of every column (int, float, string, categorical, etc.).\n",
        "\n",
        "The Categorical dtype is a very useful type: It consumes less memory (RAM) for columns with repeated strings. It is especially useful for textual labels, since it allows converting these labels to numbers (0-k)."
      ],
      "metadata": {
        "id": "i67IQZQaszHR"
      }
    },
    {
      "cell_type": "markdown",
      "source": [
        "Let's take a peek at the dataframe we just loaded:"
      ],
      "metadata": {
        "id": "-KUavlW1q207"
      }
    },
    {
      "cell_type": "code",
      "source": [
        "articles_df"
      ],
      "metadata": {
        "id": "XyYuGSLJSNCA",
        "outputId": "ed181101-d9e5-4216-86a0-163a4af6f9ab",
        "colab": {
          "base_uri": "https://localhost:8080/",
          "height": 424
        }
      },
      "execution_count": 4,
      "outputs": [
        {
          "output_type": "execute_result",
          "data": {
            "text/plain": [
              "     article_category                                            content\n",
              "0                Etat  Die ARD-Tochter Degeto hat sich verpflichtet, ...\n",
              "1                Etat  App sei nicht so angenommen worden wie geplant...\n",
              "2                Etat  Mitarbeiter überreichten Eigentümervertretern ...\n",
              "3                Etat  Service: Jobwechsel in der Kommunikationsbranc...\n",
              "4                Etat  Was Sie über diese Woche wissen sollten - und ...\n",
              "...               ...                                                ...\n",
              "9571     Wissenschaft  Die Fundstelle in Südengland ist Unesco-Weltku...\n",
              "9572     Wissenschaft  Im Team arbeitet auch ein Inspektor der sudane...\n",
              "9573     Wissenschaft  Die zentrale Frage des Projekts: Siedelten Ägy...\n",
              "9574     Wissenschaft  Klimatische Verschlechterungen dürften zur Auf...\n",
              "9575     Wissenschaft  Knochen können zum Verständnis des Lebens in d...\n",
              "\n",
              "[9576 rows x 2 columns]"
            ],
            "text/html": [
              "\n",
              "  <div id=\"df-91ccbe85-f883-453b-9bf3-db8346870b83\" class=\"colab-df-container\">\n",
              "    <div>\n",
              "<style scoped>\n",
              "    .dataframe tbody tr th:only-of-type {\n",
              "        vertical-align: middle;\n",
              "    }\n",
              "\n",
              "    .dataframe tbody tr th {\n",
              "        vertical-align: top;\n",
              "    }\n",
              "\n",
              "    .dataframe thead th {\n",
              "        text-align: right;\n",
              "    }\n",
              "</style>\n",
              "<table border=\"1\" class=\"dataframe\">\n",
              "  <thead>\n",
              "    <tr style=\"text-align: right;\">\n",
              "      <th></th>\n",
              "      <th>article_category</th>\n",
              "      <th>content</th>\n",
              "    </tr>\n",
              "  </thead>\n",
              "  <tbody>\n",
              "    <tr>\n",
              "      <th>0</th>\n",
              "      <td>Etat</td>\n",
              "      <td>Die ARD-Tochter Degeto hat sich verpflichtet, ...</td>\n",
              "    </tr>\n",
              "    <tr>\n",
              "      <th>1</th>\n",
              "      <td>Etat</td>\n",
              "      <td>App sei nicht so angenommen worden wie geplant...</td>\n",
              "    </tr>\n",
              "    <tr>\n",
              "      <th>2</th>\n",
              "      <td>Etat</td>\n",
              "      <td>Mitarbeiter überreichten Eigentümervertretern ...</td>\n",
              "    </tr>\n",
              "    <tr>\n",
              "      <th>3</th>\n",
              "      <td>Etat</td>\n",
              "      <td>Service: Jobwechsel in der Kommunikationsbranc...</td>\n",
              "    </tr>\n",
              "    <tr>\n",
              "      <th>4</th>\n",
              "      <td>Etat</td>\n",
              "      <td>Was Sie über diese Woche wissen sollten - und ...</td>\n",
              "    </tr>\n",
              "    <tr>\n",
              "      <th>...</th>\n",
              "      <td>...</td>\n",
              "      <td>...</td>\n",
              "    </tr>\n",
              "    <tr>\n",
              "      <th>9571</th>\n",
              "      <td>Wissenschaft</td>\n",
              "      <td>Die Fundstelle in Südengland ist Unesco-Weltku...</td>\n",
              "    </tr>\n",
              "    <tr>\n",
              "      <th>9572</th>\n",
              "      <td>Wissenschaft</td>\n",
              "      <td>Im Team arbeitet auch ein Inspektor der sudane...</td>\n",
              "    </tr>\n",
              "    <tr>\n",
              "      <th>9573</th>\n",
              "      <td>Wissenschaft</td>\n",
              "      <td>Die zentrale Frage des Projekts: Siedelten Ägy...</td>\n",
              "    </tr>\n",
              "    <tr>\n",
              "      <th>9574</th>\n",
              "      <td>Wissenschaft</td>\n",
              "      <td>Klimatische Verschlechterungen dürften zur Auf...</td>\n",
              "    </tr>\n",
              "    <tr>\n",
              "      <th>9575</th>\n",
              "      <td>Wissenschaft</td>\n",
              "      <td>Knochen können zum Verständnis des Lebens in d...</td>\n",
              "    </tr>\n",
              "  </tbody>\n",
              "</table>\n",
              "<p>9576 rows × 2 columns</p>\n",
              "</div>\n",
              "    <div class=\"colab-df-buttons\">\n",
              "\n",
              "  <div class=\"colab-df-container\">\n",
              "    <button class=\"colab-df-convert\" onclick=\"convertToInteractive('df-91ccbe85-f883-453b-9bf3-db8346870b83')\"\n",
              "            title=\"Convert this dataframe to an interactive table.\"\n",
              "            style=\"display:none;\">\n",
              "\n",
              "  <svg xmlns=\"http://www.w3.org/2000/svg\" height=\"24px\" viewBox=\"0 -960 960 960\">\n",
              "    <path d=\"M120-120v-720h720v720H120Zm60-500h600v-160H180v160Zm220 220h160v-160H400v160Zm0 220h160v-160H400v160ZM180-400h160v-160H180v160Zm440 0h160v-160H620v160ZM180-180h160v-160H180v160Zm440 0h160v-160H620v160Z\"/>\n",
              "  </svg>\n",
              "    </button>\n",
              "\n",
              "  <style>\n",
              "    .colab-df-container {\n",
              "      display:flex;\n",
              "      gap: 12px;\n",
              "    }\n",
              "\n",
              "    .colab-df-convert {\n",
              "      background-color: #E8F0FE;\n",
              "      border: none;\n",
              "      border-radius: 50%;\n",
              "      cursor: pointer;\n",
              "      display: none;\n",
              "      fill: #1967D2;\n",
              "      height: 32px;\n",
              "      padding: 0 0 0 0;\n",
              "      width: 32px;\n",
              "    }\n",
              "\n",
              "    .colab-df-convert:hover {\n",
              "      background-color: #E2EBFA;\n",
              "      box-shadow: 0px 1px 2px rgba(60, 64, 67, 0.3), 0px 1px 3px 1px rgba(60, 64, 67, 0.15);\n",
              "      fill: #174EA6;\n",
              "    }\n",
              "\n",
              "    .colab-df-buttons div {\n",
              "      margin-bottom: 4px;\n",
              "    }\n",
              "\n",
              "    [theme=dark] .colab-df-convert {\n",
              "      background-color: #3B4455;\n",
              "      fill: #D2E3FC;\n",
              "    }\n",
              "\n",
              "    [theme=dark] .colab-df-convert:hover {\n",
              "      background-color: #434B5C;\n",
              "      box-shadow: 0px 1px 3px 1px rgba(0, 0, 0, 0.15);\n",
              "      filter: drop-shadow(0px 1px 2px rgba(0, 0, 0, 0.3));\n",
              "      fill: #FFFFFF;\n",
              "    }\n",
              "  </style>\n",
              "\n",
              "    <script>\n",
              "      const buttonEl =\n",
              "        document.querySelector('#df-91ccbe85-f883-453b-9bf3-db8346870b83 button.colab-df-convert');\n",
              "      buttonEl.style.display =\n",
              "        google.colab.kernel.accessAllowed ? 'block' : 'none';\n",
              "\n",
              "      async function convertToInteractive(key) {\n",
              "        const element = document.querySelector('#df-91ccbe85-f883-453b-9bf3-db8346870b83');\n",
              "        const dataTable =\n",
              "          await google.colab.kernel.invokeFunction('convertToInteractive',\n",
              "                                                    [key], {});\n",
              "        if (!dataTable) return;\n",
              "\n",
              "        const docLinkHtml = 'Like what you see? Visit the ' +\n",
              "          '<a target=\"_blank\" href=https://colab.research.google.com/notebooks/data_table.ipynb>data table notebook</a>'\n",
              "          + ' to learn more about interactive tables.';\n",
              "        element.innerHTML = '';\n",
              "        dataTable['output_type'] = 'display_data';\n",
              "        await google.colab.output.renderOutput(dataTable, element);\n",
              "        const docLink = document.createElement('div');\n",
              "        docLink.innerHTML = docLinkHtml;\n",
              "        element.appendChild(docLink);\n",
              "      }\n",
              "    </script>\n",
              "  </div>\n",
              "\n",
              "\n",
              "<div id=\"df-b3c21b2a-0c32-4b25-81eb-7ac8b41fdf18\">\n",
              "  <button class=\"colab-df-quickchart\" onclick=\"quickchart('df-b3c21b2a-0c32-4b25-81eb-7ac8b41fdf18')\"\n",
              "            title=\"Suggest charts\"\n",
              "            style=\"display:none;\">\n",
              "\n",
              "<svg xmlns=\"http://www.w3.org/2000/svg\" height=\"24px\"viewBox=\"0 0 24 24\"\n",
              "     width=\"24px\">\n",
              "    <g>\n",
              "        <path d=\"M19 3H5c-1.1 0-2 .9-2 2v14c0 1.1.9 2 2 2h14c1.1 0 2-.9 2-2V5c0-1.1-.9-2-2-2zM9 17H7v-7h2v7zm4 0h-2V7h2v10zm4 0h-2v-4h2v4z\"/>\n",
              "    </g>\n",
              "</svg>\n",
              "  </button>\n",
              "\n",
              "<style>\n",
              "  .colab-df-quickchart {\n",
              "      --bg-color: #E8F0FE;\n",
              "      --fill-color: #1967D2;\n",
              "      --hover-bg-color: #E2EBFA;\n",
              "      --hover-fill-color: #174EA6;\n",
              "      --disabled-fill-color: #AAA;\n",
              "      --disabled-bg-color: #DDD;\n",
              "  }\n",
              "\n",
              "  [theme=dark] .colab-df-quickchart {\n",
              "      --bg-color: #3B4455;\n",
              "      --fill-color: #D2E3FC;\n",
              "      --hover-bg-color: #434B5C;\n",
              "      --hover-fill-color: #FFFFFF;\n",
              "      --disabled-bg-color: #3B4455;\n",
              "      --disabled-fill-color: #666;\n",
              "  }\n",
              "\n",
              "  .colab-df-quickchart {\n",
              "    background-color: var(--bg-color);\n",
              "    border: none;\n",
              "    border-radius: 50%;\n",
              "    cursor: pointer;\n",
              "    display: none;\n",
              "    fill: var(--fill-color);\n",
              "    height: 32px;\n",
              "    padding: 0;\n",
              "    width: 32px;\n",
              "  }\n",
              "\n",
              "  .colab-df-quickchart:hover {\n",
              "    background-color: var(--hover-bg-color);\n",
              "    box-shadow: 0 1px 2px rgba(60, 64, 67, 0.3), 0 1px 3px 1px rgba(60, 64, 67, 0.15);\n",
              "    fill: var(--button-hover-fill-color);\n",
              "  }\n",
              "\n",
              "  .colab-df-quickchart-complete:disabled,\n",
              "  .colab-df-quickchart-complete:disabled:hover {\n",
              "    background-color: var(--disabled-bg-color);\n",
              "    fill: var(--disabled-fill-color);\n",
              "    box-shadow: none;\n",
              "  }\n",
              "\n",
              "  .colab-df-spinner {\n",
              "    border: 2px solid var(--fill-color);\n",
              "    border-color: transparent;\n",
              "    border-bottom-color: var(--fill-color);\n",
              "    animation:\n",
              "      spin 1s steps(1) infinite;\n",
              "  }\n",
              "\n",
              "  @keyframes spin {\n",
              "    0% {\n",
              "      border-color: transparent;\n",
              "      border-bottom-color: var(--fill-color);\n",
              "      border-left-color: var(--fill-color);\n",
              "    }\n",
              "    20% {\n",
              "      border-color: transparent;\n",
              "      border-left-color: var(--fill-color);\n",
              "      border-top-color: var(--fill-color);\n",
              "    }\n",
              "    30% {\n",
              "      border-color: transparent;\n",
              "      border-left-color: var(--fill-color);\n",
              "      border-top-color: var(--fill-color);\n",
              "      border-right-color: var(--fill-color);\n",
              "    }\n",
              "    40% {\n",
              "      border-color: transparent;\n",
              "      border-right-color: var(--fill-color);\n",
              "      border-top-color: var(--fill-color);\n",
              "    }\n",
              "    60% {\n",
              "      border-color: transparent;\n",
              "      border-right-color: var(--fill-color);\n",
              "    }\n",
              "    80% {\n",
              "      border-color: transparent;\n",
              "      border-right-color: var(--fill-color);\n",
              "      border-bottom-color: var(--fill-color);\n",
              "    }\n",
              "    90% {\n",
              "      border-color: transparent;\n",
              "      border-bottom-color: var(--fill-color);\n",
              "    }\n",
              "  }\n",
              "</style>\n",
              "\n",
              "  <script>\n",
              "    async function quickchart(key) {\n",
              "      const quickchartButtonEl =\n",
              "        document.querySelector('#' + key + ' button');\n",
              "      quickchartButtonEl.disabled = true;  // To prevent multiple clicks.\n",
              "      quickchartButtonEl.classList.add('colab-df-spinner');\n",
              "      try {\n",
              "        const charts = await google.colab.kernel.invokeFunction(\n",
              "            'suggestCharts', [key], {});\n",
              "      } catch (error) {\n",
              "        console.error('Error during call to suggestCharts:', error);\n",
              "      }\n",
              "      quickchartButtonEl.classList.remove('colab-df-spinner');\n",
              "      quickchartButtonEl.classList.add('colab-df-quickchart-complete');\n",
              "    }\n",
              "    (() => {\n",
              "      let quickchartButtonEl =\n",
              "        document.querySelector('#df-b3c21b2a-0c32-4b25-81eb-7ac8b41fdf18 button');\n",
              "      quickchartButtonEl.style.display =\n",
              "        google.colab.kernel.accessAllowed ? 'block' : 'none';\n",
              "    })();\n",
              "  </script>\n",
              "</div>\n",
              "    </div>\n",
              "  </div>\n"
            ]
          },
          "metadata": {},
          "execution_count": 4
        }
      ]
    },
    {
      "cell_type": "markdown",
      "source": [
        "Our corpus contains 9 categories, as seen below.\n",
        "However, we are going to brutally ignore them. Instead, we will use an unsupervised algorithm to deduct the topics only by the articles content, or in other words: we will *cluster* those documents based on their content."
      ],
      "metadata": {
        "id": "eJtNm2v7V38-"
      }
    },
    {
      "cell_type": "code",
      "source": [
        "articles_df['article_category'].cat.categories"
      ],
      "metadata": {
        "id": "KGgnGvdLVLkh",
        "outputId": "688b07ec-2ed9-48da-bcee-19161b0ce2e6",
        "colab": {
          "base_uri": "https://localhost:8080/"
        }
      },
      "execution_count": 5,
      "outputs": [
        {
          "output_type": "execute_result",
          "data": {
            "text/plain": [
              "Index(['Etat', 'Inland', 'International', 'Kultur', 'Panorama', 'Sport', 'Web',\n",
              "       'Wirtschaft', 'Wissenschaft'],\n",
              "      dtype='object')"
            ]
          },
          "metadata": {},
          "execution_count": 5
        }
      ]
    },
    {
      "cell_type": "markdown",
      "source": [
        "Therefore, we can safely drop the article_category column completely, and remain with the corpus text only:"
      ],
      "metadata": {
        "id": "U4wtri1Yd6yc"
      }
    },
    {
      "cell_type": "code",
      "source": [
        "articles_df = articles_df.drop('article_category', axis=1); articles_df"
      ],
      "metadata": {
        "id": "WfIHe44bd56X",
        "outputId": "5df454d9-9f8b-4fb2-9840-37d02eb47faa",
        "colab": {
          "base_uri": "https://localhost:8080/",
          "height": 424
        }
      },
      "execution_count": 6,
      "outputs": [
        {
          "output_type": "execute_result",
          "data": {
            "text/plain": [
              "                                                content\n",
              "0     Die ARD-Tochter Degeto hat sich verpflichtet, ...\n",
              "1     App sei nicht so angenommen worden wie geplant...\n",
              "2     Mitarbeiter überreichten Eigentümervertretern ...\n",
              "3     Service: Jobwechsel in der Kommunikationsbranc...\n",
              "4     Was Sie über diese Woche wissen sollten - und ...\n",
              "...                                                 ...\n",
              "9571  Die Fundstelle in Südengland ist Unesco-Weltku...\n",
              "9572  Im Team arbeitet auch ein Inspektor der sudane...\n",
              "9573  Die zentrale Frage des Projekts: Siedelten Ägy...\n",
              "9574  Klimatische Verschlechterungen dürften zur Auf...\n",
              "9575  Knochen können zum Verständnis des Lebens in d...\n",
              "\n",
              "[9576 rows x 1 columns]"
            ],
            "text/html": [
              "\n",
              "  <div id=\"df-bba24fa6-f07f-43d5-b6df-4f7c4f07237c\" class=\"colab-df-container\">\n",
              "    <div>\n",
              "<style scoped>\n",
              "    .dataframe tbody tr th:only-of-type {\n",
              "        vertical-align: middle;\n",
              "    }\n",
              "\n",
              "    .dataframe tbody tr th {\n",
              "        vertical-align: top;\n",
              "    }\n",
              "\n",
              "    .dataframe thead th {\n",
              "        text-align: right;\n",
              "    }\n",
              "</style>\n",
              "<table border=\"1\" class=\"dataframe\">\n",
              "  <thead>\n",
              "    <tr style=\"text-align: right;\">\n",
              "      <th></th>\n",
              "      <th>content</th>\n",
              "    </tr>\n",
              "  </thead>\n",
              "  <tbody>\n",
              "    <tr>\n",
              "      <th>0</th>\n",
              "      <td>Die ARD-Tochter Degeto hat sich verpflichtet, ...</td>\n",
              "    </tr>\n",
              "    <tr>\n",
              "      <th>1</th>\n",
              "      <td>App sei nicht so angenommen worden wie geplant...</td>\n",
              "    </tr>\n",
              "    <tr>\n",
              "      <th>2</th>\n",
              "      <td>Mitarbeiter überreichten Eigentümervertretern ...</td>\n",
              "    </tr>\n",
              "    <tr>\n",
              "      <th>3</th>\n",
              "      <td>Service: Jobwechsel in der Kommunikationsbranc...</td>\n",
              "    </tr>\n",
              "    <tr>\n",
              "      <th>4</th>\n",
              "      <td>Was Sie über diese Woche wissen sollten - und ...</td>\n",
              "    </tr>\n",
              "    <tr>\n",
              "      <th>...</th>\n",
              "      <td>...</td>\n",
              "    </tr>\n",
              "    <tr>\n",
              "      <th>9571</th>\n",
              "      <td>Die Fundstelle in Südengland ist Unesco-Weltku...</td>\n",
              "    </tr>\n",
              "    <tr>\n",
              "      <th>9572</th>\n",
              "      <td>Im Team arbeitet auch ein Inspektor der sudane...</td>\n",
              "    </tr>\n",
              "    <tr>\n",
              "      <th>9573</th>\n",
              "      <td>Die zentrale Frage des Projekts: Siedelten Ägy...</td>\n",
              "    </tr>\n",
              "    <tr>\n",
              "      <th>9574</th>\n",
              "      <td>Klimatische Verschlechterungen dürften zur Auf...</td>\n",
              "    </tr>\n",
              "    <tr>\n",
              "      <th>9575</th>\n",
              "      <td>Knochen können zum Verständnis des Lebens in d...</td>\n",
              "    </tr>\n",
              "  </tbody>\n",
              "</table>\n",
              "<p>9576 rows × 1 columns</p>\n",
              "</div>\n",
              "    <div class=\"colab-df-buttons\">\n",
              "\n",
              "  <div class=\"colab-df-container\">\n",
              "    <button class=\"colab-df-convert\" onclick=\"convertToInteractive('df-bba24fa6-f07f-43d5-b6df-4f7c4f07237c')\"\n",
              "            title=\"Convert this dataframe to an interactive table.\"\n",
              "            style=\"display:none;\">\n",
              "\n",
              "  <svg xmlns=\"http://www.w3.org/2000/svg\" height=\"24px\" viewBox=\"0 -960 960 960\">\n",
              "    <path d=\"M120-120v-720h720v720H120Zm60-500h600v-160H180v160Zm220 220h160v-160H400v160Zm0 220h160v-160H400v160ZM180-400h160v-160H180v160Zm440 0h160v-160H620v160ZM180-180h160v-160H180v160Zm440 0h160v-160H620v160Z\"/>\n",
              "  </svg>\n",
              "    </button>\n",
              "\n",
              "  <style>\n",
              "    .colab-df-container {\n",
              "      display:flex;\n",
              "      gap: 12px;\n",
              "    }\n",
              "\n",
              "    .colab-df-convert {\n",
              "      background-color: #E8F0FE;\n",
              "      border: none;\n",
              "      border-radius: 50%;\n",
              "      cursor: pointer;\n",
              "      display: none;\n",
              "      fill: #1967D2;\n",
              "      height: 32px;\n",
              "      padding: 0 0 0 0;\n",
              "      width: 32px;\n",
              "    }\n",
              "\n",
              "    .colab-df-convert:hover {\n",
              "      background-color: #E2EBFA;\n",
              "      box-shadow: 0px 1px 2px rgba(60, 64, 67, 0.3), 0px 1px 3px 1px rgba(60, 64, 67, 0.15);\n",
              "      fill: #174EA6;\n",
              "    }\n",
              "\n",
              "    .colab-df-buttons div {\n",
              "      margin-bottom: 4px;\n",
              "    }\n",
              "\n",
              "    [theme=dark] .colab-df-convert {\n",
              "      background-color: #3B4455;\n",
              "      fill: #D2E3FC;\n",
              "    }\n",
              "\n",
              "    [theme=dark] .colab-df-convert:hover {\n",
              "      background-color: #434B5C;\n",
              "      box-shadow: 0px 1px 3px 1px rgba(0, 0, 0, 0.15);\n",
              "      filter: drop-shadow(0px 1px 2px rgba(0, 0, 0, 0.3));\n",
              "      fill: #FFFFFF;\n",
              "    }\n",
              "  </style>\n",
              "\n",
              "    <script>\n",
              "      const buttonEl =\n",
              "        document.querySelector('#df-bba24fa6-f07f-43d5-b6df-4f7c4f07237c button.colab-df-convert');\n",
              "      buttonEl.style.display =\n",
              "        google.colab.kernel.accessAllowed ? 'block' : 'none';\n",
              "\n",
              "      async function convertToInteractive(key) {\n",
              "        const element = document.querySelector('#df-bba24fa6-f07f-43d5-b6df-4f7c4f07237c');\n",
              "        const dataTable =\n",
              "          await google.colab.kernel.invokeFunction('convertToInteractive',\n",
              "                                                    [key], {});\n",
              "        if (!dataTable) return;\n",
              "\n",
              "        const docLinkHtml = 'Like what you see? Visit the ' +\n",
              "          '<a target=\"_blank\" href=https://colab.research.google.com/notebooks/data_table.ipynb>data table notebook</a>'\n",
              "          + ' to learn more about interactive tables.';\n",
              "        element.innerHTML = '';\n",
              "        dataTable['output_type'] = 'display_data';\n",
              "        await google.colab.output.renderOutput(dataTable, element);\n",
              "        const docLink = document.createElement('div');\n",
              "        docLink.innerHTML = docLinkHtml;\n",
              "        element.appendChild(docLink);\n",
              "      }\n",
              "    </script>\n",
              "  </div>\n",
              "\n",
              "\n",
              "<div id=\"df-7fb82b45-24ac-46ba-bb95-b9492783aec5\">\n",
              "  <button class=\"colab-df-quickchart\" onclick=\"quickchart('df-7fb82b45-24ac-46ba-bb95-b9492783aec5')\"\n",
              "            title=\"Suggest charts\"\n",
              "            style=\"display:none;\">\n",
              "\n",
              "<svg xmlns=\"http://www.w3.org/2000/svg\" height=\"24px\"viewBox=\"0 0 24 24\"\n",
              "     width=\"24px\">\n",
              "    <g>\n",
              "        <path d=\"M19 3H5c-1.1 0-2 .9-2 2v14c0 1.1.9 2 2 2h14c1.1 0 2-.9 2-2V5c0-1.1-.9-2-2-2zM9 17H7v-7h2v7zm4 0h-2V7h2v10zm4 0h-2v-4h2v4z\"/>\n",
              "    </g>\n",
              "</svg>\n",
              "  </button>\n",
              "\n",
              "<style>\n",
              "  .colab-df-quickchart {\n",
              "      --bg-color: #E8F0FE;\n",
              "      --fill-color: #1967D2;\n",
              "      --hover-bg-color: #E2EBFA;\n",
              "      --hover-fill-color: #174EA6;\n",
              "      --disabled-fill-color: #AAA;\n",
              "      --disabled-bg-color: #DDD;\n",
              "  }\n",
              "\n",
              "  [theme=dark] .colab-df-quickchart {\n",
              "      --bg-color: #3B4455;\n",
              "      --fill-color: #D2E3FC;\n",
              "      --hover-bg-color: #434B5C;\n",
              "      --hover-fill-color: #FFFFFF;\n",
              "      --disabled-bg-color: #3B4455;\n",
              "      --disabled-fill-color: #666;\n",
              "  }\n",
              "\n",
              "  .colab-df-quickchart {\n",
              "    background-color: var(--bg-color);\n",
              "    border: none;\n",
              "    border-radius: 50%;\n",
              "    cursor: pointer;\n",
              "    display: none;\n",
              "    fill: var(--fill-color);\n",
              "    height: 32px;\n",
              "    padding: 0;\n",
              "    width: 32px;\n",
              "  }\n",
              "\n",
              "  .colab-df-quickchart:hover {\n",
              "    background-color: var(--hover-bg-color);\n",
              "    box-shadow: 0 1px 2px rgba(60, 64, 67, 0.3), 0 1px 3px 1px rgba(60, 64, 67, 0.15);\n",
              "    fill: var(--button-hover-fill-color);\n",
              "  }\n",
              "\n",
              "  .colab-df-quickchart-complete:disabled,\n",
              "  .colab-df-quickchart-complete:disabled:hover {\n",
              "    background-color: var(--disabled-bg-color);\n",
              "    fill: var(--disabled-fill-color);\n",
              "    box-shadow: none;\n",
              "  }\n",
              "\n",
              "  .colab-df-spinner {\n",
              "    border: 2px solid var(--fill-color);\n",
              "    border-color: transparent;\n",
              "    border-bottom-color: var(--fill-color);\n",
              "    animation:\n",
              "      spin 1s steps(1) infinite;\n",
              "  }\n",
              "\n",
              "  @keyframes spin {\n",
              "    0% {\n",
              "      border-color: transparent;\n",
              "      border-bottom-color: var(--fill-color);\n",
              "      border-left-color: var(--fill-color);\n",
              "    }\n",
              "    20% {\n",
              "      border-color: transparent;\n",
              "      border-left-color: var(--fill-color);\n",
              "      border-top-color: var(--fill-color);\n",
              "    }\n",
              "    30% {\n",
              "      border-color: transparent;\n",
              "      border-left-color: var(--fill-color);\n",
              "      border-top-color: var(--fill-color);\n",
              "      border-right-color: var(--fill-color);\n",
              "    }\n",
              "    40% {\n",
              "      border-color: transparent;\n",
              "      border-right-color: var(--fill-color);\n",
              "      border-top-color: var(--fill-color);\n",
              "    }\n",
              "    60% {\n",
              "      border-color: transparent;\n",
              "      border-right-color: var(--fill-color);\n",
              "    }\n",
              "    80% {\n",
              "      border-color: transparent;\n",
              "      border-right-color: var(--fill-color);\n",
              "      border-bottom-color: var(--fill-color);\n",
              "    }\n",
              "    90% {\n",
              "      border-color: transparent;\n",
              "      border-bottom-color: var(--fill-color);\n",
              "    }\n",
              "  }\n",
              "</style>\n",
              "\n",
              "  <script>\n",
              "    async function quickchart(key) {\n",
              "      const quickchartButtonEl =\n",
              "        document.querySelector('#' + key + ' button');\n",
              "      quickchartButtonEl.disabled = true;  // To prevent multiple clicks.\n",
              "      quickchartButtonEl.classList.add('colab-df-spinner');\n",
              "      try {\n",
              "        const charts = await google.colab.kernel.invokeFunction(\n",
              "            'suggestCharts', [key], {});\n",
              "      } catch (error) {\n",
              "        console.error('Error during call to suggestCharts:', error);\n",
              "      }\n",
              "      quickchartButtonEl.classList.remove('colab-df-spinner');\n",
              "      quickchartButtonEl.classList.add('colab-df-quickchart-complete');\n",
              "    }\n",
              "    (() => {\n",
              "      let quickchartButtonEl =\n",
              "        document.querySelector('#df-7fb82b45-24ac-46ba-bb95-b9492783aec5 button');\n",
              "      quickchartButtonEl.style.display =\n",
              "        google.colab.kernel.accessAllowed ? 'block' : 'none';\n",
              "    })();\n",
              "  </script>\n",
              "</div>\n",
              "    </div>\n",
              "  </div>\n"
            ]
          },
          "metadata": {},
          "execution_count": 6
        }
      ]
    },
    {
      "cell_type": "markdown",
      "metadata": {
        "id": "lMnZgp90-Y7R"
      },
      "source": [
        "# Clustering with Latent Dirichlet Allocation (LDA)"
      ]
    },
    {
      "cell_type": "markdown",
      "metadata": {
        "id": "uvF0AlS6-dqA"
      },
      "source": [
        "## Introduction\n",
        "\n",
        "We start by clustering our data as an unsupervised learning task: **topic modeling**.\n",
        "\n",
        "There are many different methods to cluster documents. One of these methods is topic modeling - where an algorithm assigns a topic (or a list of most-related topics) to each document and clusters these documents by these topics.\n",
        "\n",
        "Documents can be represented as a distribution of their words: their occurrences and frequencies. A set of words, which are relatively not frequent but are common to several documents, can express a document topic.\n",
        "For example, suppose we locate documents with the words 'Android', 'OnePlus' and 'iPhone' in them. Based on the frequency of these words, we could assume that these documents are related to mobile phones.\n",
        "\n",
        "[Dirichlet](https://en.wikipedia.org/wiki/Dirichlet_distribution) is a distribution on probability distributions. In other words, it can handle the frequency of which a set of words appear (which have by themselves, each one, a frequency).\n",
        "\n",
        "For a deeper mathematical explanation of this distribution, watch this recommended video: https://www.youtube.com/watch?v=nfBNOWv1pgE"
      ]
    },
    {
      "cell_type": "code",
      "source": [
        "YouTubeVideo('nfBNOWv1pgE')"
      ],
      "metadata": {
        "colab": {
          "base_uri": "https://localhost:8080/",
          "height": 321
        },
        "id": "tHzU2nNmpKbp",
        "outputId": "85d98945-f6dd-42d7-fd8a-29975f594d16"
      },
      "execution_count": 7,
      "outputs": [
        {
          "output_type": "execute_result",
          "data": {
            "text/plain": [
              "<IPython.lib.display.YouTubeVideo at 0x7ab53230d150>"
            ],
            "text/html": [
              "\n",
              "        <iframe\n",
              "            width=\"400\"\n",
              "            height=\"300\"\n",
              "            src=\"https://www.youtube.com/embed/nfBNOWv1pgE\"\n",
              "            frameborder=\"0\"\n",
              "            allowfullscreen\n",
              "            \n",
              "        ></iframe>\n",
              "        "
            ],
            "image/jpeg": "[encoded data removed]"
          },
          "metadata": {},
          "execution_count": 7
        }
      ]
    },
    {
      "cell_type": "markdown",
      "source": [
        "LDA is an unsupervised algorithm that assigns topics to every document. These topics are described as a set of words.\n",
        "Each document can contain more than one topic.\n",
        "For example, some article about Apple can be 80% mobile phones and 20% about business innovations or income.\n",
        "\n",
        "LDA paper is a milestone in NLP and one of the recommended readings.\n",
        "\n",
        "If you're interested to learn more about the algorithm method, watch this video: https://www.youtube.com/watch?v=DWJYZq_fQ2A."
      ],
      "metadata": {
        "id": "EtlPh-CJpiM2"
      }
    },
    {
      "cell_type": "code",
      "source": [
        "YouTubeVideo('DWJYZq_fQ2A')"
      ],
      "metadata": {
        "colab": {
          "base_uri": "https://localhost:8080/",
          "height": 321
        },
        "id": "1x0Hfl2LpmQ0",
        "outputId": "254b81c1-7706-4e75-e7e7-9e761be8ea4e"
      },
      "execution_count": 8,
      "outputs": [
        {
          "output_type": "execute_result",
          "data": {
            "text/plain": [
              "<IPython.lib.display.YouTubeVideo at 0x7ab4fa61d4b0>"
            ],
            "text/html": [
              "\n",
              "        <iframe\n",
              "            width=\"400\"\n",
              "            height=\"300\"\n",
              "            src=\"https://www.youtube.com/embed/DWJYZq_fQ2A\"\n",
              "            frameborder=\"0\"\n",
              "            allowfullscreen\n",
              "            \n",
              "        ></iframe>\n",
              "        "
            ],
            "image/jpeg": "[encoded data removed]"
          },
          "metadata": {},
          "execution_count": 8
        }
      ]
    },
    {
      "cell_type": "markdown",
      "source": [
        "Now, let's examine our German data set with LDA:"
      ],
      "metadata": {
        "id": "nXYgZ4M9plG8"
      }
    },
    {
      "cell_type": "markdown",
      "metadata": {
        "id": "ZjX33ZXRfsM4"
      },
      "source": [
        "In the previous exercises, you got to know NLTK.\n",
        "\n",
        "Here we will also use NLTK's methods of **stemming** the words. By returning to the root of the word, its stem, we reduce the dimensionality: the number of words in the vocabulary decreases. For example, instead of having different words for the singular and plural form - 'word' <--> 'words' or 'Kanzler', 'Kanzlers', 'Kanzlei', etc., we trim those words into 'Kanzl'. Hence we can reduce the size of the vocabulary by at least half.\n",
        "\n",
        "We will also remove `stopwords` from our text. In English, words such as: `a`, `an`, and `the` will be removed, as they don't add much to the meaning of the sentence. For each language, there is a different curated list of such words, and NLTK is a great source for those.\n",
        "\n",
        "In this exercise, you'll be introduced to another package, specialized in topic modeling, called `gensim`:\n",
        "https://radimrehurek.com/gensim/\n",
        "\n"
      ]
    },
    {
      "cell_type": "markdown",
      "source": [
        "Lastly, remember that for every Machine Learning task, we must always consider:\n",
        "> How are we going to test our model after training?\n",
        "\n",
        "For classification, we use metrics such as [accuracy, precision, recall,](https://en.wikipedia.org/wiki/Accuracy_and_precision), [F1-Score](https://en.wikipedia.org/wiki/F-score), [MCC](https://towardsdatascience.com/matthews-correlation-coefficient-when-to-use-it-and-when-to-avoid-it-310b3c923f7e), etc.\n",
        "For this topic-modeling task, we will use [perplexity](https://en.wikipedia.org/wiki/Perplexity).\n"
      ],
      "metadata": {
        "id": "k6xm-btM6Kmh"
      }
    },
    {
      "cell_type": "code",
      "source": [
        "!pip install -U gensim"
      ],
      "metadata": {
        "id": "wXiy7e3wvTfP",
        "outputId": "ebb355c3-9a1a-497d-ae80-4a6209151313",
        "colab": {
          "base_uri": "https://localhost:8080/"
        }
      },
      "execution_count": 9,
      "outputs": [
        {
          "output_type": "stream",
          "name": "stdout",
          "text": [
            "Requirement already satisfied: gensim in /usr/local/lib/python3.10/dist-packages (4.3.2)\n",
            "Requirement already satisfied: numpy>=1.18.5 in /usr/local/lib/python3.10/dist-packages (from gensim) (1.26.1)\n",
            "Requirement already satisfied: scipy>=1.7.0 in /usr/local/lib/python3.10/dist-packages (from gensim) (1.11.3)\n",
            "Requirement already satisfied: smart-open>=1.8.1 in /usr/local/lib/python3.10/dist-packages (from gensim) (6.4.0)\n"
          ]
        }
      ]
    },
    {
      "cell_type": "markdown",
      "source": [
        "We will define here two functions: `lemmatize_stemming` and `preprocess`.\n",
        "`lemmatize_stemming` will use either lemmatization or stemming to reduce the vocabulary dimensionality.\n",
        "\n",
        "`preprocess` will use the `lemmatize_stemming` function and process a list of tokens to prepare them as an input to our LDA model."
      ],
      "metadata": {
        "id": "2gg4VPd_3oCF"
      }
    },
    {
      "cell_type": "code",
      "metadata": {
        "id": "dA1Ek-yR4BBG"
      },
      "source": [
        "from pprint import pprint # for printing objects nicely\n",
        "\n",
        "from gensim import corpora, models\n",
        "from gensim.utils import simple_preprocess\n",
        "\n",
        "# from gensim.parsing.preprocessing import STOPWORDS\n",
        "# Instead of the gensim english stopwords, we use nltk's German stopwords\n",
        "from nltk.corpus import stopwords\n",
        "\n",
        "from nltk.stem.snowball import SnowballStemmer\n",
        "from nltk.stem.porter import *\n",
        "\n",
        "import numpy as np\n",
        "\n",
        "from random import choice\n",
        "\n",
        "# fixing the randomization for reproducibility\n",
        "np.random.seed(1234)\n",
        "\n",
        "# loading the german stemming tool:\n",
        "stemmer = SnowballStemmer('german')\n",
        "german_stop_words = set(stopwords.words('german'))\n",
        "\n",
        "\n",
        "def lemmatize_stemming(text: str):\n",
        "  \"\"\"\n",
        "  Given a string, return the string lemattized using the german snowball stemmer\n",
        "  \"\"\"\n",
        "  return stemmer.stem(text)\n",
        "\n",
        "def preprocess(text: list[str]):\n",
        "  \"\"\"\n",
        "  Preprocessing a list of tokens by removing stopwords and lemmatizing the tokens.\n",
        "  Also, removing tokens which are shorter than 3 characters.\n",
        "  \"\"\"\n",
        "  result = [lemmatize_stemming(token)\n",
        "            for token in simple_preprocess(text)\n",
        "            if token not in german_stop_words and len(token) > 3]\n",
        "  return result\n"
      ],
      "execution_count": 10,
      "outputs": []
    },
    {
      "cell_type": "markdown",
      "metadata": {
        "id": "H9FeFqUmk7hJ"
      },
      "source": [
        "DataFrame is a table that contains the articles and their topics.\n",
        "\n",
        "We only need the articles for this tasks - as we will create our own topics.\n",
        "\n",
        "So, let's start by ditching the pandas dataframe through converting the articles column into a simple list of strings that contains all the articles:"
      ]
    },
    {
      "cell_type": "code",
      "metadata": {
        "id": "5Yk3kIqSjY6C",
        "outputId": "47215901-eaaa-4ba1-9635-06119686e7f8",
        "colab": {
          "base_uri": "https://localhost:8080/"
        }
      },
      "source": [
        "all_articles = articles_df['content'].to_list()\n",
        "all_articles[:5]"
      ],
      "execution_count": 11,
      "outputs": [
        {
          "output_type": "execute_result",
          "data": {
            "text/plain": [
              "['Die ARD-Tochter Degeto hat sich verpflichtet, ab August einer Quotenregelung zu folgen, die für die Gleichstellung von Regisseurinnen sorgen soll. In mindestens 20 Prozent der Filme, die die ARD-Tochter Degeto produziert oder mitfinanziert, sollen ab Mitte August Frauen Regie führen. Degeto-Chefin Christine Strobl folgt mit dieser Selbstverpflichtung der Forderung von Pro Quote Regie. Die Vereinigung von Regisseurinnen hatte im vergangenen Jahr eine Quotenregelung gefordert, um den weiblichen Filmschaffenden mehr Gehör und ökonomische Gleichstellung zu verschaffen. Pro Quote Regie kritisiert, dass, während rund 50 Prozent der Regie-Studierenden weiblich seien, der Anteil der Regisseurinnen bei Fernsehfilmen nur bei 13 bis 15 Prozent liege. In Österreich sieht die Situation ähnlich aus, auch hier wird von unterschiedlichen Seiten Handlungsbedarf angemahnt. Aber wie soll dieser aussehen? Ist die Einführung der Quotenregelung auch für die österreichische Film- und Fernsehlandschaft sinnvoll? Diskutieren Sie im Forum.',\n",
              " 'App sei nicht so angenommen worden wie geplant. Wegen zu geringer Nutzung schaltet Spiegel Online nach zwei Jahren die Fußball-App aus, die App sei nicht so genutzt worden, wie man sich das vorgestellt habe. Dafür soll der Live-Fußball-Bereich in der News-App ausgebaut werden.',\n",
              " 'Mitarbeiter überreichten Eigentümervertretern Petition gegen Personalabbau. Wien – Mehrere hundert APA-Mitarbeiter haben laut dem Betriebsrat eine Resolution unterschrieben, die am Mittwoch den Eigentümervertretern übergeben wurde. Inhalt ist ein deutlicher Protest gegen den geplanten Personalabbau (DER STANDARD berichtete) und für eine Gleichstellung der Mitarbeiter von APA-Tochterunternehmen bei automatischen Gehaltsanpassungen. Ich lehne erneute Personalkürzungen oder gar Kündigungen, wie sie derzeit insbesondere in der Redaktion geplant sind, ab und unterstütze die Forderung nach einer verpflichtenden Weitergabe der jährlichen Ist-Erhöhung der Gehälter für alle MitarbeiterInnen der APA-Gruppe, heißt es in der Resolution. Sie wurde den Teilnehmern von Aufsichtsrats- und Vorstandssitzung von denen der zeitgleich stattfindenden Betriebsversammlung übergeben. Hauptkritikpunkt der Belegschaft ist, dass Sparmaßnahmen angekündigt würden, obwohl die APA seit Jahren Gewinne schreibe. Die als Genossenschaft organisierte Agentur gehört zu 45 Prozent dem ORF, den Rest teilen sich 13 Tageszeitungen. Ihnen wirft der Betriebsrat vor, Gewinne einzustreifen und gleichzeitig Sparprogramme zu verordnen. Peter Kropsch, Vorsitzender der APA-Geschäftsführung, versteht die Aufregung nicht vollends. Die APA sei ein gewinnorientiertes Unternehmen, das auch in Zukunft stabil aufgestellt sein müsse, sagt er zum STANDARD. Der Betriebsrat glaubt, dass man die Kosten einfach unbegrenzt weiterlaufen lassen kann, so Kropsch. Für 2016 steige das Personalbudget sogar, allerdings würden automatische Gehaltserhöhungen die Kosten für den einzelnen Mitarbeiter steigen lassen. Ob die APA die Qualität auch mit weniger Mitarbeitern aufrechterhalten könne? Na klar, sagt Kropsch – unter vergleichbaren Agenturen in Europa sei man am breitesten aufgestellt, da habe ich keine Angst. Persönlich habe er außerdem nur eine geringe Beteiligung an der Betriebsversammlung wahrgenommen.',\n",
              " 'Service: Jobwechsel in der Kommunikationsbranche im Überblick. Hier liefert derStandard.at/Etat Jobwechsel in der Kommunikationsbranche im Überblick. Grob sortiert nach Kalenderwochen, in denen die Infos einlangten. Quellen: Presse- und eigene Infos, andere Branchendienste wie Horizont.at und medianet.at. Wenn Sie Infos für uns haben, bitte ein Mail an etat@derstandard.at schicken. Woche 15 / 2017 Woche 14 / 2017 Woche 13 / 2017 Woche 12 / 2017 Woche 9 / 2017 Woche 8 / 2017 Woche 7 / 2017 Spannende neue Aufgaben voraus: ich mach ab Februar die Nachrichten auf @kurierat. Ich freu mich auch. https://t.co/0zC6EsrXe3 Woche 2 / 2017 Freu mich: Die ausgezeichnete Journalistin Münire Inam vom #ORFreport moderiert (alternierend mit Martina Rupp) ab 23.1. heute konkret! Wie es im kommenden Jahr weitergeht, lasse ich euch bald wissen. Es warten spannende neue Herausforderungen. Woche 45 / 2016 Stefan Huber wechselt von Media in Progress zu content garden technologies und übernimmt den Ausbau der Content Management Unit. Mich interessieren vor allem die Möglichkeiten, die sich aus der Kombination von Content und Technologie ergeben, sagt er.  Woche 43 / 2016 Woche 41 / 2016 Woche 38 / 2016 Woche 37 / 2016 Woche 33 / 2016  Woche 31 / 2016 Woche 30 / 2016 Krone-Anzeigenvermarktung: Thomas Kreuzer leitet die Branchenvermarktung Special Account, Thomas Grojer übernimmt die Regionalleitung Wien und Stammausgabe. Sie folgen in ihren neuen Funktionen Friedrich Dungl nach, der als Geschäftsführer in das Niederösterreichische Pressehaus wechselt. Woche 18 /2016 Vielen Dank! Ich verspreche auch, nicht über die Alpenrepublik und das Schnitzelland zu schreiben. https://t.co/zqj0HXZ7dD Andreas Csar wechselt vom Verband Österreichischer Zeitungen (VÖZ) als Leiter der Presse- und Öffentlichkeitsarbeit zur Stelle des Pressesprechers bei ecoplus (Wirtschaftsagentur des Landes Niederösterreichs). Woche 11 / 2016 Woche 6 / 2016 Woche 5 / 2016 Woche 4 / 2016 Die ÖBB holen Sven Pusswald von der OMV als Leiter der Konzernkommunikation & Public Affairs.',\n",
              " 'Was Sie über diese Woche wissen sollten - und was Sie gleich wieder vergessen können. Wien - Was hat sich diese Woche getan in der Medienwelt? Ist Ihnen da  nichts entgangen? Besser noch einmal durchchecken – im  Etat.at-Wochenquiz. Wir wünschen viel Spaß beim Mitmachen! Und für alle, die vorige Woche nicht so viel Zeit hatten, Medien-Nachrichten zu lesen: ein nützlicher Link.']"
            ]
          },
          "metadata": {},
          "execution_count": 11
        }
      ]
    },
    {
      "cell_type": "markdown",
      "metadata": {
        "id": "LNnJfuDllNhz"
      },
      "source": [
        "## Preprocessing\n",
        "\n",
        "Let's see an example, what happens when we pre-process a document using the functions we previously created.\n",
        "\n",
        "Look at the output of this cell, and compare the tokenized original document, to the lemmatized document:"
      ]
    },
    {
      "cell_type": "code",
      "metadata": {
        "id": "oVI6_TKjjm2B",
        "outputId": "28ec0220-9a8e-4fa8-fa4a-b46c14087f9e",
        "colab": {
          "base_uri": "https://localhost:8080/"
        }
      },
      "source": [
        "print('original document: ')\n",
        "article = choice(all_articles)\n",
        "print(article)\n",
        "\n",
        "# This time, we don't care about punctuations as tokens (Can you think why?):\n",
        "print('original document, broken into words: ')\n",
        "words = [word for word in article.split(' ')]\n",
        "print(words)\n",
        "print(\"Vocabulary size of the original article:\", len(set(words)))\n",
        "\n",
        "# now let's see what happens when we pass the article into our preprocessing\n",
        "# method:\n",
        "print('\\n\\n tokenized and lemmatized document: ')\n",
        "preprocessed_article = preprocess(article)\n",
        "print(preprocessed_article)\n",
        "print(\"Vocabulary size after preprocessing:\", len(set(preprocessed_article)))\n"
      ],
      "execution_count": 12,
      "outputs": [
        {
          "output_type": "stream",
          "name": "stdout",
          "text": [
            "original document: \n",
            "Im dritten Quartal stiegen Auslieferungen nach eigenen Angaben um 63 Prozent. Der chinesische Technologieriese Huawei wird heuer nach Einschätzung von Analysten das stärkste Wachstum im hart umkämpften Smartphone-Markt hinlegen. Allein im dritten Quartal stiegen die Auslieferungen des chinesischen Anbieters nach eigenen Angaben um 63 Prozent auf 27,4 Millionen Smartphones. Damit ist der Konzern auf Kurs, die Marke von 100 Millionen Stück im Gesamtjahr zu übertreffen. Das würde gegenüber 2014 einem Plus von einem Drittel entsprechen. Laut Analysten wird Huawei damit beim reinen Wachstum alle großen Anbieter wie Apple, Samsung, Lenovo oder Xiaomi hinter sich lassen. Trotzdem ist der Abstand zu den Platzhirschen Apple und Samsung noch immer groß. Huawei teilte am Dienstag auch mit, überdurchschnittlich hohe Zuwachsraten habe es vor allem im Heimatmarkt und in Europa gegeben. Außerdem würden mittlerweile mehr teure Modelle verkauft. Das ist ein wichtiger Baustein der Chinesen, um weiter aufzuholen und das Image als Billig-Anbieter loszuwerden.\n",
            "original document, broken into words: \n",
            "['Im', 'dritten', 'Quartal', 'stiegen', 'Auslieferungen', 'nach', 'eigenen', 'Angaben', 'um', '63', 'Prozent.', 'Der', 'chinesische', 'Technologieriese', 'Huawei', 'wird', 'heuer', 'nach', 'Einschätzung', 'von', 'Analysten', 'das', 'stärkste', 'Wachstum', 'im', 'hart', 'umkämpften', 'Smartphone-Markt', 'hinlegen.', 'Allein', 'im', 'dritten', 'Quartal', 'stiegen', 'die', 'Auslieferungen', 'des', 'chinesischen', 'Anbieters', 'nach', 'eigenen', 'Angaben', 'um', '63', 'Prozent', 'auf', '27,4', 'Millionen', 'Smartphones.', 'Damit', 'ist', 'der', 'Konzern', 'auf', 'Kurs,', 'die', 'Marke', 'von', '100', 'Millionen', 'Stück', 'im', 'Gesamtjahr', 'zu', 'übertreffen.', 'Das', 'würde', 'gegenüber', '2014', 'einem', 'Plus', 'von', 'einem', 'Drittel', 'entsprechen.', 'Laut', 'Analysten', 'wird', 'Huawei', 'damit', 'beim', 'reinen', 'Wachstum', 'alle', 'großen', 'Anbieter', 'wie', 'Apple,', 'Samsung,', 'Lenovo', 'oder', 'Xiaomi', 'hinter', 'sich', 'lassen.', 'Trotzdem', 'ist', 'der', 'Abstand', 'zu', 'den', 'Platzhirschen', 'Apple', 'und', 'Samsung', 'noch', 'immer', 'groß.', 'Huawei', 'teilte', 'am', 'Dienstag', 'auch', 'mit,', 'überdurchschnittlich', 'hohe', 'Zuwachsraten', 'habe', 'es', 'vor', 'allem', 'im', 'Heimatmarkt', 'und', 'in', 'Europa', 'gegeben.', 'Außerdem', 'würden', 'mittlerweile', 'mehr', 'teure', 'Modelle', 'verkauft.', 'Das', 'ist', 'ein', 'wichtiger', 'Baustein', 'der', 'Chinesen,', 'um', 'weiter', 'aufzuholen', 'und', 'das', 'Image', 'als', 'Billig-Anbieter', 'loszuwerden.']\n",
            "Vocabulary size of the original article: 116\n",
            "\n",
            "\n",
            " tokenized and lemmatized document: \n",
            "['dritt', 'quartal', 'stieg', 'ausliefer', 'eig', 'angab', 'prozent', 'chines', 'huawei', 'heu', 'einschatz', 'analyst', 'stark', 'wachstum', 'hart', 'umkampft', 'smartphon', 'markt', 'hinleg', 'allein', 'dritt', 'quartal', 'stieg', 'ausliefer', 'chines', 'anbiet', 'eig', 'angab', 'prozent', 'million', 'smartphon', 'konz', 'kur', 'mark', 'million', 'stuck', 'gesamtjahr', 'ubertreff', 'gegenub', 'plus', 'drittel', 'entsprech', 'laut', 'analyst', 'huawei', 'beim', 'rein', 'wachstum', 'gross', 'anbiet', 'appl', 'samsung', 'lenovo', 'xiaomi', 'lass', 'trotzd', 'abstand', 'platzhirsch', 'appl', 'samsung', 'imm', 'gross', 'huawei', 'teilt', 'dienstag', 'hoh', 'zuwachsrat', 'heimatmarkt', 'europa', 'gegeb', 'ausserd', 'mittlerweil', 'mehr', 'teur', 'modell', 'verkauft', 'wichtig', 'baustein', 'chines', 'aufzuhol', 'imag', 'billig', 'anbiet', 'loszuwerd']\n",
            "Vocabulary size after preprocessing: 64\n"
          ]
        }
      ]
    },
    {
      "cell_type": "markdown",
      "metadata": {
        "id": "DDVOwyaIlL52"
      },
      "source": [
        "Now let's pre-process all of the articles.\n",
        "\n",
        "This is a heavy procedure, and may take a bit ;)"
      ]
    },
    {
      "cell_type": "code",
      "metadata": {
        "id": "2pQYw_aYkq-_",
        "outputId": "d3d088d9-a3a9-45df-d39a-f4766dde3020",
        "colab": {
          "base_uri": "https://localhost:8080/"
        }
      },
      "source": [
        "processed_docs = list(map(preprocess, all_articles))\n",
        "# show the first 10 articles:\n",
        "processed_docs[:10]"
      ],
      "execution_count": 13,
      "outputs": [
        {
          "output_type": "execute_result",
          "data": {
            "text/plain": [
              "[['tocht',\n",
              "  'degeto',\n",
              "  'verpflichtet',\n",
              "  'august',\n",
              "  'quotenregel',\n",
              "  'folg',\n",
              "  'gleichstell',\n",
              "  'regisseurinn',\n",
              "  'sorg',\n",
              "  'mindest',\n",
              "  'prozent',\n",
              "  'film',\n",
              "  'tocht',\n",
              "  'degeto',\n",
              "  'produziert',\n",
              "  'mitfinanziert',\n",
              "  'soll',\n",
              "  'mitt',\n",
              "  'august',\n",
              "  'frau',\n",
              "  'regi',\n",
              "  'fuhr',\n",
              "  'degeto',\n",
              "  'chefin',\n",
              "  'christin',\n",
              "  'strobl',\n",
              "  'folgt',\n",
              "  'forder',\n",
              "  'quot',\n",
              "  'regi',\n",
              "  'verein',\n",
              "  'regisseurinn',\n",
              "  'vergang',\n",
              "  'jahr',\n",
              "  'quotenregel',\n",
              "  'gefordert',\n",
              "  'weiblich',\n",
              "  'filmschaff',\n",
              "  'mehr',\n",
              "  'gehor',\n",
              "  'okonom',\n",
              "  'gleichstell',\n",
              "  'verschaff',\n",
              "  'quot',\n",
              "  'regi',\n",
              "  'kritisiert',\n",
              "  'rund',\n",
              "  'prozent',\n",
              "  'regi',\n",
              "  'studier',\n",
              "  'weiblich',\n",
              "  'seien',\n",
              "  'anteil',\n",
              "  'regisseurinn',\n",
              "  'fernsehfilm',\n",
              "  'prozent',\n",
              "  'lieg',\n",
              "  'osterreich',\n",
              "  'sieht',\n",
              "  'situation',\n",
              "  'ahnlich',\n",
              "  'seit',\n",
              "  'handlungsbedarf',\n",
              "  'angemahnt',\n",
              "  'ausseh',\n",
              "  'einfuhr',\n",
              "  'quotenregel',\n",
              "  'osterreich',\n",
              "  'film',\n",
              "  'sinnvoll',\n",
              "  'diskuti',\n",
              "  'forum'],\n",
              " ['angenomm',\n",
              "  'word',\n",
              "  'geplant',\n",
              "  'weg',\n",
              "  'gering',\n",
              "  'nutzung',\n",
              "  'schaltet',\n",
              "  'spiegel',\n",
              "  'onlin',\n",
              "  'zwei',\n",
              "  'jahr',\n",
              "  'fussball',\n",
              "  'genutzt',\n",
              "  'word',\n",
              "  'vorgestellt',\n",
              "  'dafur',\n",
              "  'liv',\n",
              "  'fussball',\n",
              "  'bereich',\n",
              "  'news',\n",
              "  'ausgebaut'],\n",
              " ['mitarbeit',\n",
              "  'uberreicht',\n",
              "  'petition',\n",
              "  'personalabbau',\n",
              "  'wien',\n",
              "  'mehr',\n",
              "  'hundert',\n",
              "  'mitarbeit',\n",
              "  'laut',\n",
              "  'betriebsrat',\n",
              "  'resolution',\n",
              "  'unterschrieb',\n",
              "  'mittwoch',\n",
              "  'ubergeb',\n",
              "  'wurd',\n",
              "  'inhalt',\n",
              "  'deutlich',\n",
              "  'prot',\n",
              "  'geplant',\n",
              "  'personalabbau',\n",
              "  'standard',\n",
              "  'berichtet',\n",
              "  'gleichstell',\n",
              "  'mitarbeit',\n",
              "  'automat',\n",
              "  'lehn',\n",
              "  'erneut',\n",
              "  'kundig',\n",
              "  'derzeit',\n",
              "  'insbesond',\n",
              "  'redaktion',\n",
              "  'geplant',\n",
              "  'unterstutz',\n",
              "  'forder',\n",
              "  'verpflicht',\n",
              "  'weitergab',\n",
              "  'jahrlich',\n",
              "  'erhoh',\n",
              "  'gehalt',\n",
              "  'grupp',\n",
              "  'heisst',\n",
              "  'resolution',\n",
              "  'wurd',\n",
              "  'teilnehm',\n",
              "  'aufsichtsrat',\n",
              "  'den',\n",
              "  'zeitgleich',\n",
              "  'stattfind',\n",
              "  'ubergeb',\n",
              "  'belegschaft',\n",
              "  'sparmassnahm',\n",
              "  'angekundigt',\n",
              "  'obwohl',\n",
              "  'seit',\n",
              "  'jahr',\n",
              "  'gewinn',\n",
              "  'schreib',\n",
              "  'genossenschaft',\n",
              "  'organisiert',\n",
              "  'agentur',\n",
              "  'gehort',\n",
              "  'prozent',\n",
              "  'rest',\n",
              "  'teil',\n",
              "  'tageszeit',\n",
              "  'wirft',\n",
              "  'betriebsrat',\n",
              "  'gewinn',\n",
              "  'einzustreif',\n",
              "  'gleichzeit',\n",
              "  'sparprogramm',\n",
              "  'verordn',\n",
              "  'pet',\n",
              "  'kropsch',\n",
              "  'vorsitz',\n",
              "  'versteht',\n",
              "  'aufreg',\n",
              "  'vollend',\n",
              "  'unternehm',\n",
              "  'zukunft',\n",
              "  'stabil',\n",
              "  'aufgestellt',\n",
              "  'muss',\n",
              "  'sagt',\n",
              "  'standard',\n",
              "  'betriebsrat',\n",
              "  'glaubt',\n",
              "  'kost',\n",
              "  'einfach',\n",
              "  'unbegrenzt',\n",
              "  'weiterlauf',\n",
              "  'lass',\n",
              "  'kropsch',\n",
              "  'steig',\n",
              "  'personalbudget',\n",
              "  'sogar',\n",
              "  'allerding',\n",
              "  'automat',\n",
              "  'kost',\n",
              "  'einzeln',\n",
              "  'mitarbeit',\n",
              "  'steig',\n",
              "  'lass',\n",
              "  'qualitat',\n",
              "  'wenig',\n",
              "  'mitarbeit',\n",
              "  'konn',\n",
              "  'klar',\n",
              "  'sagt',\n",
              "  'kropsch',\n",
              "  'vergleichbar',\n",
              "  'agentur',\n",
              "  'europa',\n",
              "  'breit',\n",
              "  'aufgestellt',\n",
              "  'angst',\n",
              "  'person',\n",
              "  'ausserd',\n",
              "  'gering',\n",
              "  'beteil',\n",
              "  'wahrgenomm'],\n",
              " ['servic',\n",
              "  'jobwechsel',\n",
              "  'uberblick',\n",
              "  'liefert',\n",
              "  'derstandard',\n",
              "  'etat',\n",
              "  'jobwechsel',\n",
              "  'uberblick',\n",
              "  'grob',\n",
              "  'sortiert',\n",
              "  'kalenderwoch',\n",
              "  'den',\n",
              "  'infos',\n",
              "  'einlangt',\n",
              "  'quell',\n",
              "  'press',\n",
              "  'eig',\n",
              "  'infos',\n",
              "  'branchendien',\n",
              "  'horizont',\n",
              "  'medianet',\n",
              "  'infos',\n",
              "  'bitt',\n",
              "  'mail',\n",
              "  'etat',\n",
              "  'derstandard',\n",
              "  'schick',\n",
              "  'woch',\n",
              "  'woch',\n",
              "  'woch',\n",
              "  'woch',\n",
              "  'woch',\n",
              "  'woch',\n",
              "  'woch',\n",
              "  'spannend',\n",
              "  'neu',\n",
              "  'aufgab',\n",
              "  'voraus',\n",
              "  'mach',\n",
              "  'februar',\n",
              "  'nachricht',\n",
              "  'kurierat',\n",
              "  'freu',\n",
              "  'https',\n",
              "  'esrx',\n",
              "  'woch',\n",
              "  'freu',\n",
              "  'ausgezeichnet',\n",
              "  'journalistin',\n",
              "  'munir',\n",
              "  'inam',\n",
              "  'orfreport',\n",
              "  'moderiert',\n",
              "  'alternier',\n",
              "  'martina',\n",
              "  'rupp',\n",
              "  'heut',\n",
              "  'konkret',\n",
              "  'kommend',\n",
              "  'jahr',\n",
              "  'weitergeht',\n",
              "  'lass',\n",
              "  'bald',\n",
              "  'wiss',\n",
              "  'wart',\n",
              "  'spannend',\n",
              "  'neu',\n",
              "  'woch',\n",
              "  'stefan',\n",
              "  'hub',\n",
              "  'wechselt',\n",
              "  'media',\n",
              "  'progress',\n",
              "  'content',\n",
              "  'gard',\n",
              "  'technologi',\n",
              "  'ubernimmt',\n",
              "  'ausbau',\n",
              "  'content',\n",
              "  'management',\n",
              "  'unit',\n",
              "  'interessi',\n",
              "  'moglich',\n",
              "  'kombination',\n",
              "  'content',\n",
              "  'technologi',\n",
              "  'ergeb',\n",
              "  'sagt',\n",
              "  'woch',\n",
              "  'woch',\n",
              "  'woch',\n",
              "  'woch',\n",
              "  'woch',\n",
              "  'woch',\n",
              "  'woch',\n",
              "  'kron',\n",
              "  'thomas',\n",
              "  'kreuz',\n",
              "  'leitet',\n",
              "  'special',\n",
              "  'account',\n",
              "  'thomas',\n",
              "  'groj',\n",
              "  'ubernimmt',\n",
              "  'regionalleit',\n",
              "  'wien',\n",
              "  'stammausgab',\n",
              "  'folg',\n",
              "  'neu',\n",
              "  'funktion',\n",
              "  'friedrich',\n",
              "  'dungl',\n",
              "  'geschaftsfuhr',\n",
              "  'pressehaus',\n",
              "  'wechselt',\n",
              "  'woch',\n",
              "  'viel',\n",
              "  'dank',\n",
              "  'versprech',\n",
              "  'alpenrepubl',\n",
              "  'schnitzelland',\n",
              "  'schreib',\n",
              "  'https',\n",
              "  'andreas',\n",
              "  'csar',\n",
              "  'wechselt',\n",
              "  'verband',\n",
              "  'zeitung',\n",
              "  'leit',\n",
              "  'press',\n",
              "  'stell',\n",
              "  'pressesprech',\n",
              "  'ecoplus',\n",
              "  'land',\n",
              "  'woch',\n",
              "  'woch',\n",
              "  'woch',\n",
              "  'woch',\n",
              "  'hol',\n",
              "  'sven',\n",
              "  'pusswald',\n",
              "  'leit',\n",
              "  'public',\n",
              "  'affair'],\n",
              " ['woch',\n",
              "  'wiss',\n",
              "  'sollt',\n",
              "  'gleich',\n",
              "  'vergess',\n",
              "  'wien',\n",
              "  'woch',\n",
              "  'getan',\n",
              "  'medienwelt',\n",
              "  'entgang',\n",
              "  'bess',\n",
              "  'durchcheck',\n",
              "  'etat',\n",
              "  'wochenquiz',\n",
              "  'wunsch',\n",
              "  'spass',\n",
              "  'beim',\n",
              "  'mitmach',\n",
              "  'vorig',\n",
              "  'woch',\n",
              "  'zeit',\n",
              "  'medi',\n",
              "  'nachricht',\n",
              "  'les',\n",
              "  'nutzlich',\n",
              "  'link'],\n",
              " ['woch',\n",
              "  'wiss',\n",
              "  'sollt',\n",
              "  'gleich',\n",
              "  'vergess',\n",
              "  'wien',\n",
              "  'woch',\n",
              "  'getan',\n",
              "  'medienwelt',\n",
              "  'entgang',\n",
              "  'bess',\n",
              "  'durchcheck',\n",
              "  'etat',\n",
              "  'wochenquiz',\n",
              "  'wunsch',\n",
              "  'spass',\n",
              "  'beim',\n",
              "  'mitmach',\n",
              "  'vorig',\n",
              "  'woch',\n",
              "  'zeit',\n",
              "  'medi',\n",
              "  'nachricht',\n",
              "  'les',\n",
              "  'nutzlich',\n",
              "  'link'],\n",
              " ['mocht',\n",
              "  'eig',\n",
              "  'plattform',\n",
              "  'aufbau',\n",
              "  'les',\n",
              "  'unterstutzt',\n",
              "  'irgendwas',\n",
              "  'medi',\n",
              "  'recht',\n",
              "  'vag',\n",
              "  'stefan',\n",
              "  'niggemei',\n",
              "  'plant',\n",
              "  'jedenfall',\n",
              "  'deutsch',\n",
              "  'onlinemagazin',\n",
              "  'krautreport',\n",
              "  'verlasst',\n",
              "  'niggemei',\n",
              "  'herausgeb',\n",
              "  'initiator',\n",
              "  'kritisch',\n",
              "  'bild',\n",
              "  'blog',\n",
              "  'kundigt',\n",
              "  'neu',\n",
              "  'plattform',\n",
              "  'medienkrit',\n",
              "  'einbezieh',\n",
              "  'les',\n",
              "  'blog',\n",
              "  'schreibt',\n",
              "  'niggemei',\n",
              "  'projekt',\n",
              "  'krautreport',\n",
              "  'richtig',\n",
              "  'findet',\n",
              "  'umsetz',\n",
              "  'vorstell',\n",
              "  'verlief',\n",
              "  'grosst',\n",
              "  'einzeln',\n",
              "  'fehl',\n",
              "  'meinung',\n",
              "  'eig',\n",
              "  'softwar',\n",
              "  'programmi',\n",
              "  'lass',\n",
              "  'zeit',\n",
              "  'geld',\n",
              "  'nerv',\n",
              "  'gekostet',\n",
              "  'teilweis',\n",
              "  'richtig',\n",
              "  'funktioniert',\n",
              "  'zentral',\n",
              "  'probl',\n",
              "  'verortet',\n",
              "  'redaktionell',\n",
              "  'bereich',\n",
              "  'rot',\n",
              "  'fad',\n",
              "  'gefehlt',\n",
              "  'trieb',\n",
              "  'lust',\n",
              "  'neu',\n",
              "  'geschaftsmodell',\n",
              "  'auszuprobi',\n",
              "  'unbedingt',\n",
              "  'gemeinsam',\n",
              "  'redaktionell',\n",
              "  'ide',\n",
              "  'tat',\n",
              "  'schwer',\n",
              "  'defini',\n",
              "  'worub',\n",
              "  'bericht',\n",
              "  'niggemei',\n",
              "  'verliert',\n",
              "  'krautreport',\n",
              "  'bekannt',\n",
              "  'journalist',\n",
              "  'portal',\n",
              "  'wurd',\n",
              "  'jahr',\n",
              "  'erfolgreich',\n",
              "  'crowdfunding',\n",
              "  'tauf',\n",
              "  'gehob',\n",
              "  'finanzier',\n",
              "  'gelang',\n",
              "  'nachd',\n",
              "  'mitglied',\n",
              "  'jahresabo',\n",
              "  'euro',\n",
              "  'abschloss',\n",
              "  'krautreport',\n",
              "  'weitergeht',\n",
              "  'nach',\n",
              "  'woch',\n",
              "  'zeig',\n",
              "  'mitglied',\n",
              "  'muss',\n",
              "  'namlich',\n",
              "  'verlang',\n",
              "  'zweit',\n",
              "  'jahr',\n",
              "  'geh'],\n",
              " ['fest',\n",
              "  'redaktion',\n",
              "  'umwandl',\n",
              "  'genossenschaft',\n",
              "  'steht',\n",
              "  'kurz',\n",
              "  'bevor',\n",
              "  'berlin',\n",
              "  'wien',\n",
              "  'angesagt',\n",
              "  'revolution',\n",
              "  'verandert',\n",
              "  'form',\n",
              "  'fortgesetzt',\n",
              "  'krautreport',\n",
              "  'genossenschaft',\n",
              "  'umgewandelt',\n",
              "  'muss',\n",
              "  'gefund',\n",
              "  'einlag',\n",
              "  'zumind',\n",
              "  'euro',\n",
              "  'beteil',\n",
              "  'erst',\n",
              "  'zahl',\n",
              "  'erreicht',\n",
              "  'genossenschaft',\n",
              "  'eingetrag',\n",
              "  'daran',\n",
              "  'scheit',\n",
              "  'plattform',\n",
              "  'bish',\n",
              "  'gesellschaft',\n",
              "  'beschrankt',\n",
              "  'haftung',\n",
              "  'weitergefuhrt',\n",
              "  'mitglied',\n",
              "  'haft',\n",
              "  'hoh',\n",
              "  'einlag',\n",
              "  'besteht',\n",
              "  'unabhang',\n",
              "  'einlagenhoh',\n",
              "  'mitglied',\n",
              "  'stimm',\n",
              "  'erhalt',\n",
              "  'eingenomm',\n",
              "  'euro',\n",
              "  'soll',\n",
              "  'verwendet',\n",
              "  'besteh',\n",
              "  'portal',\n",
              "  'journalismus',\n",
              "  'crowdfunding',\n",
              "  'plattform',\n",
              "  'erweit',\n",
              "  'erst',\n",
              "  'jahr',\n",
              "  'besteh',\n",
              "  'krautreport',\n",
              "  'uneingeschrankt',\n",
              "  'zufried',\n",
              "  'text',\n",
              "  'bish',\n",
              "  'erschi',\n",
              "  'wenig',\n",
              "  'anfang',\n",
              "  'geplant',\n",
              "  'stefan',\n",
              "  'niggermei',\n",
              "  'kritisiert',\n",
              "  'austritt',\n",
              "  'kollektiv',\n",
              "  'fehlend',\n",
              "  'redaktionell',\n",
              "  'lini',\n",
              "  'geschaff',\n",
              "  'fest',\n",
              "  'redaktion',\n",
              "  'vorteil',\n",
              "  'mitgliedschaft',\n",
              "  'abseit',\n",
              "  'genossenschaft',\n",
              "  'soll',\n",
              "  'ausgebaut',\n",
              "  'planung',\n",
              "  'beispielsweis',\n",
              "  'mitglied',\n",
              "  'lauf',\n",
              "  'oktob',\n",
              "  'davon',\n",
              "  'ziel',\n",
              "  'gesetzt',\n",
              "  'soll',\n",
              "  'zumind',\n",
              "  'verlangert',\n",
              "  'eig',\n",
              "  'angab',\n",
              "  'benotigt',\n",
              "  'plattform',\n",
              "  'mindest',\n",
              "  'unterstutz',\n",
              "  'fortgefuhrt'],\n",
              " ['nachricht',\n",
              "  'drei',\n",
              "  'jahr',\n",
              "  'finanzier',\n",
              "  'gescheitert',\n",
              "  'york',\n",
              "  'news',\n",
              "  'circa',\n",
              "  'speziell',\n",
              "  'smartphon',\n",
              "  'drei',\n",
              "  'jahr',\n",
              "  'end',\n",
              "  'team',\n",
              "  'geld',\n",
              "  'ausgegang',\n",
              "  'betrieb',\n",
              "  'weit',\n",
              "  'eingestellt',\n",
              "  'erklart',\n",
              "  'mitgrund',\n",
              "  'matt',\n",
              "  'galligan',\n",
              "  'mittwoch',\n",
              "  'konzept',\n",
              "  'circa',\n",
              "  'klein',\n",
              "  'happch',\n",
              "  'runterzubrech',\n",
              "  'smartphon',\n",
              "  'bildschirm',\n",
              "  'pass',\n",
              "  'nutz',\n",
              "  'updat',\n",
              "  'aktuell',\n",
              "  'entwickl',\n",
              "  'laufend',\n",
              "  'halt',\n",
              "  'ide',\n",
              "  'mach',\n",
              "  'laut',\n",
              "  'medienbericht',\n",
              "  'rund',\n",
              "  'funf',\n",
              "  'million',\n",
              "  'dollar',\n",
              "  'investor',\n",
              "  'eingesammelt',\n",
              "  'mehr',\n",
              "  'etabliert',\n",
              "  'journalist',\n",
              "  'angeworb',\n",
              "  'circa',\n",
              "  'gelung',\n",
              "  'weit',\n",
              "  'investment',\n",
              "  'einzufadeln',\n",
              "  'bevor',\n",
              "  'ressourc',\n",
              "  'knapp',\n",
              "  'geword',\n",
              "  'seien',\n",
              "  'schrieb',\n",
              "  'galligan',\n",
              "  'blog',\n",
              "  'plattform',\n",
              "  'medium',\n",
              "  'hatt',\n",
              "  'versuch',\n",
              "  'werbung',\n",
              "  'gebuhr',\n",
              "  'rund',\n",
              "  'komm',\n",
              "  'raumt',\n",
              "  'hatt',\n",
              "  'vision',\n",
              "  'dien',\n",
              "  'widersproch',\n",
              "  'wohl',\n",
              "  'genug',\n",
              "  'eingebracht',\n",
              "  'sagt',\n",
              "  'galligan',\n",
              "  'circa',\n",
              "  'bereit',\n",
              "  'seit',\n",
              "  'montag',\n",
              "  'mehr',\n",
              "  'veroffentlicht'],\n",
              " ['news',\n",
              "  'interess',\n",
              "  'les',\n",
              "  'ausgeliefert',\n",
              "  'wien',\n",
              "  'london',\n",
              "  'britisch',\n",
              "  'bringt',\n",
              "  'neu',\n",
              "  'international',\n",
              "  'news',\n",
              "  'android',\n",
              "  'auf',\n",
              "  'handy',\n",
              "  'ansatz',\n",
              "  'soll',\n",
              "  'nachricht',\n",
              "  'praferenz',\n",
              "  'les',\n",
              "  'lief',\n",
              "  'biet',\n",
              "  'kombination',\n",
              "  'stori',\n",
              "  'meist',\n",
              "  'geles',\n",
              "  'geschicht',\n",
              "  'person',\n",
              "  'ausgewahlt',\n",
              "  'empfohl',\n",
              "  'them',\n",
              "  'gebiet',\n",
              "  'bereich',\n",
              "  'news',\n",
              "  'gelang',\n",
              "  'les',\n",
              "  'geschicht',\n",
              "  'meist',\n",
              "  'interessi',\n",
              "  'konnt',\n",
              "  'anhand',\n",
              "  'list',\n",
              "  'basier',\n",
              "  'geles',\n",
              "  'artikel',\n",
              "  'eingab',\n",
              "  'suchfeld',\n",
              "  'benutz',\n",
              "  'them',\n",
              "  'innerhalb',\n",
              "  'artikel',\n",
              "  'folg',\n",
              "  'wirklich',\n",
              "  'person',\n",
              "  'servic',\n",
              "  'schaff',\n",
              "  'geschicht',\n",
              "  'themat',\n",
              "  'chronolog',\n",
              "  'geordnet',\n",
              "  'heisst',\n",
              "  'aussend',\n",
              "  'seit',\n",
              "  'start',\n",
              "  'freitag',\n",
              "  'bereit',\n",
              "  'million',\n",
              "  'heruntergelad',\n",
              "  'word',\n",
              "  'laut',\n",
              "  'konsumi',\n",
              "  'mittlerweil',\n",
              "  'prozent',\n",
              "  'nutz',\n",
              "  'news',\n",
              "  'smartphon',\n",
              "  'tablet',\n",
              "  'erst',\n",
              "  'prozent']]"
            ]
          },
          "metadata": {},
          "execution_count": 13
        }
      ]
    },
    {
      "cell_type": "markdown",
      "metadata": {
        "id": "T8LndhI5mAGP"
      },
      "source": [
        "## Setting Up The Dictionary\n",
        "\n",
        "Our preprocessing is complete.\n",
        "\n",
        "We now need to calculate the occurance frequencies of each of our stemmed words. But first, we will create a vocabulary dictionary where every word appears once. Every article would be represented as a [bag-of-words](https://en.wikipedia.org/wiki/Bag-of-words_model), an unordered set of words that the article contain.\n",
        "\n",
        "---\n",
        "\n",
        "Q: Why is it called bag-of-words?\n",
        "\n",
        "Hint: Think about your probability lessons - where you had randomly picked out white or black balls out of a bag..."
      ]
    },
    {
      "cell_type": "code",
      "metadata": {
        "id": "pj6CI60KlF0N"
      },
      "source": [
        "dictionary = corpora.Dictionary(processed_docs)"
      ],
      "execution_count": 14,
      "outputs": []
    },
    {
      "cell_type": "markdown",
      "metadata": {
        "id": "KiaCJuuXmkDV"
      },
      "source": [
        "Let's take a look:"
      ]
    },
    {
      "cell_type": "code",
      "metadata": {
        "id": "F0DJqlhimfns",
        "outputId": "a1effde5-12cc-4b9e-e18d-ac2d3341f49c",
        "colab": {
          "base_uri": "https://localhost:8080/"
        }
      },
      "source": [
        "for idx, (key, val) in enumerate(dictionary.iteritems()):\n",
        "    print(key, val)\n",
        "    if idx >= 10:\n",
        "        break\n",
        "\n",
        "\n",
        "### Note: `enumerate` is a great python function!\n",
        "### It creates an index, a running counter, for every object in the collection.\n",
        "### read more about it here: https://realpython.com/python-enumerate/"
      ],
      "execution_count": 15,
      "outputs": [
        {
          "output_type": "stream",
          "name": "stdout",
          "text": [
            "0 ahnlich\n",
            "1 angemahnt\n",
            "2 anteil\n",
            "3 august\n",
            "4 ausseh\n",
            "5 chefin\n",
            "6 christin\n",
            "7 degeto\n",
            "8 diskuti\n",
            "9 einfuhr\n",
            "10 fernsehfilm\n"
          ]
        }
      ]
    },
    {
      "cell_type": "markdown",
      "metadata": {
        "id": "XLT9Y9LImtv_"
      },
      "source": [
        "Second, we filter the tokens that may appear to often.\n",
        "\n",
        "We have full control on the process."
      ]
    },
    {
      "cell_type": "markdown",
      "metadata": {
        "id": "8LtlVAJEa6vp"
      },
      "source": [
        "### Model Hyperparameter tuning"
      ]
    },
    {
      "cell_type": "markdown",
      "source": [
        "#### Exercise 1:\n",
        "Q: How would changing these parameters influence the result?\n",
        "\n",
        "Please run these cells first.\n",
        "After running this example, please return here to change them and test the result with different parameter values."
      ],
      "metadata": {
        "id": "yHsgesK9dW7j"
      }
    },
    {
      "cell_type": "code",
      "metadata": {
        "id": "KSwEk-wcBKEg"
      },
      "source": [
        "## Model hyper parameters:\n",
        "\n",
        "## These are the dictionary preparation parameters:\n",
        "filter_tokens_if_container_documents_are_less_than = 15\n",
        "filter_tokens_if_appeared_percentage_more_than = 0.5\n",
        "keep_the_first_n_tokens = 100_000\n",
        "\n",
        "## and the LDA Parameters:\n",
        "num_of_topics = 10"
      ],
      "execution_count": 16,
      "outputs": []
    },
    {
      "cell_type": "code",
      "metadata": {
        "id": "zelcg-UUmiVx"
      },
      "source": [
        "dictionary.filter_extremes(\n",
        "    no_below=filter_tokens_if_container_documents_are_less_than,\n",
        "    no_above=filter_tokens_if_appeared_percentage_more_than,\n",
        "    keep_n=keep_the_first_n_tokens)\n"
      ],
      "execution_count": 17,
      "outputs": []
    },
    {
      "cell_type": "markdown",
      "metadata": {
        "id": "EsknGryxnx0X"
      },
      "source": [
        "We now create a [bag-of-words](https://en.wikipedia.org/wiki/Bag-of-words_model) (BOW) dictionary for each document, using [gensim's dictionary](https://radimrehurek.com/gensim/corpora/dictionary.html) tool.\n",
        "\n",
        "It will be in the format of:\n",
        "\n",
        "```{ 'word_id': count }```\n"
      ]
    },
    {
      "cell_type": "code",
      "metadata": {
        "id": "u1CsbhJcntUW"
      },
      "source": [
        "bow_corpus = [dictionary.doc2bow(doc) for doc in processed_docs]"
      ],
      "execution_count": 18,
      "outputs": []
    },
    {
      "cell_type": "markdown",
      "metadata": {
        "id": "RmHQyMKXokyq"
      },
      "source": [
        "Let's take a look at the result.\n",
        "\n",
        "Our corpus contains now only word_ids, not the words themselves, so we have to peek into the dictionary to know which word that id represents:"
      ]
    },
    {
      "cell_type": "code",
      "metadata": {
        "id": "dD6n6MNnoSBH",
        "outputId": "7100886c-d31f-4177-9e59-ff21059fbf63",
        "colab": {
          "base_uri": "https://localhost:8080/"
        }
      },
      "source": [
        "# randomly choose an article from the corpus:\n",
        "sample_bow_doc = choice(bow_corpus)\n",
        "\n",
        "print('The processed bag-of-word document is just pairs of (word_id, # of occurnces) and looks like this:')\n",
        "print(sample_bow_doc, '\\n\\n')\n",
        "\n",
        "print ('We peek in the dictionary: for each word_id, we get its assigned word:')\n",
        "for word_id, word_freq in sample_bow_doc:\n",
        "  real_word = dictionary[word_id]\n",
        "  print(f'Word {word_id} (\"{real_word}\") appears {word_freq} time.')\n"
      ],
      "execution_count": 19,
      "outputs": [
        {
          "output_type": "stream",
          "name": "stdout",
          "text": [
            "The processed bag-of-word document is just pairs of (word_id, # of occurnces) and looks like this:\n",
            "[(13, 1), (19, 6), (36, 1), (61, 1), (62, 2), (65, 1), (234, 1), (272, 1), (273, 2), (318, 1), (325, 2), (336, 2), (372, 1), (396, 1), (400, 2), (413, 1), (474, 2), (566, 1), (585, 1), (589, 2), (618, 1), (619, 1), (722, 1), (808, 1), (890, 1), (977, 2), (1019, 1), (1052, 1), (1068, 1), (1101, 1), (1141, 1), (1173, 1), (1174, 1), (1221, 1), (1351, 2), (1450, 1), (1507, 2), (1541, 1), (1559, 1), (1575, 1), (1736, 1), (1760, 1), (1801, 2), (1854, 1), (1931, 1), (1933, 1), (1947, 1), (1948, 1), (1959, 1), (2183, 1), (2298, 1), (2316, 1), (3373, 2), (3379, 1), (3445, 1), (3540, 1), (3592, 2), (3646, 1), (3667, 1), (3864, 1), (3901, 1), (4004, 3), (4184, 1), (4193, 1), (4428, 1), (4447, 1), (4463, 1), (5146, 1), (5499, 7), (5529, 3), (5531, 3), (5532, 3), (6139, 1), (6263, 1), (6309, 1), (6478, 1), (6808, 1), (6847, 1), (7602, 3), (8087, 1), (9099, 1), (9232, 1)] \n",
            "\n",
            "\n",
            "We peek in the dictionary: for each word_id, we get its assigned word:\n",
            "Word 13 (\"frau\") appears 1 time.\n",
            "Word 19 (\"jahr\") appears 6 time.\n",
            "Word 36 (\"soll\") appears 1 time.\n",
            "Word 61 (\"weg\") appears 1 time.\n",
            "Word 62 (\"word\") appears 2 time.\n",
            "Word 65 (\"allerding\") appears 1 time.\n",
            "Word 234 (\"zeit\") appears 1 time.\n",
            "Word 272 (\"nachd\") appears 1 time.\n",
            "Word 273 (\"namlich\") appears 2 time.\n",
            "Word 318 (\"davon\") appears 1 time.\n",
            "Word 325 (\"erst\") appears 2 time.\n",
            "Word 336 (\"haft\") appears 2 time.\n",
            "Word 372 (\"drei\") appears 1 time.\n",
            "Word 396 (\"medienbericht\") appears 1 time.\n",
            "Word 400 (\"montag\") appears 2 time.\n",
            "Word 413 (\"weit\") appears 1 time.\n",
            "Word 474 (\"damal\") appears 2 time.\n",
            "Word 566 (\"zehn\") appears 1 time.\n",
            "Word 585 (\"einzig\") appears 1 time.\n",
            "Word 589 (\"fall\") appears 2 time.\n",
            "Word 618 (\"marz\") appears 1 time.\n",
            "Word 619 (\"monat\") appears 1 time.\n",
            "Word 722 (\"ausgesproch\") appears 1 time.\n",
            "Word 808 (\"kontakt\") appears 1 time.\n",
            "Word 890 (\"gekomm\") appears 1 time.\n",
            "Word 977 (\"lang\") appears 2 time.\n",
            "Word 1019 (\"gestellt\") appears 1 time.\n",
            "Word 1052 (\"zufolg\") appears 1 time.\n",
            "Word 1068 (\"inzwisch\") appears 1 time.\n",
            "Word 1101 (\"bezieh\") appears 1 time.\n",
            "Word 1141 (\"verlangt\") appears 1 time.\n",
            "Word 1173 (\"geburt\") appears 1 time.\n",
            "Word 1174 (\"gefuhrt\") appears 1 time.\n",
            "Word 1221 (\"vorjahr\") appears 1 time.\n",
            "Word 1351 (\"konig\") appears 2 time.\n",
            "Word 1450 (\"befindet\") appears 1 time.\n",
            "Word 1507 (\"gericht\") appears 2 time.\n",
            "Word 1541 (\"prozess\") appears 1 time.\n",
            "Word 1559 (\"beschleun\") appears 1 time.\n",
            "Word 1575 (\"information\") appears 1 time.\n",
            "Word 1736 (\"anwalt\") appears 1 time.\n",
            "Word 1760 (\"gang\") appears 1 time.\n",
            "Word 1801 (\"vorwurf\") appears 2 time.\n",
            "Word 1854 (\"regier\") appears 1 time.\n",
            "Word 1931 (\"vertraulich\") appears 1 time.\n",
            "Word 1933 (\"vorgeworf\") appears 1 time.\n",
            "Word 1947 (\"gesucht\") appears 1 time.\n",
            "Word 1948 (\"instanz\") appears 1 time.\n",
            "Word 1959 (\"abgelehnt\") appears 1 time.\n",
            "Word 2183 (\"bekam\") appears 1 time.\n",
            "Word 2298 (\"zuruckgewies\") appears 1 time.\n",
            "Word 2316 (\"geschutzt\") appears 1 time.\n",
            "Word 3373 (\"flucht\") appears 2 time.\n",
            "Word 3379 (\"begonn\") appears 1 time.\n",
            "Word 3445 (\"verteid\") appears 1 time.\n",
            "Word 3540 (\"ath\") appears 1 time.\n",
            "Word 3592 (\"tonn\") appears 2 time.\n",
            "Word 3646 (\"spannung\") appears 1 time.\n",
            "Word 3667 (\"bewies\") appears 1 time.\n",
            "Word 3864 (\"kompliz\") appears 1 time.\n",
            "Word 3901 (\"befand\") appears 1 time.\n",
            "Word 4004 (\"verurteilt\") appears 3 time.\n",
            "Word 4184 (\"behord\") appears 1 time.\n",
            "Word 4193 (\"innenminist\") appears 1 time.\n",
            "Word 4428 (\"herausgestellt\") appears 1 time.\n",
            "Word 4447 (\"abwes\") appears 1 time.\n",
            "Word 4463 (\"zeug\") appears 1 time.\n",
            "Word 5146 (\"sudamerika\") appears 1 time.\n",
            "Word 5499 (\"angeklagt\") appears 7 time.\n",
            "Word 5529 (\"belgrad\") appears 3 time.\n",
            "Word 5531 (\"serbi\") appears 3 time.\n",
            "Word 5532 (\"serbisch\") appears 3 time.\n",
            "Word 6139 (\"erschuttert\") appears 1 time.\n",
            "Word 6263 (\"geschaftsmann\") appears 1 time.\n",
            "Word 6309 (\"alias\") appears 1 time.\n",
            "Word 6478 (\"freigesproch\") appears 1 time.\n",
            "Word 6808 (\"gewahrt\") appears 1 time.\n",
            "Word 6847 (\"montenegro\") appears 1 time.\n",
            "Word 7602 (\"haftstraf\") appears 3 time.\n",
            "Word 8087 (\"ausgesagt\") appears 1 time.\n",
            "Word 9099 (\"ivica\") appears 1 time.\n",
            "Word 9232 (\"schmuggl\") appears 1 time.\n"
          ]
        }
      ]
    },
    {
      "cell_type": "markdown",
      "metadata": {
        "id": "jdEpXnWNrR4H"
      },
      "source": [
        "## LDA model using Bag-of-words\n",
        "\n",
        "Let's start by applying the LDA model using the bag-of-words (Warning: this could take a while):"
      ]
    },
    {
      "cell_type": "code",
      "metadata": {
        "id": "84CchtGap73H"
      },
      "source": [
        "lda_model = models.LdaMulticore(bow_corpus,\n",
        "                                num_topics=num_of_topics,\n",
        "                                id2word=dictionary,\n",
        "                                passes=5,\n",
        "                                workers=2)"
      ],
      "execution_count": 20,
      "outputs": []
    },
    {
      "cell_type": "markdown",
      "metadata": {
        "id": "oqm3NWaGrYzC"
      },
      "source": [
        "It is done!\n",
        "\n",
        "Now we can observe which topics the model had extracted from the documents.\n",
        "\n",
        "- *Topics* are made of sets of words and their distribution for that topic, representing their weight in that topic.\n",
        "- Every document may be composed of multiple topics, with different weights representing the relation to each topics.\n",
        "\n",
        "We will loop over the extracted topics and examine the words that construct them."
      ]
    },
    {
      "cell_type": "code",
      "metadata": {
        "id": "N83rLkRRrYYz",
        "outputId": "2e3e0471-9237-48d5-ffe0-6752af14cccf",
        "colab": {
          "base_uri": "https://localhost:8080/"
        }
      },
      "source": [
        "for idx, topic in lda_model.print_topics(num_of_topics):\n",
        "    print(f'Topic: {idx} \\t Words: {topic}')\n"
      ],
      "execution_count": 21,
      "outputs": [
        {
          "output_type": "stream",
          "name": "stdout",
          "text": [
            "Topic: 0 \t Words: 0.008*\"polit\" + 0.007*\"sagt\" + 0.007*\"standard\" + 0.006*\"wien\" + 0.006*\"grun\" + 0.005*\"partei\" + 0.005*\"regier\" + 0.005*\"land\" + 0.004*\"wahl\" + 0.004*\"seit\"\n",
            "Topic: 1 \t Words: 0.032*\"prozent\" + 0.016*\"osterreich\" + 0.014*\"jahr\" + 0.007*\"standard\" + 0.007*\"euro\" + 0.006*\"wenig\" + 0.006*\"hoh\" + 0.006*\"land\" + 0.006*\"wien\" + 0.005*\"zahl\"\n",
            "Topic: 2 \t Words: 0.021*\"euro\" + 0.013*\"wien\" + 0.010*\"million\" + 0.009*\"jahr\" + 0.007*\"prozent\" + 0.006*\"unternehm\" + 0.006*\"neu\" + 0.006*\"osterreich\" + 0.006*\"rund\" + 0.005*\"seit\"\n",
            "Topic: 3 \t Words: 0.009*\"jahr\" + 0.006*\"erst\" + 0.006*\"gross\" + 0.006*\"wien\" + 0.005*\"schon\" + 0.004*\"spiel\" + 0.004*\"imm\" + 0.004*\"sagt\" + 0.004*\"neu\" + 0.004*\"lang\"\n",
            "Topic: 4 \t Words: 0.009*\"erst\" + 0.007*\"spiel\" + 0.007*\"forsch\" + 0.005*\"salzburg\" + 0.005*\"wien\" + 0.004*\"jahr\" + 0.004*\"zwei\" + 0.004*\"konnt\" + 0.004*\"gross\" + 0.004*\"rapid\"\n",
            "Topic: 5 \t Words: 0.010*\"neu\" + 0.006*\"sagt\" + 0.006*\"griechenland\" + 0.005*\"nutz\" + 0.005*\"soll\" + 0.004*\"appl\" + 0.004*\"europa\" + 0.004*\"griechisch\" + 0.004*\"bereit\" + 0.004*\"googl\"\n",
            "Topic: 6 \t Words: 0.018*\"fluchtling\" + 0.010*\"mensch\" + 0.009*\"grenz\" + 0.008*\"ukrain\" + 0.008*\"sagt\" + 0.007*\"russisch\" + 0.007*\"russland\" + 0.006*\"grund\" + 0.006*\"deutschland\" + 0.005*\"steht\"\n",
            "Topic: 7 \t Words: 0.006*\"erst\" + 0.006*\"sagt\" + 0.006*\"seit\" + 0.005*\"israel\" + 0.005*\"spiel\" + 0.004*\"jahr\" + 0.004*\"zwei\" + 0.004*\"minut\" + 0.004*\"kampf\" + 0.004*\"word\"\n",
            "Topic: 8 \t Words: 0.010*\"word\" + 0.010*\"jahr\" + 0.009*\"sagt\" + 0.008*\"jahrig\" + 0.007*\"polizei\" + 0.007*\"mann\" + 0.006*\"weg\" + 0.006*\"wien\" + 0.006*\"frau\" + 0.005*\"zwei\"\n",
            "Topic: 9 \t Words: 0.013*\"jahr\" + 0.009*\"dollar\" + 0.008*\"prozent\" + 0.008*\"china\" + 0.008*\"sagt\" + 0.007*\"erst\" + 0.006*\"seit\" + 0.006*\"unternehm\" + 0.006*\"neu\" + 0.006*\"chines\"\n"
          ]
        }
      ]
    },
    {
      "cell_type": "markdown",
      "metadata": {
        "id": "CgCkLEelplF8"
      },
      "source": [
        "## TF / IDF\n",
        "\n",
        "Let's take it one step further. We will cluster our document by running the LDA using [TF/IDF](https://en.wikipedia.org/wiki/Tf%E2%80%93idf) instead of just the BoW.\n",
        "\n",
        "We start with TF/IDF calculation on our bag-of-words.\n",
        "TF/IDF accepts a dictionary of word frequencies as an input, and it calculates the term frequency and the inversed document frequency accordingly.\n",
        "\n",
        "Its output is a re-weighted dictionary of the documents term frequencies:"
      ]
    },
    {
      "cell_type": "code",
      "metadata": {
        "id": "Xhj6Df56os0j",
        "outputId": "04eb0253-95b9-40d0-a6ee-735c3802b69f",
        "colab": {
          "base_uri": "https://localhost:8080/"
        }
      },
      "source": [
        "# initialize a tfidf from our corpus\n",
        "tfidf = models.TfidfModel(bow_corpus)\n",
        "\n",
        "# apply it on our corpus\n",
        "tfidf_corpus = tfidf[bow_corpus]\n",
        "\n",
        "pprint(tfidf_corpus[0][:10])"
      ],
      "execution_count": 22,
      "outputs": [
        {
          "output_type": "stream",
          "name": "stdout",
          "text": [
            "[(0, 0.07624324224596976),\n",
            " (1, 0.09765147703315807),\n",
            " (2, 0.17806134714371552),\n",
            " (3, 0.12554321379384176),\n",
            " (4, 0.12114843374003081),\n",
            " (5, 0.14917128474504127),\n",
            " (6, 0.11948454964321391),\n",
            " (7, 0.10815383759404282),\n",
            " (8, 0.19221567840914694),\n",
            " (9, 0.0625612949812136)]\n"
          ]
        }
      ]
    },
    {
      "cell_type": "code",
      "source": [
        "# the new tfidf corpus is just our corpus - but transformed. It has the same size of documents:\n",
        "assert len(bow_corpus) == len(tfidf_corpus)"
      ],
      "metadata": {
        "id": "OdllL8StNLm2"
      },
      "execution_count": 23,
      "outputs": []
    },
    {
      "cell_type": "markdown",
      "metadata": {
        "id": "UZ-9a3gcsYts"
      },
      "source": [
        "Now let's apply LDA on the tfidf corpus, with the same amount of topics.\n",
        "\n",
        "You can play with the # of passes, if the model doesn't converge properly"
      ]
    },
    {
      "cell_type": "code",
      "metadata": {
        "id": "ihxND83irVSf"
      },
      "source": [
        "lda_model_tfidf = models.LdaMulticore(tfidf_corpus,\n",
        "                                      num_topics=num_of_topics,\n",
        "                                      id2word=dictionary,\n",
        "                                      passes=10,\n",
        "                                      workers=4)"
      ],
      "execution_count": 24,
      "outputs": []
    },
    {
      "cell_type": "code",
      "source": [
        "for idx, topic in lda_model_tfidf.print_topics(num_of_topics):\n",
        "    print(f'Topic: {idx} \\t Word: {topic}')"
      ],
      "metadata": {
        "id": "adACX8kGihtG",
        "outputId": "93275924-7882-48cc-f6e6-3d2b032222ed",
        "colab": {
          "base_uri": "https://localhost:8080/"
        }
      },
      "execution_count": 25,
      "outputs": [
        {
          "output_type": "stream",
          "name": "stdout",
          "text": [
            "Topic: 0 \t Word: 0.007*\"prozent\" + 0.005*\"zielpunkt\" + 0.005*\"volkswag\" + 0.004*\"euro\" + 0.003*\"unternehm\" + 0.003*\"dollar\" + 0.003*\"million\" + 0.003*\"pfeiff\" + 0.003*\"notenbank\" + 0.003*\"minus\"\n",
            "Topic: 1 \t Word: 0.003*\"euro\" + 0.003*\"mannch\" + 0.002*\"china\" + 0.002*\"million\" + 0.002*\"prozent\" + 0.002*\"milliard\" + 0.002*\"tonn\" + 0.002*\"airbus\" + 0.002*\"konz\" + 0.002*\"europa\"\n",
            "Topic: 2 \t Word: 0.004*\"griechenland\" + 0.004*\"griechisch\" + 0.004*\"fluchtling\" + 0.003*\"regier\" + 0.003*\"ath\" + 0.003*\"word\" + 0.002*\"polizei\" + 0.002*\"finanzminist\" + 0.002*\"land\" + 0.002*\"tsipras\"\n",
            "Topic: 3 \t Word: 0.029*\"volltext\" + 0.027*\"basier\" + 0.024*\"artikel\" + 0.021*\"rechtlich\" + 0.018*\"verfug\" + 0.015*\"grund\" + 0.014*\"steht\" + 0.004*\"teilch\" + 0.003*\"physik\" + 0.003*\"akti\"\n",
            "Topic: 4 \t Word: 0.004*\"prozent\" + 0.004*\"euro\" + 0.003*\"milliard\" + 0.002*\"rousseff\" + 0.002*\"dollar\" + 0.002*\"astronaut\" + 0.002*\"unternehm\" + 0.002*\"rapid\" + 0.002*\"umsatz\" + 0.002*\"million\"\n",
            "Topic: 5 \t Word: 0.006*\"prozent\" + 0.005*\"euro\" + 0.003*\"ath\" + 0.003*\"griechenland\" + 0.003*\"milliard\" + 0.003*\"griechisch\" + 0.002*\"russisch\" + 0.002*\"tsipras\" + 0.002*\"bank\" + 0.002*\"unternehm\"\n",
            "Topic: 6 \t Word: 0.002*\"prozent\" + 0.002*\"osterreich\" + 0.002*\"wien\" + 0.002*\"euro\" + 0.002*\"jahr\" + 0.002*\"forsch\" + 0.002*\"standard\" + 0.002*\"neu\" + 0.001*\"million\" + 0.001*\"gross\"\n",
            "Topic: 7 \t Word: 0.009*\"prozent\" + 0.003*\"wachstum\" + 0.003*\"wifo\" + 0.003*\"streik\" + 0.003*\"euro\" + 0.003*\"verdi\" + 0.002*\"arbeitslos\" + 0.002*\"oecd\" + 0.002*\"amazon\" + 0.002*\"gewerkschaft\"\n",
            "Topic: 8 \t Word: 0.005*\"lufthansa\" + 0.004*\"prozent\" + 0.003*\"euro\" + 0.002*\"airlin\" + 0.002*\"forsch\" + 0.002*\"ikea\" + 0.002*\"flug\" + 0.002*\"siem\" + 0.002*\"mindestlohn\" + 0.002*\"million\"\n",
            "Topic: 9 \t Word: 0.003*\"forsch\" + 0.003*\"tier\" + 0.003*\"satellit\" + 0.002*\"archaolog\" + 0.002*\"bors\" + 0.002*\"studi\" + 0.002*\"million\" + 0.002*\"euro\" + 0.002*\"mey\" + 0.002*\"raket\"\n"
          ]
        }
      ]
    },
    {
      "cell_type": "markdown",
      "metadata": {
        "id": "f9HswwLLsw0X"
      },
      "source": [
        "## Inference\n",
        "\n",
        "Now that we have a topic-modeler, let's use it on one of the articles."
      ]
    },
    {
      "cell_type": "code",
      "metadata": {
        "id": "tQlSUn_CsbcX",
        "outputId": "eb66db43-2e98-42d2-9047-a697307977ca",
        "colab": {
          "base_uri": "https://localhost:8080/"
        }
      },
      "source": [
        "# randomly pick an article:\n",
        "test_doc = choice(range(len(processed_docs)))\n",
        "processed_docs[test_doc][:50]"
      ],
      "execution_count": 26,
      "outputs": [
        {
          "output_type": "execute_result",
          "data": {
            "text/plain": [
              "['beim',\n",
              " 'entfern',\n",
              " 'pickerl',\n",
              " 'hatt',\n",
              " 'betroff',\n",
              " 'schwer',\n",
              " 'verletz',\n",
              " 'wien',\n",
              " 'wien',\n",
              " 'berufsschul',\n",
              " 'montag',\n",
              " 'aufkleb',\n",
              " 'rechtsradikal',\n",
              " 'identitar',\n",
              " 'beweg',\n",
              " 'osterreich',\n",
              " 'vier',\n",
              " 'rasierkling',\n",
              " 'gefund',\n",
              " 'word',\n",
              " 'aufkleb',\n",
              " 'entfern',\n",
              " 'hatt',\n",
              " 'schwer',\n",
              " 'zuzieh',\n",
              " 'sagt',\n",
              " 'direktorin',\n",
              " 'monika',\n",
              " 'gojkovic',\n",
              " 'vojnovic',\n",
              " 'verletzt',\n",
              " 'wurd',\n",
              " 'niemand',\n",
              " 'schul',\n",
              " 'verstandigt',\n",
              " 'polizei',\n",
              " 'erstattet',\n",
              " 'anzeig',\n",
              " 'bild',\n",
              " 'aufkleb',\n",
              " 'kursiert',\n",
              " 'montag',\n",
              " 'sozial',\n",
              " 'medi',\n",
              " 'rasierkling',\n",
              " 'identitar',\n",
              " 'stick',\n",
              " 'schul',\n",
              " 'https',\n",
              " 'antifa']"
            ]
          },
          "metadata": {},
          "execution_count": 26
        }
      ]
    },
    {
      "cell_type": "markdown",
      "metadata": {
        "id": "Jt6oJJL8tiO_"
      },
      "source": [
        "Using the original BOW model:"
      ]
    },
    {
      "cell_type": "code",
      "metadata": {
        "id": "ZBbrSNDVszGW",
        "outputId": "7a0212e1-6589-44cd-ca64-73d4bf46af1b",
        "colab": {
          "base_uri": "https://localhost:8080/"
        }
      },
      "source": [
        "for index, score in sorted(lda_model[bow_corpus[test_doc]], key=lambda tup: -1*tup[1]):\n",
        "    print(f\"Topic match score: {score} \\nTopic: {lda_model.print_topic(index, num_of_topics)}\")\n"
      ],
      "execution_count": 27,
      "outputs": [
        {
          "output_type": "stream",
          "name": "stdout",
          "text": [
            "Topic match score: 0.9849841594696045 \n",
            "Topic: 0.010*\"word\" + 0.010*\"jahr\" + 0.009*\"sagt\" + 0.008*\"jahrig\" + 0.007*\"polizei\" + 0.007*\"mann\" + 0.006*\"weg\" + 0.006*\"wien\" + 0.006*\"frau\" + 0.005*\"zwei\"\n"
          ]
        }
      ]
    },
    {
      "cell_type": "markdown",
      "metadata": {
        "id": "hdz9qz-Atj3A"
      },
      "source": [
        "And with the TF/IDF model:"
      ]
    },
    {
      "cell_type": "code",
      "metadata": {
        "id": "XWHTDQjVtTyO",
        "outputId": "018ffabd-bcc9-45f9-dc58-a06a1953fea2",
        "colab": {
          "base_uri": "https://localhost:8080/"
        }
      },
      "source": [
        "for index, score in sorted(lda_model_tfidf[bow_corpus[test_doc]], key=lambda tup: -1*tup[1]):\n",
        "    print(\"Topic match score: {}\\t \\nTopic: {}\".format(score, lda_model_tfidf.print_topic(index, num_of_topics)))"
      ],
      "execution_count": 28,
      "outputs": [
        {
          "output_type": "stream",
          "name": "stdout",
          "text": [
            "Topic match score: 0.5107717514038086\t \n",
            "Topic: 0.002*\"prozent\" + 0.002*\"osterreich\" + 0.002*\"wien\" + 0.002*\"euro\" + 0.002*\"jahr\" + 0.002*\"forsch\" + 0.002*\"standard\" + 0.002*\"neu\" + 0.001*\"million\" + 0.001*\"gross\"\n",
            "Topic match score: 0.47588062286376953\t \n",
            "Topic: 0.004*\"griechenland\" + 0.004*\"griechisch\" + 0.004*\"fluchtling\" + 0.003*\"regier\" + 0.003*\"ath\" + 0.003*\"word\" + 0.002*\"polizei\" + 0.002*\"finanzminist\" + 0.002*\"land\" + 0.002*\"tsipras\"\n"
          ]
        }
      ]
    },
    {
      "cell_type": "markdown",
      "source": [
        "Calculating the [perplexity score](https://towardsdatascience.com/perplexity-in-language-models-87a196019a94) (lower is better):"
      ],
      "metadata": {
        "id": "Y6hgkxQ4RIzf"
      }
    },
    {
      "cell_type": "code",
      "source": [
        "print('Perplexity: ', lda_model.log_perplexity(bow_corpus))\n",
        "print('Perplexity TFIDF: ', lda_model_tfidf.log_perplexity(bow_corpus))"
      ],
      "metadata": {
        "id": "hHtIgzTlw-gN",
        "outputId": "ebcf2906-06c8-4887-bb42-9f2d8f71d018",
        "colab": {
          "base_uri": "https://localhost:8080/"
        }
      },
      "execution_count": 29,
      "outputs": [
        {
          "output_type": "stream",
          "name": "stdout",
          "text": [
            "Perplexity:  -7.997365981435226\n",
            "Perplexity TFIDF:  -8.402540144666993\n"
          ]
        }
      ]
    },
    {
      "cell_type": "markdown",
      "metadata": {
        "id": "NZGXqV-TtyTm"
      },
      "source": [
        "### Exercise - inference\n",
        "\n",
        "Now try it on a new document!\n",
        "\n",
        "Go to a news website, such as [orf.at](https://orf.at/) and copy an article of your choice here:"
      ]
    },
    {
      "cell_type": "code",
      "metadata": {
        "id": "Srd1NWjFtlqM",
        "outputId": "2de7d2d7-cf12-4332-d24c-b4dded61315f",
        "colab": {
          "base_uri": "https://localhost:8080/"
        }
      },
      "source": [
        "unseen_document = \"\"\"Sobotka sprach in einer um eineinhalb Stunden verspäteten Pressekonferenz am Abend von einer „schwierigen“, aber „sachlichen und pointierten“ Diskussion im Hauptausschuss. Er meinte, dass von Gesundheitsminister Rudolf Anschober (Grüne), die „Notwendigkeit, Verhältnismäßigkeit und Richtigkeit“ der Maßnahmen erläutert worden seien. Zudem betonte Sobotka die Wichtigkeit der im Covid-Maßnahmengesetz vorgesehenen Mitsprache des Parlaments bei Maßnahmen, bei denen auch die Freiheitsrechte betroffen seien.\n",
        "Der Nationalratspräsident zitierte auch die deutsche Kanzlerin Angela Merkel, die die Maßnahmen im Kampf gegen die Pandemie als „demokratische Zumutung“ bezeichnet hatte. Dem sei nicht nur zuzustimmen, das sei auch zu unterstreichen, sagte er. Die Eindämmung der Pandemie könne aber nur gelingen, wenn sich alle Österreicher einbringen. Der Beschluss alleine reiche nicht, die Maßnahmen müssten auch im Geiste verinnerlicht werden, appellierte Sobotka an die Bevölkerung, die Maßnahmen mitzutragen.\n",
        "Rendi-Wagner kritisiert Regierung\n",
        "Die Opposition hatte schon vor der Sitzung – und dann auch noch einmal danach – ihre Kritik an der Regierung bekräftigt. „Die Bundesregierung hat die Kontrolle über das Infektionsgeschehen verloren und hat die schwierige Situation, vor der wir jetzt stehen, zu verantworten“, kritisierte SPÖ-Klub- und Parteivorsitzende Rendi-Wagner.\n",
        "Sessel auf Tischen in einem geschlossenen Lokal\n",
        "DEBATTEWie gerechtfertigt sind die Maßnahmen?\"\"\"\n",
        "\n",
        "bow_vector = dictionary.doc2bow(preprocess(unseen_document))\n",
        "\n",
        "print(\"Simply printing the lda_model output would look like this:\")\n",
        "pprint(lda_model[bow_vector])\n",
        "\n",
        "print(\"\\n\\nSo let's make it nicer, by printing the topic contents:\")\n",
        "for index, score in sorted(lda_model[bow_vector], key=lambda tup: -1*tup[1]):\n",
        "    print(f\"Score: {score}\\t Topic: {lda_model.print_topic(index, 5)}\")\n"
      ],
      "execution_count": 30,
      "outputs": [
        {
          "output_type": "stream",
          "name": "stdout",
          "text": [
            "Simply printing the lda_model output would look like this:\n",
            "[(0, 0.9890107)]\n",
            "\n",
            "\n",
            "So let's make it nicer, by printing the topic contents:\n",
            "Score: 0.9890106916427612\t Topic: 0.008*\"polit\" + 0.007*\"sagt\" + 0.007*\"standard\" + 0.006*\"wien\" + 0.006*\"grun\"\n"
          ]
        }
      ]
    },
    {
      "cell_type": "markdown",
      "source": [
        "## Visualization"
      ],
      "metadata": {
        "id": "NOl16tMOsmYd"
      }
    },
    {
      "cell_type": "markdown",
      "source": [
        "Finally, there are packages that can visulaize the results, such as [pyLDAvis](https://pypi.org/project/pyLDAvis/) and [tmplot](https://pypi.org/project/tmplot/). Here's what it looks like:"
      ],
      "metadata": {
        "id": "Am2p_6seTOOE"
      }
    },
    {
      "cell_type": "code",
      "source": [
        "!pip install pyLDAvis"
      ],
      "metadata": {
        "id": "ERQDi99Rs6dO",
        "outputId": "8b377aa1-1a71-461d-fc4a-d0b328c7f305",
        "colab": {
          "base_uri": "https://localhost:8080/"
        }
      },
      "execution_count": 31,
      "outputs": [
        {
          "output_type": "stream",
          "name": "stdout",
          "text": [
            "Requirement already satisfied: pyLDAvis in /usr/local/lib/python3.10/dist-packages (3.4.1)\n",
            "Requirement already satisfied: numpy>=1.24.2 in /usr/local/lib/python3.10/dist-packages (from pyLDAvis) (1.26.1)\n",
            "Requirement already satisfied: scipy in /usr/local/lib/python3.10/dist-packages (from pyLDAvis) (1.11.3)\n",
            "Requirement already satisfied: pandas>=2.0.0 in /usr/local/lib/python3.10/dist-packages (from pyLDAvis) (2.1.3)\n",
            "Requirement already satisfied: joblib>=1.2.0 in /usr/local/lib/python3.10/dist-packages (from pyLDAvis) (1.3.2)\n",
            "Requirement already satisfied: jinja2 in /usr/local/lib/python3.10/dist-packages (from pyLDAvis) (3.1.2)\n",
            "Requirement already satisfied: numexpr in /usr/local/lib/python3.10/dist-packages (from pyLDAvis) (2.8.7)\n",
            "Requirement already satisfied: funcy in /usr/local/lib/python3.10/dist-packages (from pyLDAvis) (2.0)\n",
            "Requirement already satisfied: scikit-learn>=1.0.0 in /usr/local/lib/python3.10/dist-packages (from pyLDAvis) (1.2.2)\n",
            "Requirement already satisfied: gensim in /usr/local/lib/python3.10/dist-packages (from pyLDAvis) (4.3.2)\n",
            "Requirement already satisfied: setuptools in /usr/local/lib/python3.10/dist-packages (from pyLDAvis) (67.7.2)\n",
            "Requirement already satisfied: python-dateutil>=2.8.2 in /usr/local/lib/python3.10/dist-packages (from pandas>=2.0.0->pyLDAvis) (2.8.2)\n",
            "Requirement already satisfied: pytz>=2020.1 in /usr/local/lib/python3.10/dist-packages (from pandas>=2.0.0->pyLDAvis) (2023.3.post1)\n",
            "Requirement already satisfied: tzdata>=2022.1 in /usr/local/lib/python3.10/dist-packages (from pandas>=2.0.0->pyLDAvis) (2023.3)\n",
            "Requirement already satisfied: threadpoolctl>=2.0.0 in /usr/local/lib/python3.10/dist-packages (from scikit-learn>=1.0.0->pyLDAvis) (3.2.0)\n",
            "Requirement already satisfied: smart-open>=1.8.1 in /usr/local/lib/python3.10/dist-packages (from gensim->pyLDAvis) (6.4.0)\n",
            "Requirement already satisfied: MarkupSafe>=2.0 in /usr/local/lib/python3.10/dist-packages (from jinja2->pyLDAvis) (2.1.3)\n",
            "Requirement already satisfied: six>=1.5 in /usr/local/lib/python3.10/dist-packages (from python-dateutil>=2.8.2->pandas>=2.0.0->pyLDAvis) (1.16.0)\n"
          ]
        }
      ]
    },
    {
      "cell_type": "code",
      "source": [
        "import pyLDAvis.gensim_models as gensimvis\n",
        "import pyLDAvis\n",
        "\n",
        "bow_lda_data = gensimvis.prepare(lda_model, bow_corpus, dictionary)\n",
        "\n",
        "pyLDAvis.display(bow_lda_data)"
      ],
      "metadata": {
        "id": "xwDURjMYslxZ",
        "outputId": "1a68dbf2-2c02-4412-bc87-91e31bbc8f2e",
        "colab": {
          "base_uri": "https://localhost:8080/",
          "height": 861
        }
      },
      "execution_count": 32,
      "outputs": [
        {
          "output_type": "execute_result",
          "data": {
            "text/plain": [
              "<IPython.core.display.HTML object>"
            ],
            "text/html": [
              "\n",
              "<link rel=\"stylesheet\" type=\"text/css\" href=\"https://cdn.jsdelivr.net/gh/bmabey/pyLDAvis@3.4.0/pyLDAvis/js/ldavis.v1.0.0.css\">\n",
              "\n",
              "\n",
              "<div id=\"ldavis_el164201349173530954562905830640\" style=\"background-color:white;\"></div>\n",
              "<script type=\"text/javascript\">\n",
              "\n",
              "var ldavis_el164201349173530954562905830640_data = {\"mdsDat\": {\"x\": [-0.037140140059749825, 0.03144562952717837, -0.08397592696234901, 0.05007550598686723, -0.08703062887356246, 0.1151968418490254, -0.10819617014455608, 0.1741847193408692, -0.0011973054033924005, -0.05336252526033016], \"y\": [0.02649888822536447, -0.09254479725715133, 0.00672741759446288, 0.06964140184157774, -0.017333276241839335, -0.11371169838841094, -0.06768683427825277, 0.0384626801941953, 0.12539118236763167, 0.024555035942422414], \"topics\": [1, 2, 3, 4, 5, 6, 7, 8, 9, 10], \"cluster\": [1, 1, 1, 1, 1, 1, 1, 1, 1, 1], \"Freq\": [17.785433657188186, 16.50748851818002, 12.447908783649266, 11.78513513639899, 8.96817020796177, 7.83094288562506, 7.700263184102055, 7.311254967691758, 5.204878815077154, 4.458523844125739]}, \"tinfo\": {\"Term\": [\"prozent\", \"euro\", \"fluchtling\", \"osterreich\", \"jahr\", \"spiel\", \"standard\", \"million\", \"mensch\", \"unternehm\", \"polizei\", \"dollar\", \"word\", \"forsch\", \"grenz\", \"wien\", \"jahrig\", \"ukrain\", \"griechenland\", \"partei\", \"land\", \"russisch\", \"russland\", \"china\", \"milliard\", \"mann\", \"israel\", \"regier\", \"grun\", \"appl\", \"griss\", \"trump\", \"kandidatur\", \"strolz\", \"volkspartei\", \"khol\", \"haimbuchn\", \"puhring\", \"niessl\", \"glawischn\", \"obamas\", \"podemos\", \"wahlergebnis\", \"irmgard\", \"haupl\", \"republikan\", \"wahlkampf\", \"vassilakou\", \"juraczka\", \"labour\", \"parteitag\", \"stadtrat\", \"landtagswahl\", \"kandidi\", \"stichwahl\", \"stenzel\", \"pjongjang\", \"vov\", \"spitzenkandidat\", \"strach\", \"clinton\", \"klubchef\", \"gemeinderat\", \"wahlkart\", \"partei\", \"demokrat\", \"lopatka\", \"bell\", \"neos\", \"landeshauptmann\", \"obama\", \"stronach\", \"parteichef\", \"wahl\", \"kandidat\", \"grun\", \"freiheit\", \"ttip\", \"koalition\", \"polit\", \"abgeordnet\", \"burgermeist\", \"blau\", \"mandat\", \"faymann\", \"stimm\", \"mitterlehn\", \"prasident\", \"standard\", \"mehrheit\", \"parlament\", \"regier\", \"sagt\", \"land\", \"wien\", \"chef\", \"europa\", \"gesprach\", \"seit\", \"muss\", \"hatt\", \"neu\", \"schon\", \"recht\", \"entscheid\", \"staat\", \"fordert\", \"gibt\", \"jahr\", \"erst\", \"viel\", \"frag\", \"osterreich\", \"bereit\", \"geb\", \"gross\", \"erklart\", \"imm\", \"thiem\", \"nadal\", \"djokovic\", \"slam\", \"gemald\", \"tennis\", \"mozart\", \"break\", \"murray\", \"wimbledon\", \"cont\", \"french\", \"videospiel\", \"literar\", \"topgesetzt\", \"australian\", \"soul\", \"genr\", \"tiebreak\", \"asthet\", \"dominic\", \"klavi\", \"kunstlerin\", \"lin\", \"breakball\", \"sehnsucht\", \"gamestandard\", \"dirigent\", \"maur\", \"adventur\", \"philosoph\", \"fiction\", \"award\", \"kunstwerk\", \"fed\", \"kunst\", \"komponist\", \"epoch\", \"open\", \"literatur\", \"gam\", \"erschien\", \"musikal\", \"museum\", \"song\", \"story\", \"satz\", \"buch\", \"mathemat\", \"musik\", \"gehirn\", \"autor\", \"werk\", \"kunstl\", \"geschicht\", \"wissenschaft\", \"film\", \"judisch\", \"eigenschaft\", \"universitat\", \"turni\", \"dunkl\", \"university\", \"heut\", \"welt\", \"spiel\", \"ganz\", \"leb\", \"gross\", \"schon\", \"zeit\", \"form\", \"forsch\", \"jahr\", \"natur\", \"imm\", \"lang\", \"einfach\", \"erst\", \"wien\", \"dabei\", \"alt\", \"gibt\", \"klein\", \"viel\", \"macht\", \"etwa\", \"neu\", \"arbeit\", \"studi\", \"mensch\", \"sagt\", \"wenig\", \"zwei\", \"seit\", \"standard\", \"konnt\", \"android\", \"betriebssyst\", \"lumia\", \"eurogrupp\", \"dijsselblo\", \"syriza\", \"schaubl\", \"windows\", \"phon\", \"betriebssystem\", \"jero\", \"messeng\", \"brows\", \"junck\", \"tsipras\", \"snapdragon\", \"varoufakis\", \"megapixel\", \"desktop\", \"hilfspaket\", \"updat\", \"firmwar\", \"apps\", \"client\", \"build\", \"firefox\", \"beta\", \"entsperr\", \"provid\", \"microsoft\", \"hilfsprogramm\", \"nexus\", \"display\", \"spotify\", \"iphon\", \"verschlusselt\", \"googl\", \"appl\", \"ipad\", \"wlan\", \"ath\", \"smartphon\", \"griechenland\", \"alexis\", \"griech\", \"griechisch\", \"samsung\", \"version\", \"nutz\", \"gerat\", \"facebook\", \"finanzminist\", \"kommission\", \"mobil\", \"neu\", \"softwar\", \"soll\", \"brussel\", \"allerding\", \"europa\", \"vorschlag\", \"sagt\", \"bereit\", \"aktuell\", \"moglich\", \"weit\", \"eig\", \"euro\", \"gibt\", \"muss\", \"fluchtling\", \"land\", \"erst\", \"seit\", \"etwa\", \"osterreich\", \"beim\", \"regier\", \"jahr\", \"rousseff\", \"obduktion\", \"tatverdacht\", \"hakenkreuz\", \"staatsanwaltin\", \"justizanstalt\", \"praterst\", \"razzi\", \"dilma\", \"zeugin\", \"brandstift\", \"eingeliefert\", \"kriminalist\", \"schuldspruch\", \"kompliz\", \"dreharbeit\", \"bluttat\", \"feldkirch\", \"molenbeek\", \"schoffensenat\", \"uberstellt\", \"psychiatr\", \"vergewalt\", \"jakarta\", \"unverletzt\", \"silvesternacht\", \"staatsanwalt\", \"feuerwehrleut\", \"tatort\", \"vergewaltigt\", \"festgenomm\", \"angeklagt\", \"festnahm\", \"haft\", \"polizei\", \"tat\", \"sexuell\", \"erstattet\", \"ermittl\", \"verdacht\", \"verurteilt\", \"ubergriff\", \"mandant\", \"polizist\", \"mann\", \"mutmass\", \"krankenhaus\", \"attentat\", \"anschlag\", \"mord\", \"gefangnis\", \"leich\", \"frau\", \"unfall\", \"jahrig\", \"zeug\", \"word\", \"opf\", \"flughaf\", \"beamt\", \"verletzt\", \"weg\", \"vorfall\", \"gericht\", \"stadt\", \"tot\", \"angab\", \"jugend\", \"kind\", \"jahr\", \"sagt\", \"berichtet\", \"laut\", \"zwei\", \"schwer\", \"seien\", \"mensch\", \"alt\", \"wien\", \"seit\", \"drei\", \"fall\", \"weit\", \"erklart\", \"bereit\", \"erst\", \"hatt\", \"rund\", \"osterreich\", \"offshor\", \"eigenkapital\", \"ebit\", \"unicredit\", \"heta\", \"transaktion\", \"ebitda\", \"pfeiff\", \"jahresumsatz\", \"telekom\", \"bawag\", \"zielpunkt\", \"geschaftsjahr\", \"ruckstell\", \"lufthansa\", \"kapitalerhoh\", \"lobbyist\", \"abschreib\", \"konsortium\", \"borsennotiert\", \"provision\", \"konkur\", \"liegenschaft\", \"steueroas\", \"holding\", \"aktionar\", \"sanier\", \"haftung\", \"divid\", \"gmbh\", \"betriebsrat\", \"ikea\", \"hypo\", \"operativ\", \"insolvenz\", \"eigentum\", \"euro\", \"umsatz\", \"filial\", \"tarif\", \"panama\", \"million\", \"bank\", \"vorstand\", \"anleih\", \"unternehm\", \"milliard\", \"standort\", \"geschaft\", \"mitarbeit\", \"wien\", \"verkauf\", \"konz\", \"kund\", \"energi\", \"rund\", \"prozent\", \"jahr\", \"investor\", \"laut\", \"neu\", \"osterreich\", \"hoh\", \"soll\", \"seit\", \"chef\", \"weit\", \"erst\", \"bereit\", \"sowi\", \"sagt\", \"seien\", \"etwa\", \"geld\", \"gross\", \"weg\", \"word\", \"zwei\", \"drei\", \"deutsch\", \"land\", \"admira\", \"grodig\", \"kainz\", \"barisic\", \"zeidl\", \"altach\", \"jelic\", \"schaub\", \"meteorologi\", \"dibon\", \"schottel\", \"stangl\", \"foda\", \"zamg\", \"lask\", \"pavelic\", \"petsos\", \"strebing\", \"kayod\", \"grahovac\", \"prosen\", \"geodynam\", \"gorgon\", \"pfeifenberg\", \"novota\", \"edomwonyi\", \"venuto\", \"schobesberg\", \"tomi\", \"grozurek\", \"vastic\", \"soriano\", \"rapid\", \"wack\", \"ried\", \"alm\", \"keita\", \"happel\", \"mattersburg\", \"fink\", \"hofmann\", \"celsius\", \"wolfsberg\", \"grad\", \"mannschaft\", \"mannch\", \"temperatur\", \"stadion\", \"sonn\", \"sturm\", \"bull\", \"forsch\", \"ball\", \"weltcup\", \"salzburg\", \"bundesliga\", \"austria\", \"train\", \"spiel\", \"atmosphar\", \"minut\", \"parti\", \"ozean\", \"team\", \"sieg\", \"erst\", \"met\", \"punkt\", \"fussball\", \"platz\", \"konnt\", \"zweit\", \"tier\", \"zwei\", \"vier\", \"wien\", \"rund\", \"gross\", \"jahr\", \"schon\", \"drei\", \"bereit\", \"sagt\", \"weit\", \"beim\", \"stark\", \"osterreich\", \"wifo\", \"vormonat\", \"jobsuch\", \"arbeitslos\", \"einkomm\", \"arbeitsmarkt\", \"uberstund\", \"mindestlohn\", \"steuerreform\", \"mittelschicht\", \"altersgrupp\", \"arbeitszeit\", \"weiterbild\", \"arbeitskraft\", \"zuwach\", \"teilzeit\", \"lohnnebenkost\", \"prozentpunkt\", \"produktivitat\", \"market\", \"schrumpf\", \"geringfug\", \"armut\", \"zuwachs\", \"oecd\", \"berufsbild\", \"lohn\", \"arbeitnehm\", \"sozialstaat\", \"durchschnitt\", \"okonom\", \"anstieg\", \"wachstum\", \"prozent\", \"ruckgang\", \"konjunktur\", \"inflation\", \"plus\", \"gestieg\", \"statist\", \"schnitt\", \"befragt\", \"osterreich\", \"niedrig\", \"wirtschaft\", \"haushalt\", \"minus\", \"steigend\", \"zahl\", \"hoh\", \"standard\", \"jahr\", \"wenig\", \"deutlich\", \"studi\", \"stark\", \"euro\", \"land\", \"arbeit\", \"gibt\", \"mensch\", \"viel\", \"wien\", \"vorjahr\", \"liegt\", \"fluchtling\", \"seit\", \"laut\", \"imm\", \"etwa\", \"sagt\", \"geht\", \"gross\", \"rund\", \"muss\", \"unternehm\", \"erst\", \"schon\", \"stok\", \"palastinens\", \"atletico\", \"tottenham\", \"barca\", \"israelis\", \"leic\", \"westjordanland\", \"neymar\", \"nusra\", \"dynamo\", \"juventus\", \"netanjahu\", \"tempelberg\", \"aden\", \"sanaa\", \"tampa\", \"hadi\", \"vidal\", \"houthi\", \"suarez\", \"watford\", \"gazastreif\", \"assad\", \"bashar\", \"ronaldo\", \"monchengladbach\", \"jemenit\", \"hisbollah\", \"hamas\", \"luftangriff\", \"leverkus\", \"chelsea\", \"guardiola\", \"jerusal\", \"borussia\", \"united\", \"israel\", \"taliban\", \"sevilla\", \"liverpool\", \"jem\", \"barcelona\", \"schalk\", \"dortmund\", \"arsenal\", \"arnautovic\", \"manch\", \"hinspiel\", \"leagu\", \"rebell\", \"bay\", \"madrid\", \"champion\", \"syrisch\", \"city\", \"alaba\", \"arme\", \"syri\", \"tor\", \"getotet\", \"minut\", \"saison\", \"train\", \"kampf\", \"sieg\", \"angriff\", \"real\", \"punkt\", \"spiel\", \"islam\", \"seit\", \"erst\", \"jahrig\", \"munch\", \"beim\", \"sagt\", \"word\", \"zwei\", \"drei\", \"samstag\", \"jahr\", \"sonntag\", \"bereit\", \"rund\", \"neu\", \"vergang\", \"mensch\", \"volltext\", \"krim\", \"peskow\", \"kosovar\", \"mazedon\", \"radkersburg\", \"tribunal\", \"mazedoni\", \"kosovo\", \"transitland\", \"belgrad\", \"serbisch\", \"serbi\", \"bohmermann\", \"balkanstaat\", \"idomeni\", \"basier\", \"slowen\", \"dmitri\", \"kroatisch\", \"uberfahrt\", \"grenzubergang\", \"sonderzug\", \"kroati\", \"sammelstell\", \"moskaus\", \"ukrain\", \"budap\", \"grenzubertritt\", \"grenzzaun\", \"sloweni\", \"ungar\", \"kiew\", \"ungarn\", \"artikel\", \"russisch\", \"einreis\", \"spielfeld\", \"fluchtling\", \"grenz\", \"russland\", \"putin\", \"moskau\", \"rechtlich\", \"agypt\", \"turkisch\", \"turkei\", \"verfug\", \"zaun\", \"grund\", \"mensch\", \"steht\", \"deutschland\", \"tier\", \"sagt\", \"migrant\", \"berlin\", \"regier\", \"osterreich\", \"land\", \"seit\", \"rund\", \"seien\", \"europa\", \"bereit\", \"zwei\", \"jahr\", \"yuan\", \"vettel\", \"boeing\", \"barrel\", \"chinas\", \"toyota\", \"hamilton\", \"peking\", \"renault\", \"umweltbehord\", \"taiwan\", \"hongkong\", \"olpreis\", \"jinping\", \"autobau\", \"tesla\", \"wang\", \"china\", \"volkswag\", \"nico\", \"chines\", \"ferrari\", \"volksrepubl\", \"motor\", \"daiml\", \"vollzug\", \"aktienmarkt\", \"absatz\", \"geldpolit\", \"shanghai\", \"selbstfahr\", \"porsch\", \"bors\", \"autos\", \"dollar\", \"fahrzeug\", \"satellit\", \"tokio\", \"notenbank\", \"japan\", \"markt\", \"audi\", \"konz\", \"amazon\", \"indi\", \"analyst\", \"herstell\", \"unternehm\", \"weltweit\", \"jahr\", \"mark\", \"milliard\", \"prozent\", \"iran\", \"million\", \"sagt\", \"land\", \"erst\", \"seit\", \"bereit\", \"neu\", \"zufolg\", \"rund\", \"vergang\", \"soll\", \"euro\", \"deutsch\", \"weit\", \"zwei\", \"europa\", \"gross\"], \"Freq\": [5860.0, 5052.0, 2928.0, 5581.0, 9947.0, 2783.0, 3507.0, 3022.0, 4184.0, 2152.0, 1507.0, 1128.0, 3572.0, 1760.0, 1279.0, 7039.0, 2422.0, 715.0, 1316.0, 1412.0, 4087.0, 891.0, 1054.0, 605.0, 1413.0, 1894.0, 628.0, 2645.0, 1682.0, 853.0, 221.11176485749482, 342.4686534096546, 137.75718395331697, 83.96834619413254, 98.30646475755417, 135.69556909722107, 59.15539639040573, 74.15164351808639, 140.54663897772292, 137.67084582667684, 57.31229996094617, 49.17519033244768, 52.41055560443671, 62.364122993225436, 295.8828600323898, 231.18778508776697, 303.5768027710462, 112.79694689578051, 40.180289675963394, 42.704666834336855, 102.86586616707336, 61.856372581794176, 78.57191010481861, 55.85436060602452, 79.91089791176181, 42.289680365925506, 38.36063749372143, 35.6618315866914, 35.32559279553716, 423.5314879762965, 188.9146831802114, 111.21702424982435, 160.39271001345435, 61.79798934447941, 1311.8290089773661, 302.569258425082, 144.6707116623742, 344.2546902164507, 304.42527673500604, 326.28077227929776, 353.6982888452306, 186.45802480941677, 157.4560897444105, 1142.487732214718, 603.7686422365254, 1423.103739868189, 369.87765151704946, 362.1740663565758, 306.70987999012215, 2004.2967514561722, 506.2255481969991, 455.79115666144924, 349.85699644826104, 200.06673557153348, 501.4203685540725, 484.8889095960172, 355.68956726242607, 1001.4574340911167, 1719.2193194553593, 417.2296033370547, 587.064773227019, 1188.5094143376903, 1879.7153601455582, 1187.8965585706524, 1522.277172222345, 651.9238432874885, 842.3384850419288, 499.2405896637432, 1022.7557100506967, 781.5990361799651, 714.4889042948728, 974.5476235696436, 856.4005670973447, 573.3488127056708, 604.6199556866645, 599.2741497063867, 483.5717725225634, 729.1922961350818, 970.817366913478, 815.3128471467242, 688.1387683305372, 580.4189558243064, 698.792875411141, 658.437210491128, 580.0159854106904, 600.8695268474335, 583.5077252277925, 583.3472942586606, 230.05474149051395, 72.29515611093173, 69.07289539722169, 48.37847673322143, 58.475507890351835, 48.01271754213357, 28.807110296606876, 45.49334204404419, 61.194224309484255, 24.55737564787387, 32.5925631597675, 17.99248785539085, 43.01787370871511, 30.20098341379662, 16.259905036011883, 22.994083337322866, 18.636087248625554, 34.668515777234745, 18.405103658742128, 24.00889299847581, 62.13926293247836, 23.683863320072753, 19.548150031014337, 19.89979853407794, 13.920276094029136, 25.326493934884645, 20.980012538226582, 16.25135008823842, 58.522973609406186, 19.298786858188812, 87.34139098700527, 52.093043292267986, 83.68915235271176, 51.43526629505171, 86.82701660210553, 144.95865882996745, 38.0508394608386, 32.94597893042169, 206.98850216168185, 45.63606520202493, 265.43766232278995, 62.67764470390964, 45.966794747356076, 271.7363824581929, 113.7559744194762, 52.61187187781351, 218.51682446669668, 404.6721585847857, 141.61761028146955, 247.48425510226394, 94.3999126492084, 204.79526474477564, 230.01099561236873, 148.47588508351527, 484.85098217493424, 728.4115600673408, 317.0862395318192, 181.80365558207959, 131.509525980826, 518.1939889222407, 128.36661729772706, 117.44837635450801, 205.6848969551142, 705.6610130671759, 558.7740216531622, 1023.845937123156, 902.0150253973483, 699.8156193740775, 1342.9892898567682, 1285.1290999308203, 801.9025489461025, 307.2793113549618, 647.1464605736285, 2085.85420255521, 510.69649171688616, 937.5431023831811, 910.3542773034804, 485.7670787884934, 1442.27472625467, 1330.7943610797593, 777.1062816148257, 548.1475754628806, 856.4341538495504, 569.2962024871869, 800.0703008135832, 578.2157495751416, 802.3539811520768, 928.3110886588605, 559.6297223257616, 460.62534667492633, 752.3933057766727, 936.4105137739814, 678.6656746201502, 692.8345074639295, 725.3486622796635, 639.8198838811903, 556.9313963998782, 406.32632935450863, 105.78289729592723, 60.36900385949012, 140.68699791296888, 87.6199027590828, 78.33574361124701, 112.94853362616828, 506.97770303402706, 51.26438308747436, 50.349959273029974, 58.66712848600963, 54.40452175318171, 92.06891039364058, 165.58986235354712, 463.34739871284273, 46.81941740822244, 141.70692659407803, 51.372682647948544, 44.363714782520375, 90.1699987558777, 272.4603095700538, 32.438236174126985, 208.85846084076698, 27.999395532140728, 25.702656642926524, 24.144599318094475, 33.04198319342345, 30.329365400892577, 39.62352075445598, 478.61719165883716, 125.32017733819828, 150.82316604683854, 107.19126771511105, 55.7789418179399, 267.98101573517613, 43.73860388165853, 715.6309919463108, 779.5123100565404, 106.12602359141795, 93.11090680512638, 574.9561664774897, 608.2653974417984, 1038.432949162991, 160.00438730602713, 186.03028392784674, 770.9026657856864, 173.94698016192487, 315.42013579420325, 872.5641039122385, 670.4739981506258, 523.8286716330882, 389.32850477112106, 495.5829704198767, 240.36919248081378, 1735.27912719986, 254.87417088762848, 829.0674894623229, 344.4538578559306, 700.9024173333064, 777.5012897941482, 317.20780826763314, 1132.7486898722325, 767.8848105002181, 421.7508862332384, 556.5122224070554, 668.8539037985835, 493.4261706478106, 707.2131257750905, 621.1465759395938, 569.7090149923953, 557.5272137957679, 618.0443830053878, 663.373612745476, 618.0194170740235, 551.859947376092, 579.4588115317529, 522.2517604757603, 509.60632992686686, 524.4529855286785, 75.5018083684249, 31.67370269463554, 51.83364678710877, 21.936759750171824, 30.57733496574523, 32.02051076967596, 34.00216270283463, 20.89650456826319, 18.581145409041763, 27.26326728144318, 19.85861966618361, 23.999415230894332, 14.314337928933039, 22.08298702888712, 20.68922329097427, 16.67917652646722, 19.033786784687372, 38.831744436558495, 20.15381198868808, 30.273409968873136, 15.631757832186317, 31.427583126772902, 80.18007682764522, 19.723732982123316, 25.230868085877137, 67.26863464495871, 114.40976924475811, 21.210951892645163, 78.57550395409322, 29.990571275348543, 329.64081073653995, 307.9062046195411, 112.6720638167144, 305.7635206521043, 1203.2119177065456, 311.8348276783544, 157.7788784980682, 44.4232676269809, 474.3565001448292, 426.68423667079657, 327.8134389087613, 135.9514505080322, 55.55195069060935, 315.1893309890943, 1190.4213928688132, 223.23307679586574, 188.44106335693965, 185.7105401922897, 316.1559641770566, 142.05610559529845, 125.11806388772757, 127.90648312774736, 973.3663016158658, 135.9720394813484, 1275.6133706597418, 158.89477929267125, 1691.3448223042915, 371.0433251521223, 240.75902629789547, 258.82646285825905, 408.9785819842488, 1033.8661716387344, 193.29188818771547, 352.4406928808162, 599.6421569034056, 246.64198488666952, 518.5201908942823, 264.36864992961415, 491.03793915545367, 1669.0724333802266, 1450.4973055594444, 536.4645639958621, 784.2026936703735, 893.4096656166748, 452.96697737212173, 682.4110447856935, 808.1704929207054, 497.51575345971526, 975.6632509892728, 720.6383690907927, 574.6252117781421, 520.1083543267025, 600.0680478031303, 470.4353247869775, 517.4037021232875, 551.8946324512348, 461.62818320933906, 476.58834093246145, 431.3438711782031, 66.41492338422621, 34.69173139220732, 23.671382621661888, 22.646003288118813, 48.73366661443462, 51.838636155492104, 18.913609836720045, 121.48605528132249, 26.318843249220762, 153.3674339015559, 20.0166488306627, 161.27602704587355, 58.11705876855384, 12.237970999019703, 138.01173123344756, 19.462553790652144, 19.918670065243557, 34.88154788882831, 44.196068735705325, 27.019663145020825, 18.79002478563765, 21.90207310839615, 15.070286264496046, 39.31874899321925, 89.28822137505907, 61.04441930906046, 49.339567076069514, 33.10581955928746, 43.695408523483636, 110.28817208259069, 63.62838529685822, 75.3235692227906, 137.43797146091603, 75.12734696005829, 62.359655830522335, 153.53459531383908, 2628.221255805034, 238.94738039220752, 127.28992546697711, 71.03213844792344, 139.3116766915669, 1301.773972497079, 516.8402378070849, 161.65079792094951, 73.53283320489233, 793.4895712148304, 561.3727658655997, 186.3546088289097, 276.3545935942605, 406.74446242492724, 1617.6472361365709, 210.83814788658344, 248.86483372061198, 256.17725063962666, 208.63836753488093, 713.0745514334847, 928.536722840645, 1165.2615633955018, 126.9166609536642, 565.3217006847505, 759.8632216367979, 721.443300810241, 448.34322417682415, 444.13084010833643, 593.6262680419691, 339.63670211652163, 486.58912293356303, 574.693836140447, 484.5064659375582, 319.80644877525805, 549.1832268208649, 374.3068559950583, 359.02056528383486, 266.34605757984485, 365.7030843543157, 314.60845667952896, 334.3833773263269, 340.15838054968015, 321.75982712015025, 306.69421094998154, 309.9449098057624, 161.5195192432638, 168.66693169617585, 74.85263884811621, 116.11329479260053, 62.0379931941076, 132.31239986206577, 38.504156296166215, 45.78277761401435, 37.4822704003342, 33.78673202187053, 33.760135366345395, 32.184561083695485, 29.76016311900209, 40.22950077722617, 47.50905976636715, 30.39660750901962, 32.34887495455391, 29.711593048354036, 34.25065140561105, 30.381201048749706, 29.66100763558699, 29.086719782554443, 28.224264052930625, 32.22907767948385, 25.666334207789184, 24.32683658002968, 24.28197649701425, 54.570258553187195, 22.979043165970992, 21.005005793007545, 37.98691011344832, 64.41311457888021, 420.84651523246674, 70.47683296990697, 118.5046951928739, 59.85627302509017, 48.513689905768366, 59.7254939261633, 100.14905033556778, 57.579489917154525, 114.71035621353303, 75.61871629436936, 53.29173072218267, 296.5394579866276, 299.17402780884504, 161.4913239884165, 141.3598208649516, 178.57230890880106, 148.05575761357187, 246.7186380196199, 173.9653735685121, 822.7927027721845, 161.03519899729773, 93.42043183542816, 570.6079880902078, 164.93791715023642, 339.20839853886986, 313.30017606765654, 838.9460182268492, 126.61521327244783, 393.1128551254855, 184.7368334754147, 117.79381012077451, 386.8091254415218, 342.6566586718771, 962.2017115355876, 249.85962847924725, 346.1675344101064, 239.84884138545155, 317.86952641695734, 450.4081134319968, 361.53578457483786, 276.1684970567528, 471.43867402353743, 323.90648861810706, 510.4844006073828, 408.30609936197766, 433.6832352314944, 492.3664554228125, 388.16609208081513, 338.4333871689099, 363.0280884373983, 404.17232337462747, 335.9913264723982, 310.0367153186139, 292.18043251759656, 306.30652868355844, 133.96257983805714, 38.37786093689941, 30.924537464711765, 211.27865527476646, 163.64576592359293, 280.1578287437599, 46.17397236936788, 97.38442292353434, 127.30587532665027, 32.93897058593733, 13.85915907331372, 86.20241278450648, 17.44578044075295, 76.63431567021834, 57.04041986205532, 23.535221012939306, 24.174306764593894, 109.51003478302293, 38.264407188613845, 22.359695090010852, 27.154929588701, 31.312174839737573, 71.52681604086965, 35.22385121662086, 144.87455225598362, 12.788290055258344, 111.84263974989058, 133.15236422766384, 24.350469336586876, 78.00578125555217, 287.4818992056328, 163.88809170708046, 312.54091822252224, 3529.617758096896, 126.6012570533937, 108.40683330355965, 81.4566154092721, 229.93824003286562, 174.34746569104828, 167.42192721183747, 180.17191566200944, 171.8273057157275, 1813.1854190138426, 267.1646437098427, 399.53050882825045, 138.88082127609567, 160.225249705317, 121.25578564184616, 602.0948610296673, 686.7297309031586, 783.9693320602996, 1507.5220300033802, 703.6767845073293, 423.6370772573542, 385.2116328490182, 555.4799499856741, 772.9959170006581, 685.2579247969499, 417.99096205682304, 588.7519472451796, 572.653821445213, 489.6681960363306, 606.7444221705357, 226.19303057142918, 296.3503851481464, 384.11204262944733, 459.72752199811373, 386.66077253675354, 374.49625639516194, 387.8974369616011, 450.9925758363013, 338.6506345856879, 378.21982390901644, 351.0196863407584, 325.3553843094252, 313.82150683684097, 331.2847657114436, 316.2125194504077, 77.66604556593589, 131.95993050633936, 93.77532617512884, 58.621266648100466, 51.45463078366638, 61.123207272886454, 78.85303853434706, 44.00315940631013, 54.942467537957214, 42.845460383067056, 44.16314380271377, 99.41040880626709, 46.80755689922628, 31.17363035721047, 38.189969466960406, 33.60031013438654, 34.52813208910292, 30.53323985078758, 46.57555505455841, 27.062808630379962, 39.49256667203109, 40.53604757867242, 38.775477522412054, 157.37812592660686, 58.551225028865936, 65.29760509841891, 44.16334138561674, 23.587959152288228, 23.928196911203294, 39.888404259842034, 125.70011505390438, 85.86551109867271, 95.16846802528845, 72.19661036117411, 122.00000130813608, 87.619761541775, 133.51752820598367, 567.4684567546418, 128.16014986483884, 72.96486740318853, 119.89827853213303, 79.95138669327478, 221.6898652928906, 83.25984856903817, 139.37004322249845, 101.3529648751111, 94.78470731245444, 185.4005491206596, 154.2292988774957, 417.88475140968245, 200.91970735368233, 394.21735937079467, 244.79886980956215, 248.7566316608039, 341.9412518302645, 223.84623038064433, 127.37279719518654, 191.49536765042944, 397.70688013936615, 275.9884192692781, 308.026784880155, 447.4657207013138, 301.4656950172707, 325.78478234436824, 430.90216964055907, 388.9535319746008, 265.9773981721036, 214.38496395269476, 363.93228972561184, 541.2151969532601, 258.46022591990425, 576.6021124910446, 601.6897669133274, 379.0148322993875, 204.3036641368022, 416.1437846171337, 577.707214945517, 426.6255758581364, 453.24700860117616, 377.5599169145484, 280.1319455261557, 467.76673779570905, 297.14902534265167, 365.9185754504887, 345.55564499351334, 303.4521996032093, 267.32920567896184, 267.2257816683362, 296.9330516543528, 126.93654057169401, 37.745213490069176, 22.768060790475438, 80.71415371325695, 31.913440962704755, 27.749208880527636, 184.01986692468773, 111.11115464070241, 18.348995405419217, 56.82285586332102, 122.21931669497, 219.2834414730977, 83.65039876901366, 37.45902617588399, 39.30938675615112, 306.9918876337799, 128.32600216293244, 42.81767318624128, 139.53541285278487, 19.061931825796385, 104.62307940335432, 19.497479704158327, 216.61259646997559, 29.517396372843507, 20.722025990846742, 588.766710627185, 84.62409781734267, 23.80613413160127, 60.53163138441027, 248.97895563672066, 217.2308562840547, 208.2609906259397, 342.3895947680686, 360.79834002552536, 546.4540081943633, 89.19501884387815, 113.65456676248057, 1313.638040060588, 640.9162412591927, 525.2337760742492, 169.90608238333806, 273.3627120657804, 339.0593049454717, 177.59041842999298, 266.84888538012376, 345.09270914910473, 373.46504032306854, 137.51804872026878, 439.0599604256735, 747.975165305962, 396.2114893728501, 415.3993392889135, 262.01749819189007, 562.894563765637, 169.75948523088317, 237.66085219513366, 317.10691803418825, 367.812082390379, 329.1125808176386, 329.83434846999455, 304.71222227837524, 273.3205749059935, 273.5465297989838, 254.88025274654362, 253.21642353949488, 259.08669772806144, 47.74163597490037, 32.18649910597102, 38.559694164114305, 45.750759552967686, 123.46205440904981, 42.35505189532636, 39.998095575948724, 172.78455094407937, 31.172461052528362, 33.9649176501301, 26.321060839877507, 37.30183393803066, 86.17993993726024, 14.975651862346886, 99.6380029579595, 106.58104943873573, 26.568992624913353, 494.460288513909, 203.19765498337895, 11.359975208563, 353.6896218331263, 25.289687154898225, 34.67270894500069, 112.19045347695267, 49.77062038583327, 14.534934396894405, 24.607315397587694, 45.00772606105107, 51.80625951417596, 16.06355171799318, 45.30826347989551, 97.43150627722225, 121.16113118099908, 239.13627284053388, 594.4358098412215, 247.91852750411462, 78.6699856804379, 54.776639898926064, 121.05711739177933, 233.99524227233644, 282.09645913653725, 58.36897499236893, 220.5783977185799, 117.75503549094424, 115.99482380873476, 67.94907651661501, 189.9800886302975, 373.9330126783077, 182.50708195771256, 805.0022500956119, 137.0678558636102, 252.28623171356787, 495.9288789863941, 138.23787011252097, 330.3490698949702, 487.5911075426999, 342.6677785625688, 415.24392643626373, 379.79073592104197, 330.23138334931184, 358.04826524628453, 189.01405351892848, 274.91102523277885, 241.0279328015634, 249.79891708022726, 276.88357986449466, 235.47118815392523, 239.56242685547656, 231.65565865813002, 219.4306128209723, 206.63013968653854], \"Total\": [5860.0, 5052.0, 2928.0, 5581.0, 9947.0, 2783.0, 3507.0, 3022.0, 4184.0, 2152.0, 1507.0, 1128.0, 3572.0, 1760.0, 1279.0, 7039.0, 2422.0, 715.0, 1316.0, 1412.0, 4087.0, 891.0, 1054.0, 605.0, 1413.0, 1894.0, 628.0, 2645.0, 1682.0, 853.0, 224.68155250934723, 348.08023703061036, 140.59067546622524, 85.74419129200685, 100.397893392247, 138.61871610955444, 60.44552942591964, 75.77689609401443, 143.65347945811644, 140.86582766884047, 58.65709106294793, 50.35651104476224, 53.70502774101307, 63.933442369636154, 303.4769038067847, 237.1603362750587, 311.5098701299858, 115.8808357654248, 41.28810377362755, 43.901172211396265, 105.88058676375775, 63.76866798795701, 81.00721930027669, 57.60483801843832, 82.44760436234367, 43.64954053022357, 39.62234668816378, 36.867327194228174, 36.52155515606919, 438.3431819356981, 196.3311811041922, 115.28270107310586, 167.6347345990701, 63.97495938607555, 1412.0988737701098, 320.4584033433137, 151.24925591041534, 368.78034545069875, 326.50473726095623, 351.206837626031, 385.13782893734765, 198.79039294225478, 167.35927827872635, 1328.6623234981366, 681.8868220554177, 1682.0171031402213, 431.5190050655777, 424.05613084206004, 354.75295335672473, 2914.931865244705, 638.9861863096614, 571.4010029456762, 428.3837239097062, 223.16909826991773, 681.5846050337332, 662.2163420516921, 453.05553692541787, 1672.1721167484225, 3507.405171248408, 580.2900887172409, 920.1164840033338, 2645.7162460271047, 8431.912881636865, 4087.165462294284, 7039.432277014268, 1609.8481881632765, 3217.8054554265696, 1030.6632232249149, 5692.859019767739, 3009.9545607299297, 2607.0541557546867, 6044.089421406336, 4351.962250319769, 1559.5247517777784, 1831.2166977934146, 1888.776645222415, 991.298964225723, 3741.572278180024, 9947.20272281867, 6539.944983984419, 3485.5222191084526, 1951.7127740424812, 5581.051767440991, 4377.70784655695, 2158.014674645151, 4441.942410585167, 2495.824456734837, 3124.3306550816087, 232.29909004385786, 73.95190970832844, 70.80434299352343, 49.807955260344976, 60.846239948936315, 49.961483582942726, 30.01095334000064, 47.67866008072948, 64.47141923806973, 25.896045094058472, 34.4910450094629, 19.11231458589052, 45.739194127126, 32.11321874994279, 17.295199441687192, 24.484167689771105, 19.848075580520856, 36.932251373824165, 19.65629368746881, 25.68808460259043, 66.54561617056227, 25.37871033711802, 20.973456931027894, 21.382015292642375, 14.959845788243358, 27.231466680524896, 22.61795879905849, 17.53003887667456, 63.20716816380602, 20.882130130323123, 94.64599847423197, 56.61898465474495, 91.8430434481401, 56.23852698600294, 96.99576309861246, 165.080450232774, 41.72712690750924, 35.93597436436784, 246.6383521610257, 50.52807112892647, 322.44963171686936, 70.9687363617633, 51.19101634656641, 339.60720457068294, 134.49944769324847, 59.14292054940172, 274.9246210135847, 540.721878861236, 174.63494827481657, 322.5197335046079, 111.99918779851055, 267.21853471525543, 308.79531623945957, 190.58773941111636, 766.4100364282499, 1276.1826688261401, 489.727558043033, 256.29006249804473, 173.13084185161438, 968.7195169416566, 170.35452953414233, 154.82907496887006, 321.3193536394313, 1637.1291234186763, 1216.0614075234344, 2783.1193312652053, 2461.4404880160614, 1757.5297090388692, 4441.942410585167, 4351.962250319769, 2341.904505543389, 591.8447657461262, 1760.8793135313506, 9947.20272281867, 1258.2869920346564, 3124.3306550816087, 3130.52512410671, 1193.273170797227, 6539.944983984419, 7039.432277014268, 2962.5939725290264, 1608.767607743954, 3741.572278180024, 1770.1837277325683, 3485.5222191084526, 1849.815987979567, 3665.034038056624, 6044.089421406336, 1845.528702556084, 1221.9517172761366, 4184.400170376899, 8431.912881636865, 3262.657566833899, 4382.257826474415, 5692.859019767739, 3507.405171248408, 3005.1493089728942, 412.6392301522498, 107.88336686503933, 61.6997369240684, 143.91640020980864, 89.68601064604869, 80.20362000532204, 115.70548936928874, 519.3578179005012, 52.58459387545842, 51.704171495405305, 60.353134135576816, 55.97403229058878, 94.81921541447409, 170.920223196013, 478.33548801736066, 48.438811677822905, 146.919081591164, 53.26746515333045, 46.08653859547428, 93.8799523831374, 283.7501759852001, 33.79559258348345, 217.6831731783314, 29.190556308430445, 26.799614188016953, 25.189654073281915, 34.47558117315063, 31.685969302684555, 41.413903429771295, 500.40537807102044, 131.31917230563283, 158.38365688484967, 112.65070446112665, 58.369574929074034, 285.17072807663004, 45.75468849727315, 776.0922340800901, 853.9442422799315, 112.32876904986064, 98.6354534497407, 648.0734052442303, 696.4784463963861, 1316.2264674011524, 177.02004659588036, 209.03066219106256, 964.1237757895171, 196.04788056989537, 398.3531420868441, 1295.387553697743, 1005.6629760513086, 838.8147792690665, 595.6411963942106, 832.9677841599025, 326.59496413532435, 6044.089421406336, 380.31623815633986, 2943.948237682827, 703.9694604020716, 2652.4268250796695, 3217.8054554265696, 638.7095320458321, 8431.912881636865, 4377.70784655695, 1257.2010076403665, 2558.3156541957496, 4084.0898337867443, 1927.7414746927313, 5052.783917979479, 3741.572278180024, 3009.9545607299297, 2928.627009669479, 4087.165462294284, 6539.944983984419, 5692.859019767739, 3665.034038056624, 5581.051767440991, 3188.9194453592395, 2645.7162460271047, 9947.20272281867, 77.08499374540722, 32.81705962330246, 53.939913760130814, 23.07249449809545, 32.183068066632295, 33.71261959654598, 35.83303420884051, 22.06286358592454, 19.619060637833527, 28.901235845367726, 21.107164923115185, 25.574368619499452, 15.324844492361354, 23.67662913309256, 22.207911331457286, 18.043532398770733, 20.593670899918603, 42.033560758537924, 21.830951616795293, 32.8431328789705, 16.992669504979208, 34.246557320534045, 87.70156007910437, 21.618557507546164, 27.66503789083234, 73.78466730893236, 125.61471628070744, 23.35366462650736, 86.55524894601547, 33.107098298212186, 373.33955601234, 351.8364809353101, 127.41109459300777, 353.4527446359501, 1507.5242068651498, 384.4866659817473, 189.88694441771932, 50.087713471303225, 616.3767439203972, 553.2334797100941, 419.6497317257382, 165.36368173793292, 63.79766611833708, 429.08967301787425, 1894.386255367826, 296.700152587329, 247.25303360489477, 243.53777573848905, 443.4980961608954, 182.91444333616133, 160.7147929097141, 165.19282251077334, 1734.842206920379, 179.13237526880758, 2422.0140460244766, 215.89625291144526, 3572.767097391579, 588.4553677156757, 356.75141232680744, 411.793086919979, 746.5994980492635, 2544.2423773383857, 284.76995834017134, 666.6327795793306, 1480.5476626874386, 431.4679268331189, 1397.7828791203167, 483.8062359283077, 1336.0902031724997, 9947.20272281867, 8431.912881636865, 1652.7413115327233, 3422.882023557696, 4382.257826474415, 1284.6289854427475, 2851.7010140553007, 4184.400170376899, 1608.767607743954, 7039.432277014268, 5692.859019767739, 3004.058740840842, 2311.9229563793306, 4084.0898337867443, 2495.824456734837, 4377.70784655695, 6539.944983984419, 2607.0541557546867, 3709.817230512756, 5581.051767440991, 68.99124938110427, 36.35940836250898, 24.848394105050254, 23.840641766327337, 51.319248566312204, 54.839013034139285, 20.074499780501142, 129.57668565050014, 28.152232891430366, 166.194781988432, 21.796267320035035, 175.62348325814378, 63.73930315407831, 13.467668033841601, 153.41431446913515, 21.644899682004812, 22.26068120194808, 38.98534585128263, 49.50867500225766, 30.42746731961559, 21.231099681420474, 24.903308206746004, 17.245294179598048, 45.008409449569456, 102.61413037659287, 70.25947769061125, 56.982163284382814, 38.31833928648561, 50.72991215019113, 128.79073604334664, 74.68585306319468, 91.58804798548992, 175.9204736907527, 93.50955131322813, 77.90651088214966, 213.1239951687307, 5052.783917979479, 352.11669062201906, 174.0125144518998, 92.59617283871712, 204.40173596210576, 3022.261683061132, 1001.6506915610533, 251.77732828489053, 98.45978498857443, 2152.7931092916647, 1413.4558297082176, 335.69772362985054, 591.1699352522519, 1025.7494579681065, 7039.432277014268, 437.1162130709797, 574.699765880501, 623.6157690394231, 467.47772587152815, 3709.817230512756, 5860.149347801388, 9947.20272281867, 229.40856890935848, 3422.882023557696, 6044.089421406336, 5581.051767440991, 2363.057991945222, 2943.948237682827, 5692.859019767739, 1609.8481881632765, 4084.0898337867443, 6539.944983984419, 4377.70784655695, 1695.3174437755758, 8431.912881636865, 2851.7010140553007, 3665.034038056624, 1225.1006224916719, 4441.942410585167, 2544.2423773383857, 3572.767097391579, 4382.257826474415, 3004.058740840842, 2995.2973799448564, 4087.165462294284, 163.9650345043238, 171.53095124241463, 76.43734221641951, 118.69534460416348, 63.49946465038825, 136.2109845222376, 39.72408218325932, 47.28235790967482, 38.75333723295031, 35.001776602304595, 34.97609283263356, 33.40738456286478, 30.90341036169496, 41.80632619036124, 49.37591035445699, 31.59404762333827, 33.64842278936462, 30.90699717540911, 35.630451474496994, 31.610510147594425, 30.931785875998795, 30.372088474942377, 29.51506078158267, 33.7098622254772, 26.85454883092388, 25.47495930249604, 25.459661538717945, 57.239618883431696, 24.115844421694593, 22.071974616861937, 40.02450693609696, 68.2358757829169, 457.1959244164647, 75.28134175139944, 128.95086673073848, 63.92407848332569, 51.52740578955668, 64.43087419281314, 112.0561353732374, 62.21616698638883, 131.37712778062487, 84.06790122476696, 58.175335010899595, 390.2864188421347, 402.3059437472479, 201.86035843175276, 191.05081979084764, 253.75762890570508, 204.7494463737656, 390.928637654657, 254.33795474100063, 1760.8793135313506, 246.07510375163548, 121.47168871332026, 1338.737094075543, 263.4557204102962, 742.0382696925476, 673.9322607624355, 2783.1193312652053, 187.62821237208038, 1067.9539134320307, 344.18943179983745, 173.61361790362236, 1163.5294281901529, 1028.2472201847684, 6539.944983984419, 648.8729095097742, 1229.2153399572053, 621.2657847516285, 1282.3904104882163, 3005.1493089728942, 1804.6155820530262, 944.561432874682, 4382.257826474415, 1842.0614056535687, 7039.432277014268, 3709.817230512756, 4441.942410585167, 9947.20272281867, 4351.962250319769, 3004.058740840842, 4377.70784655695, 8431.912881636865, 4084.0898337867443, 3188.9194453592395, 2355.827568264973, 5581.051767440991, 136.94180156722646, 39.70286269480589, 32.94377843779411, 225.80659573019108, 175.98704493482123, 303.9158614673125, 50.89201197877743, 107.48532734481644, 140.71855041569387, 36.498002068079536, 15.533861427532694, 98.52633656871676, 20.208841058244754, 89.3192315815506, 67.46823146090705, 28.01527527978732, 29.3049512855427, 133.12107606772395, 46.63838158409624, 27.592413491615005, 33.62625692790979, 39.91216541544135, 92.92595627718318, 45.85082439701173, 188.68304143983573, 16.665652647402016, 146.00671167635255, 173.83188487764502, 31.939526910715568, 102.73519340561089, 386.7536118221477, 222.6691092834654, 434.1509783190416, 5860.149347801388, 174.4252709863764, 150.35112689256343, 110.6461640380949, 357.62307284881996, 264.75746947123645, 253.050351002817, 278.36882327639904, 275.7536794697813, 5581.051767440991, 522.2749824920372, 906.786895850098, 223.82481881109828, 284.4468633365994, 194.04013203651127, 1945.0723261706405, 2363.057991945222, 3507.405171248408, 9947.20272281867, 3262.657566833899, 1426.306221740308, 1221.9517172761366, 2355.827568264973, 5052.783917979479, 4087.165462294284, 1845.528702556084, 3741.572278180024, 4184.400170376899, 3485.5222191084526, 7039.432277014268, 569.509554807904, 1212.2804320499145, 2928.627009669479, 5692.859019767739, 3422.882023557696, 3124.3306550816087, 3665.034038056624, 8431.912881636865, 2371.747525960917, 4441.942410585167, 3709.817230512756, 3009.9545607299297, 2152.7931092916647, 6539.944983984419, 4351.962250319769, 78.98321472560318, 134.7916104747587, 95.80724180682725, 59.9323343656245, 52.67757922858433, 62.70147777862922, 81.0151843356519, 45.25400882295318, 56.50698066981598, 44.143168308325805, 45.50348859235284, 102.54388635995097, 48.30181409373884, 32.21563934345634, 39.4706935730258, 34.7450069293373, 35.73577281497505, 31.60806121131756, 48.401429283163, 28.127984500987566, 41.10111810449811, 42.218387105536664, 40.427053882866964, 164.172196640434, 61.09539295691941, 68.14836292861348, 46.13904809568662, 24.643668826336416, 25.01190128547841, 41.77112220790376, 131.82916730011345, 90.15467202552821, 100.0698944624404, 75.77299274172394, 129.49246228504768, 92.43702100740943, 142.30866586062965, 628.7650165311173, 136.98432878927753, 77.31792713221651, 129.63617600129393, 85.54075887618501, 249.87558438211417, 89.5631826273126, 156.00799092799105, 111.67354614409979, 104.58720818987368, 219.21440973715218, 180.14180419151603, 557.5812246977912, 247.2187432175181, 540.7364648997934, 316.8871235704967, 324.51394968442213, 477.13210524603704, 315.1910743275384, 155.55229893633322, 281.72932303987494, 785.7064834017326, 475.08572550887084, 569.7379778789494, 1067.9539134320307, 596.5050206487261, 673.9322607624355, 1119.2852939077443, 1028.2472201847684, 556.1785562669863, 423.1648460970749, 1229.2153399572053, 2783.1193312652053, 619.7843363203901, 5692.859019767739, 6539.944983984419, 2422.0140460244766, 439.63539822341954, 3188.9194453592395, 8431.912881636865, 3572.767097391579, 4382.257826474415, 3004.058740840842, 1058.6638452503494, 9947.20272281867, 1395.5252529705524, 4377.70784655695, 3709.817230512756, 6044.089421406336, 2568.969171404847, 4184.400170376899, 299.9214927803891, 131.05701622495513, 39.54100273089764, 24.16071058011727, 85.91436070772718, 34.25056061786039, 29.94083351294845, 199.08651136202076, 120.22378224313849, 19.883898464477937, 61.80098977293124, 133.28335352751722, 241.221898107758, 92.1821899205062, 41.290027974692265, 43.395161787698505, 340.689996608091, 143.13404014260016, 48.240205692791996, 158.3201134587044, 22.001660313902484, 122.68678033026724, 23.24763542235525, 258.344404845568, 35.51167889483958, 25.08265845244764, 715.8815005196221, 104.81329577159444, 29.532022165275485, 75.7940074193163, 315.0002840688643, 282.96662015211626, 273.49224486019426, 489.04050120289895, 522.8883778944661, 891.4686237766184, 117.70632266401131, 157.94047572143927, 2928.627009669479, 1279.6411861606007, 1054.8785949000828, 270.42305121913853, 491.0289605306252, 651.2351416054225, 295.9895724690143, 519.7011745994859, 756.3131864614854, 976.3562463915958, 213.78711602082535, 1636.632305116322, 4184.400170376899, 1676.9504193717164, 2057.9170346372916, 944.561432874682, 8431.912881636865, 328.88620026708367, 977.606715219789, 2645.7162460271047, 5581.051767440991, 4087.165462294284, 5692.859019767739, 3709.817230512756, 2851.7010140553007, 3217.8054554265696, 4377.70784655695, 4382.257826474415, 9947.20272281867, 49.360225092122455, 33.57831992251178, 40.598048174373, 49.440564268061124, 134.7639827989422, 46.378321936985806, 44.75384036247128, 196.06658635534447, 36.31470936718957, 39.75999602992401, 30.936015222879377, 43.85109609377043, 102.3062232716249, 17.826667729603418, 119.12064895089173, 128.37022855864797, 32.24538689329934, 605.8221442899097, 249.30105061127546, 14.341494254782491, 451.5557421303156, 32.66341431406069, 46.048946225901204, 149.41299086237143, 66.53576188708821, 19.584635798315844, 33.52371880901081, 61.74702173784331, 71.5178606064973, 22.18919476339161, 64.26814196095424, 141.9094597525005, 178.3627141651085, 380.3661011681203, 1128.9104124182707, 439.8903562166213, 120.66855074686964, 80.09824743584464, 210.73403833646336, 503.73581570896715, 714.1997110572138, 87.3837229340835, 574.699765880501, 240.912185078276, 247.15068182425196, 111.18904244581854, 649.4244157098482, 2152.7931092916647, 643.730851927167, 9947.20272281867, 407.40934196536904, 1413.4558297082176, 5860.149347801388, 477.724982036145, 3022.261683061132, 8431.912881636865, 4087.165462294284, 6539.944983984419, 5692.859019767739, 4377.70784655695, 6044.089421406336, 997.175573849976, 3709.817230512756, 2568.969171404847, 2943.948237682827, 5052.783917979479, 2995.2973799448564, 4084.0898337867443, 4382.257826474415, 3217.8054554265696, 4441.942410585167], \"Category\": [\"Default\", \"Default\", \"Default\", \"Default\", \"Default\", \"Default\", \"Default\", \"Default\", \"Default\", \"Default\", \"Default\", \"Default\", \"Default\", \"Default\", \"Default\", \"Default\", \"Default\", \"Default\", \"Default\", \"Default\", \"Default\", \"Default\", \"Default\", \"Default\", \"Default\", \"Default\", \"Default\", \"Default\", \"Default\", \"Default\", \"Topic1\", \"Topic1\", \"Topic1\", \"Topic1\", \"Topic1\", \"Topic1\", \"Topic1\", \"Topic1\", \"Topic1\", \"Topic1\", \"Topic1\", \"Topic1\", \"Topic1\", \"Topic1\", \"Topic1\", \"Topic1\", \"Topic1\", \"Topic1\", \"Topic1\", \"Topic1\", \"Topic1\", \"Topic1\", \"Topic1\", \"Topic1\", \"Topic1\", \"Topic1\", \"Topic1\", \"Topic1\", \"Topic1\", \"Topic1\", \"Topic1\", \"Topic1\", \"Topic1\", \"Topic1\", \"Topic1\", \"Topic1\", \"Topic1\", \"Topic1\", \"Topic1\", \"Topic1\", \"Topic1\", \"Topic1\", \"Topic1\", \"Topic1\", \"Topic1\", \"Topic1\", \"Topic1\", \"Topic1\", \"Topic1\", \"Topic1\", \"Topic1\", \"Topic1\", \"Topic1\", \"Topic1\", \"Topic1\", \"Topic1\", \"Topic1\", \"Topic1\", \"Topic1\", \"Topic1\", \"Topic1\", \"Topic1\", \"Topic1\", \"Topic1\", \"Topic1\", \"Topic1\", \"Topic1\", \"Topic1\", \"Topic1\", \"Topic1\", \"Topic1\", \"Topic1\", \"Topic1\", \"Topic1\", \"Topic1\", \"Topic1\", \"Topic1\", \"Topic1\", \"Topic1\", \"Topic1\", \"Topic1\", \"Topic1\", \"Topic1\", \"Topic1\", \"Topic1\", \"Topic1\", \"Topic1\", \"Topic1\", \"Topic2\", \"Topic2\", \"Topic2\", \"Topic2\", \"Topic2\", \"Topic2\", \"Topic2\", \"Topic2\", \"Topic2\", \"Topic2\", \"Topic2\", \"Topic2\", \"Topic2\", \"Topic2\", \"Topic2\", \"Topic2\", \"Topic2\", \"Topic2\", \"Topic2\", \"Topic2\", \"Topic2\", \"Topic2\", \"Topic2\", \"Topic2\", \"Topic2\", \"Topic2\", \"Topic2\", \"Topic2\", \"Topic2\", \"Topic2\", \"Topic2\", \"Topic2\", \"Topic2\", \"Topic2\", \"Topic2\", \"Topic2\", \"Topic2\", \"Topic2\", \"Topic2\", \"Topic2\", \"Topic2\", \"Topic2\", \"Topic2\", \"Topic2\", \"Topic2\", \"Topic2\", \"Topic2\", \"Topic2\", \"Topic2\", \"Topic2\", \"Topic2\", \"Topic2\", \"Topic2\", \"Topic2\", \"Topic2\", \"Topic2\", \"Topic2\", \"Topic2\", \"Topic2\", \"Topic2\", \"Topic2\", \"Topic2\", \"Topic2\", \"Topic2\", \"Topic2\", \"Topic2\", \"Topic2\", \"Topic2\", \"Topic2\", \"Topic2\", \"Topic2\", \"Topic2\", \"Topic2\", \"Topic2\", \"Topic2\", \"Topic2\", \"Topic2\", \"Topic2\", \"Topic2\", \"Topic2\", \"Topic2\", \"Topic2\", \"Topic2\", \"Topic2\", \"Topic2\", \"Topic2\", \"Topic2\", \"Topic2\", \"Topic2\", \"Topic2\", \"Topic2\", \"Topic2\", \"Topic2\", \"Topic2\", \"Topic2\", \"Topic2\", \"Topic2\", \"Topic3\", \"Topic3\", \"Topic3\", \"Topic3\", \"Topic3\", \"Topic3\", \"Topic3\", \"Topic3\", \"Topic3\", \"Topic3\", \"Topic3\", \"Topic3\", \"Topic3\", \"Topic3\", \"Topic3\", \"Topic3\", \"Topic3\", \"Topic3\", \"Topic3\", \"Topic3\", \"Topic3\", \"Topic3\", \"Topic3\", \"Topic3\", \"Topic3\", \"Topic3\", \"Topic3\", \"Topic3\", \"Topic3\", \"Topic3\", \"Topic3\", \"Topic3\", \"Topic3\", \"Topic3\", \"Topic3\", \"Topic3\", \"Topic3\", \"Topic3\", \"Topic3\", \"Topic3\", \"Topic3\", \"Topic3\", \"Topic3\", \"Topic3\", \"Topic3\", \"Topic3\", \"Topic3\", \"Topic3\", \"Topic3\", \"Topic3\", \"Topic3\", \"Topic3\", \"Topic3\", \"Topic3\", \"Topic3\", \"Topic3\", \"Topic3\", \"Topic3\", \"Topic3\", \"Topic3\", \"Topic3\", \"Topic3\", \"Topic3\", \"Topic3\", \"Topic3\", \"Topic3\", \"Topic3\", \"Topic3\", \"Topic3\", \"Topic3\", \"Topic3\", \"Topic3\", \"Topic3\", \"Topic3\", \"Topic3\", \"Topic3\", \"Topic3\", \"Topic3\", \"Topic3\", \"Topic4\", \"Topic4\", \"Topic4\", \"Topic4\", \"Topic4\", \"Topic4\", \"Topic4\", \"Topic4\", \"Topic4\", \"Topic4\", \"Topic4\", \"Topic4\", \"Topic4\", \"Topic4\", \"Topic4\", \"Topic4\", \"Topic4\", \"Topic4\", \"Topic4\", \"Topic4\", \"Topic4\", \"Topic4\", \"Topic4\", \"Topic4\", \"Topic4\", \"Topic4\", \"Topic4\", \"Topic4\", \"Topic4\", \"Topic4\", \"Topic4\", \"Topic4\", \"Topic4\", \"Topic4\", \"Topic4\", \"Topic4\", \"Topic4\", \"Topic4\", \"Topic4\", \"Topic4\", \"Topic4\", \"Topic4\", \"Topic4\", \"Topic4\", \"Topic4\", \"Topic4\", \"Topic4\", \"Topic4\", \"Topic4\", \"Topic4\", \"Topic4\", \"Topic4\", \"Topic4\", \"Topic4\", \"Topic4\", \"Topic4\", \"Topic4\", \"Topic4\", \"Topic4\", \"Topic4\", \"Topic4\", \"Topic4\", \"Topic4\", \"Topic4\", \"Topic4\", \"Topic4\", \"Topic4\", \"Topic4\", \"Topic4\", \"Topic4\", \"Topic4\", \"Topic4\", \"Topic4\", \"Topic4\", \"Topic4\", \"Topic4\", \"Topic4\", \"Topic4\", \"Topic4\", \"Topic4\", \"Topic4\", \"Topic4\", \"Topic4\", \"Topic4\", \"Topic4\", \"Topic4\", \"Topic4\", \"Topic4\", \"Topic4\", \"Topic5\", \"Topic5\", \"Topic5\", \"Topic5\", \"Topic5\", \"Topic5\", \"Topic5\", \"Topic5\", \"Topic5\", \"Topic5\", \"Topic5\", \"Topic5\", \"Topic5\", \"Topic5\", \"Topic5\", \"Topic5\", \"Topic5\", \"Topic5\", \"Topic5\", \"Topic5\", \"Topic5\", \"Topic5\", \"Topic5\", \"Topic5\", \"Topic5\", \"Topic5\", \"Topic5\", \"Topic5\", \"Topic5\", \"Topic5\", \"Topic5\", \"Topic5\", \"Topic5\", \"Topic5\", \"Topic5\", \"Topic5\", \"Topic5\", \"Topic5\", \"Topic5\", \"Topic5\", \"Topic5\", \"Topic5\", \"Topic5\", \"Topic5\", \"Topic5\", \"Topic5\", \"Topic5\", \"Topic5\", \"Topic5\", \"Topic5\", \"Topic5\", \"Topic5\", \"Topic5\", \"Topic5\", \"Topic5\", \"Topic5\", \"Topic5\", \"Topic5\", \"Topic5\", \"Topic5\", \"Topic5\", \"Topic5\", \"Topic5\", \"Topic5\", \"Topic5\", \"Topic5\", \"Topic5\", \"Topic5\", \"Topic5\", \"Topic5\", \"Topic5\", \"Topic5\", \"Topic5\", \"Topic5\", \"Topic5\", \"Topic5\", \"Topic5\", \"Topic5\", \"Topic5\", \"Topic5\", \"Topic5\", \"Topic6\", \"Topic6\", \"Topic6\", \"Topic6\", \"Topic6\", \"Topic6\", \"Topic6\", \"Topic6\", \"Topic6\", \"Topic6\", \"Topic6\", \"Topic6\", \"Topic6\", \"Topic6\", \"Topic6\", \"Topic6\", \"Topic6\", \"Topic6\", \"Topic6\", \"Topic6\", \"Topic6\", \"Topic6\", \"Topic6\", \"Topic6\", \"Topic6\", \"Topic6\", \"Topic6\", \"Topic6\", \"Topic6\", \"Topic6\", \"Topic6\", \"Topic6\", \"Topic6\", \"Topic6\", \"Topic6\", \"Topic6\", \"Topic6\", \"Topic6\", \"Topic6\", \"Topic6\", \"Topic6\", \"Topic6\", \"Topic6\", \"Topic6\", \"Topic6\", \"Topic6\", \"Topic6\", \"Topic6\", \"Topic6\", \"Topic6\", \"Topic6\", \"Topic6\", \"Topic6\", \"Topic6\", \"Topic6\", \"Topic6\", \"Topic6\", \"Topic6\", \"Topic6\", \"Topic6\", \"Topic6\", \"Topic6\", \"Topic6\", \"Topic6\", \"Topic6\", \"Topic6\", \"Topic6\", \"Topic6\", \"Topic6\", \"Topic6\", \"Topic6\", \"Topic6\", \"Topic6\", \"Topic6\", \"Topic6\", \"Topic6\", \"Topic6\", \"Topic6\", \"Topic6\", \"Topic6\", \"Topic6\", \"Topic6\", \"Topic6\", \"Topic6\", \"Topic6\", \"Topic6\", \"Topic6\", \"Topic7\", \"Topic7\", \"Topic7\", \"Topic7\", \"Topic7\", \"Topic7\", \"Topic7\", \"Topic7\", \"Topic7\", \"Topic7\", \"Topic7\", \"Topic7\", \"Topic7\", \"Topic7\", \"Topic7\", \"Topic7\", \"Topic7\", \"Topic7\", \"Topic7\", \"Topic7\", \"Topic7\", \"Topic7\", \"Topic7\", \"Topic7\", \"Topic7\", \"Topic7\", \"Topic7\", \"Topic7\", \"Topic7\", \"Topic7\", \"Topic7\", \"Topic7\", \"Topic7\", \"Topic7\", \"Topic7\", \"Topic7\", \"Topic7\", \"Topic7\", \"Topic7\", \"Topic7\", \"Topic7\", \"Topic7\", \"Topic7\", \"Topic7\", \"Topic7\", \"Topic7\", \"Topic7\", \"Topic7\", \"Topic7\", \"Topic7\", \"Topic7\", \"Topic7\", \"Topic7\", \"Topic7\", \"Topic7\", \"Topic7\", \"Topic7\", \"Topic7\", \"Topic7\", \"Topic7\", \"Topic7\", \"Topic7\", \"Topic7\", \"Topic7\", \"Topic7\", \"Topic7\", \"Topic7\", \"Topic7\", \"Topic7\", \"Topic7\", \"Topic7\", \"Topic7\", \"Topic7\", \"Topic7\", \"Topic7\", \"Topic7\", \"Topic7\", \"Topic7\", \"Topic8\", \"Topic8\", \"Topic8\", \"Topic8\", \"Topic8\", \"Topic8\", \"Topic8\", \"Topic8\", \"Topic8\", \"Topic8\", \"Topic8\", \"Topic8\", \"Topic8\", \"Topic8\", \"Topic8\", \"Topic8\", \"Topic8\", \"Topic8\", \"Topic8\", \"Topic8\", \"Topic8\", \"Topic8\", \"Topic8\", \"Topic8\", \"Topic8\", \"Topic8\", \"Topic8\", \"Topic8\", \"Topic8\", \"Topic8\", \"Topic8\", \"Topic8\", \"Topic8\", \"Topic8\", \"Topic8\", \"Topic8\", \"Topic8\", \"Topic8\", \"Topic8\", \"Topic8\", \"Topic8\", \"Topic8\", \"Topic8\", \"Topic8\", \"Topic8\", \"Topic8\", \"Topic8\", \"Topic8\", \"Topic8\", \"Topic8\", \"Topic8\", \"Topic8\", \"Topic8\", \"Topic8\", \"Topic8\", \"Topic8\", \"Topic8\", \"Topic8\", \"Topic8\", \"Topic8\", \"Topic8\", \"Topic8\", \"Topic8\", \"Topic8\", \"Topic8\", \"Topic8\", \"Topic8\", \"Topic8\", \"Topic8\", \"Topic8\", \"Topic8\", \"Topic8\", \"Topic8\", \"Topic8\", \"Topic8\", \"Topic8\", \"Topic8\", \"Topic8\", \"Topic8\", \"Topic8\", \"Topic8\", \"Topic8\", \"Topic8\", \"Topic8\", \"Topic8\", \"Topic8\", \"Topic8\", \"Topic8\", \"Topic9\", \"Topic9\", \"Topic9\", \"Topic9\", \"Topic9\", \"Topic9\", \"Topic9\", \"Topic9\", \"Topic9\", \"Topic9\", \"Topic9\", \"Topic9\", \"Topic9\", \"Topic9\", \"Topic9\", \"Topic9\", \"Topic9\", \"Topic9\", \"Topic9\", \"Topic9\", \"Topic9\", \"Topic9\", \"Topic9\", \"Topic9\", \"Topic9\", \"Topic9\", \"Topic9\", \"Topic9\", \"Topic9\", \"Topic9\", \"Topic9\", \"Topic9\", \"Topic9\", \"Topic9\", \"Topic9\", \"Topic9\", \"Topic9\", \"Topic9\", \"Topic9\", \"Topic9\", \"Topic9\", \"Topic9\", \"Topic9\", \"Topic9\", \"Topic9\", \"Topic9\", \"Topic9\", \"Topic9\", \"Topic9\", \"Topic9\", \"Topic9\", \"Topic9\", \"Topic9\", \"Topic9\", \"Topic9\", \"Topic9\", \"Topic9\", \"Topic9\", \"Topic9\", \"Topic9\", \"Topic9\", \"Topic9\", \"Topic9\", \"Topic9\", \"Topic9\", \"Topic9\", \"Topic9\", \"Topic10\", \"Topic10\", \"Topic10\", \"Topic10\", \"Topic10\", \"Topic10\", \"Topic10\", \"Topic10\", \"Topic10\", \"Topic10\", \"Topic10\", \"Topic10\", \"Topic10\", \"Topic10\", \"Topic10\", \"Topic10\", \"Topic10\", \"Topic10\", \"Topic10\", \"Topic10\", \"Topic10\", \"Topic10\", \"Topic10\", \"Topic10\", \"Topic10\", \"Topic10\", \"Topic10\", \"Topic10\", \"Topic10\", \"Topic10\", \"Topic10\", \"Topic10\", \"Topic10\", \"Topic10\", \"Topic10\", \"Topic10\", \"Topic10\", \"Topic10\", \"Topic10\", \"Topic10\", \"Topic10\", \"Topic10\", \"Topic10\", \"Topic10\", \"Topic10\", \"Topic10\", \"Topic10\", \"Topic10\", \"Topic10\", \"Topic10\", \"Topic10\", \"Topic10\", \"Topic10\", \"Topic10\", \"Topic10\", \"Topic10\", \"Topic10\", \"Topic10\", \"Topic10\", \"Topic10\", \"Topic10\", \"Topic10\", \"Topic10\", \"Topic10\", \"Topic10\", \"Topic10\", \"Topic10\", \"Topic10\", \"Topic10\", \"Topic10\", \"Topic10\"], \"logprob\": [30.0, 29.0, 28.0, 27.0, 26.0, 25.0, 24.0, 23.0, 22.0, 21.0, 20.0, 19.0, 18.0, 17.0, 16.0, 15.0, 14.0, 13.0, 12.0, 11.0, 10.0, 9.0, 8.0, 7.0, 6.0, 5.0, 4.0, 3.0, 2.0, 1.0, -7.0467, -6.6092, -7.5199, -8.0149, -7.8573, -7.535, -8.3652, -8.1393, -7.4998, -7.5205, -8.3969, -8.55, -8.4863, -8.3124, -6.7554, -7.0021, -6.7297, -7.7198, -8.752, -8.6911, -7.812, -8.3206, -8.0814, -8.4226, -8.0645, -8.7008, -8.7983, -8.8713, -8.8808, -6.3967, -7.2041, -7.7339, -7.3678, -8.3215, -5.2662, -6.7331, -7.4709, -6.604, -6.727, -6.6576, -6.5769, -7.2172, -7.3862, -5.4044, -6.0422, -5.1848, -6.5322, -6.5533, -6.7195, -4.8423, -6.2184, -6.3233, -6.5879, -7.1467, -6.2279, -6.2615, -6.5713, -5.5362, -4.9958, -6.4117, -6.0702, -5.3649, -4.9065, -5.3654, -5.1174, -5.9654, -5.7092, -6.2323, -5.5151, -5.784, -5.8738, -5.5634, -5.6926, -6.0939, -6.0408, -6.0497, -6.2642, -5.8534, -5.5672, -5.7418, -5.9114, -6.0816, -5.896, -5.9555, -6.0823, -6.047, -6.0763, -6.0766, -6.9325, -8.0901, -8.1356, -8.4918, -8.3022, -8.4993, -9.0102, -8.5532, -8.2568, -9.1698, -8.8867, -9.4809, -8.6092, -8.9629, -9.5821, -9.2356, -9.4457, -8.825, -9.4582, -9.1924, -8.2414, -9.206, -9.3979, -9.3801, -9.7375, -9.139, -9.3272, -9.5826, -8.3014, -9.4108, -7.901, -8.4178, -7.9437, -8.4305, -7.9069, -7.3944, -8.7319, -8.8759, -7.0381, -8.5501, -6.7894, -8.2328, -8.5429, -6.766, -7.6368, -8.4079, -6.9839, -6.3677, -7.4177, -6.8595, -7.8233, -7.0488, -6.9327, -7.3704, -6.187, -5.7799, -6.6116, -7.1679, -7.4917, -6.1205, -7.5159, -7.6048, -7.0445, -5.8117, -6.0451, -5.4395, -5.5662, -5.82, -5.1682, -5.2122, -5.6838, -6.6431, -5.8982, -4.7279, -6.135, -5.5275, -5.557, -6.1851, -5.0968, -5.1773, -5.7152, -6.0643, -5.618, -6.0264, -5.6861, -6.0109, -5.6833, -5.5374, -6.0435, -6.2382, -5.7476, -5.5288, -5.8507, -5.83, -5.7842, -5.9096, -6.0484, -6.0814, -7.4272, -7.9881, -7.142, -7.6155, -7.7275, -7.3616, -5.8601, -8.1516, -8.1696, -8.0167, -8.0921, -7.566, -6.979, -5.9501, -8.2423, -7.1348, -8.1494, -8.2961, -7.5869, -6.4811, -8.6092, -6.7469, -8.7564, -8.842, -8.9045, -8.5908, -8.6764, -8.4091, -5.9176, -7.2577, -7.0724, -7.4139, -8.0672, -6.4976, -8.3103, -5.5154, -5.4299, -7.4239, -7.5548, -5.7343, -5.6779, -5.1431, -7.0133, -6.8626, -5.441, -6.9298, -6.3346, -5.3171, -5.5806, -5.8274, -6.1241, -5.8828, -6.6064, -4.6296, -6.5478, -5.3682, -6.2466, -5.5362, -5.4325, -6.329, -5.0561, -5.4449, -6.0441, -5.7669, -5.583, -5.8872, -5.5272, -5.657, -5.7434, -5.765, -5.662, -5.5912, -5.662, -5.7753, -5.7265, -5.8304, -5.8549, -5.8262, -7.7097, -8.5783, -8.0858, -8.9457, -8.6136, -8.5675, -8.5074, -8.9943, -9.1117, -8.7283, -9.0452, -8.8558, -9.3726, -8.939, -9.0042, -9.2197, -9.0876, -8.3746, -9.0304, -8.6236, -9.2845, -8.5861, -7.6496, -9.052, -8.8058, -7.8251, -7.294, -8.9793, -7.6698, -8.633, -6.2358, -6.304, -7.3094, -6.311, -4.9411, -6.2914, -6.9726, -8.2401, -5.8719, -5.9778, -6.2414, -7.1215, -8.0165, -6.2807, -4.9518, -6.6256, -6.7951, -6.8096, -6.2776, -7.0776, -7.2046, -7.1825, -5.1531, -7.1214, -4.8827, -6.9656, -4.6006, -6.1175, -6.55, -6.4777, -6.0202, -5.0928, -6.7696, -6.169, -5.6375, -6.5259, -5.7829, -6.4565, -5.8373, -4.6138, -4.7542, -5.7488, -5.3692, -5.2388, -5.918, -5.5082, -5.3391, -5.8242, -5.1507, -5.4537, -5.6801, -5.7798, -5.6368, -5.8802, -5.785, -5.7205, -5.8991, -5.8672, -5.9669, -7.5648, -8.2142, -8.5964, -8.6407, -7.8743, -7.8125, -8.8208, -6.9609, -8.4904, -6.7278, -8.7641, -6.6776, -7.6982, -9.2561, -6.8333, -8.7922, -8.769, -8.2087, -7.972, -8.4641, -8.8274, -8.6741, -9.048, -8.089, -7.2688, -7.6491, -7.862, -8.261, -7.9834, -7.0576, -7.6076, -7.4389, -6.8375, -7.4415, -7.6278, -6.7268, -3.8866, -6.2844, -6.9142, -7.4975, -6.824, -4.5892, -5.5129, -6.6752, -7.4629, -5.0842, -5.4303, -6.533, -6.139, -5.7525, -4.372, -6.4096, -6.2438, -6.2148, -6.4201, -5.1911, -4.9271, -4.7, -6.9171, -5.4233, -5.1275, -5.1794, -5.6551, -5.6646, -5.3744, -5.9328, -5.5733, -5.4068, -5.5775, -5.993, -5.4522, -5.8356, -5.8773, -6.1759, -5.8589, -6.0093, -5.9484, -5.9313, -5.9869, -6.0348, -6.0243, -6.5405, -6.4972, -7.3096, -6.8705, -7.4973, -6.7399, -7.9743, -7.8012, -8.0012, -8.105, -8.1058, -8.1536, -8.2319, -7.9305, -7.7642, -8.2107, -8.1485, -8.2335, -8.0914, -8.2113, -8.2352, -8.2548, -8.2849, -8.1522, -8.3799, -8.4335, -8.4353, -7.6256, -8.4905, -8.5803, -7.9878, -7.4598, -5.5828, -7.3698, -6.8501, -7.5331, -7.7432, -7.5353, -7.0184, -7.5719, -6.8827, -7.2994, -7.6493, -5.9329, -5.9241, -6.5406, -6.6738, -6.4401, -6.6275, -6.1168, -6.4662, -4.9124, -6.5435, -7.088, -5.2784, -6.5195, -5.7985, -5.8779, -4.8929, -6.7839, -5.651, -6.4061, -6.8561, -5.6671, -5.7884, -4.7559, -6.1042, -5.7782, -6.1451, -5.8634, -5.5149, -5.7347, -6.0041, -5.4693, -5.8446, -5.3897, -5.6131, -5.5528, -5.4259, -5.6636, -5.8008, -5.7306, -5.6232, -5.808, -5.8884, -5.9477, -5.9005, -6.7107, -7.9608, -8.1767, -6.2551, -6.5105, -5.9729, -7.7758, -7.0296, -6.7617, -8.1136, -8.9793, -7.1516, -8.7492, -7.2692, -7.5645, -8.4498, -8.423, -6.9122, -7.9637, -8.501, -8.3067, -8.1642, -7.3382, -8.0465, -6.6324, -9.0597, -6.8912, -6.7168, -8.4157, -7.2515, -5.9471, -6.5091, -5.8635, -3.4393, -6.7672, -6.9224, -7.2082, -6.1704, -6.4472, -6.4877, -6.4143, -6.4618, -4.1054, -6.0204, -5.618, -6.6746, -6.5317, -6.8103, -5.2078, -5.0763, -4.9439, -4.29, -5.0519, -5.5594, -5.6545, -5.2884, -4.958, -5.0785, -5.5728, -5.2302, -5.258, -5.4145, -5.2001, -6.1869, -5.9167, -5.6573, -5.4776, -5.6507, -5.6827, -5.6475, -5.4968, -5.7833, -5.6728, -5.7474, -5.8233, -5.8594, -5.8053, -5.8518, -7.204, -6.6739, -7.0155, -7.4853, -7.6157, -7.4435, -7.1888, -7.7722, -7.5501, -7.7988, -7.7685, -6.9572, -7.7104, -8.1168, -7.9138, -8.0419, -8.0146, -8.1376, -7.7153, -8.2583, -7.8803, -7.8542, -7.8986, -6.4978, -7.4865, -7.3775, -7.7685, -8.3957, -8.3814, -7.8703, -6.7225, -7.1036, -7.0008, -7.277, -6.7524, -7.0834, -6.6622, -5.2152, -6.7031, -7.2664, -6.7698, -7.175, -6.1551, -7.1344, -6.6193, -6.9378, -7.0048, -6.3339, -6.518, -5.5212, -6.2535, -5.5795, -6.056, -6.0399, -5.7218, -6.1455, -6.7093, -6.3015, -5.5707, -5.9361, -5.8262, -5.4528, -5.8478, -5.7702, -5.4905, -5.593, -5.973, -6.1886, -5.6594, -5.2626, -6.0017, -5.1993, -5.1567, -5.6188, -6.2368, -5.5254, -5.1973, -5.5005, -5.44, -5.6227, -5.9212, -5.4084, -5.8622, -5.654, -5.7113, -5.8412, -5.9679, -5.9683, -5.5231, -6.3729, -7.5857, -8.0912, -6.8257, -7.7536, -7.8934, -6.0015, -6.5061, -8.307, -7.1767, -6.4108, -5.8262, -6.7899, -7.5933, -7.5451, -5.4898, -6.362, -7.4596, -6.2783, -8.2689, -6.5662, -8.2463, -5.8385, -7.8316, -8.1854, -4.8386, -6.7784, -8.0466, -7.1134, -5.6992, -5.8356, -5.8778, -5.3806, -5.3283, -4.9131, -6.7258, -6.4834, -4.036, -4.7537, -4.9527, -6.0813, -5.6058, -5.3904, -6.0371, -5.6299, -5.3728, -5.2938, -6.2928, -5.132, -4.5992, -5.2346, -5.1874, -5.6482, -4.8835, -6.0822, -5.7457, -5.4574, -5.309, -5.4202, -5.418, -5.4972, -5.6059, -5.6051, -5.6758, -5.6823, -5.6594, -7.196, -7.5903, -7.4096, -7.2386, -6.2459, -7.3157, -7.373, -5.9098, -7.6223, -7.5365, -7.7914, -7.4428, -6.6054, -8.3554, -6.4603, -6.3929, -7.7821, -4.8583, -5.7476, -8.6317, -5.1934, -7.8314, -7.5159, -6.3416, -7.1544, -8.3853, -7.8588, -7.255, -7.1143, -8.2853, -7.2483, -6.4827, -6.2647, -5.5848, -4.6742, -5.5487, -6.6966, -7.0586, -6.2656, -5.6065, -5.4196, -6.995, -5.6656, -6.2932, -6.3083, -6.8431, -5.8149, -5.1377, -5.855, -4.371, -6.1413, -5.5313, -4.8554, -6.1328, -5.2617, -4.8723, -5.2251, -5.0329, -5.1222, -5.262, -5.1811, -5.82, -5.4454, -5.5769, -5.5412, -5.4382, -5.6002, -5.583, -5.6166, -5.6708, -5.7309], \"loglift\": [30.0, 29.0, 28.0, 27.0, 26.0, 25.0, 24.0, 23.0, 22.0, 21.0, 20.0, 19.0, 18.0, 17.0, 16.0, 15.0, 14.0, 13.0, 12.0, 11.0, 10.0, 9.0, 8.0, 7.0, 6.0, 5.0, 4.0, 3.0, 2.0, 1.0, 1.7108, 1.7105, 1.7064, 1.7059, 1.7057, 1.7055, 1.7052, 1.7051, 1.7049, 1.7038, 1.7036, 1.7031, 1.7024, 1.7019, 1.7014, 1.7013, 1.701, 1.6998, 1.6996, 1.6992, 1.6979, 1.6963, 1.6963, 1.6959, 1.6955, 1.6951, 1.6944, 1.6935, 1.6935, 1.6924, 1.6883, 1.6909, 1.6826, 1.6922, 1.6531, 1.6693, 1.6823, 1.658, 1.6568, 1.6532, 1.6416, 1.6627, 1.6658, 1.5758, 1.6051, 1.5596, 1.5727, 1.569, 1.5813, 1.3522, 1.4939, 1.5007, 1.5243, 1.6175, 1.4198, 1.4151, 1.4848, 1.2141, 1.0138, 1.3969, 1.2774, 0.9265, 0.2259, 0.4911, 0.1955, 0.8228, 0.3865, 1.0019, 0.0101, 0.3785, 0.4324, -0.0981, 0.1011, 0.7261, 0.6187, 0.5788, 1.009, 0.0915, -0.6001, -0.3553, 0.1044, 0.5141, -0.351, -0.1676, 0.4129, -0.2737, 0.2735, 0.0486, 1.7916, 1.7787, 1.7766, 1.7722, 1.7616, 1.7616, 1.7604, 1.7544, 1.7492, 1.7483, 1.7447, 1.741, 1.74, 1.74, 1.7396, 1.7386, 1.7383, 1.7381, 1.7356, 1.7338, 1.7328, 1.7322, 1.731, 1.7295, 1.7293, 1.7288, 1.7262, 1.7256, 1.7244, 1.7225, 1.721, 1.718, 1.7084, 1.7121, 1.6906, 1.6714, 1.7091, 1.7145, 1.6261, 1.6995, 1.6068, 1.6771, 1.6937, 1.5784, 1.6339, 1.6843, 1.5717, 1.5115, 1.5918, 1.5365, 1.6304, 1.5353, 1.5068, 1.5517, 1.3435, 1.2406, 1.3667, 1.458, 1.5264, 1.1757, 1.5184, 1.525, 1.3553, 0.9598, 1.0237, 0.8013, 0.7975, 0.8805, 0.6052, 0.5816, 0.7296, 1.1459, 0.8004, 0.2392, 0.8996, 0.5976, 0.5662, 0.9026, 0.2896, 0.1356, 0.4631, 0.7247, 0.3269, 0.6669, 0.3297, 0.6385, 0.2823, -0.0721, 0.6081, 0.8257, 0.0855, -0.3964, 0.2312, -0.0432, -0.259, 0.0999, 0.1157, 2.0682, 2.064, 2.0618, 2.0609, 2.0603, 2.0601, 2.0595, 2.0595, 2.0582, 2.0571, 2.0553, 2.0552, 2.0542, 2.0519, 2.0518, 2.0496, 2.0475, 2.0474, 2.0455, 2.0433, 2.043, 2.0426, 2.0422, 2.042, 2.0418, 2.0412, 2.0411, 2.0399, 2.0394, 2.0391, 2.0369, 2.0347, 2.0339, 2.0382, 2.0214, 2.0386, 2.0025, 1.9924, 2.0268, 2.026, 1.9639, 1.9482, 1.8466, 1.9826, 1.967, 1.86, 1.964, 1.8502, 1.6885, 1.6782, 1.6128, 1.6584, 1.5644, 1.7771, 0.8357, 1.6834, 0.8164, 1.3688, 0.7528, 0.6632, 1.3837, 0.0762, 0.343, 0.9914, 0.5582, 0.2743, 0.7209, 0.1173, 0.2879, 0.4191, 0.4248, 0.1946, -0.2047, -0.1368, 0.1903, -0.1814, 0.2743, 0.4366, -0.8591, 2.1176, 2.1029, 2.0985, 2.0879, 2.0871, 2.0868, 2.0859, 2.084, 2.084, 2.08, 2.0774, 2.0748, 2.0701, 2.0687, 2.0675, 2.0597, 2.0596, 2.0591, 2.0584, 2.0569, 2.0549, 2.0524, 2.0487, 2.0466, 2.0462, 2.0459, 2.0449, 2.0421, 2.0416, 2.0395, 2.0138, 2.005, 2.0154, 1.9934, 1.9129, 1.9289, 1.9531, 2.0183, 1.8764, 1.8786, 1.8914, 1.9425, 1.9999, 1.8298, 1.6737, 1.8538, 1.8667, 1.8672, 1.7999, 1.8855, 1.888, 1.8825, 1.5604, 1.8627, 1.4972, 1.8318, 1.3905, 1.6771, 1.7451, 1.674, 1.5365, 1.2378, 1.7509, 1.501, 1.2345, 1.5791, 1.1467, 1.534, 1.1373, 0.3533, 0.3782, 1.0131, 0.6648, 0.5481, 1.0959, 0.7083, 0.494, 0.9647, 0.1622, 0.0715, 0.4843, 0.6465, 0.2205, 0.4696, 0.0029, -0.334, 0.4071, 0.0862, -0.4219, 2.3734, 2.3645, 2.363, 2.3601, 2.3598, 2.3552, 2.3519, 2.347, 2.3441, 2.3312, 2.3263, 2.3263, 2.3191, 2.3157, 2.3057, 2.3052, 2.3003, 2.3003, 2.298, 2.2927, 2.2893, 2.2831, 2.2767, 2.2763, 2.2724, 2.2709, 2.2675, 2.2653, 2.2622, 2.2564, 2.2513, 2.216, 2.1646, 2.1926, 2.1889, 2.0835, 1.7579, 2.0238, 2.0988, 2.1464, 2.0281, 1.5692, 1.7498, 1.9684, 2.1196, 1.4134, 1.4881, 1.8229, 1.6511, 1.4865, 0.9409, 1.6824, 1.5746, 1.5218, 1.6047, 0.7623, 0.5692, 0.2671, 1.8195, 0.6106, 0.3378, 0.3656, 0.7493, 0.5201, 0.1508, 0.8555, 0.2841, -0.0204, 0.2103, 0.7436, -0.3199, 0.3809, 0.0883, 0.8855, -0.0855, 0.3212, 0.0427, -0.1444, 0.1776, 0.1325, -0.1677, 2.5321, 2.5302, 2.5261, 2.5251, 2.5238, 2.518, 2.5159, 2.5149, 2.5137, 2.5118, 2.5117, 2.5098, 2.5094, 2.5086, 2.5085, 2.5084, 2.5077, 2.5076, 2.5076, 2.5074, 2.5051, 2.5038, 2.5024, 2.5022, 2.5018, 2.501, 2.4997, 2.4993, 2.4988, 2.4975, 2.4948, 2.4894, 2.4642, 2.4811, 2.4626, 2.4813, 2.4868, 2.4713, 2.4347, 2.4696, 2.4114, 2.4412, 2.4594, 2.2724, 2.2509, 2.324, 2.2459, 2.1957, 2.2229, 2.0868, 2.1673, 1.7862, 2.1231, 2.2845, 1.6943, 2.0788, 1.7643, 1.7811, 1.3479, 2.1538, 1.5477, 1.9248, 2.1592, 1.4458, 1.4482, 0.6306, 1.5927, 1.2799, 1.5953, 1.1522, 0.6492, 0.9393, 1.3174, 0.3176, 0.8089, -0.0768, 0.3404, 0.2206, -0.4587, 0.1301, 0.3637, 0.0573, -0.4909, 0.0493, 0.2163, 0.4598, -0.3555, 2.5419, 2.53, 2.5007, 2.4974, 2.4912, 2.4825, 2.4666, 2.4652, 2.4637, 2.4613, 2.4498, 2.4303, 2.4169, 2.4107, 2.396, 2.3897, 2.3714, 2.3687, 2.366, 2.3536, 2.3502, 2.3212, 2.3022, 2.3002, 2.2997, 2.2991, 2.2974, 2.2973, 2.2926, 2.2885, 2.2673, 2.2574, 2.2353, 2.0569, 2.2435, 2.2368, 2.2576, 2.1222, 2.1462, 2.1508, 2.1289, 2.0909, 1.4396, 1.8936, 1.7443, 2.0867, 1.9899, 2.0938, 1.3913, 1.3281, 1.0657, 0.6771, 1.0299, 1.3499, 1.4095, 1.1191, 0.6865, 0.7781, 1.0789, 0.7147, 0.5751, 0.6013, 0.1127, 1.6405, 1.1552, 0.5326, 0.0476, 0.3832, 0.4425, 0.3181, -0.3644, 0.6175, 0.1005, 0.206, 0.3392, 0.6382, -0.4188, -0.0581, 2.5989, 2.5945, 2.5943, 2.5936, 2.5923, 2.5903, 2.5887, 2.5877, 2.5877, 2.5859, 2.5859, 2.5847, 2.5843, 2.5829, 2.5828, 2.5823, 2.5814, 2.5812, 2.5773, 2.5772, 2.5758, 2.5751, 2.574, 2.5735, 2.5732, 2.573, 2.572, 2.572, 2.5715, 2.5696, 2.5681, 2.567, 2.5655, 2.5674, 2.5562, 2.5622, 2.552, 2.5132, 2.5492, 2.5578, 2.5377, 2.5482, 2.4961, 2.5428, 2.503, 2.5188, 2.5173, 2.4482, 2.4605, 2.3274, 2.4084, 2.2997, 2.3576, 2.3499, 2.2826, 2.2735, 2.4159, 2.2297, 1.9349, 2.0726, 2.0008, 1.7459, 1.9333, 1.8889, 1.6612, 1.6436, 1.8781, 1.9358, 1.3986, 0.9782, 1.7411, 0.3259, 0.2298, 0.761, 1.8494, 0.5793, -0.065, 0.4906, 0.3469, 0.5418, 1.2863, -0.4413, 1.069, 0.1339, 0.2422, -0.3759, 0.353, -0.1353, 2.9456, 2.9236, 2.9091, 2.8962, 2.8931, 2.8849, 2.8796, 2.8769, 2.8768, 2.8752, 2.8716, 2.8689, 2.8602, 2.8585, 2.8582, 2.8567, 2.8514, 2.8464, 2.8363, 2.8293, 2.8121, 2.7963, 2.7797, 2.7794, 2.7707, 2.7646, 2.7601, 2.7416, 2.74, 2.7307, 2.7204, 2.6912, 2.6831, 2.5991, 2.5845, 2.4662, 2.6782, 2.6265, 2.1538, 2.2641, 2.2582, 2.4908, 2.3699, 2.3029, 2.4447, 2.289, 2.1709, 1.9946, 2.5143, 1.6398, 1.2338, 1.5128, 1.3554, 1.6733, 0.2489, 2.2942, 1.5413, 0.8341, 0.236, 0.4364, 0.1072, 0.4562, 0.6105, 0.4906, 0.1121, 0.1045, -0.6923, 3.077, 3.068, 3.0588, 3.0328, 3.0228, 3.0196, 2.998, 2.9839, 2.9577, 2.9528, 2.9488, 2.9486, 2.9388, 2.9361, 2.9318, 2.9243, 2.9167, 2.9072, 2.9059, 2.8773, 2.8661, 2.8545, 2.8266, 2.8238, 2.82, 2.8122, 2.8011, 2.7941, 2.7879, 2.7873, 2.7608, 2.7343, 2.7237, 2.6463, 2.469, 2.5369, 2.6826, 2.7304, 2.556, 2.3436, 2.1814, 2.7068, 2.1528, 2.3945, 2.3539, 2.6179, 1.8812, 1.3599, 1.8499, 0.5962, 2.021, 1.3871, 0.6409, 1.8703, 0.8967, 0.2601, 0.6315, 0.3535, 0.403, 0.5259, 0.2842, 1.4472, 0.5081, 0.744, 0.6435, 0.2063, 0.5671, 0.2743, 0.1703, 0.4249, 0.0424]}, \"token.table\": {\"Topic\": [1, 2, 3, 4, 5, 7, 8, 9, 10, 1, 2, 3, 5, 7, 10, 3, 5, 7, 8, 2, 6, 2, 1, 2, 3, 4, 5, 6, 7, 8, 9, 10, 7, 10, 5, 10, 1, 2, 3, 4, 5, 6, 7, 8, 9, 10, 1, 2, 4, 6, 8, 1, 3, 6, 7, 8, 10, 1, 2, 3, 4, 5, 6, 7, 8, 9, 10, 2, 4, 5, 6, 8, 1, 2, 3, 4, 5, 6, 7, 8, 9, 10, 6, 7, 8, 7, 2, 3, 5, 6, 8, 9, 10, 1, 3, 5, 7, 9, 10, 2, 3, 5, 6, 1, 2, 3, 4, 5, 6, 7, 8, 9, 10, 1, 2, 4, 5, 8, 9, 10, 1, 2, 3, 4, 5, 6, 7, 8, 9, 10, 1, 2, 3, 5, 6, 7, 9, 10, 1, 2, 3, 4, 5, 6, 7, 8, 9, 10, 1, 2, 3, 4, 5, 6, 7, 8, 9, 10, 1, 2, 3, 4, 5, 6, 7, 8, 10, 2, 3, 5, 6, 7, 1, 2, 3, 4, 5, 6, 7, 8, 9, 10, 1, 2, 3, 5, 7, 8, 10, 2, 3, 7, 10, 1, 2, 3, 4, 7, 9, 1, 2, 3, 4, 5, 6, 7, 9, 10, 1, 2, 3, 4, 5, 7, 1, 2, 3, 4, 6, 8, 9, 1, 2, 3, 4, 7, 9, 2, 6, 8, 1, 2, 6, 8, 1, 2, 3, 4, 5, 6, 7, 8, 9, 10, 1, 3, 4, 8, 9, 2, 1, 2, 3, 4, 5, 6, 7, 8, 9, 10, 6, 8, 1, 2, 3, 4, 5, 6, 7, 8, 9, 10, 1, 2, 3, 4, 6, 8, 9, 1, 2, 3, 4, 5, 7, 8, 10, 2, 1, 2, 3, 4, 5, 6, 7, 8, 9, 10, 1, 2, 3, 4, 5, 9, 10, 1, 2, 3, 4, 5, 6, 7, 8, 9, 10, 1, 2, 3, 4, 5, 7, 8, 9, 10, 2, 4, 5, 3, 9, 1, 2, 3, 4, 5, 6, 8, 1, 2, 3, 4, 5, 6, 7, 8, 9, 10, 8, 1, 2, 3, 4, 5, 6, 7, 8, 10, 2, 6, 8, 7, 10, 1, 8, 1, 2, 3, 5, 6, 8, 9, 2, 5, 1, 2, 3, 4, 5, 6, 7, 8, 9, 10, 1, 2, 3, 4, 5, 7, 8, 9, 10, 1, 2, 3, 4, 5, 7, 8, 9, 10, 1, 2, 3, 4, 5, 6, 7, 8, 9, 10, 8, 9, 1, 2, 3, 4, 7, 8, 1, 2, 3, 4, 5, 6, 7, 8, 9, 10, 1, 2, 3, 4, 5, 6, 7, 8, 9, 10, 1, 2, 3, 4, 5, 6, 7, 8, 9, 10, 4, 7, 3, 1, 2, 3, 5, 8, 10, 3, 3, 1, 2, 3, 4, 5, 6, 7, 8, 9, 1, 4, 10, 1, 3, 9, 1, 2, 3, 4, 5, 7, 9, 10, 2, 3, 5, 10, 2, 6, 8, 4, 2, 3, 5, 2, 2, 3, 1, 2, 3, 4, 5, 6, 7, 8, 9, 10, 1, 2, 3, 4, 5, 6, 7, 8, 9, 10, 1, 2, 3, 4, 5, 6, 9, 10, 3, 1, 2, 4, 5, 6, 7, 8, 10, 2, 4, 5, 6, 8, 1, 2, 3, 4, 5, 7, 8, 9, 10, 2, 4, 5, 6, 9, 10, 1, 2, 3, 4, 5, 6, 7, 8, 10, 1, 2, 3, 4, 5, 6, 7, 8, 9, 10, 2, 8, 1, 2, 3, 4, 5, 6, 7, 8, 9, 10, 1, 2, 4, 7, 8, 9, 10, 1, 2, 3, 4, 5, 6, 7, 8, 9, 10, 1, 2, 3, 4, 5, 6, 7, 8, 9, 10, 3, 1, 2, 3, 4, 8, 10, 2, 1, 2, 3, 4, 5, 6, 7, 8, 9, 10, 2, 3, 4, 5, 10, 1, 2, 3, 4, 7, 8, 9, 10, 3, 1, 2, 3, 4, 5, 6, 7, 8, 9, 10, 1, 2, 3, 4, 5, 6, 7, 8, 9, 10, 1, 2, 3, 4, 5, 6, 7, 8, 9, 10, 6, 3, 4, 2, 2, 3, 6, 1, 2, 5, 10, 2, 1, 2, 5, 8, 9, 10, 1, 2, 3, 4, 5, 6, 7, 8, 9, 10, 2, 6, 8, 1, 2, 6, 8, 10, 4, 1, 2, 3, 4, 5, 6, 7, 8, 9, 10, 1, 2, 3, 4, 5, 7, 8, 9, 1, 2, 4, 5, 7, 9, 10, 8, 5, 5, 6, 1, 2, 3, 4, 5, 6, 7, 8, 9, 10, 5, 1, 2, 3, 4, 5, 6, 8, 9, 1, 2, 3, 4, 5, 7, 8, 9, 10, 1, 2, 3, 4, 5, 6, 7, 8, 9, 10, 4, 1, 2, 3, 4, 5, 7, 9, 1, 3, 4, 8, 9, 1, 2, 3, 4, 5, 6, 7, 8, 9, 10, 1, 2, 3, 4, 5, 6, 7, 8, 9, 10, 3, 2, 4, 6, 1, 2, 3, 4, 5, 6, 7, 8, 9, 10, 1, 2, 3, 4, 5, 6, 7, 8, 9, 10, 2, 3, 5, 6, 1, 2, 3, 4, 5, 6, 7, 8, 9, 10, 4, 5, 1, 2, 3, 4, 5, 6, 7, 8, 9, 10, 1, 2, 3, 4, 5, 6, 7, 8, 9, 10, 3, 7, 1, 2, 3, 4, 5, 6, 7, 8, 9, 10, 1, 2, 3, 4, 5, 6, 7, 8, 9, 10, 1, 2, 3, 4, 5, 7, 8, 9, 10, 1, 2, 3, 4, 5, 6, 7, 8, 9, 10, 1, 2, 3, 4, 5, 6, 7, 9, 2, 5, 8, 10, 1, 4, 5, 2, 7, 8, 10, 1, 3, 4, 8, 9, 10, 1, 4, 6, 8, 9, 10, 4, 9, 2, 4, 1, 3, 4, 5, 6, 7, 9, 10, 1, 2, 3, 4, 5, 6, 8, 9, 10, 1, 2, 3, 4, 5, 6, 7, 8, 9, 10, 1, 2, 6, 10, 3, 3, 1, 2, 3, 4, 5, 6, 7, 8, 9, 10, 1, 2, 3, 4, 5, 6, 7, 8, 9, 10, 6, 1, 2, 3, 4, 5, 6, 7, 8, 9, 10, 1, 2, 3, 4, 5, 6, 7, 8, 9, 10, 1, 2, 3, 4, 5, 6, 7, 8, 9, 10, 1, 2, 3, 4, 5, 6, 7, 8, 9, 10, 1, 2, 3, 4, 5, 6, 7, 8, 9, 10, 1, 2, 3, 4, 5, 6, 7, 8, 9, 10, 2, 1, 2, 3, 4, 5, 6, 7, 8, 9, 10, 1, 2, 3, 4, 5, 6, 8, 10, 2, 6, 1, 2, 3, 4, 5, 6, 7, 8, 9, 10, 8, 9, 1, 2, 3, 4, 5, 6, 7, 8, 9, 10, 1, 2, 3, 4, 8, 9, 10, 2, 3, 4, 5, 6, 7, 9, 1, 2, 3, 4, 5, 6, 7, 8, 9, 10, 1, 2, 3, 4, 5, 6, 7, 8, 9, 10, 2, 3, 5, 7, 9, 10, 2, 5, 1, 2, 3, 4, 5, 7, 2, 8, 6, 1, 2, 3, 4, 5, 6, 7, 8, 9, 10, 1, 2, 3, 4, 5, 6, 7, 8, 9, 10, 1, 2, 3, 5, 6, 7, 10, 1, 2, 3, 4, 5, 6, 7, 8, 9, 10, 5, 10, 1, 2, 3, 4, 5, 6, 7, 8, 9, 10, 1, 2, 3, 4, 5, 6, 7, 8, 9, 10, 1, 2, 3, 4, 5, 6, 7, 8, 9, 10, 1, 2, 3, 4, 5, 6, 8, 9, 10, 1, 2, 3, 4, 5, 6, 7, 8, 9, 10, 1, 2, 3, 1, 2, 3, 4, 5, 7, 9, 1, 2, 3, 4, 5, 6, 7, 8, 9, 10, 6, 1, 2, 3, 4, 5, 6, 7, 8, 9, 10, 6, 1, 2, 3, 4, 5, 6, 7, 8, 9, 10, 1, 3, 4, 7, 8, 9, 1, 3, 4, 9, 1, 3, 9, 1, 2, 3, 6, 7, 8, 10, 1, 2, 3, 4, 5, 6, 7, 8, 9, 10, 1, 2, 3, 4, 5, 6, 7, 8, 9, 10, 1, 6, 9, 4, 6, 1, 2, 3, 4, 5, 6, 7, 8, 9, 10, 6, 1, 2, 3, 4, 5, 6, 7, 8, 9, 10, 1, 2, 3, 4, 5, 6, 7, 8, 9, 10, 2, 6, 8, 8, 1, 2, 3, 4, 5, 8, 9, 10, 1, 3, 5, 10, 1, 4, 8, 9, 1, 2, 10, 2, 6, 8, 1, 2, 3, 4, 5, 6, 7, 8, 9, 10, 1, 2, 3, 4, 5, 1, 2, 3, 4, 5, 6, 7, 9, 10, 1, 2, 3, 4, 5, 6, 7, 8, 9, 10, 1, 5, 1, 2, 3, 4, 5, 6, 7, 8, 9, 10, 3, 5, 9, 10, 3, 7, 10, 1, 2, 5, 6, 8, 8, 1, 2, 5, 6, 10, 1, 2, 3, 4, 5, 6, 7, 8, 9, 10, 1, 3, 4, 5, 7, 10, 2, 4, 5, 10, 8, 1, 2, 3, 5, 7, 3, 9, 2, 3, 5, 7, 9, 10, 1, 2, 3, 4, 5, 6, 7, 8, 9, 10, 1, 2, 3, 4, 5, 6, 7, 8, 10, 1, 5, 7, 9, 10, 2, 3, 4, 5, 6, 7, 9, 1, 2, 3, 4, 5, 6, 7, 8, 9, 10, 2, 3, 5, 6, 1, 2, 3, 4, 5, 6, 7, 10, 1, 2, 3, 4, 5, 6, 7, 8, 9, 10, 1, 1, 2, 3, 4, 5, 6, 7, 8, 9, 10, 1, 2, 3, 4, 5, 6, 7, 8, 9, 10, 8, 1, 2, 3, 4, 5, 6, 7, 8, 9, 10, 5, 1, 2, 3, 4, 5, 6, 7, 8, 9, 10, 4, 6, 1, 2, 3, 4, 5, 6, 7, 8, 9, 10, 6, 1, 4, 8, 9, 8, 3, 2, 4, 8, 1, 4, 10, 7, 9, 1, 2, 3, 4, 8, 1, 2, 3, 4, 5, 6, 7, 8, 9, 10, 1, 3, 9, 1, 4, 6, 8, 6, 1, 2, 3, 4, 5, 6, 7, 8, 9, 10, 1, 2, 3, 4, 5, 6, 7, 8, 9, 10, 1, 4, 10, 1, 5, 10, 6, 2, 6, 8, 1, 5, 7, 1, 2, 3, 4, 5, 8, 9, 1, 2, 3, 4, 5, 6, 7, 8, 9, 10, 2, 4, 1, 2, 3, 4, 5, 6, 7, 8, 9, 10, 1, 3, 6, 1, 2, 3, 4, 5, 7, 8, 1, 2, 3, 4, 5, 6, 7, 8, 9, 10, 4, 2, 3, 4, 1, 2, 3, 5, 7, 9, 10, 2, 4, 5, 1, 2, 3, 4, 5, 6, 7, 8, 9, 10, 2, 3, 4, 5, 1, 2, 3, 4, 5, 6, 7, 8, 9, 10, 9, 1, 9, 1, 2, 3, 4, 5, 6, 7, 8, 9, 10, 1, 3, 9, 4, 1, 2, 3, 4, 5, 6, 7, 8, 9, 1, 2, 3, 4, 5, 6, 8, 9, 1, 2, 3, 4, 5, 6, 7, 8, 9, 10, 1, 2, 3, 4, 5, 7, 9, 1, 2, 3, 4, 5, 8, 10, 2, 2, 3, 4, 5, 8, 10, 1, 1, 2, 3, 4, 5, 6, 7, 8, 9, 10, 1, 2, 3, 4, 5, 7, 9, 1, 3, 1, 2, 3, 4, 5, 6, 7, 8, 9, 10, 4, 6, 1, 2, 3, 4, 5, 6, 7, 8, 9, 10, 1, 2, 3, 4, 5, 6, 8, 9, 10, 1, 2, 3, 4, 5, 6, 7, 8, 9, 10, 2, 8, 1, 2, 3, 4, 7, 8, 9, 10, 2, 5, 6, 8, 3, 5, 1, 2, 3, 4, 5, 6, 7, 8, 9, 10, 2, 2, 2, 4, 6, 2, 8, 3, 5, 1, 2, 3, 4, 5, 6, 7, 8, 9, 10, 5, 7, 1, 2, 3, 7, 1, 4, 8, 9, 2, 4, 5, 7, 8, 10, 3, 1, 2, 3, 4, 5, 6, 7, 8, 9, 10, 1, 2, 3, 4, 5, 6, 7, 8, 9, 10, 1, 2, 3, 5, 6, 8, 9, 10, 1, 4, 5, 9, 1, 3, 4, 5, 8, 9, 10, 1, 2, 3, 4, 5, 6, 7, 8, 9, 10, 2, 4, 5, 6, 7, 8, 9, 1, 2, 3, 4, 5, 6, 8, 1, 2, 3, 4, 5, 6, 7, 8, 9, 10, 1, 5, 7, 10, 1, 2, 3, 4, 5, 6, 7, 8, 9, 10, 1, 2, 3, 4, 5, 6, 7, 8, 1, 2, 4, 5, 6, 8, 2, 4, 6, 1, 3, 9, 1, 3, 5, 6, 8, 9, 3, 6, 1, 2, 3, 4, 5, 6, 7, 8, 9, 10, 1, 2, 3, 4, 5, 6, 7, 8, 9, 10, 3, 1, 2, 3, 4, 5, 6, 7, 8, 9, 10, 6, 1, 2, 3, 5, 6, 7, 10, 1, 2, 3, 4, 6, 7, 8, 9, 10, 1, 2, 3, 4, 5, 6, 7, 8, 9, 10, 1, 2, 3, 4, 5, 6, 7, 8, 9, 10, 1, 7, 1, 2, 3, 4, 5, 6, 7, 9, 10, 1, 2, 3, 4, 5, 6, 7, 8, 9, 10, 1, 2, 3, 4, 5, 6, 7, 8, 9, 10, 1, 7, 1, 2, 3, 4, 5, 7, 9, 1, 2, 3, 4, 5, 6, 7, 8, 9, 10, 1, 2, 3, 4, 5, 6, 7, 8, 9, 10, 1, 4, 6, 8, 1, 2, 4, 7, 8, 9, 10, 1, 2, 3, 4, 5, 6, 7, 8, 9, 10, 1, 8, 9, 1, 2, 3, 4, 5, 6, 7, 8, 9, 10, 2, 1, 2, 3, 4, 5, 6, 7, 8, 9, 10, 2, 8, 1, 2, 3, 4, 6, 7, 8, 9, 1, 2, 3, 4, 5, 7, 8, 10, 1, 2, 4, 1, 2, 3, 4, 5, 6, 7, 8, 9, 10, 1, 2, 3, 4, 5, 7, 8, 9, 10, 2, 1, 2, 3, 4, 5, 6, 7, 8, 9, 10, 1, 2, 3, 5, 7, 8, 1, 2, 3, 4, 5, 6, 7, 8, 9, 10, 3, 6, 8, 2, 10, 1, 2, 3, 4, 5, 6, 7, 8, 9, 10, 1, 3, 5, 1, 2, 3, 5, 7, 9, 10, 6, 8, 1, 2, 3, 4, 5, 6, 7, 8, 9, 10, 1, 2, 3, 4, 5, 6, 8, 10, 1, 4, 1, 3, 4, 5, 7, 10, 1, 5, 10, 1, 2, 3, 4, 5, 6, 7, 8, 9, 10, 1, 5, 7, 9, 10, 1, 2, 3, 4, 5, 6, 8, 9, 1, 3, 4, 5, 7, 9, 10, 1, 2, 3, 4, 5, 6, 7, 8, 9, 10, 1, 2, 3, 4, 5, 6, 7, 8, 9, 10, 1, 2, 4, 5, 6, 8, 9, 10, 8, 9, 1, 2, 3, 4, 5, 6, 8, 9, 10, 1, 2, 3, 4, 5, 6, 7, 8, 9, 10, 1, 2, 3, 4, 5, 6, 7, 8, 9, 10, 1, 3, 4, 5, 8, 10, 1, 3, 1, 2, 3, 4, 6, 8, 9, 10, 6, 1, 2, 4, 5, 6, 8, 10, 1, 9, 6, 6, 1, 2, 4, 5, 7, 1, 2, 3, 4, 6, 3, 1, 1, 2, 3, 4, 5, 6, 7, 8, 9, 10, 1, 2, 3, 4, 5, 6, 7, 8, 9, 10, 1, 1, 2, 3, 4, 5, 6, 7, 8, 9, 10, 1, 2, 3, 4, 5, 6, 7, 8, 9, 10, 1, 2, 3, 4, 8, 9, 10, 1, 2, 3, 4, 5, 7, 8, 10, 1, 2, 3, 4, 5, 6, 7, 8, 9, 10, 4, 3, 5, 7, 10, 6, 3, 2, 5, 1, 2, 3, 4, 5, 6, 7, 8, 9, 10, 1, 3, 5, 7, 10, 4, 8, 10, 1, 1, 2, 3, 4, 5, 6, 7, 8, 9, 10, 1, 2, 3, 5, 8, 9, 10, 4, 9, 1, 2, 4, 5, 6, 7, 8, 9, 10, 4, 1, 2, 3, 4, 5, 6, 7, 8, 9, 10, 1, 2, 3, 4, 8, 9, 1, 2, 3, 4, 5, 6, 7, 8, 9, 10, 1, 2, 3, 4, 5, 6, 7, 8, 9, 10, 1, 2, 3, 4, 5, 6, 7, 8, 9, 10, 4, 5, 7, 10, 1, 3, 4, 8, 10, 4, 5, 6, 9, 10, 6, 8, 4, 1, 2, 3, 4, 5, 6, 7, 8, 9, 10, 5, 1, 2, 3, 4, 5, 6, 7, 8, 9, 10, 1, 2, 3, 4, 5, 6, 7, 8, 9, 10, 1, 2, 3, 4, 5, 6, 7, 8, 9, 10, 1, 2, 3, 4, 5, 6, 7, 8, 9, 10, 1, 2, 3, 4, 5, 6, 7, 8, 10, 1, 2, 3, 4, 5, 6, 7, 8, 9, 10, 1, 3, 4, 6, 9, 1, 2, 3, 4, 5, 6, 7, 8, 9, 10, 1, 2, 3, 5, 6, 10, 8, 1, 2, 4, 5, 7, 10, 2, 3, 5, 6, 7, 8, 10, 1, 2, 3, 4, 5, 6, 7, 8, 9, 2, 6, 8, 6, 3, 10, 1, 2, 3, 4, 5, 6, 7, 8, 9, 10, 1, 6, 4, 5, 1, 2, 3, 4, 5, 6, 7, 8, 9, 10, 6, 5, 7, 4, 1, 2, 3, 4, 5, 6, 7, 8, 9, 10, 1, 2, 1, 2, 3, 4, 5, 6, 7, 8, 9, 10, 1, 2, 3, 4, 5, 6, 7, 8, 9, 10, 2, 3, 7, 8, 10, 1, 2, 3, 4, 5, 6, 7, 8, 9, 1, 2, 3, 4, 6, 8, 9, 5, 6, 8, 1, 2, 3, 4, 7, 8, 10, 2, 8, 10, 1, 2, 3, 4, 5, 6, 7, 8, 9, 10, 1, 3, 4, 8, 2, 1, 2, 3, 4, 6, 9, 1, 2, 3, 4, 5, 6, 7, 8, 9, 10, 1, 2, 3, 4, 5, 6, 7, 8, 9, 10, 3, 1, 2, 3, 4, 5, 6, 7, 8, 9, 10, 1, 2, 3, 4, 5, 6, 7, 8, 9, 10, 1, 3, 9, 1, 2, 3, 4, 8, 1, 2, 3, 4, 5, 6, 7, 8, 9, 10, 1, 2, 3, 4, 5, 6, 7, 8, 9, 10, 2, 6, 8, 2, 1, 2, 3, 4, 5, 6, 7, 8, 9, 10, 1, 7, 1, 2, 3, 4, 5, 6, 7, 8, 9, 10, 1, 2, 3, 4, 6, 7, 8, 9, 1, 2, 3, 1, 2, 3, 4, 5, 6, 7, 8, 9, 10, 1, 3, 4, 5, 8, 9, 4, 1, 2, 4, 5, 6, 8, 9, 10, 1, 2, 3, 4, 5, 6, 7, 8, 9, 10, 1, 1, 2, 3, 4, 5, 6, 7, 8, 9, 10, 1, 2, 3, 4, 5, 6, 7, 8, 9, 10, 6, 1, 2, 3, 4, 5, 6, 7, 8, 9, 10, 1, 2, 3, 4, 5, 6, 7, 8, 9, 10, 1, 2, 3, 4, 5, 6, 7, 8, 9, 10, 1, 2, 3, 4, 5, 6, 7, 9, 10, 1, 1, 3, 5, 1, 2, 3, 5, 7, 10, 1, 4, 7, 1, 2, 3, 4, 5, 6, 7, 8, 9, 10, 8, 2, 3, 4, 6, 8, 1, 2, 3, 4, 7, 8, 9, 6, 1, 1, 3, 5, 7, 1, 2, 3, 4, 5, 6, 7, 8, 9, 10, 1, 2, 3, 4, 5, 6, 7, 8, 9, 10, 6, 8, 1, 2, 3, 4, 5, 6, 7, 8, 9, 10, 1, 2, 3, 4, 8, 9, 1, 3, 3, 10, 1, 4, 8, 8, 1, 3, 4, 5, 7, 8, 10, 1, 2, 3, 4, 5, 6, 7, 8, 9, 10, 1, 2, 3, 4, 6, 8, 4, 1, 2, 3, 4, 5, 6, 7, 8, 9, 10, 2, 6, 7, 2, 3, 4, 5, 8, 1, 2, 3, 4, 5, 6, 7, 8, 9, 10, 2, 8, 1, 2, 3, 4, 5, 7, 9, 10, 2, 8, 2, 1, 2, 3, 4, 5, 6, 7, 8, 9, 1, 2, 4, 5, 6, 8, 10, 6, 2, 1, 2, 3, 4, 6, 7, 8, 9, 10, 1, 2, 3, 4, 5, 6, 7, 8, 9, 10, 8, 4, 8, 10, 1, 2, 3, 4, 5, 6, 7, 8, 9, 10, 3, 5, 3, 9, 1, 4, 9, 1, 2, 3, 7, 8, 10, 1, 3, 7, 9, 10, 1, 3, 4, 5, 6, 7, 9, 10, 1, 2, 3, 4, 5, 6, 7, 8, 9, 10, 1, 2, 3, 4, 5, 6, 7, 8, 9, 10, 2, 4, 6, 8, 3, 4, 9, 1, 2, 3, 4, 7, 8, 10, 4, 2, 3, 6, 7, 9, 1, 2, 3, 4, 5, 6, 7, 8, 9, 10, 1, 2, 3, 4, 5, 7, 9, 10, 1, 3, 5, 10, 1, 2, 3, 4, 5, 7, 8, 9, 10, 1, 2, 3, 4, 5, 6, 7, 8, 9, 1, 2, 3, 4, 5, 6, 7, 8, 9, 10, 5, 1, 2, 5, 6, 8, 10, 1, 2, 3, 4, 5, 6, 7, 8, 9, 10, 1, 2, 3, 4, 5, 6, 7, 8, 9, 1, 2, 3, 4, 5, 6, 7, 8, 9, 10, 4, 8, 10, 1, 2, 3, 5, 6, 10, 1, 2, 3, 1, 2, 5, 6, 8, 6, 1, 2, 3, 4, 5, 6, 7, 8, 9, 10, 1, 2, 3, 4, 5, 6, 7, 8, 9, 10, 1, 2, 3, 4, 5, 6, 7, 8, 9, 10, 1, 4, 8, 9, 1, 4, 8, 9, 1, 2, 3, 4, 5, 6, 7, 8, 9, 10, 1, 2, 3, 4, 5, 6, 7, 8, 9, 10, 3, 1, 2, 3, 4, 5, 6, 8, 9, 10, 1, 2, 3, 4, 5, 6, 8, 9, 10, 10, 8, 2, 10, 1, 2, 3, 4, 5, 6, 7, 8, 9, 10, 1, 2, 3, 4, 5, 6, 7, 8, 9, 10, 1, 1, 9, 10, 1, 2, 3, 4, 5, 8, 9, 10, 1, 2, 8, 9, 3, 4, 10, 1, 2, 3, 4, 5, 6, 7, 8, 9, 10, 1, 2, 3, 4, 5, 6, 7, 8, 9, 10, 7, 1, 2, 3, 4, 5, 6, 7, 8, 9, 10, 1, 2, 3, 4, 5, 6, 7, 8, 10, 1, 1, 2, 3, 4, 5, 6, 7, 9, 10, 2, 4, 6, 8, 1, 2, 3, 4, 5, 6, 7, 8, 9, 10, 1, 1, 2, 3, 4, 5, 7, 9, 1, 7, 1, 2, 4, 10, 2, 8, 1, 2, 3, 4, 5, 6, 7, 8, 9, 10, 1, 2, 3, 4, 5, 6, 7, 8, 9, 10, 4, 7, 1, 2, 3, 4, 5, 6, 7, 8, 9, 10, 2, 4, 6, 1, 2, 3, 4, 5, 6, 7, 8, 9, 10, 1, 2, 3, 4, 5, 6, 7, 8, 9, 10, 1, 2, 3, 4, 5, 6, 7, 8, 9, 10, 8, 1, 2, 3, 4, 5, 6, 7, 8, 9, 10, 5, 7, 2, 1, 2, 3, 6, 8, 10, 1, 2, 3, 4, 5, 6, 7, 8, 9, 10, 1, 2, 3, 4, 5, 6, 7, 8, 9, 10, 1, 2, 3, 5, 8, 1, 4, 5, 6, 7, 1, 2, 3, 4, 5, 6, 7, 8, 9, 10, 10, 1, 2, 3, 4, 5, 6, 7, 8, 9, 10, 4, 6, 1, 2, 3, 4, 6, 7, 8, 9, 10, 6, 1, 2, 3, 4, 5, 6, 7, 8, 9, 10, 1, 2, 3, 4, 5, 6, 8, 9, 10, 4, 5, 7, 1, 2, 3, 4, 5, 6, 7, 8, 9, 10, 1, 2, 5, 6, 7, 8, 10, 1, 3, 5, 7, 10, 1, 2, 3, 4, 5, 6, 7, 8, 9, 10, 1, 2, 3, 4, 5, 6, 7, 8, 9, 10], \"Freq\": [0.7918794034066732, 0.001564979058115955, 0.1424130942885519, 0.007824895290579774, 0.020344727755507414, 0.001564979058115955, 0.00312995811623191, 0.00938987434869573, 0.01877974869739146, 0.06478045235902435, 0.03239022617951218, 0.06478045235902435, 0.06478045235902435, 0.03239022617951218, 0.728780089039024, 0.02565066381133822, 0.8977732333968377, 0.05130132762267644, 0.9627396065309867, 0.006098861278705307, 0.9880155271502598, 0.9098688630624868, 0.013513989586301187, 0.027027979172602374, 0.0033784973965752967, 0.06756994793150593, 0.04054196875890356, 0.0945979271041083, 0.0067569947931505935, 0.13176139846643659, 0.6013725365904028, 0.013513989586301187, 0.20880738321067402, 0.7457406543238357, 0.8682102686361332, 0.09963068656480217, 0.0898822060380695, 0.20999028667301192, 0.33566629157579936, 0.027044203586675777, 0.08670053502787234, 0.059656331441196565, 0.11613099187219598, 0.01988544381373219, 0.027044203586675777, 0.027839621339225063, 0.006428706016163059, 0.03857223609697836, 0.006428706016163059, 0.12857412032326118, 0.8164456640527086, 0.005649077713118579, 0.9038524340989725, 0.022596310852474315, 0.005649077713118579, 0.03954354399183005, 0.016947233139355734, 0.1198902065810801, 0.16890192625259084, 0.2642862729979156, 0.07653368533320523, 0.08633602926750737, 0.07464861919199327, 0.07879576470265956, 0.06107614297526722, 0.034685216998299906, 0.034685216998299906, 0.01564355754085443, 0.01564355754085443, 0.01564355754085443, 0.9386134524512658, 0.01564355754085443, 0.05905141273525684, 0.3406334124096921, 0.06402416328138373, 0.309553721496399, 0.032322878549824796, 0.03480925382288824, 0.07956400873803027, 0.030458097095027212, 0.031079690913293073, 0.018647814547975844, 0.9690848389576825, 0.007341551810285473, 0.014683103620570946, 0.9012569131836061, 0.10792314216714363, 0.27395874550121074, 0.07056513141697852, 0.004150890083351678, 0.004150890083351678, 0.04981068100022014, 0.48980502983549806, 0.0089936919862161, 0.0449684599310805, 0.1888675317105381, 0.11691799582080929, 0.0179873839724322, 0.6115710550626948, 0.0024234244515021854, 0.9839103273098873, 0.0024234244515021854, 0.004846848903004371, 0.057948914105298455, 0.00643876823392205, 0.08513482442630266, 0.3713023014895049, 0.08656566181161868, 0.008585024311896066, 0.030047585091636235, 0.16168462454070925, 0.10802822259135884, 0.08370398704098665, 0.01705337656871114, 0.002842229428118523, 0.8754066638605051, 0.06821350627484456, 0.005684458856237046, 0.028422294281185232, 0.002842229428118523, 0.10428305684651, 0.017979837387329313, 0.09529313815284535, 0.21755603238668467, 0.008989918693664656, 0.03775765851339155, 0.0071919349549317245, 0.4782636745029597, 0.026969756080993966, 0.0071919349549317245, 0.010156430872929929, 0.010156430872929929, 0.030469292618789785, 0.7515758845968147, 0.010156430872929929, 0.05078215436464964, 0.030469292618789785, 0.10156430872929928, 0.058624828888932896, 0.0022548011111128037, 0.01803840888890243, 0.7125171511116459, 0.0022548011111128037, 0.0022548011111128037, 0.004509602222225607, 0.1871484922223627, 0.013528806666676822, 0.0022548011111128037, 0.004490968698882097, 0.04490968698882097, 0.013472906096646291, 0.03143678089217468, 0.04490968698882097, 0.013472906096646291, 0.7365188666166639, 0.04041871828993887, 0.017963874795528387, 0.04940065568770306, 0.0011710366444185123, 0.007026219866511073, 0.9134085826464395, 0.0011710366444185123, 0.04215731919906644, 0.0035131099332555366, 0.0011710366444185123, 0.0011710366444185123, 0.03044695275488132, 0.018375329344924154, 0.9601109582722872, 0.004593832336231039, 0.004593832336231039, 0.004593832336231039, 0.12787663484893871, 0.30343608269239697, 0.08615417347873414, 0.0894052743647241, 0.043889861960864564, 0.04822466314218452, 0.22649336172396775, 0.016255504429949837, 0.023841406497259764, 0.03467840945055965, 0.09204295294423065, 0.011505369118028831, 0.028763422795072078, 0.057526845590144156, 0.7651070463489172, 0.005752684559014416, 0.028763422795072078, 0.055978985840634786, 0.011195797168126957, 0.8620763819457756, 0.04478318867250783, 0.013285705806329068, 0.004428568602109689, 0.017714274408438757, 0.017714274408438757, 0.9344279750451444, 0.004428568602109689, 0.029613459319128003, 0.0032903843687920003, 0.026323074950336003, 0.0032903843687920003, 0.006580768737584001, 0.0032903843687920003, 0.9213076232617601, 0.006580768737584001, 0.0032903843687920003, 0.020299141018047584, 0.020299141018047584, 0.020299141018047584, 0.030448711527071376, 0.020299141018047584, 0.8728630637760462, 0.1526287698278178, 0.0070990125501310605, 0.0035495062750655303, 0.056792100401048484, 0.0035495062750655303, 0.6779556985375162, 0.0922871631517038, 0.07532879165773798, 0.03228376785331628, 0.010761255951105426, 0.06456753570663255, 0.7748104284795906, 0.03228376785331628, 0.04780699367099187, 0.028684196202595123, 0.9083328797488456, 0.008954672207772766, 0.017909344415545533, 0.06268270545440936, 0.9044218929850495, 0.09753515693992584, 0.09753515693992584, 0.06311098390230496, 0.007649816230582419, 0.02868681086468407, 0.0019124540576456047, 0.0019124540576456047, 0.007649816230582419, 0.6903959148100633, 0.0019124540576456047, 0.02436466150697066, 0.006091165376742665, 0.006091165376742665, 0.9563129641485983, 0.006091165376742665, 0.9342853066429017, 0.004629105245985881, 0.0015430350819952935, 0.8872451721472937, 0.0015430350819952935, 0.0015430350819952935, 0.0015430350819952935, 0.03086070163990587, 0.0015430350819952935, 0.05863533311582115, 0.010801245573967054, 0.010437624350111911, 0.9811366889105196, 0.02664844447851284, 0.1652203557667796, 0.015989066687107704, 0.02131875558281027, 0.037307822269917974, 0.6768704897542261, 0.005329688895702568, 0.04263751116562054, 0.005329688895702568, 0.005329688895702568, 0.02053069584313278, 0.004106139168626555, 0.024636835011759336, 0.7637418853645394, 0.012318417505879668, 0.16424556674506224, 0.004106139168626555, 0.057218894230126466, 0.03433133653807588, 0.011443778846025293, 0.03433133653807588, 0.13732534615230352, 0.011443778846025293, 0.03433133653807588, 0.6637391730694671, 0.9393825549401398, 0.00404291816545123, 0.04042918165451231, 0.006738196942418718, 0.010781115107869948, 0.2560514838119113, 0.45684975269598904, 0.21157938399194773, 0.00808583633090246, 0.0013476393884837435, 0.002695278776967487, 0.008394850169194902, 0.008394850169194902, 0.03357940067677961, 0.008394850169194902, 0.08394850169194902, 0.016789700338389803, 0.8394850169194902, 0.0561338307463732, 0.767162353533767, 0.02619578768164083, 0.04116480921400702, 0.014969021532366187, 0.018711276915457733, 0.05239157536328166, 0.007484510766183093, 0.0037422553830915467, 0.0037422553830915467, 0.015774276365779567, 0.0341775987925224, 0.07361328970697131, 0.11830707274334676, 0.05783901334119175, 0.044693783036375445, 0.015774276365779567, 0.010516184243853045, 0.6283420085702195, 0.9146038376595312, 0.02177628184903646, 0.054440704622591145, 0.04843784560344334, 0.8961001436637017, 0.05689319962303156, 0.12191399919221049, 0.004063799973073683, 0.020318999865368413, 0.004063799973073683, 0.6542717956648629, 0.13816919908450523, 0.025957152747011537, 0.02096539260335547, 0.15773962053953164, 0.014975280430968194, 0.5161479988540371, 0.02396044868954911, 0.12579235562013283, 0.03194726491939881, 0.0019967040574624256, 0.07886981026976582, 0.9681538283810501, 0.020009958205255907, 0.024011949846307088, 0.03201593312840945, 0.004001991641051182, 0.004001991641051182, 0.024011949846307088, 0.004001991641051182, 0.8884421443133622, 0.004001991641051182, 0.008424930255983459, 0.9772919096940813, 0.008424930255983459, 0.040452612740344694, 0.930410093027928, 0.016367846274515926, 0.9657029301964397, 0.00880565919125303, 0.03815785649542979, 0.023481757843341413, 0.014676098652088382, 0.00880565919125303, 0.005870439460835353, 0.9011124572382266, 0.04587941528322165, 0.9175883056644331, 0.03143860476128673, 0.022191956302084752, 0.007397318767361583, 0.0425345829123291, 0.07952117674913703, 0.016643967226563562, 0.0018493296918403958, 0.728635898585116, 0.055479890755211876, 0.016643967226563562, 0.09713616199626231, 0.0024284040499065575, 0.10199297009607541, 0.6289566489257984, 0.03399765669869181, 0.016998828349345903, 0.024284040499065577, 0.08985094984654263, 0.004856808099813115, 0.11967202056361441, 0.04351709838676887, 0.010879274596692218, 0.11241917083248626, 0.03626424865564073, 0.6237450768770205, 0.0036264248655640727, 0.0036264248655640727, 0.05076994811789702, 0.14581741808395435, 0.15961519527899518, 0.16369181126843907, 0.06961605766588788, 0.09219423853050016, 0.09721161205596955, 0.06240358322302562, 0.13045171166220432, 0.030417826998158218, 0.04891939187332662, 0.0485429118695765, 0.9223153255219536, 0.9328045928792277, 0.01626984755021909, 0.002711641258369848, 0.002711641258369848, 0.03796297761717787, 0.005423282516739696, 0.15030696955200296, 0.10507782065945497, 0.17543427449230742, 0.1180983332194309, 0.11078857178225143, 0.08292010630300467, 0.03997525785957526, 0.08360539643774026, 0.05824966145252394, 0.07538191482091335, 0.10043919084109691, 0.07079147788197794, 0.14279306649698115, 0.32430967645077075, 0.11677568573693797, 0.026017380760043174, 0.013916273429790536, 0.07805214228012952, 0.087127972777819, 0.038723543456808444, 0.09922190436078594, 0.11047387289654517, 0.15343593457853497, 0.10535934174392735, 0.11047387289654517, 0.01432068722732993, 0.03273299937675413, 0.09001574828607385, 0.2434516828646088, 0.040916249220942655, 0.1800109520743951, 0.7800474589890454, 0.9571992371719668, 0.026778833178858118, 0.026778833178858118, 0.013389416589429059, 0.8569226617234598, 0.053557666357716235, 0.013389416589429059, 0.9825425649961833, 0.9670399612619893, 0.8170245050527929, 0.11438343070739102, 0.007003067186166796, 0.018674845829778124, 0.007003067186166796, 0.014006134372333593, 0.0023343557287222655, 0.011671778643611328, 0.004668711457444531, 0.048558608363696465, 0.9226135589102329, 0.9606373151854688, 0.04339232994409681, 0.032544247458072606, 0.9112389288260329, 0.005606552942866245, 0.028032764714331224, 0.04485242354292996, 0.005606552942866245, 0.15698348240025486, 0.05606552942866245, 0.016819658828598736, 0.6783929060868157, 0.03286504228221889, 0.03286504228221889, 0.8873561416199102, 0.03286504228221889, 0.010818176409209937, 0.03245452922762981, 0.9519995240104744, 0.9475455407133958, 0.9438184698103098, 0.02097374377356244, 0.02097374377356244, 0.9358385238838705, 0.010546385515096244, 0.9702674673888544, 0.10511819640263223, 0.0014205161676031383, 0.4886575616554796, 0.22018000597848644, 0.058241162871728674, 0.0028410323352062766, 0.04119496886049101, 0.0028410323352062766, 0.06392322754214122, 0.01562567784363452, 0.044385109865619214, 0.7489987289823242, 0.03143945282148027, 0.018493795777341338, 0.029590073243746143, 0.011096277466404804, 0.059180146487492286, 0.016644416199607204, 0.005548138733202402, 0.036987591554682675, 0.03816309725358378, 0.028622322940187832, 0.028622322940187832, 0.057244645880375665, 0.01908154862679189, 0.009540774313395945, 0.8109658166386553, 0.009540774313395945, 0.970163220171487, 0.0039317765255222235, 0.0668402009338778, 0.023590659153133343, 0.011795329576566671, 0.6841291154408669, 0.015727106102088894, 0.1651346140719334, 0.027522435678655564, 0.01518281703570736, 0.00379570425892684, 0.00379570425892684, 0.6262912027229286, 0.34540908756234245, 0.7980385012438498, 0.014000675460418418, 0.021001013190627627, 0.13300641687397496, 0.005250253297656907, 0.0017500844325523022, 0.0035001688651046044, 0.02275109762317993, 0.0017500844325523022, 0.011895146487912957, 0.011895146487912957, 0.023790292975825914, 0.9040311330813847, 0.023790292975825914, 0.011895146487912957, 0.0030815316289868684, 0.030815316289868683, 0.0030815316289868684, 0.006163063257973737, 0.009244594886960606, 0.1756473028522515, 0.0030815316289868684, 0.7673013756177303, 0.0030815316289868684, 0.40500713346386163, 0.016150591211749086, 0.11616002140757996, 0.0316800058384309, 0.21120003892287265, 0.0018635297552018174, 0.061496481921659976, 0.026089416572825444, 0.034164712178699985, 0.09628237068542723, 0.029979046306739147, 0.949336466380073, 0.04621818509592297, 0.01815714414482688, 0.019807793612538416, 0.01815714414482688, 0.009903896806269208, 0.003301298935423069, 0.054471432434480646, 0.004951948403134604, 0.006602597870846138, 0.8154208370494981, 0.014840760553833219, 0.02226114083074983, 0.014840760553833219, 0.007420380276916609, 0.007420380276916609, 0.007420380276916609, 0.912706774060743, 0.017716528112915148, 0.04650588629640227, 0.02878935818348712, 0.044291320282287876, 0.039862188254059086, 0.004429132028228787, 0.015501962098800755, 0.013287396084686362, 0.006643698042343181, 0.7839563689964953, 0.05393553747126113, 0.13007982566598272, 0.003172678674780067, 0.041244822772140866, 0.03172678674780067, 0.022208750723460468, 0.003172678674780067, 0.710680023150735, 0.003172678674780067, 0.006345357349560134, 0.9592143330243211, 0.9626591096586865, 0.0050934344426385525, 0.0050934344426385525, 0.0050934344426385525, 0.015280303327915658, 0.0050934344426385525, 0.9567700831026192, 0.1073383673053714, 0.2622701616235018, 0.1515563739626156, 0.124553011118497, 0.09518685402551803, 0.07864729428349539, 0.05974494029261238, 0.05873231418595793, 0.03274157744849379, 0.029366157092978965, 0.030059023046794264, 0.07514755761698566, 0.015029511523397132, 0.12023609218717705, 0.7514755761698566, 0.9455205319593065, 0.00936158942533967, 0.00936158942533967, 0.00936158942533967, 0.006241059616893112, 0.006241059616893112, 0.003120529808446556, 0.006241059616893112, 0.9547256387860038, 0.10166119854898915, 0.10306342197725107, 0.1198901031163941, 0.04417003799025046, 0.10727009226203682, 0.09885675169246531, 0.2972713667915269, 0.03786003256307182, 0.029446691993500307, 0.06029560741526253, 0.12987024347050358, 0.1519047834937767, 0.16659447684262543, 0.1075018467802112, 0.10249399677492185, 0.040396656709334025, 0.06743904673789647, 0.07411618007828226, 0.08146102675270663, 0.07845631674953302, 0.12828505501269155, 0.057339532164763646, 0.18416680246140188, 0.08017815938293221, 0.09232636535004315, 0.035472761423963946, 0.1457784716053313, 0.01895120130869307, 0.20166021905404163, 0.05539581921002589, 0.971379264153162, 0.9812009628491267, 0.9684459593014496, 0.9127190254717331, 0.017753994611637403, 0.949838711722601, 0.017753994611637403, 0.0394244719777711, 0.01971223598888555, 0.8673383835109643, 0.0394244719777711, 0.9745164926720882, 0.041459193037786696, 0.020729596518893348, 0.020729596518893348, 0.020729596518893348, 0.891372650312414, 0.020729596518893348, 0.018602007536643508, 0.06554993131960093, 0.08946679815242829, 0.012401338357762338, 0.1975356038415001, 0.0017716197653946197, 0.027460106363616604, 0.010629718592367719, 0.04871954354835204, 0.526171070322202, 0.931691726185066, 0.030054571812421483, 0.030054571812421483, 0.0064099280687588125, 0.0064099280687588125, 0.07050920875634693, 0.8909800015574749, 0.012819856137517625, 0.9421658478113839, 0.0875482214859706, 0.1271612950860866, 0.07223560480021149, 0.19140770857198897, 0.10718831680031382, 0.11251444434318655, 0.07523155154307741, 0.1258297632003684, 0.04427343520012962, 0.05692298811445237, 0.03229367611351615, 0.7556720210562778, 0.025834940890812917, 0.03229367611351615, 0.0645873522270323, 0.006458735222703229, 0.03875241133621938, 0.03875241133621938, 0.01946752552558849, 0.01946752552558849, 0.0681363393395597, 0.03893505105117698, 0.759233495497951, 0.058402576576765466, 0.03893505105117698, 0.9669588280181773, 0.9658571857213974, 0.9464743932725621, 0.9421016031867999, 0.18104087326109336, 0.19193445016219068, 0.2557396862971892, 0.06224901086341319, 0.0679551701925594, 0.06121152734902297, 0.04772424166195011, 0.051355433962315886, 0.03994311530402347, 0.04149934057560879, 0.9626119229181216, 0.023103913532796706, 0.7624291465822913, 0.023103913532796706, 0.011551956766398353, 0.028879891915995885, 0.13862348119678025, 0.005775978383199177, 0.005775978383199177, 0.028152625401235504, 0.037536833868314, 0.028152625401235504, 0.03284472963477475, 0.7225840519650446, 0.02346052116769625, 0.042228938101853256, 0.014076312700617752, 0.07038156350308876, 0.1374370965622494, 0.40728310322715366, 0.17933865039220348, 0.04860580244274673, 0.02597896337457153, 0.07374673474071919, 0.07542279689391734, 0.015084559378783469, 0.023464870144774285, 0.013408497225585306, 0.9384395899299325, 0.011364472883448452, 0.011364472883448452, 0.005682236441724226, 0.005682236441724226, 0.028411182208621127, 0.9318867764427731, 0.005682236441724226, 0.06796576274696584, 0.11044436446381947, 0.05097432206022438, 0.00849572034337073, 0.7561191105599949, 0.021391393528658074, 0.062035041233108414, 0.01711311482292646, 0.04492192641018195, 0.44708012474895376, 0.24386188622670205, 0.08342643476176649, 0.004278278705731615, 0.04920020511591357, 0.02566967223438969, 0.3303814347744944, 0.13925167911982822, 0.15181163449142057, 0.05023982148636939, 0.1201387035543616, 0.05187807653483796, 0.039318121163245616, 0.07590581724571029, 0.01802080553315424, 0.02238948566240375, 0.9467912978587114, 0.9182998536619897, 0.027827268292787567, 0.027827268292787567, 0.23399081550952433, 0.08454120217895485, 0.10497533161557426, 0.18831452618061031, 0.09976663195525952, 0.058097034672741486, 0.03806357444076166, 0.06330573433305624, 0.08614387899751323, 0.04287160489643682, 0.06651775947811392, 0.0016223843775149739, 0.012979075020119791, 0.7690101949420975, 0.11681167518107811, 0.0016223843775149739, 0.0016223843775149739, 0.012979075020119791, 0.008111921887574869, 0.009734306265089842, 0.8877148337383006, 0.05636284658655877, 0.014090711646639692, 0.028181423293279384, 0.12461878532554053, 0.22049115145942264, 0.10137699959611457, 0.08440437975423114, 0.08792122891065744, 0.14709603862965645, 0.05061204655552628, 0.09204970400733178, 0.027828980281286355, 0.06345619130073536, 0.8784589463284033, 0.07985990421167302, 0.12660182557159413, 0.21882470713021226, 0.15061251662827577, 0.11050374861313712, 0.0979527055607808, 0.06984928307398297, 0.10586531965900543, 0.023464993532666154, 0.06139097145174285, 0.034924641536991485, 0.02810331933940752, 0.024540926747088257, 0.13992286459831774, 0.03067615843386032, 0.5201093184786124, 0.006135231686772064, 0.15298497077015502, 0.014249570369277053, 0.028499140738554106, 0.05482126378180199, 0.979735456101202, 0.006948478412065263, 0.2616690199775859, 0.04412945467555487, 0.2417796882928288, 0.025172435413520735, 0.06992343170422427, 0.08328657642992046, 0.08421888885264345, 0.03667095529377095, 0.08515120127536645, 0.06805880685877828, 0.10729424686392025, 0.0834510808941602, 0.6246909484077134, 0.1311374128336803, 0.0011921582984880028, 0.0011921582984880028, 0.01669021617883204, 0.01669021617883204, 0.009537266387904022, 0.007152949790928016, 0.01591305629021995, 0.004546587511491415, 0.04319258135916844, 0.2227827880630793, 0.05455905013789697, 0.01818635004596566, 0.03637270009193132, 0.04091928760342273, 0.5637768514249354, 0.18166695340823813, 0.10856763167968517, 0.12586924628999357, 0.2249209899340091, 0.12284146373318959, 0.05406754565721373, 0.06834137771071816, 0.02768258337649343, 0.061420731866594795, 0.02508734118494717, 0.7350518135238755, 0.002934338576941619, 0.2479516097515668, 0.0014671692884708095, 0.002934338576941619, 0.0014671692884708095, 0.0014671692884708095, 0.005868677153883238, 0.8969463945713785, 0.02061945734646847, 0.04123891469293694, 0.02061945734646847, 0.023790513626587736, 0.9278300314369217, 0.023790513626587736, 0.03061529301208196, 0.06123058602416392, 0.12246117204832783, 0.765382325302049, 0.024106741048630066, 0.0026785267831811186, 0.8839138384497691, 0.07232022314589019, 0.010714107132724474, 0.005357053566362237, 0.06278888055670966, 0.8868929378635239, 0.007848610069588707, 0.03139444027835483, 0.007848610069588707, 0.007848610069588707, 0.8992164756945317, 0.04281983217593008, 0.9184198607073069, 0.03532384079643488, 0.005746713120891188, 0.005746713120891188, 0.05172041808802069, 0.7298325663531808, 0.005746713120891188, 0.022986852483564753, 0.022986852483564753, 0.1436678280222797, 0.0061258549794259, 0.6472986761593367, 0.061258549794258994, 0.20623711764067196, 0.0020419516598086333, 0.0020419516598086333, 0.0122517099588518, 0.0020419516598086333, 0.061258549794258994, 0.13430904457967335, 0.00503658917173775, 0.6530777292686616, 0.0016788630572459168, 0.100731783434755, 0.0016788630572459168, 0.07219111146157442, 0.0016788630572459168, 0.0016788630572459168, 0.028540671973180585, 0.016072992735453668, 0.016072992735453668, 0.9322335786563127, 0.032145985470907336, 0.9527721154954742, 0.9468690309528413, 0.17926489043043103, 0.006146224814757635, 0.1905329692574867, 0.04063337516423103, 0.0006829138683064039, 0.00034145693415320197, 0.13111946271482955, 0.0020487416049192117, 0.44867441147730736, 0.0010243708024596059, 0.0028030722947325996, 0.0028030722947325996, 0.028030722947325996, 0.6755404230305565, 0.08689524113671059, 0.0028030722947325996, 0.008409216884197799, 0.1457597593260952, 0.028030722947325996, 0.016818433768395598, 0.970766645133291, 0.48824826562594, 0.022193102982997273, 0.13315861789798364, 0.07464952821553628, 0.06758808635730988, 0.011096551491498637, 0.05951786709076541, 0.025219435207951446, 0.09179874415694327, 0.02723699002458756, 0.11151572814333366, 0.5187170990909611, 0.08448161222979822, 0.047309702848687005, 0.057447496316262794, 0.07772308325141436, 0.04899933509328297, 0.023654851424343502, 0.027034115913535432, 0.005068896733787893, 0.003975286634472336, 0.36743006464337163, 0.011357961812778103, 0.013629554175333724, 0.03577757971025102, 0.46738012859581896, 0.026123312169389637, 0.011357961812778103, 0.05962929951708504, 0.0022715923625556207, 0.2971748751731927, 0.25772234864157917, 0.19418840981144833, 0.04098963795492313, 0.06302156835569431, 0.02459378277295388, 0.07941742353766357, 0.008710298065421165, 0.022031930400771182, 0.01229689138647694, 0.12565984337387356, 0.16197438526632327, 0.0063406342986816935, 0.5608579247833898, 0.00576421299880154, 0.010952004697722926, 0.0714762411851391, 0.023633273295086313, 0.021904009395445852, 0.010375583397842772, 0.8574361630810938, 0.060252270919211995, 0.011586975176771538, 0.023173950353543075, 0.011586975176771538, 0.0023173950353543075, 0.020856555318188766, 0.0023173950353543075, 0.004634790070708615, 0.0023173950353543075, 0.9418011575263796, 0.061165447917257754, 0.11267319353179059, 0.0032192341009083026, 0.04667889446317039, 0.014486553454087362, 0.3863080921089963, 0.0016096170504541513, 0.3702119216044548, 0.0016096170504541513, 0.004828851151362454, 0.003101259550756943, 0.8218337809505899, 0.12715164158103467, 0.003101259550756943, 0.006202519101513886, 0.015506297753784716, 0.00930377865227083, 0.012405038203027772, 0.928465746470197, 0.04421265459381891, 0.197851624839618, 0.3664520854319003, 0.09059735593272035, 0.06540885338640348, 0.045095544881309235, 0.08775349274200715, 0.06012739317507898, 0.023969704036011213, 0.03818901998957719, 0.0243759702061131, 0.9647005224026045, 0.02473591083083601, 0.26876554956484305, 0.10009199776897604, 0.2071348287163532, 0.0736788316910518, 0.09823844225473574, 0.05375310991296861, 0.08897066468353425, 0.03475416589200557, 0.04911922112736787, 0.025949777199364157, 0.08711083619953316, 0.018666607757042823, 0.006222202585680941, 0.7777753232101176, 0.06222202585680941, 0.012444405171361882, 0.031111012928404704, 0.8392918006611659, 0.008928636177246445, 0.008928636177246445, 0.008928636177246445, 0.026785908531739337, 0.008928636177246445, 0.08928636177246446, 0.19310655750107325, 0.20997175902955126, 0.11004543997331903, 0.09065045821556932, 0.11088870004974294, 0.05354701485291769, 0.14293258295385117, 0.02867084259841262, 0.03457366313337992, 0.02571943233092897, 0.16406815596191274, 0.12978525770121455, 0.11590884650045577, 0.0710145749685891, 0.21712502231775516, 0.0032650379295903033, 0.2163087628353576, 0.004081297411987879, 0.02938534136631273, 0.04897556894385455, 0.013982521170510957, 0.027965042341021915, 0.013982521170510957, 0.1957552963871534, 0.027965042341021915, 0.7270911008665698, 0.9532224184875688, 0.01643486928426843, 0.9544561297673182, 0.005965350811045739, 0.005965350811045739, 0.011930701622091477, 0.011930701622091477, 0.005965350811045739, 0.9476811918594907, 0.027076605481699736, 0.9548240327274702, 0.02784232955452011, 0.0914819399648518, 0.6662271714831598, 0.04772970780774876, 0.05767339693436308, 0.025853591729197246, 0.016904271515244353, 0.016904271515244353, 0.008949320213952892, 0.04076912541911873, 0.11550587123631961, 0.012000609998578661, 0.05250266874378164, 0.5280268399374611, 0.16350831123063425, 0.0015000762498223327, 0.0030001524996446653, 0.009000457498933996, 0.07500381249111664, 0.03750190624555832, 0.02505501742616843, 0.02505501742616843, 0.02505501742616843, 0.02505501742616843, 0.05011003485233686, 0.7767055402112214, 0.05011003485233686, 0.06597087854841387, 0.09472741535156863, 0.059204634594730396, 0.05751307360630953, 0.4668708328041597, 0.005074682965262606, 0.04398058569894258, 0.011840926918946079, 0.010149365930525211, 0.18438014773787467, 0.9099566065194568, 0.0627556280358246, 0.12525931999454887, 0.632820522889127, 0.02479090708225446, 0.07045836749693374, 0.033924399165190314, 0.032619614581913765, 0.010438276666212404, 0.04175310666484962, 0.014352630416042057, 0.013047845832765506, 0.4841542695572698, 0.04948270089663479, 0.19696055454935024, 0.047542202822256956, 0.0611256893429018, 0.00776199229751134, 0.04948270089663479, 0.05142319897101263, 0.018434731706589432, 0.03395871630161211, 0.02266225014154642, 0.033993375212319626, 0.01133112507077321, 0.09064900056618568, 0.06798675042463925, 0.007554083380515473, 0.6572052541048462, 0.018885208451288684, 0.06043266704412378, 0.033993375212319626, 0.014041542446903086, 0.0017551928058628858, 0.0017551928058628858, 0.4177358877953668, 0.0017551928058628858, 0.007020771223451543, 0.5405993842057688, 0.0122863496410402, 0.0017551928058628858, 0.1948378771810337, 0.22878082697800392, 0.16597300648754723, 0.0662822956665245, 0.06788589959394041, 0.052117127641017245, 0.1574204522079957, 0.014699702667979223, 0.029666672657194432, 0.022183187662586826, 0.9796556218334392, 0.007098953781401734, 0.007098953781401734, 0.015529067240728146, 0.031058134481456293, 0.031058134481456293, 0.02329360086109222, 0.854098698240048, 0.031058134481456293, 0.007764533620364073, 0.0012885066440399447, 0.020616106304639115, 0.9225707571326004, 0.0012885066440399447, 0.020616106304639115, 0.009019546508279613, 0.0025770132880798893, 0.0012885066440399447, 0.0012885066440399447, 0.020616106304639115, 0.948668214075708, 0.03330887105569081, 0.05893107956006835, 0.04099553360700407, 0.048682196158317335, 0.010248883401751018, 0.760979592580013, 0.0281844293548153, 0.0025622208504377545, 0.015373325102626526, 0.007686662551313263, 0.9490514344730692, 0.17973788471914187, 0.047669612903772404, 0.10002804019152244, 0.05704724167172764, 0.01641085034392165, 0.010940566895947766, 0.040636391327805985, 0.03985492226380972, 0.5009216700216084, 0.0070332215759664205, 0.040754187097747835, 0.0733575367759461, 0.016301674839099133, 0.008150837419549566, 0.008150837419549566, 0.8558379290527045, 0.033861548471131306, 0.06772309694226261, 0.06772309694226261, 0.8126771633071513, 0.1055492415876823, 0.07916193119076172, 0.8048129671060774, 0.004783987141015509, 0.04783987141015509, 0.8898216082288847, 0.004783987141015509, 0.023919935705077545, 0.019135948564062037, 0.004783987141015509, 0.008357224438526262, 0.0015194953524593202, 0.7886180879263872, 0.0022792430286889803, 0.009876719790985582, 0.0037987383811483007, 0.07825401065165499, 0.0030389907049186405, 0.09952694558608548, 0.006077981409837281, 0.00414884488946911, 0.009334901001305497, 0.7996898524451709, 0.00414884488946911, 0.005186056111836387, 0.0010372112223672775, 0.030079125448651045, 0.002074422444734555, 0.1379490925748479, 0.006223267334203665, 0.9836143534338714, 0.00445074368069625, 0.00445074368069625, 0.00582985165509144, 0.9852449297104533, 0.1353011688237593, 0.3023452075379513, 0.1055844395646308, 0.06416111999130017, 0.08239638567303811, 0.09770500377622551, 0.08509790651477707, 0.05312990988753277, 0.027690588627824284, 0.04660123451999697, 0.9514327723065158, 0.8460080443554038, 0.02794264095903301, 0.02080834965034373, 0.018430252547447304, 0.034482407991998185, 0.012485009790206239, 0.015457631168826773, 0.0023780971028964266, 0.018430252547447304, 0.0029726213786205333, 0.1496976438960044, 0.16741695684696004, 0.08004241367500643, 0.08309746763206775, 0.10814891007997053, 0.022607399282253728, 0.07271028417805929, 0.023829420865078253, 0.2682337374299834, 0.025051442447902778, 0.02639462858247002, 0.01319731429123501, 0.9502066289689207, 0.9807624641305163, 0.02546309269509234, 0.0028292325216769266, 0.005658465043353853, 0.8657451516331396, 0.04809695286850776, 0.005658465043353853, 0.019804627651738488, 0.02546309269509234, 0.05219432880551205, 0.026097164402756026, 0.8612064252909488, 0.026097164402756026, 0.9760854203834671, 0.9535163179610259, 0.9575993625670743, 0.023939984064176856, 0.022344451155493657, 0.06703335346648097, 0.8937780462197462, 0.046561528732674426, 0.9312305746534886, 0.015520509577558142, 0.2738723315064056, 0.10663376492826437, 0.09397580002670781, 0.17721150862179189, 0.0889893290048825, 0.05715262940399781, 0.03950819348061594, 0.08323570859508406, 0.04564538858440094, 0.03337099837683094, 0.9753625277146459, 0.0032951436747116415, 0.006590287349423283, 0.006590287349423283, 0.0032951436747116415, 0.01340333934339924, 0.01340333934339924, 0.04914557759246388, 0.04914557759246388, 0.19658231036985552, 0.00446777978113308, 0.6210213895774981, 0.02680667868679848, 0.0223388989056654, 0.015398250755739726, 0.14166390695280548, 0.4542483972943219, 0.006159300302295891, 0.07237177855197671, 0.004619475226721918, 0.006159300302295891, 0.0030796501511479455, 0.0030796501511479455, 0.2925667643590548, 0.01948586598472597, 0.9548074332515726, 0.16614450021633342, 0.431242710120336, 0.07329904421308828, 0.07146656810776107, 0.06291501294956743, 0.07024491737087626, 0.059860886107355425, 0.014659808842617654, 0.023211364000811287, 0.0268763162114657, 0.9586711296219798, 0.01065190144024422, 0.01065190144024422, 0.01065190144024422, 0.9518792862101997, 0.030460137158726388, 0.007615034289681597, 0.0055511823282110555, 0.0055511823282110555, 0.0055511823282110555, 0.12767719354885426, 0.8548820785445025, 0.9595432080940641, 0.038058375034268226, 0.015223350013707289, 0.038058375034268226, 0.8753426257881691, 0.022835025020560933, 0.07194068049936404, 0.08802153849333955, 0.08505927517865984, 0.0710943195523127, 0.18958485213950055, 0.10071695269910967, 0.29072498531213586, 0.017350399414552506, 0.03300807693500233, 0.05205119824365752, 0.02923573964901353, 0.019490493099342355, 0.009745246549671177, 0.8673269429207348, 0.009745246549671177, 0.048726232748355885, 0.022804447073834076, 0.022804447073834076, 0.0912177882953363, 0.8437645417318609, 0.9598981398419086, 0.18758476093015805, 0.005684386694853274, 0.005684386694853274, 0.7787609771948986, 0.017053160084559822, 0.0691321307816953, 0.898717700162039, 0.10918455213265683, 0.021836910426531367, 0.8188841409949262, 0.010918455213265683, 0.010918455213265683, 0.021836910426531367, 0.1865999679168951, 0.3002243051561708, 0.09698077234788888, 0.07233549356641217, 0.050570831785367795, 0.07233549356641217, 0.11970563979574401, 0.03872829522803483, 0.02816603289311624, 0.03424733544958452, 0.016184458689231483, 0.07283006410154166, 0.03641503205077083, 0.2832280270615509, 0.016184458689231483, 0.040461146723078704, 0.052599490740002315, 0.012138344016923612, 0.46934930198771296, 0.009037818967277575, 0.009037818967277575, 0.7320633363494836, 0.054226913803665455, 0.17171856037827393, 0.012835897650617609, 0.08985128355432326, 0.012835897650617609, 0.7958256543382918, 0.012835897650617609, 0.03850769295185283, 0.03850769295185283, 0.03487228065644259, 0.017436140328221297, 0.03051324557438727, 0.004359035082055324, 0.5535974554210262, 0.004359035082055324, 0.14384815770782572, 0.004359035082055324, 0.026154210492331947, 0.1787204383642683, 0.008902438871702749, 0.9436585204004914, 0.017804877743405497, 0.017804877743405497, 0.003506671272835842, 0.003506671272835842, 0.9397879011200057, 0.003506671272835842, 0.014026685091343367, 0.007013342545671684, 0.007013342545671684, 0.02104002763701505, 0.20723220204655238, 0.004186509132253584, 0.002093254566126792, 0.02302580022739471, 0.014652781962887542, 0.031398818491901875, 0.02302580022739471, 0.3788790764689493, 0.0251190547935215, 0.28886913012549725, 0.9697585129476087, 0.3452813946065511, 0.001613464460778276, 0.004840393382334828, 0.19361573529339313, 0.001613464460778276, 0.003226928921556552, 0.011294251225447933, 0.4162738308807952, 0.014521180147004485, 0.004840393382334828, 0.019085031266853448, 0.0254467083558046, 0.003180838544475575, 0.0127233541779023, 0.0015904192722377875, 0.019085031266853448, 0.003180838544475575, 0.9017677273588255, 0.007952096361188937, 0.004771257816713362, 0.9728638328966285, 0.0976153826414482, 0.20970719690016576, 0.05267812616284125, 0.1677858636751566, 0.11711835301471386, 0.049461141359003626, 0.1516004088808485, 0.047048402756125395, 0.02603747075606085, 0.08092727397154048, 0.9235501887281732, 0.04995842208207293, 0.12345097688049425, 0.0033030361707155655, 0.5268342692291327, 0.006193192820091685, 0.0706023981490452, 0.015689421810898937, 0.1564813385876499, 0.00949622899080725, 0.038397795484568446, 0.9251311052099017, 0.04625655526049508, 0.10322871310393968, 0.1925612532900413, 0.013896172917838033, 0.017866508037220327, 0.019851675596911478, 0.09131770774579279, 0.01588134047752918, 0.023822010716293772, 0.05558469167135213, 0.46452920896772854, 0.9817722111257623, 0.02338066702090961, 0.011690333510454806, 0.9352266808363845, 0.011690333510454806, 0.9738809659035617, 0.9775797205073535, 0.038612286088078686, 0.0077224572176157365, 0.9421397805491198, 0.056095733379232425, 0.056095733379232425, 0.8414360006884865, 0.9409971008193722, 0.03035474518772168, 0.04292011907439416, 0.7101328792308851, 0.003901829006763105, 0.10534938318260384, 0.13656401523670866, 0.16742239761457497, 0.1240165908256111, 0.016535545443414814, 0.5456729996326888, 0.0041338863608537035, 0.006200829541280555, 0.11368187492347684, 0.016535545443414814, 0.0041338863608537035, 0.0020669431804268517, 0.017552048224039413, 0.9712133350635141, 0.005850682741346471, 0.9688020602571167, 0.9491994506199262, 0.019503844363569098, 0.9654402959966704, 0.9811958111736812, 0.210848834773891, 0.10721127191892763, 0.05628591775743701, 0.09649014472703486, 0.028589672511714032, 0.02769624524572297, 0.02233568164977659, 0.3850671516421484, 0.028589672511714032, 0.036630517905633604, 0.8857774933666517, 0.03519645669006563, 0.0029330380575054694, 0.01613170931628008, 0.013198671258774611, 0.01613170931628008, 0.007332595143763674, 0.020531266402538283, 0.0014665190287527347, 0.004399557086258204, 0.9815729211227269, 0.007112847254512514, 0.007112847254512514, 0.972140568854223, 0.8778049461599614, 0.04620026032420849, 0.9542399434465765, 0.019407148189918674, 0.9509502613060151, 0.019407148189918674, 0.981108495425071, 0.00721403305459611, 0.00721403305459611, 0.051189751311437076, 0.003656410807959791, 0.003656410807959791, 0.003656410807959791, 0.003656410807959791, 0.1718513079741102, 0.7605334480556366, 0.08532358049577114, 0.2567191939478026, 0.01197523936782753, 0.3674901581002073, 0.0037422623024461026, 0.005239167223424544, 0.18486775774083747, 0.024698931196144278, 0.05688238699718076, 0.0029938098419568823, 0.9456745311797201, 0.039403105465821674, 0.13275458152641137, 0.321435561227779, 0.11298262257566924, 0.07174396533554997, 0.09603522918931885, 0.12710545039762788, 0.04462813591738935, 0.03841409167572754, 0.03220004743406573, 0.02259652451513385, 0.9628504447480806, 0.01734865666212758, 0.00867432833106379, 0.8653909631903576, 0.00563772614456259, 0.03382635686737554, 0.002818863072281295, 0.00563772614456259, 0.008456589216843885, 0.07610930295159496, 0.09604212974537155, 0.0012005266218171444, 0.5954612044213036, 0.024010532436342887, 0.15606846083622877, 0.0012005266218171444, 0.08043528366174867, 0.0024010532436342887, 0.0324142187890629, 0.010804739596354298, 0.9456089627957812, 0.910678563712986, 0.02396522536086805, 0.02396522536086805, 0.013302194944166545, 0.0066510974720832726, 0.02660438988833309, 0.033255487360416364, 0.7183185269849934, 0.04655768230458291, 0.146324144385832, 0.04015530754781857, 0.04015530754781857, 0.8834167660520086, 0.13743077549153654, 0.1853485277210311, 0.10848046685288357, 0.13876182416457805, 0.08019568255075135, 0.14974297571717057, 0.053907471258181405, 0.058898903782087085, 0.05756785510904557, 0.029283070806913353, 0.020198480366408488, 0.020198480366408488, 0.040396960732816976, 0.8887331361219734, 0.008700194948469258, 0.008700194948469258, 0.13920311917550812, 0.008700194948469258, 0.43326970843376905, 0.0017400389896938516, 0.0017400389896938516, 0.008700194948469258, 0.006960155958775406, 0.3845486167223412, 0.9519587564998, 0.06654257461157675, 0.9232782227356275, 0.02022219880217889, 0.02022219880217889, 0.028311078323050447, 0.7603546749619263, 0.004044439760435778, 0.004044439760435778, 0.004044439760435778, 0.12537763257350912, 0.004044439760435778, 0.032355518083486225, 0.015260533602924887, 0.007630266801462443, 0.9690438837857304, 0.9135492374476152, 0.0077416036983481455, 0.0038708018491740727, 0.0077416036983481455, 0.0038708018491740727, 0.03483721664256666, 0.03483721664256666, 0.05806202773761109, 0.0077416036983481455, 0.8399640012707738, 0.018948950543687604, 0.02526526739158347, 0.018948950543687604, 0.02526526739158347, 0.006316316847895868, 0.012632633695791736, 0.012632633695791736, 0.8842843587054214, 0.008017757485032287, 0.04810654491019372, 0.31269254191625917, 0.027260375449109774, 0.4105091832336531, 0.0016035514970064574, 0.040088787425161435, 0.008017757485032287, 0.0224497209580904, 0.1234734652694972, 0.04846121990047572, 0.8783596106961225, 0.018172957462678396, 0.01211530497511893, 0.006057652487559465, 0.006057652487559465, 0.018172957462678396, 0.04722234508792888, 0.7765452303348305, 0.09969161740784986, 0.031481563391952586, 0.02098770892796839, 0.005246927231992098, 0.02098770892796839, 0.9535862431153268, 0.9068516323817168, 0.017781404556504253, 0.017781404556504253, 0.017781404556504253, 0.017781404556504253, 0.017781404556504253, 0.979472707310482, 0.2906659911275355, 0.028136859410493757, 0.15120503578856645, 0.06483711081548561, 0.07584718623698317, 0.015903442275496473, 0.1675978147494628, 0.041348949916290824, 0.08049588474828213, 0.08392124154608138, 0.9282279416983574, 0.0028473249745348387, 0.017083949847209033, 0.005694649949069677, 0.017083949847209033, 0.008541974923604517, 0.017083949847209033, 0.9752217232289341, 0.012344578775049799, 0.11339950517129252, 0.2906860555095104, 0.11339950517129252, 0.12042708013965431, 0.05558172929522506, 0.08752525187868775, 0.08369202916867223, 0.06931744400611402, 0.037693356648485964, 0.028429735099281785, 0.02025279114493802, 0.9721339749570249, 0.1317603110174498, 0.06047535339381843, 0.14081700645323905, 0.22904674908576642, 0.16506557810390055, 0.024248571650661497, 0.1130626172145301, 0.04674423450729927, 0.0628125651191834, 0.0257093289790146, 0.0017934606756925856, 0.014347685405540685, 0.0017934606756925856, 0.0017934606756925856, 0.005380382027077757, 0.22238912378588063, 0.7496665624395008, 0.0017934606756925856, 0.0017934606756925856, 0.10639933938998032, 0.3982862971817445, 0.028449021227267463, 0.2179195026008688, 0.01593145188726978, 0.0381216884445384, 0.06884663136998727, 0.06486376839816982, 0.051208238209081436, 0.010810628066361636, 0.012343365113593102, 0.9751258439738552, 0.006053531774570795, 0.03632119064742476, 0.01210706354914159, 0.7748520671450617, 0.006053531774570795, 0.060535317745707945, 0.09685650839313271, 0.006053531774570795, 0.011092048559799983, 0.022184097119599965, 0.011092048559799983, 0.9539161761427984, 0.057986833369479115, 0.8698025005421867, 0.13115777158189199, 0.13198266322706112, 0.07424024806522188, 0.08331405616208233, 0.06929089819420708, 0.11383504703334021, 0.24416792697006307, 0.08001448958140579, 0.03794501567778007, 0.03299566580676528, 0.9353655268819338, 0.9341947387336701, 0.9103850388950584, 0.01979097910641431, 0.03958195821282862, 0.06171116926435835, 0.9256675389653752, 0.04492225511555719, 0.8984451023111438, 0.04794300152116726, 0.04109400130385765, 0.027396000869238435, 0.006849000217309609, 0.027396000869238435, 0.013698000434619217, 0.7670880243386762, 0.006849000217309609, 0.006849000217309609, 0.06164100195578648, 0.13649570548760337, 0.8189742329256202, 0.9586824022848961, 0.006611602774378594, 0.01983480832313578, 0.006611602774378594, 0.007585574728872155, 0.007585574728872155, 0.9557824158378915, 0.01517114945774431, 0.006518296571348864, 0.006518296571348864, 0.8995249268461432, 0.013036593142697728, 0.05214637257079091, 0.013036593142697728, 0.9724514721001128, 0.21677831881969303, 0.31246351191466976, 0.07027726046523713, 0.07892676944557402, 0.04324754490168439, 0.08054855237938718, 0.06433072304125553, 0.0600059685510871, 0.027029715563552745, 0.045409922146768616, 0.10729372533950923, 0.012622791216412852, 0.006311395608206426, 0.018934186824619278, 0.009467093412309639, 0.018934186824619278, 0.037868373649238556, 0.7731459620052872, 0.003155697804103213, 0.006311395608206426, 0.03193220741461891, 0.0593026709128637, 0.009123487832748262, 0.022808719581870654, 0.022808719581870654, 0.8439226245292142, 0.004561743916374131, 0.004561743916374131, 0.01567455458550974, 0.8777750567885456, 0.09404732751305846, 0.01567455458550974, 0.8961814227438637, 0.044809071137193186, 0.008961814227438638, 0.03584725690975455, 0.004480907113719319, 0.004480907113719319, 0.004480907113719319, 0.09343395492786268, 0.1261622329251931, 0.0068623808704079935, 0.6281717873681163, 0.0021115018062793827, 0.02164289351436367, 0.027449523481631974, 0.04698091518971626, 0.030616776191051045, 0.01583626354709537, 0.158525429403807, 0.014861759006606906, 0.004953919668868969, 0.797581066687904, 0.004953919668868969, 0.014861759006606906, 0.004953919668868969, 0.012428352296831318, 0.03231371597176143, 0.004971340918732528, 0.004971340918732528, 0.002485670459366264, 0.7432154673505129, 0.1988536367493011, 0.02209080419359904, 0.13254482516159424, 0.08590868297510738, 0.017181736595021476, 0.17918096734808112, 0.01963627039431026, 0.09327228437297373, 0.07118148017937469, 0.04418160838719808, 0.3362711305025632, 0.10872553794221963, 0.03624184598073987, 0.7973206115762773, 0.03624184598073987, 0.01960236021277034, 0.0532064062918052, 0.2128256251672208, 0.008401011519758717, 0.1806217476748124, 0.0028003371732529055, 0.10781298117023687, 0.00980118010638517, 0.011201348693011622, 0.3948475414286597, 0.022904922751804224, 0.81312475768905, 0.005726230687951056, 0.022904922751804224, 0.017178692063853168, 0.02863115343975528, 0.08589346031926584, 0.005726230687951056, 0.01784819718561938, 0.01784819718561938, 0.02677229577842907, 0.01784819718561938, 0.892409859280969, 0.00892409859280969, 0.93343843291788, 0.015820990388438642, 0.031641980776877285, 0.023278995310269696, 0.023278995310269696, 0.9427993100659227, 0.04520647802017243, 0.015068826006724143, 0.005022942002241381, 0.005022942002241381, 0.005022942002241381, 0.9242213284124141, 0.9574324562506673, 0.01877318541667975, 0.7186061042707079, 0.020679312353113898, 0.07927069735360327, 0.017232760294261584, 0.041358624706227795, 0.0017232760294261583, 0.04480517676508011, 0.022402588382540056, 0.031018968529670846, 0.020679312353113898, 0.12618296016187233, 0.17971512507903029, 0.058789788257235964, 0.19309816630831977, 0.004779657581889103, 0.047079627181607665, 0.13693718972112282, 0.06380842871821953, 0.17875919356265246, 0.010993212438344937, 0.9647330697859928, 0.012329070735968973, 0.08784462899377893, 0.007705669209980608, 0.3436728467651351, 0.016952472261957337, 0.38528346049903034, 0.003082267683992243, 0.06935102288982546, 0.06318648752184099, 0.01078793689397285, 0.9547564840052144, 0.001998379801301964, 0.003996759602603928, 0.9572239248236407, 0.011990278807811785, 0.001998379801301964, 0.001998379801301964, 0.01998379801301964, 0.109460354282925, 0.015202826983739584, 0.109460354282925, 0.0182433923804875, 0.0030405653967479165, 0.22500183935934584, 0.0030405653967479165, 0.5168961174471458, 0.0030405653967479165, 0.012027259460601144, 0.01485720286309553, 0.17757894850652278, 0.00636737265561237, 0.39689956219983774, 0.014149717012471934, 0.1521094578840733, 0.004244915103741581, 0.042449151037415804, 0.17828643435714636, 0.05889628982084393, 0.10356482423552894, 0.0559183875265316, 0.04301414425117815, 0.4308031985771843, 0.020514438027484965, 0.0873518006331618, 0.03937448589146308, 0.051286095068712415, 0.10918975079145224, 0.07442876341936178, 0.9024487564597615, 0.010546785311005375, 0.0035155951036684586, 0.0035155951036684586, 0.0035155951036684586, 0.07031190207336917, 0.168748564976086, 0.5624952165869533, 0.007031190207336917, 0.16523296987241756, 0.02060013987803995, 0.07865507953433436, 0.02809109983369084, 0.03745479977825445, 0.015918289905758144, 0.36799340782135, 0.014981919911301782, 0.4185573875219935, 0.007490959955650891, 0.009363699944563613, 0.0867658269849822, 0.05654402208010076, 0.0867658269849822, 0.12771149814643448, 0.3967830514931208, 0.0068242785269087124, 0.09748969324155303, 0.02827201104005038, 0.02729711410763485, 0.08481603312015114, 0.054797520046971616, 0.9041590807750317, 0.7857756301047145, 0.004414469832048958, 0.11698345054929739, 0.013243409496146875, 0.05518087290061198, 0.013243409496146875, 0.008828939664097916, 0.015309482842877682, 0.0765474142143884, 0.7348551764581287, 0.015309482842877682, 0.08573310392011502, 0.006123793137151073, 0.024495172548604293, 0.0030618965685755366, 0.00918568970572661, 0.0336808622543309, 0.2095128484715858, 0.15752551853367366, 0.21772137425125615, 0.06840438149725282, 0.09967495589599698, 0.09967495589599698, 0.061368502257535394, 0.03596116055855577, 0.021889402079120907, 0.028143516958869734, 0.045806523579607315, 0.9161304715921463, 0.021673615760908743, 0.9536390934799847, 0.08200555257647371, 0.021868147353726324, 0.7763192310572845, 0.016401110515294744, 0.027335184192157906, 0.06560444206117898, 0.005467036838431581, 0.06313273246958831, 0.004073079514166988, 0.002036539757083494, 0.014255778299584456, 0.01629231805666795, 0.014255778299584456, 0.002036539757083494, 0.1955078166800154, 0.5559753536837938, 0.1364481637245941, 0.07973636461986884, 0.03986818230993442, 0.8372318285086228, 0.02677143384195096, 0.04685000922341418, 0.02677143384195096, 0.02677143384195096, 0.08700715998634062, 0.00669285846048774, 0.02007857538146322, 0.00669285846048774, 0.00669285846048774, 0.7496001475746269, 0.9663138545268013, 0.04321763005613196, 0.10918138119443864, 0.018196896865739772, 0.20471508973957245, 0.07051297535474162, 0.036393793731479544, 0.009098448432869886, 0.4640208700763642, 0.020471508973957244, 0.025020733190392188, 0.946155687603975, 0.031021497954228684, 0.01177831313990123, 0.8009252935132837, 0.0029445782849753075, 0.0795036136943333, 0.0029445782849753075, 0.0029445782849753075, 0.017667469709851846, 0.08244819197930861, 0.009301756414719158, 0.765844611478544, 0.1426269316923604, 0.04960936754516884, 0.006201170943146105, 0.0031005854715730526, 0.0031005854715730526, 0.018603512829438316, 0.05860403277969343, 0.8985951692886326, 0.019534677593231145, 0.25980458648862825, 0.09036681269169677, 0.18937162953774692, 0.05814041257737844, 0.09568250755591423, 0.0707651878798949, 0.1079750519294171, 0.03687763312050861, 0.04352225170078043, 0.047509022848943525, 0.037074466946094085, 0.01011121825802566, 0.01011121825802566, 0.7516005571799074, 0.01011121825802566, 0.013481624344034212, 0.11122340083828225, 0.05392649737613685, 0.003370406086008553, 0.9736056889399217, 0.12000441946541325, 0.40610767117103425, 0.09616248182327816, 0.027815593915824263, 0.044504950265318824, 0.16450936973073207, 0.06755215665271606, 0.03655763771794046, 0.028610325170562098, 0.008742043802116196, 0.9310737802772843, 0.006125485396561081, 0.027564684284524864, 0.021439198887963782, 0.009188228094841622, 0.9730483395258732, 0.1613146219423632, 0.1535384299102698, 0.2870573016102566, 0.049635268289957915, 0.12574267966789338, 0.0451680941438617, 0.04582989772106114, 0.05013162097285749, 0.02250132162478092, 0.059231420159349776, 0.9533811945621521, 0.037882696472668294, 0.9733310707464333, 0.13945548242527486, 0.7670051533390118, 0.03254990296277342, 0.028720502614211843, 0.07275860662267, 0.024891102265650264, 0.13402901219965527, 0.055526305054142897, 0.5112249465329708, 0.003829400348561579, 0.021061701917088685, 0.11296731028256658, 0.9815286099012305, 0.006961195814902344, 0.006961195814902344, 0.004745317879797731, 0.004745317879797731, 0.0616891324373705, 0.18981271519190923, 0.123378264874741, 0.033217225158584114, 0.5741834634555254, 0.9681786189630623, 0.9741031658547673, 0.03628257803298816, 0.10498788537205085, 0.6739295877191205, 0.01466742516227181, 0.026246971343012713, 0.05017803344987724, 0.03319469905145725, 0.011579546180740903, 0.01466742516227181, 0.03319469905145725, 0.9191514657927488, 0.005192946134422309, 0.007789419201633464, 0.0025964730672111544, 0.0025964730672111544, 0.0025964730672111544, 0.018175311470478083, 0.038947096008167315, 0.9717495185506281, 0.975102595031936, 0.015899680104301227, 0.021199573472401635, 0.005299893368100409, 0.06889861378530532, 0.7684845383745592, 0.11659765409820899, 0.014494591835495675, 0.9566430611427146, 0.014494591835495675, 0.11893877288766867, 0.06722626293650838, 0.018099378482906103, 0.0025856254975580146, 0.023270629478022133, 0.005171250995116029, 0.7420745177991502, 0.0025856254975580146, 0.0025856254975580146, 0.018099378482906103, 0.019549152886720912, 0.019549152886720912, 0.09774576443360455, 0.009774576443360456, 0.8406135741289992, 0.020272597332046685, 0.8392855295467327, 0.11758106452587076, 0.004054519466409337, 0.004054519466409337, 0.004054519466409337, 0.004054519466409337, 0.004054519466409337, 0.032082284193097305, 0.032082284193097305, 0.042776378924129735, 0.8020571048274325, 0.010694094731032434, 0.010694094731032434, 0.06416456838619461, 0.047582198304508924, 0.10536058195998405, 0.022091734927093428, 0.6304641275347432, 0.015294278026449297, 0.027189827602576527, 0.006797456900644132, 0.11045867463546714, 0.03228792027805963, 0.003398728450322066, 0.1252452098863981, 0.09335157990102061, 0.10374388630075035, 0.07722558721178481, 0.12918711921043352, 0.05482837514340174, 0.324849163839828, 0.018096947351253515, 0.06593739232931974, 0.0073462855584296455, 0.005759916831841654, 0.1612776712915663, 0.017279750495524965, 0.02879958415920827, 0.6796701861573152, 0.0748789188139415, 0.005759916831841654, 0.023039667327366616, 0.97928943452099, 0.0074188593524317425, 0.16144676973838373, 0.004892326355708598, 0.034246284489960185, 0.014676979067125794, 0.6800333634434952, 0.05381558991279458, 0.014676979067125794, 0.02446163177854299, 0.004892326355708598, 0.6379627038589966, 0.0021736378325689833, 0.27061791015483844, 0.008694551330275933, 0.023910016158258815, 0.0010868189162844917, 0.009781370246560424, 0.003260456748853475, 0.0260836539908278, 0.017389102660551867, 0.9291134100951022, 0.008497988506967398, 0.031867456901127744, 0.007081657089139499, 0.0049571599623976495, 0.0007081657089139499, 0.0021244971267418496, 0.0028326628356557994, 0.007081657089139499, 0.0049571599623976495, 0.9381015597983542, 0.017925507512070463, 0.011950338341380307, 0.005975169170690154, 0.005975169170690154, 0.011950338341380307, 0.9727940045309255, 0.01888920397147428, 0.0029053768291803558, 0.06972904390032854, 0.008716130487541067, 0.0029053768291803558, 0.5374947133983657, 0.37188823413508554, 0.0029053768291803558, 0.0029053768291803558, 0.9495459511126153, 0.015300924322530414, 0.010200616215020277, 0.06630400539763179, 0.005100308107510138, 0.005100308107510138, 0.015300924322530414, 0.8823533025992539, 0.02529020335689647, 0.9610277275620659, 0.9510103995160912, 0.9492770924413649, 0.007717437708641842, 0.007717437708641842, 0.015434875417283684, 0.9338099627456629, 0.030869750834567368, 0.021131374091261913, 0.9192147729698932, 0.010565687045630956, 0.010565687045630956, 0.03169706113689287, 0.9698658150862327, 0.9590547551125129, 0.14426183983204383, 0.12320740915385366, 0.04834721118695523, 0.09123586627215745, 0.01637566830525903, 0.247974405765351, 0.11073070949270392, 0.14426183983204383, 0.028072574237586908, 0.046007830000489656, 0.02236992131484169, 0.02236992131484169, 0.055924803287104224, 0.016777440986131268, 0.10625712624549803, 0.06151728361581465, 0.6431352378016986, 0.002796240164355211, 0.008388720493065634, 0.06151728361581465, 0.9730618540359869, 0.6874946285688797, 0.06380938169351877, 0.07547346221814048, 0.019897549130237037, 0.03533530276576577, 0.0034306119190063854, 0.06826917718822707, 0.010634896948919795, 0.017496120786932565, 0.017839181978833205, 0.051077123438116545, 0.00265335706172034, 0.016583481635752125, 0.7979971363123922, 0.00132667853086017, 0.00132667853086017, 0.00530671412344068, 0.024543552820913146, 0.09684753275279241, 0.00265335706172034, 0.06059339488908403, 0.004661030376083387, 0.011652575940208468, 0.7341122842331335, 0.06758494045320912, 0.11885627459012638, 0.0023305151880416933, 0.014093493157454989, 0.007046746578727494, 0.007046746578727494, 0.2114023973618248, 0.06342071920854744, 0.007046746578727494, 0.007046746578727494, 0.6835344181365669, 0.5986225879345888, 0.022724933408106267, 0.04126369487261401, 0.04963603875981106, 0.055018259830152016, 0.011960491267424352, 0.03528344923890184, 0.08551751256208412, 0.050234063323182275, 0.04963603875981106, 0.9488451299391143, 0.042883134707273014, 0.021441567353636507, 0.8147795594381873, 0.10720783676818255, 0.9698761048025422, 0.965859208800036, 0.04710071616662932, 0.8949136071659571, 0.07832564884582809, 0.016893767398119784, 0.02184244673696295, 0.007337696950698492, 0.15852838295811392, 0.007849629296096061, 0.6023737264178064, 0.0023890176118553227, 0.019794717355372676, 0.08463948110573144, 0.14272721165755864, 0.00751195850829256, 0.00751195850829256, 0.8263154359121816, 0.01502391701658512, 0.9052004763530661, 0.02920001536622794, 0.02920001536622794, 0.9765509517332317, 0.07159038545928306, 0.06670922281433195, 0.09192856314657939, 0.013829960827361501, 0.022778759009771884, 0.28148037919218116, 0.12528317455374535, 0.2961238671270345, 0.011389379504885942, 0.017897596364820766, 0.14052056519843986, 0.0036979096104852597, 0.0036979096104852597, 0.04807282493630838, 0.02588536727339682, 0.6286446337824941, 0.14791638441941038, 0.02919660239016752, 0.9342912764853606, 0.0021872460942785857, 0.0153107226599501, 0.0021872460942785857, 0.008748984377114343, 0.9208306056912846, 0.008748984377114343, 0.0306214453199002, 0.0021872460942785857, 0.008748984377114343, 0.9518256738620904, 0.023631452594022846, 0.16542016815815994, 0.04253661466924112, 0.009452581037609138, 0.06616806726326398, 0.023631452594022846, 0.14415186082353937, 0.5057130855120889, 0.0023631452594022845, 0.016542016815815994, 0.07685501411712398, 0.036405006687058726, 0.004045000743006525, 0.012135002229019575, 0.8130451493443115, 0.05258500965908482, 0.36741962533573724, 0.13337396521785924, 0.16479379356245108, 0.10516024180638903, 0.05193889991657019, 0.05193889991657019, 0.04552669005032695, 0.027572502424845904, 0.035908375250962105, 0.01538930367898376, 0.17351643481866288, 0.01842652405153942, 0.1243790373478911, 0.01842652405153942, 0.11977240633500624, 0.0015355436709616186, 0.012284349367692949, 0.0061421746838464745, 0.5205493044559887, 0.0030710873419232372, 0.44940571453399125, 0.0037796948236668735, 0.19276443600701054, 0.04762415477820261, 0.021922229977267865, 0.0022678168942001243, 0.059341208731569915, 0.05253775804896954, 0.11981632591023988, 0.050647910637136105, 0.08261115267827276, 0.02753705089275759, 0.02753705089275759, 0.8536485776754853, 0.9740245929322939, 0.00421655667936058, 0.00421655667936058, 0.00421655667936058, 0.01264967003808174, 0.015509783305110991, 0.046529349915332974, 0.922832106654104, 0.007754891652555496, 0.007754891652555496, 0.014673866796294377, 0.9538013417591346, 0.9859247086535327, 0.011466228423725432, 0.02866557105931358, 0.022932456847450863, 0.005733114211862716, 0.06306425633048987, 0.005733114211862716, 0.7281055049065649, 0.011466228423725432, 0.05733114211862716, 0.06879737054235259, 0.8910228533883044, 0.07655363656843728, 0.08221429279356819, 0.06631054435153369, 0.12857776282797387, 0.19219275659611187, 0.10997846380254368, 0.09461382547718832, 0.09326605018549047, 0.08221429279356819, 0.07412764104338117, 0.08300909087131562, 0.00897395576987196, 0.005608722356169975, 0.01346093365480794, 0.05272199014799776, 0.00224348894246799, 0.00224348894246799, 0.15367899255905731, 0.6124724812937612, 0.06506117933157171, 0.12987276513367543, 0.006635834714859328, 0.009479763878370469, 0.004739881939185234, 0.03697107912564483, 0.038867031901318926, 0.013271669429718656, 0.14124848178771998, 0.49768760361444964, 0.11944502486746791, 0.22296245542269413, 0.11100683950832006, 0.13437045850740026, 0.1719657235972907, 0.06510978086545696, 0.04791320850572789, 0.05348726989129524, 0.06854909533740278, 0.06677013957605149, 0.05787536076929507, 0.0016764318243498687, 0.13076168229928975, 0.0016764318243498687, 0.01341145459479895, 0.0033528636486997374, 0.32355134209952463, 0.005029295473049606, 0.5046059791293105, 0.01341145459479895, 0.08142001927217032, 0.03809560534752923, 0.023903124923939912, 0.29654814358762954, 0.05602294904048417, 0.4265213853615528, 0.050047167809499186, 0.01045761715422371, 0.012698535115843079, 0.004481835923238734, 0.02815975000678766, 0.02815975000678766, 0.02815975000678766, 0.08447925002036298, 0.8447925002036298, 0.10012621142732372, 0.04061723671108415, 0.10295997212809703, 0.17097022894665653, 0.01889173800515542, 0.14357720883918118, 0.004722934501288855, 0.26448433207217587, 0.12279629703351022, 0.03117136770850644, 0.005100794750206331, 0.010201589500412661, 0.8875382865359015, 0.020403179000825323, 0.020403179000825323, 0.051007947502063306, 0.9785578707509698, 0.07019740510792938, 0.017549351276982345, 0.017549351276982345, 0.8599182125721349, 0.017549351276982345, 0.017549351276982345, 0.008287163422536934, 0.01657432684507387, 0.19889192214088644, 0.09115879764790628, 0.008287163422536934, 0.01657432684507387, 0.6546859103804178, 0.10548345904082208, 0.7965819837910357, 0.010912081969740216, 0.010912081969740216, 0.007274721313160144, 0.014549442626320288, 0.02182416393948043, 0.025461524596060502, 0.007274721313160144, 0.011165302199690329, 0.044661208798761315, 0.9267200825742973, 0.9728787233469922, 0.976617450182905, 0.008642632302503585, 0.007184712628591142, 0.1221401146860494, 0.014369425257182284, 0.017961781571477854, 0.06825476997161585, 0.04670063208584242, 0.6466241365732027, 0.021554137885773424, 0.014369425257182284, 0.03233120682866014, 0.017470416811063975, 0.9608729246085186, 0.9134329575242512, 0.030447765250808376, 0.19669288260418705, 0.295269105311192, 0.1153502652655396, 0.06227076073099847, 0.060432509491707004, 0.08915518510563619, 0.07261092395201298, 0.050551909080515364, 0.03561611776127219, 0.021599452061674747, 0.9720925708510574, 0.14869332648945532, 0.8029439630430588, 0.9291863244692566, 0.11754366568955926, 0.1206574051780244, 0.0459276574548609, 0.3526309970686778, 0.049819831815442334, 0.07784348721162865, 0.05993948515295406, 0.07940035695586121, 0.047484527199093476, 0.04826296207120976, 0.03672222329159998, 0.9180555822899994, 0.15359253927435262, 0.02630009234149874, 0.13395513699270023, 0.2391555063586952, 0.13114979380960703, 0.016481391200672543, 0.08345895969702266, 0.08205628810547606, 0.09573233612305541, 0.037872132971758184, 0.1796988115194423, 0.12735253015796255, 0.10855705329327014, 0.12664989550881517, 0.10434124539838587, 0.046900862830587586, 0.08080298465194864, 0.1013550481395095, 0.057967358554658815, 0.06675029166900105, 0.01555980878687211, 0.20227751422933746, 0.04667942636061633, 0.01555980878687211, 0.700191395409245, 0.01658224245550514, 0.01658224245550514, 0.012436681841628857, 0.004145560613876285, 0.004145560613876285, 0.024873363683257713, 0.00829112122775257, 0.004145560613876285, 0.9078777744389065, 0.015005624836616126, 0.02250843725492419, 0.007502812418308063, 0.007502812418308063, 0.015005624836616126, 0.015005624836616126, 0.9153431150335837, 0.012933611092417972, 0.025867222184835944, 0.944153609746512, 0.015798874478702995, 0.12639099582962396, 0.005266291492900999, 0.8320740558783578, 0.005266291492900999, 0.005266291492900999, 0.005266291492900999, 0.13520094045726658, 0.09013396030484438, 0.7210716824387551, 0.08266494509435789, 0.1721375915494276, 0.0029175862974479255, 0.004862643829079876, 0.0029175862974479255, 0.33357736667487947, 0.004862643829079876, 0.3783136899024143, 0.0038901150632639006, 0.014587931487239627, 0.04065885378921835, 0.013552951263072785, 0.9080477346258766, 0.02710590252614557, 0.9637014759811995, 0.03493229140334927, 0.006986458280669853, 0.013972916561339706, 0.02794583312267941, 0.013972916561339706, 0.8942666599257412, 0.0126984012469193, 0.003174600311729825, 0.060317405922866676, 0.00634920062345965, 0.04126980405248772, 0.0253968024938386, 0.05714280561113685, 0.003174600311729825, 0.7904754776207265, 0.003174600311729825, 0.0014357946109804969, 0.035894865274512425, 0.8729631234761421, 0.007178973054902484, 0.014357946109804969, 0.015793740720785467, 0.025844302997648946, 0.0014357946109804969, 0.0028715892219609938, 0.021536919164707454, 0.9702963052150669, 0.00525878150692541, 0.06573476883656762, 0.6704946421329897, 0.002629390753462705, 0.0552172058227168, 0.02103512602770164, 0.002629390753462705, 0.002629390753462705, 0.002629390753462705, 0.17353978972853853, 0.18648425708466815, 0.037704467279413775, 0.2815946249967029, 0.13111643576444793, 0.1508178691176551, 0.014266555186805214, 0.030231509800611046, 0.03328862876921217, 0.049253583383017996, 0.08491997135003103, 0.043015127424029805, 0.08603025484805961, 0.8172874210565664, 0.014869949537349623, 0.8475871236289285, 0.10408964676144737, 0.022304924306024435, 0.007434974768674812, 0.004884018089966026, 0.09768036179932052, 0.019536072359864105, 0.034188126629762186, 0.08791232561938847, 0.7228346773149719, 0.009768036179932053, 0.004884018089966026, 0.014652054269898079, 0.004884018089966026, 0.26298341733250186, 0.05016032483181234, 0.10891956249193536, 0.12325108387245318, 0.010748641035388359, 0.09745434538752112, 0.006449184621233016, 0.2128230925006895, 0.0695078786955114, 0.057326085522071246, 0.014655047488235705, 0.9379230392470851, 0.02931009497647141, 0.9572716469624306, 0.1445157076036273, 0.11679228614497228, 0.12446046654843006, 0.15100416794501467, 0.18875520993126832, 0.0654744634449087, 0.06370488335180306, 0.06429474338283828, 0.043059782265570584, 0.038340902017288875, 0.18785500539104813, 0.7514200215641925, 0.033775051951246235, 0.3679324808305973, 0.049584650736935965, 0.012935126279200687, 0.010419962836022775, 0.30146030411803826, 0.011138580962645035, 0.19438620325132144, 0.004671017823044693, 0.013294435342511818, 0.06331499227365296, 0.025325996909461183, 0.056983493046287664, 0.025325996909461183, 0.05065199381892237, 0.012662998454730592, 0.03798899536419177, 0.7217909119196437, 0.9583381608596058, 0.034264426328789226, 0.9594039372060984, 0.31713649229788315, 0.016412740002060732, 0.21601283615615413, 0.07465149484808267, 0.025942718067773412, 0.002117772903491707, 0.12336027162839194, 0.09741755356061853, 0.08471091613966829, 0.04129657161808829, 0.02388255205143313, 0.007960850683811043, 0.9075369779544589, 0.03980425341905522, 0.007960850683811043, 0.007960850683811043, 0.9632394256450985, 0.003940768221678153, 0.031526145773425225, 0.023644609330068917, 0.003940768221678153, 0.7053975116803893, 0.22068302041397655, 0.003940768221678153, 0.003940768221678153, 0.23707443457975344, 0.0851036431824756, 0.01148223757223877, 0.40525544372607425, 0.047279801768041994, 0.010131386093151855, 0.03512213845625977, 0.12360291033645264, 0.03512213845625977, 0.010131386093151855, 0.9722643102990479, 0.4901059090895244, 0.18247107726427902, 0.05189021259702935, 0.009123553863213951, 0.02480466206561293, 0.0059873322227341555, 0.22352706964874178, 0.001140444232901744, 0.00855333174676308, 0.002565999524028924, 0.026809833271087786, 0.06255627763253817, 0.06851401835944657, 0.06255627763253817, 0.554069887602481, 0.008936611090362596, 0.06255627763253817, 0.002978870363454199, 0.06255627763253817, 0.08936611090362596, 0.9578720519046795, 0.17403650654362537, 0.1409271223719113, 0.09338544253560387, 0.049664076257571146, 0.04669272126780193, 0.12394795100180149, 0.2355860027602734, 0.053059910531593105, 0.027591153476428414, 0.05433334838435134, 0.007903565405359725, 0.1462159599991549, 0.007903565405359725, 0.039517827026798624, 0.04346960972947849, 0.06718030594555766, 0.659947711347537, 0.019758913513399312, 0.007903565405359725, 0.003951782702679862, 0.17412560122642162, 0.14073165030628598, 0.110915622699022, 0.06320997852739962, 0.09123704447822777, 0.056650452453801556, 0.029816027607263977, 0.054265170245220436, 0.2361429386495307, 0.04293507975446013, 0.06699644997950154, 0.046382157678116445, 0.046382157678116445, 0.010307146150692543, 0.0360750115274239, 0.05668930382880899, 0.6235823421168989, 0.020614292301385086, 0.08761074228088662, 0.9622094411490677, 0.04443614036707826, 0.06665421055061739, 0.8665047371580261, 0.0355319180394454, 0.00710638360788908, 0.00710638360788908, 0.0355319180394454, 0.9025107182019132, 0.00710638360788908, 0.9703132142980547, 0.012128915178725684, 0.012128915178725684, 0.7323890535491214, 0.10419555607193685, 0.08154434823021145, 0.024161288364507098, 0.004530241568345081, 0.01661088575059863, 0.015100805227816936, 0.009060483136690162, 0.0015100805227816936, 0.009060483136690162, 0.9875515990452025, 0.8961343049626611, 0.033816388866515515, 0.016908194433257757, 0.016908194433257757, 0.05072458329977327, 0.967278647126757, 0.004562635127956401, 0.011406587819891003, 0.0022813175639782007, 0.004562635127956401, 0.0022813175639782007, 0.006843952691934602, 0.97065398588347, 0.9796581988152772, 0.9356588980335173, 0.020121696731903598, 0.010060848365951799, 0.025152120914879495, 0.022914162322562995, 0.3772653153821979, 0.018003984682013783, 0.013912169981556104, 0.05810376874649903, 0.13502988511510336, 0.3150697319352412, 0.0024550888202746067, 0.04582832464512599, 0.010638718221189962, 0.015348069755125867, 0.010232046503417244, 0.012790058129271555, 0.058834267394649156, 0.033254151136106046, 0.6318288715860149, 0.005116023251708622, 0.21743098819761644, 0.005116023251708622, 0.010232046503417244, 0.02433023835160727, 0.9488792957126836, 0.11963755166309058, 0.0012727399113094742, 0.0394549372505937, 0.14381960997797058, 0.0012727399113094742, 0.0012727399113094742, 0.03818219733928423, 0.5065504847011707, 0.14636508980058954, 0.0025454798226189485, 0.03562954538813483, 0.0020958556110667547, 0.039821256610268335, 0.06077981272093588, 0.7167826189848301, 0.14461403716360607, 0.012468265147304366, 0.9725246814897406, 0.09697435103992602, 0.8404443756793589, 0.02190031536099935, 0.036500525601665584, 0.9344134554026389, 0.9794107484736772, 0.010799582416238603, 0.14039457141110184, 0.010799582416238603, 0.7667703515529408, 0.010799582416238603, 0.021599164832477206, 0.03239874724871581, 0.065021760731715, 0.0364121860097604, 0.0156052225756116, 0.8114715739318032, 0.013004352146343, 0.0104034817170744, 0.0052017408585372, 0.0208069634341488, 0.013004352146343, 0.0104034817170744, 0.011553314353283188, 0.023106628706566375, 0.011553314353283188, 0.9127118339093718, 0.023106628706566375, 0.011553314353283188, 0.9640356532871456, 0.1504044468150746, 0.18134479015988994, 0.05500505483522728, 0.018907987599609377, 0.015470171672407673, 0.33260869095676493, 0.006016177872602984, 0.22431748924991124, 0.004297269909002131, 0.011172901763405541, 0.10708443768762334, 0.03569481256254112, 0.8566755015009867, 0.006017036082815194, 0.054153324745336746, 0.006017036082815194, 0.9206065206707247, 0.9622655527492034, 0.010468418833216704, 0.04187367533286682, 0.010468418833216704, 0.03663946591625846, 0.03663946591625846, 0.7380235277417776, 0.02093683766643341, 0.010468418833216704, 0.09421576949895033, 0.005234209416608352, 0.9607400853161936, 0.020015418444087368, 0.015579936426507712, 0.023369904639761567, 0.09347961855904627, 0.007789968213253856, 0.015579936426507712, 0.007789968213253856, 0.007789968213253856, 0.8335265988181626, 0.9901028882918835, 0.004304795166486451, 0.9157372333867435, 0.0031760771672307096, 0.2382057875423032, 0.002117384778153806, 0.1016344693513827, 0.014821693447076643, 0.29219909938522526, 0.006352154334461419, 0.0645802357336911, 0.27737740593814864, 0.037454003003035426, 0.18727001501517715, 0.037454003003035426, 0.012484667667678476, 0.012484667667678476, 0.012484667667678476, 0.6866567217223162, 0.9537298216814345, 0.9251121997144867, 0.0042097665591989165, 0.010524416397997291, 0.0042097665591989165, 0.006314649838798375, 0.3809838736075019, 0.0042097665591989165, 0.5809477851694504, 0.0021048832795994583, 0.0042097665591989165, 0.07648308935084203, 0.07880075872510996, 0.01390601624560764, 0.5724643354441812, 0.00231766937426794, 0.02781203249121528, 0.00231766937426794, 0.14601317057888022, 0.07184775060230614, 0.0115883468713397, 0.9844435499552432, 0.04312359560394183, 0.021561797801970914, 0.9055955076827784, 0.004451485964785287, 0.03412805906335387, 0.0014838286549284292, 0.005935314619713717, 0.0014838286549284292, 0.4644383689925983, 0.0029676573098568583, 0.4837281415066679, 0.0014838286549284292, 0.0014838286549284292, 0.018235193244223114, 0.9482300486996019, 0.05029194862297621, 0.9052550752135718, 0.03339920378527645, 0.03339920378527645, 0.9351777059877406, 0.9825320820208598, 0.002872900824622397, 0.002872900824622397, 0.002872900824622397, 0.005745801649244794, 0.002872900824622397, 0.004181165834652461, 0.9679398907220447, 0.006271748751978692, 0.008362331669304921, 0.010452914586631152, 0.8536605738517836, 0.05659628113934477, 0.002358178380806032, 0.030656318950478417, 0.004716356761612064, 0.009432713523224128, 0.030656318950478417, 0.01179089190403016, 0.06743238239519592, 0.0013222035763763905, 0.1983305364564586, 0.09123204676997095, 0.005288814305505562, 0.01718864649289308, 0.02512186795115142, 0.13618696836676825, 0.45616023384985477, 0.002644407152752781, 0.10198168214810195, 0.0019241826820396593, 0.07119475923546739, 0.19626663356804525, 0.017317644138356934, 0.0019241826820396593, 0.005772548046118978, 0.09236076873790365, 0.513756776104589, 0.0019241826820396593, 0.7513742097144903, 0.005870111013394456, 0.12914244229467803, 0.1056619982411002, 0.04545111531278922, 0.04545111531278922, 0.8635711909429952, 0.08466187891357603, 0.018141831195766293, 0.006047277065255431, 0.8224296808747386, 0.012094554130510861, 0.048378216522043445, 0.006047277065255431, 0.9415824862192291, 0.01964944912016864, 0.01964944912016864, 0.01964944912016864, 0.9038746595277574, 0.01964944912016864, 0.0740345992479621, 0.015365671542029872, 0.006984396155468123, 0.005587516924374499, 0.022350067697497995, 0.013968792310936246, 0.013968792310936246, 0.020953188466404368, 0.8227618671141449, 0.004190637693280874, 0.002839967620488214, 0.005679935240976428, 0.019879773343417496, 0.002839967620488214, 0.6787522612966831, 0.056799352409764275, 0.002839967620488214, 0.23003737725954532, 0.025150907943939028, 0.025150907943939028, 0.07545272383181709, 0.855130870093927, 0.011164927596135443, 0.027912318990338608, 0.016747391394203167, 0.7592150765372102, 0.011164927596135443, 0.0055824637980677215, 0.08931942076908354, 0.011164927596135443, 0.06698956557681267, 0.05654377181096051, 0.0777476862400707, 0.028271885905480253, 0.03180587164366528, 0.01766992869092516, 0.010601957214555095, 0.007067971476370063, 0.0035339857381850317, 0.7668749051861519, 0.07156871448051863, 0.03271712661966566, 0.051120510343227586, 0.030672306205936552, 0.0061344612411873105, 0.024537844964749242, 0.07361353489424773, 0.008179281654916415, 0.6993285814953534, 0.0020448204137291036, 0.964739130155688, 0.0070269789541794496, 0.021080936862538348, 0.021080936862538348, 0.0070269789541794496, 0.9416151798600462, 0.0070269789541794496, 0.03200100695593506, 0.5347265033282051, 0.014452067657519057, 0.11148737907228987, 0.1032290546965647, 0.1538112914978814, 0.024774973127175526, 0.0061937432817938814, 0.013419777110553411, 0.0061937432817938814, 0.012448674363040708, 0.6411067296965965, 0.009336505772280531, 0.052906866042923016, 0.03423385449836195, 0.21473963276245223, 0.012448674363040708, 0.015560842953800887, 0.009336505772280531, 0.03855456413427, 0.025548205149215058, 0.20995979504445828, 0.01765148719400313, 0.36835866696959163, 0.004180615388053373, 0.14585702576097323, 0.0032515897462637344, 0.012541846164160118, 0.17372779501466237, 0.9036676580256743, 0.03614670632102697, 0.03614670632102697, 0.007048453778243001, 0.010572680667364501, 0.9585897138410482, 0.010572680667364501, 0.0035242268891215005, 0.007048453778243001, 0.006806467813232927, 0.02041940343969878, 0.9665184294790756, 0.9751396704520114, 0.008629554605770012, 0.008629554605770012, 0.9494183166496145, 0.02498469254341091, 0.942667677003555, 0.05784176333068033, 0.009037775520418801, 0.041573767393926486, 0.7718260294437655, 0.05603420822659656, 0.009037775520418801, 0.0036151102081675205, 0.03434354697759144, 0.007230220416335041, 0.010845330624502561, 0.09730055023573589, 0.08500995441648504, 0.15670509669544833, 0.02970227322985622, 0.11676066028288307, 0.04711395064046159, 0.05428346486835792, 0.018435893728876274, 0.38203268671504725, 0.013314812137521753, 0.13935550647508424, 0.10510052164321997, 0.10393273806940641, 0.13351658860601648, 0.09809382020033863, 0.06578514132483028, 0.09342268590508442, 0.10393273806940641, 0.06306031298593198, 0.0938119470963556, 0.04560922287348265, 0.912184457469653, 0.011402305718370663, 0.011402305718370663, 0.03020500289673532, 0.9061500869020596, 0.03020500289673532, 0.03020500289673532, 0.04117898046732284, 0.10523517230538058, 0.07320707638635171, 0.038891259330249346, 0.48270915992250657, 0.002287721137073491, 0.0503298650156168, 0.016014047959514437, 0.018301769096587928, 0.1761545275546588, 0.03080634270461614, 0.013394062045485277, 0.008036437227291167, 0.5478171376603479, 0.0066970310227426385, 0.048218623363747, 0.0013394062045485279, 0.30538461463706434, 0.028127530295519083, 0.009375843431839694, 0.961650083195786, 0.0050206708287090255, 0.12049609988901662, 0.7907556555216716, 0.020082683314836102, 0.0050206708287090255, 0.01757234790048159, 0.01757234790048159, 0.0025103354143545128, 0.022593018729190617, 0.06433937152531252, 0.002382939686122686, 0.0071488190583680585, 0.781604217048241, 0.028595276233472234, 0.002382939686122686, 0.05004173340857641, 0.028595276233472234, 0.03574409529184029, 0.9529958638146862, 0.9710457045604126, 0.9401127593216275, 0.02186308742608436, 0.19738792546730077, 0.2295208435666288, 0.1164818281100641, 0.07918469103048693, 0.05307669507478291, 0.05996232038178177, 0.14058151668456012, 0.02065687592099659, 0.0573802108916572, 0.045904168713325755, 0.09934522238962554, 0.12051715503003753, 0.039086644874606766, 0.22040524748736595, 0.08740208090016235, 0.17588990193573045, 0.08034477002002502, 0.10911688360827723, 0.019543322437303383, 0.04885830609325846, 0.9761160985432372, 0.04343204706984278, 0.17372818827937112, 0.7600608237222486, 0.016044858175255066, 0.0040112145438137665, 0.016044858175255066, 0.0040112145438137665, 0.13237007994585429, 0.0040112145438137665, 0.008022429087627533, 0.8142765523941946, 0.0033342058641066714, 0.0033342058641066714, 0.0033342058641066714, 0.9902591416396814, 0.10212086763298338, 0.10212086763298338, 0.7659065072473753, 0.04565088282406137, 0.0035116063710816437, 0.0561857019373063, 0.6777400296187572, 0.010534819113244932, 0.0035116063710816437, 0.0035116063710816437, 0.16504549944083727, 0.017558031855408218, 0.017558031855408218, 0.04916511016122358, 0.06847997486741857, 0.026338451872084064, 0.059700490910057205, 0.2300224796828675, 0.06321228449300174, 0.3968326748727332, 0.04565331657827904, 0.012291277540305895, 0.04916511016122358, 0.957109825860777, 0.3507071505297753, 0.03757576612819021, 0.4963132442765124, 0.0046969707660237765, 0.03757576612819021, 0.003131313844015851, 0.04696970766023777, 0.0015656569220079254, 0.009393941532047553, 0.010959598454055478, 0.16681406656470774, 0.007943526979271797, 0.003971763489635898, 0.01985881744817949, 0.6434256853210155, 0.023830580937815392, 0.04368939838599488, 0.003971763489635898, 0.08737879677198976, 0.9764743674077908, 0.00921338474345334, 0.023033461858633354, 0.027640154230360023, 0.002303346185863335, 0.034550192787950025, 0.041460231345540034, 0.7209473561752239, 0.020730115672770017, 0.11977400166489344, 0.013283503943145522, 0.026567007886291044, 0.9298452760201865, 0.013283503943145522, 0.8595110885610971, 0.03462128728004419, 0.046663474160059566, 0.007526366800009607, 0.007526366800009607, 0.006021093440007686, 0.014300096920018254, 0.015805370280020176, 0.002257910040002882, 0.005268456760006725, 0.9682519903120544, 0.9758920315210169, 0.0032101711563191347, 0.0032101711563191347, 0.006420342312638269, 0.0032101711563191347, 0.0032101711563191347, 0.006420342312638269, 0.96912918108854, 0.01563111582400871, 0.062024375970989025, 0.031012187985494512, 0.062024375970989025, 0.8373290756083518, 0.02368636199910291, 0.9711408419632194, 0.1049428318536685, 0.04362791886051387, 0.05384707102603964, 0.40640782073667875, 0.1238089589284853, 0.028299190612225213, 0.050702716513570174, 0.0644592675056241, 0.05659838122445043, 0.06760362201809356, 0.12952702353011522, 0.12169174044322735, 0.1638063870352497, 0.1469115578791477, 0.11924321447857489, 0.08227047241232271, 0.05876462315165908, 0.062437412098637776, 0.057050654976402354, 0.05876462315165908, 0.04948329283791474, 0.8412159782445506, 0.1126587844597477, 0.4596807336715253, 0.08469967006827747, 0.04933961363200629, 0.02713678749760346, 0.0345377295424044, 0.05098426741973983, 0.0518065943136066, 0.0115125765141348, 0.11759274582294833, 0.18111216064445426, 0.04116185469192142, 0.7656104972697384, 0.03572921809036157, 0.18796675604059782, 0.06679810338632815, 0.08077910176951311, 0.15068409368543792, 0.045049883679151546, 0.09942043294709306, 0.012427554118386632, 0.037282662355159896, 0.2842803004580942, 0.14926482170563413, 0.20811255428773218, 0.10819400834104485, 0.06896218661964615, 0.0683491894052493, 0.07999613647878955, 0.21577501946769287, 0.032488852363033296, 0.028197871862255315, 0.04137731197178769, 0.0064767821751838765, 0.7448299501461458, 0.029145519788327443, 0.02266873761314357, 0.08419816827739039, 0.012953564350367753, 0.0064767821751838765, 0.012953564350367753, 0.0032383910875919382, 0.08095977718979845, 0.9722895527806337, 0.21621061757632917, 0.1890777476965139, 0.03466188612918812, 0.13864754451675249, 0.2298480809714196, 0.07244902428641779, 0.08622854459187372, 0.013779520305455933, 0.014205691036552509, 0.004829934952427853, 0.007302372165076909, 0.9785178701203059, 0.965398380686939, 0.0019254547934649177, 0.015403638347719342, 0.9762055802867133, 0.0019254547934649177, 0.0019254547934649177, 0.0019254547934649177, 0.16762483081264917, 0.02205589879113805, 0.08381241540632459, 0.014336334214239733, 0.135643777565499, 0.002205589879113805, 0.441117975822761, 0.005513974697784512, 0.019850308912024245, 0.10917669901613335, 0.007835868833102248, 0.5704512510498437, 0.011753803249653373, 0.03369423598233967, 0.14417998652908137, 0.17473987497818014, 0.012537390132963597, 0.0031343475332408994, 0.03604499663227034, 0.005485108183171574, 0.01013834240149305, 0.01013834240149305, 0.9428658433388536, 0.0202766848029861, 0.01013834240149305, 0.017189415407967007, 0.017189415407967007, 0.017189415407967007, 0.9110390166222514, 0.017189415407967007, 0.09544422871811564, 0.024350873602569094, 0.061856816852503105, 0.47330261220625675, 0.09348496302595491, 0.013714859845125122, 0.01427465004288533, 0.11951520722180463, 0.06577534823682457, 0.03862552364545443, 0.9724428912229669, 0.06683556094591989, 0.0570672866538239, 0.10385217931596782, 0.07403323674009588, 0.12493108699891178, 0.07043439884300788, 0.30950005914956746, 0.0575814063534079, 0.07763207463718386, 0.0580955260529919, 0.023919824847717843, 0.9567929939087138, 0.1730693630592583, 0.009355100705905854, 0.08887345670610562, 0.04677550352952927, 0.004677550352952927, 0.004677550352952927, 0.023387751764764635, 0.645501948707504, 0.009355100705905854, 0.9763861843773972, 0.16055308792907302, 0.3424563205295653, 0.11358276965195059, 0.09394063655424485, 0.06191541954711593, 0.07259049188282557, 0.05892639929311722, 0.050386341424549515, 0.019642133097705742, 0.02562017360570314, 0.05095039794188507, 0.041686689225178694, 0.009263708716706377, 0.736464842978157, 0.06021410665859145, 0.041686689225178694, 0.013895563075059566, 0.046318543583531886, 0.004631854358353189, 0.9342161056523659, 0.9167338957931431, 0.06832799223302931, 0.06819260497673454, 0.02707647550546813, 0.10930873444800096, 0.23165429043567176, 0.09627191290833112, 0.01303682153966984, 0.0631784428460923, 0.10630023716961562, 0.09627191290833112, 0.1895353285382769, 0.029643581233618894, 0.014821790616809447, 0.029643581233618894, 0.029643581233618894, 0.8448420651581384, 0.029643581233618894, 0.014821790616809447, 0.1090492933498022, 0.021809858669960443, 0.021809858669960443, 0.7633450534486155, 0.06542957600988132, 0.09857932077619215, 0.15813766041180824, 0.07484726207081256, 0.20377623484523055, 0.0775855765368179, 0.1074788427907095, 0.06549135431196099, 0.1033713710917015, 0.057732796658279205, 0.052940746342769865, 0.143520870913321, 0.18951404576199143, 0.05873827149348272, 0.071483368138295, 0.07203750277502598, 0.2005967384966108, 0.07259163741175695, 0.14462914018678294, 0.019948846922314887, 0.026598462563086515], \"Term\": [\"abgeordnet\", \"abgeordnet\", \"abgeordnet\", \"abgeordnet\", \"abgeordnet\", \"abgeordnet\", \"abgeordnet\", \"abgeordnet\", \"abgeordnet\", \"absatz\", \"absatz\", \"absatz\", \"absatz\", \"absatz\", \"absatz\", \"abschreib\", \"abschreib\", \"abschreib\", \"aden\", \"admira\", \"admira\", \"adventur\", \"agypt\", \"agypt\", \"agypt\", \"agypt\", \"agypt\", \"agypt\", \"agypt\", \"agypt\", \"agypt\", \"agypt\", \"aktienmarkt\", \"aktienmarkt\", \"aktionar\", \"aktionar\", \"aktuell\", \"aktuell\", \"aktuell\", \"aktuell\", \"aktuell\", \"aktuell\", \"aktuell\", \"aktuell\", \"aktuell\", \"aktuell\", \"alaba\", \"alaba\", \"alaba\", \"alaba\", \"alaba\", \"alexis\", \"alexis\", \"alexis\", \"alexis\", \"alexis\", \"alexis\", \"allerding\", \"allerding\", \"allerding\", \"allerding\", \"allerding\", \"allerding\", \"allerding\", \"allerding\", \"allerding\", \"allerding\", \"alm\", \"alm\", \"alm\", \"alm\", \"alm\", \"alt\", \"alt\", \"alt\", \"alt\", \"alt\", \"alt\", \"alt\", \"alt\", \"alt\", \"alt\", \"altach\", \"altach\", \"altach\", \"altersgrupp\", \"amazon\", \"amazon\", \"amazon\", \"amazon\", \"amazon\", \"amazon\", \"amazon\", \"analyst\", \"analyst\", \"analyst\", \"analyst\", \"analyst\", \"analyst\", \"android\", \"android\", \"android\", \"android\", \"angab\", \"angab\", \"angab\", \"angab\", \"angab\", \"angab\", \"angab\", \"angab\", \"angab\", \"angab\", \"angeklagt\", \"angeklagt\", \"angeklagt\", \"angeklagt\", \"angeklagt\", \"angeklagt\", \"angeklagt\", \"angriff\", \"angriff\", \"angriff\", \"angriff\", \"angriff\", \"angriff\", \"angriff\", \"angriff\", \"angriff\", \"angriff\", \"anleih\", \"anleih\", \"anleih\", \"anleih\", \"anleih\", \"anleih\", \"anleih\", \"anleih\", \"anschlag\", \"anschlag\", \"anschlag\", \"anschlag\", \"anschlag\", \"anschlag\", \"anschlag\", \"anschlag\", \"anschlag\", \"anschlag\", \"anstieg\", \"anstieg\", \"anstieg\", \"anstieg\", \"anstieg\", \"anstieg\", \"anstieg\", \"anstieg\", \"anstieg\", \"anstieg\", \"appl\", \"appl\", \"appl\", \"appl\", \"appl\", \"appl\", \"appl\", \"appl\", \"appl\", \"apps\", \"apps\", \"apps\", \"apps\", \"apps\", \"arbeit\", \"arbeit\", \"arbeit\", \"arbeit\", \"arbeit\", \"arbeit\", \"arbeit\", \"arbeit\", \"arbeit\", \"arbeit\", \"arbeitnehm\", \"arbeitnehm\", \"arbeitnehm\", \"arbeitnehm\", \"arbeitnehm\", \"arbeitnehm\", \"arbeitnehm\", \"arbeitskraft\", \"arbeitskraft\", \"arbeitskraft\", \"arbeitskraft\", \"arbeitslos\", \"arbeitslos\", \"arbeitslos\", \"arbeitslos\", \"arbeitslos\", \"arbeitslos\", \"arbeitsmarkt\", \"arbeitsmarkt\", \"arbeitsmarkt\", \"arbeitsmarkt\", \"arbeitsmarkt\", \"arbeitsmarkt\", \"arbeitsmarkt\", \"arbeitsmarkt\", \"arbeitsmarkt\", \"arbeitszeit\", \"arbeitszeit\", \"arbeitszeit\", \"arbeitszeit\", \"arbeitszeit\", \"arbeitszeit\", \"arme\", \"arme\", \"arme\", \"arme\", \"arme\", \"arme\", \"arme\", \"armut\", \"armut\", \"armut\", \"armut\", \"armut\", \"armut\", \"arnautovic\", \"arnautovic\", \"arnautovic\", \"arsenal\", \"arsenal\", \"arsenal\", \"arsenal\", \"artikel\", \"artikel\", \"artikel\", \"artikel\", \"artikel\", \"artikel\", \"artikel\", \"artikel\", \"artikel\", \"artikel\", \"assad\", \"assad\", \"assad\", \"assad\", \"assad\", \"asthet\", \"ath\", \"ath\", \"ath\", \"ath\", \"ath\", \"ath\", \"ath\", \"ath\", \"ath\", \"ath\", \"atletico\", \"atletico\", \"atmosphar\", \"atmosphar\", \"atmosphar\", \"atmosphar\", \"atmosphar\", \"atmosphar\", \"atmosphar\", \"atmosphar\", \"atmosphar\", \"atmosphar\", \"attentat\", \"attentat\", \"attentat\", \"attentat\", \"attentat\", \"attentat\", \"attentat\", \"audi\", \"audi\", \"audi\", \"audi\", \"audi\", \"audi\", \"audi\", \"audi\", \"australian\", \"austria\", \"austria\", \"austria\", \"austria\", \"austria\", \"austria\", \"austria\", \"austria\", \"austria\", \"austria\", \"autobau\", \"autobau\", \"autobau\", \"autobau\", \"autobau\", \"autobau\", \"autobau\", \"autor\", \"autor\", \"autor\", \"autor\", \"autor\", \"autor\", \"autor\", \"autor\", \"autor\", \"autor\", \"autos\", \"autos\", \"autos\", \"autos\", \"autos\", \"autos\", \"autos\", \"autos\", \"autos\", \"award\", \"award\", \"award\", \"balkanstaat\", \"balkanstaat\", \"ball\", \"ball\", \"ball\", \"ball\", \"ball\", \"ball\", \"ball\", \"bank\", \"bank\", \"bank\", \"bank\", \"bank\", \"bank\", \"bank\", \"bank\", \"bank\", \"bank\", \"barca\", \"barcelona\", \"barcelona\", \"barcelona\", \"barcelona\", \"barcelona\", \"barcelona\", \"barcelona\", \"barcelona\", \"barcelona\", \"barisic\", \"barisic\", \"barisic\", \"barrel\", \"barrel\", \"bashar\", \"bashar\", \"basier\", \"basier\", \"basier\", \"basier\", \"basier\", \"basier\", \"basier\", \"bawag\", \"bawag\", \"bay\", \"bay\", \"bay\", \"bay\", \"bay\", \"bay\", \"bay\", \"bay\", \"bay\", \"bay\", \"beamt\", \"beamt\", \"beamt\", \"beamt\", \"beamt\", \"beamt\", \"beamt\", \"beamt\", \"beamt\", \"befragt\", \"befragt\", \"befragt\", \"befragt\", \"befragt\", \"befragt\", \"befragt\", \"befragt\", \"befragt\", \"beim\", \"beim\", \"beim\", \"beim\", \"beim\", \"beim\", \"beim\", \"beim\", \"beim\", \"beim\", \"belgrad\", \"belgrad\", \"bell\", \"bell\", \"bell\", \"bell\", \"bell\", \"bell\", \"bereit\", \"bereit\", \"bereit\", \"bereit\", \"bereit\", \"bereit\", \"bereit\", \"bereit\", \"bereit\", \"bereit\", \"berichtet\", \"berichtet\", \"berichtet\", \"berichtet\", \"berichtet\", \"berichtet\", \"berichtet\", \"berichtet\", \"berichtet\", \"berichtet\", \"berlin\", \"berlin\", \"berlin\", \"berlin\", \"berlin\", \"berlin\", \"berlin\", \"berlin\", \"berlin\", \"berlin\", \"berufsbild\", \"berufsbild\", \"beta\", \"betriebsrat\", \"betriebsrat\", \"betriebsrat\", \"betriebsrat\", \"betriebsrat\", \"betriebsrat\", \"betriebssyst\", \"betriebssystem\", \"blau\", \"blau\", \"blau\", \"blau\", \"blau\", \"blau\", \"blau\", \"blau\", \"blau\", \"bluttat\", \"bluttat\", \"boeing\", \"bohmermann\", \"bohmermann\", \"bohmermann\", \"bors\", \"bors\", \"bors\", \"bors\", \"bors\", \"bors\", \"bors\", \"bors\", \"borsennotiert\", \"borsennotiert\", \"borsennotiert\", \"borsennotiert\", \"borussia\", \"borussia\", \"borussia\", \"brandstift\", \"break\", \"break\", \"break\", \"breakball\", \"brows\", \"brows\", \"brussel\", \"brussel\", \"brussel\", \"brussel\", \"brussel\", \"brussel\", \"brussel\", \"brussel\", \"brussel\", \"brussel\", \"buch\", \"buch\", \"buch\", \"buch\", \"buch\", \"buch\", \"buch\", \"buch\", \"buch\", \"buch\", \"budap\", \"budap\", \"budap\", \"budap\", \"budap\", \"budap\", \"budap\", \"budap\", \"build\", \"bull\", \"bull\", \"bull\", \"bull\", \"bull\", \"bull\", \"bull\", \"bull\", \"bundesliga\", \"bundesliga\", \"bundesliga\", \"bundesliga\", \"bundesliga\", \"burgermeist\", \"burgermeist\", \"burgermeist\", \"burgermeist\", \"burgermeist\", \"burgermeist\", \"burgermeist\", \"burgermeist\", \"burgermeist\", \"celsius\", \"celsius\", \"celsius\", \"celsius\", \"celsius\", \"celsius\", \"champion\", \"champion\", \"champion\", \"champion\", \"champion\", \"champion\", \"champion\", \"champion\", \"champion\", \"chef\", \"chef\", \"chef\", \"chef\", \"chef\", \"chef\", \"chef\", \"chef\", \"chef\", \"chef\", \"chelsea\", \"chelsea\", \"china\", \"china\", \"china\", \"china\", \"china\", \"china\", \"china\", \"china\", \"china\", \"china\", \"chinas\", \"chinas\", \"chinas\", \"chinas\", \"chinas\", \"chinas\", \"chinas\", \"chines\", \"chines\", \"chines\", \"chines\", \"chines\", \"chines\", \"chines\", \"chines\", \"chines\", \"chines\", \"city\", \"city\", \"city\", \"city\", \"city\", \"city\", \"city\", \"city\", \"city\", \"city\", \"client\", \"clinton\", \"clinton\", \"clinton\", \"clinton\", \"clinton\", \"clinton\", \"cont\", \"dabei\", \"dabei\", \"dabei\", \"dabei\", \"dabei\", \"dabei\", \"dabei\", \"dabei\", \"dabei\", \"dabei\", \"daiml\", \"daiml\", \"daiml\", \"daiml\", \"daiml\", \"demokrat\", \"demokrat\", \"demokrat\", \"demokrat\", \"demokrat\", \"demokrat\", \"demokrat\", \"demokrat\", \"desktop\", \"deutlich\", \"deutlich\", \"deutlich\", \"deutlich\", \"deutlich\", \"deutlich\", \"deutlich\", \"deutlich\", \"deutlich\", \"deutlich\", \"deutsch\", \"deutsch\", \"deutsch\", \"deutsch\", \"deutsch\", \"deutsch\", \"deutsch\", \"deutsch\", \"deutsch\", \"deutsch\", \"deutschland\", \"deutschland\", \"deutschland\", \"deutschland\", \"deutschland\", \"deutschland\", \"deutschland\", \"deutschland\", \"deutschland\", \"deutschland\", \"dibon\", \"dijsselblo\", \"dilma\", \"dirigent\", \"display\", \"display\", \"display\", \"divid\", \"divid\", \"divid\", \"divid\", \"djokovic\", \"dmitri\", \"dmitri\", \"dmitri\", \"dmitri\", \"dmitri\", \"dmitri\", \"dollar\", \"dollar\", \"dollar\", \"dollar\", \"dollar\", \"dollar\", \"dollar\", \"dollar\", \"dollar\", \"dollar\", \"dominic\", \"dominic\", \"dominic\", \"dortmund\", \"dortmund\", \"dortmund\", \"dortmund\", \"dortmund\", \"dreharbeit\", \"drei\", \"drei\", \"drei\", \"drei\", \"drei\", \"drei\", \"drei\", \"drei\", \"drei\", \"drei\", \"dunkl\", \"dunkl\", \"dunkl\", \"dunkl\", \"dunkl\", \"dunkl\", \"dunkl\", \"dunkl\", \"durchschnitt\", \"durchschnitt\", \"durchschnitt\", \"durchschnitt\", \"durchschnitt\", \"durchschnitt\", \"durchschnitt\", \"dynamo\", \"ebit\", \"ebitda\", \"edomwonyi\", \"eig\", \"eig\", \"eig\", \"eig\", \"eig\", \"eig\", \"eig\", \"eig\", \"eig\", \"eig\", \"eigenkapital\", \"eigenschaft\", \"eigenschaft\", \"eigenschaft\", \"eigenschaft\", \"eigenschaft\", \"eigenschaft\", \"eigenschaft\", \"eigenschaft\", \"eigentum\", \"eigentum\", \"eigentum\", \"eigentum\", \"eigentum\", \"eigentum\", \"eigentum\", \"eigentum\", \"eigentum\", \"einfach\", \"einfach\", \"einfach\", \"einfach\", \"einfach\", \"einfach\", \"einfach\", \"einfach\", \"einfach\", \"einfach\", \"eingeliefert\", \"einkomm\", \"einkomm\", \"einkomm\", \"einkomm\", \"einkomm\", \"einkomm\", \"einkomm\", \"einreis\", \"einreis\", \"einreis\", \"einreis\", \"einreis\", \"energi\", \"energi\", \"energi\", \"energi\", \"energi\", \"energi\", \"energi\", \"energi\", \"energi\", \"energi\", \"entscheid\", \"entscheid\", \"entscheid\", \"entscheid\", \"entscheid\", \"entscheid\", \"entscheid\", \"entscheid\", \"entscheid\", \"entscheid\", \"entsperr\", \"epoch\", \"epoch\", \"epoch\", \"erklart\", \"erklart\", \"erklart\", \"erklart\", \"erklart\", \"erklart\", \"erklart\", \"erklart\", \"erklart\", \"erklart\", \"ermittl\", \"ermittl\", \"ermittl\", \"ermittl\", \"ermittl\", \"ermittl\", \"ermittl\", \"ermittl\", \"ermittl\", \"ermittl\", \"erschien\", \"erschien\", \"erschien\", \"erschien\", \"erst\", \"erst\", \"erst\", \"erst\", \"erst\", \"erst\", \"erst\", \"erst\", \"erst\", \"erst\", \"erstattet\", \"erstattet\", \"etwa\", \"etwa\", \"etwa\", \"etwa\", \"etwa\", \"etwa\", \"etwa\", \"etwa\", \"etwa\", \"etwa\", \"euro\", \"euro\", \"euro\", \"euro\", \"euro\", \"euro\", \"euro\", \"euro\", \"euro\", \"euro\", \"eurogrupp\", \"eurogrupp\", \"europa\", \"europa\", \"europa\", \"europa\", \"europa\", \"europa\", \"europa\", \"europa\", \"europa\", \"europa\", \"facebook\", \"facebook\", \"facebook\", \"facebook\", \"facebook\", \"facebook\", \"facebook\", \"facebook\", \"facebook\", \"facebook\", \"fahrzeug\", \"fahrzeug\", \"fahrzeug\", \"fahrzeug\", \"fahrzeug\", \"fahrzeug\", \"fahrzeug\", \"fahrzeug\", \"fahrzeug\", \"fall\", \"fall\", \"fall\", \"fall\", \"fall\", \"fall\", \"fall\", \"fall\", \"fall\", \"fall\", \"faymann\", \"faymann\", \"faymann\", \"faymann\", \"faymann\", \"faymann\", \"faymann\", \"faymann\", \"fed\", \"fed\", \"fed\", \"fed\", \"feldkirch\", \"feldkirch\", \"feldkirch\", \"ferrari\", \"ferrari\", \"ferrari\", \"ferrari\", \"festgenomm\", \"festgenomm\", \"festgenomm\", \"festgenomm\", \"festgenomm\", \"festgenomm\", \"festnahm\", \"festnahm\", \"festnahm\", \"festnahm\", \"festnahm\", \"festnahm\", \"feuerwehrleut\", \"feuerwehrleut\", \"fiction\", \"fiction\", \"filial\", \"filial\", \"filial\", \"filial\", \"filial\", \"filial\", \"filial\", \"filial\", \"film\", \"film\", \"film\", \"film\", \"film\", \"film\", \"film\", \"film\", \"film\", \"finanzminist\", \"finanzminist\", \"finanzminist\", \"finanzminist\", \"finanzminist\", \"finanzminist\", \"finanzminist\", \"finanzminist\", \"finanzminist\", \"finanzminist\", \"fink\", \"fink\", \"fink\", \"fink\", \"firefox\", \"firmwar\", \"fluchtling\", \"fluchtling\", \"fluchtling\", \"fluchtling\", \"fluchtling\", \"fluchtling\", \"fluchtling\", \"fluchtling\", \"fluchtling\", \"fluchtling\", \"flughaf\", \"flughaf\", \"flughaf\", \"flughaf\", \"flughaf\", \"flughaf\", \"flughaf\", \"flughaf\", \"flughaf\", \"flughaf\", \"foda\", \"fordert\", \"fordert\", \"fordert\", \"fordert\", \"fordert\", \"fordert\", \"fordert\", \"fordert\", \"fordert\", \"fordert\", \"form\", \"form\", \"form\", \"form\", \"form\", \"form\", \"form\", \"form\", \"form\", \"form\", \"forsch\", \"forsch\", \"forsch\", \"forsch\", \"forsch\", \"forsch\", \"forsch\", \"forsch\", \"forsch\", \"forsch\", \"frag\", \"frag\", \"frag\", \"frag\", \"frag\", \"frag\", \"frag\", \"frag\", \"frag\", \"frag\", \"frau\", \"frau\", \"frau\", \"frau\", \"frau\", \"frau\", \"frau\", \"frau\", \"frau\", \"frau\", \"freiheit\", \"freiheit\", \"freiheit\", \"freiheit\", \"freiheit\", \"freiheit\", \"freiheit\", \"freiheit\", \"freiheit\", \"freiheit\", \"french\", \"fussball\", \"fussball\", \"fussball\", \"fussball\", \"fussball\", \"fussball\", \"fussball\", \"fussball\", \"fussball\", \"fussball\", \"gam\", \"gam\", \"gam\", \"gam\", \"gam\", \"gam\", \"gam\", \"gam\", \"gamestandard\", \"gamestandard\", \"ganz\", \"ganz\", \"ganz\", \"ganz\", \"ganz\", \"ganz\", \"ganz\", \"ganz\", \"ganz\", \"ganz\", \"gazastreif\", \"gazastreif\", \"geb\", \"geb\", \"geb\", \"geb\", \"geb\", \"geb\", \"geb\", \"geb\", \"geb\", \"geb\", \"gefangnis\", \"gefangnis\", \"gefangnis\", \"gefangnis\", \"gefangnis\", \"gefangnis\", \"gefangnis\", \"gehirn\", \"gehirn\", \"gehirn\", \"gehirn\", \"gehirn\", \"gehirn\", \"gehirn\", \"geht\", \"geht\", \"geht\", \"geht\", \"geht\", \"geht\", \"geht\", \"geht\", \"geht\", \"geht\", \"geld\", \"geld\", \"geld\", \"geld\", \"geld\", \"geld\", \"geld\", \"geld\", \"geld\", \"geld\", \"geldpolit\", \"geldpolit\", \"geldpolit\", \"geldpolit\", \"geldpolit\", \"geldpolit\", \"gemald\", \"gemald\", \"gemeinderat\", \"gemeinderat\", \"gemeinderat\", \"gemeinderat\", \"gemeinderat\", \"gemeinderat\", \"genr\", \"genr\", \"geodynam\", \"gerat\", \"gerat\", \"gerat\", \"gerat\", \"gerat\", \"gerat\", \"gerat\", \"gerat\", \"gerat\", \"gerat\", \"gericht\", \"gericht\", \"gericht\", \"gericht\", \"gericht\", \"gericht\", \"gericht\", \"gericht\", \"gericht\", \"gericht\", \"geringfug\", \"geringfug\", \"geringfug\", \"geringfug\", \"geringfug\", \"geringfug\", \"geringfug\", \"geschaft\", \"geschaft\", \"geschaft\", \"geschaft\", \"geschaft\", \"geschaft\", \"geschaft\", \"geschaft\", \"geschaft\", \"geschaft\", \"geschaftsjahr\", \"geschaftsjahr\", \"geschicht\", \"geschicht\", \"geschicht\", \"geschicht\", \"geschicht\", \"geschicht\", \"geschicht\", \"geschicht\", \"geschicht\", \"geschicht\", \"gesprach\", \"gesprach\", \"gesprach\", \"gesprach\", \"gesprach\", \"gesprach\", \"gesprach\", \"gesprach\", \"gesprach\", \"gesprach\", \"gestieg\", \"gestieg\", \"gestieg\", \"gestieg\", \"gestieg\", \"gestieg\", \"gestieg\", \"gestieg\", \"gestieg\", \"gestieg\", \"getotet\", \"getotet\", \"getotet\", \"getotet\", \"getotet\", \"getotet\", \"getotet\", \"getotet\", \"getotet\", \"gibt\", \"gibt\", \"gibt\", \"gibt\", \"gibt\", \"gibt\", \"gibt\", \"gibt\", \"gibt\", \"gibt\", \"glawischn\", \"glawischn\", \"glawischn\", \"gmbh\", \"gmbh\", \"gmbh\", \"gmbh\", \"gmbh\", \"gmbh\", \"gmbh\", \"googl\", \"googl\", \"googl\", \"googl\", \"googl\", \"googl\", \"googl\", \"googl\", \"googl\", \"googl\", \"gorgon\", \"grad\", \"grad\", \"grad\", \"grad\", \"grad\", \"grad\", \"grad\", \"grad\", \"grad\", \"grad\", \"grahovac\", \"grenz\", \"grenz\", \"grenz\", \"grenz\", \"grenz\", \"grenz\", \"grenz\", \"grenz\", \"grenz\", \"grenz\", \"grenzubergang\", \"grenzubergang\", \"grenzubergang\", \"grenzubergang\", \"grenzubergang\", \"grenzubergang\", \"grenzubertritt\", \"grenzubertritt\", \"grenzubertritt\", \"grenzubertritt\", \"grenzzaun\", \"grenzzaun\", \"grenzzaun\", \"griech\", \"griech\", \"griech\", \"griech\", \"griech\", \"griech\", \"griech\", \"griechenland\", \"griechenland\", \"griechenland\", \"griechenland\", \"griechenland\", \"griechenland\", \"griechenland\", \"griechenland\", \"griechenland\", \"griechenland\", \"griechisch\", \"griechisch\", \"griechisch\", \"griechisch\", \"griechisch\", \"griechisch\", \"griechisch\", \"griechisch\", \"griechisch\", \"griechisch\", \"griss\", \"griss\", \"griss\", \"grodig\", \"grodig\", \"gross\", \"gross\", \"gross\", \"gross\", \"gross\", \"gross\", \"gross\", \"gross\", \"gross\", \"gross\", \"grozurek\", \"grun\", \"grun\", \"grun\", \"grun\", \"grun\", \"grun\", \"grun\", \"grun\", \"grun\", \"grun\", \"grund\", \"grund\", \"grund\", \"grund\", \"grund\", \"grund\", \"grund\", \"grund\", \"grund\", \"grund\", \"guardiola\", \"guardiola\", \"guardiola\", \"hadi\", \"haft\", \"haft\", \"haft\", \"haft\", \"haft\", \"haft\", \"haft\", \"haft\", \"haftung\", \"haftung\", \"haftung\", \"haftung\", \"haimbuchn\", \"hakenkreuz\", \"hamas\", \"hamas\", \"hamilton\", \"hamilton\", \"hamilton\", \"happel\", \"happel\", \"happel\", \"hatt\", \"hatt\", \"hatt\", \"hatt\", \"hatt\", \"hatt\", \"hatt\", \"hatt\", \"hatt\", \"hatt\", \"haupl\", \"haupl\", \"haupl\", \"haupl\", \"haupl\", \"haushalt\", \"haushalt\", \"haushalt\", \"haushalt\", \"haushalt\", \"haushalt\", \"haushalt\", \"haushalt\", \"haushalt\", \"herstell\", \"herstell\", \"herstell\", \"herstell\", \"herstell\", \"herstell\", \"herstell\", \"herstell\", \"herstell\", \"herstell\", \"heta\", \"heta\", \"heut\", \"heut\", \"heut\", \"heut\", \"heut\", \"heut\", \"heut\", \"heut\", \"heut\", \"heut\", \"hilfspaket\", \"hilfspaket\", \"hilfspaket\", \"hilfspaket\", \"hilfsprogramm\", \"hilfsprogramm\", \"hilfsprogramm\", \"hinspiel\", \"hinspiel\", \"hinspiel\", \"hinspiel\", \"hinspiel\", \"hisbollah\", \"hofmann\", \"hofmann\", \"hofmann\", \"hofmann\", \"hofmann\", \"hoh\", \"hoh\", \"hoh\", \"hoh\", \"hoh\", \"hoh\", \"hoh\", \"hoh\", \"hoh\", \"hoh\", \"holding\", \"holding\", \"holding\", \"holding\", \"holding\", \"holding\", \"hongkong\", \"hongkong\", \"hongkong\", \"hongkong\", \"houthi\", \"hypo\", \"hypo\", \"hypo\", \"hypo\", \"hypo\", \"idomeni\", \"idomeni\", \"ikea\", \"ikea\", \"ikea\", \"ikea\", \"ikea\", \"ikea\", \"imm\", \"imm\", \"imm\", \"imm\", \"imm\", \"imm\", \"imm\", \"imm\", \"imm\", \"imm\", \"indi\", \"indi\", \"indi\", \"indi\", \"indi\", \"indi\", \"indi\", \"indi\", \"indi\", \"inflation\", \"inflation\", \"inflation\", \"inflation\", \"inflation\", \"insolvenz\", \"insolvenz\", \"insolvenz\", \"insolvenz\", \"insolvenz\", \"insolvenz\", \"insolvenz\", \"investor\", \"investor\", \"investor\", \"investor\", \"investor\", \"investor\", \"investor\", \"investor\", \"investor\", \"investor\", \"ipad\", \"ipad\", \"ipad\", \"ipad\", \"iphon\", \"iphon\", \"iphon\", \"iphon\", \"iphon\", \"iphon\", \"iphon\", \"iphon\", \"iran\", \"iran\", \"iran\", \"iran\", \"iran\", \"iran\", \"iran\", \"iran\", \"iran\", \"iran\", \"irmgard\", \"islam\", \"islam\", \"islam\", \"islam\", \"islam\", \"islam\", \"islam\", \"islam\", \"islam\", \"islam\", \"israel\", \"israel\", \"israel\", \"israel\", \"israel\", \"israel\", \"israel\", \"israel\", \"israel\", \"israel\", \"israelis\", \"jahr\", \"jahr\", \"jahr\", \"jahr\", \"jahr\", \"jahr\", \"jahr\", \"jahr\", \"jahr\", \"jahr\", \"jahresumsatz\", \"jahrig\", \"jahrig\", \"jahrig\", \"jahrig\", \"jahrig\", \"jahrig\", \"jahrig\", \"jahrig\", \"jahrig\", \"jahrig\", \"jakarta\", \"jakarta\", \"japan\", \"japan\", \"japan\", \"japan\", \"japan\", \"japan\", \"japan\", \"japan\", \"japan\", \"japan\", \"jelic\", \"jem\", \"jem\", \"jem\", \"jem\", \"jemenit\", \"jero\", \"jerusal\", \"jerusal\", \"jerusal\", \"jinping\", \"jinping\", \"jinping\", \"jobsuch\", \"jobsuch\", \"judisch\", \"judisch\", \"judisch\", \"judisch\", \"judisch\", \"jugend\", \"jugend\", \"jugend\", \"jugend\", \"jugend\", \"jugend\", \"jugend\", \"jugend\", \"jugend\", \"jugend\", \"junck\", \"junck\", \"junck\", \"juraczka\", \"justizanstalt\", \"juventus\", \"juventus\", \"kainz\", \"kampf\", \"kampf\", \"kampf\", \"kampf\", \"kampf\", \"kampf\", \"kampf\", \"kampf\", \"kampf\", \"kampf\", \"kandidat\", \"kandidat\", \"kandidat\", \"kandidat\", \"kandidat\", \"kandidat\", \"kandidat\", \"kandidat\", \"kandidat\", \"kandidat\", \"kandidatur\", \"kandidatur\", \"kandidatur\", \"kandidi\", \"kapitalerhoh\", \"kapitalerhoh\", \"kayod\", \"keita\", \"keita\", \"keita\", \"khol\", \"khol\", \"khol\", \"kiew\", \"kiew\", \"kiew\", \"kiew\", \"kiew\", \"kiew\", \"kiew\", \"kind\", \"kind\", \"kind\", \"kind\", \"kind\", \"kind\", \"kind\", \"kind\", \"kind\", \"kind\", \"klavi\", \"klavi\", \"klein\", \"klein\", \"klein\", \"klein\", \"klein\", \"klein\", \"klein\", \"klein\", \"klein\", \"klein\", \"klubchef\", \"klubchef\", \"klubchef\", \"koalition\", \"koalition\", \"koalition\", \"koalition\", \"koalition\", \"koalition\", \"koalition\", \"kommission\", \"kommission\", \"kommission\", \"kommission\", \"kommission\", \"kommission\", \"kommission\", \"kommission\", \"kommission\", \"kommission\", \"kompliz\", \"komponist\", \"komponist\", \"komponist\", \"konjunktur\", \"konjunktur\", \"konjunktur\", \"konjunktur\", \"konjunktur\", \"konjunktur\", \"konjunktur\", \"konkur\", \"konkur\", \"konkur\", \"konnt\", \"konnt\", \"konnt\", \"konnt\", \"konnt\", \"konnt\", \"konnt\", \"konnt\", \"konnt\", \"konnt\", \"konsortium\", \"konsortium\", \"konsortium\", \"konsortium\", \"konz\", \"konz\", \"konz\", \"konz\", \"konz\", \"konz\", \"konz\", \"konz\", \"konz\", \"konz\", \"kosovar\", \"kosovo\", \"kosovo\", \"krankenhaus\", \"krankenhaus\", \"krankenhaus\", \"krankenhaus\", \"krankenhaus\", \"krankenhaus\", \"krankenhaus\", \"krankenhaus\", \"krankenhaus\", \"krankenhaus\", \"krim\", \"krim\", \"krim\", \"kriminalist\", \"kroati\", \"kroati\", \"kroati\", \"kroati\", \"kroati\", \"kroati\", \"kroati\", \"kroati\", \"kroati\", \"kroatisch\", \"kroatisch\", \"kroatisch\", \"kroatisch\", \"kroatisch\", \"kroatisch\", \"kroatisch\", \"kroatisch\", \"kund\", \"kund\", \"kund\", \"kund\", \"kund\", \"kund\", \"kund\", \"kund\", \"kund\", \"kund\", \"kunst\", \"kunst\", \"kunst\", \"kunst\", \"kunst\", \"kunst\", \"kunst\", \"kunstl\", \"kunstl\", \"kunstl\", \"kunstl\", \"kunstl\", \"kunstl\", \"kunstl\", \"kunstlerin\", \"kunstwerk\", \"kunstwerk\", \"kunstwerk\", \"kunstwerk\", \"kunstwerk\", \"kunstwerk\", \"labour\", \"land\", \"land\", \"land\", \"land\", \"land\", \"land\", \"land\", \"land\", \"land\", \"land\", \"landeshauptmann\", \"landeshauptmann\", \"landeshauptmann\", \"landeshauptmann\", \"landeshauptmann\", \"landeshauptmann\", \"landeshauptmann\", \"landtagswahl\", \"landtagswahl\", \"lang\", \"lang\", \"lang\", \"lang\", \"lang\", \"lang\", \"lang\", \"lang\", \"lang\", \"lang\", \"lask\", \"lask\", \"laut\", \"laut\", \"laut\", \"laut\", \"laut\", \"laut\", \"laut\", \"laut\", \"laut\", \"laut\", \"leagu\", \"leagu\", \"leagu\", \"leagu\", \"leagu\", \"leagu\", \"leagu\", \"leagu\", \"leagu\", \"leb\", \"leb\", \"leb\", \"leb\", \"leb\", \"leb\", \"leb\", \"leb\", \"leb\", \"leb\", \"leic\", \"leic\", \"leich\", \"leich\", \"leich\", \"leich\", \"leich\", \"leich\", \"leich\", \"leich\", \"leverkus\", \"leverkus\", \"leverkus\", \"leverkus\", \"liegenschaft\", \"liegenschaft\", \"liegt\", \"liegt\", \"liegt\", \"liegt\", \"liegt\", \"liegt\", \"liegt\", \"liegt\", \"liegt\", \"liegt\", \"lin\", \"literar\", \"literatur\", \"literatur\", \"literatur\", \"liverpool\", \"liverpool\", \"lobbyist\", \"lobbyist\", \"lohn\", \"lohn\", \"lohn\", \"lohn\", \"lohn\", \"lohn\", \"lohn\", \"lohn\", \"lohn\", \"lohn\", \"lohnnebenkost\", \"lohnnebenkost\", \"lopatka\", \"lopatka\", \"lopatka\", \"lopatka\", \"luftangriff\", \"luftangriff\", \"luftangriff\", \"luftangriff\", \"lufthansa\", \"lufthansa\", \"lufthansa\", \"lufthansa\", \"lufthansa\", \"lufthansa\", \"lumia\", \"macht\", \"macht\", \"macht\", \"macht\", \"macht\", \"macht\", \"macht\", \"macht\", \"macht\", \"macht\", \"madrid\", \"madrid\", \"madrid\", \"madrid\", \"madrid\", \"madrid\", \"madrid\", \"madrid\", \"madrid\", \"madrid\", \"manch\", \"manch\", \"manch\", \"manch\", \"manch\", \"manch\", \"manch\", \"manch\", \"mandant\", \"mandant\", \"mandant\", \"mandant\", \"mandat\", \"mandat\", \"mandat\", \"mandat\", \"mandat\", \"mandat\", \"mandat\", \"mann\", \"mann\", \"mann\", \"mann\", \"mann\", \"mann\", \"mann\", \"mann\", \"mann\", \"mann\", \"mannch\", \"mannch\", \"mannch\", \"mannch\", \"mannch\", \"mannch\", \"mannch\", \"mannschaft\", \"mannschaft\", \"mannschaft\", \"mannschaft\", \"mannschaft\", \"mannschaft\", \"mannschaft\", \"mark\", \"mark\", \"mark\", \"mark\", \"mark\", \"mark\", \"mark\", \"mark\", \"mark\", \"mark\", \"market\", \"market\", \"market\", \"market\", \"markt\", \"markt\", \"markt\", \"markt\", \"markt\", \"markt\", \"markt\", \"markt\", \"markt\", \"markt\", \"mathemat\", \"mathemat\", \"mathemat\", \"mathemat\", \"mathemat\", \"mathemat\", \"mathemat\", \"mathemat\", \"mattersburg\", \"mattersburg\", \"mattersburg\", \"mattersburg\", \"mattersburg\", \"mattersburg\", \"maur\", \"maur\", \"maur\", \"mazedon\", \"mazedon\", \"mazedon\", \"mazedoni\", \"mazedoni\", \"mazedoni\", \"mazedoni\", \"mazedoni\", \"mazedoni\", \"megapixel\", \"megapixel\", \"mehrheit\", \"mehrheit\", \"mehrheit\", \"mehrheit\", \"mehrheit\", \"mehrheit\", \"mehrheit\", \"mehrheit\", \"mehrheit\", \"mehrheit\", \"mensch\", \"mensch\", \"mensch\", \"mensch\", \"mensch\", \"mensch\", \"mensch\", \"mensch\", \"mensch\", \"mensch\", \"messeng\", \"met\", \"met\", \"met\", \"met\", \"met\", \"met\", \"met\", \"met\", \"met\", \"met\", \"meteorologi\", \"microsoft\", \"microsoft\", \"microsoft\", \"microsoft\", \"microsoft\", \"microsoft\", \"microsoft\", \"migrant\", \"migrant\", \"migrant\", \"migrant\", \"migrant\", \"migrant\", \"migrant\", \"migrant\", \"migrant\", \"milliard\", \"milliard\", \"milliard\", \"milliard\", \"milliard\", \"milliard\", \"milliard\", \"milliard\", \"milliard\", \"milliard\", \"million\", \"million\", \"million\", \"million\", \"million\", \"million\", \"million\", \"million\", \"million\", \"million\", \"mindestlohn\", \"mindestlohn\", \"minus\", \"minus\", \"minus\", \"minus\", \"minus\", \"minus\", \"minus\", \"minus\", \"minus\", \"minut\", \"minut\", \"minut\", \"minut\", \"minut\", \"minut\", \"minut\", \"minut\", \"minut\", \"minut\", \"mitarbeit\", \"mitarbeit\", \"mitarbeit\", \"mitarbeit\", \"mitarbeit\", \"mitarbeit\", \"mitarbeit\", \"mitarbeit\", \"mitarbeit\", \"mitarbeit\", \"mittelschicht\", \"mittelschicht\", \"mitterlehn\", \"mitterlehn\", \"mitterlehn\", \"mitterlehn\", \"mitterlehn\", \"mitterlehn\", \"mitterlehn\", \"mobil\", \"mobil\", \"mobil\", \"mobil\", \"mobil\", \"mobil\", \"mobil\", \"mobil\", \"mobil\", \"mobil\", \"moglich\", \"moglich\", \"moglich\", \"moglich\", \"moglich\", \"moglich\", \"moglich\", \"moglich\", \"moglich\", \"moglich\", \"molenbeek\", \"molenbeek\", \"monchengladbach\", \"monchengladbach\", \"mord\", \"mord\", \"mord\", \"mord\", \"mord\", \"mord\", \"mord\", \"moskau\", \"moskau\", \"moskau\", \"moskau\", \"moskau\", \"moskau\", \"moskau\", \"moskau\", \"moskau\", \"moskau\", \"moskaus\", \"moskaus\", \"moskaus\", \"motor\", \"motor\", \"motor\", \"motor\", \"motor\", \"motor\", \"motor\", \"motor\", \"motor\", \"motor\", \"mozart\", \"munch\", \"munch\", \"munch\", \"munch\", \"munch\", \"munch\", \"munch\", \"munch\", \"munch\", \"munch\", \"murray\", \"murray\", \"museum\", \"museum\", \"museum\", \"museum\", \"museum\", \"museum\", \"museum\", \"museum\", \"musik\", \"musik\", \"musik\", \"musik\", \"musik\", \"musik\", \"musik\", \"musik\", \"musikal\", \"musikal\", \"musikal\", \"muss\", \"muss\", \"muss\", \"muss\", \"muss\", \"muss\", \"muss\", \"muss\", \"muss\", \"muss\", \"mutmass\", \"mutmass\", \"mutmass\", \"mutmass\", \"mutmass\", \"mutmass\", \"mutmass\", \"mutmass\", \"mutmass\", \"nadal\", \"natur\", \"natur\", \"natur\", \"natur\", \"natur\", \"natur\", \"natur\", \"natur\", \"natur\", \"natur\", \"neos\", \"neos\", \"neos\", \"neos\", \"neos\", \"netanjahu\", \"neu\", \"neu\", \"neu\", \"neu\", \"neu\", \"neu\", \"neu\", \"neu\", \"neu\", \"neu\", \"nexus\", \"nexus\", \"neymar\", \"nico\", \"nico\", \"niedrig\", \"niedrig\", \"niedrig\", \"niedrig\", \"niedrig\", \"niedrig\", \"niedrig\", \"niedrig\", \"niedrig\", \"niedrig\", \"niessl\", \"niessl\", \"niessl\", \"notenbank\", \"notenbank\", \"notenbank\", \"notenbank\", \"notenbank\", \"notenbank\", \"notenbank\", \"novota\", \"nusra\", \"nutz\", \"nutz\", \"nutz\", \"nutz\", \"nutz\", \"nutz\", \"nutz\", \"nutz\", \"nutz\", \"nutz\", \"obama\", \"obama\", \"obama\", \"obama\", \"obama\", \"obama\", \"obama\", \"obama\", \"obamas\", \"obduktion\", \"oecd\", \"oecd\", \"oecd\", \"oecd\", \"oecd\", \"oecd\", \"offshor\", \"offshor\", \"offshor\", \"okonom\", \"okonom\", \"okonom\", \"okonom\", \"okonom\", \"okonom\", \"okonom\", \"okonom\", \"okonom\", \"okonom\", \"olpreis\", \"olpreis\", \"olpreis\", \"olpreis\", \"olpreis\", \"open\", \"open\", \"open\", \"open\", \"open\", \"open\", \"open\", \"open\", \"operativ\", \"operativ\", \"operativ\", \"operativ\", \"operativ\", \"operativ\", \"operativ\", \"opf\", \"opf\", \"opf\", \"opf\", \"opf\", \"opf\", \"opf\", \"opf\", \"opf\", \"opf\", \"osterreich\", \"osterreich\", \"osterreich\", \"osterreich\", \"osterreich\", \"osterreich\", \"osterreich\", \"osterreich\", \"osterreich\", \"osterreich\", \"ozean\", \"ozean\", \"ozean\", \"ozean\", \"ozean\", \"ozean\", \"ozean\", \"ozean\", \"palastinens\", \"palastinens\", \"panama\", \"panama\", \"panama\", \"panama\", \"panama\", \"panama\", \"panama\", \"panama\", \"panama\", \"parlament\", \"parlament\", \"parlament\", \"parlament\", \"parlament\", \"parlament\", \"parlament\", \"parlament\", \"parlament\", \"parlament\", \"partei\", \"partei\", \"partei\", \"partei\", \"partei\", \"partei\", \"partei\", \"partei\", \"partei\", \"partei\", \"parteichef\", \"parteichef\", \"parteichef\", \"parteichef\", \"parteichef\", \"parteichef\", \"parteitag\", \"parteitag\", \"parti\", \"parti\", \"parti\", \"parti\", \"parti\", \"parti\", \"parti\", \"parti\", \"pavelic\", \"peking\", \"peking\", \"peking\", \"peking\", \"peking\", \"peking\", \"peking\", \"peskow\", \"peskow\", \"petsos\", \"pfeifenberg\", \"pfeiff\", \"pfeiff\", \"pfeiff\", \"pfeiff\", \"pfeiff\", \"philosoph\", \"philosoph\", \"philosoph\", \"philosoph\", \"philosoph\", \"phon\", \"pjongjang\", \"platz\", \"platz\", \"platz\", \"platz\", \"platz\", \"platz\", \"platz\", \"platz\", \"platz\", \"platz\", \"plus\", \"plus\", \"plus\", \"plus\", \"plus\", \"plus\", \"plus\", \"plus\", \"plus\", \"plus\", \"podemos\", \"polit\", \"polit\", \"polit\", \"polit\", \"polit\", \"polit\", \"polit\", \"polit\", \"polit\", \"polit\", \"polizei\", \"polizei\", \"polizei\", \"polizei\", \"polizei\", \"polizei\", \"polizei\", \"polizei\", \"polizei\", \"polizei\", \"polizist\", \"polizist\", \"polizist\", \"polizist\", \"polizist\", \"polizist\", \"polizist\", \"porsch\", \"porsch\", \"porsch\", \"porsch\", \"porsch\", \"porsch\", \"porsch\", \"porsch\", \"prasident\", \"prasident\", \"prasident\", \"prasident\", \"prasident\", \"prasident\", \"prasident\", \"prasident\", \"prasident\", \"prasident\", \"praterst\", \"produktivitat\", \"produktivitat\", \"produktivitat\", \"produktivitat\", \"prosen\", \"provid\", \"provision\", \"provision\", \"prozent\", \"prozent\", \"prozent\", \"prozent\", \"prozent\", \"prozent\", \"prozent\", \"prozent\", \"prozent\", \"prozent\", \"prozentpunkt\", \"prozentpunkt\", \"prozentpunkt\", \"prozentpunkt\", \"prozentpunkt\", \"psychiatr\", \"psychiatr\", \"psychiatr\", \"puhring\", \"punkt\", \"punkt\", \"punkt\", \"punkt\", \"punkt\", \"punkt\", \"punkt\", \"punkt\", \"punkt\", \"punkt\", \"putin\", \"putin\", \"putin\", \"putin\", \"putin\", \"putin\", \"putin\", \"radkersburg\", \"radkersburg\", \"rapid\", \"rapid\", \"rapid\", \"rapid\", \"rapid\", \"rapid\", \"rapid\", \"rapid\", \"rapid\", \"razzi\", \"real\", \"real\", \"real\", \"real\", \"real\", \"real\", \"real\", \"real\", \"real\", \"real\", \"rebell\", \"rebell\", \"rebell\", \"rebell\", \"rebell\", \"rebell\", \"recht\", \"recht\", \"recht\", \"recht\", \"recht\", \"recht\", \"recht\", \"recht\", \"recht\", \"recht\", \"rechtlich\", \"rechtlich\", \"rechtlich\", \"rechtlich\", \"rechtlich\", \"rechtlich\", \"rechtlich\", \"rechtlich\", \"rechtlich\", \"rechtlich\", \"regier\", \"regier\", \"regier\", \"regier\", \"regier\", \"regier\", \"regier\", \"regier\", \"regier\", \"regier\", \"renault\", \"renault\", \"renault\", \"renault\", \"republikan\", \"republikan\", \"republikan\", \"republikan\", \"republikan\", \"ried\", \"ried\", \"ried\", \"ried\", \"ried\", \"ronaldo\", \"ronaldo\", \"rousseff\", \"ruckgang\", \"ruckgang\", \"ruckgang\", \"ruckgang\", \"ruckgang\", \"ruckgang\", \"ruckgang\", \"ruckgang\", \"ruckgang\", \"ruckgang\", \"ruckstell\", \"rund\", \"rund\", \"rund\", \"rund\", \"rund\", \"rund\", \"rund\", \"rund\", \"rund\", \"rund\", \"russisch\", \"russisch\", \"russisch\", \"russisch\", \"russisch\", \"russisch\", \"russisch\", \"russisch\", \"russisch\", \"russisch\", \"russland\", \"russland\", \"russland\", \"russland\", \"russland\", \"russland\", \"russland\", \"russland\", \"russland\", \"russland\", \"sagt\", \"sagt\", \"sagt\", \"sagt\", \"sagt\", \"sagt\", \"sagt\", \"sagt\", \"sagt\", \"sagt\", \"saison\", \"saison\", \"saison\", \"saison\", \"saison\", \"saison\", \"saison\", \"saison\", \"saison\", \"salzburg\", \"salzburg\", \"salzburg\", \"salzburg\", \"salzburg\", \"salzburg\", \"salzburg\", \"salzburg\", \"salzburg\", \"salzburg\", \"sammelstell\", \"sammelstell\", \"sammelstell\", \"sammelstell\", \"sammelstell\", \"samstag\", \"samstag\", \"samstag\", \"samstag\", \"samstag\", \"samstag\", \"samstag\", \"samstag\", \"samstag\", \"samstag\", \"samsung\", \"samsung\", \"samsung\", \"samsung\", \"samsung\", \"samsung\", \"sanaa\", \"sanier\", \"sanier\", \"sanier\", \"sanier\", \"sanier\", \"sanier\", \"satellit\", \"satellit\", \"satellit\", \"satellit\", \"satellit\", \"satellit\", \"satellit\", \"satz\", \"satz\", \"satz\", \"satz\", \"satz\", \"satz\", \"satz\", \"satz\", \"satz\", \"schalk\", \"schalk\", \"schalk\", \"schaub\", \"schaubl\", \"schaubl\", \"schnitt\", \"schnitt\", \"schnitt\", \"schnitt\", \"schnitt\", \"schnitt\", \"schnitt\", \"schnitt\", \"schnitt\", \"schnitt\", \"schobesberg\", \"schobesberg\", \"schoffensenat\", \"schoffensenat\", \"schon\", \"schon\", \"schon\", \"schon\", \"schon\", \"schon\", \"schon\", \"schon\", \"schon\", \"schon\", \"schottel\", \"schrumpf\", \"schrumpf\", \"schuldspruch\", \"schwer\", \"schwer\", \"schwer\", \"schwer\", \"schwer\", \"schwer\", \"schwer\", \"schwer\", \"schwer\", \"schwer\", \"sehnsucht\", \"sehnsucht\", \"seien\", \"seien\", \"seien\", \"seien\", \"seien\", \"seien\", \"seien\", \"seien\", \"seien\", \"seien\", \"seit\", \"seit\", \"seit\", \"seit\", \"seit\", \"seit\", \"seit\", \"seit\", \"seit\", \"seit\", \"selbstfahr\", \"selbstfahr\", \"selbstfahr\", \"selbstfahr\", \"selbstfahr\", \"serbi\", \"serbi\", \"serbi\", \"serbi\", \"serbi\", \"serbi\", \"serbi\", \"serbi\", \"serbi\", \"serbisch\", \"serbisch\", \"serbisch\", \"serbisch\", \"serbisch\", \"serbisch\", \"serbisch\", \"sevilla\", \"sevilla\", \"sevilla\", \"sexuell\", \"sexuell\", \"sexuell\", \"sexuell\", \"sexuell\", \"sexuell\", \"sexuell\", \"shanghai\", \"shanghai\", \"shanghai\", \"sieg\", \"sieg\", \"sieg\", \"sieg\", \"sieg\", \"sieg\", \"sieg\", \"sieg\", \"sieg\", \"sieg\", \"silvesternacht\", \"silvesternacht\", \"silvesternacht\", \"silvesternacht\", \"slam\", \"slowen\", \"slowen\", \"slowen\", \"slowen\", \"slowen\", \"slowen\", \"sloweni\", \"sloweni\", \"sloweni\", \"sloweni\", \"sloweni\", \"sloweni\", \"sloweni\", \"sloweni\", \"sloweni\", \"sloweni\", \"smartphon\", \"smartphon\", \"smartphon\", \"smartphon\", \"smartphon\", \"smartphon\", \"smartphon\", \"smartphon\", \"smartphon\", \"smartphon\", \"snapdragon\", \"softwar\", \"softwar\", \"softwar\", \"softwar\", \"softwar\", \"softwar\", \"softwar\", \"softwar\", \"softwar\", \"softwar\", \"soll\", \"soll\", \"soll\", \"soll\", \"soll\", \"soll\", \"soll\", \"soll\", \"soll\", \"soll\", \"sonderzug\", \"sonderzug\", \"sonderzug\", \"song\", \"song\", \"song\", \"song\", \"song\", \"sonn\", \"sonn\", \"sonn\", \"sonn\", \"sonn\", \"sonn\", \"sonn\", \"sonn\", \"sonn\", \"sonn\", \"sonntag\", \"sonntag\", \"sonntag\", \"sonntag\", \"sonntag\", \"sonntag\", \"sonntag\", \"sonntag\", \"sonntag\", \"sonntag\", \"soriano\", \"soriano\", \"soriano\", \"soul\", \"sowi\", \"sowi\", \"sowi\", \"sowi\", \"sowi\", \"sowi\", \"sowi\", \"sowi\", \"sowi\", \"sowi\", \"sozialstaat\", \"sozialstaat\", \"spiel\", \"spiel\", \"spiel\", \"spiel\", \"spiel\", \"spiel\", \"spiel\", \"spiel\", \"spiel\", \"spiel\", \"spielfeld\", \"spielfeld\", \"spielfeld\", \"spielfeld\", \"spielfeld\", \"spielfeld\", \"spielfeld\", \"spielfeld\", \"spitzenkandidat\", \"spotify\", \"spotify\", \"staat\", \"staat\", \"staat\", \"staat\", \"staat\", \"staat\", \"staat\", \"staat\", \"staat\", \"staat\", \"staatsanwalt\", \"staatsanwalt\", \"staatsanwalt\", \"staatsanwalt\", \"staatsanwalt\", \"staatsanwalt\", \"staatsanwaltin\", \"stadion\", \"stadion\", \"stadion\", \"stadion\", \"stadion\", \"stadion\", \"stadion\", \"stadion\", \"stadt\", \"stadt\", \"stadt\", \"stadt\", \"stadt\", \"stadt\", \"stadt\", \"stadt\", \"stadt\", \"stadt\", \"stadtrat\", \"standard\", \"standard\", \"standard\", \"standard\", \"standard\", \"standard\", \"standard\", \"standard\", \"standard\", \"standard\", \"standort\", \"standort\", \"standort\", \"standort\", \"standort\", \"standort\", \"standort\", \"standort\", \"standort\", \"standort\", \"stangl\", \"stark\", \"stark\", \"stark\", \"stark\", \"stark\", \"stark\", \"stark\", \"stark\", \"stark\", \"stark\", \"statist\", \"statist\", \"statist\", \"statist\", \"statist\", \"statist\", \"statist\", \"statist\", \"statist\", \"statist\", \"steht\", \"steht\", \"steht\", \"steht\", \"steht\", \"steht\", \"steht\", \"steht\", \"steht\", \"steht\", \"steigend\", \"steigend\", \"steigend\", \"steigend\", \"steigend\", \"steigend\", \"steigend\", \"steigend\", \"steigend\", \"stenzel\", \"steueroas\", \"steueroas\", \"steueroas\", \"steuerreform\", \"steuerreform\", \"steuerreform\", \"steuerreform\", \"steuerreform\", \"steuerreform\", \"stichwahl\", \"stichwahl\", \"stichwahl\", \"stimm\", \"stimm\", \"stimm\", \"stimm\", \"stimm\", \"stimm\", \"stimm\", \"stimm\", \"stimm\", \"stimm\", \"stok\", \"story\", \"story\", \"story\", \"story\", \"story\", \"strach\", \"strach\", \"strach\", \"strach\", \"strach\", \"strach\", \"strach\", \"strebing\", \"strolz\", \"stronach\", \"stronach\", \"stronach\", \"stronach\", \"studi\", \"studi\", \"studi\", \"studi\", \"studi\", \"studi\", \"studi\", \"studi\", \"studi\", \"studi\", \"sturm\", \"sturm\", \"sturm\", \"sturm\", \"sturm\", \"sturm\", \"sturm\", \"sturm\", \"sturm\", \"sturm\", \"suarez\", \"suarez\", \"syri\", \"syri\", \"syri\", \"syri\", \"syri\", \"syri\", \"syri\", \"syri\", \"syri\", \"syri\", \"syrisch\", \"syrisch\", \"syrisch\", \"syrisch\", \"syrisch\", \"syrisch\", \"syriza\", \"syriza\", \"taiwan\", \"taiwan\", \"taliban\", \"taliban\", \"taliban\", \"tampa\", \"tarif\", \"tarif\", \"tarif\", \"tarif\", \"tarif\", \"tarif\", \"tarif\", \"tat\", \"tat\", \"tat\", \"tat\", \"tat\", \"tat\", \"tat\", \"tat\", \"tat\", \"tat\", \"tatort\", \"tatort\", \"tatort\", \"tatort\", \"tatort\", \"tatort\", \"tatverdacht\", \"team\", \"team\", \"team\", \"team\", \"team\", \"team\", \"team\", \"team\", \"team\", \"team\", \"teilzeit\", \"teilzeit\", \"teilzeit\", \"telekom\", \"telekom\", \"telekom\", \"telekom\", \"tempelberg\", \"temperatur\", \"temperatur\", \"temperatur\", \"temperatur\", \"temperatur\", \"temperatur\", \"temperatur\", \"temperatur\", \"temperatur\", \"temperatur\", \"tennis\", \"tennis\", \"tesla\", \"tesla\", \"tesla\", \"tesla\", \"tesla\", \"tesla\", \"tesla\", \"tesla\", \"thiem\", \"thiem\", \"tiebreak\", \"tier\", \"tier\", \"tier\", \"tier\", \"tier\", \"tier\", \"tier\", \"tier\", \"tier\", \"tokio\", \"tokio\", \"tokio\", \"tokio\", \"tokio\", \"tokio\", \"tokio\", \"tomi\", \"topgesetzt\", \"tor\", \"tor\", \"tor\", \"tor\", \"tor\", \"tor\", \"tor\", \"tor\", \"tor\", \"tot\", \"tot\", \"tot\", \"tot\", \"tot\", \"tot\", \"tot\", \"tot\", \"tot\", \"tot\", \"tottenham\", \"toyota\", \"toyota\", \"toyota\", \"train\", \"train\", \"train\", \"train\", \"train\", \"train\", \"train\", \"train\", \"train\", \"train\", \"transaktion\", \"transaktion\", \"transitland\", \"transitland\", \"tribunal\", \"tribunal\", \"tribunal\", \"trump\", \"trump\", \"trump\", \"trump\", \"trump\", \"trump\", \"tsipras\", \"tsipras\", \"tsipras\", \"tsipras\", \"tsipras\", \"ttip\", \"ttip\", \"ttip\", \"ttip\", \"ttip\", \"ttip\", \"ttip\", \"ttip\", \"turkei\", \"turkei\", \"turkei\", \"turkei\", \"turkei\", \"turkei\", \"turkei\", \"turkei\", \"turkei\", \"turkei\", \"turkisch\", \"turkisch\", \"turkisch\", \"turkisch\", \"turkisch\", \"turkisch\", \"turkisch\", \"turkisch\", \"turkisch\", \"turkisch\", \"turni\", \"turni\", \"turni\", \"turni\", \"uberfahrt\", \"uberfahrt\", \"uberfahrt\", \"ubergriff\", \"ubergriff\", \"ubergriff\", \"ubergriff\", \"ubergriff\", \"ubergriff\", \"ubergriff\", \"uberstellt\", \"uberstund\", \"uberstund\", \"uberstund\", \"uberstund\", \"uberstund\", \"ukrain\", \"ukrain\", \"ukrain\", \"ukrain\", \"ukrain\", \"ukrain\", \"ukrain\", \"ukrain\", \"ukrain\", \"ukrain\", \"umsatz\", \"umsatz\", \"umsatz\", \"umsatz\", \"umsatz\", \"umsatz\", \"umsatz\", \"umsatz\", \"umweltbehord\", \"umweltbehord\", \"umweltbehord\", \"umweltbehord\", \"unfall\", \"unfall\", \"unfall\", \"unfall\", \"unfall\", \"unfall\", \"unfall\", \"unfall\", \"unfall\", \"ungar\", \"ungar\", \"ungar\", \"ungar\", \"ungar\", \"ungar\", \"ungar\", \"ungar\", \"ungar\", \"ungarn\", \"ungarn\", \"ungarn\", \"ungarn\", \"ungarn\", \"ungarn\", \"ungarn\", \"ungarn\", \"ungarn\", \"ungarn\", \"unicredit\", \"united\", \"united\", \"united\", \"united\", \"united\", \"united\", \"universitat\", \"universitat\", \"universitat\", \"universitat\", \"universitat\", \"universitat\", \"universitat\", \"universitat\", \"universitat\", \"universitat\", \"university\", \"university\", \"university\", \"university\", \"university\", \"university\", \"university\", \"university\", \"university\", \"unternehm\", \"unternehm\", \"unternehm\", \"unternehm\", \"unternehm\", \"unternehm\", \"unternehm\", \"unternehm\", \"unternehm\", \"unternehm\", \"unverletzt\", \"unverletzt\", \"unverletzt\", \"updat\", \"updat\", \"updat\", \"updat\", \"updat\", \"updat\", \"varoufakis\", \"varoufakis\", \"varoufakis\", \"vassilakou\", \"vassilakou\", \"vassilakou\", \"vastic\", \"vastic\", \"venuto\", \"verdacht\", \"verdacht\", \"verdacht\", \"verdacht\", \"verdacht\", \"verdacht\", \"verdacht\", \"verdacht\", \"verdacht\", \"verdacht\", \"verfug\", \"verfug\", \"verfug\", \"verfug\", \"verfug\", \"verfug\", \"verfug\", \"verfug\", \"verfug\", \"verfug\", \"vergang\", \"vergang\", \"vergang\", \"vergang\", \"vergang\", \"vergang\", \"vergang\", \"vergang\", \"vergang\", \"vergang\", \"vergewalt\", \"vergewalt\", \"vergewalt\", \"vergewalt\", \"vergewaltigt\", \"vergewaltigt\", \"vergewaltigt\", \"vergewaltigt\", \"verkauf\", \"verkauf\", \"verkauf\", \"verkauf\", \"verkauf\", \"verkauf\", \"verkauf\", \"verkauf\", \"verkauf\", \"verkauf\", \"verletzt\", \"verletzt\", \"verletzt\", \"verletzt\", \"verletzt\", \"verletzt\", \"verletzt\", \"verletzt\", \"verletzt\", \"verletzt\", \"verschlusselt\", \"version\", \"version\", \"version\", \"version\", \"version\", \"version\", \"version\", \"version\", \"version\", \"verurteilt\", \"verurteilt\", \"verurteilt\", \"verurteilt\", \"verurteilt\", \"verurteilt\", \"verurteilt\", \"verurteilt\", \"verurteilt\", \"vettel\", \"vidal\", \"videospiel\", \"videospiel\", \"viel\", \"viel\", \"viel\", \"viel\", \"viel\", \"viel\", \"viel\", \"viel\", \"viel\", \"viel\", \"vier\", \"vier\", \"vier\", \"vier\", \"vier\", \"vier\", \"vier\", \"vier\", \"vier\", \"vier\", \"volkspartei\", \"volksrepubl\", \"volksrepubl\", \"volksrepubl\", \"volkswag\", \"volkswag\", \"volkswag\", \"volkswag\", \"volkswag\", \"volkswag\", \"volkswag\", \"volkswag\", \"volltext\", \"volltext\", \"volltext\", \"volltext\", \"vollzug\", \"vollzug\", \"vollzug\", \"vorfall\", \"vorfall\", \"vorfall\", \"vorfall\", \"vorfall\", \"vorfall\", \"vorfall\", \"vorfall\", \"vorfall\", \"vorfall\", \"vorjahr\", \"vorjahr\", \"vorjahr\", \"vorjahr\", \"vorjahr\", \"vorjahr\", \"vorjahr\", \"vorjahr\", \"vorjahr\", \"vorjahr\", \"vormonat\", \"vorschlag\", \"vorschlag\", \"vorschlag\", \"vorschlag\", \"vorschlag\", \"vorschlag\", \"vorschlag\", \"vorschlag\", \"vorschlag\", \"vorschlag\", \"vorstand\", \"vorstand\", \"vorstand\", \"vorstand\", \"vorstand\", \"vorstand\", \"vorstand\", \"vorstand\", \"vorstand\", \"vov\", \"wachstum\", \"wachstum\", \"wachstum\", \"wachstum\", \"wachstum\", \"wachstum\", \"wachstum\", \"wachstum\", \"wachstum\", \"wack\", \"wack\", \"wack\", \"wack\", \"wahl\", \"wahl\", \"wahl\", \"wahl\", \"wahl\", \"wahl\", \"wahl\", \"wahl\", \"wahl\", \"wahl\", \"wahlergebnis\", \"wahlkampf\", \"wahlkampf\", \"wahlkampf\", \"wahlkampf\", \"wahlkampf\", \"wahlkampf\", \"wahlkampf\", \"wahlkart\", \"wahlkart\", \"wang\", \"wang\", \"wang\", \"wang\", \"watford\", \"watford\", \"weg\", \"weg\", \"weg\", \"weg\", \"weg\", \"weg\", \"weg\", \"weg\", \"weg\", \"weg\", \"weit\", \"weit\", \"weit\", \"weit\", \"weit\", \"weit\", \"weit\", \"weit\", \"weit\", \"weit\", \"weiterbild\", \"weiterbild\", \"welt\", \"welt\", \"welt\", \"welt\", \"welt\", \"welt\", \"welt\", \"welt\", \"welt\", \"welt\", \"weltcup\", \"weltcup\", \"weltcup\", \"weltweit\", \"weltweit\", \"weltweit\", \"weltweit\", \"weltweit\", \"weltweit\", \"weltweit\", \"weltweit\", \"weltweit\", \"weltweit\", \"wenig\", \"wenig\", \"wenig\", \"wenig\", \"wenig\", \"wenig\", \"wenig\", \"wenig\", \"wenig\", \"wenig\", \"werk\", \"werk\", \"werk\", \"werk\", \"werk\", \"werk\", \"werk\", \"werk\", \"werk\", \"werk\", \"westjordanland\", \"wien\", \"wien\", \"wien\", \"wien\", \"wien\", \"wien\", \"wien\", \"wien\", \"wien\", \"wien\", \"wifo\", \"wifo\", \"wimbledon\", \"windows\", \"windows\", \"windows\", \"windows\", \"windows\", \"windows\", \"wirtschaft\", \"wirtschaft\", \"wirtschaft\", \"wirtschaft\", \"wirtschaft\", \"wirtschaft\", \"wirtschaft\", \"wirtschaft\", \"wirtschaft\", \"wirtschaft\", \"wissenschaft\", \"wissenschaft\", \"wissenschaft\", \"wissenschaft\", \"wissenschaft\", \"wissenschaft\", \"wissenschaft\", \"wissenschaft\", \"wissenschaft\", \"wissenschaft\", \"wlan\", \"wlan\", \"wlan\", \"wlan\", \"wlan\", \"wolfsberg\", \"wolfsberg\", \"wolfsberg\", \"wolfsberg\", \"wolfsberg\", \"word\", \"word\", \"word\", \"word\", \"word\", \"word\", \"word\", \"word\", \"word\", \"word\", \"yuan\", \"zahl\", \"zahl\", \"zahl\", \"zahl\", \"zahl\", \"zahl\", \"zahl\", \"zahl\", \"zahl\", \"zahl\", \"zamg\", \"zamg\", \"zaun\", \"zaun\", \"zaun\", \"zaun\", \"zaun\", \"zaun\", \"zaun\", \"zaun\", \"zaun\", \"zeidl\", \"zeit\", \"zeit\", \"zeit\", \"zeit\", \"zeit\", \"zeit\", \"zeit\", \"zeit\", \"zeit\", \"zeit\", \"zeug\", \"zeug\", \"zeug\", \"zeug\", \"zeug\", \"zeug\", \"zeug\", \"zeug\", \"zeug\", \"zeugin\", \"zielpunkt\", \"zielpunkt\", \"zufolg\", \"zufolg\", \"zufolg\", \"zufolg\", \"zufolg\", \"zufolg\", \"zufolg\", \"zufolg\", \"zufolg\", \"zufolg\", \"zuwach\", \"zuwach\", \"zuwach\", \"zuwach\", \"zuwach\", \"zuwach\", \"zuwach\", \"zuwachs\", \"zuwachs\", \"zuwachs\", \"zuwachs\", \"zuwachs\", \"zwei\", \"zwei\", \"zwei\", \"zwei\", \"zwei\", \"zwei\", \"zwei\", \"zwei\", \"zwei\", \"zwei\", \"zweit\", \"zweit\", \"zweit\", \"zweit\", \"zweit\", \"zweit\", \"zweit\", \"zweit\", \"zweit\", \"zweit\"]}, \"R\": 30, \"lambda.step\": 0.01, \"plot.opts\": {\"xlab\": \"PC1\", \"ylab\": \"PC2\"}, \"topic.order\": [1, 4, 6, 9, 3, 5, 2, 8, 7, 10]};\n",
              "\n",
              "function LDAvis_load_lib(url, callback){\n",
              "  var s = document.createElement('script');\n",
              "  s.src = url;\n",
              "  s.async = true;\n",
              "  s.onreadystatechange = s.onload = callback;\n",
              "  s.onerror = function(){console.warn(\"failed to load library \" + url);};\n",
              "  document.getElementsByTagName(\"head\")[0].appendChild(s);\n",
              "}\n",
              "\n",
              "if(typeof(LDAvis) !== \"undefined\"){\n",
              "   // already loaded: just create the visualization\n",
              "   !function(LDAvis){\n",
              "       new LDAvis(\"#\" + \"ldavis_el164201349173530954562905830640\", ldavis_el164201349173530954562905830640_data);\n",
              "   }(LDAvis);\n",
              "}else if(typeof define === \"function\" && define.amd){\n",
              "   // require.js is available: use it to load d3/LDAvis\n",
              "   require.config({paths: {d3: \"https://d3js.org/d3.v5\"}});\n",
              "   require([\"d3\"], function(d3){\n",
              "      window.d3 = d3;\n",
              "      LDAvis_load_lib(\"https://cdn.jsdelivr.net/gh/bmabey/pyLDAvis@3.4.0/pyLDAvis/js/ldavis.v3.0.0.js\", function(){\n",
              "        new LDAvis(\"#\" + \"ldavis_el164201349173530954562905830640\", ldavis_el164201349173530954562905830640_data);\n",
              "      });\n",
              "    });\n",
              "}else{\n",
              "    // require.js not available: dynamically load d3 & LDAvis\n",
              "    LDAvis_load_lib(\"https://d3js.org/d3.v5.js\", function(){\n",
              "         LDAvis_load_lib(\"https://cdn.jsdelivr.net/gh/bmabey/pyLDAvis@3.4.0/pyLDAvis/js/ldavis.v3.0.0.js\", function(){\n",
              "                 new LDAvis(\"#\" + \"ldavis_el164201349173530954562905830640\", ldavis_el164201349173530954562905830640_data);\n",
              "            })\n",
              "         });\n",
              "}\n",
              "</script>"
            ]
          },
          "metadata": {},
          "execution_count": 32
        }
      ]
    },
    {
      "cell_type": "markdown",
      "metadata": {
        "id": "syy0tnTQmxZP"
      },
      "source": [
        "# Exercise - Your turn:\n",
        "\n",
        "Find another corpus to cluster its topic with LDA. Preferably the corpus should be in another language (maybe your own native language?). Your corpus can contain text only, without any categories. It can contain texts in any length: documents, books, comments or product reviews, tweets, etc.\n",
        "\n",
        "There are many corpus online for free use. Here are some example websites that offer lists of corpora:\n",
        "- https://www.corpusdata.org/intro.asp\n",
        "- here: https://www.clarin.eu/resource-families/newspaper-corpora\n",
        "- NLTK offers many corpora: https://www.nltk.org/nltk_data/\n",
        "- In this github repository, there are many datasets that can be loaded through their `raw` url: https://github.com/selva86/datasets\n",
        "\n",
        "Careful: You may need to change the [Stemming](https://snowballstem.org/algorithms/) and the [Stopwords](https://www.kaggle.com/rtatman/stopword-lists-for-19-languages) to support your corpus language. Make a web-search to find an appropriate ones.\n",
        "\n",
        "The delivery should be a notebook or code that parse the corpus into topics using LDA, preferably vectorized with TF/IDF. You can use the LDA code here as guideline.\n",
        "\n",
        "Try detecting which *num_of_topics* fits most for your corpus, by changing the hyperparameters to get a *satisfying level of clustering*.\n",
        "\n",
        "Please summarize which parameters worked best for the corpus you chose."
      ]
    },
    {
      "cell_type": "markdown",
      "source": [
        "##### Help note: About loading and reading files in Python\n",
        "\n",
        "If your corpus is a csv, [pandas' read_csv method](https://pandas.pydata.org/docs/reference/api/pandas.read_csv.html) would be the best way to tackle it.\n",
        "\n",
        "If it is, however a text file or a zip of text files, you will need another way to load them. Luckily, python is working well with both - text and zip files, with a built-in support."
      ],
      "metadata": {
        "id": "vB0wRwUpX3yB"
      }
    },
    {
      "cell_type": "markdown",
      "source": [
        "For the sake of this example, let's download two files: one text file, and one gzip file, from this website:\n",
        "\n",
        "https://lindat.mff.cuni.cz/repository/xmlui/handle/11858/00-097C-0000-0023-6260-A"
      ],
      "metadata": {
        "id": "hHe2aaI-bFHU"
      }
    },
    {
      "cell_type": "code",
      "source": [
        "!curl --remote-name-all https://lindat.mff.cuni.cz/repository/xmlui/bitstream/handle/11858/00-097C-0000-0023-6260-A{/README.txt,/hindmonocorp05.plaintext.gz}\n"
      ],
      "metadata": {
        "id": "JeiBbArnXZ_u",
        "outputId": "9cc88cb5-fcd2-475e-f956-3e1a929d45d1",
        "colab": {
          "base_uri": "https://localhost:8080/"
        }
      },
      "execution_count": null,
      "outputs": [
        {
          "output_type": "stream",
          "name": "stderr",
          "text": [
            "/usr/local/lib/python3.10/dist-packages/ipykernel/ipkernel.py:283: DeprecationWarning: `should_run_async` will not call `transform_cell` automatically in the future. Please pass the result to `transformed_cell` argument and any exception that happen during thetransform in `preprocessing_exc_tuple` in IPython 7.17 and above.\n",
            "  and should_run_async(code)\n"
          ]
        },
        {
          "output_type": "stream",
          "name": "stdout",
          "text": [
            "  % Total    % Received % Xferd  Average Speed   Time    Time     Time  Current\n",
            "                                 Dload  Upload   Total   Spent    Left  Speed\n",
            "100  4472  100  4472    0     0   4614      0 --:--:-- --:--:-- --:--:--  4619\n",
            "  % Total    % Received % Xferd  Average Speed   Time    Time     Time  Current\n",
            "                                 Dload  Upload   Total   Spent    Left  Speed\n",
            " 77 2353M   77 1812M    0     0  27.3M      0  0:01:26  0:01:06  0:00:20 24.9M"
          ]
        }
      ]
    },
    {
      "cell_type": "markdown",
      "source": [
        "Files are accessed using the `Path` package of python's pathlib:"
      ],
      "metadata": {
        "id": "2xk8Q5phbKR4"
      }
    },
    {
      "cell_type": "code",
      "source": [
        "from pathlib import Path"
      ],
      "metadata": {
        "id": "ZA1ibqJoZjgx"
      },
      "execution_count": null,
      "outputs": []
    },
    {
      "cell_type": "markdown",
      "source": [
        "To access a file, we use its path in Path, like so:\n",
        "\n",
        "`Path('Folder/filename.extension')`\n",
        "\n",
        "Path has many methods for files and folder. Including looping over files in folder, checking if a file exists, etc.\n",
        "\n",
        "Read more about it here: https://docs.python.org/3/library/pathlib.html"
      ],
      "metadata": {
        "id": "icYkPSu5bQhG"
      }
    },
    {
      "cell_type": "code",
      "source": [
        "readme_file = Path('README.txt')\n",
        "\n",
        "if readme_file.exists():\n",
        "  # read the text content into a variable\n",
        "  file_content = readme_file.read_text()\n",
        "  print(file_content)\n",
        "else:\n",
        "  print(\"README.txt was not found...\")"
      ],
      "metadata": {
        "id": "kteZ2w0QapcU"
      },
      "execution_count": null,
      "outputs": []
    },
    {
      "cell_type": "markdown",
      "source": [
        "If the file is a `.zip` file, you can open it and read its data without actually extracting all the files from it.\n",
        "\n",
        "https://docs.python.org/3/library/gzip.html\n",
        "\n",
        "Also, [requests](https://requests.readthedocs.io/en/latest/) is a great package of retrieving content from a URL."
      ],
      "metadata": {
        "id": "z4pDENv4cEqR"
      }
    },
    {
      "cell_type": "code",
      "source": [
        "import gzip\n"
      ],
      "metadata": {
        "id": "GjCxwaYDaWqX"
      },
      "execution_count": null,
      "outputs": []
    },
    {
      "cell_type": "code",
      "source": [
        "\n",
        "# this would download the file (but it's 2 GB, and we've already downloaded it before...):\n",
        "# file = requests.get('https://lindat.mff.cuni.cz/repository/xmlui/bitstream/handle/11858/00-097C-0000-0023-6260-A/hindmonocorp05.plaintext.gz')\n",
        "# with gzip.open(file.content, 'rb') as gz:\n",
        "#  ..."
      ],
      "metadata": {
        "id": "tBOjd-J6e5Kt"
      },
      "execution_count": null,
      "outputs": []
    },
    {
      "cell_type": "markdown",
      "source": [
        "In this example, we will open the zip and read the text lines.\n",
        "The text is in hindi, so we have to decode it into `UTF-8` format:"
      ],
      "metadata": {
        "id": "_8CXmJU4i3Ng"
      }
    },
    {
      "cell_type": "code",
      "source": [
        "with gzip.open('hindmonocorp05.plaintext.gz', 'rb') as gz:\n",
        "  for i in range(10):\n",
        "    line = gz.readline()\n",
        "    words = line.decode('utf8').split()\n",
        "    print(words)\n"
      ],
      "metadata": {
        "id": "FaShXt80f691"
      },
      "execution_count": null,
      "outputs": []
    },
    {
      "cell_type": "markdown",
      "source": [
        "**IMPORTANT NOTE**: If your corpuse, like that file example is very large (2.3GB zipped), then please don't load all the text, it will not fit in the memory and will only cause you trouble. Instead, you can just use the first 10 to 20k sentences, or so. For this exercise we just want you to get a hold of the steps and the proces involved in using LDA."
      ],
      "metadata": {
        "id": "SZLMI43toL76"
      }
    },
    {
      "cell_type": "markdown",
      "source": [
        "# Afterword\n",
        "\n",
        "Gensim is not the only library that implements the LDA algorithm.\n",
        "Another package that does LDA is [tomotopy](https://bab2min.github.io/tomotopy/v0.12.3/en/) - sometimes even faster than gensim. Additionaly, it is implemented as part of [Scikit-Learn](https://scikit-learn.org/stable/modules/generated/sklearn.decomposition.LatentDirichletAllocation.html) - which we use often in the course.\n",
        "\n",
        "Here's a jupyter example using Scikit-learn and spaCy: https://nbviewer.org/github/bmabey/pyLDAvis/blob/master/notebooks/sklearn.ipynb\n",
        "\n",
        "Since we won't dive deeper into the LDA topic in this course, if you wish to know more about the statistics behind it, [this video](https://www.youtube.com/watch?v=0jQo8lVRHRY) of a lesson by the researcher [Nando de Freitas](https://linkedin.com/in/nandodefreitas) gives a good overview."
      ],
      "metadata": {
        "id": "gvufRXnxoiwI"
      }
    },
    {
      "cell_type": "code",
      "source": [],
      "metadata": {
        "id": "c6YoKZ45q6AK"
      },
      "execution_count": null,
      "outputs": []
    }
  ]
}