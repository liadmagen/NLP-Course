{
  "nbformat": 4,
  "nbformat_minor": 0,
  "metadata": {
    "colab": {
      "name": "08_LM_embeddings.ipynb",
      "provenance": [],
      "collapsed_sections": [],
      "toc_visible": true,
      "include_colab_link": true
    },
    "kernelspec": {
      "name": "python3",
      "display_name": "Python 3"
    },
    "accelerator": "GPU",
    "widgets": {
      "application/vnd.jupyter.widget-state+json": {
        "a4f9f8d569dd47379cd50ad418e4d4a7": {
          "model_module": "@jupyter-widgets/controls",
          "model_name": "HBoxModel",
          "model_module_version": "1.5.0",
          "state": {
            "_view_name": "HBoxView",
            "_dom_classes": [],
            "_model_name": "HBoxModel",
            "_view_module": "@jupyter-widgets/controls",
            "_model_module_version": "1.5.0",
            "_view_count": null,
            "_view_module_version": "1.5.0",
            "box_style": "",
            "layout": "IPY_MODEL_fdd937c6efb343fe808bd1817cbee81c",
            "_model_module": "@jupyter-widgets/controls",
            "children": [
              "IPY_MODEL_015a71798f2c4ee7939ed43051b39fc4",
              "IPY_MODEL_890b15a73d7d4473b92320e485f8a918",
              "IPY_MODEL_5fc67297a35b4f00b944fc82e3b1bff5"
            ]
          }
        },
        "fdd937c6efb343fe808bd1817cbee81c": {
          "model_module": "@jupyter-widgets/base",
          "model_name": "LayoutModel",
          "model_module_version": "1.2.0",
          "state": {
            "_view_name": "LayoutView",
            "grid_template_rows": null,
            "right": null,
            "justify_content": null,
            "_view_module": "@jupyter-widgets/base",
            "overflow": null,
            "_model_module_version": "1.2.0",
            "_view_count": null,
            "flex_flow": null,
            "width": null,
            "min_width": null,
            "border": null,
            "align_items": null,
            "bottom": null,
            "_model_module": "@jupyter-widgets/base",
            "top": null,
            "grid_column": null,
            "overflow_y": null,
            "overflow_x": null,
            "grid_auto_flow": null,
            "grid_area": null,
            "grid_template_columns": null,
            "flex": null,
            "_model_name": "LayoutModel",
            "justify_items": null,
            "grid_row": null,
            "max_height": null,
            "align_content": null,
            "visibility": null,
            "align_self": null,
            "height": null,
            "min_height": null,
            "padding": null,
            "grid_auto_rows": null,
            "grid_gap": null,
            "max_width": null,
            "order": null,
            "_view_module_version": "1.2.0",
            "grid_template_areas": null,
            "object_position": null,
            "object_fit": null,
            "grid_auto_columns": null,
            "margin": null,
            "display": null,
            "left": null
          }
        },
        "015a71798f2c4ee7939ed43051b39fc4": {
          "model_module": "@jupyter-widgets/controls",
          "model_name": "HTMLModel",
          "model_module_version": "1.5.0",
          "state": {
            "_view_name": "HTMLView",
            "style": "IPY_MODEL_28381785aa644ac8ac2c77ed47fb74c9",
            "_dom_classes": [],
            "description": "",
            "_model_name": "HTMLModel",
            "placeholder": "​",
            "_view_module": "@jupyter-widgets/controls",
            "_model_module_version": "1.5.0",
            "value": " 20%",
            "_view_count": null,
            "_view_module_version": "1.5.0",
            "description_tooltip": null,
            "_model_module": "@jupyter-widgets/controls",
            "layout": "IPY_MODEL_673b6ce22f624dbfa13ccacb69a389f2"
          }
        },
        "890b15a73d7d4473b92320e485f8a918": {
          "model_module": "@jupyter-widgets/controls",
          "model_name": "FloatProgressModel",
          "model_module_version": "1.5.0",
          "state": {
            "_view_name": "ProgressView",
            "style": "IPY_MODEL_18eeebf73b45436fa665ba544462095e",
            "_dom_classes": [],
            "description": "",
            "_model_name": "FloatProgressModel",
            "bar_style": "danger",
            "max": 10,
            "_view_module": "@jupyter-widgets/controls",
            "_model_module_version": "1.5.0",
            "value": 2,
            "_view_count": null,
            "_view_module_version": "1.5.0",
            "orientation": "horizontal",
            "min": 0,
            "description_tooltip": null,
            "_model_module": "@jupyter-widgets/controls",
            "layout": "IPY_MODEL_5b33556048324cc3b0ebbee31b2eb23e"
          }
        },
        "5fc67297a35b4f00b944fc82e3b1bff5": {
          "model_module": "@jupyter-widgets/controls",
          "model_name": "HTMLModel",
          "model_module_version": "1.5.0",
          "state": {
            "_view_name": "HTMLView",
            "style": "IPY_MODEL_2d436e155fc04e67904a6b028ae0bb9a",
            "_dom_classes": [],
            "description": "",
            "_model_name": "HTMLModel",
            "placeholder": "​",
            "_view_module": "@jupyter-widgets/controls",
            "_model_module_version": "1.5.0",
            "value": " 2/10 [34:13&lt;2:08:33, 964.20s/it]",
            "_view_count": null,
            "_view_module_version": "1.5.0",
            "description_tooltip": null,
            "_model_module": "@jupyter-widgets/controls",
            "layout": "IPY_MODEL_1da55357325e4eec8697168647d2604d"
          }
        },
        "28381785aa644ac8ac2c77ed47fb74c9": {
          "model_module": "@jupyter-widgets/controls",
          "model_name": "DescriptionStyleModel",
          "model_module_version": "1.5.0",
          "state": {
            "_view_name": "StyleView",
            "_model_name": "DescriptionStyleModel",
            "description_width": "",
            "_view_module": "@jupyter-widgets/base",
            "_model_module_version": "1.5.0",
            "_view_count": null,
            "_view_module_version": "1.2.0",
            "_model_module": "@jupyter-widgets/controls"
          }
        },
        "673b6ce22f624dbfa13ccacb69a389f2": {
          "model_module": "@jupyter-widgets/base",
          "model_name": "LayoutModel",
          "model_module_version": "1.2.0",
          "state": {
            "_view_name": "LayoutView",
            "grid_template_rows": null,
            "right": null,
            "justify_content": null,
            "_view_module": "@jupyter-widgets/base",
            "overflow": null,
            "_model_module_version": "1.2.0",
            "_view_count": null,
            "flex_flow": null,
            "width": null,
            "min_width": null,
            "border": null,
            "align_items": null,
            "bottom": null,
            "_model_module": "@jupyter-widgets/base",
            "top": null,
            "grid_column": null,
            "overflow_y": null,
            "overflow_x": null,
            "grid_auto_flow": null,
            "grid_area": null,
            "grid_template_columns": null,
            "flex": null,
            "_model_name": "LayoutModel",
            "justify_items": null,
            "grid_row": null,
            "max_height": null,
            "align_content": null,
            "visibility": null,
            "align_self": null,
            "height": null,
            "min_height": null,
            "padding": null,
            "grid_auto_rows": null,
            "grid_gap": null,
            "max_width": null,
            "order": null,
            "_view_module_version": "1.2.0",
            "grid_template_areas": null,
            "object_position": null,
            "object_fit": null,
            "grid_auto_columns": null,
            "margin": null,
            "display": null,
            "left": null
          }
        },
        "18eeebf73b45436fa665ba544462095e": {
          "model_module": "@jupyter-widgets/controls",
          "model_name": "ProgressStyleModel",
          "model_module_version": "1.5.0",
          "state": {
            "_view_name": "StyleView",
            "_model_name": "ProgressStyleModel",
            "description_width": "",
            "_view_module": "@jupyter-widgets/base",
            "_model_module_version": "1.5.0",
            "_view_count": null,
            "_view_module_version": "1.2.0",
            "bar_color": null,
            "_model_module": "@jupyter-widgets/controls"
          }
        },
        "5b33556048324cc3b0ebbee31b2eb23e": {
          "model_module": "@jupyter-widgets/base",
          "model_name": "LayoutModel",
          "model_module_version": "1.2.0",
          "state": {
            "_view_name": "LayoutView",
            "grid_template_rows": null,
            "right": null,
            "justify_content": null,
            "_view_module": "@jupyter-widgets/base",
            "overflow": null,
            "_model_module_version": "1.2.0",
            "_view_count": null,
            "flex_flow": null,
            "width": null,
            "min_width": null,
            "border": null,
            "align_items": null,
            "bottom": null,
            "_model_module": "@jupyter-widgets/base",
            "top": null,
            "grid_column": null,
            "overflow_y": null,
            "overflow_x": null,
            "grid_auto_flow": null,
            "grid_area": null,
            "grid_template_columns": null,
            "flex": null,
            "_model_name": "LayoutModel",
            "justify_items": null,
            "grid_row": null,
            "max_height": null,
            "align_content": null,
            "visibility": null,
            "align_self": null,
            "height": null,
            "min_height": null,
            "padding": null,
            "grid_auto_rows": null,
            "grid_gap": null,
            "max_width": null,
            "order": null,
            "_view_module_version": "1.2.0",
            "grid_template_areas": null,
            "object_position": null,
            "object_fit": null,
            "grid_auto_columns": null,
            "margin": null,
            "display": null,
            "left": null
          }
        },
        "2d436e155fc04e67904a6b028ae0bb9a": {
          "model_module": "@jupyter-widgets/controls",
          "model_name": "DescriptionStyleModel",
          "model_module_version": "1.5.0",
          "state": {
            "_view_name": "StyleView",
            "_model_name": "DescriptionStyleModel",
            "description_width": "",
            "_view_module": "@jupyter-widgets/base",
            "_model_module_version": "1.5.0",
            "_view_count": null,
            "_view_module_version": "1.2.0",
            "_model_module": "@jupyter-widgets/controls"
          }
        },
        "1da55357325e4eec8697168647d2604d": {
          "model_module": "@jupyter-widgets/base",
          "model_name": "LayoutModel",
          "model_module_version": "1.2.0",
          "state": {
            "_view_name": "LayoutView",
            "grid_template_rows": null,
            "right": null,
            "justify_content": null,
            "_view_module": "@jupyter-widgets/base",
            "overflow": null,
            "_model_module_version": "1.2.0",
            "_view_count": null,
            "flex_flow": null,
            "width": null,
            "min_width": null,
            "border": null,
            "align_items": null,
            "bottom": null,
            "_model_module": "@jupyter-widgets/base",
            "top": null,
            "grid_column": null,
            "overflow_y": null,
            "overflow_x": null,
            "grid_auto_flow": null,
            "grid_area": null,
            "grid_template_columns": null,
            "flex": null,
            "_model_name": "LayoutModel",
            "justify_items": null,
            "grid_row": null,
            "max_height": null,
            "align_content": null,
            "visibility": null,
            "align_self": null,
            "height": null,
            "min_height": null,
            "padding": null,
            "grid_auto_rows": null,
            "grid_gap": null,
            "max_width": null,
            "order": null,
            "_view_module_version": "1.2.0",
            "grid_template_areas": null,
            "object_position": null,
            "object_fit": null,
            "grid_auto_columns": null,
            "margin": null,
            "display": null,
            "left": null
          }
        },
        "3376334a730e438db2749e6645ca7ba4": {
          "model_module": "@jupyter-widgets/controls",
          "model_name": "HBoxModel",
          "model_module_version": "1.5.0",
          "state": {
            "_view_name": "HBoxView",
            "_dom_classes": [],
            "_model_name": "HBoxModel",
            "_view_module": "@jupyter-widgets/controls",
            "_model_module_version": "1.5.0",
            "_view_count": null,
            "_view_module_version": "1.5.0",
            "box_style": "",
            "layout": "IPY_MODEL_48e2f75efbcf4e768d0324068a45c9fa",
            "_model_module": "@jupyter-widgets/controls",
            "children": [
              "IPY_MODEL_d97554a07c1a41008b16edd8ac778018",
              "IPY_MODEL_d4997d13cb6745d6af8df25fd6ae614c",
              "IPY_MODEL_691c61a1b1f44c2292df55d07da7b1bd"
            ]
          }
        },
        "48e2f75efbcf4e768d0324068a45c9fa": {
          "model_module": "@jupyter-widgets/base",
          "model_name": "LayoutModel",
          "model_module_version": "1.2.0",
          "state": {
            "_view_name": "LayoutView",
            "grid_template_rows": null,
            "right": null,
            "justify_content": null,
            "_view_module": "@jupyter-widgets/base",
            "overflow": null,
            "_model_module_version": "1.2.0",
            "_view_count": null,
            "flex_flow": null,
            "width": null,
            "min_width": null,
            "border": null,
            "align_items": null,
            "bottom": null,
            "_model_module": "@jupyter-widgets/base",
            "top": null,
            "grid_column": null,
            "overflow_y": null,
            "overflow_x": null,
            "grid_auto_flow": null,
            "grid_area": null,
            "grid_template_columns": null,
            "flex": null,
            "_model_name": "LayoutModel",
            "justify_items": null,
            "grid_row": null,
            "max_height": null,
            "align_content": null,
            "visibility": null,
            "align_self": null,
            "height": null,
            "min_height": null,
            "padding": null,
            "grid_auto_rows": null,
            "grid_gap": null,
            "max_width": null,
            "order": null,
            "_view_module_version": "1.2.0",
            "grid_template_areas": null,
            "object_position": null,
            "object_fit": null,
            "grid_auto_columns": null,
            "margin": null,
            "display": null,
            "left": null
          }
        },
        "d97554a07c1a41008b16edd8ac778018": {
          "model_module": "@jupyter-widgets/controls",
          "model_name": "HTMLModel",
          "model_module_version": "1.5.0",
          "state": {
            "_view_name": "HTMLView",
            "style": "IPY_MODEL_7f3262aa407c4621aeee9ffdeccff5bc",
            "_dom_classes": [],
            "description": "",
            "_model_name": "HTMLModel",
            "placeholder": "​",
            "_view_module": "@jupyter-widgets/controls",
            "_model_module_version": "1.5.0",
            "value": "100%",
            "_view_count": null,
            "_view_module_version": "1.5.0",
            "description_tooltip": null,
            "_model_module": "@jupyter-widgets/controls",
            "layout": "IPY_MODEL_843f4f35598e445c92d5c017369f951a"
          }
        },
        "d4997d13cb6745d6af8df25fd6ae614c": {
          "model_module": "@jupyter-widgets/controls",
          "model_name": "FloatProgressModel",
          "model_module_version": "1.5.0",
          "state": {
            "_view_name": "ProgressView",
            "style": "IPY_MODEL_757360c33eed4192bbeba89b58b98109",
            "_dom_classes": [],
            "description": "",
            "_model_name": "FloatProgressModel",
            "bar_style": "success",
            "max": 25000,
            "_view_module": "@jupyter-widgets/controls",
            "_model_module_version": "1.5.0",
            "value": 25000,
            "_view_count": null,
            "_view_module_version": "1.5.0",
            "orientation": "horizontal",
            "min": 0,
            "description_tooltip": null,
            "_model_module": "@jupyter-widgets/controls",
            "layout": "IPY_MODEL_7a2b6428c3cf47a2b6de7c64fd7cf283"
          }
        },
        "691c61a1b1f44c2292df55d07da7b1bd": {
          "model_module": "@jupyter-widgets/controls",
          "model_name": "HTMLModel",
          "model_module_version": "1.5.0",
          "state": {
            "_view_name": "HTMLView",
            "style": "IPY_MODEL_91b6f90282224745919fc96f01355f1f",
            "_dom_classes": [],
            "description": "",
            "_model_name": "HTMLModel",
            "placeholder": "​",
            "_view_module": "@jupyter-widgets/controls",
            "_model_module_version": "1.5.0",
            "value": " 25000/25000 [16:03&lt;00:00, 25.86it/s]",
            "_view_count": null,
            "_view_module_version": "1.5.0",
            "description_tooltip": null,
            "_model_module": "@jupyter-widgets/controls",
            "layout": "IPY_MODEL_05df6c24eaad42b399dd65958f1b020e"
          }
        },
        "7f3262aa407c4621aeee9ffdeccff5bc": {
          "model_module": "@jupyter-widgets/controls",
          "model_name": "DescriptionStyleModel",
          "model_module_version": "1.5.0",
          "state": {
            "_view_name": "StyleView",
            "_model_name": "DescriptionStyleModel",
            "description_width": "",
            "_view_module": "@jupyter-widgets/base",
            "_model_module_version": "1.5.0",
            "_view_count": null,
            "_view_module_version": "1.2.0",
            "_model_module": "@jupyter-widgets/controls"
          }
        },
        "843f4f35598e445c92d5c017369f951a": {
          "model_module": "@jupyter-widgets/base",
          "model_name": "LayoutModel",
          "model_module_version": "1.2.0",
          "state": {
            "_view_name": "LayoutView",
            "grid_template_rows": null,
            "right": null,
            "justify_content": null,
            "_view_module": "@jupyter-widgets/base",
            "overflow": null,
            "_model_module_version": "1.2.0",
            "_view_count": null,
            "flex_flow": null,
            "width": null,
            "min_width": null,
            "border": null,
            "align_items": null,
            "bottom": null,
            "_model_module": "@jupyter-widgets/base",
            "top": null,
            "grid_column": null,
            "overflow_y": null,
            "overflow_x": null,
            "grid_auto_flow": null,
            "grid_area": null,
            "grid_template_columns": null,
            "flex": null,
            "_model_name": "LayoutModel",
            "justify_items": null,
            "grid_row": null,
            "max_height": null,
            "align_content": null,
            "visibility": null,
            "align_self": null,
            "height": null,
            "min_height": null,
            "padding": null,
            "grid_auto_rows": null,
            "grid_gap": null,
            "max_width": null,
            "order": null,
            "_view_module_version": "1.2.0",
            "grid_template_areas": null,
            "object_position": null,
            "object_fit": null,
            "grid_auto_columns": null,
            "margin": null,
            "display": null,
            "left": null
          }
        },
        "757360c33eed4192bbeba89b58b98109": {
          "model_module": "@jupyter-widgets/controls",
          "model_name": "ProgressStyleModel",
          "model_module_version": "1.5.0",
          "state": {
            "_view_name": "StyleView",
            "_model_name": "ProgressStyleModel",
            "description_width": "",
            "_view_module": "@jupyter-widgets/base",
            "_model_module_version": "1.5.0",
            "_view_count": null,
            "_view_module_version": "1.2.0",
            "bar_color": null,
            "_model_module": "@jupyter-widgets/controls"
          }
        },
        "7a2b6428c3cf47a2b6de7c64fd7cf283": {
          "model_module": "@jupyter-widgets/base",
          "model_name": "LayoutModel",
          "model_module_version": "1.2.0",
          "state": {
            "_view_name": "LayoutView",
            "grid_template_rows": null,
            "right": null,
            "justify_content": null,
            "_view_module": "@jupyter-widgets/base",
            "overflow": null,
            "_model_module_version": "1.2.0",
            "_view_count": null,
            "flex_flow": null,
            "width": null,
            "min_width": null,
            "border": null,
            "align_items": null,
            "bottom": null,
            "_model_module": "@jupyter-widgets/base",
            "top": null,
            "grid_column": null,
            "overflow_y": null,
            "overflow_x": null,
            "grid_auto_flow": null,
            "grid_area": null,
            "grid_template_columns": null,
            "flex": null,
            "_model_name": "LayoutModel",
            "justify_items": null,
            "grid_row": null,
            "max_height": null,
            "align_content": null,
            "visibility": null,
            "align_self": null,
            "height": null,
            "min_height": null,
            "padding": null,
            "grid_auto_rows": null,
            "grid_gap": null,
            "max_width": null,
            "order": null,
            "_view_module_version": "1.2.0",
            "grid_template_areas": null,
            "object_position": null,
            "object_fit": null,
            "grid_auto_columns": null,
            "margin": null,
            "display": null,
            "left": null
          }
        },
        "91b6f90282224745919fc96f01355f1f": {
          "model_module": "@jupyter-widgets/controls",
          "model_name": "DescriptionStyleModel",
          "model_module_version": "1.5.0",
          "state": {
            "_view_name": "StyleView",
            "_model_name": "DescriptionStyleModel",
            "description_width": "",
            "_view_module": "@jupyter-widgets/base",
            "_model_module_version": "1.5.0",
            "_view_count": null,
            "_view_module_version": "1.2.0",
            "_model_module": "@jupyter-widgets/controls"
          }
        },
        "05df6c24eaad42b399dd65958f1b020e": {
          "model_module": "@jupyter-widgets/base",
          "model_name": "LayoutModel",
          "model_module_version": "1.2.0",
          "state": {
            "_view_name": "LayoutView",
            "grid_template_rows": null,
            "right": null,
            "justify_content": null,
            "_view_module": "@jupyter-widgets/base",
            "overflow": null,
            "_model_module_version": "1.2.0",
            "_view_count": null,
            "flex_flow": null,
            "width": null,
            "min_width": null,
            "border": null,
            "align_items": null,
            "bottom": null,
            "_model_module": "@jupyter-widgets/base",
            "top": null,
            "grid_column": null,
            "overflow_y": null,
            "overflow_x": null,
            "grid_auto_flow": null,
            "grid_area": null,
            "grid_template_columns": null,
            "flex": null,
            "_model_name": "LayoutModel",
            "justify_items": null,
            "grid_row": null,
            "max_height": null,
            "align_content": null,
            "visibility": null,
            "align_self": null,
            "height": null,
            "min_height": null,
            "padding": null,
            "grid_auto_rows": null,
            "grid_gap": null,
            "max_width": null,
            "order": null,
            "_view_module_version": "1.2.0",
            "grid_template_areas": null,
            "object_position": null,
            "object_fit": null,
            "grid_auto_columns": null,
            "margin": null,
            "display": null,
            "left": null
          }
        },
        "2569805ab5bb40b78c507befc9a81cf0": {
          "model_module": "@jupyter-widgets/controls",
          "model_name": "HBoxModel",
          "model_module_version": "1.5.0",
          "state": {
            "_view_name": "HBoxView",
            "_dom_classes": [],
            "_model_name": "HBoxModel",
            "_view_module": "@jupyter-widgets/controls",
            "_model_module_version": "1.5.0",
            "_view_count": null,
            "_view_module_version": "1.5.0",
            "box_style": "",
            "layout": "IPY_MODEL_7a0b1f959993417785f38349f4db9f43",
            "_model_module": "@jupyter-widgets/controls",
            "children": [
              "IPY_MODEL_83f98a364f604f36807b29c5cf832495",
              "IPY_MODEL_d1bf070e62a542ca98f68c9b6af80675",
              "IPY_MODEL_0e99a28f8f144e50b75dfcc8625f269f"
            ]
          }
        },
        "7a0b1f959993417785f38349f4db9f43": {
          "model_module": "@jupyter-widgets/base",
          "model_name": "LayoutModel",
          "model_module_version": "1.2.0",
          "state": {
            "_view_name": "LayoutView",
            "grid_template_rows": null,
            "right": null,
            "justify_content": null,
            "_view_module": "@jupyter-widgets/base",
            "overflow": null,
            "_model_module_version": "1.2.0",
            "_view_count": null,
            "flex_flow": null,
            "width": null,
            "min_width": null,
            "border": null,
            "align_items": null,
            "bottom": null,
            "_model_module": "@jupyter-widgets/base",
            "top": null,
            "grid_column": null,
            "overflow_y": null,
            "overflow_x": null,
            "grid_auto_flow": null,
            "grid_area": null,
            "grid_template_columns": null,
            "flex": null,
            "_model_name": "LayoutModel",
            "justify_items": null,
            "grid_row": null,
            "max_height": null,
            "align_content": null,
            "visibility": null,
            "align_self": null,
            "height": null,
            "min_height": null,
            "padding": null,
            "grid_auto_rows": null,
            "grid_gap": null,
            "max_width": null,
            "order": null,
            "_view_module_version": "1.2.0",
            "grid_template_areas": null,
            "object_position": null,
            "object_fit": null,
            "grid_auto_columns": null,
            "margin": null,
            "display": null,
            "left": null
          }
        },
        "83f98a364f604f36807b29c5cf832495": {
          "model_module": "@jupyter-widgets/controls",
          "model_name": "HTMLModel",
          "model_module_version": "1.5.0",
          "state": {
            "_view_name": "HTMLView",
            "style": "IPY_MODEL_0c3da0f913b44d6f8f1428564b43b106",
            "_dom_classes": [],
            "description": "",
            "_model_name": "HTMLModel",
            "placeholder": "​",
            "_view_module": "@jupyter-widgets/controls",
            "_model_module_version": "1.5.0",
            "value": "100%",
            "_view_count": null,
            "_view_module_version": "1.5.0",
            "description_tooltip": null,
            "_model_module": "@jupyter-widgets/controls",
            "layout": "IPY_MODEL_8e9317e7367b424a90a9a21fcc856442"
          }
        },
        "d1bf070e62a542ca98f68c9b6af80675": {
          "model_module": "@jupyter-widgets/controls",
          "model_name": "FloatProgressModel",
          "model_module_version": "1.5.0",
          "state": {
            "_view_name": "ProgressView",
            "style": "IPY_MODEL_e9b0c0b22f0c4850a44dc948e6b0804d",
            "_dom_classes": [],
            "description": "",
            "_model_name": "FloatProgressModel",
            "bar_style": "success",
            "max": 25000,
            "_view_module": "@jupyter-widgets/controls",
            "_model_module_version": "1.5.0",
            "value": 25000,
            "_view_count": null,
            "_view_module_version": "1.5.0",
            "orientation": "horizontal",
            "min": 0,
            "description_tooltip": null,
            "_model_module": "@jupyter-widgets/controls",
            "layout": "IPY_MODEL_9f88977a5a2a44d994410bd1f4c00a40"
          }
        },
        "0e99a28f8f144e50b75dfcc8625f269f": {
          "model_module": "@jupyter-widgets/controls",
          "model_name": "HTMLModel",
          "model_module_version": "1.5.0",
          "state": {
            "_view_name": "HTMLView",
            "style": "IPY_MODEL_23dfeee390234211834eceaf9b944c8f",
            "_dom_classes": [],
            "description": "",
            "_model_name": "HTMLModel",
            "placeholder": "​",
            "_view_module": "@jupyter-widgets/controls",
            "_model_module_version": "1.5.0",
            "value": " 25000/25000 [16:04&lt;00:00, 25.97it/s]",
            "_view_count": null,
            "_view_module_version": "1.5.0",
            "description_tooltip": null,
            "_model_module": "@jupyter-widgets/controls",
            "layout": "IPY_MODEL_e804ca990bca45c3b50c5d883020b107"
          }
        },
        "0c3da0f913b44d6f8f1428564b43b106": {
          "model_module": "@jupyter-widgets/controls",
          "model_name": "DescriptionStyleModel",
          "model_module_version": "1.5.0",
          "state": {
            "_view_name": "StyleView",
            "_model_name": "DescriptionStyleModel",
            "description_width": "",
            "_view_module": "@jupyter-widgets/base",
            "_model_module_version": "1.5.0",
            "_view_count": null,
            "_view_module_version": "1.2.0",
            "_model_module": "@jupyter-widgets/controls"
          }
        },
        "8e9317e7367b424a90a9a21fcc856442": {
          "model_module": "@jupyter-widgets/base",
          "model_name": "LayoutModel",
          "model_module_version": "1.2.0",
          "state": {
            "_view_name": "LayoutView",
            "grid_template_rows": null,
            "right": null,
            "justify_content": null,
            "_view_module": "@jupyter-widgets/base",
            "overflow": null,
            "_model_module_version": "1.2.0",
            "_view_count": null,
            "flex_flow": null,
            "width": null,
            "min_width": null,
            "border": null,
            "align_items": null,
            "bottom": null,
            "_model_module": "@jupyter-widgets/base",
            "top": null,
            "grid_column": null,
            "overflow_y": null,
            "overflow_x": null,
            "grid_auto_flow": null,
            "grid_area": null,
            "grid_template_columns": null,
            "flex": null,
            "_model_name": "LayoutModel",
            "justify_items": null,
            "grid_row": null,
            "max_height": null,
            "align_content": null,
            "visibility": null,
            "align_self": null,
            "height": null,
            "min_height": null,
            "padding": null,
            "grid_auto_rows": null,
            "grid_gap": null,
            "max_width": null,
            "order": null,
            "_view_module_version": "1.2.0",
            "grid_template_areas": null,
            "object_position": null,
            "object_fit": null,
            "grid_auto_columns": null,
            "margin": null,
            "display": null,
            "left": null
          }
        },
        "e9b0c0b22f0c4850a44dc948e6b0804d": {
          "model_module": "@jupyter-widgets/controls",
          "model_name": "ProgressStyleModel",
          "model_module_version": "1.5.0",
          "state": {
            "_view_name": "StyleView",
            "_model_name": "ProgressStyleModel",
            "description_width": "",
            "_view_module": "@jupyter-widgets/base",
            "_model_module_version": "1.5.0",
            "_view_count": null,
            "_view_module_version": "1.2.0",
            "bar_color": null,
            "_model_module": "@jupyter-widgets/controls"
          }
        },
        "9f88977a5a2a44d994410bd1f4c00a40": {
          "model_module": "@jupyter-widgets/base",
          "model_name": "LayoutModel",
          "model_module_version": "1.2.0",
          "state": {
            "_view_name": "LayoutView",
            "grid_template_rows": null,
            "right": null,
            "justify_content": null,
            "_view_module": "@jupyter-widgets/base",
            "overflow": null,
            "_model_module_version": "1.2.0",
            "_view_count": null,
            "flex_flow": null,
            "width": null,
            "min_width": null,
            "border": null,
            "align_items": null,
            "bottom": null,
            "_model_module": "@jupyter-widgets/base",
            "top": null,
            "grid_column": null,
            "overflow_y": null,
            "overflow_x": null,
            "grid_auto_flow": null,
            "grid_area": null,
            "grid_template_columns": null,
            "flex": null,
            "_model_name": "LayoutModel",
            "justify_items": null,
            "grid_row": null,
            "max_height": null,
            "align_content": null,
            "visibility": null,
            "align_self": null,
            "height": null,
            "min_height": null,
            "padding": null,
            "grid_auto_rows": null,
            "grid_gap": null,
            "max_width": null,
            "order": null,
            "_view_module_version": "1.2.0",
            "grid_template_areas": null,
            "object_position": null,
            "object_fit": null,
            "grid_auto_columns": null,
            "margin": null,
            "display": null,
            "left": null
          }
        },
        "23dfeee390234211834eceaf9b944c8f": {
          "model_module": "@jupyter-widgets/controls",
          "model_name": "DescriptionStyleModel",
          "model_module_version": "1.5.0",
          "state": {
            "_view_name": "StyleView",
            "_model_name": "DescriptionStyleModel",
            "description_width": "",
            "_view_module": "@jupyter-widgets/base",
            "_model_module_version": "1.5.0",
            "_view_count": null,
            "_view_module_version": "1.2.0",
            "_model_module": "@jupyter-widgets/controls"
          }
        },
        "e804ca990bca45c3b50c5d883020b107": {
          "model_module": "@jupyter-widgets/base",
          "model_name": "LayoutModel",
          "model_module_version": "1.2.0",
          "state": {
            "_view_name": "LayoutView",
            "grid_template_rows": null,
            "right": null,
            "justify_content": null,
            "_view_module": "@jupyter-widgets/base",
            "overflow": null,
            "_model_module_version": "1.2.0",
            "_view_count": null,
            "flex_flow": null,
            "width": null,
            "min_width": null,
            "border": null,
            "align_items": null,
            "bottom": null,
            "_model_module": "@jupyter-widgets/base",
            "top": null,
            "grid_column": null,
            "overflow_y": null,
            "overflow_x": null,
            "grid_auto_flow": null,
            "grid_area": null,
            "grid_template_columns": null,
            "flex": null,
            "_model_name": "LayoutModel",
            "justify_items": null,
            "grid_row": null,
            "max_height": null,
            "align_content": null,
            "visibility": null,
            "align_self": null,
            "height": null,
            "min_height": null,
            "padding": null,
            "grid_auto_rows": null,
            "grid_gap": null,
            "max_width": null,
            "order": null,
            "_view_module_version": "1.2.0",
            "grid_template_areas": null,
            "object_position": null,
            "object_fit": null,
            "grid_auto_columns": null,
            "margin": null,
            "display": null,
            "left": null
          }
        },
        "055e6fbf07da407f9f742c92e380e3eb": {
          "model_module": "@jupyter-widgets/controls",
          "model_name": "HBoxModel",
          "model_module_version": "1.5.0",
          "state": {
            "_view_name": "HBoxView",
            "_dom_classes": [],
            "_model_name": "HBoxModel",
            "_view_module": "@jupyter-widgets/controls",
            "_model_module_version": "1.5.0",
            "_view_count": null,
            "_view_module_version": "1.5.0",
            "box_style": "",
            "layout": "IPY_MODEL_cccd6b13414b46c8ab782e0149014676",
            "_model_module": "@jupyter-widgets/controls",
            "children": [
              "IPY_MODEL_fc9b87cb8d474eff861e128d0951931b",
              "IPY_MODEL_f86418e7936749b6b7443613d0d2eeaa",
              "IPY_MODEL_0d1b24284c3f4774bcdf344ae8994f22"
            ]
          }
        },
        "cccd6b13414b46c8ab782e0149014676": {
          "model_module": "@jupyter-widgets/base",
          "model_name": "LayoutModel",
          "model_module_version": "1.2.0",
          "state": {
            "_view_name": "LayoutView",
            "grid_template_rows": null,
            "right": null,
            "justify_content": null,
            "_view_module": "@jupyter-widgets/base",
            "overflow": null,
            "_model_module_version": "1.2.0",
            "_view_count": null,
            "flex_flow": null,
            "width": null,
            "min_width": null,
            "border": null,
            "align_items": null,
            "bottom": null,
            "_model_module": "@jupyter-widgets/base",
            "top": null,
            "grid_column": null,
            "overflow_y": null,
            "overflow_x": null,
            "grid_auto_flow": null,
            "grid_area": null,
            "grid_template_columns": null,
            "flex": null,
            "_model_name": "LayoutModel",
            "justify_items": null,
            "grid_row": null,
            "max_height": null,
            "align_content": null,
            "visibility": null,
            "align_self": null,
            "height": null,
            "min_height": null,
            "padding": null,
            "grid_auto_rows": null,
            "grid_gap": null,
            "max_width": null,
            "order": null,
            "_view_module_version": "1.2.0",
            "grid_template_areas": null,
            "object_position": null,
            "object_fit": null,
            "grid_auto_columns": null,
            "margin": null,
            "display": null,
            "left": null
          }
        },
        "fc9b87cb8d474eff861e128d0951931b": {
          "model_module": "@jupyter-widgets/controls",
          "model_name": "HTMLModel",
          "model_module_version": "1.5.0",
          "state": {
            "_view_name": "HTMLView",
            "style": "IPY_MODEL_c8aea14467de4d87bbdbc5ae7b9c8474",
            "_dom_classes": [],
            "description": "",
            "_model_name": "HTMLModel",
            "placeholder": "​",
            "_view_module": "@jupyter-widgets/controls",
            "_model_module_version": "1.5.0",
            "value": " 13%",
            "_view_count": null,
            "_view_module_version": "1.5.0",
            "description_tooltip": null,
            "_model_module": "@jupyter-widgets/controls",
            "layout": "IPY_MODEL_09aab15b735842ccb287647bc3acc45c"
          }
        },
        "f86418e7936749b6b7443613d0d2eeaa": {
          "model_module": "@jupyter-widgets/controls",
          "model_name": "FloatProgressModel",
          "model_module_version": "1.5.0",
          "state": {
            "_view_name": "ProgressView",
            "style": "IPY_MODEL_5d87b6e1c40d4580920d95ed26588edb",
            "_dom_classes": [],
            "description": "",
            "_model_name": "FloatProgressModel",
            "bar_style": "danger",
            "max": 25000,
            "_view_module": "@jupyter-widgets/controls",
            "_model_module_version": "1.5.0",
            "value": 3235,
            "_view_count": null,
            "_view_module_version": "1.5.0",
            "orientation": "horizontal",
            "min": 0,
            "description_tooltip": null,
            "_model_module": "@jupyter-widgets/controls",
            "layout": "IPY_MODEL_e03ce9a254e946c08c1cba4318bb018c"
          }
        },
        "0d1b24284c3f4774bcdf344ae8994f22": {
          "model_module": "@jupyter-widgets/controls",
          "model_name": "HTMLModel",
          "model_module_version": "1.5.0",
          "state": {
            "_view_name": "HTMLView",
            "style": "IPY_MODEL_50a5eeb82e884e9686d6bbdbb4519606",
            "_dom_classes": [],
            "description": "",
            "_model_name": "HTMLModel",
            "placeholder": "​",
            "_view_module": "@jupyter-widgets/controls",
            "_model_module_version": "1.5.0",
            "value": " 3235/25000 [02:05&lt;14:07, 25.69it/s]",
            "_view_count": null,
            "_view_module_version": "1.5.0",
            "description_tooltip": null,
            "_model_module": "@jupyter-widgets/controls",
            "layout": "IPY_MODEL_6c728072cec4451d8080a2bf8fb106e9"
          }
        },
        "c8aea14467de4d87bbdbc5ae7b9c8474": {
          "model_module": "@jupyter-widgets/controls",
          "model_name": "DescriptionStyleModel",
          "model_module_version": "1.5.0",
          "state": {
            "_view_name": "StyleView",
            "_model_name": "DescriptionStyleModel",
            "description_width": "",
            "_view_module": "@jupyter-widgets/base",
            "_model_module_version": "1.5.0",
            "_view_count": null,
            "_view_module_version": "1.2.0",
            "_model_module": "@jupyter-widgets/controls"
          }
        },
        "09aab15b735842ccb287647bc3acc45c": {
          "model_module": "@jupyter-widgets/base",
          "model_name": "LayoutModel",
          "model_module_version": "1.2.0",
          "state": {
            "_view_name": "LayoutView",
            "grid_template_rows": null,
            "right": null,
            "justify_content": null,
            "_view_module": "@jupyter-widgets/base",
            "overflow": null,
            "_model_module_version": "1.2.0",
            "_view_count": null,
            "flex_flow": null,
            "width": null,
            "min_width": null,
            "border": null,
            "align_items": null,
            "bottom": null,
            "_model_module": "@jupyter-widgets/base",
            "top": null,
            "grid_column": null,
            "overflow_y": null,
            "overflow_x": null,
            "grid_auto_flow": null,
            "grid_area": null,
            "grid_template_columns": null,
            "flex": null,
            "_model_name": "LayoutModel",
            "justify_items": null,
            "grid_row": null,
            "max_height": null,
            "align_content": null,
            "visibility": null,
            "align_self": null,
            "height": null,
            "min_height": null,
            "padding": null,
            "grid_auto_rows": null,
            "grid_gap": null,
            "max_width": null,
            "order": null,
            "_view_module_version": "1.2.0",
            "grid_template_areas": null,
            "object_position": null,
            "object_fit": null,
            "grid_auto_columns": null,
            "margin": null,
            "display": null,
            "left": null
          }
        },
        "5d87b6e1c40d4580920d95ed26588edb": {
          "model_module": "@jupyter-widgets/controls",
          "model_name": "ProgressStyleModel",
          "model_module_version": "1.5.0",
          "state": {
            "_view_name": "StyleView",
            "_model_name": "ProgressStyleModel",
            "description_width": "",
            "_view_module": "@jupyter-widgets/base",
            "_model_module_version": "1.5.0",
            "_view_count": null,
            "_view_module_version": "1.2.0",
            "bar_color": null,
            "_model_module": "@jupyter-widgets/controls"
          }
        },
        "e03ce9a254e946c08c1cba4318bb018c": {
          "model_module": "@jupyter-widgets/base",
          "model_name": "LayoutModel",
          "model_module_version": "1.2.0",
          "state": {
            "_view_name": "LayoutView",
            "grid_template_rows": null,
            "right": null,
            "justify_content": null,
            "_view_module": "@jupyter-widgets/base",
            "overflow": null,
            "_model_module_version": "1.2.0",
            "_view_count": null,
            "flex_flow": null,
            "width": null,
            "min_width": null,
            "border": null,
            "align_items": null,
            "bottom": null,
            "_model_module": "@jupyter-widgets/base",
            "top": null,
            "grid_column": null,
            "overflow_y": null,
            "overflow_x": null,
            "grid_auto_flow": null,
            "grid_area": null,
            "grid_template_columns": null,
            "flex": null,
            "_model_name": "LayoutModel",
            "justify_items": null,
            "grid_row": null,
            "max_height": null,
            "align_content": null,
            "visibility": null,
            "align_self": null,
            "height": null,
            "min_height": null,
            "padding": null,
            "grid_auto_rows": null,
            "grid_gap": null,
            "max_width": null,
            "order": null,
            "_view_module_version": "1.2.0",
            "grid_template_areas": null,
            "object_position": null,
            "object_fit": null,
            "grid_auto_columns": null,
            "margin": null,
            "display": null,
            "left": null
          }
        },
        "50a5eeb82e884e9686d6bbdbb4519606": {
          "model_module": "@jupyter-widgets/controls",
          "model_name": "DescriptionStyleModel",
          "model_module_version": "1.5.0",
          "state": {
            "_view_name": "StyleView",
            "_model_name": "DescriptionStyleModel",
            "description_width": "",
            "_view_module": "@jupyter-widgets/base",
            "_model_module_version": "1.5.0",
            "_view_count": null,
            "_view_module_version": "1.2.0",
            "_model_module": "@jupyter-widgets/controls"
          }
        },
        "6c728072cec4451d8080a2bf8fb106e9": {
          "model_module": "@jupyter-widgets/base",
          "model_name": "LayoutModel",
          "model_module_version": "1.2.0",
          "state": {
            "_view_name": "LayoutView",
            "grid_template_rows": null,
            "right": null,
            "justify_content": null,
            "_view_module": "@jupyter-widgets/base",
            "overflow": null,
            "_model_module_version": "1.2.0",
            "_view_count": null,
            "flex_flow": null,
            "width": null,
            "min_width": null,
            "border": null,
            "align_items": null,
            "bottom": null,
            "_model_module": "@jupyter-widgets/base",
            "top": null,
            "grid_column": null,
            "overflow_y": null,
            "overflow_x": null,
            "grid_auto_flow": null,
            "grid_area": null,
            "grid_template_columns": null,
            "flex": null,
            "_model_name": "LayoutModel",
            "justify_items": null,
            "grid_row": null,
            "max_height": null,
            "align_content": null,
            "visibility": null,
            "align_self": null,
            "height": null,
            "min_height": null,
            "padding": null,
            "grid_auto_rows": null,
            "grid_gap": null,
            "max_width": null,
            "order": null,
            "_view_module_version": "1.2.0",
            "grid_template_areas": null,
            "object_position": null,
            "object_fit": null,
            "grid_auto_columns": null,
            "margin": null,
            "display": null,
            "left": null
          }
        }
      }
    }
  },
  "cells": [
    {
      "cell_type": "markdown",
      "metadata": {
        "id": "view-in-github",
        "colab_type": "text"
      },
      "source": [
        "<a href=\"https://colab.research.google.com/github/liadmagen/NLP-Course/blob/master/exercises_notebooks/08_LM_embeddings.ipynb\" target=\"_parent\"><img src=\"https://colab.research.google.com/assets/colab-badge.svg\" alt=\"Open In Colab\"/></a>"
      ]
    },
    {
      "cell_type": "markdown",
      "metadata": {
        "id": "93nOAMLOe6_d"
      },
      "source": [
        "# Word Embedding\n",
        "\n"
      ]
    },
    {
      "cell_type": "markdown",
      "metadata": {
        "id": "oLZVEibVfGvF"
      },
      "source": [
        "## Playing with pre-trained word embeddings"
      ]
    },
    {
      "cell_type": "markdown",
      "metadata": {
        "id": "m6ztl7jugHQz"
      },
      "source": [
        "### Setup and vector download\n",
        "Download the pre-trained word vectors; this takes a minute (~1.5gb)"
      ]
    },
    {
      "cell_type": "code",
      "metadata": {
        "id": "4BSSDJ8hYfDC"
      },
      "source": [
        " import numpy as np\n",
        " from tqdm.notebook import tqdm"
      ],
      "execution_count": 37,
      "outputs": []
    },
    {
      "cell_type": "code",
      "metadata": {
        "id": "qYZ09121e4CO",
        "outputId": "46d1405e-1090-439b-c4d7-4c3e80438d9a",
        "colab": {
          "base_uri": "https://localhost:8080/"
        }
      },
      "source": [
        "!wget -P /root/input/ -c \"https://s3.amazonaws.com/dl4j-distribution/GoogleNews-vectors-negative300.bin.gz\""
      ],
      "execution_count": 2,
      "outputs": [
        {
          "output_type": "stream",
          "name": "stdout",
          "text": [
            "--2022-01-23 14:31:22--  https://s3.amazonaws.com/dl4j-distribution/GoogleNews-vectors-negative300.bin.gz\n",
            "Resolving s3.amazonaws.com (s3.amazonaws.com)... 52.216.130.61\n",
            "Connecting to s3.amazonaws.com (s3.amazonaws.com)|52.216.130.61|:443... connected.\n",
            "HTTP request sent, awaiting response... 200 OK\n",
            "Length: 1647046227 (1.5G) [application/x-gzip]\n",
            "Saving to: ‘/root/input/GoogleNews-vectors-negative300.bin.gz’\n",
            "\n",
            "GoogleNews-vectors- 100%[===================>]   1.53G  52.4MB/s    in 33s     \n",
            "\n",
            "2022-01-23 14:31:55 (47.7 MB/s) - ‘/root/input/GoogleNews-vectors-negative300.bin.gz’ saved [1647046227/1647046227]\n",
            "\n"
          ]
        }
      ]
    },
    {
      "cell_type": "markdown",
      "metadata": {
        "id": "kkhN5vXJgLN5"
      },
      "source": [
        "Install `gensim`, a useful NLP library that we will use to load w2v embeddings"
      ]
    },
    {
      "cell_type": "code",
      "metadata": {
        "id": "zAGXYqxLgGVB",
        "outputId": "9f3c708c-fe05-4b4d-fa15-52a9ff0f9510",
        "colab": {
          "base_uri": "https://localhost:8080/"
        }
      },
      "source": [
        "!pip install gensim\n",
        "from gensim.models import KeyedVectors"
      ],
      "execution_count": 3,
      "outputs": [
        {
          "output_type": "stream",
          "name": "stdout",
          "text": [
            "Requirement already satisfied: gensim in /usr/local/lib/python3.7/dist-packages (3.6.0)\n",
            "Requirement already satisfied: numpy>=1.11.3 in /usr/local/lib/python3.7/dist-packages (from gensim) (1.19.5)\n",
            "Requirement already satisfied: scipy>=0.18.1 in /usr/local/lib/python3.7/dist-packages (from gensim) (1.4.1)\n",
            "Requirement already satisfied: smart-open>=1.2.1 in /usr/local/lib/python3.7/dist-packages (from gensim) (5.2.1)\n",
            "Requirement already satisfied: six>=1.5.0 in /usr/local/lib/python3.7/dist-packages (from gensim) (1.15.0)\n"
          ]
        }
      ]
    },
    {
      "cell_type": "code",
      "metadata": {
        "id": "Ym8M2wjkf2_e"
      },
      "source": [
        "EMBEDDING_FILE = '/root/input/GoogleNews-vectors-negative300.bin.gz' # from above\n",
        "word2vec = KeyedVectors.load_word2vec_format(EMBEDDING_FILE, binary=True)"
      ],
      "execution_count": 4,
      "outputs": []
    },
    {
      "cell_type": "markdown",
      "source": [
        "### Introduction\n",
        "Let's examine these Word Embedding.\n",
        "\n",
        "We'll check first their size, then create a cosine-similarity function and compare vectors to each other.\n",
        "\n",
        "Try replacing the words with other words and check the results."
      ],
      "metadata": {
        "id": "SfV_CaMPOhoY"
      }
    },
    {
      "cell_type": "code",
      "metadata": {
        "id": "eLAVZuBfgaYh",
        "outputId": "b4b3e362-8c98-495f-f240-088f8dbee364",
        "colab": {
          "base_uri": "https://localhost:8080/"
        }
      },
      "source": [
        "word2vec[\"cat\"].shape"
      ],
      "execution_count": 5,
      "outputs": [
        {
          "output_type": "execute_result",
          "data": {
            "text/plain": [
              "(300,)"
            ]
          },
          "metadata": {},
          "execution_count": 5
        }
      ]
    },
    {
      "cell_type": "markdown",
      "metadata": {
        "id": "hvn4RpfEin7s"
      },
      "source": [
        "Recall that $\\text{cos}(a,b) = \\frac{a \\cdot b}{||a|| \\cdot  ||b||}$"
      ]
    },
    {
      "cell_type": "code",
      "metadata": {
        "id": "JMqYExDNhqsA"
      },
      "source": [
        "import numpy as np\n",
        "\n",
        "def cos(x1, x2):\n",
        "  return np.dot(x1, x2)/(np.linalg.norm(x1)*np.linalg.norm(x2))"
      ],
      "execution_count": 6,
      "outputs": []
    },
    {
      "cell_type": "code",
      "metadata": {
        "id": "YRVv4mf6hLjJ",
        "outputId": "9b4429ef-55b3-4592-ae25-cdfaccc49ce4",
        "colab": {
          "base_uri": "https://localhost:8080/"
        }
      },
      "source": [
        "cos(word2vec[\"cat\"], word2vec[\"dog\"])"
      ],
      "execution_count": 7,
      "outputs": [
        {
          "output_type": "execute_result",
          "data": {
            "text/plain": [
              "0.76094574"
            ]
          },
          "metadata": {},
          "execution_count": 7
        }
      ]
    },
    {
      "cell_type": "code",
      "metadata": {
        "id": "edQSGcAIh7oh",
        "outputId": "32442e99-1440-402d-d96a-eadc99c687d1",
        "colab": {
          "base_uri": "https://localhost:8080/"
        }
      },
      "source": [
        "cos(word2vec[\"cat\"], word2vec[\"eggplant\"])"
      ],
      "execution_count": 8,
      "outputs": [
        {
          "output_type": "execute_result",
          "data": {
            "text/plain": [
              "0.11546826"
            ]
          },
          "metadata": {},
          "execution_count": 8
        }
      ]
    },
    {
      "cell_type": "markdown",
      "source": [
        "Let's take a closer look.\n",
        "We'll randomly choose 100 word-vectors and plot them."
      ],
      "metadata": {
        "id": "1eRvTBUBOx0Y"
      }
    },
    {
      "cell_type": "code",
      "metadata": {
        "id": "9EhchHqmYNni"
      },
      "source": [
        "import random\n",
        "vocab = random.sample(list(word2vec.vocab), 100)"
      ],
      "execution_count": 9,
      "outputs": []
    },
    {
      "cell_type": "code",
      "metadata": {
        "id": "aI6pddO0Yb2p"
      },
      "source": [
        "X = np.array([word2vec[v] for v in vocab])"
      ],
      "execution_count": 10,
      "outputs": []
    },
    {
      "cell_type": "code",
      "metadata": {
        "id": "0-FXN41aiSW-",
        "outputId": "dbef2d8a-3fc5-436f-e3c4-dbb0e75ec3a7",
        "colab": {
          "base_uri": "https://localhost:8080/",
          "height": 661
        }
      },
      "source": [
        "import matplotlib.pyplot as plt\n",
        "from sklearn.manifold import TSNE\n",
        "tsne = TSNE(n_components=2, random_state=0)\n",
        "np.set_printoptions(suppress=True)\n",
        "\n",
        "\n",
        "Y = tsne.fit_transform(X)\n",
        "\n",
        "fig = plt.figure(1, figsize=(10, 10))\n",
        "plt.scatter(Y[:, 0], Y[:, 1])\n",
        "for label, x, y in zip(vocab, Y[:, 0], Y[:, 1]):\n",
        "    plt.annotate(label, xy=(x, y), xytext=(0, 0), textcoords='offset points')\n",
        "plt.show()"
      ],
      "execution_count": 11,
      "outputs": [
        {
          "output_type": "stream",
          "name": "stderr",
          "text": [
            "/usr/local/lib/python3.7/dist-packages/sklearn/manifold/_t_sne.py:783: FutureWarning: The default initialization in TSNE will change from 'random' to 'pca' in 1.2.\n",
            "  FutureWarning,\n",
            "/usr/local/lib/python3.7/dist-packages/sklearn/manifold/_t_sne.py:793: FutureWarning: The default learning rate in TSNE will change from 200.0 to 'auto' in 1.2.\n",
            "  FutureWarning,\n"
          ]
        },
        {
          "output_type": "display_data",
          "data": {
            "image/png": "[encoded data removed]",
            "text/plain": [
              "<Figure size 720x720 with 1 Axes>"
            ]
          },
          "metadata": {
            "needs_background": "light"
          }
        }
      ]
    },
    {
      "cell_type": "markdown",
      "metadata": {
        "id": "SShAwuc1BtHg"
      },
      "source": [
        "## Training w2v \n",
        "\n",
        "These examples were modified from official PyTorch doc: https://pytorch.org/tutorials/beginner/nlp/word_embeddings_tutorial.html"
      ]
    },
    {
      "cell_type": "code",
      "metadata": {
        "id": "TYhrN8wpJ6Rl"
      },
      "source": [
        "import torch\n",
        "import torch.nn as nn\n",
        "import torch.nn.functional as F\n",
        "import torch.optim as optim\n",
        "from torch.autograd import Variable"
      ],
      "execution_count": 12,
      "outputs": []
    },
    {
      "cell_type": "markdown",
      "metadata": {
        "id": "yJ5DB55hBipx"
      },
      "source": [
        "### CBoW"
      ]
    },
    {
      "cell_type": "code",
      "metadata": {
        "id": "5fHmz0UxICYA",
        "outputId": "fad94292-91e9-42b8-953c-f3a6fc64a7e1",
        "colab": {
          "base_uri": "https://localhost:8080/"
        }
      },
      "source": [
        "CONTEXT_SIZE = 2  # 2 words to the left, 2 to the right\n",
        "raw_text = \"\"\"We are about to study the idea of a computational process.\n",
        "Computational processes are abstract beings that inhabit computers.\n",
        "As they evolve, processes manipulate other abstract things called data.\n",
        "The evolution of a process is directed by a pattern of rules\n",
        "called a program. People create programs to direct processes. In effect,\n",
        "we conjure the spirits of the computer with our spells.\"\"\".split()\n",
        "\n",
        "vocab = set(raw_text)\n",
        "vocab_size = len(vocab)\n",
        "\n",
        "w2i = {word: i for i, word in enumerate(vocab)}\n",
        "cbow_train = []\n",
        "for i in range(2, len(raw_text) - 2):\n",
        "    context = [raw_text[i - 2], raw_text[i - 1],\n",
        "               raw_text[i + 1], raw_text[i + 2]]\n",
        "    target = raw_text[i]\n",
        "    cbow_train.append((context, target))\n",
        "print(cbow_train[:5])\n",
        "\n",
        "def make_context_vector(context):\n",
        "    idxs = [w2i[w] for w in context]\n",
        "    return torch.tensor(idxs, dtype=torch.long)\n",
        "\n",
        "make_context_vector(cbow_train[0][0])  # example"
      ],
      "execution_count": 13,
      "outputs": [
        {
          "output_type": "stream",
          "name": "stdout",
          "text": [
            "[(['We', 'are', 'to', 'study'], 'about'), (['are', 'about', 'study', 'the'], 'to'), (['about', 'to', 'the', 'idea'], 'study'), (['to', 'study', 'idea', 'of'], 'the'), (['study', 'the', 'of', 'a'], 'idea')]\n"
          ]
        },
        {
          "output_type": "execute_result",
          "data": {
            "text/plain": [
              "tensor([30, 28, 38, 15])"
            ]
          },
          "metadata": {},
          "execution_count": 13
        }
      ]
    },
    {
      "cell_type": "code",
      "metadata": {
        "id": "LnPFUKc6Cc0L"
      },
      "source": [
        "class CBOW(nn.Module):\n",
        "\n",
        "    def __init__(self, vocab_size, embed_size):\n",
        "      super(CBOW, self).__init__()\n",
        "      self.d = embed_size\n",
        "      self.E = nn.Embedding(vocab_size, self.d)\n",
        "      self.a = nn.ReLU()\n",
        "      self.out = nn.Linear(self.d, vocab_size)\n",
        "      self.sm = nn.LogSoftmax()\n",
        "\n",
        "    def forward(self, inputs):\n",
        "      e = self.E(inputs)\n",
        "      h = self.a(sum(e))\n",
        "      return self.sm(self.out(h))"
      ],
      "execution_count": 14,
      "outputs": []
    },
    {
      "cell_type": "code",
      "metadata": {
        "id": "FnNAYixfJ95w",
        "outputId": "29a66692-7140-49e0-cb85-8eee9a9eddf7",
        "colab": {
          "base_uri": "https://localhost:8080/"
        }
      },
      "source": [
        "def train_cbow(embed_size=32, hidden_size=32, learning_rate=0.001, n_epoch=20):\n",
        "    losses = []\n",
        "    loss_fn = nn.NLLLoss()\n",
        "    model = CBOW(vocab_size, embed_size)\n",
        "    print(model)\n",
        "    optimizer = optim.SGD(model.parameters(), lr=learning_rate)\n",
        "\n",
        "    for epoch in range(n_epoch):\n",
        "        total_loss = 0.0\n",
        "        for context, target in cbow_train:\n",
        "            context_var = make_context_vector(context)\n",
        "            model.zero_grad()\n",
        "            # unsqueeze here maps from (d) --> (1 x d)\n",
        "            log_probs = model(context_var).unsqueeze(0)\n",
        "            loss = loss_fn(log_probs, Variable(torch.LongTensor([w2i[target]])))\n",
        "            \n",
        "            loss.backward()\n",
        "            optimizer.step()\n",
        "            \n",
        "            total_loss += loss.data\n",
        "        \n",
        "        losses.append(total_loss.numpy())\n",
        "    return model, losses\n",
        "\n",
        "epochs = 20\n",
        "m, losses = train_cbow(epochs)"
      ],
      "execution_count": 15,
      "outputs": [
        {
          "output_type": "stream",
          "name": "stdout",
          "text": [
            "CBOW(\n",
            "  (E): Embedding(49, 20)\n",
            "  (a): ReLU()\n",
            "  (out): Linear(in_features=20, out_features=49, bias=True)\n",
            "  (sm): LogSoftmax(dim=None)\n",
            ")\n"
          ]
        },
        {
          "output_type": "stream",
          "name": "stderr",
          "text": [
            "/usr/local/lib/python3.7/dist-packages/ipykernel_launcher.py:14: UserWarning: Implicit dimension choice for log_softmax has been deprecated. Change the call to include dim=X as an argument.\n",
            "  \n"
          ]
        }
      ]
    },
    {
      "cell_type": "markdown",
      "source": [
        "We plot our loss to ensure the model had indeed learned (minimized the error rate ==> loss)"
      ],
      "metadata": {
        "id": "sMuqMOBzUbJ5"
      }
    },
    {
      "cell_type": "code",
      "metadata": {
        "id": "N1qTohnDPpba",
        "outputId": "6d82a786-5859-4207-9623-5f8cc7e211dd",
        "colab": {
          "base_uri": "https://localhost:8080/",
          "height": 283
        }
      },
      "source": [
        "import matplotlib.pyplot as plt\n",
        "plt.plot(range(epochs), losses)"
      ],
      "execution_count": 16,
      "outputs": [
        {
          "output_type": "execute_result",
          "data": {
            "text/plain": [
              "[<matplotlib.lines.Line2D at 0x7febc0f01a10>]"
            ]
          },
          "metadata": {},
          "execution_count": 16
        },
        {
          "output_type": "display_data",
          "data": {
            "image/png": "[encoded data removed]",
            "text/plain": [
              "<Figure size 432x288 with 1 Axes>"
            ]
          },
          "metadata": {
            "needs_background": "light"
          }
        }
      ]
    },
    {
      "cell_type": "markdown",
      "metadata": {
        "id": "TBVJ3hdDIQyd"
      },
      "source": [
        "### Skip-gram w/negative sampling"
      ]
    },
    {
      "cell_type": "markdown",
      "metadata": {
        "id": "q2-GBOhY8ZiI"
      },
      "source": [
        "In Skip-gram, we have a pair of input words for each training example.\n",
        "They consisting of one input target word and one context word, each having a unique numeric identifier. \n",
        "\n",
        "If it is a positive sample the word has contextual meaning, is a context word and our label Y=1, else if it is a negative sample, the word has no contextual meaning, is just a random word and our label Y=0. "
      ]
    },
    {
      "cell_type": "code",
      "metadata": {
        "id": "qT1Fq2p6CFBY",
        "outputId": "276eba1a-6e17-4372-c51e-eb671805329b",
        "colab": {
          "base_uri": "https://localhost:8080/"
        }
      },
      "source": [
        "import random\n",
        "skipgram_train, y = [], []\n",
        "for i in range(2, len(raw_text) - 2):\n",
        "    context = [raw_text[i - 2], raw_text[i - 1],\n",
        "               raw_text[i + 1], raw_text[i + 2]]\n",
        "    target = raw_text[i]\n",
        "    # positive instance\n",
        "    for w_c in context:\n",
        "      skipgram_train.append((w_c, target))\n",
        "      y.append(1)\n",
        "      \n",
        "      # negative (maybe!) instance\n",
        "      w_rando = random.choice(raw_text)\n",
        "      skipgram_train.append((w_rando, target))\n",
        "      y.append(0)\n",
        "    \n",
        "print(skipgram_train[:5])\n",
        "print(y[:5])"
      ],
      "execution_count": 17,
      "outputs": [
        {
          "output_type": "stream",
          "name": "stdout",
          "text": [
            "[('We', 'about'), ('processes', 'about'), ('are', 'about'), ('the', 'about'), ('to', 'about')]\n",
            "[1, 0, 1, 0, 1]\n"
          ]
        }
      ]
    },
    {
      "cell_type": "markdown",
      "metadata": {
        "id": "i2vJClHS84Bv"
      },
      "source": [
        " We will pass each of those pairs to an **embedding layer**, a matrix of the size (*vocab_size* x *embed_size*) which will be trained to contain a dense word embeddings for each of these two words (1 x *embed_size* for each word)"
      ]
    },
    {
      "cell_type": "code",
      "metadata": {
        "id": "R2C0XvkARfb_"
      },
      "source": [
        "class SkipGram(nn.Module):\n",
        "\n",
        "    def __init__(self, vocab_size, embed_size):\n",
        "      super(SkipGram, self).__init__()\n",
        "      self.d = embed_size\n",
        "      self.E = nn.Embedding(vocab_size, self.d)\n",
        "      self.W = nn.Embedding(vocab_size, self.d)\n",
        "      self.out = nn.Sigmoid()\n",
        "\n",
        "    def forward(self, x):\n",
        "      w_c = self.W(x[0])\n",
        "      e_t = self.E(x[1])\n",
        "\n",
        "      # we use a merge layer to compute the dot product of these two embeddings\n",
        "      return self.out(torch.dot(w_c, e_t))"
      ],
      "execution_count": 18,
      "outputs": []
    },
    {
      "cell_type": "markdown",
      "metadata": {
        "id": "og64vY0w9dAX"
      },
      "source": [
        "![Skip-gram structure](https://github.com/liadmagen/NLP-Course/raw/master/images/1_4Uil1zWWF5-jlt-FnRJgAQ.png \"Skip-gram model structure\")"
      ]
    },
    {
      "cell_type": "markdown",
      "metadata": {
        "id": "cOxIL0a_qnLO"
      },
      "source": [
        "# Output: the dot product:\n",
        "vocav_size x embedding_size * embedding_size x vocab_size = vocab_size x vocab_size "
      ]
    },
    {
      "cell_type": "code",
      "metadata": {
        "id": "eLslGTWdRrD9"
      },
      "source": [
        "def train_skipgram(embed_size=32, learning_rate=0.001, n_epoch=20):\n",
        "    losses = []\n",
        "    loss_fn = nn.BCELoss()\n",
        "    model = SkipGram(vocab_size, embed_size)\n",
        "    optimizer = optim.SGD(model.parameters(), lr=learning_rate)\n",
        "\n",
        "    for epoch in range(n_epoch):\n",
        "        total_loss = 0.0\n",
        "        for idx in range(len(skipgram_train)):\n",
        "            context = skipgram_train[idx]\n",
        "            y_i = y[i]\n",
        "            context_v = make_context_vector(context)\n",
        "            model.zero_grad()\n",
        "            # unsqueeze here maps from (d) --> (1 x d)\n",
        "            y_hat = model(context_v).unsqueeze(0)\n",
        "            loss = loss_fn(y_hat, Variable(torch.FloatTensor([y_i])))\n",
        "            loss.backward()\n",
        "            optimizer.step()\n",
        "            \n",
        "            total_loss += loss.data\n",
        "        \n",
        "        losses.append(total_loss.numpy())\n",
        "    return model, losses\n",
        "\n",
        "epochs = 20\n",
        "m, losses = train_skipgram(epochs)"
      ],
      "execution_count": 19,
      "outputs": []
    },
    {
      "cell_type": "code",
      "metadata": {
        "id": "2XH1junJT5gp",
        "outputId": "d6b05e66-a1ad-4f67-e326-9c20cdffbd0e",
        "colab": {
          "base_uri": "https://localhost:8080/",
          "height": 282
        }
      },
      "source": [
        "import matplotlib.pyplot as plt\n",
        "plt.plot(range(epochs), losses)"
      ],
      "execution_count": 20,
      "outputs": [
        {
          "output_type": "execute_result",
          "data": {
            "text/plain": [
              "[<matplotlib.lines.Line2D at 0x7feac0065790>]"
            ]
          },
          "metadata": {},
          "execution_count": 20
        },
        {
          "output_type": "display_data",
          "data": {
            "image/png": "[encoded data removed]",
            "text/plain": [
              "<Figure size 432x288 with 1 Axes>"
            ]
          },
          "metadata": {
            "needs_background": "light"
          }
        }
      ]
    },
    {
      "cell_type": "markdown",
      "metadata": {
        "id": "1mGUDDtOWrKr"
      },
      "source": [
        "## How might we use these things?\n",
        "\n",
        "Let's see how they work for the task of **sentiment classification** (or opinion mining).\n",
        "\n",
        "We will use for this a dataset of reviews from imdb.\n",
        "\n",
        "***Disclaimer*** this is not a *good* way of using embeddings, but it is *a* way."
      ]
    },
    {
      "cell_type": "code",
      "metadata": {
        "id": "7taBfLKpXEiy"
      },
      "source": [
        "from keras import Sequential\n",
        "from keras.layers import Dense\n",
        "from keras.datasets import imdb"
      ],
      "execution_count": 21,
      "outputs": []
    },
    {
      "cell_type": "code",
      "metadata": {
        "id": "8WjsXBMOd56E",
        "outputId": "f2010834-b4f6-4100-c0de-c7e3dab4911b",
        "colab": {
          "base_uri": "https://localhost:8080/"
        }
      },
      "source": [
        "(X_train, y_train), (X_test, y_test) = imdb.load_data(num_words=10000)"
      ],
      "execution_count": 22,
      "outputs": [
        {
          "output_type": "stream",
          "name": "stdout",
          "text": [
            "Downloading data from https://storage.googleapis.com/tensorflow/tf-keras-datasets/imdb.npz\n",
            "17465344/17464789 [==============================] - 0s 0us/step\n",
            "17473536/17464789 [==============================] - 0s 0us/step\n"
          ]
        }
      ]
    },
    {
      "cell_type": "code",
      "metadata": {
        "id": "bMPSgef7aDBn"
      },
      "source": [
        "EMBEDDING_FILE = '/root/input/GoogleNews-vectors-negative300.bin.gz' # from above\n",
        "word2vec = KeyedVectors.load_word2vec_format(EMBEDDING_FILE, binary=True)"
      ],
      "execution_count": 23,
      "outputs": []
    },
    {
      "cell_type": "markdown",
      "source": [
        "What is the size of each word-vector?\n",
        "let's check the 'cat' vector:"
      ],
      "metadata": {
        "id": "tJsAP56AVbi6"
      }
    },
    {
      "cell_type": "code",
      "metadata": {
        "id": "GyZRZqwpcjYU"
      },
      "source": [
        "embedding_dims = word2vec[\"cat\"].shape[0]"
      ],
      "execution_count": 24,
      "outputs": []
    },
    {
      "cell_type": "markdown",
      "source": [
        "In our current training data, every word is represented by its index in the vocabulary.\n",
        "\n",
        "Let's create some helper function here:\n",
        "1. id_to_word - a dictionary that will return the word for every id\n",
        "2. aggregate_embeddings - a simple function that given a list of words, will return the sum of those vectors\n"
      ],
      "metadata": {
        "id": "L8p4fKaUnkj8"
      }
    },
    {
      "cell_type": "code",
      "metadata": {
        "id": "dWqfl5ZfauWf",
        "outputId": "37b0c31b-9198-4781-b4df-1bee2a797510",
        "colab": {
          "base_uri": "https://localhost:8080/"
        }
      },
      "source": [
        "word_to_id = imdb.get_word_index()\n",
        "id_to_word = {idx:w for w,idx in word_to_id.items()}\n",
        "\n",
        "def aggregate_embeddings(x):\n",
        "  sum_of_vectors = np.zeros(embedding_dims)\n",
        "  for w_idx in x:\n",
        "    try:\n",
        "      w = id_to_word[w_idx]\n",
        "      sum_of_vectors += word2vec[w]\n",
        "    except:\n",
        "      pass\n",
        "  return sum_of_vectors"
      ],
      "execution_count": 25,
      "outputs": [
        {
          "output_type": "stream",
          "name": "stdout",
          "text": [
            "Downloading data from https://storage.googleapis.com/tensorflow/tf-keras-datasets/imdb_word_index.json\n",
            "1646592/1641221 [==============================] - 0s 0us/step\n",
            "1654784/1641221 [==============================] - 0s 0us/step\n"
          ]
        }
      ]
    },
    {
      "cell_type": "markdown",
      "source": [
        "Preprocessing:\n",
        "\n",
        "We will convert every sentence in our training into an aggregated (sum) of the sentence words"
      ],
      "metadata": {
        "id": "omvZB5-yoIKf"
      }
    },
    {
      "cell_type": "code",
      "metadata": {
        "id": "Ir0ZYNAxcOMi"
      },
      "source": [
        "train_data_embedded = []\n",
        "for x in X_train:\n",
        "  train_data_embedded.append(aggregate_embeddings(x))\n",
        "  \n",
        "test_data_embedded = []\n",
        "for x in X_test:\n",
        "  test_data_embedded.append(aggregate_embeddings(x))\n",
        "  "
      ],
      "execution_count": 26,
      "outputs": []
    },
    {
      "cell_type": "code",
      "metadata": {
        "id": "GTJKAIDUdZXY"
      },
      "source": [
        "train_data_embedded = np.array(train_data_embedded)\n",
        "test_data_embedded = np.array(test_data_embedded)"
      ],
      "execution_count": 27,
      "outputs": []
    },
    {
      "cell_type": "markdown",
      "source": [
        "Now let's pass those sentences through a simple Feed-Forward model to train a sentiment detector for those sentences."
      ],
      "metadata": {
        "id": "gAFSABsNoSdd"
      }
    },
    {
      "cell_type": "code",
      "metadata": {
        "id": "MKsOe54SaG9t"
      },
      "source": [
        "model = Sequential()\n",
        "\n",
        "model.add(Dense(32, input_shape=(embedding_dims,)))\n",
        "model.add(Dense(1, activation=\"sigmoid\"))\n",
        "\n",
        "model.compile(loss=\"binary_crossentropy\", optimizer=\"adagrad\", metrics=['accuracy'])"
      ],
      "execution_count": 28,
      "outputs": []
    },
    {
      "cell_type": "markdown",
      "metadata": {
        "id": "DC7C5eL3w6cS"
      },
      "source": [
        "Question: is this implementation going to update the embeddings?\n",
        "Write your answer here:"
      ]
    },
    {
      "cell_type": "markdown",
      "source": [
        "---\n",
        "**Your Answer:**\n",
        "\n",
        "\n"
      ],
      "metadata": {
        "id": "QEIg-PWqz0-I"
      }
    },
    {
      "cell_type": "code",
      "metadata": {
        "id": "LIiwCAGNfQb1",
        "outputId": "b08fa1bb-7dfa-4d02-e41a-956b307a6a20",
        "colab": {
          "base_uri": "https://localhost:8080/"
        }
      },
      "source": [
        "train_data_embedded.shape"
      ],
      "execution_count": 29,
      "outputs": [
        {
          "output_type": "execute_result",
          "data": {
            "text/plain": [
              "(25000, 300)"
            ]
          },
          "metadata": {},
          "execution_count": 29
        }
      ]
    },
    {
      "cell_type": "code",
      "metadata": {
        "id": "sEWlZhcFd19o",
        "outputId": "0ed15c74-7bd6-4358-9320-f437689618d6",
        "colab": {
          "base_uri": "https://localhost:8080/"
        }
      },
      "source": [
        "model.fit(train_data_embedded, y_train, verbose=True, epochs=20)"
      ],
      "execution_count": 30,
      "outputs": [
        {
          "output_type": "stream",
          "name": "stdout",
          "text": [
            "Epoch 1/20\n",
            "782/782 [==============================] - 5s 4ms/step - loss: 1.3033 - accuracy: 0.5413\n",
            "Epoch 2/20\n",
            "782/782 [==============================] - 3s 4ms/step - loss: 1.0597 - accuracy: 0.5679\n",
            "Epoch 3/20\n",
            "782/782 [==============================] - 3s 4ms/step - loss: 0.9808 - accuracy: 0.5800\n",
            "Epoch 4/20\n",
            "782/782 [==============================] - 3s 4ms/step - loss: 0.9283 - accuracy: 0.5944\n",
            "Epoch 5/20\n",
            "782/782 [==============================] - 3s 4ms/step - loss: 0.8929 - accuracy: 0.6031\n",
            "Epoch 6/20\n",
            "782/782 [==============================] - 3s 3ms/step - loss: 0.8637 - accuracy: 0.6100\n",
            "Epoch 7/20\n",
            "782/782 [==============================] - 3s 4ms/step - loss: 0.8431 - accuracy: 0.6155\n",
            "Epoch 8/20\n",
            "782/782 [==============================] - 3s 4ms/step - loss: 0.8227 - accuracy: 0.6225\n",
            "Epoch 9/20\n",
            "782/782 [==============================] - 3s 3ms/step - loss: 0.8081 - accuracy: 0.6256\n",
            "Epoch 10/20\n",
            "782/782 [==============================] - 3s 4ms/step - loss: 0.7936 - accuracy: 0.6310\n",
            "Epoch 11/20\n",
            "782/782 [==============================] - 3s 4ms/step - loss: 0.7817 - accuracy: 0.6324\n",
            "Epoch 12/20\n",
            "782/782 [==============================] - 3s 4ms/step - loss: 0.7714 - accuracy: 0.6352\n",
            "Epoch 13/20\n",
            "782/782 [==============================] - 3s 4ms/step - loss: 0.7611 - accuracy: 0.6387\n",
            "Epoch 14/20\n",
            "782/782 [==============================] - 3s 4ms/step - loss: 0.7526 - accuracy: 0.6417\n",
            "Epoch 15/20\n",
            "782/782 [==============================] - 3s 4ms/step - loss: 0.7448 - accuracy: 0.6445\n",
            "Epoch 16/20\n",
            "782/782 [==============================] - 3s 3ms/step - loss: 0.7372 - accuracy: 0.6479\n",
            "Epoch 17/20\n",
            "782/782 [==============================] - 3s 3ms/step - loss: 0.7310 - accuracy: 0.6482\n",
            "Epoch 18/20\n",
            "782/782 [==============================] - 3s 4ms/step - loss: 0.7249 - accuracy: 0.6504\n",
            "Epoch 19/20\n",
            "782/782 [==============================] - 3s 4ms/step - loss: 0.7196 - accuracy: 0.6524\n",
            "Epoch 20/20\n",
            "782/782 [==============================] - 3s 4ms/step - loss: 0.7139 - accuracy: 0.6541\n"
          ]
        },
        {
          "output_type": "execute_result",
          "data": {
            "text/plain": [
              "<keras.callbacks.History at 0x7febce7a87d0>"
            ]
          },
          "metadata": {},
          "execution_count": 30
        }
      ]
    },
    {
      "cell_type": "code",
      "metadata": {
        "id": "Q1UMqEo6ezaQ",
        "outputId": "4152cae8-47b3-4a5b-a875-c44373590247",
        "colab": {
          "base_uri": "https://localhost:8080/"
        }
      },
      "source": [
        "print(model.evaluate(test_data_embedded, y_test))"
      ],
      "execution_count": 31,
      "outputs": [
        {
          "output_type": "stream",
          "name": "stdout",
          "text": [
            "782/782 [==============================] - 2s 3ms/step - loss: 0.7235 - accuracy: 0.6450\n",
            "[0.7235168218612671, 0.645039975643158]\n"
          ]
        }
      ]
    },
    {
      "cell_type": "markdown",
      "metadata": {
        "id": "41ezJd2z6TJT"
      },
      "source": [
        "We got this accuracy of ~65%, just by training a model on a sentence, which is represented as a **sum** of the word-vectors it contains. Not bad, huh? \n",
        "\n",
        "But how can we do better?"
      ]
    },
    {
      "cell_type": "markdown",
      "metadata": {
        "id": "9wjRPNzG6I6I"
      },
      "source": [
        "### Fine-Tuning the Embedding per given task"
      ]
    },
    {
      "cell_type": "markdown",
      "metadata": {
        "id": "-CkIShHmxAiq"
      },
      "source": [
        "Let's make a version that *does* update embeddings.\n",
        "\n",
        "First, we initialize a weights matrix.\n"
      ]
    },
    {
      "cell_type": "markdown",
      "metadata": {
        "id": "yrv6GynVE663"
      },
      "source": [
        "We are copying the word vectors, one by one, into a matrix, and normalizing them, as discused in the class.\n",
        "\n",
        "Copying one by one isn't the best way to do it - and many of the framework already offer built-in methods that operate on the machine-level (written in Assembly / C code) "
      ]
    },
    {
      "cell_type": "code",
      "metadata": {
        "id": "PuqegrnpyzyB"
      },
      "source": [
        "num_words = len(id_to_word)+1\n",
        "d = 300 # embedding dim\n",
        "E = np.zeros((num_words, d))\n",
        "for idx, w in id_to_word.items():\n",
        "    try:\n",
        "      E[idx,:] = word2vec[w]\n",
        "    except:\n",
        "      E[idx,:] = np.random.normal(size=d)"
      ],
      "execution_count": 32,
      "outputs": []
    },
    {
      "cell_type": "code",
      "metadata": {
        "id": "8g0eIwK_fntZ"
      },
      "source": [
        "\n",
        "class CBoW_classifier(nn.Module):\n",
        "  def __init__(self, E):\n",
        "    super(CBoW_classifier, self).__init__()\n",
        "       \n",
        "    # create our embedding layer\n",
        "    num_words, embedding_dim = E.shape\n",
        "    self.E_layer = nn.Embedding(num_words, embedding_dim)\n",
        "    # init with weight matrix (E) created above (passed in here)\n",
        "    self.E_layer.weight = nn.Parameter(torch.from_numpy(E))\n",
        "    # Create a simple feed-forward with 2 layers:\n",
        "    self.hidden_layer = nn.Linear(embedding_dim, 32)\n",
        "    self.out = nn.Linear(32, 1)\n",
        "    self.a = nn.Sigmoid()\n",
        "\n",
        "  def forward(self, x):\n",
        "    x_e = self.E_layer(x)\n",
        "    x_e_sum = torch.sum(x_e, 0) # note: torch.mean() may be better -- can you explain why?\n",
        "    h = self.hidden_layer(x_e_sum.float())\n",
        "    y_hat = self.out(h)\n",
        "    return self.a(y_hat)\n",
        "\n"
      ],
      "execution_count": 33,
      "outputs": []
    },
    {
      "cell_type": "markdown",
      "source": [
        "Attention: This step takes ~3 hours to run"
      ],
      "metadata": {
        "id": "4WWvK-6eiIMP"
      }
    },
    {
      "cell_type": "code",
      "metadata": {
        "id": "5OwiSpAM2Ibr",
        "colab": {
          "base_uri": "https://localhost:8080/",
          "height": 398,
          "referenced_widgets": [
            "a4f9f8d569dd47379cd50ad418e4d4a7",
            "fdd937c6efb343fe808bd1817cbee81c",
            "015a71798f2c4ee7939ed43051b39fc4",
            "890b15a73d7d4473b92320e485f8a918",
            "5fc67297a35b4f00b944fc82e3b1bff5",
            "28381785aa644ac8ac2c77ed47fb74c9",
            "673b6ce22f624dbfa13ccacb69a389f2",
            "18eeebf73b45436fa665ba544462095e",
            "5b33556048324cc3b0ebbee31b2eb23e",
            "2d436e155fc04e67904a6b028ae0bb9a",
            "1da55357325e4eec8697168647d2604d",
            "3376334a730e438db2749e6645ca7ba4",
            "48e2f75efbcf4e768d0324068a45c9fa",
            "d97554a07c1a41008b16edd8ac778018",
            "d4997d13cb6745d6af8df25fd6ae614c",
            "691c61a1b1f44c2292df55d07da7b1bd",
            "7f3262aa407c4621aeee9ffdeccff5bc",
            "843f4f35598e445c92d5c017369f951a",
            "757360c33eed4192bbeba89b58b98109",
            "7a2b6428c3cf47a2b6de7c64fd7cf283",
            "91b6f90282224745919fc96f01355f1f",
            "05df6c24eaad42b399dd65958f1b020e",
            "2569805ab5bb40b78c507befc9a81cf0",
            "7a0b1f959993417785f38349f4db9f43",
            "83f98a364f604f36807b29c5cf832495",
            "d1bf070e62a542ca98f68c9b6af80675",
            "0e99a28f8f144e50b75dfcc8625f269f",
            "0c3da0f913b44d6f8f1428564b43b106",
            "8e9317e7367b424a90a9a21fcc856442",
            "e9b0c0b22f0c4850a44dc948e6b0804d",
            "9f88977a5a2a44d994410bd1f4c00a40",
            "23dfeee390234211834eceaf9b944c8f",
            "e804ca990bca45c3b50c5d883020b107",
            "055e6fbf07da407f9f742c92e380e3eb",
            "cccd6b13414b46c8ab782e0149014676",
            "fc9b87cb8d474eff861e128d0951931b",
            "f86418e7936749b6b7443613d0d2eeaa",
            "0d1b24284c3f4774bcdf344ae8994f22",
            "c8aea14467de4d87bbdbc5ae7b9c8474",
            "09aab15b735842ccb287647bc3acc45c",
            "5d87b6e1c40d4580920d95ed26588edb",
            "e03ce9a254e946c08c1cba4318bb018c",
            "50a5eeb82e884e9686d6bbdbb4519606",
            "6c728072cec4451d8080a2bf8fb106e9"
          ]
        },
        "outputId": "f228560d-871c-4ab0-b164-cf99045a6144"
      },
      "source": [
        "model = CBoW_classifier(E).cuda()\n",
        "criterion = nn.BCELoss()\n",
        "\n",
        "optimizer = optim.Adam(model.parameters(), lr=0.001)\n",
        "for t in tqdm(range(10)):\n",
        "    epoch_loss = 0.0\n",
        "    for x, y in tqdm(zip(X_train, y_train), total=len(X_train)):\n",
        "      x = torch.from_numpy(np.array(x)).long().cuda()\n",
        "      y_pred = model(x)\n",
        "      loss = criterion(y_pred.squeeze(0), torch.tensor(y).float().cuda())\n",
        "      optimizer.zero_grad()\n",
        "      loss.backward()\n",
        "      optimizer.step()\n",
        "      epoch_loss += loss.item()\n",
        "    \n",
        "    print(t, epoch_loss)\n"
      ],
      "execution_count": 43,
      "outputs": [
        {
          "output_type": "display_data",
          "data": {
            "application/vnd.jupyter.widget-view+json": {
              "model_id": "a4f9f8d569dd47379cd50ad418e4d4a7",
              "version_minor": 0,
              "version_major": 2
            },
            "text/plain": [
              "  0%|          | 0/10 [00:00<?, ?it/s]"
            ]
          },
          "metadata": {}
        },
        {
          "output_type": "display_data",
          "data": {
            "application/vnd.jupyter.widget-view+json": {
              "model_id": "3376334a730e438db2749e6645ca7ba4",
              "version_minor": 0,
              "version_major": 2
            },
            "text/plain": [
              "  0%|          | 0/25000 [00:00<?, ?it/s]"
            ]
          },
          "metadata": {}
        },
        {
          "output_type": "stream",
          "name": "stdout",
          "text": [
            "0 26773.140848677158\n"
          ]
        },
        {
          "output_type": "display_data",
          "data": {
            "application/vnd.jupyter.widget-view+json": {
              "model_id": "2569805ab5bb40b78c507befc9a81cf0",
              "version_minor": 0,
              "version_major": 2
            },
            "text/plain": [
              "  0%|          | 0/25000 [00:00<?, ?it/s]"
            ]
          },
          "metadata": {}
        },
        {
          "output_type": "stream",
          "name": "stdout",
          "text": [
            "1 6432.865275787164\n"
          ]
        },
        {
          "output_type": "display_data",
          "data": {
            "application/vnd.jupyter.widget-view+json": {
              "model_id": "055e6fbf07da407f9f742c92e380e3eb",
              "version_minor": 0,
              "version_major": 2
            },
            "text/plain": [
              "  0%|          | 0/25000 [00:00<?, ?it/s]"
            ]
          },
          "metadata": {}
        },
        {
          "output_type": "error",
          "ename": "KeyboardInterrupt",
          "evalue": "ignored",
          "traceback": [
            "\u001b[0;31m---------------------------------------------------------------------------\u001b[0m",
            "\u001b[0;31mKeyboardInterrupt\u001b[0m                         Traceback (most recent call last)",
            "\u001b[0;32m<ipython-input-43-b949543be1f1>\u001b[0m in \u001b[0;36m<module>\u001b[0;34m()\u001b[0m\n\u001b[1;32m     12\u001b[0m       \u001b[0mloss\u001b[0m\u001b[0;34m.\u001b[0m\u001b[0mbackward\u001b[0m\u001b[0;34m(\u001b[0m\u001b[0;34m)\u001b[0m\u001b[0;34m\u001b[0m\u001b[0;34m\u001b[0m\u001b[0m\n\u001b[1;32m     13\u001b[0m       \u001b[0moptimizer\u001b[0m\u001b[0;34m.\u001b[0m\u001b[0mstep\u001b[0m\u001b[0;34m(\u001b[0m\u001b[0;34m)\u001b[0m\u001b[0;34m\u001b[0m\u001b[0;34m\u001b[0m\u001b[0m\n\u001b[0;32m---> 14\u001b[0;31m       \u001b[0mepoch_loss\u001b[0m \u001b[0;34m+=\u001b[0m \u001b[0mloss\u001b[0m\u001b[0;34m.\u001b[0m\u001b[0mitem\u001b[0m\u001b[0;34m(\u001b[0m\u001b[0;34m)\u001b[0m\u001b[0;34m\u001b[0m\u001b[0;34m\u001b[0m\u001b[0m\n\u001b[0m\u001b[1;32m     15\u001b[0m \u001b[0;34m\u001b[0m\u001b[0m\n\u001b[1;32m     16\u001b[0m     \u001b[0mprint\u001b[0m\u001b[0;34m(\u001b[0m\u001b[0mt\u001b[0m\u001b[0;34m,\u001b[0m \u001b[0mepoch_loss\u001b[0m\u001b[0;34m)\u001b[0m\u001b[0;34m\u001b[0m\u001b[0;34m\u001b[0m\u001b[0m\n",
            "\u001b[0;31mKeyboardInterrupt\u001b[0m: "
          ]
        }
      ]
    },
    {
      "cell_type": "markdown",
      "metadata": {
        "id": "RT6NhRuZHRq_"
      },
      "source": [
        "During this training, the embedding vector values had changed, according to the loss calculation. \n",
        "\n",
        "PyTorch calculate a computation graph out of the model layers. This graph is computing for every neuron the delta, the change, that need to be updated based on the loss output (called grads - short for gradients).\n",
        "\n",
        "We can turn on/off which neurons we want to update (or not update) - and we see that in the next exercise."
      ]
    },
    {
      "cell_type": "markdown",
      "metadata": {
        "id": "691xxhGKIRXq"
      },
      "source": [
        "Let's evaluate how accurate our model is:"
      ]
    },
    {
      "cell_type": "code",
      "metadata": {
        "id": "SylodPc5k-Ew"
      },
      "source": [
        "model.eval()\n",
        "\n",
        "for x, y in zip(X_test, y_test):\n",
        "  x = torch.from_numpy(np.array(x)).long().cuda()\n",
        "  y_pred = model(x)\n",
        "  loss = criterion(y_pred.squeeze(0), torch.tensor(y).float().cuda())\n",
        "  epoch_loss += loss.item()\n",
        "\n",
        "print(epoch_loss)\n",
        "  "
      ],
      "execution_count": null,
      "outputs": []
    }
  ]
}