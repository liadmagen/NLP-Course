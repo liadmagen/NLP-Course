{
  "nbformat": 4,
  "nbformat_minor": 0,
  "metadata": {
    "kernelspec": {
      "name": "python3",
      "display_name": "Python 3"
    },
    "colab": {
      "name": "05_LM_ww_classifier.ipynb",
      "provenance": [],
      "collapsed_sections": []
    },
    "accelerator": "GPU",
    "widgets": {
      "application/vnd.jupyter.widget-state+json": {
        "8d3da9f26c854fbbae224a099bdb5d93": {
          "model_module": "@jupyter-widgets/controls",
          "model_name": "HBoxModel",
          "model_module_version": "1.5.0",
          "state": {
            "_view_name": "HBoxView",
            "_dom_classes": [],
            "_model_name": "HBoxModel",
            "_view_module": "@jupyter-widgets/controls",
            "_model_module_version": "1.5.0",
            "_view_count": null,
            "_view_module_version": "1.5.0",
            "box_style": "",
            "layout": "IPY_MODEL_5771248eddef433ca55dde1a9d51d80e",
            "_model_module": "@jupyter-widgets/controls",
            "children": [
              "IPY_MODEL_febc19af3e8e4bc2a6709753f309343b",
              "IPY_MODEL_c7cf2175ed944fec924e9d33d5d8e469",
              "IPY_MODEL_de8a53f833e44a36bb67f4a6c35a3cc0"
            ]
          }
        },
        "5771248eddef433ca55dde1a9d51d80e": {
          "model_module": "@jupyter-widgets/base",
          "model_name": "LayoutModel",
          "model_module_version": "1.2.0",
          "state": {
            "_view_name": "LayoutView",
            "grid_template_rows": null,
            "right": null,
            "justify_content": null,
            "_view_module": "@jupyter-widgets/base",
            "overflow": null,
            "_model_module_version": "1.2.0",
            "_view_count": null,
            "flex_flow": null,
            "width": null,
            "min_width": null,
            "border": null,
            "align_items": null,
            "bottom": null,
            "_model_module": "@jupyter-widgets/base",
            "top": null,
            "grid_column": null,
            "overflow_y": null,
            "overflow_x": null,
            "grid_auto_flow": null,
            "grid_area": null,
            "grid_template_columns": null,
            "flex": null,
            "_model_name": "LayoutModel",
            "justify_items": null,
            "grid_row": null,
            "max_height": null,
            "align_content": null,
            "visibility": null,
            "align_self": null,
            "height": null,
            "min_height": null,
            "padding": null,
            "grid_auto_rows": null,
            "grid_gap": null,
            "max_width": null,
            "order": null,
            "_view_module_version": "1.2.0",
            "grid_template_areas": null,
            "object_position": null,
            "object_fit": null,
            "grid_auto_columns": null,
            "margin": null,
            "display": null,
            "left": null
          }
        },
        "febc19af3e8e4bc2a6709753f309343b": {
          "model_module": "@jupyter-widgets/controls",
          "model_name": "HTMLModel",
          "model_module_version": "1.5.0",
          "state": {
            "_view_name": "HTMLView",
            "style": "IPY_MODEL_8edf663d6372477db0f767fd17bf5be9",
            "_dom_classes": [],
            "description": "",
            "_model_name": "HTMLModel",
            "placeholder": "​",
            "_view_module": "@jupyter-widgets/controls",
            "_model_module_version": "1.5.0",
            "value": "100%",
            "_view_count": null,
            "_view_module_version": "1.5.0",
            "description_tooltip": null,
            "_model_module": "@jupyter-widgets/controls",
            "layout": "IPY_MODEL_59bdd22e2ae441cdb3e0b2f1791ea711"
          }
        },
        "c7cf2175ed944fec924e9d33d5d8e469": {
          "model_module": "@jupyter-widgets/controls",
          "model_name": "FloatProgressModel",
          "model_module_version": "1.5.0",
          "state": {
            "_view_name": "ProgressView",
            "style": "IPY_MODEL_f99d8b6ac909479c828ba37d77ed663d",
            "_dom_classes": [],
            "description": "",
            "_model_name": "FloatProgressModel",
            "bar_style": "success",
            "max": 10000,
            "_view_module": "@jupyter-widgets/controls",
            "_model_module_version": "1.5.0",
            "value": 10000,
            "_view_count": null,
            "_view_module_version": "1.5.0",
            "orientation": "horizontal",
            "min": 0,
            "description_tooltip": null,
            "_model_module": "@jupyter-widgets/controls",
            "layout": "IPY_MODEL_a2aaa4b46f3b415498ee54801055498f"
          }
        },
        "de8a53f833e44a36bb67f4a6c35a3cc0": {
          "model_module": "@jupyter-widgets/controls",
          "model_name": "HTMLModel",
          "model_module_version": "1.5.0",
          "state": {
            "_view_name": "HTMLView",
            "style": "IPY_MODEL_5ef93e89c08f4250b3c22572b0db0d71",
            "_dom_classes": [],
            "description": "",
            "_model_name": "HTMLModel",
            "placeholder": "​",
            "_view_module": "@jupyter-widgets/controls",
            "_model_module_version": "1.5.0",
            "value": " 10000/10000 [00:23&lt;00:00, 508.14it/s]",
            "_view_count": null,
            "_view_module_version": "1.5.0",
            "description_tooltip": null,
            "_model_module": "@jupyter-widgets/controls",
            "layout": "IPY_MODEL_671e8ea75ee1409c882c3eeb0b4a80dd"
          }
        },
        "8edf663d6372477db0f767fd17bf5be9": {
          "model_module": "@jupyter-widgets/controls",
          "model_name": "DescriptionStyleModel",
          "model_module_version": "1.5.0",
          "state": {
            "_view_name": "StyleView",
            "_model_name": "DescriptionStyleModel",
            "description_width": "",
            "_view_module": "@jupyter-widgets/base",
            "_model_module_version": "1.5.0",
            "_view_count": null,
            "_view_module_version": "1.2.0",
            "_model_module": "@jupyter-widgets/controls"
          }
        },
        "59bdd22e2ae441cdb3e0b2f1791ea711": {
          "model_module": "@jupyter-widgets/base",
          "model_name": "LayoutModel",
          "model_module_version": "1.2.0",
          "state": {
            "_view_name": "LayoutView",
            "grid_template_rows": null,
            "right": null,
            "justify_content": null,
            "_view_module": "@jupyter-widgets/base",
            "overflow": null,
            "_model_module_version": "1.2.0",
            "_view_count": null,
            "flex_flow": null,
            "width": null,
            "min_width": null,
            "border": null,
            "align_items": null,
            "bottom": null,
            "_model_module": "@jupyter-widgets/base",
            "top": null,
            "grid_column": null,
            "overflow_y": null,
            "overflow_x": null,
            "grid_auto_flow": null,
            "grid_area": null,
            "grid_template_columns": null,
            "flex": null,
            "_model_name": "LayoutModel",
            "justify_items": null,
            "grid_row": null,
            "max_height": null,
            "align_content": null,
            "visibility": null,
            "align_self": null,
            "height": null,
            "min_height": null,
            "padding": null,
            "grid_auto_rows": null,
            "grid_gap": null,
            "max_width": null,
            "order": null,
            "_view_module_version": "1.2.0",
            "grid_template_areas": null,
            "object_position": null,
            "object_fit": null,
            "grid_auto_columns": null,
            "margin": null,
            "display": null,
            "left": null
          }
        },
        "f99d8b6ac909479c828ba37d77ed663d": {
          "model_module": "@jupyter-widgets/controls",
          "model_name": "ProgressStyleModel",
          "model_module_version": "1.5.0",
          "state": {
            "_view_name": "StyleView",
            "_model_name": "ProgressStyleModel",
            "description_width": "",
            "_view_module": "@jupyter-widgets/base",
            "_model_module_version": "1.5.0",
            "_view_count": null,
            "_view_module_version": "1.2.0",
            "bar_color": null,
            "_model_module": "@jupyter-widgets/controls"
          }
        },
        "a2aaa4b46f3b415498ee54801055498f": {
          "model_module": "@jupyter-widgets/base",
          "model_name": "LayoutModel",
          "model_module_version": "1.2.0",
          "state": {
            "_view_name": "LayoutView",
            "grid_template_rows": null,
            "right": null,
            "justify_content": null,
            "_view_module": "@jupyter-widgets/base",
            "overflow": null,
            "_model_module_version": "1.2.0",
            "_view_count": null,
            "flex_flow": null,
            "width": null,
            "min_width": null,
            "border": null,
            "align_items": null,
            "bottom": null,
            "_model_module": "@jupyter-widgets/base",
            "top": null,
            "grid_column": null,
            "overflow_y": null,
            "overflow_x": null,
            "grid_auto_flow": null,
            "grid_area": null,
            "grid_template_columns": null,
            "flex": null,
            "_model_name": "LayoutModel",
            "justify_items": null,
            "grid_row": null,
            "max_height": null,
            "align_content": null,
            "visibility": null,
            "align_self": null,
            "height": null,
            "min_height": null,
            "padding": null,
            "grid_auto_rows": null,
            "grid_gap": null,
            "max_width": null,
            "order": null,
            "_view_module_version": "1.2.0",
            "grid_template_areas": null,
            "object_position": null,
            "object_fit": null,
            "grid_auto_columns": null,
            "margin": null,
            "display": null,
            "left": null
          }
        },
        "5ef93e89c08f4250b3c22572b0db0d71": {
          "model_module": "@jupyter-widgets/controls",
          "model_name": "DescriptionStyleModel",
          "model_module_version": "1.5.0",
          "state": {
            "_view_name": "StyleView",
            "_model_name": "DescriptionStyleModel",
            "description_width": "",
            "_view_module": "@jupyter-widgets/base",
            "_model_module_version": "1.5.0",
            "_view_count": null,
            "_view_module_version": "1.2.0",
            "_model_module": "@jupyter-widgets/controls"
          }
        },
        "671e8ea75ee1409c882c3eeb0b4a80dd": {
          "model_module": "@jupyter-widgets/base",
          "model_name": "LayoutModel",
          "model_module_version": "1.2.0",
          "state": {
            "_view_name": "LayoutView",
            "grid_template_rows": null,
            "right": null,
            "justify_content": null,
            "_view_module": "@jupyter-widgets/base",
            "overflow": null,
            "_model_module_version": "1.2.0",
            "_view_count": null,
            "flex_flow": null,
            "width": null,
            "min_width": null,
            "border": null,
            "align_items": null,
            "bottom": null,
            "_model_module": "@jupyter-widgets/base",
            "top": null,
            "grid_column": null,
            "overflow_y": null,
            "overflow_x": null,
            "grid_auto_flow": null,
            "grid_area": null,
            "grid_template_columns": null,
            "flex": null,
            "_model_name": "LayoutModel",
            "justify_items": null,
            "grid_row": null,
            "max_height": null,
            "align_content": null,
            "visibility": null,
            "align_self": null,
            "height": null,
            "min_height": null,
            "padding": null,
            "grid_auto_rows": null,
            "grid_gap": null,
            "max_width": null,
            "order": null,
            "_view_module_version": "1.2.0",
            "grid_template_areas": null,
            "object_position": null,
            "object_fit": null,
            "grid_auto_columns": null,
            "margin": null,
            "display": null,
            "left": null
          }
        }
      }
    }
  },
  "cells": [
    {
      "cell_type": "markdown",
      "metadata": {
        "id": "x-3IkYpRnJbE"
      },
      "source": [
        "## Word Window Classification - introduction to pyTorch\n",
        "\n",
        "### pyTorch Exploration\n",
        "\n",
        "### Originally written by: Matthew Lamm\n",
        "\n",
        "### Adapted by: Liad Magen"
      ]
    },
    {
      "cell_type": "code",
      "metadata": {
        "id": "CGnaHAFUnJbF"
      },
      "source": [
        "from tqdm.notebook import tqdm\n",
        "import pprint\n",
        "\n",
        "import torch\n",
        "import torch.nn as nn\n",
        "\n",
        "pp = pprint.PrettyPrinter()"
      ],
      "execution_count": 1,
      "outputs": []
    },
    {
      "cell_type": "markdown",
      "metadata": {
        "id": "iWgE9eMsnJbL"
      },
      "source": [
        "## Our Data\n",
        "\n",
        "The task at hand is to assign a label of 1 to words in a sentence that correspond with a LOCATION, and a label of 0 to everything else. \n",
        "\n",
        "In this simplified example, we only ever see spans of length 1."
      ]
    },
    {
      "cell_type": "code",
      "metadata": {
        "id": "_6Aqv2_RnJbM"
      },
      "source": [
        "# Training data:\n",
        "\n",
        "train_sents = [s.lower().split() for s in [\"we 'll always have Paris\",\n",
        "                                           \"I live in Germany\",\n",
        "                                           \"He comes from Denmark\",\n",
        "                                           \"The capital of Denmark is Copenhagen\"]]\n",
        "train_labels = [[0, 0, 0, 0, 1],\n",
        "                [0, 0, 0, 1],\n",
        "                [0, 0, 0, 1],\n",
        "                [0, 0, 0, 1, 0, 1]]\n",
        "\n",
        "# ensure that X match Y\n",
        "assert all([len(train_sents[i]) == len(train_labels[i]) for i in range(len(train_sents))])\n"
      ],
      "execution_count": 2,
      "outputs": []
    },
    {
      "cell_type": "code",
      "metadata": {
        "id": "bl9nTHCPnJbP"
      },
      "source": [
        "# Testing data\n",
        "\n",
        "test_sents = [s.lower().split() for s in [\"She comes from Paris\"]]\n",
        "test_labels = [[0, 0, 0, 1]]\n",
        "\n",
        "assert all([len(test_sents[i]) == len(test_labels[i]) for i in range(len(test_sents))])"
      ],
      "execution_count": 3,
      "outputs": []
    },
    {
      "cell_type": "markdown",
      "metadata": {
        "id": "Ai4LzzF-nJbS"
      },
      "source": [
        "## Creating a dataset of batched tensors."
      ]
    },
    {
      "cell_type": "markdown",
      "metadata": {
        "id": "szxtRa7GnJbT"
      },
      "source": [
        "PyTorch (like other deep learning frameworks) is optimized to work on __tensors__, which can be thought of as a generalization of vectors and matrices with arbitrarily large rank.\n",
        "\n",
        "Here we'll go over how to translate data to a list of vocabulary indices, and how to construct *batch tensors* out of the data for easy input to our model. \n",
        "\n",
        "We'll use the *torch.utils.data.DataLoader* object handle ease of batching and iteration."
      ]
    },
    {
      "cell_type": "markdown",
      "metadata": {
        "id": "J547I2uQnJbT"
      },
      "source": [
        "### Converting tokenized sentence lists to vocabulary indices.\n",
        "\n",
        "Let's assume we have the following vocabulary:"
      ]
    },
    {
      "cell_type": "code",
      "metadata": {
        "id": "w2Xtdv6hnJbU"
      },
      "source": [
        "id_2_word = [\"<pad>\", \"<unk>\", \"we\", \"always\", \"have\", \"paris\",\n",
        "              \"i\", \"live\", \"in\", \"germany\",\n",
        "              \"he\", \"comes\", \"from\", \"denmark\",\n",
        "              \"the\", \"of\", \"is\", \"copenhagen\"]\n",
        "word_2_id = {w:i for i,w in enumerate(id_2_word)}"
      ],
      "execution_count": 4,
      "outputs": []
    },
    {
      "cell_type": "code",
      "metadata": {
        "id": "9mxyldFnnJbX",
        "outputId": "8d2de91a-a8d0-4027-adf5-dff59edba6cf",
        "colab": {
          "base_uri": "https://localhost:8080/"
        }
      },
      "source": [
        "instance = train_sents[0]\n",
        "print(instance)"
      ],
      "execution_count": 5,
      "outputs": [
        {
          "output_type": "stream",
          "name": "stdout",
          "text": [
            "['we', \"'ll\", 'always', 'have', 'paris']\n"
          ]
        }
      ]
    },
    {
      "cell_type": "code",
      "metadata": {
        "id": "x9suW0ZWnJbb"
      },
      "source": [
        "def convert_tokens_to_inds(sentence, word_2_id):\n",
        "    return [word_2_id.get(t, word_2_id[\"<unk>\"]) for t in sentence]"
      ],
      "execution_count": 6,
      "outputs": []
    },
    {
      "cell_type": "code",
      "metadata": {
        "id": "jCgVhobvnJbe",
        "outputId": "fe22a48c-2e92-4313-a025-5d3bc180ba65",
        "colab": {
          "base_uri": "https://localhost:8080/"
        }
      },
      "source": [
        "token_inds = convert_tokens_to_inds(instance, word_2_id)\n",
        "pp.pprint(token_inds)"
      ],
      "execution_count": 7,
      "outputs": [
        {
          "output_type": "stream",
          "name": "stdout",
          "text": [
            "[2, 1, 3, 4, 5]\n"
          ]
        }
      ]
    },
    {
      "cell_type": "markdown",
      "metadata": {
        "id": "CBu-QV2knJbh"
      },
      "source": [
        "Let's convince ourselves that worked:"
      ]
    },
    {
      "cell_type": "code",
      "metadata": {
        "id": "FCM96PSbnJbh",
        "outputId": "e9c1ec40-3664-4f41-b482-4f2cdeadf22b",
        "colab": {
          "base_uri": "https://localhost:8080/"
        }
      },
      "source": [
        "print([id_2_word[tok_idx] for tok_idx in token_inds])"
      ],
      "execution_count": 8,
      "outputs": [
        {
          "output_type": "stream",
          "name": "stdout",
          "text": [
            "['we', '<unk>', 'always', 'have', 'paris']\n"
          ]
        }
      ]
    },
    {
      "cell_type": "markdown",
      "metadata": {
        "id": "gh1e4vG9CrZy"
      },
      "source": [
        "As discussed in the class, due to the variability of the language, we will never be able to create a closed-list vocabulary, which contains all the possible words.\n",
        "\n",
        "Therefore, during the pre-processing, we transform unseen words to special pre-defined tokens in our vocabulary, such as **\\<unk\\>** which represents an **unknown** vocabulary word.\n",
        "\n",
        "Similar examples include replacing numbers with **\\<num\\>**, marking capitalized letters with **\\<up\\>** etc. \n",
        "\n",
        "#### Note:\n",
        "It is important to emphasize the these formats are framework-dependant. \n",
        "\n",
        "For example, in BERT and fastai, these tokens are marked as **xxunk**.\n",
        "\n",
        "Read more about it here:\n",
        "https://fastai1.fast.ai/text.transform.html"
      ]
    },
    {
      "cell_type": "markdown",
      "metadata": {
        "id": "BwdDFWPPnJbk"
      },
      "source": [
        "### Padding for windows."
      ]
    },
    {
      "cell_type": "markdown",
      "metadata": {
        "id": "1JCJZkPLnJbk"
      },
      "source": [
        "In the word window classifier, we want to get for each word in the sentence the +/- *n* words window around that given word, where *0 <= n < len(sentence)*.\n",
        "\n",
        "**Special case: Words in the beginning / end of a sentence**\n",
        "\n",
        "Notice that we may get stuck with words in the beginning/end of the sentence - there's no room for that window.\n",
        "\n",
        "In order for such windows to be defined for words at the beginning and ends of the sentence, we need to insert padding around the sentence before converting to indices:"
      ]
    },
    {
      "cell_type": "code",
      "metadata": {
        "id": "kfyB3U7KnJbl"
      },
      "source": [
        "def pad_sentence_for_window(sentence, window_size, pad_token=\"<pad>\"):\n",
        "    return [pad_token]*window_size + sentence + [pad_token]*window_size "
      ],
      "execution_count": 9,
      "outputs": []
    },
    {
      "cell_type": "code",
      "metadata": {
        "id": "2UFodsg-nJbo",
        "outputId": "37342c01-9a98-4b13-a755-91d8cb1dbb41",
        "colab": {
          "base_uri": "https://localhost:8080/"
        }
      },
      "source": [
        "## window_size represents the number of words to each side of a given word\n",
        "window_size = 2\n",
        "\n",
        "instance = pad_sentence_for_window(train_sents[0], window_size)\n",
        "print(instance)"
      ],
      "execution_count": 10,
      "outputs": [
        {
          "output_type": "stream",
          "name": "stdout",
          "text": [
            "['<pad>', '<pad>', 'we', \"'ll\", 'always', 'have', 'paris', '<pad>', '<pad>']\n"
          ]
        }
      ]
    },
    {
      "cell_type": "markdown",
      "metadata": {
        "id": "UH1rvJxnnJbq"
      },
      "source": [
        "Let's make sure this works with our vocabulary:"
      ]
    },
    {
      "cell_type": "code",
      "metadata": {
        "scrolled": true,
        "id": "s7BTedlJnJbt",
        "outputId": "80766ac4-46f8-4839-8f36-42f82915f85d",
        "colab": {
          "base_uri": "https://localhost:8080/"
        }
      },
      "source": [
        "for sent in train_sents:\n",
        "    tok_idxs = convert_tokens_to_inds(pad_sentence_for_window(sent, window_size), word_2_id)\n",
        "    print([id_2_word[idx] for idx in tok_idxs])"
      ],
      "execution_count": 11,
      "outputs": [
        {
          "output_type": "stream",
          "name": "stdout",
          "text": [
            "['<pad>', '<pad>', 'we', '<unk>', 'always', 'have', 'paris', '<pad>', '<pad>']\n",
            "['<pad>', '<pad>', 'i', 'live', 'in', 'germany', '<pad>', '<pad>']\n",
            "['<pad>', '<pad>', 'he', 'comes', 'from', 'denmark', '<pad>', '<pad>']\n",
            "['<pad>', '<pad>', 'the', '<unk>', 'of', 'denmark', 'is', 'copenhagen', '<pad>', '<pad>']\n"
          ]
        }
      ]
    },
    {
      "cell_type": "markdown",
      "metadata": {
        "id": "88QMwyiQnJb5"
      },
      "source": [
        "### Batching sentences together with a DataLoader"
      ]
    },
    {
      "cell_type": "markdown",
      "metadata": {
        "id": "iKxKCHw4nJb7"
      },
      "source": [
        "When we train our model, we rarely update with respect to a single training instance at a time, because a single instance provides a very noisy estimate of the global loss's gradient. We instead construct small *batches*, a collection of several samples of the training data, and update parameters for each batch.\n",
        "\n",
        "As you may remember from the Deep Learning training, using batches - these grouped training data samples - helps the model to learn quicker. The learnt parameters are updated based on the average loss, which is calculated from all the batch's samples.\n"
      ]
    },
    {
      "cell_type": "markdown",
      "metadata": {
        "id": "mmJK0wNuJNmQ"
      },
      "source": [
        "---\n",
        "*Test yourself*: Can you explain how using batches help the model to converge faster, compared to a providing a single sample in every training iteration?\n",
        "\n",
        "---"
      ]
    },
    {
      "cell_type": "markdown",
      "metadata": {
        "id": "ifN1R-z1nJb8"
      },
      "source": [
        "Given some batch size, we want to construct batch tensors out of the word index lists we've just created with our vocab.\n",
        "\n",
        "For each length B list of inputs, we'll have to:\n",
        "\n",
        "    (1) Add window padding to sentences in the batch like we just saw.\n",
        "    (2) Add additional padding so that each sentence in the batch is the same length.\n",
        "    (3) Make sure our labels are in the desired format.\n",
        "\n",
        "At the level of the dataest we want:\n",
        "\n",
        "    (4) Easy shuffling, because shuffling from one training epoch to the next gets rid of \n",
        "        pathological batches that are tough to learn from.\n",
        "    (5) Making sure we shuffle inputs and their labels together!\n",
        "    \n",
        "PyTorch provides us with an object *torch.utils.data.DataLoader* that gets us (4) and (5). All that's required of us is to specify a *collate_fn* that tells it how to do (1), (2), and (3). "
      ]
    },
    {
      "cell_type": "code",
      "metadata": {
        "id": "ll0jWyEenJb-",
        "outputId": "55ecbfff-5ca1-4a54-a166-7684f33fb155",
        "colab": {
          "base_uri": "https://localhost:8080/"
        }
      },
      "source": [
        "train_labels_tensor = torch.LongTensor(train_labels[0])\n",
        "pp.pprint((\"raw train label instance\", train_labels_tensor))\n",
        "print(train_labels_tensor.size())\n"
      ],
      "execution_count": 12,
      "outputs": [
        {
          "output_type": "stream",
          "name": "stdout",
          "text": [
            "('raw train label instance', tensor([0, 0, 0, 0, 1]))\n",
            "torch.Size([5])\n"
          ]
        }
      ]
    },
    {
      "cell_type": "markdown",
      "source": [
        "### Pause: One-Hot-Vectors \n",
        "\n",
        "Let's understand what we just did.\n",
        "\n",
        "The `one_hot` method takes our `train_labels_tensor` and converts it to one-hot encoding. These one-hot-vectors are in the size of the labels we have. If we only have two labels (LOC / Other) - it will be the size of 2: The first position (left) signals \"Other\", the second (right) - \"Loc\": "
      ],
      "metadata": {
        "id": "ZyjTABpmUWVx"
      }
    },
    {
      "cell_type": "code",
      "source": [
        "nn.functional.one_hot(train_labels_tensor)"
      ],
      "metadata": {
        "colab": {
          "base_uri": "https://localhost:8080/"
        },
        "id": "0wgNfs33QSV0",
        "outputId": "d1a4bb74-f718-4d1f-f770-91f92c6e45c1"
      },
      "execution_count": 37,
      "outputs": [
        {
          "output_type": "execute_result",
          "data": {
            "text/plain": [
              "tensor([[1, 0],\n",
              "        [1, 0],\n",
              "        [1, 0],\n",
              "        [1, 0],\n",
              "        [0, 1]])"
            ]
          },
          "metadata": {},
          "execution_count": 37
        }
      ]
    },
    {
      "cell_type": "code",
      "metadata": {
        "id": "TiTP8vkYYAqK",
        "outputId": "91ed94f3-49e5-49c7-c6de-5d6cb30f5a1a",
        "colab": {
          "base_uri": "https://localhost:8080/"
        }
      },
      "source": [
        "pp.pprint((\"one-hot labels\", nn.functional.one_hot(train_labels_tensor).transpose(0, 1)))"
      ],
      "execution_count": 13,
      "outputs": [
        {
          "output_type": "stream",
          "name": "stdout",
          "text": [
            "('one-hot labels', tensor([[1, 1, 1, 1, 0],\n",
            "        [0, 0, 0, 0, 1]]))\n"
          ]
        }
      ]
    },
    {
      "cell_type": "markdown",
      "source": [
        "To demonstrate - let's see what it looks like with more than 2 classes. Say with 4 [0-3]:"
      ],
      "metadata": {
        "id": "xx4eMHgDU6-c"
      }
    },
    {
      "cell_type": "code",
      "source": [
        "nn.functional.one_hot(torch.LongTensor([0, 0, 0, 1, 3])).transpose(0, 1)"
      ],
      "metadata": {
        "colab": {
          "base_uri": "https://localhost:8080/"
        },
        "id": "v9s9JAsBNoHs",
        "outputId": "d9df84fb-43dd-49a7-bb40-581b9b077e1e"
      },
      "execution_count": 43,
      "outputs": [
        {
          "output_type": "execute_result",
          "data": {
            "text/plain": [
              "tensor([[1, 1, 1, 0, 0],\n",
              "        [0, 0, 0, 1, 0],\n",
              "        [0, 0, 0, 0, 0],\n",
              "        [0, 0, 0, 0, 1]])"
            ]
          },
          "metadata": {},
          "execution_count": 43
        }
      ]
    },
    {
      "cell_type": "markdown",
      "source": [
        "#### Back to *torch.utils.data.DataLoader*"
      ],
      "metadata": {
        "id": "R5kAjyaLVIln"
      }
    },
    {
      "cell_type": "code",
      "metadata": {
        "id": "JfeIBnWonJcP"
      },
      "source": [
        "from torch.utils.data import DataLoader\n",
        "from functools import partial"
      ],
      "execution_count": 14,
      "outputs": []
    },
    {
      "cell_type": "code",
      "metadata": {
        "id": "J85Bc__cnJcS"
      },
      "source": [
        "def my_collate(data, window_size, word_2_id):\n",
        "    \"\"\"\n",
        "    For some chunk of sentences and labels\n",
        "        -add winow padding\n",
        "        -pad for lengths using pad_sequence\n",
        "        -convert our labels to one-hots\n",
        "        -return padded inputs, one-hot labels, and lengths\n",
        "    \"\"\"\n",
        "    \n",
        "    x_s, y_s = zip(*data)\n",
        "\n",
        "    # deal with input sentences as we've seen\n",
        "    window_padded = [convert_tokens_to_inds(pad_sentence_for_window(sentence, window_size), word_2_id)\n",
        "                                                                                  for sentence in x_s]\n",
        "    # append zeros to each list of token ids in batch so that they are all the same length\n",
        "    padded = nn.utils.rnn.pad_sequence([torch.LongTensor(t) for t in window_padded], batch_first=True)\n",
        "    \n",
        "    # convert labels to one-hots\n",
        "    labels = []\n",
        "    lengths = []\n",
        "    for y in y_s:\n",
        "        lengths.append(len(y))\n",
        "        y_long = torch.LongTensor(y)\n",
        "        label = nn.functional.one_hot(y_long)\n",
        "        labels.append(label)\n",
        "\n",
        "    padded_labels = nn.utils.rnn.pad_sequence(labels, batch_first=True)\n",
        "    \n",
        "    return padded.long(), padded_labels, torch.LongTensor(lengths)"
      ],
      "execution_count": 15,
      "outputs": []
    },
    {
      "cell_type": "code",
      "metadata": {
        "id": "5NR5B2s6nJcV"
      },
      "source": [
        "# Shuffle True is good practice for train loaders.\n",
        "# Use functools.partial to construct a partially populated collate function\n",
        "example_loader = DataLoader(list(zip(train_sents, train_labels)), \n",
        "                                      batch_size=2, \n",
        "                                      shuffle=True, \n",
        "                                      collate_fn=partial(my_collate, window_size=2, word_2_id=word_2_id))"
      ],
      "execution_count": 16,
      "outputs": []
    },
    {
      "cell_type": "code",
      "metadata": {
        "id": "7BQ7lOnhnJcX",
        "outputId": "3b36f564-2291-437b-f8cb-db567c646c0b",
        "colab": {
          "base_uri": "https://localhost:8080/"
        }
      },
      "source": [
        "for batched_input, batched_labels, batch_lengths in example_loader:\n",
        "    pp.pprint((\"inputs\", batched_input, batched_input.size()))\n",
        "    pp.pprint((\"labels\", batched_labels, batched_labels.size()))\n",
        "    pp.pprint(batch_lengths)\n",
        "    break"
      ],
      "execution_count": 17,
      "outputs": [
        {
          "output_type": "stream",
          "name": "stdout",
          "text": [
            "('inputs',\n",
            " tensor([[ 0,  0,  6,  7,  8,  9,  0,  0],\n",
            "        [ 0,  0, 10, 11, 12, 13,  0,  0]]),\n",
            " torch.Size([2, 8]))\n",
            "('labels',\n",
            " tensor([[[1, 0],\n",
            "         [1, 0],\n",
            "         [1, 0],\n",
            "         [0, 1]],\n",
            "\n",
            "        [[1, 0],\n",
            "         [1, 0],\n",
            "         [1, 0],\n",
            "         [0, 1]]]),\n",
            " torch.Size([2, 4, 2]))\n",
            "tensor([4, 4])\n"
          ]
        }
      ]
    },
    {
      "cell_type": "markdown",
      "metadata": {
        "id": "1k0mqI_unJca"
      },
      "source": [
        "## Modeling\n",
        "\n",
        "### Thinking through vectorization of word windows.\n",
        "Before we go ahead and build our model, let's think about the first thing it needs to do to its inputs.\n",
        "\n",
        "We're passed batches of sentences. For each sentence *i* in the batch, for each word j in the sentence, we want to construct a single tensor out of the embeddings surrounding word j in the +/- n window.\n",
        "\n",
        "Thus, the first thing we're going to need a (B, L, 2N+1) tensor of token indices.\n"
      ]
    },
    {
      "cell_type": "markdown",
      "metadata": {
        "id": "V7db_pQ1nJca"
      },
      "source": [
        "A *terrible* but nevertheless informative *iterative* solution looks something like the following, where we iterate through batch elements in our (dummy), iterating non-padded word positions in those, and for each non-padded word position, construct a window:"
      ]
    },
    {
      "cell_type": "code",
      "metadata": {
        "id": "bsCMqHEknJca",
        "outputId": "31d2d1db-1248-474c-aed7-8dcd18907aa1",
        "colab": {
          "base_uri": "https://localhost:8080/"
        }
      },
      "source": [
        "dummy_input = torch.zeros(2, 8).long()\n",
        "dummy_input[:,2:-2] = torch.arange(1,9).view(2,4)\n",
        "pp.pprint(dummy_input)"
      ],
      "execution_count": 18,
      "outputs": [
        {
          "output_type": "stream",
          "name": "stdout",
          "text": [
            "tensor([[0, 0, 1, 2, 3, 4, 0, 0],\n",
            "        [0, 0, 5, 6, 7, 8, 0, 0]])\n"
          ]
        }
      ]
    },
    {
      "cell_type": "code",
      "metadata": {
        "id": "YrXSoeBXnJcd",
        "outputId": "2a2750fa-5363-4e21-a3ce-9bdd401c137c",
        "colab": {
          "base_uri": "https://localhost:8080/"
        }
      },
      "source": [
        "dummy_output = [[[dummy_input[i, j-2+k].item() for k in range(2*2+1)] \n",
        "                                                     for j in range(2, 6)] \n",
        "                                                            for i in range(2)]\n",
        "dummy_output = torch.LongTensor(dummy_output)\n",
        "print(dummy_output.size())\n",
        "pp.pprint(dummy_output)"
      ],
      "execution_count": 19,
      "outputs": [
        {
          "output_type": "stream",
          "name": "stdout",
          "text": [
            "torch.Size([2, 4, 5])\n",
            "tensor([[[0, 0, 1, 2, 3],\n",
            "         [0, 1, 2, 3, 4],\n",
            "         [1, 2, 3, 4, 0],\n",
            "         [2, 3, 4, 0, 0]],\n",
            "\n",
            "        [[0, 0, 5, 6, 7],\n",
            "         [0, 5, 6, 7, 8],\n",
            "         [5, 6, 7, 8, 0],\n",
            "         [6, 7, 8, 0, 0]]])\n"
          ]
        }
      ]
    },
    {
      "cell_type": "markdown",
      "metadata": {
        "id": "G9Nyb7OhnJcf"
      },
      "source": [
        "*Technically* it works: For each element in the batch, for each word in the original sentence and ignoring window padding, we've got the 5 token indices centered at that word. But in practice will be crazy slow."
      ]
    },
    {
      "cell_type": "markdown",
      "metadata": {
        "id": "Xkw49b5EnJcg"
      },
      "source": [
        "Instead, we ideally want to find the right tensor operation in the PyTorch arsenal. Here, that happens to be __Tensor.unfold__."
      ]
    },
    {
      "cell_type": "code",
      "metadata": {
        "id": "0XV9ASMinJcg",
        "outputId": "56366fc5-c1ca-4701-93f2-94dc091da8c6",
        "colab": {
          "base_uri": "https://localhost:8080/"
        }
      },
      "source": [
        "dummy_input.unfold(1, 2*2+1, 1)"
      ],
      "execution_count": 20,
      "outputs": [
        {
          "output_type": "execute_result",
          "data": {
            "text/plain": [
              "tensor([[[0, 0, 1, 2, 3],\n",
              "         [0, 1, 2, 3, 4],\n",
              "         [1, 2, 3, 4, 0],\n",
              "         [2, 3, 4, 0, 0]],\n",
              "\n",
              "        [[0, 0, 5, 6, 7],\n",
              "         [0, 5, 6, 7, 8],\n",
              "         [5, 6, 7, 8, 0],\n",
              "         [6, 7, 8, 0, 0]]])"
            ]
          },
          "metadata": {},
          "execution_count": 20
        }
      ]
    },
    {
      "cell_type": "markdown",
      "metadata": {
        "id": "LCg7rPMInJcj"
      },
      "source": [
        "### A model in full."
      ]
    },
    {
      "cell_type": "markdown",
      "metadata": {
        "id": "FqHovTS_nJcj"
      },
      "source": [
        "In PyTorch, we implement models by extending the nn.Module class. Minimally, this requires implementing an *\\_\\_init\\_\\_* function and a *forward* function.\n",
        "\n",
        "In *\\_\\_init\\_\\_* we want to store model parameters (weights) and hyperparameters (dimensions).\n"
      ]
    },
    {
      "cell_type": "code",
      "metadata": {
        "id": "yEX7mcuznJck"
      },
      "source": [
        "class SoftmaxWordWindowClassifier(nn.Module):\n",
        "    \"\"\"\n",
        "    A one-layer, binary word-window classifier.\n",
        "    \"\"\"\n",
        "    def __init__(self, config, vocab_size, pad_idx=0):\n",
        "        super(SoftmaxWordWindowClassifier, self).__init__()\n",
        "        \"\"\"\n",
        "        Instance variables.\n",
        "        \"\"\"\n",
        "        self.window_size = 2*config[\"half_window\"]+1\n",
        "        self.embed_dim = config[\"embed_dim\"]\n",
        "        self.hidden_dim = config[\"hidden_dim\"]\n",
        "        self.num_classes = config[\"num_classes\"]\n",
        "        self.freeze_embeddings = config[\"freeze_embeddings\"]\n",
        "        \n",
        "        \"\"\"\n",
        "        Embedding layer\n",
        "        -model holds an embedding for each layer in our vocab\n",
        "        -sets aside a special index in the embedding matrix for padding vector (of zeros)\n",
        "        -by default, embeddings are parameters (so gradients pass through them)\n",
        "        \"\"\"\n",
        "        self.embed_layer = nn.Embedding(vocab_size, self.embed_dim, padding_idx=pad_idx)\n",
        "        if self.freeze_embeddings:\n",
        "            self.embed_layer.weight.requires_grad = False\n",
        "        \n",
        "        \"\"\"\n",
        "        Hidden layer\n",
        "        -we want to map embedded word windows of dim (window_size+1)*self.embed_dim to a hidden layer.\n",
        "        -nn.Sequential allows you to efficiently specify sequentially structured models\n",
        "            -first the linear transformation is evoked on the embedded word windows\n",
        "            -next the nonlinear transformation ReLU is evoked.\n",
        "        \"\"\"\n",
        "        self.hidden_layer = nn.Sequential(nn.Linear(self.window_size*self.embed_dim, \n",
        "                                                    self.hidden_dim), \n",
        "                                          nn.ReLU())\n",
        "        \n",
        "        \"\"\"\n",
        "        Output layer\n",
        "        -we want to map elements of the output layer (of size self.hidden dim) to a number of classes.\n",
        "        \"\"\"\n",
        "        self.output_layer = nn.Linear(self.hidden_dim, self.num_classes)\n",
        "        \n",
        "        \"\"\"\n",
        "        Softmax\n",
        "        -The final step of the softmax classifier: mapping final hidden layer to class scores.\n",
        "        -pytorch has both logsoftmax and softmax functions (and many others)\n",
        "        -since our loss is the negative LOG likelihood, we use logsoftmax\n",
        "        -technically you can take the softmax, and take the log but PyTorch's implementation\n",
        "         is optimized to avoid numerical underflow issues.\n",
        "        \"\"\"\n",
        "        self.log_softmax = nn.LogSoftmax(dim=2)\n",
        "        \n",
        "    def forward(self, inputs):\n",
        "        \"\"\"\n",
        "        Let B:= batch_size\n",
        "            L:= window-padded sentence length\n",
        "            D:= self.embed_dim\n",
        "            S:= self.window_size\n",
        "            H:= self.hidden_dim\n",
        "            \n",
        "        inputs: a (B, L) tensor of token indices\n",
        "        \"\"\"\n",
        "        B, L = inputs.size()\n",
        "        \n",
        "        \"\"\"\n",
        "        Reshaping.\n",
        "        Takes in a (B, L) LongTensor\n",
        "        Outputs a (B, L~, S) LongTensor\n",
        "        \"\"\"\n",
        "        # Fist, get our word windows for each word in our input.\n",
        "        token_windows = inputs.unfold(1, self.window_size, 1)\n",
        "        _, adjusted_length, _ = token_windows.size()\n",
        "        \n",
        "        # Good idea to do internal tensor-size sanity checks, at the least in comments!\n",
        "        assert token_windows.size() == (B, adjusted_length, self.window_size)\n",
        "        \n",
        "        \"\"\"\n",
        "        Embedding.\n",
        "        Takes in a torch.LongTensor of size (B, L~, S) \n",
        "        Outputs a (B, L~, S, D) FloatTensor.\n",
        "        \"\"\"\n",
        "        embedded_windows = self.embed_layer(token_windows)\n",
        "        \n",
        "        \"\"\"\n",
        "        Reshaping.\n",
        "        Takes in a (B, L~, S, D) FloatTensor.\n",
        "        Resizes it into a (B, L~, S*D) FloatTensor.\n",
        "        -1 argument \"infers\" what the last dimension should be based on leftover axes.\n",
        "        \"\"\"\n",
        "        embedded_windows = embedded_windows.view(B, adjusted_length, -1)\n",
        "        \n",
        "        \"\"\"\n",
        "        Layer 1.\n",
        "        Takes in a (B, L~, S*D) FloatTensor.\n",
        "        Resizes it into a (B, L~, H) FloatTensor\n",
        "        \"\"\"\n",
        "        layer_1 = self.hidden_layer(embedded_windows)\n",
        "        \n",
        "        \"\"\"\n",
        "        Layer 2\n",
        "        Takes in a (B, L~, H) FloatTensor.\n",
        "        Resizes it into a (B, L~, 2) FloatTensor.\n",
        "        \"\"\"\n",
        "        output = self.output_layer(layer_1)\n",
        "        \n",
        "        \"\"\"\n",
        "        Softmax.\n",
        "        Takes in a (B, L~, 2) FloatTensor of unnormalized class scores.\n",
        "        Outputs a (B, L~, 2) FloatTensor of (log-)normalized class scores.\n",
        "        \"\"\"\n",
        "        output = self.log_softmax(output)\n",
        "        \n",
        "        return output"
      ],
      "execution_count": 21,
      "outputs": []
    },
    {
      "cell_type": "markdown",
      "metadata": {
        "id": "TUqPxbb6nJcn"
      },
      "source": [
        "### Training.\n",
        "\n",
        "Now that we've got a model, we have to train it."
      ]
    },
    {
      "cell_type": "code",
      "metadata": {
        "id": "N6n-AXs_nJcn"
      },
      "source": [
        "def loss_function(outputs, labels, lengths):\n",
        "    \"\"\"Computes negative LL loss on a batch of model predictions.\"\"\"\n",
        "    B, L, num_classes = outputs.size()\n",
        "    num_elems = lengths.sum().float()\n",
        "        \n",
        "    # get only the values with non-zero labels\n",
        "    loss = outputs*labels\n",
        "    \n",
        "    # rescale average\n",
        "    return -loss.sum() / num_elems"
      ],
      "execution_count": 22,
      "outputs": []
    },
    {
      "cell_type": "code",
      "metadata": {
        "id": "eB_oOfTsnJcp"
      },
      "source": [
        "def train_epoch(loss_function, optimizer, model, train_data):\n",
        "    \n",
        "    ## For each batch, we must reset the gradients\n",
        "    ## stored by the model.   \n",
        "    total_loss = 0\n",
        "    for batch, labels, lengths in train_data:\n",
        "        # clear gradients\n",
        "        optimizer.zero_grad()\n",
        "        # evoke model in training mode on batch\n",
        "        outputs = model.forward(batch)\n",
        "        # compute loss w.r.t batch\n",
        "        loss = loss_function(outputs, labels, lengths)\n",
        "        # pass gradients back, startiing on loss value\n",
        "        loss.backward()\n",
        "        # update parameters\n",
        "        optimizer.step()\n",
        "        total_loss += loss.item()\n",
        "    \n",
        "    # return the total to keep track of how you did this time around\n",
        "    return total_loss\n",
        "    "
      ],
      "execution_count": 23,
      "outputs": []
    },
    {
      "cell_type": "code",
      "metadata": {
        "id": "E-ZyOq-UnJcs"
      },
      "source": [
        "config = {\"batch_size\": 4,\n",
        "          \"half_window\": 2,\n",
        "          \"embed_dim\": 25,\n",
        "          \"hidden_dim\": 25,\n",
        "          \"num_classes\": 2,\n",
        "          \"freeze_embeddings\": False,\n",
        "         }\n",
        "learning_rate = .0002\n",
        "num_epochs = 10000\n",
        "model = SoftmaxWordWindowClassifier(config, len(word_2_id))\n",
        "optimizer = torch.optim.SGD(model.parameters(), lr=learning_rate)"
      ],
      "execution_count": 24,
      "outputs": []
    },
    {
      "cell_type": "markdown",
      "metadata": {
        "id": "KOqrs9bPMRho"
      },
      "source": [
        "Let's take a peek at our model:"
      ]
    },
    {
      "cell_type": "code",
      "metadata": {
        "id": "hMezXV88MPma",
        "outputId": "64986004-66bc-4523-bde0-470ea71df742",
        "colab": {
          "base_uri": "https://localhost:8080/"
        }
      },
      "source": [
        "model"
      ],
      "execution_count": 25,
      "outputs": [
        {
          "output_type": "execute_result",
          "data": {
            "text/plain": [
              "SoftmaxWordWindowClassifier(\n",
              "  (embed_layer): Embedding(18, 25, padding_idx=0)\n",
              "  (hidden_layer): Sequential(\n",
              "    (0): Linear(in_features=125, out_features=25, bias=True)\n",
              "    (1): ReLU()\n",
              "  )\n",
              "  (output_layer): Linear(in_features=25, out_features=2, bias=True)\n",
              "  (log_softmax): LogSoftmax(dim=2)\n",
              ")"
            ]
          },
          "metadata": {},
          "execution_count": 25
        }
      ]
    },
    {
      "cell_type": "code",
      "metadata": {
        "id": "8Xjjz3NWnJcu"
      },
      "source": [
        "train_loader = torch.utils.data.DataLoader(list(zip(train_sents, train_labels)), \n",
        "                                           batch_size=2, \n",
        "                                           shuffle=True, \n",
        "                                           collate_fn=partial(my_collate, window_size=2, word_2_id=word_2_id))"
      ],
      "execution_count": 26,
      "outputs": []
    },
    {
      "cell_type": "code",
      "metadata": {
        "scrolled": false,
        "id": "DPGySROsnJcw",
        "outputId": "9466e84e-3817-4b99-e815-69ddbb726ef0",
        "colab": {
          "base_uri": "https://localhost:8080/",
          "height": 1000,
          "referenced_widgets": [
            "8d3da9f26c854fbbae224a099bdb5d93",
            "5771248eddef433ca55dde1a9d51d80e",
            "febc19af3e8e4bc2a6709753f309343b",
            "c7cf2175ed944fec924e9d33d5d8e469",
            "de8a53f833e44a36bb67f4a6c35a3cc0",
            "8edf663d6372477db0f767fd17bf5be9",
            "59bdd22e2ae441cdb3e0b2f1791ea711",
            "f99d8b6ac909479c828ba37d77ed663d",
            "a2aaa4b46f3b415498ee54801055498f",
            "5ef93e89c08f4250b3c22572b0db0d71",
            "671e8ea75ee1409c882c3eeb0b4a80dd"
          ]
        }
      },
      "source": [
        "for epoch in tqdm(range(num_epochs)):\n",
        "    epoch_loss = train_epoch(loss_function, optimizer, model, train_loader)\n",
        "    if epoch % 100 == 0:\n",
        "        print(epoch_loss)"
      ],
      "execution_count": 27,
      "outputs": [
        {
          "output_type": "display_data",
          "data": {
            "application/vnd.jupyter.widget-view+json": {
              "model_id": "8d3da9f26c854fbbae224a099bdb5d93",
              "version_minor": 0,
              "version_major": 2
            },
            "text/plain": [
              "  0%|          | 0/10000 [00:00<?, ?it/s]"
            ]
          },
          "metadata": {}
        },
        {
          "output_type": "stream",
          "name": "stdout",
          "text": [
            "1.7762646675109863\n",
            "1.667417824268341\n",
            "1.5800732374191284\n",
            "1.4961181282997131\n",
            "1.4238995909690857\n",
            "1.360202670097351\n",
            "1.30170077085495\n",
            "1.2489955425262451\n",
            "1.2005919814109802\n",
            "1.1560579538345337\n",
            "1.114190697669983\n",
            "1.0746473670005798\n",
            "1.0374586880207062\n",
            "1.0021887719631195\n",
            "0.9680842459201813\n",
            "0.9358116388320923\n",
            "0.9041091203689575\n",
            "0.873713880777359\n",
            "0.8447242379188538\n",
            "0.8220214545726776\n",
            "0.7935426831245422\n",
            "0.7596851587295532\n",
            "0.7333543598651886\n",
            "0.7081561386585236\n",
            "0.6834931075572968\n",
            "0.6592739522457123\n",
            "0.6420887410640717\n",
            "0.6196114420890808\n",
            "0.5978224277496338\n",
            "0.5715623497962952\n",
            "0.5513671934604645\n",
            "0.5320505797863007\n",
            "0.5139280706644058\n",
            "0.49641451239585876\n",
            "0.48376429080963135\n",
            "0.4673885852098465\n",
            "0.4473239928483963\n",
            "0.43223462998867035\n",
            "0.42137762904167175\n",
            "0.40430814027786255\n",
            "0.39374107122421265\n",
            "0.38079386949539185\n",
            "0.36543938517570496\n",
            "0.356368824839592\n",
            "0.342793345451355\n",
            "0.3318694829940796\n",
            "0.32077670097351074\n",
            "0.31147123873233795\n",
            "0.30362775921821594\n",
            "0.29284121096134186\n",
            "0.2835206240415573\n",
            "0.27561524510383606\n",
            "0.2674917206168175\n",
            "0.26114386320114136\n",
            "0.2516555115580559\n",
            "0.24442240595817566\n",
            "0.23793785274028778\n",
            "0.2312302514910698\n",
            "0.22430632263422012\n",
            "0.21807371079921722\n",
            "0.2138291522860527\n",
            "0.20671290904283524\n",
            "0.20071275532245636\n",
            "0.19575223326683044\n",
            "0.19057216495275497\n",
            "0.18683351576328278\n",
            "0.18200776726007462\n",
            "0.1773594617843628\n",
            "0.17167579382658005\n",
            "0.16701028496026993\n",
            "0.16286608576774597\n",
            "0.15922000259160995\n",
            "0.15536224842071533\n",
            "0.15282006561756134\n",
            "0.14921292662620544\n",
            "0.14423884451389313\n",
            "0.14088890701532364\n",
            "0.1379697322845459\n",
            "0.13483823835849762\n",
            "0.13151045143604279\n",
            "0.13000841438770294\n",
            "0.1260782554745674\n",
            "0.12442995607852936\n",
            "0.1217772476375103\n",
            "0.11815272644162178\n",
            "0.11672566831111908\n",
            "0.11432058736681938\n",
            "0.11067437753081322\n",
            "0.10972431302070618\n",
            "0.10651936754584312\n",
            "0.10413272306323051\n",
            "0.1033458560705185\n",
            "0.10036012157797813\n",
            "0.0981660969555378\n",
            "0.09629426151514053\n",
            "0.09569132700562477\n",
            "0.09391699731349945\n",
            "0.0912499725818634\n",
            "0.08958260342478752\n",
            "0.08796240016818047\n"
          ]
        }
      ]
    },
    {
      "cell_type": "markdown",
      "metadata": {
        "id": "Z1hnCH3inJcy"
      },
      "source": [
        "### Prediction."
      ]
    },
    {
      "cell_type": "markdown",
      "source": [
        "Let's test it on our `test_set`:"
      ],
      "metadata": {
        "id": "QAGMhm-rSy7M"
      }
    },
    {
      "cell_type": "code",
      "source": [
        "print(test_sents, test_labels)"
      ],
      "metadata": {
        "colab": {
          "base_uri": "https://localhost:8080/"
        },
        "id": "f3mJGXbHSwTZ",
        "outputId": "ddb11f52-0843-466c-bde3-7cd6d02e3aed"
      },
      "execution_count": 45,
      "outputs": [
        {
          "output_type": "stream",
          "name": "stdout",
          "text": [
            "[['she', 'comes', 'from', 'paris']] [[0, 0, 0, 1]]\n"
          ]
        }
      ]
    },
    {
      "cell_type": "markdown",
      "source": [
        "First we load the data into the pyTorch DataLoader:"
      ],
      "metadata": {
        "id": "RsiH3jLBS52l"
      }
    },
    {
      "cell_type": "code",
      "metadata": {
        "id": "0-0QocWknJcz"
      },
      "source": [
        "test_loader = torch.utils.data.DataLoader(list(zip(test_sents, test_labels)), \n",
        "                                           batch_size=1, \n",
        "                                           shuffle=False, \n",
        "                                           collate_fn=partial(my_collate, window_size=2, word_2_id=word_2_id))"
      ],
      "execution_count": 28,
      "outputs": []
    },
    {
      "cell_type": "markdown",
      "source": [
        "Then, for each example (in case we have more than one...), we pass it through the model, and take the most likely result."
      ],
      "metadata": {
        "id": "WrqFtajJTD1I"
      }
    },
    {
      "cell_type": "code",
      "metadata": {
        "id": "RNgomU9OnJc1",
        "outputId": "b2a36b13-4bc4-49b5-b69d-31390450ef9f",
        "colab": {
          "base_uri": "https://localhost:8080/"
        }
      },
      "source": [
        "for test_instance, y_true, _ in test_loader:\n",
        "    print(f'passing {test_instance}, with its labels - {y_true} to the model:')\n",
        "    outputs = model.forward(test_instance)\n",
        "    print(torch.argmax(outputs, dim=2))\n",
        "    print(torch.argmax(y_true, dim=2))"
      ],
      "execution_count": 52,
      "outputs": [
        {
          "output_type": "stream",
          "name": "stdout",
          "text": [
            "passing tensor([[ 0,  0,  1, 11, 12,  5,  0,  0]]), with its labels - tensor([[[1, 0],\n",
            "         [1, 0],\n",
            "         [1, 0],\n",
            "         [0, 1]]]) to the model:\n",
            "tensor([[0, 0, 0, 1]])\n",
            "tensor([[0, 0, 0, 1]])\n"
          ]
        }
      ]
    },
    {
      "cell_type": "markdown",
      "source": [
        "In the tensors we just got, 0 represents the 'None' or 'Other', while 1s represents the 'LOC'.\n",
        "\n",
        "\n",
        "Let's take a look at the model outputs. We get a set of \"probabilities\" for each of the class."
      ],
      "metadata": {
        "id": "_5i9XiVhTrHZ"
      }
    },
    {
      "cell_type": "code",
      "source": [
        "outputs"
      ],
      "metadata": {
        "colab": {
          "base_uri": "https://localhost:8080/"
        },
        "id": "KngaL_pqTSoM",
        "outputId": "154be357-b684-4a25-f7c3-5f18cdb16fad"
      },
      "execution_count": 53,
      "outputs": [
        {
          "output_type": "execute_result",
          "data": {
            "text/plain": [
              "tensor([[[-0.0363, -3.3351],\n",
              "         [-0.0153, -4.1906],\n",
              "         [-0.0906, -2.4462],\n",
              "         [-1.4868, -0.2563]]], grad_fn=<LogSoftmaxBackward0>)"
            ]
          },
          "metadata": {},
          "execution_count": 53
        }
      ]
    },
    {
      "cell_type": "markdown",
      "source": [
        "The method `argmax` chooses for us the ID of the highest \"probability\". These IDs are in the range of our label count. In this case - 0 to 1:"
      ],
      "metadata": {
        "id": "_VbL3vxsUGl2"
      }
    },
    {
      "cell_type": "code",
      "source": [
        "torch.argmax(outputs, dim=2)"
      ],
      "metadata": {
        "colab": {
          "base_uri": "https://localhost:8080/"
        },
        "id": "kD57ljNLUB8J",
        "outputId": "246801c7-5f45-483e-efe9-f0fd373b6543"
      },
      "execution_count": 55,
      "outputs": [
        {
          "output_type": "execute_result",
          "data": {
            "text/plain": [
              "tensor([[0, 0, 0, 1]])"
            ]
          },
          "metadata": {},
          "execution_count": 55
        }
      ]
    },
    {
      "cell_type": "markdown",
      "source": [
        "# Wanna take it to the next level?"
      ],
      "metadata": {
        "id": "K79ukzQC8QMA"
      }
    },
    {
      "cell_type": "markdown",
      "source": [
        "Here are annotated sentences from CONLL-2013.\n",
        "They are divided into train, dev and test sets.\n",
        "\n",
        "Each line represents a word, together with its annotation: B-ORG is the first (Begin) word of an organization. \n",
        "\n",
        "B-PER and I-PER represents the *B*egin and *I*nner word names of a person."
      ],
      "metadata": {
        "id": "rpudI19p8UZR"
      }
    },
    {
      "cell_type": "code",
      "source": [
        "import requests\n",
        "\n",
        "data = {}\n",
        "for t in ['train', 'test', 'dev']:\n",
        "  response = requests.get(\"https://github.com/ZihanWangKi/CrossWeigh/raw/master/data/conllpp_train.txt\")\n",
        "  data[t] = response.text"
      ],
      "metadata": {
        "id": "cMBv9Idf54JX"
      },
      "execution_count": 30,
      "outputs": []
    },
    {
      "cell_type": "code",
      "source": [
        "print(data['train'][:220])"
      ],
      "metadata": {
        "colab": {
          "base_uri": "https://localhost:8080/"
        },
        "id": "xN4rAfTE8pJx",
        "outputId": "c93cb642-65b4-4a22-df79-ffb26a136b70"
      },
      "execution_count": 31,
      "outputs": [
        {
          "output_type": "stream",
          "name": "stdout",
          "text": [
            "-DOCSTART- -X- -X- O\n",
            "\n",
            "EU NNP B-NP B-ORG\n",
            "rejects VBZ B-VP O\n",
            "German JJ B-NP B-MISC\n",
            "call NN I-NP O\n",
            "to TO B-VP O\n",
            "boycott VB I-VP O\n",
            "British JJ B-NP B-MISC\n",
            "lamb NN I-NP O\n",
            ". . O O\n",
            "\n",
            "Peter NNP B-NP B-PER\n",
            "Blackburn NNP I-NP I-PER\n",
            "\n"
          ]
        }
      ]
    },
    {
      "cell_type": "markdown",
      "source": [
        "Try parsing the file in a way that you can use with the softmax model, and re-run the training. How well are your results?"
      ],
      "metadata": {
        "id": "fNkmorLQFDwO"
      }
    },
    {
      "cell_type": "code",
      "source": [
        ""
      ],
      "metadata": {
        "id": "-1eLoZQk8sJ3"
      },
      "execution_count": 31,
      "outputs": []
    }
  ]
}