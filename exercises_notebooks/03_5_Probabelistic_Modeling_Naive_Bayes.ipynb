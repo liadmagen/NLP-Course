{
  "nbformat": 4,
  "nbformat_minor": 0,
  "metadata": {
    "colab": {
      "name": "04_Probabelistic_Modeling_Naive_Bayes.ipynb",
      "provenance": [],
      "toc_visible": true,
      "include_colab_link": true
    },
    "kernelspec": {
      "name": "python3",
      "display_name": "Python 3"
    },
    "language_info": {
      "name": "python"
    }
  },
  "cells": [
    {
      "cell_type": "markdown",
      "metadata": {
        "id": "view-in-github",
        "colab_type": "text"
      },
      "source": [
        "<a href=\"https://colab.research.google.com/github/liadmagen/NLP-Course/blob/master/exercises_notebooks/03_5_Probabelistic_Modeling_Naive_Bayes.ipynb\" target=\"_parent\"><img src=\"https://colab.research.google.com/assets/colab-badge.svg\" alt=\"Open In Colab\"/></a>"
      ]
    },
    {
      "cell_type": "markdown",
      "source": [
        "# Probabelistic Modeling\n",
        "\n",
        "Probability calculation is a fundamental tool for statistical inference. We know that as part of the language properties, text samples are not drawn from a gaussian (normal) distribution. A typical modeling problem involves estimating the joint probability distribution for a given dataset: $P(x, y)$.\n",
        "\n",
        "**Probability Density Estimation** is the process of selecting a probability distribution function and estimating its parameters so that it can best explain the joint probability distribution of an observed data ($ x_1, x_2, x_3, …, x_n \\in X$ ).\n",
        "\n",
        "* How do we select the correct distribution function?\n",
        "* How can we find the best distribution parameters to match the data?\n",
        "\n",
        "If we knew the true distribution of the data, we could have easily solved it. Since we don't, we can try estimating it with one of these two methods:\n",
        "\n",
        "* Maximum a Posteriori (MAP), a Bayesian method.\n",
        "* Maximum Likelihood Estimation (MLE), frequentist method.\n",
        "\n",
        "The main difference is that MLE assumes that all solutions are equally likely beforehand, whereas MAP allows prior information about the form of the solution to be harnessed.\n",
        "\n",
        "## Maximum Likelihood Estimation (MLE)\n",
        "\n",
        "[Maximum Likelihood Estimation](https://en.wikipedia.org/wiki/Maximum_likelihood_estimation) involves treating the problem as an **optimization** or **search problem**, where we seek a set of parameters that results in the best fit for the joint probability of the data sample (X).\n",
        "\n",
        "\n",
        "- Assume the data is drawn from some combination of a family of parametric distributions, such as [Gaussian](https://en.wikipedia.org/wiki/Normal_distribution), [Binomial](https://en.wikipedia.org/wiki/Binomial_distribution), [Bernoulli](https://en.wikipedia.org/wiki/Bernoulli_distribution), etc.\n",
        "- Try to predict the selected distribution parameters by either calculating the derivative or by taking a `log` of a sequence probability and optimizing it as a min-max problem (as we saw in the green electricity problem).\n",
        "\n",
        "#### Mathematically formulated:\n",
        "Suppose we want to predict the target label of a *test* point $x_t$ ($t$ for test).\n",
        "In **MLE Prediction** the problem is defined as $P(y|x_t; θ)$, where $θ$ is purely a model parameter (e.g. distribution parameters). \n",
        "\n",
        "$$θ=\\arg \\max θ P(D;θ)$$ \n",
        "\n",
        "We find the best parameters by maximizing $log[P(D;θ)] $.\n",
        "\n",
        "\n",
        "#### Connection to Machine Learning - Generative Models\n",
        "In supervised Machine learning, we are provided with training data drawn from a distribution $D$. Our task is to find the machine learning parameters that minimize the averaged estimated error (lowering the risk).\n",
        "\n",
        "But what if we go *the other way*?\n",
        "\n",
        "If we statistically estimate the attribute distributions first, we can then use those distributions as decision boundaries to make predictions on new data.\n",
        "\n",
        "Moreover, this classification approach of modeling the joint probability distribution of the attributes as a product of their prior and conditional probability enables us to draw new values randomly from those distributions. Or in other words, we can simulate or **generate** new data points.\n",
        "\n",
        "To be precise, the prior probability refers to the probability of drawing an example with a particular label *a priori* (without observing its input pattern). And the conditional probability is the probability of drawing a specific input for a given class label $y$.\n",
        "\n",
        "A generative learning algorithm starts by estimating these two terms. Then, the classification of a new input is assigned to the class with maximal posterior class-membership probability (but remember that these posterior probabilities are estimates and not the true ones...).\n",
        "\n",
        " ### Take-aways\n",
        "* Maximum Likelihood Estimation is a probabilistic framework for solving the problem of **density estimation**.\n",
        "* It involves maximizing a likelihood function to find the probability distribution and parameters that best explain the observed data.\n",
        "* The underlying joint and conditional probabilities estimation enables us to use this knowledge to make predictions and to generate new samples."
      ],
      "metadata": {
        "id": "9C42l6P8Lrwf"
      }
    },
    {
      "cell_type": "markdown",
      "source": [
        "# Naïve Bayes Models"
      ],
      "metadata": {
        "id": "gR1LmYW82lu2"
      }
    },
    {
      "cell_type": "markdown",
      "source": [
        "## Maximum a Posteriori"
      ],
      "metadata": {
        "id": "IC8qaPtpEMhb"
      }
    },
    {
      "cell_type": "markdown",
      "source": [
        "Another way to obtain these posterior class-membership probabilities is by application of *Bayes' rule* to the estimates of the prior and class-conditional probabilities."
      ],
      "metadata": {
        "id": "Cf5_LbxxCuyR"
      }
    },
    {
      "cell_type": "markdown",
      "source": [
        "## Background\n",
        "\n",
        "\n",
        "\n",
        "Naive Bayes is a simple but important probabilistic model.\n",
        "\n",
        "The Bayes theorem is one of the two main statistical views (the second one is the frequentist theory). As opposed to frequentist view, here, in addition to counting previously observed frequencies, one can incorporate initial believes.\n",
        "\n",
        "We measure the results of a coin flip - *Heads* and *Tails*. The mean is close to 0.5, so we *assume* that the coin is fair. But How can we model that? \n",
        "\n",
        "> In **frequentist statistics**, we can add some imaginary number of throws - $m$:\n",
        "  $$ Θ = \\frac{nHeads + m}{nHead + nTails + 2m} $$\n",
        "\n",
        "if we threw the coin 10 times, and had 6 heads - $P(Θ) = \\frac{6}{10} = 0.6$, we can add 2 more throws, one head one tail, and we get $P(Θ) = \\frac{7}{11} = 0.63$, or even more - if we set $m=5$ we get $P(Θ) = \\frac{6+5}{10+2*5} = \\frac{11}{20} = 0.55$, and so on. \n",
        "  \n",
        "Another option is using Bayesian statistics.\n",
        "\n",
        "> In Bayesian statistics, $Θ$ is defined as a **random variable**, which is not associated with *any* event. In frequentist statistics, this is forbidden, but in Bayesian statistics, this is allowed, and you can specify a prior belief $P(θ)$ defining what values you believe $θ$ is likely to take on.\n",
        "\n",
        "The Bayes rule uses this notion of belief:\n",
        "$$P(θ∣D)= \\frac{P(D∣θ) P(θ)}{P(D)}$$\n",
        "Where:\n",
        "\n",
        "* $P(θ)$ is the prior distribution over the parameter(s) $θ$ before we see any data.\n",
        "* $P(D∣θ)$ is the likelihood of the data given the parameter(s) $θ$.\n",
        "* $P(θ∣D)$ is the posterior distribution over the parameter(s) $θ$ after we have observed the data.\n",
        "\n",
        "To better understand the Bayes rule, check out the following video:"
      ],
      "metadata": {
        "id": "PJlgYb1BhoPZ"
      }
    },
    {
      "cell_type": "code",
      "execution_count": null,
      "metadata": {
        "id": "n-jgvkt35zPj",
        "colab": {
          "base_uri": "https://localhost:8080/",
          "height": 321
        },
        "outputId": "c0c69d05-5c65-4f23-e9a0-5e71623a203f"
      },
      "outputs": [
        {
          "output_type": "execute_result",
          "data": {
            "text/plain": [
              "<IPython.lib.display.YouTubeVideo at 0x7faa6a456100>"
            ],
            "text/html": [
              "\n",
              "        <iframe\n",
              "            width=\"400\"\n",
              "            height=\"300\"\n",
              "            src=\"https://www.youtube.com/embed/HZGCoVF3YvM\"\n",
              "            frameborder=\"0\"\n",
              "            allowfullscreen\n",
              "        ></iframe>\n",
              "        "
            ],
            "image/jpeg": "[encoded data removed]"
          },
          "metadata": {},
          "execution_count": 1
        }
      ],
      "source": [
        "from IPython.display import YouTubeVideo\n",
        "YouTubeVideo('HZGCoVF3YvM')"
      ]
    },
    {
      "cell_type": "markdown",
      "source": [
        "## Classification using Generative Model - Naive Bayes \n",
        "\n",
        "An attribute, a random variable, can be of two types: [continuous or district](http://www.stat.yale.edu/Courses/1997-98/101/ranvar.htm).\n",
        "\n",
        "### Discrete random variable\n",
        "For a discrete random variable $x$, the generative approach is based on the following factorization of the joint probability distribution of (X,Y):\n",
        "$$P(X=x, Y=y)=P(X=x | Y=y)P(Y=y)$$\n",
        "\n",
        "where $P(X=x | Y=y)$ is the conditional probability of drawing a particular input pattern in a given class $y$ and $P(Y=y)$ is the prior probability of drawing an example of this class.\n",
        "\n",
        "Using [Bayes' rule](https://en.wikipedia.org/wiki/Bayes%27_theorem) this decomposition also provides access to the posterior class-membership probabilities which are useful for classification. \n",
        "\n",
        "Overall, the generative approach amounts to the following steps:\n",
        "\n",
        "1. Estimate the prior probabilities $P(Y=y)$ for all labels $y∈Y$, e.g., via simply counting the classes:\n",
        "\n",
        "$$P(Y=y)=\\frac{1}{N}\\sum_{i=1}^N1_{y_i=y}$$\n",
        "\n",
        "2. Choose a family of distributions $P$ for the input pattern and assume it is the 'correct' distribution: $P(X=x | Y=y)∈P$\n",
        "\n",
        "3. Estimate the conditional distribution in all classes.\n",
        "\n",
        "4. Classify new input patterns with\n",
        "\n",
        "\\begin{align*}\n",
        "\tf( x) &= \\arg\\max_{y\\in Y} P(Y=y\\ |\\ X = x)  & (\\mbox{optimal classification rule}^*)\\\\\n",
        "\t& = \\arg\\max_{y\\in Y}\\frac{P(X= x\\ |\\ Y = y) P(Y=y)}{P(X=x)}  &  (\\mbox{due to Bayes' rule})\t\\\\\n",
        "\t& =  \\arg\\max_{y\\in Y} P(X= x\\ |\\ Y = y)  P(Y=y) & (\\mbox{due to } P(X= x) \\mbox{ being a constant wrt. } y )\n",
        "\\end{align*}\n",
        "\n",
        "∗ - this classification rule would be optimal if we had access to the true probabilities.\n",
        "\n",
        "Depending on the choice of distribution family $P$, we obtain different classifiers.\n",
        "\n",
        "### Continuous random variable\n",
        "\n",
        "Continuous values are a bit more complicated. We can no longer calculate the conditional probabilities as we did before ( $P(X | Y)$, because there are simply way too many possible input Xs (e.g. 0.01, 0.001, 0.00001, all the way to infinity). \n",
        "\n",
        "One way to overcome it is to *bin* those values into ranges - as we did with the ages on the first example (20-39, 39-64, 65+). The other option is to calculate them using density functions.\n",
        "\n",
        "So if our $X$ is a continuous random variable, the generative approach is stated in terms of the [conditional probability density functions](https://en.wikipedia.org/wiki/Probability_density_function) $f_{X|Y=y}(x | Y=y)$ instead of the conditional probabilities $P(X=x | Y=y)$. Specifically, we work from the decomposition of the mixed density:\n",
        "\n",
        "$$f_{X,Y}(x,\\ Y=y) = f_{X|Y=y}( x\\ |\\ Y = y) f(Y=y) $$\n",
        "\n",
        "Assuming, of course that we chose the 'correct' distribution density function $f$."
      ],
      "metadata": {
        "id": "N5B3LblF2f7W"
      }
    },
    {
      "cell_type": "markdown",
      "source": [
        "To learn in a more visualized way about density functions and continuous random variables, I recommend you watching this video:"
      ],
      "metadata": {
        "id": "5stofo8-Us9x"
      }
    },
    {
      "cell_type": "code",
      "source": [
        "from IPython.display import YouTubeVideo\n",
        "YouTubeVideo('ZA4JkHKZM50')"
      ],
      "metadata": {
        "colab": {
          "base_uri": "https://localhost:8080/",
          "height": 321
        },
        "id": "vaUTyITHVK3s",
        "outputId": "6c6f0d54-46b4-49e4-f03f-c1365cc3615b"
      },
      "execution_count": null,
      "outputs": [
        {
          "output_type": "execute_result",
          "data": {
            "text/plain": [
              "<IPython.lib.display.YouTubeVideo at 0x7faa6ced2ee0>"
            ],
            "text/html": [
              "\n",
              "        <iframe\n",
              "            width=\"400\"\n",
              "            height=\"300\"\n",
              "            src=\"https://www.youtube.com/embed/ZA4JkHKZM50\"\n",
              "            frameborder=\"0\"\n",
              "            allowfullscreen\n",
              "        ></iframe>\n",
              "        "
            ],
            "image/jpeg": "[encoded data removed]"
          },
          "metadata": {},
          "execution_count": 2
        }
      ]
    },
    {
      "cell_type": "markdown",
      "source": [
        "# Exercise"
      ],
      "metadata": {
        "id": "rfAaN9tM9VRc"
      }
    },
    {
      "cell_type": "markdown",
      "source": [
        "Let's try it out.\n",
        "\n",
        "In this exercise, we will train a [Naive Bayes Classifier](https://en.wikipedia.org/wiki/Naive_Bayes_classifier). We will\n",
        "* make prior assumptions as for the distribution of our data; and\n",
        "* train a model to find the best parameters for that distribution \n",
        "\n",
        "Let's see how it works:"
      ],
      "metadata": {
        "id": "bcZJChkY9eFx"
      }
    },
    {
      "cell_type": "code",
      "source": [
        "import pandas as pd\n",
        "import matplotlib.pyplot as plt \n",
        "import seaborn as sn \n",
        "\n",
        "from sklearn import metrics\n",
        "from sklearn.feature_extraction.text import CountVectorizer, TfidfTransformer\n",
        "from sklearn.model_selection import train_test_split\n",
        "from sklearn.naive_bayes import MultinomialNB, ComplementNB\n",
        "from sklearn.pipeline import Pipeline\n",
        "\n",
        "%matplotlib inline "
      ],
      "metadata": {
        "id": "mPXriVBATQGT"
      },
      "execution_count": null,
      "outputs": []
    },
    {
      "cell_type": "markdown",
      "source": [
        "We will use some email data which we will classify as **spam** or not."
      ],
      "metadata": {
        "id": "Qr3xbigUzFiN"
      }
    },
    {
      "cell_type": "code",
      "source": [
        "df_emails = pd.read_csv('https://raw.githubusercontent.com/liadmagen/Modeling_course/main/data/spam_or_not_spam.csv', encoding=\"UTF-8\")\n",
        "df_emails.tail()"
      ],
      "metadata": {
        "colab": {
          "base_uri": "https://localhost:8080/",
          "height": 206
        },
        "id": "mzQeLuF3_sT7",
        "outputId": "54c7d47b-73f7-4aba-d909-df4a36a284b2"
      },
      "execution_count": null,
      "outputs": [
        {
          "output_type": "execute_result",
          "data": {
            "text/plain": [
              "                                                  email  label\n",
              "2995   abc s good morning america ranks it the NUMBE...      1\n",
              "2996   hyperlink hyperlink hyperlink let mortgage le...      1\n",
              "2997   thank you for shopping with us gifts for all ...      1\n",
              "2998   the famous ebay marketing e course learn to s...      1\n",
              "2999   hello this is chinese traditional 子 件 NUMBER世...      1"
            ],
            "text/html": [
              "\n",
              "  <div id=\"df-2507d7a3-3d2e-4d92-87a0-c3b5002fa45b\">\n",
              "    <div class=\"colab-df-container\">\n",
              "      <div>\n",
              "<style scoped>\n",
              "    .dataframe tbody tr th:only-of-type {\n",
              "        vertical-align: middle;\n",
              "    }\n",
              "\n",
              "    .dataframe tbody tr th {\n",
              "        vertical-align: top;\n",
              "    }\n",
              "\n",
              "    .dataframe thead th {\n",
              "        text-align: right;\n",
              "    }\n",
              "</style>\n",
              "<table border=\"1\" class=\"dataframe\">\n",
              "  <thead>\n",
              "    <tr style=\"text-align: right;\">\n",
              "      <th></th>\n",
              "      <th>email</th>\n",
              "      <th>label</th>\n",
              "    </tr>\n",
              "  </thead>\n",
              "  <tbody>\n",
              "    <tr>\n",
              "      <th>2995</th>\n",
              "      <td>abc s good morning america ranks it the NUMBE...</td>\n",
              "      <td>1</td>\n",
              "    </tr>\n",
              "    <tr>\n",
              "      <th>2996</th>\n",
              "      <td>hyperlink hyperlink hyperlink let mortgage le...</td>\n",
              "      <td>1</td>\n",
              "    </tr>\n",
              "    <tr>\n",
              "      <th>2997</th>\n",
              "      <td>thank you for shopping with us gifts for all ...</td>\n",
              "      <td>1</td>\n",
              "    </tr>\n",
              "    <tr>\n",
              "      <th>2998</th>\n",
              "      <td>the famous ebay marketing e course learn to s...</td>\n",
              "      <td>1</td>\n",
              "    </tr>\n",
              "    <tr>\n",
              "      <th>2999</th>\n",
              "      <td>hello this is chinese traditional 子 件 NUMBER世...</td>\n",
              "      <td>1</td>\n",
              "    </tr>\n",
              "  </tbody>\n",
              "</table>\n",
              "</div>\n",
              "      <button class=\"colab-df-convert\" onclick=\"convertToInteractive('df-2507d7a3-3d2e-4d92-87a0-c3b5002fa45b')\"\n",
              "              title=\"Convert this dataframe to an interactive table.\"\n",
              "              style=\"display:none;\">\n",
              "        \n",
              "  <svg xmlns=\"http://www.w3.org/2000/svg\" height=\"24px\"viewBox=\"0 0 24 24\"\n",
              "       width=\"24px\">\n",
              "    <path d=\"M0 0h24v24H0V0z\" fill=\"none\"/>\n",
              "    <path d=\"M18.56 5.44l.94 2.06.94-2.06 2.06-.94-2.06-.94-.94-2.06-.94 2.06-2.06.94zm-11 1L8.5 8.5l.94-2.06 2.06-.94-2.06-.94L8.5 2.5l-.94 2.06-2.06.94zm10 10l.94 2.06.94-2.06 2.06-.94-2.06-.94-.94-2.06-.94 2.06-2.06.94z\"/><path d=\"M17.41 7.96l-1.37-1.37c-.4-.4-.92-.59-1.43-.59-.52 0-1.04.2-1.43.59L10.3 9.45l-7.72 7.72c-.78.78-.78 2.05 0 2.83L4 21.41c.39.39.9.59 1.41.59.51 0 1.02-.2 1.41-.59l7.78-7.78 2.81-2.81c.8-.78.8-2.07 0-2.86zM5.41 20L4 18.59l7.72-7.72 1.47 1.35L5.41 20z\"/>\n",
              "  </svg>\n",
              "      </button>\n",
              "      \n",
              "  <style>\n",
              "    .colab-df-container {\n",
              "      display:flex;\n",
              "      flex-wrap:wrap;\n",
              "      gap: 12px;\n",
              "    }\n",
              "\n",
              "    .colab-df-convert {\n",
              "      background-color: #E8F0FE;\n",
              "      border: none;\n",
              "      border-radius: 50%;\n",
              "      cursor: pointer;\n",
              "      display: none;\n",
              "      fill: #1967D2;\n",
              "      height: 32px;\n",
              "      padding: 0 0 0 0;\n",
              "      width: 32px;\n",
              "    }\n",
              "\n",
              "    .colab-df-convert:hover {\n",
              "      background-color: #E2EBFA;\n",
              "      box-shadow: 0px 1px 2px rgba(60, 64, 67, 0.3), 0px 1px 3px 1px rgba(60, 64, 67, 0.15);\n",
              "      fill: #174EA6;\n",
              "    }\n",
              "\n",
              "    [theme=dark] .colab-df-convert {\n",
              "      background-color: #3B4455;\n",
              "      fill: #D2E3FC;\n",
              "    }\n",
              "\n",
              "    [theme=dark] .colab-df-convert:hover {\n",
              "      background-color: #434B5C;\n",
              "      box-shadow: 0px 1px 3px 1px rgba(0, 0, 0, 0.15);\n",
              "      filter: drop-shadow(0px 1px 2px rgba(0, 0, 0, 0.3));\n",
              "      fill: #FFFFFF;\n",
              "    }\n",
              "  </style>\n",
              "\n",
              "      <script>\n",
              "        const buttonEl =\n",
              "          document.querySelector('#df-2507d7a3-3d2e-4d92-87a0-c3b5002fa45b button.colab-df-convert');\n",
              "        buttonEl.style.display =\n",
              "          google.colab.kernel.accessAllowed ? 'block' : 'none';\n",
              "\n",
              "        async function convertToInteractive(key) {\n",
              "          const element = document.querySelector('#df-2507d7a3-3d2e-4d92-87a0-c3b5002fa45b');\n",
              "          const dataTable =\n",
              "            await google.colab.kernel.invokeFunction('convertToInteractive',\n",
              "                                                     [key], {});\n",
              "          if (!dataTable) return;\n",
              "\n",
              "          const docLinkHtml = 'Like what you see? Visit the ' +\n",
              "            '<a target=\"_blank\" href=https://colab.research.google.com/notebooks/data_table.ipynb>data table notebook</a>'\n",
              "            + ' to learn more about interactive tables.';\n",
              "          element.innerHTML = '';\n",
              "          dataTable['output_type'] = 'display_data';\n",
              "          await google.colab.output.renderOutput(dataTable, element);\n",
              "          const docLink = document.createElement('div');\n",
              "          docLink.innerHTML = docLinkHtml;\n",
              "          element.appendChild(docLink);\n",
              "        }\n",
              "      </script>\n",
              "    </div>\n",
              "  </div>\n",
              "  "
            ]
          },
          "metadata": {},
          "execution_count": 4
        }
      ]
    },
    {
      "cell_type": "markdown",
      "source": [
        "Let's divide the data into [**training** and **test** sets](https://builtin.com/data-science/train-test-split)"
      ],
      "metadata": {
        "id": "zdE8xSi5Aon1"
      }
    },
    {
      "cell_type": "code",
      "source": [
        "############## YOUR TURN ##############\n",
        "# Divide the data into training and test set.\n",
        "# use the colunm 'email' for the training data\n",
        "# use the column 'label' as the target y\n",
        "\n",
        "# X_train, X_test, y_train, y_test = ...\n",
        "\n",
        "\n",
        "\n",
        "\n",
        "\n",
        "########################################"
      ],
      "metadata": {
        "id": "2naE3XyBAkZW"
      },
      "execution_count": null,
      "outputs": []
    },
    {
      "cell_type": "markdown",
      "source": [
        "We are going to use some NLP-specific methods here. Machine Learning Models are expecting numerical values as their input.\n",
        "\n",
        "Therefore, we must process the text a bit - transforming every word to some fraction, based on their frequency. This score represents how unique the word is, based on their appearance count in the whole dataset.\n",
        "\n",
        "We will use a [Naive Bayes, assuming a Multinomial distribution](https://scikit-learn.org/stable/modules/generated/sklearn.naive_bayes.MultinomialNB.html)"
      ],
      "metadata": {
        "id": "976z2bfAA5Ox"
      }
    },
    {
      "cell_type": "code",
      "source": [
        "# Create Pre-processing pipeline and a Multinomial Naive Bayes classifier.\n",
        "\n",
        "# CountVectorizer calculates the frequency of words in the dataset (how often they appear) \n",
        "# TfidfTransformer calculates the frequency of a word in this document, divided by their frequency over ALL the documents.  \n",
        "\n",
        "# MultinomialNB is a Naive Bayes classifier assuming a multinomial distribution \n",
        "spam_classifier = Pipeline([('vect', CountVectorizer()), ('tfidf', TfidfTransformer()), ('clf', MultinomialNB()), ])"
      ],
      "metadata": {
        "id": "AKMTWBKUAWME"
      },
      "execution_count": null,
      "outputs": []
    },
    {
      "cell_type": "markdown",
      "source": [
        "And we train:"
      ],
      "metadata": {
        "id": "A9hZ7HKqELET"
      }
    },
    {
      "cell_type": "code",
      "source": [
        "spam_classifier.fit(X_train.values.astype('U'), y_train) "
      ],
      "metadata": {
        "colab": {
          "base_uri": "https://localhost:8080/"
        },
        "id": "ysSnLtwoBhz1",
        "outputId": "b9c34998-9f57-406b-b3a9-55ac91bd592c"
      },
      "execution_count": null,
      "outputs": [
        {
          "output_type": "execute_result",
          "data": {
            "text/plain": [
              "Pipeline(steps=[('vect', CountVectorizer()), ('tfidf', TfidfTransformer()),\n",
              "                ('clf', MultinomialNB())])"
            ]
          },
          "metadata": {},
          "execution_count": 7
        }
      ]
    },
    {
      "cell_type": "markdown",
      "source": [
        "Now that we have a classifier - let's filter some spam!!!"
      ],
      "metadata": {
        "id": "i6JmFl4CHxT-"
      }
    },
    {
      "cell_type": "code",
      "source": [
        "y_preds = spam_classifier.predict(X_test.values.astype('U'))\n"
      ],
      "metadata": {
        "id": "8cFMIIvlEJff"
      },
      "execution_count": null,
      "outputs": []
    },
    {
      "cell_type": "markdown",
      "source": [
        "How well did we do?"
      ],
      "metadata": {
        "id": "2cFNu5WdH138"
      }
    },
    {
      "cell_type": "code",
      "source": [
        "print(metrics.classification_report(y_test, y_preds, target_names=[\"Spam\",\"Not Spam\"]))"
      ],
      "metadata": {
        "colab": {
          "base_uri": "https://localhost:8080/"
        },
        "id": "HNWtO7tiBnOU",
        "outputId": "b314184c-a183-40b7-da5c-d31994d47f04"
      },
      "execution_count": null,
      "outputs": [
        {
          "output_type": "stream",
          "name": "stdout",
          "text": [
            "              precision    recall  f1-score   support\n",
            "\n",
            "        Spam       0.85      1.00      0.92       627\n",
            "    Not Spam       1.00      0.09      0.16       123\n",
            "\n",
            "    accuracy                           0.85       750\n",
            "   macro avg       0.92      0.54      0.54       750\n",
            "weighted avg       0.87      0.85      0.79       750\n",
            "\n"
          ]
        }
      ]
    },
    {
      "cell_type": "markdown",
      "source": [
        "Pay attention to the results. Our dataset is not balanced, hence we have large differences between the different f1-scores.\n",
        "\n",
        "If we plot a confusion table, we can clearly see that we didn't do so well, despite the high f1-score:"
      ],
      "metadata": {
        "id": "1slBCp86aV6X"
      }
    },
    {
      "cell_type": "code",
      "source": [
        "conf_mat = metrics.confusion_matrix(y_test, y_preds) \n",
        "df_cm = pd.DataFrame(conf_mat, [\"Spam\",\"Not Spam\"], [\"Spam\",\"Not Spam\"]) \n",
        "\n",
        "sn.set(font_scale=1.4) \n",
        "sn.heatmap(df_cm, annot=True, fmt='d', cmap=\"YlGnBu\")\n"
      ],
      "metadata": {
        "colab": {
          "base_uri": "https://localhost:8080/",
          "height": 290
        },
        "id": "eCqyioH3Ev16",
        "outputId": "dc1ca4af-4881-4665-bb93-4a0b815f46a1"
      },
      "execution_count": null,
      "outputs": [
        {
          "output_type": "execute_result",
          "data": {
            "text/plain": [
              "<matplotlib.axes._subplots.AxesSubplot at 0x7faa6ced2f70>"
            ]
          },
          "metadata": {},
          "execution_count": 10
        },
        {
          "output_type": "display_data",
          "data": {
            "text/plain": [
              "<Figure size 432x288 with 2 Axes>"
            ],
            "image/png": "[encoded data removed]"
          },
          "metadata": {}
        }
      ]
    },
    {
      "cell_type": "markdown",
      "source": [
        "# Can we do better?\n",
        "\n",
        "Let's try it again - this time with another inductive bias - we will assume the distribution of the text is of [`ComplementNB`](https://scikit-learn.org/stable/modules/generated/sklearn.naive_bayes.ComplementNB.html#sklearn.naive_bayes.ComplementNB)\n",
        "\n",
        "---\n",
        "## Your turn:\n",
        "\n",
        "Create a pipeline with a [Complement Naive Bayes classifier](https://scikit-learn.org/stable/modules/naive_bayes.html#complement-naive-bayes), which fits better imbalanced classes, and train it on our dataset.\n",
        "\n",
        "Check your results on the test-set and plot a confussion matrix. \n",
        "\n",
        "How did your new model do?"
      ],
      "metadata": {
        "id": "fY1ovWpYGmpa"
      }
    },
    {
      "cell_type": "code",
      "source": [
        "### Your turn ###\n",
        "\n",
        " \n",
        "\n",
        "\n",
        "\n",
        "\n",
        "\n",
        "\n",
        "##################"
      ],
      "metadata": {
        "colab": {
          "base_uri": "https://localhost:8080/",
          "height": 447
        },
        "id": "mgSAIYlhGNmC",
        "outputId": "230c5fe4-49cc-47c7-f457-7cff2e6d5d04"
      },
      "execution_count": null,
      "outputs": [
        {
          "output_type": "stream",
          "name": "stdout",
          "text": [
            "              precision    recall  f1-score   support\n",
            "\n",
            "        Spam       0.98      1.00      0.99       627\n",
            "    Not Spam       0.97      0.92      0.95       123\n",
            "\n",
            "    accuracy                           0.98       750\n",
            "   macro avg       0.98      0.96      0.97       750\n",
            "weighted avg       0.98      0.98      0.98       750\n",
            "\n"
          ]
        },
        {
          "output_type": "execute_result",
          "data": {
            "text/plain": [
              "<matplotlib.axes._subplots.AxesSubplot at 0x7faa56dac8b0>"
            ]
          },
          "metadata": {},
          "execution_count": 13
        },
        {
          "output_type": "display_data",
          "data": {
            "text/plain": [
              "<Figure size 432x288 with 2 Axes>"
            ],
            "image/png": "[encoded data removed]"
          },
          "metadata": {}
        }
      ]
    },
    {
      "cell_type": "markdown",
      "source": [
        "## Or even better\n",
        "\n",
        "There is one problem with the Naive-Bayes model. If a word did not exist during the training, it was never counted. If such a word suddenly appear during inference, it will cause a division by 0 (the posterior - the previous observation is 0).\n",
        "\n",
        "### How can we solve this?\n",
        "\n",
        "One way to solve it is called the \"Add-one Smoothing\", where we add one (1) to both the denominator and numerator. This value doesn't need to be 1. We can change this value to *any* positive number, even fractions.\n",
        "\n",
        "Try playing with the Additive (also called Laplace/Lidstone) smoothing parameter. The parameter is named **alpha** in the scikit-learn implementation. \n",
        "\n",
        "Challenge yourself: Can you score above 95%? above 98%? above 99%?"
      ],
      "metadata": {
        "id": "b5rJ3U91a3Rk"
      }
    },
    {
      "cell_type": "markdown",
      "source": [
        "# Diving deeper\n",
        "\n",
        "To dive deeper into the topic and to observe more examples, please consider [reading or watching this article](http://www.cs.cornell.edu/courses/cs4780/2018fa/lectures/lecturenote05.html)"
      ],
      "metadata": {
        "id": "DsKrxogz-Q82"
      }
    }
  ]
}