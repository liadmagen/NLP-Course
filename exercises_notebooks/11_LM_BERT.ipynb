{
  "nbformat": 4,
  "nbformat_minor": 0,
  "metadata": {
    "colab": {
      "name": "11_LM_BERT.ipynb",
      "provenance": [],
      "collapsed_sections": [],
      "authorship_tag": "ABX9TyOWPUxaIaXfgNS1WxcHuzDa",
      "include_colab_link": true
    },
    "kernelspec": {
      "name": "python3",
      "display_name": "Python 3"
    },
    "language_info": {
      "name": "python"
    },
    "widgets": {
      "application/vnd.jupyter.widget-state+json": {
        "1626ad643c1b4f8a9b2dea3ac2b7b3ad": {
          "model_module": "@jupyter-widgets/controls",
          "model_name": "HBoxModel",
          "model_module_version": "1.5.0",
          "state": {
            "_view_name": "HBoxView",
            "_dom_classes": [],
            "_model_name": "HBoxModel",
            "_view_module": "@jupyter-widgets/controls",
            "_model_module_version": "1.5.0",
            "_view_count": null,
            "_view_module_version": "1.5.0",
            "box_style": "",
            "layout": "IPY_MODEL_614a8022b32247cdba1723a4a3303636",
            "_model_module": "@jupyter-widgets/controls",
            "children": [
              "IPY_MODEL_6f39dc6c5b324d4cab74652eeb49a3bc",
              "IPY_MODEL_be223ac3a66541c1b1015564b42b9699",
              "IPY_MODEL_4499c571654343d885f515824069cc6a"
            ]
          }
        },
        "614a8022b32247cdba1723a4a3303636": {
          "model_module": "@jupyter-widgets/base",
          "model_name": "LayoutModel",
          "model_module_version": "1.2.0",
          "state": {
            "_view_name": "LayoutView",
            "grid_template_rows": null,
            "right": null,
            "justify_content": null,
            "_view_module": "@jupyter-widgets/base",
            "overflow": null,
            "_model_module_version": "1.2.0",
            "_view_count": null,
            "flex_flow": null,
            "width": null,
            "min_width": null,
            "border": null,
            "align_items": null,
            "bottom": null,
            "_model_module": "@jupyter-widgets/base",
            "top": null,
            "grid_column": null,
            "overflow_y": null,
            "overflow_x": null,
            "grid_auto_flow": null,
            "grid_area": null,
            "grid_template_columns": null,
            "flex": null,
            "_model_name": "LayoutModel",
            "justify_items": null,
            "grid_row": null,
            "max_height": null,
            "align_content": null,
            "visibility": null,
            "align_self": null,
            "height": null,
            "min_height": null,
            "padding": null,
            "grid_auto_rows": null,
            "grid_gap": null,
            "max_width": null,
            "order": null,
            "_view_module_version": "1.2.0",
            "grid_template_areas": null,
            "object_position": null,
            "object_fit": null,
            "grid_auto_columns": null,
            "margin": null,
            "display": null,
            "left": null
          }
        },
        "6f39dc6c5b324d4cab74652eeb49a3bc": {
          "model_module": "@jupyter-widgets/controls",
          "model_name": "HTMLModel",
          "model_module_version": "1.5.0",
          "state": {
            "_view_name": "HTMLView",
            "style": "IPY_MODEL_d8cbcf7f1caf471f9d579b7b6ff54ac7",
            "_dom_classes": [],
            "description": "",
            "_model_name": "HTMLModel",
            "placeholder": "​",
            "_view_module": "@jupyter-widgets/controls",
            "_model_module_version": "1.5.0",
            "value": "100%",
            "_view_count": null,
            "_view_module_version": "1.5.0",
            "description_tooltip": null,
            "_model_module": "@jupyter-widgets/controls",
            "layout": "IPY_MODEL_aab1861b9420403e95b208af7ee90135"
          }
        },
        "be223ac3a66541c1b1015564b42b9699": {
          "model_module": "@jupyter-widgets/controls",
          "model_name": "FloatProgressModel",
          "model_module_version": "1.5.0",
          "state": {
            "_view_name": "ProgressView",
            "style": "IPY_MODEL_5a0b7b5f20574f5faf32f39f387fbe85",
            "_dom_classes": [],
            "description": "",
            "_model_name": "FloatProgressModel",
            "bar_style": "success",
            "max": 3,
            "_view_module": "@jupyter-widgets/controls",
            "_model_module_version": "1.5.0",
            "value": 3,
            "_view_count": null,
            "_view_module_version": "1.5.0",
            "orientation": "horizontal",
            "min": 0,
            "description_tooltip": null,
            "_model_module": "@jupyter-widgets/controls",
            "layout": "IPY_MODEL_614668321e0f467791fb0e1dfa186bab"
          }
        },
        "4499c571654343d885f515824069cc6a": {
          "model_module": "@jupyter-widgets/controls",
          "model_name": "HTMLModel",
          "model_module_version": "1.5.0",
          "state": {
            "_view_name": "HTMLView",
            "style": "IPY_MODEL_f79f95e7a81c4a03af614bec0fa0d8a3",
            "_dom_classes": [],
            "description": "",
            "_model_name": "HTMLModel",
            "placeholder": "​",
            "_view_module": "@jupyter-widgets/controls",
            "_model_module_version": "1.5.0",
            "value": " 3/3 [00:00&lt;00:00, 34.61it/s]",
            "_view_count": null,
            "_view_module_version": "1.5.0",
            "description_tooltip": null,
            "_model_module": "@jupyter-widgets/controls",
            "layout": "IPY_MODEL_82a56ffbf28f446bbcf824c5fde9e19c"
          }
        },
        "d8cbcf7f1caf471f9d579b7b6ff54ac7": {
          "model_module": "@jupyter-widgets/controls",
          "model_name": "DescriptionStyleModel",
          "model_module_version": "1.5.0",
          "state": {
            "_view_name": "StyleView",
            "_model_name": "DescriptionStyleModel",
            "description_width": "",
            "_view_module": "@jupyter-widgets/base",
            "_model_module_version": "1.5.0",
            "_view_count": null,
            "_view_module_version": "1.2.0",
            "_model_module": "@jupyter-widgets/controls"
          }
        },
        "aab1861b9420403e95b208af7ee90135": {
          "model_module": "@jupyter-widgets/base",
          "model_name": "LayoutModel",
          "model_module_version": "1.2.0",
          "state": {
            "_view_name": "LayoutView",
            "grid_template_rows": null,
            "right": null,
            "justify_content": null,
            "_view_module": "@jupyter-widgets/base",
            "overflow": null,
            "_model_module_version": "1.2.0",
            "_view_count": null,
            "flex_flow": null,
            "width": null,
            "min_width": null,
            "border": null,
            "align_items": null,
            "bottom": null,
            "_model_module": "@jupyter-widgets/base",
            "top": null,
            "grid_column": null,
            "overflow_y": null,
            "overflow_x": null,
            "grid_auto_flow": null,
            "grid_area": null,
            "grid_template_columns": null,
            "flex": null,
            "_model_name": "LayoutModel",
            "justify_items": null,
            "grid_row": null,
            "max_height": null,
            "align_content": null,
            "visibility": null,
            "align_self": null,
            "height": null,
            "min_height": null,
            "padding": null,
            "grid_auto_rows": null,
            "grid_gap": null,
            "max_width": null,
            "order": null,
            "_view_module_version": "1.2.0",
            "grid_template_areas": null,
            "object_position": null,
            "object_fit": null,
            "grid_auto_columns": null,
            "margin": null,
            "display": null,
            "left": null
          }
        },
        "5a0b7b5f20574f5faf32f39f387fbe85": {
          "model_module": "@jupyter-widgets/controls",
          "model_name": "ProgressStyleModel",
          "model_module_version": "1.5.0",
          "state": {
            "_view_name": "StyleView",
            "_model_name": "ProgressStyleModel",
            "description_width": "",
            "_view_module": "@jupyter-widgets/base",
            "_model_module_version": "1.5.0",
            "_view_count": null,
            "_view_module_version": "1.2.0",
            "bar_color": null,
            "_model_module": "@jupyter-widgets/controls"
          }
        },
        "614668321e0f467791fb0e1dfa186bab": {
          "model_module": "@jupyter-widgets/base",
          "model_name": "LayoutModel",
          "model_module_version": "1.2.0",
          "state": {
            "_view_name": "LayoutView",
            "grid_template_rows": null,
            "right": null,
            "justify_content": null,
            "_view_module": "@jupyter-widgets/base",
            "overflow": null,
            "_model_module_version": "1.2.0",
            "_view_count": null,
            "flex_flow": null,
            "width": null,
            "min_width": null,
            "border": null,
            "align_items": null,
            "bottom": null,
            "_model_module": "@jupyter-widgets/base",
            "top": null,
            "grid_column": null,
            "overflow_y": null,
            "overflow_x": null,
            "grid_auto_flow": null,
            "grid_area": null,
            "grid_template_columns": null,
            "flex": null,
            "_model_name": "LayoutModel",
            "justify_items": null,
            "grid_row": null,
            "max_height": null,
            "align_content": null,
            "visibility": null,
            "align_self": null,
            "height": null,
            "min_height": null,
            "padding": null,
            "grid_auto_rows": null,
            "grid_gap": null,
            "max_width": null,
            "order": null,
            "_view_module_version": "1.2.0",
            "grid_template_areas": null,
            "object_position": null,
            "object_fit": null,
            "grid_auto_columns": null,
            "margin": null,
            "display": null,
            "left": null
          }
        },
        "f79f95e7a81c4a03af614bec0fa0d8a3": {
          "model_module": "@jupyter-widgets/controls",
          "model_name": "DescriptionStyleModel",
          "model_module_version": "1.5.0",
          "state": {
            "_view_name": "StyleView",
            "_model_name": "DescriptionStyleModel",
            "description_width": "",
            "_view_module": "@jupyter-widgets/base",
            "_model_module_version": "1.5.0",
            "_view_count": null,
            "_view_module_version": "1.2.0",
            "_model_module": "@jupyter-widgets/controls"
          }
        },
        "82a56ffbf28f446bbcf824c5fde9e19c": {
          "model_module": "@jupyter-widgets/base",
          "model_name": "LayoutModel",
          "model_module_version": "1.2.0",
          "state": {
            "_view_name": "LayoutView",
            "grid_template_rows": null,
            "right": null,
            "justify_content": null,
            "_view_module": "@jupyter-widgets/base",
            "overflow": null,
            "_model_module_version": "1.2.0",
            "_view_count": null,
            "flex_flow": null,
            "width": null,
            "min_width": null,
            "border": null,
            "align_items": null,
            "bottom": null,
            "_model_module": "@jupyter-widgets/base",
            "top": null,
            "grid_column": null,
            "overflow_y": null,
            "overflow_x": null,
            "grid_auto_flow": null,
            "grid_area": null,
            "grid_template_columns": null,
            "flex": null,
            "_model_name": "LayoutModel",
            "justify_items": null,
            "grid_row": null,
            "max_height": null,
            "align_content": null,
            "visibility": null,
            "align_self": null,
            "height": null,
            "min_height": null,
            "padding": null,
            "grid_auto_rows": null,
            "grid_gap": null,
            "max_width": null,
            "order": null,
            "_view_module_version": "1.2.0",
            "grid_template_areas": null,
            "object_position": null,
            "object_fit": null,
            "grid_auto_columns": null,
            "margin": null,
            "display": null,
            "left": null
          }
        },
        "a9fd4e47f71646688e223ab22cf19f25": {
          "model_module": "@jupyter-widgets/controls",
          "model_name": "HBoxModel",
          "model_module_version": "1.5.0",
          "state": {
            "_view_name": "HBoxView",
            "_dom_classes": [],
            "_model_name": "HBoxModel",
            "_view_module": "@jupyter-widgets/controls",
            "_model_module_version": "1.5.0",
            "_view_count": null,
            "_view_module_version": "1.5.0",
            "box_style": "",
            "layout": "IPY_MODEL_fd8b69d2efc046d68ee07277cf12cfa9",
            "_model_module": "@jupyter-widgets/controls",
            "children": [
              "IPY_MODEL_bbf47465c3d0453da7d2570c03fb19c2",
              "IPY_MODEL_18e8ca665d5641cbac685ac017055e7d",
              "IPY_MODEL_173fa9245b3d487986af37e8e26f8b94"
            ]
          }
        },
        "fd8b69d2efc046d68ee07277cf12cfa9": {
          "model_module": "@jupyter-widgets/base",
          "model_name": "LayoutModel",
          "model_module_version": "1.2.0",
          "state": {
            "_view_name": "LayoutView",
            "grid_template_rows": null,
            "right": null,
            "justify_content": null,
            "_view_module": "@jupyter-widgets/base",
            "overflow": null,
            "_model_module_version": "1.2.0",
            "_view_count": null,
            "flex_flow": null,
            "width": null,
            "min_width": null,
            "border": null,
            "align_items": null,
            "bottom": null,
            "_model_module": "@jupyter-widgets/base",
            "top": null,
            "grid_column": null,
            "overflow_y": null,
            "overflow_x": null,
            "grid_auto_flow": null,
            "grid_area": null,
            "grid_template_columns": null,
            "flex": null,
            "_model_name": "LayoutModel",
            "justify_items": null,
            "grid_row": null,
            "max_height": null,
            "align_content": null,
            "visibility": null,
            "align_self": null,
            "height": null,
            "min_height": null,
            "padding": null,
            "grid_auto_rows": null,
            "grid_gap": null,
            "max_width": null,
            "order": null,
            "_view_module_version": "1.2.0",
            "grid_template_areas": null,
            "object_position": null,
            "object_fit": null,
            "grid_auto_columns": null,
            "margin": null,
            "display": null,
            "left": null
          }
        },
        "bbf47465c3d0453da7d2570c03fb19c2": {
          "model_module": "@jupyter-widgets/controls",
          "model_name": "HTMLModel",
          "model_module_version": "1.5.0",
          "state": {
            "_view_name": "HTMLView",
            "style": "IPY_MODEL_64a87c2859da44058f18dbdf589c0115",
            "_dom_classes": [],
            "description": "",
            "_model_name": "HTMLModel",
            "placeholder": "​",
            "_view_module": "@jupyter-widgets/controls",
            "_model_module_version": "1.5.0",
            "value": "100%",
            "_view_count": null,
            "_view_module_version": "1.5.0",
            "description_tooltip": null,
            "_model_module": "@jupyter-widgets/controls",
            "layout": "IPY_MODEL_e8bb5b179b7d42b7a23a614379c5ca33"
          }
        },
        "18e8ca665d5641cbac685ac017055e7d": {
          "model_module": "@jupyter-widgets/controls",
          "model_name": "FloatProgressModel",
          "model_module_version": "1.5.0",
          "state": {
            "_view_name": "ProgressView",
            "style": "IPY_MODEL_2aec2a2d0b1b42158dd87da41ce3cf4c",
            "_dom_classes": [],
            "description": "",
            "_model_name": "FloatProgressModel",
            "bar_style": "success",
            "max": 5,
            "_view_module": "@jupyter-widgets/controls",
            "_model_module_version": "1.5.0",
            "value": 5,
            "_view_count": null,
            "_view_module_version": "1.5.0",
            "orientation": "horizontal",
            "min": 0,
            "description_tooltip": null,
            "_model_module": "@jupyter-widgets/controls",
            "layout": "IPY_MODEL_639a4b6cf08642bb856b5d07a7028b12"
          }
        },
        "173fa9245b3d487986af37e8e26f8b94": {
          "model_module": "@jupyter-widgets/controls",
          "model_name": "HTMLModel",
          "model_module_version": "1.5.0",
          "state": {
            "_view_name": "HTMLView",
            "style": "IPY_MODEL_ac757e2a9d244a399859f8aaa0a966f4",
            "_dom_classes": [],
            "description": "",
            "_model_name": "HTMLModel",
            "placeholder": "​",
            "_view_module": "@jupyter-widgets/controls",
            "_model_module_version": "1.5.0",
            "value": " 5/5 [02:14&lt;00:00, 27.03s/ba]",
            "_view_count": null,
            "_view_module_version": "1.5.0",
            "description_tooltip": null,
            "_model_module": "@jupyter-widgets/controls",
            "layout": "IPY_MODEL_0ed2dad5e6e84f54be1587c7859068bb"
          }
        },
        "64a87c2859da44058f18dbdf589c0115": {
          "model_module": "@jupyter-widgets/controls",
          "model_name": "DescriptionStyleModel",
          "model_module_version": "1.5.0",
          "state": {
            "_view_name": "StyleView",
            "_model_name": "DescriptionStyleModel",
            "description_width": "",
            "_view_module": "@jupyter-widgets/base",
            "_model_module_version": "1.5.0",
            "_view_count": null,
            "_view_module_version": "1.2.0",
            "_model_module": "@jupyter-widgets/controls"
          }
        },
        "e8bb5b179b7d42b7a23a614379c5ca33": {
          "model_module": "@jupyter-widgets/base",
          "model_name": "LayoutModel",
          "model_module_version": "1.2.0",
          "state": {
            "_view_name": "LayoutView",
            "grid_template_rows": null,
            "right": null,
            "justify_content": null,
            "_view_module": "@jupyter-widgets/base",
            "overflow": null,
            "_model_module_version": "1.2.0",
            "_view_count": null,
            "flex_flow": null,
            "width": null,
            "min_width": null,
            "border": null,
            "align_items": null,
            "bottom": null,
            "_model_module": "@jupyter-widgets/base",
            "top": null,
            "grid_column": null,
            "overflow_y": null,
            "overflow_x": null,
            "grid_auto_flow": null,
            "grid_area": null,
            "grid_template_columns": null,
            "flex": null,
            "_model_name": "LayoutModel",
            "justify_items": null,
            "grid_row": null,
            "max_height": null,
            "align_content": null,
            "visibility": null,
            "align_self": null,
            "height": null,
            "min_height": null,
            "padding": null,
            "grid_auto_rows": null,
            "grid_gap": null,
            "max_width": null,
            "order": null,
            "_view_module_version": "1.2.0",
            "grid_template_areas": null,
            "object_position": null,
            "object_fit": null,
            "grid_auto_columns": null,
            "margin": null,
            "display": null,
            "left": null
          }
        },
        "2aec2a2d0b1b42158dd87da41ce3cf4c": {
          "model_module": "@jupyter-widgets/controls",
          "model_name": "ProgressStyleModel",
          "model_module_version": "1.5.0",
          "state": {
            "_view_name": "StyleView",
            "_model_name": "ProgressStyleModel",
            "description_width": "",
            "_view_module": "@jupyter-widgets/base",
            "_model_module_version": "1.5.0",
            "_view_count": null,
            "_view_module_version": "1.2.0",
            "bar_color": null,
            "_model_module": "@jupyter-widgets/controls"
          }
        },
        "639a4b6cf08642bb856b5d07a7028b12": {
          "model_module": "@jupyter-widgets/base",
          "model_name": "LayoutModel",
          "model_module_version": "1.2.0",
          "state": {
            "_view_name": "LayoutView",
            "grid_template_rows": null,
            "right": null,
            "justify_content": null,
            "_view_module": "@jupyter-widgets/base",
            "overflow": null,
            "_model_module_version": "1.2.0",
            "_view_count": null,
            "flex_flow": null,
            "width": null,
            "min_width": null,
            "border": null,
            "align_items": null,
            "bottom": null,
            "_model_module": "@jupyter-widgets/base",
            "top": null,
            "grid_column": null,
            "overflow_y": null,
            "overflow_x": null,
            "grid_auto_flow": null,
            "grid_area": null,
            "grid_template_columns": null,
            "flex": null,
            "_model_name": "LayoutModel",
            "justify_items": null,
            "grid_row": null,
            "max_height": null,
            "align_content": null,
            "visibility": null,
            "align_self": null,
            "height": null,
            "min_height": null,
            "padding": null,
            "grid_auto_rows": null,
            "grid_gap": null,
            "max_width": null,
            "order": null,
            "_view_module_version": "1.2.0",
            "grid_template_areas": null,
            "object_position": null,
            "object_fit": null,
            "grid_auto_columns": null,
            "margin": null,
            "display": null,
            "left": null
          }
        },
        "ac757e2a9d244a399859f8aaa0a966f4": {
          "model_module": "@jupyter-widgets/controls",
          "model_name": "DescriptionStyleModel",
          "model_module_version": "1.5.0",
          "state": {
            "_view_name": "StyleView",
            "_model_name": "DescriptionStyleModel",
            "description_width": "",
            "_view_module": "@jupyter-widgets/base",
            "_model_module_version": "1.5.0",
            "_view_count": null,
            "_view_module_version": "1.2.0",
            "_model_module": "@jupyter-widgets/controls"
          }
        },
        "0ed2dad5e6e84f54be1587c7859068bb": {
          "model_module": "@jupyter-widgets/base",
          "model_name": "LayoutModel",
          "model_module_version": "1.2.0",
          "state": {
            "_view_name": "LayoutView",
            "grid_template_rows": null,
            "right": null,
            "justify_content": null,
            "_view_module": "@jupyter-widgets/base",
            "overflow": null,
            "_model_module_version": "1.2.0",
            "_view_count": null,
            "flex_flow": null,
            "width": null,
            "min_width": null,
            "border": null,
            "align_items": null,
            "bottom": null,
            "_model_module": "@jupyter-widgets/base",
            "top": null,
            "grid_column": null,
            "overflow_y": null,
            "overflow_x": null,
            "grid_auto_flow": null,
            "grid_area": null,
            "grid_template_columns": null,
            "flex": null,
            "_model_name": "LayoutModel",
            "justify_items": null,
            "grid_row": null,
            "max_height": null,
            "align_content": null,
            "visibility": null,
            "align_self": null,
            "height": null,
            "min_height": null,
            "padding": null,
            "grid_auto_rows": null,
            "grid_gap": null,
            "max_width": null,
            "order": null,
            "_view_module_version": "1.2.0",
            "grid_template_areas": null,
            "object_position": null,
            "object_fit": null,
            "grid_auto_columns": null,
            "margin": null,
            "display": null,
            "left": null
          }
        },
        "4a9ae4493f5c4a8db1312ae494f61540": {
          "model_module": "@jupyter-widgets/controls",
          "model_name": "HBoxModel",
          "model_module_version": "1.5.0",
          "state": {
            "_view_name": "HBoxView",
            "_dom_classes": [],
            "_model_name": "HBoxModel",
            "_view_module": "@jupyter-widgets/controls",
            "_model_module_version": "1.5.0",
            "_view_count": null,
            "_view_module_version": "1.5.0",
            "box_style": "",
            "layout": "IPY_MODEL_d3f4aa17880644718c7a97f297f48e3d",
            "_model_module": "@jupyter-widgets/controls",
            "children": [
              "IPY_MODEL_389ef07d51e0484dae6b2ef14ed9cbd9",
              "IPY_MODEL_597fe2bae7ca421185f784f7ee3867cb",
              "IPY_MODEL_4d32420002d648c18dbd189653c02b3d"
            ]
          }
        },
        "d3f4aa17880644718c7a97f297f48e3d": {
          "model_module": "@jupyter-widgets/base",
          "model_name": "LayoutModel",
          "model_module_version": "1.2.0",
          "state": {
            "_view_name": "LayoutView",
            "grid_template_rows": null,
            "right": null,
            "justify_content": null,
            "_view_module": "@jupyter-widgets/base",
            "overflow": null,
            "_model_module_version": "1.2.0",
            "_view_count": null,
            "flex_flow": null,
            "width": null,
            "min_width": null,
            "border": null,
            "align_items": null,
            "bottom": null,
            "_model_module": "@jupyter-widgets/base",
            "top": null,
            "grid_column": null,
            "overflow_y": null,
            "overflow_x": null,
            "grid_auto_flow": null,
            "grid_area": null,
            "grid_template_columns": null,
            "flex": null,
            "_model_name": "LayoutModel",
            "justify_items": null,
            "grid_row": null,
            "max_height": null,
            "align_content": null,
            "visibility": null,
            "align_self": null,
            "height": null,
            "min_height": null,
            "padding": null,
            "grid_auto_rows": null,
            "grid_gap": null,
            "max_width": null,
            "order": null,
            "_view_module_version": "1.2.0",
            "grid_template_areas": null,
            "object_position": null,
            "object_fit": null,
            "grid_auto_columns": null,
            "margin": null,
            "display": null,
            "left": null
          }
        },
        "389ef07d51e0484dae6b2ef14ed9cbd9": {
          "model_module": "@jupyter-widgets/controls",
          "model_name": "HTMLModel",
          "model_module_version": "1.5.0",
          "state": {
            "_view_name": "HTMLView",
            "style": "IPY_MODEL_1654261148184c3da4c1bd7dae88a598",
            "_dom_classes": [],
            "description": "",
            "_model_name": "HTMLModel",
            "placeholder": "​",
            "_view_module": "@jupyter-widgets/controls",
            "_model_module_version": "1.5.0",
            "value": "100%",
            "_view_count": null,
            "_view_module_version": "1.5.0",
            "description_tooltip": null,
            "_model_module": "@jupyter-widgets/controls",
            "layout": "IPY_MODEL_86b8a5f55d934e56ac2620632cb55cb0"
          }
        },
        "597fe2bae7ca421185f784f7ee3867cb": {
          "model_module": "@jupyter-widgets/controls",
          "model_name": "FloatProgressModel",
          "model_module_version": "1.5.0",
          "state": {
            "_view_name": "ProgressView",
            "style": "IPY_MODEL_f97abcaeec514fe98d1fcb1bf0dbd582",
            "_dom_classes": [],
            "description": "",
            "_model_name": "FloatProgressModel",
            "bar_style": "success",
            "max": 5,
            "_view_module": "@jupyter-widgets/controls",
            "_model_module_version": "1.5.0",
            "value": 5,
            "_view_count": null,
            "_view_module_version": "1.5.0",
            "orientation": "horizontal",
            "min": 0,
            "description_tooltip": null,
            "_model_module": "@jupyter-widgets/controls",
            "layout": "IPY_MODEL_115ab35c7bd348b1b52ccb42cce24696"
          }
        },
        "4d32420002d648c18dbd189653c02b3d": {
          "model_module": "@jupyter-widgets/controls",
          "model_name": "HTMLModel",
          "model_module_version": "1.5.0",
          "state": {
            "_view_name": "HTMLView",
            "style": "IPY_MODEL_900540c1b4bd4f9d87f1a50096f4339e",
            "_dom_classes": [],
            "description": "",
            "_model_name": "HTMLModel",
            "placeholder": "​",
            "_view_module": "@jupyter-widgets/controls",
            "_model_module_version": "1.5.0",
            "value": " 5/5 [02:09&lt;00:00, 25.65s/ba]",
            "_view_count": null,
            "_view_module_version": "1.5.0",
            "description_tooltip": null,
            "_model_module": "@jupyter-widgets/controls",
            "layout": "IPY_MODEL_bab9e806098849b19ff827082f0e946a"
          }
        },
        "1654261148184c3da4c1bd7dae88a598": {
          "model_module": "@jupyter-widgets/controls",
          "model_name": "DescriptionStyleModel",
          "model_module_version": "1.5.0",
          "state": {
            "_view_name": "StyleView",
            "_model_name": "DescriptionStyleModel",
            "description_width": "",
            "_view_module": "@jupyter-widgets/base",
            "_model_module_version": "1.5.0",
            "_view_count": null,
            "_view_module_version": "1.2.0",
            "_model_module": "@jupyter-widgets/controls"
          }
        },
        "86b8a5f55d934e56ac2620632cb55cb0": {
          "model_module": "@jupyter-widgets/base",
          "model_name": "LayoutModel",
          "model_module_version": "1.2.0",
          "state": {
            "_view_name": "LayoutView",
            "grid_template_rows": null,
            "right": null,
            "justify_content": null,
            "_view_module": "@jupyter-widgets/base",
            "overflow": null,
            "_model_module_version": "1.2.0",
            "_view_count": null,
            "flex_flow": null,
            "width": null,
            "min_width": null,
            "border": null,
            "align_items": null,
            "bottom": null,
            "_model_module": "@jupyter-widgets/base",
            "top": null,
            "grid_column": null,
            "overflow_y": null,
            "overflow_x": null,
            "grid_auto_flow": null,
            "grid_area": null,
            "grid_template_columns": null,
            "flex": null,
            "_model_name": "LayoutModel",
            "justify_items": null,
            "grid_row": null,
            "max_height": null,
            "align_content": null,
            "visibility": null,
            "align_self": null,
            "height": null,
            "min_height": null,
            "padding": null,
            "grid_auto_rows": null,
            "grid_gap": null,
            "max_width": null,
            "order": null,
            "_view_module_version": "1.2.0",
            "grid_template_areas": null,
            "object_position": null,
            "object_fit": null,
            "grid_auto_columns": null,
            "margin": null,
            "display": null,
            "left": null
          }
        },
        "f97abcaeec514fe98d1fcb1bf0dbd582": {
          "model_module": "@jupyter-widgets/controls",
          "model_name": "ProgressStyleModel",
          "model_module_version": "1.5.0",
          "state": {
            "_view_name": "StyleView",
            "_model_name": "ProgressStyleModel",
            "description_width": "",
            "_view_module": "@jupyter-widgets/base",
            "_model_module_version": "1.5.0",
            "_view_count": null,
            "_view_module_version": "1.2.0",
            "bar_color": null,
            "_model_module": "@jupyter-widgets/controls"
          }
        },
        "115ab35c7bd348b1b52ccb42cce24696": {
          "model_module": "@jupyter-widgets/base",
          "model_name": "LayoutModel",
          "model_module_version": "1.2.0",
          "state": {
            "_view_name": "LayoutView",
            "grid_template_rows": null,
            "right": null,
            "justify_content": null,
            "_view_module": "@jupyter-widgets/base",
            "overflow": null,
            "_model_module_version": "1.2.0",
            "_view_count": null,
            "flex_flow": null,
            "width": null,
            "min_width": null,
            "border": null,
            "align_items": null,
            "bottom": null,
            "_model_module": "@jupyter-widgets/base",
            "top": null,
            "grid_column": null,
            "overflow_y": null,
            "overflow_x": null,
            "grid_auto_flow": null,
            "grid_area": null,
            "grid_template_columns": null,
            "flex": null,
            "_model_name": "LayoutModel",
            "justify_items": null,
            "grid_row": null,
            "max_height": null,
            "align_content": null,
            "visibility": null,
            "align_self": null,
            "height": null,
            "min_height": null,
            "padding": null,
            "grid_auto_rows": null,
            "grid_gap": null,
            "max_width": null,
            "order": null,
            "_view_module_version": "1.2.0",
            "grid_template_areas": null,
            "object_position": null,
            "object_fit": null,
            "grid_auto_columns": null,
            "margin": null,
            "display": null,
            "left": null
          }
        },
        "900540c1b4bd4f9d87f1a50096f4339e": {
          "model_module": "@jupyter-widgets/controls",
          "model_name": "DescriptionStyleModel",
          "model_module_version": "1.5.0",
          "state": {
            "_view_name": "StyleView",
            "_model_name": "DescriptionStyleModel",
            "description_width": "",
            "_view_module": "@jupyter-widgets/base",
            "_model_module_version": "1.5.0",
            "_view_count": null,
            "_view_module_version": "1.2.0",
            "_model_module": "@jupyter-widgets/controls"
          }
        },
        "bab9e806098849b19ff827082f0e946a": {
          "model_module": "@jupyter-widgets/base",
          "model_name": "LayoutModel",
          "model_module_version": "1.2.0",
          "state": {
            "_view_name": "LayoutView",
            "grid_template_rows": null,
            "right": null,
            "justify_content": null,
            "_view_module": "@jupyter-widgets/base",
            "overflow": null,
            "_model_module_version": "1.2.0",
            "_view_count": null,
            "flex_flow": null,
            "width": null,
            "min_width": null,
            "border": null,
            "align_items": null,
            "bottom": null,
            "_model_module": "@jupyter-widgets/base",
            "top": null,
            "grid_column": null,
            "overflow_y": null,
            "overflow_x": null,
            "grid_auto_flow": null,
            "grid_area": null,
            "grid_template_columns": null,
            "flex": null,
            "_model_name": "LayoutModel",
            "justify_items": null,
            "grid_row": null,
            "max_height": null,
            "align_content": null,
            "visibility": null,
            "align_self": null,
            "height": null,
            "min_height": null,
            "padding": null,
            "grid_auto_rows": null,
            "grid_gap": null,
            "max_width": null,
            "order": null,
            "_view_module_version": "1.2.0",
            "grid_template_areas": null,
            "object_position": null,
            "object_fit": null,
            "grid_auto_columns": null,
            "margin": null,
            "display": null,
            "left": null
          }
        }
      }
    }
  },
  "cells": [
    {
      "cell_type": "markdown",
      "metadata": {
        "id": "view-in-github",
        "colab_type": "text"
      },
      "source": [
        "<a href=\"https://colab.research.google.com/github/liadmagen/NLP-Course/blob/master/exercises_notebooks/11_LM_BERT.ipynb\" target=\"_parent\"><img src=\"https://colab.research.google.com/assets/colab-badge.svg\" alt=\"Open In Colab\"/></a>"
      ]
    },
    {
      "cell_type": "markdown",
      "source": [
        "# BERTology\n",
        "\n",
        "## Introduction\n",
        "BERT was first released in 2019, and made a revolution in the NLP world.\n",
        "It was shortly after several similar models such as ELMo and UlmFit demonstrated that using contextual word-embedding significantly improve the model accuracy.\n",
        "\n",
        "Contextual word-embedding are vectors that are changed according to the usage of the word in the sentence. Unlike the previous embedding techniques - Word2Vec, GloVe, FastText, etc, ELMo, UlmFit and BERT change the word-embedding of the same word, according to its usage.\n",
        "\n",
        "So for example, the word `play` would have different vectors in these sentences:\n",
        "* I *play* tennis on Thursday\n",
        "* I saw that *play* already\n",
        "\n",
        "BERT uses Transformers to create a matrix of relations between the words in the sentence. It is memory expensive, and therefore **cannot take more than two sentences at once**, and up to 512 tokens in total.\n",
        "\n",
        "However, since then, many new and more efficient models were released:\n",
        "- [BigBird](https://huggingface.co/blog/big-bird#bigbird-block-sparse-attention), [Longformer](https://huggingface.co/allenai/longformer-base-4096), [Reformer](https://huggingface.co/google/reformer-crime-and-punishment) and many others, can handle classification of long documents.\n",
        "- [RoBERTa](https://huggingface.co/roberta-base) and [Electra](https://huggingface.co/google/electra-small-discriminator) are memory and GPU efficient, and can train faster\n",
        "- Models such as [LayoutLM](https://huggingface.co/microsoft/layoutlmv2-base-uncased) can handle a combination of both text and image, and are useful in classification of visually rich documents such as invoices, IDs and Forms.\n"
      ],
      "metadata": {
        "id": "D3eKs6d2j-EK"
      }
    },
    {
      "cell_type": "markdown",
      "source": [
        "## RoBERTa\n",
        "\n",
        "Due to its availability and efficiency, RoBERTa is quite common in text classification, and we will use it here to classify patents, using the [patents dataset](https://huggingface.co/datasets/ccdv/patent-classification) that is hosted in [HuggingFace Dataset Hub](https://huggingface.co/datasets).\n",
        "\n",
        "We will use [HuggingFace](https://huggingface.co/) implementation of RoBERTa. HuggingFace is a french company that has lately took over the field, due to their excellent engineering efforts, open-source software and a very large community who contributed both models, datasets and code.\n",
        "\n",
        "Huggingface offers also [NLP courses](https://huggingface.co/course/chapter1/1), where they guide the users how to use their software."
      ],
      "metadata": {
        "id": "xutpM4VJmlNH"
      }
    },
    {
      "cell_type": "code",
      "source": [
        "%%capture\n",
        "! pip install transformers\n",
        "! pip install datasets"
      ],
      "metadata": {
        "id": "7935BuFUnstx"
      },
      "execution_count": 1,
      "outputs": []
    },
    {
      "cell_type": "code",
      "execution_count": 2,
      "metadata": {
        "id": "ilbwFByNjPBU"
      },
      "outputs": [],
      "source": [
        "import numpy as np\n",
        "\n",
        "from datasets import load_dataset, load_metric\n",
        "from transformers import RobertaTokenizer, RobertaForSequenceClassification, TrainingArguments, Trainer, DataCollatorWithPadding\n"
      ]
    },
    {
      "cell_type": "code",
      "source": [
        "dataset = load_dataset('ccdv/patent-classification')\n"
      ],
      "metadata": {
        "colab": {
          "base_uri": "https://localhost:8080/",
          "height": 104,
          "referenced_widgets": [
            "1626ad643c1b4f8a9b2dea3ac2b7b3ad",
            "614a8022b32247cdba1723a4a3303636",
            "6f39dc6c5b324d4cab74652eeb49a3bc",
            "be223ac3a66541c1b1015564b42b9699",
            "4499c571654343d885f515824069cc6a",
            "d8cbcf7f1caf471f9d579b7b6ff54ac7",
            "aab1861b9420403e95b208af7ee90135",
            "5a0b7b5f20574f5faf32f39f387fbe85",
            "614668321e0f467791fb0e1dfa186bab",
            "f79f95e7a81c4a03af614bec0fa0d8a3",
            "82a56ffbf28f446bbcf824c5fde9e19c"
          ]
        },
        "id": "5exxXzFFnpUH",
        "outputId": "04def370-141e-4b10-ca6f-f99f4ab0cb1c"
      },
      "execution_count": 3,
      "outputs": [
        {
          "output_type": "stream",
          "name": "stderr",
          "text": [
            "No config specified, defaulting to: patent_classification_dataset/patent\n",
            "Reusing dataset patent_classification_dataset (/root/.cache/huggingface/datasets/ccdv___patent_classification_dataset/patent/1.0.0/296a870cf0b6aa21c8cbd74f4fcd0dafdf4d7795cc2bba5ee2918ddd85225740)\n"
          ]
        },
        {
          "output_type": "display_data",
          "data": {
            "application/vnd.jupyter.widget-view+json": {
              "model_id": "1626ad643c1b4f8a9b2dea3ac2b7b3ad",
              "version_minor": 0,
              "version_major": 2
            },
            "text/plain": [
              "  0%|          | 0/3 [00:00<?, ?it/s]"
            ]
          },
          "metadata": {}
        }
      ]
    },
    {
      "cell_type": "markdown",
      "source": [
        "The dataset is already divided to Train, Validation and Test."
      ],
      "metadata": {
        "id": "GUF1tNfwouYS"
      }
    },
    {
      "cell_type": "code",
      "source": [
        "dataset"
      ],
      "metadata": {
        "colab": {
          "base_uri": "https://localhost:8080/"
        },
        "id": "iKOXcb7SoP_w",
        "outputId": "754376ce-e905-49f8-ac2d-3608e2cc9e79"
      },
      "execution_count": 4,
      "outputs": [
        {
          "output_type": "execute_result",
          "data": {
            "text/plain": [
              "DatasetDict({\n",
              "    train: Dataset({\n",
              "        features: ['text', 'label'],\n",
              "        num_rows: 25000\n",
              "    })\n",
              "    validation: Dataset({\n",
              "        features: ['text', 'label'],\n",
              "        num_rows: 5000\n",
              "    })\n",
              "    test: Dataset({\n",
              "        features: ['text', 'label'],\n",
              "        num_rows: 5000\n",
              "    })\n",
              "})"
            ]
          },
          "metadata": {},
          "execution_count": 4
        }
      ]
    },
    {
      "cell_type": "code",
      "source": [
        "dataset['train'][0]"
      ],
      "metadata": {
        "colab": {
          "base_uri": "https://localhost:8080/"
        },
        "id": "f3DGsDaHyJeL",
        "outputId": "2bf40298-6f16-4d87-8c90-66971e5273a6"
      },
      "execution_count": 5,
      "outputs": [
        {
          "output_type": "execute_result",
          "data": {
            "text/plain": [
              "{'label': 6,\n",
              " 'text': 'turning now to the drawings , there is shown in fig1 an integrated circuit continuity testing system in which a specimen or circuit configuration 16 is mounted on a fixture 18 operable to vibrate the specimen under controlled conditions , e . g . sinusoidally , randomly , or a combination of the two . the specific structure of the fixture and the means for vibrating it are known in the art and thus not further discussed . the specimen and fixture are housed in a closed chamber 20 whereby the specimen under test can be subjected to temperature cycling , either alone or in conjunction with the vibration testing . an environmental control apparatus , indicated at 22 , is provided for selectively heating or cooling the chamber interior . a cable 24 electrically connects fixture 18 , and thus specimen 16 , with a continuity testing board 26 . it is to be understood that cable 24 includes a multiplicity of separate electrical connections between fixture 18 and testing board 26 , the details of which are discussed in connection with fig6 and 7 . in general , however , continuity testing board 26 includes a plurality of identical sensing circuits , each of which is electrically connected to one of the test circuits of specimen 16 during continuity testing . a power supply 28 biases each of the sensing circuits to a predetermined positive voltage , for example five volts . a pulse generator 30 is provided to control the timing or frequency of samples in the course of testing . a cable 32 connects continuity testing board 26 with a logic analyzer 34 . again , a multiplicity of separate electrical connections are involved , in this case between each of the sensing circuits on continuity testing board 26 and one of many data storage channels in logic analyzer 34 . further electrical connections between logic analyzer 34 and continuity testing board 26 include a plurality of triggering channels provided to initiate storage of data by the logic analyzer upon recognition of an error condition during testing , and a connection for interaction with pulse generator 30 . an indicator 36 also is electrically connected to logic analyzer 34 . panel 36 includes a plurality of light emitting diodes for providing certain indications to a user of the test system . a computer 38 is connected to logic analyzer 34 through a cable connection 40 . computer 38 contains the software which controls logic analyzer 34 in its acquisition and storage of test data and , if desired , can include an associated disc drive or other memory , as indicated at 42 , for the storage of data to supplement the logic analyzer . further peripheral equipment is connected to the computer and used in the course of testing , including a video display terminal 44 for providing the operator with a visual indication of test results on - line , and a printer 46 for generating a permanent record of the test results . fig2 discloses test specimen 16 in greater detail . while the present invention contemplates testing most any configuration involving a multiplicity of individual circuits , the present test system is particularly well adapted for detecting open circuits in an assembly of semiconductor packages mounted to a printed circuit board , such as printed circuit board 48 to which is mounted a plurality of chip carriers 50 . other multiple circuit devices could be tested as well , e . g . flat packs and dual in - line packages ( dip ). it is known as well to mount semiconductor chips directly to a printed circuit board , and it can be appreciated that individual semiconductor chips or chip carriers of a particularly complex design might be tested individually . parallel or simultaneous testing is accomplished by providing multiple , substantially identical sensing circuits on continuity testing board 26 . one such sensing circuit is indicated at 54 in fig3 and includes a differential amplifier 62 and a nand gate 74 available from fairchild as part of a model 9622 receiver . each sensing circuit further includes a high voltage terminal 56 connected to power supply 28 such that it is biased to a predetermined high voltage , e . g . + 5 volts . high voltage terminal 56 is connected to a common terminal or node 58 through an input resistor 60 . node 58 provides a voltage level , in this case a positive voltage of less than 5 , to the positive input terminal of differential amplifier 62 , and also to a terminal 64 connected to the input of the circuit under test . the output voltage of the circuit under test is provided to a terminal 66 of the sensing circuit , whereby the output voltage is provided through a common terminal or node 68 to the inversion input of differential amplifier 62 ( preferably with good common mode rejection ), and also to ground through an output resistor 70 . it should be noted that the terms &# 34 ; input &# 34 ; and &# 34 ; output &# 34 ; for resistors 60 and 70 are used for convenience . these resistors can , as well , be considered as connected to the outputs of the test circuit and providing the inputs to amplifier 62 . in effect , input resistor 60 , output resistor 70 and the arrangement of the circuit under test and differential amplifier 62 in parallel are combined to provide three resistances in series between high voltage terminal 56 and a low voltage terminal 72 , i . e . ground . the sensing of open or unacceptably resistive test circuits is based upon the difference in voltage at the positive and inversion terminals of the differential amplifier . the differential amplifier is a known logic or digital device which generates one of two alternative logic states : a &# 34 ; high &# 34 ; state or higher voltage output whenever the voltage at the positive terminal exceeds the voltage at the inversion terminal by a characteristic or predetermined threshold ; and a low logical output of voltage whenever the voltage at the positive input does not exceed the voltage at the inversion input by the threshold . differential amplifier 62 is selected for its predetermined threshold voltage level , e . g . approximately 1 . 5 volts . an open or unacceptably resistive test circuit is detected as follows . amplifier 62 is a high resistance or impedance device , such that the resistance of its parallel arrangement with the test circuit essentially equals the resistance of the test circuit itself , a nominal or expected resistance of about 2 ohms . input and output resistors 60 and 70 have a substantially greater resistance , for example 100 ohms each . consequently the voltage drop across the test circuit , i . e . across the comparator inputs , is quite small compared to the voltage drop across each of the resistors , for example less than 0 . 1 volts . thus , when the test circuit provides a short or closed path , the drop in voltage between the comparator inputs is much smaller than the 1 . 5 volt threshold and differential amplifier 62 generates the low logic state . conversely , when the test circuit is open the resistance of the parallel arrangement is many times that of resistors 60 and 70 , to the point where the voltage difference between the comparator inputs exceeds the threshold voltage and causes amplifier 62 to generate the high logic state . amplifier 62 also generates the high logic state when the resistance of the circuit being tested is higher than an acceptable maximum corresponding to the predetermined voltage threshold . in particular , given the threshold of 1 . 5 volts in combination with input and output resistors of 100 ohms , and further assuming that the resistance of amplifier 62 is such that the resistance of the above - discussed parallel combination is essentially equal to the resistance of the test circuit , then a resistance in the test circuit of about 70 ohms or greater will cause amplifier 62 to fire . in practice , the actual threshold voltage may vary , for example between 1 . 2 volts and 1 . 8 volts . such deviation , however , does not interfere with the identification of open circuits in any material respect , since the nominal resistance of the circuits is substantially lower than that required to trigger amplifier 62 , while the resistance of an open circuit is of course substantially higher . the output of all sensing circuits 54 is thus a digital word indicating the conditions of the test circuits . amplifier 62 can be provided with a hysteresis ( positive feedback ) loop with a resistance if desired . this would result in cleaner switching output signals , but also would reduce sensitivity . on occasion , it is desirable in the course of testing to configure sensing circuit 54 to provide a logic state indicating normal operation , in spite of the fact that the circuit under test is open or of a high resistance . this option is provided as nand gate 74 receiving the output of differential amplifier 62 , and with another input connected to high voltage terminal 56 through a resistor 76 of a high resistance , e . g . 10 , 000 ohms . a shunt 78 connects resistor 76 to ground through a switch 80 which normally is open . with switch 80 open , a high input is provided to nand gate 74 . a high input to the nand gate from amplifier 62 as well will generate a logic low output from nand gate 74 , indicating an error condition such as an open circuit . of course , for a closed or short circuit the output of differential amplifier 62 is low and the output of nand gate 74 is high , indicating the normal operating condition . if switch 80 is closed , a low logic state is provided as an input to nand gate 74 , resulting in a high or normal condition output regardless of the input received from the differential amplifier . in short , once an error condition is identified for a particular test circuit , switch 80 can be closed to override the error output . in the multiple circuit arrangement , switches 80 are provided in dip form , each package having a row of switches . normally , the sensitivity of sensing circuit 54 to variations in test circuit resistance can be altered by changing the resistances of input and output resistors 60 and 70 , for example increasing sensitivity to generate the error logic state at a lower resistance value by substituting input and output resistors with lower resistance values . an alternative approach is shown in fig4 namely the addition of a resistor 82 between the output of the test circuit and common node 68 . this has the effect of providing a voltage to the inversion input of differential amplifier 62 somewhat lower than the voltage at the output of the associated test circuit , having the practical effect of reducing the voltage threshold between the differential amplifier inputs . as for decreasing the sensitivity of circuit 54 , one approach of course would be to repace resistors 60 and 70 with resistors of a lower resistance value . the voltage at terminal 56 can be changed , or an amplifier with a different threshold can be employed . fig5 and 6 disclose alternative embodiments of the sensing and triggering circuitry on continuity sensing boards such as board 26 . in fig5 the continuity testing board circuitry includes 124 sensing circuits 54 and 124 data channels or signal paths 86 , each connected to an associated one of the sensing circuits for providing the sensing circuit output to a logic analyzer . the sensing circuits are divided into four substantially identical sets of 31 sensing circuits each , one such set being shown . in addition to its data channel , each of the sensing circuits includes a triggering channel 88 . the triggering channels provide the sensing circuit outputs to a series of nand gates 90 , 92 , 94 and 96 , each accepting up to eight triggering channels . when the logic state of all triggering channels to any one of the nand gates is high , which corresponds to the associated test circuits being closed or the associated switches 80 being closed , then the output of the nand will be the low voltage level logic state . should any one of its inputs be low , the output of nand gate 90 ( for example ) is the high logic state . the output of nand gates 90 - 96 is provided to a nor gate 98 , the output of which is provided to a common triggering channel 100 for the first 31 sensing circuits . if all of the inputs to nor gate 98 are the low logic state , the nor gate output is high . conversely , if an error condition is sensed in any of the first 31 test circuits , the corresponding one of nand gates 92 - 96 provides a high level logic state input to the nor gate which in turn generates the low logic state as its output . thus there are four common triggering channels 100 , any one of which sends a triggering signal to the logic analyzer by shifting from the high to the low voltage logic state . fig6 shows alternative continuity sensing board circuitry accommodating 152 separate sensing circuits 54 . again , each sensing circuit 54 has its own associated data channel 102 for providing the sensing circuit output to the logic analyzer . in this case , however , the sensing circuits are segmented into nineteen substantially identical groups of eight for triggering purposes , the first and last of which are shown , such that there are 19 separate common triggering channels 104 . individual triggering channels 106 of eight sensing circuits are provided as inputs to a nand gate 108 , with the output of the nand gate provided directly to the common triggering channel . consequently , if all sensing circuit outputs are the high logic state corresponding to closed circuits or switches 80 , the output of each nand gate 108 is the low logic state . the nand gate of course generates the high voltage logic state should any of its inputs be low , and thus the triggering signal for each of the 19 triggering channels 104 is a shift from the lower logic level to the high logic level . fig7 shows a practical working embodiment in which three test assemblies or specimens , including a 4 inch by 6 inch printed circuit board 110 and two 6 inch by 9 inch printed circuit boards 112 and 114 along with semiconductor packages mounted on each , are tested simultaneously . while this system operates using ttl logic , it should be noted that ecl or cmos logic could be employed as a substitute . pcb 112 is a &# 34 ; single - sided &# 34 ; printed circuit board assembly , while test board 114 is double - sided , having twice the number of test circuits . the printed circuit board assemblies are mounted to respective fixtures 116 , 118 and 120 , with the assemblies and fixtures housed within a test chamber 122 and supported on a vibrational table 124 . a twisted pair cable 126 connects the respective input and output terminals of the test circuits with their associated comparator inputs for each of the sensing circuits of continuity sensing board 128 configured as shown in fig6 . in a similar fashion , twisted pair cables 130 and 132 connect test assemblies 112 and 114 and continuity sensing boards 134 and 136 , which are configured as shown in fig5 . the output of each continuity sensing board , including the data channels and common triggering channels , is provided to a logic analyzer , in particular logic analyzers 138 , 140 and 142 associated with continuity sensing boards 128 , 134 and 136 , respectively . in the arrangement shown , the logic analyzers are model 2100u interactive state analyzers available from northwest instrument systems , inc . of beaverton , oreg . each of the analyzers can receive up to 80 parallel channels of synchronous data , with each channel having a memory of up to 4 , 096 bits . logic analyzers 138 and 140 are connected , and thus together handle the collective input provided by continuity sensing boards 128 and 134 . logic analyzer 142 is associated only with continuity sensing board 136 . ribbon cables 144 and 146 connect a computer 148 to logic analyzers 138 and 140 , while a ribbon cable 150 joins logic analyzer 142 and a computer 152 . computers 148 and 152 in this arrangement can be ibm at personal computers or compatible computers . each of computers 148 and 152 contains the software necessary for operating its associated logic analyzer or analyzers . the software enables each of logic analyzers 138 - 142 to store data only after receiving a storage command or triggering signal from its associated one of the continuity sensing boards . an indicator panel 154 is connected to logic analyzers 138 - 142 respectively through lines 156 , 158 and 160 . indicator panel 154 includes three light emitting diodes ( led &# 39 ; s ) 162 , 164 and 166 triggered responsive to the sensing of error condition logic analyzers 138 , 140 and 142 respectively . a button for resetting the indicator led &# 39 ; s is provided at 167 . a power supply 168 is connected to each of continuity sensing boards 128 , 134 and 136 , and biases the high voltage terminals 56 of the sensing circuits to a positive five volts or other predetermined high voltage level . a grounding terminal of the power supply also is connected to the sensing boards , in particular to the low voltage terminals 72 of the sensing circuits . pulse generators at 170 , 172 and 174 are incorporated into the circuitry of each of the sensing boards to control the rate at which the data channel and common triggering channel outputs are provided to the associated logic analyzers . a sampling frequency of 10 , 000 , 000 pulses per second ( i . e . a 100 nanosecond interval between pulses ) has been found desirable . in the course of using the testing system , the operator first loads each printed circuit board assembly into its appropriate fixture , encloses the loaded fixtures within chamber 122 , and selects the appropriate mode of testing , whether temperature cycling , vibration , or both . the operator then activates the power supply and other components through computers 148 and 152 . at 100 nanosecond intervals , as controlled by pulse generators 170 - 174 , the logic state at each of the sensing circuit outputs and each of the common triggering circuits , is provided to logic analyzers 138 - 142 . however , as long as no open or abnormally highly resistive circuits are indicated , the logic analyzers do not store the data . as soon as any of the circuits is identified as open or highly resistive , the appropriate triggering circuit delivers a changed logic level to its associated logic analyzer , and this change in logic state comprises a storage command or triggering signal , whereupon the logic analyzer begins storing data received in all of its channels . the appropriate one of led &# 39 ; s 162 - 166 is activated to indicate an error condition has been found , and the associated one of computers 148 and 152 displays on its video terminal the error condition . the data stored in the associated logic analyzer can be displayed by the operator if desired . when the memory channels of the logic analyzer are full , no further data can be stored on the logic analyzer . at this point , the operator has the option of utilizing backup storage , for example a disc drive associated with the corresponding computer , and to either continue the test without further adjustment or close the switch 80 associated with the identified circuit and continue testing . override switches 80 thus provide the option of proceeding with the test to locate other open or highly resistant circuits , without a continual loading and unloading of the associated logic analyzer due solely to the particular circuit first indicating an error . of course , if it is desired that the logic analyzer capacity represent a longer period of time , the sampling frequency can be reduced , for example to an interval of one microsecond between pulses . this is accomplished by changing the pulse rate of pulse generators . thus , the test apparatus is capable of identifying not only permanently open circuits , but circuits exhibiting intermittent open behavior under adverse temperature cycling or vibration . the record of the intermittent failure facilitates an analysis of why it occurred , since the permanent record of the failure , on a printout or the like , can be identified with a particular time during the temperature or vibration test cycle . given the simultaneous testing of all channels and the short interval between test pulses , intermittent behavior on the order of a few hundred nanoseconds can be detected . further , the simple and direct connection of the test circuit input and output in parallel with a differential amplifier , and the use of the differential amplifier output to generate one of two logic states as opposed to an analog response , provides a simple , rapid and reliable means for detecting open or highly resistive circuits .'}"
            ]
          },
          "metadata": {},
          "execution_count": 5
        }
      ]
    },
    {
      "cell_type": "code",
      "source": [
        "tokenizer = RobertaTokenizer.from_pretrained('roberta-base')"
      ],
      "metadata": {
        "id": "6nT9G3ESoZKY"
      },
      "execution_count": 6,
      "outputs": []
    },
    {
      "cell_type": "markdown",
      "source": [
        "We use RoBERTa's tokenizer, to tokenize our dataset's text.\n",
        "\n",
        "There are two options: \n",
        "* either create an encoded copy of the dataset or\n",
        "* create a transformation function that encode it with the tokenizer, on the fly: https://huggingface.co/docs/datasets/process.html?highlight=map#format-transform"
      ],
      "metadata": {
        "id": "Xn7J5kHpuQRe"
      }
    },
    {
      "cell_type": "code",
      "source": [
        "def preprocess_function(examples):\n",
        "    return tokenizer(examples[\"text\"], truncation=True)\n",
        "\n",
        "encoded_dataset = dataset.map(preprocess_function, batched=True)"
      ],
      "metadata": {
        "colab": {
          "base_uri": "https://localhost:8080/",
          "height": 118,
          "referenced_widgets": [
            "a9fd4e47f71646688e223ab22cf19f25",
            "fd8b69d2efc046d68ee07277cf12cfa9",
            "bbf47465c3d0453da7d2570c03fb19c2",
            "18e8ca665d5641cbac685ac017055e7d",
            "173fa9245b3d487986af37e8e26f8b94",
            "64a87c2859da44058f18dbdf589c0115",
            "e8bb5b179b7d42b7a23a614379c5ca33",
            "2aec2a2d0b1b42158dd87da41ce3cf4c",
            "639a4b6cf08642bb856b5d07a7028b12",
            "ac757e2a9d244a399859f8aaa0a966f4",
            "0ed2dad5e6e84f54be1587c7859068bb",
            "4a9ae4493f5c4a8db1312ae494f61540",
            "d3f4aa17880644718c7a97f297f48e3d",
            "389ef07d51e0484dae6b2ef14ed9cbd9",
            "597fe2bae7ca421185f784f7ee3867cb",
            "4d32420002d648c18dbd189653c02b3d",
            "1654261148184c3da4c1bd7dae88a598",
            "86b8a5f55d934e56ac2620632cb55cb0",
            "f97abcaeec514fe98d1fcb1bf0dbd582",
            "115ab35c7bd348b1b52ccb42cce24696",
            "900540c1b4bd4f9d87f1a50096f4339e",
            "bab9e806098849b19ff827082f0e946a"
          ]
        },
        "id": "Pu-ryL5mo_5W",
        "outputId": "e1d93d46-7242-4477-aa68-b258868189b4"
      },
      "execution_count": 7,
      "outputs": [
        {
          "output_type": "stream",
          "name": "stderr",
          "text": [
            "Loading cached processed dataset at /root/.cache/huggingface/datasets/ccdv___patent_classification_dataset/patent/1.0.0/296a870cf0b6aa21c8cbd74f4fcd0dafdf4d7795cc2bba5ee2918ddd85225740/cache-292546e12ab5245b.arrow\n"
          ]
        },
        {
          "output_type": "display_data",
          "data": {
            "application/vnd.jupyter.widget-view+json": {
              "model_id": "a9fd4e47f71646688e223ab22cf19f25",
              "version_minor": 0,
              "version_major": 2
            },
            "text/plain": [
              "  0%|          | 0/5 [00:00<?, ?ba/s]"
            ]
          },
          "metadata": {}
        },
        {
          "output_type": "display_data",
          "data": {
            "application/vnd.jupyter.widget-view+json": {
              "model_id": "4a9ae4493f5c4a8db1312ae494f61540",
              "version_minor": 0,
              "version_major": 2
            },
            "text/plain": [
              "  0%|          | 0/5 [00:00<?, ?ba/s]"
            ]
          },
          "metadata": {}
        }
      ]
    },
    {
      "cell_type": "markdown",
      "source": [
        "First we instantiate the RoBERTa model, which was already pre-trained on wikipedia and other resources. "
      ],
      "metadata": {
        "id": "rIOvRxjozTN3"
      }
    },
    {
      "cell_type": "code",
      "source": [
        "model = RobertaForSequenceClassification.from_pretrained('roberta-base', num_labels=dataset['train'].features['label'].num_classes)"
      ],
      "metadata": {
        "colab": {
          "base_uri": "https://localhost:8080/"
        },
        "id": "ejqOegluvlxZ",
        "outputId": "41ae4f9d-2528-48e6-fd2e-f0f718a97786"
      },
      "execution_count": 8,
      "outputs": [
        {
          "output_type": "stream",
          "name": "stderr",
          "text": [
            "Some weights of the model checkpoint at roberta-base were not used when initializing RobertaForSequenceClassification: ['lm_head.dense.weight', 'roberta.pooler.dense.weight', 'lm_head.decoder.weight', 'lm_head.layer_norm.bias', 'lm_head.dense.bias', 'lm_head.layer_norm.weight', 'roberta.pooler.dense.bias', 'lm_head.bias']\n",
            "- This IS expected if you are initializing RobertaForSequenceClassification from the checkpoint of a model trained on another task or with another architecture (e.g. initializing a BertForSequenceClassification model from a BertForPreTraining model).\n",
            "- This IS NOT expected if you are initializing RobertaForSequenceClassification from the checkpoint of a model that you expect to be exactly identical (initializing a BertForSequenceClassification model from a BertForSequenceClassification model).\n",
            "Some weights of RobertaForSequenceClassification were not initialized from the model checkpoint at roberta-base and are newly initialized: ['classifier.out_proj.weight', 'classifier.dense.weight', 'classifier.out_proj.bias', 'classifier.dense.bias']\n",
            "You should probably TRAIN this model on a down-stream task to be able to use it for predictions and inference.\n"
          ]
        }
      ]
    },
    {
      "cell_type": "markdown",
      "source": [
        "Then we fine-tune our RoBERTa model on our dataset."
      ],
      "metadata": {
        "id": "AB7N44FSzZN0"
      }
    },
    {
      "cell_type": "code",
      "source": [
        "metric = load_metric(\"accuracy\")\n",
        "\n",
        "def compute_metrics(eval_pred):\n",
        "    logits, labels = eval_pred\n",
        "    predictions = np.argmax(logits, axis=-1)\n",
        "    return metric.compute(predictions=predictions, references=labels)"
      ],
      "metadata": {
        "id": "7I34nOUG5-0d"
      },
      "execution_count": 9,
      "outputs": []
    },
    {
      "cell_type": "code",
      "source": [
        "data_collator = DataCollatorWithPadding(tokenizer=tokenizer)\n",
        "\n",
        "training_args = TrainingArguments(\n",
        "    output_dir='./results',\n",
        "    learning_rate=2e-5,\n",
        "    per_device_train_batch_size=4,\n",
        "    per_device_eval_batch_size=4,\n",
        "    num_train_epochs=5,\n",
        "    weight_decay=0.01,\n",
        "    evaluation_strategy=\"epoch\",\n",
        ")\n",
        "\n",
        "trainer = Trainer(\n",
        "    model=model,\n",
        "    args=training_args,\n",
        "    train_dataset=encoded_dataset[\"train\"],\n",
        "    eval_dataset=encoded_dataset[\"validation\"],\n",
        "    tokenizer=tokenizer,\n",
        "    data_collator=data_collator,\n",
        "    compute_metrics=compute_metrics\n",
        ")\n",
        "\n",
        "trainer.train()\n"
      ],
      "metadata": {
        "colab": {
          "base_uri": "https://localhost:8080/",
          "height": 234
        },
        "id": "jUZdoNMPqM3L",
        "outputId": "8bf4dae2-44ca-4e51-fd41-3b3e09e275a7"
      },
      "execution_count": null,
      "outputs": [
        {
          "output_type": "stream",
          "name": "stderr",
          "text": [
            "The following columns in the training set  don't have a corresponding argument in `RobertaForSequenceClassification.forward` and have been ignored: text.\n",
            "***** Running training *****\n",
            "  Num examples = 25000\n",
            "  Num Epochs = 5\n",
            "  Instantaneous batch size per device = 4\n",
            "  Total train batch size (w. parallel, distributed & accumulation) = 4\n",
            "  Gradient Accumulation steps = 1\n",
            "  Total optimization steps = 31250\n"
          ]
        },
        {
          "output_type": "display_data",
          "data": {
            "text/html": [
              "\n",
              "    <div>\n",
              "      \n",
              "      <progress value='235' max='31250' style='width:300px; height:20px; vertical-align: middle;'></progress>\n",
              "      [  235/31250 1:24:07 < 186:38:08, 0.05 it/s, Epoch 0.04/5]\n",
              "    </div>\n",
              "    <table border=\"1\" class=\"dataframe\">\n",
              "  <thead>\n",
              "    <tr style=\"text-align: left;\">\n",
              "      <th>Epoch</th>\n",
              "      <th>Training Loss</th>\n",
              "      <th>Validation Loss</th>\n",
              "    </tr>\n",
              "  </thead>\n",
              "  <tbody>\n",
              "  </tbody>\n",
              "</table><p>"
            ],
            "text/plain": [
              "<IPython.core.display.HTML object>"
            ]
          },
          "metadata": {}
        }
      ]
    },
    {
      "cell_type": "code",
      "source": [
        "trainer.evaluate()"
      ],
      "metadata": {
        "id": "CWtfjEjByRPn"
      },
      "execution_count": null,
      "outputs": []
    },
    {
      "cell_type": "markdown",
      "source": [
        "For more information, please check the notebooks in HuggingFace:\n",
        "* Fine-tuning a pretrained model: https://github.com/huggingface/notebooks/blob/master/transformers_doc/training.ipynb\n",
        "* Fine-tuning a model on a text classification task: https://github.com/huggingface/notebooks/blob/master/examples/text_classification.ipynb\n",
        "\n",
        "And more good resources can be found here: https://huggingface.co/docs/transformers/notebooks"
      ],
      "metadata": {
        "id": "DESvUExz7sxP"
      }
    },
    {
      "cell_type": "code",
      "source": [
        ""
      ],
      "metadata": {
        "id": "T6-ZDGFE75pp"
      },
      "execution_count": null,
      "outputs": []
    }
  ]
}