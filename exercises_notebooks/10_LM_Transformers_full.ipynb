{
  "nbformat": 4,
  "nbformat_minor": 0,
  "metadata": {
    "colab": {
      "name": "10_LM_Transformers_full.ipynb",
      "provenance": [],
      "collapsed_sections": [
        "fmf5HUOpkHUy"
      ],
      "toc_visible": true,
      "include_colab_link": true
    },
    "kernelspec": {
      "name": "python3",
      "display_name": "Python 3"
    },
    "accelerator": "TPU",
    "widgets": {
      "application/vnd.jupyter.widget-state+json": {
        "9b467c24a52247bebc13acdcc316c9dc": {
          "model_module": "@jupyter-widgets/controls",
          "model_name": "HBoxModel",
          "model_module_version": "1.5.0",
          "state": {
            "_view_name": "HBoxView",
            "_dom_classes": [],
            "_model_name": "HBoxModel",
            "_view_module": "@jupyter-widgets/controls",
            "_model_module_version": "1.5.0",
            "_view_count": null,
            "_view_module_version": "1.5.0",
            "box_style": "",
            "layout": "IPY_MODEL_d1fb6c3d567d4c6092fcb8a95be5c726",
            "_model_module": "@jupyter-widgets/controls",
            "children": [
              "IPY_MODEL_c3aac0a96c724ce5b4de799b91c5aada",
              "IPY_MODEL_3303f2f7bc134500ac1780e5223d46b6",
              "IPY_MODEL_de917f263d724430a3fca7533a0afe27"
            ]
          }
        },
        "d1fb6c3d567d4c6092fcb8a95be5c726": {
          "model_module": "@jupyter-widgets/base",
          "model_name": "LayoutModel",
          "model_module_version": "1.2.0",
          "state": {
            "_view_name": "LayoutView",
            "grid_template_rows": null,
            "right": null,
            "justify_content": null,
            "_view_module": "@jupyter-widgets/base",
            "overflow": null,
            "_model_module_version": "1.2.0",
            "_view_count": null,
            "flex_flow": null,
            "width": null,
            "min_width": null,
            "border": null,
            "align_items": null,
            "bottom": null,
            "_model_module": "@jupyter-widgets/base",
            "top": null,
            "grid_column": null,
            "overflow_y": null,
            "overflow_x": null,
            "grid_auto_flow": null,
            "grid_area": null,
            "grid_template_columns": null,
            "flex": null,
            "_model_name": "LayoutModel",
            "justify_items": null,
            "grid_row": null,
            "max_height": null,
            "align_content": null,
            "visibility": null,
            "align_self": null,
            "height": null,
            "min_height": null,
            "padding": null,
            "grid_auto_rows": null,
            "grid_gap": null,
            "max_width": null,
            "order": null,
            "_view_module_version": "1.2.0",
            "grid_template_areas": null,
            "object_position": null,
            "object_fit": null,
            "grid_auto_columns": null,
            "margin": null,
            "display": null,
            "left": null
          }
        },
        "c3aac0a96c724ce5b4de799b91c5aada": {
          "model_module": "@jupyter-widgets/controls",
          "model_name": "HTMLModel",
          "model_module_version": "1.5.0",
          "state": {
            "_view_name": "HTMLView",
            "style": "IPY_MODEL_81a6d0116cf54393bbab5a7386591f3f",
            "_dom_classes": [],
            "description": "",
            "_model_name": "HTMLModel",
            "placeholder": "​",
            "_view_module": "@jupyter-widgets/controls",
            "_model_module_version": "1.5.0",
            "value": "Downloading: 100%",
            "_view_count": null,
            "_view_module_version": "1.5.0",
            "description_tooltip": null,
            "_model_module": "@jupyter-widgets/controls",
            "layout": "IPY_MODEL_28707bd4a75f4efd8ebbe280dfc25a69"
          }
        },
        "3303f2f7bc134500ac1780e5223d46b6": {
          "model_module": "@jupyter-widgets/controls",
          "model_name": "FloatProgressModel",
          "model_module_version": "1.5.0",
          "state": {
            "_view_name": "ProgressView",
            "style": "IPY_MODEL_c55ab1679bef43d987b4f24bda06c210",
            "_dom_classes": [],
            "description": "",
            "_model_name": "FloatProgressModel",
            "bar_style": "success",
            "max": 629,
            "_view_module": "@jupyter-widgets/controls",
            "_model_module_version": "1.5.0",
            "value": 629,
            "_view_count": null,
            "_view_module_version": "1.5.0",
            "orientation": "horizontal",
            "min": 0,
            "description_tooltip": null,
            "_model_module": "@jupyter-widgets/controls",
            "layout": "IPY_MODEL_b7129886f94a4728b069f66980f9c2c0"
          }
        },
        "de917f263d724430a3fca7533a0afe27": {
          "model_module": "@jupyter-widgets/controls",
          "model_name": "HTMLModel",
          "model_module_version": "1.5.0",
          "state": {
            "_view_name": "HTMLView",
            "style": "IPY_MODEL_06b4a299189548a7ad2f356c87825611",
            "_dom_classes": [],
            "description": "",
            "_model_name": "HTMLModel",
            "placeholder": "​",
            "_view_module": "@jupyter-widgets/controls",
            "_model_module_version": "1.5.0",
            "value": " 629/629 [00:00&lt;00:00, 12.1kB/s]",
            "_view_count": null,
            "_view_module_version": "1.5.0",
            "description_tooltip": null,
            "_model_module": "@jupyter-widgets/controls",
            "layout": "IPY_MODEL_905b0a1baf7f4bd48d134978bd140529"
          }
        },
        "81a6d0116cf54393bbab5a7386591f3f": {
          "model_module": "@jupyter-widgets/controls",
          "model_name": "DescriptionStyleModel",
          "model_module_version": "1.5.0",
          "state": {
            "_view_name": "StyleView",
            "_model_name": "DescriptionStyleModel",
            "description_width": "",
            "_view_module": "@jupyter-widgets/base",
            "_model_module_version": "1.5.0",
            "_view_count": null,
            "_view_module_version": "1.2.0",
            "_model_module": "@jupyter-widgets/controls"
          }
        },
        "28707bd4a75f4efd8ebbe280dfc25a69": {
          "model_module": "@jupyter-widgets/base",
          "model_name": "LayoutModel",
          "model_module_version": "1.2.0",
          "state": {
            "_view_name": "LayoutView",
            "grid_template_rows": null,
            "right": null,
            "justify_content": null,
            "_view_module": "@jupyter-widgets/base",
            "overflow": null,
            "_model_module_version": "1.2.0",
            "_view_count": null,
            "flex_flow": null,
            "width": null,
            "min_width": null,
            "border": null,
            "align_items": null,
            "bottom": null,
            "_model_module": "@jupyter-widgets/base",
            "top": null,
            "grid_column": null,
            "overflow_y": null,
            "overflow_x": null,
            "grid_auto_flow": null,
            "grid_area": null,
            "grid_template_columns": null,
            "flex": null,
            "_model_name": "LayoutModel",
            "justify_items": null,
            "grid_row": null,
            "max_height": null,
            "align_content": null,
            "visibility": null,
            "align_self": null,
            "height": null,
            "min_height": null,
            "padding": null,
            "grid_auto_rows": null,
            "grid_gap": null,
            "max_width": null,
            "order": null,
            "_view_module_version": "1.2.0",
            "grid_template_areas": null,
            "object_position": null,
            "object_fit": null,
            "grid_auto_columns": null,
            "margin": null,
            "display": null,
            "left": null
          }
        },
        "c55ab1679bef43d987b4f24bda06c210": {
          "model_module": "@jupyter-widgets/controls",
          "model_name": "ProgressStyleModel",
          "model_module_version": "1.5.0",
          "state": {
            "_view_name": "StyleView",
            "_model_name": "ProgressStyleModel",
            "description_width": "",
            "_view_module": "@jupyter-widgets/base",
            "_model_module_version": "1.5.0",
            "_view_count": null,
            "_view_module_version": "1.2.0",
            "bar_color": null,
            "_model_module": "@jupyter-widgets/controls"
          }
        },
        "b7129886f94a4728b069f66980f9c2c0": {
          "model_module": "@jupyter-widgets/base",
          "model_name": "LayoutModel",
          "model_module_version": "1.2.0",
          "state": {
            "_view_name": "LayoutView",
            "grid_template_rows": null,
            "right": null,
            "justify_content": null,
            "_view_module": "@jupyter-widgets/base",
            "overflow": null,
            "_model_module_version": "1.2.0",
            "_view_count": null,
            "flex_flow": null,
            "width": null,
            "min_width": null,
            "border": null,
            "align_items": null,
            "bottom": null,
            "_model_module": "@jupyter-widgets/base",
            "top": null,
            "grid_column": null,
            "overflow_y": null,
            "overflow_x": null,
            "grid_auto_flow": null,
            "grid_area": null,
            "grid_template_columns": null,
            "flex": null,
            "_model_name": "LayoutModel",
            "justify_items": null,
            "grid_row": null,
            "max_height": null,
            "align_content": null,
            "visibility": null,
            "align_self": null,
            "height": null,
            "min_height": null,
            "padding": null,
            "grid_auto_rows": null,
            "grid_gap": null,
            "max_width": null,
            "order": null,
            "_view_module_version": "1.2.0",
            "grid_template_areas": null,
            "object_position": null,
            "object_fit": null,
            "grid_auto_columns": null,
            "margin": null,
            "display": null,
            "left": null
          }
        },
        "06b4a299189548a7ad2f356c87825611": {
          "model_module": "@jupyter-widgets/controls",
          "model_name": "DescriptionStyleModel",
          "model_module_version": "1.5.0",
          "state": {
            "_view_name": "StyleView",
            "_model_name": "DescriptionStyleModel",
            "description_width": "",
            "_view_module": "@jupyter-widgets/base",
            "_model_module_version": "1.5.0",
            "_view_count": null,
            "_view_module_version": "1.2.0",
            "_model_module": "@jupyter-widgets/controls"
          }
        },
        "905b0a1baf7f4bd48d134978bd140529": {
          "model_module": "@jupyter-widgets/base",
          "model_name": "LayoutModel",
          "model_module_version": "1.2.0",
          "state": {
            "_view_name": "LayoutView",
            "grid_template_rows": null,
            "right": null,
            "justify_content": null,
            "_view_module": "@jupyter-widgets/base",
            "overflow": null,
            "_model_module_version": "1.2.0",
            "_view_count": null,
            "flex_flow": null,
            "width": null,
            "min_width": null,
            "border": null,
            "align_items": null,
            "bottom": null,
            "_model_module": "@jupyter-widgets/base",
            "top": null,
            "grid_column": null,
            "overflow_y": null,
            "overflow_x": null,
            "grid_auto_flow": null,
            "grid_area": null,
            "grid_template_columns": null,
            "flex": null,
            "_model_name": "LayoutModel",
            "justify_items": null,
            "grid_row": null,
            "max_height": null,
            "align_content": null,
            "visibility": null,
            "align_self": null,
            "height": null,
            "min_height": null,
            "padding": null,
            "grid_auto_rows": null,
            "grid_gap": null,
            "max_width": null,
            "order": null,
            "_view_module_version": "1.2.0",
            "grid_template_areas": null,
            "object_position": null,
            "object_fit": null,
            "grid_auto_columns": null,
            "margin": null,
            "display": null,
            "left": null
          }
        },
        "524c656823ec477983900fd7a71d98d8": {
          "model_module": "@jupyter-widgets/controls",
          "model_name": "HBoxModel",
          "model_module_version": "1.5.0",
          "state": {
            "_view_name": "HBoxView",
            "_dom_classes": [],
            "_model_name": "HBoxModel",
            "_view_module": "@jupyter-widgets/controls",
            "_model_module_version": "1.5.0",
            "_view_count": null,
            "_view_module_version": "1.5.0",
            "box_style": "",
            "layout": "IPY_MODEL_1d2584f2e08b474fb4cf92324a98b8d1",
            "_model_module": "@jupyter-widgets/controls",
            "children": [
              "IPY_MODEL_f3dc54c2213044c190099448aaf86538",
              "IPY_MODEL_1ba834b57fc04c3e9feefe7c7da89944",
              "IPY_MODEL_3120632cfffc4bcca0f4e2f1478694bf"
            ]
          }
        },
        "1d2584f2e08b474fb4cf92324a98b8d1": {
          "model_module": "@jupyter-widgets/base",
          "model_name": "LayoutModel",
          "model_module_version": "1.2.0",
          "state": {
            "_view_name": "LayoutView",
            "grid_template_rows": null,
            "right": null,
            "justify_content": null,
            "_view_module": "@jupyter-widgets/base",
            "overflow": null,
            "_model_module_version": "1.2.0",
            "_view_count": null,
            "flex_flow": null,
            "width": null,
            "min_width": null,
            "border": null,
            "align_items": null,
            "bottom": null,
            "_model_module": "@jupyter-widgets/base",
            "top": null,
            "grid_column": null,
            "overflow_y": null,
            "overflow_x": null,
            "grid_auto_flow": null,
            "grid_area": null,
            "grid_template_columns": null,
            "flex": null,
            "_model_name": "LayoutModel",
            "justify_items": null,
            "grid_row": null,
            "max_height": null,
            "align_content": null,
            "visibility": null,
            "align_self": null,
            "height": null,
            "min_height": null,
            "padding": null,
            "grid_auto_rows": null,
            "grid_gap": null,
            "max_width": null,
            "order": null,
            "_view_module_version": "1.2.0",
            "grid_template_areas": null,
            "object_position": null,
            "object_fit": null,
            "grid_auto_columns": null,
            "margin": null,
            "display": null,
            "left": null
          }
        },
        "f3dc54c2213044c190099448aaf86538": {
          "model_module": "@jupyter-widgets/controls",
          "model_name": "HTMLModel",
          "model_module_version": "1.5.0",
          "state": {
            "_view_name": "HTMLView",
            "style": "IPY_MODEL_23ab1d205ec9460b871599ffe562fade",
            "_dom_classes": [],
            "description": "",
            "_model_name": "HTMLModel",
            "placeholder": "​",
            "_view_module": "@jupyter-widgets/controls",
            "_model_module_version": "1.5.0",
            "value": "Downloading: 100%",
            "_view_count": null,
            "_view_module_version": "1.5.0",
            "description_tooltip": null,
            "_model_module": "@jupyter-widgets/controls",
            "layout": "IPY_MODEL_5a25362ead464f48b9334a5a56905d9e"
          }
        },
        "1ba834b57fc04c3e9feefe7c7da89944": {
          "model_module": "@jupyter-widgets/controls",
          "model_name": "FloatProgressModel",
          "model_module_version": "1.5.0",
          "state": {
            "_view_name": "ProgressView",
            "style": "IPY_MODEL_c7469fe4b9914b3199108421a4848b73",
            "_dom_classes": [],
            "description": "",
            "_model_name": "FloatProgressModel",
            "bar_style": "success",
            "max": 267844284,
            "_view_module": "@jupyter-widgets/controls",
            "_model_module_version": "1.5.0",
            "value": 267844284,
            "_view_count": null,
            "_view_module_version": "1.5.0",
            "orientation": "horizontal",
            "min": 0,
            "description_tooltip": null,
            "_model_module": "@jupyter-widgets/controls",
            "layout": "IPY_MODEL_b7436ef3d9814188b892caa75bee7918"
          }
        },
        "3120632cfffc4bcca0f4e2f1478694bf": {
          "model_module": "@jupyter-widgets/controls",
          "model_name": "HTMLModel",
          "model_module_version": "1.5.0",
          "state": {
            "_view_name": "HTMLView",
            "style": "IPY_MODEL_68a0e0ba347e4a3caf70a64ec5f9c3bd",
            "_dom_classes": [],
            "description": "",
            "_model_name": "HTMLModel",
            "placeholder": "​",
            "_view_module": "@jupyter-widgets/controls",
            "_model_module_version": "1.5.0",
            "value": " 255M/255M [00:15&lt;00:00, 22.9MB/s]",
            "_view_count": null,
            "_view_module_version": "1.5.0",
            "description_tooltip": null,
            "_model_module": "@jupyter-widgets/controls",
            "layout": "IPY_MODEL_1e0bb43ace3e440ba341a1667790fcd7"
          }
        },
        "23ab1d205ec9460b871599ffe562fade": {
          "model_module": "@jupyter-widgets/controls",
          "model_name": "DescriptionStyleModel",
          "model_module_version": "1.5.0",
          "state": {
            "_view_name": "StyleView",
            "_model_name": "DescriptionStyleModel",
            "description_width": "",
            "_view_module": "@jupyter-widgets/base",
            "_model_module_version": "1.5.0",
            "_view_count": null,
            "_view_module_version": "1.2.0",
            "_model_module": "@jupyter-widgets/controls"
          }
        },
        "5a25362ead464f48b9334a5a56905d9e": {
          "model_module": "@jupyter-widgets/base",
          "model_name": "LayoutModel",
          "model_module_version": "1.2.0",
          "state": {
            "_view_name": "LayoutView",
            "grid_template_rows": null,
            "right": null,
            "justify_content": null,
            "_view_module": "@jupyter-widgets/base",
            "overflow": null,
            "_model_module_version": "1.2.0",
            "_view_count": null,
            "flex_flow": null,
            "width": null,
            "min_width": null,
            "border": null,
            "align_items": null,
            "bottom": null,
            "_model_module": "@jupyter-widgets/base",
            "top": null,
            "grid_column": null,
            "overflow_y": null,
            "overflow_x": null,
            "grid_auto_flow": null,
            "grid_area": null,
            "grid_template_columns": null,
            "flex": null,
            "_model_name": "LayoutModel",
            "justify_items": null,
            "grid_row": null,
            "max_height": null,
            "align_content": null,
            "visibility": null,
            "align_self": null,
            "height": null,
            "min_height": null,
            "padding": null,
            "grid_auto_rows": null,
            "grid_gap": null,
            "max_width": null,
            "order": null,
            "_view_module_version": "1.2.0",
            "grid_template_areas": null,
            "object_position": null,
            "object_fit": null,
            "grid_auto_columns": null,
            "margin": null,
            "display": null,
            "left": null
          }
        },
        "c7469fe4b9914b3199108421a4848b73": {
          "model_module": "@jupyter-widgets/controls",
          "model_name": "ProgressStyleModel",
          "model_module_version": "1.5.0",
          "state": {
            "_view_name": "StyleView",
            "_model_name": "ProgressStyleModel",
            "description_width": "",
            "_view_module": "@jupyter-widgets/base",
            "_model_module_version": "1.5.0",
            "_view_count": null,
            "_view_module_version": "1.2.0",
            "bar_color": null,
            "_model_module": "@jupyter-widgets/controls"
          }
        },
        "b7436ef3d9814188b892caa75bee7918": {
          "model_module": "@jupyter-widgets/base",
          "model_name": "LayoutModel",
          "model_module_version": "1.2.0",
          "state": {
            "_view_name": "LayoutView",
            "grid_template_rows": null,
            "right": null,
            "justify_content": null,
            "_view_module": "@jupyter-widgets/base",
            "overflow": null,
            "_model_module_version": "1.2.0",
            "_view_count": null,
            "flex_flow": null,
            "width": null,
            "min_width": null,
            "border": null,
            "align_items": null,
            "bottom": null,
            "_model_module": "@jupyter-widgets/base",
            "top": null,
            "grid_column": null,
            "overflow_y": null,
            "overflow_x": null,
            "grid_auto_flow": null,
            "grid_area": null,
            "grid_template_columns": null,
            "flex": null,
            "_model_name": "LayoutModel",
            "justify_items": null,
            "grid_row": null,
            "max_height": null,
            "align_content": null,
            "visibility": null,
            "align_self": null,
            "height": null,
            "min_height": null,
            "padding": null,
            "grid_auto_rows": null,
            "grid_gap": null,
            "max_width": null,
            "order": null,
            "_view_module_version": "1.2.0",
            "grid_template_areas": null,
            "object_position": null,
            "object_fit": null,
            "grid_auto_columns": null,
            "margin": null,
            "display": null,
            "left": null
          }
        },
        "68a0e0ba347e4a3caf70a64ec5f9c3bd": {
          "model_module": "@jupyter-widgets/controls",
          "model_name": "DescriptionStyleModel",
          "model_module_version": "1.5.0",
          "state": {
            "_view_name": "StyleView",
            "_model_name": "DescriptionStyleModel",
            "description_width": "",
            "_view_module": "@jupyter-widgets/base",
            "_model_module_version": "1.5.0",
            "_view_count": null,
            "_view_module_version": "1.2.0",
            "_model_module": "@jupyter-widgets/controls"
          }
        },
        "1e0bb43ace3e440ba341a1667790fcd7": {
          "model_module": "@jupyter-widgets/base",
          "model_name": "LayoutModel",
          "model_module_version": "1.2.0",
          "state": {
            "_view_name": "LayoutView",
            "grid_template_rows": null,
            "right": null,
            "justify_content": null,
            "_view_module": "@jupyter-widgets/base",
            "overflow": null,
            "_model_module_version": "1.2.0",
            "_view_count": null,
            "flex_flow": null,
            "width": null,
            "min_width": null,
            "border": null,
            "align_items": null,
            "bottom": null,
            "_model_module": "@jupyter-widgets/base",
            "top": null,
            "grid_column": null,
            "overflow_y": null,
            "overflow_x": null,
            "grid_auto_flow": null,
            "grid_area": null,
            "grid_template_columns": null,
            "flex": null,
            "_model_name": "LayoutModel",
            "justify_items": null,
            "grid_row": null,
            "max_height": null,
            "align_content": null,
            "visibility": null,
            "align_self": null,
            "height": null,
            "min_height": null,
            "padding": null,
            "grid_auto_rows": null,
            "grid_gap": null,
            "max_width": null,
            "order": null,
            "_view_module_version": "1.2.0",
            "grid_template_areas": null,
            "object_position": null,
            "object_fit": null,
            "grid_auto_columns": null,
            "margin": null,
            "display": null,
            "left": null
          }
        },
        "6372c07d75b8465bafd6b1915587e6af": {
          "model_module": "@jupyter-widgets/controls",
          "model_name": "HBoxModel",
          "model_module_version": "1.5.0",
          "state": {
            "_view_name": "HBoxView",
            "_dom_classes": [],
            "_model_name": "HBoxModel",
            "_view_module": "@jupyter-widgets/controls",
            "_model_module_version": "1.5.0",
            "_view_count": null,
            "_view_module_version": "1.5.0",
            "box_style": "",
            "layout": "IPY_MODEL_3c0b8681bac645a09319a22415c9c6d4",
            "_model_module": "@jupyter-widgets/controls",
            "children": [
              "IPY_MODEL_44e8cae071c8440fb6316e4ecb30afc3",
              "IPY_MODEL_c9cad508f87649aa8b3b424ad3d3e8b4",
              "IPY_MODEL_96a881c734f541d48f8ab70b9e07badf"
            ]
          }
        },
        "3c0b8681bac645a09319a22415c9c6d4": {
          "model_module": "@jupyter-widgets/base",
          "model_name": "LayoutModel",
          "model_module_version": "1.2.0",
          "state": {
            "_view_name": "LayoutView",
            "grid_template_rows": null,
            "right": null,
            "justify_content": null,
            "_view_module": "@jupyter-widgets/base",
            "overflow": null,
            "_model_module_version": "1.2.0",
            "_view_count": null,
            "flex_flow": null,
            "width": null,
            "min_width": null,
            "border": null,
            "align_items": null,
            "bottom": null,
            "_model_module": "@jupyter-widgets/base",
            "top": null,
            "grid_column": null,
            "overflow_y": null,
            "overflow_x": null,
            "grid_auto_flow": null,
            "grid_area": null,
            "grid_template_columns": null,
            "flex": null,
            "_model_name": "LayoutModel",
            "justify_items": null,
            "grid_row": null,
            "max_height": null,
            "align_content": null,
            "visibility": null,
            "align_self": null,
            "height": null,
            "min_height": null,
            "padding": null,
            "grid_auto_rows": null,
            "grid_gap": null,
            "max_width": null,
            "order": null,
            "_view_module_version": "1.2.0",
            "grid_template_areas": null,
            "object_position": null,
            "object_fit": null,
            "grid_auto_columns": null,
            "margin": null,
            "display": null,
            "left": null
          }
        },
        "44e8cae071c8440fb6316e4ecb30afc3": {
          "model_module": "@jupyter-widgets/controls",
          "model_name": "HTMLModel",
          "model_module_version": "1.5.0",
          "state": {
            "_view_name": "HTMLView",
            "style": "IPY_MODEL_06a37923410946e7a3689d47197e7967",
            "_dom_classes": [],
            "description": "",
            "_model_name": "HTMLModel",
            "placeholder": "​",
            "_view_module": "@jupyter-widgets/controls",
            "_model_module_version": "1.5.0",
            "value": "Downloading: 100%",
            "_view_count": null,
            "_view_module_version": "1.5.0",
            "description_tooltip": null,
            "_model_module": "@jupyter-widgets/controls",
            "layout": "IPY_MODEL_e5d16b3474fc4a979b84b9edfcdf627a"
          }
        },
        "c9cad508f87649aa8b3b424ad3d3e8b4": {
          "model_module": "@jupyter-widgets/controls",
          "model_name": "FloatProgressModel",
          "model_module_version": "1.5.0",
          "state": {
            "_view_name": "ProgressView",
            "style": "IPY_MODEL_b0cc310e14f94e709dc74c360d941961",
            "_dom_classes": [],
            "description": "",
            "_model_name": "FloatProgressModel",
            "bar_style": "success",
            "max": 48,
            "_view_module": "@jupyter-widgets/controls",
            "_model_module_version": "1.5.0",
            "value": 48,
            "_view_count": null,
            "_view_module_version": "1.5.0",
            "orientation": "horizontal",
            "min": 0,
            "description_tooltip": null,
            "_model_module": "@jupyter-widgets/controls",
            "layout": "IPY_MODEL_f36823190bd64d22be65ff3744dcb064"
          }
        },
        "96a881c734f541d48f8ab70b9e07badf": {
          "model_module": "@jupyter-widgets/controls",
          "model_name": "HTMLModel",
          "model_module_version": "1.5.0",
          "state": {
            "_view_name": "HTMLView",
            "style": "IPY_MODEL_3fce39f00cc3448797b94ca817ad5871",
            "_dom_classes": [],
            "description": "",
            "_model_name": "HTMLModel",
            "placeholder": "​",
            "_view_module": "@jupyter-widgets/controls",
            "_model_module_version": "1.5.0",
            "value": " 48.0/48.0 [00:00&lt;00:00, 758B/s]",
            "_view_count": null,
            "_view_module_version": "1.5.0",
            "description_tooltip": null,
            "_model_module": "@jupyter-widgets/controls",
            "layout": "IPY_MODEL_c5ba5839a00c49dcb517ab4f268d5d31"
          }
        },
        "06a37923410946e7a3689d47197e7967": {
          "model_module": "@jupyter-widgets/controls",
          "model_name": "DescriptionStyleModel",
          "model_module_version": "1.5.0",
          "state": {
            "_view_name": "StyleView",
            "_model_name": "DescriptionStyleModel",
            "description_width": "",
            "_view_module": "@jupyter-widgets/base",
            "_model_module_version": "1.5.0",
            "_view_count": null,
            "_view_module_version": "1.2.0",
            "_model_module": "@jupyter-widgets/controls"
          }
        },
        "e5d16b3474fc4a979b84b9edfcdf627a": {
          "model_module": "@jupyter-widgets/base",
          "model_name": "LayoutModel",
          "model_module_version": "1.2.0",
          "state": {
            "_view_name": "LayoutView",
            "grid_template_rows": null,
            "right": null,
            "justify_content": null,
            "_view_module": "@jupyter-widgets/base",
            "overflow": null,
            "_model_module_version": "1.2.0",
            "_view_count": null,
            "flex_flow": null,
            "width": null,
            "min_width": null,
            "border": null,
            "align_items": null,
            "bottom": null,
            "_model_module": "@jupyter-widgets/base",
            "top": null,
            "grid_column": null,
            "overflow_y": null,
            "overflow_x": null,
            "grid_auto_flow": null,
            "grid_area": null,
            "grid_template_columns": null,
            "flex": null,
            "_model_name": "LayoutModel",
            "justify_items": null,
            "grid_row": null,
            "max_height": null,
            "align_content": null,
            "visibility": null,
            "align_self": null,
            "height": null,
            "min_height": null,
            "padding": null,
            "grid_auto_rows": null,
            "grid_gap": null,
            "max_width": null,
            "order": null,
            "_view_module_version": "1.2.0",
            "grid_template_areas": null,
            "object_position": null,
            "object_fit": null,
            "grid_auto_columns": null,
            "margin": null,
            "display": null,
            "left": null
          }
        },
        "b0cc310e14f94e709dc74c360d941961": {
          "model_module": "@jupyter-widgets/controls",
          "model_name": "ProgressStyleModel",
          "model_module_version": "1.5.0",
          "state": {
            "_view_name": "StyleView",
            "_model_name": "ProgressStyleModel",
            "description_width": "",
            "_view_module": "@jupyter-widgets/base",
            "_model_module_version": "1.5.0",
            "_view_count": null,
            "_view_module_version": "1.2.0",
            "bar_color": null,
            "_model_module": "@jupyter-widgets/controls"
          }
        },
        "f36823190bd64d22be65ff3744dcb064": {
          "model_module": "@jupyter-widgets/base",
          "model_name": "LayoutModel",
          "model_module_version": "1.2.0",
          "state": {
            "_view_name": "LayoutView",
            "grid_template_rows": null,
            "right": null,
            "justify_content": null,
            "_view_module": "@jupyter-widgets/base",
            "overflow": null,
            "_model_module_version": "1.2.0",
            "_view_count": null,
            "flex_flow": null,
            "width": null,
            "min_width": null,
            "border": null,
            "align_items": null,
            "bottom": null,
            "_model_module": "@jupyter-widgets/base",
            "top": null,
            "grid_column": null,
            "overflow_y": null,
            "overflow_x": null,
            "grid_auto_flow": null,
            "grid_area": null,
            "grid_template_columns": null,
            "flex": null,
            "_model_name": "LayoutModel",
            "justify_items": null,
            "grid_row": null,
            "max_height": null,
            "align_content": null,
            "visibility": null,
            "align_self": null,
            "height": null,
            "min_height": null,
            "padding": null,
            "grid_auto_rows": null,
            "grid_gap": null,
            "max_width": null,
            "order": null,
            "_view_module_version": "1.2.0",
            "grid_template_areas": null,
            "object_position": null,
            "object_fit": null,
            "grid_auto_columns": null,
            "margin": null,
            "display": null,
            "left": null
          }
        },
        "3fce39f00cc3448797b94ca817ad5871": {
          "model_module": "@jupyter-widgets/controls",
          "model_name": "DescriptionStyleModel",
          "model_module_version": "1.5.0",
          "state": {
            "_view_name": "StyleView",
            "_model_name": "DescriptionStyleModel",
            "description_width": "",
            "_view_module": "@jupyter-widgets/base",
            "_model_module_version": "1.5.0",
            "_view_count": null,
            "_view_module_version": "1.2.0",
            "_model_module": "@jupyter-widgets/controls"
          }
        },
        "c5ba5839a00c49dcb517ab4f268d5d31": {
          "model_module": "@jupyter-widgets/base",
          "model_name": "LayoutModel",
          "model_module_version": "1.2.0",
          "state": {
            "_view_name": "LayoutView",
            "grid_template_rows": null,
            "right": null,
            "justify_content": null,
            "_view_module": "@jupyter-widgets/base",
            "overflow": null,
            "_model_module_version": "1.2.0",
            "_view_count": null,
            "flex_flow": null,
            "width": null,
            "min_width": null,
            "border": null,
            "align_items": null,
            "bottom": null,
            "_model_module": "@jupyter-widgets/base",
            "top": null,
            "grid_column": null,
            "overflow_y": null,
            "overflow_x": null,
            "grid_auto_flow": null,
            "grid_area": null,
            "grid_template_columns": null,
            "flex": null,
            "_model_name": "LayoutModel",
            "justify_items": null,
            "grid_row": null,
            "max_height": null,
            "align_content": null,
            "visibility": null,
            "align_self": null,
            "height": null,
            "min_height": null,
            "padding": null,
            "grid_auto_rows": null,
            "grid_gap": null,
            "max_width": null,
            "order": null,
            "_view_module_version": "1.2.0",
            "grid_template_areas": null,
            "object_position": null,
            "object_fit": null,
            "grid_auto_columns": null,
            "margin": null,
            "display": null,
            "left": null
          }
        },
        "65df2fe3ee8046168b23df689ed9fac5": {
          "model_module": "@jupyter-widgets/controls",
          "model_name": "HBoxModel",
          "model_module_version": "1.5.0",
          "state": {
            "_view_name": "HBoxView",
            "_dom_classes": [],
            "_model_name": "HBoxModel",
            "_view_module": "@jupyter-widgets/controls",
            "_model_module_version": "1.5.0",
            "_view_count": null,
            "_view_module_version": "1.5.0",
            "box_style": "",
            "layout": "IPY_MODEL_cd7295e87b7c4ae4bdb75a17cee5c55b",
            "_model_module": "@jupyter-widgets/controls",
            "children": [
              "IPY_MODEL_3ebac33b257c4794a2d466c81f7c5cce",
              "IPY_MODEL_1a4c6a7fa70145e8a06b4883e7f03217",
              "IPY_MODEL_1b90f33b36b84586bf6efc72b5caedf6"
            ]
          }
        },
        "cd7295e87b7c4ae4bdb75a17cee5c55b": {
          "model_module": "@jupyter-widgets/base",
          "model_name": "LayoutModel",
          "model_module_version": "1.2.0",
          "state": {
            "_view_name": "LayoutView",
            "grid_template_rows": null,
            "right": null,
            "justify_content": null,
            "_view_module": "@jupyter-widgets/base",
            "overflow": null,
            "_model_module_version": "1.2.0",
            "_view_count": null,
            "flex_flow": null,
            "width": null,
            "min_width": null,
            "border": null,
            "align_items": null,
            "bottom": null,
            "_model_module": "@jupyter-widgets/base",
            "top": null,
            "grid_column": null,
            "overflow_y": null,
            "overflow_x": null,
            "grid_auto_flow": null,
            "grid_area": null,
            "grid_template_columns": null,
            "flex": null,
            "_model_name": "LayoutModel",
            "justify_items": null,
            "grid_row": null,
            "max_height": null,
            "align_content": null,
            "visibility": null,
            "align_self": null,
            "height": null,
            "min_height": null,
            "padding": null,
            "grid_auto_rows": null,
            "grid_gap": null,
            "max_width": null,
            "order": null,
            "_view_module_version": "1.2.0",
            "grid_template_areas": null,
            "object_position": null,
            "object_fit": null,
            "grid_auto_columns": null,
            "margin": null,
            "display": null,
            "left": null
          }
        },
        "3ebac33b257c4794a2d466c81f7c5cce": {
          "model_module": "@jupyter-widgets/controls",
          "model_name": "HTMLModel",
          "model_module_version": "1.5.0",
          "state": {
            "_view_name": "HTMLView",
            "style": "IPY_MODEL_3a9a4bfd10334c9995db78f6f03c2883",
            "_dom_classes": [],
            "description": "",
            "_model_name": "HTMLModel",
            "placeholder": "​",
            "_view_module": "@jupyter-widgets/controls",
            "_model_module_version": "1.5.0",
            "value": "Downloading: 100%",
            "_view_count": null,
            "_view_module_version": "1.5.0",
            "description_tooltip": null,
            "_model_module": "@jupyter-widgets/controls",
            "layout": "IPY_MODEL_f9d3cc22568b44d8b508ddcdcbc4e7aa"
          }
        },
        "1a4c6a7fa70145e8a06b4883e7f03217": {
          "model_module": "@jupyter-widgets/controls",
          "model_name": "FloatProgressModel",
          "model_module_version": "1.5.0",
          "state": {
            "_view_name": "ProgressView",
            "style": "IPY_MODEL_1d03407f0037459bab8683f35cc77c36",
            "_dom_classes": [],
            "description": "",
            "_model_name": "FloatProgressModel",
            "bar_style": "success",
            "max": 231508,
            "_view_module": "@jupyter-widgets/controls",
            "_model_module_version": "1.5.0",
            "value": 231508,
            "_view_count": null,
            "_view_module_version": "1.5.0",
            "orientation": "horizontal",
            "min": 0,
            "description_tooltip": null,
            "_model_module": "@jupyter-widgets/controls",
            "layout": "IPY_MODEL_01cc7d4def984a0ca77e365ea4644234"
          }
        },
        "1b90f33b36b84586bf6efc72b5caedf6": {
          "model_module": "@jupyter-widgets/controls",
          "model_name": "HTMLModel",
          "model_module_version": "1.5.0",
          "state": {
            "_view_name": "HTMLView",
            "style": "IPY_MODEL_75ac66bc27074059b050636d50178ffc",
            "_dom_classes": [],
            "description": "",
            "_model_name": "HTMLModel",
            "placeholder": "​",
            "_view_module": "@jupyter-widgets/controls",
            "_model_module_version": "1.5.0",
            "value": " 226k/226k [00:00&lt;00:00, 962kB/s]",
            "_view_count": null,
            "_view_module_version": "1.5.0",
            "description_tooltip": null,
            "_model_module": "@jupyter-widgets/controls",
            "layout": "IPY_MODEL_81a2fc8c87b54e33a173253cb0949f80"
          }
        },
        "3a9a4bfd10334c9995db78f6f03c2883": {
          "model_module": "@jupyter-widgets/controls",
          "model_name": "DescriptionStyleModel",
          "model_module_version": "1.5.0",
          "state": {
            "_view_name": "StyleView",
            "_model_name": "DescriptionStyleModel",
            "description_width": "",
            "_view_module": "@jupyter-widgets/base",
            "_model_module_version": "1.5.0",
            "_view_count": null,
            "_view_module_version": "1.2.0",
            "_model_module": "@jupyter-widgets/controls"
          }
        },
        "f9d3cc22568b44d8b508ddcdcbc4e7aa": {
          "model_module": "@jupyter-widgets/base",
          "model_name": "LayoutModel",
          "model_module_version": "1.2.0",
          "state": {
            "_view_name": "LayoutView",
            "grid_template_rows": null,
            "right": null,
            "justify_content": null,
            "_view_module": "@jupyter-widgets/base",
            "overflow": null,
            "_model_module_version": "1.2.0",
            "_view_count": null,
            "flex_flow": null,
            "width": null,
            "min_width": null,
            "border": null,
            "align_items": null,
            "bottom": null,
            "_model_module": "@jupyter-widgets/base",
            "top": null,
            "grid_column": null,
            "overflow_y": null,
            "overflow_x": null,
            "grid_auto_flow": null,
            "grid_area": null,
            "grid_template_columns": null,
            "flex": null,
            "_model_name": "LayoutModel",
            "justify_items": null,
            "grid_row": null,
            "max_height": null,
            "align_content": null,
            "visibility": null,
            "align_self": null,
            "height": null,
            "min_height": null,
            "padding": null,
            "grid_auto_rows": null,
            "grid_gap": null,
            "max_width": null,
            "order": null,
            "_view_module_version": "1.2.0",
            "grid_template_areas": null,
            "object_position": null,
            "object_fit": null,
            "grid_auto_columns": null,
            "margin": null,
            "display": null,
            "left": null
          }
        },
        "1d03407f0037459bab8683f35cc77c36": {
          "model_module": "@jupyter-widgets/controls",
          "model_name": "ProgressStyleModel",
          "model_module_version": "1.5.0",
          "state": {
            "_view_name": "StyleView",
            "_model_name": "ProgressStyleModel",
            "description_width": "",
            "_view_module": "@jupyter-widgets/base",
            "_model_module_version": "1.5.0",
            "_view_count": null,
            "_view_module_version": "1.2.0",
            "bar_color": null,
            "_model_module": "@jupyter-widgets/controls"
          }
        },
        "01cc7d4def984a0ca77e365ea4644234": {
          "model_module": "@jupyter-widgets/base",
          "model_name": "LayoutModel",
          "model_module_version": "1.2.0",
          "state": {
            "_view_name": "LayoutView",
            "grid_template_rows": null,
            "right": null,
            "justify_content": null,
            "_view_module": "@jupyter-widgets/base",
            "overflow": null,
            "_model_module_version": "1.2.0",
            "_view_count": null,
            "flex_flow": null,
            "width": null,
            "min_width": null,
            "border": null,
            "align_items": null,
            "bottom": null,
            "_model_module": "@jupyter-widgets/base",
            "top": null,
            "grid_column": null,
            "overflow_y": null,
            "overflow_x": null,
            "grid_auto_flow": null,
            "grid_area": null,
            "grid_template_columns": null,
            "flex": null,
            "_model_name": "LayoutModel",
            "justify_items": null,
            "grid_row": null,
            "max_height": null,
            "align_content": null,
            "visibility": null,
            "align_self": null,
            "height": null,
            "min_height": null,
            "padding": null,
            "grid_auto_rows": null,
            "grid_gap": null,
            "max_width": null,
            "order": null,
            "_view_module_version": "1.2.0",
            "grid_template_areas": null,
            "object_position": null,
            "object_fit": null,
            "grid_auto_columns": null,
            "margin": null,
            "display": null,
            "left": null
          }
        },
        "75ac66bc27074059b050636d50178ffc": {
          "model_module": "@jupyter-widgets/controls",
          "model_name": "DescriptionStyleModel",
          "model_module_version": "1.5.0",
          "state": {
            "_view_name": "StyleView",
            "_model_name": "DescriptionStyleModel",
            "description_width": "",
            "_view_module": "@jupyter-widgets/base",
            "_model_module_version": "1.5.0",
            "_view_count": null,
            "_view_module_version": "1.2.0",
            "_model_module": "@jupyter-widgets/controls"
          }
        },
        "81a2fc8c87b54e33a173253cb0949f80": {
          "model_module": "@jupyter-widgets/base",
          "model_name": "LayoutModel",
          "model_module_version": "1.2.0",
          "state": {
            "_view_name": "LayoutView",
            "grid_template_rows": null,
            "right": null,
            "justify_content": null,
            "_view_module": "@jupyter-widgets/base",
            "overflow": null,
            "_model_module_version": "1.2.0",
            "_view_count": null,
            "flex_flow": null,
            "width": null,
            "min_width": null,
            "border": null,
            "align_items": null,
            "bottom": null,
            "_model_module": "@jupyter-widgets/base",
            "top": null,
            "grid_column": null,
            "overflow_y": null,
            "overflow_x": null,
            "grid_auto_flow": null,
            "grid_area": null,
            "grid_template_columns": null,
            "flex": null,
            "_model_name": "LayoutModel",
            "justify_items": null,
            "grid_row": null,
            "max_height": null,
            "align_content": null,
            "visibility": null,
            "align_self": null,
            "height": null,
            "min_height": null,
            "padding": null,
            "grid_auto_rows": null,
            "grid_gap": null,
            "max_width": null,
            "order": null,
            "_view_module_version": "1.2.0",
            "grid_template_areas": null,
            "object_position": null,
            "object_fit": null,
            "grid_auto_columns": null,
            "margin": null,
            "display": null,
            "left": null
          }
        },
        "5c4d0ecd68074796a53dc15400a22c9d": {
          "model_module": "@jupyter-widgets/controls",
          "model_name": "HBoxModel",
          "model_module_version": "1.5.0",
          "state": {
            "_view_name": "HBoxView",
            "_dom_classes": [],
            "_model_name": "HBoxModel",
            "_view_module": "@jupyter-widgets/controls",
            "_model_module_version": "1.5.0",
            "_view_count": null,
            "_view_module_version": "1.5.0",
            "box_style": "",
            "layout": "IPY_MODEL_1e488ad0c7894cffbc1a25926d7a9a40",
            "_model_module": "@jupyter-widgets/controls",
            "children": [
              "IPY_MODEL_bcf67e269918481099e5c95db33792ce",
              "IPY_MODEL_9524703ba72d43f0b00f6c66a73c5b20",
              "IPY_MODEL_7fb0618d1380474085bbeaa9278af301"
            ]
          }
        },
        "1e488ad0c7894cffbc1a25926d7a9a40": {
          "model_module": "@jupyter-widgets/base",
          "model_name": "LayoutModel",
          "model_module_version": "1.2.0",
          "state": {
            "_view_name": "LayoutView",
            "grid_template_rows": null,
            "right": null,
            "justify_content": null,
            "_view_module": "@jupyter-widgets/base",
            "overflow": null,
            "_model_module_version": "1.2.0",
            "_view_count": null,
            "flex_flow": null,
            "width": null,
            "min_width": null,
            "border": null,
            "align_items": null,
            "bottom": null,
            "_model_module": "@jupyter-widgets/base",
            "top": null,
            "grid_column": null,
            "overflow_y": null,
            "overflow_x": null,
            "grid_auto_flow": null,
            "grid_area": null,
            "grid_template_columns": null,
            "flex": null,
            "_model_name": "LayoutModel",
            "justify_items": null,
            "grid_row": null,
            "max_height": null,
            "align_content": null,
            "visibility": null,
            "align_self": null,
            "height": null,
            "min_height": null,
            "padding": null,
            "grid_auto_rows": null,
            "grid_gap": null,
            "max_width": null,
            "order": null,
            "_view_module_version": "1.2.0",
            "grid_template_areas": null,
            "object_position": null,
            "object_fit": null,
            "grid_auto_columns": null,
            "margin": null,
            "display": null,
            "left": null
          }
        },
        "bcf67e269918481099e5c95db33792ce": {
          "model_module": "@jupyter-widgets/controls",
          "model_name": "HTMLModel",
          "model_module_version": "1.5.0",
          "state": {
            "_view_name": "HTMLView",
            "style": "IPY_MODEL_11df322df3f2405bbd11198ea70b5be5",
            "_dom_classes": [],
            "description": "",
            "_model_name": "HTMLModel",
            "placeholder": "​",
            "_view_module": "@jupyter-widgets/controls",
            "_model_module_version": "1.5.0",
            "value": "Downloading: 100%",
            "_view_count": null,
            "_view_module_version": "1.5.0",
            "description_tooltip": null,
            "_model_module": "@jupyter-widgets/controls",
            "layout": "IPY_MODEL_3ac22793187d4e339a5db9ba090c4a46"
          }
        },
        "9524703ba72d43f0b00f6c66a73c5b20": {
          "model_module": "@jupyter-widgets/controls",
          "model_name": "FloatProgressModel",
          "model_module_version": "1.5.0",
          "state": {
            "_view_name": "ProgressView",
            "style": "IPY_MODEL_f37396bb2df04bc6bd563d9752e85ae0",
            "_dom_classes": [],
            "description": "",
            "_model_name": "FloatProgressModel",
            "bar_style": "success",
            "max": 480,
            "_view_module": "@jupyter-widgets/controls",
            "_model_module_version": "1.5.0",
            "value": 480,
            "_view_count": null,
            "_view_module_version": "1.5.0",
            "orientation": "horizontal",
            "min": 0,
            "description_tooltip": null,
            "_model_module": "@jupyter-widgets/controls",
            "layout": "IPY_MODEL_52241ffab74e45cdbaf69117099978a6"
          }
        },
        "7fb0618d1380474085bbeaa9278af301": {
          "model_module": "@jupyter-widgets/controls",
          "model_name": "HTMLModel",
          "model_module_version": "1.5.0",
          "state": {
            "_view_name": "HTMLView",
            "style": "IPY_MODEL_ace0b3c8b9f6446ca3e741079795e280",
            "_dom_classes": [],
            "description": "",
            "_model_name": "HTMLModel",
            "placeholder": "​",
            "_view_module": "@jupyter-widgets/controls",
            "_model_module_version": "1.5.0",
            "value": " 480/480 [00:00&lt;00:00, 8.84kB/s]",
            "_view_count": null,
            "_view_module_version": "1.5.0",
            "description_tooltip": null,
            "_model_module": "@jupyter-widgets/controls",
            "layout": "IPY_MODEL_d4e4c109962a4e6c90715cebb7a7fd17"
          }
        },
        "11df322df3f2405bbd11198ea70b5be5": {
          "model_module": "@jupyter-widgets/controls",
          "model_name": "DescriptionStyleModel",
          "model_module_version": "1.5.0",
          "state": {
            "_view_name": "StyleView",
            "_model_name": "DescriptionStyleModel",
            "description_width": "",
            "_view_module": "@jupyter-widgets/base",
            "_model_module_version": "1.5.0",
            "_view_count": null,
            "_view_module_version": "1.2.0",
            "_model_module": "@jupyter-widgets/controls"
          }
        },
        "3ac22793187d4e339a5db9ba090c4a46": {
          "model_module": "@jupyter-widgets/base",
          "model_name": "LayoutModel",
          "model_module_version": "1.2.0",
          "state": {
            "_view_name": "LayoutView",
            "grid_template_rows": null,
            "right": null,
            "justify_content": null,
            "_view_module": "@jupyter-widgets/base",
            "overflow": null,
            "_model_module_version": "1.2.0",
            "_view_count": null,
            "flex_flow": null,
            "width": null,
            "min_width": null,
            "border": null,
            "align_items": null,
            "bottom": null,
            "_model_module": "@jupyter-widgets/base",
            "top": null,
            "grid_column": null,
            "overflow_y": null,
            "overflow_x": null,
            "grid_auto_flow": null,
            "grid_area": null,
            "grid_template_columns": null,
            "flex": null,
            "_model_name": "LayoutModel",
            "justify_items": null,
            "grid_row": null,
            "max_height": null,
            "align_content": null,
            "visibility": null,
            "align_self": null,
            "height": null,
            "min_height": null,
            "padding": null,
            "grid_auto_rows": null,
            "grid_gap": null,
            "max_width": null,
            "order": null,
            "_view_module_version": "1.2.0",
            "grid_template_areas": null,
            "object_position": null,
            "object_fit": null,
            "grid_auto_columns": null,
            "margin": null,
            "display": null,
            "left": null
          }
        },
        "f37396bb2df04bc6bd563d9752e85ae0": {
          "model_module": "@jupyter-widgets/controls",
          "model_name": "ProgressStyleModel",
          "model_module_version": "1.5.0",
          "state": {
            "_view_name": "StyleView",
            "_model_name": "ProgressStyleModel",
            "description_width": "",
            "_view_module": "@jupyter-widgets/base",
            "_model_module_version": "1.5.0",
            "_view_count": null,
            "_view_module_version": "1.2.0",
            "bar_color": null,
            "_model_module": "@jupyter-widgets/controls"
          }
        },
        "52241ffab74e45cdbaf69117099978a6": {
          "model_module": "@jupyter-widgets/base",
          "model_name": "LayoutModel",
          "model_module_version": "1.2.0",
          "state": {
            "_view_name": "LayoutView",
            "grid_template_rows": null,
            "right": null,
            "justify_content": null,
            "_view_module": "@jupyter-widgets/base",
            "overflow": null,
            "_model_module_version": "1.2.0",
            "_view_count": null,
            "flex_flow": null,
            "width": null,
            "min_width": null,
            "border": null,
            "align_items": null,
            "bottom": null,
            "_model_module": "@jupyter-widgets/base",
            "top": null,
            "grid_column": null,
            "overflow_y": null,
            "overflow_x": null,
            "grid_auto_flow": null,
            "grid_area": null,
            "grid_template_columns": null,
            "flex": null,
            "_model_name": "LayoutModel",
            "justify_items": null,
            "grid_row": null,
            "max_height": null,
            "align_content": null,
            "visibility": null,
            "align_self": null,
            "height": null,
            "min_height": null,
            "padding": null,
            "grid_auto_rows": null,
            "grid_gap": null,
            "max_width": null,
            "order": null,
            "_view_module_version": "1.2.0",
            "grid_template_areas": null,
            "object_position": null,
            "object_fit": null,
            "grid_auto_columns": null,
            "margin": null,
            "display": null,
            "left": null
          }
        },
        "ace0b3c8b9f6446ca3e741079795e280": {
          "model_module": "@jupyter-widgets/controls",
          "model_name": "DescriptionStyleModel",
          "model_module_version": "1.5.0",
          "state": {
            "_view_name": "StyleView",
            "_model_name": "DescriptionStyleModel",
            "description_width": "",
            "_view_module": "@jupyter-widgets/base",
            "_model_module_version": "1.5.0",
            "_view_count": null,
            "_view_module_version": "1.2.0",
            "_model_module": "@jupyter-widgets/controls"
          }
        },
        "d4e4c109962a4e6c90715cebb7a7fd17": {
          "model_module": "@jupyter-widgets/base",
          "model_name": "LayoutModel",
          "model_module_version": "1.2.0",
          "state": {
            "_view_name": "LayoutView",
            "grid_template_rows": null,
            "right": null,
            "justify_content": null,
            "_view_module": "@jupyter-widgets/base",
            "overflow": null,
            "_model_module_version": "1.2.0",
            "_view_count": null,
            "flex_flow": null,
            "width": null,
            "min_width": null,
            "border": null,
            "align_items": null,
            "bottom": null,
            "_model_module": "@jupyter-widgets/base",
            "top": null,
            "grid_column": null,
            "overflow_y": null,
            "overflow_x": null,
            "grid_auto_flow": null,
            "grid_area": null,
            "grid_template_columns": null,
            "flex": null,
            "_model_name": "LayoutModel",
            "justify_items": null,
            "grid_row": null,
            "max_height": null,
            "align_content": null,
            "visibility": null,
            "align_self": null,
            "height": null,
            "min_height": null,
            "padding": null,
            "grid_auto_rows": null,
            "grid_gap": null,
            "max_width": null,
            "order": null,
            "_view_module_version": "1.2.0",
            "grid_template_areas": null,
            "object_position": null,
            "object_fit": null,
            "grid_auto_columns": null,
            "margin": null,
            "display": null,
            "left": null
          }
        },
        "f097cad76b8446048f42d8d0e109e670": {
          "model_module": "@jupyter-widgets/controls",
          "model_name": "HBoxModel",
          "model_module_version": "1.5.0",
          "state": {
            "_view_name": "HBoxView",
            "_dom_classes": [],
            "_model_name": "HBoxModel",
            "_view_module": "@jupyter-widgets/controls",
            "_model_module_version": "1.5.0",
            "_view_count": null,
            "_view_module_version": "1.5.0",
            "box_style": "",
            "layout": "IPY_MODEL_e08e438de95c4a5292ac73b77858b07b",
            "_model_module": "@jupyter-widgets/controls",
            "children": [
              "IPY_MODEL_1e7d263fe9434ea0afc2aeb15aee93a9",
              "IPY_MODEL_e1e92ce4b29642eda9ee6eb592faff3b",
              "IPY_MODEL_d7aa6a01d172434086f9b0841a7955a4"
            ]
          }
        },
        "e08e438de95c4a5292ac73b77858b07b": {
          "model_module": "@jupyter-widgets/base",
          "model_name": "LayoutModel",
          "model_module_version": "1.2.0",
          "state": {
            "_view_name": "LayoutView",
            "grid_template_rows": null,
            "right": null,
            "justify_content": null,
            "_view_module": "@jupyter-widgets/base",
            "overflow": null,
            "_model_module_version": "1.2.0",
            "_view_count": null,
            "flex_flow": null,
            "width": null,
            "min_width": null,
            "border": null,
            "align_items": null,
            "bottom": null,
            "_model_module": "@jupyter-widgets/base",
            "top": null,
            "grid_column": null,
            "overflow_y": null,
            "overflow_x": null,
            "grid_auto_flow": null,
            "grid_area": null,
            "grid_template_columns": null,
            "flex": null,
            "_model_name": "LayoutModel",
            "justify_items": null,
            "grid_row": null,
            "max_height": null,
            "align_content": null,
            "visibility": null,
            "align_self": null,
            "height": null,
            "min_height": null,
            "padding": null,
            "grid_auto_rows": null,
            "grid_gap": null,
            "max_width": null,
            "order": null,
            "_view_module_version": "1.2.0",
            "grid_template_areas": null,
            "object_position": null,
            "object_fit": null,
            "grid_auto_columns": null,
            "margin": null,
            "display": null,
            "left": null
          }
        },
        "1e7d263fe9434ea0afc2aeb15aee93a9": {
          "model_module": "@jupyter-widgets/controls",
          "model_name": "HTMLModel",
          "model_module_version": "1.5.0",
          "state": {
            "_view_name": "HTMLView",
            "style": "IPY_MODEL_553042d6762e4e1a8459265fbaa576cd",
            "_dom_classes": [],
            "description": "",
            "_model_name": "HTMLModel",
            "placeholder": "​",
            "_view_module": "@jupyter-widgets/controls",
            "_model_module_version": "1.5.0",
            "value": "Downloading: 100%",
            "_view_count": null,
            "_view_module_version": "1.5.0",
            "description_tooltip": null,
            "_model_module": "@jupyter-widgets/controls",
            "layout": "IPY_MODEL_eeb5ee7743fc4d93b58cfed59e24a922"
          }
        },
        "e1e92ce4b29642eda9ee6eb592faff3b": {
          "model_module": "@jupyter-widgets/controls",
          "model_name": "FloatProgressModel",
          "model_module_version": "1.5.0",
          "state": {
            "_view_name": "ProgressView",
            "style": "IPY_MODEL_0d28ad3528b140dd8a920358384edb13",
            "_dom_classes": [],
            "description": "",
            "_model_name": "FloatProgressModel",
            "bar_style": "success",
            "max": 331070498,
            "_view_module": "@jupyter-widgets/controls",
            "_model_module_version": "1.5.0",
            "value": 331070498,
            "_view_count": null,
            "_view_module_version": "1.5.0",
            "orientation": "horizontal",
            "min": 0,
            "description_tooltip": null,
            "_model_module": "@jupyter-widgets/controls",
            "layout": "IPY_MODEL_138aa731487c48fc91b3e79aca009e84"
          }
        },
        "d7aa6a01d172434086f9b0841a7955a4": {
          "model_module": "@jupyter-widgets/controls",
          "model_name": "HTMLModel",
          "model_module_version": "1.5.0",
          "state": {
            "_view_name": "HTMLView",
            "style": "IPY_MODEL_269b3d0b85314d509f6a1dcde3ec02e5",
            "_dom_classes": [],
            "description": "",
            "_model_name": "HTMLModel",
            "placeholder": "​",
            "_view_module": "@jupyter-widgets/controls",
            "_model_module_version": "1.5.0",
            "value": " 316M/316M [00:09&lt;00:00, 35.5MB/s]",
            "_view_count": null,
            "_view_module_version": "1.5.0",
            "description_tooltip": null,
            "_model_module": "@jupyter-widgets/controls",
            "layout": "IPY_MODEL_4c2b180ad4fb4ebfa7b662d22a1d14c0"
          }
        },
        "553042d6762e4e1a8459265fbaa576cd": {
          "model_module": "@jupyter-widgets/controls",
          "model_name": "DescriptionStyleModel",
          "model_module_version": "1.5.0",
          "state": {
            "_view_name": "StyleView",
            "_model_name": "DescriptionStyleModel",
            "description_width": "",
            "_view_module": "@jupyter-widgets/base",
            "_model_module_version": "1.5.0",
            "_view_count": null,
            "_view_module_version": "1.2.0",
            "_model_module": "@jupyter-widgets/controls"
          }
        },
        "eeb5ee7743fc4d93b58cfed59e24a922": {
          "model_module": "@jupyter-widgets/base",
          "model_name": "LayoutModel",
          "model_module_version": "1.2.0",
          "state": {
            "_view_name": "LayoutView",
            "grid_template_rows": null,
            "right": null,
            "justify_content": null,
            "_view_module": "@jupyter-widgets/base",
            "overflow": null,
            "_model_module_version": "1.2.0",
            "_view_count": null,
            "flex_flow": null,
            "width": null,
            "min_width": null,
            "border": null,
            "align_items": null,
            "bottom": null,
            "_model_module": "@jupyter-widgets/base",
            "top": null,
            "grid_column": null,
            "overflow_y": null,
            "overflow_x": null,
            "grid_auto_flow": null,
            "grid_area": null,
            "grid_template_columns": null,
            "flex": null,
            "_model_name": "LayoutModel",
            "justify_items": null,
            "grid_row": null,
            "max_height": null,
            "align_content": null,
            "visibility": null,
            "align_self": null,
            "height": null,
            "min_height": null,
            "padding": null,
            "grid_auto_rows": null,
            "grid_gap": null,
            "max_width": null,
            "order": null,
            "_view_module_version": "1.2.0",
            "grid_template_areas": null,
            "object_position": null,
            "object_fit": null,
            "grid_auto_columns": null,
            "margin": null,
            "display": null,
            "left": null
          }
        },
        "0d28ad3528b140dd8a920358384edb13": {
          "model_module": "@jupyter-widgets/controls",
          "model_name": "ProgressStyleModel",
          "model_module_version": "1.5.0",
          "state": {
            "_view_name": "StyleView",
            "_model_name": "ProgressStyleModel",
            "description_width": "",
            "_view_module": "@jupyter-widgets/base",
            "_model_module_version": "1.5.0",
            "_view_count": null,
            "_view_module_version": "1.2.0",
            "bar_color": null,
            "_model_module": "@jupyter-widgets/controls"
          }
        },
        "138aa731487c48fc91b3e79aca009e84": {
          "model_module": "@jupyter-widgets/base",
          "model_name": "LayoutModel",
          "model_module_version": "1.2.0",
          "state": {
            "_view_name": "LayoutView",
            "grid_template_rows": null,
            "right": null,
            "justify_content": null,
            "_view_module": "@jupyter-widgets/base",
            "overflow": null,
            "_model_module_version": "1.2.0",
            "_view_count": null,
            "flex_flow": null,
            "width": null,
            "min_width": null,
            "border": null,
            "align_items": null,
            "bottom": null,
            "_model_module": "@jupyter-widgets/base",
            "top": null,
            "grid_column": null,
            "overflow_y": null,
            "overflow_x": null,
            "grid_auto_flow": null,
            "grid_area": null,
            "grid_template_columns": null,
            "flex": null,
            "_model_name": "LayoutModel",
            "justify_items": null,
            "grid_row": null,
            "max_height": null,
            "align_content": null,
            "visibility": null,
            "align_self": null,
            "height": null,
            "min_height": null,
            "padding": null,
            "grid_auto_rows": null,
            "grid_gap": null,
            "max_width": null,
            "order": null,
            "_view_module_version": "1.2.0",
            "grid_template_areas": null,
            "object_position": null,
            "object_fit": null,
            "grid_auto_columns": null,
            "margin": null,
            "display": null,
            "left": null
          }
        },
        "269b3d0b85314d509f6a1dcde3ec02e5": {
          "model_module": "@jupyter-widgets/controls",
          "model_name": "DescriptionStyleModel",
          "model_module_version": "1.5.0",
          "state": {
            "_view_name": "StyleView",
            "_model_name": "DescriptionStyleModel",
            "description_width": "",
            "_view_module": "@jupyter-widgets/base",
            "_model_module_version": "1.5.0",
            "_view_count": null,
            "_view_module_version": "1.2.0",
            "_model_module": "@jupyter-widgets/controls"
          }
        },
        "4c2b180ad4fb4ebfa7b662d22a1d14c0": {
          "model_module": "@jupyter-widgets/base",
          "model_name": "LayoutModel",
          "model_module_version": "1.2.0",
          "state": {
            "_view_name": "LayoutView",
            "grid_template_rows": null,
            "right": null,
            "justify_content": null,
            "_view_module": "@jupyter-widgets/base",
            "overflow": null,
            "_model_module_version": "1.2.0",
            "_view_count": null,
            "flex_flow": null,
            "width": null,
            "min_width": null,
            "border": null,
            "align_items": null,
            "bottom": null,
            "_model_module": "@jupyter-widgets/base",
            "top": null,
            "grid_column": null,
            "overflow_y": null,
            "overflow_x": null,
            "grid_auto_flow": null,
            "grid_area": null,
            "grid_template_columns": null,
            "flex": null,
            "_model_name": "LayoutModel",
            "justify_items": null,
            "grid_row": null,
            "max_height": null,
            "align_content": null,
            "visibility": null,
            "align_self": null,
            "height": null,
            "min_height": null,
            "padding": null,
            "grid_auto_rows": null,
            "grid_gap": null,
            "max_width": null,
            "order": null,
            "_view_module_version": "1.2.0",
            "grid_template_areas": null,
            "object_position": null,
            "object_fit": null,
            "grid_auto_columns": null,
            "margin": null,
            "display": null,
            "left": null
          }
        },
        "0a49f42aeef94e5e823db558a61cfc2e": {
          "model_module": "@jupyter-widgets/controls",
          "model_name": "HBoxModel",
          "model_module_version": "1.5.0",
          "state": {
            "_view_name": "HBoxView",
            "_dom_classes": [],
            "_model_name": "HBoxModel",
            "_view_module": "@jupyter-widgets/controls",
            "_model_module_version": "1.5.0",
            "_view_count": null,
            "_view_module_version": "1.5.0",
            "box_style": "",
            "layout": "IPY_MODEL_f36d1ee7468e4b408eeba09caf4a646b",
            "_model_module": "@jupyter-widgets/controls",
            "children": [
              "IPY_MODEL_34f7e319b66c4dc68457d8d2c37ae5ac",
              "IPY_MODEL_2c078d87e1bc446b858a4b800e3222b6",
              "IPY_MODEL_c6eda574706c4ef78c622ae9897724e4"
            ]
          }
        },
        "f36d1ee7468e4b408eeba09caf4a646b": {
          "model_module": "@jupyter-widgets/base",
          "model_name": "LayoutModel",
          "model_module_version": "1.2.0",
          "state": {
            "_view_name": "LayoutView",
            "grid_template_rows": null,
            "right": null,
            "justify_content": null,
            "_view_module": "@jupyter-widgets/base",
            "overflow": null,
            "_model_module_version": "1.2.0",
            "_view_count": null,
            "flex_flow": null,
            "width": null,
            "min_width": null,
            "border": null,
            "align_items": null,
            "bottom": null,
            "_model_module": "@jupyter-widgets/base",
            "top": null,
            "grid_column": null,
            "overflow_y": null,
            "overflow_x": null,
            "grid_auto_flow": null,
            "grid_area": null,
            "grid_template_columns": null,
            "flex": null,
            "_model_name": "LayoutModel",
            "justify_items": null,
            "grid_row": null,
            "max_height": null,
            "align_content": null,
            "visibility": null,
            "align_self": null,
            "height": null,
            "min_height": null,
            "padding": null,
            "grid_auto_rows": null,
            "grid_gap": null,
            "max_width": null,
            "order": null,
            "_view_module_version": "1.2.0",
            "grid_template_areas": null,
            "object_position": null,
            "object_fit": null,
            "grid_auto_columns": null,
            "margin": null,
            "display": null,
            "left": null
          }
        },
        "34f7e319b66c4dc68457d8d2c37ae5ac": {
          "model_module": "@jupyter-widgets/controls",
          "model_name": "HTMLModel",
          "model_module_version": "1.5.0",
          "state": {
            "_view_name": "HTMLView",
            "style": "IPY_MODEL_96504ba86bb640bea1613d28479ebc88",
            "_dom_classes": [],
            "description": "",
            "_model_name": "HTMLModel",
            "placeholder": "​",
            "_view_module": "@jupyter-widgets/controls",
            "_model_module_version": "1.5.0",
            "value": "Downloading: 100%",
            "_view_count": null,
            "_view_module_version": "1.5.0",
            "description_tooltip": null,
            "_model_module": "@jupyter-widgets/controls",
            "layout": "IPY_MODEL_d5087f51e9ee411cbc797815318f3dae"
          }
        },
        "2c078d87e1bc446b858a4b800e3222b6": {
          "model_module": "@jupyter-widgets/controls",
          "model_name": "FloatProgressModel",
          "model_module_version": "1.5.0",
          "state": {
            "_view_name": "ProgressView",
            "style": "IPY_MODEL_c4f45b3eadeb4d298615d6225d9d3044",
            "_dom_classes": [],
            "description": "",
            "_model_name": "FloatProgressModel",
            "bar_style": "success",
            "max": 898823,
            "_view_module": "@jupyter-widgets/controls",
            "_model_module_version": "1.5.0",
            "value": 898823,
            "_view_count": null,
            "_view_module_version": "1.5.0",
            "orientation": "horizontal",
            "min": 0,
            "description_tooltip": null,
            "_model_module": "@jupyter-widgets/controls",
            "layout": "IPY_MODEL_f9e0045738ea44bc80aa37cb663bbd83"
          }
        },
        "c6eda574706c4ef78c622ae9897724e4": {
          "model_module": "@jupyter-widgets/controls",
          "model_name": "HTMLModel",
          "model_module_version": "1.5.0",
          "state": {
            "_view_name": "HTMLView",
            "style": "IPY_MODEL_2e24e870e2e64f6996c8867af321c864",
            "_dom_classes": [],
            "description": "",
            "_model_name": "HTMLModel",
            "placeholder": "​",
            "_view_module": "@jupyter-widgets/controls",
            "_model_module_version": "1.5.0",
            "value": " 878k/878k [00:00&lt;00:00, 2.00MB/s]",
            "_view_count": null,
            "_view_module_version": "1.5.0",
            "description_tooltip": null,
            "_model_module": "@jupyter-widgets/controls",
            "layout": "IPY_MODEL_7c7a58116c6343e08ca6f986f9fa086b"
          }
        },
        "96504ba86bb640bea1613d28479ebc88": {
          "model_module": "@jupyter-widgets/controls",
          "model_name": "DescriptionStyleModel",
          "model_module_version": "1.5.0",
          "state": {
            "_view_name": "StyleView",
            "_model_name": "DescriptionStyleModel",
            "description_width": "",
            "_view_module": "@jupyter-widgets/base",
            "_model_module_version": "1.5.0",
            "_view_count": null,
            "_view_module_version": "1.2.0",
            "_model_module": "@jupyter-widgets/controls"
          }
        },
        "d5087f51e9ee411cbc797815318f3dae": {
          "model_module": "@jupyter-widgets/base",
          "model_name": "LayoutModel",
          "model_module_version": "1.2.0",
          "state": {
            "_view_name": "LayoutView",
            "grid_template_rows": null,
            "right": null,
            "justify_content": null,
            "_view_module": "@jupyter-widgets/base",
            "overflow": null,
            "_model_module_version": "1.2.0",
            "_view_count": null,
            "flex_flow": null,
            "width": null,
            "min_width": null,
            "border": null,
            "align_items": null,
            "bottom": null,
            "_model_module": "@jupyter-widgets/base",
            "top": null,
            "grid_column": null,
            "overflow_y": null,
            "overflow_x": null,
            "grid_auto_flow": null,
            "grid_area": null,
            "grid_template_columns": null,
            "flex": null,
            "_model_name": "LayoutModel",
            "justify_items": null,
            "grid_row": null,
            "max_height": null,
            "align_content": null,
            "visibility": null,
            "align_self": null,
            "height": null,
            "min_height": null,
            "padding": null,
            "grid_auto_rows": null,
            "grid_gap": null,
            "max_width": null,
            "order": null,
            "_view_module_version": "1.2.0",
            "grid_template_areas": null,
            "object_position": null,
            "object_fit": null,
            "grid_auto_columns": null,
            "margin": null,
            "display": null,
            "left": null
          }
        },
        "c4f45b3eadeb4d298615d6225d9d3044": {
          "model_module": "@jupyter-widgets/controls",
          "model_name": "ProgressStyleModel",
          "model_module_version": "1.5.0",
          "state": {
            "_view_name": "StyleView",
            "_model_name": "ProgressStyleModel",
            "description_width": "",
            "_view_module": "@jupyter-widgets/base",
            "_model_module_version": "1.5.0",
            "_view_count": null,
            "_view_module_version": "1.2.0",
            "bar_color": null,
            "_model_module": "@jupyter-widgets/controls"
          }
        },
        "f9e0045738ea44bc80aa37cb663bbd83": {
          "model_module": "@jupyter-widgets/base",
          "model_name": "LayoutModel",
          "model_module_version": "1.2.0",
          "state": {
            "_view_name": "LayoutView",
            "grid_template_rows": null,
            "right": null,
            "justify_content": null,
            "_view_module": "@jupyter-widgets/base",
            "overflow": null,
            "_model_module_version": "1.2.0",
            "_view_count": null,
            "flex_flow": null,
            "width": null,
            "min_width": null,
            "border": null,
            "align_items": null,
            "bottom": null,
            "_model_module": "@jupyter-widgets/base",
            "top": null,
            "grid_column": null,
            "overflow_y": null,
            "overflow_x": null,
            "grid_auto_flow": null,
            "grid_area": null,
            "grid_template_columns": null,
            "flex": null,
            "_model_name": "LayoutModel",
            "justify_items": null,
            "grid_row": null,
            "max_height": null,
            "align_content": null,
            "visibility": null,
            "align_self": null,
            "height": null,
            "min_height": null,
            "padding": null,
            "grid_auto_rows": null,
            "grid_gap": null,
            "max_width": null,
            "order": null,
            "_view_module_version": "1.2.0",
            "grid_template_areas": null,
            "object_position": null,
            "object_fit": null,
            "grid_auto_columns": null,
            "margin": null,
            "display": null,
            "left": null
          }
        },
        "2e24e870e2e64f6996c8867af321c864": {
          "model_module": "@jupyter-widgets/controls",
          "model_name": "DescriptionStyleModel",
          "model_module_version": "1.5.0",
          "state": {
            "_view_name": "StyleView",
            "_model_name": "DescriptionStyleModel",
            "description_width": "",
            "_view_module": "@jupyter-widgets/base",
            "_model_module_version": "1.5.0",
            "_view_count": null,
            "_view_module_version": "1.2.0",
            "_model_module": "@jupyter-widgets/controls"
          }
        },
        "7c7a58116c6343e08ca6f986f9fa086b": {
          "model_module": "@jupyter-widgets/base",
          "model_name": "LayoutModel",
          "model_module_version": "1.2.0",
          "state": {
            "_view_name": "LayoutView",
            "grid_template_rows": null,
            "right": null,
            "justify_content": null,
            "_view_module": "@jupyter-widgets/base",
            "overflow": null,
            "_model_module_version": "1.2.0",
            "_view_count": null,
            "flex_flow": null,
            "width": null,
            "min_width": null,
            "border": null,
            "align_items": null,
            "bottom": null,
            "_model_module": "@jupyter-widgets/base",
            "top": null,
            "grid_column": null,
            "overflow_y": null,
            "overflow_x": null,
            "grid_auto_flow": null,
            "grid_area": null,
            "grid_template_columns": null,
            "flex": null,
            "_model_name": "LayoutModel",
            "justify_items": null,
            "grid_row": null,
            "max_height": null,
            "align_content": null,
            "visibility": null,
            "align_self": null,
            "height": null,
            "min_height": null,
            "padding": null,
            "grid_auto_rows": null,
            "grid_gap": null,
            "max_width": null,
            "order": null,
            "_view_module_version": "1.2.0",
            "grid_template_areas": null,
            "object_position": null,
            "object_fit": null,
            "grid_auto_columns": null,
            "margin": null,
            "display": null,
            "left": null
          }
        },
        "bec135a3f227438f9ae48872db7eaac3": {
          "model_module": "@jupyter-widgets/controls",
          "model_name": "HBoxModel",
          "model_module_version": "1.5.0",
          "state": {
            "_view_name": "HBoxView",
            "_dom_classes": [],
            "_model_name": "HBoxModel",
            "_view_module": "@jupyter-widgets/controls",
            "_model_module_version": "1.5.0",
            "_view_count": null,
            "_view_module_version": "1.5.0",
            "box_style": "",
            "layout": "IPY_MODEL_c4e766a92a81433d98af729d09f9f995",
            "_model_module": "@jupyter-widgets/controls",
            "children": [
              "IPY_MODEL_67da9f6a217c4bdeb6b426f8b75750ab",
              "IPY_MODEL_fb6d393d9d724fbcb3a76c3fe5da15bf",
              "IPY_MODEL_3bb2fb5d0fb64c46a01682b02c0661d3"
            ]
          }
        },
        "c4e766a92a81433d98af729d09f9f995": {
          "model_module": "@jupyter-widgets/base",
          "model_name": "LayoutModel",
          "model_module_version": "1.2.0",
          "state": {
            "_view_name": "LayoutView",
            "grid_template_rows": null,
            "right": null,
            "justify_content": null,
            "_view_module": "@jupyter-widgets/base",
            "overflow": null,
            "_model_module_version": "1.2.0",
            "_view_count": null,
            "flex_flow": null,
            "width": null,
            "min_width": null,
            "border": null,
            "align_items": null,
            "bottom": null,
            "_model_module": "@jupyter-widgets/base",
            "top": null,
            "grid_column": null,
            "overflow_y": null,
            "overflow_x": null,
            "grid_auto_flow": null,
            "grid_area": null,
            "grid_template_columns": null,
            "flex": null,
            "_model_name": "LayoutModel",
            "justify_items": null,
            "grid_row": null,
            "max_height": null,
            "align_content": null,
            "visibility": null,
            "align_self": null,
            "height": null,
            "min_height": null,
            "padding": null,
            "grid_auto_rows": null,
            "grid_gap": null,
            "max_width": null,
            "order": null,
            "_view_module_version": "1.2.0",
            "grid_template_areas": null,
            "object_position": null,
            "object_fit": null,
            "grid_auto_columns": null,
            "margin": null,
            "display": null,
            "left": null
          }
        },
        "67da9f6a217c4bdeb6b426f8b75750ab": {
          "model_module": "@jupyter-widgets/controls",
          "model_name": "HTMLModel",
          "model_module_version": "1.5.0",
          "state": {
            "_view_name": "HTMLView",
            "style": "IPY_MODEL_8fa4e656ed3147409a97a932b1a0917e",
            "_dom_classes": [],
            "description": "",
            "_model_name": "HTMLModel",
            "placeholder": "​",
            "_view_module": "@jupyter-widgets/controls",
            "_model_module_version": "1.5.0",
            "value": "Downloading: 100%",
            "_view_count": null,
            "_view_module_version": "1.5.0",
            "description_tooltip": null,
            "_model_module": "@jupyter-widgets/controls",
            "layout": "IPY_MODEL_9bc4e226c8254b128c58f8f6925405d2"
          }
        },
        "fb6d393d9d724fbcb3a76c3fe5da15bf": {
          "model_module": "@jupyter-widgets/controls",
          "model_name": "FloatProgressModel",
          "model_module_version": "1.5.0",
          "state": {
            "_view_name": "ProgressView",
            "style": "IPY_MODEL_8e2d6a4277704180b91bdd4ddfa16212",
            "_dom_classes": [],
            "description": "",
            "_model_name": "FloatProgressModel",
            "bar_style": "success",
            "max": 456318,
            "_view_module": "@jupyter-widgets/controls",
            "_model_module_version": "1.5.0",
            "value": 456318,
            "_view_count": null,
            "_view_module_version": "1.5.0",
            "orientation": "horizontal",
            "min": 0,
            "description_tooltip": null,
            "_model_module": "@jupyter-widgets/controls",
            "layout": "IPY_MODEL_9628a7afb06f4d3e8d0dcec98173aaae"
          }
        },
        "3bb2fb5d0fb64c46a01682b02c0661d3": {
          "model_module": "@jupyter-widgets/controls",
          "model_name": "HTMLModel",
          "model_module_version": "1.5.0",
          "state": {
            "_view_name": "HTMLView",
            "style": "IPY_MODEL_e9fd8bcb2e084e0796c5542201b8a97f",
            "_dom_classes": [],
            "description": "",
            "_model_name": "HTMLModel",
            "placeholder": "​",
            "_view_module": "@jupyter-widgets/controls",
            "_model_module_version": "1.5.0",
            "value": " 446k/446k [00:00&lt;00:00, 773kB/s]",
            "_view_count": null,
            "_view_module_version": "1.5.0",
            "description_tooltip": null,
            "_model_module": "@jupyter-widgets/controls",
            "layout": "IPY_MODEL_37e1e7d1b2954c7f98c7e4800b17865c"
          }
        },
        "8fa4e656ed3147409a97a932b1a0917e": {
          "model_module": "@jupyter-widgets/controls",
          "model_name": "DescriptionStyleModel",
          "model_module_version": "1.5.0",
          "state": {
            "_view_name": "StyleView",
            "_model_name": "DescriptionStyleModel",
            "description_width": "",
            "_view_module": "@jupyter-widgets/base",
            "_model_module_version": "1.5.0",
            "_view_count": null,
            "_view_module_version": "1.2.0",
            "_model_module": "@jupyter-widgets/controls"
          }
        },
        "9bc4e226c8254b128c58f8f6925405d2": {
          "model_module": "@jupyter-widgets/base",
          "model_name": "LayoutModel",
          "model_module_version": "1.2.0",
          "state": {
            "_view_name": "LayoutView",
            "grid_template_rows": null,
            "right": null,
            "justify_content": null,
            "_view_module": "@jupyter-widgets/base",
            "overflow": null,
            "_model_module_version": "1.2.0",
            "_view_count": null,
            "flex_flow": null,
            "width": null,
            "min_width": null,
            "border": null,
            "align_items": null,
            "bottom": null,
            "_model_module": "@jupyter-widgets/base",
            "top": null,
            "grid_column": null,
            "overflow_y": null,
            "overflow_x": null,
            "grid_auto_flow": null,
            "grid_area": null,
            "grid_template_columns": null,
            "flex": null,
            "_model_name": "LayoutModel",
            "justify_items": null,
            "grid_row": null,
            "max_height": null,
            "align_content": null,
            "visibility": null,
            "align_self": null,
            "height": null,
            "min_height": null,
            "padding": null,
            "grid_auto_rows": null,
            "grid_gap": null,
            "max_width": null,
            "order": null,
            "_view_module_version": "1.2.0",
            "grid_template_areas": null,
            "object_position": null,
            "object_fit": null,
            "grid_auto_columns": null,
            "margin": null,
            "display": null,
            "left": null
          }
        },
        "8e2d6a4277704180b91bdd4ddfa16212": {
          "model_module": "@jupyter-widgets/controls",
          "model_name": "ProgressStyleModel",
          "model_module_version": "1.5.0",
          "state": {
            "_view_name": "StyleView",
            "_model_name": "ProgressStyleModel",
            "description_width": "",
            "_view_module": "@jupyter-widgets/base",
            "_model_module_version": "1.5.0",
            "_view_count": null,
            "_view_module_version": "1.2.0",
            "bar_color": null,
            "_model_module": "@jupyter-widgets/controls"
          }
        },
        "9628a7afb06f4d3e8d0dcec98173aaae": {
          "model_module": "@jupyter-widgets/base",
          "model_name": "LayoutModel",
          "model_module_version": "1.2.0",
          "state": {
            "_view_name": "LayoutView",
            "grid_template_rows": null,
            "right": null,
            "justify_content": null,
            "_view_module": "@jupyter-widgets/base",
            "overflow": null,
            "_model_module_version": "1.2.0",
            "_view_count": null,
            "flex_flow": null,
            "width": null,
            "min_width": null,
            "border": null,
            "align_items": null,
            "bottom": null,
            "_model_module": "@jupyter-widgets/base",
            "top": null,
            "grid_column": null,
            "overflow_y": null,
            "overflow_x": null,
            "grid_auto_flow": null,
            "grid_area": null,
            "grid_template_columns": null,
            "flex": null,
            "_model_name": "LayoutModel",
            "justify_items": null,
            "grid_row": null,
            "max_height": null,
            "align_content": null,
            "visibility": null,
            "align_self": null,
            "height": null,
            "min_height": null,
            "padding": null,
            "grid_auto_rows": null,
            "grid_gap": null,
            "max_width": null,
            "order": null,
            "_view_module_version": "1.2.0",
            "grid_template_areas": null,
            "object_position": null,
            "object_fit": null,
            "grid_auto_columns": null,
            "margin": null,
            "display": null,
            "left": null
          }
        },
        "e9fd8bcb2e084e0796c5542201b8a97f": {
          "model_module": "@jupyter-widgets/controls",
          "model_name": "DescriptionStyleModel",
          "model_module_version": "1.5.0",
          "state": {
            "_view_name": "StyleView",
            "_model_name": "DescriptionStyleModel",
            "description_width": "",
            "_view_module": "@jupyter-widgets/base",
            "_model_module_version": "1.5.0",
            "_view_count": null,
            "_view_module_version": "1.2.0",
            "_model_module": "@jupyter-widgets/controls"
          }
        },
        "37e1e7d1b2954c7f98c7e4800b17865c": {
          "model_module": "@jupyter-widgets/base",
          "model_name": "LayoutModel",
          "model_module_version": "1.2.0",
          "state": {
            "_view_name": "LayoutView",
            "grid_template_rows": null,
            "right": null,
            "justify_content": null,
            "_view_module": "@jupyter-widgets/base",
            "overflow": null,
            "_model_module_version": "1.2.0",
            "_view_count": null,
            "flex_flow": null,
            "width": null,
            "min_width": null,
            "border": null,
            "align_items": null,
            "bottom": null,
            "_model_module": "@jupyter-widgets/base",
            "top": null,
            "grid_column": null,
            "overflow_y": null,
            "overflow_x": null,
            "grid_auto_flow": null,
            "grid_area": null,
            "grid_template_columns": null,
            "flex": null,
            "_model_name": "LayoutModel",
            "justify_items": null,
            "grid_row": null,
            "max_height": null,
            "align_content": null,
            "visibility": null,
            "align_self": null,
            "height": null,
            "min_height": null,
            "padding": null,
            "grid_auto_rows": null,
            "grid_gap": null,
            "max_width": null,
            "order": null,
            "_view_module_version": "1.2.0",
            "grid_template_areas": null,
            "object_position": null,
            "object_fit": null,
            "grid_auto_columns": null,
            "margin": null,
            "display": null,
            "left": null
          }
        },
        "a1f598f67ef64961b219e59c3cd8473f": {
          "model_module": "@jupyter-widgets/controls",
          "model_name": "HBoxModel",
          "model_module_version": "1.5.0",
          "state": {
            "_view_name": "HBoxView",
            "_dom_classes": [],
            "_model_name": "HBoxModel",
            "_view_module": "@jupyter-widgets/controls",
            "_model_module_version": "1.5.0",
            "_view_count": null,
            "_view_module_version": "1.5.0",
            "box_style": "",
            "layout": "IPY_MODEL_2c3ee6969a484c77a38d7ba2b935c86d",
            "_model_module": "@jupyter-widgets/controls",
            "children": [
              "IPY_MODEL_2231cb214e7b43fa8bcb3f43f9032c24",
              "IPY_MODEL_c97fdb570ded41b287ddf3e76ad626d2",
              "IPY_MODEL_2cad6b88767a4c9fba4351c24d9db80c"
            ]
          }
        },
        "2c3ee6969a484c77a38d7ba2b935c86d": {
          "model_module": "@jupyter-widgets/base",
          "model_name": "LayoutModel",
          "model_module_version": "1.2.0",
          "state": {
            "_view_name": "LayoutView",
            "grid_template_rows": null,
            "right": null,
            "justify_content": null,
            "_view_module": "@jupyter-widgets/base",
            "overflow": null,
            "_model_module_version": "1.2.0",
            "_view_count": null,
            "flex_flow": null,
            "width": null,
            "min_width": null,
            "border": null,
            "align_items": null,
            "bottom": null,
            "_model_module": "@jupyter-widgets/base",
            "top": null,
            "grid_column": null,
            "overflow_y": null,
            "overflow_x": null,
            "grid_auto_flow": null,
            "grid_area": null,
            "grid_template_columns": null,
            "flex": null,
            "_model_name": "LayoutModel",
            "justify_items": null,
            "grid_row": null,
            "max_height": null,
            "align_content": null,
            "visibility": null,
            "align_self": null,
            "height": null,
            "min_height": null,
            "padding": null,
            "grid_auto_rows": null,
            "grid_gap": null,
            "max_width": null,
            "order": null,
            "_view_module_version": "1.2.0",
            "grid_template_areas": null,
            "object_position": null,
            "object_fit": null,
            "grid_auto_columns": null,
            "margin": null,
            "display": null,
            "left": null
          }
        },
        "2231cb214e7b43fa8bcb3f43f9032c24": {
          "model_module": "@jupyter-widgets/controls",
          "model_name": "HTMLModel",
          "model_module_version": "1.5.0",
          "state": {
            "_view_name": "HTMLView",
            "style": "IPY_MODEL_8eea6c27f750458ebf4cfc17265aefbc",
            "_dom_classes": [],
            "description": "",
            "_model_name": "HTMLModel",
            "placeholder": "​",
            "_view_module": "@jupyter-widgets/controls",
            "_model_module_version": "1.5.0",
            "value": "Downloading: 100%",
            "_view_count": null,
            "_view_module_version": "1.5.0",
            "description_tooltip": null,
            "_model_module": "@jupyter-widgets/controls",
            "layout": "IPY_MODEL_f15ceff5de2f44639309a2e97c090bb4"
          }
        },
        "c97fdb570ded41b287ddf3e76ad626d2": {
          "model_module": "@jupyter-widgets/controls",
          "model_name": "FloatProgressModel",
          "model_module_version": "1.5.0",
          "state": {
            "_view_name": "ProgressView",
            "style": "IPY_MODEL_bb5b32253308475584ad908f7d5340a2",
            "_dom_classes": [],
            "description": "",
            "_model_name": "FloatProgressModel",
            "bar_style": "success",
            "max": 1355863,
            "_view_module": "@jupyter-widgets/controls",
            "_model_module_version": "1.5.0",
            "value": 1355863,
            "_view_count": null,
            "_view_module_version": "1.5.0",
            "orientation": "horizontal",
            "min": 0,
            "description_tooltip": null,
            "_model_module": "@jupyter-widgets/controls",
            "layout": "IPY_MODEL_907ff709d3914ba1854b44c03cea3915"
          }
        },
        "2cad6b88767a4c9fba4351c24d9db80c": {
          "model_module": "@jupyter-widgets/controls",
          "model_name": "HTMLModel",
          "model_module_version": "1.5.0",
          "state": {
            "_view_name": "HTMLView",
            "style": "IPY_MODEL_7595a7b4a00c41a6b468b355b8e1dd5d",
            "_dom_classes": [],
            "description": "",
            "_model_name": "HTMLModel",
            "placeholder": "​",
            "_view_module": "@jupyter-widgets/controls",
            "_model_module_version": "1.5.0",
            "value": " 1.29M/1.29M [00:00&lt;00:00, 3.81MB/s]",
            "_view_count": null,
            "_view_module_version": "1.5.0",
            "description_tooltip": null,
            "_model_module": "@jupyter-widgets/controls",
            "layout": "IPY_MODEL_b9fa2ff383c048bebbcef148e4d49043"
          }
        },
        "8eea6c27f750458ebf4cfc17265aefbc": {
          "model_module": "@jupyter-widgets/controls",
          "model_name": "DescriptionStyleModel",
          "model_module_version": "1.5.0",
          "state": {
            "_view_name": "StyleView",
            "_model_name": "DescriptionStyleModel",
            "description_width": "",
            "_view_module": "@jupyter-widgets/base",
            "_model_module_version": "1.5.0",
            "_view_count": null,
            "_view_module_version": "1.2.0",
            "_model_module": "@jupyter-widgets/controls"
          }
        },
        "f15ceff5de2f44639309a2e97c090bb4": {
          "model_module": "@jupyter-widgets/base",
          "model_name": "LayoutModel",
          "model_module_version": "1.2.0",
          "state": {
            "_view_name": "LayoutView",
            "grid_template_rows": null,
            "right": null,
            "justify_content": null,
            "_view_module": "@jupyter-widgets/base",
            "overflow": null,
            "_model_module_version": "1.2.0",
            "_view_count": null,
            "flex_flow": null,
            "width": null,
            "min_width": null,
            "border": null,
            "align_items": null,
            "bottom": null,
            "_model_module": "@jupyter-widgets/base",
            "top": null,
            "grid_column": null,
            "overflow_y": null,
            "overflow_x": null,
            "grid_auto_flow": null,
            "grid_area": null,
            "grid_template_columns": null,
            "flex": null,
            "_model_name": "LayoutModel",
            "justify_items": null,
            "grid_row": null,
            "max_height": null,
            "align_content": null,
            "visibility": null,
            "align_self": null,
            "height": null,
            "min_height": null,
            "padding": null,
            "grid_auto_rows": null,
            "grid_gap": null,
            "max_width": null,
            "order": null,
            "_view_module_version": "1.2.0",
            "grid_template_areas": null,
            "object_position": null,
            "object_fit": null,
            "grid_auto_columns": null,
            "margin": null,
            "display": null,
            "left": null
          }
        },
        "bb5b32253308475584ad908f7d5340a2": {
          "model_module": "@jupyter-widgets/controls",
          "model_name": "ProgressStyleModel",
          "model_module_version": "1.5.0",
          "state": {
            "_view_name": "StyleView",
            "_model_name": "ProgressStyleModel",
            "description_width": "",
            "_view_module": "@jupyter-widgets/base",
            "_model_module_version": "1.5.0",
            "_view_count": null,
            "_view_module_version": "1.2.0",
            "bar_color": null,
            "_model_module": "@jupyter-widgets/controls"
          }
        },
        "907ff709d3914ba1854b44c03cea3915": {
          "model_module": "@jupyter-widgets/base",
          "model_name": "LayoutModel",
          "model_module_version": "1.2.0",
          "state": {
            "_view_name": "LayoutView",
            "grid_template_rows": null,
            "right": null,
            "justify_content": null,
            "_view_module": "@jupyter-widgets/base",
            "overflow": null,
            "_model_module_version": "1.2.0",
            "_view_count": null,
            "flex_flow": null,
            "width": null,
            "min_width": null,
            "border": null,
            "align_items": null,
            "bottom": null,
            "_model_module": "@jupyter-widgets/base",
            "top": null,
            "grid_column": null,
            "overflow_y": null,
            "overflow_x": null,
            "grid_auto_flow": null,
            "grid_area": null,
            "grid_template_columns": null,
            "flex": null,
            "_model_name": "LayoutModel",
            "justify_items": null,
            "grid_row": null,
            "max_height": null,
            "align_content": null,
            "visibility": null,
            "align_self": null,
            "height": null,
            "min_height": null,
            "padding": null,
            "grid_auto_rows": null,
            "grid_gap": null,
            "max_width": null,
            "order": null,
            "_view_module_version": "1.2.0",
            "grid_template_areas": null,
            "object_position": null,
            "object_fit": null,
            "grid_auto_columns": null,
            "margin": null,
            "display": null,
            "left": null
          }
        },
        "7595a7b4a00c41a6b468b355b8e1dd5d": {
          "model_module": "@jupyter-widgets/controls",
          "model_name": "DescriptionStyleModel",
          "model_module_version": "1.5.0",
          "state": {
            "_view_name": "StyleView",
            "_model_name": "DescriptionStyleModel",
            "description_width": "",
            "_view_module": "@jupyter-widgets/base",
            "_model_module_version": "1.5.0",
            "_view_count": null,
            "_view_module_version": "1.2.0",
            "_model_module": "@jupyter-widgets/controls"
          }
        },
        "b9fa2ff383c048bebbcef148e4d49043": {
          "model_module": "@jupyter-widgets/base",
          "model_name": "LayoutModel",
          "model_module_version": "1.2.0",
          "state": {
            "_view_name": "LayoutView",
            "grid_template_rows": null,
            "right": null,
            "justify_content": null,
            "_view_module": "@jupyter-widgets/base",
            "overflow": null,
            "_model_module_version": "1.2.0",
            "_view_count": null,
            "flex_flow": null,
            "width": null,
            "min_width": null,
            "border": null,
            "align_items": null,
            "bottom": null,
            "_model_module": "@jupyter-widgets/base",
            "top": null,
            "grid_column": null,
            "overflow_y": null,
            "overflow_x": null,
            "grid_auto_flow": null,
            "grid_area": null,
            "grid_template_columns": null,
            "flex": null,
            "_model_name": "LayoutModel",
            "justify_items": null,
            "grid_row": null,
            "max_height": null,
            "align_content": null,
            "visibility": null,
            "align_self": null,
            "height": null,
            "min_height": null,
            "padding": null,
            "grid_auto_rows": null,
            "grid_gap": null,
            "max_width": null,
            "order": null,
            "_view_module_version": "1.2.0",
            "grid_template_areas": null,
            "object_position": null,
            "object_fit": null,
            "grid_auto_columns": null,
            "margin": null,
            "display": null,
            "left": null
          }
        },
        "5b80f6fa211e4a129a4db8ab4c6fbf91": {
          "model_module": "@jupyter-widgets/controls",
          "model_name": "HBoxModel",
          "model_module_version": "1.5.0",
          "state": {
            "_view_name": "HBoxView",
            "_dom_classes": [],
            "_model_name": "HBoxModel",
            "_view_module": "@jupyter-widgets/controls",
            "_model_module_version": "1.5.0",
            "_view_count": null,
            "_view_module_version": "1.5.0",
            "box_style": "",
            "layout": "IPY_MODEL_2589c3b230fb4b0db1bf52b66e5f2a19",
            "_model_module": "@jupyter-widgets/controls",
            "children": [
              "IPY_MODEL_d7f659e8665f4270ae7452fcfcd9b1a5",
              "IPY_MODEL_c1b5f4d8ffe14be89846659483a340c7",
              "IPY_MODEL_4e3b19faf1254e63aaa2f10baa792268"
            ]
          }
        },
        "2589c3b230fb4b0db1bf52b66e5f2a19": {
          "model_module": "@jupyter-widgets/base",
          "model_name": "LayoutModel",
          "model_module_version": "1.2.0",
          "state": {
            "_view_name": "LayoutView",
            "grid_template_rows": null,
            "right": null,
            "justify_content": null,
            "_view_module": "@jupyter-widgets/base",
            "overflow": null,
            "_model_module_version": "1.2.0",
            "_view_count": null,
            "flex_flow": null,
            "width": null,
            "min_width": null,
            "border": null,
            "align_items": null,
            "bottom": null,
            "_model_module": "@jupyter-widgets/base",
            "top": null,
            "grid_column": null,
            "overflow_y": null,
            "overflow_x": null,
            "grid_auto_flow": null,
            "grid_area": null,
            "grid_template_columns": null,
            "flex": null,
            "_model_name": "LayoutModel",
            "justify_items": null,
            "grid_row": null,
            "max_height": null,
            "align_content": null,
            "visibility": null,
            "align_self": null,
            "height": null,
            "min_height": null,
            "padding": null,
            "grid_auto_rows": null,
            "grid_gap": null,
            "max_width": null,
            "order": null,
            "_view_module_version": "1.2.0",
            "grid_template_areas": null,
            "object_position": null,
            "object_fit": null,
            "grid_auto_columns": null,
            "margin": null,
            "display": null,
            "left": null
          }
        },
        "d7f659e8665f4270ae7452fcfcd9b1a5": {
          "model_module": "@jupyter-widgets/controls",
          "model_name": "HTMLModel",
          "model_module_version": "1.5.0",
          "state": {
            "_view_name": "HTMLView",
            "style": "IPY_MODEL_50118f4af30e4dfdbf483f030bacf92a",
            "_dom_classes": [],
            "description": "",
            "_model_name": "HTMLModel",
            "placeholder": "​",
            "_view_module": "@jupyter-widgets/controls",
            "_model_module_version": "1.5.0",
            "value": "Downloading: 100%",
            "_view_count": null,
            "_view_module_version": "1.5.0",
            "description_tooltip": null,
            "_model_module": "@jupyter-widgets/controls",
            "layout": "IPY_MODEL_5e81d0159b5740d891e30708292752a5"
          }
        },
        "c1b5f4d8ffe14be89846659483a340c7": {
          "model_module": "@jupyter-widgets/controls",
          "model_name": "FloatProgressModel",
          "model_module_version": "1.5.0",
          "state": {
            "_view_name": "ProgressView",
            "style": "IPY_MODEL_9172164f245b45e8a799e97d562b178c",
            "_dom_classes": [],
            "description": "",
            "_model_name": "FloatProgressModel",
            "bar_style": "success",
            "max": 440473133,
            "_view_module": "@jupyter-widgets/controls",
            "_model_module_version": "1.5.0",
            "value": 440473133,
            "_view_count": null,
            "_view_module_version": "1.5.0",
            "orientation": "horizontal",
            "min": 0,
            "description_tooltip": null,
            "_model_module": "@jupyter-widgets/controls",
            "layout": "IPY_MODEL_e458683716164deea36e8d412a3609d5"
          }
        },
        "4e3b19faf1254e63aaa2f10baa792268": {
          "model_module": "@jupyter-widgets/controls",
          "model_name": "HTMLModel",
          "model_module_version": "1.5.0",
          "state": {
            "_view_name": "HTMLView",
            "style": "IPY_MODEL_45e15162f36248f689b59fc927b2c67e",
            "_dom_classes": [],
            "description": "",
            "_model_name": "HTMLModel",
            "placeholder": "​",
            "_view_module": "@jupyter-widgets/controls",
            "_model_module_version": "1.5.0",
            "value": " 420M/420M [00:13&lt;00:00, 34.1MB/s]",
            "_view_count": null,
            "_view_module_version": "1.5.0",
            "description_tooltip": null,
            "_model_module": "@jupyter-widgets/controls",
            "layout": "IPY_MODEL_e0441185a0e24ed38e8011b273e51e8a"
          }
        },
        "50118f4af30e4dfdbf483f030bacf92a": {
          "model_module": "@jupyter-widgets/controls",
          "model_name": "DescriptionStyleModel",
          "model_module_version": "1.5.0",
          "state": {
            "_view_name": "StyleView",
            "_model_name": "DescriptionStyleModel",
            "description_width": "",
            "_view_module": "@jupyter-widgets/base",
            "_model_module_version": "1.5.0",
            "_view_count": null,
            "_view_module_version": "1.2.0",
            "_model_module": "@jupyter-widgets/controls"
          }
        },
        "5e81d0159b5740d891e30708292752a5": {
          "model_module": "@jupyter-widgets/base",
          "model_name": "LayoutModel",
          "model_module_version": "1.2.0",
          "state": {
            "_view_name": "LayoutView",
            "grid_template_rows": null,
            "right": null,
            "justify_content": null,
            "_view_module": "@jupyter-widgets/base",
            "overflow": null,
            "_model_module_version": "1.2.0",
            "_view_count": null,
            "flex_flow": null,
            "width": null,
            "min_width": null,
            "border": null,
            "align_items": null,
            "bottom": null,
            "_model_module": "@jupyter-widgets/base",
            "top": null,
            "grid_column": null,
            "overflow_y": null,
            "overflow_x": null,
            "grid_auto_flow": null,
            "grid_area": null,
            "grid_template_columns": null,
            "flex": null,
            "_model_name": "LayoutModel",
            "justify_items": null,
            "grid_row": null,
            "max_height": null,
            "align_content": null,
            "visibility": null,
            "align_self": null,
            "height": null,
            "min_height": null,
            "padding": null,
            "grid_auto_rows": null,
            "grid_gap": null,
            "max_width": null,
            "order": null,
            "_view_module_version": "1.2.0",
            "grid_template_areas": null,
            "object_position": null,
            "object_fit": null,
            "grid_auto_columns": null,
            "margin": null,
            "display": null,
            "left": null
          }
        },
        "9172164f245b45e8a799e97d562b178c": {
          "model_module": "@jupyter-widgets/controls",
          "model_name": "ProgressStyleModel",
          "model_module_version": "1.5.0",
          "state": {
            "_view_name": "StyleView",
            "_model_name": "ProgressStyleModel",
            "description_width": "",
            "_view_module": "@jupyter-widgets/base",
            "_model_module_version": "1.5.0",
            "_view_count": null,
            "_view_module_version": "1.2.0",
            "bar_color": null,
            "_model_module": "@jupyter-widgets/controls"
          }
        },
        "e458683716164deea36e8d412a3609d5": {
          "model_module": "@jupyter-widgets/base",
          "model_name": "LayoutModel",
          "model_module_version": "1.2.0",
          "state": {
            "_view_name": "LayoutView",
            "grid_template_rows": null,
            "right": null,
            "justify_content": null,
            "_view_module": "@jupyter-widgets/base",
            "overflow": null,
            "_model_module_version": "1.2.0",
            "_view_count": null,
            "flex_flow": null,
            "width": null,
            "min_width": null,
            "border": null,
            "align_items": null,
            "bottom": null,
            "_model_module": "@jupyter-widgets/base",
            "top": null,
            "grid_column": null,
            "overflow_y": null,
            "overflow_x": null,
            "grid_auto_flow": null,
            "grid_area": null,
            "grid_template_columns": null,
            "flex": null,
            "_model_name": "LayoutModel",
            "justify_items": null,
            "grid_row": null,
            "max_height": null,
            "align_content": null,
            "visibility": null,
            "align_self": null,
            "height": null,
            "min_height": null,
            "padding": null,
            "grid_auto_rows": null,
            "grid_gap": null,
            "max_width": null,
            "order": null,
            "_view_module_version": "1.2.0",
            "grid_template_areas": null,
            "object_position": null,
            "object_fit": null,
            "grid_auto_columns": null,
            "margin": null,
            "display": null,
            "left": null
          }
        },
        "45e15162f36248f689b59fc927b2c67e": {
          "model_module": "@jupyter-widgets/controls",
          "model_name": "DescriptionStyleModel",
          "model_module_version": "1.5.0",
          "state": {
            "_view_name": "StyleView",
            "_model_name": "DescriptionStyleModel",
            "description_width": "",
            "_view_module": "@jupyter-widgets/base",
            "_model_module_version": "1.5.0",
            "_view_count": null,
            "_view_module_version": "1.2.0",
            "_model_module": "@jupyter-widgets/controls"
          }
        },
        "e0441185a0e24ed38e8011b273e51e8a": {
          "model_module": "@jupyter-widgets/base",
          "model_name": "LayoutModel",
          "model_module_version": "1.2.0",
          "state": {
            "_view_name": "LayoutView",
            "grid_template_rows": null,
            "right": null,
            "justify_content": null,
            "_view_module": "@jupyter-widgets/base",
            "overflow": null,
            "_model_module_version": "1.2.0",
            "_view_count": null,
            "flex_flow": null,
            "width": null,
            "min_width": null,
            "border": null,
            "align_items": null,
            "bottom": null,
            "_model_module": "@jupyter-widgets/base",
            "top": null,
            "grid_column": null,
            "overflow_y": null,
            "overflow_x": null,
            "grid_auto_flow": null,
            "grid_area": null,
            "grid_template_columns": null,
            "flex": null,
            "_model_name": "LayoutModel",
            "justify_items": null,
            "grid_row": null,
            "max_height": null,
            "align_content": null,
            "visibility": null,
            "align_self": null,
            "height": null,
            "min_height": null,
            "padding": null,
            "grid_auto_rows": null,
            "grid_gap": null,
            "max_width": null,
            "order": null,
            "_view_module_version": "1.2.0",
            "grid_template_areas": null,
            "object_position": null,
            "object_fit": null,
            "grid_auto_columns": null,
            "margin": null,
            "display": null,
            "left": null
          }
        }
      }
    }
  },
  "cells": [
    {
      "cell_type": "markdown",
      "metadata": {
        "id": "view-in-github",
        "colab_type": "text"
      },
      "source": [
        "<a href=\"https://colab.research.google.com/github/liadmagen/NLP-Course/blob/master/exercises_notebooks/10_LM_Transformers_full.ipynb\" target=\"_parent\"><img src=\"https://colab.research.google.com/assets/colab-badge.svg\" alt=\"Open In Colab\"/></a>"
      ]
    },
    {
      "cell_type": "markdown",
      "metadata": {
        "id": "fmf5HUOpkHUy"
      },
      "source": [
        "# Setup"
      ]
    },
    {
      "cell_type": "code",
      "metadata": {
        "id": "vJWxG5LKiR5r"
      },
      "source": [
        "%%capture\n",
        "!pip install transformers"
      ],
      "execution_count": 1,
      "outputs": []
    },
    {
      "cell_type": "code",
      "metadata": {
        "id": "GP3cOU7mCKcG"
      },
      "source": [
        "from pprint import pprint"
      ],
      "execution_count": 11,
      "outputs": []
    },
    {
      "cell_type": "markdown",
      "metadata": {
        "id": "qnXLeU1JkM-L"
      },
      "source": [
        "# Sentiment Analysis Example"
      ]
    },
    {
      "cell_type": "markdown",
      "metadata": {
        "id": "ygjNhJlpigMg"
      },
      "source": [
        "We will use a great package from [hugging-face](https://huggingface.co/) called `Transformers`"
      ]
    },
    {
      "cell_type": "code",
      "metadata": {
        "id": "62UkLNRMiZsA"
      },
      "source": [
        "from transformers import pipeline"
      ],
      "execution_count": 2,
      "outputs": []
    },
    {
      "cell_type": "markdown",
      "metadata": {
        "id": "jRbvLo8fjLmH"
      },
      "source": [
        "They have already trained and ready pipelines, using BERT for things like sentiment-analysis classification:"
      ]
    },
    {
      "cell_type": "code",
      "metadata": {
        "id": "c7ttQRPYidAc",
        "outputId": "d47d281f-f224-4145-8718-af1966ca4579",
        "colab": {
          "base_uri": "https://localhost:8080/",
          "height": 162,
          "referenced_widgets": [
            "9b467c24a52247bebc13acdcc316c9dc",
            "d1fb6c3d567d4c6092fcb8a95be5c726",
            "c3aac0a96c724ce5b4de799b91c5aada",
            "3303f2f7bc134500ac1780e5223d46b6",
            "de917f263d724430a3fca7533a0afe27",
            "81a6d0116cf54393bbab5a7386591f3f",
            "28707bd4a75f4efd8ebbe280dfc25a69",
            "c55ab1679bef43d987b4f24bda06c210",
            "b7129886f94a4728b069f66980f9c2c0",
            "06b4a299189548a7ad2f356c87825611",
            "905b0a1baf7f4bd48d134978bd140529",
            "524c656823ec477983900fd7a71d98d8",
            "1d2584f2e08b474fb4cf92324a98b8d1",
            "f3dc54c2213044c190099448aaf86538",
            "1ba834b57fc04c3e9feefe7c7da89944",
            "3120632cfffc4bcca0f4e2f1478694bf",
            "23ab1d205ec9460b871599ffe562fade",
            "5a25362ead464f48b9334a5a56905d9e",
            "c7469fe4b9914b3199108421a4848b73",
            "b7436ef3d9814188b892caa75bee7918",
            "68a0e0ba347e4a3caf70a64ec5f9c3bd",
            "1e0bb43ace3e440ba341a1667790fcd7",
            "6372c07d75b8465bafd6b1915587e6af",
            "3c0b8681bac645a09319a22415c9c6d4",
            "44e8cae071c8440fb6316e4ecb30afc3",
            "c9cad508f87649aa8b3b424ad3d3e8b4",
            "96a881c734f541d48f8ab70b9e07badf",
            "06a37923410946e7a3689d47197e7967",
            "e5d16b3474fc4a979b84b9edfcdf627a",
            "b0cc310e14f94e709dc74c360d941961",
            "f36823190bd64d22be65ff3744dcb064",
            "3fce39f00cc3448797b94ca817ad5871",
            "c5ba5839a00c49dcb517ab4f268d5d31",
            "65df2fe3ee8046168b23df689ed9fac5",
            "cd7295e87b7c4ae4bdb75a17cee5c55b",
            "3ebac33b257c4794a2d466c81f7c5cce",
            "1a4c6a7fa70145e8a06b4883e7f03217",
            "1b90f33b36b84586bf6efc72b5caedf6",
            "3a9a4bfd10334c9995db78f6f03c2883",
            "f9d3cc22568b44d8b508ddcdcbc4e7aa",
            "1d03407f0037459bab8683f35cc77c36",
            "01cc7d4def984a0ca77e365ea4644234",
            "75ac66bc27074059b050636d50178ffc",
            "81a2fc8c87b54e33a173253cb0949f80"
          ]
        }
      },
      "source": [
        "nlp = pipeline('sentiment-analysis')"
      ],
      "execution_count": 3,
      "outputs": [
        {
          "output_type": "stream",
          "name": "stderr",
          "text": [
            "No model was supplied, defaulted to distilbert-base-uncased-finetuned-sst-2-english (https://huggingface.co/distilbert-base-uncased-finetuned-sst-2-english)\n"
          ]
        },
        {
          "output_type": "display_data",
          "data": {
            "application/vnd.jupyter.widget-view+json": {
              "model_id": "9b467c24a52247bebc13acdcc316c9dc",
              "version_minor": 0,
              "version_major": 2
            },
            "text/plain": [
              "Downloading:   0%|          | 0.00/629 [00:00<?, ?B/s]"
            ]
          },
          "metadata": {}
        },
        {
          "output_type": "display_data",
          "data": {
            "application/vnd.jupyter.widget-view+json": {
              "model_id": "524c656823ec477983900fd7a71d98d8",
              "version_minor": 0,
              "version_major": 2
            },
            "text/plain": [
              "Downloading:   0%|          | 0.00/255M [00:00<?, ?B/s]"
            ]
          },
          "metadata": {}
        },
        {
          "output_type": "display_data",
          "data": {
            "application/vnd.jupyter.widget-view+json": {
              "model_id": "6372c07d75b8465bafd6b1915587e6af",
              "version_minor": 0,
              "version_major": 2
            },
            "text/plain": [
              "Downloading:   0%|          | 0.00/48.0 [00:00<?, ?B/s]"
            ]
          },
          "metadata": {}
        },
        {
          "output_type": "display_data",
          "data": {
            "application/vnd.jupyter.widget-view+json": {
              "model_id": "65df2fe3ee8046168b23df689ed9fac5",
              "version_minor": 0,
              "version_major": 2
            },
            "text/plain": [
              "Downloading:   0%|          | 0.00/226k [00:00<?, ?B/s]"
            ]
          },
          "metadata": {}
        }
      ]
    },
    {
      "cell_type": "code",
      "metadata": {
        "id": "wzahe_TBinmW",
        "outputId": "d5448e31-b729-41eb-b7c7-92b6357b37ba",
        "colab": {
          "base_uri": "https://localhost:8080/"
        }
      },
      "source": [
        "nlp('we love you')"
      ],
      "execution_count": 4,
      "outputs": [
        {
          "output_type": "execute_result",
          "data": {
            "text/plain": [
              "[{'label': 'POSITIVE', 'score': 0.9998704195022583}]"
            ]
          },
          "metadata": {},
          "execution_count": 4
        }
      ]
    },
    {
      "cell_type": "markdown",
      "metadata": {
        "id": "NAmheOQ2jSuy"
      },
      "source": [
        "But be aware that although it may seem to be working well ..."
      ]
    },
    {
      "cell_type": "code",
      "metadata": {
        "id": "9HMh-zYYiruj",
        "outputId": "5a5c0120-8850-4b92-8da4-fe815f70519f",
        "colab": {
          "base_uri": "https://localhost:8080/"
        }
      },
      "source": [
        "nlp('I ate pizza with olives.')"
      ],
      "execution_count": 5,
      "outputs": [
        {
          "output_type": "execute_result",
          "data": {
            "text/plain": [
              "[{'label': 'POSITIVE', 'score': 0.9042280912399292}]"
            ]
          },
          "metadata": {},
          "execution_count": 5
        }
      ]
    },
    {
      "cell_type": "code",
      "metadata": {
        "id": "g2pdhszXi1WL",
        "outputId": "d122cc83-e5eb-46a1-c809-63bb36d22d5e",
        "colab": {
          "base_uri": "https://localhost:8080/"
        }
      },
      "source": [
        "nlp('I ate pizza with olives. it was cold')"
      ],
      "execution_count": 6,
      "outputs": [
        {
          "output_type": "execute_result",
          "data": {
            "text/plain": [
              "[{'label': 'NEGATIVE', 'score': 0.9971919655799866}]"
            ]
          },
          "metadata": {},
          "execution_count": 6
        }
      ]
    },
    {
      "cell_type": "code",
      "metadata": {
        "id": "--0Rd4xHiwJD",
        "outputId": "d7a34930-fba3-4ab8-ea0a-9ddb3c3eb599",
        "colab": {
          "base_uri": "https://localhost:8080/"
        }
      },
      "source": [
        "nlp('I ate pizza with olives, but the pizza was cold')"
      ],
      "execution_count": 7,
      "outputs": [
        {
          "output_type": "execute_result",
          "data": {
            "text/plain": [
              "[{'label': 'NEGATIVE', 'score': 0.9980430603027344}]"
            ]
          },
          "metadata": {},
          "execution_count": 7
        }
      ]
    },
    {
      "cell_type": "markdown",
      "metadata": {
        "id": "7ax1OfnwjcPG"
      },
      "source": [
        "... it might not always match your expectations:"
      ]
    },
    {
      "cell_type": "code",
      "metadata": {
        "id": "y4DQXTEwi9qy",
        "outputId": "11e9cbd8-3e20-4e11-e25a-1ba9239385aa",
        "colab": {
          "base_uri": "https://localhost:8080/"
        }
      },
      "source": [
        "nlp('It was cold outside. I ate pizza with olives.')"
      ],
      "execution_count": 8,
      "outputs": [
        {
          "output_type": "execute_result",
          "data": {
            "text/plain": [
              "[{'label': 'NEGATIVE', 'score': 0.9729326963424683}]"
            ]
          },
          "metadata": {},
          "execution_count": 8
        }
      ]
    },
    {
      "cell_type": "code",
      "metadata": {
        "id": "ZGG52cnvjirD",
        "outputId": "0d6a33a7-99aa-40c6-b72b-c169b7dc6252",
        "colab": {
          "base_uri": "https://localhost:8080/"
        }
      },
      "source": [
        "nlp('I am dying to see you')"
      ],
      "execution_count": null,
      "outputs": [
        {
          "output_type": "execute_result",
          "data": {
            "text/plain": [
              "[{'label': 'NEGATIVE', 'score': 0.8540693521499634}]"
            ]
          },
          "metadata": {
            "tags": []
          },
          "execution_count": 10
        }
      ]
    },
    {
      "cell_type": "markdown",
      "source": [
        "Let's test filling-in masked values:"
      ],
      "metadata": {
        "id": "BgQEggZG4FuJ"
      }
    },
    {
      "cell_type": "code",
      "metadata": {
        "id": "BMODFExrBm2l",
        "outputId": "517494bb-e059-481a-a8ca-0e77c04392a2",
        "colab": {
          "base_uri": "https://localhost:8080/",
          "height": 194,
          "referenced_widgets": [
            "5c4d0ecd68074796a53dc15400a22c9d",
            "1e488ad0c7894cffbc1a25926d7a9a40",
            "bcf67e269918481099e5c95db33792ce",
            "9524703ba72d43f0b00f6c66a73c5b20",
            "7fb0618d1380474085bbeaa9278af301",
            "11df322df3f2405bbd11198ea70b5be5",
            "3ac22793187d4e339a5db9ba090c4a46",
            "f37396bb2df04bc6bd563d9752e85ae0",
            "52241ffab74e45cdbaf69117099978a6",
            "ace0b3c8b9f6446ca3e741079795e280",
            "d4e4c109962a4e6c90715cebb7a7fd17",
            "f097cad76b8446048f42d8d0e109e670",
            "e08e438de95c4a5292ac73b77858b07b",
            "1e7d263fe9434ea0afc2aeb15aee93a9",
            "e1e92ce4b29642eda9ee6eb592faff3b",
            "d7aa6a01d172434086f9b0841a7955a4",
            "553042d6762e4e1a8459265fbaa576cd",
            "eeb5ee7743fc4d93b58cfed59e24a922",
            "0d28ad3528b140dd8a920358384edb13",
            "138aa731487c48fc91b3e79aca009e84",
            "269b3d0b85314d509f6a1dcde3ec02e5",
            "4c2b180ad4fb4ebfa7b662d22a1d14c0",
            "0a49f42aeef94e5e823db558a61cfc2e",
            "f36d1ee7468e4b408eeba09caf4a646b",
            "34f7e319b66c4dc68457d8d2c37ae5ac",
            "2c078d87e1bc446b858a4b800e3222b6",
            "c6eda574706c4ef78c622ae9897724e4",
            "96504ba86bb640bea1613d28479ebc88",
            "d5087f51e9ee411cbc797815318f3dae",
            "c4f45b3eadeb4d298615d6225d9d3044",
            "f9e0045738ea44bc80aa37cb663bbd83",
            "2e24e870e2e64f6996c8867af321c864",
            "7c7a58116c6343e08ca6f986f9fa086b",
            "bec135a3f227438f9ae48872db7eaac3",
            "c4e766a92a81433d98af729d09f9f995",
            "67da9f6a217c4bdeb6b426f8b75750ab",
            "fb6d393d9d724fbcb3a76c3fe5da15bf",
            "3bb2fb5d0fb64c46a01682b02c0661d3",
            "8fa4e656ed3147409a97a932b1a0917e",
            "9bc4e226c8254b128c58f8f6925405d2",
            "8e2d6a4277704180b91bdd4ddfa16212",
            "9628a7afb06f4d3e8d0dcec98173aaae",
            "e9fd8bcb2e084e0796c5542201b8a97f",
            "37e1e7d1b2954c7f98c7e4800b17865c",
            "a1f598f67ef64961b219e59c3cd8473f",
            "2c3ee6969a484c77a38d7ba2b935c86d",
            "2231cb214e7b43fa8bcb3f43f9032c24",
            "c97fdb570ded41b287ddf3e76ad626d2",
            "2cad6b88767a4c9fba4351c24d9db80c",
            "8eea6c27f750458ebf4cfc17265aefbc",
            "f15ceff5de2f44639309a2e97c090bb4",
            "bb5b32253308475584ad908f7d5340a2",
            "907ff709d3914ba1854b44c03cea3915",
            "7595a7b4a00c41a6b468b355b8e1dd5d",
            "b9fa2ff383c048bebbcef148e4d49043"
          ]
        }
      },
      "source": [
        "nlp = pipeline(\"fill-mask\")"
      ],
      "execution_count": 9,
      "outputs": [
        {
          "output_type": "stream",
          "name": "stderr",
          "text": [
            "No model was supplied, defaulted to distilroberta-base (https://huggingface.co/distilroberta-base)\n"
          ]
        },
        {
          "output_type": "display_data",
          "data": {
            "application/vnd.jupyter.widget-view+json": {
              "model_id": "5c4d0ecd68074796a53dc15400a22c9d",
              "version_minor": 0,
              "version_major": 2
            },
            "text/plain": [
              "Downloading:   0%|          | 0.00/480 [00:00<?, ?B/s]"
            ]
          },
          "metadata": {}
        },
        {
          "output_type": "display_data",
          "data": {
            "application/vnd.jupyter.widget-view+json": {
              "model_id": "f097cad76b8446048f42d8d0e109e670",
              "version_minor": 0,
              "version_major": 2
            },
            "text/plain": [
              "Downloading:   0%|          | 0.00/316M [00:00<?, ?B/s]"
            ]
          },
          "metadata": {}
        },
        {
          "output_type": "display_data",
          "data": {
            "application/vnd.jupyter.widget-view+json": {
              "model_id": "0a49f42aeef94e5e823db558a61cfc2e",
              "version_minor": 0,
              "version_major": 2
            },
            "text/plain": [
              "Downloading:   0%|          | 0.00/878k [00:00<?, ?B/s]"
            ]
          },
          "metadata": {}
        },
        {
          "output_type": "display_data",
          "data": {
            "application/vnd.jupyter.widget-view+json": {
              "model_id": "bec135a3f227438f9ae48872db7eaac3",
              "version_minor": 0,
              "version_major": 2
            },
            "text/plain": [
              "Downloading:   0%|          | 0.00/446k [00:00<?, ?B/s]"
            ]
          },
          "metadata": {}
        },
        {
          "output_type": "display_data",
          "data": {
            "application/vnd.jupyter.widget-view+json": {
              "model_id": "a1f598f67ef64961b219e59c3cd8473f",
              "version_minor": 0,
              "version_major": 2
            },
            "text/plain": [
              "Downloading:   0%|          | 0.00/1.29M [00:00<?, ?B/s]"
            ]
          },
          "metadata": {}
        }
      ]
    },
    {
      "cell_type": "code",
      "metadata": {
        "id": "XTG9Z_QfCNSE",
        "outputId": "8d3c5ae9-4366-483e-81c6-50e6cb601028",
        "colab": {
          "base_uri": "https://localhost:8080/"
        }
      },
      "source": [
        "pprint(nlp(f\"{nlp.tokenizer.mask_token} is the president of the united states.\"))"
      ],
      "execution_count": 12,
      "outputs": [
        {
          "output_type": "stream",
          "name": "stdout",
          "text": [
            "[{'score': 0.24416854977607727,\n",
            "  'sequence': 'Trump is the president of the united states.',\n",
            "  'token': 7565,\n",
            "  'token_str': 'Trump'},\n",
            " {'score': 0.20126576721668243,\n",
            "  'sequence': 'Obama is the president of the united states.',\n",
            "  'token': 33382,\n",
            "  'token_str': 'Obama'},\n",
            " {'score': 0.07434763014316559,\n",
            "  'sequence': ' Trump is the president of the united states.',\n",
            "  'token': 140,\n",
            "  'token_str': ' Trump'},\n",
            " {'score': 0.04162748157978058,\n",
            "  'sequence': 'Clinton is the president of the united states.',\n",
            "  'token': 36206,\n",
            "  'token_str': 'Clinton'},\n",
            " {'score': 0.03837738186120987,\n",
            "  'sequence': ' Obama is the president of the united states.',\n",
            "  'token': 1284,\n",
            "  'token_str': ' Obama'}]\n"
          ]
        }
      ]
    },
    {
      "cell_type": "code",
      "metadata": {
        "id": "17rfzNR6CYTg",
        "outputId": "624d6913-44d3-44b6-9f1d-7f6092d9db13",
        "colab": {
          "base_uri": "https://localhost:8080/"
        }
      },
      "source": [
        "pprint(nlp(f\"There's no place like {nlp.tokenizer.mask_token}.\"))"
      ],
      "execution_count": 13,
      "outputs": [
        {
          "output_type": "stream",
          "name": "stdout",
          "text": [
            "[{'score': 0.037080999463796616,\n",
            "  'sequence': \"There's no place like hell.\",\n",
            "  'token': 7105,\n",
            "  'token_str': ' hell'},\n",
            " {'score': 0.0345931351184845,\n",
            "  'sequence': \"There's no place like this.\",\n",
            "  'token': 42,\n",
            "  'token_str': ' this'},\n",
            " {'score': 0.02284202165901661,\n",
            "  'sequence': \"There's no place like that.\",\n",
            "  'token': 14,\n",
            "  'token_str': ' that'},\n",
            " {'score': 0.017316315323114395,\n",
            "  'sequence': \"There's no place like yours.\",\n",
            "  'token': 14314,\n",
            "  'token_str': ' yours'},\n",
            " {'score': 0.01385930273681879,\n",
            "  'sequence': \"There's no place like ours.\",\n",
            "  'token': 15157,\n",
            "  'token_str': ' ours'}]\n"
          ]
        }
      ]
    },
    {
      "cell_type": "markdown",
      "metadata": {
        "id": "mFuUYuBikRFZ"
      },
      "source": [
        "# BERT"
      ]
    },
    {
      "cell_type": "markdown",
      "metadata": {
        "id": "nRUE9UzqRHN2"
      },
      "source": [
        "## Full Model Example"
      ]
    },
    {
      "cell_type": "markdown",
      "metadata": {
        "id": "URo2wTuAj0is"
      },
      "source": [
        "Now let's get the full model to work."
      ]
    },
    {
      "cell_type": "code",
      "metadata": {
        "id": "Z2ALKyYrgM3A"
      },
      "source": [
        "import torch\n",
        "from transformers import BertTokenizer, BertModel, BertForMaskedLM\n"
      ],
      "execution_count": 14,
      "outputs": []
    },
    {
      "cell_type": "code",
      "metadata": {
        "id": "BKi_O3smh_Ob"
      },
      "source": [
        "import logging\n",
        "logging.basicConfig(level=logging.INFO)"
      ],
      "execution_count": 15,
      "outputs": []
    },
    {
      "cell_type": "markdown",
      "source": [
        "Remind yourself the discussion about BERT in the class. BERT has several special tokens. Specifically '[CLS]' begins a sequence, and '[SEP]' separates between sentences.\n",
        "\n",
        "'[MASK]' is a special token that is mostly used during training, to teach the model to predict the missing words.\n",
        "\n",
        "BERT needs 3 sequences as an input:\n",
        "* The sentence words - tokenized and converted to a list of IDs\n",
        "* Segment IDS - 0s and 1s indicating which words belong to which sentence\n",
        "* and a position encoding vector\n",
        "\n",
        "![Input-representation-of-BERT-model.png](data:image/png;base64,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)"
      ],
      "metadata": {
        "id": "ygkQ3YAB4oRs"
      }
    },
    {
      "cell_type": "code",
      "metadata": {
        "id": "887oKubQkCer"
      },
      "source": [
        "tokenizer = BertTokenizer.from_pretrained('bert-base-uncased')\n",
        "\n",
        "# Tokenize input\n",
        "text = \"[CLS] Who was Jim Henson ? [SEP] Jim Henson was a puppeteer [SEP]\"\n",
        "tokenized_text = tokenizer.tokenize(text)\n",
        "\n",
        "# Mask a token that we will try to predict back with `BertForMaskedLM`\n",
        "masked_index = 8\n",
        "tokenized_text[masked_index] = '[MASK]'\n",
        "assert tokenized_text == ['[CLS]', 'who', 'was', 'jim', 'henson', '?', '[SEP]', 'jim', '[MASK]', 'was', 'a', 'puppet', '##eer', '[SEP]']\n",
        "\n",
        "# Convert token to vocabulary indices\n",
        "indexed_tokens = tokenizer.convert_tokens_to_ids(tokenized_text)\n",
        "# Define sentence A and B indices associated to 1st and 2nd sentences (see paper)\n",
        "segments_ids = [0, 0, 0, 0, 0, 0, 0, 1, 1, 1, 1, 1, 1, 1]\n",
        "\n",
        "# Convert inputs to PyTorch tensors\n",
        "tokens_tensor = torch.tensor([indexed_tokens])\n",
        "segments_tensors = torch.tensor([segments_ids])\n"
      ],
      "execution_count": 17,
      "outputs": []
    },
    {
      "cell_type": "code",
      "metadata": {
        "id": "O5lERomjmKxy",
        "outputId": "2e82c977-135c-4b0f-de4d-b2d288b2461d",
        "colab": {
          "base_uri": "https://localhost:8080/"
        }
      },
      "source": [
        "tokenized_text"
      ],
      "execution_count": 18,
      "outputs": [
        {
          "output_type": "execute_result",
          "data": {
            "text/plain": [
              "['[CLS]', 'who', 'was', 'jim', 'henson', '?', '[SEP]', 'jim', '[MASK]', 'was', 'a', 'puppet', '##eer', '[SEP]']"
            ]
          },
          "metadata": {},
          "execution_count": 18
        }
      ]
    },
    {
      "cell_type": "code",
      "metadata": {
        "id": "R11SdI6lkbLq",
        "outputId": "78bab793-9ecf-4033-d7f5-7d687207b7ef",
        "colab": {
          "base_uri": "https://localhost:8080/",
          "height": 121,
          "referenced_widgets": [
            "5b80f6fa211e4a129a4db8ab4c6fbf91",
            "2589c3b230fb4b0db1bf52b66e5f2a19",
            "d7f659e8665f4270ae7452fcfcd9b1a5",
            "c1b5f4d8ffe14be89846659483a340c7",
            "4e3b19faf1254e63aaa2f10baa792268",
            "50118f4af30e4dfdbf483f030bacf92a",
            "5e81d0159b5740d891e30708292752a5",
            "9172164f245b45e8a799e97d562b178c",
            "e458683716164deea36e8d412a3609d5",
            "45e15162f36248f689b59fc927b2c67e",
            "e0441185a0e24ed38e8011b273e51e8a"
          ]
        }
      },
      "source": [
        "# Load pre-trained model (weights)\n",
        "model = BertModel.from_pretrained('bert-base-uncased')\n",
        "device = 'cuda' if torch.cuda.is_available() else 'cpu'\n",
        "\n",
        "# Set the model in evaluation mode to deactivate the DropOut modules\n",
        "# This is IMPORTANT to have reproducible results during evaluation!\n",
        "model.eval()\n",
        "\n",
        "# If you have a GPU, put everything on cuda\n",
        "tokens_tensor = tokens_tensor.to(device)\n",
        "segments_tensors = segments_tensors.to(device)\n",
        "model.to(device)\n",
        "\n",
        "# Predict hidden states features for each layer\n",
        "with torch.no_grad():\n",
        "    # See the models docstrings for the detail of the inputs\n",
        "    outputs = model(tokens_tensor, token_type_ids=segments_tensors)\n",
        "    \n",
        "    # Transformers models always output tuples.\n",
        "    # See the models docstrings for the detail of all the outputs\n",
        "    # In our case, the first element is the hidden state of the last layer of the Bert model\n",
        "    encoded_layers = outputs[0]\n",
        "\n",
        "# We have encoded our input sequence in a FloatTensor of shape (batch size, sequence length, model hidden dimension)\n",
        "assert tuple(encoded_layers.shape) == (1, len(indexed_tokens), model.config.hidden_size)"
      ],
      "execution_count": 19,
      "outputs": [
        {
          "output_type": "display_data",
          "data": {
            "application/vnd.jupyter.widget-view+json": {
              "model_id": "5b80f6fa211e4a129a4db8ab4c6fbf91",
              "version_minor": 0,
              "version_major": 2
            },
            "text/plain": [
              "Downloading:   0%|          | 0.00/420M [00:00<?, ?B/s]"
            ]
          },
          "metadata": {}
        },
        {
          "output_type": "stream",
          "name": "stderr",
          "text": [
            "Some weights of the model checkpoint at bert-base-uncased were not used when initializing BertModel: ['cls.seq_relationship.bias', 'cls.seq_relationship.weight', 'cls.predictions.bias', 'cls.predictions.transform.LayerNorm.bias', 'cls.predictions.decoder.weight', 'cls.predictions.transform.dense.weight', 'cls.predictions.transform.LayerNorm.weight', 'cls.predictions.transform.dense.bias']\n",
            "- This IS expected if you are initializing BertModel from the checkpoint of a model trained on another task or with another architecture (e.g. initializing a BertForSequenceClassification model from a BertForPreTraining model).\n",
            "- This IS NOT expected if you are initializing BertModel from the checkpoint of a model that you expect to be exactly identical (initializing a BertForSequenceClassification model from a BertForSequenceClassification model).\n"
          ]
        }
      ]
    },
    {
      "cell_type": "code",
      "metadata": {
        "id": "ndY8MVlkkibH",
        "outputId": "1970ed19-5082-4de2-fb30-ab56ed1fe664",
        "colab": {
          "base_uri": "https://localhost:8080/"
        }
      },
      "source": [
        "# Load pre-trained model (weights)\n",
        "model = BertForMaskedLM.from_pretrained('bert-base-uncased')\n",
        "model.eval()\n",
        "\n",
        "device = 'cuda' if torch.cuda.is_available() else 'cpu'\n",
        "\n",
        "# If you have a GPU, put everything on cuda\n",
        "tokens_tensor = tokens_tensor.to(device)\n",
        "segments_tensors = segments_tensors.to(device)\n",
        "model.to(device)\n",
        "\n",
        "# Predict all tokens\n",
        "with torch.no_grad():\n",
        "    outputs = model(tokens_tensor, token_type_ids=segments_tensors)\n",
        "    predictions = outputs[0]\n",
        "\n",
        "# confirm we were able to predict 'henson'\n",
        "predicted_index = torch.argmax(predictions[0, masked_index]).item()\n",
        "predicted_token = tokenizer.convert_ids_to_tokens([predicted_index])[0]\n",
        "assert predicted_token == 'henson'"
      ],
      "execution_count": 20,
      "outputs": [
        {
          "output_type": "stream",
          "name": "stderr",
          "text": [
            "Some weights of the model checkpoint at bert-base-uncased were not used when initializing BertForMaskedLM: ['cls.seq_relationship.bias', 'cls.seq_relationship.weight']\n",
            "- This IS expected if you are initializing BertForMaskedLM from the checkpoint of a model trained on another task or with another architecture (e.g. initializing a BertForSequenceClassification model from a BertForPreTraining model).\n",
            "- This IS NOT expected if you are initializing BertForMaskedLM from the checkpoint of a model that you expect to be exactly identical (initializing a BertForSequenceClassification model from a BertForSequenceClassification model).\n"
          ]
        }
      ]
    },
    {
      "cell_type": "markdown",
      "metadata": {
        "id": "whFgA_OZ2xm_"
      },
      "source": [
        "## Fine-tune example.\n",
        "\n",
        "This time we will fine-tune BERT on our special domain: **Pizza and Ice Cream**.\n",
        "\n",
        "We will train a sentiment analysis on the topic - where 1 is positive, and 0 is a negative sentiment.\n"
      ]
    },
    {
      "cell_type": "markdown",
      "metadata": {
        "id": "A2d6RSfTH3lu"
      },
      "source": [
        "https://lilianweng.github.io/lil-log/2019/01/31/generalized-language-models.html#supervised-fine-tuning"
      ]
    },
    {
      "cell_type": "code",
      "metadata": {
        "id": "tBG2LQZlHZd5"
      },
      "source": [
        "from transformers import BertForSequenceClassification"
      ],
      "execution_count": 21,
      "outputs": []
    },
    {
      "cell_type": "code",
      "metadata": {
        "id": "4PkWU-7vHZla",
        "outputId": "56eb8705-2222-4da0-f7de-8059534635dd",
        "colab": {
          "base_uri": "https://localhost:8080/"
        }
      },
      "source": [
        "model = BertForSequenceClassification.from_pretrained('bert-base-uncased', \n",
        "                                                      num_labels = 2,\n",
        "                                                      return_dict=True)\n",
        "model.train()\n",
        "\n",
        "from transformers import AdamW\n",
        "optimizer = AdamW(model.parameters(), lr=1e-5)\n"
      ],
      "execution_count": 22,
      "outputs": [
        {
          "output_type": "stream",
          "name": "stderr",
          "text": [
            "Some weights of the model checkpoint at bert-base-uncased were not used when initializing BertForSequenceClassification: ['cls.seq_relationship.bias', 'cls.seq_relationship.weight', 'cls.predictions.bias', 'cls.predictions.transform.LayerNorm.bias', 'cls.predictions.decoder.weight', 'cls.predictions.transform.dense.weight', 'cls.predictions.transform.LayerNorm.weight', 'cls.predictions.transform.dense.bias']\n",
            "- This IS expected if you are initializing BertForSequenceClassification from the checkpoint of a model trained on another task or with another architecture (e.g. initializing a BertForSequenceClassification model from a BertForPreTraining model).\n",
            "- This IS NOT expected if you are initializing BertForSequenceClassification from the checkpoint of a model that you expect to be exactly identical (initializing a BertForSequenceClassification model from a BertForSequenceClassification model).\n",
            "Some weights of BertForSequenceClassification were not initialized from the model checkpoint at bert-base-uncased and are newly initialized: ['classifier.weight', 'classifier.bias']\n",
            "You should probably TRAIN this model on a down-stream task to be able to use it for predictions and inference.\n"
          ]
        }
      ]
    },
    {
      "cell_type": "markdown",
      "metadata": {
        "id": "VeHUeDYkIBHl"
      },
      "source": [
        "We don't want to train the WHOLE Bert. \n",
        "\n",
        "It took originally more than 4 days on 100s of machines to train it, on a massive amoutn of data. Instead, we want to only fine-tune the upper layers, to match our need.\n",
        "\n",
        "The optimizer lets us choose layers where we want to focus at:"
      ]
    },
    {
      "cell_type": "code",
      "metadata": {
        "id": "to_Ursm4HZof"
      },
      "source": [
        "no_decay = ['bias', 'LayerNorm.weight']\n",
        "optimizer_grouped_parameters = [\n",
        "    {'params': [p for n, p in model.named_parameters() if not any(nd in n for nd in no_decay)], 'weight_decay': 0.01},\n",
        "    {'params': [p for n, p in model.named_parameters() if any(nd in n for nd in no_decay)], 'weight_decay': 0.0}\n",
        "]\n",
        "optimizer = AdamW(optimizer_grouped_parameters, lr=1e-5)\n"
      ],
      "execution_count": 33,
      "outputs": []
    },
    {
      "cell_type": "code",
      "metadata": {
        "id": "o71E6R3iI5Cd"
      },
      "source": [
        "text_batch = [\"I love Ice Cream.\", \n",
        "         \"I don't care for Ice Cream.\", \n",
        "         \"I like my pizza cold\", \n",
        "         \"The pizza was cold\", \n",
        "         \"The ice cream was amazing\", \n",
        "         \"The pizza toppings wer boring\",\n",
        "         \"He would like fries with that\",\n",
        "         \"Ice cream is awesome\"]\n",
        "  \n",
        "labels = [0, \n",
        "          1,\n",
        "          1,\n",
        "          0,\n",
        "          1,\n",
        "          0,\n",
        "          1,\n",
        "          1]"
      ],
      "execution_count": 34,
      "outputs": []
    },
    {
      "cell_type": "markdown",
      "metadata": {
        "id": "HWWQY8kdqJUd"
      },
      "source": [
        "Tokenizing and encoding, can be done through the huggingFace library with either:"
      ]
    },
    {
      "cell_type": "code",
      "metadata": {
        "id": "_qhj8GEOHZgt",
        "outputId": "58b697d8-f320-4cb6-ccd6-7bafe326813e",
        "colab": {
          "base_uri": "https://localhost:8080/"
        }
      },
      "source": [
        "encoding = tokenizer(text_batch, \n",
        "                     return_tensors='pt', # pt = pyTorch \n",
        "                     padding=True, \n",
        "                     truncation=True)\n",
        "\n",
        "input_ids = encoding['input_ids']\n",
        "attention_mask = encoding['attention_mask']\n",
        "\n",
        "print(input_ids[0])\n",
        "print(attention_mask[0])"
      ],
      "execution_count": 35,
      "outputs": [
        {
          "output_type": "stream",
          "name": "stdout",
          "text": [
            "tensor([ 101, 1045, 2293, 3256, 6949, 1012,  102,    0,    0,    0,    0])\n",
            "tensor([1, 1, 1, 1, 1, 1, 1, 0, 0, 0, 0])\n"
          ]
        }
      ]
    },
    {
      "cell_type": "markdown",
      "metadata": {
        "id": "gzMjU3QuqQ_9"
      },
      "source": [
        "or (newer):"
      ]
    },
    {
      "cell_type": "code",
      "metadata": {
        "id": "t0HhtZDnUIuF",
        "outputId": "366d5a88-2fac-4563-e48b-ea306f72089b",
        "colab": {
          "base_uri": "https://localhost:8080/"
        }
      },
      "source": [
        "encoded_dict = tokenizer.encode_plus(\n",
        "                        text_batch,                # Sentence to encode.\n",
        "                        add_special_tokens = True, # Add '[CLS]' and '[SEP]'\n",
        "                        padding = True,\n",
        "                        return_attention_mask = True,   # Construct attn. masks.\n",
        "                        return_tensors = 'pt',     # Return pytorch tensors.\n",
        "                        truncation=True\n",
        "                   )\n",
        "pprint(encoded_dict)"
      ],
      "execution_count": 36,
      "outputs": [
        {
          "output_type": "stream",
          "name": "stdout",
          "text": [
            "{'attention_mask': tensor([[1, 1, 1, 1, 1, 1, 1, 1, 1, 1]]),\n",
            " 'input_ids': tensor([[101, 100, 100, 100, 100, 100, 100, 100, 100, 102]]),\n",
            " 'token_type_ids': tensor([[0, 0, 0, 0, 0, 0, 0, 0, 0, 0]])}\n"
          ]
        }
      ]
    },
    {
      "cell_type": "code",
      "metadata": {
        "id": "UU3QVRzxUqEA"
      },
      "source": [
        "# Tokenize all of the sentences and map the tokens to thier word IDs.\n",
        "input_ids = []\n",
        "attention_masks = []\n",
        "\n",
        "# For every sentence...\n",
        "for sent in text_batch:\n",
        "    # `encode_plus` will:\n",
        "    #   (1) Tokenize the sentence.\n",
        "    #   (2) Prepend the `[CLS]` token to the start.\n",
        "    #   (3) Append the `[SEP]` token to the end.\n",
        "    #   (4) Map tokens to their IDs.\n",
        "    #   (5) Pad or truncate the sentence to `max_length`\n",
        "    #   (6) Create attention masks for [PAD] tokens.\n",
        "    encoded_dict = tokenizer.encode_plus(\n",
        "                        sent,                      # Sentence to encode.\n",
        "                        add_special_tokens = True, # Add '[CLS]' and '[SEP]'\n",
        "                        padding = True,\n",
        "                        max_length = 32,\n",
        "                        return_attention_mask = True,   # Construct attn. masks.\n",
        "                        return_tensors = 'pt',     # Return pytorch tensors.\n",
        "                        truncation=True\n",
        "                   )\n",
        "    \n",
        "    # Add the encoded sentence to the list.    \n",
        "    input_ids.append(encoded_dict['input_ids'])\n",
        "    \n",
        "    # And its attention mask (simply differentiates padding from non-padding).\n",
        "    attention_masks.append(encoded_dict['attention_mask'])"
      ],
      "execution_count": 37,
      "outputs": []
    },
    {
      "cell_type": "markdown",
      "metadata": {
        "id": "6b8e6y5OqX85"
      },
      "source": [
        "### Your Turn:\n",
        "convert the toy dataset to vectors, and input them into the model."
      ]
    },
    {
      "cell_type": "code",
      "metadata": {
        "id": "eKhkQ2Bqp121"
      },
      "source": [
        "### your code here:\n",
        "\n"
      ],
      "execution_count": null,
      "outputs": []
    },
    {
      "cell_type": "code",
      "metadata": {
        "id": "ii_CtYV2Incb"
      },
      "source": [
        "# Model fine-tuning (base-idea):\n",
        "\n",
        "# labels = torch.tensor(labels).unsqueeze(0)\n",
        "# outputs = model(input_ids, attention_mask=attention_mask, labels=labels)\n",
        "# loss = outputs.loss\n",
        "# loss.backward()\n",
        "# optimizer.step()\n"
      ],
      "execution_count": null,
      "outputs": []
    },
    {
      "cell_type": "markdown",
      "metadata": {
        "id": "d4mZXE2ERYJW"
      },
      "source": [
        "# Roberta"
      ]
    },
    {
      "cell_type": "markdown",
      "metadata": {
        "id": "dtBI1i7xCs3V"
      },
      "source": [
        "\n",
        "Instead of Big BERT, try using the smart sister: [roBERTa - A Robustly Optimized BERT Pretraining Approach](https://github.com/pytorch/fairseq/tree/master/examples/roberta)\n",
        "\n",
        "**RoBERTa** (short for Robustly optimized BERT approach; Liu, et al. 2019) refers to a new receipt for training BERT to achieve better results, as they found that the original BERT model is significantly undertrained. The receipt contains the following learnings:\n",
        "\n",
        "Train for longer with bigger batch size.\n",
        "Remove the next sentence prediction (NSP) task.\n",
        "Use longer sequences in training data format. The paper found that using individual sentences as inputs hurts downstream performance. Instead we should use multiple sentences sampled contiguously to form longer segments.\n",
        "Change the masking pattern dynamically. The original BERT applies masking once during the data preprocessing stage, resulting in a static mask across training epochs. RoBERTa applies masks in 10 different ways across 40 epochs.\n",
        "RoBERTa also added a new dataset CommonCrawl News and further confirmed that pretraining with more data helps improve the performance on downstream tasks. It was trained with the BPE on byte sequences, same as in GPT-2. They also found that choices of hyperparameters have a big impact on the model performance.\n",
        "\n",
        "\n",
        "HuggingFace has full support of it - https://huggingface.co/transformers/model_doc/roberta.html - but few adjustments will be necessary to get it to work.\n",
        "\n",
        "Check out the tutorial section for info how to use their impressive framework:\n",
        "* https://huggingface.co/transformers/pretrained_models.html\n",
        "\n"
      ]
    },
    {
      "cell_type": "markdown",
      "metadata": {
        "id": "P-P0eaMIR1wf"
      },
      "source": [
        "Your task is to build a classifier.\n",
        "\n",
        "You can choose between: "
      ]
    },
    {
      "cell_type": "markdown",
      "metadata": {
        "id": "gJki2HK_S8F1"
      },
      "source": [
        "## Sentence Acceptability\n",
        "1. classify an acceptability of a sentence, https://arxiv.org/abs/1805.12471\n",
        "\n",
        "For example:\n",
        "* Good - What did Betsy paint a picture of?\n",
        "* Bad - What was a picture of painted by Betsy?\n",
        "\n",
        "The dataset can be downloaded from:\n",
        "https://nyu-mll.github.io/CoLA/\n",
        "\n",
        "And the corresponding kaggle competition:\n",
        "\n",
        "https://www.kaggle.com/c/cola-out-of-domain-open-evaluation"
      ]
    },
    {
      "cell_type": "markdown",
      "metadata": {
        "id": "r8m6h_OwS81I"
      },
      "source": [
        "## Toxic Comments Classification\n",
        "2. Toxic comments classification\n",
        "\n",
        "https://www.kaggle.com/c/jigsaw-toxic-comment-classification-challenge/data\n",
        "\n",
        "Classify which of the comments are toxic, by fine-tuning RoBERTa on the dataset."
      ]
    },
    {
      "cell_type": "code",
      "metadata": {
        "id": "97q07UOu4bN1"
      },
      "source": [
        ""
      ],
      "execution_count": null,
      "outputs": []
    }
  ]
}