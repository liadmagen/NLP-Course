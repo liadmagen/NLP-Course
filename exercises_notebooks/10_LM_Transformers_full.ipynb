{
  "nbformat": 4,
  "nbformat_minor": 0,
  "metadata": {
    "colab": {
      "name": "10_LM_Transformers_full.ipynb",
      "provenance": [],
      "collapsed_sections": [
        "fmf5HUOpkHUy"
      ],
      "include_colab_link": true
    },
    "kernelspec": {
      "name": "python3",
      "display_name": "Python 3"
    },
    "widgets": {
      "application/vnd.jupyter.widget-state+json": {
        "aabb156b5a8344018b69937acbf56ea8": {
          "model_module": "@jupyter-widgets/controls",
          "model_name": "HBoxModel",
          "model_module_version": "1.5.0",
          "state": {
            "_view_name": "HBoxView",
            "_dom_classes": [],
            "_model_name": "HBoxModel",
            "_view_module": "@jupyter-widgets/controls",
            "_model_module_version": "1.5.0",
            "_view_count": null,
            "_view_module_version": "1.5.0",
            "box_style": "",
            "layout": "IPY_MODEL_efc0f9daac6041fba62a9a33867d5099",
            "_model_module": "@jupyter-widgets/controls",
            "children": [
              "IPY_MODEL_b41d1fd6fda8433a8b32676dfd420d9c",
              "IPY_MODEL_7e52ef3427974c9f88fc1bf983b07727",
              "IPY_MODEL_b72209d208c246f1993817ed03aa7f32"
            ]
          }
        },
        "efc0f9daac6041fba62a9a33867d5099": {
          "model_module": "@jupyter-widgets/base",
          "model_name": "LayoutModel",
          "model_module_version": "1.2.0",
          "state": {
            "_view_name": "LayoutView",
            "grid_template_rows": null,
            "right": null,
            "justify_content": null,
            "_view_module": "@jupyter-widgets/base",
            "overflow": null,
            "_model_module_version": "1.2.0",
            "_view_count": null,
            "flex_flow": null,
            "width": null,
            "min_width": null,
            "border": null,
            "align_items": null,
            "bottom": null,
            "_model_module": "@jupyter-widgets/base",
            "top": null,
            "grid_column": null,
            "overflow_y": null,
            "overflow_x": null,
            "grid_auto_flow": null,
            "grid_area": null,
            "grid_template_columns": null,
            "flex": null,
            "_model_name": "LayoutModel",
            "justify_items": null,
            "grid_row": null,
            "max_height": null,
            "align_content": null,
            "visibility": null,
            "align_self": null,
            "height": null,
            "min_height": null,
            "padding": null,
            "grid_auto_rows": null,
            "grid_gap": null,
            "max_width": null,
            "order": null,
            "_view_module_version": "1.2.0",
            "grid_template_areas": null,
            "object_position": null,
            "object_fit": null,
            "grid_auto_columns": null,
            "margin": null,
            "display": null,
            "left": null
          }
        },
        "b41d1fd6fda8433a8b32676dfd420d9c": {
          "model_module": "@jupyter-widgets/controls",
          "model_name": "HTMLModel",
          "model_module_version": "1.5.0",
          "state": {
            "_view_name": "HTMLView",
            "style": "IPY_MODEL_2bb1512371ac40b98aafeed292b396be",
            "_dom_classes": [],
            "description": "",
            "_model_name": "HTMLModel",
            "placeholder": "​",
            "_view_module": "@jupyter-widgets/controls",
            "_model_module_version": "1.5.0",
            "value": "Downloading: 100%",
            "_view_count": null,
            "_view_module_version": "1.5.0",
            "description_tooltip": null,
            "_model_module": "@jupyter-widgets/controls",
            "layout": "IPY_MODEL_bd67120a47a84f4ca09f3bbe88016d6f"
          }
        },
        "7e52ef3427974c9f88fc1bf983b07727": {
          "model_module": "@jupyter-widgets/controls",
          "model_name": "FloatProgressModel",
          "model_module_version": "1.5.0",
          "state": {
            "_view_name": "ProgressView",
            "style": "IPY_MODEL_bf87755126e04461999bcdb825963776",
            "_dom_classes": [],
            "description": "",
            "_model_name": "FloatProgressModel",
            "bar_style": "success",
            "max": 440473133,
            "_view_module": "@jupyter-widgets/controls",
            "_model_module_version": "1.5.0",
            "value": 440473133,
            "_view_count": null,
            "_view_module_version": "1.5.0",
            "orientation": "horizontal",
            "min": 0,
            "description_tooltip": null,
            "_model_module": "@jupyter-widgets/controls",
            "layout": "IPY_MODEL_cc965614875548c5aa1da53932555a45"
          }
        },
        "b72209d208c246f1993817ed03aa7f32": {
          "model_module": "@jupyter-widgets/controls",
          "model_name": "HTMLModel",
          "model_module_version": "1.5.0",
          "state": {
            "_view_name": "HTMLView",
            "style": "IPY_MODEL_0b6cdfbc76104e92ac16930162f0c789",
            "_dom_classes": [],
            "description": "",
            "_model_name": "HTMLModel",
            "placeholder": "​",
            "_view_module": "@jupyter-widgets/controls",
            "_model_module_version": "1.5.0",
            "value": " 420M/420M [00:12&lt;00:00, 34.1MB/s]",
            "_view_count": null,
            "_view_module_version": "1.5.0",
            "description_tooltip": null,
            "_model_module": "@jupyter-widgets/controls",
            "layout": "IPY_MODEL_bee6b7d79f274d76a1c85a97fc468e2c"
          }
        },
        "2bb1512371ac40b98aafeed292b396be": {
          "model_module": "@jupyter-widgets/controls",
          "model_name": "DescriptionStyleModel",
          "model_module_version": "1.5.0",
          "state": {
            "_view_name": "StyleView",
            "_model_name": "DescriptionStyleModel",
            "description_width": "",
            "_view_module": "@jupyter-widgets/base",
            "_model_module_version": "1.5.0",
            "_view_count": null,
            "_view_module_version": "1.2.0",
            "_model_module": "@jupyter-widgets/controls"
          }
        },
        "bd67120a47a84f4ca09f3bbe88016d6f": {
          "model_module": "@jupyter-widgets/base",
          "model_name": "LayoutModel",
          "model_module_version": "1.2.0",
          "state": {
            "_view_name": "LayoutView",
            "grid_template_rows": null,
            "right": null,
            "justify_content": null,
            "_view_module": "@jupyter-widgets/base",
            "overflow": null,
            "_model_module_version": "1.2.0",
            "_view_count": null,
            "flex_flow": null,
            "width": null,
            "min_width": null,
            "border": null,
            "align_items": null,
            "bottom": null,
            "_model_module": "@jupyter-widgets/base",
            "top": null,
            "grid_column": null,
            "overflow_y": null,
            "overflow_x": null,
            "grid_auto_flow": null,
            "grid_area": null,
            "grid_template_columns": null,
            "flex": null,
            "_model_name": "LayoutModel",
            "justify_items": null,
            "grid_row": null,
            "max_height": null,
            "align_content": null,
            "visibility": null,
            "align_self": null,
            "height": null,
            "min_height": null,
            "padding": null,
            "grid_auto_rows": null,
            "grid_gap": null,
            "max_width": null,
            "order": null,
            "_view_module_version": "1.2.0",
            "grid_template_areas": null,
            "object_position": null,
            "object_fit": null,
            "grid_auto_columns": null,
            "margin": null,
            "display": null,
            "left": null
          }
        },
        "bf87755126e04461999bcdb825963776": {
          "model_module": "@jupyter-widgets/controls",
          "model_name": "ProgressStyleModel",
          "model_module_version": "1.5.0",
          "state": {
            "_view_name": "StyleView",
            "_model_name": "ProgressStyleModel",
            "description_width": "",
            "_view_module": "@jupyter-widgets/base",
            "_model_module_version": "1.5.0",
            "_view_count": null,
            "_view_module_version": "1.2.0",
            "bar_color": null,
            "_model_module": "@jupyter-widgets/controls"
          }
        },
        "cc965614875548c5aa1da53932555a45": {
          "model_module": "@jupyter-widgets/base",
          "model_name": "LayoutModel",
          "model_module_version": "1.2.0",
          "state": {
            "_view_name": "LayoutView",
            "grid_template_rows": null,
            "right": null,
            "justify_content": null,
            "_view_module": "@jupyter-widgets/base",
            "overflow": null,
            "_model_module_version": "1.2.0",
            "_view_count": null,
            "flex_flow": null,
            "width": null,
            "min_width": null,
            "border": null,
            "align_items": null,
            "bottom": null,
            "_model_module": "@jupyter-widgets/base",
            "top": null,
            "grid_column": null,
            "overflow_y": null,
            "overflow_x": null,
            "grid_auto_flow": null,
            "grid_area": null,
            "grid_template_columns": null,
            "flex": null,
            "_model_name": "LayoutModel",
            "justify_items": null,
            "grid_row": null,
            "max_height": null,
            "align_content": null,
            "visibility": null,
            "align_self": null,
            "height": null,
            "min_height": null,
            "padding": null,
            "grid_auto_rows": null,
            "grid_gap": null,
            "max_width": null,
            "order": null,
            "_view_module_version": "1.2.0",
            "grid_template_areas": null,
            "object_position": null,
            "object_fit": null,
            "grid_auto_columns": null,
            "margin": null,
            "display": null,
            "left": null
          }
        },
        "0b6cdfbc76104e92ac16930162f0c789": {
          "model_module": "@jupyter-widgets/controls",
          "model_name": "DescriptionStyleModel",
          "model_module_version": "1.5.0",
          "state": {
            "_view_name": "StyleView",
            "_model_name": "DescriptionStyleModel",
            "description_width": "",
            "_view_module": "@jupyter-widgets/base",
            "_model_module_version": "1.5.0",
            "_view_count": null,
            "_view_module_version": "1.2.0",
            "_model_module": "@jupyter-widgets/controls"
          }
        },
        "bee6b7d79f274d76a1c85a97fc468e2c": {
          "model_module": "@jupyter-widgets/base",
          "model_name": "LayoutModel",
          "model_module_version": "1.2.0",
          "state": {
            "_view_name": "LayoutView",
            "grid_template_rows": null,
            "right": null,
            "justify_content": null,
            "_view_module": "@jupyter-widgets/base",
            "overflow": null,
            "_model_module_version": "1.2.0",
            "_view_count": null,
            "flex_flow": null,
            "width": null,
            "min_width": null,
            "border": null,
            "align_items": null,
            "bottom": null,
            "_model_module": "@jupyter-widgets/base",
            "top": null,
            "grid_column": null,
            "overflow_y": null,
            "overflow_x": null,
            "grid_auto_flow": null,
            "grid_area": null,
            "grid_template_columns": null,
            "flex": null,
            "_model_name": "LayoutModel",
            "justify_items": null,
            "grid_row": null,
            "max_height": null,
            "align_content": null,
            "visibility": null,
            "align_self": null,
            "height": null,
            "min_height": null,
            "padding": null,
            "grid_auto_rows": null,
            "grid_gap": null,
            "max_width": null,
            "order": null,
            "_view_module_version": "1.2.0",
            "grid_template_areas": null,
            "object_position": null,
            "object_fit": null,
            "grid_auto_columns": null,
            "margin": null,
            "display": null,
            "left": null
          }
        },
        "99511d70874a40dab0569393afb52930": {
          "model_module": "@jupyter-widgets/controls",
          "model_name": "HBoxModel",
          "model_module_version": "1.5.0",
          "state": {
            "_view_name": "HBoxView",
            "_dom_classes": [],
            "_model_name": "HBoxModel",
            "_view_module": "@jupyter-widgets/controls",
            "_model_module_version": "1.5.0",
            "_view_count": null,
            "_view_module_version": "1.5.0",
            "box_style": "",
            "layout": "IPY_MODEL_7f41a45c0c7c490d971349701b2f8fa2",
            "_model_module": "@jupyter-widgets/controls",
            "children": [
              "IPY_MODEL_b08370e71423452697d42ee62cf173b4",
              "IPY_MODEL_afda340167364f3eb012a110d1200411",
              "IPY_MODEL_46e8a8afccc64c97af1893b6849922ee"
            ]
          }
        },
        "7f41a45c0c7c490d971349701b2f8fa2": {
          "model_module": "@jupyter-widgets/base",
          "model_name": "LayoutModel",
          "model_module_version": "1.2.0",
          "state": {
            "_view_name": "LayoutView",
            "grid_template_rows": null,
            "right": null,
            "justify_content": null,
            "_view_module": "@jupyter-widgets/base",
            "overflow": null,
            "_model_module_version": "1.2.0",
            "_view_count": null,
            "flex_flow": null,
            "width": null,
            "min_width": null,
            "border": null,
            "align_items": null,
            "bottom": null,
            "_model_module": "@jupyter-widgets/base",
            "top": null,
            "grid_column": null,
            "overflow_y": null,
            "overflow_x": null,
            "grid_auto_flow": null,
            "grid_area": null,
            "grid_template_columns": null,
            "flex": null,
            "_model_name": "LayoutModel",
            "justify_items": null,
            "grid_row": null,
            "max_height": null,
            "align_content": null,
            "visibility": null,
            "align_self": null,
            "height": null,
            "min_height": null,
            "padding": null,
            "grid_auto_rows": null,
            "grid_gap": null,
            "max_width": null,
            "order": null,
            "_view_module_version": "1.2.0",
            "grid_template_areas": null,
            "object_position": null,
            "object_fit": null,
            "grid_auto_columns": null,
            "margin": null,
            "display": null,
            "left": null
          }
        },
        "b08370e71423452697d42ee62cf173b4": {
          "model_module": "@jupyter-widgets/controls",
          "model_name": "HTMLModel",
          "model_module_version": "1.5.0",
          "state": {
            "_view_name": "HTMLView",
            "style": "IPY_MODEL_d0615a5785d54c6e85711476bdeefced",
            "_dom_classes": [],
            "description": "",
            "_model_name": "HTMLModel",
            "placeholder": "​",
            "_view_module": "@jupyter-widgets/controls",
            "_model_module_version": "1.5.0",
            "value": "Downloading: 100%",
            "_view_count": null,
            "_view_module_version": "1.5.0",
            "description_tooltip": null,
            "_model_module": "@jupyter-widgets/controls",
            "layout": "IPY_MODEL_2de0af8a901248b2ba541b138a9b5b25"
          }
        },
        "afda340167364f3eb012a110d1200411": {
          "model_module": "@jupyter-widgets/controls",
          "model_name": "FloatProgressModel",
          "model_module_version": "1.5.0",
          "state": {
            "_view_name": "ProgressView",
            "style": "IPY_MODEL_6981c0b2609b406aa7eee6bebe941a00",
            "_dom_classes": [],
            "description": "",
            "_model_name": "FloatProgressModel",
            "bar_style": "success",
            "max": 3928,
            "_view_module": "@jupyter-widgets/controls",
            "_model_module_version": "1.5.0",
            "value": 3928,
            "_view_count": null,
            "_view_module_version": "1.5.0",
            "orientation": "horizontal",
            "min": 0,
            "description_tooltip": null,
            "_model_module": "@jupyter-widgets/controls",
            "layout": "IPY_MODEL_58000c1898114722a9d16cede6401aef"
          }
        },
        "46e8a8afccc64c97af1893b6849922ee": {
          "model_module": "@jupyter-widgets/controls",
          "model_name": "HTMLModel",
          "model_module_version": "1.5.0",
          "state": {
            "_view_name": "HTMLView",
            "style": "IPY_MODEL_1b9bbedce1744e82978cd03fe6dd84a9",
            "_dom_classes": [],
            "description": "",
            "_model_name": "HTMLModel",
            "placeholder": "​",
            "_view_module": "@jupyter-widgets/controls",
            "_model_module_version": "1.5.0",
            "value": " 3.93k/3.93k [00:00&lt;00:00, 63.5kB/s]",
            "_view_count": null,
            "_view_module_version": "1.5.0",
            "description_tooltip": null,
            "_model_module": "@jupyter-widgets/controls",
            "layout": "IPY_MODEL_fa5b101584b64fdbb6d07fff656ec514"
          }
        },
        "d0615a5785d54c6e85711476bdeefced": {
          "model_module": "@jupyter-widgets/controls",
          "model_name": "DescriptionStyleModel",
          "model_module_version": "1.5.0",
          "state": {
            "_view_name": "StyleView",
            "_model_name": "DescriptionStyleModel",
            "description_width": "",
            "_view_module": "@jupyter-widgets/base",
            "_model_module_version": "1.5.0",
            "_view_count": null,
            "_view_module_version": "1.2.0",
            "_model_module": "@jupyter-widgets/controls"
          }
        },
        "2de0af8a901248b2ba541b138a9b5b25": {
          "model_module": "@jupyter-widgets/base",
          "model_name": "LayoutModel",
          "model_module_version": "1.2.0",
          "state": {
            "_view_name": "LayoutView",
            "grid_template_rows": null,
            "right": null,
            "justify_content": null,
            "_view_module": "@jupyter-widgets/base",
            "overflow": null,
            "_model_module_version": "1.2.0",
            "_view_count": null,
            "flex_flow": null,
            "width": null,
            "min_width": null,
            "border": null,
            "align_items": null,
            "bottom": null,
            "_model_module": "@jupyter-widgets/base",
            "top": null,
            "grid_column": null,
            "overflow_y": null,
            "overflow_x": null,
            "grid_auto_flow": null,
            "grid_area": null,
            "grid_template_columns": null,
            "flex": null,
            "_model_name": "LayoutModel",
            "justify_items": null,
            "grid_row": null,
            "max_height": null,
            "align_content": null,
            "visibility": null,
            "align_self": null,
            "height": null,
            "min_height": null,
            "padding": null,
            "grid_auto_rows": null,
            "grid_gap": null,
            "max_width": null,
            "order": null,
            "_view_module_version": "1.2.0",
            "grid_template_areas": null,
            "object_position": null,
            "object_fit": null,
            "grid_auto_columns": null,
            "margin": null,
            "display": null,
            "left": null
          }
        },
        "6981c0b2609b406aa7eee6bebe941a00": {
          "model_module": "@jupyter-widgets/controls",
          "model_name": "ProgressStyleModel",
          "model_module_version": "1.5.0",
          "state": {
            "_view_name": "StyleView",
            "_model_name": "ProgressStyleModel",
            "description_width": "",
            "_view_module": "@jupyter-widgets/base",
            "_model_module_version": "1.5.0",
            "_view_count": null,
            "_view_module_version": "1.2.0",
            "bar_color": null,
            "_model_module": "@jupyter-widgets/controls"
          }
        },
        "58000c1898114722a9d16cede6401aef": {
          "model_module": "@jupyter-widgets/base",
          "model_name": "LayoutModel",
          "model_module_version": "1.2.0",
          "state": {
            "_view_name": "LayoutView",
            "grid_template_rows": null,
            "right": null,
            "justify_content": null,
            "_view_module": "@jupyter-widgets/base",
            "overflow": null,
            "_model_module_version": "1.2.0",
            "_view_count": null,
            "flex_flow": null,
            "width": null,
            "min_width": null,
            "border": null,
            "align_items": null,
            "bottom": null,
            "_model_module": "@jupyter-widgets/base",
            "top": null,
            "grid_column": null,
            "overflow_y": null,
            "overflow_x": null,
            "grid_auto_flow": null,
            "grid_area": null,
            "grid_template_columns": null,
            "flex": null,
            "_model_name": "LayoutModel",
            "justify_items": null,
            "grid_row": null,
            "max_height": null,
            "align_content": null,
            "visibility": null,
            "align_self": null,
            "height": null,
            "min_height": null,
            "padding": null,
            "grid_auto_rows": null,
            "grid_gap": null,
            "max_width": null,
            "order": null,
            "_view_module_version": "1.2.0",
            "grid_template_areas": null,
            "object_position": null,
            "object_fit": null,
            "grid_auto_columns": null,
            "margin": null,
            "display": null,
            "left": null
          }
        },
        "1b9bbedce1744e82978cd03fe6dd84a9": {
          "model_module": "@jupyter-widgets/controls",
          "model_name": "DescriptionStyleModel",
          "model_module_version": "1.5.0",
          "state": {
            "_view_name": "StyleView",
            "_model_name": "DescriptionStyleModel",
            "description_width": "",
            "_view_module": "@jupyter-widgets/base",
            "_model_module_version": "1.5.0",
            "_view_count": null,
            "_view_module_version": "1.2.0",
            "_model_module": "@jupyter-widgets/controls"
          }
        },
        "fa5b101584b64fdbb6d07fff656ec514": {
          "model_module": "@jupyter-widgets/base",
          "model_name": "LayoutModel",
          "model_module_version": "1.2.0",
          "state": {
            "_view_name": "LayoutView",
            "grid_template_rows": null,
            "right": null,
            "justify_content": null,
            "_view_module": "@jupyter-widgets/base",
            "overflow": null,
            "_model_module_version": "1.2.0",
            "_view_count": null,
            "flex_flow": null,
            "width": null,
            "min_width": null,
            "border": null,
            "align_items": null,
            "bottom": null,
            "_model_module": "@jupyter-widgets/base",
            "top": null,
            "grid_column": null,
            "overflow_y": null,
            "overflow_x": null,
            "grid_auto_flow": null,
            "grid_area": null,
            "grid_template_columns": null,
            "flex": null,
            "_model_name": "LayoutModel",
            "justify_items": null,
            "grid_row": null,
            "max_height": null,
            "align_content": null,
            "visibility": null,
            "align_self": null,
            "height": null,
            "min_height": null,
            "padding": null,
            "grid_auto_rows": null,
            "grid_gap": null,
            "max_width": null,
            "order": null,
            "_view_module_version": "1.2.0",
            "grid_template_areas": null,
            "object_position": null,
            "object_fit": null,
            "grid_auto_columns": null,
            "margin": null,
            "display": null,
            "left": null
          }
        },
        "f860f8fbab43416da3ab786344a09207": {
          "model_module": "@jupyter-widgets/controls",
          "model_name": "HBoxModel",
          "model_module_version": "1.5.0",
          "state": {
            "_view_name": "HBoxView",
            "_dom_classes": [],
            "_model_name": "HBoxModel",
            "_view_module": "@jupyter-widgets/controls",
            "_model_module_version": "1.5.0",
            "_view_count": null,
            "_view_module_version": "1.5.0",
            "box_style": "",
            "layout": "IPY_MODEL_b8adaa40c91c406ea683a9f11bfd290e",
            "_model_module": "@jupyter-widgets/controls",
            "children": [
              "IPY_MODEL_dc89424454d1489da228532616527555",
              "IPY_MODEL_ef18bb144e484aac93694ae9cfa2e42b",
              "IPY_MODEL_4fb5c677519641b890471b40f7fb0cd5"
            ]
          }
        },
        "b8adaa40c91c406ea683a9f11bfd290e": {
          "model_module": "@jupyter-widgets/base",
          "model_name": "LayoutModel",
          "model_module_version": "1.2.0",
          "state": {
            "_view_name": "LayoutView",
            "grid_template_rows": null,
            "right": null,
            "justify_content": null,
            "_view_module": "@jupyter-widgets/base",
            "overflow": null,
            "_model_module_version": "1.2.0",
            "_view_count": null,
            "flex_flow": null,
            "width": null,
            "min_width": null,
            "border": null,
            "align_items": null,
            "bottom": null,
            "_model_module": "@jupyter-widgets/base",
            "top": null,
            "grid_column": null,
            "overflow_y": null,
            "overflow_x": null,
            "grid_auto_flow": null,
            "grid_area": null,
            "grid_template_columns": null,
            "flex": null,
            "_model_name": "LayoutModel",
            "justify_items": null,
            "grid_row": null,
            "max_height": null,
            "align_content": null,
            "visibility": null,
            "align_self": null,
            "height": null,
            "min_height": null,
            "padding": null,
            "grid_auto_rows": null,
            "grid_gap": null,
            "max_width": null,
            "order": null,
            "_view_module_version": "1.2.0",
            "grid_template_areas": null,
            "object_position": null,
            "object_fit": null,
            "grid_auto_columns": null,
            "margin": null,
            "display": null,
            "left": null
          }
        },
        "dc89424454d1489da228532616527555": {
          "model_module": "@jupyter-widgets/controls",
          "model_name": "HTMLModel",
          "model_module_version": "1.5.0",
          "state": {
            "_view_name": "HTMLView",
            "style": "IPY_MODEL_0c90f3e0aee74ebf9aecd405988f1c06",
            "_dom_classes": [],
            "description": "",
            "_model_name": "HTMLModel",
            "placeholder": "​",
            "_view_module": "@jupyter-widgets/controls",
            "_model_module_version": "1.5.0",
            "value": "Downloading: 100%",
            "_view_count": null,
            "_view_module_version": "1.5.0",
            "description_tooltip": null,
            "_model_module": "@jupyter-widgets/controls",
            "layout": "IPY_MODEL_3579051da031404c8cfb2dbecad457eb"
          }
        },
        "ef18bb144e484aac93694ae9cfa2e42b": {
          "model_module": "@jupyter-widgets/controls",
          "model_name": "FloatProgressModel",
          "model_module_version": "1.5.0",
          "state": {
            "_view_name": "ProgressView",
            "style": "IPY_MODEL_a8cbe66e0d764e5fa1ff3b9c9e1ec441",
            "_dom_classes": [],
            "description": "",
            "_model_name": "FloatProgressModel",
            "bar_style": "success",
            "max": 487201907,
            "_view_module": "@jupyter-widgets/controls",
            "_model_module_version": "1.5.0",
            "value": 487201907,
            "_view_count": null,
            "_view_module_version": "1.5.0",
            "orientation": "horizontal",
            "min": 0,
            "description_tooltip": null,
            "_model_module": "@jupyter-widgets/controls",
            "layout": "IPY_MODEL_f11107a501e449d39c8995424128eb7e"
          }
        },
        "4fb5c677519641b890471b40f7fb0cd5": {
          "model_module": "@jupyter-widgets/controls",
          "model_name": "HTMLModel",
          "model_module_version": "1.5.0",
          "state": {
            "_view_name": "HTMLView",
            "style": "IPY_MODEL_fb0505c0c9504b3497b438afde47267c",
            "_dom_classes": [],
            "description": "",
            "_model_name": "HTMLModel",
            "placeholder": "​",
            "_view_module": "@jupyter-widgets/controls",
            "_model_module_version": "1.5.0",
            "value": " 487M/487M [00:31&lt;00:00, 32.2MB/s]",
            "_view_count": null,
            "_view_module_version": "1.5.0",
            "description_tooltip": null,
            "_model_module": "@jupyter-widgets/controls",
            "layout": "IPY_MODEL_3f2b38a0ba2e4d76bd6786edeedc57e4"
          }
        },
        "0c90f3e0aee74ebf9aecd405988f1c06": {
          "model_module": "@jupyter-widgets/controls",
          "model_name": "DescriptionStyleModel",
          "model_module_version": "1.5.0",
          "state": {
            "_view_name": "StyleView",
            "_model_name": "DescriptionStyleModel",
            "description_width": "",
            "_view_module": "@jupyter-widgets/base",
            "_model_module_version": "1.5.0",
            "_view_count": null,
            "_view_module_version": "1.2.0",
            "_model_module": "@jupyter-widgets/controls"
          }
        },
        "3579051da031404c8cfb2dbecad457eb": {
          "model_module": "@jupyter-widgets/base",
          "model_name": "LayoutModel",
          "model_module_version": "1.2.0",
          "state": {
            "_view_name": "LayoutView",
            "grid_template_rows": null,
            "right": null,
            "justify_content": null,
            "_view_module": "@jupyter-widgets/base",
            "overflow": null,
            "_model_module_version": "1.2.0",
            "_view_count": null,
            "flex_flow": null,
            "width": null,
            "min_width": null,
            "border": null,
            "align_items": null,
            "bottom": null,
            "_model_module": "@jupyter-widgets/base",
            "top": null,
            "grid_column": null,
            "overflow_y": null,
            "overflow_x": null,
            "grid_auto_flow": null,
            "grid_area": null,
            "grid_template_columns": null,
            "flex": null,
            "_model_name": "LayoutModel",
            "justify_items": null,
            "grid_row": null,
            "max_height": null,
            "align_content": null,
            "visibility": null,
            "align_self": null,
            "height": null,
            "min_height": null,
            "padding": null,
            "grid_auto_rows": null,
            "grid_gap": null,
            "max_width": null,
            "order": null,
            "_view_module_version": "1.2.0",
            "grid_template_areas": null,
            "object_position": null,
            "object_fit": null,
            "grid_auto_columns": null,
            "margin": null,
            "display": null,
            "left": null
          }
        },
        "a8cbe66e0d764e5fa1ff3b9c9e1ec441": {
          "model_module": "@jupyter-widgets/controls",
          "model_name": "ProgressStyleModel",
          "model_module_version": "1.5.0",
          "state": {
            "_view_name": "StyleView",
            "_model_name": "ProgressStyleModel",
            "description_width": "",
            "_view_module": "@jupyter-widgets/base",
            "_model_module_version": "1.5.0",
            "_view_count": null,
            "_view_module_version": "1.2.0",
            "bar_color": null,
            "_model_module": "@jupyter-widgets/controls"
          }
        },
        "f11107a501e449d39c8995424128eb7e": {
          "model_module": "@jupyter-widgets/base",
          "model_name": "LayoutModel",
          "model_module_version": "1.2.0",
          "state": {
            "_view_name": "LayoutView",
            "grid_template_rows": null,
            "right": null,
            "justify_content": null,
            "_view_module": "@jupyter-widgets/base",
            "overflow": null,
            "_model_module_version": "1.2.0",
            "_view_count": null,
            "flex_flow": null,
            "width": null,
            "min_width": null,
            "border": null,
            "align_items": null,
            "bottom": null,
            "_model_module": "@jupyter-widgets/base",
            "top": null,
            "grid_column": null,
            "overflow_y": null,
            "overflow_x": null,
            "grid_auto_flow": null,
            "grid_area": null,
            "grid_template_columns": null,
            "flex": null,
            "_model_name": "LayoutModel",
            "justify_items": null,
            "grid_row": null,
            "max_height": null,
            "align_content": null,
            "visibility": null,
            "align_self": null,
            "height": null,
            "min_height": null,
            "padding": null,
            "grid_auto_rows": null,
            "grid_gap": null,
            "max_width": null,
            "order": null,
            "_view_module_version": "1.2.0",
            "grid_template_areas": null,
            "object_position": null,
            "object_fit": null,
            "grid_auto_columns": null,
            "margin": null,
            "display": null,
            "left": null
          }
        },
        "fb0505c0c9504b3497b438afde47267c": {
          "model_module": "@jupyter-widgets/controls",
          "model_name": "DescriptionStyleModel",
          "model_module_version": "1.5.0",
          "state": {
            "_view_name": "StyleView",
            "_model_name": "DescriptionStyleModel",
            "description_width": "",
            "_view_module": "@jupyter-widgets/base",
            "_model_module_version": "1.5.0",
            "_view_count": null,
            "_view_module_version": "1.2.0",
            "_model_module": "@jupyter-widgets/controls"
          }
        },
        "3f2b38a0ba2e4d76bd6786edeedc57e4": {
          "model_module": "@jupyter-widgets/base",
          "model_name": "LayoutModel",
          "model_module_version": "1.2.0",
          "state": {
            "_view_name": "LayoutView",
            "grid_template_rows": null,
            "right": null,
            "justify_content": null,
            "_view_module": "@jupyter-widgets/base",
            "overflow": null,
            "_model_module_version": "1.2.0",
            "_view_count": null,
            "flex_flow": null,
            "width": null,
            "min_width": null,
            "border": null,
            "align_items": null,
            "bottom": null,
            "_model_module": "@jupyter-widgets/base",
            "top": null,
            "grid_column": null,
            "overflow_y": null,
            "overflow_x": null,
            "grid_auto_flow": null,
            "grid_area": null,
            "grid_template_columns": null,
            "flex": null,
            "_model_name": "LayoutModel",
            "justify_items": null,
            "grid_row": null,
            "max_height": null,
            "align_content": null,
            "visibility": null,
            "align_self": null,
            "height": null,
            "min_height": null,
            "padding": null,
            "grid_auto_rows": null,
            "grid_gap": null,
            "max_width": null,
            "order": null,
            "_view_module_version": "1.2.0",
            "grid_template_areas": null,
            "object_position": null,
            "object_fit": null,
            "grid_auto_columns": null,
            "margin": null,
            "display": null,
            "left": null
          }
        },
        "4a8ff65fbb7348b5a7d0fd7f178fd45a": {
          "model_module": "@jupyter-widgets/controls",
          "model_name": "HBoxModel",
          "model_module_version": "1.5.0",
          "state": {
            "_view_name": "HBoxView",
            "_dom_classes": [],
            "_model_name": "HBoxModel",
            "_view_module": "@jupyter-widgets/controls",
            "_model_module_version": "1.5.0",
            "_view_count": null,
            "_view_module_version": "1.5.0",
            "box_style": "",
            "layout": "IPY_MODEL_7514ea547ddf420bba37c20f0d4b01e8",
            "_model_module": "@jupyter-widgets/controls",
            "children": [
              "IPY_MODEL_c332552166494d1ea1c4479cc843a2e3",
              "IPY_MODEL_a795f1c205b443b0ac1ae8fa896de7ce",
              "IPY_MODEL_b0ca9f07e643472da099a3c8f953911b"
            ]
          }
        },
        "7514ea547ddf420bba37c20f0d4b01e8": {
          "model_module": "@jupyter-widgets/base",
          "model_name": "LayoutModel",
          "model_module_version": "1.2.0",
          "state": {
            "_view_name": "LayoutView",
            "grid_template_rows": null,
            "right": null,
            "justify_content": null,
            "_view_module": "@jupyter-widgets/base",
            "overflow": null,
            "_model_module_version": "1.2.0",
            "_view_count": null,
            "flex_flow": null,
            "width": null,
            "min_width": null,
            "border": null,
            "align_items": null,
            "bottom": null,
            "_model_module": "@jupyter-widgets/base",
            "top": null,
            "grid_column": null,
            "overflow_y": null,
            "overflow_x": null,
            "grid_auto_flow": null,
            "grid_area": null,
            "grid_template_columns": null,
            "flex": null,
            "_model_name": "LayoutModel",
            "justify_items": null,
            "grid_row": null,
            "max_height": null,
            "align_content": null,
            "visibility": null,
            "align_self": null,
            "height": null,
            "min_height": null,
            "padding": null,
            "grid_auto_rows": null,
            "grid_gap": null,
            "max_width": null,
            "order": null,
            "_view_module_version": "1.2.0",
            "grid_template_areas": null,
            "object_position": null,
            "object_fit": null,
            "grid_auto_columns": null,
            "margin": null,
            "display": null,
            "left": null
          }
        },
        "c332552166494d1ea1c4479cc843a2e3": {
          "model_module": "@jupyter-widgets/controls",
          "model_name": "HTMLModel",
          "model_module_version": "1.5.0",
          "state": {
            "_view_name": "HTMLView",
            "style": "IPY_MODEL_183f030fa6fb46218e2bdd91482b29f2",
            "_dom_classes": [],
            "description": "",
            "_model_name": "HTMLModel",
            "placeholder": "​",
            "_view_module": "@jupyter-widgets/controls",
            "_model_module_version": "1.5.0",
            "value": "Downloading: 100%",
            "_view_count": null,
            "_view_module_version": "1.5.0",
            "description_tooltip": null,
            "_model_module": "@jupyter-widgets/controls",
            "layout": "IPY_MODEL_7afe1ae8fb4b4ebcbce8431e6d89170f"
          }
        },
        "a795f1c205b443b0ac1ae8fa896de7ce": {
          "model_module": "@jupyter-widgets/controls",
          "model_name": "FloatProgressModel",
          "model_module_version": "1.5.0",
          "state": {
            "_view_name": "ProgressView",
            "style": "IPY_MODEL_22c7da71b7494196a2b01804e420dc0d",
            "_dom_classes": [],
            "description": "",
            "_model_name": "FloatProgressModel",
            "bar_style": "success",
            "max": 99425708,
            "_view_module": "@jupyter-widgets/controls",
            "_model_module_version": "1.5.0",
            "value": 99425708,
            "_view_count": null,
            "_view_module_version": "1.5.0",
            "orientation": "horizontal",
            "min": 0,
            "description_tooltip": null,
            "_model_module": "@jupyter-widgets/controls",
            "layout": "IPY_MODEL_663b8c3d864347b9bb6f41ae6053fd63"
          }
        },
        "b0ca9f07e643472da099a3c8f953911b": {
          "model_module": "@jupyter-widgets/controls",
          "model_name": "HTMLModel",
          "model_module_version": "1.5.0",
          "state": {
            "_view_name": "HTMLView",
            "style": "IPY_MODEL_c42c53001d2a42d0a05a490e7e925958",
            "_dom_classes": [],
            "description": "",
            "_model_name": "HTMLModel",
            "placeholder": "​",
            "_view_module": "@jupyter-widgets/controls",
            "_model_module_version": "1.5.0",
            "value": " 99.4M/99.4M [00:03&lt;00:00, 27.8MB/s]",
            "_view_count": null,
            "_view_module_version": "1.5.0",
            "description_tooltip": null,
            "_model_module": "@jupyter-widgets/controls",
            "layout": "IPY_MODEL_2f1ee252b5cd4aad973a4e4f2fe0125a"
          }
        },
        "183f030fa6fb46218e2bdd91482b29f2": {
          "model_module": "@jupyter-widgets/controls",
          "model_name": "DescriptionStyleModel",
          "model_module_version": "1.5.0",
          "state": {
            "_view_name": "StyleView",
            "_model_name": "DescriptionStyleModel",
            "description_width": "",
            "_view_module": "@jupyter-widgets/base",
            "_model_module_version": "1.5.0",
            "_view_count": null,
            "_view_module_version": "1.2.0",
            "_model_module": "@jupyter-widgets/controls"
          }
        },
        "7afe1ae8fb4b4ebcbce8431e6d89170f": {
          "model_module": "@jupyter-widgets/base",
          "model_name": "LayoutModel",
          "model_module_version": "1.2.0",
          "state": {
            "_view_name": "LayoutView",
            "grid_template_rows": null,
            "right": null,
            "justify_content": null,
            "_view_module": "@jupyter-widgets/base",
            "overflow": null,
            "_model_module_version": "1.2.0",
            "_view_count": null,
            "flex_flow": null,
            "width": null,
            "min_width": null,
            "border": null,
            "align_items": null,
            "bottom": null,
            "_model_module": "@jupyter-widgets/base",
            "top": null,
            "grid_column": null,
            "overflow_y": null,
            "overflow_x": null,
            "grid_auto_flow": null,
            "grid_area": null,
            "grid_template_columns": null,
            "flex": null,
            "_model_name": "LayoutModel",
            "justify_items": null,
            "grid_row": null,
            "max_height": null,
            "align_content": null,
            "visibility": null,
            "align_self": null,
            "height": null,
            "min_height": null,
            "padding": null,
            "grid_auto_rows": null,
            "grid_gap": null,
            "max_width": null,
            "order": null,
            "_view_module_version": "1.2.0",
            "grid_template_areas": null,
            "object_position": null,
            "object_fit": null,
            "grid_auto_columns": null,
            "margin": null,
            "display": null,
            "left": null
          }
        },
        "22c7da71b7494196a2b01804e420dc0d": {
          "model_module": "@jupyter-widgets/controls",
          "model_name": "ProgressStyleModel",
          "model_module_version": "1.5.0",
          "state": {
            "_view_name": "StyleView",
            "_model_name": "ProgressStyleModel",
            "description_width": "",
            "_view_module": "@jupyter-widgets/base",
            "_model_module_version": "1.5.0",
            "_view_count": null,
            "_view_module_version": "1.2.0",
            "bar_color": null,
            "_model_module": "@jupyter-widgets/controls"
          }
        },
        "663b8c3d864347b9bb6f41ae6053fd63": {
          "model_module": "@jupyter-widgets/base",
          "model_name": "LayoutModel",
          "model_module_version": "1.2.0",
          "state": {
            "_view_name": "LayoutView",
            "grid_template_rows": null,
            "right": null,
            "justify_content": null,
            "_view_module": "@jupyter-widgets/base",
            "overflow": null,
            "_model_module_version": "1.2.0",
            "_view_count": null,
            "flex_flow": null,
            "width": null,
            "min_width": null,
            "border": null,
            "align_items": null,
            "bottom": null,
            "_model_module": "@jupyter-widgets/base",
            "top": null,
            "grid_column": null,
            "overflow_y": null,
            "overflow_x": null,
            "grid_auto_flow": null,
            "grid_area": null,
            "grid_template_columns": null,
            "flex": null,
            "_model_name": "LayoutModel",
            "justify_items": null,
            "grid_row": null,
            "max_height": null,
            "align_content": null,
            "visibility": null,
            "align_self": null,
            "height": null,
            "min_height": null,
            "padding": null,
            "grid_auto_rows": null,
            "grid_gap": null,
            "max_width": null,
            "order": null,
            "_view_module_version": "1.2.0",
            "grid_template_areas": null,
            "object_position": null,
            "object_fit": null,
            "grid_auto_columns": null,
            "margin": null,
            "display": null,
            "left": null
          }
        },
        "c42c53001d2a42d0a05a490e7e925958": {
          "model_module": "@jupyter-widgets/controls",
          "model_name": "DescriptionStyleModel",
          "model_module_version": "1.5.0",
          "state": {
            "_view_name": "StyleView",
            "_model_name": "DescriptionStyleModel",
            "description_width": "",
            "_view_module": "@jupyter-widgets/base",
            "_model_module_version": "1.5.0",
            "_view_count": null,
            "_view_module_version": "1.2.0",
            "_model_module": "@jupyter-widgets/controls"
          }
        },
        "2f1ee252b5cd4aad973a4e4f2fe0125a": {
          "model_module": "@jupyter-widgets/base",
          "model_name": "LayoutModel",
          "model_module_version": "1.2.0",
          "state": {
            "_view_name": "LayoutView",
            "grid_template_rows": null,
            "right": null,
            "justify_content": null,
            "_view_module": "@jupyter-widgets/base",
            "overflow": null,
            "_model_module_version": "1.2.0",
            "_view_count": null,
            "flex_flow": null,
            "width": null,
            "min_width": null,
            "border": null,
            "align_items": null,
            "bottom": null,
            "_model_module": "@jupyter-widgets/base",
            "top": null,
            "grid_column": null,
            "overflow_y": null,
            "overflow_x": null,
            "grid_auto_flow": null,
            "grid_area": null,
            "grid_template_columns": null,
            "flex": null,
            "_model_name": "LayoutModel",
            "justify_items": null,
            "grid_row": null,
            "max_height": null,
            "align_content": null,
            "visibility": null,
            "align_self": null,
            "height": null,
            "min_height": null,
            "padding": null,
            "grid_auto_rows": null,
            "grid_gap": null,
            "max_width": null,
            "order": null,
            "_view_module_version": "1.2.0",
            "grid_template_areas": null,
            "object_position": null,
            "object_fit": null,
            "grid_auto_columns": null,
            "margin": null,
            "display": null,
            "left": null
          }
        },
        "31ba8bb0bc044a3ba0dd091783f2224f": {
          "model_module": "@jupyter-widgets/controls",
          "model_name": "HBoxModel",
          "model_module_version": "1.5.0",
          "state": {
            "_view_name": "HBoxView",
            "_dom_classes": [],
            "_model_name": "HBoxModel",
            "_view_module": "@jupyter-widgets/controls",
            "_model_module_version": "1.5.0",
            "_view_count": null,
            "_view_module_version": "1.5.0",
            "box_style": "",
            "layout": "IPY_MODEL_02a998a88c2846d39839c7d28283efa7",
            "_model_module": "@jupyter-widgets/controls",
            "children": [
              "IPY_MODEL_b5b80a680e96405381fd7c8f0ac0784f",
              "IPY_MODEL_49b0edab2d8d4bfba1d13415576003ad",
              "IPY_MODEL_e285412ec1c743ffa5f77397533fc0c2"
            ]
          }
        },
        "02a998a88c2846d39839c7d28283efa7": {
          "model_module": "@jupyter-widgets/base",
          "model_name": "LayoutModel",
          "model_module_version": "1.2.0",
          "state": {
            "_view_name": "LayoutView",
            "grid_template_rows": null,
            "right": null,
            "justify_content": null,
            "_view_module": "@jupyter-widgets/base",
            "overflow": null,
            "_model_module_version": "1.2.0",
            "_view_count": null,
            "flex_flow": null,
            "width": null,
            "min_width": null,
            "border": null,
            "align_items": null,
            "bottom": null,
            "_model_module": "@jupyter-widgets/base",
            "top": null,
            "grid_column": null,
            "overflow_y": null,
            "overflow_x": null,
            "grid_auto_flow": null,
            "grid_area": null,
            "grid_template_columns": null,
            "flex": null,
            "_model_name": "LayoutModel",
            "justify_items": null,
            "grid_row": null,
            "max_height": null,
            "align_content": null,
            "visibility": null,
            "align_self": null,
            "height": null,
            "min_height": null,
            "padding": null,
            "grid_auto_rows": null,
            "grid_gap": null,
            "max_width": null,
            "order": null,
            "_view_module_version": "1.2.0",
            "grid_template_areas": null,
            "object_position": null,
            "object_fit": null,
            "grid_auto_columns": null,
            "margin": null,
            "display": null,
            "left": null
          }
        },
        "b5b80a680e96405381fd7c8f0ac0784f": {
          "model_module": "@jupyter-widgets/controls",
          "model_name": "HTMLModel",
          "model_module_version": "1.5.0",
          "state": {
            "_view_name": "HTMLView",
            "style": "IPY_MODEL_92b8e974e8774ae1a2f3a6ccb205e089",
            "_dom_classes": [],
            "description": "",
            "_model_name": "HTMLModel",
            "placeholder": "​",
            "_view_module": "@jupyter-widgets/controls",
            "_model_module_version": "1.5.0",
            "value": "Downloading: 100%",
            "_view_count": null,
            "_view_module_version": "1.5.0",
            "description_tooltip": null,
            "_model_module": "@jupyter-widgets/controls",
            "layout": "IPY_MODEL_b0e93a9a46554472b606166e2c6dc5c1"
          }
        },
        "49b0edab2d8d4bfba1d13415576003ad": {
          "model_module": "@jupyter-widgets/controls",
          "model_name": "FloatProgressModel",
          "model_module_version": "1.5.0",
          "state": {
            "_view_name": "ProgressView",
            "style": "IPY_MODEL_cbfe70e592234f1481bbc91233ebd310",
            "_dom_classes": [],
            "description": "",
            "_model_name": "FloatProgressModel",
            "bar_style": "success",
            "max": 97938986,
            "_view_module": "@jupyter-widgets/controls",
            "_model_module_version": "1.5.0",
            "value": 97938986,
            "_view_count": null,
            "_view_module_version": "1.5.0",
            "orientation": "horizontal",
            "min": 0,
            "description_tooltip": null,
            "_model_module": "@jupyter-widgets/controls",
            "layout": "IPY_MODEL_7ffa72f7ec5348b1a005105dd10f694b"
          }
        },
        "e285412ec1c743ffa5f77397533fc0c2": {
          "model_module": "@jupyter-widgets/controls",
          "model_name": "HTMLModel",
          "model_module_version": "1.5.0",
          "state": {
            "_view_name": "HTMLView",
            "style": "IPY_MODEL_24e4aad6b0b7408b8748d190953f9a6e",
            "_dom_classes": [],
            "description": "",
            "_model_name": "HTMLModel",
            "placeholder": "​",
            "_view_module": "@jupyter-widgets/controls",
            "_model_module_version": "1.5.0",
            "value": " 97.9M/97.9M [00:03&lt;00:00, 24.5MB/s]",
            "_view_count": null,
            "_view_module_version": "1.5.0",
            "description_tooltip": null,
            "_model_module": "@jupyter-widgets/controls",
            "layout": "IPY_MODEL_e2ea0986a4df4553ac2ed6f96f573a35"
          }
        },
        "92b8e974e8774ae1a2f3a6ccb205e089": {
          "model_module": "@jupyter-widgets/controls",
          "model_name": "DescriptionStyleModel",
          "model_module_version": "1.5.0",
          "state": {
            "_view_name": "StyleView",
            "_model_name": "DescriptionStyleModel",
            "description_width": "",
            "_view_module": "@jupyter-widgets/base",
            "_model_module_version": "1.5.0",
            "_view_count": null,
            "_view_module_version": "1.2.0",
            "_model_module": "@jupyter-widgets/controls"
          }
        },
        "b0e93a9a46554472b606166e2c6dc5c1": {
          "model_module": "@jupyter-widgets/base",
          "model_name": "LayoutModel",
          "model_module_version": "1.2.0",
          "state": {
            "_view_name": "LayoutView",
            "grid_template_rows": null,
            "right": null,
            "justify_content": null,
            "_view_module": "@jupyter-widgets/base",
            "overflow": null,
            "_model_module_version": "1.2.0",
            "_view_count": null,
            "flex_flow": null,
            "width": null,
            "min_width": null,
            "border": null,
            "align_items": null,
            "bottom": null,
            "_model_module": "@jupyter-widgets/base",
            "top": null,
            "grid_column": null,
            "overflow_y": null,
            "overflow_x": null,
            "grid_auto_flow": null,
            "grid_area": null,
            "grid_template_columns": null,
            "flex": null,
            "_model_name": "LayoutModel",
            "justify_items": null,
            "grid_row": null,
            "max_height": null,
            "align_content": null,
            "visibility": null,
            "align_self": null,
            "height": null,
            "min_height": null,
            "padding": null,
            "grid_auto_rows": null,
            "grid_gap": null,
            "max_width": null,
            "order": null,
            "_view_module_version": "1.2.0",
            "grid_template_areas": null,
            "object_position": null,
            "object_fit": null,
            "grid_auto_columns": null,
            "margin": null,
            "display": null,
            "left": null
          }
        },
        "cbfe70e592234f1481bbc91233ebd310": {
          "model_module": "@jupyter-widgets/controls",
          "model_name": "ProgressStyleModel",
          "model_module_version": "1.5.0",
          "state": {
            "_view_name": "StyleView",
            "_model_name": "ProgressStyleModel",
            "description_width": "",
            "_view_module": "@jupyter-widgets/base",
            "_model_module_version": "1.5.0",
            "_view_count": null,
            "_view_module_version": "1.2.0",
            "bar_color": null,
            "_model_module": "@jupyter-widgets/controls"
          }
        },
        "7ffa72f7ec5348b1a005105dd10f694b": {
          "model_module": "@jupyter-widgets/base",
          "model_name": "LayoutModel",
          "model_module_version": "1.2.0",
          "state": {
            "_view_name": "LayoutView",
            "grid_template_rows": null,
            "right": null,
            "justify_content": null,
            "_view_module": "@jupyter-widgets/base",
            "overflow": null,
            "_model_module_version": "1.2.0",
            "_view_count": null,
            "flex_flow": null,
            "width": null,
            "min_width": null,
            "border": null,
            "align_items": null,
            "bottom": null,
            "_model_module": "@jupyter-widgets/base",
            "top": null,
            "grid_column": null,
            "overflow_y": null,
            "overflow_x": null,
            "grid_auto_flow": null,
            "grid_area": null,
            "grid_template_columns": null,
            "flex": null,
            "_model_name": "LayoutModel",
            "justify_items": null,
            "grid_row": null,
            "max_height": null,
            "align_content": null,
            "visibility": null,
            "align_self": null,
            "height": null,
            "min_height": null,
            "padding": null,
            "grid_auto_rows": null,
            "grid_gap": null,
            "max_width": null,
            "order": null,
            "_view_module_version": "1.2.0",
            "grid_template_areas": null,
            "object_position": null,
            "object_fit": null,
            "grid_auto_columns": null,
            "margin": null,
            "display": null,
            "left": null
          }
        },
        "24e4aad6b0b7408b8748d190953f9a6e": {
          "model_module": "@jupyter-widgets/controls",
          "model_name": "DescriptionStyleModel",
          "model_module_version": "1.5.0",
          "state": {
            "_view_name": "StyleView",
            "_model_name": "DescriptionStyleModel",
            "description_width": "",
            "_view_module": "@jupyter-widgets/base",
            "_model_module_version": "1.5.0",
            "_view_count": null,
            "_view_module_version": "1.2.0",
            "_model_module": "@jupyter-widgets/controls"
          }
        },
        "e2ea0986a4df4553ac2ed6f96f573a35": {
          "model_module": "@jupyter-widgets/base",
          "model_name": "LayoutModel",
          "model_module_version": "1.2.0",
          "state": {
            "_view_name": "LayoutView",
            "grid_template_rows": null,
            "right": null,
            "justify_content": null,
            "_view_module": "@jupyter-widgets/base",
            "overflow": null,
            "_model_module_version": "1.2.0",
            "_view_count": null,
            "flex_flow": null,
            "width": null,
            "min_width": null,
            "border": null,
            "align_items": null,
            "bottom": null,
            "_model_module": "@jupyter-widgets/base",
            "top": null,
            "grid_column": null,
            "overflow_y": null,
            "overflow_x": null,
            "grid_auto_flow": null,
            "grid_area": null,
            "grid_template_columns": null,
            "flex": null,
            "_model_name": "LayoutModel",
            "justify_items": null,
            "grid_row": null,
            "max_height": null,
            "align_content": null,
            "visibility": null,
            "align_self": null,
            "height": null,
            "min_height": null,
            "padding": null,
            "grid_auto_rows": null,
            "grid_gap": null,
            "max_width": null,
            "order": null,
            "_view_module_version": "1.2.0",
            "grid_template_areas": null,
            "object_position": null,
            "object_fit": null,
            "grid_auto_columns": null,
            "margin": null,
            "display": null,
            "left": null
          }
        },
        "6a7654b466554cd1965ef09c31be5ec1": {
          "model_module": "@jupyter-widgets/controls",
          "model_name": "HBoxModel",
          "model_module_version": "1.5.0",
          "state": {
            "_view_name": "HBoxView",
            "_dom_classes": [],
            "_model_name": "HBoxModel",
            "_view_module": "@jupyter-widgets/controls",
            "_model_module_version": "1.5.0",
            "_view_count": null,
            "_view_module_version": "1.5.0",
            "box_style": "",
            "layout": "IPY_MODEL_c19ddbd3f797458eac56a2f1c800bc3c",
            "_model_module": "@jupyter-widgets/controls",
            "children": [
              "IPY_MODEL_2399367043fe4641b7e6039b905abd17",
              "IPY_MODEL_15cbda9c63074e0b88a4eeedbd583c55",
              "IPY_MODEL_26b255a18a204511b82af6bf33c6c3b4"
            ]
          }
        },
        "c19ddbd3f797458eac56a2f1c800bc3c": {
          "model_module": "@jupyter-widgets/base",
          "model_name": "LayoutModel",
          "model_module_version": "1.2.0",
          "state": {
            "_view_name": "LayoutView",
            "grid_template_rows": null,
            "right": null,
            "justify_content": null,
            "_view_module": "@jupyter-widgets/base",
            "overflow": null,
            "_model_module_version": "1.2.0",
            "_view_count": null,
            "flex_flow": null,
            "width": null,
            "min_width": null,
            "border": null,
            "align_items": null,
            "bottom": null,
            "_model_module": "@jupyter-widgets/base",
            "top": null,
            "grid_column": null,
            "overflow_y": null,
            "overflow_x": null,
            "grid_auto_flow": null,
            "grid_area": null,
            "grid_template_columns": null,
            "flex": null,
            "_model_name": "LayoutModel",
            "justify_items": null,
            "grid_row": null,
            "max_height": null,
            "align_content": null,
            "visibility": null,
            "align_self": null,
            "height": null,
            "min_height": null,
            "padding": null,
            "grid_auto_rows": null,
            "grid_gap": null,
            "max_width": null,
            "order": null,
            "_view_module_version": "1.2.0",
            "grid_template_areas": null,
            "object_position": null,
            "object_fit": null,
            "grid_auto_columns": null,
            "margin": null,
            "display": null,
            "left": null
          }
        },
        "2399367043fe4641b7e6039b905abd17": {
          "model_module": "@jupyter-widgets/controls",
          "model_name": "HTMLModel",
          "model_module_version": "1.5.0",
          "state": {
            "_view_name": "HTMLView",
            "style": "IPY_MODEL_90a25bc1c181484db0b4be05197913f5",
            "_dom_classes": [],
            "description": "",
            "_model_name": "HTMLModel",
            "placeholder": "​",
            "_view_module": "@jupyter-widgets/controls",
            "_model_module_version": "1.5.0",
            "value": "",
            "_view_count": null,
            "_view_module_version": "1.5.0",
            "description_tooltip": null,
            "_model_module": "@jupyter-widgets/controls",
            "layout": "IPY_MODEL_d8c937156116491cad83db526537ca74"
          }
        },
        "15cbda9c63074e0b88a4eeedbd583c55": {
          "model_module": "@jupyter-widgets/controls",
          "model_name": "FloatProgressModel",
          "model_module_version": "1.5.0",
          "state": {
            "_view_name": "ProgressView",
            "style": "IPY_MODEL_4f56501091be48d3ae2de6c2b474aa84",
            "_dom_classes": [],
            "description": "",
            "_model_name": "FloatProgressModel",
            "bar_style": "info",
            "max": 1,
            "_view_module": "@jupyter-widgets/controls",
            "_model_module_version": "1.5.0",
            "value": 1,
            "_view_count": null,
            "_view_module_version": "1.5.0",
            "orientation": "horizontal",
            "min": 0,
            "description_tooltip": null,
            "_model_module": "@jupyter-widgets/controls",
            "layout": "IPY_MODEL_94087110ec0245efb0a44bfc41a90197"
          }
        },
        "26b255a18a204511b82af6bf33c6c3b4": {
          "model_module": "@jupyter-widgets/controls",
          "model_name": "HTMLModel",
          "model_module_version": "1.5.0",
          "state": {
            "_view_name": "HTMLView",
            "style": "IPY_MODEL_4b9999b446264460bb167063a4d5e7a5",
            "_dom_classes": [],
            "description": "",
            "_model_name": "HTMLModel",
            "placeholder": "​",
            "_view_module": "@jupyter-widgets/controls",
            "_model_module_version": "1.5.0",
            "value": " 24603/0 [00:07&lt;00:00, 5069.31 examples/s]",
            "_view_count": null,
            "_view_module_version": "1.5.0",
            "description_tooltip": null,
            "_model_module": "@jupyter-widgets/controls",
            "layout": "IPY_MODEL_fb4d6e5993a44bc4b102eac8612a905f"
          }
        },
        "90a25bc1c181484db0b4be05197913f5": {
          "model_module": "@jupyter-widgets/controls",
          "model_name": "DescriptionStyleModel",
          "model_module_version": "1.5.0",
          "state": {
            "_view_name": "StyleView",
            "_model_name": "DescriptionStyleModel",
            "description_width": "",
            "_view_module": "@jupyter-widgets/base",
            "_model_module_version": "1.5.0",
            "_view_count": null,
            "_view_module_version": "1.2.0",
            "_model_module": "@jupyter-widgets/controls"
          }
        },
        "d8c937156116491cad83db526537ca74": {
          "model_module": "@jupyter-widgets/base",
          "model_name": "LayoutModel",
          "model_module_version": "1.2.0",
          "state": {
            "_view_name": "LayoutView",
            "grid_template_rows": null,
            "right": null,
            "justify_content": null,
            "_view_module": "@jupyter-widgets/base",
            "overflow": null,
            "_model_module_version": "1.2.0",
            "_view_count": null,
            "flex_flow": null,
            "width": null,
            "min_width": null,
            "border": null,
            "align_items": null,
            "bottom": null,
            "_model_module": "@jupyter-widgets/base",
            "top": null,
            "grid_column": null,
            "overflow_y": null,
            "overflow_x": null,
            "grid_auto_flow": null,
            "grid_area": null,
            "grid_template_columns": null,
            "flex": null,
            "_model_name": "LayoutModel",
            "justify_items": null,
            "grid_row": null,
            "max_height": null,
            "align_content": null,
            "visibility": null,
            "align_self": null,
            "height": null,
            "min_height": null,
            "padding": null,
            "grid_auto_rows": null,
            "grid_gap": null,
            "max_width": null,
            "order": null,
            "_view_module_version": "1.2.0",
            "grid_template_areas": null,
            "object_position": null,
            "object_fit": null,
            "grid_auto_columns": null,
            "margin": null,
            "display": null,
            "left": null
          }
        },
        "4f56501091be48d3ae2de6c2b474aa84": {
          "model_module": "@jupyter-widgets/controls",
          "model_name": "ProgressStyleModel",
          "model_module_version": "1.5.0",
          "state": {
            "_view_name": "StyleView",
            "_model_name": "ProgressStyleModel",
            "description_width": "",
            "_view_module": "@jupyter-widgets/base",
            "_model_module_version": "1.5.0",
            "_view_count": null,
            "_view_module_version": "1.2.0",
            "bar_color": null,
            "_model_module": "@jupyter-widgets/controls"
          }
        },
        "94087110ec0245efb0a44bfc41a90197": {
          "model_module": "@jupyter-widgets/base",
          "model_name": "LayoutModel",
          "model_module_version": "1.2.0",
          "state": {
            "_view_name": "LayoutView",
            "grid_template_rows": null,
            "right": null,
            "justify_content": null,
            "_view_module": "@jupyter-widgets/base",
            "overflow": null,
            "_model_module_version": "1.2.0",
            "_view_count": null,
            "flex_flow": null,
            "width": "20px",
            "min_width": null,
            "border": null,
            "align_items": null,
            "bottom": null,
            "_model_module": "@jupyter-widgets/base",
            "top": null,
            "grid_column": null,
            "overflow_y": null,
            "overflow_x": null,
            "grid_auto_flow": null,
            "grid_area": null,
            "grid_template_columns": null,
            "flex": null,
            "_model_name": "LayoutModel",
            "justify_items": null,
            "grid_row": null,
            "max_height": null,
            "align_content": null,
            "visibility": null,
            "align_self": null,
            "height": null,
            "min_height": null,
            "padding": null,
            "grid_auto_rows": null,
            "grid_gap": null,
            "max_width": null,
            "order": null,
            "_view_module_version": "1.2.0",
            "grid_template_areas": null,
            "object_position": null,
            "object_fit": null,
            "grid_auto_columns": null,
            "margin": null,
            "display": null,
            "left": null
          }
        },
        "4b9999b446264460bb167063a4d5e7a5": {
          "model_module": "@jupyter-widgets/controls",
          "model_name": "DescriptionStyleModel",
          "model_module_version": "1.5.0",
          "state": {
            "_view_name": "StyleView",
            "_model_name": "DescriptionStyleModel",
            "description_width": "",
            "_view_module": "@jupyter-widgets/base",
            "_model_module_version": "1.5.0",
            "_view_count": null,
            "_view_module_version": "1.2.0",
            "_model_module": "@jupyter-widgets/controls"
          }
        },
        "fb4d6e5993a44bc4b102eac8612a905f": {
          "model_module": "@jupyter-widgets/base",
          "model_name": "LayoutModel",
          "model_module_version": "1.2.0",
          "state": {
            "_view_name": "LayoutView",
            "grid_template_rows": null,
            "right": null,
            "justify_content": null,
            "_view_module": "@jupyter-widgets/base",
            "overflow": null,
            "_model_module_version": "1.2.0",
            "_view_count": null,
            "flex_flow": null,
            "width": null,
            "min_width": null,
            "border": null,
            "align_items": null,
            "bottom": null,
            "_model_module": "@jupyter-widgets/base",
            "top": null,
            "grid_column": null,
            "overflow_y": null,
            "overflow_x": null,
            "grid_auto_flow": null,
            "grid_area": null,
            "grid_template_columns": null,
            "flex": null,
            "_model_name": "LayoutModel",
            "justify_items": null,
            "grid_row": null,
            "max_height": null,
            "align_content": null,
            "visibility": null,
            "align_self": null,
            "height": null,
            "min_height": null,
            "padding": null,
            "grid_auto_rows": null,
            "grid_gap": null,
            "max_width": null,
            "order": null,
            "_view_module_version": "1.2.0",
            "grid_template_areas": null,
            "object_position": null,
            "object_fit": null,
            "grid_auto_columns": null,
            "margin": null,
            "display": null,
            "left": null
          }
        },
        "34712deab78145ed8666fc5a9d052661": {
          "model_module": "@jupyter-widgets/controls",
          "model_name": "HBoxModel",
          "model_module_version": "1.5.0",
          "state": {
            "_view_name": "HBoxView",
            "_dom_classes": [],
            "_model_name": "HBoxModel",
            "_view_module": "@jupyter-widgets/controls",
            "_model_module_version": "1.5.0",
            "_view_count": null,
            "_view_module_version": "1.5.0",
            "box_style": "",
            "layout": "IPY_MODEL_3e3b774fc1424c5eb4d8fb3ad72c7914",
            "_model_module": "@jupyter-widgets/controls",
            "children": [
              "IPY_MODEL_920b436cc67f405bbae43e101a2eaa23",
              "IPY_MODEL_9144089c7f4e4909a23adb0d500f5655",
              "IPY_MODEL_91613608f8074d6cac7bd43bc9e15bdb"
            ]
          }
        },
        "3e3b774fc1424c5eb4d8fb3ad72c7914": {
          "model_module": "@jupyter-widgets/base",
          "model_name": "LayoutModel",
          "model_module_version": "1.2.0",
          "state": {
            "_view_name": "LayoutView",
            "grid_template_rows": null,
            "right": null,
            "justify_content": null,
            "_view_module": "@jupyter-widgets/base",
            "overflow": null,
            "_model_module_version": "1.2.0",
            "_view_count": null,
            "flex_flow": null,
            "width": null,
            "min_width": null,
            "border": null,
            "align_items": null,
            "bottom": null,
            "_model_module": "@jupyter-widgets/base",
            "top": null,
            "grid_column": null,
            "overflow_y": null,
            "overflow_x": null,
            "grid_auto_flow": null,
            "grid_area": null,
            "grid_template_columns": null,
            "flex": null,
            "_model_name": "LayoutModel",
            "justify_items": null,
            "grid_row": null,
            "max_height": null,
            "align_content": null,
            "visibility": null,
            "align_self": null,
            "height": null,
            "min_height": null,
            "padding": null,
            "grid_auto_rows": null,
            "grid_gap": null,
            "max_width": null,
            "order": null,
            "_view_module_version": "1.2.0",
            "grid_template_areas": null,
            "object_position": null,
            "object_fit": null,
            "grid_auto_columns": null,
            "margin": null,
            "display": null,
            "left": null
          }
        },
        "920b436cc67f405bbae43e101a2eaa23": {
          "model_module": "@jupyter-widgets/controls",
          "model_name": "HTMLModel",
          "model_module_version": "1.5.0",
          "state": {
            "_view_name": "HTMLView",
            "style": "IPY_MODEL_2c133063ae9b4cdc94f2cac6b18056b2",
            "_dom_classes": [],
            "description": "",
            "_model_name": "HTMLModel",
            "placeholder": "​",
            "_view_module": "@jupyter-widgets/controls",
            "_model_module_version": "1.5.0",
            "value": "",
            "_view_count": null,
            "_view_module_version": "1.5.0",
            "description_tooltip": null,
            "_model_module": "@jupyter-widgets/controls",
            "layout": "IPY_MODEL_b5df3486d748429e873f20b13eba6d49"
          }
        },
        "9144089c7f4e4909a23adb0d500f5655": {
          "model_module": "@jupyter-widgets/controls",
          "model_name": "FloatProgressModel",
          "model_module_version": "1.5.0",
          "state": {
            "_view_name": "ProgressView",
            "style": "IPY_MODEL_745bf15377654168b4cd53b8c90b60b3",
            "_dom_classes": [],
            "description": "",
            "_model_name": "FloatProgressModel",
            "bar_style": "info",
            "max": 1,
            "_view_module": "@jupyter-widgets/controls",
            "_model_module_version": "1.5.0",
            "value": 1,
            "_view_count": null,
            "_view_module_version": "1.5.0",
            "orientation": "horizontal",
            "min": 0,
            "description_tooltip": null,
            "_model_module": "@jupyter-widgets/controls",
            "layout": "IPY_MODEL_5a24b160327343febecfc7928769f0f8"
          }
        },
        "91613608f8074d6cac7bd43bc9e15bdb": {
          "model_module": "@jupyter-widgets/controls",
          "model_name": "HTMLModel",
          "model_module_version": "1.5.0",
          "state": {
            "_view_name": "HTMLView",
            "style": "IPY_MODEL_9f1bac06b8864b4aab678ebc86c7df43",
            "_dom_classes": [],
            "description": "",
            "_model_name": "HTMLModel",
            "placeholder": "​",
            "_view_module": "@jupyter-widgets/controls",
            "_model_module_version": "1.5.0",
            "value": " 4416/0 [00:01&lt;00:00, 5532.14 examples/s]",
            "_view_count": null,
            "_view_module_version": "1.5.0",
            "description_tooltip": null,
            "_model_module": "@jupyter-widgets/controls",
            "layout": "IPY_MODEL_eed2f08289cb41c6af0f63a56aa049f5"
          }
        },
        "2c133063ae9b4cdc94f2cac6b18056b2": {
          "model_module": "@jupyter-widgets/controls",
          "model_name": "DescriptionStyleModel",
          "model_module_version": "1.5.0",
          "state": {
            "_view_name": "StyleView",
            "_model_name": "DescriptionStyleModel",
            "description_width": "",
            "_view_module": "@jupyter-widgets/base",
            "_model_module_version": "1.5.0",
            "_view_count": null,
            "_view_module_version": "1.2.0",
            "_model_module": "@jupyter-widgets/controls"
          }
        },
        "b5df3486d748429e873f20b13eba6d49": {
          "model_module": "@jupyter-widgets/base",
          "model_name": "LayoutModel",
          "model_module_version": "1.2.0",
          "state": {
            "_view_name": "LayoutView",
            "grid_template_rows": null,
            "right": null,
            "justify_content": null,
            "_view_module": "@jupyter-widgets/base",
            "overflow": null,
            "_model_module_version": "1.2.0",
            "_view_count": null,
            "flex_flow": null,
            "width": null,
            "min_width": null,
            "border": null,
            "align_items": null,
            "bottom": null,
            "_model_module": "@jupyter-widgets/base",
            "top": null,
            "grid_column": null,
            "overflow_y": null,
            "overflow_x": null,
            "grid_auto_flow": null,
            "grid_area": null,
            "grid_template_columns": null,
            "flex": null,
            "_model_name": "LayoutModel",
            "justify_items": null,
            "grid_row": null,
            "max_height": null,
            "align_content": null,
            "visibility": null,
            "align_self": null,
            "height": null,
            "min_height": null,
            "padding": null,
            "grid_auto_rows": null,
            "grid_gap": null,
            "max_width": null,
            "order": null,
            "_view_module_version": "1.2.0",
            "grid_template_areas": null,
            "object_position": null,
            "object_fit": null,
            "grid_auto_columns": null,
            "margin": null,
            "display": null,
            "left": null
          }
        },
        "745bf15377654168b4cd53b8c90b60b3": {
          "model_module": "@jupyter-widgets/controls",
          "model_name": "ProgressStyleModel",
          "model_module_version": "1.5.0",
          "state": {
            "_view_name": "StyleView",
            "_model_name": "ProgressStyleModel",
            "description_width": "",
            "_view_module": "@jupyter-widgets/base",
            "_model_module_version": "1.5.0",
            "_view_count": null,
            "_view_module_version": "1.2.0",
            "bar_color": null,
            "_model_module": "@jupyter-widgets/controls"
          }
        },
        "5a24b160327343febecfc7928769f0f8": {
          "model_module": "@jupyter-widgets/base",
          "model_name": "LayoutModel",
          "model_module_version": "1.2.0",
          "state": {
            "_view_name": "LayoutView",
            "grid_template_rows": null,
            "right": null,
            "justify_content": null,
            "_view_module": "@jupyter-widgets/base",
            "overflow": null,
            "_model_module_version": "1.2.0",
            "_view_count": null,
            "flex_flow": null,
            "width": "20px",
            "min_width": null,
            "border": null,
            "align_items": null,
            "bottom": null,
            "_model_module": "@jupyter-widgets/base",
            "top": null,
            "grid_column": null,
            "overflow_y": null,
            "overflow_x": null,
            "grid_auto_flow": null,
            "grid_area": null,
            "grid_template_columns": null,
            "flex": null,
            "_model_name": "LayoutModel",
            "justify_items": null,
            "grid_row": null,
            "max_height": null,
            "align_content": null,
            "visibility": null,
            "align_self": null,
            "height": null,
            "min_height": null,
            "padding": null,
            "grid_auto_rows": null,
            "grid_gap": null,
            "max_width": null,
            "order": null,
            "_view_module_version": "1.2.0",
            "grid_template_areas": null,
            "object_position": null,
            "object_fit": null,
            "grid_auto_columns": null,
            "margin": null,
            "display": null,
            "left": null
          }
        },
        "9f1bac06b8864b4aab678ebc86c7df43": {
          "model_module": "@jupyter-widgets/controls",
          "model_name": "DescriptionStyleModel",
          "model_module_version": "1.5.0",
          "state": {
            "_view_name": "StyleView",
            "_model_name": "DescriptionStyleModel",
            "description_width": "",
            "_view_module": "@jupyter-widgets/base",
            "_model_module_version": "1.5.0",
            "_view_count": null,
            "_view_module_version": "1.2.0",
            "_model_module": "@jupyter-widgets/controls"
          }
        },
        "eed2f08289cb41c6af0f63a56aa049f5": {
          "model_module": "@jupyter-widgets/base",
          "model_name": "LayoutModel",
          "model_module_version": "1.2.0",
          "state": {
            "_view_name": "LayoutView",
            "grid_template_rows": null,
            "right": null,
            "justify_content": null,
            "_view_module": "@jupyter-widgets/base",
            "overflow": null,
            "_model_module_version": "1.2.0",
            "_view_count": null,
            "flex_flow": null,
            "width": null,
            "min_width": null,
            "border": null,
            "align_items": null,
            "bottom": null,
            "_model_module": "@jupyter-widgets/base",
            "top": null,
            "grid_column": null,
            "overflow_y": null,
            "overflow_x": null,
            "grid_auto_flow": null,
            "grid_area": null,
            "grid_template_columns": null,
            "flex": null,
            "_model_name": "LayoutModel",
            "justify_items": null,
            "grid_row": null,
            "max_height": null,
            "align_content": null,
            "visibility": null,
            "align_self": null,
            "height": null,
            "min_height": null,
            "padding": null,
            "grid_auto_rows": null,
            "grid_gap": null,
            "max_width": null,
            "order": null,
            "_view_module_version": "1.2.0",
            "grid_template_areas": null,
            "object_position": null,
            "object_fit": null,
            "grid_auto_columns": null,
            "margin": null,
            "display": null,
            "left": null
          }
        },
        "12894d95e3e64d33be7acbc9914aaf6b": {
          "model_module": "@jupyter-widgets/controls",
          "model_name": "HBoxModel",
          "model_module_version": "1.5.0",
          "state": {
            "_view_name": "HBoxView",
            "_dom_classes": [],
            "_model_name": "HBoxModel",
            "_view_module": "@jupyter-widgets/controls",
            "_model_module_version": "1.5.0",
            "_view_count": null,
            "_view_module_version": "1.5.0",
            "box_style": "",
            "layout": "IPY_MODEL_4481b176d12b44a7b197a72c4aa90b27",
            "_model_module": "@jupyter-widgets/controls",
            "children": [
              "IPY_MODEL_d80193d360f9427f8cb6e8cf002d669f",
              "IPY_MODEL_92cf62be85cb4fc389449369aa7424b7",
              "IPY_MODEL_09eb091a56934f8f97db91e6cf7df6ca"
            ]
          }
        },
        "4481b176d12b44a7b197a72c4aa90b27": {
          "model_module": "@jupyter-widgets/base",
          "model_name": "LayoutModel",
          "model_module_version": "1.2.0",
          "state": {
            "_view_name": "LayoutView",
            "grid_template_rows": null,
            "right": null,
            "justify_content": null,
            "_view_module": "@jupyter-widgets/base",
            "overflow": null,
            "_model_module_version": "1.2.0",
            "_view_count": null,
            "flex_flow": null,
            "width": null,
            "min_width": null,
            "border": null,
            "align_items": null,
            "bottom": null,
            "_model_module": "@jupyter-widgets/base",
            "top": null,
            "grid_column": null,
            "overflow_y": null,
            "overflow_x": null,
            "grid_auto_flow": null,
            "grid_area": null,
            "grid_template_columns": null,
            "flex": null,
            "_model_name": "LayoutModel",
            "justify_items": null,
            "grid_row": null,
            "max_height": null,
            "align_content": null,
            "visibility": null,
            "align_self": null,
            "height": null,
            "min_height": null,
            "padding": null,
            "grid_auto_rows": null,
            "grid_gap": null,
            "max_width": null,
            "order": null,
            "_view_module_version": "1.2.0",
            "grid_template_areas": null,
            "object_position": null,
            "object_fit": null,
            "grid_auto_columns": null,
            "margin": null,
            "display": null,
            "left": null
          }
        },
        "d80193d360f9427f8cb6e8cf002d669f": {
          "model_module": "@jupyter-widgets/controls",
          "model_name": "HTMLModel",
          "model_module_version": "1.5.0",
          "state": {
            "_view_name": "HTMLView",
            "style": "IPY_MODEL_76a8445afbc640409568996c9837dad6",
            "_dom_classes": [],
            "description": "",
            "_model_name": "HTMLModel",
            "placeholder": "​",
            "_view_module": "@jupyter-widgets/controls",
            "_model_module_version": "1.5.0",
            "value": "",
            "_view_count": null,
            "_view_module_version": "1.5.0",
            "description_tooltip": null,
            "_model_module": "@jupyter-widgets/controls",
            "layout": "IPY_MODEL_5759327541244eab81460596eb209d2d"
          }
        },
        "92cf62be85cb4fc389449369aa7424b7": {
          "model_module": "@jupyter-widgets/controls",
          "model_name": "FloatProgressModel",
          "model_module_version": "1.5.0",
          "state": {
            "_view_name": "ProgressView",
            "style": "IPY_MODEL_89a97b1612e74af49948a6658723cca7",
            "_dom_classes": [],
            "description": "",
            "_model_name": "FloatProgressModel",
            "bar_style": "info",
            "max": 1,
            "_view_module": "@jupyter-widgets/controls",
            "_model_module_version": "1.5.0",
            "value": 1,
            "_view_count": null,
            "_view_module_version": "1.5.0",
            "orientation": "horizontal",
            "min": 0,
            "description_tooltip": null,
            "_model_module": "@jupyter-widgets/controls",
            "layout": "IPY_MODEL_03c8e89bfa3d4db3a70f1e6e47164bd5"
          }
        },
        "09eb091a56934f8f97db91e6cf7df6ca": {
          "model_module": "@jupyter-widgets/controls",
          "model_name": "HTMLModel",
          "model_module_version": "1.5.0",
          "state": {
            "_view_name": "HTMLView",
            "style": "IPY_MODEL_3a42b17b05fd4377bc8a46c8bb9de7a4",
            "_dom_classes": [],
            "description": "",
            "_model_name": "HTMLModel",
            "placeholder": "​",
            "_view_module": "@jupyter-widgets/controls",
            "_model_module_version": "1.5.0",
            "value": " 4746/0 [00:00&lt;00:00, 6787.42 examples/s]",
            "_view_count": null,
            "_view_module_version": "1.5.0",
            "description_tooltip": null,
            "_model_module": "@jupyter-widgets/controls",
            "layout": "IPY_MODEL_318d4925f245493d9517d430c28f4d48"
          }
        },
        "76a8445afbc640409568996c9837dad6": {
          "model_module": "@jupyter-widgets/controls",
          "model_name": "DescriptionStyleModel",
          "model_module_version": "1.5.0",
          "state": {
            "_view_name": "StyleView",
            "_model_name": "DescriptionStyleModel",
            "description_width": "",
            "_view_module": "@jupyter-widgets/base",
            "_model_module_version": "1.5.0",
            "_view_count": null,
            "_view_module_version": "1.2.0",
            "_model_module": "@jupyter-widgets/controls"
          }
        },
        "5759327541244eab81460596eb209d2d": {
          "model_module": "@jupyter-widgets/base",
          "model_name": "LayoutModel",
          "model_module_version": "1.2.0",
          "state": {
            "_view_name": "LayoutView",
            "grid_template_rows": null,
            "right": null,
            "justify_content": null,
            "_view_module": "@jupyter-widgets/base",
            "overflow": null,
            "_model_module_version": "1.2.0",
            "_view_count": null,
            "flex_flow": null,
            "width": null,
            "min_width": null,
            "border": null,
            "align_items": null,
            "bottom": null,
            "_model_module": "@jupyter-widgets/base",
            "top": null,
            "grid_column": null,
            "overflow_y": null,
            "overflow_x": null,
            "grid_auto_flow": null,
            "grid_area": null,
            "grid_template_columns": null,
            "flex": null,
            "_model_name": "LayoutModel",
            "justify_items": null,
            "grid_row": null,
            "max_height": null,
            "align_content": null,
            "visibility": null,
            "align_self": null,
            "height": null,
            "min_height": null,
            "padding": null,
            "grid_auto_rows": null,
            "grid_gap": null,
            "max_width": null,
            "order": null,
            "_view_module_version": "1.2.0",
            "grid_template_areas": null,
            "object_position": null,
            "object_fit": null,
            "grid_auto_columns": null,
            "margin": null,
            "display": null,
            "left": null
          }
        },
        "89a97b1612e74af49948a6658723cca7": {
          "model_module": "@jupyter-widgets/controls",
          "model_name": "ProgressStyleModel",
          "model_module_version": "1.5.0",
          "state": {
            "_view_name": "StyleView",
            "_model_name": "ProgressStyleModel",
            "description_width": "",
            "_view_module": "@jupyter-widgets/base",
            "_model_module_version": "1.5.0",
            "_view_count": null,
            "_view_module_version": "1.2.0",
            "bar_color": null,
            "_model_module": "@jupyter-widgets/controls"
          }
        },
        "03c8e89bfa3d4db3a70f1e6e47164bd5": {
          "model_module": "@jupyter-widgets/base",
          "model_name": "LayoutModel",
          "model_module_version": "1.2.0",
          "state": {
            "_view_name": "LayoutView",
            "grid_template_rows": null,
            "right": null,
            "justify_content": null,
            "_view_module": "@jupyter-widgets/base",
            "overflow": null,
            "_model_module_version": "1.2.0",
            "_view_count": null,
            "flex_flow": null,
            "width": "20px",
            "min_width": null,
            "border": null,
            "align_items": null,
            "bottom": null,
            "_model_module": "@jupyter-widgets/base",
            "top": null,
            "grid_column": null,
            "overflow_y": null,
            "overflow_x": null,
            "grid_auto_flow": null,
            "grid_area": null,
            "grid_template_columns": null,
            "flex": null,
            "_model_name": "LayoutModel",
            "justify_items": null,
            "grid_row": null,
            "max_height": null,
            "align_content": null,
            "visibility": null,
            "align_self": null,
            "height": null,
            "min_height": null,
            "padding": null,
            "grid_auto_rows": null,
            "grid_gap": null,
            "max_width": null,
            "order": null,
            "_view_module_version": "1.2.0",
            "grid_template_areas": null,
            "object_position": null,
            "object_fit": null,
            "grid_auto_columns": null,
            "margin": null,
            "display": null,
            "left": null
          }
        },
        "3a42b17b05fd4377bc8a46c8bb9de7a4": {
          "model_module": "@jupyter-widgets/controls",
          "model_name": "DescriptionStyleModel",
          "model_module_version": "1.5.0",
          "state": {
            "_view_name": "StyleView",
            "_model_name": "DescriptionStyleModel",
            "description_width": "",
            "_view_module": "@jupyter-widgets/base",
            "_model_module_version": "1.5.0",
            "_view_count": null,
            "_view_module_version": "1.2.0",
            "_model_module": "@jupyter-widgets/controls"
          }
        },
        "318d4925f245493d9517d430c28f4d48": {
          "model_module": "@jupyter-widgets/base",
          "model_name": "LayoutModel",
          "model_module_version": "1.2.0",
          "state": {
            "_view_name": "LayoutView",
            "grid_template_rows": null,
            "right": null,
            "justify_content": null,
            "_view_module": "@jupyter-widgets/base",
            "overflow": null,
            "_model_module_version": "1.2.0",
            "_view_count": null,
            "flex_flow": null,
            "width": null,
            "min_width": null,
            "border": null,
            "align_items": null,
            "bottom": null,
            "_model_module": "@jupyter-widgets/base",
            "top": null,
            "grid_column": null,
            "overflow_y": null,
            "overflow_x": null,
            "grid_auto_flow": null,
            "grid_area": null,
            "grid_template_columns": null,
            "flex": null,
            "_model_name": "LayoutModel",
            "justify_items": null,
            "grid_row": null,
            "max_height": null,
            "align_content": null,
            "visibility": null,
            "align_self": null,
            "height": null,
            "min_height": null,
            "padding": null,
            "grid_auto_rows": null,
            "grid_gap": null,
            "max_width": null,
            "order": null,
            "_view_module_version": "1.2.0",
            "grid_template_areas": null,
            "object_position": null,
            "object_fit": null,
            "grid_auto_columns": null,
            "margin": null,
            "display": null,
            "left": null
          }
        },
        "d4035a41a53e405db4a89f62818cbd2f": {
          "model_module": "@jupyter-widgets/controls",
          "model_name": "HBoxModel",
          "model_module_version": "1.5.0",
          "state": {
            "_view_name": "HBoxView",
            "_dom_classes": [],
            "_model_name": "HBoxModel",
            "_view_module": "@jupyter-widgets/controls",
            "_model_module_version": "1.5.0",
            "_view_count": null,
            "_view_module_version": "1.5.0",
            "box_style": "",
            "layout": "IPY_MODEL_63f95921a0534f3399c4910f9451600b",
            "_model_module": "@jupyter-widgets/controls",
            "children": [
              "IPY_MODEL_110ecb88f7f44204ab328e985aa72255",
              "IPY_MODEL_7687b356a08c406097118a722616451e",
              "IPY_MODEL_cd2ec8c8c5654d36aca5306b774360c4"
            ]
          }
        },
        "63f95921a0534f3399c4910f9451600b": {
          "model_module": "@jupyter-widgets/base",
          "model_name": "LayoutModel",
          "model_module_version": "1.2.0",
          "state": {
            "_view_name": "LayoutView",
            "grid_template_rows": null,
            "right": null,
            "justify_content": null,
            "_view_module": "@jupyter-widgets/base",
            "overflow": null,
            "_model_module_version": "1.2.0",
            "_view_count": null,
            "flex_flow": null,
            "width": null,
            "min_width": null,
            "border": null,
            "align_items": null,
            "bottom": null,
            "_model_module": "@jupyter-widgets/base",
            "top": null,
            "grid_column": null,
            "overflow_y": null,
            "overflow_x": null,
            "grid_auto_flow": null,
            "grid_area": null,
            "grid_template_columns": null,
            "flex": null,
            "_model_name": "LayoutModel",
            "justify_items": null,
            "grid_row": null,
            "max_height": null,
            "align_content": null,
            "visibility": null,
            "align_self": null,
            "height": null,
            "min_height": null,
            "padding": null,
            "grid_auto_rows": null,
            "grid_gap": null,
            "max_width": null,
            "order": null,
            "_view_module_version": "1.2.0",
            "grid_template_areas": null,
            "object_position": null,
            "object_fit": null,
            "grid_auto_columns": null,
            "margin": null,
            "display": null,
            "left": null
          }
        },
        "110ecb88f7f44204ab328e985aa72255": {
          "model_module": "@jupyter-widgets/controls",
          "model_name": "HTMLModel",
          "model_module_version": "1.5.0",
          "state": {
            "_view_name": "HTMLView",
            "style": "IPY_MODEL_a26eb7dc8001462db9020bffe2e1d93e",
            "_dom_classes": [],
            "description": "",
            "_model_name": "HTMLModel",
            "placeholder": "​",
            "_view_module": "@jupyter-widgets/controls",
            "_model_module_version": "1.5.0",
            "value": "100%",
            "_view_count": null,
            "_view_module_version": "1.5.0",
            "description_tooltip": null,
            "_model_module": "@jupyter-widgets/controls",
            "layout": "IPY_MODEL_c4b42f9e103b439399f0feff31961f06"
          }
        },
        "7687b356a08c406097118a722616451e": {
          "model_module": "@jupyter-widgets/controls",
          "model_name": "FloatProgressModel",
          "model_module_version": "1.5.0",
          "state": {
            "_view_name": "ProgressView",
            "style": "IPY_MODEL_db7249e8475c4e39b841d7362de54ab3",
            "_dom_classes": [],
            "description": "",
            "_model_name": "FloatProgressModel",
            "bar_style": "success",
            "max": 3,
            "_view_module": "@jupyter-widgets/controls",
            "_model_module_version": "1.5.0",
            "value": 3,
            "_view_count": null,
            "_view_module_version": "1.5.0",
            "orientation": "horizontal",
            "min": 0,
            "description_tooltip": null,
            "_model_module": "@jupyter-widgets/controls",
            "layout": "IPY_MODEL_c993ddbdf82b4174a8368180f64506b4"
          }
        },
        "cd2ec8c8c5654d36aca5306b774360c4": {
          "model_module": "@jupyter-widgets/controls",
          "model_name": "HTMLModel",
          "model_module_version": "1.5.0",
          "state": {
            "_view_name": "HTMLView",
            "style": "IPY_MODEL_b291f7ac842e4fe89dab86a06a391bc6",
            "_dom_classes": [],
            "description": "",
            "_model_name": "HTMLModel",
            "placeholder": "​",
            "_view_module": "@jupyter-widgets/controls",
            "_model_module_version": "1.5.0",
            "value": " 3/3 [00:00&lt;00:00, 36.14it/s]",
            "_view_count": null,
            "_view_module_version": "1.5.0",
            "description_tooltip": null,
            "_model_module": "@jupyter-widgets/controls",
            "layout": "IPY_MODEL_e26eabc6ad2e4d9f86d8492881b56c09"
          }
        },
        "a26eb7dc8001462db9020bffe2e1d93e": {
          "model_module": "@jupyter-widgets/controls",
          "model_name": "DescriptionStyleModel",
          "model_module_version": "1.5.0",
          "state": {
            "_view_name": "StyleView",
            "_model_name": "DescriptionStyleModel",
            "description_width": "",
            "_view_module": "@jupyter-widgets/base",
            "_model_module_version": "1.5.0",
            "_view_count": null,
            "_view_module_version": "1.2.0",
            "_model_module": "@jupyter-widgets/controls"
          }
        },
        "c4b42f9e103b439399f0feff31961f06": {
          "model_module": "@jupyter-widgets/base",
          "model_name": "LayoutModel",
          "model_module_version": "1.2.0",
          "state": {
            "_view_name": "LayoutView",
            "grid_template_rows": null,
            "right": null,
            "justify_content": null,
            "_view_module": "@jupyter-widgets/base",
            "overflow": null,
            "_model_module_version": "1.2.0",
            "_view_count": null,
            "flex_flow": null,
            "width": null,
            "min_width": null,
            "border": null,
            "align_items": null,
            "bottom": null,
            "_model_module": "@jupyter-widgets/base",
            "top": null,
            "grid_column": null,
            "overflow_y": null,
            "overflow_x": null,
            "grid_auto_flow": null,
            "grid_area": null,
            "grid_template_columns": null,
            "flex": null,
            "_model_name": "LayoutModel",
            "justify_items": null,
            "grid_row": null,
            "max_height": null,
            "align_content": null,
            "visibility": null,
            "align_self": null,
            "height": null,
            "min_height": null,
            "padding": null,
            "grid_auto_rows": null,
            "grid_gap": null,
            "max_width": null,
            "order": null,
            "_view_module_version": "1.2.0",
            "grid_template_areas": null,
            "object_position": null,
            "object_fit": null,
            "grid_auto_columns": null,
            "margin": null,
            "display": null,
            "left": null
          }
        },
        "db7249e8475c4e39b841d7362de54ab3": {
          "model_module": "@jupyter-widgets/controls",
          "model_name": "ProgressStyleModel",
          "model_module_version": "1.5.0",
          "state": {
            "_view_name": "StyleView",
            "_model_name": "ProgressStyleModel",
            "description_width": "",
            "_view_module": "@jupyter-widgets/base",
            "_model_module_version": "1.5.0",
            "_view_count": null,
            "_view_module_version": "1.2.0",
            "bar_color": null,
            "_model_module": "@jupyter-widgets/controls"
          }
        },
        "c993ddbdf82b4174a8368180f64506b4": {
          "model_module": "@jupyter-widgets/base",
          "model_name": "LayoutModel",
          "model_module_version": "1.2.0",
          "state": {
            "_view_name": "LayoutView",
            "grid_template_rows": null,
            "right": null,
            "justify_content": null,
            "_view_module": "@jupyter-widgets/base",
            "overflow": null,
            "_model_module_version": "1.2.0",
            "_view_count": null,
            "flex_flow": null,
            "width": null,
            "min_width": null,
            "border": null,
            "align_items": null,
            "bottom": null,
            "_model_module": "@jupyter-widgets/base",
            "top": null,
            "grid_column": null,
            "overflow_y": null,
            "overflow_x": null,
            "grid_auto_flow": null,
            "grid_area": null,
            "grid_template_columns": null,
            "flex": null,
            "_model_name": "LayoutModel",
            "justify_items": null,
            "grid_row": null,
            "max_height": null,
            "align_content": null,
            "visibility": null,
            "align_self": null,
            "height": null,
            "min_height": null,
            "padding": null,
            "grid_auto_rows": null,
            "grid_gap": null,
            "max_width": null,
            "order": null,
            "_view_module_version": "1.2.0",
            "grid_template_areas": null,
            "object_position": null,
            "object_fit": null,
            "grid_auto_columns": null,
            "margin": null,
            "display": null,
            "left": null
          }
        },
        "b291f7ac842e4fe89dab86a06a391bc6": {
          "model_module": "@jupyter-widgets/controls",
          "model_name": "DescriptionStyleModel",
          "model_module_version": "1.5.0",
          "state": {
            "_view_name": "StyleView",
            "_model_name": "DescriptionStyleModel",
            "description_width": "",
            "_view_module": "@jupyter-widgets/base",
            "_model_module_version": "1.5.0",
            "_view_count": null,
            "_view_module_version": "1.2.0",
            "_model_module": "@jupyter-widgets/controls"
          }
        },
        "e26eabc6ad2e4d9f86d8492881b56c09": {
          "model_module": "@jupyter-widgets/base",
          "model_name": "LayoutModel",
          "model_module_version": "1.2.0",
          "state": {
            "_view_name": "LayoutView",
            "grid_template_rows": null,
            "right": null,
            "justify_content": null,
            "_view_module": "@jupyter-widgets/base",
            "overflow": null,
            "_model_module_version": "1.2.0",
            "_view_count": null,
            "flex_flow": null,
            "width": null,
            "min_width": null,
            "border": null,
            "align_items": null,
            "bottom": null,
            "_model_module": "@jupyter-widgets/base",
            "top": null,
            "grid_column": null,
            "overflow_y": null,
            "overflow_x": null,
            "grid_auto_flow": null,
            "grid_area": null,
            "grid_template_columns": null,
            "flex": null,
            "_model_name": "LayoutModel",
            "justify_items": null,
            "grid_row": null,
            "max_height": null,
            "align_content": null,
            "visibility": null,
            "align_self": null,
            "height": null,
            "min_height": null,
            "padding": null,
            "grid_auto_rows": null,
            "grid_gap": null,
            "max_width": null,
            "order": null,
            "_view_module_version": "1.2.0",
            "grid_template_areas": null,
            "object_position": null,
            "object_fit": null,
            "grid_auto_columns": null,
            "margin": null,
            "display": null,
            "left": null
          }
        },
        "5e1f0a079c1b493d892adcc5e244d220": {
          "model_module": "@jupyter-widgets/controls",
          "model_name": "HBoxModel",
          "model_module_version": "1.5.0",
          "state": {
            "_view_name": "HBoxView",
            "_dom_classes": [],
            "_model_name": "HBoxModel",
            "_view_module": "@jupyter-widgets/controls",
            "_model_module_version": "1.5.0",
            "_view_count": null,
            "_view_module_version": "1.5.0",
            "box_style": "",
            "layout": "IPY_MODEL_2553bde53c6d4f879781d6e7fc715305",
            "_model_module": "@jupyter-widgets/controls",
            "children": [
              "IPY_MODEL_81612cabc90b4c3d9f65ddeb2b7179df",
              "IPY_MODEL_d7ea833e250c41d683b7fd496d3bd577",
              "IPY_MODEL_14e1c2434e224bf98e1381b92c953c7d"
            ]
          }
        },
        "2553bde53c6d4f879781d6e7fc715305": {
          "model_module": "@jupyter-widgets/base",
          "model_name": "LayoutModel",
          "model_module_version": "1.2.0",
          "state": {
            "_view_name": "LayoutView",
            "grid_template_rows": null,
            "right": null,
            "justify_content": null,
            "_view_module": "@jupyter-widgets/base",
            "overflow": null,
            "_model_module_version": "1.2.0",
            "_view_count": null,
            "flex_flow": null,
            "width": null,
            "min_width": null,
            "border": null,
            "align_items": null,
            "bottom": null,
            "_model_module": "@jupyter-widgets/base",
            "top": null,
            "grid_column": null,
            "overflow_y": null,
            "overflow_x": null,
            "grid_auto_flow": null,
            "grid_area": null,
            "grid_template_columns": null,
            "flex": null,
            "_model_name": "LayoutModel",
            "justify_items": null,
            "grid_row": null,
            "max_height": null,
            "align_content": null,
            "visibility": null,
            "align_self": null,
            "height": null,
            "min_height": null,
            "padding": null,
            "grid_auto_rows": null,
            "grid_gap": null,
            "max_width": null,
            "order": null,
            "_view_module_version": "1.2.0",
            "grid_template_areas": null,
            "object_position": null,
            "object_fit": null,
            "grid_auto_columns": null,
            "margin": null,
            "display": null,
            "left": null
          }
        },
        "81612cabc90b4c3d9f65ddeb2b7179df": {
          "model_module": "@jupyter-widgets/controls",
          "model_name": "HTMLModel",
          "model_module_version": "1.5.0",
          "state": {
            "_view_name": "HTMLView",
            "style": "IPY_MODEL_5026cce2b7b74d40bad67f5561835ed7",
            "_dom_classes": [],
            "description": "",
            "_model_name": "HTMLModel",
            "placeholder": "​",
            "_view_module": "@jupyter-widgets/controls",
            "_model_module_version": "1.5.0",
            "value": "Downloading: 100%",
            "_view_count": null,
            "_view_module_version": "1.5.0",
            "description_tooltip": null,
            "_model_module": "@jupyter-widgets/controls",
            "layout": "IPY_MODEL_5e12c0f91e9e4d53bb82dd4d22324c36"
          }
        },
        "d7ea833e250c41d683b7fd496d3bd577": {
          "model_module": "@jupyter-widgets/controls",
          "model_name": "FloatProgressModel",
          "model_module_version": "1.5.0",
          "state": {
            "_view_name": "ProgressView",
            "style": "IPY_MODEL_ad711667cff94b2da4dc94833d94826c",
            "_dom_classes": [],
            "description": "",
            "_model_name": "FloatProgressModel",
            "bar_style": "success",
            "max": 898823,
            "_view_module": "@jupyter-widgets/controls",
            "_model_module_version": "1.5.0",
            "value": 898823,
            "_view_count": null,
            "_view_module_version": "1.5.0",
            "orientation": "horizontal",
            "min": 0,
            "description_tooltip": null,
            "_model_module": "@jupyter-widgets/controls",
            "layout": "IPY_MODEL_9f9d2b946c974bce9fa73c98067afb05"
          }
        },
        "14e1c2434e224bf98e1381b92c953c7d": {
          "model_module": "@jupyter-widgets/controls",
          "model_name": "HTMLModel",
          "model_module_version": "1.5.0",
          "state": {
            "_view_name": "HTMLView",
            "style": "IPY_MODEL_c31d9b1b463543ef9f517dd1dc9d8eaa",
            "_dom_classes": [],
            "description": "",
            "_model_name": "HTMLModel",
            "placeholder": "​",
            "_view_module": "@jupyter-widgets/controls",
            "_model_module_version": "1.5.0",
            "value": " 878k/878k [00:00&lt;00:00, 1.50MB/s]",
            "_view_count": null,
            "_view_module_version": "1.5.0",
            "description_tooltip": null,
            "_model_module": "@jupyter-widgets/controls",
            "layout": "IPY_MODEL_916b12b9598d451a9dde84995a889031"
          }
        },
        "5026cce2b7b74d40bad67f5561835ed7": {
          "model_module": "@jupyter-widgets/controls",
          "model_name": "DescriptionStyleModel",
          "model_module_version": "1.5.0",
          "state": {
            "_view_name": "StyleView",
            "_model_name": "DescriptionStyleModel",
            "description_width": "",
            "_view_module": "@jupyter-widgets/base",
            "_model_module_version": "1.5.0",
            "_view_count": null,
            "_view_module_version": "1.2.0",
            "_model_module": "@jupyter-widgets/controls"
          }
        },
        "5e12c0f91e9e4d53bb82dd4d22324c36": {
          "model_module": "@jupyter-widgets/base",
          "model_name": "LayoutModel",
          "model_module_version": "1.2.0",
          "state": {
            "_view_name": "LayoutView",
            "grid_template_rows": null,
            "right": null,
            "justify_content": null,
            "_view_module": "@jupyter-widgets/base",
            "overflow": null,
            "_model_module_version": "1.2.0",
            "_view_count": null,
            "flex_flow": null,
            "width": null,
            "min_width": null,
            "border": null,
            "align_items": null,
            "bottom": null,
            "_model_module": "@jupyter-widgets/base",
            "top": null,
            "grid_column": null,
            "overflow_y": null,
            "overflow_x": null,
            "grid_auto_flow": null,
            "grid_area": null,
            "grid_template_columns": null,
            "flex": null,
            "_model_name": "LayoutModel",
            "justify_items": null,
            "grid_row": null,
            "max_height": null,
            "align_content": null,
            "visibility": null,
            "align_self": null,
            "height": null,
            "min_height": null,
            "padding": null,
            "grid_auto_rows": null,
            "grid_gap": null,
            "max_width": null,
            "order": null,
            "_view_module_version": "1.2.0",
            "grid_template_areas": null,
            "object_position": null,
            "object_fit": null,
            "grid_auto_columns": null,
            "margin": null,
            "display": null,
            "left": null
          }
        },
        "ad711667cff94b2da4dc94833d94826c": {
          "model_module": "@jupyter-widgets/controls",
          "model_name": "ProgressStyleModel",
          "model_module_version": "1.5.0",
          "state": {
            "_view_name": "StyleView",
            "_model_name": "ProgressStyleModel",
            "description_width": "",
            "_view_module": "@jupyter-widgets/base",
            "_model_module_version": "1.5.0",
            "_view_count": null,
            "_view_module_version": "1.2.0",
            "bar_color": null,
            "_model_module": "@jupyter-widgets/controls"
          }
        },
        "9f9d2b946c974bce9fa73c98067afb05": {
          "model_module": "@jupyter-widgets/base",
          "model_name": "LayoutModel",
          "model_module_version": "1.2.0",
          "state": {
            "_view_name": "LayoutView",
            "grid_template_rows": null,
            "right": null,
            "justify_content": null,
            "_view_module": "@jupyter-widgets/base",
            "overflow": null,
            "_model_module_version": "1.2.0",
            "_view_count": null,
            "flex_flow": null,
            "width": null,
            "min_width": null,
            "border": null,
            "align_items": null,
            "bottom": null,
            "_model_module": "@jupyter-widgets/base",
            "top": null,
            "grid_column": null,
            "overflow_y": null,
            "overflow_x": null,
            "grid_auto_flow": null,
            "grid_area": null,
            "grid_template_columns": null,
            "flex": null,
            "_model_name": "LayoutModel",
            "justify_items": null,
            "grid_row": null,
            "max_height": null,
            "align_content": null,
            "visibility": null,
            "align_self": null,
            "height": null,
            "min_height": null,
            "padding": null,
            "grid_auto_rows": null,
            "grid_gap": null,
            "max_width": null,
            "order": null,
            "_view_module_version": "1.2.0",
            "grid_template_areas": null,
            "object_position": null,
            "object_fit": null,
            "grid_auto_columns": null,
            "margin": null,
            "display": null,
            "left": null
          }
        },
        "c31d9b1b463543ef9f517dd1dc9d8eaa": {
          "model_module": "@jupyter-widgets/controls",
          "model_name": "DescriptionStyleModel",
          "model_module_version": "1.5.0",
          "state": {
            "_view_name": "StyleView",
            "_model_name": "DescriptionStyleModel",
            "description_width": "",
            "_view_module": "@jupyter-widgets/base",
            "_model_module_version": "1.5.0",
            "_view_count": null,
            "_view_module_version": "1.2.0",
            "_model_module": "@jupyter-widgets/controls"
          }
        },
        "916b12b9598d451a9dde84995a889031": {
          "model_module": "@jupyter-widgets/base",
          "model_name": "LayoutModel",
          "model_module_version": "1.2.0",
          "state": {
            "_view_name": "LayoutView",
            "grid_template_rows": null,
            "right": null,
            "justify_content": null,
            "_view_module": "@jupyter-widgets/base",
            "overflow": null,
            "_model_module_version": "1.2.0",
            "_view_count": null,
            "flex_flow": null,
            "width": null,
            "min_width": null,
            "border": null,
            "align_items": null,
            "bottom": null,
            "_model_module": "@jupyter-widgets/base",
            "top": null,
            "grid_column": null,
            "overflow_y": null,
            "overflow_x": null,
            "grid_auto_flow": null,
            "grid_area": null,
            "grid_template_columns": null,
            "flex": null,
            "_model_name": "LayoutModel",
            "justify_items": null,
            "grid_row": null,
            "max_height": null,
            "align_content": null,
            "visibility": null,
            "align_self": null,
            "height": null,
            "min_height": null,
            "padding": null,
            "grid_auto_rows": null,
            "grid_gap": null,
            "max_width": null,
            "order": null,
            "_view_module_version": "1.2.0",
            "grid_template_areas": null,
            "object_position": null,
            "object_fit": null,
            "grid_auto_columns": null,
            "margin": null,
            "display": null,
            "left": null
          }
        },
        "78601aca97ef436495fcabd2392e7595": {
          "model_module": "@jupyter-widgets/controls",
          "model_name": "HBoxModel",
          "model_module_version": "1.5.0",
          "state": {
            "_view_name": "HBoxView",
            "_dom_classes": [],
            "_model_name": "HBoxModel",
            "_view_module": "@jupyter-widgets/controls",
            "_model_module_version": "1.5.0",
            "_view_count": null,
            "_view_module_version": "1.5.0",
            "box_style": "",
            "layout": "IPY_MODEL_a0fb63fea1a446da9b9af960901bd425",
            "_model_module": "@jupyter-widgets/controls",
            "children": [
              "IPY_MODEL_a1d6172fe8c849b79a6f77d31d37422f",
              "IPY_MODEL_b535e77f4c464c2cafb6e1811f434e4e",
              "IPY_MODEL_102d3b433008439a97aa49b2bfaae287"
            ]
          }
        },
        "a0fb63fea1a446da9b9af960901bd425": {
          "model_module": "@jupyter-widgets/base",
          "model_name": "LayoutModel",
          "model_module_version": "1.2.0",
          "state": {
            "_view_name": "LayoutView",
            "grid_template_rows": null,
            "right": null,
            "justify_content": null,
            "_view_module": "@jupyter-widgets/base",
            "overflow": null,
            "_model_module_version": "1.2.0",
            "_view_count": null,
            "flex_flow": null,
            "width": null,
            "min_width": null,
            "border": null,
            "align_items": null,
            "bottom": null,
            "_model_module": "@jupyter-widgets/base",
            "top": null,
            "grid_column": null,
            "overflow_y": null,
            "overflow_x": null,
            "grid_auto_flow": null,
            "grid_area": null,
            "grid_template_columns": null,
            "flex": null,
            "_model_name": "LayoutModel",
            "justify_items": null,
            "grid_row": null,
            "max_height": null,
            "align_content": null,
            "visibility": null,
            "align_self": null,
            "height": null,
            "min_height": null,
            "padding": null,
            "grid_auto_rows": null,
            "grid_gap": null,
            "max_width": null,
            "order": null,
            "_view_module_version": "1.2.0",
            "grid_template_areas": null,
            "object_position": null,
            "object_fit": null,
            "grid_auto_columns": null,
            "margin": null,
            "display": null,
            "left": null
          }
        },
        "a1d6172fe8c849b79a6f77d31d37422f": {
          "model_module": "@jupyter-widgets/controls",
          "model_name": "HTMLModel",
          "model_module_version": "1.5.0",
          "state": {
            "_view_name": "HTMLView",
            "style": "IPY_MODEL_5c87ed03132744e18bfd84768e25bffe",
            "_dom_classes": [],
            "description": "",
            "_model_name": "HTMLModel",
            "placeholder": "​",
            "_view_module": "@jupyter-widgets/controls",
            "_model_module_version": "1.5.0",
            "value": "Downloading: 100%",
            "_view_count": null,
            "_view_module_version": "1.5.0",
            "description_tooltip": null,
            "_model_module": "@jupyter-widgets/controls",
            "layout": "IPY_MODEL_9d8b31c190e5419e89d5d936140697de"
          }
        },
        "b535e77f4c464c2cafb6e1811f434e4e": {
          "model_module": "@jupyter-widgets/controls",
          "model_name": "FloatProgressModel",
          "model_module_version": "1.5.0",
          "state": {
            "_view_name": "ProgressView",
            "style": "IPY_MODEL_16db2dd2e9044b539b3de4032c09aebb",
            "_dom_classes": [],
            "description": "",
            "_model_name": "FloatProgressModel",
            "bar_style": "success",
            "max": 456318,
            "_view_module": "@jupyter-widgets/controls",
            "_model_module_version": "1.5.0",
            "value": 456318,
            "_view_count": null,
            "_view_module_version": "1.5.0",
            "orientation": "horizontal",
            "min": 0,
            "description_tooltip": null,
            "_model_module": "@jupyter-widgets/controls",
            "layout": "IPY_MODEL_bcce8700d8394ce980178fe91b2ee8d0"
          }
        },
        "102d3b433008439a97aa49b2bfaae287": {
          "model_module": "@jupyter-widgets/controls",
          "model_name": "HTMLModel",
          "model_module_version": "1.5.0",
          "state": {
            "_view_name": "HTMLView",
            "style": "IPY_MODEL_412111fd225f4295b181a279f03a0b8c",
            "_dom_classes": [],
            "description": "",
            "_model_name": "HTMLModel",
            "placeholder": "​",
            "_view_module": "@jupyter-widgets/controls",
            "_model_module_version": "1.5.0",
            "value": " 446k/446k [00:00&lt;00:00, 1.08MB/s]",
            "_view_count": null,
            "_view_module_version": "1.5.0",
            "description_tooltip": null,
            "_model_module": "@jupyter-widgets/controls",
            "layout": "IPY_MODEL_15289d04aeb14814b4c09fba8237ef46"
          }
        },
        "5c87ed03132744e18bfd84768e25bffe": {
          "model_module": "@jupyter-widgets/controls",
          "model_name": "DescriptionStyleModel",
          "model_module_version": "1.5.0",
          "state": {
            "_view_name": "StyleView",
            "_model_name": "DescriptionStyleModel",
            "description_width": "",
            "_view_module": "@jupyter-widgets/base",
            "_model_module_version": "1.5.0",
            "_view_count": null,
            "_view_module_version": "1.2.0",
            "_model_module": "@jupyter-widgets/controls"
          }
        },
        "9d8b31c190e5419e89d5d936140697de": {
          "model_module": "@jupyter-widgets/base",
          "model_name": "LayoutModel",
          "model_module_version": "1.2.0",
          "state": {
            "_view_name": "LayoutView",
            "grid_template_rows": null,
            "right": null,
            "justify_content": null,
            "_view_module": "@jupyter-widgets/base",
            "overflow": null,
            "_model_module_version": "1.2.0",
            "_view_count": null,
            "flex_flow": null,
            "width": null,
            "min_width": null,
            "border": null,
            "align_items": null,
            "bottom": null,
            "_model_module": "@jupyter-widgets/base",
            "top": null,
            "grid_column": null,
            "overflow_y": null,
            "overflow_x": null,
            "grid_auto_flow": null,
            "grid_area": null,
            "grid_template_columns": null,
            "flex": null,
            "_model_name": "LayoutModel",
            "justify_items": null,
            "grid_row": null,
            "max_height": null,
            "align_content": null,
            "visibility": null,
            "align_self": null,
            "height": null,
            "min_height": null,
            "padding": null,
            "grid_auto_rows": null,
            "grid_gap": null,
            "max_width": null,
            "order": null,
            "_view_module_version": "1.2.0",
            "grid_template_areas": null,
            "object_position": null,
            "object_fit": null,
            "grid_auto_columns": null,
            "margin": null,
            "display": null,
            "left": null
          }
        },
        "16db2dd2e9044b539b3de4032c09aebb": {
          "model_module": "@jupyter-widgets/controls",
          "model_name": "ProgressStyleModel",
          "model_module_version": "1.5.0",
          "state": {
            "_view_name": "StyleView",
            "_model_name": "ProgressStyleModel",
            "description_width": "",
            "_view_module": "@jupyter-widgets/base",
            "_model_module_version": "1.5.0",
            "_view_count": null,
            "_view_module_version": "1.2.0",
            "bar_color": null,
            "_model_module": "@jupyter-widgets/controls"
          }
        },
        "bcce8700d8394ce980178fe91b2ee8d0": {
          "model_module": "@jupyter-widgets/base",
          "model_name": "LayoutModel",
          "model_module_version": "1.2.0",
          "state": {
            "_view_name": "LayoutView",
            "grid_template_rows": null,
            "right": null,
            "justify_content": null,
            "_view_module": "@jupyter-widgets/base",
            "overflow": null,
            "_model_module_version": "1.2.0",
            "_view_count": null,
            "flex_flow": null,
            "width": null,
            "min_width": null,
            "border": null,
            "align_items": null,
            "bottom": null,
            "_model_module": "@jupyter-widgets/base",
            "top": null,
            "grid_column": null,
            "overflow_y": null,
            "overflow_x": null,
            "grid_auto_flow": null,
            "grid_area": null,
            "grid_template_columns": null,
            "flex": null,
            "_model_name": "LayoutModel",
            "justify_items": null,
            "grid_row": null,
            "max_height": null,
            "align_content": null,
            "visibility": null,
            "align_self": null,
            "height": null,
            "min_height": null,
            "padding": null,
            "grid_auto_rows": null,
            "grid_gap": null,
            "max_width": null,
            "order": null,
            "_view_module_version": "1.2.0",
            "grid_template_areas": null,
            "object_position": null,
            "object_fit": null,
            "grid_auto_columns": null,
            "margin": null,
            "display": null,
            "left": null
          }
        },
        "412111fd225f4295b181a279f03a0b8c": {
          "model_module": "@jupyter-widgets/controls",
          "model_name": "DescriptionStyleModel",
          "model_module_version": "1.5.0",
          "state": {
            "_view_name": "StyleView",
            "_model_name": "DescriptionStyleModel",
            "description_width": "",
            "_view_module": "@jupyter-widgets/base",
            "_model_module_version": "1.5.0",
            "_view_count": null,
            "_view_module_version": "1.2.0",
            "_model_module": "@jupyter-widgets/controls"
          }
        },
        "15289d04aeb14814b4c09fba8237ef46": {
          "model_module": "@jupyter-widgets/base",
          "model_name": "LayoutModel",
          "model_module_version": "1.2.0",
          "state": {
            "_view_name": "LayoutView",
            "grid_template_rows": null,
            "right": null,
            "justify_content": null,
            "_view_module": "@jupyter-widgets/base",
            "overflow": null,
            "_model_module_version": "1.2.0",
            "_view_count": null,
            "flex_flow": null,
            "width": null,
            "min_width": null,
            "border": null,
            "align_items": null,
            "bottom": null,
            "_model_module": "@jupyter-widgets/base",
            "top": null,
            "grid_column": null,
            "overflow_y": null,
            "overflow_x": null,
            "grid_auto_flow": null,
            "grid_area": null,
            "grid_template_columns": null,
            "flex": null,
            "_model_name": "LayoutModel",
            "justify_items": null,
            "grid_row": null,
            "max_height": null,
            "align_content": null,
            "visibility": null,
            "align_self": null,
            "height": null,
            "min_height": null,
            "padding": null,
            "grid_auto_rows": null,
            "grid_gap": null,
            "max_width": null,
            "order": null,
            "_view_module_version": "1.2.0",
            "grid_template_areas": null,
            "object_position": null,
            "object_fit": null,
            "grid_auto_columns": null,
            "margin": null,
            "display": null,
            "left": null
          }
        },
        "8f63269470d745fcab01349f5a57d2c8": {
          "model_module": "@jupyter-widgets/controls",
          "model_name": "HBoxModel",
          "model_module_version": "1.5.0",
          "state": {
            "_view_name": "HBoxView",
            "_dom_classes": [],
            "_model_name": "HBoxModel",
            "_view_module": "@jupyter-widgets/controls",
            "_model_module_version": "1.5.0",
            "_view_count": null,
            "_view_module_version": "1.5.0",
            "box_style": "",
            "layout": "IPY_MODEL_137a560f1e2b4d1492ec4413b602f84c",
            "_model_module": "@jupyter-widgets/controls",
            "children": [
              "IPY_MODEL_05e6d24f5f884755a7296da2e5121a46",
              "IPY_MODEL_0a141260d7914ef0bc1451d72337250f",
              "IPY_MODEL_9c3a0f1642a4430683b73b4a6b21a599"
            ]
          }
        },
        "137a560f1e2b4d1492ec4413b602f84c": {
          "model_module": "@jupyter-widgets/base",
          "model_name": "LayoutModel",
          "model_module_version": "1.2.0",
          "state": {
            "_view_name": "LayoutView",
            "grid_template_rows": null,
            "right": null,
            "justify_content": null,
            "_view_module": "@jupyter-widgets/base",
            "overflow": null,
            "_model_module_version": "1.2.0",
            "_view_count": null,
            "flex_flow": null,
            "width": null,
            "min_width": null,
            "border": null,
            "align_items": null,
            "bottom": null,
            "_model_module": "@jupyter-widgets/base",
            "top": null,
            "grid_column": null,
            "overflow_y": null,
            "overflow_x": null,
            "grid_auto_flow": null,
            "grid_area": null,
            "grid_template_columns": null,
            "flex": null,
            "_model_name": "LayoutModel",
            "justify_items": null,
            "grid_row": null,
            "max_height": null,
            "align_content": null,
            "visibility": null,
            "align_self": null,
            "height": null,
            "min_height": null,
            "padding": null,
            "grid_auto_rows": null,
            "grid_gap": null,
            "max_width": null,
            "order": null,
            "_view_module_version": "1.2.0",
            "grid_template_areas": null,
            "object_position": null,
            "object_fit": null,
            "grid_auto_columns": null,
            "margin": null,
            "display": null,
            "left": null
          }
        },
        "05e6d24f5f884755a7296da2e5121a46": {
          "model_module": "@jupyter-widgets/controls",
          "model_name": "HTMLModel",
          "model_module_version": "1.5.0",
          "state": {
            "_view_name": "HTMLView",
            "style": "IPY_MODEL_6f3ff8320e56468387bda23af54062c8",
            "_dom_classes": [],
            "description": "",
            "_model_name": "HTMLModel",
            "placeholder": "​",
            "_view_module": "@jupyter-widgets/controls",
            "_model_module_version": "1.5.0",
            "value": "Downloading: 100%",
            "_view_count": null,
            "_view_module_version": "1.5.0",
            "description_tooltip": null,
            "_model_module": "@jupyter-widgets/controls",
            "layout": "IPY_MODEL_c410913562a94a76ad1cac5860cd3547"
          }
        },
        "0a141260d7914ef0bc1451d72337250f": {
          "model_module": "@jupyter-widgets/controls",
          "model_name": "FloatProgressModel",
          "model_module_version": "1.5.0",
          "state": {
            "_view_name": "ProgressView",
            "style": "IPY_MODEL_3db37d5f4d234b9b81d50ff9da3b3e3a",
            "_dom_classes": [],
            "description": "",
            "_model_name": "FloatProgressModel",
            "bar_style": "success",
            "max": 481,
            "_view_module": "@jupyter-widgets/controls",
            "_model_module_version": "1.5.0",
            "value": 481,
            "_view_count": null,
            "_view_module_version": "1.5.0",
            "orientation": "horizontal",
            "min": 0,
            "description_tooltip": null,
            "_model_module": "@jupyter-widgets/controls",
            "layout": "IPY_MODEL_c162db4042c3489a8d314c98e8bf340e"
          }
        },
        "9c3a0f1642a4430683b73b4a6b21a599": {
          "model_module": "@jupyter-widgets/controls",
          "model_name": "HTMLModel",
          "model_module_version": "1.5.0",
          "state": {
            "_view_name": "HTMLView",
            "style": "IPY_MODEL_f8ab2aaf1d2d4498bb9477cdd8d1ea00",
            "_dom_classes": [],
            "description": "",
            "_model_name": "HTMLModel",
            "placeholder": "​",
            "_view_module": "@jupyter-widgets/controls",
            "_model_module_version": "1.5.0",
            "value": " 481/481 [00:00&lt;00:00, 4.15kB/s]",
            "_view_count": null,
            "_view_module_version": "1.5.0",
            "description_tooltip": null,
            "_model_module": "@jupyter-widgets/controls",
            "layout": "IPY_MODEL_9ef676d7b74c444dbc84f2d4bd608c9b"
          }
        },
        "6f3ff8320e56468387bda23af54062c8": {
          "model_module": "@jupyter-widgets/controls",
          "model_name": "DescriptionStyleModel",
          "model_module_version": "1.5.0",
          "state": {
            "_view_name": "StyleView",
            "_model_name": "DescriptionStyleModel",
            "description_width": "",
            "_view_module": "@jupyter-widgets/base",
            "_model_module_version": "1.5.0",
            "_view_count": null,
            "_view_module_version": "1.2.0",
            "_model_module": "@jupyter-widgets/controls"
          }
        },
        "c410913562a94a76ad1cac5860cd3547": {
          "model_module": "@jupyter-widgets/base",
          "model_name": "LayoutModel",
          "model_module_version": "1.2.0",
          "state": {
            "_view_name": "LayoutView",
            "grid_template_rows": null,
            "right": null,
            "justify_content": null,
            "_view_module": "@jupyter-widgets/base",
            "overflow": null,
            "_model_module_version": "1.2.0",
            "_view_count": null,
            "flex_flow": null,
            "width": null,
            "min_width": null,
            "border": null,
            "align_items": null,
            "bottom": null,
            "_model_module": "@jupyter-widgets/base",
            "top": null,
            "grid_column": null,
            "overflow_y": null,
            "overflow_x": null,
            "grid_auto_flow": null,
            "grid_area": null,
            "grid_template_columns": null,
            "flex": null,
            "_model_name": "LayoutModel",
            "justify_items": null,
            "grid_row": null,
            "max_height": null,
            "align_content": null,
            "visibility": null,
            "align_self": null,
            "height": null,
            "min_height": null,
            "padding": null,
            "grid_auto_rows": null,
            "grid_gap": null,
            "max_width": null,
            "order": null,
            "_view_module_version": "1.2.0",
            "grid_template_areas": null,
            "object_position": null,
            "object_fit": null,
            "grid_auto_columns": null,
            "margin": null,
            "display": null,
            "left": null
          }
        },
        "3db37d5f4d234b9b81d50ff9da3b3e3a": {
          "model_module": "@jupyter-widgets/controls",
          "model_name": "ProgressStyleModel",
          "model_module_version": "1.5.0",
          "state": {
            "_view_name": "StyleView",
            "_model_name": "ProgressStyleModel",
            "description_width": "",
            "_view_module": "@jupyter-widgets/base",
            "_model_module_version": "1.5.0",
            "_view_count": null,
            "_view_module_version": "1.2.0",
            "bar_color": null,
            "_model_module": "@jupyter-widgets/controls"
          }
        },
        "c162db4042c3489a8d314c98e8bf340e": {
          "model_module": "@jupyter-widgets/base",
          "model_name": "LayoutModel",
          "model_module_version": "1.2.0",
          "state": {
            "_view_name": "LayoutView",
            "grid_template_rows": null,
            "right": null,
            "justify_content": null,
            "_view_module": "@jupyter-widgets/base",
            "overflow": null,
            "_model_module_version": "1.2.0",
            "_view_count": null,
            "flex_flow": null,
            "width": null,
            "min_width": null,
            "border": null,
            "align_items": null,
            "bottom": null,
            "_model_module": "@jupyter-widgets/base",
            "top": null,
            "grid_column": null,
            "overflow_y": null,
            "overflow_x": null,
            "grid_auto_flow": null,
            "grid_area": null,
            "grid_template_columns": null,
            "flex": null,
            "_model_name": "LayoutModel",
            "justify_items": null,
            "grid_row": null,
            "max_height": null,
            "align_content": null,
            "visibility": null,
            "align_self": null,
            "height": null,
            "min_height": null,
            "padding": null,
            "grid_auto_rows": null,
            "grid_gap": null,
            "max_width": null,
            "order": null,
            "_view_module_version": "1.2.0",
            "grid_template_areas": null,
            "object_position": null,
            "object_fit": null,
            "grid_auto_columns": null,
            "margin": null,
            "display": null,
            "left": null
          }
        },
        "f8ab2aaf1d2d4498bb9477cdd8d1ea00": {
          "model_module": "@jupyter-widgets/controls",
          "model_name": "DescriptionStyleModel",
          "model_module_version": "1.5.0",
          "state": {
            "_view_name": "StyleView",
            "_model_name": "DescriptionStyleModel",
            "description_width": "",
            "_view_module": "@jupyter-widgets/base",
            "_model_module_version": "1.5.0",
            "_view_count": null,
            "_view_module_version": "1.2.0",
            "_model_module": "@jupyter-widgets/controls"
          }
        },
        "9ef676d7b74c444dbc84f2d4bd608c9b": {
          "model_module": "@jupyter-widgets/base",
          "model_name": "LayoutModel",
          "model_module_version": "1.2.0",
          "state": {
            "_view_name": "LayoutView",
            "grid_template_rows": null,
            "right": null,
            "justify_content": null,
            "_view_module": "@jupyter-widgets/base",
            "overflow": null,
            "_model_module_version": "1.2.0",
            "_view_count": null,
            "flex_flow": null,
            "width": null,
            "min_width": null,
            "border": null,
            "align_items": null,
            "bottom": null,
            "_model_module": "@jupyter-widgets/base",
            "top": null,
            "grid_column": null,
            "overflow_y": null,
            "overflow_x": null,
            "grid_auto_flow": null,
            "grid_area": null,
            "grid_template_columns": null,
            "flex": null,
            "_model_name": "LayoutModel",
            "justify_items": null,
            "grid_row": null,
            "max_height": null,
            "align_content": null,
            "visibility": null,
            "align_self": null,
            "height": null,
            "min_height": null,
            "padding": null,
            "grid_auto_rows": null,
            "grid_gap": null,
            "max_width": null,
            "order": null,
            "_view_module_version": "1.2.0",
            "grid_template_areas": null,
            "object_position": null,
            "object_fit": null,
            "grid_auto_columns": null,
            "margin": null,
            "display": null,
            "left": null
          }
        },
        "ab40207c6d184d519ae36d2a11904a6e": {
          "model_module": "@jupyter-widgets/controls",
          "model_name": "HBoxModel",
          "model_module_version": "1.5.0",
          "state": {
            "_view_name": "HBoxView",
            "_dom_classes": [],
            "_model_name": "HBoxModel",
            "_view_module": "@jupyter-widgets/controls",
            "_model_module_version": "1.5.0",
            "_view_count": null,
            "_view_module_version": "1.5.0",
            "box_style": "",
            "layout": "IPY_MODEL_9e075b03905246719590c98c4e33b37a",
            "_model_module": "@jupyter-widgets/controls",
            "children": [
              "IPY_MODEL_25140343c8a5448a9739b4b9e0a4a9b4",
              "IPY_MODEL_1c5f8def99894d48bf4d427322ea9b64",
              "IPY_MODEL_e4e37c17439b4349b4ae19a7e4f58876"
            ]
          }
        },
        "9e075b03905246719590c98c4e33b37a": {
          "model_module": "@jupyter-widgets/base",
          "model_name": "LayoutModel",
          "model_module_version": "1.2.0",
          "state": {
            "_view_name": "LayoutView",
            "grid_template_rows": null,
            "right": null,
            "justify_content": null,
            "_view_module": "@jupyter-widgets/base",
            "overflow": null,
            "_model_module_version": "1.2.0",
            "_view_count": null,
            "flex_flow": null,
            "width": null,
            "min_width": null,
            "border": null,
            "align_items": null,
            "bottom": null,
            "_model_module": "@jupyter-widgets/base",
            "top": null,
            "grid_column": null,
            "overflow_y": null,
            "overflow_x": null,
            "grid_auto_flow": null,
            "grid_area": null,
            "grid_template_columns": null,
            "flex": null,
            "_model_name": "LayoutModel",
            "justify_items": null,
            "grid_row": null,
            "max_height": null,
            "align_content": null,
            "visibility": null,
            "align_self": null,
            "height": null,
            "min_height": null,
            "padding": null,
            "grid_auto_rows": null,
            "grid_gap": null,
            "max_width": null,
            "order": null,
            "_view_module_version": "1.2.0",
            "grid_template_areas": null,
            "object_position": null,
            "object_fit": null,
            "grid_auto_columns": null,
            "margin": null,
            "display": null,
            "left": null
          }
        },
        "25140343c8a5448a9739b4b9e0a4a9b4": {
          "model_module": "@jupyter-widgets/controls",
          "model_name": "HTMLModel",
          "model_module_version": "1.5.0",
          "state": {
            "_view_name": "HTMLView",
            "style": "IPY_MODEL_6660e30265644b9c86817d59696902d8",
            "_dom_classes": [],
            "description": "",
            "_model_name": "HTMLModel",
            "placeholder": "​",
            "_view_module": "@jupyter-widgets/controls",
            "_model_module_version": "1.5.0",
            "value": "  4%",
            "_view_count": null,
            "_view_module_version": "1.5.0",
            "description_tooltip": null,
            "_model_module": "@jupyter-widgets/controls",
            "layout": "IPY_MODEL_3eb7f8206e3146b4b080f36c7a6b286c"
          }
        },
        "1c5f8def99894d48bf4d427322ea9b64": {
          "model_module": "@jupyter-widgets/controls",
          "model_name": "FloatProgressModel",
          "model_module_version": "1.5.0",
          "state": {
            "_view_name": "ProgressView",
            "style": "IPY_MODEL_2506502bdd194fd09c996a800aa9e35f",
            "_dom_classes": [],
            "description": "",
            "_model_name": "FloatProgressModel",
            "bar_style": "",
            "max": 25,
            "_view_module": "@jupyter-widgets/controls",
            "_model_module_version": "1.5.0",
            "value": 1,
            "_view_count": null,
            "_view_module_version": "1.5.0",
            "orientation": "horizontal",
            "min": 0,
            "description_tooltip": null,
            "_model_module": "@jupyter-widgets/controls",
            "layout": "IPY_MODEL_d37e0b786fe6432284636cb98d502e12"
          }
        },
        "e4e37c17439b4349b4ae19a7e4f58876": {
          "model_module": "@jupyter-widgets/controls",
          "model_name": "HTMLModel",
          "model_module_version": "1.5.0",
          "state": {
            "_view_name": "HTMLView",
            "style": "IPY_MODEL_9e4c1d27a14c4007a252a92723592b1b",
            "_dom_classes": [],
            "description": "",
            "_model_name": "HTMLModel",
            "placeholder": "​",
            "_view_module": "@jupyter-widgets/controls",
            "_model_module_version": "1.5.0",
            "value": " 1/25 [01:06&lt;26:37, 66.58s/ba]",
            "_view_count": null,
            "_view_module_version": "1.5.0",
            "description_tooltip": null,
            "_model_module": "@jupyter-widgets/controls",
            "layout": "IPY_MODEL_f6ac1615b23f473ab792b4c0a25cee7e"
          }
        },
        "6660e30265644b9c86817d59696902d8": {
          "model_module": "@jupyter-widgets/controls",
          "model_name": "DescriptionStyleModel",
          "model_module_version": "1.5.0",
          "state": {
            "_view_name": "StyleView",
            "_model_name": "DescriptionStyleModel",
            "description_width": "",
            "_view_module": "@jupyter-widgets/base",
            "_model_module_version": "1.5.0",
            "_view_count": null,
            "_view_module_version": "1.2.0",
            "_model_module": "@jupyter-widgets/controls"
          }
        },
        "3eb7f8206e3146b4b080f36c7a6b286c": {
          "model_module": "@jupyter-widgets/base",
          "model_name": "LayoutModel",
          "model_module_version": "1.2.0",
          "state": {
            "_view_name": "LayoutView",
            "grid_template_rows": null,
            "right": null,
            "justify_content": null,
            "_view_module": "@jupyter-widgets/base",
            "overflow": null,
            "_model_module_version": "1.2.0",
            "_view_count": null,
            "flex_flow": null,
            "width": null,
            "min_width": null,
            "border": null,
            "align_items": null,
            "bottom": null,
            "_model_module": "@jupyter-widgets/base",
            "top": null,
            "grid_column": null,
            "overflow_y": null,
            "overflow_x": null,
            "grid_auto_flow": null,
            "grid_area": null,
            "grid_template_columns": null,
            "flex": null,
            "_model_name": "LayoutModel",
            "justify_items": null,
            "grid_row": null,
            "max_height": null,
            "align_content": null,
            "visibility": null,
            "align_self": null,
            "height": null,
            "min_height": null,
            "padding": null,
            "grid_auto_rows": null,
            "grid_gap": null,
            "max_width": null,
            "order": null,
            "_view_module_version": "1.2.0",
            "grid_template_areas": null,
            "object_position": null,
            "object_fit": null,
            "grid_auto_columns": null,
            "margin": null,
            "display": null,
            "left": null
          }
        },
        "2506502bdd194fd09c996a800aa9e35f": {
          "model_module": "@jupyter-widgets/controls",
          "model_name": "ProgressStyleModel",
          "model_module_version": "1.5.0",
          "state": {
            "_view_name": "StyleView",
            "_model_name": "ProgressStyleModel",
            "description_width": "",
            "_view_module": "@jupyter-widgets/base",
            "_model_module_version": "1.5.0",
            "_view_count": null,
            "_view_module_version": "1.2.0",
            "bar_color": null,
            "_model_module": "@jupyter-widgets/controls"
          }
        },
        "d37e0b786fe6432284636cb98d502e12": {
          "model_module": "@jupyter-widgets/base",
          "model_name": "LayoutModel",
          "model_module_version": "1.2.0",
          "state": {
            "_view_name": "LayoutView",
            "grid_template_rows": null,
            "right": null,
            "justify_content": null,
            "_view_module": "@jupyter-widgets/base",
            "overflow": null,
            "_model_module_version": "1.2.0",
            "_view_count": null,
            "flex_flow": null,
            "width": null,
            "min_width": null,
            "border": null,
            "align_items": null,
            "bottom": null,
            "_model_module": "@jupyter-widgets/base",
            "top": null,
            "grid_column": null,
            "overflow_y": null,
            "overflow_x": null,
            "grid_auto_flow": null,
            "grid_area": null,
            "grid_template_columns": null,
            "flex": null,
            "_model_name": "LayoutModel",
            "justify_items": null,
            "grid_row": null,
            "max_height": null,
            "align_content": null,
            "visibility": null,
            "align_self": null,
            "height": null,
            "min_height": null,
            "padding": null,
            "grid_auto_rows": null,
            "grid_gap": null,
            "max_width": null,
            "order": null,
            "_view_module_version": "1.2.0",
            "grid_template_areas": null,
            "object_position": null,
            "object_fit": null,
            "grid_auto_columns": null,
            "margin": null,
            "display": null,
            "left": null
          }
        },
        "9e4c1d27a14c4007a252a92723592b1b": {
          "model_module": "@jupyter-widgets/controls",
          "model_name": "DescriptionStyleModel",
          "model_module_version": "1.5.0",
          "state": {
            "_view_name": "StyleView",
            "_model_name": "DescriptionStyleModel",
            "description_width": "",
            "_view_module": "@jupyter-widgets/base",
            "_model_module_version": "1.5.0",
            "_view_count": null,
            "_view_module_version": "1.2.0",
            "_model_module": "@jupyter-widgets/controls"
          }
        },
        "f6ac1615b23f473ab792b4c0a25cee7e": {
          "model_module": "@jupyter-widgets/base",
          "model_name": "LayoutModel",
          "model_module_version": "1.2.0",
          "state": {
            "_view_name": "LayoutView",
            "grid_template_rows": null,
            "right": null,
            "justify_content": null,
            "_view_module": "@jupyter-widgets/base",
            "overflow": null,
            "_model_module_version": "1.2.0",
            "_view_count": null,
            "flex_flow": null,
            "width": null,
            "min_width": null,
            "border": null,
            "align_items": null,
            "bottom": null,
            "_model_module": "@jupyter-widgets/base",
            "top": null,
            "grid_column": null,
            "overflow_y": null,
            "overflow_x": null,
            "grid_auto_flow": null,
            "grid_area": null,
            "grid_template_columns": null,
            "flex": null,
            "_model_name": "LayoutModel",
            "justify_items": null,
            "grid_row": null,
            "max_height": null,
            "align_content": null,
            "visibility": null,
            "align_self": null,
            "height": null,
            "min_height": null,
            "padding": null,
            "grid_auto_rows": null,
            "grid_gap": null,
            "max_width": null,
            "order": null,
            "_view_module_version": "1.2.0",
            "grid_template_areas": null,
            "object_position": null,
            "object_fit": null,
            "grid_auto_columns": null,
            "margin": null,
            "display": null,
            "left": null
          }
        }
      }
    }
  },
  "cells": [
    {
      "cell_type": "markdown",
      "metadata": {
        "id": "view-in-github",
        "colab_type": "text"
      },
      "source": [
        "<a href=\"https://colab.research.google.com/github/liadmagen/NLP-Course/blob/master/exercises_notebooks/10_LM_Transformers_full.ipynb\" target=\"_parent\"><img src=\"https://colab.research.google.com/assets/colab-badge.svg\" alt=\"Open In Colab\"/></a>"
      ]
    },
    {
      "cell_type": "markdown",
      "metadata": {
        "id": "fmf5HUOpkHUy"
      },
      "source": [
        "# Transformers using HuggingFace\n",
        "\n",
        "Transformers is a Machine Learning architecture that uses self-attention mechanism to improve the classification.\n",
        "\n",
        "## Setup"
      ]
    },
    {
      "cell_type": "code",
      "metadata": {
        "id": "vJWxG5LKiR5r"
      },
      "source": [
        "%%capture\n",
        "!pip install transformers\n",
        "!pip install datasets"
      ],
      "execution_count": 43,
      "outputs": []
    },
    {
      "cell_type": "code",
      "metadata": {
        "id": "GP3cOU7mCKcG"
      },
      "source": [
        "from pprint import pprint"
      ],
      "execution_count": 28,
      "outputs": []
    },
    {
      "cell_type": "markdown",
      "metadata": {
        "id": "mFuUYuBikRFZ"
      },
      "source": [
        "# BERT\n",
        "\n",
        "## Introduction\n",
        "BERT was first released in 2019, and made a revolution in the NLP world.\n",
        "It was shortly after several similar models such as ELMo and UlmFit demonstrated that using contextual word-embedding significantly improve the model accuracy.\n",
        "\n",
        "Contextual word-embedding are vectors that are changed according to the usage of the word in the sentence. Unlike the previous embedding techniques - Word2Vec, GloVe, FastText, etc, ELMo, UlmFit and BERT change the word-embedding of the same word, according to its usage.\n",
        "\n",
        "So for example, the word `play` would have different vectors in these sentences:\n",
        "* I *play* tennis on Thursday\n",
        "* I saw that *play* already\n",
        "\n",
        "BERT uses Transformers to create a matrix of relations between the words in the sentence. It is memory expensive, and therefore **cannot take more than two sentences at once**, and up to 512 tokens in total.\n",
        "\n",
        "### Dive Deeper\n",
        "\n",
        "To learn more about BERT, HuggingFace had released a great introduction: [BERT 101 🤗 State Of The Art NLP Model Explained](https://huggingface.co/blog/bert-101). In this tutorial, they explain what is BERT, how is it used, it's impact on both the language model and NLP, as well as the environment.\n",
        "\n",
        "Also recommended to go over their notebooks: [A Visual Notebook to Using BERT for the First Time](https://colab.research.google.com/github/jalammar/jalammar.github.io/blob/master/notebooks/bert/A_Visual_Notebook_to_Using_BERT_for_the_First_Time.ipynb)\n",
        "\n",
        "### BERT Family \n",
        "\n",
        "However, since then, many new and more efficient models were released:\n",
        "- [BigBird](https://huggingface.co/blog/big-bird#bigbird-block-sparse-attention), [Longformer](https://huggingface.co/allenai/longformer-base-4096), [Reformer](https://huggingface.co/google/reformer-crime-and-punishment) and many others, can handle classification of long documents.\n",
        "- [RoBERTa](https://huggingface.co/roberta-base) and [Electra](https://huggingface.co/google/electra-small-discriminator) are memory and GPU efficient, and can train faster\n",
        "- Models such as [LayoutLM](https://huggingface.co/microsoft/layoutlmv2-base-uncased) can handle a combination of both text and image, and are useful in classification of visually rich documents such as invoices, IDs and Forms.\n",
        "\n",
        "\n",
        "Before diving into BERT's family, let's start with the original BERT structure."
      ]
    },
    {
      "cell_type": "markdown",
      "source": [
        "#### SideNote: Language Models\n",
        "[Lilian Weng](https://www.linkedin.com/in/lilianweng/) is a leading NLP researcher and her [BLOG](https://lilianweng.github.io/lil-log/) is a great source to stay up to date with the field.\n",
        "\n",
        "Specificaly, she wrote a very extensive post about language models, such as [BERT, T5, Electra, etc., and the differences between them. Worth reading!](https://lilianweng.github.io/lil-log/2019/01/31/generalized-language-models.html#supervised-fine-tuning)"
      ],
      "metadata": {
        "id": "wJ2oefoz8iBH"
      }
    },
    {
      "cell_type": "markdown",
      "metadata": {
        "id": "nRUE9UzqRHN2"
      },
      "source": [
        "## Full Model Example"
      ]
    },
    {
      "cell_type": "code",
      "metadata": {
        "id": "Z2ALKyYrgM3A"
      },
      "source": [
        "import torch\n",
        "import pandas as pd\n",
        "\n",
        "from transformers import BertTokenizer, BertModel, BertForMaskedLM\n"
      ],
      "execution_count": 25,
      "outputs": []
    },
    {
      "cell_type": "code",
      "metadata": {
        "id": "BKi_O3smh_Ob"
      },
      "source": [
        "import logging\n",
        "logging.basicConfig(level=logging.INFO)"
      ],
      "execution_count": 26,
      "outputs": []
    },
    {
      "cell_type": "markdown",
      "source": [
        "Remind yourself of the discussion about BERT in the class. BERT has several predefined tokens. Specifically, '[CLS]' begins a sequence, and '[SEP]' separates between sentences.\n",
        "\n",
        "The token '[MASK]' is used to teach the model to predict the missing words during training. \n",
        "\n",
        "BERT needs three (3) sequences as an input:\n",
        "1. The sentence words - tokenized and converted to a list of IDs\n",
        "2. Segment IDS - 0s and 1s indicating which words belong to which sentence, and\n",
        "3. A position encoding vector\n",
        "\n",
        "![Input-representation-of-BERT-model.png](data:image/png;base64,iVBORw0KGgoAAAANSUhEUgAAA1IAAAFOCAMAAAC7c9z8AAAABGdBTUEAALGPC/xhBQAAAAFzUkdCAK7OHOkAAAMAUExURf////Lx8QAAAPTNzfXNzf39/fTLy/Pz8//zzbfXqbXXp7XVp/7yzP/xzbfXp/X19f/Y1//30f3wyufo6JKSkv7//7XYqv//30pKSr3eryQiIk5USt7d3/v8/FpZWWpoa2lqaTRALgkHCPjS0/z8+WVdW/PmxO/v70JCQ8Djsc3NzQ4NDr+hoHyXcn91Yv/+11FFRfLKyh4eGwYBBLjaqrLTpZWTk3N1dLm5uRQUFLWvk/f4+MPmtNW1td7h3/38/ZiYmfrSzrKys//70p2dnDAvL/LLzqCgof/2z0Y+OYSDhf7U02VkZdvc3DU1L/Lz9XJwbrzcqtjX2Ds8PnBwcP/k3/z61v7/7Iafe////evr7CcpJCEfIcG/v6aNi//c2q2sr83tvvzz0DIqJFFNTCQmLXh5d/r///fQz8jJzCMMC/PHvksrHdm9vb/gs5q2jv/+3AcKJtHS1PLT1lxdXAkcP9rWuuzm33dnZ6GajSs6SL2+vePj41ZXWhIbKN/j5nJgV8fHx7Owp1NXUfD+/39DIsi7mxw8ZE03Jm5ubVZVUTMUDf/6xfr28dDRz6ioqPTVoLHD1KR2Vm19ZvHjvfvvyqhzPvHDk/Pv72VFLUYaDnqRcsDirrOinsqGXFRlTouMeNTKsa64r7nitcPCyKPFnrWqkE1bZZ3X8PfNzWRcU6mNW4qLipx/e969l3CPqY56eHVxXFJLO9v1/OzYu3Sno9Curp1bL0qDu/zlp8+mm0BKRu2uiNLaqLDMopuReurkxvP08a66u+r1+2l5jj1OZ5vC3ihObbTh8SIpQtapdf/yvY1eN6GfiEtng8fe8AAADIixy397e5KTms+ZX3tePGQwFte9fQ4pY2WBqfP09ZCajMLbnUhrmmdXPkhrbjBikE1/k2iYxKbauMvu+4h1Vs+cd83c2P/TwZylutnK1G+Xjv3iyPT84MvLzIKfv4yhqIt5P4S95ilMgrfAhbm5t3KHaI29prSQd3h3ZrGkcf/9+6SrcrnVpf/x2/Px9XiscT4AACAASURBVHgB7L0HYFRV9j/+iA4iBAllKJEghCDRsKbRIiVASEIKWSGQOEmoIQQDrARC2YAsKEhJhICUDSKIIBgIvZcVFghdBKSIS5cisAiKChrX7+9z7n115s1k3gQW9//PnWTmlXvKPfeee+459973BOGPlMxmp7nRy+o8tCCYbBDYXHDAi1Vei0WwuuIAVkBei+a+SXPmxIm2oBazYQSgYc2wISRmQc2CNSonSqAlbxyBTYmNo9BwSfjUKNTF02R0cGIyuQLlAOEjuGU2t4qc0sKZ1K0wSbCRqkloXMM58BZTemsESLwT8W7O0G7Rov9QaKS6vBaL86y36NaulbryoN1CSycJM/a69e+qLbvZbO5gBAFh6d9Zi4O4GO9c6VtMidYK32Qu184g/W6F5dRKaRI69zeCYcpP1hVgMlepYQSDpqjd+k+zkobJ3PmEQXQ6TUrdRJ7QMdqWb4BzKS7SrG3V0AmT0DHeOeh+UQEvW/fKqNZ+TkLHTWlsBY3Tn3yjnILvFxDXQdMgTELXqVHOUWa5+sX1f8ak7k9MwjQUyFiK619Oo9cowJhGcU7h6BcQ1UEtfIBOd1LuEn6gGA8wKZnNz/R3jjZH0C+qn1WvYjEJvY1gkBiR8L2QpNZwdK9f949zqjZlRP3iGiVpJCoV7on+egmda48b3MaZNHhNXA/BS2MpBC+hR9wa58DbtAmY4qVVSZOp1YlRzkEP/jCuUKMUghBq7uzrJOtt2ozyVVs5k/mZ2IBNzlFmohncM66duuwmISnLEAJgscYhmExe/aOaOMlFz9eqKAph9hK+i3JScox/9rXmBGyr2NqAoXlUTydpM+hNAVnPKBwATajwsnEeZG5QoTXUZspssrSLN8QQJLqpUW80wT9WMglVsqIGe7QfMAB/9O/gL+apRvF10aylWkFJ0M3GjwtsXwCwEuAHtC/w2DR1vEYAqKDm4W08ChzQFPkBdMzK1A6qRm0G8Nf1ogY2JNol/BF0YFSWl0nqowEbnboppkBV5IZSAeQDhlY6a++x0rOlQt4MZYjb5AEEWuINBwyw8wcBxXisTB6takXmUKFj8odUfDsw8vX2Awo8Apf3hpkSZW8SqtfuF4gCgLycy9EB8hV4DF7+neAlepRewujklTExVABQ1/zLJ9IBZaDqS41Wey7oVTgPlE3EwY+svm3uA92AggKPlb5tURFigoqPTl3jgaYkorLFKV/hB4SkV89R5bQtUsL3xH5NZp8WaNTlnUmBgTERUbUxoldUCo5Uv6jAmMCnnYEvH9h9Zf9WihAFNKkOKT2dI14+sGGvV5LHwzJJVQAL1y11sEegU6TLB/ZqEwBfgAOj+joGfdjLSVBGIGJAr1HJGPyL5NEXeDbp5RxpOVdgQ49RaYoDAS46eK70KCgfIedwcBDYq2fyEqlDMgnP1Isf6GzZZaweK+PbijIwCUNTR3kMcIo0g48oH+HxYUo7uf2iHqvUQ2dsRIgyI+ygwGNNodJJeQnTwkd5FAQ+pc3k+CywYcN+9dFTSo3iiemRQhjGtkZqEycbdfnygR6Do2Jp+CEWwWyuUj/Oaak+FdhwoK9KiKjc8eFrYgqcrJTAhjHj4pXRPLgoTN3kEegkNPRZHjkBtEPySo/ygfg4nVB7y8lGM+HBkfbtaVCjIiC/hjHL+30N8hyJ8AaKP8BJHgILYkbFicU3mVv1D28T43TZxUIGNgyMqteYFcEsjPFdXtDQSdocPrA8rGwHqVcxm3z6k/ydFqBNxkCMWnpI6DDc8Z06YIBNphIuBHo0Sa2h9jGVtv1kjsBLy7iVMQUi30+Vd/xBC4xpElcDnYKoUmiacU1ipFI7BqbeJ6Jhz/Cf5I7JJLStvTxQ7ChLAn7q6fKBMYMDshCi4MQRX/Bd2TACvZozH2rOA5dj7A5g9CNdfUcNGMBAyzsHDu5BPmoKLzr1RGvKPx1BwE7BE4uUAmM2LUejFDVqTL+paOURTuFg9PtR8VlIKDL1w5hA0KfkTPlF8g03xUWTO8tcSeikMfjAAQNG+Y7hSgA+eseJIwznGFDnYnQDn4oZVRvoSBpgaErUYDCkzlXSMbAEPuWxEk2KS/TJKJGWKuJt8aMieF/Fhc7Kav8r8OmYleEtpRKYhXKvrWzIFJJK70QaEDguXgokIwI+JUqsVmeAn8LIY1N4NK9RisYXgnUnaEpZAiH8HtQiEX6uFzAQoETVGcocQyB6xIDvWNmhzo2aGO2gOaVePfvzEA0K0EIqvsSig19AQx/jokOh1LDucWsKuHV3mn/KiOrrmTodRUCYFoOTCCPFZ4RiBk/tCA6YDjSOHRVDVsVpDlSl48rCOik2t4Ei1QinzhksOZ8IC7rkUXKT0rbuJ3FmFhpPJU9IKkRJvQKEFzjAY1w4hh/MxzUJS5ajm5XAUUBHH8qG3AH94E9SaTFwS9vGxpysUhyB8nswkr16BlGLEATEb+s22sS9oZIhWQ6M3BrFkT6bhP6pbbhCOElZpF++15oTpNFm4ZmpjWKeRsGdJM3yscYHWxnAbCUK8HKU6M45g4WkB2fcMxJhQoSElg+A3AkOyRlwlpGqL2ZN8hvwyMbUW+mhOMDOYCBK5cv3atKIjxzhBzaKMGTm1EQ4MjgSTTwLMeyARpFXyRlS53N8zLDQaLZf0pNQHz2aoUJ0ODwhydqK5XT4A39oGMVSqaMyI+LTU2qaVPiSEnLAG4s7IdA6BpMw2vND6igplQzLMgU+3X3NVDZdiUrIGuW0D8hoQJ+fCoilMHDneh960KiJqDpFmcM/BeYbYfCPT2EqDVKMJU4JUYZwhD0tUKnClb2cd+YYdEGvlclDBR/ziShxaGGAf5E8PMJ+1c1CB4QmxC7BiAgCBzQcVYM8abM56bWe3SUMxgSB3FxVcNDrwxRIwyxU8R3VncyugeqQiAb2GhzVTa95P4lrZiFrXHfFx3XcJYhSCISbX5uHjeCjB4m9PS9eSQgoV6DHmn5eVCleQrvUXk+xdsnkWBIwMsHMe2x6jQ0cLYIpfiVVqVQ9zoCjOcMV8DKPXhkoBgWIcsmQPAd4f+rpcc3BuEl4oZEx2oSBkSI7HdcROCxwx5qIMUdnOGCtLTBmQEoHBAq7rWHkZaxOIygfGNirSdw0QfhpJWgznjhfzmFA3piejWiUgIBho02SF+0MsDYPEWVpQEMMRL0Qjg8QhxzO1wfHCCxoUr6hT0J/dGiahRdGcZUi9pxMgR496/HAF7r7ZK5SculKxvFUzJp6kkpF9YoQAZylDndiDSNuFrx80UuKEYaSybIcxHpbNOfRPYkuL7OzlBmCpweMInUwC90gN3bFwBenBGUOiGQqJbQz4o4R9FPlB0TQ3JxwYk0vqSd0mn+OgBwyX6hUj5UeEcS7gZpjTQQijKURClTqBe4HO80AkZMSJ0ueUMOo6WZSqXpi8NAoOuR/uv3KqeJ0r5kNn3Sa+n/rElcp62JKxdX/xQRPz3rMUECsdT1JpWQp6EOor8L/jFn5lo9opeK6E226L9WtOq/ecWBMmxOMOFQqng08JAx6ubXXkNOj51SolHl0z/LkCCE5T5kVckD7UVhCAe6niCqlpeD4jFOLGBAYxVTKYmnOrZRjKOkug0bILZyrlKtWCl16k4CXBUsPKCWTgCgGiYyjX8oaEdMzlhxpqNS4NqW3UoEDhkUxK1W9HutfjNQHZxU8IeiHgQ8lUnb6t5csLLJi7+6juG4W6qNpRBBXrHHhoOREKiVbKaZSHJy1uZLBy3useat0VkpSKaNWioaNPafWhUqMbl4eYUpeZmfZRsmeKq+yUupxkxOlZuCUj1kpCw38hL8atVIAHpZKAz+yUhGEjZhyMvHWyqzUy4IwWrRSohScwkEYbKyUgZajIsLVQWuluI47XR4RG/I/3XBlPzbwMxf/fcwERzoFdXOkcY9Ap7hKydUildPxL6JuspXiAz9ZCo4B6S6ShzLwi1P1tSXDUg61lfIVfSmuHCXDE+2eU5kvBSvFa4RxVDIoz1G+POZlSmOlqP1CpZiVEixCc65SzpEHv9QCB8gDP3bBAP9iNcNK0cBvNPlScnKaBaZSJjS9R26llpfeSlnMxddf+ML+0M9ifm/X3xCdepzJLMSqBjCygB0flN5K1WtFfQXCE675Uo/ASvWMcMVKoT9U+1IRvItwLC3VXd7zkJUifwwiYCrFr6qy2Tlk+RQrJbtyzsIzZpFZ9KW4lZJUyQ5Nq8tEiqwUNUmoVCzzpQiF8SQRVvtSj8BKJR7J/BRL1iwmrEaAhOkAvwI2AQnYCRQqzBp33FxMVx5bknwpUShSOR3/2vpSkkQdw/G7j9BKkS/FOFfTRQXb+4BNXStlL7/t9fI2vpQdYrqXuTWVfClmpVgrsqWjdwXcw0oVYOAHZ5AGfuwClZ9y6xLUoqE8SNyXElz1pUilTGiQj9hKWZLqMcfSSH3y4qFIEaIvZQlN3Jy5L53G1KRGFvwTpzRjQ/oFnufmHMfy+ceZpIGfWC0k8ZKTxkrxiJ9cuJKh0ayV8ISLVopstxTxi+ANxRnCaJEsWMkifqW2UuTMsAbgDGmWh+eWIn4oAfOlnMXB8rGBH/OlZCtliDyQkJWCL8UjfpLSOYeEWFBZqfqP1EotRxCddxPOMSPlAlPkS6WTnoQyK/VMq+KkutXTLZYqXj4j/7YHyxJ8/myyWHz+vsdyJgMqRXr22JLZQkF0sfvieiUJ2f5vhNqXEsMTvHz2YZQ75Z+OUcITal+K9bPlsZKPHSgA2qOSfCnUOXjRwkhnuKGK+Eks28mui0PflyJMEg3+y3Arl8RTnku2UqEY+Mm2RoJ72gqTBgn5Uk+JET+ClIAgNaZwaFyMlHRHAaYjuorEfSmTni/FgBkqLaR0xsF1rJR9pnmoX0Kg/DJSxI1OxE8uF8+OXAqc7RFuk5Ui22Mxw0p9+l7Pe2/nJ2ffnWD+cPrD1LS9V02WvML1gvDva3c35Afvv/p4zdSTsVJr6vmQndH3paRAliRzq1+al+qstlIkY3V6eoDUrNRX2TGzUhSecDXi96h9KZ2IH3UI+onrg23ED7kDAyMCyz8Nu4sDnGoFImOjy/hnvpSZIn6qBcdyJhGFcq4+IgwqK+WML/WUneqQVOPR+lLMSiWeGhsVnuo3/AfLytTw8KDM8+vTD9X+QjDPnXfpH/PcvvoU47/HmKyslCI+Ln76VicuB3XEj89LSXkkOTn6Lf8U5qWkILqVlSpfvuGqJkuwEtM+ArWVIl8qgtFW8ktNQrmiHCErD6KzeSnONCuikoUfsaZnfZHO7fhSsBJPM0V+WrIWHLn4Ld3FKZDIAz+yUmw1l0QJGjtw2y3eI0jXlF8GLUb84EvxwQXdJqjeEQWwB+3bfDiY15kCphyxUpFO0LyUri8FEu3bNOnBNlgocMoRlcdpX4rxi+rQHzUQKkqKlZrKpnrF+kChJIlK8uD5xW9+k7UTXJF8KQz8YKXunHI7OmPRkWNbimfi4N15w38QTm7/QhCgUutXeJ/dA6fqMSatlaJpF8yAYq+kiv2nB+Da0wPQBUpJ40vxgR+XupShhF8E0e1F/CJiFgTcbegI3sZKSWLlQBHtt51Y0l5sPNZ4jPhSEbxpWqNQRfzUvtSAhjENUfUFDRvSD0kQ+00hTSQ6xWWgIyEhyUF024gfCjduCZs+1aEuAivzUoSMEhbiHil6I6bJlxEx1yffHYYrOtDiVdwhK2XXlwoEintAYR+Dykrx1RNisYgTTaIVABHtV6252VBzWToRm4zKSomrszjpp9s3pFXu+GlIdo4kOWAANVBqjkyiuMqy4kvrSyVOHP6pOX1uxv30mcM/FRJPBp+1HIq/CpXKubQe4QnE/R5n0lqpgoFtNg32+HZbz5a92pcfODgCpX/KY+DDdoHtB25qE0FtBYVACdS+lLggie6xJA1c2C8Vmf7VA2pYCv15KcoX0X5BxuphWOAvoSGcOI7AD68DtZWynZcqH9h+5vCbfD0rbaSSoMT6s+dLIR9PItmIb2fGLtHuDBQx6M1LBUZ8e315v2VLYtpve2VUYcthBQOb9ETqHUG/Hw6L+XZmwNS9t9qLElGsFM1LaXwpWIBtATN4RuInQtPD4wL6BB7xY1O9UuECY+aenjQjZlzRLY8FGWeHybIToQkTaEt1QVYK81IWrS/F8yBjDEMRQaQ4IKtxHEq/spUyq1ZPMOxo+Ni3T1BITzXEdnfsAj+ZeZaiDlywxINVkqyUJWkqW+PH2YxoOPdaQL/VDWO2rRy1puOthlyiHQfHbINEb8W0f5jf77VbrIIYSsmX4lYqMX/SVUv6hpz9E67tX++Vnpdzf/2heNFKnfmvRvzQ282dODxyVX44XLpbMQvWDCtAE78+KDx82bAFOZOWyHs47FopFA/RBXQk9DugADoo2mftcEilUlYRv6cHoFFcAV0yl0yFgQJH4iHVBrNSNBqWIn5SVfOqimj/sNsSqNTTBTICpQ6ZleK+lNW8FNgFEQzQKDMW0n07ceyMhuxYYYThUVkpGnSyCoVKbR6798vBHtvyAwImH1w9bEd+eEBA/NlhOwbFB8TvvfXt9ZWTvyKmeFJZKWtfKtBjR8AMNEteXiqDCEM/nBZN9VpF/KjeJr0R8/DLYdCH1cNgHRkYrwFWFRwPIcA/WalpWl8KNwCDojKVWo3NyjQ2IaKiREQ+CIPKSln7UgNWNbm1iToySHDgtsHbesQEFuwYdbMA50+J+HjDkNGhRnTX+EU03DGvKLo3xixRAVGpy95YFYBnQUUVzfh25qDaUUW9PbatzE97Q5Qo6FlZqfz96y1CHlRq5tH1xaZv5+2HSklWChG/x+pKYY+FKuIX2HBHzqRNp9Kie07MXN19cyw61oZzTx/suTJ+9aaJw2+ytXysAauslNaXYga6YOBgtNCBgwMHoKis00KPRdVDsFQpKpXS+FIAGFywIGV1QxobDRY3FxbgqD3b5MjB1VZK9qVEzIS8ICICs7hEP0JFVCJtL+LXvvzgwQOoZyU+BxRARw7O8Gj/dPkCKkdDuihi0J2Xivh2TtEXHg0Hzly2qcnDC3vH7Jh39MOePTsMo9+ZUDGPyjPR5JmlABqNL6XE7YgAWaklMZAfDbMHQJC8DJw6YwK+VJq0bFZiKtADKjUjBgX3WJADG//UABp9Ps3qAaauoABl442YBERWytaXQk1BBhFPB3IUkP/gpyAMaAKBFLDhLINmKkWN0mZeCqv/Fuwd3HMwdb0oyMwmozBcgKGNYI9nEcvyFFUMHx0TYuSUI37K6glyjnZMvtK91478ot7bmlzrt29HwF5ItOetb4+81XPl5KI3PLqfjKdOioSGZG2l7q9PF2blTJpw7eiEYvO3pyddPdNAslJB/815KchhR86VgeGre3nMPX2/+5xR8Hg9Tubc7f7tuKPdF6TcZGMUJgWolLzGTzMv9dTA6+0GPxwFb2bbtVH9ew8buDJyGDaSDnzYc1gEQfKEeSlbXwq3CgauHFV4JOfKsPID2qwcdaL3LTzmZMCqlY0Ke/bsMSBCBGZWSh3x40IV72Lgt61wcMOCgQ9HAQEfq0q3qAWiiwXr2ogfMQh2X/tw2MCHkbcKnvq2ySbY5oMtekb3aMjwREbwHSiESGWlZF8KVmpO9oyChnPzIxtGxGxqMmxH/FmPgoIIj0Phd3sNzL8/DBpKKhXBOVFZKTE8wa/jGy2xXwew/uUtFAQyGBXdMoI3ZNzk+qBnpYYxK9UkEioFK9U+8OGXoggiIyKeGrhtzahRNQY35ESARPSl1Ksn4PKsbAkZNI+AWhCKbWvGYQgbgfJ/SF3UjuiWDJ5YUFkp7bwUxHBk7+A1g9HSMeC7Pq7n1BmwUqtWdoBNGYwh8YmWDakprBl3omfPNsMYO8SNykrxFsaINNwx+eywXtcP3mwIJprc2lbU0qN8wwii0CtmwcG7Hu0XMJUiLMgvr/FjEb/3YKWKLRty7odeO7rex5xHVsoXKrWDfCmal3qcrpTGSkWQlbp7fRn6u5jrhTFzRt2CSh3KOF+317Yvey04SFaK+EcJVFaqs3peCn7yxPDYyXEpex9OPjh5bNEbAwcVDS2IaD930H4a+BIslV+1uUNlpQILBs7JCY9KHbsaGjEnNc4zG35t+4FHUuPiwjPJY+bE1VZK9qVEzMgSEQNfymPgzNS0+Jz75L/wW3IG63kp8FMertCgFN+corroSW61f3rgqehvT2WkpHkO/9JjZmp4VEr2TUadVZ6NLwUCqOk5k94oiFl1+mb3GKhSrx2DVneP8SiI2RG+2iNm86RbDb+dCSvCBn5gRLZS0ho/hcXAmFX5y6PiIYNh7QfOzImLSymiWIsodvqBlVLNS7HSoY9mVuraffhSsFIeO6KK3mg/cE5KeCo4L9iRnxI/aOxND44G39yX0qzxgyKl9cuPQ/6GDMW3m4PiB2UefSNm4MSiW+3RIwy/y2qfcMi+lHYlOoK1vQaOuzdw5TAUNMKj+4JRPV+oGwPVGnu2+0zPrKi41LFHb7UvD0nHw7G41xCYSPaylaLVE0SDXWRW6uywmIcHj3ePwYNRPLYVzYBEY2IGbt47rCHE2ktUKRIdkjbil5h/f73FsjVnUvrMSRjvrcq4lH6oAQ52ZFxa/9/2pchKPdw7rCCifMEwUqkYGqUfWwYvwYOsVARxj6TxpRQrhRtQqZDsvU2upaS91bEJRo8xE1EX5dHxncezpDgwvlUDP8WXYpGJog8f5qM5fTszY1mTmeS+fTszp1uTh/mZd/nzLYi4/Xkpki5Tqe475mV/2WRNkeK/cNrMSsGXCqX9Uhhbsep4KjBmx6CD0U1WNrq14/T+Wxj0oSd8OCjthTUnlqwaNKkdGNkvDds1VkrtS0GlYgoGTnyh5eAIj4KGOwbd77lyzc1hO9Ludo+ZyK0UhMmZQCMSl82KqyfEy/QDlRp0cG+TmamTlvTaNrnowyZHMs/DN+KJcYtxkrwSXWx+TOxQ2Wv3I3ohttB94JHsGTHtZ2YURfYcNGkovEKMmca1G8aLCySKLxVB1whtRPuTGcOXRTaZfJQiHKtHDpx5ogmN/od9Oye+ZcwARD+UUZbKSql9qYiCbStnRsXOnBq9BKPllStPFTXyjZ4OxJlQqZyDsZFUi712zDsY/WHPiSn3YsSIk0MrhfZ4tEmbwQ1jYnYUvbBy5ZrCJd8eOdGLde8xC+J4aJQVy9aXYlZqwsxjd/e8ODHzB8vc1H2hG065kZW6KzzmNX7WvtSVhyfqYrwVEQOVQmViTDsxI7hoiYc9K6XxpRAZnHjwZq9e21KP1o2B+C4NO5mBJvHtxLR9fGMNq0DaL2U9L4WKxmjz4Ixe6CSvdEcVvtG9/QLEiuae/uoWrmWuFjtZKIXVfik0C94wWIvDeOna8BkxC8ZeQe+2KZCpjWIEkNNqXopaGGwMXMeYmMHDmJUqgJXqTr5Ur5iYh5OWdPfwmJmJfoGT0Z2XYlZqRgF65NSDtbv1vgUrlRYVFb532I7wvYMfZiNg0F7XSomrJxT+sA9/W/zNXh7tN4+92X3msr/16jVwItSD9d2seMxKiWv8+IIkJtGYHRSegJXqBSvlMSfzy14FEGHd7t1nZt6cO6+oeq+YgbfYIJgh0fGlYKdRUSjpwd3dCcXAwF69uqNjgMWbHAmLkHFeebyarpUiKS6IQvFTw4t2N2y441RUWnx4dgCiXEylEIeM6Q51j5mTiU6m147UL0mgnBuVL8UdS5I0+VJnETqdmZOWjS4d/ctB36i4opsxR15ouS2/CH3tgnjq51jxuZViwzm2xi8RA790DPwmTVjpfXDvheD7V30Oz8uOvpATfGn91pz/5uoJtGoM/B62gAsDz5YN/HAQGLhtZgp8qUw7VkqZl0LrRKTs4Az0KakI5SJmc6nujkFwJXcMmgScSoKVsvWlIgB1dBjzBrpfn3e0bvkYdFF1r887Pyyi/cyUeyw2QihsrBSvGbpFVcQHfgtCjg4OhBMgGQa6i8SsFHwpjZUiS/wVBrsYuew4fR/jVFip7lSOhhEeM48uGdxmIIWVYWRZC9DzpTBynJP9Rgz5ggEBcQdhnaL2Dt60aTDCE9njAo6S4cPoj3wpsRHZt1IeqxDxC2y/Oe2ux7VuEW0GD9zMwkIi9/jRtVLkS83wuFYElUpZfX1eEfr1k/PODx4ciNOBgyZ1GMzmgZmAwIHoSylr/EhqC8ae9cB4/+AVGDr0AQVttsFW3h+GYcdZ6l/uUpfI26/KSmnnpQLLz3zh1uZ2wyIiEDLfduHLlTdRAzEnU8hK3fWI8EBdPgWxto+IOTQIXSQETvLQ+lJUYSQk+CCTz/aKgE88DhG/o7e2vXWzzSZM5Hx75GCjyb43h4FhWClIlOeXrZTw3sy0TxPHXYIvNWvQpfSZDXxDgibtS08vvobfE5Mvr/99IiZ+2eL0x+VQ2UT8rlxHE4CPHx3BfKlvm3w5rHzgka/qLsicoe9LKfNSEAXGPuSn7whnKjXo/i2qDXSdaJJi6UleqoEf86VYVWFCJOX8sPIFCKJTf+ZBwcZJdRko7JW+lbL1pTB8hC/V69CgtGXRHSKo2gi59CHayq5enFH1wROh8R4cgF5QqVvtyUr1Yl1DoMeR+FGjxo0KyLjM+Uduu74UKWXBwIGbHg66j47kLJpMRMy2eUWjTgxGDJJ8Kfh1jKDiS9ms8cNzHRDxa18+Zk7a3W+PZI+KHTduMvdimIiIXWVeSmWlyJdiVgo2/oWAtNXU4nKKRo17Id/v7MDNKdknIgfzYDhxIPpSmnkptPxMiDzmetpZslLDYlaNi4ufnHIfI4xrR2G8J73RnoFycHGNn2ZeqvxTT2GUfvbbcR16QeoNPXY06tBzBoTArVTK3YaBUKnLgXCqYc0P6VgpPV8KYY6Bg9tsO3Xw7g4YqAgIsmBzwKg1N1GxMVJ4ghoU86WYlTIX0UhIywAAIABJREFUj7y1xzLyb+lmIfFWXeHa0a5/jURgwmQe+dcvv/h71y9gvNp98XjnetWrJ5iVurJj0oxeDaEJbywYNcyjYQwNgLrPHP4FfCn2SCEmVHXET2ulMPAjKwWVgmJRA8Xo7d9HxJ6WlR4IVCql+FIQkif6JfhdV9hAD37Z6eyuGAYOK//vmZn3PCKo+SPZWCmxteEWZeAqNXDmvLGe8eSSSzQJlFokVEq9xg8X0SHOKxqKQQQp8X5YqTxupXY3DIy5lpHm6ZmWGrS3LrmChEtlpWRfSrRSiBYjfTvn4AxE/NDDkt09G4Gr5SP+bcdK6UT8yErFzMmBSoWkpXqm5nADwbknbuWInzxKeiqQW6lxRcPQe6VloAYigCEtzTPNM+XysOv5mWmey+SZZiZB7bwUSY2r1DaYFFipXtBD36xxnlCpXg+L3kCIijl0XNIqK6X2pZ4OjFg17uzcgA4NI0AicMXRJitvwUq1l6wUhkDzzm9AL4viHZoHq4dsJFHFStFKdFxjYuZWCg9SLYhBlGfQ2TYImoHNgm+PvACs0C1YKT7wY/nliB9pj2DCfim25ij02uUJ2NfBT0zFFnp30mN/NoWNlTr77aBJSwIpnjAnoPemJoHXM+4vGXhhv92In8qXQoMlX2pGDHwIWClIAiEoePzbSLWYsCAtapYqlVKs1FPf0tgDVipoNUaZq4exJQHMSpWPYVYqgoQHGiX4UjHXhu9GBLvNw3GIKjCyBMU/RJttlJfX+IEdZpyGQmVQ6cRpxLeSlSrvceRojzabMOK4BeI86c1LcV8qpvzATRExDWNmTrqFNtAL2jVgB4LoaDrcSvHwBBhxFPHDVK9kpSZi8AjibcghZPyzH3FeStovxRqUGPGbySJ+wy+kFUUUwEqdBXgbcI61HDMnUzxASjq+FEScwqzUcLJSZ7ufTIu+FUG+VIEH4tib047zcRrDoOtLoYjXMULzzc8p2o3ZhFO+gw4GxPvuvVUg+lJ3KfY373zg6UldYaXgS/GBJBAq81K2Eb+CwW0aFjSEa3q2TREqtSFeTLB5by824OERP1QfNShmpcTHuZjw3E5sO8TL/IpDYaUm+PBNiFAmE5QK3+bHu7cDSxDo2RPEFVgjXwoinTc2NYQCEjlpqWP3tkd3h9gqm5eKoHxI9iN+3JdiAz9mpbo2HLj54FR4VsyVYqUHvO68FEbYOeeHsdUTva7nwKuKgfGoTiEODCiYL8Vo21opLlS6Sfi5L4XnPxYUPETcXxQ5B0UGtAcbX2oY6wdgTMhKvRETMVD0pTCxdO1odQ8Pj154DwBDDwIqKyXPS5VHYAy+VMGqgMJbAx8OOg9f6vymJk1aelxPRTslnWoPK4WWwAXgKOJHC5JiMPDLufLvI3vfA+lew56KkLnHgWKl+LJZXHqaAq3wpcYhmrAg5/zAiYiYk0olgXWP9pAIxqMXYGeomokD0ZdS5qUgNbJSvQow8LtLVgq1PcOj11yoFCaFBr0VVcTClWK3pLJS0rwUkFLA70J8dH5R9BLygNYMemFUvTXTYU0UKyX6UjA7J+36UsDEeWTzUh4PAwrbBG5CBHNH0ZdNkDDVuxc2iqqZ+VIsL9WKtF8KDhJfFEubDkMxL4WpXuY0wW5hiy/tSXy8i2ZB3zrid7bXwOuvjIrugfmMnit7ruzNJjuxTs1exE81L4WiqX0pRCXQ56Nu0w7u5j00SYvKbz0vxeqKQtmYvcKMyOruOyhoW4AxI0UBl2BmJROLQSFIyqi2UvZ8qZhtHSLKx1zPxliVVRFvDCDNrJT0hCQ6pWsF325GkL58ICJ++YhTYMYWvtTmgzdjynvMLLpJC7zbiMu7kdnGlyLcNC81o6Bg4JGoty5ELVuCWBkWJEXRgiRM50SgAcCXEgP6yC5bKcmXktgjjZd9qe4zizDfGziwDSI7PANjFyqlnpdityA65ktReAKO0I7TR4dBmJOWIEqAAMeHGCl5HMHUiBhgARGbZ088xaxU+QK4fISi15zwmzEFhxCeKCg/8ELQWIw5lKRrpajqB86MvXVk7y1UVGDgjoCbTdZg0Fte8aXQRV4eNmfs2YiCVUcyIFwufJWVWq7s6oXZoYhfzLbJ2f2WBwSs9tgWRS+nK9qNIDrrnhFfpKleVB+rVXn1hKhSTG3gMrWZkW7iKoRvSZmgWI8z2VopdEzlB0ZgorohdXIIY8UMJCdhztibTsxLDUCHvyQmZhuaE4ufdcVA+HQmxbyUKtEM/BRfKhCwaas3zZw89go6/cy9g7GA4aZHwcycZeMCUsd+CUFyHMyX0l/jR9IlXwpB9Npfbhp8TZxMUUgzK6VZ40f3AttfnzcpcvC2NegDM79ss+3IQQSh52ScH7xp8LbUot5tNj1sxBdTE36VldL6UkMx8KM1B1jvEDGQeiMEvAb2bFlABo6vnoiQG5Ec8bN+jl8gRfwKCsiX6n49fG+TNttmvjCjPTBQYo1HifjJVkrypa6RlUrBJPFMTGRg1SGmdB426r0joFvvNtsCVg9jD1kjHGSl+Bq/CELKpXYypajD4G2TEUknK3Vy0JeDr+dnQKUCY2ZmYAkDp88yq6wU96XoHlLDb4+c/TafhQYROiwafP1LD+iU4kvRwK8u5qViR10YNBb3iDD+FF+qHnwpyZJijR9Uqv3AJitHNRoVeSsGEkX6cknMtiZsHQ6slLggiSFRWymVusAucRuluvbYD22sVCYKi4RmQB/8wqTD0V4wz07Ez9qXwtxSw5gd8IrhS83bT57JEThGQMMSqxObeSlereXb75iXEhU/KAS906qJngE5wymYS+sgXhiHSUKCp4xqK2W9xg8VhA458yaaRaZvAI039awUFiTJvhRVKpZozMxIC0jNvtX+es7YgPioVIzXdwwaG5D9ZcwR3IjKQXiFsY8vu77UFx7wYAqwIBBr7QqoN0J3hNk9kuVTDXvpzkuZzT3FBQNUMF64bVE08NuceaXXwFN+2QFRIZOWkENIN5FQfApPKM+e4DdgzGFex+2/1ZDi/e0HDvpqN0SYkd0PnA88fSy+36D4HvIsBFkpqzV+T9G8VEp8wKDsJQ0JBabDUgLCA0JIpTCWlF1hJgQbK8U4A9Yd+XdhnNjAIGbO0cFzoIh4z8uCY+e7z/GDpmFt26W63z7M9/QsupYqTvQBoeRLWUX8YnZMXt0dsU9a5xhTAIn2QsJbkyBeapsNe9m1UrLOwDDBqeJGSr74+A+0VmrAwJmjeoNn+qgSrUcfFX0LV0Tp2Yv4YQz1cOUt6MHKmw2fHjB3JQLwwzCzIq7FEaGZlbKdl4IBKLg+7q3IbSt3Y6HcqjUBL0Qico1VSk0+jMCkGN4YwzmyifjJaFnzimjfJBoLTx+OmxpwQl4gIZWFWSnuSzUvD/PBi4PQNU1/vNUOU4v4fQFuENTj+riAZTd7DVw5LqBet3YUY+etWmWlFF8KA7+Ut/ZivShiElAhfCjBi8JJ+fIRwEozc3RMSeVL2Vip9gN7Di5A57KmBxYLzlweUA8LFSMYlMitYqVk8k8FgsKXt9h+qW1rOsCeX2/RoWFMG7D+QuStb7ddaxTwViRmpoCGlUH0pTTzUu0XpCxbg2xYAsZQbBvXL3pTzy9RCKiUOAVCwJCYykqJT5ulq7SEo+eSHT1pXSZ64eu9A7e1aYiyY78U1o2jOPBUV4ILLIHseWvHPL56gvApVkqJ+GEojRUo2S/cRNHRT0EC+HBh4ggJ7XHyQUmioK6K+Gl0hoZ4/22dUlspsBbh4YEhH8pBfHPu2RJmjALRQ9Ahk6p6jZ8yL4W76JWYkYtBD00wERQwpYkuBilC60f8iF7DgbcaNmSxgBj4EMQJYgYxHgOPfKV4RWorZetLAQvWhIGN8m3aoBUx5nlTYIzb+FIoD+XB6BbrXvCLHWPDsF+QLiF+hzlvuoFuEhd40velYq6PGreXvCUSHv6QqMg8oZ8Zh4WwhIOxIvtS4tNm1fyBc+Z9e+AbSx1pMQ6h5GKnH915KQwVwWJMDFbOk/QgeZSgffuBbSLgshTEDIYsuUPGGOK+lHZeygPh1hiUFBmwOJFgBg+LgY2FoT2CCKpSGK5SbCW6NC+FdgPG0PvFYBkb7zhIYhjyEjq0AqoScAUmI4DZo1fMnFTmS+Eu0MmrJzQRv5i5K0e98CVVBCs/UEXgkL7wj+jhuFFr+PIBoq6O+GlU6kmcaKwU+I2IwBcSlq9EoLFJ3+J1xj6kYNdKEQIGjgPkwzjsWwqIiy1SBFerlOJLAQy7dWgwzTCIWl2w6sMmbRbMo9kMVBslGysl6gpuiUcRlKs8+jY6kGjikLVINi+lWT1BdJFgX/AFjuEAMBboiG6IDPGGr+tLAZ5mpMRSAgAXIggQ3/hFO+LMSOKzv8ZPBUOHYEHiAWcMXIn4YRKHI5SLyNkl4hEEDSHwXzrmR0xCii8lPnsCd9ufxAyG5K6yvFw3yjfESvpb2K7Bi0+kVFZK8qU4B8StSBkc8MAcUY5AOYg+DmjMsWnT9fyD4loSACpWinwp5GekoIBI6NNUKQLH9I9Ed3Ezgp0AiR1f6klolDbixxjEF6kS/6I+HBwz1iNYDbJKUVkplS+F+5SRZcYvHWBz5mlp3EdyZ9BqlVLmpQiCpQjxl/1g2BEfkHaQL0THFXTTjuelFPIyJ1JrIAas56VEjgBFH0r8m/8qxxAITza+FCsSawAsQ0EEpBfBpMdhiCo1DxEe2WUrpfPsCcpF/RijTyzRIRIXHBVfs19Kus4zRYi1xs/oG1fEJPYOdGbrS+FxILSgUsrLf7lCxmD2d5jmhq4vxWQr0uP8cxhZbuyUmkMKnNw0hP0khhQrpY74AVUBZqF4m4sgYPoibPgHgYKChrTDFYlRVkf8nogeqYiqrRSYY/zaPvaKXaabXHIaK6Veic7KSCWmvJQwuTQZ8304IkgOjWZtZ7+UCMWNI5NhRPsd46Li+90cRsg4vI2VktHigCgQOCMfQRASTYLHCdqD9bwULouZno6Q4EQMTCAiJKFCPj1fCjuZqQsGx/gi2pIEpV/J8HFuVL6U1dNmiQ/6l8lzdPimxLhUrBSfTmTX+eiVg0XgCmOBlQUnchJLQHaenj2hnZe6Hr+a4toRgBVtQwROsSPx+ls8NsOhwYPKSvF5Kc4ZhIDBHvEQQUeMCXwDgMTCSwTPeGZUVFRt3iToJvURyps7pIgfKykTKcdNO45pfzGVk2PCOJNGUiwh9x/YSolWibOq+laus3alslKqeSmSEMmTF5pVAQZyGA5wRCQnBm0zL8Uus1tUEfhQFSDhC91RRETEgAgGy77UVkrHlwIVwkTilxLjhF3FFas1fvyyVFVEkOgTMHUMEbjASqQgs/GlOAbGL4GiZUkaKtHX/IIZ2UrZPnuCCLN/YCI+GCcS/+wWVEo9L0X3pBJTZhk+gjhHcQgHy0HfPOnMS2FEFshWaQAB5WdQ7Au9gWxhJXCr5/hJNCEvJj7CQFLDdWKIFIxQ0YesC5zsmPZ0U0Qn+lLaiB+/D3CGRMor/8pXeYmZL/V4NxaqzFAJh1ZWivNMfKo/UklE/rW+lK2VouyixBCMiojgklUuqgd+Gl9KJsrkz6mR/Rd3eXOkNlZK4komQ/QpSUXgZ/wKuljrNX7KbdURwVLboiqVGwcVSmWllHkpysw7E5EJibTtL1CorJTVsyeIgPiPQbSkIrjIEt0BsLRfSmWl+H3+zXLhkKBJjtK3xApQWM9LAeRpPAQQQzEOjEJLn6dRfxHQTPmCxkppfSmuNRySEZbZkrDhAobAT5ObxgsHeoqVUkf8ZFB2IMFLv/wunVEi9qU3d5TQ3P8bt9URP8adxCdjVvxSl4TdV1kplS8lZRNRiD/SmJmVn12zmZdS1ZdMliOjVo3HF0TQZSa/kn0pDigSJzgZO0Ngs8ZPya8+YoCcJD+Uvm18KYZeuqsHId9jByAiWylp9YTMIS8kbygSmMIVrjBfyvbNHUoeguVnErztr44vhUyiQhGwhIIfWyOw40tpuBZPJL4khMxu0rAlQkGq+FLqiJ8EyX+V3PxIuUpHSORLiWv8/hta45BG6a2UeiW6UnRZpuwSzuiCeJGslN68lCR4UUwipAqWwdtYKRktDiQKMqz2kh1fiuXWfhEcIeO/yrfaSskTQ0o2HQgFlmOkfllePWHHl1LDKHzx4stWyjbix7JKIlDjUB+DPvel1PNSSt0o5LRHEgqAK2/uUM9LKUJgHFB++0myUcijWClNxE8DKxGXfvlNiQSQ/KF9KYlPdZHUJWH3VVZKerEo8kvZRBTsh19jyEjE/Jb1SnQZUiHK4TS1wk60VkrHl5JxKbASLnbFypdS7mmPOCcKDpkzO76UdF8HQroloVSslPTsCZln3rK1OBS+gADFl9/cwQZ+dNda8hxCS1Z9ZjMvxZGwLAo19ZEamqmUzryUhmvxRI2DH2swsRPFSqkjflpIaygFFx0h/YEjfpx3bXkUWYn8a30ph1ZKlIUIKGFSqZS+LyVlVDcWoGKXmZWyt8ZPAWTZeUFEJtgV2ZdSnj2h3FYdSZD8V/lWWymNLyUBgElHHyIhWSlM61u9uYPY5/8KDoUpXnzVfqkIfk9TaC4khkfBoT7iVkrzHD9Cw7NwhDbfGniVldL6UkouEZ8NHomMkpNGsvYifgq4Oj8d8yQd4fyPZ6VE5iTOlbIovKuyMJWS3tVr10pJyNSArOIQdVM/bZZISHkVwjZXGBr6Ukf8bNf4SXAsu4hOuYYLj9qX4shVlJQy6B1Rc5B8KayUtn7aLGsuUpPh8CruWaHkeanSWCla46c8bZbhJWoKLe0R50T8LtmXEvFpcfAzDSZ2IlkpbcRPC2sNpeCiIyR6V+8fK+JHsW4jCZM7skqRlTKYsLmjFdkZvLkjrleEQWCtlcJMhrEkR/ywtMOVFFEwir9YtNs4vM3etfQ096XwMMLmTWKMonjqKfkJSUZBpfwxWDaLp82uMVxxHAFef03+OR6NWb9Newmn679PS1aKXjPgYor4I0X8hNg172EZnaEU072JrFJ1kwd3NwQPWt1X1pOekBT1dw+jxHsNjlZeLPr3AcbgiXVaid6jJ1aKGyo0ywyQXq9ApTBmazHKsNxEejG9YgLojfLYd9CxSXe2h8Z5TmJ69QrvYPYxR6/8e4wLBSBCMd3b1KbXDPTEk/GMpxiP7vK81KjBvVxBoSEa06t7AH+jfKM2xlqSgoZ4+gNF/LICsPLaYNo0zncMmRn8103paRh+01RYaTQoL6Gjp2HgJptWjmOPusUz0eNHtTHIeRPGOp42+5pRQDk/vWcXKhXrgtwkHB96RuKN8rBShWuMl79JUEuo1JSpLkCK9DetSR0qCB2Wu4hh06hGtLrbJHSdutJFFJIg+K/ndLOXSUiKd0UYEqZGvn+UgZ9JOJE6qpHBVG9UXFZj0gn8J/kGGIRG9vAWNHKASrUMH2cYepyvSNxibhRnmPdYYt1LGNpoqmHCHGC5b0s8tMwkRBuXm0Rx3NTUlmSlQoXCKOma87/Lk19GCywF+UaNomqPEYSWLtDmXEZFU+WbhOqxLtS9TkGTR9NDWL6uHWW4NhVk8ez9waxZPeEvk/ByYXPjqXC0F9svaRZaTa9hHLzGeKaQJmFMc+PQXxZ24A/kMAmjC43DF/YgC/nM9MJ2xvkmiBqR1dGaTMI0V+QmkqzRkXDASr1svPjNa7SjPuGNaNfYZ1CFHaqYhTE1XCBO4DVqTKPqMws+LUshAzX7SYTPa7oLtalg6UFd/B8jhVap8nWVKv+HL2c/VZC88Dp0nlo9Q+fOwlK+Ks9UCaWRA8mxFU4Nw/sQJFKol1HKKGcVL/SIJqEVHYK4EcYZr//XCvBE3CisQqnK/7UiDEhAYkj0jINWJhMaICCRFKTOHkH6kAHUORS//4d/ZwGVfHL1MSaU664cMQZIoBjHU324wA4TClrkHyWxtu0CM6UbuXKVYErlAm1Ro1yB5DCuFppDS52J6/QBKUnAJSSl5wDkS8MBhy0NBpfK7QjoD8QMNue7kuTSuQKsNGnXoGXxSeB4dBv63RI/LAMBm00WfswACdipDycnFl2i7dKvJD6TyQVwBuwCnAqEUEAGuOJcyZVchETino4fReL4SolJYqrst0wCZRIok0CZBMokUCaBMgmUSaBMAmUSKJNAmQTKJFAmgTIJlEmgTAJlEiiTQJkEyiTgWAKlDEj/j4FLsrDPtkm6Jc1amJAwg6CT9K/qZCy79L8vAalZoNKVQztHykSSoyOpLf6P/8oTZf/j5Shj/w8tAUXV1H2Jlzb5ILWiJP2yE/kL64PU6WtVeoZSOZ3U2DolOU7VHacx1cfQn73UdkzbMXX5Em7URisrUtXZuWMC8l0i4YAS7hIx9mnLU137qXPnznXr4stu6lpyGtpV/AzFr5SUI+nKNPvpZb30nW56Q3X1DZbG66Ul48dLfz1wJP73GN9jify/pAdOHKXR+qklu9zSbvqp5U9i6vDTT/ij/w4d+F8H69S7g/jprU7Te7MPvjQpcvr0SOkTGYlDq9RRndp1bNeuHS7gW07N1euFa2ARLP7UqbBGoX6KLiyMlj7RtulEtPzBgZT684P+J/BRUguk/vSlpG4tWnST05RuUyi9wL7ppz596r9QX0yx9WOV9E5vrJthqesJzp8tc7gicicxxn7BncKZzCBYs2JOyxpnjvNG35w5iTXGmJo/diEL31n00U/1eHqr3ltT8cc/U7Wp3zvsg6+p/fAlp9r9aot/teXkW1v18bVJ8b7iJ16b4uKtPnFKCo8LR2JfdCCn5PBw9peMH/mTnMY++OJ/nsmeYkrxTLFKQQ5SSBD74Iv+HkvyC/HjeOmHHYrndJVuSqf8mJ/LV/1YkuBwmf/hV5s4CRGjzV0RCQOW4Lylg9L8ykjYgbcfftgX/UhH9OtN9+kO+3j7uZ0wi2tmf/JmUiDW6KObeKl1b+ldZPRAkdMC7ZITcahOwd7BwcHe+FJfxDmdsnu4zZObt5vqwrHgY8HSn5ubm5gl2A0f+pISP1XOpevyrya3fNWFAwc0rLEZyGoNavfcqtzqfGp5qK+XHbsogRbY7MLSTy4i+C+DldjeqIVIH35AmkYKB73ED/vgkvjBD/096qTXwzyma3InLtsE5cp/84iZQvmLDvDP/ri5tPoOwrn234HFFW+lBGmttGeKZMDFX9mge3om2yRm9sOT08KTMSJIEwcI8ohBOYjDeAIf+uMpPk4ZgGiHJuyMhi3xymgmvKM08BudJmGQ8KhGMji0TWwEhC+bJI+c5MGUdNAPwyx51IUBGB+PvTP1nan8762pGLjR2A1JHM+xH6sRHw0B8Y+xIP1pE4aN9WMxkKR/OWF8Kf6JQ05pmNyCxszKCJqOlCE2jjCgZcNb1ZAXA3M2ELYdIUsje4z9MdBn/xo3AF5BDfpYJ7ZxrR2cinb0J6WO5HVIKbJjx8iOVm6K5MLgl/5sEnd+8K0keEnaxNwp5llJzhb5Y6PpT/HaVM7dEvh6+DBHcAm5hnJ6A0fffQe38mV4lvh/+WX8IU2jP8VlHTpN8mPZL7m3zO0Vfd+u+NVJnbuqPjjUScz7Fh30tlpHHaf4o8hB27b4wT8O6L+t4uPjrjb9jU7/xj7aG+IZxSmq448S/SCWwE/HlJM2qiR9h8IjDRU/TBIqWchygVDoM1T6FWUkC4fiASQY+uIfOrObSFZyYoLjXzpSo0tMWJ1JROy/c9u6ndkHZ/ggAEKS4sIiITpMYvSGy0IWkCgmJiv5K6m66oNDOqNL9CelxtIBfuVjCjglWUedpHOKUDXGR0lS1IrFrxDDekYV1fqab26rUqVVFQTB8M0SO8IXLsvJp5VXKxY6o8gZ/r3wT8mLPlZJDsCFeoWGhrLZER6d44MX+VuKDNPmKHpjs4WSfFc8sLlgncH63BqAqCi7NaxzP/pzqVSSFjhPgTjHG+FFMViXQ8YDAlKwU75m5wDY2B0ZFxMzv0j35Osc3sRf/Cthl38ZQT0SrMJoE5GLSX7RsMlMTxKgBKIlImNs25KV+eUHcgWw7NS06MCqyPZp2bwF2QFndm9ZscROMedj0lxnp2wmKBS36B6dsMTOxIv8inQdGVlu/GoSwVpM9KefJF0V70qn+A2FutInlF2ToBVEXtKlP9JvqBlSwGM9IA0bthTWbW5BrlLNmxkoOiqWpJxWp/xyMcRKH2vpOiQkYbT55Qybbfm2yonmwJsBOzCpm4G9YxnAXgblOmtq7Eu59oc4Mtnjgpi1/lBe9TV2qkJgYsc8B8/JcliBqACMH0rtqey3TAJlEiiTQJkEyiRQJoEyCZRJoEwCZRIok0CZBMokUCaBMgmUSaBMAkwCFNZzJUniM7sCLIU9XQLWBE2NU5do48ljriQJ3DVoiaKIxTUkougRQXQhSfwDiUvw9FxOObmIQc22wk/pkCl4ZO7+/3VQOgGI0KVDUjqBP0nanHMnJv1KV0S70E++7HZZ+yPc8BqjXUvi5FnnuuIziE1j+PoKJ+HEbNIOl1bi6gxD0J2r8zrFOw5cAU8SW4SXK5x3HsPeMoyp53Ku0BbLSVgwXW0WGrsgPEn0ZlOSIbHxzJ3xggEptXJJAnV9RAHikcvVXeBfy3Rn9jx0cGQ2lwZZ57ZStUqFe1K/eKGJb5Bq6aPVoki7p8kpnkNpoQUahSvwQezVD3jc6RLrZZh2KSo3kkNin2GrKUxCtxDDvCeHdPuaoPGKg3jjJU8OCm9J5cZzWjsapy2XISV1PFaY4Pm4zUPka84fJHPRm32mBDkPJOZMDqnN+wSSQI844xLwTOHk0WIhwn7GOdCynOx3gi8jxwsrppZGop6/FGuVSNR7dtFm9Yw26yM98xJ+St35qitp+ct4BDKkWjfIBfjl74ivbOuY/K5R4ktf3Vm/LtHGuqf4cYbBX32FvxrLJLwR9Llx2ksb1EA8aSiXAAAgAElEQVShLaAfu844bU5v6atLkzta8I4qvF/qFReQBHWgVojeLH6t0QK8+urn46RFpia8gxKsGEbByaMZmoQlvxiG1gIsffeVaL6SDe+XivroXePcSPjGRaFJoK9TrT6RNAXXbBdHSjcf+a+XucPzsxOHGE61an0+DSJFV9s5eVeivzF4AItvQTS3i/IxBovciRt2srcgmsxe8a/6GKQ9JPFdvAWRdQbj4/oa5zxhbSHZOPgx3V4xzjova61aQ9bhtW8CKrrjIqMsDKlVK46rlLmx77uGqy7xxZ3cxFPdNR9XtZZR8ddKjOstePGVmZYlfzXMgBW9xEV/5Us18baq5SNcxlar1lK8BZGWqZrE5Yv0fhaeLMU4lk7Ea1anj1KvvIQOASM6zTacqvXdOY1bqc7JIxKMgoftxLt6USq8qzfKMPDssH981BkdPBB4+X5e68VqxqiHLZ3aVlKpXX2Nwc6e3enFcTWoetCzTvlliFFoKb/77HV4sagFhfjru4bL7z47XLJStZeGSSid/e004iOVlVo+y7AE3PvSq4JZr4+R4+eGGbBiNOHdv/LmDiu1/F1/o7UpY6u683kfUimfkS9jxwZt3NiTDoNFrUQYOZT7a9xUkd5Rl/i4kpewe92GsGrulY2lap2gUrxhdvYc4T/bEHy1vv47RStl+TKqVjV3Q9Du1cIWye/qjf+8ljHalWf7vzpVtlK7EqoZK/fssNmNalAtkUq9YpS2SMvdvdNsZqXgS3Z8d8hsYyxU65uQKluppQZF714tYdZHipVqt/zFqgYlUK1vX9JorlLmJX/1N1Z7VmV1rzbkXcVKZS0aYrglcoTu7mGfB2AwbDHXupYaHh4fH5568PiEYjYINFlWxR/HGndpXwSpFKkapcehVrBS6zYYbViVK7tXqLpT9KVgpfyNtQp3d1IpKg+sVINaRuukmv+Ij+TXX0OlrGqphNNq/morFWa0QVV9kQ/8oFakUiUQs3dbVilYKcNIOjEzQd1vY9+l/gbbYLWwER/9H/UJSAiOLH/RuAQSwjHwExH0gErZK6RT16FS7cx8FImB3yKDLUkmQSq1Dm88Mwm1VsbXXpcxtp/v9uPpxTT9ZU73Oem2RQg1kQrRBRMGhyZ29NhUqjaslMybkwfuKivlmkrxgR98KcMqVTlskaRSPhj4GWzW7v5LFV/KsJWqljB7HLNSj0alzGZYKYPCxwBBHvhth5VyssbEbI/ASolGknTSvOTz0quUYqVKo1KdPmdvlDcX/31kUt8jR1tVrz4BakNMhvr86n0Fb1eGCTNRX0L+Cu9UTE7vtwOE08llKxW282Vx4OeaSokRvy+jhhi2UmEjViq+VKLRbhoDP8WXMtqZVCMrxTq3R2SljA/8KpNK0ROBuJUyKL1qYRs0vpRxKwXyipWigZ8xnbbKTQM/bizIl1qUMLuCVQbnTpmVItNpRiwiPeH7o2Yv2g2YOLj3F+kWy8ljV4Tiui/vsRSP/Kn3kvXwt4a22tVh940Jj8VMQaVcslJ9FV+qVCrV3LiVci+Vlaqm8aX8jZoIyZciK/WLUQspNw954Ee+lFEW+valkBtTKeNWyj1hg+JLWVzypRK4kUT7NZl7lNJKVdAM/BaWYuDXiflSpFSm9IQjR2GSzObEh4Pcig54+UClQn9/5fz64llHMvzGnp2Q+LAo8pS33/4DxaGPwU6RlRphtGGRL1VqK0U9hIu+1D9UVqqW0RYJX2oMt6/j44wP/B61lfqr4fAErBSF3Fy1Ugm7VFbKFV/qEVspf1gpNqYqvZUS3x5tMft/f5R22/uchE/lPelAOqnUSb+7XrMnHsvOSvXbl3jkWNDBtya7HU0v5rQZA4/qCyr1vCu+VKmtlOu+lHtVOTzhki+ljvgZHvj5I4jOBuKPZuD33/elMPArZcTvDg84ogXCSpVy4FehWi054mdOmloqK8V8KXBlSfcnK1UszJo3fF/6zOAtpFKrMvZPgLXaMkGYnX+0+Hu3+1/gdvZ66lsfdXrSvlQ7+FJG7Ywy8KN5KaPQGPiVxkrNbvQvxGPJRjy5iF/4x6WwUtp5qdL6UqUc+FXGwK8jny6iqV6olGuumexLoWZgpTZfFiyhljMZlyZY8nLurz90bNnpzH1C2MThn76XVOthUeL3flfSQ8M2f/W4VOpJ+lJmF4LolREHdj2Ijoifal7K6JBXE/F7BL6UK1aqVL5UtTDVvJQrvlRlkGfTYmi8j8JKqeelShfxC6DwBJIlfcj3Ry3FocUnvbekpx8+/dXVQ8Eh3pO+MP/7dObeEy2i1xV5bc7cZ/aqdeTgVQoEPur05KyU6EvRVK/stjt1gKlelUq5EvErjZX6I0T8SuNLoT+SB34uzkulqiJ+j8BKtZOsFIv4OdUEbDJJ81KkHhZzGHypYnPigswrgpCQPxwq5eY2/AvLwNN4TjOefzyp1fdQqfRam6FSj2fgp7FSTjZv90flS7kQ8VNbqSgX5qVK5UupI36PYKrXlYhfqealKmP1hLwgyawX8SupBfDVE6xrf9RWqnQRP8WXGrIZvpQpES6U2fw7U6n7O73PWr6dd/A4HvPb4Y3EI6RSid8fXB/6mKzUo434sSpxWC989QQ5+SziV9kms80FTa8EK7WzK3UvfI2fjS9VArTDiF9JszwlzEs5Jq2UQg6iY/WE7oIkR4gczks5AiT6NC+lrJ6ASikBGnfbilA4lo+qVVWvnij9VK+/4ktp5qVKKojMEDuw8qWOXEbEz0IDP9PheV+tP+R2xf/0/j00BkTQ3GyuRSrlxazU41EpJeLnXoGnkhoWguh2rRTH4e4IhUqlrFZPuEvQWoFZnfmrB37Wc0NiGezSd9efl5KLbkXL6rSaOuKn8qWcBJewySpl40vJiNCk9FsVRK8zLyXDSSTs/Nqfl1Iw6NOVEPZFDJ+mxZB0rJTTLYijU0f8hOrqiJ+IqIJjZiSmsGxSNS+FILoFD5Odm3F/vXkuwhMsiJ524PfNmVfMXj7v3iMrJaQn0sDv8aiUvMYPeiAlO9UplcDuvJR75QqdeLLbptFU1Gv81BE/dwnYIXlapqaEJ6x8KciWpwp2GKCpXltfSqZcwuR9taqI+JlsIn4S0U72qMqC4weyStms8ZMwUVOy05r056Uk0dkptsRANbvzUpIISmjE1aoiiC6+zgn7pbS+FLpEx9KX2JB/q/m/K/tS6jV+CiI5q6MDlS+FVUcJc+BLWczVTmdeSTpy7AoF0U3/Tr0inPTeP+Ofi07ftxwZTlYKA7/HpFKiL4W62LpoBE+zS5CrPSuFBp3Ht4S9vauTnRYhqpQ0L6VaNlthdh7fgfZTX4f0lfCEzrzUYXFL38t26GsjfnzYg8XtedsY347YpirVRPxkX8q9mkj07V19S2jSvF3IKmVjpST2RwCRvgB11/i5S6Ibvcuh6NjATw5PqHwp906zeBneHtHJDmHOOlaicyOpY6XcK4vsvz2iqj7zHIfyrbVSSsTPvZrUFEooj4iKrJTkS5kwL3WRnq7ucyYnJN57/xfpv7ptKS4+lfnp70fchr8z79hdslKhCE8M/4IZ20f8JUf8MJLOPblu8uSoyZPjiqYpI2yl+Ooje6sn+nY6NDk1NS3VM/sN+/Fp1cAP+6WUiaW+hxekhgM4paiPoy0HWIlud/UEdGNieBpwpK1O0G+T+lYq7NDk8OTUZM/sGWEOZ0Z0falqnbZeoEKneaY9uGPj2qnFJh3LKiVo1vi5V66ad8oTmJLHbrxjd88LfCnreSn3vrkrmOiClt1wXHVk4uXwhKD4UkxwyUxwQxxqA9NoO1YKSI54pkKOY1c7u0IeVkqel1Iifkp5ikoojyhRjS9lSvz1JvbNWCyJ29aFH71qtqxqtM9iGRy7T5g9Myo5ey8WJB39AuGJ63v3PF4rVa1v7ubgsXGpcampRX9xXC8wNHZ8qQq5JzOKfvllbf0TfeyjUKmUWR3x65s7J2TZK2vX1o8e6VClHFgpVOrpg7+MWrt2yoMw/Zah60vN9j+ZsZ3A9lLJ9QFZ5VVTR/xEXwo2btagg6+tHfXL2veXGLRS2ogfWctBw38BI/V397XHhWwmsGxWWuPn7p47x2/ZL2t/GXe7bQlGRr1fSp6Xcnev5j933sEpEP6U3XYEJzZebNdSls1qVk+gC/Ofe3r4lFfA/sdObsHTWik54udeIXdmCMqzdm1hHzujDal34r9kpaR5KYTREYKARplMxb8PbRXK1psX09bhUHP6yPF/S6dxO0J96emP2DyJ6MhK8YgfeobNfhtHLFo0YtGI2XYrVCyJHStVrW/YyaCNiZ0SwhK0RdacaXypBrXkJgyVStvnnxDmH+Zw6OGu8aUUI0c00CbnxSaG+SdUraohqZzQfilrXwoN6mTOxsSwhLCqJfpStvNSsC1bJ9+/4x9WNSEB7dmeKigsVK6sWCmriF/VrYOKgMk/zAEiHV8KdTdn+IwhVRP8w3Id09euRJfW+EGlILiLdxISEsI6Obaz8rgTDcjKl4IY805fApKwsE5ypaqLrXOs9qWUiB8rz+5aECgwOZNUvhT4wpJZat7YzOHllR5Kj3JBFMKCf3o/EPb64oDuPw4TBaxQKSniB5XyPu5frcLhatUcSxVltGOl0FueDLqCrd+EwW7dMpWSfCllJbp7p9w5Y49j43U1x5O/qpXotCBJs2GIrNSyO9g9TbZGlwGtleKmFA3qesbGOyBcUsE1ET/Rl2JWav8d99nVqNjGVErrS7lXzs0btH+kO+3+1mWeWpfcptVWilRqd8miQ6WoV6IrvlQFslIX79AzB0oSgbSpGI3HKuJXwT1s7un9N3JJjnbZt1IQ1Ro/VcTPvdPhFcNvJpBEnUOk9qVIWcQk7pBiizLpEs7xIi/prnxZvvBIDmRfCloCK/UAO5UpWRXc5tSOlXJnVqpWmL9/WAX7WFQDP/hSyho/tIvwfeiiCdiGonJBu6tXG/ETrRTv5nV1Ss+XglKczLlbKwxgJVop24gfoLfG3b8TBnD/EsClQqitlKpPcK8ctnUQ2Tt/fwx37NWCzrwUt1J3qob5lxQW0Eb8NL7UvKMwMLC1jmTPNdrO6gnRSt0hay+VtKRftS+lRPyoPGP3+VdFU7AnBS1itS/1SPSiFEigUtLqiaq5mzOP16qKplGy2bZnpeBLBZ3F4BFjR/tqoVIpzRo/slI08lw0wlHEr4J6QZL16gmyUkUjCIe9SJE24sdjKKiQ6xm3GWV7YGINaiJ+si/V9/Cg/YzoIkT8tHWtfyarlK2VOj2Js09OmS4unXmpCtXcc2dm3uOi04eS+KCBnxzxk32pyhBq3ryixY4EJ2GAL2VnXgr9LKzUN/8g6TvlAVUGXWUlumqjPHypFVJ57LcjiSP8an2pUujDIwC1slK3F7377rtOhEDtWSl3dPdpDeLikhHx04zIVMW3mpdSnKFOh+ckhxOw4zBPCRG/0yn0YnIW8VMTlY51rRTYnjcW7yBPpYiflFPvVy/i514NvtRYIpqa/cCRD6kglFXKKuJHPQLxEZdGET8lv+ZI15c6vMKPiQ4RP8cFSFBH/CRfipzQuadTUIS4gxsT7BFmXNDjXBxYqYkhjH0jET95Xkob8csgbtAUcvtqSq9/IvpS9PxeMdHhY9hfKKF38Ku1UsFjk5OTU4NQn/ZcIVHcjqzU/rXj1sa2KCniJ/pS6ohf1dw5QUUAbnR7lwOnFCN2+6snqE2Gvz9u7bgXHthpGbq+FKxUznaAxbYYbxWotBp3aCJ+si9Vddbkg4BeO67+DFAlETExibBKC5WPZJWyivhVzt06Oa0+EMU+gJWSs2uakY4vVaEaDHzIMohu3O0+Yq+uDwzVUa1E1/pSp7PrA0FsSRG/Cnb3SzFf6mAsVf/HWunbKQrKpbFS6ogfL8/y2yziB3ipPNIvk4l8IvpSiEtIOoVDvhzXQeO3vgUIGd76nvPnZKXkiN+c4AbPr1u3zvdeAjwqsRDgmjEuci8Kx56Vgi+Vc3sXzRc76FtUAz96QpIsLQygkze+CNgNfSnsJMtL06KoQ7W/eoIN/Bj9XXZ8Ef2IH7HdldhGrFPtD1m3a30rBQ8IAz9KL3Yi4wLZ0TcvgPijKY6sUto1fvClEJ4YsQESYCNIfQnoz0vNGX5vFhjY0FcWvFSDGvGR8OSBn3peyh8Dvz5UBHnsal12joc02oGVOr1/MdgfYTV+lmSgYYWdqH0pTcRvxdh7qMcNG2gALLcFrUBwR7qg8qUoBMETtEtSMCgEVlXoWS2KYLBc9NgkgKognNciTU6olCrid2zjBoqh0xoAMMu/GNv8jH0zSdizUiziV6tTp6rk5OJPN6lUSrPGD10tguidOlEEGYCKwLRYVFbKZvUEuQTLEkEecQZWBC0oYdVZ48d8qY21cjvBjWSkJSgbFjQRP9mXgpVCeAJ8s9g3MIikIUCSIfsSxckxyypl40tBOYGpE2NfX34681IIBbEgeqcwkjsvgciCVBL5V70SXeVLIViH8ARKoDjSItsypHhgd79UBeZLXaruX7VqVY0rxRmyxsPOtb6UvMaPgr/Dd/tDnkCE7p0aE/smIDrhH9U1ZV5K0QmYLPUJAn6aps9PkIOe6seVDxn08uiAObhk5UsdZ2EvtKsKGD/QF2sQrCBYx4gi0BUqlv6zJ9A2MS+FrZnuvLOmrLaJqxQVl542q4n4pR3HHCGToXtlphQ6zUob8VNcMSJEVmrZHcRwQR+82tKurOtLUcRvNbwXiv5qGgCVX41Eb40fRfygUkQUQXSscWOSI0GxpZ/u7n2Z6LD6TWZIVintGj9aPQGVYnMQWOSmoaxwoeNLYZoeTRBBZ4peS1WnQKiOtCvR1b4UzUuJ4W9G2F1hVwVfGSvR7e2XYhG//RjxkxTVMKTl2gvyXfW8lCbityIT8ynVqmEyARKFMEmWXLDSCd0hTSNcoi9FGpF4a8l4lvBsJAz+xLZvKX5v/Hq10eLXLWafYW/sgU4R3I0JidOGAsiBujhzS+VLIYie+cAf8kACt+C8U1VivxNxjWdhVsWlCvhnRdBfPYFIDealsBhFaZg6omQqJc1Lqdb4kZXCxBgDhlLuelFugnIN4KCCo+f4MZXCkwEpybyqoWGl1Lt6xXkpivhtlOYPOMfUCEittUkT8ZN9KayewLwUS9U2jNg1u0KFqmHoqCEy6rArwGjiZNaGES9K6GSV0rVSCOC5V6vw4i79OIOeL8Wn9KgrA+SsFytU6ARoaoFa7nFmb16KTSnRIiixiVZmeGzhK2NXr72IXwVaPXHpb+gUWYvhqOgb+iAzYoVS40vJa/zQjuZk7ublcYfgMI6EBab2RxJF8VhjPAxRi+jQVsXn+JmrXovypRR/dg+slKRSJmFD7eOY9lWuCPTMWZM5cUXRAfTuxebfN5+/2mnc+T2YwGZAuCgCiz9qm+dItWysVG5V4nfr0rd3JRz+tfmIhE55747MBcd5v34UuSshb+kI1grtWSk2L3WHViNDlOi1UTOoRjJZqupVDfy0a/yYSmHUyLqjwytHQ72AghCgluRKgTvgaI0fBn4wCJ3cq+Z9uKsqpgpVkIRC30rR6ok7qKlOIjXObQVUGjoVKobYPPV9qao0LwWaVSuE5V3r33FXwtalaz76uO/hpTs//3zn6Bfx8/ausLk7XxktzfnIKmUV8SMrdb9v1b5gP2zVRzfgmIEuWR51sjcvhYESOsJOh1d+HLZq11yCZoWhoig4HM1LXbwDwtSVUpGrbt35cQLrXbkAJTHa3y/ljvnivNMYtwILVAhr6jHOqEwYDy8aUZWqUqc0Nr4UKynmpVaMPe6PCqlQIff62ujRCbnvrvlo+oiwvJ2f7/xrn39f//zzD0ckzLrWHysAGWOyL2WyHB50LDsqPj4+bssei5ep2AurJ0yhXl7Cqswt6T543wCtVAqldxDAhpl8TL/jgRTYXOXj82/spjo8aNIekxcWXbBn07JsOIKXxXwsGlc5kRQrBS3Z7Hd70aJ38Zl9aNDFG4dnrotb9saQQ8veCJuNphK1LuronblR04dQz2DPl4KVSr5MsxuLZqNuwsKwQqlCNWbn0FFJLUOlUpo1fmSl+LzUbPfZCYcDYDL7hlFd9MUIX7FYKl9Kf/UEo7/L/8yUG2FVsb5GIsubpZ4vVZkifnvZtM4umIgwzC+Saa5QdevKHjDbVf1lJJqIn+RLVU7YOnk/lXnRojtzJ1/8eNfhFeuWr7t4Y2v+9nHLp96bdeH5cQG32+Y9zG8nxcFklbKN+J2exBDtyj0Uf4MsNheBSqV05qXcKeI3XJyX2pq/MffXRYe2YzqgaqdqcEegWX0xZcpR2JuXIitVtJhI7+pUoQLEXnVr/uoh1TB3XA2yINWQDI39/VK0+OP0/t1sXqpChWqrRmyogBXyixb1PfzrIjw6HZPIGDpgzReUViqP1pdSIn5YPSHNS+Ueyf7XX8Lmnnrngu9G/xVRWcuzxm+9sH3c81NuHL6W/Y24lpCsFFvjZzIfPj18xpiuSNXZYj4BBgh6YDGvCtlC+gAzxTSDBnt0UGtz5qdstR82KB5IfHuG+CJC2C8TZack5udw/JKjb7JScsQPy2aTg4I8g8Y+OBmyMWFByL9+zdl/Z0EaKid3jueX/5iZsfrwhRrsUY72rBR8qYy0qKgGcUXf5c4OmzViiPuI2QmzX8TULUbFkiA1vpQS8atW9fAcv/CoBlFxy9qGdTqc53tzSKfcDSOo790woq9k4snOqJ/jZ7t6IiQeKOJXD4GVCtsA8lL1iW1KZ41f5dnENoEV7favCpp93cFytRf9506+5z/b/8URu9AiGPf6VgoRv8x4Yjz+m1UBWP9xJurLvnknlmydjOnjd3flbb83YkXcvVq5C/4lTTbJKmUV8atWNW9eyHZgCt9Y69D2b15MwBRstRG7EqTmzIpgx5c6RqILJ0VeDSt1yHeGf+6Lu8IY72GHKYjKDK12JbrKl8KCpBAqQ/a9hNl9K2zYVQt4/KvNWoSiv4goqPuLYv3Z3y8F9cfAL7MBqv/gvYSwwys+6QEr8/Dz6JG5i/BymDBEMaFNI3a5Ky2BKlPZLyVH/OB+5s7xpvKkLruRe+TynYTDR2J35a35MmyF7+5/vHtnbv7qf/w6+XKtHb770OuQUERfygJ7c3jQV+vJnkB3/j5tz8jeN9J9RnQYvR5W6srIDrv/hqFg8a6fOszAAM9cPPLtGSM3D//ULIzsMGMWVKp4TPXQkTfwJNqWX6SHCncG977R6tbfzO+NoCfTOqtR6jV+7rkL1kEeSL7fnEy7unXe5cSwk9vbnjz4TVjfwxP3T6iVO+do4s6dbGO3HStVucLhMxfemTp1+dRlfWCjr8VO/3X57bZbd2JYnPe2NOpB+fGaAcmXUq3x63v40IWpUy9Mrd2iT+6qV8ZlP/CftWJc/cg7h38d98uJjiMlO6V6jp+X9eoJRKFnLiccz98bMvfzG2fWNmrRQzvTpLVS0r2wM+gFp8K0LPHf+nBto8hVn98Iy+vZ52Tqst1hq66Nw3SVqFLqXb3yfqmqs66B5NTl/d6ZMdf3G//ck9u/uJPQNzcv/3iify3/vKLxtQ4fOXrn8BxYKd6tyCql9aUqY17q2lRK/R4kHPK9vfbenb5bIYJ76JKk/kh/jZ977q8XUO6p/X5uCysVdmbEoaJvwg6dmDZ7xfIWoxPyVozLersv7xPUK9HV81IYh0yFCKa+c89/1c6da2N3k0odGjeu/sezPx8dFsYGkoRBDjiio7Za4wdjnzfzebBxod+9IVsfLn9luv+sQ8tfuTg+990ReR99fi1rd0Lu0nG/fKSe+dL4UnLEDxuNrlN5lq/b24dUKgzMJIahZ595cc+QIf5z8xFGW1BUfVVttZXCfimolBkqdRUDPSTLKt/Ca8GTZrw72Tvz7IRVQZdOZYw9ekAQNlzICDm4en2oeeQp77F7Tw//dMLv1zIO9sfAL+HC+VYriiLzM/yKDoR2n+npPelfAavTV03OCJm0DyNIR7ZJuSf7UujDKpAlgfcxu2/YgrQDZ+YhVDBrUa2T4TP80Wmk3Fu0a9auhJ09WYjNjpViYztYJHgfQ1YNWvbRqfgp16LuUnvKXfEveQOTauCnifghXooOsi/6qCF5p956Jf547gLfD6757l4V1WLn5Is3ckWdUi9IsnmOHwqAEvSFyvufLPp4XOxONBHN0E/Pl2Js9+1Lg/2+uSd9+1/76GG/Gf5nfHcfynn+m7xTWTsvXGyby1uk7q5e98qzMZ8F8NlDVkXtCws7FPUvTMz55+XvffXVpX/JK/omceupvYmHF5AIuKGRXoajjfiBD8JCbkffsEOp9U8VzcidWbvw+9ozRJeBA9vulwIYaq0aJN/XnwZ+Kz4+FHAjb/LRO2diwfuuFb6Faz8amUvQ2pXoyho/Igy5kQT8T6LmLizbeups2IpRn58q6nNq753cmUWQAFMpyZUjlbLe1Vshl5oQhA/l+r7fhcghW2e+c6H+7sM7/7Mj9a2dF4puHD514lo4rB8rCONHtV9Kifih10U9Mokm5B45Wj1s65FYTO3Aw/J989VX285ddxf9e9GdM1orRbv3zSZ6wgRr32bLIb9M38nek6J8L2QM/3RDiN/wdwYdO78+cc2x7ctTM69MsGwL2r4uxxu+1KHU7esygicdgDre2XzsYHy91GPn0/Gs2nfigoLP+1w4tuxC8KSrFpNzhkrxpVAMDLFYqpq7Iu3OybRvsB1vdtiCgzTwOzM5aHuLj2eHQaUoEGXPSsEB4SgqhJ2J29gXA6fDEy+HrSi6sXXOdLlpq1RKs8aPgnQsoV1vn7HVFx3l7ZFbjxz9fO+uw99fbCsOmyurn5BkvRIdnHEcFdAy+nWM3Z07wmqDqTbiJ1Yu2goceyT3hK0XLqPrWFB0wx8GJy/qXsLJ2t/MvpeXk/UAACAASURBVL4ddpa1APWbO0RfisTBiXaqELbK95uwTluPxL/1cw+E1hssfN73yw21p8+67ntvSO6cdnesVcraSkni69Q399DBb+ZGPcjL37grb107OLBcGVVmQr0SHZFzYr9Tp75hWy+szp3z9o7aH88pWpz76786Hdo+/cjRvrM2zKbQizbip8xL4Y6C4WT27k5nLrx7avWQrSNGXI/fDWFsPXVZ5N3+fqnK6PKkJoRduQ9bvDIibNbJ/jC1Wz9adCj+AUnyzC+7tuafVR4Dr/Wl5Igf+OTF6YQ+DlaqU+6hqGUffLwL7fKdgNqLSShn1q3+5w4IWxr4ib4UVGrQ8Bld6aVteyxnvIfvy5t37P4XI2e6XdmQkXml8aLT2Ns7+fzVv6+a99XVxFP7r774ffDwT+9MzP5i10S3SQdy591P2uy2/8DfV+VMGjkx83jjVfPczo+cd2n9homZP4QiXqjYIvtHspVi8qbegbrIXAz8TqZClSqE+S+AlZpdNWzutckhacdr7dzp0EpRpbFudnbYmYB9tfLyd4fNOXpnR9Q3eeuUpT4aX0q1qxfUqYNGV5v7PcZJAQ/mohfyP1m7/4M7YTNhpfoSj9TRqhckaX0p3GY40Gn7n3xr+rq9i3bBKWZg4peulaJ7VHJMMc2dvLsW1HE7rFTUvq35N/3nZHdcuiL8pj97p4SeL8WAOeOz/clKzXbP23khDl4N+VKLduVFZV+I2zsy7PCC5rZWSrOrl7jgiLCO4pDvAZA/ExX96q+TCyF0uRQ6vhRjn8wMRepgpRZ8cihgue/uxK0r6r+6Iv7eke33+sAIE6PaiJ/iSzHSwICZoLCTtQ8MyZu59NTeWrMevnLh4PG58VDu3WKPKMfw0aZsrBTwgwWkCocf5m+vPTr31/zno1rcOLzis0O1byTuCJhxcuU/YbAVlbL1pYhJShCE2BYwxpmNCMeFuOx7/itqjx6xaGTeaUh02Q2MI+BLMT9Tnpcy41mYx8aGIB3cl34o+NL6OxOP/SAIhzK2jMDDXQQ8LvPKCN+rxa18Fhz7Iff0XYwC5w3/dGvOeXPxqoxJV/E4pTtYO14cmjAx++2cS+vTE09CpXAgrFr9hRKvsK9OdEdlpcSigEUY2IN9doQf93eftajvSbJShxfdyd11BrMvJVgpiALdHaJ7lcPOwKvIm7w7d/PRO5Diw35t5Z26al9KvcaPMQBQ976HCaj2btiJsNxDvnu/SQibIw29kElZkGSzeoKXgc0Sh13f/savk5OLMGgSr7IffV9KzIGWTGy/WOskrNSZAHQEN3M3Zy9fvvytb3iL0kT8ZF+KQ2PWpJo/dZzogKq9uKrfxq005E/wz9ve/9WfduVi8GzrS2kjfsBDwqPgKKxUdp+8/Adnkt9ZvvwdWHiRQzRaGnmh3hCIknf1igwwuZNKzfl4x6CQ/TeGbP3el3jPOxWXJkYbNRE/xZciBBVAnJqy/4KiN4bkzVl6anXukfgPZsbfO5x/e0WRvFvY/n4pkUXYKqzmWLV2595dYVuvfbT3LwlbP/rPjuwb/jsCdi8oRGNQWSk7a/xETOSLuJOVyp3t32nWoiP7Z69Ytt4fjl3+0aUwWf7baqutFHv2hBm+VOay+rGxWUe/EA65nU9PnJj5qUXYkbHlH35bvHzwwKTzPXKO/tKtf/6xLbMGHS9mQfS5GavN5g3zviIr1Xjz8B8Er1oTs/8afCXdy7zK+1Ji/rGim+tbYR+wNMlVokrZvrmDrNSBvHm3E8MOxX1DvtSQvNOra9UKm3PwTslWiokD3T06eXgTu8ngwD9Zd/tOriwo9oQkik3qPscPY/HDMG1kpaL2DQlbULv/xju5cy7ekLbOlPQcP5EBmLcZuSPOTN6rffWl3ho/iTG0BVip40PcyUrVgpmFmQjbXHRjw4gN4j5ne1aKMMCMVGNWqtqLLybUyh11e+u6B0Owgwy+FNakoFALmpcQ8WNI0KwJF7dS9+bG7d41YsOLcmgH9yRnBiqFtyBqbTDtMM5fTb7U5NcvoFta0Q7Qu+ASz3mtbS7ZuWqalegqX4qogi7cQrJS/nlHtp1anTfo3p28/Lv+C3wDNibk8plnB2v8OApSKFpQsvPX3Xc6He756wPY5xU/nYl6o9bcdbtPfnQnz9pKaZ89wYovYgIqTA+QlULQuFbYyew+K5b1CcOEMnhCsMLaSjFfCvNSw79oPKZ69aQJlkN4kB+e2fepYIFKjfDbkl7sk5dz6d2MkKCQkIxjV/Lm7ROYSu3IuCtYvkXEj1kp+FahUKl/Hbsi+FhWZRyd8DDjWFr2XYQInVuHCyslrfGTykFd5IKDfdA939g68eAYRPwO79o6MXta360TnbBSEhaUF1YqajeU4Q7a6cHdWIory1x+V69mjZ90uzJ8uewbeVHHD+fvJQu3dNnHh/Iv/Y01CcqjPMfPnpWithF2vfbHiwB+WWrHHL3WSql6f7pNTeHU0TuzNlyHsVmQ/Q16/FrwAPwPSxuA9Nb4cbzQAoRXmC9V4UzhiIS82JtbJ2+cPWvX7Ly3YObd3bHO3tZK2fhSooZwKwWdBAd3EIPG7JBIhtxYnef4yUwgOEZW6tD2Nw7Fbwz7tV0tzLMunTbk0C+7mLXWrETX+FIcA1TK/yQKf/ItOCyogiGHwu8OOTMo+xv5ZWr290vJHKIQFbCGd9fsaofpO2zrR++eYVbqeN64Vx+mYb6L+h9KWl9Kifjxu/hmVqqtf97Dj/tu/f5owoplN17cRRE/f+w/HrJDY6UCSKVoXgrhCdiT0FBSqeJaEzMPmMhKLQrZkh6Ktw5cejf8XkekLw/MHXTcgkUTmZ/uyLhisRBcbg58KQTV02tNjK9x7Eqxj7AKryr4fem4nODhd9kOe8cGit3V+FJSQTDwSzsQdia/weS0jYkLMg6ui/vXmXnZCyfHPai1s6ejeSkJAbXNM/GwUqdvUifTd+upSW2VfTxaX0pZ4ydDYxY+f9m4tAdhJ6NiL2yfkXfh+ffXXewjbcDSrkTXrvGTUWD8cnJ75LiF42rflKwbv2fXl+K3se43KuvCibz82r9cOLgv90jUg1lHate/sGw8Z19vjZ9EE62EW6lOh/K3v7+8Rdutk+Ozlgfc+0dttrSGrJStL2X9rl5JpWCl4g9snXyv04qoRmsDPpZDOyCm70uJ7JMvhfDEx5iXOjzn4IxVF2IvZP1nTu216zAnRlm0K9E1vhTDgEhb2MnwZa9E7QWew0e2/3Iq7e6QrflF1Ttxp4WC6PZWonMWxO8KiPXAyGAUi/lG+FKwUjsmH8+99s61qLMojVhOjS+livjJqOBXsyD6ke1rl/fbHbYiaOHy5xfnTb6LsMRs/0PaiB89UILNS10t9sJDJrygUmdNNPATTGSlMqBSiXMztvy0fT29ClsQ5p4+LoRWxuqJHRmrLT7WVqojTJyPcCb40oTqwsh3r3nfv+pcwM/Wl0JhyEpl3wjLPbN2YeSdTnkrfnnll49zD427UP/e7whPOJyXkkRBC0A/7BO2dSlmmD7uG4aw3x1ZirAgqnkp1Ro/BbhCtTOvfPTXaVUP/7q2xccJWAa1aOZFVKqYQROeUO0zl+D5b9W8t0c8XPt+JM1xqpI24qf1syhbp8PXX3l/+uxVr/R/FczPfeXjhLyVr/xyT9ymqrfGT4UcVmrdPn93rEda2/8v/luXfrTzo48+noXVSGhcCbkLnLBSIjIsRPjHq7u2Lh3vv/XXV34pxCowuRD2fSkGW+Hw0vG5qzbkvd0nLO+vf6n269r+7XateuWXEzB07L56JbrWl+Kk3Sv7n4xq8UrhjcNLe+SuutYfK38Ql18tvyG9mv39UiLvIh7UN4UAKcHI502HY/XqCP+8t1edQhBdKY3url4FE7wy8qWqrdq5tv/0O7mYMvvooxtbm/wFEsWMBbNShAvRar7Gj81LredPayErhSHccO5L8fDEguArs9J+MJssh174tHL+agsLTxyed3SCcCaDIn6T/gwrFQoPLHvRvElXzbXmuJ1v2++4INByJScfqWTHSp0MeZDQd0hVf5iQqom1Emv5YyhbbYh/p8OvOJ6XUmRROQwPYqg6pFNlfyxnOsMCRpIcuZUSfSl1xE+CRmX4V0ioFeZe1R8hR/cNb49AyBRy5RNT2l29NhE/CUm1BH9/f3dwoMSf6VZJVgo0O+EvzD2h1pCqff2r9u2bEFbNfwgtUCJox29BhJWavBELNlDmqgnVqg4ZUmtIrbCq/rT0o8KsVUd0Vk9YR/yICCX0ScRHWLXfh1ToOySMX+Tf8KWsn+Onvl0Bj1eCpzGkQuUEFCCsWtgQPLBq9pAEvvxEuxLd1peqjIEfgub0FA78YbPHEDyy6lD8DDGyBgmAvJ39UmouqARigk4Bj3+n2VWHhGEUigUQGG5Ld/XX+EmgINf38JGimruwogrNr5q7fy2kTp2GVIUSVev0MFsT8ZPmpYbfHI2XCXSYMQEqRVbqgIX5Ugiij3l33vADv0+eNAMHmT8UXzt4YMMRBNHxWpwZG/IRPGfzUhj4YTg4vPqcY+d3r8hxu9w2Z9KBkdczLq03ORVD17VSiPidDLp4o9Psylg7UpkFRWFm0aBn586d3NEpK0UyoV4Rsqs2uxMmvWlWSTL2KpXSrPFTBMmAqSsD/OzcvOWNlr/Qh0ZevFmrrJTN6gkJB8FibwD6MiIrVSDuOvSlcJtBYJYRvwAlaISEccoRayJ+yryURBUL4S/E3sOSG+RH8SE6mnimkiPuMXO5vIBEXj1hE/GTMOEXsqeBE6CVFojL8vIFs7lxbds3yhO/8EBAnmbuK1erwELrcgk0K9F1fSk8LeotWo1KhJGAhKoP/ZnImt39UirWrQ7Z+gHYLMTCr11YfvuO2D8hl7tm9QTW+EkjEREDOtfcFe9EM0ech9Xp4VFURIyltn5PDwJlNUNWSvKlBrmlJSfjAav3159x2+IDX+rTYuZLZWSmZQ06tmWPz0y37Fia8xXezcgOSMkY/kP6qpztvkHeiPjlfPVPWDU8iXbi2Kt5g4KDxiYHn3/vVHD2OM/M486+LJusFF/jJ4vBHSqVd+1fbXMhULrIahTHSGGr1ixiYyV7qydkJAQn/VfIPdOhL80qie0SzXpnPS8azepG/AiHqAaMaN9Zv+7868t9oeB0B/eUILrjtyDyYQc1BYkwDh1G/BhhLP5B9VMSIekEh5SsrZTUzvhdDBtnbcMafuo+QJOpFe4QNJbyL31VmnWuJquUdo2fhEX+JUDCo0laX0pu6iwPcSpmJ1gOTkWRcDiYlxKJQPlfhQZh4haFI8gKh7d9lsDOKIeD/VIiApsfmTr0492d03epn6imu8ZPgyF31dJXX84lHFQG+haPOs2CqHN5wdA0P1+H4R42bPS9Fl+bku/R9asC7gqJM4u+ELzy8q/sqnf7VHLa0atC+oYLUDnE2IXf1wYd3Hvt4gEhcWdQ9t7vL9PmjsQF9w+YQxNnxq43r7oQv/fzjEvpq9YlJ2efXY+V604EJ9i8lE3ED4yjK2S1INaEWCMQyWzcoJLp75fSyEJ1Aig+7mDXNL6UssZPyc9lJ56jTvv2FRd9cnCVlbJdPSFjYaxz/vk3v6O1Uja+lFhS5MWRBCf9kkK+qLyrl1kp5R7hd68GCZHzRpfRDPgRnWCNFD4MPYYs0oIkm4gfIVElBg9GCIOYrHwp625dysZZ4JBqaPUTknR9KVpPhC5BpEztF8vEOOOEm8ITdp6QpJDWHCnUgQtGpm9fZVOCel5K5129BIp18WykIRdIwsf4Yq2RRM19KYS5LT6tKFVp1SpUaIV1eXgYpsUc2io9vZX5vR43JkArsA625Rd4RGao8N7goROKWyGUhztmHFh8vNLfa0WqU+z19x7ri//PNNf7fHrx7+NH/y2dL0h3QqkkXwoyUxJ6qKqQIis5ZMvbARNyX1qgT+3FelevAiwfERxyEnxfjGDwwxMuyUF0aY2fdI/9koS43DgpLE6h6+wyfq19KYidblsndpnfUt+38aU0cMjJiDNiHIPICmfKJuLH80s4kKkvtqFw5hlVwkFIK9O2VCoOASgqJa7xk+DVv4AkYALlB/wm7B3atOZdvSoohp5IEChBM3h2xnKxiJ/1M9FV8Jw/XCALxT5ARJyLyGB41Q9w5mv81PA6xyIznIkK1LAYbpaTIn4defcvvatXjYEXhzYHETQVRyogOwVbHCt+YaXIl7JJFKnA5kG2f7BYucsemllsSafIONas0w2eh2UUikND8Radq8KdOXjtG1CwXE5aqVBh9zqKJ1kl8kNsLiIPOVaUdbZ7353TsCAFf509R4jbL61wKKcSlHgFXubOt7xYeMLyZVQteBuOEzwSjOjlpF6QRL6UfMOZA3jfml29xqARt8MDnIlzBFSnwEpZs04lFZ0nNTfIBtcOzgDPL6mUxURWyiALs6XlC3z1hG41qWlrj6v5Wz/Hz5o8NF5TBnZOTZknWCnt+6WMMCDilnDhdzbe1SupVFLWu3otibGjApEPIU6SKMkUm7rEZ6Jjh2GoEEp7BkPNWPAAK2Wi549hI6EZ57hFz23GAS5QyJ2e4ULjObqDIxMpGF0IDf33xGNHp19DGJDAkJ22LCoq6eAIVqrfLMSWaC+v8oU1i3RqP3WqmiCrVPKIIRWqlgSgRtWp6pDPxc0dtKuX3dKQVxgRj5BFIdDJf8TOrrTgir0FMRE2TI28hGNEi15dXpd3BuPjdvlXKCG/1e0K/rMVlXoF24et7rNTMKTlyfoM+wLXRcKRhF52fLdWXy57PUx61yD6uN6ilaq9dIgWtx6A5lon/12qJyQ1X46VPsp9cakqXZEOWUtgNHCVXUy4o7wMR+jxOeJvziWUEhmJmCp/1Qq1lDd3VG/0j1ru6rssv8SN1Q2GRLoG3P6f9/Nh7ZyvGpJbP3SEX7FRAtvLyMty4dtkxqt0sHtwuBSVsM1tg1C84CX8FLVo9qwXX2R/ypd4gV/W+X7xxY8kK5W8qC/gSgKQSBCuF2d/NJVZKR+hXVwCrtDH0Re/LX3PXnSCvbLNInjFf55A+NTIHR+/OKvC51Pbkkp5CePjRlDJraHp3N7/rNkblteAvJmVWpvAadlkBrwWg9XZrBd3resoeGHHtvmvrzLhOSCpg53MBHW9jaM+J2gjwLNm/2ON6qFjCzdooBnj1l+EXpMUKyX0+Beve819hydW2GZVffWvvNGbhKR33rXBZpXdPurZO/UHfvYavuPrZKreG7FySuGMCWTpDCUvYXTI8ldcSVHjeV8/JsgF+NR+JuLUS5gessYw8TXrnmfv3oA5j4/6yCj4mrio6pzz70LWGgX+5ZW1ITXY8MAk1A8yTFsmt9abWSmTcGLdR8aZ8BvNrdQzcXEyRmcP1ixf92dxBOMldAwZ97OzgEq+kJaoOEom4Q0X6l5BREdr1vW3oIOjMUdS+DrXJfpKXJTBpk9E7Sd624epFd6XQ86YoWQWqkfXb9HNJr0mXZEP6AI7wddrr7WY8toYUgqzUKWwfosWdE3OYAPKbkm3X+v2WovXYjsQMBYidp7ymnxXgnP8+9qUFo2asz3B6N0iY19DYrRlNPIBxyOf0gERbxTpQ2vAMK1zgkrOoQkF+6NTex8qd/0pXYl17EcbzWjr5hWZ4vcAZZUJWFrUJSwm80/16abVfcaAzIV8QLnAJYBZnyCYfabHtmhBt1UINLlt8XZ7rX6hD5M9aUTnFvX7q3mlY5skYRRvtOgG8lR5TAtqQIQ2EE5e4Ihje1MHR8i8CmN5fSjwMm1eRtyQqbEDdpkytZhSfzpninA9goSBCDlXtJXXsFIJ/8SyXeNpTBIfupqFr6sTAiNIxlQHMBeAKckIIGdzTHVx6GIWWoGuQQRjqkMf2cjYTAuWjaYxjZl9hRvkYxRUlX9MOc4BK4DqujOHY6qDBQKn4htNEFc52c02W5yUgEZOJAExoVvS3DLIDWDBTxXIkpJZKKdXmSUS4FjGJHlxNCJrj+SHaRT6T4PI0LywZR+tjIdFqMugP+nc3mUSAUtEjwtFC6YGVJBZ6FAJnrDale4yovbARI4kbWCkCRMd4FdLW8qsFEM+ouzogUQwVnap4JwPKSd+pUOZJ84uwcKVMYGokkfKq7pEYAqoKgP4JSakbwoxKYgYhCqz9hD5CIy+8AP2MROjwGrzyrTlAxGOQwPehCPlpnIk4ZGugFuRDFiVyVMrwQkxL2XUP7KTgcFKvChorXCItBUK1tgkDFaFky4/iV8zhRJdSFIRzK7ASsCoVhfSE4WWiLvEuVTYUiGRgEspPDQ2iR1DvzJ5ICiVEIgqQjRyozfEhU1mBY+MsOygTAJlEiiTQJkEyiRQJoEyCZRJoEwCZRIok0CZBMokUCaBMgmUSaBMAmUSKJNAmQTKJFAmgTIJlEmgTAJlEiiTQJkEyiRQJoEyCZRJ4I8lAVp85noCdCnASwWMdWGloU3grpdbhCw9C6XgobQFKCXzivAeEaJHhEbh6wkd0b5h16uVoE0ugz9Z2qUqOK+t0hUfSg3puVzvpZMeyJaq7lRsl1IKEiZC4+wb0ySYP+YvKZSrSoVNx66CQhgg7Lo6EnwpaDPw0lcIY8HVLqV00nO91nixxWp3lXlFdgwRlUW55MqRyI8roH8oGOzDLjzRf7q0kcAgb2Zh2okT0f3Zdj2DoMiOnUCR/U8U8o2GhsHNQt1o0O5BOz5cSV4d+p+IZhssXYFmMNii2g5I2D5D40iwG69d/+gWvV2UvUno2j+6/3euFh9UfZr379+xiovklfLCuES2iG4R6WI9SIjQGqajNSSVmh8J4ZP6NQnTQtzcarvYw5iEQjek3uKWaoOFMJnHxLm5BfHNqwZhae/UdG/QbuEabXQltQE92jVokVmTMNSTFd+l1oTNeOGA7udiG/ISIgFd6HIBQD7NzS2cPYzAsPDVAEAUH+wWHFdK5cTjyOLd3LzHu1wgNU9P7BijFi/z+CBUK7alGNcqM4AKIUy33hb2VFlD5WC0u8Ydc0upDiYMEyfOI/1Au79gnDbGKCZzkm+wmzeer2CctlhOYmEolMJvumsFMJkbh7t5u2WBFxeKT+VH8QtNLhUAFBl5t/CurjCvqmkmynhw4luOMKnuGDokYY6BSvktobbkMhpDNB9TZrPwMqkUw26wICw7VIqslImGcYYSy94WQkxx2dRPJ5U64QJtxmjjfugTR4tsG2SeEADELHQllerN8Bn7YgSfiUMBsowByrnNZKWCC43KncHz4kKj3eLa0oVStuFyvqRSVRgmht/gl0ierJTfeJcKZJDg48qOwWtSUtLXHaBSvuVwlMSeEOY0NbOpXPXGjfuTSkV6VU+SHm7qLLxPUlL1r8ejUoPafl09KcmgQ2V+JimpSg1v1GQ3E6BNzlLl+bwaJ1V/pi4qMLiDD6BdGrHggQxJ1auMT0YraEfSM1QAdO2AKdc5HAWY2rhxUpKPoUZtpuInPVMDoj9BtI3KHm4UpF9uDJhPHv81EBgjrxI2a0PlupKVimsLpgxJQcYDLBDm19Q/ebds5WqNyOie4IHXT9HR0TXqeUOwhYWF0cbcbLMwpkZ0YSGcITe32ObRJyINSdNsHg/azWP90CKBJfrEy0bcbDhCHU8U1vAl2vHtoqON+bTw66nc/eFDusW2iy488ZMR2mJ9ITLRHCx0IyS1qQA9jPSuaEORYJuxEB4N0aNv5pbDmeZgFp6JPAGpkTMYj98T0w2OuOADnigEWTDvF1sDwlhihHk1i2YT6rGwBUkhqD8vh/q2k8dmYSjVSAu0Brf6VCOjXagRJ2k9zmxol/Fufn5+3ihHsDd+vdsZKQgezuft7edNRsoN0MHJQ41Am4SsYIk2fv3cThhoUiA0zY9oirS9QwxFGbyE5kSb6o8493N7y4VO2iT8FMKAJST1jXQpcMXjCJpKQLy4ZYUaaNQm4eVkCZrx4JtkRPY0zjvhBqqs8hiCegbNvNQu0TVkARNDxMoRa0QKEhYEJAqJH6VGYuFeynf/dw4wcmEmhloWT3jAqvPs84CTBApDZ8jOmIR6CigdtdB9erwddtCmmPglFH4tjXFOIyZVmupCOzAJHahrVpKhxmQyV8cgR5X4w+PtFNf6skn4LkgFC1NlLGiKYWd/DTzCU9Y0nDuHSk3VYMpyQZT07FQWOFYwZRkx2s6x+t/IxawU6+jFoni34w8EdY44rJQKONgtnD3p2TlYioBnBavA4RMYGbvwyL9SA7BSBtoErBSG/nIKduNPbneWdZ6PrJSMAqbGzZhKCVAphQfEKIz4sehRKHYvpWC3eGNWCsG+ExIw/Qa7veWiTYBKabtGQ1KQJU4qpUiDhImFHfLd/50DeAPkVUoJEeXmxhrmdAmU1YphlVLRdgsO7m8yOV+tNPBTwIPdjKpUDQUYDSrYNZWClVJLz+jAr1Qq9Z2nmnawQZXCyO+Equ6AaqqLDZiplEoKwS5bKXUHy1TK+dbwx1E5mqFTC9bNzagvpYH27GpEIWGlNNA8Fu6scKBS3mpw7x5G5gfRJyqtgNBMdWHkbhJGa8aebrHG7Ez1ZHUBjEIPTdFAG1Ups3BCA+9Wz0XXBaFDbT3GuuCW0sAvWstPlpG25Gyr+W/k8+rRrmNk5AkMYMIjIzt27GhodQ4esx7ZLjKyHrXObtM7tutgaBRtFr5r17FjZCEGMCHtQLu5oTVN6A2mt+s4vb43aPfr3bFdZGMDzj2ydiba7eDNBPef3jGyhqFgnVgxGDYTC4VBCHFMgfTafWdk+I9nzP8E2bdLgYWIJ+iXjRXgmQ4QfWQsil8vsmNk8w5GRs0oAObTSAIdwXxKIaRPzLvW4Fg9RrZLhq1PRj22m2ZgrKFQRMSvOcpRA60hOJpq5H96ckoQOqPHq6cUz+BRO1KplqglZ191pcGPmKOb59fskqE6ZZnNHWj0lDQBqwAAIABJREFUF23SYHTmhD8r3acftGG8M/nt5zGPgV4iOIJkiH8pN428Y+2jL+FOB4i+Hc9jjLpI3oTwVFxjhsAgvMwYt24mX4zbanNErmICdBXMivhNKxU/MmNP6sDLy8vHiy1IwpGXl8kYH2aC4QuSvFp5GX38u4lod0alplTHgQu0fUx8QZJrtL28kjCt492SoA2WW5QSiu/jxRckuVAAgYSXxFZP0JFBFkj0rbzYGj+ibVT2CA8R0ST4c+Fd6cggeXU7MYGBJLZ6ojGOXEXEWgNfkOR6jajZeoLHJmE8Bn61Ta5FWMx8EIw1fq4UAXOu4cGlWDYb6Y1uuptrw24EZ2im+CcjTphNGTFlCpfIe7qrwqM27TZVMlk26B1fMAkdUYBo14oP1Bi6gvlwQy6wLkcszoVIvqHRty0mk0CLqI25xbZY/gBX0Co8vYPhnppdYcZkaYepQm8XGyYWYPh6e4e7uMaPZoa8Q4KjXVMKNKh63n4hhuIaNhJCnxCP8ndwrVljEUR8cAjW+LkketCc7u0XXMO14qMoFJ7yDo5/FCvRn/ENDgn2NeRM28gS/CT18/YO+s7lAtmifDJXEAaNLCwc7WK1moW2hTVqtKvumkJi/PFTYWFv/gYrw8VHFXQEcUNxDRURszC+sHC60dVxKgQ4hFL0LqzR3MU+Ad1Yh8J20a7LfkxhjUL27lUtV86emU0dIH2jXqAOdrPwU2Hzwg4utiEFoakH+JHeh6pc/t87onG5q0NgzMMD2sdlcDakd62TpqZAboCr0AjdErTr4FTTZrMPHAhXcZjM3BFyER77IUpTfMiPxF9qRYAUWDWWVpZiff7vKZAtx65s11GwoKt1YVZHhi/V9mpG2sX2CA6gTqXUKMJhZIpaLrZ4AOEhWV91+hySN7kODTIkAaepOcpYak44cuLn0TDkiNn/wr3S1CrGbqUCJ61wvYggXQro0nEucl06FkrZFEtVfBSgtCop1xxJoRQ1IeF5ZPxICB/zLxXZ4OtINVLiszmPmUk1eg119Q0njukVmaqE93K6nLSYDKApVSNzaZpPZg6zhOoSGy6+DUCpygK21BqnPpY5dvbAhjNnAR9DPtZA1XJ2goZ6XGB2oTB48ypPVi3cCdKURa5H+cBJQHrHrtIm8c5eg+VmxEVa4ht/naWsyofCS4xrGrgqi4ND8C9LD4gc5NS5BaZVEKg6gxKg/DJ5KoYLAtSwhcJIKJQjTQ4nT9TlchLkcWUTXUhyyQ0lqWbIFTaeTCI4918Nw/NaxeDQMCQATKIoXePcS2Td4hJtmV+xBK4hMYnv7w6V0Rk5UNqwK9RBU6p6qJQRunbymrgoSo1MqtbHpShO48U8WoeWP7X8yWDq0FnqFbymdfippVH4lnzVIGZARrsA3GEaqwXsOOnawUm+JQaJ085iHXqNR8mNJMipZYcePLyOlYwGoSVKoNnyp/Ffk33BVIMxDjiOJVWYecWSRGdqTkMBBXjZJKoEIv0OJKABk3jHb8ufekjPD8A8y8uiEOTc8oEKhEFpz8Uz8N+hs2hpzebvJInKSOQDXWjVxZY/ja6raLrTrf+xZMTTwcLfed5oeif8BallNe7naxw+PBpjBsS6hSVxRkk///w7cfUl4t3iDNMG62yGwyS09TXO+Tvb4/iuRpPQ3AW5SYXdHreEtqCFCs3jpUvO/9aOYwsb0KCnGGfhHV95m4VJ6BFvXALP144fKs5gm4S6sbWd51s35zsNCgUTDf2wYPitBoZrU8EZ1+2PolJmIavB6x/8yWB6/fn4tkyuaJhB7xuGf71Bbbb/20voGPS6QdJ/+tPrC99hM/tQyfiFxmlv5+sCaMHVz0ahP3j952Q0AdYCYl2Qm1TWD0I60loAk3DCeAH+9CcsxwUwTHzcdsPSe/3956U5U6xwCXJBAn8KkdbEmCzjY6USufr7+sL+/MHCJuzSc0UYEuHtcVQtLFnoSXnSyX//1yzUf79P65eMpTp9Xl9YV1Spusmf9JlvDPylPj/zzapQqQYg/hdD4HX6fPIBI24WQn3/1McQLDKDdaaQJuGNuIp96hgDr9P6pYU1mH9uFrot5HID9wb//tL6pQaRtPrRJLR707DwWrdO/snMVKpx7df7GBVe62Y/yyoltFvY1HDVt+6T3EFcGoReCQyUKtXp8+a/EG9B0AMq9Y7xliQT7/PB9mKuPZgQRARb9pgNqZTlUaiiWYhd2KdZxUpGUsVmrf80VVapoE9eMgpf5/16bHLey9wxuY8Ryshbsdn8N/tz4kJo/J/6NDMG3+ylP/XjKmX5LvmzOkY5b9rseagUqsksvAa5GaMt525aqQGzUhbhX68bFV6zpk15m8ZixO0fzDfIQrP5n7wvq5Sl4/bPuhhEULFpHZVKLTHMgCwDdoCW9Hohj2BiGdnzb7Y2WB8ytopdft4eyrQHA+rikZ33mIw820FSO1SsFCKQLrnwCytFKmVIpypWav2nd2SV8jQoiIqVnv3L+7KVCm9tjHalipXqvPmzpFK+PxvtDiq9JLJuEqBS841VYcVKXaBScAJJpWClDLIuNoCKlSSVMkGlDJWfqkmlUr5/ekluVE4dQHgqlRLaPf9Zl4oohIFPsy7zVSo1/qPFTtG1l4lUiqwUEyhUymB9SGgrVnquzs++0pLQXQ/XpV2csccF5TD/3nUPY8YFRVJAzBauUpCs80mrUmSljKRKz86XrJTQrkGfmpWMACOvYqWKyUoZgyaVUqwUqtBYIpXiVspMVsoYsJRbVimL0O51dMyGUqUuTT1FX6pxbaiUIWCYeJVKWUilDCKo2FStUrBSGDeUIlViKkXNUbJSLiEjleJWyiTMmug2Njzj2JYJ0Cl5Do+mv6AsdM5/TEyNTXQG2ixZTJaHcV8UmxTlcO2IWSmjxdCqFKzUc0YwVHq2jmKlkls3NQKLvDZWyhC8tZV61hg0VOpfvBbISsHGGQLnmWFoxIGfaKUM4agkjbzYwA9Wyhg0rJS0yB6eHLdSRjBU0qoUWSkj4NZ5yUqx1s1VymDnLGNjVor5UubEBcGXvmh8aN7wfbQkjo3kMD+NA1IoCxvYsQpk2sXViQ/3ENRI3Dz2CxYicE2XRKhHYaUMdrSVamqslOFmWVorpfKljHbyFRUrJUx5QlZKGfiVYwM/uV05c2BlpeBLGdQIrUq98SisFLP6j8hKWcwJ+ZmfFpsSZwZvSTeZfP7euBVZoOL3Gv/Zp0ors0+5dJ+k/zMVv5f05wnFJrPP35P+jKn74iqt3mvcuFW6udbEzEehUuRLOVMZ6jywUkp4gnwpg1bqL/LAD+EJNWJnjktvpcbQZlvJl3KGpJzHypdyzUppfSmjo0e1L1X7gzIrxepGsVLph09/dRXv+Jg7aMsEc+KqgO3HJ5D5ub7u6IjofcKiEze2Re3d8+9x8cv2mU2Wbevwm16cuLR3z6js1esTl87zW53OjWYp7FRprZSlradhX0pjpVobtVLNXpIjfi76Uiy4YWIRP4N99B/BSsGXYhNDGPgZt1KVrH2pOgYloLVS4/+AVmrisSuwTImd/zYh8WGGn1/m2fVC4oqMYyGpmVuEBRlpQSGZy/JDMo5NOiAsmnfM03v48fSqE0OCgryPbUmceMytaAI3mqVRqSdhpdS+1JOwUjRedtVKLZQifo8gPMF8KcNtWoxiQ6Vcs1L/FBsN86UMe7J/aF/KYjH5XM/ILLq5Ph0LQPNyvpqx6HTmD8JceFavImIBlcq8Oy3fbf+MXVA888zsGZ2XzvvqgH/+sbttr+d8dWDD6WPwwEqhTQzUCSv1nE2lq8ITlrqen7juS9G8lMZKMVI29OSBFztw5Es9q8Dq+80IT6h8qflKdoJEUJYoKBe1hHFG81IsOmsuyZdygEQOT7CIn52MqpJouFAP/LRWiiOib9sak1A440tRTN2uDLRWqgRfSqwCOyUkniji58CXUopklyFWMjHiRzPG5r4zM9zSlq3+QkhccOyKIJzJOJ9+MniLD/wkUqn7631mZl4R0k96b0m8sFqwJM7J/OHOxIPrhYSJw/eZj2ReLebTW6XQK92IX6Vn6SNVAyaS5EN+8Ah9qQata1ohF0nYa1KOI36a2rPhG6itI34ycQ1kResSi9lsfCkZXOdAi1GVQVYpR1ZKak3WhVCrlNZKqXLWtK0zTp/mpRxG/PQ7IoV5rUot0Y34MZ1UQBwdOYz4AQ9vBWLJ7AqUz0uxiB/M1MilazPcQs5fTdiceXd8j6UZ9/dAbUKhYFAp7y0TEmcO/1RIPJS55fDpveN/Gr8CA77T+/dYEpApceJjivhJE2hin63TP6itlK0vValSs0rNWNKXgSriR1ZK1aUiP4gSKH3p18yzjnypZ0XSANeHZiqlzEvV0XCoMA5o/aSa6tWN+HEUxIUd+oRWVikdK8UKwL8YBzaM0LyUri9FrU+UOxOeTr0hgyNfihDIGOzolpVK6ftSKDtJgNWjTQE0gnVspTQMOZQon5fC8luEyS3Ff1+6NufYlSET3UL8QjLcvqp+ZPinoT4n/Uilrkzw+R4qZTnjveXbeX4hISF+bpcSJxZNMNeCShU/GpWy8qUqVaxZZ36d+ZT+Mr9OUxKIbY/twEpBJeq0lpJ+hFYzLxWumZeqVOnZlyTg1nbslIOIX6WKJdG2b6XQmmr+Rab9nH4Mk6yUZl5K0z5IWWQMWm3V5JNVytZKqRDYmURVz0uprRSpcImiZ6sn7PpSGgR2+NeqFFs9oSkbP6mkSBJtwIFWObRShEstEPuIxIgf5p/MA96+GmqxwKO633li5rLYrNis1RjTkV3y3mJmKkVWqhhnefO212+UFfvC3Vqn7zOV2vd4rFSl5/7z5r/elNJnKhOikpzaSln5UpVqnnvzgz999Cda3H77E6aSKkB2qLJStHpCLShAv/4BQAn+djNdaAerJyrVbPobh/7TB0Rbryrt+lKovM9+++AjsI1/u7Qdz0vVbPrjB+Ccfd60wz1rJtIaP0vH11uruQSCj0T4D97UX1aiHvipfCn0P8+Kov8TMfCJflPW+lK0xk9FvlLFLm+K8gMCyE91T6pErUrpr56oVLPLb7wU4ES/DcjoHPtSFZlA2H6BDz54UFO/NZJExdUTWPZ6PefKhGIfiqW3nTj8QDocNXOtzQhRJMKhEhb44SapFLNSg45zj8k/H3G+x2ilmp5bmNwgOQ6fBsnZG5vqlsKRlap57vuQlKAg/GWMva1pL7IYscZPXDYrdNSsnoCh+DGfQAEfkv1AFTyQYEl81mv85Huoyu+DUgg8JSNtYx21rip5aEGS7rxUpcU/5hPnSKBdR4ZQH6h9KZ2IX6X5r4N+CvGQ+f5ifZUAOrtWChb+t1RwDwxBmUe/UTd3mQu1SqmtFNBC9CQ84mD4bf1lDQ59KcjvmicTf0rI2Nv6VlKrUvpWCoyszfAkMaSEDN+4+D8y77YHJVmpSi+tgEDAU0pQyNFvgElHy0mitMYPvhSWtB/KuLQe81JbB31VHUM5c/rvHWYkrkCcInHzMW6l4EsdYFYq9/RdoZVlV+8v/E/zgd/jslIVz0128wuhtzn6eY/d+JLuAEhtpax9KVKp8O3bfX19t2/fuFhPAg6sVEVq1vHbfQG+vYg6WtvkwJdCVR4JSiNYot1Fr5NVDfys5qWeawbaYxsQ9PYGFx/o0q5YwrxUpS6/ZTD6Udvjby+2U/0qlbLxpWqe+9UznFgAgst2ujN7vhRZqe9DiDzAszfa6Y8c+lI1519LAXn2ed0OAm0QXd+XanruFNoAY2S7PUnymnXsS0GCi1ekjkWDQJkaXK5pp1K4StEaPyw/P3w68/ie0MSTfpcmnAxGfO96xvkJc3MmfTFiHoUnYKUssFJmy5mMLa1OFa0Xfp+TeSUx/+gebqU2Z37h2jO31QFC64hfpabnBrllL2Tp+YUbm+q2C2srVUlRPOoqjxU94CPHz3RnPTS+lHb1RKU6aNaXxWHnN/pDJ4dW6khIkQj9SVPdUCJF/Hh4QlyJList0c48+gkHr6nLOa1El+el2Bo/GZodVJq/02+7WPZP9DFQPrtWCir7W85FqQBa3NKZPV8KaEmlJNHbIU9Wyr4vBSslS9/OgM05KzX/VIhcDN1qkEpTgpWqVPGlFTkHN3KJ2CkSoZKslGAJTbyecWxZjVN+GN29ONFt2SsZmcfT78wJPpjqnQkrFXxlQiKFJxIPYRj4q19Rx1PBX30axqwURofFm489htUTlSqea3Bs42JeZDsNS725g+alNIsdUa9+F7/p0pSS/tBHa6W0qyfm/7jO7/ZiDo0xp26Ewv68FKxU5kUR2k6LduBLLf7xNIaqz3HOEYbWs5E0L8VWXerOS9U895vf/m+6PMvKLrUa219ZpXSs1G9B77cWi28LSFfUAz+VL0W3as7/3huipxJ00e+OrFeia30puKnXIAFOvumz+r2pk1bK75LYBvQ7ZWKXUglWqiKp1KRP5lOButipUYZGXokumBOvx4WEZE7ah8cQbMj3C0m7MiE99PeZQfHfY17quifWJ62YdMAsnEndEtr9AgJ+yDjkFKxU4oqD+4QdOfv3lNpM2VipmucGQaW4WGkzjW28jwRhd40fs1IXvznXjCa2dDWC7ZdSfCnN6olKTTHwu/0NjB4ij/jHx4a+Qyv1PZo0RE/aoN872p2Xqki+1NjLLwH4WUazUk0d2iyITvPrbL+U9b6MSvN/Cy5i3Ou69lT5lGSVso74IT6wIvkiOhkOrqfTGpWy9aXQm5HDAbnpB9pK9KXGXqYBK9G3EbzIu3pzhz1fiqzUN3x3I5WXQep+lWilMPA7+GC+KBH9MhEF0Zdi+zTe2/X2l7v/hmFgaOLID+/d2GMu/vuY6l2rn8R6ie631puLkzpPEITfuyYJlpEf1rj5hVdxcd3qgqV4ZNc9pvfevUl7QkqXbFZP/Odc6rHbi5tZtxaNQKx8Kc3qCdFK1aSeWje2gQGKvBLdZvXESxh83V78XEUCJlHZ1oYDX6oirFQIrBRB6ysUMP5FGvhZ+VIV/wOVyoSVqtn0OaKtrxSOI37NuvzmXfQNo//sczq8i0KUVUrPSiW/j2kFsMDKr5E6P7E7L1WxJo250ZKp+DAxuvQdzkuJVuo5MnNg31b2VCNOWqmQSzUZI2SkdBGJpSkh4lexNawUVAocOTJ3UsQPukA7Onz+nm4OJZ2y+PxfqDm0+FD2PoGWSaSnY9ZKeha0Od1s8fl7K0sxPW4qlN0QBJ//Y8+WKZVO2Vgp+FJQKRIeE4VtT023SrRSVCN2KgVWQLXGz2r1BIUnbqOj5dC6deHQSh0J2f+NRFsf2npXL69aKhTz416qKO8cl+8oB+p5KduI37PwpaBSFflWYZKgfpJVysZK1ZwPK/USL70daMe+FFkpkbwuvBO+FOqeicAe705bKV4P9sVABJywUjkI/fI60R+KEhrFSpEyQJtMoWx4TmplDk2/7jfpi0U5ww+EhuI5L2bcY5nw7BJMDCML8mAXItPBUi/wAzYdKwVfSnzGSBdRr4hrdVJbKR1fKiT7/Z9/fh8f/WiPlZXSmDLypS7+zKBvf2bHH7DvSyHSFJTNoX9+YHReCtHG02Pf+YD4ft/OjFpJET9EF/zEsr//pp25UshRVimLzbzUud+St4MF4gETGGqZS8eOfSmQZwVgotdRKofzUhWbdvk55CKrufd/flM/vOa0lZLagJ0wh1gcJ3yp1OG8RO9vLHleCg0aCkLNmg0BKQIIxTH3PeI2NmPsXSwyp2flik+3xTYqbPsQR3k44VDSBULkYrKxUvCl3C5itpDSAzsLMK2tlFXELySNzUlgcqTkeSmr1RPkS7FpCDYvpbsPy6GV+j4jxRPTISlBBzdSf2CbWMTP0bwUQWNe6iU9YOtnT1iPjjEvlcFnUVIwL2VLXGpHml29KkLwpX7LoUkYFGDsRf0ovFqlbH2poLFBmFmieSkUQIVZ4sWxL/Vcl2tgnwQYlAYEOvBWAz97vhRF84EGvJRuXooF0dlMG+bb7AiEiqZYKXrAtEoVmPqEhu76a43CfdbbNpgWyXm5UrGnX8nXXDuwsVJdfmzgFhKExU+Ihhy10y+orZTOvJRf9sLn6bPsgW5PrbJS1qsnKr7047qQ7QvfAfQ7Fw3PS5EvFXSQ0164sY7G/EltCg93Uq1EV/PHwhPbFxLphS7OSyHiF3JwIWP/eTtzrawBSCpl40tVxMAPMxgkvdq39YXv2JcKIdFDfO9sVBdNKjzanqN5KYQMrwWJdbfwX3YQOOVLITwh4nkeowWQVTjQHpVopeBLjX2eVcrzdgTCJCpH/KBS/OnWWJskmiNRx4rZeM9GS9QKaHPTpQs2VqoppnphKChR1EYrAfHM2kqprIl2XkofWu1LaVZPMH8mRJyX+qRmTd0Yg0MrhXkpcV6omS6waqpXd17qIp+X+sTO9EHJ81Leqnkp/ZiZauBn40tVnI95KXFq7BM7BVA9e8LWSpVY/JLnpUTyn9kj74wvhane/W9yRFQPug45axtO+FKp8ryUfnsgPGorhedi8qTolFAcike564/ppLGfGQfKQNAlXRKBrK1UpefONcDADw4J0gN7MTvloWPW+6VIpaR5KaoUnf7JkZWazyJ+FN+piSA2k7rNl31fitFe3IWijfbEr0z1UsRPvUKAWSkW8SNoO7Qdz0uRL4V5qaYs3EmTAPpJ8aXoCUmaXOcwLzWfTY3ZLYDy7AnrXb2Yl3JDLygWX4NXYkTrS7WzmpdqOn9t8mVMAqEA6M90ETjnS7EgOhMDiqE7gBQZKtFKvbQi+SDNS1Gd6Cs5YVIifpJlQvPWvJWERnnakZ6sNXLUnA5U8HIGgwc6VormpebPf6nOfLveQElWilk3TEtJFan9pef42ZmXqsjmpUD32WefhU7pNkrHVspvP+ParvgdzEvR6onL2plnLeOoOtW8lG3ED8MqmpcCEJHXbZEMoaxSNlaqJpuXYnPcdoRX8rwUghrUHek3ZMe+FJvqJfk9a7cAWpWy60udoiA65hafJUHoenVctCVaKUz1Zj8ASzXtzDNyNLKVws6OpOo84emYig5hbXp1nUf0WTBnVZ09nQxwSen0X3qdsrZSFfm8FOfU3ndJvtRFMZCt3660Vkrbhtnc0GIp/Iq2YcOCw3mpLpiXAm0WhWZ1aQMOlXLgS2FOjBqA+G8DXFLEr+a5nWSl1E3oWdsSqCJ+1lYKzljy+y+RE8hwiLAaFPZ9KbiSNNP9H8rOQbg3qQZ36Es9V3Hx92Mvy/OqHE4NTYid9aUu0noyLklJjlao6HKJVmoxzUtR8FEBZiJVThkayZfCE5J2NoqllHUXKiQ7SiZhVzc8wIUusKeNiTcsWGux9wCsULH59xVn1yesOYsYhgqM2yfyzwwkO1ZKkgLjlzo8zXDY2kpZRfzYfCPDgP1PYvNWIdTMS2nX+FWEpcC8FDJLnbRtb+vISlGbol6WJeKa/qVzftHhSnS2eoLnAwM6tGGlHOyXgpWieSmOgLTCFgPds2+lmC/F9jkT1wROJdAk+/NSz0Gl0KOw3DI4CVKFouR5KTYnSTg4dcCqewgrlXJgpVR+uF4xxDI5YaWweuIlMbfEEnGkKhRYlFZPmM2HTx9LS0YK2bIHIXR4R5j9RRJWjd1iCjWRSlngNtEBboam/74ZK/5M5lDLv09Punp40KQ9eBYZ3WdBeOTCH52y/ATjRNKxUg3Y6glsyeRbY22bJU31qh7gbLPGDyr1H76nk6xMU+uOWmWlbFZPcF+KtoQiUb1iLYMoT/nHgS/FrBRmKhnrgMaUu1VSBn7WvhRWT5yGleLlZrSxiEFTcUDlePUEVqL7bUfZKfE93k2pq7ZiQVEpm3kpivhdfImgSfZszYD19Jo6iK6zxq9IEj2Hhr3XUNf6Ulb7pZ7DvBQWJDHu7ZNXhyf090vhibSn2Jwz29tLdchWY2gYEU9KtFIvrQjKftCFWEKTwPYpJPxaT/rKvhRUatDwex16954+fQaWHUEzoFD4ChVWhWxJJy2ibYp0FU/KpBu/Y3tiOsUCscHqwJ2VsFJ0C/e4rUIWlo1Mmz1fDFg0ycZK8TV+bFvv/Pk0hqnEBsQaeVhbKeuI38Vv5nepU6fOfBY//QwxH029anwpq9UT8KXQrBl0FxrA1az0GVwqTXJkpaBS+zk0bUiu9CxrmFpo+yvRaY0faIPxOow2bTu3Zp35UhA5ArP6K9G9938zn1CwslesxAqvKT24sWulaCV60M99iAPwwLe9Q4U08GqV0on4iaKn4jf7DMW3mkpw7Es9N/97LJtlEqiD9T+sITPyCgfagZ8DK3VJrIfnOB4og5V2s2op0UqxgV8fak11qDESSzqYZCtlshwe9NV6Mcjg84wZHpRgea9643RhVeYVS/UkbEk0F/skVf9zOimJz8g9tWClzCaf6n/+N1SquIqX0Opr4b2kpFaU7+/V/yzgeZqAT8I31bpTycZKYb/Usds1P+OJ5jKxU/W2VXetslL0HD+dNX7UU39GPV2XHy9cttphamWlNJaA+VI1WV3SswZqnvtoodV0hANfqlJTZqVk6Irn1i6zXsDhwJfC+kL00WiHSBSnmv/bwvettwE6tlK0Eh3LZgnFZ7BSlbr8uHCvVeGpIckqZTsvde7X5ItNSRfwv/i3cdhjU39jTY1O2felaI0f+VLEf7NKTZutAPT7D6AaikKUMC9F4YnLTRl8s2Z1flsOBLG0l1aNwHlfqiITJbY2fLRwYRaix9qOlWlUyb4U5qWyHzTllYIOByzFMoGoWCKJSr6UCQO/r66GemGIZ7JsiL35MOXo1Q0XPLOPp68ae3ll6sHV6wXz7zPjPIv24WmziStzsu/BSk0oXpqzP/L0pAO11qz2ub53ybXUg3uvConbJqcd3T3qbvqGU+FpR7+AKXPSpbKxUk3PpbqxiV762o92gcNZAAAgAElEQVRIwfzvM7KtWlZJViotOTw5PDz54Mb5zbDPNs1qJ6LGl9KuniBfyi+tAYEnT/qkTjMKAO5v1gXL2nkN0LcjK4UFSWPDU8NBOxurJ+r8Ns9mDYIy8LOZl4I6+2EzM6A9i7CjmDwTlEBFGbRV+6V0I35YPZFMRQ9P+3kxhQuCsIvTeo2FolI6Eb/fcogB/KddbL3Cs4FvgwbJlzXhQ/u+FOMY1In+wdutz+V7bo8PP6jdmF2SL/VKUHKDNJJ++O0+aMwgn3ZbowtOW6mxxAf+N0Ksydtph3gdHZ1ywkqlhogCufzNuWtB8UB1uaa1MyBbKYsJVuoq1iCZTek+hzIORoUcO3ohNTUYz+gLGZucGpJ5ZY/PQ7+xcRnDf0gX3s0Zm5acAV9q1aCU1OQM+FLz7t/ZnLk9NTUj86z5zDy/tJQ47/M+14LDU49duooxo1NGymqNHwwD7er1dvNm6RhUqua5fO8gq2UQaiuls8YvKNkzxZMWo9yeX/HchfDwi4tZFErSCpWVslk9Mf/HC2OT+V5vWi05/7fUOGxa536VBO/Alzr3vSdo02734bfrVOzyfWoDFoCTIEkhNSvRVQrzHM1LBSWD7SBPLEjqQpt8w8NvaywwTLbD/VLwpaBRnlT2kMutm9VE4eOsCk+sOLJSv6VS+bHLPOhSnxWeez9587fJYEZlJ9QDP1tfCuSpBCj+4nP52W9+AtdM0x1qfSnreannuvycDOmlYFHX2D/1+T7oNsgPWqbZCqpVKfu+lChJdClgZPsnb37keRHds6oi+GGJvtT8FakpokAu1myNceknXCBa9ZStlAW+1FdfvJfUOKlxevEZ78zV7+Ycm3RzxKljx0dkHDv/8lKsnf193aQZ4x9m7McD/bJnLJroNvzTxCNpM9497TbpQO68rxpvdpt0byhu/3PzsbMvP8xxO39n3iTcxdMrnB352Vipiude/5k9EIQeCoJdvXV+Td3eALqhFoe1lVJF/DB98ObrUvqkZp0fUxdewOJwtSw1vpR29QQ69t/+JEL/C1Dzvw9/f/LG+WiFCgK7Vgpe33O/SaRfx+KLcxeyv4edUQM7Wj3R9D8y9MZmTekxELHr0A7UvKvnpfR8qaY/StyDPjAMWobC24ZIpAVJ1laKRtlyAd5cvCJlY+um81EEvINKTmqV0vpSFWv+R4H+hFTqm8XnJk/C3jXFG3XsS6nJf9KakT93CvEWmTh1B+rwhL4vheG+qg2ga7q4eP6Pk4ukjWwqbCWvRFcJ5AGmsg8+aI02QRNVmiRbKbMJET/f2thYX3Qg/VDw/qth+dgmJVz33jIiA89KT5xz7IcNAZ9a2BMxw/LPpptWwUodnnd0gs9J70kHDufASh27km7pezp7Uc7+q+lD5ridH5mzJT3xehHigk66Uza+VKWK8+UHZ7VGY279fcjtUxfZXIlcCrWVslrjh5htF7ztsTX7NMXUZdrG78fC3siwqBVlv5SNlarYbDFBtsb7Ludj19S5/P1vTr5dR23kHPhSwFyHXlIK6NaLMXd/rsHR35Ivv6RSRxC3Oy8FDhe/hHd+gvj8+ZhZhKv+4NQyrSNTQsQPU7zsTZfEPhRpvk7hSQ4OrFTFpoSAFWDx4hWe2BLQGs1IZUwx9rTzHD8grtl08V9E8dWsCNl90/rcZK2Zdjgvhb6nJuRH1Fu/1HT+tbQHfVq3hkqprYtWpexYqYrPoQ0wSQIPKvFi6z5gBFZKUxVMFA73SyF7TQgEmPB5qQva4nCwdOqgtYOs+FIU8fNOo5HipBnCIe/z6XjI7Kfp5h0ZW0b4nZ/gZcHBovB7vaf3nnPsyqzTx33S+54e/uncjNXp6RvmMSv1z83DfxC8ak3M7ui9Jd3L54z3+TuDhq++MQEBC2eTtZWCWPERU7P/wGzkD/9mxUJtt2BtpVQRP2oxUqLwwqmD3/yWenmxpqPTrPHT7OolKUsIsJlm/q+DLrY+tRBbElXJrpVSQMEATur8Fr7x3CBM/aqAmZXSf0IScsmM4xgtIfubFc9/ou0NHM9L0boFIsbxoPDZKDytCdcmWaVsrZQECwzNXlqRcvHN1681oF3O6KnEZN+XYtaYVR+LN5/LD7/95qntDyRA9uvQl+I5RSFgi3oQJy/NCnEETlgpNmiRZYmHXm1//XUwYmOtgdChL0XBcmZgCRdRP/f9wctv/hwlT50xjuhLsVJeCE/M6Pry0Je77rHg+RLptY5k4ql9pEkIohcX5+VcejcDTysK8Tu2JQ8PHTNTEH1Hxl1z8beI+GHQeIfmqdJ/n5j9L+8rgo+wKuPShJnBx7L3zqDHlzmXbKyUqlKJ2S4/Zlxs/VsDGk8rMQK1lbJ6jh8rIEmACaHLZ+icfrTuKTVWSrt6QgLnIpy/YuzG1iuW0dIWVbO070sBmlFm0JVeej37AVRa08ejDtWrJ1Tdv0iC1R4R6/Jj6sU+vz3/QBtdcBzxIy4JARJ1CD8OosLb+hCyStnOS/Hyc+HN35nToEGDoLGXm9HqASmpB35aX4rJnBNHfvSFnoBOo11GCrjWl7Kal+LEOfc0PAE8yMMpVSFwxkoROc4HYWx67sLY7Q388AA7dSXSHSTHvpTMt8hT62shDRqkBl3WeHcMjSriR+EJSqH0rL5QWCk8aQIq9Q+oVKiFVCrl4mtTptSP/SFv0L5iTPVmQqVWm9lLdBCeaAyVCk1PnBhf6H0F2xNXZRydsOHaugy3SftCTc5pFFSvvoP3S2EU+L3f7T5v4tFRjHOxs3RspSgnS3gs3Y/JtxezoYvKkGl9KR0rJYFTN/+gz48LP1mMcaMiXrvP8RPh8IPMlSq9dO3iN31+AwPKdVy2v6uXYKSseKQdRm2tzy3ULmvlvhR1V/z111J2m18075rzQbv1/FMLNfEByimrlJ6VklHhEXaey95///11MFMqI69WKStfSgYlGlCpcEA30FoHh76UBr7S/BUpjPz2T+qobmhVyp4vpQBUomWbDd5/f60VI2IOh1aK5ZGrhHqJ79OW/UwC0cRAkU22UiYW8TN5eWHpuc8h77OhiRj4mU008COVSpybcf4n3/U+rapg2nfu6ePFJm6lrohWKodbKShidjvv1V4+llXel/b4+CxaOdkNTwd00kzpWClFHhWfq3ju1LGLPy+08kjUVsrKl1IBo2F3+S3t4pu/XUjRxKJVvpTN6gk1OLbZTs6+/ebP2kfBOfKlFGhSjvlrL77+5rUUbciNVMreM9EVcKq+U8mX33x9HRb9qS+XYKWUrHBLEEK//PpvF2prjAzlkFXKdl5KQQDPDvGBl5p1+RERBpWZcuRLqaGhUtnfNMUy3KPqSJtjX0oNjzkqTyL/27qN6qinVqXs+VJqRORLLa7YdIXnZe0AnuVxbKXUaHDclHyp+U1h/NUCoUxyxI/NS62nfb1Y9oCBH7NSJrJSizCEE4STGVdGhH+Kmxs6XP128l2L8G/4UltzLguwX+RL3U8SrVT22zmX1gs+J93OVy/8AtYNnpYANXQmlWClFv84zxsjT29l5RwrgdWzJ9QRP7ovJkQLriU3CG+QHHRZvf9IMy9ltXpCAqVfzLXOS8a8TDKegYY5eOmWQ19KygRoBPyCAB2kDbnZt1IKKNHGtjFANwjStgP1vJROxE+NAhjyCUNyNubX1DcIufpdvXLBrDJVopDbS6SZGLsqGBz4UmoEZKWgUiiGpv054UtxLJUqtp4JM/1c03NrP1C/5VKrUiVbKRT2x/yFi2uieyzSDBc4mZKtlLpQ80kUZKv4oEm5JVkpLN+DPzRjTOe6nTv/LR3PPee+FLNSGcP3tZqFt47+O/XS+ip4v9QPiXg05u8rvId/mjAx+2r3791oXkrypTYfHDkx8+6Yd+e5XZ5Gj69dNe/+VWedKYdW6jkMqP3go755AUE7ZVTkcI2fXE64Xk27rC3CtqsPGmjmiq2slDqeJAPTAcnu4gc//7zdyhtx6EspGPAYi4sfvP+nC2mYcFauaiN+Kl9KyUJHeK5KEJ6B8cGF/drokuN5KQ2O+b+m7gf3P8c/UPfylEVWKUdWCk+/ZSpVZz51zc3k+IR64Kf1pTTUIT2oVJf5UCn1Q1q1vpT1vJQGQ+vvUxG9n39uoWZuTqtSzlipLufgTlZs/SMFimy6DyNWiuZUMCeymNwBldlmEuW+FN7Yhojfse21KYx+fv0ZWKnfMfCzcCt1LDs6P/jS+veOHDtamB98/6rP0pCjr+TgGZoTrmdcXJsTTEH0Sf9EuCIUccKx68/kZManZridT8w/dnQnQvET2NpAJ8yUQyuFrm7i8Aet8eSnY9hIpCRnfSk8Xx2eDFZQULOGOPlydo0vZbV6QqFBhoL62WbzX8n+Bpfl2nDOSmE90YqFn3TBZHEOGRoF2u5KdBVpcoS+DwfPdX5roJ0UooGfmfxU3TV+KhSgjybZFLq58APr3llWKUe+FHzBFSm3m3722W9Wdka1BbEEXyr7m88+W5F8Wb122FlfCvJ6Cc4kVgL9tu51TdU7EfFTiYH6j3OnL37zWbMVKdg2YpMMWSmal9rYhQnEKnooWSk8/Sg3PyQtGWvRUyatP5NyVkg8chBPQF81b8uI8IvrUoIwfBPeHRSCpRL70k3/XuedVpQ/6VMhYVxG2rLJ+6/mTr5/Z85Xn5pDEzdnr098mBq0vT+Gi9dzUjxD2OoJ55ZPOLJSzyFolYOBfLPWv2XQs7zkhmnlS1n3wrLgFv+4jhbmz/+Vxk9Kq9ZE/DRv7pAhcYBxX/LFxU0rzn8dCikDV3TOlwL8fMyoYP2FVbxRGfhZP8dPTbvic+cmo4+HN5es5hxxQKgUGwDoPm1WhQIt6QLWf2BR9lqb3llWKUdWinypHBjp99dhSRAm5iQJOOtLoUM6+PPPaxugR1f3Rw6fPaHiH/K7lgM7vbYB5hEk2rhv3EphjVmDD35eiPBEF9VcgEjKiJUCS9+nYOCB8ISVRim+lMXsM2zatJfp03XCe7f+ZrYMG7oH682nrX+v699GrLz3BR4t5jPir9E3b+B988Ujet77YuS0PenCruY3/zbyxgSfrnXTdyG/uXhY11b/fG/Xkr+twhPV/76oeeHNJFrj56RK2Y34QY7o6b1htCsuPnd6OD2GQto05ayV6vIbGQrEfDD6UKpL40tZrZ5Q5QJxitbBzmDztrpVSBE/PNDQ92d7L2QnG3ex5nNYFERhdCXeqIQnrNf4KaRBDKs+aEKr5rko4lxuUhTxk/ZL6azxU1BUggtB1gXsf1CEuS31k2txzwlfCrHJj3Jo4w8CfsCrsGD32RMKdcpPrlx4cvL2jXRZqjgUzMEz0dUIEOtdgfV+ycnZqANV0qqUE74UgujwKZNT8c4JFRrp0KCVuhYUjjfKaAVCqCQrRZvj03lgDsM0epafeGYploZt7K4X1gDSdg2TUMyfqBSKd/um43maUlDP7DNw8tkJ5vSTx7ZAkYrTBbxoXvUsC4fDP9lKKbNOUnHp97M3aRlJs3OfvKnyR9S+lM0z0Tk0x9b0MywLIqfozU8qsuXU7LLKlxJXT8i05QPC8h8QB3TT5978RKWQ6KvEN8qjqPF/0lEpEQmIss7sszdFhWKt0taXUhorZ519N/3xE4J+jtEWc9CPjpXSwstnFc8xDCjFJ81UMzJ0X1Ip1L/0fikZTD6g8rMHonyC2IyiUQBumtxB8KKhJ3v2BGdaBUYE6CLE9+ab4EHp0XFZ60vxeSkZVn2AY4IHBlo/wu/Qt1almC+lBiPCYpIvo/EgNeuimXJnTAKx/dUTMjzDx87ONeMcMYGwK2ImOeIHkZqwDN0UisQeeSlATaALoXhCJvvHzim6gz2FSKHYXUg7ozABBRg8zgW3kAs7o3zMeaczVw9dOg8Tv6FeeBogXXRuKTpi7ZiXaobZQL1EcUtYGaqJl6hVy3k0WxDfRERIvqM+ADibzqpY8yUaRsu3Kv7l/SwvGj550fulaB+FXgL0S02J+HO0LkqVw9pKqW6hjpDoC4rMiDIsHJzjsJ6X4rklMPrFFYLqQiV+br7COS5jy4TWl2K5xS+FNiFBN4/Co/KbEgbGErtKX6KVQm3+i+a9KDNdpqRCAkhaGoaRs3yXcjCVQquQ3yhvBSYjqUOreETiMlq9d/XKEISJEnKjsF2Ieuv5UEl+lV+WjCQ6apPArZR4W+GdXZCh2KspF7PJLY6b5ycieqsn7GODLEkehElCJBPh75dyaD2Um3wXIs4l06UciJnM6e+d9Bsbn+O3ZQ+ppGS8FBT2j5CZVEoqhtUviiw+HJ39yHexBEHe1ds2iHb1yrc0B4BH6SEBgKtuVJSfic6tlOqW6pDAAAvBa6GbMSuFQkpWSgXDDxktRhQ4OA90g7Pw0p+eV+alEAsUL8v3+QGDItZVtOmUWSkTq4zXFrbme48JNyVOlh+z5iIadpKBnNihqFLo9vCEJCYaOYdyQJyzxGQgI4BKebYUrdT2D/D8SpZkMPWZCE332H18aa1Uu+c/owA/wUiZ2BlOZOr8vnxZx0oxUC28+kwpBiuIOnfF5zDwK6RnwFIPkfQ8OmdOSMqkOmMscYmwViF+EevILa2esN/Sjd2B0o182Kj2srvrtY/adAILVCp2YR++j5N2TlqlLnX4B5fZxkrxdtM+ikrVTf6ktfqeFQZ2an2/9c/vSFYqvI8GswqaKOvd69L6zQ/q0hZoDJYx8GuqAtEcMmiGRHW5SxewDpWiYfR3yc1a24UGjDXXuNS0dc2FNdiDCFh4wq7cRIpceDZ4urxUp0FHaAW2cP/rzRIKYMNHl7+8pBr48f2uIjnrH0ZYS71L68/ef4YGCEgmod3zzV7S3rdGYXPe5aXWnDxDsOSj1jY5bC6Agl0iTfu8+TpXKROplH1hcKx28dRp/fN29kZ5VrJH8QU1H9m1enEx9Z/GkkmIDdmOGUmDKcS3OrVq/I8JSTUIi+whUzE0pYHfdDfjwA08a3PigjnKBd6JddA2maf5uUC7gXc79nACk9DN2wW5SRTdIlF4i5fQn2aDjSa30dxKfR3vAnRynKxSlkhvo6QpfzAjzyr/5VKIQCQd8gJ2TSAEgHFsuAvFkQsQ0sB443egKhhBkPeEKIaDTPq3TMLo+vWn1H/BTprCrtd/gT5ymvLClCnTsTsfGM1ClcJYnkm+XeLBlBe6tYR5JIXs3O0F+8R1EQE4tqNEfHps/foqxnQBNKyD8xfAOuO8cbRhzl+YEnuiK5uXMglLppRMW5ehF16Y8kL/tig8HhQy2jH3OrKBsPuLPYppen3HotcWnZiZMiW2kA0QmAQ6R8c6wgDebNkD7yJ50oLCWDtFVF2e8gKI2CJi7KAye0OlGDde7UqsD6uGKBMB/haRzoW4qe6dSGif9CQl4wrFcbvGi0xNPnCC00eexSjvamaNuZ2cdfJVOQ7qWp9UekSUnQth/ZcK+YjK9F/i1iEZkxcW7jpI/D7loSM5r9w25Rv8tvW3hFm5TldMIktmdlu5Z3skwks3+KlUIPGm/g8Hsb3HF1XCwtItCa/61xZEfUUquCwJ9U07x7bYRSxAor6nPebIdK5JLNihJl3WQtIZS5LwRAlIue3+qtGwTBJ5jkB92/ZYwWrvnknix6LktXNki4JfoexO772QyJX9lkmgTAJlEiiTQJkEyiRQJoEyCZRJoEwCZRIok0CZBMokUCaBMgmUSaBMAmUSKJNAmQTKJFAmgTIJlEmgTAJlEiiTQJkEyiRQJoEyCZRJoEwCZRL4n5YAVra7vBIXy7+w87h04MpSMqNiJM5LQ1taGWuUrpIfGExsxbpyydARQZei/KUqPhgl+Rni117m0pVDxgp+zK6LQ0bzpA94GUpZEFfBXYVjQisVsM2eaZfqoXQsiCQfCRKX2CegR0H9UeB4RKy4LIdHCWga03ZMYxc7B7PQqi3AnX+DiJZx7JquOybJpL3o/JkPSI+p4mKjwC6gum2r43kppUpe1du2HePjKgvm6nXH1E1yFZrJ3tXis1Inta3L9mmWSgSklajGukkutiGZ+KOpERndEztAOU7EZkW6WK3Yhh6L/WJdXQOHQjbPio3mGw0NS8AsdG4ROyW2B9t2bBgae42nx8aeGOMa5yI5tKVC7O5j+/ld4EAwFWZ1K4Xsh8bWjx3vavFRcK/C2NhCF6WvLq7ZXAPlaC4/ykt9z/ljtIbI2NjoR6HjzhN9HDmhFEFubv1cdCtMQqFbsLcbezqWce5MQt244GBPafeoQQQmYbof3o3an3aTG0/QhtpgnT0xxTi0CGESuoYDyXTXmrVJaBwX7Oc21UWt9hIi3YLdCl125dCZhru5hbvcH8hSA6J4VES8tDNfvmHswCRUj3cL9luC5wr8Dycokpd5fIhbcG2T0WcuUanhmwvRbki9gcbweJpod41zc0up7opXStCR3mhTLVyjbTIn+bq5BbckaMOs8yonFoYmu7l5T3eNBS8z2nSwWz349gZZQH4i3hGij3atAIA3EXm38K6uMK9u80CUBF1wiy9nvCAyHlaeMWgNfj1Ky4+M80kdmISXZStltGJpFF0jmFTKhZ4F7RhWKp5Uijp5g82aQcNKBbudMLPnRxqSH6DRtdYOdvMe7ZqBIWqMBVgpNz88VsFoAUjUZqEcjLRbFkVKcGogMcsEKwXZF7ICGAMHaUaeVCqulFaK8d7YFxXh+zVKYZQRVaGZlXLzYyNZ4u9/Mpm9fLx8hPGkUiY6NCgRAjcVMpUSWvkYNdehRLszWakkoZVXK5MxIYK2jxBJKtUf0ODcUDIBhAZ+pFI4NMq6SMvLq5UwlFRquuDl5WMyxAFt3/cxN45DAeqZvVoZhIaJIulFojcrJNpGxwgwUSQ0ZqU6C0BlkHmlqITJR7RSjc0oh0vKACw+EOYYdLBQKaoRgxWqMPREj+CeNu+XlRXr6+3mFpSVlfXWWy8b6bLhR8S+k5UVTirlG5vVr0U5I10UHKF+9bJia4egWdeLzcrq18EIbbNQfcrUrFjUAEYusVlvZdGDiJxOJqHH1HpZWfVA2612bL2sfs2NcC6SwWPYYsFCPz8UIB7Sq20owgMDdeKtrKypgHbzBHS/3kZYgB94AjWXFQfZhxO00QiPSWhJ8PVA3g8H9aZON0JeLWgz6hHlCAEnIVNj61E5XNAGzk/sVNRIMKuRdkbqU83Pkz3G0Ac2Qp0MFcTLPF0N6+Y51IgYTEKWBtqtv5GqwGjVWw0uP3LOKYl6mWuogWGjpedzOQXOM6EVkD7wRN1KrJFQOgY5yRIw++VPunaSvkmYFgQoDBrFFJdkRPY07jshgQINDvG8RZcSonT1FEzAleVSANGLu+QKpnrsIYousfQkgVigRq4VSNa7hpGKYQEnGTzYLdygjctidSlKEeM3I6MvqBSN+WTgkJbGOK+hAFOTesuFdmASOiCsI7GAo1gjSKBSFJmQEkZ/RrQaUdoUDXS8MZXCM3j7K/pIEphqRPqqRguVekvDiasqhcCxJAziJ9a1AaSKsydyaKVSGMAYs1J4hKySoFLTjDRrslIqIbq5nTAwcgOhaTRqk1OIoSiDl9BcTRvt2Yg2iHUFK6VmITjYqJXSqFSwQSv1sqeqBMHBhlVKbaVYp+K6ldLUY7ChjkVu9l40FyPXJg5jXRo/yvie1IFJSLIa+PHokZP88ICTIgdPg1ZqqkqGwNLNSHwC3bS3QhmdwU9GZmdQgVra/VxSqQ7KwI94MdQ/2wz8YCacb9Um4Y0gdfHd4qvjibbOJ4ShWmjg3WobAVcRgpXqp8FUz6XVHLYDPwQsVGT+Vw7hItcLSQlKoZbhHYSUYmjK0iT8BOAg1jhDUlJCfA1FY01CC9D2pI4+GFiCQvBiB+cFh9BIclBKijfVpp9nSojnd0YsJDoDKncQQYd4BqWE1DcaMQOnJvP4cBSbld87BeXHyNX5EqA7q01CI+l5oyQh/U2GoLv6Em1ec4Ce2thI+eFLCTVCUN+MeRJFSDcjnqyqnsxmnxYhgKdyBANTSH8jHqWMCG9LklqDG+OnhbHyyIie9IHZ3LV3794t+6Nmwjt06N27Q2MD1Yqsz4ye3qEDItEYtfXoPb2HoeGvWRgD2qMLoVMh01v27j3d4MqgVksAzSIc/caDc0NmBgEzlLZlZBA4j+7Ru8N0Q4EVsdbQP7ec3rtlDSDxjoX0pnc2IjxB8AHbP3UMwiAnvje4MVZ8s9d4iL5DLArQj2iPN0YbuatD+h2mg/mQ6NE4bGsQgdx0zUJblKOdJzjx7Ih6HOOSbnJ+RnekHraQaoQ/kF6m8r9zQL2qRVyQhKetG3zFDu+TxXkpuLfO99GShGhBEpuXMklXnP+1gF9lqtc4cZrqRc+Kt1O4+MRwLjxxqhcP+jZWfCw0wJvcytG8VBaDNQTOaJvEeSk6MdqQ8XB9QJWj1RN12aEh8qpaIsJmszLVi/dguJIICoPheDYvhdcHuYbFFcqPGoYtA2Fr/LBxBieG8GO4C6BCb7QKrJ4wCEwVgZUntHrCs7ora2oIejrRPoHHjRsljgaNVTRsqtfk8oIkoMCKKrZ6wgUkKD5WBMVhbVyWC+uxCBoLshC2w1QvTozVHKqZSYCtnuiMUpgMwysthcqBtV3ebr7P4MjgagEZDYrgZeYqhQPj5ZERPfEDtAoBa/zcaqMUxuUKGHGNn2B0/QJKbjKbLJ3RIoNcWzYLzrHGz82tBbUpg4JEfngzvoCmZbPGC87JoRUIQzHk4ctmjfJALFCbdnuLeheDBUB2EO8IaFIpSNIwAnqZXeNkWKnOTCeN05cgQFzAGj83rPFzWZLARWhojZ/3EgFdpIT8f/LXJAxN9vN7y8UAi0lo7hcS4tfBhTV+JEZhjK+fX7KxSRVZyiahd5BfiPcJV1eiN64H1nu4Bi0ygTBJnJ9fiKGVHzL/GCqWi0cBsMZPuWbgCC/C8wvxqwHVci0x8n7xY9aW3h8AACAASURBVFANpUtA5AtOfFuVDhOFbPz8gsaXqkZKV5JHBd3qux6jXdzwhMaQ1KPHkh6G4hpqvk1DR/f4zsU2gfjI+B5LRru6v8Zsrju6x3ha6ul6MptbDe3Ro4eruxrM5mmjx7d0XfaNe/RwufgotNk0rcfoaaU3CTCyXUePHz3UsEdnJXhzaGe0BkORJisMf6hTVxuWCOcqOJeBi9AEVuoXgLlIW6w80XVwEYk43nMRWuwMXIVGCThoKRBIUuAzAGYXhzoiFumn9PxImJ7ULzwCJJepM2iXpQAn28u4KyQxC9p4l5d0ZviX0TYMpQXgBdBeM3DGXkVmIL82K8ne9eIDV2nhRXbgl1FFuNwKJDSlFKZWOE/6rBTSKAXoky51Gf0yCZRJoEwCZRIok0CZBMokUCaBMgmUSaBMAmUSKJNAmQTKJFAmgTIJlEmgTAJlEiiTQJkEyiRQJoEyCZRJoEwCZRIok0CZBMokUKIElLURylGJQHIGV2Bk4Ed28MS4ENfwPbKCGEL0xEpdEpelY6x00CXxZug+lgu7lCQiLgEDSIR3EbxU0KUCLi3nVGAT/jkTdOZCKlUJRGD8uECZgcgYXEWghStVaRRUMldP+AD161qSGoXgEri0N85F6lKDdIm2SYIOdQlcKrhLwDIQx2KWzw0dSAUwBCRnVlqc2UUJyBhcRCCzQgfyMvXSIpO5esIH2Nj03cvG03fSbiTsLjIO/900vpEKjz4Zahz65fHiM07w6BcXoL/jr0LDKumurkB35ft28IgKF6AlQX/XmWGB8F82juW7rvxpQ3jWiSvQdaU+QRBauSYBH7HN4knfnY2zL8lA/FVaktB5vNU9A6ffTUtyXpNKvfPHISmT0BFP7q5nMGXF9+fPZcPGzdh+RsGz6sXXYHty8Ni92vWMQtfL8m0hEY/2Ncp7Vlb8CQYNfZz6jkHaWXhOui9/FRyemRJvEFqRcVa/2uxpaBB+bcNIsqbW7kzbZNGgTxguPgpQX9rLZxLG1zZcd/Wy3urXVdyli83XLaYqpXLpKMu3HX/UILrXWF88iN4lLADzjYbtVnoLu42eLLyFdMqJvHaROLxhFurFT69hNEX2i2/L5IpnGYWc6GgQvHm7+Nrs4XZ4SkJQpEHgGjUip7zFiJsFn/i3DPMO1tkWcDSokGijnNfoWOjJnxNqFmLDDdOWitquMKQjbfs2maJjDZe/XQ2/nwgYvVl4P+MFiO4nvfbBS2iXEt1O4snZ33btsP+fb6PDIwvrt2vuLKB+vsj6J/iTKbAdPm4KhNHctU/z2vEmPMzLjAdkmZizqtfq8ewpKBK/TUePJ5mF+tHiLk7nCZiFllmsp4RadQ7vbJy5SP4IVlSqr/NU5Zxta7A95Oimfacbepoqw9CyHntWJ1QKjzc2nHy6cQNrFrpFm1yvlKlMpcxC5HjDHAhCXAd6rgQ9He0nwxyYk2pIKmUS2tWvYpy8Oa63pFJCj0jj8FYQ30Xy5odHi8ViS73VXedPp/czkfmBSlHURXcHKjQOOoenuj0+dSJ+0dueMDUuZyw1NveuJ6lU1+ShhuFNNeoxd8DL1C7eyxjpcuUah04r5MSF4vhIU5IxeLD+lqRScWN8DJa8caukWEmlprQwXG6R1cZVGvcTVarjaLNRFr7+OpyZCaiU73TD0K3qRssqZWmXVb2VUfJVRPJoO3h5UEdXZSCJwtyjnaxSWeONFkepe6+OeM0KVMpc3KoKPumCxWTtMeFeFbZT3OJTxeTicwWdUXFSKXPjZxTenDh6prGgqFTn5K6G4c01+AP8yUqZnCCozvJMY9PQws5knMhKRQoGm0Q5ofdUNmwkKzXGy1jJnynXqnFsDWaczMKU/oZp83IQln4duaHpOFowykKVKuHswVNkpaYL5coZqrvGXnULpYfMwEplJfkYgy9XDiqlslIdzeq6MXyMlqRWqTcsxoSh0PvaqyN8CeiU+felJ6JPnPhyxh7N2AnWD01mw8p96cUj9yRuW/2F6A4qVlE5ckZtHOXBwO8EmsYzhhLapWyluEoZAP+63NdQKW6lhObx5mcMEm9cDJUiicCXIpUyQBpZy1l6ywO/OFIpQ6mcj8pK9af27Eoq16pcbdlKGS4AqRT3pWClDLLwdWOvttGKSjWPrd7KYBHKSeTRqMhKQaVcEYEEo1appKw3jApDRPN1uWe4lcKY7/CgYHrc3bFL60NNFgti9ALzr0wmS6hwKGNLq1mnjhcfydwnhNL4kEaANFJENhw9Iq0iK2WwXtAutSoV2liSkFO/XKWoExGtlFNQciayUizmxKwU+jVDCazz4IZkpYxBW1spQ9BSZmsrJV136pe1aXo8omylnAITM+lZKSPwz4C82pd6BCrVkTdl+FJZ3xmtTYn1cmSl0MtCfQ4PGn6vw/TPBx27kl5MbYw5UKQseODqwFHHLavmHS9euhdWioZ+uMm/6ICOH0UiK2W4p9GolCcN/IwkUqm3uJWytCuVlTLF/49aKZUvZbRjls0EJrX4wM+I7DVWivlSBo1MuVaPVKXKqQZ+rlspDHQUK3X6q6vFrd47lHN/vdlUXOVrr1AYoND3nqliMgnv1W0snMk4LnSvu0cQQn3+WSU91GzxaWV67+tW6aRT1t6XawrGfCmjxlujUsldTcZVqp4P9QmwUvEWo8StfSkjLYoZWJUv5WOMc1tfyhhxMfcjs1K+vY0OMB6FleLjTjS3RzPwU1mp8Ub7F0n8spUymQ4P+uqqJRTG6qurgs+GccuOT8CI78WVUXvXC6EvrjxQ+fvg8+vbfHlVMPmsWr5sX7o5cdu96g9rr15P479HplLRiLNIvDn3q1Gp0lgpoblvmS/lnMylXCorJYYnpDvO/FpbqSQXfKlHOfArp4r4JWV957JKSVbKBF/qq6uhoabc01994bVqnltw5tkJ5n9PdPNzu7QevtSVMzluww/MgS+VeD0j2Hv48fSEzWOzc7z9tux5ZKF1bqWcqQ1VHo1KldJKGR51aq2U0dE3WFdZKcPhiT+WL/X/NStFET+XkmylzMVQKdgj4QwGfrNPZ959d97wH0yH/O7fuJb5g3A9Y8udFcFnExGeMOfNG378esZXB8I2ux28+27O8AOleReCZoT434/4PaPypchKGR74KRE/V3wpRFaUeSnDKvWIIn6PxpcqrZUSXIn4/fF9qeE3R3dYmn/syoQzGffXW04Gb0lf4X3FsmrZp8WHMi5PmJtx3AcqFbrAbUurxM3Hfriz+dgWoXhi5g8U83skqURfSm9MqLVSQ10ITyi+lHGV0kT8jA4VwLoq4qfxpfRKatVn2sxLWd3XnNrF58iXsgskoVZH/Epvpap7lUhQIsx/5XGn876UIwoIoj9SX8oMX+pYWrKn97H7VxNPIurnk5dzf8Ih70m7q9dNIiuVjvAEWanEzZk/WCyIqg+hg8Q5sGGhj0ylbCJ+WKAgJTsWRKtS1hE/Fbi2OsQzx1aqJOhnHMxLofIkzu25hw7npUqkXeK8lAqDHdlBCA7npRQMusKjKLY8L2UV8cOsrVJ8/Yas8aXISmGqV51UCNSXlWOQd8aXUvBgKl6BtjkqwZdS0DhCAolKvpTFfPh05vZ3+mWt/sJEetLKPHveV1dnnfbORNyc5qUmnMlh81KJE4d/mi7Mzbn0z83DPw31meP3w4RHtaDC1kqV+xoBRTGZqugKxEqltBG/cq1k81msKwjNvFS8lZX6s9JXtCr3Z5sqwAVHvlQ5Zc2apYo+cfu+FOpF5tyO116SlSqx7KxAjqzUn9NlHt7TKz1XKXFeytpKlasid7R2im8d8bNSKRX/oRCfjgRljXZopcp9LZfC8k/dYogXtVbKypdCS5TRvKfDi4JY9qUsPNSXLhRbTLXI9KTPPj38qpA3LjV40j7hkPdln1XMSn36+8ThByyWvIxLd6BSArNSJll4MlWXDqBSVhG/P/8+dBpL+Bm6p4rCt3KkUSnriN8/R76NNyj3pvdm39ijwChHDqxUuXLvjWDAQLD7b7q01VbK2pcq9+fff5LAZ+z5p14tOLBSf1bT1tepEqxUuVYoOwpOnzf26LVIJgWmUnwBBFuQpBLNn99bhAIw6aH8ugVwYKVajdzEaHfoMH3GHt1GqLFSmJeyivi9V1ei3vtGK4Ut1ZFT81KsHlghOvSeod+ERJSO5qXKVfn7IrE4vXev1xWGxJjGSiF6HoqYH6xUyBXBPGvepPXv7Skeccrt0oQdipV6j6yUZW7GpT1kpYrJSimduUuaJAPZRPzKtdpwwbdfbZaiij61GhjwMmhUyiri938+Z3LSglhC/FKvi3Jgpcr9OXFmkCcDDhm+bwJGMpLQlF+tldL4UuW8NuSL4H5FV3V7ebBux5dCO1iRkcw5H/4DddK2qQQr1di0aFAKw5Did3m9bpsmnPatVLmvf5+ZwTCkhBz8QdDjgZkJfStVLn3WxCAR+v4B3ZqztlK0xk9O5f7ssy2Vsx80dnWo/gBF0mi0ILvzUuW88vJD/l9xXx8T1bXuPdsbMv+8zSRHJxBzpjVk2iHlpNcXk9q5k3vG3CMhNpY5Ee8lQ7FpLtIdKE2KR/SWViw9g6BcKpBeRZOeXBJTiVrovfBWWm9ScADBevioBWVuaJSg1hNbfTUn8Z5JmPf3rD17z1r7awb05F18zJ6997O+9nrWbz0f69nJx/jIuh9QsIhSol1KCvzbFX+yOc098S6tnsaDFEoxu1SQuMMNWWqQuOZRpHdkKj7Uer0fKEXqCU2Win+fC1lKRamnx1I6Hz/Je/zkGrwOEj/+/Loe07WbwFIiSkmJ0q9bK/NycvJy8kruW7JU0ntCr/EbBktVT1wAcc620TFz0dlOlvIOzBXUU9k5JTf7TYHGGqW6Istn/RMXUG8qO4sbaqlHmA6lwu+cbGA55BT3WQ8la1lKiiyfX0/Nx8+oRd+rY9rokOTzDDQ1sOZf2LawxDOL1gIBpfQaP0xoXxdUUtkXNtY/yLJiqbSyVEiKfNXSkMfakbdgiy92spQU+MemSiWTbZPmM4TaLgNKwc0o6GhvbV4qPZY7KB+rXXT8I9CKoVS14uN3edON/r9tyofG76+DUtz4kTzXWqdHN2zfvn3v9r0j46Z4K7CUEaWqm2d+pteK7poKcRmrzWdKdAuNH6FU/o1TjXgp565TB015gslSFj5+UuCTmrq+F4l6156oKcah6hZ2KUKp3MkOlH0KZZu2O533hM/dfXKC2o50J2S+bkU32KBUoO18PVUBdagyX/jaotRAU22y+VVR01ldj1KCxo9Qyv+oSumB1ywWfipH26JUoL2l4T7e7oqfPQntwZsciCglylJS5BdNo1UYRnhL7KmyhNlQUnPUUAoaP6gjYJcChsrL59dM3oLpyX25uu7BrekF922gVHv1wjA0fuEX5qYnb216tPSbprqHkKWm/3oav2EpfLy1dmy4DMmHX7Oll95tllei00zX+mgq7gogWYzLlI+fGUrlDvZ7AwH8xkzLtpGlMCQG5tBBgYAH1OaP0hqlpABY6iaVjWTxANOhlKO7FUsUyiBgyVBJljKVpYCU50ejSgaBWEgdMfynph8wopQU+HGubsbNijefjpwGlOKxjJ6dfyGi9ECMLzR1nIksJSUiX83VjSkVgZe4TbKVpQLPNE0maxMw7QstYw2l4Il+4np/kFjKnSW/MLspf2IsIGPpkzt9Y8nxX62DkX9uqh07WzfmCLe35OdeGg8un5/occT/0PAwEn966gnRbVaSj7c29MhsUBNTmPWIiFKiXSrhvVx9aRwGn2HsZtHazB/YyFLDQKncBSyZiNacWqfx08lSn4ClvF3YQoSBa5qBiFK8XUqKLp+dJgkIyeoBppOlHN0nr/fEfWitReVZP9ij1CitGFkH8J2mHadBqboZJgNZdD1YStwvJWj8MCVdbliAWoe6LmTeAo2j06LUQxkZIaeEVnWTAxGldLJU5B5YqmuYnqTlE1Hy1FAq7C7905SiuIXlNj706dWpiDsY/+nvzz046MjqevGgO77v6tT+qih8/P7mvaIpT9j7uztRR/x3P/c/rb0dyEen8ZNKCaW8XfRQkUzHhshSgl1KQSmsfGNIpsS23hOJ7E6gVJuTUZs8Apyyl6Vq6h6Gh2NEbz6qqOrm3hNJlGoLUcUtUjqUgiwFlFLabpEFTtvIUlGgFDXfhlhdeRlRyicDHGZkCc23ohdQSq/xo4Vf7ULEtvfBUmllKUKplroxeZie4rBVVdh5e1mKUMq2NmreGkrhtefhOAMp2ujhcHhjbkIsR7wr4A664+QXG09aCtzugAfm3bAsY88UC/BCNz6FZNT4AaVqe9T902y+VyuufepYSrBLkcaveTyI52qV0qOUshqxmCdFjZ/gFQZZCigVN59fleqg6pzGj3dIIlkKKMWvhAwtSIdSYYZSduVTlnYotXwFLGUFkoyYWMpK4wdZasatwIJ5HnqUMmj8/AtJpbc5fcrSjLFnrfEjWWoM3IBkPQ7oqohSelmKUEphSYvaUBaUNJQitQRtLkTt6B82djA9Xhwsg++005Cdo3vwhXgvzO5APMGn44ZOBet29QJliKUo5AWKsxhfAkvpNH5Yj1fX9xVt2bJ165aOFdulSON36cFWIi6aMheQOZQy2KW8AzUNI0Wg3nr1YtRUkrOXpfJHlbIfTJnLImlQygeWmlDKf9m87coAoI3yprKUBPVE4QNUf+vWl++iDiZIq628TFAKGr+6yaPU/C13zRWOAkqZafz8Sg9svVqF0lltxX+ZyFKJRAAav5EiPMYtW++u3i4VWG7KY88DzVmyNElQ/VIohSGd4o0sMA5OgHGy8JNMCKFER7TXF0Ocjth/jkz5vur/CkpxnUeyVG3fn8nG9tGbUyHTtZvAUgaN3+XWhvUsNfQl5xjdU2Eb5ak9tF9K8J4gWaq6khEXwC5lrrSy9vGTvJ/M+anw8vX+R+YPAVXnNH56Waq6nBVeMDFjahNKq/GDLNVAOaD81dqljvkrQV6+vmACK1ix49i3NLJUPhWuNN9sZtejlEHjV1BAvV9e3tBnvutG42iMOGuUirS3sGasX9/wBHapyL0ryIX1ZnMaJbq6q3fVfPAUCQ27en1AqTUNr1PHFtQtQsQ0e6z8RnkRpZyk8Zs4/fxepN0zUdNBYa3xA0Z25tcT7d69pzvMkYJDKX3sCZip5xpGWdkHRsynaTuUevdYsuxnJztWZZfqIpZS2p7zIGo5r9rIUkCpSqX5RyxMMdqYNqIUafz8o4z8yLz5jGJAKX4dQnJwwQSjf/b0XWGu0wYBik8rSzGUUiry7IH5J7BLPdOk1GbvkZFxy96kqgko9RS5Y1VZmaAUdmmRCb28vKBhMWLGUXolul6Wgl1qR2Pjz41VBy1ZysIuRSiVe6Pj48aqnxv39JvrX+1kKc8nNQ2LVPbPjXCGMqu7nSyVTXYplF2FmkdM1ejpZCnHO7BLUQ5UfkIbh7oDW1kKdilq/s+NL5rbxtKgVG3fjsYq9P0dn6koakApkaVgl5q8g+Yjg4PmQpDG0RhttijVcP8OcsFjtOwG6pV0stTpO3ga6IyqqOnzUDuWl6VU/9Tkek7lCnWZp35XP7XzkLMorKZ6fvWfBo3fsPd4a/5NJQjp1Y6AGczoWUpvl6q+NOVFcKpYyPSp2mr8QqTxiyJSgDOWMF3LCxo/E1mK1BPDLqfL5TJ/lNYo5VTUEyjblVitXSrM7FKovQtmMTOOZmOAsZS5LBVrg13K62ItSDOmjSjlk9uboPEbRumuhHnfCyhl1PgFrtUuRNtiLjQA9GYPIFNZCnYpD7oy5jK3rmm8YBN7oiuS1Pg5Y1Qbu5QepYhVTNglJXcRC5ncsArOMmr8PKSegLUR5lKPhYVNlKX0dqlrsEtB4weuMH0ojKXsUGoBWrfYsMt8RIGldHH8uK6WPEmNnxUtlgjWslQICz9o/KCkArkFQ9rv6iX1BOxSEuVgXYX0Gj/QY0biGsYdpkEpmHoTKNuC2GCXMtP4BcgEYZVB5igFuxSqbZVPskUiSunsUnBImozQ47CsjdovGkoh/GUXeSnATSHE6/DCbm9ZIKmO4LnEHW8rk7Grg+h8crwr9BTiT+g1flh6gaXGvJhgqCXmk4PIUqJdKkHeE2TqpTnOlNzOEz2BhR/sUjRDmtKiD21kKSdkKVKiU1J7W/dpjVKqXcqG2JlG4ydBloJdCm03n0ySdbGRpch7As3n66BriTamjSjVFSHvCRlKHXNzInWeXRw/kqXILoXOs+6/TGUp2KW67B6j0he2dilm6h22q436cDWUCrvffWPDbw8f3nn4ufsRipCe5J8sx9B3Y1gS8uyEY1iGb48syRRNfflxX/8/fd4XYWYs3W0r+2oiSxFKedlTTXas7qHiifHqCYPGj9mlukLq+GGZ8Fmkt0tpeglhbCUzJJSy8vHzwsfvoeazrLRB7XblU0QpwS4VffcsPDd44cIwstLKUgylVEUl34d8LWxkKVr48XYpYwekQalamHqTZZkVb5ClPOrdIGI+fgtRToRFFnzF6R7V0oxhZi9LjUWGVVqqiXosfooopbdLYeEHJQ8HdMpUYcxOQyk4JM3lVr6O5EeAFoqNCS4CK8XD3bWLclARlSA+KbwVDsrZ5IiOsJnhe3PNS9/WNMOtAvzFrrMPOsJXPS/aMZle44eZiqGUD/WmP2jRjXOWwFKixo95ohNKUbupHyVIFvjHJRuUcia9Jxg1ozU6CnIoZSFLaWXD0VDvUUVVN/eeGE4oDkkaNaqM1auQ0qAUafyu96htl2KKt52QA32xlqUSAYZSShXQaVIITRDptTFtRCmfh3lPJKmx9GZJIDegFD+DEErB1Dus9gAeHUoXoSZTWaql4SFQShkDklN5isIoUKpl5+PXxVCKjcLkUFJWTdSvuseqoRRFm617cHRrUdHWjghsu7Skwz8IrsfzB8lNIos4hKYD/KNtvNiK2INofg7Ht3PXx7NfmkeAP3YJjJWFO/DH6Blr2vERd80CpeDjx7z8XHj+SC6xNwSWMqDU5ermcYfiNouVhjSs989Kj1Ka061LKiuTUAd+WNjJUsx7IsjKhmLFBb/fUGBYoEbVOe8JwS6lqCfi1F6lwZLuwTFmEGOi8xVDY6Hxw8JPbTtb1a8tE+/BNxuUipL3hFdtAIY08hC1POlQ6mGy+U4nG9E+n7pcYNUwoJTIUtD4qW6zaHusDaXrZhWNo2lYWgVwliLtUE+wMUQ8GXPRczB0A50QUUovSzH1BHseyAX1wS9N0fDpToh6Mw2lsmSwxhJYBMCSFQ+44z7sMW/zhWR3LzZ44JMYKi75AsyXwdsVJZTCnb7APbBUOBFweANhry+EdzW5wy4QBzwInunz0XeOa2wP9Rq/ENmlascwGFkKOV2l7xztoLmKSwJL6VAKMx1kKSVoQMgZC4S7r+pMJDYohXmy07/Qn6SO/fT1/5zJGdF5MnAoZbBLMU/0ZPyJkLf7X47sHpnycBXHcLaMiU6yFNQTSvQGgDMcPks/g+2fb3kalJLikKXGlNpLobaBH7CRc+PkQX7YUmWsZSnmiV7WpdbBFeh9aeMolnJcHbQxbYZSJEsli0/89PXmt757a/NVofsElDJq/LIuQ+OXLD3mauv+j5wD98V9Zyg+M7tU3dgwyygUczq6z+T0LUHvY0xpZSmlMj5Myy55+Y2OCDpv+fGR3+Oxcn2Ch5WMNovYEyyOH6AlGB7YefGPhQv9Ax8Wj864e/2D37TU3+8PO5Y/bykcHZPjWaXf1Iw+AEpF4p8Vjx6dax7P/uZ+2+35FzuL6+f7g6WHfqicrPrivjxwq7jkJiI+Z8pTBo1fSL7WSqvRQvxUTMzLy50F/ko4EwgtsJalhskTvaEkr4R+4T1Rtu+K3vJtg1LEUrkTjLakfsz99lz93ueLR0SQFFFK5+M3UOOf2Ab6vMLJpfgXxdvPVFwS94NiNuC8J3Sy1LF8lI2Kb2seg44jFL92ckQ02KaTpbBfSml7XuF8fxxC5WHsOVuriYbJIWWDUlj4FdSj50ryivHUlx8XX9h7+m5E6HsbH7/IQFP+RB71fPHkUlvntry8C8UTkItTQ1mPUkaNXyUKRw71D+S2azX12zeWzws4r3G0LUp5sHOCmpG3rQTS6cBszpn1kzCspOqhHokopZel7jWVX2C1KR4d95Ttv1046OmKtXUWjp4pZNlpGaZQiu3qdWCbfDDovVZd35Kff/OHioJN18fb/Q2vl+fXLkbif8lvKPRPjMnYiVNbXtgKlGqv8b9eUU2y1PXS8w0XKipyaxeDvTXT5ZXFuQvxW5sqC6YXKBxtZsmg8fPRrl41TS/I2Kqx9cSkR1g+CSjFXoajdhGmYO+h1vICP/1go/zyF/+JHUT8+gp3WHtPDIOlaKO4v6CgGurgfW9c3PPaZwfEDaocSulkqRA5JBWsBzEKH10q/ejiazsety7KWs+jltYo5YxhVy/ZuP2s7C7sup/NhZVGoLaP40caP1Z5fwF2XpUer1j8YMeOX4c4eZ/1k7UsJQW6jrEMCgryJx66r7VMduzYc1Cg18a0EaUk70ATNR+tyH80Ht+HvXvds9fHodTXkoBSZj5+2N5OneD3zzuemW3u+OW+K2L3ZyJLObHwO6E8hQIK/nU2p+O1sxN4DlxFkjWyk6WkwDNX/CybgnyMod4z22rn5S55oGXhztDjwkXeXU1DKUSbRZhZ7AVwhuT45dzavr+0Tjff7W6anhmqnl54/y8Igbm8sfnirrMI8RfvnBg7dGJNXU/gSuXdQzVrmsf/9eSjsvNrmh/sOpt7qe389M1TZ1vXLPxU09xBATaxzs0sGWQpZ+CFP17dkkxXEe8MNrvPcpawCSmVRJYS7VJS29CnRUdZKuqI7P/08x/ILz1Fq7CUhV3KKbV1J4mPHp3y7D8YCTiGnp8KoKIbmQAAEcBJREFU8IWLGj9xv5Rr/0da2VFXmcuFCWie73tSVlrIUk6EUlHLhstqVyz7bN62kWgiwdU9DUohnIvW9lNR+VrhogwNgSDMUGbWKIU6/L3agLtLywD4IJnMuRrYRUhC8V+r1Bf72wJBD0IXiz52epQSfPycIddQkdoFVfJXLQvo/tvPTvGzisbRGF7WspTrn9XncPRilPzJHZ/MYRuc0BDWKBGldLJUrOtLrTlT8d51LxUOylJWb/2YLN87gexS3aKhFMXxqz1wZPeRI6NTMsL3Lf0GMTJl+Xb+4D7a3ku7d4e29bjdCOPX85sT8/H4teq6nm9PYg/J97nN49gR/NP5TYMRxzNz9VjCL7nfvbJmYah10FP6h9GxFbCUPo4fF3gK3fbt3KOl8DtHxDgIIksJdikYSRNASNgD8As3gFD2McwwBpayiD2B4UaCIFbCkAbbJBe8GAK/+1B0meRQSi9LOYddNJGAGu9lkLpcCU+w/SQeQ6rv7VAKAEu0oA6H26REVm/N/EvPwUjEU9ujFMY7lQ+lLN7W7gxfq3yIrhCEMZaXtSyFfZte6jpat8cd7TWLZCUR143amDaiFIqnzT9QUsH7OoHkc99uYHYqrQkGlBIfTYgFjEP/O6Bb+KoGYcQdlzdi0tfoiaPTylJQVIay0AqqCmIVDczNy67l883iYkPJ0k6WijmH1XfXQ8WAp/N2DZ5l/FfwzQllXxGy01CKlOjTzHH6eof72qaFSGlTbY8nC0En9uUvyB43DroL7/75H145Nr34ScuM1/3MXF3P8eo+WR44yVDKdx54FCxtqt+KmBUBx7VcoFTd/5kKHMRLw/FkMklGlEJbIZoPM/2nJLefRL8O/P6hh0dtHUsJPn7oT9LOKAkTculZTLW+1DOxRylc1RJVRJLkfQemsCEylYGNLMVTgyK2v/HTDydFjEPVLWQppTi19ITnkxOP+jvBUitAKZSfUDOAkef4+kvffYddFnwO1A4blAJPqcnnuF3Y995vkYHAU4ylzPdL8S1gx6HSD5uXBGoDSoksJYXU0iFKZndWLnQMzY4IUSw0jsbgskQpGkBq8sk/zo3IodI/TIjTMnWEXuMnylJ0Xc0Fe4MxFmsGgwnvY+wxgEfA9SlOnNBQit7cUUdOko17ovLlTYPubLCUW2GpQTmOIBA3DlX7sZzMnx5sn5txBEmJ/l/V993hH6HxYygFO5V7uan+v3MXsSukt/qG59am6dGRKegKM2cpXRw/rh2SD95Jg5GsodOLYW5Qi6ZeUeOn9EOyK5BVNPsYLDU8sZ0sJfQi+5IofXxalGc4lNLJUgI1nqr3hdlW8nnjS7eRpUCuPUHolbDSbuskUyNlm0xpNH64K5VDyNv7A9QklTOiHEr3WO6X4jNIOB635mzMK66cF5BSG9MmKMUXT1l5Xti4SM4UqSSglF7jRyRqwmLD80JT7uiZ+jFhQsxIlkplhAxj/zY7GnUvX6nXDQNWKTtZKpULKgXu87xdMQ+UeuNGfyDhFTlUQykmS+FNNwg8EQxfzh2MZyMEZpyBk38Qp9rBUuWnEanozOmHx2vG4gj5UguW6nMz5fu/tkKWQsAkObup5BziqHsdCPQXGbjVkrsGgTUz9aswaPxYS9V/Pvl4682IPLR70RHihpYtSqm07BMqvGPN4ywag3beRuOn3aMeSN7eE31BgSlElBJkKZVK+UQcuG9++/zkuCCJiSjFTXQibch7bdtipLTzuWiAx5g0spSQBwSTP+9q/LsTz4kog3vsUCqVheR43DByserQLJRTfN9ba/xStMqRz/3l6TFx45cepQSNn0API0DvmcmXWupnBB9ijaNtUYrLCSPg8ba+j/69BcOAa0byDjtZisuEDhlKeRLeN25EE13ezolxb5f2aASUur6E98lnBT2QpebdtPALM5QCSzlgIBo8lLcUcIZiQcfxmplwloJSi444j1LB7Kb6LZv6gl65NxdiVlf3SzV4K1WmXrV6jZ/YDmKpwUhwYPShm+8OgaWMKMXnQSylm55sNH48JR37PPdmJ3TaDQ6lDLKUQC9Bmmj7GuoJniOp6ubeEzwtrJznJxA1a3Z0XDA0p0cpLhc40iSG47cPTIkzCrFUBu/qlRLxzyd6shKe3gqhBdqYNkUprniUHv5Gv2tMQCm9xk8ghr5t9tHU8q9OnBZ8tFB8elmKzygkBe7dKiw5UjMqisTKPXayFJ8Ljn0RRZZ6AwqXRBtQilv78CiFl+EoeAKN3yCYo3Y8i6FU9Q0Zb+vNHewuGYeQd+9U/1dz9x3uX0CWam+d94bbEaxMQynIUh+13ojI8e/XLKzdMhWP01U5FU7aVqQylaW0xmiy1KJ7tSiVfbZetAzZeaJrBSsHCc/y/y1fFFAGXWvt46cjx+vPPb9ouiGEnQVLcRo/3i7FE0uu5SvrS7aVVJSLWvSVoBQECiRP+xl+0c8KyRilJsYcXZ4fSVeWmtAYS1nKUkIjAsu3+kSQwhyli5DkSeXM0xIoHD+5KAfi1zZ2aE6TuEPj6ExRCjSe/e/d/fjKJQNa45KIUkZZiqsTQthicknEH984GGCyVNwEpdweUqKv/eCDDw6upYWfnH2Foj6QeqIa/hwvALPurV+Ievc3TT9sm8Wy/vvcup7fzDX3L3dCia7KUhSJ7NcI41HWW7Nm4U71QhRarktLeNmvLSupF/U+flwbqMUeUvu49/2+R3j/p4BSOruUmEEoUHoMjh4QbFLnM0YpKIU7K+9HdGZ3DqVMZKlUMU54lvki/+uKuGPeXpZSqYFSX587d+7lE/UzCWdIPYsBlUbjl7oT96J8F4TRMyYoZRV7QqB33G596EAE2bmbcA7XrmhjOi1KJYJgB8EUTg9U90Z5bqrXiqADSQperphxd3l//LCDX1xnKkvxmUkBb/yTmkHs0zCkNLIUf39IBkoFnfGvR8fj8NvCY/VplzWUgsbv5HTOgd2/P5KzEL22iaFUT5hYqrt6unndLELMts1OT/737KbmJc9faie/aAVLyd8X7HypehNp/K6zF3lAlmrov9xae6HCD7vUidqb752YHiTHdpVrbD/ToFT0XWhEHF/miKAtspRol9KayQ4k30+dzT1wskqNiYxRClBxdv38VNfaVNdRnhnKUpKz67Uyl7e35mbExaqi/EPVOY2fpSzlZN402bcgCCX4qtvvl+LKgc50eMcvQ67Ss89DYclfwHAl9YSbvRRe95oB/j5JfntuYanNe7kSRtIUW2eMUlKs9JjOnkgspUMpK5YilKpB8GXv5TMdDq5aGkdjVFlr/HgC0v65ljuh5uA6Ur1BRCnRLqXek/z0DXfXzEfLPN2FM5FgewuWD5oohSGlvlEeoTH9DeVIBc3912rng6VX8H5DN2Ji7nv9dAuZjIOOQ4iNUn0d3hNDLfkFoyeu98jLP/gbTrdcWvq25dFP56/3uIOl5+thoa7w1/8PlouPq2E/fwSdhy0jpS6CpQwaP64tCe/3+QuNH45GXHx/iCyls0tx1MOurl/9cXaiTwx2lClKSXjXKmItbS2CiyGXOJSylaVi//T5gzsQ7kXDTGYohWFP+4JXofHTKgoPwc6Riy9+1jLCYwy7nJEs5UyE3u2c6Ntz6MToOB8IQxvTaVBKSnjaa7CDj39uOpQy0fhx1YcsNdH3YvcPTyhLYQLZv2/X58XmMSgyl6Xa9n36ecWjIliON4527Ls18VDmWsahVOmfdrEI1Ls65OVTiIT5v09F4dbXOFVadbD7i6tTrrijrfuNtx7ciSJi5r4v+u4MVfW73fteffDavjv93p/3yEMdUUcwPvBiwNP2zq6Dh6oXPMtf/vt3d6cydvGDFmM7os1qPak/QGS8pukCf58DdoHUNR1LiXap1G3Um7MVrxdUTszwHgyZavwS3s+qK4uLC+HKMsxlKqKUbmGTuk+KZf9HZV7JRJ+4hEfVM5ClkA0Ut6HSK89FXatFKTijra/Pq6jv4DGG1S8zlELvDcyuzyuunxHiYGSKUtDYfV97383XHoXrUcpO4xfoPVEJH8GZIG8V1Dg6U5RCM35xqxA+ecK8qD4nEaVsZKmQ93bN6+WVFTeWvLcr6rfpLQsplIKLAfzQCTPgLoBEOgVs6gi78dY0jxyM0xVvgAL54SCO6+zeIK7KWNjJSiRNh1t++wS8LryX8fIPnIMFPLNFH+WuaPx4flFbq3wmAkPvbX4Q5fsDSM67zdpo/CTX8DuvIEj8K0JsEANKcczKFY53Te1v3PX++++/MsWv3OD/sOfca4TC2A5TUsSv8zlisESibcenr17tiAqmTqP3hHnhLCvk8CcxjIhOlvIJJeq+oPpfvvHqgyljHDvGUqaxJ3RZwLfrHCIQiysEdQ9gGpSCnnigwxCdSOJlKRuUQq8kXK4h6sCEWPyK39UbCi3/3bmL/eKGALWhmctSiaH332/c9UpVf1vXOy+fu7iWrxWMX0lPdPI88VDC+3AQ+RK7PLJoMxS2GCIUJqxVhDXwTXErmxGD7EVUOIUDdxDMl0VniC2CUEjU3r/z2UlET2e5ZA5SGJdAKZ9q4DN8YrKW404PBWnkko9nKdovxV0TD52YJzD4wZHcead7He/jx1/i7gLnBljEXUTf5W8RNX5gKZ6GP3ZmxdtiQRfvEYDLOlmKJ9AfOxNBzPJ88gXKNpxj85vbcfgth4+/ZjwOwK8pGDepnyhLGQnVMwk5nggEodhST9CnK5aKNnsUOwQsk1N2tInVx65SryhLlSX3S5pmkpC9eDEkpiT+KhVP0wFSUpbir5odh2K0DUnZj6i/LqIUZCn9DanvHgwkDCWXzxVuS8gQcfmEzR05WXTdNtFYpJTa1ps8oZzm/gfdpX/Ib/jPCsQWwuPO2Amd5eB2b/jOY9MQenEv/QrJl/Xmswwo0Ks7Xt9jR+8r89EvT+6TPOuSPn7hLSUeddsmf0vyuIsRlwnUki/4sYpS3pIiT5kJXfIUq7lILKHqB1J2KTVOtVUeYsXRF4Gy7etUltps127KEXt98GccSz6XL0eLNmszH5lm4ItJ3Lt6s/Q15FpCW424r+zQF/jlqxJrADgCKLXWrgeU+ot5+FySYJdK1wes1IRJTZSa+bLe36JUJ8tRtrfRtjMQogU/arcKLfNJ3i27U6+F5XhjdYdueHoOfXMk70DfVLKzVpAPUOrcCm5Xb31/r8pSrxV+oJ7M/LNoL7wQafvyyzlpiMyWsB+s20HUbocHL6tdcXr/2V/TstHjaCxxrpjY4di5jq0B3I6dr6ahppW81Sx4IMlSRS/aZ0L0hjxK3kzapXJesac2oXX4Xo4lc8xybNmwmmFY8mYKpY4aKmdRI8v7Pi5SKLIca7fvsCA2nEa/6vv2zafJUmwPb3x/1UGz4Weoje5Elnv7+rc2WKfnTC9tLsn7gMYl/n7tP7DT9B6bkzsL0X50ssdRlL/Z5j5cMil/5+4DSuGQpUre2m5Pb7i6k6rOyv7Zv3fFNT+8ff26ZMM3lNv1GyvXpPLs/OHt/iIallnhV/PStl+fyeENua8QsdvhLC6xb4CeFIXvfDbHmWKp9Wl7wJDF4cNK8aiAx1F1wNC/FicM+STv25y3mfUn6uQrzrHuDD29/vuGkrzVTA86buC/xsNxCqluORfw9wrHWY43sZt75WkdgxkUGNuct3Lq3UdZVbFsPLBy4py8V9XCt6yi7JyX2Q4GLDQOq+8kXkEd8vZ+nGSpf0i+0HgFxKlb97IYT+j81TRgL4NZKLDWpTLM+Chvp9J5xJN7tmdMlroxbzsrHqMIXfhWXurC6o7ytqos5X31STLbvWXlg1/gBMOXMCk0DGf/mieepLTUgmg1yIpWscJTufw122nI++kU+yTdZ6jS6k4gpMnqCFWqJyRXs1E+9Ss58WoG355qbTIoz/IWUi6uJqkNcK+GWGP/J6PGC4NWk5JVX23ZT0aerHCSL1dT/SftvNRQWG0PaDmsMgOh1epAojc+PVHSMtKq9//tgKToladUdVdOy83zqyF+QnKt5k9W9uqoVapkJdSvK/t8shZo1AD7VaUnzkAsVctOPL3ib47/B4XLxRr6wU52AAAAAElFTkSuQmCC)"
      ],
      "metadata": {
        "id": "ygkQ3YAB4oRs"
      }
    },
    {
      "cell_type": "code",
      "metadata": {
        "id": "887oKubQkCer"
      },
      "source": [
        "tokenizer = BertTokenizer.from_pretrained('bert-base-uncased')\n",
        "\n",
        "# Tokenize input\n",
        "text = \"[CLS] Who was Jim Henson ? [SEP] Jim Henson was a puppeteer [SEP]\"\n",
        "tokenized_text = tokenizer.tokenize(text)\n",
        "\n",
        "# Mask a token that we will try to predict back with `BertForMaskedLM`\n",
        "masked_index = 8\n",
        "tokenized_text[masked_index] = '[MASK]'\n",
        "assert tokenized_text == ['[CLS]', 'who', 'was', 'jim', 'henson', '?', '[SEP]', 'jim', '[MASK]', 'was', 'a', 'puppet', '##eer', '[SEP]']\n",
        "\n",
        "# Convert token to vocabulary indices\n",
        "indexed_tokens = tokenizer.convert_tokens_to_ids(tokenized_text)\n",
        "# Define sentence A and B indices associated to 1st and 2nd sentences (see paper)\n",
        "segments_ids = [0, 0, 0, 0, 0, 0, 0, 1, 1, 1, 1, 1, 1, 1]\n",
        "\n",
        "# Convert inputs to PyTorch tensors\n",
        "tokens_tensor = torch.tensor([indexed_tokens])\n",
        "segments_tensors = torch.tensor([segments_ids])\n"
      ],
      "execution_count": 29,
      "outputs": []
    },
    {
      "cell_type": "code",
      "metadata": {
        "id": "O5lERomjmKxy",
        "outputId": "8a75d095-de1d-432f-a436-63bb49feedcd",
        "colab": {
          "base_uri": "https://localhost:8080/"
        }
      },
      "source": [
        "tokenized_text"
      ],
      "execution_count": 30,
      "outputs": [
        {
          "output_type": "execute_result",
          "data": {
            "text/plain": [
              "['[CLS]',\n",
              " 'who',\n",
              " 'was',\n",
              " 'jim',\n",
              " 'henson',\n",
              " '?',\n",
              " '[SEP]',\n",
              " 'jim',\n",
              " '[MASK]',\n",
              " 'was',\n",
              " 'a',\n",
              " 'puppet',\n",
              " '##eer',\n",
              " '[SEP]']"
            ]
          },
          "metadata": {},
          "execution_count": 30
        }
      ]
    },
    {
      "cell_type": "markdown",
      "source": [
        "HuggngFace supplies many already trained models (pretrained models) suitable for different tasks. These models were trained in various languages and diverse activities. Some are specialized for specific tasks such as sentiment analysis, question answering, etc. Some, however, are more 'general' or 'global' and can be used for different tasks.\n",
        "\n",
        "We will use here the original BERT - which is not used in the industry but only for research purposes.\n",
        "\n",
        "For 'real-world' predictions, it is recommended to use the RoBERTa model (see the next section - named RoBERTa).\n",
        "\n",
        "To illustrate the usage of Huggingface's models, we show here two examples - one with the original BERT (BertModel) and one with Bert for Masked Language Models - BertMaskLM:"
      ],
      "metadata": {
        "id": "6Pc3EbF94gfz"
      }
    },
    {
      "cell_type": "code",
      "metadata": {
        "id": "R11SdI6lkbLq",
        "outputId": "4cf8df0a-55e1-4c03-dfd6-8c0c1a1d50aa",
        "colab": {
          "base_uri": "https://localhost:8080/",
          "height": 121,
          "referenced_widgets": [
            "aabb156b5a8344018b69937acbf56ea8",
            "efc0f9daac6041fba62a9a33867d5099",
            "b41d1fd6fda8433a8b32676dfd420d9c",
            "7e52ef3427974c9f88fc1bf983b07727",
            "b72209d208c246f1993817ed03aa7f32",
            "2bb1512371ac40b98aafeed292b396be",
            "bd67120a47a84f4ca09f3bbe88016d6f",
            "bf87755126e04461999bcdb825963776",
            "cc965614875548c5aa1da53932555a45",
            "0b6cdfbc76104e92ac16930162f0c789",
            "bee6b7d79f274d76a1c85a97fc468e2c"
          ]
        }
      },
      "source": [
        "# Load pre-trained model (weights)\n",
        "model = BertModel.from_pretrained('bert-base-uncased')\n",
        "device = 'cuda' if torch.cuda.is_available() else 'cpu'\n",
        "\n",
        "# Set the model in evaluation mode to deactivate the DropOut modules\n",
        "# This is IMPORTANT to have reproducible results during evaluation!\n",
        "model.eval()\n",
        "\n",
        "# If you have a GPU, put everything on cuda\n",
        "tokens_tensor = tokens_tensor.to(device)\n",
        "segments_tensors = segments_tensors.to(device)\n",
        "model.to(device)\n",
        "\n",
        "# Predict hidden states features for each layer\n",
        "with torch.no_grad():\n",
        "    # See the models docstrings for the detail of the inputs\n",
        "    outputs = model(tokens_tensor, token_type_ids=segments_tensors)\n",
        "    \n",
        "    # Transformers models always output tuples.\n",
        "    # See the models docstrings for the detail of all the outputs\n",
        "    # In our case, the first element is the hidden state of the last layer of the Bert model\n",
        "    encoded_layers = outputs[0]\n",
        "\n",
        "# We have encoded our input sequence in a FloatTensor of shape (batch size, sequence length, model hidden dimension)\n",
        "assert tuple(encoded_layers.shape) == (1, len(indexed_tokens), model.config.hidden_size)"
      ],
      "execution_count": 18,
      "outputs": [
        {
          "output_type": "display_data",
          "data": {
            "application/vnd.jupyter.widget-view+json": {
              "model_id": "aabb156b5a8344018b69937acbf56ea8",
              "version_minor": 0,
              "version_major": 2
            },
            "text/plain": [
              "Downloading:   0%|          | 0.00/420M [00:00<?, ?B/s]"
            ]
          },
          "metadata": {}
        },
        {
          "output_type": "stream",
          "name": "stderr",
          "text": [
            "Some weights of the model checkpoint at bert-base-uncased were not used when initializing BertModel: ['cls.seq_relationship.bias', 'cls.predictions.bias', 'cls.seq_relationship.weight', 'cls.predictions.transform.dense.bias', 'cls.predictions.transform.LayerNorm.weight', 'cls.predictions.transform.dense.weight', 'cls.predictions.decoder.weight', 'cls.predictions.transform.LayerNorm.bias']\n",
            "- This IS expected if you are initializing BertModel from the checkpoint of a model trained on another task or with another architecture (e.g. initializing a BertForSequenceClassification model from a BertForPreTraining model).\n",
            "- This IS NOT expected if you are initializing BertModel from the checkpoint of a model that you expect to be exactly identical (initializing a BertForSequenceClassification model from a BertForSequenceClassification model).\n"
          ]
        }
      ]
    },
    {
      "cell_type": "code",
      "metadata": {
        "id": "ndY8MVlkkibH",
        "outputId": "7bc6ed46-f74d-41ff-aeb3-470a1d4a0dc0",
        "colab": {
          "base_uri": "https://localhost:8080/"
        }
      },
      "source": [
        "# Load pre-trained model (weights)\n",
        "model = BertForMaskedLM.from_pretrained('bert-base-uncased')\n",
        "model.eval()\n",
        "\n",
        "device = 'cuda' if torch.cuda.is_available() else 'cpu'\n",
        "\n",
        "# If you have a GPU, put everything on cuda\n",
        "tokens_tensor = tokens_tensor.to(device)\n",
        "segments_tensors = segments_tensors.to(device)\n",
        "model.to(device)\n",
        "\n",
        "# Predict all tokens\n",
        "with torch.no_grad():\n",
        "    outputs = model(tokens_tensor, token_type_ids=segments_tensors)\n",
        "    predictions = outputs[0]\n",
        "\n",
        "# confirm we were able to predict 'henson'\n",
        "predicted_index = torch.argmax(predictions[0, masked_index]).item()\n",
        "predicted_token = tokenizer.convert_ids_to_tokens([predicted_index])[0]\n",
        "assert predicted_token == 'henson'"
      ],
      "execution_count": 19,
      "outputs": [
        {
          "output_type": "stream",
          "name": "stderr",
          "text": [
            "Some weights of the model checkpoint at bert-base-uncased were not used when initializing BertForMaskedLM: ['cls.seq_relationship.bias', 'cls.seq_relationship.weight']\n",
            "- This IS expected if you are initializing BertForMaskedLM from the checkpoint of a model trained on another task or with another architecture (e.g. initializing a BertForSequenceClassification model from a BertForPreTraining model).\n",
            "- This IS NOT expected if you are initializing BertForMaskedLM from the checkpoint of a model that you expect to be exactly identical (initializing a BertForSequenceClassification model from a BertForSequenceClassification model).\n"
          ]
        }
      ]
    },
    {
      "cell_type": "markdown",
      "source": [
        "As the warning demonstrates, these models can not be used 'out-of-the-box' and must be trained further before we can use them for making predictions."
      ],
      "metadata": {
        "id": "IaCwcEBc7vwc"
      }
    },
    {
      "cell_type": "markdown",
      "metadata": {
        "id": "whFgA_OZ2xm_"
      },
      "source": [
        "## Fine-tune example.\n",
        "\n",
        "Let's fine-tune BERT on our beloved domain: **Pizza and Ice Cream**.\n",
        "\n",
        "We will train a sentiment analysis on the topic - where 1 is positive, and 0 is a negative sentiment.\n"
      ]
    },
    {
      "cell_type": "code",
      "metadata": {
        "id": "tBG2LQZlHZd5"
      },
      "source": [
        "from transformers import BertForSequenceClassification\n",
        "from torch.optim import AdamW"
      ],
      "execution_count": 20,
      "outputs": []
    },
    {
      "cell_type": "code",
      "metadata": {
        "id": "4PkWU-7vHZla",
        "outputId": "a83becbe-0bec-453b-a082-ab1f6f732037",
        "colab": {
          "base_uri": "https://localhost:8080/"
        }
      },
      "source": [
        "model = BertForSequenceClassification.from_pretrained('bert-base-uncased', \n",
        "                                                      num_labels = 2,\n",
        "                                                      return_dict=True)\n",
        "model.train()\n",
        "\n",
        "optimizer = AdamW(model.parameters(), lr=1e-5)\n"
      ],
      "execution_count": 21,
      "outputs": [
        {
          "output_type": "stream",
          "name": "stderr",
          "text": [
            "Some weights of the model checkpoint at bert-base-uncased were not used when initializing BertForSequenceClassification: ['cls.seq_relationship.bias', 'cls.predictions.bias', 'cls.seq_relationship.weight', 'cls.predictions.transform.dense.bias', 'cls.predictions.transform.LayerNorm.weight', 'cls.predictions.transform.dense.weight', 'cls.predictions.decoder.weight', 'cls.predictions.transform.LayerNorm.bias']\n",
            "- This IS expected if you are initializing BertForSequenceClassification from the checkpoint of a model trained on another task or with another architecture (e.g. initializing a BertForSequenceClassification model from a BertForPreTraining model).\n",
            "- This IS NOT expected if you are initializing BertForSequenceClassification from the checkpoint of a model that you expect to be exactly identical (initializing a BertForSequenceClassification model from a BertForSequenceClassification model).\n",
            "Some weights of BertForSequenceClassification were not initialized from the model checkpoint at bert-base-uncased and are newly initialized: ['classifier.weight', 'classifier.bias']\n",
            "You should probably TRAIN this model on a down-stream task to be able to use it for predictions and inference.\n"
          ]
        }
      ]
    },
    {
      "cell_type": "markdown",
      "source": [
        "As you can see from the warning message, the weights we loaded into the model - `bert-base-uncased` were trained on some corpus, but were never trained on our specific task. So it's up to us to fine-tune it on that given task.\n",
        "\n",
        "This is also called training on a down-stream task."
      ],
      "metadata": {
        "id": "_0gj0cXF2uOk"
      }
    },
    {
      "cell_type": "markdown",
      "metadata": {
        "id": "VeHUeDYkIBHl"
      },
      "source": [
        "### Fine-Tuning vs Training\n",
        "We don't want to train the WHOLE Bert. \n",
        "\n",
        "It took more than four days with the help of hundreds of GPUs to train it on a massive amount of textual data. Instead, we would like to fine-tune only the upper layers to match our needs.\n",
        "\n",
        "The optimizer lets us choose layers where we want to focus at:"
      ]
    },
    {
      "cell_type": "code",
      "metadata": {
        "id": "to_Ursm4HZof"
      },
      "source": [
        "no_decay = ['bias', 'LayerNorm.weight']\n",
        "optimizer_grouped_parameters = [\n",
        "    {'params': [p for n, p in model.named_parameters() if not any(nd in n for nd in no_decay)], 'weight_decay': 0.01},\n",
        "    {'params': [p for n, p in model.named_parameters() if any(nd in n for nd in no_decay)], 'weight_decay': 0.0}\n",
        "]\n",
        "optimizer = AdamW(optimizer_grouped_parameters, lr=1e-5)\n"
      ],
      "execution_count": 22,
      "outputs": []
    },
    {
      "cell_type": "markdown",
      "source": [
        "Let's prepare our \"training data\":"
      ],
      "metadata": {
        "id": "0M8lKgl4-DJE"
      }
    },
    {
      "cell_type": "code",
      "metadata": {
        "id": "o71E6R3iI5Cd"
      },
      "source": [
        "text_batch = [\"I love Ice Cream.\", \n",
        "         \"I don't care for Ice Cream.\", \n",
        "         \"I like my pizza cold\", \n",
        "         \"The pizza was cold\", \n",
        "         \"The ice cream was amazing\", \n",
        "         \"The pizza toppings wer boring\",\n",
        "         \"He would like fries with that\",\n",
        "         \"Ice cream is awesome\"]\n",
        "  \n",
        "labels = [1, \n",
        "          0,\n",
        "          1,\n",
        "          0,\n",
        "          1,\n",
        "          0,\n",
        "          1,\n",
        "          1]"
      ],
      "execution_count": 23,
      "outputs": []
    },
    {
      "cell_type": "markdown",
      "metadata": {
        "id": "HWWQY8kdqJUd"
      },
      "source": [
        "Tokenizing and encoding can be done through the huggingFace library using either:"
      ]
    },
    {
      "cell_type": "code",
      "metadata": {
        "id": "_qhj8GEOHZgt",
        "colab": {
          "base_uri": "https://localhost:8080/"
        },
        "outputId": "e203a2e6-5d47-49f9-f775-11ce304cd4a9"
      },
      "source": [
        "encoding = tokenizer(text_batch, \n",
        "                     return_tensors='pt', # pt = pyTorch \n",
        "                     padding=True, \n",
        "                     truncation=True)\n",
        "\n",
        "input_ids = encoding['input_ids']\n",
        "attention_mask = encoding['attention_mask']\n",
        "\n",
        "print(input_ids[0])\n",
        "print(attention_mask[0])"
      ],
      "execution_count": 24,
      "outputs": [
        {
          "output_type": "stream",
          "name": "stdout",
          "text": [
            "tensor([ 101, 1045, 2293, 3256, 6949, 1012,  102,    0,    0,    0,    0])\n",
            "tensor([1, 1, 1, 1, 1, 1, 1, 0, 0, 0, 0])\n"
          ]
        }
      ]
    },
    {
      "cell_type": "markdown",
      "metadata": {
        "id": "gzMjU3QuqQ_9"
      },
      "source": [
        "or (newer):"
      ]
    },
    {
      "cell_type": "code",
      "metadata": {
        "id": "t0HhtZDnUIuF",
        "colab": {
          "base_uri": "https://localhost:8080/"
        },
        "outputId": "a6350e3f-db4c-4e6d-affa-94bc6f785522"
      },
      "source": [
        "encoded_dict = tokenizer.encode_plus(\n",
        "                        text_batch,                # Sentence to encode.\n",
        "                        add_special_tokens = True, # Add '[CLS]' and '[SEP]'\n",
        "                        padding = True,\n",
        "                        return_attention_mask = True,   # Construct attn. masks.\n",
        "                        return_tensors = 'pt',     # Return pytorch tensors.\n",
        "                        truncation=True\n",
        "                   )\n",
        "pprint(encoded_dict)"
      ],
      "execution_count": 25,
      "outputs": [
        {
          "output_type": "stream",
          "name": "stdout",
          "text": [
            "{'attention_mask': tensor([[1, 1, 1, 1, 1, 1, 1, 1, 1, 1]]),\n",
            " 'input_ids': tensor([[101, 100, 100, 100, 100, 100, 100, 100, 100, 102]]),\n",
            " 'token_type_ids': tensor([[0, 0, 0, 0, 0, 0, 0, 0, 0, 0]])}\n"
          ]
        }
      ]
    },
    {
      "cell_type": "code",
      "source": [
        "text_batch"
      ],
      "metadata": {
        "colab": {
          "base_uri": "https://localhost:8080/"
        },
        "id": "mrGXQAEUj-h7",
        "outputId": "c5973506-6857-4277-fed4-ac03ca47f309"
      },
      "execution_count": 26,
      "outputs": [
        {
          "output_type": "execute_result",
          "data": {
            "text/plain": [
              "['I love Ice Cream.',\n",
              " \"I don't care for Ice Cream.\",\n",
              " 'I like my pizza cold',\n",
              " 'The pizza was cold',\n",
              " 'The ice cream was amazing',\n",
              " 'The pizza toppings wer boring',\n",
              " 'He would like fries with that',\n",
              " 'Ice cream is awesome']"
            ]
          },
          "metadata": {},
          "execution_count": 26
        }
      ]
    },
    {
      "cell_type": "code",
      "metadata": {
        "id": "UU3QVRzxUqEA"
      },
      "source": [
        "# Tokenizing the sentences is performing several actions.\n",
        "# this is NOT the way to do it - and only brought here for the same of explaining:\n",
        "small_train_dataset = []\n",
        "\n",
        "# For every sentence...\n",
        "for sent in text_batch:\n",
        "    # `encode_plus` will:\n",
        "    #   (1) Tokenize the sentence.\n",
        "    #   (2) Prepend the `[CLS]` token to the start.\n",
        "    #   (3) Append the `[SEP]` token to the end.\n",
        "    #   (4) Map tokens to their IDs.\n",
        "    #   (5) Pad or truncate the sentence to `max_length`\n",
        "    #   (6) Create attention masks for [PAD] tokens.\n",
        "    encoded_dict = tokenizer.encode_plus(\n",
        "                        sent,                      # Sentence to encode.\n",
        "                        add_special_tokens = True, # Add '[CLS]' and '[SEP]'\n",
        "                        padding = True,\n",
        "                        return_attention_mask = True,   # Construct attn. masks.\n",
        "                        return_tensors = 'pt',     # Return pytorch tensors.\n",
        "                        truncation=False\n",
        "                   )\n",
        "    \n",
        "    # Add the encoded sentence to the training list.\n",
        "    small_train_dataset.append(encoded_dict)"
      ],
      "execution_count": 32,
      "outputs": []
    },
    {
      "cell_type": "markdown",
      "source": [
        "A better way to perform it, is using either `pandas` or huggingface's `dataset`. "
      ],
      "metadata": {
        "id": "L0qZapDl3Wbm"
      }
    },
    {
      "cell_type": "code",
      "source": [
        "df = pd.DataFrame({\"labels\": labels, \"text\": text_batch})"
      ],
      "metadata": {
        "id": "BsJFUq72-WyO"
      },
      "execution_count": null,
      "outputs": []
    },
    {
      "cell_type": "markdown",
      "source": [
        "The HuggingFace library is constantly changing. The best method is to keep an eye on their excellent tutorials to know what the best 'current' way to run it.\n",
        "\n",
        "For example, [this fine-tuning tutorial](https://huggingface.co/docs/transformers/training) will guide you how to use BERT family using the HuggingFace trainer, with TensorFlow's Keras or directly in native pyTorch.\n",
        "\n",
        "In the next section - RoBERTa - we will do the same thing, but with the RoBERTa instead of the original BERT model. \n"
      ],
      "metadata": {
        "id": "vq1OoXXIIguh"
      }
    },
    {
      "cell_type": "code",
      "source": [
        "### Try it your self - train a model on some toy dataset to your choice ###\n",
        "### Follow the tutorial: https://huggingface.co/docs/transformers/training\n",
        "\n"
      ],
      "metadata": {
        "id": "E2LvZA6qI73n"
      },
      "execution_count": null,
      "outputs": []
    },
    {
      "cell_type": "markdown",
      "metadata": {
        "id": "d4mZXE2ERYJW"
      },
      "source": [
        "# Roberta"
      ]
    },
    {
      "cell_type": "markdown",
      "metadata": {
        "id": "dtBI1i7xCs3V"
      },
      "source": [
        "\n",
        "Instead of the big and combersome BERT, try using the smart sister: [roBERTa - A Robustly Optimized BERT Pretraining Approach](https://github.com/pytorch/fairseq/tree/master/examples/roberta)\n",
        "\n",
        "**RoBERTa** (short for Robustly optimized BERT approach; [Liu, et al. 2019](https://arxiv.org/abs/1907.11692)) refers to a new receipt for training BERT to achieve better results, as they found that the original BERT model is significantly undertrained. The receipt contains the following learnings:\n",
        "\n",
        "Train for longer with a bigger batch size.\n",
        "Remove the next sentence prediction (NSP) task.\n",
        "Use longer sequences in training data format. The paper found that using individual sentences as inputs hurts downstream performance. Instead, we should use multiple sentences sampled contiguously to form longer segments.\n",
        "Change the masking pattern dynamically. The original BERT applies masking once during the data preprocessing stage, resulting in a static mask across training epochs. RoBERTa applies masks in 10 different ways across 40 epochs.\n",
        "RoBERTa also added a new dataset CommonCrawl News and further confirmed that pretraining with more data helps improve the performance on downstream tasks. It was trained with the BPE on byte sequences, same as in GPT-2. They also found that choices of hyperparameters have a major impact on the model performance.\n",
        "\n",
        "\n",
        "HuggingFace fully supports it - https://huggingface.co/transformers/model_doc/roberta.html - but a few adjustments are necessary to get it to work.\n",
        "\n",
        "Check out the tutorial section for info on how to use their impressive framework:\n",
        "* https://huggingface.co/transformers/pretrained_models.html\n",
        "\n"
      ]
    },
    {
      "cell_type": "markdown",
      "source": [
        "Due to its availability and efficiency, RoBERTa is quite common in text classification, and we will use it here to classify patents, using the [patents dataset](https://huggingface.co/datasets/ccdv/patent-classification) that is hosted in [HuggingFace Dataset Hub](https://huggingface.co/datasets).\n",
        "\n",
        "We will use [HuggingFace](https://huggingface.co/) implementation of RoBERTa. HuggingFace is a french company that has lately took over the field, due to their excellent engineering efforts, open-source software and a very large community who contributed both models, datasets and code.\n",
        "\n",
        "Huggingface offers also [NLP courses](https://huggingface.co/course/chapter1/1), where they guide the users how to use their software."
      ],
      "metadata": {
        "id": "6ulkikjfnvG7"
      }
    },
    {
      "cell_type": "code",
      "source": [
        "%%capture\n",
        "!pip install transformers\n",
        "!pip install datasets"
      ],
      "metadata": {
        "id": "GFtbF-0Cn0TX"
      },
      "execution_count": 64,
      "outputs": []
    },
    {
      "cell_type": "code",
      "source": [
        "import numpy as np\n",
        "\n",
        "from datasets import load_dataset, load_metric\n",
        "from transformers import RobertaTokenizer, RobertaForSequenceClassification, TrainingArguments, Trainer, DataCollatorWithPadding\n"
      ],
      "metadata": {
        "id": "oGMM_Mqin1hS"
      },
      "execution_count": 65,
      "outputs": []
    },
    {
      "cell_type": "markdown",
      "source": [
        "### Datasets\n",
        "[Datasets](https://huggingface.co/docs/datasets/) is a library and a hub by HuggingFace that helps procesing datasets.\n",
        "\n",
        "The hub contains a large variety of pre-made datasets for different tasks and in many different languages.\n",
        "\n",
        "The Datasets library itself contains tool to process the data and to divide it to Train / Validation / Test sets. "
      ],
      "metadata": {
        "id": "wCCWU3DB_b4N"
      }
    },
    {
      "cell_type": "markdown",
      "source": [
        "We will use here a pre-made dataset for **Patent-Classification**."
      ],
      "metadata": {
        "id": "3dyNM2o2M-UA"
      }
    },
    {
      "cell_type": "code",
      "source": [
        "dataset = load_dataset('ccdv/patent-classification')\n"
      ],
      "metadata": {
        "id": "K1C032mPn3pb",
        "colab": {
          "base_uri": "https://localhost:8080/",
          "height": 249,
          "referenced_widgets": [
            "99511d70874a40dab0569393afb52930",
            "7f41a45c0c7c490d971349701b2f8fa2",
            "b08370e71423452697d42ee62cf173b4",
            "afda340167364f3eb012a110d1200411",
            "46e8a8afccc64c97af1893b6849922ee",
            "d0615a5785d54c6e85711476bdeefced",
            "2de0af8a901248b2ba541b138a9b5b25",
            "6981c0b2609b406aa7eee6bebe941a00",
            "58000c1898114722a9d16cede6401aef",
            "1b9bbedce1744e82978cd03fe6dd84a9",
            "fa5b101584b64fdbb6d07fff656ec514",
            "f860f8fbab43416da3ab786344a09207",
            "b8adaa40c91c406ea683a9f11bfd290e",
            "dc89424454d1489da228532616527555",
            "ef18bb144e484aac93694ae9cfa2e42b",
            "4fb5c677519641b890471b40f7fb0cd5",
            "0c90f3e0aee74ebf9aecd405988f1c06",
            "3579051da031404c8cfb2dbecad457eb",
            "a8cbe66e0d764e5fa1ff3b9c9e1ec441",
            "f11107a501e449d39c8995424128eb7e",
            "fb0505c0c9504b3497b438afde47267c",
            "3f2b38a0ba2e4d76bd6786edeedc57e4",
            "4a8ff65fbb7348b5a7d0fd7f178fd45a",
            "7514ea547ddf420bba37c20f0d4b01e8",
            "c332552166494d1ea1c4479cc843a2e3",
            "a795f1c205b443b0ac1ae8fa896de7ce",
            "b0ca9f07e643472da099a3c8f953911b",
            "183f030fa6fb46218e2bdd91482b29f2",
            "7afe1ae8fb4b4ebcbce8431e6d89170f",
            "22c7da71b7494196a2b01804e420dc0d",
            "663b8c3d864347b9bb6f41ae6053fd63",
            "c42c53001d2a42d0a05a490e7e925958",
            "2f1ee252b5cd4aad973a4e4f2fe0125a",
            "31ba8bb0bc044a3ba0dd091783f2224f",
            "02a998a88c2846d39839c7d28283efa7",
            "b5b80a680e96405381fd7c8f0ac0784f",
            "49b0edab2d8d4bfba1d13415576003ad",
            "e285412ec1c743ffa5f77397533fc0c2",
            "92b8e974e8774ae1a2f3a6ccb205e089",
            "b0e93a9a46554472b606166e2c6dc5c1",
            "cbfe70e592234f1481bbc91233ebd310",
            "7ffa72f7ec5348b1a005105dd10f694b",
            "24e4aad6b0b7408b8748d190953f9a6e",
            "e2ea0986a4df4553ac2ed6f96f573a35",
            "6a7654b466554cd1965ef09c31be5ec1",
            "c19ddbd3f797458eac56a2f1c800bc3c",
            "2399367043fe4641b7e6039b905abd17",
            "15cbda9c63074e0b88a4eeedbd583c55",
            "26b255a18a204511b82af6bf33c6c3b4",
            "90a25bc1c181484db0b4be05197913f5",
            "d8c937156116491cad83db526537ca74",
            "4f56501091be48d3ae2de6c2b474aa84",
            "94087110ec0245efb0a44bfc41a90197",
            "4b9999b446264460bb167063a4d5e7a5",
            "fb4d6e5993a44bc4b102eac8612a905f",
            "34712deab78145ed8666fc5a9d052661",
            "3e3b774fc1424c5eb4d8fb3ad72c7914",
            "920b436cc67f405bbae43e101a2eaa23",
            "9144089c7f4e4909a23adb0d500f5655",
            "91613608f8074d6cac7bd43bc9e15bdb",
            "2c133063ae9b4cdc94f2cac6b18056b2",
            "b5df3486d748429e873f20b13eba6d49",
            "745bf15377654168b4cd53b8c90b60b3",
            "5a24b160327343febecfc7928769f0f8",
            "9f1bac06b8864b4aab678ebc86c7df43",
            "eed2f08289cb41c6af0f63a56aa049f5",
            "12894d95e3e64d33be7acbc9914aaf6b",
            "4481b176d12b44a7b197a72c4aa90b27",
            "d80193d360f9427f8cb6e8cf002d669f",
            "92cf62be85cb4fc389449369aa7424b7",
            "09eb091a56934f8f97db91e6cf7df6ca",
            "76a8445afbc640409568996c9837dad6",
            "5759327541244eab81460596eb209d2d",
            "89a97b1612e74af49948a6658723cca7",
            "03c8e89bfa3d4db3a70f1e6e47164bd5",
            "3a42b17b05fd4377bc8a46c8bb9de7a4",
            "318d4925f245493d9517d430c28f4d48",
            "d4035a41a53e405db4a89f62818cbd2f",
            "63f95921a0534f3399c4910f9451600b",
            "110ecb88f7f44204ab328e985aa72255",
            "7687b356a08c406097118a722616451e",
            "cd2ec8c8c5654d36aca5306b774360c4",
            "a26eb7dc8001462db9020bffe2e1d93e",
            "c4b42f9e103b439399f0feff31961f06",
            "db7249e8475c4e39b841d7362de54ab3",
            "c993ddbdf82b4174a8368180f64506b4",
            "b291f7ac842e4fe89dab86a06a391bc6",
            "e26eabc6ad2e4d9f86d8492881b56c09"
          ]
        },
        "outputId": "ea6840d1-45d6-4d15-c10f-08061e579d3d"
      },
      "execution_count": 66,
      "outputs": [
        {
          "output_type": "display_data",
          "data": {
            "application/vnd.jupyter.widget-view+json": {
              "model_id": "99511d70874a40dab0569393afb52930",
              "version_minor": 0,
              "version_major": 2
            },
            "text/plain": [
              "Downloading:   0%|          | 0.00/3.93k [00:00<?, ?B/s]"
            ]
          },
          "metadata": {}
        },
        {
          "output_type": "stream",
          "name": "stderr",
          "text": [
            "WARNING:datasets.builder:No config specified, defaulting to: patent_classification_dataset/patent\n"
          ]
        },
        {
          "output_type": "stream",
          "name": "stdout",
          "text": [
            "Downloading and preparing dataset patent_classification_dataset/patent to /root/.cache/huggingface/datasets/ccdv___patent_classification_dataset/patent/1.0.0/296a870cf0b6aa21c8cbd74f4fcd0dafdf4d7795cc2bba5ee2918ddd85225740...\n"
          ]
        },
        {
          "output_type": "display_data",
          "data": {
            "application/vnd.jupyter.widget-view+json": {
              "model_id": "f860f8fbab43416da3ab786344a09207",
              "version_minor": 0,
              "version_major": 2
            },
            "text/plain": [
              "Downloading:   0%|          | 0.00/487M [00:00<?, ?B/s]"
            ]
          },
          "metadata": {}
        },
        {
          "output_type": "display_data",
          "data": {
            "application/vnd.jupyter.widget-view+json": {
              "model_id": "4a8ff65fbb7348b5a7d0fd7f178fd45a",
              "version_minor": 0,
              "version_major": 2
            },
            "text/plain": [
              "Downloading:   0%|          | 0.00/99.4M [00:00<?, ?B/s]"
            ]
          },
          "metadata": {}
        },
        {
          "output_type": "display_data",
          "data": {
            "application/vnd.jupyter.widget-view+json": {
              "model_id": "31ba8bb0bc044a3ba0dd091783f2224f",
              "version_minor": 0,
              "version_major": 2
            },
            "text/plain": [
              "Downloading:   0%|          | 0.00/97.9M [00:00<?, ?B/s]"
            ]
          },
          "metadata": {}
        },
        {
          "output_type": "display_data",
          "data": {
            "application/vnd.jupyter.widget-view+json": {
              "model_id": "6a7654b466554cd1965ef09c31be5ec1",
              "version_minor": 0,
              "version_major": 2
            },
            "text/plain": [
              "0 examples [00:00, ? examples/s]"
            ]
          },
          "metadata": {}
        },
        {
          "output_type": "display_data",
          "data": {
            "application/vnd.jupyter.widget-view+json": {
              "model_id": "34712deab78145ed8666fc5a9d052661",
              "version_minor": 0,
              "version_major": 2
            },
            "text/plain": [
              "0 examples [00:00, ? examples/s]"
            ]
          },
          "metadata": {}
        },
        {
          "output_type": "display_data",
          "data": {
            "application/vnd.jupyter.widget-view+json": {
              "model_id": "12894d95e3e64d33be7acbc9914aaf6b",
              "version_minor": 0,
              "version_major": 2
            },
            "text/plain": [
              "0 examples [00:00, ? examples/s]"
            ]
          },
          "metadata": {}
        },
        {
          "output_type": "stream",
          "name": "stdout",
          "text": [
            "Dataset patent_classification_dataset downloaded and prepared to /root/.cache/huggingface/datasets/ccdv___patent_classification_dataset/patent/1.0.0/296a870cf0b6aa21c8cbd74f4fcd0dafdf4d7795cc2bba5ee2918ddd85225740. Subsequent calls will reuse this data.\n"
          ]
        },
        {
          "output_type": "display_data",
          "data": {
            "application/vnd.jupyter.widget-view+json": {
              "model_id": "d4035a41a53e405db4a89f62818cbd2f",
              "version_minor": 0,
              "version_major": 2
            },
            "text/plain": [
              "  0%|          | 0/3 [00:00<?, ?it/s]"
            ]
          },
          "metadata": {}
        }
      ]
    },
    {
      "cell_type": "markdown",
      "metadata": {
        "id": "GUF1tNfwouYS"
      },
      "source": [
        "The dataset is already divided to Train, Validation and Test."
      ]
    },
    {
      "cell_type": "code",
      "execution_count": 67,
      "metadata": {
        "colab": {
          "base_uri": "https://localhost:8080/"
        },
        "id": "iKOXcb7SoP_w",
        "outputId": "14c06f90-f16f-4f48-bf80-945dd4e44596"
      },
      "outputs": [
        {
          "output_type": "execute_result",
          "data": {
            "text/plain": [
              "DatasetDict({\n",
              "    train: Dataset({\n",
              "        features: ['text', 'label'],\n",
              "        num_rows: 25000\n",
              "    })\n",
              "    validation: Dataset({\n",
              "        features: ['text', 'label'],\n",
              "        num_rows: 5000\n",
              "    })\n",
              "    test: Dataset({\n",
              "        features: ['text', 'label'],\n",
              "        num_rows: 5000\n",
              "    })\n",
              "})"
            ]
          },
          "metadata": {},
          "execution_count": 67
        }
      ],
      "source": [
        "dataset"
      ]
    },
    {
      "cell_type": "code",
      "execution_count": 68,
      "metadata": {
        "colab": {
          "base_uri": "https://localhost:8080/"
        },
        "id": "f3DGsDaHyJeL",
        "outputId": "bf821744-1cc6-4391-80e0-7ee05121a0a1"
      },
      "outputs": [
        {
          "output_type": "execute_result",
          "data": {
            "text/plain": [
              "{'label': 6,\n",
              " 'text': 'turning now to the drawings , there is shown in fig1 an integrated circuit continuity testing system in which a specimen or circuit configuration 16 is mounted on a fixture 18 operable to vibrate the specimen under controlled conditions , e . g . sinusoidally , randomly , or a combination of the two . the specific structure of the fixture and the means for vibrating it are known in the art and thus not further discussed . the specimen and fixture are housed in a closed chamber 20 whereby the specimen under test can be subjected to temperature cycling , either alone or in conjunction with the vibration testing . an environmental control apparatus , indicated at 22 , is provided for selectively heating or cooling the chamber interior . a cable 24 electrically connects fixture 18 , and thus specimen 16 , with a continuity testing board 26 . it is to be understood that cable 24 includes a multiplicity of separate electrical connections between fixture 18 and testing board 26 , the details of which are discussed in connection with fig6 and 7 . in general , however , continuity testing board 26 includes a plurality of identical sensing circuits , each of which is electrically connected to one of the test circuits of specimen 16 during continuity testing . a power supply 28 biases each of the sensing circuits to a predetermined positive voltage , for example five volts . a pulse generator 30 is provided to control the timing or frequency of samples in the course of testing . a cable 32 connects continuity testing board 26 with a logic analyzer 34 . again , a multiplicity of separate electrical connections are involved , in this case between each of the sensing circuits on continuity testing board 26 and one of many data storage channels in logic analyzer 34 . further electrical connections between logic analyzer 34 and continuity testing board 26 include a plurality of triggering channels provided to initiate storage of data by the logic analyzer upon recognition of an error condition during testing , and a connection for interaction with pulse generator 30 . an indicator 36 also is electrically connected to logic analyzer 34 . panel 36 includes a plurality of light emitting diodes for providing certain indications to a user of the test system . a computer 38 is connected to logic analyzer 34 through a cable connection 40 . computer 38 contains the software which controls logic analyzer 34 in its acquisition and storage of test data and , if desired , can include an associated disc drive or other memory , as indicated at 42 , for the storage of data to supplement the logic analyzer . further peripheral equipment is connected to the computer and used in the course of testing , including a video display terminal 44 for providing the operator with a visual indication of test results on - line , and a printer 46 for generating a permanent record of the test results . fig2 discloses test specimen 16 in greater detail . while the present invention contemplates testing most any configuration involving a multiplicity of individual circuits , the present test system is particularly well adapted for detecting open circuits in an assembly of semiconductor packages mounted to a printed circuit board , such as printed circuit board 48 to which is mounted a plurality of chip carriers 50 . other multiple circuit devices could be tested as well , e . g . flat packs and dual in - line packages ( dip ). it is known as well to mount semiconductor chips directly to a printed circuit board , and it can be appreciated that individual semiconductor chips or chip carriers of a particularly complex design might be tested individually . parallel or simultaneous testing is accomplished by providing multiple , substantially identical sensing circuits on continuity testing board 26 . one such sensing circuit is indicated at 54 in fig3 and includes a differential amplifier 62 and a nand gate 74 available from fairchild as part of a model 9622 receiver . each sensing circuit further includes a high voltage terminal 56 connected to power supply 28 such that it is biased to a predetermined high voltage , e . g . + 5 volts . high voltage terminal 56 is connected to a common terminal or node 58 through an input resistor 60 . node 58 provides a voltage level , in this case a positive voltage of less than 5 , to the positive input terminal of differential amplifier 62 , and also to a terminal 64 connected to the input of the circuit under test . the output voltage of the circuit under test is provided to a terminal 66 of the sensing circuit , whereby the output voltage is provided through a common terminal or node 68 to the inversion input of differential amplifier 62 ( preferably with good common mode rejection ), and also to ground through an output resistor 70 . it should be noted that the terms &# 34 ; input &# 34 ; and &# 34 ; output &# 34 ; for resistors 60 and 70 are used for convenience . these resistors can , as well , be considered as connected to the outputs of the test circuit and providing the inputs to amplifier 62 . in effect , input resistor 60 , output resistor 70 and the arrangement of the circuit under test and differential amplifier 62 in parallel are combined to provide three resistances in series between high voltage terminal 56 and a low voltage terminal 72 , i . e . ground . the sensing of open or unacceptably resistive test circuits is based upon the difference in voltage at the positive and inversion terminals of the differential amplifier . the differential amplifier is a known logic or digital device which generates one of two alternative logic states : a &# 34 ; high &# 34 ; state or higher voltage output whenever the voltage at the positive terminal exceeds the voltage at the inversion terminal by a characteristic or predetermined threshold ; and a low logical output of voltage whenever the voltage at the positive input does not exceed the voltage at the inversion input by the threshold . differential amplifier 62 is selected for its predetermined threshold voltage level , e . g . approximately 1 . 5 volts . an open or unacceptably resistive test circuit is detected as follows . amplifier 62 is a high resistance or impedance device , such that the resistance of its parallel arrangement with the test circuit essentially equals the resistance of the test circuit itself , a nominal or expected resistance of about 2 ohms . input and output resistors 60 and 70 have a substantially greater resistance , for example 100 ohms each . consequently the voltage drop across the test circuit , i . e . across the comparator inputs , is quite small compared to the voltage drop across each of the resistors , for example less than 0 . 1 volts . thus , when the test circuit provides a short or closed path , the drop in voltage between the comparator inputs is much smaller than the 1 . 5 volt threshold and differential amplifier 62 generates the low logic state . conversely , when the test circuit is open the resistance of the parallel arrangement is many times that of resistors 60 and 70 , to the point where the voltage difference between the comparator inputs exceeds the threshold voltage and causes amplifier 62 to generate the high logic state . amplifier 62 also generates the high logic state when the resistance of the circuit being tested is higher than an acceptable maximum corresponding to the predetermined voltage threshold . in particular , given the threshold of 1 . 5 volts in combination with input and output resistors of 100 ohms , and further assuming that the resistance of amplifier 62 is such that the resistance of the above - discussed parallel combination is essentially equal to the resistance of the test circuit , then a resistance in the test circuit of about 70 ohms or greater will cause amplifier 62 to fire . in practice , the actual threshold voltage may vary , for example between 1 . 2 volts and 1 . 8 volts . such deviation , however , does not interfere with the identification of open circuits in any material respect , since the nominal resistance of the circuits is substantially lower than that required to trigger amplifier 62 , while the resistance of an open circuit is of course substantially higher . the output of all sensing circuits 54 is thus a digital word indicating the conditions of the test circuits . amplifier 62 can be provided with a hysteresis ( positive feedback ) loop with a resistance if desired . this would result in cleaner switching output signals , but also would reduce sensitivity . on occasion , it is desirable in the course of testing to configure sensing circuit 54 to provide a logic state indicating normal operation , in spite of the fact that the circuit under test is open or of a high resistance . this option is provided as nand gate 74 receiving the output of differential amplifier 62 , and with another input connected to high voltage terminal 56 through a resistor 76 of a high resistance , e . g . 10 , 000 ohms . a shunt 78 connects resistor 76 to ground through a switch 80 which normally is open . with switch 80 open , a high input is provided to nand gate 74 . a high input to the nand gate from amplifier 62 as well will generate a logic low output from nand gate 74 , indicating an error condition such as an open circuit . of course , for a closed or short circuit the output of differential amplifier 62 is low and the output of nand gate 74 is high , indicating the normal operating condition . if switch 80 is closed , a low logic state is provided as an input to nand gate 74 , resulting in a high or normal condition output regardless of the input received from the differential amplifier . in short , once an error condition is identified for a particular test circuit , switch 80 can be closed to override the error output . in the multiple circuit arrangement , switches 80 are provided in dip form , each package having a row of switches . normally , the sensitivity of sensing circuit 54 to variations in test circuit resistance can be altered by changing the resistances of input and output resistors 60 and 70 , for example increasing sensitivity to generate the error logic state at a lower resistance value by substituting input and output resistors with lower resistance values . an alternative approach is shown in fig4 namely the addition of a resistor 82 between the output of the test circuit and common node 68 . this has the effect of providing a voltage to the inversion input of differential amplifier 62 somewhat lower than the voltage at the output of the associated test circuit , having the practical effect of reducing the voltage threshold between the differential amplifier inputs . as for decreasing the sensitivity of circuit 54 , one approach of course would be to repace resistors 60 and 70 with resistors of a lower resistance value . the voltage at terminal 56 can be changed , or an amplifier with a different threshold can be employed . fig5 and 6 disclose alternative embodiments of the sensing and triggering circuitry on continuity sensing boards such as board 26 . in fig5 the continuity testing board circuitry includes 124 sensing circuits 54 and 124 data channels or signal paths 86 , each connected to an associated one of the sensing circuits for providing the sensing circuit output to a logic analyzer . the sensing circuits are divided into four substantially identical sets of 31 sensing circuits each , one such set being shown . in addition to its data channel , each of the sensing circuits includes a triggering channel 88 . the triggering channels provide the sensing circuit outputs to a series of nand gates 90 , 92 , 94 and 96 , each accepting up to eight triggering channels . when the logic state of all triggering channels to any one of the nand gates is high , which corresponds to the associated test circuits being closed or the associated switches 80 being closed , then the output of the nand will be the low voltage level logic state . should any one of its inputs be low , the output of nand gate 90 ( for example ) is the high logic state . the output of nand gates 90 - 96 is provided to a nor gate 98 , the output of which is provided to a common triggering channel 100 for the first 31 sensing circuits . if all of the inputs to nor gate 98 are the low logic state , the nor gate output is high . conversely , if an error condition is sensed in any of the first 31 test circuits , the corresponding one of nand gates 92 - 96 provides a high level logic state input to the nor gate which in turn generates the low logic state as its output . thus there are four common triggering channels 100 , any one of which sends a triggering signal to the logic analyzer by shifting from the high to the low voltage logic state . fig6 shows alternative continuity sensing board circuitry accommodating 152 separate sensing circuits 54 . again , each sensing circuit 54 has its own associated data channel 102 for providing the sensing circuit output to the logic analyzer . in this case , however , the sensing circuits are segmented into nineteen substantially identical groups of eight for triggering purposes , the first and last of which are shown , such that there are 19 separate common triggering channels 104 . individual triggering channels 106 of eight sensing circuits are provided as inputs to a nand gate 108 , with the output of the nand gate provided directly to the common triggering channel . consequently , if all sensing circuit outputs are the high logic state corresponding to closed circuits or switches 80 , the output of each nand gate 108 is the low logic state . the nand gate of course generates the high voltage logic state should any of its inputs be low , and thus the triggering signal for each of the 19 triggering channels 104 is a shift from the lower logic level to the high logic level . fig7 shows a practical working embodiment in which three test assemblies or specimens , including a 4 inch by 6 inch printed circuit board 110 and two 6 inch by 9 inch printed circuit boards 112 and 114 along with semiconductor packages mounted on each , are tested simultaneously . while this system operates using ttl logic , it should be noted that ecl or cmos logic could be employed as a substitute . pcb 112 is a &# 34 ; single - sided &# 34 ; printed circuit board assembly , while test board 114 is double - sided , having twice the number of test circuits . the printed circuit board assemblies are mounted to respective fixtures 116 , 118 and 120 , with the assemblies and fixtures housed within a test chamber 122 and supported on a vibrational table 124 . a twisted pair cable 126 connects the respective input and output terminals of the test circuits with their associated comparator inputs for each of the sensing circuits of continuity sensing board 128 configured as shown in fig6 . in a similar fashion , twisted pair cables 130 and 132 connect test assemblies 112 and 114 and continuity sensing boards 134 and 136 , which are configured as shown in fig5 . the output of each continuity sensing board , including the data channels and common triggering channels , is provided to a logic analyzer , in particular logic analyzers 138 , 140 and 142 associated with continuity sensing boards 128 , 134 and 136 , respectively . in the arrangement shown , the logic analyzers are model 2100u interactive state analyzers available from northwest instrument systems , inc . of beaverton , oreg . each of the analyzers can receive up to 80 parallel channels of synchronous data , with each channel having a memory of up to 4 , 096 bits . logic analyzers 138 and 140 are connected , and thus together handle the collective input provided by continuity sensing boards 128 and 134 . logic analyzer 142 is associated only with continuity sensing board 136 . ribbon cables 144 and 146 connect a computer 148 to logic analyzers 138 and 140 , while a ribbon cable 150 joins logic analyzer 142 and a computer 152 . computers 148 and 152 in this arrangement can be ibm at personal computers or compatible computers . each of computers 148 and 152 contains the software necessary for operating its associated logic analyzer or analyzers . the software enables each of logic analyzers 138 - 142 to store data only after receiving a storage command or triggering signal from its associated one of the continuity sensing boards . an indicator panel 154 is connected to logic analyzers 138 - 142 respectively through lines 156 , 158 and 160 . indicator panel 154 includes three light emitting diodes ( led &# 39 ; s ) 162 , 164 and 166 triggered responsive to the sensing of error condition logic analyzers 138 , 140 and 142 respectively . a button for resetting the indicator led &# 39 ; s is provided at 167 . a power supply 168 is connected to each of continuity sensing boards 128 , 134 and 136 , and biases the high voltage terminals 56 of the sensing circuits to a positive five volts or other predetermined high voltage level . a grounding terminal of the power supply also is connected to the sensing boards , in particular to the low voltage terminals 72 of the sensing circuits . pulse generators at 170 , 172 and 174 are incorporated into the circuitry of each of the sensing boards to control the rate at which the data channel and common triggering channel outputs are provided to the associated logic analyzers . a sampling frequency of 10 , 000 , 000 pulses per second ( i . e . a 100 nanosecond interval between pulses ) has been found desirable . in the course of using the testing system , the operator first loads each printed circuit board assembly into its appropriate fixture , encloses the loaded fixtures within chamber 122 , and selects the appropriate mode of testing , whether temperature cycling , vibration , or both . the operator then activates the power supply and other components through computers 148 and 152 . at 100 nanosecond intervals , as controlled by pulse generators 170 - 174 , the logic state at each of the sensing circuit outputs and each of the common triggering circuits , is provided to logic analyzers 138 - 142 . however , as long as no open or abnormally highly resistive circuits are indicated , the logic analyzers do not store the data . as soon as any of the circuits is identified as open or highly resistive , the appropriate triggering circuit delivers a changed logic level to its associated logic analyzer , and this change in logic state comprises a storage command or triggering signal , whereupon the logic analyzer begins storing data received in all of its channels . the appropriate one of led &# 39 ; s 162 - 166 is activated to indicate an error condition has been found , and the associated one of computers 148 and 152 displays on its video terminal the error condition . the data stored in the associated logic analyzer can be displayed by the operator if desired . when the memory channels of the logic analyzer are full , no further data can be stored on the logic analyzer . at this point , the operator has the option of utilizing backup storage , for example a disc drive associated with the corresponding computer , and to either continue the test without further adjustment or close the switch 80 associated with the identified circuit and continue testing . override switches 80 thus provide the option of proceeding with the test to locate other open or highly resistant circuits , without a continual loading and unloading of the associated logic analyzer due solely to the particular circuit first indicating an error . of course , if it is desired that the logic analyzer capacity represent a longer period of time , the sampling frequency can be reduced , for example to an interval of one microsecond between pulses . this is accomplished by changing the pulse rate of pulse generators . thus , the test apparatus is capable of identifying not only permanently open circuits , but circuits exhibiting intermittent open behavior under adverse temperature cycling or vibration . the record of the intermittent failure facilitates an analysis of why it occurred , since the permanent record of the failure , on a printout or the like , can be identified with a particular time during the temperature or vibration test cycle . given the simultaneous testing of all channels and the short interval between test pulses , intermittent behavior on the order of a few hundred nanoseconds can be detected . further , the simple and direct connection of the test circuit input and output in parallel with a differential amplifier , and the use of the differential amplifier output to generate one of two logic states as opposed to an analog response , provides a simple , rapid and reliable means for detecting open or highly resistive circuits .'}"
            ]
          },
          "metadata": {},
          "execution_count": 68
        }
      ],
      "source": [
        "# Let's peek at one of the examples (always look at your data!)\n",
        "dataset['train'][0]"
      ]
    },
    {
      "cell_type": "code",
      "execution_count": 69,
      "metadata": {
        "id": "6nT9G3ESoZKY",
        "colab": {
          "base_uri": "https://localhost:8080/",
          "height": 862,
          "referenced_widgets": [
            "5e1f0a079c1b493d892adcc5e244d220",
            "2553bde53c6d4f879781d6e7fc715305",
            "81612cabc90b4c3d9f65ddeb2b7179df",
            "d7ea833e250c41d683b7fd496d3bd577",
            "14e1c2434e224bf98e1381b92c953c7d",
            "5026cce2b7b74d40bad67f5561835ed7",
            "5e12c0f91e9e4d53bb82dd4d22324c36",
            "ad711667cff94b2da4dc94833d94826c",
            "9f9d2b946c974bce9fa73c98067afb05",
            "c31d9b1b463543ef9f517dd1dc9d8eaa",
            "916b12b9598d451a9dde84995a889031",
            "78601aca97ef436495fcabd2392e7595",
            "a0fb63fea1a446da9b9af960901bd425",
            "a1d6172fe8c849b79a6f77d31d37422f",
            "b535e77f4c464c2cafb6e1811f434e4e",
            "102d3b433008439a97aa49b2bfaae287",
            "5c87ed03132744e18bfd84768e25bffe",
            "9d8b31c190e5419e89d5d936140697de",
            "16db2dd2e9044b539b3de4032c09aebb",
            "bcce8700d8394ce980178fe91b2ee8d0",
            "412111fd225f4295b181a279f03a0b8c",
            "15289d04aeb14814b4c09fba8237ef46",
            "8f63269470d745fcab01349f5a57d2c8",
            "137a560f1e2b4d1492ec4413b602f84c",
            "05e6d24f5f884755a7296da2e5121a46",
            "0a141260d7914ef0bc1451d72337250f",
            "9c3a0f1642a4430683b73b4a6b21a599",
            "6f3ff8320e56468387bda23af54062c8",
            "c410913562a94a76ad1cac5860cd3547",
            "3db37d5f4d234b9b81d50ff9da3b3e3a",
            "c162db4042c3489a8d314c98e8bf340e",
            "f8ab2aaf1d2d4498bb9477cdd8d1ea00",
            "9ef676d7b74c444dbc84f2d4bd608c9b"
          ]
        },
        "outputId": "334f2d0d-5c11-4c9e-d2e1-0c332127170a"
      },
      "outputs": [
        {
          "output_type": "stream",
          "name": "stderr",
          "text": [
            "https://huggingface.co/roberta-base/resolve/main/vocab.json not found in cache or force_download set to True, downloading to /root/.cache/huggingface/transformers/tmpvyv7rzxg\n"
          ]
        },
        {
          "output_type": "display_data",
          "data": {
            "application/vnd.jupyter.widget-view+json": {
              "model_id": "5e1f0a079c1b493d892adcc5e244d220",
              "version_minor": 0,
              "version_major": 2
            },
            "text/plain": [
              "Downloading:   0%|          | 0.00/878k [00:00<?, ?B/s]"
            ]
          },
          "metadata": {}
        },
        {
          "output_type": "stream",
          "name": "stderr",
          "text": [
            "storing https://huggingface.co/roberta-base/resolve/main/vocab.json in cache at /root/.cache/huggingface/transformers/d3ccdbfeb9aaa747ef20432d4976c32ee3fa69663b379deb253ccfce2bb1fdc5.d67d6b367eb24ab43b08ad55e014cf254076934f71d832bbab9ad35644a375ab\n",
            "creating metadata file for /root/.cache/huggingface/transformers/d3ccdbfeb9aaa747ef20432d4976c32ee3fa69663b379deb253ccfce2bb1fdc5.d67d6b367eb24ab43b08ad55e014cf254076934f71d832bbab9ad35644a375ab\n",
            "https://huggingface.co/roberta-base/resolve/main/merges.txt not found in cache or force_download set to True, downloading to /root/.cache/huggingface/transformers/tmpw4nmxt72\n"
          ]
        },
        {
          "output_type": "display_data",
          "data": {
            "application/vnd.jupyter.widget-view+json": {
              "model_id": "78601aca97ef436495fcabd2392e7595",
              "version_minor": 0,
              "version_major": 2
            },
            "text/plain": [
              "Downloading:   0%|          | 0.00/446k [00:00<?, ?B/s]"
            ]
          },
          "metadata": {}
        },
        {
          "output_type": "stream",
          "name": "stderr",
          "text": [
            "storing https://huggingface.co/roberta-base/resolve/main/merges.txt in cache at /root/.cache/huggingface/transformers/cafdecc90fcab17011e12ac813dd574b4b3fea39da6dd817813efa010262ff3f.5d12962c5ee615a4c803841266e9c3be9a691a924f72d395d3a6c6c81157788b\n",
            "creating metadata file for /root/.cache/huggingface/transformers/cafdecc90fcab17011e12ac813dd574b4b3fea39da6dd817813efa010262ff3f.5d12962c5ee615a4c803841266e9c3be9a691a924f72d395d3a6c6c81157788b\n",
            "loading file https://huggingface.co/roberta-base/resolve/main/vocab.json from cache at /root/.cache/huggingface/transformers/d3ccdbfeb9aaa747ef20432d4976c32ee3fa69663b379deb253ccfce2bb1fdc5.d67d6b367eb24ab43b08ad55e014cf254076934f71d832bbab9ad35644a375ab\n",
            "loading file https://huggingface.co/roberta-base/resolve/main/merges.txt from cache at /root/.cache/huggingface/transformers/cafdecc90fcab17011e12ac813dd574b4b3fea39da6dd817813efa010262ff3f.5d12962c5ee615a4c803841266e9c3be9a691a924f72d395d3a6c6c81157788b\n",
            "loading file https://huggingface.co/roberta-base/resolve/main/added_tokens.json from cache at None\n",
            "loading file https://huggingface.co/roberta-base/resolve/main/special_tokens_map.json from cache at None\n",
            "loading file https://huggingface.co/roberta-base/resolve/main/tokenizer_config.json from cache at None\n",
            "https://huggingface.co/roberta-base/resolve/main/config.json not found in cache or force_download set to True, downloading to /root/.cache/huggingface/transformers/tmp2pxkwqp9\n"
          ]
        },
        {
          "output_type": "display_data",
          "data": {
            "application/vnd.jupyter.widget-view+json": {
              "model_id": "8f63269470d745fcab01349f5a57d2c8",
              "version_minor": 0,
              "version_major": 2
            },
            "text/plain": [
              "Downloading:   0%|          | 0.00/481 [00:00<?, ?B/s]"
            ]
          },
          "metadata": {}
        },
        {
          "output_type": "stream",
          "name": "stderr",
          "text": [
            "storing https://huggingface.co/roberta-base/resolve/main/config.json in cache at /root/.cache/huggingface/transformers/733bade19e5f0ce98e6531021dd5180994bb2f7b8bd7e80c7968805834ba351e.35205c6cfc956461d8515139f0f8dd5d207a2f336c0c3a83b4bc8dca3518e37b\n",
            "creating metadata file for /root/.cache/huggingface/transformers/733bade19e5f0ce98e6531021dd5180994bb2f7b8bd7e80c7968805834ba351e.35205c6cfc956461d8515139f0f8dd5d207a2f336c0c3a83b4bc8dca3518e37b\n",
            "loading configuration file https://huggingface.co/roberta-base/resolve/main/config.json from cache at /root/.cache/huggingface/transformers/733bade19e5f0ce98e6531021dd5180994bb2f7b8bd7e80c7968805834ba351e.35205c6cfc956461d8515139f0f8dd5d207a2f336c0c3a83b4bc8dca3518e37b\n",
            "Model config RobertaConfig {\n",
            "  \"_name_or_path\": \"roberta-base\",\n",
            "  \"architectures\": [\n",
            "    \"RobertaForMaskedLM\"\n",
            "  ],\n",
            "  \"attention_probs_dropout_prob\": 0.1,\n",
            "  \"bos_token_id\": 0,\n",
            "  \"classifier_dropout\": null,\n",
            "  \"eos_token_id\": 2,\n",
            "  \"hidden_act\": \"gelu\",\n",
            "  \"hidden_dropout_prob\": 0.1,\n",
            "  \"hidden_size\": 768,\n",
            "  \"initializer_range\": 0.02,\n",
            "  \"intermediate_size\": 3072,\n",
            "  \"layer_norm_eps\": 1e-05,\n",
            "  \"max_position_embeddings\": 514,\n",
            "  \"model_type\": \"roberta\",\n",
            "  \"num_attention_heads\": 12,\n",
            "  \"num_hidden_layers\": 12,\n",
            "  \"pad_token_id\": 1,\n",
            "  \"position_embedding_type\": \"absolute\",\n",
            "  \"transformers_version\": \"4.17.0\",\n",
            "  \"type_vocab_size\": 1,\n",
            "  \"use_cache\": true,\n",
            "  \"vocab_size\": 50265\n",
            "}\n",
            "\n"
          ]
        }
      ],
      "source": [
        "tokenizer = RobertaTokenizer.from_pretrained('roberta-base')"
      ]
    },
    {
      "cell_type": "markdown",
      "metadata": {
        "id": "Xn7J5kHpuQRe"
      },
      "source": [
        "We use RoBERTa's tokenizer, to tokenize our dataset's text.\n",
        "\n",
        "Remember - we can't use the text as it is, we must tokenize and process it first into units that the model expects.\n",
        "\n",
        "For pre-processing the data there are two options. We can either: \n",
        "* create an encoded copy of the dataset, or\n",
        "* create a transformation function that encode it with the tokenizer, on the fly: https://huggingface.co/docs/datasets/process.html?highlight=map#format-transform"
      ]
    },
    {
      "cell_type": "code",
      "execution_count": null,
      "metadata": {
        "colab": {
          "base_uri": "https://localhost:8080/",
          "height": 49,
          "referenced_widgets": [
            "ab40207c6d184d519ae36d2a11904a6e",
            "9e075b03905246719590c98c4e33b37a",
            "25140343c8a5448a9739b4b9e0a4a9b4",
            "1c5f8def99894d48bf4d427322ea9b64",
            "e4e37c17439b4349b4ae19a7e4f58876",
            "6660e30265644b9c86817d59696902d8",
            "3eb7f8206e3146b4b080f36c7a6b286c",
            "2506502bdd194fd09c996a800aa9e35f",
            "d37e0b786fe6432284636cb98d502e12",
            "9e4c1d27a14c4007a252a92723592b1b",
            "f6ac1615b23f473ab792b4c0a25cee7e"
          ]
        },
        "id": "Pu-ryL5mo_5W",
        "outputId": "f230e19a-9c41-4ac9-e22e-f30b890d40c0"
      },
      "outputs": [
        {
          "output_type": "display_data",
          "data": {
            "application/vnd.jupyter.widget-view+json": {
              "model_id": "ab40207c6d184d519ae36d2a11904a6e",
              "version_minor": 0,
              "version_major": 2
            },
            "text/plain": [
              "  0%|          | 0/25 [00:00<?, ?ba/s]"
            ]
          },
          "metadata": {}
        }
      ],
      "source": [
        "def preprocess_function(examples):\n",
        "    return tokenizer(examples[\"text\"], truncation=True)\n",
        "\n",
        "\n",
        "## Warning: Processing large amounts of data is a heavy task and may take\n",
        "# relatively long to finish.\n",
        "encoded_dataset = dataset.map(preprocess_function, batched=True)"
      ]
    },
    {
      "cell_type": "markdown",
      "metadata": {
        "id": "rIOvRxjozTN3"
      },
      "source": [
        "We instantiate a RoBERTa model for classification of sentences or sequences of words in general. It was already pre-trained on wikipedia and other text resources. "
      ]
    },
    {
      "cell_type": "code",
      "execution_count": null,
      "metadata": {
        "id": "ejqOegluvlxZ"
      },
      "outputs": [],
      "source": [
        "model = RobertaForSequenceClassification.from_pretrained('roberta-base', num_labels=dataset['train'].features['label'].num_classes)"
      ]
    },
    {
      "cell_type": "markdown",
      "metadata": {
        "id": "AB7N44FSzZN0"
      },
      "source": [
        "Then we *fine-tune* our RoBERTa model on our dataset.\n",
        "\n",
        "Fine-tuning is an additional training that keeps most of the model weights intact, but does make some updates to the weights to match it to the task in hand."
      ]
    },
    {
      "cell_type": "code",
      "execution_count": null,
      "metadata": {
        "id": "7I34nOUG5-0d"
      },
      "outputs": [],
      "source": [
        "metric = load_metric(\"accuracy\")\n",
        "\n",
        "def compute_metrics(eval_pred):\n",
        "    logits, labels = eval_pred\n",
        "    predictions = np.argmax(logits, axis=-1)\n",
        "    return metric.compute(predictions=predictions, references=labels)"
      ]
    },
    {
      "cell_type": "code",
      "execution_count": null,
      "metadata": {
        "id": "jUZdoNMPqM3L"
      },
      "outputs": [],
      "source": [
        "data_collator = DataCollatorWithPadding(tokenizer=tokenizer)\n",
        "\n",
        "training_args = TrainingArguments(\n",
        "    output_dir='./results',\n",
        "    learning_rate=2e-5,\n",
        "    per_device_train_batch_size=4,\n",
        "    per_device_eval_batch_size=4,\n",
        "    num_train_epochs=5,\n",
        "    weight_decay=0.01,\n",
        "    evaluation_strategy=\"epoch\",\n",
        ")\n",
        "\n",
        "trainer = Trainer(\n",
        "    model=model,\n",
        "    args=training_args,\n",
        "    train_dataset=encoded_dataset[\"train\"],\n",
        "    eval_dataset=encoded_dataset[\"validation\"],\n",
        "    tokenizer=tokenizer,\n",
        "    data_collator=data_collator,\n",
        "    compute_metrics=compute_metrics\n",
        ")\n",
        "\n",
        "trainer.train()\n"
      ]
    },
    {
      "cell_type": "markdown",
      "source": [
        "And we call the `evaluate()` method, which uses the dataset's **Test** part."
      ],
      "metadata": {
        "id": "kqy-38KfONim"
      }
    },
    {
      "cell_type": "code",
      "execution_count": null,
      "metadata": {
        "id": "CWtfjEjByRPn"
      },
      "outputs": [],
      "source": [
        "trainer.evaluate()"
      ]
    },
    {
      "cell_type": "markdown",
      "metadata": {
        "id": "DESvUExz7sxP"
      },
      "source": [
        "For more information, please check these notebooks in HuggingFace:\n",
        "* Fine-tuning a pretrained model: https://github.com/huggingface/notebooks/blob/master/transformers_doc/training.ipynb\n",
        "* Fine-tuning a model on a text classification task: https://github.com/huggingface/notebooks/blob/master/examples/text_classification.ipynb\n",
        "\n",
        "And more good resources can be found here: https://huggingface.co/docs/transformers/notebooks"
      ]
    },
    {
      "cell_type": "markdown",
      "metadata": {
        "id": "P-P0eaMIR1wf"
      },
      "source": [
        "## Try it yourself\n",
        "\n",
        "This part is optional - but recommended. It will give you the experience in the real world usage of BERT based classification models.\n",
        "\n",
        "Try training a classifier yourself, using RoBERTa or any of the other models that huggingface offers.\n",
        "\n",
        "HuggingFace have a [special guide](https://huggingface.co/docs/transformers/training) to fine tune a pre-trained classifier. \n",
        "\n",
        "The basic code for classification of a sequence (e.g. a sentence) is using their `SequenceClassification`:\n",
        "\n",
        "```\n",
        "from transformers import AutoModelForSequenceClassification\n",
        "\n",
        "model = AutoModelForSequenceClassification.from_pretrained(\"bert-base-cased\", num_labels=2)\n",
        "```\n",
        "\n",
        "\n",
        "\n",
        "Here are several ideas you can choose from: "
      ]
    },
    {
      "cell_type": "markdown",
      "metadata": {
        "id": "gJki2HK_S8F1"
      },
      "source": [
        "## Sentence Acceptability\n",
        "\n",
        "1. classify an acceptability of a sentence, https://arxiv.org/abs/1805.12471\n",
        "\n",
        "For example:\n",
        "* Good - What did Betsy paint a picture of?\n",
        "* Bad - What was a picture of painted by Betsy?\n",
        "\n",
        "The dataset can be downloaded from:\n",
        "https://nyu-mll.github.io/CoLA/\n",
        "\n",
        "And the corresponding kaggle competition:\n",
        "\n",
        "https://www.kaggle.com/c/cola-out-of-domain-open-evaluation"
      ]
    },
    {
      "cell_type": "code",
      "source": [
        ""
      ],
      "metadata": {
        "id": "hJJ-isSeoMeS"
      },
      "execution_count": null,
      "outputs": []
    },
    {
      "cell_type": "markdown",
      "metadata": {
        "id": "r8m6h_OwS81I"
      },
      "source": [
        "## Toxic Comments Classification\n",
        "2. Toxic comments classification\n",
        "\n",
        "https://www.kaggle.com/c/jigsaw-toxic-comment-classification-challenge/data\n",
        "\n",
        "Classify which of the comments are toxic, by fine-tuning RoBERTa on the dataset."
      ]
    },
    {
      "cell_type": "code",
      "metadata": {
        "id": "97q07UOu4bN1"
      },
      "source": [
        ""
      ],
      "execution_count": null,
      "outputs": []
    },
    {
      "cell_type": "markdown",
      "metadata": {
        "id": "qnXLeU1JkM-L"
      },
      "source": [
        "# Sentiment Analysis Example"
      ]
    },
    {
      "cell_type": "markdown",
      "metadata": {
        "id": "ygjNhJlpigMg"
      },
      "source": [
        "We will use a great package from [hugging-face](https://huggingface.co/) called `Transformers`"
      ]
    },
    {
      "cell_type": "code",
      "metadata": {
        "id": "62UkLNRMiZsA"
      },
      "source": [
        "from transformers import pipeline"
      ],
      "execution_count": null,
      "outputs": []
    },
    {
      "cell_type": "markdown",
      "metadata": {
        "id": "jRbvLo8fjLmH"
      },
      "source": [
        "They have already trained and made ready some pipelines, using BERT for tasks such as sentiment-analysis classification:"
      ]
    },
    {
      "cell_type": "code",
      "metadata": {
        "id": "c7ttQRPYidAc"
      },
      "source": [
        "nlp = pipeline('sentiment-analysis')"
      ],
      "execution_count": null,
      "outputs": []
    },
    {
      "cell_type": "code",
      "metadata": {
        "id": "wzahe_TBinmW"
      },
      "source": [
        "nlp('we love you')"
      ],
      "execution_count": null,
      "outputs": []
    },
    {
      "cell_type": "markdown",
      "metadata": {
        "id": "NAmheOQ2jSuy"
      },
      "source": [
        "But be aware that although it may seem to be working well ..."
      ]
    },
    {
      "cell_type": "code",
      "metadata": {
        "id": "9HMh-zYYiruj"
      },
      "source": [
        "nlp('I ate pizza with olives.')"
      ],
      "execution_count": null,
      "outputs": []
    },
    {
      "cell_type": "code",
      "metadata": {
        "id": "g2pdhszXi1WL"
      },
      "source": [
        "nlp('I ate pizza with olives. it was cold')"
      ],
      "execution_count": null,
      "outputs": []
    },
    {
      "cell_type": "code",
      "metadata": {
        "id": "--0Rd4xHiwJD"
      },
      "source": [
        "nlp('I ate pizza with olives, but the pizza was cold')"
      ],
      "execution_count": null,
      "outputs": []
    },
    {
      "cell_type": "markdown",
      "metadata": {
        "id": "7ax1OfnwjcPG"
      },
      "source": [
        "... it might not always match your expectations:"
      ]
    },
    {
      "cell_type": "code",
      "metadata": {
        "id": "y4DQXTEwi9qy"
      },
      "source": [
        "nlp('It was cold outside. I ate pizza with olives.')"
      ],
      "execution_count": null,
      "outputs": []
    },
    {
      "cell_type": "code",
      "metadata": {
        "id": "ZGG52cnvjirD"
      },
      "source": [
        "nlp('I am dying to see you')"
      ],
      "execution_count": null,
      "outputs": []
    },
    {
      "cell_type": "markdown",
      "source": [
        "Let's test the pipeline of filling-in masked values (cloze style), which is one of the ways the model was actually trained with:"
      ],
      "metadata": {
        "id": "BgQEggZG4FuJ"
      }
    },
    {
      "cell_type": "code",
      "metadata": {
        "id": "BMODFExrBm2l"
      },
      "source": [
        "nlp = pipeline(\"fill-mask\")"
      ],
      "execution_count": null,
      "outputs": []
    },
    {
      "cell_type": "code",
      "metadata": {
        "id": "17rfzNR6CYTg"
      },
      "source": [
        "pprint(nlp(f\"There's no place like {nlp.tokenizer.mask_token}.\"))"
      ],
      "execution_count": null,
      "outputs": []
    },
    {
      "cell_type": "markdown",
      "source": [
        "However, don't expect the model to be able to answer questions. It captured only the information it was trained on:"
      ],
      "metadata": {
        "id": "12mh4XwY1mCe"
      }
    },
    {
      "cell_type": "code",
      "metadata": {
        "id": "XTG9Z_QfCNSE"
      },
      "source": [
        "pprint(nlp(f\"{nlp.tokenizer.mask_token} is the president of the united states.\"))"
      ],
      "execution_count": null,
      "outputs": []
    },
    {
      "cell_type": "markdown",
      "source": [
        "# SentenceTransformers\n",
        "\n",
        "Another important package that is worth knowing is the [SentenceTransformers](https://www.sbert.net/).\n",
        "\n",
        "This package makes the embedding of a sentence easier, and allows also searching in the corpus for the most similar sentences. It is often used in real world applications, and recommended in general."
      ],
      "metadata": {
        "id": "LMMfrX9cXRrY"
      }
    },
    {
      "cell_type": "code",
      "source": [
        ""
      ],
      "metadata": {
        "id": "01u5UaQvXwow"
      },
      "execution_count": null,
      "outputs": []
    }
  ]
}